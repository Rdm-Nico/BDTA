{
 "nbformat": 4,
 "nbformat_minor": 0,
 "metadata": {
  "kernelspec": {
   "display_name": "Python 3",
   "language": "python",
   "name": "python3"
  },
  "language_info": {
   "codemirror_mode": {
    "name": "ipython",
    "version": 3
   },
   "file_extension": ".py",
   "mimetype": "text/x-python",
   "name": "python",
   "nbconvert_exporter": "python",
   "pygments_lexer": "ipython3",
   "version": "3.6.8"
  },
  "colab": {
   "provenance": []
  }
 },
 "cells": [
  {
   "cell_type": "code",
   "metadata": {
    "id": "4rwJS-nk1qP6",
    "ExecuteTime": {
     "start_time": "2023-05-15T14:59:41.474930Z",
     "end_time": "2023-05-15T14:59:41.477806Z"
    }
   },
   "source": [
    "import pandas as pd\n",
    "import numpy as np\n",
    "from sklearn.model_selection import train_test_split\n",
    "from sklearn.preprocessing import StandardScaler\n",
    "from sklearn.ensemble import RandomForestClassifier\n",
    "from sklearn.model_selection import cross_val_score\n",
    "from sklearn.model_selection import GridSearchCV"
   ],
   "execution_count": 14,
   "outputs": []
  },
  {
   "cell_type": "markdown",
   "metadata": {
    "collapsed": true,
    "id": "PwLjEIfz0T6y"
   },
   "source": [
    "# 1. Load the dataset wineQualityReds (consider the first column as the index)"
   ]
  },
  {
   "cell_type": "code",
   "metadata": {
    "id": "0BFtQaPN0T60",
    "ExecuteTime": {
     "start_time": "2023-05-15T14:59:45.943758Z",
     "end_time": "2023-05-15T14:59:45.967565Z"
    }
   },
   "source": [
    "# read_csv\n",
    "data = pd.read_csv(\"data/wineQualityReds.csv\", index_col=0)\n",
    "data"
   ],
   "execution_count": 15,
   "outputs": [
    {
     "data": {
      "text/plain": "      fixed.acidity  volatile.acidity  citric.acid  residual.sugar  chlorides  \\\n1               7.4             0.700         0.00             1.9      0.076   \n2               7.8             0.880         0.00             2.6      0.098   \n3               7.8             0.760         0.04             2.3      0.092   \n4              11.2             0.280         0.56             1.9      0.075   \n5               7.4             0.700         0.00             1.9      0.076   \n...             ...               ...          ...             ...        ...   \n1595            6.2             0.600         0.08             2.0      0.090   \n1596            5.9             0.550         0.10             2.2      0.062   \n1597            6.3             0.510         0.13             2.3      0.076   \n1598            5.9             0.645         0.12             2.0      0.075   \n1599            6.0             0.310         0.47             3.6      0.067   \n\n      free.sulfur.dioxide  total.sulfur.dioxide  density    pH  sulphates  \\\n1                    11.0                  34.0  0.99780  3.51       0.56   \n2                    25.0                  67.0  0.99680  3.20       0.68   \n3                    15.0                  54.0  0.99700  3.26       0.65   \n4                    17.0                  60.0  0.99800  3.16       0.58   \n5                    11.0                  34.0  0.99780  3.51       0.56   \n...                   ...                   ...      ...   ...        ...   \n1595                 32.0                  44.0  0.99490  3.45       0.58   \n1596                 39.0                  51.0  0.99512  3.52       0.76   \n1597                 29.0                  40.0  0.99574  3.42       0.75   \n1598                 32.0                  44.0  0.99547  3.57       0.71   \n1599                 18.0                  42.0  0.99549  3.39       0.66   \n\n      alcohol  quality  \n1         9.4        5  \n2         9.8        5  \n3         9.8        5  \n4         9.8        6  \n5         9.4        5  \n...       ...      ...  \n1595     10.5        5  \n1596     11.2        6  \n1597     11.0        6  \n1598     10.2        5  \n1599     11.0        6  \n\n[1599 rows x 12 columns]",
      "text/html": "<div>\n<style scoped>\n    .dataframe tbody tr th:only-of-type {\n        vertical-align: middle;\n    }\n\n    .dataframe tbody tr th {\n        vertical-align: top;\n    }\n\n    .dataframe thead th {\n        text-align: right;\n    }\n</style>\n<table border=\"1\" class=\"dataframe\">\n  <thead>\n    <tr style=\"text-align: right;\">\n      <th></th>\n      <th>fixed.acidity</th>\n      <th>volatile.acidity</th>\n      <th>citric.acid</th>\n      <th>residual.sugar</th>\n      <th>chlorides</th>\n      <th>free.sulfur.dioxide</th>\n      <th>total.sulfur.dioxide</th>\n      <th>density</th>\n      <th>pH</th>\n      <th>sulphates</th>\n      <th>alcohol</th>\n      <th>quality</th>\n    </tr>\n  </thead>\n  <tbody>\n    <tr>\n      <th>1</th>\n      <td>7.4</td>\n      <td>0.700</td>\n      <td>0.00</td>\n      <td>1.9</td>\n      <td>0.076</td>\n      <td>11.0</td>\n      <td>34.0</td>\n      <td>0.99780</td>\n      <td>3.51</td>\n      <td>0.56</td>\n      <td>9.4</td>\n      <td>5</td>\n    </tr>\n    <tr>\n      <th>2</th>\n      <td>7.8</td>\n      <td>0.880</td>\n      <td>0.00</td>\n      <td>2.6</td>\n      <td>0.098</td>\n      <td>25.0</td>\n      <td>67.0</td>\n      <td>0.99680</td>\n      <td>3.20</td>\n      <td>0.68</td>\n      <td>9.8</td>\n      <td>5</td>\n    </tr>\n    <tr>\n      <th>3</th>\n      <td>7.8</td>\n      <td>0.760</td>\n      <td>0.04</td>\n      <td>2.3</td>\n      <td>0.092</td>\n      <td>15.0</td>\n      <td>54.0</td>\n      <td>0.99700</td>\n      <td>3.26</td>\n      <td>0.65</td>\n      <td>9.8</td>\n      <td>5</td>\n    </tr>\n    <tr>\n      <th>4</th>\n      <td>11.2</td>\n      <td>0.280</td>\n      <td>0.56</td>\n      <td>1.9</td>\n      <td>0.075</td>\n      <td>17.0</td>\n      <td>60.0</td>\n      <td>0.99800</td>\n      <td>3.16</td>\n      <td>0.58</td>\n      <td>9.8</td>\n      <td>6</td>\n    </tr>\n    <tr>\n      <th>5</th>\n      <td>7.4</td>\n      <td>0.700</td>\n      <td>0.00</td>\n      <td>1.9</td>\n      <td>0.076</td>\n      <td>11.0</td>\n      <td>34.0</td>\n      <td>0.99780</td>\n      <td>3.51</td>\n      <td>0.56</td>\n      <td>9.4</td>\n      <td>5</td>\n    </tr>\n    <tr>\n      <th>...</th>\n      <td>...</td>\n      <td>...</td>\n      <td>...</td>\n      <td>...</td>\n      <td>...</td>\n      <td>...</td>\n      <td>...</td>\n      <td>...</td>\n      <td>...</td>\n      <td>...</td>\n      <td>...</td>\n      <td>...</td>\n    </tr>\n    <tr>\n      <th>1595</th>\n      <td>6.2</td>\n      <td>0.600</td>\n      <td>0.08</td>\n      <td>2.0</td>\n      <td>0.090</td>\n      <td>32.0</td>\n      <td>44.0</td>\n      <td>0.99490</td>\n      <td>3.45</td>\n      <td>0.58</td>\n      <td>10.5</td>\n      <td>5</td>\n    </tr>\n    <tr>\n      <th>1596</th>\n      <td>5.9</td>\n      <td>0.550</td>\n      <td>0.10</td>\n      <td>2.2</td>\n      <td>0.062</td>\n      <td>39.0</td>\n      <td>51.0</td>\n      <td>0.99512</td>\n      <td>3.52</td>\n      <td>0.76</td>\n      <td>11.2</td>\n      <td>6</td>\n    </tr>\n    <tr>\n      <th>1597</th>\n      <td>6.3</td>\n      <td>0.510</td>\n      <td>0.13</td>\n      <td>2.3</td>\n      <td>0.076</td>\n      <td>29.0</td>\n      <td>40.0</td>\n      <td>0.99574</td>\n      <td>3.42</td>\n      <td>0.75</td>\n      <td>11.0</td>\n      <td>6</td>\n    </tr>\n    <tr>\n      <th>1598</th>\n      <td>5.9</td>\n      <td>0.645</td>\n      <td>0.12</td>\n      <td>2.0</td>\n      <td>0.075</td>\n      <td>32.0</td>\n      <td>44.0</td>\n      <td>0.99547</td>\n      <td>3.57</td>\n      <td>0.71</td>\n      <td>10.2</td>\n      <td>5</td>\n    </tr>\n    <tr>\n      <th>1599</th>\n      <td>6.0</td>\n      <td>0.310</td>\n      <td>0.47</td>\n      <td>3.6</td>\n      <td>0.067</td>\n      <td>18.0</td>\n      <td>42.0</td>\n      <td>0.99549</td>\n      <td>3.39</td>\n      <td>0.66</td>\n      <td>11.0</td>\n      <td>6</td>\n    </tr>\n  </tbody>\n</table>\n<p>1599 rows × 12 columns</p>\n</div>"
     },
     "execution_count": 15,
     "metadata": {},
     "output_type": "execute_result"
    }
   ]
  },
  {
   "cell_type": "markdown",
   "metadata": {
    "id": "zOz8wD8f1Z9C"
   },
   "source": [
    "# 2. Split the dataset in train and test considering that the target column is called 'quality'"
   ]
  },
  {
   "cell_type": "code",
   "execution_count": 16,
   "outputs": [
    {
     "data": {
      "text/plain": "      fixed.acidity  volatile.acidity  citric.acid  residual.sugar  chlorides  \\\n1               7.4             0.700         0.00             1.9      0.076   \n2               7.8             0.880         0.00             2.6      0.098   \n3               7.8             0.760         0.04             2.3      0.092   \n4              11.2             0.280         0.56             1.9      0.075   \n5               7.4             0.700         0.00             1.9      0.076   \n...             ...               ...          ...             ...        ...   \n1595            6.2             0.600         0.08             2.0      0.090   \n1596            5.9             0.550         0.10             2.2      0.062   \n1597            6.3             0.510         0.13             2.3      0.076   \n1598            5.9             0.645         0.12             2.0      0.075   \n1599            6.0             0.310         0.47             3.6      0.067   \n\n      free.sulfur.dioxide  total.sulfur.dioxide  density    pH  sulphates  \\\n1                    11.0                  34.0  0.99780  3.51       0.56   \n2                    25.0                  67.0  0.99680  3.20       0.68   \n3                    15.0                  54.0  0.99700  3.26       0.65   \n4                    17.0                  60.0  0.99800  3.16       0.58   \n5                    11.0                  34.0  0.99780  3.51       0.56   \n...                   ...                   ...      ...   ...        ...   \n1595                 32.0                  44.0  0.99490  3.45       0.58   \n1596                 39.0                  51.0  0.99512  3.52       0.76   \n1597                 29.0                  40.0  0.99574  3.42       0.75   \n1598                 32.0                  44.0  0.99547  3.57       0.71   \n1599                 18.0                  42.0  0.99549  3.39       0.66   \n\n      alcohol  quality  \n1         9.4        5  \n2         9.8        5  \n3         9.8        5  \n4         9.8        6  \n5         9.4        5  \n...       ...      ...  \n1595     10.5        5  \n1596     11.2        6  \n1597     11.0        6  \n1598     10.2        5  \n1599     11.0        6  \n\n[1599 rows x 12 columns]",
      "text/html": "<div>\n<style scoped>\n    .dataframe tbody tr th:only-of-type {\n        vertical-align: middle;\n    }\n\n    .dataframe tbody tr th {\n        vertical-align: top;\n    }\n\n    .dataframe thead th {\n        text-align: right;\n    }\n</style>\n<table border=\"1\" class=\"dataframe\">\n  <thead>\n    <tr style=\"text-align: right;\">\n      <th></th>\n      <th>fixed.acidity</th>\n      <th>volatile.acidity</th>\n      <th>citric.acid</th>\n      <th>residual.sugar</th>\n      <th>chlorides</th>\n      <th>free.sulfur.dioxide</th>\n      <th>total.sulfur.dioxide</th>\n      <th>density</th>\n      <th>pH</th>\n      <th>sulphates</th>\n      <th>alcohol</th>\n      <th>quality</th>\n    </tr>\n  </thead>\n  <tbody>\n    <tr>\n      <th>1</th>\n      <td>7.4</td>\n      <td>0.700</td>\n      <td>0.00</td>\n      <td>1.9</td>\n      <td>0.076</td>\n      <td>11.0</td>\n      <td>34.0</td>\n      <td>0.99780</td>\n      <td>3.51</td>\n      <td>0.56</td>\n      <td>9.4</td>\n      <td>5</td>\n    </tr>\n    <tr>\n      <th>2</th>\n      <td>7.8</td>\n      <td>0.880</td>\n      <td>0.00</td>\n      <td>2.6</td>\n      <td>0.098</td>\n      <td>25.0</td>\n      <td>67.0</td>\n      <td>0.99680</td>\n      <td>3.20</td>\n      <td>0.68</td>\n      <td>9.8</td>\n      <td>5</td>\n    </tr>\n    <tr>\n      <th>3</th>\n      <td>7.8</td>\n      <td>0.760</td>\n      <td>0.04</td>\n      <td>2.3</td>\n      <td>0.092</td>\n      <td>15.0</td>\n      <td>54.0</td>\n      <td>0.99700</td>\n      <td>3.26</td>\n      <td>0.65</td>\n      <td>9.8</td>\n      <td>5</td>\n    </tr>\n    <tr>\n      <th>4</th>\n      <td>11.2</td>\n      <td>0.280</td>\n      <td>0.56</td>\n      <td>1.9</td>\n      <td>0.075</td>\n      <td>17.0</td>\n      <td>60.0</td>\n      <td>0.99800</td>\n      <td>3.16</td>\n      <td>0.58</td>\n      <td>9.8</td>\n      <td>6</td>\n    </tr>\n    <tr>\n      <th>5</th>\n      <td>7.4</td>\n      <td>0.700</td>\n      <td>0.00</td>\n      <td>1.9</td>\n      <td>0.076</td>\n      <td>11.0</td>\n      <td>34.0</td>\n      <td>0.99780</td>\n      <td>3.51</td>\n      <td>0.56</td>\n      <td>9.4</td>\n      <td>5</td>\n    </tr>\n    <tr>\n      <th>...</th>\n      <td>...</td>\n      <td>...</td>\n      <td>...</td>\n      <td>...</td>\n      <td>...</td>\n      <td>...</td>\n      <td>...</td>\n      <td>...</td>\n      <td>...</td>\n      <td>...</td>\n      <td>...</td>\n      <td>...</td>\n    </tr>\n    <tr>\n      <th>1595</th>\n      <td>6.2</td>\n      <td>0.600</td>\n      <td>0.08</td>\n      <td>2.0</td>\n      <td>0.090</td>\n      <td>32.0</td>\n      <td>44.0</td>\n      <td>0.99490</td>\n      <td>3.45</td>\n      <td>0.58</td>\n      <td>10.5</td>\n      <td>5</td>\n    </tr>\n    <tr>\n      <th>1596</th>\n      <td>5.9</td>\n      <td>0.550</td>\n      <td>0.10</td>\n      <td>2.2</td>\n      <td>0.062</td>\n      <td>39.0</td>\n      <td>51.0</td>\n      <td>0.99512</td>\n      <td>3.52</td>\n      <td>0.76</td>\n      <td>11.2</td>\n      <td>6</td>\n    </tr>\n    <tr>\n      <th>1597</th>\n      <td>6.3</td>\n      <td>0.510</td>\n      <td>0.13</td>\n      <td>2.3</td>\n      <td>0.076</td>\n      <td>29.0</td>\n      <td>40.0</td>\n      <td>0.99574</td>\n      <td>3.42</td>\n      <td>0.75</td>\n      <td>11.0</td>\n      <td>6</td>\n    </tr>\n    <tr>\n      <th>1598</th>\n      <td>5.9</td>\n      <td>0.645</td>\n      <td>0.12</td>\n      <td>2.0</td>\n      <td>0.075</td>\n      <td>32.0</td>\n      <td>44.0</td>\n      <td>0.99547</td>\n      <td>3.57</td>\n      <td>0.71</td>\n      <td>10.2</td>\n      <td>5</td>\n    </tr>\n    <tr>\n      <th>1599</th>\n      <td>6.0</td>\n      <td>0.310</td>\n      <td>0.47</td>\n      <td>3.6</td>\n      <td>0.067</td>\n      <td>18.0</td>\n      <td>42.0</td>\n      <td>0.99549</td>\n      <td>3.39</td>\n      <td>0.66</td>\n      <td>11.0</td>\n      <td>6</td>\n    </tr>\n  </tbody>\n</table>\n<p>1599 rows × 12 columns</p>\n</div>"
     },
     "execution_count": 16,
     "metadata": {},
     "output_type": "execute_result"
    }
   ],
   "source": [
    "data"
   ],
   "metadata": {
    "collapsed": false,
    "ExecuteTime": {
     "start_time": "2023-05-15T14:59:48.114556Z",
     "end_time": "2023-05-15T14:59:48.117842Z"
    }
   }
  },
  {
   "cell_type": "code",
   "execution_count": 17,
   "outputs": [],
   "source": [
    "df = data.copy()\n",
    "del df['quality']"
   ],
   "metadata": {
    "collapsed": false,
    "ExecuteTime": {
     "start_time": "2023-05-15T14:59:49.719806Z",
     "end_time": "2023-05-15T14:59:49.724087Z"
    }
   }
  },
  {
   "cell_type": "code",
   "metadata": {
    "id": "sIzXhxDw1bXf",
    "ExecuteTime": {
     "start_time": "2023-05-15T14:59:51.783390Z",
     "end_time": "2023-05-15T14:59:51.788341Z"
    }
   },
   "source": [
    "# train_test_split\n",
    "X_train, X_test, y_train, y_test = train_test_split(df, data['quality'],test_size = 0.25)"
   ],
   "execution_count": 18,
   "outputs": []
  },
  {
   "cell_type": "code",
   "execution_count": 19,
   "outputs": [
    {
     "data": {
      "text/plain": "803     7\n479     5\n881     5\n1352    6\n511     5\n       ..\n1077    6\n179     5\n389     6\n807     7\n1407    6\nName: quality, Length: 400, dtype: int64"
     },
     "execution_count": 19,
     "metadata": {},
     "output_type": "execute_result"
    }
   ],
   "source": [
    "y_test"
   ],
   "metadata": {
    "collapsed": false,
    "ExecuteTime": {
     "start_time": "2023-05-15T14:59:53.870348Z",
     "end_time": "2023-05-15T14:59:53.873565Z"
    }
   }
  },
  {
   "cell_type": "markdown",
   "metadata": {
    "id": "NPXEK93o1bu-"
   },
   "source": [
    "# 3. Normalize train and test data"
   ]
  },
  {
   "cell_type": "code",
   "metadata": {
    "id": "N9wg1GQn1c94",
    "ExecuteTime": {
     "start_time": "2023-05-15T14:59:56.397397Z",
     "end_time": "2023-05-15T14:59:56.400929Z"
    }
   },
   "source": [
    "# StandardScaler + fit_transform\n",
    "sss = StandardScaler()"
   ],
   "execution_count": 20,
   "outputs": []
  },
  {
   "cell_type": "code",
   "execution_count": 31,
   "outputs": [],
   "source": [
    "X_train =  sss.fit_transform(X_train,y_train)"
   ],
   "metadata": {
    "collapsed": false,
    "ExecuteTime": {
     "start_time": "2023-05-15T15:07:45.431180Z",
     "end_time": "2023-05-15T15:07:45.435480Z"
    }
   }
  },
  {
   "cell_type": "code",
   "execution_count": 32,
   "outputs": [
    {
     "data": {
      "text/plain": "array([[ 0.32958458,  0.51868897, -0.43565403, ..., -0.90945683,\n         1.59244617, -1.16912524],\n       [ 0.44547077,  1.43665501, -1.40287307, ...,  0.32990047,\n         1.17914291, -0.98238293],\n       [-0.77133423,  0.24051745, -1.30106054, ...,  0.32990047,\n        -0.29694014, -0.23541368],\n       ...,\n       [-0.13396018,  1.65919223, -0.18112271, ...,  0.3951298 ,\n         0.64775301,  0.2314421 ],\n       [ 1.14078791, -0.14892269,  0.73519007, ..., -0.97468616,\n         0.3525364 ,  0.97841134],\n       [-0.53956185,  0.51868897, -1.14834175, ...,  0.72127646,\n        -0.53311343,  0.97841134]])"
     },
     "execution_count": 32,
     "metadata": {},
     "output_type": "execute_result"
    }
   ],
   "source": [
    "X_train"
   ],
   "metadata": {
    "collapsed": false,
    "ExecuteTime": {
     "start_time": "2023-05-15T15:07:47.305152Z",
     "end_time": "2023-05-15T15:07:47.310466Z"
    }
   }
  },
  {
   "cell_type": "code",
   "execution_count": 33,
   "outputs": [
    {
     "data": {
      "text/plain": "3.1990315906766813e-15"
     },
     "execution_count": 33,
     "metadata": {},
     "output_type": "execute_result"
    }
   ],
   "source": [
    "X_train.mean()"
   ],
   "metadata": {
    "collapsed": false,
    "ExecuteTime": {
     "start_time": "2023-05-15T15:08:03.453939Z",
     "end_time": "2023-05-15T15:08:03.457787Z"
    }
   }
  },
  {
   "cell_type": "code",
   "execution_count": 34,
   "outputs": [
    {
     "data": {
      "text/plain": "1.0"
     },
     "execution_count": 34,
     "metadata": {},
     "output_type": "execute_result"
    }
   ],
   "source": [
    "X_train.std()"
   ],
   "metadata": {
    "collapsed": false,
    "ExecuteTime": {
     "start_time": "2023-05-15T15:08:10.091061Z",
     "end_time": "2023-05-15T15:08:10.095397Z"
    }
   }
  },
  {
   "cell_type": "code",
   "execution_count": 35,
   "outputs": [],
   "source": [
    "X_test =  sss.fit_transform(X_test,y_test)"
   ],
   "metadata": {
    "collapsed": false,
    "ExecuteTime": {
     "start_time": "2023-05-15T15:08:24.017613Z",
     "end_time": "2023-05-15T15:08:24.022469Z"
    }
   }
  },
  {
   "cell_type": "markdown",
   "metadata": {
    "id": "X5Yw6RmZ1dWI"
   },
   "source": [
    "# 4. Create a RandomForest classifier with 300 estimators"
   ]
  },
  {
   "cell_type": "code",
   "metadata": {
    "id": "sLK_2MfW1eiZ",
    "ExecuteTime": {
     "start_time": "2023-05-15T15:09:17.721130Z",
     "end_time": "2023-05-15T15:09:17.725972Z"
    }
   },
   "source": [
    "# RandomForestClassifier\n",
    "rf = RandomForestClassifier(n_estimators=300)\n",
    "rf"
   ],
   "execution_count": 37,
   "outputs": [
    {
     "data": {
      "text/plain": "RandomForestClassifier(n_estimators=300)"
     },
     "execution_count": 37,
     "metadata": {},
     "output_type": "execute_result"
    }
   ]
  },
  {
   "cell_type": "markdown",
   "metadata": {
    "id": "P8QxlGNp1e6W"
   },
   "source": [
    "# 5. Get the accuracy of the model in cross validation (with K=5)"
   ]
  },
  {
   "cell_type": "code",
   "metadata": {
    "id": "E5UV0e8m1gEX",
    "ExecuteTime": {
     "start_time": "2023-05-15T15:12:48.831215Z",
     "end_time": "2023-05-15T15:12:51.049977Z"
    }
   },
   "source": [
    "# cross_val_score\n",
    "scores_train = cross_val_score(rf,X_train,y_train,cv=5)\n",
    "scores_train"
   ],
   "execution_count": 38,
   "outputs": [
    {
     "data": {
      "text/plain": "array([0.7       , 0.61666667, 0.67916667, 0.6625    , 0.68200837])"
     },
     "execution_count": 38,
     "metadata": {},
     "output_type": "execute_result"
    }
   ]
  },
  {
   "cell_type": "code",
   "execution_count": 39,
   "outputs": [
    {
     "name": "stderr",
     "output_type": "stream",
     "text": [
      "/opt/anaconda3/lib/python3.9/site-packages/sklearn/model_selection/_split.py:676: UserWarning: The least populated class in y has only 1 members, which is less than n_splits=5.\n",
      "  warnings.warn(\n"
     ]
    },
    {
     "data": {
      "text/plain": "array([0.5875, 0.6   , 0.525 , 0.625 , 0.625 ])"
     },
     "execution_count": 39,
     "metadata": {},
     "output_type": "execute_result"
    }
   ],
   "source": [
    "scores_test = cross_val_score(rf,X_test,y_test,cv=5)\n",
    "scores_test"
   ],
   "metadata": {
    "collapsed": false,
    "ExecuteTime": {
     "start_time": "2023-05-15T15:13:46.449625Z",
     "end_time": "2023-05-15T15:13:47.767661Z"
    }
   }
  },
  {
   "cell_type": "code",
   "execution_count": 40,
   "outputs": [
    {
     "data": {
      "text/plain": "array([0.546875  , 0.571875  , 0.615625  , 0.575     , 0.57366771])"
     },
     "execution_count": 40,
     "metadata": {},
     "output_type": "execute_result"
    }
   ],
   "source": [
    "scores_all = cross_val_score(rf,df,data['quality'],cv=5)\n",
    "scores_all"
   ],
   "metadata": {
    "collapsed": false,
    "ExecuteTime": {
     "start_time": "2023-05-15T15:14:39.236633Z",
     "end_time": "2023-05-15T15:14:42.007655Z"
    }
   }
  },
  {
   "cell_type": "markdown",
   "metadata": {
    "id": "fbc4C3sX1hgF"
   },
   "source": [
    "# 6. Apply in cross validation a GridSearch with the following parameters to be tested:\n",
    "- 'n_estimators': [100, 300, 500, 800, 1000],\n",
    "- 'criterion': ['gini', 'entropy'],\n",
    "- 'bootstrap': [True, False]"
   ]
  },
  {
   "cell_type": "code",
   "metadata": {
    "id": "_MGBfZBW1kIm",
    "ExecuteTime": {
     "start_time": "2023-05-15T15:24:20.348153Z",
     "end_time": "2023-05-15T15:26:04.203818Z"
    }
   },
   "source": [
    "# GridSearchCV\n",
    "parameters =  {'n_estimators':[100, 300,500,800,1000], 'criterion':['gini','entropy'], 'bootstrap':[True,False]}\n",
    "gsv = GridSearchCV(rf,parameters,cv=5)\n",
    "gsv.fit(X_train,y_train)"
   ],
   "execution_count": 41,
   "outputs": [
    {
     "data": {
      "text/plain": "GridSearchCV(cv=5, estimator=RandomForestClassifier(n_estimators=300),\n             param_grid={'bootstrap': [True, False],\n                         'criterion': ['gini', 'entropy'],\n                         'n_estimators': [100, 300, 500, 800, 1000]})"
     },
     "execution_count": 41,
     "metadata": {},
     "output_type": "execute_result"
    }
   ]
  },
  {
   "cell_type": "code",
   "execution_count": 45,
   "outputs": [
    {
     "name": "stderr",
     "output_type": "stream",
     "text": [
      "/opt/anaconda3/lib/python3.9/site-packages/sklearn/model_selection/_split.py:676: UserWarning: The least populated class in y has only 1 members, which is less than n_splits=5.\n",
      "  warnings.warn(\n"
     ]
    },
    {
     "data": {
      "text/plain": "GridSearchCV(cv=5, estimator=RandomForestClassifier(n_estimators=300),\n             param_grid={'bootstrap': [True, False],\n                         'criterion': ['gini', 'entropy'],\n                         'n_estimators': [100, 300, 500, 800, 1000]})"
     },
     "execution_count": 45,
     "metadata": {},
     "output_type": "execute_result"
    }
   ],
   "source": [
    "gsv.fit(X_test,y_test)"
   ],
   "metadata": {
    "collapsed": false,
    "ExecuteTime": {
     "start_time": "2023-05-15T15:29:37.193908Z",
     "end_time": "2023-05-15T15:30:26.097110Z"
    }
   }
  },
  {
   "cell_type": "markdown",
   "metadata": {
    "id": "UIIIuyJz1knf"
   },
   "source": [
    "# 7. Indicate the configuration that generates the best accuracy"
   ]
  },
  {
   "cell_type": "code",
   "metadata": {
    "id": "joMF8Ah21lAr",
    "ExecuteTime": {
     "start_time": "2023-05-15T15:30:37.168679Z",
     "end_time": "2023-05-15T15:30:37.173659Z"
    }
   },
   "source": [
    "# best_params_ + best_score_\n",
    "gsv.best_params_"
   ],
   "execution_count": 46,
   "outputs": [
    {
     "data": {
      "text/plain": "{'bootstrap': True, 'criterion': 'entropy', 'n_estimators': 500}"
     },
     "execution_count": 46,
     "metadata": {},
     "output_type": "execute_result"
    }
   ]
  },
  {
   "cell_type": "code",
   "execution_count": 47,
   "outputs": [
    {
     "data": {
      "text/plain": "0.6025"
     },
     "execution_count": 47,
     "metadata": {},
     "output_type": "execute_result"
    }
   ],
   "source": [
    "gsv.best_score_"
   ],
   "metadata": {
    "collapsed": false,
    "ExecuteTime": {
     "start_time": "2023-05-15T15:30:45.390583Z",
     "end_time": "2023-05-15T15:30:45.394723Z"
    }
   }
  },
  {
   "cell_type": "markdown",
   "metadata": {
    "id": "RbiyCNRiy98v"
   },
   "source": [
    "# 8. Create a pipeline with the the preprocessing component, the model component and the Grid Search Analysis."
   ]
  },
  {
   "cell_type": "code",
   "metadata": {
    "id": "yXenTYNGyBSs"
   },
   "source": [],
   "execution_count": null,
   "outputs": []
  }
 ]
}
