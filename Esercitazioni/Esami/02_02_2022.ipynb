{
 "cells": [
  {
   "cell_type": "markdown",
   "source": [
    "# Prova 02_02_2022\n",
    "# Parte 1:\n",
    "Quante sono le istanze contenute nel dataset? **299** Il dataset è completo (cioè per ogni\n",
    "istanza tutti i valori di ogni attributo sono sempre correttamente specificati – non esistono\n",
    "\n",
    "“missing values”)? **no** Il dataset è bilanciato per quanto riguarda la classe da predire?\n",
    "**sbilanciato** I casi raccolti nel dataset sono equamente distribuiti per età? **no**"
   ],
   "metadata": {
    "collapsed": false
   }
  },
  {
   "cell_type": "code",
   "execution_count": 1,
   "outputs": [],
   "source": [
    "import pandas as pd\n",
    "import numpy as np"
   ],
   "metadata": {
    "collapsed": false,
    "ExecuteTime": {
     "start_time": "2023-06-06T11:17:25.566582Z",
     "end_time": "2023-06-06T11:17:25.567849Z"
    }
   }
  },
  {
   "cell_type": "code",
   "execution_count": 2,
   "outputs": [
    {
     "data": {
      "text/plain": "      age  anaemia  creatinine_phosphokinase  diabetes  ejection_fraction  \\\n0    75.0        0                       582         0                 20   \n1    55.0        0                      7861         0                 38   \n2    65.0        0                       146         0                 20   \n3    50.0        1                       111         0                 20   \n4    65.0        1                       160         1                 20   \n..    ...      ...                       ...       ...                ...   \n294  62.0        0                        61         1                 38   \n295  55.0        0                      1820         0                 38   \n296  45.0        0                      2060         1                 60   \n297  45.0        0                      2413         0                 38   \n298  50.0        0                       196         0                 45   \n\n     high_blood_pressure  platelets  serum_creatinine  serum_sodium  sex  \\\n0                      1  265000.00               1.9           130    1   \n1                      0  263358.03               1.1           136    1   \n2                      0  162000.00               1.3           129    1   \n3                      0  210000.00               1.9           137    1   \n4                      0  327000.00               2.7           116    0   \n..                   ...        ...               ...           ...  ...   \n294                    1  155000.00               1.1           143    1   \n295                    0  270000.00               1.2           139    0   \n296                    0  742000.00               0.8           138    0   \n297                    0  140000.00               1.4           140    1   \n298                    0  395000.00               1.6           136    1   \n\n     smoking  time  DEATH_EVENT  \n0          0     4            1  \n1          0     6            1  \n2          1     7            1  \n3          0     7            1  \n4          0     8            1  \n..       ...   ...          ...  \n294        1   270            0  \n295        0   271            0  \n296        0   278            0  \n297        1   280            0  \n298        1   285            0  \n\n[299 rows x 13 columns]",
      "text/html": "<div>\n<style scoped>\n    .dataframe tbody tr th:only-of-type {\n        vertical-align: middle;\n    }\n\n    .dataframe tbody tr th {\n        vertical-align: top;\n    }\n\n    .dataframe thead th {\n        text-align: right;\n    }\n</style>\n<table border=\"1\" class=\"dataframe\">\n  <thead>\n    <tr style=\"text-align: right;\">\n      <th></th>\n      <th>age</th>\n      <th>anaemia</th>\n      <th>creatinine_phosphokinase</th>\n      <th>diabetes</th>\n      <th>ejection_fraction</th>\n      <th>high_blood_pressure</th>\n      <th>platelets</th>\n      <th>serum_creatinine</th>\n      <th>serum_sodium</th>\n      <th>sex</th>\n      <th>smoking</th>\n      <th>time</th>\n      <th>DEATH_EVENT</th>\n    </tr>\n  </thead>\n  <tbody>\n    <tr>\n      <th>0</th>\n      <td>75.0</td>\n      <td>0</td>\n      <td>582</td>\n      <td>0</td>\n      <td>20</td>\n      <td>1</td>\n      <td>265000.00</td>\n      <td>1.9</td>\n      <td>130</td>\n      <td>1</td>\n      <td>0</td>\n      <td>4</td>\n      <td>1</td>\n    </tr>\n    <tr>\n      <th>1</th>\n      <td>55.0</td>\n      <td>0</td>\n      <td>7861</td>\n      <td>0</td>\n      <td>38</td>\n      <td>0</td>\n      <td>263358.03</td>\n      <td>1.1</td>\n      <td>136</td>\n      <td>1</td>\n      <td>0</td>\n      <td>6</td>\n      <td>1</td>\n    </tr>\n    <tr>\n      <th>2</th>\n      <td>65.0</td>\n      <td>0</td>\n      <td>146</td>\n      <td>0</td>\n      <td>20</td>\n      <td>0</td>\n      <td>162000.00</td>\n      <td>1.3</td>\n      <td>129</td>\n      <td>1</td>\n      <td>1</td>\n      <td>7</td>\n      <td>1</td>\n    </tr>\n    <tr>\n      <th>3</th>\n      <td>50.0</td>\n      <td>1</td>\n      <td>111</td>\n      <td>0</td>\n      <td>20</td>\n      <td>0</td>\n      <td>210000.00</td>\n      <td>1.9</td>\n      <td>137</td>\n      <td>1</td>\n      <td>0</td>\n      <td>7</td>\n      <td>1</td>\n    </tr>\n    <tr>\n      <th>4</th>\n      <td>65.0</td>\n      <td>1</td>\n      <td>160</td>\n      <td>1</td>\n      <td>20</td>\n      <td>0</td>\n      <td>327000.00</td>\n      <td>2.7</td>\n      <td>116</td>\n      <td>0</td>\n      <td>0</td>\n      <td>8</td>\n      <td>1</td>\n    </tr>\n    <tr>\n      <th>...</th>\n      <td>...</td>\n      <td>...</td>\n      <td>...</td>\n      <td>...</td>\n      <td>...</td>\n      <td>...</td>\n      <td>...</td>\n      <td>...</td>\n      <td>...</td>\n      <td>...</td>\n      <td>...</td>\n      <td>...</td>\n      <td>...</td>\n    </tr>\n    <tr>\n      <th>294</th>\n      <td>62.0</td>\n      <td>0</td>\n      <td>61</td>\n      <td>1</td>\n      <td>38</td>\n      <td>1</td>\n      <td>155000.00</td>\n      <td>1.1</td>\n      <td>143</td>\n      <td>1</td>\n      <td>1</td>\n      <td>270</td>\n      <td>0</td>\n    </tr>\n    <tr>\n      <th>295</th>\n      <td>55.0</td>\n      <td>0</td>\n      <td>1820</td>\n      <td>0</td>\n      <td>38</td>\n      <td>0</td>\n      <td>270000.00</td>\n      <td>1.2</td>\n      <td>139</td>\n      <td>0</td>\n      <td>0</td>\n      <td>271</td>\n      <td>0</td>\n    </tr>\n    <tr>\n      <th>296</th>\n      <td>45.0</td>\n      <td>0</td>\n      <td>2060</td>\n      <td>1</td>\n      <td>60</td>\n      <td>0</td>\n      <td>742000.00</td>\n      <td>0.8</td>\n      <td>138</td>\n      <td>0</td>\n      <td>0</td>\n      <td>278</td>\n      <td>0</td>\n    </tr>\n    <tr>\n      <th>297</th>\n      <td>45.0</td>\n      <td>0</td>\n      <td>2413</td>\n      <td>0</td>\n      <td>38</td>\n      <td>0</td>\n      <td>140000.00</td>\n      <td>1.4</td>\n      <td>140</td>\n      <td>1</td>\n      <td>1</td>\n      <td>280</td>\n      <td>0</td>\n    </tr>\n    <tr>\n      <th>298</th>\n      <td>50.0</td>\n      <td>0</td>\n      <td>196</td>\n      <td>0</td>\n      <td>45</td>\n      <td>0</td>\n      <td>395000.00</td>\n      <td>1.6</td>\n      <td>136</td>\n      <td>1</td>\n      <td>1</td>\n      <td>285</td>\n      <td>0</td>\n    </tr>\n  </tbody>\n</table>\n<p>299 rows × 13 columns</p>\n</div>"
     },
     "execution_count": 2,
     "metadata": {},
     "output_type": "execute_result"
    }
   ],
   "source": [
    "df = pd.read_csv(\"Data/heart_failure_clinical_records_dataset.csv\",sep=',')\n",
    "df"
   ],
   "metadata": {
    "collapsed": false,
    "ExecuteTime": {
     "start_time": "2023-06-06T11:18:18.914987Z",
     "end_time": "2023-06-06T11:18:18.943973Z"
    }
   }
  },
  {
   "cell_type": "code",
   "execution_count": 3,
   "outputs": [
    {
     "data": {
      "text/plain": "age                         0\nanaemia                     0\ncreatinine_phosphokinase    0\ndiabetes                    0\nejection_fraction           0\nhigh_blood_pressure         0\nplatelets                   0\nserum_creatinine            0\nserum_sodium                0\nsex                         0\nsmoking                     0\ntime                        0\nDEATH_EVENT                 0\ndtype: int64"
     },
     "execution_count": 3,
     "metadata": {},
     "output_type": "execute_result"
    }
   ],
   "source": [
    "df.isna().sum()"
   ],
   "metadata": {
    "collapsed": false,
    "ExecuteTime": {
     "start_time": "2023-06-06T11:19:01.632376Z",
     "end_time": "2023-06-06T11:19:01.640237Z"
    }
   }
  },
  {
   "cell_type": "code",
   "execution_count": 6,
   "outputs": [
    {
     "data": {
      "text/plain": "DEATH_EVENT\n0    203\n1     96\nName: time, dtype: int64"
     },
     "execution_count": 6,
     "metadata": {},
     "output_type": "execute_result"
    }
   ],
   "source": [
    "df.groupby(\"DEATH_EVENT\")[\"time\"].count()"
   ],
   "metadata": {
    "collapsed": false,
    "ExecuteTime": {
     "start_time": "2023-06-06T11:20:36.213996Z",
     "end_time": "2023-06-06T11:20:36.216795Z"
    }
   }
  },
  {
   "cell_type": "code",
   "execution_count": 7,
   "outputs": [
    {
     "data": {
      "text/plain": "age\n40.000     7\n41.000     1\n42.000     7\n43.000     1\n44.000     2\n45.000    19\n46.000     3\n47.000     1\n48.000     2\n49.000     4\n50.000    27\n51.000     4\n52.000     5\n53.000    10\n54.000     2\n55.000    17\n56.000     1\n57.000     2\n58.000    10\n59.000     4\n60.000    33\n60.667     2\n61.000     4\n62.000     5\n63.000     8\n64.000     3\n65.000    26\n66.000     2\n67.000     2\n68.000     5\n69.000     3\n70.000    25\n72.000     7\n73.000     4\n75.000    11\n77.000     2\n78.000     2\n79.000     1\n80.000     7\n81.000     1\n82.000     3\n85.000     6\n86.000     1\n87.000     1\n90.000     3\n94.000     1\n95.000     2\nName: time, dtype: int64"
     },
     "execution_count": 7,
     "metadata": {},
     "output_type": "execute_result"
    }
   ],
   "source": [
    "df.groupby(\"age\")[\"time\"].count()"
   ],
   "metadata": {
    "collapsed": false,
    "ExecuteTime": {
     "start_time": "2023-06-06T11:21:25.244423Z",
     "end_time": "2023-06-06T11:21:25.251945Z"
    }
   }
  },
  {
   "cell_type": "code",
   "execution_count": 8,
   "outputs": [
    {
     "data": {
      "text/plain": "<AxesSubplot:>"
     },
     "execution_count": 8,
     "metadata": {},
     "output_type": "execute_result"
    },
    {
     "data": {
      "text/plain": "<Figure size 640x480 with 1 Axes>",
      "image/png": "[encoded data removed]"
     },
     "metadata": {},
     "output_type": "display_data"
    }
   ],
   "source": [
    "df.age.hist(bins=100)"
   ],
   "metadata": {
    "collapsed": false,
    "ExecuteTime": {
     "start_time": "2023-06-06T11:22:25.272520Z",
     "end_time": "2023-06-06T11:22:25.538188Z"
    }
   }
  },
  {
   "cell_type": "markdown",
   "source": [
    "# 1.2\n",
    "Verificare se è vero che ci sono meno decessi tra le donne (sex = 0). Rappresentare\n",
    "graficamente se possibile quanto emerge dai dati\n",
    "falso muoiono più uomini"
   ],
   "metadata": {
    "collapsed": false
   }
  },
  {
   "cell_type": "code",
   "execution_count": 11,
   "outputs": [],
   "source": [
    "new_df = df.copy()\n",
    "new_df_female = new_df.loc[new_df.sex == 0]\n",
    "new_df_male = new_df.loc[new_df.sex == 1]"
   ],
   "metadata": {
    "collapsed": false,
    "ExecuteTime": {
     "start_time": "2023-06-06T11:26:20.745415Z",
     "end_time": "2023-06-06T11:26:20.747257Z"
    }
   }
  },
  {
   "cell_type": "code",
   "execution_count": 12,
   "outputs": [
    {
     "data": {
      "text/plain": "DEATH_EVENT\n0    71\n1    34\nName: age, dtype: int64"
     },
     "execution_count": 12,
     "metadata": {},
     "output_type": "execute_result"
    }
   ],
   "source": [
    "new_df_female.groupby(\"DEATH_EVENT\")[\"age\"].count()"
   ],
   "metadata": {
    "collapsed": false,
    "ExecuteTime": {
     "start_time": "2023-06-06T11:26:45.888380Z",
     "end_time": "2023-06-06T11:26:45.891872Z"
    }
   }
  },
  {
   "cell_type": "code",
   "execution_count": 15,
   "outputs": [
    {
     "data": {
      "text/plain": "      age  anaemia  creatinine_phosphokinase  diabetes  ejection_fraction  \\\n4    65.0        1                       160         1                 20   \n8    65.0        0                       157         0                 65   \n14   49.0        1                        80         0                 30   \n18   70.0        1                       125         0                 25   \n19   48.0        1                       582         1                 55   \n..    ...      ...                       ...       ...                ...   \n288  65.0        0                       892         1                 35   \n289  90.0        1                       337         0                 38   \n290  45.0        0                       615         1                 55   \n295  55.0        0                      1820         0                 38   \n296  45.0        0                      2060         1                 60   \n\n     high_blood_pressure  platelets  serum_creatinine  serum_sodium  sex  \\\n4                      0  327000.00               2.7           116    0   \n8                      0  263358.03               1.5           138    0   \n14                     1  427000.00               1.0           138    0   \n18                     1  237000.00               1.0           140    0   \n19                     0   87000.00               1.9           121    0   \n..                   ...        ...               ...           ...  ...   \n288                    0  263358.03               1.1           142    0   \n289                    0  390000.00               0.9           144    0   \n290                    0  222000.00               0.8           141    0   \n295                    0  270000.00               1.2           139    0   \n296                    0  742000.00               0.8           138    0   \n\n     smoking  time  DEATH_EVENT  \n4          0     8            1  \n8          0    10            1  \n14         0    12            0  \n18         0    15            1  \n19         0    15            1  \n..       ...   ...          ...  \n288        0   256            0  \n289        0   256            0  \n290        0   257            0  \n295        0   271            0  \n296        0   278            0  \n\n[105 rows x 13 columns]",
      "text/html": "<div>\n<style scoped>\n    .dataframe tbody tr th:only-of-type {\n        vertical-align: middle;\n    }\n\n    .dataframe tbody tr th {\n        vertical-align: top;\n    }\n\n    .dataframe thead th {\n        text-align: right;\n    }\n</style>\n<table border=\"1\" class=\"dataframe\">\n  <thead>\n    <tr style=\"text-align: right;\">\n      <th></th>\n      <th>age</th>\n      <th>anaemia</th>\n      <th>creatinine_phosphokinase</th>\n      <th>diabetes</th>\n      <th>ejection_fraction</th>\n      <th>high_blood_pressure</th>\n      <th>platelets</th>\n      <th>serum_creatinine</th>\n      <th>serum_sodium</th>\n      <th>sex</th>\n      <th>smoking</th>\n      <th>time</th>\n      <th>DEATH_EVENT</th>\n    </tr>\n  </thead>\n  <tbody>\n    <tr>\n      <th>4</th>\n      <td>65.0</td>\n      <td>1</td>\n      <td>160</td>\n      <td>1</td>\n      <td>20</td>\n      <td>0</td>\n      <td>327000.00</td>\n      <td>2.7</td>\n      <td>116</td>\n      <td>0</td>\n      <td>0</td>\n      <td>8</td>\n      <td>1</td>\n    </tr>\n    <tr>\n      <th>8</th>\n      <td>65.0</td>\n      <td>0</td>\n      <td>157</td>\n      <td>0</td>\n      <td>65</td>\n      <td>0</td>\n      <td>263358.03</td>\n      <td>1.5</td>\n      <td>138</td>\n      <td>0</td>\n      <td>0</td>\n      <td>10</td>\n      <td>1</td>\n    </tr>\n    <tr>\n      <th>14</th>\n      <td>49.0</td>\n      <td>1</td>\n      <td>80</td>\n      <td>0</td>\n      <td>30</td>\n      <td>1</td>\n      <td>427000.00</td>\n      <td>1.0</td>\n      <td>138</td>\n      <td>0</td>\n      <td>0</td>\n      <td>12</td>\n      <td>0</td>\n    </tr>\n    <tr>\n      <th>18</th>\n      <td>70.0</td>\n      <td>1</td>\n      <td>125</td>\n      <td>0</td>\n      <td>25</td>\n      <td>1</td>\n      <td>237000.00</td>\n      <td>1.0</td>\n      <td>140</td>\n      <td>0</td>\n      <td>0</td>\n      <td>15</td>\n      <td>1</td>\n    </tr>\n    <tr>\n      <th>19</th>\n      <td>48.0</td>\n      <td>1</td>\n      <td>582</td>\n      <td>1</td>\n      <td>55</td>\n      <td>0</td>\n      <td>87000.00</td>\n      <td>1.9</td>\n      <td>121</td>\n      <td>0</td>\n      <td>0</td>\n      <td>15</td>\n      <td>1</td>\n    </tr>\n    <tr>\n      <th>...</th>\n      <td>...</td>\n      <td>...</td>\n      <td>...</td>\n      <td>...</td>\n      <td>...</td>\n      <td>...</td>\n      <td>...</td>\n      <td>...</td>\n      <td>...</td>\n      <td>...</td>\n      <td>...</td>\n      <td>...</td>\n      <td>...</td>\n    </tr>\n    <tr>\n      <th>288</th>\n      <td>65.0</td>\n      <td>0</td>\n      <td>892</td>\n      <td>1</td>\n      <td>35</td>\n      <td>0</td>\n      <td>263358.03</td>\n      <td>1.1</td>\n      <td>142</td>\n      <td>0</td>\n      <td>0</td>\n      <td>256</td>\n      <td>0</td>\n    </tr>\n    <tr>\n      <th>289</th>\n      <td>90.0</td>\n      <td>1</td>\n      <td>337</td>\n      <td>0</td>\n      <td>38</td>\n      <td>0</td>\n      <td>390000.00</td>\n      <td>0.9</td>\n      <td>144</td>\n      <td>0</td>\n      <td>0</td>\n      <td>256</td>\n      <td>0</td>\n    </tr>\n    <tr>\n      <th>290</th>\n      <td>45.0</td>\n      <td>0</td>\n      <td>615</td>\n      <td>1</td>\n      <td>55</td>\n      <td>0</td>\n      <td>222000.00</td>\n      <td>0.8</td>\n      <td>141</td>\n      <td>0</td>\n      <td>0</td>\n      <td>257</td>\n      <td>0</td>\n    </tr>\n    <tr>\n      <th>295</th>\n      <td>55.0</td>\n      <td>0</td>\n      <td>1820</td>\n      <td>0</td>\n      <td>38</td>\n      <td>0</td>\n      <td>270000.00</td>\n      <td>1.2</td>\n      <td>139</td>\n      <td>0</td>\n      <td>0</td>\n      <td>271</td>\n      <td>0</td>\n    </tr>\n    <tr>\n      <th>296</th>\n      <td>45.0</td>\n      <td>0</td>\n      <td>2060</td>\n      <td>1</td>\n      <td>60</td>\n      <td>0</td>\n      <td>742000.00</td>\n      <td>0.8</td>\n      <td>138</td>\n      <td>0</td>\n      <td>0</td>\n      <td>278</td>\n      <td>0</td>\n    </tr>\n  </tbody>\n</table>\n<p>105 rows × 13 columns</p>\n</div>"
     },
     "execution_count": 15,
     "metadata": {},
     "output_type": "execute_result"
    }
   ],
   "source": [
    "new_df_female"
   ],
   "metadata": {
    "collapsed": false,
    "ExecuteTime": {
     "start_time": "2023-06-06T11:27:19.175853Z",
     "end_time": "2023-06-06T11:27:19.178353Z"
    }
   }
  },
  {
   "cell_type": "code",
   "execution_count": 13,
   "outputs": [
    {
     "data": {
      "text/plain": "DEATH_EVENT\n0    132\n1     62\nName: age, dtype: int64"
     },
     "execution_count": 13,
     "metadata": {},
     "output_type": "execute_result"
    }
   ],
   "source": [
    "new_df_male.groupby(\"DEATH_EVENT\")[\"age\"].count()"
   ],
   "metadata": {
    "collapsed": false,
    "ExecuteTime": {
     "start_time": "2023-06-06T11:26:47.586544Z",
     "end_time": "2023-06-06T11:26:47.597958Z"
    }
   }
  },
  {
   "cell_type": "code",
   "execution_count": 14,
   "outputs": [
    {
     "data": {
      "text/plain": "      age  anaemia  creatinine_phosphokinase  diabetes  ejection_fraction  \\\n0    75.0        0                       582         0                 20   \n1    55.0        0                      7861         0                 38   \n2    65.0        0                       146         0                 20   \n3    50.0        1                       111         0                 20   \n5    90.0        1                        47         0                 40   \n..    ...      ...                       ...       ...                ...   \n292  52.0        0                       190         1                 38   \n293  63.0        1                       103         1                 35   \n294  62.0        0                        61         1                 38   \n297  45.0        0                      2413         0                 38   \n298  50.0        0                       196         0                 45   \n\n     high_blood_pressure  platelets  serum_creatinine  serum_sodium  sex  \\\n0                      1  265000.00               1.9           130    1   \n1                      0  263358.03               1.1           136    1   \n2                      0  162000.00               1.3           129    1   \n3                      0  210000.00               1.9           137    1   \n5                      1  204000.00               2.1           132    1   \n..                   ...        ...               ...           ...  ...   \n292                    0  382000.00               1.0           140    1   \n293                    0  179000.00               0.9           136    1   \n294                    1  155000.00               1.1           143    1   \n297                    0  140000.00               1.4           140    1   \n298                    0  395000.00               1.6           136    1   \n\n     smoking  time  DEATH_EVENT  \n0          0     4            1  \n1          0     6            1  \n2          1     7            1  \n3          0     7            1  \n5          1     8            1  \n..       ...   ...          ...  \n292        1   258            0  \n293        1   270            0  \n294        1   270            0  \n297        1   280            0  \n298        1   285            0  \n\n[194 rows x 13 columns]",
      "text/html": "<div>\n<style scoped>\n    .dataframe tbody tr th:only-of-type {\n        vertical-align: middle;\n    }\n\n    .dataframe tbody tr th {\n        vertical-align: top;\n    }\n\n    .dataframe thead th {\n        text-align: right;\n    }\n</style>\n<table border=\"1\" class=\"dataframe\">\n  <thead>\n    <tr style=\"text-align: right;\">\n      <th></th>\n      <th>age</th>\n      <th>anaemia</th>\n      <th>creatinine_phosphokinase</th>\n      <th>diabetes</th>\n      <th>ejection_fraction</th>\n      <th>high_blood_pressure</th>\n      <th>platelets</th>\n      <th>serum_creatinine</th>\n      <th>serum_sodium</th>\n      <th>sex</th>\n      <th>smoking</th>\n      <th>time</th>\n      <th>DEATH_EVENT</th>\n    </tr>\n  </thead>\n  <tbody>\n    <tr>\n      <th>0</th>\n      <td>75.0</td>\n      <td>0</td>\n      <td>582</td>\n      <td>0</td>\n      <td>20</td>\n      <td>1</td>\n      <td>265000.00</td>\n      <td>1.9</td>\n      <td>130</td>\n      <td>1</td>\n      <td>0</td>\n      <td>4</td>\n      <td>1</td>\n    </tr>\n    <tr>\n      <th>1</th>\n      <td>55.0</td>\n      <td>0</td>\n      <td>7861</td>\n      <td>0</td>\n      <td>38</td>\n      <td>0</td>\n      <td>263358.03</td>\n      <td>1.1</td>\n      <td>136</td>\n      <td>1</td>\n      <td>0</td>\n      <td>6</td>\n      <td>1</td>\n    </tr>\n    <tr>\n      <th>2</th>\n      <td>65.0</td>\n      <td>0</td>\n      <td>146</td>\n      <td>0</td>\n      <td>20</td>\n      <td>0</td>\n      <td>162000.00</td>\n      <td>1.3</td>\n      <td>129</td>\n      <td>1</td>\n      <td>1</td>\n      <td>7</td>\n      <td>1</td>\n    </tr>\n    <tr>\n      <th>3</th>\n      <td>50.0</td>\n      <td>1</td>\n      <td>111</td>\n      <td>0</td>\n      <td>20</td>\n      <td>0</td>\n      <td>210000.00</td>\n      <td>1.9</td>\n      <td>137</td>\n      <td>1</td>\n      <td>0</td>\n      <td>7</td>\n      <td>1</td>\n    </tr>\n    <tr>\n      <th>5</th>\n      <td>90.0</td>\n      <td>1</td>\n      <td>47</td>\n      <td>0</td>\n      <td>40</td>\n      <td>1</td>\n      <td>204000.00</td>\n      <td>2.1</td>\n      <td>132</td>\n      <td>1</td>\n      <td>1</td>\n      <td>8</td>\n      <td>1</td>\n    </tr>\n    <tr>\n      <th>...</th>\n      <td>...</td>\n      <td>...</td>\n      <td>...</td>\n      <td>...</td>\n      <td>...</td>\n      <td>...</td>\n      <td>...</td>\n      <td>...</td>\n      <td>...</td>\n      <td>...</td>\n      <td>...</td>\n      <td>...</td>\n      <td>...</td>\n    </tr>\n    <tr>\n      <th>292</th>\n      <td>52.0</td>\n      <td>0</td>\n      <td>190</td>\n      <td>1</td>\n      <td>38</td>\n      <td>0</td>\n      <td>382000.00</td>\n      <td>1.0</td>\n      <td>140</td>\n      <td>1</td>\n      <td>1</td>\n      <td>258</td>\n      <td>0</td>\n    </tr>\n    <tr>\n      <th>293</th>\n      <td>63.0</td>\n      <td>1</td>\n      <td>103</td>\n      <td>1</td>\n      <td>35</td>\n      <td>0</td>\n      <td>179000.00</td>\n      <td>0.9</td>\n      <td>136</td>\n      <td>1</td>\n      <td>1</td>\n      <td>270</td>\n      <td>0</td>\n    </tr>\n    <tr>\n      <th>294</th>\n      <td>62.0</td>\n      <td>0</td>\n      <td>61</td>\n      <td>1</td>\n      <td>38</td>\n      <td>1</td>\n      <td>155000.00</td>\n      <td>1.1</td>\n      <td>143</td>\n      <td>1</td>\n      <td>1</td>\n      <td>270</td>\n      <td>0</td>\n    </tr>\n    <tr>\n      <th>297</th>\n      <td>45.0</td>\n      <td>0</td>\n      <td>2413</td>\n      <td>0</td>\n      <td>38</td>\n      <td>0</td>\n      <td>140000.00</td>\n      <td>1.4</td>\n      <td>140</td>\n      <td>1</td>\n      <td>1</td>\n      <td>280</td>\n      <td>0</td>\n    </tr>\n    <tr>\n      <th>298</th>\n      <td>50.0</td>\n      <td>0</td>\n      <td>196</td>\n      <td>0</td>\n      <td>45</td>\n      <td>0</td>\n      <td>395000.00</td>\n      <td>1.6</td>\n      <td>136</td>\n      <td>1</td>\n      <td>1</td>\n      <td>285</td>\n      <td>0</td>\n    </tr>\n  </tbody>\n</table>\n<p>194 rows × 13 columns</p>\n</div>"
     },
     "execution_count": 14,
     "metadata": {},
     "output_type": "execute_result"
    }
   ],
   "source": [
    "new_df_male"
   ],
   "metadata": {
    "collapsed": false,
    "ExecuteTime": {
     "start_time": "2023-06-06T11:26:58.506863Z",
     "end_time": "2023-06-06T11:26:58.510232Z"
    }
   }
  },
  {
   "cell_type": "markdown",
   "source": [
    "# 1.3\n",
    "Realizzare una pivot_table in cui rappresentare la percentuale di decessi considerando la\n",
    "variabile age (sulle righe e suddivisa in 5 gruppi), la variabile sex e la variabile smoking\n",
    "(entrambe sulle colonne)"
   ],
   "metadata": {
    "collapsed": false
   }
  },
  {
   "cell_type": "code",
   "execution_count": 19,
   "outputs": [
    {
     "data": {
      "text/plain": "                age  anaemia  creatinine_phosphokinase  diabetes  \\\n0      (73.0, 84.0]        0                       582         0   \n1      (51.0, 62.0]        0                      7861         0   \n2      (62.0, 73.0]        0                       146         0   \n3    (39.945, 51.0]        1                       111         0   \n4      (62.0, 73.0]        1                       160         1   \n..              ...      ...                       ...       ...   \n294    (51.0, 62.0]        0                        61         1   \n295    (51.0, 62.0]        0                      1820         0   \n296  (39.945, 51.0]        0                      2060         1   \n297  (39.945, 51.0]        0                      2413         0   \n298  (39.945, 51.0]        0                       196         0   \n\n     ejection_fraction  high_blood_pressure  platelets  serum_creatinine  \\\n0                   20                    1  265000.00               1.9   \n1                   38                    0  263358.03               1.1   \n2                   20                    0  162000.00               1.3   \n3                   20                    0  210000.00               1.9   \n4                   20                    0  327000.00               2.7   \n..                 ...                  ...        ...               ...   \n294                 38                    1  155000.00               1.1   \n295                 38                    0  270000.00               1.2   \n296                 60                    0  742000.00               0.8   \n297                 38                    0  140000.00               1.4   \n298                 45                    0  395000.00               1.6   \n\n     serum_sodium  sex  smoking  time  DEATH_EVENT  \n0             130    1        0     4            1  \n1             136    1        0     6            1  \n2             129    1        1     7            1  \n3             137    1        0     7            1  \n4             116    0        0     8            1  \n..            ...  ...      ...   ...          ...  \n294           143    1        1   270            0  \n295           139    0        0   271            0  \n296           138    0        0   278            0  \n297           140    1        1   280            0  \n298           136    1        1   285            0  \n\n[299 rows x 13 columns]",
      "text/html": "<div>\n<style scoped>\n    .dataframe tbody tr th:only-of-type {\n        vertical-align: middle;\n    }\n\n    .dataframe tbody tr th {\n        vertical-align: top;\n    }\n\n    .dataframe thead th {\n        text-align: right;\n    }\n</style>\n<table border=\"1\" class=\"dataframe\">\n  <thead>\n    <tr style=\"text-align: right;\">\n      <th></th>\n      <th>age</th>\n      <th>anaemia</th>\n      <th>creatinine_phosphokinase</th>\n      <th>diabetes</th>\n      <th>ejection_fraction</th>\n      <th>high_blood_pressure</th>\n      <th>platelets</th>\n      <th>serum_creatinine</th>\n      <th>serum_sodium</th>\n      <th>sex</th>\n      <th>smoking</th>\n      <th>time</th>\n      <th>DEATH_EVENT</th>\n    </tr>\n  </thead>\n  <tbody>\n    <tr>\n      <th>0</th>\n      <td>(73.0, 84.0]</td>\n      <td>0</td>\n      <td>582</td>\n      <td>0</td>\n      <td>20</td>\n      <td>1</td>\n      <td>265000.00</td>\n      <td>1.9</td>\n      <td>130</td>\n      <td>1</td>\n      <td>0</td>\n      <td>4</td>\n      <td>1</td>\n    </tr>\n    <tr>\n      <th>1</th>\n      <td>(51.0, 62.0]</td>\n      <td>0</td>\n      <td>7861</td>\n      <td>0</td>\n      <td>38</td>\n      <td>0</td>\n      <td>263358.03</td>\n      <td>1.1</td>\n      <td>136</td>\n      <td>1</td>\n      <td>0</td>\n      <td>6</td>\n      <td>1</td>\n    </tr>\n    <tr>\n      <th>2</th>\n      <td>(62.0, 73.0]</td>\n      <td>0</td>\n      <td>146</td>\n      <td>0</td>\n      <td>20</td>\n      <td>0</td>\n      <td>162000.00</td>\n      <td>1.3</td>\n      <td>129</td>\n      <td>1</td>\n      <td>1</td>\n      <td>7</td>\n      <td>1</td>\n    </tr>\n    <tr>\n      <th>3</th>\n      <td>(39.945, 51.0]</td>\n      <td>1</td>\n      <td>111</td>\n      <td>0</td>\n      <td>20</td>\n      <td>0</td>\n      <td>210000.00</td>\n      <td>1.9</td>\n      <td>137</td>\n      <td>1</td>\n      <td>0</td>\n      <td>7</td>\n      <td>1</td>\n    </tr>\n    <tr>\n      <th>4</th>\n      <td>(62.0, 73.0]</td>\n      <td>1</td>\n      <td>160</td>\n      <td>1</td>\n      <td>20</td>\n      <td>0</td>\n      <td>327000.00</td>\n      <td>2.7</td>\n      <td>116</td>\n      <td>0</td>\n      <td>0</td>\n      <td>8</td>\n      <td>1</td>\n    </tr>\n    <tr>\n      <th>...</th>\n      <td>...</td>\n      <td>...</td>\n      <td>...</td>\n      <td>...</td>\n      <td>...</td>\n      <td>...</td>\n      <td>...</td>\n      <td>...</td>\n      <td>...</td>\n      <td>...</td>\n      <td>...</td>\n      <td>...</td>\n      <td>...</td>\n    </tr>\n    <tr>\n      <th>294</th>\n      <td>(51.0, 62.0]</td>\n      <td>0</td>\n      <td>61</td>\n      <td>1</td>\n      <td>38</td>\n      <td>1</td>\n      <td>155000.00</td>\n      <td>1.1</td>\n      <td>143</td>\n      <td>1</td>\n      <td>1</td>\n      <td>270</td>\n      <td>0</td>\n    </tr>\n    <tr>\n      <th>295</th>\n      <td>(51.0, 62.0]</td>\n      <td>0</td>\n      <td>1820</td>\n      <td>0</td>\n      <td>38</td>\n      <td>0</td>\n      <td>270000.00</td>\n      <td>1.2</td>\n      <td>139</td>\n      <td>0</td>\n      <td>0</td>\n      <td>271</td>\n      <td>0</td>\n    </tr>\n    <tr>\n      <th>296</th>\n      <td>(39.945, 51.0]</td>\n      <td>0</td>\n      <td>2060</td>\n      <td>1</td>\n      <td>60</td>\n      <td>0</td>\n      <td>742000.00</td>\n      <td>0.8</td>\n      <td>138</td>\n      <td>0</td>\n      <td>0</td>\n      <td>278</td>\n      <td>0</td>\n    </tr>\n    <tr>\n      <th>297</th>\n      <td>(39.945, 51.0]</td>\n      <td>0</td>\n      <td>2413</td>\n      <td>0</td>\n      <td>38</td>\n      <td>0</td>\n      <td>140000.00</td>\n      <td>1.4</td>\n      <td>140</td>\n      <td>1</td>\n      <td>1</td>\n      <td>280</td>\n      <td>0</td>\n    </tr>\n    <tr>\n      <th>298</th>\n      <td>(39.945, 51.0]</td>\n      <td>0</td>\n      <td>196</td>\n      <td>0</td>\n      <td>45</td>\n      <td>0</td>\n      <td>395000.00</td>\n      <td>1.6</td>\n      <td>136</td>\n      <td>1</td>\n      <td>1</td>\n      <td>285</td>\n      <td>0</td>\n    </tr>\n  </tbody>\n</table>\n<p>299 rows × 13 columns</p>\n</div>"
     },
     "execution_count": 19,
     "metadata": {},
     "output_type": "execute_result"
    }
   ],
   "source": [
    "# fare il bin della age\n",
    "new_df = df.copy()\n",
    "ages = pd.cut(new_df[\"age\"],bins=5)\n",
    "new_df[\"age\"] = ages.values\n",
    "new_df"
   ],
   "metadata": {
    "collapsed": false,
    "ExecuteTime": {
     "start_time": "2023-06-06T11:34:20.059169Z",
     "end_time": "2023-06-06T11:34:20.061470Z"
    }
   }
  },
  {
   "cell_type": "code",
   "execution_count": 25,
   "outputs": [
    {
     "data": {
      "text/plain": "sex                    0              1          \nsmoking                0    1         0         1\nage                                              \n(39.945, 51.0]  0.258065  1.0  0.346154  0.100000\n(51.0, 62.0]    0.333333  1.0  0.218750  0.250000\n(62.0, 73.0]    0.250000  0.5  0.260870  0.357143\n(73.0, 84.0]    0.750000  0.0  0.571429  0.444444\n(84.0, 95.0]    0.500000  0.0  0.714286  1.000000",
      "text/html": "<div>\n<style scoped>\n    .dataframe tbody tr th:only-of-type {\n        vertical-align: middle;\n    }\n\n    .dataframe tbody tr th {\n        vertical-align: top;\n    }\n\n    .dataframe thead tr th {\n        text-align: left;\n    }\n\n    .dataframe thead tr:last-of-type th {\n        text-align: right;\n    }\n</style>\n<table border=\"1\" class=\"dataframe\">\n  <thead>\n    <tr>\n      <th>sex</th>\n      <th colspan=\"2\" halign=\"left\">0</th>\n      <th colspan=\"2\" halign=\"left\">1</th>\n    </tr>\n    <tr>\n      <th>smoking</th>\n      <th>0</th>\n      <th>1</th>\n      <th>0</th>\n      <th>1</th>\n    </tr>\n    <tr>\n      <th>age</th>\n      <th></th>\n      <th></th>\n      <th></th>\n      <th></th>\n    </tr>\n  </thead>\n  <tbody>\n    <tr>\n      <th>(39.945, 51.0]</th>\n      <td>0.258065</td>\n      <td>1.0</td>\n      <td>0.346154</td>\n      <td>0.100000</td>\n    </tr>\n    <tr>\n      <th>(51.0, 62.0]</th>\n      <td>0.333333</td>\n      <td>1.0</td>\n      <td>0.218750</td>\n      <td>0.250000</td>\n    </tr>\n    <tr>\n      <th>(62.0, 73.0]</th>\n      <td>0.250000</td>\n      <td>0.5</td>\n      <td>0.260870</td>\n      <td>0.357143</td>\n    </tr>\n    <tr>\n      <th>(73.0, 84.0]</th>\n      <td>0.750000</td>\n      <td>0.0</td>\n      <td>0.571429</td>\n      <td>0.444444</td>\n    </tr>\n    <tr>\n      <th>(84.0, 95.0]</th>\n      <td>0.500000</td>\n      <td>0.0</td>\n      <td>0.714286</td>\n      <td>1.000000</td>\n    </tr>\n  </tbody>\n</table>\n</div>"
     },
     "execution_count": 25,
     "metadata": {},
     "output_type": "execute_result"
    }
   ],
   "source": [
    "table = pd.pivot_table(new_df,values=\"DEATH_EVENT\", index=\"age\", columns=[\"sex\",\"smoking\"],fill_value=0)\n",
    "table"
   ],
   "metadata": {
    "collapsed": false,
    "ExecuteTime": {
     "start_time": "2023-06-06T11:41:56.385331Z",
     "end_time": "2023-06-06T11:41:56.403875Z"
    }
   }
  },
  {
   "cell_type": "markdown",
   "source": [
    "## 1.4\n",
    "Verificare se è vero che generalmente le persone anemiche (anaemia==true) sono anche\n",
    "diabetiche (diabetes == true)\n",
    "\n",
    "No generalmente no"
   ],
   "metadata": {
    "collapsed": false
   }
  },
  {
   "cell_type": "code",
   "execution_count": 29,
   "outputs": [
    {
     "data": {
      "text/plain": "      age  anaemia  creatinine_phosphokinase  diabetes  ejection_fraction  \\\n3    50.0        1                       111         0                 20   \n4    65.0        1                       160         1                 20   \n5    90.0        1                        47         0                 40   \n6    75.0        1                       246         0                 15   \n7    60.0        1                       315         1                 60   \n..    ...      ...                       ...       ...                ...   \n278  50.0        1                      1051         1                 30   \n284  50.0        1                        54         0                 40   \n285  55.0        1                       170         1                 40   \n289  90.0        1                       337         0                 38   \n293  63.0        1                       103         1                 35   \n\n     high_blood_pressure  platelets  serum_creatinine  serum_sodium  sex  \\\n3                      0   210000.0               1.9           137    1   \n4                      0   327000.0               2.7           116    0   \n5                      1   204000.0               2.1           132    1   \n6                      0   127000.0               1.2           137    1   \n7                      0   454000.0               1.1           131    1   \n..                   ...        ...               ...           ...  ...   \n278                    0   232000.0               0.7           136    0   \n284                    0   279000.0               0.8           141    1   \n285                    0   336000.0               1.2           135    1   \n289                    0   390000.0               0.9           144    0   \n293                    0   179000.0               0.9           136    1   \n\n     smoking  time  DEATH_EVENT  \n3          0     7            1  \n4          0     8            1  \n5          1     8            1  \n6          0    10            1  \n7          1    10            1  \n..       ...   ...          ...  \n278        0   246            0  \n284        0   250            0  \n285        0   250            0  \n289        0   256            0  \n293        1   270            0  \n\n[129 rows x 13 columns]",
      "text/html": "<div>\n<style scoped>\n    .dataframe tbody tr th:only-of-type {\n        vertical-align: middle;\n    }\n\n    .dataframe tbody tr th {\n        vertical-align: top;\n    }\n\n    .dataframe thead th {\n        text-align: right;\n    }\n</style>\n<table border=\"1\" class=\"dataframe\">\n  <thead>\n    <tr style=\"text-align: right;\">\n      <th></th>\n      <th>age</th>\n      <th>anaemia</th>\n      <th>creatinine_phosphokinase</th>\n      <th>diabetes</th>\n      <th>ejection_fraction</th>\n      <th>high_blood_pressure</th>\n      <th>platelets</th>\n      <th>serum_creatinine</th>\n      <th>serum_sodium</th>\n      <th>sex</th>\n      <th>smoking</th>\n      <th>time</th>\n      <th>DEATH_EVENT</th>\n    </tr>\n  </thead>\n  <tbody>\n    <tr>\n      <th>3</th>\n      <td>50.0</td>\n      <td>1</td>\n      <td>111</td>\n      <td>0</td>\n      <td>20</td>\n      <td>0</td>\n      <td>210000.0</td>\n      <td>1.9</td>\n      <td>137</td>\n      <td>1</td>\n      <td>0</td>\n      <td>7</td>\n      <td>1</td>\n    </tr>\n    <tr>\n      <th>4</th>\n      <td>65.0</td>\n      <td>1</td>\n      <td>160</td>\n      <td>1</td>\n      <td>20</td>\n      <td>0</td>\n      <td>327000.0</td>\n      <td>2.7</td>\n      <td>116</td>\n      <td>0</td>\n      <td>0</td>\n      <td>8</td>\n      <td>1</td>\n    </tr>\n    <tr>\n      <th>5</th>\n      <td>90.0</td>\n      <td>1</td>\n      <td>47</td>\n      <td>0</td>\n      <td>40</td>\n      <td>1</td>\n      <td>204000.0</td>\n      <td>2.1</td>\n      <td>132</td>\n      <td>1</td>\n      <td>1</td>\n      <td>8</td>\n      <td>1</td>\n    </tr>\n    <tr>\n      <th>6</th>\n      <td>75.0</td>\n      <td>1</td>\n      <td>246</td>\n      <td>0</td>\n      <td>15</td>\n      <td>0</td>\n      <td>127000.0</td>\n      <td>1.2</td>\n      <td>137</td>\n      <td>1</td>\n      <td>0</td>\n      <td>10</td>\n      <td>1</td>\n    </tr>\n    <tr>\n      <th>7</th>\n      <td>60.0</td>\n      <td>1</td>\n      <td>315</td>\n      <td>1</td>\n      <td>60</td>\n      <td>0</td>\n      <td>454000.0</td>\n      <td>1.1</td>\n      <td>131</td>\n      <td>1</td>\n      <td>1</td>\n      <td>10</td>\n      <td>1</td>\n    </tr>\n    <tr>\n      <th>...</th>\n      <td>...</td>\n      <td>...</td>\n      <td>...</td>\n      <td>...</td>\n      <td>...</td>\n      <td>...</td>\n      <td>...</td>\n      <td>...</td>\n      <td>...</td>\n      <td>...</td>\n      <td>...</td>\n      <td>...</td>\n      <td>...</td>\n    </tr>\n    <tr>\n      <th>278</th>\n      <td>50.0</td>\n      <td>1</td>\n      <td>1051</td>\n      <td>1</td>\n      <td>30</td>\n      <td>0</td>\n      <td>232000.0</td>\n      <td>0.7</td>\n      <td>136</td>\n      <td>0</td>\n      <td>0</td>\n      <td>246</td>\n      <td>0</td>\n    </tr>\n    <tr>\n      <th>284</th>\n      <td>50.0</td>\n      <td>1</td>\n      <td>54</td>\n      <td>0</td>\n      <td>40</td>\n      <td>0</td>\n      <td>279000.0</td>\n      <td>0.8</td>\n      <td>141</td>\n      <td>1</td>\n      <td>0</td>\n      <td>250</td>\n      <td>0</td>\n    </tr>\n    <tr>\n      <th>285</th>\n      <td>55.0</td>\n      <td>1</td>\n      <td>170</td>\n      <td>1</td>\n      <td>40</td>\n      <td>0</td>\n      <td>336000.0</td>\n      <td>1.2</td>\n      <td>135</td>\n      <td>1</td>\n      <td>0</td>\n      <td>250</td>\n      <td>0</td>\n    </tr>\n    <tr>\n      <th>289</th>\n      <td>90.0</td>\n      <td>1</td>\n      <td>337</td>\n      <td>0</td>\n      <td>38</td>\n      <td>0</td>\n      <td>390000.0</td>\n      <td>0.9</td>\n      <td>144</td>\n      <td>0</td>\n      <td>0</td>\n      <td>256</td>\n      <td>0</td>\n    </tr>\n    <tr>\n      <th>293</th>\n      <td>63.0</td>\n      <td>1</td>\n      <td>103</td>\n      <td>1</td>\n      <td>35</td>\n      <td>0</td>\n      <td>179000.0</td>\n      <td>0.9</td>\n      <td>136</td>\n      <td>1</td>\n      <td>1</td>\n      <td>270</td>\n      <td>0</td>\n    </tr>\n  </tbody>\n</table>\n<p>129 rows × 13 columns</p>\n</div>"
     },
     "execution_count": 29,
     "metadata": {},
     "output_type": "execute_result"
    }
   ],
   "source": [
    "new_df = df.copy()\n",
    "new_df_anaemia = new_df.loc[new_df.anaemia == 1]\n",
    "new_df_anaemia"
   ],
   "metadata": {
    "collapsed": false,
    "ExecuteTime": {
     "start_time": "2023-06-06T11:44:35.692620Z",
     "end_time": "2023-06-06T11:44:35.695054Z"
    }
   }
  },
  {
   "cell_type": "code",
   "execution_count": 30,
   "outputs": [
    {
     "data": {
      "text/plain": "diabetes\n0    76\n1    53\nName: age, dtype: int64"
     },
     "execution_count": 30,
     "metadata": {},
     "output_type": "execute_result"
    }
   ],
   "source": [
    "new_df_anaemia.groupby(\"diabetes\")[\"age\"].count()"
   ],
   "metadata": {
    "collapsed": false,
    "ExecuteTime": {
     "start_time": "2023-06-06T11:45:30.399154Z",
     "end_time": "2023-06-06T11:45:30.414009Z"
    }
   }
  },
  {
   "cell_type": "markdown",
   "source": [
    "# 1.5\n",
    "La frequenza dei decessi è uniforme nelle età considerate nel dataset? Mostrare l’analisi\n",
    "attraverso un opportuno grafico"
   ],
   "metadata": {
    "collapsed": false
   }
  },
  {
   "cell_type": "code",
   "execution_count": 33,
   "outputs": [
    {
     "data": {
      "text/plain": "<AxesSubplot:>"
     },
     "execution_count": 33,
     "metadata": {},
     "output_type": "execute_result"
    },
    {
     "data": {
      "text/plain": "<Figure size 640x480 with 1 Axes>",
      "image/png": "[encoded data removed]"
     },
     "metadata": {},
     "output_type": "display_data"
    }
   ],
   "source": [
    "new_df = df.copy()\n",
    "new_df = new_df.loc[new_df.DEATH_EVENT == 1]\n",
    "new_df[\"age\"].hist(bins=100)"
   ],
   "metadata": {
    "collapsed": false,
    "ExecuteTime": {
     "start_time": "2023-06-06T12:01:15.779007Z",
     "end_time": "2023-06-06T12:01:15.955265Z"
    }
   }
  },
  {
   "cell_type": "markdown",
   "source": [
    "# Parte 2:\n",
    "## 2.1\n",
    "Si vuole predire il valore di death event sulla base degli attributi presenti nel dataset.\n",
    "Dividere il dataset in modo che 2/3 degli elementi siano contenuti in un nuovo dataset “train” e\n",
    "1/3 nel dataset “test”. Eliminare gli eventuali attributi che non concorrono alla predizione\n",
    "(identificatori se presenti o altri attributi, giustificare la scelta).\n",
    "Allenare il train con il modello Decision Tree e valutare l’accuracy ottenuta calcolata sia sul\n",
    "dataset train sia sul dataset test. Confrontare i risultati ottenuti con quelli ottenuti con una\n",
    "predizione basata sul modello Logistic Regression (ignorare eventuali warning). Effettuare alcune\n",
    "considerazioni sui risultati ottenuti, tenendo in considerazione anche l’analisi della confusion\n",
    "matrix e la predizione effettuata da un dummy classifier."
   ],
   "metadata": {
    "collapsed": false
   }
  },
  {
   "cell_type": "code",
   "execution_count": 35,
   "outputs": [],
   "source": [
    "new_df  = df.copy()"
   ],
   "metadata": {
    "collapsed": false,
    "ExecuteTime": {
     "start_time": "2023-06-06T12:02:26.049947Z",
     "end_time": "2023-06-06T12:02:26.068404Z"
    }
   }
  },
  {
   "cell_type": "code",
   "execution_count": 36,
   "outputs": [
    {
     "data": {
      "text/plain": "      age  anaemia  creatinine_phosphokinase  diabetes  ejection_fraction  \\\n0    75.0        0                       582         0                 20   \n1    55.0        0                      7861         0                 38   \n2    65.0        0                       146         0                 20   \n3    50.0        1                       111         0                 20   \n4    65.0        1                       160         1                 20   \n..    ...      ...                       ...       ...                ...   \n294  62.0        0                        61         1                 38   \n295  55.0        0                      1820         0                 38   \n296  45.0        0                      2060         1                 60   \n297  45.0        0                      2413         0                 38   \n298  50.0        0                       196         0                 45   \n\n     high_blood_pressure  platelets  serum_creatinine  serum_sodium  sex  \\\n0                      1  265000.00               1.9           130    1   \n1                      0  263358.03               1.1           136    1   \n2                      0  162000.00               1.3           129    1   \n3                      0  210000.00               1.9           137    1   \n4                      0  327000.00               2.7           116    0   \n..                   ...        ...               ...           ...  ...   \n294                    1  155000.00               1.1           143    1   \n295                    0  270000.00               1.2           139    0   \n296                    0  742000.00               0.8           138    0   \n297                    0  140000.00               1.4           140    1   \n298                    0  395000.00               1.6           136    1   \n\n     smoking  time  DEATH_EVENT  \n0          0     4            1  \n1          0     6            1  \n2          1     7            1  \n3          0     7            1  \n4          0     8            1  \n..       ...   ...          ...  \n294        1   270            0  \n295        0   271            0  \n296        0   278            0  \n297        1   280            0  \n298        1   285            0  \n\n[299 rows x 13 columns]",
      "text/html": "<div>\n<style scoped>\n    .dataframe tbody tr th:only-of-type {\n        vertical-align: middle;\n    }\n\n    .dataframe tbody tr th {\n        vertical-align: top;\n    }\n\n    .dataframe thead th {\n        text-align: right;\n    }\n</style>\n<table border=\"1\" class=\"dataframe\">\n  <thead>\n    <tr style=\"text-align: right;\">\n      <th></th>\n      <th>age</th>\n      <th>anaemia</th>\n      <th>creatinine_phosphokinase</th>\n      <th>diabetes</th>\n      <th>ejection_fraction</th>\n      <th>high_blood_pressure</th>\n      <th>platelets</th>\n      <th>serum_creatinine</th>\n      <th>serum_sodium</th>\n      <th>sex</th>\n      <th>smoking</th>\n      <th>time</th>\n      <th>DEATH_EVENT</th>\n    </tr>\n  </thead>\n  <tbody>\n    <tr>\n      <th>0</th>\n      <td>75.0</td>\n      <td>0</td>\n      <td>582</td>\n      <td>0</td>\n      <td>20</td>\n      <td>1</td>\n      <td>265000.00</td>\n      <td>1.9</td>\n      <td>130</td>\n      <td>1</td>\n      <td>0</td>\n      <td>4</td>\n      <td>1</td>\n    </tr>\n    <tr>\n      <th>1</th>\n      <td>55.0</td>\n      <td>0</td>\n      <td>7861</td>\n      <td>0</td>\n      <td>38</td>\n      <td>0</td>\n      <td>263358.03</td>\n      <td>1.1</td>\n      <td>136</td>\n      <td>1</td>\n      <td>0</td>\n      <td>6</td>\n      <td>1</td>\n    </tr>\n    <tr>\n      <th>2</th>\n      <td>65.0</td>\n      <td>0</td>\n      <td>146</td>\n      <td>0</td>\n      <td>20</td>\n      <td>0</td>\n      <td>162000.00</td>\n      <td>1.3</td>\n      <td>129</td>\n      <td>1</td>\n      <td>1</td>\n      <td>7</td>\n      <td>1</td>\n    </tr>\n    <tr>\n      <th>3</th>\n      <td>50.0</td>\n      <td>1</td>\n      <td>111</td>\n      <td>0</td>\n      <td>20</td>\n      <td>0</td>\n      <td>210000.00</td>\n      <td>1.9</td>\n      <td>137</td>\n      <td>1</td>\n      <td>0</td>\n      <td>7</td>\n      <td>1</td>\n    </tr>\n    <tr>\n      <th>4</th>\n      <td>65.0</td>\n      <td>1</td>\n      <td>160</td>\n      <td>1</td>\n      <td>20</td>\n      <td>0</td>\n      <td>327000.00</td>\n      <td>2.7</td>\n      <td>116</td>\n      <td>0</td>\n      <td>0</td>\n      <td>8</td>\n      <td>1</td>\n    </tr>\n    <tr>\n      <th>...</th>\n      <td>...</td>\n      <td>...</td>\n      <td>...</td>\n      <td>...</td>\n      <td>...</td>\n      <td>...</td>\n      <td>...</td>\n      <td>...</td>\n      <td>...</td>\n      <td>...</td>\n      <td>...</td>\n      <td>...</td>\n      <td>...</td>\n    </tr>\n    <tr>\n      <th>294</th>\n      <td>62.0</td>\n      <td>0</td>\n      <td>61</td>\n      <td>1</td>\n      <td>38</td>\n      <td>1</td>\n      <td>155000.00</td>\n      <td>1.1</td>\n      <td>143</td>\n      <td>1</td>\n      <td>1</td>\n      <td>270</td>\n      <td>0</td>\n    </tr>\n    <tr>\n      <th>295</th>\n      <td>55.0</td>\n      <td>0</td>\n      <td>1820</td>\n      <td>0</td>\n      <td>38</td>\n      <td>0</td>\n      <td>270000.00</td>\n      <td>1.2</td>\n      <td>139</td>\n      <td>0</td>\n      <td>0</td>\n      <td>271</td>\n      <td>0</td>\n    </tr>\n    <tr>\n      <th>296</th>\n      <td>45.0</td>\n      <td>0</td>\n      <td>2060</td>\n      <td>1</td>\n      <td>60</td>\n      <td>0</td>\n      <td>742000.00</td>\n      <td>0.8</td>\n      <td>138</td>\n      <td>0</td>\n      <td>0</td>\n      <td>278</td>\n      <td>0</td>\n    </tr>\n    <tr>\n      <th>297</th>\n      <td>45.0</td>\n      <td>0</td>\n      <td>2413</td>\n      <td>0</td>\n      <td>38</td>\n      <td>0</td>\n      <td>140000.00</td>\n      <td>1.4</td>\n      <td>140</td>\n      <td>1</td>\n      <td>1</td>\n      <td>280</td>\n      <td>0</td>\n    </tr>\n    <tr>\n      <th>298</th>\n      <td>50.0</td>\n      <td>0</td>\n      <td>196</td>\n      <td>0</td>\n      <td>45</td>\n      <td>0</td>\n      <td>395000.00</td>\n      <td>1.6</td>\n      <td>136</td>\n      <td>1</td>\n      <td>1</td>\n      <td>285</td>\n      <td>0</td>\n    </tr>\n  </tbody>\n</table>\n<p>299 rows × 13 columns</p>\n</div>"
     },
     "execution_count": 36,
     "metadata": {},
     "output_type": "execute_result"
    }
   ],
   "source": [
    "new_df"
   ],
   "metadata": {
    "collapsed": false,
    "ExecuteTime": {
     "start_time": "2023-06-06T12:02:39.211877Z",
     "end_time": "2023-06-06T12:02:39.224266Z"
    }
   }
  },
  {
   "cell_type": "code",
   "execution_count": 38,
   "outputs": [
    {
     "data": {
      "text/plain": "      age  anaemia  creatinine_phosphokinase  diabetes  ejection_fraction  \\\n0    75.0        0                       582         0                 20   \n1    55.0        0                      7861         0                 38   \n2    65.0        0                       146         0                 20   \n3    50.0        1                       111         0                 20   \n4    65.0        1                       160         1                 20   \n..    ...      ...                       ...       ...                ...   \n294  62.0        0                        61         1                 38   \n295  55.0        0                      1820         0                 38   \n296  45.0        0                      2060         1                 60   \n297  45.0        0                      2413         0                 38   \n298  50.0        0                       196         0                 45   \n\n     high_blood_pressure  platelets  serum_creatinine  serum_sodium  sex  \\\n0                      1  265000.00               1.9           130    1   \n1                      0  263358.03               1.1           136    1   \n2                      0  162000.00               1.3           129    1   \n3                      0  210000.00               1.9           137    1   \n4                      0  327000.00               2.7           116    0   \n..                   ...        ...               ...           ...  ...   \n294                    1  155000.00               1.1           143    1   \n295                    0  270000.00               1.2           139    0   \n296                    0  742000.00               0.8           138    0   \n297                    0  140000.00               1.4           140    1   \n298                    0  395000.00               1.6           136    1   \n\n     smoking  DEATH_EVENT  \n0          0            1  \n1          0            1  \n2          1            1  \n3          0            1  \n4          0            1  \n..       ...          ...  \n294        1            0  \n295        0            0  \n296        0            0  \n297        1            0  \n298        1            0  \n\n[299 rows x 12 columns]",
      "text/html": "<div>\n<style scoped>\n    .dataframe tbody tr th:only-of-type {\n        vertical-align: middle;\n    }\n\n    .dataframe tbody tr th {\n        vertical-align: top;\n    }\n\n    .dataframe thead th {\n        text-align: right;\n    }\n</style>\n<table border=\"1\" class=\"dataframe\">\n  <thead>\n    <tr style=\"text-align: right;\">\n      <th></th>\n      <th>age</th>\n      <th>anaemia</th>\n      <th>creatinine_phosphokinase</th>\n      <th>diabetes</th>\n      <th>ejection_fraction</th>\n      <th>high_blood_pressure</th>\n      <th>platelets</th>\n      <th>serum_creatinine</th>\n      <th>serum_sodium</th>\n      <th>sex</th>\n      <th>smoking</th>\n      <th>DEATH_EVENT</th>\n    </tr>\n  </thead>\n  <tbody>\n    <tr>\n      <th>0</th>\n      <td>75.0</td>\n      <td>0</td>\n      <td>582</td>\n      <td>0</td>\n      <td>20</td>\n      <td>1</td>\n      <td>265000.00</td>\n      <td>1.9</td>\n      <td>130</td>\n      <td>1</td>\n      <td>0</td>\n      <td>1</td>\n    </tr>\n    <tr>\n      <th>1</th>\n      <td>55.0</td>\n      <td>0</td>\n      <td>7861</td>\n      <td>0</td>\n      <td>38</td>\n      <td>0</td>\n      <td>263358.03</td>\n      <td>1.1</td>\n      <td>136</td>\n      <td>1</td>\n      <td>0</td>\n      <td>1</td>\n    </tr>\n    <tr>\n      <th>2</th>\n      <td>65.0</td>\n      <td>0</td>\n      <td>146</td>\n      <td>0</td>\n      <td>20</td>\n      <td>0</td>\n      <td>162000.00</td>\n      <td>1.3</td>\n      <td>129</td>\n      <td>1</td>\n      <td>1</td>\n      <td>1</td>\n    </tr>\n    <tr>\n      <th>3</th>\n      <td>50.0</td>\n      <td>1</td>\n      <td>111</td>\n      <td>0</td>\n      <td>20</td>\n      <td>0</td>\n      <td>210000.00</td>\n      <td>1.9</td>\n      <td>137</td>\n      <td>1</td>\n      <td>0</td>\n      <td>1</td>\n    </tr>\n    <tr>\n      <th>4</th>\n      <td>65.0</td>\n      <td>1</td>\n      <td>160</td>\n      <td>1</td>\n      <td>20</td>\n      <td>0</td>\n      <td>327000.00</td>\n      <td>2.7</td>\n      <td>116</td>\n      <td>0</td>\n      <td>0</td>\n      <td>1</td>\n    </tr>\n    <tr>\n      <th>...</th>\n      <td>...</td>\n      <td>...</td>\n      <td>...</td>\n      <td>...</td>\n      <td>...</td>\n      <td>...</td>\n      <td>...</td>\n      <td>...</td>\n      <td>...</td>\n      <td>...</td>\n      <td>...</td>\n      <td>...</td>\n    </tr>\n    <tr>\n      <th>294</th>\n      <td>62.0</td>\n      <td>0</td>\n      <td>61</td>\n      <td>1</td>\n      <td>38</td>\n      <td>1</td>\n      <td>155000.00</td>\n      <td>1.1</td>\n      <td>143</td>\n      <td>1</td>\n      <td>1</td>\n      <td>0</td>\n    </tr>\n    <tr>\n      <th>295</th>\n      <td>55.0</td>\n      <td>0</td>\n      <td>1820</td>\n      <td>0</td>\n      <td>38</td>\n      <td>0</td>\n      <td>270000.00</td>\n      <td>1.2</td>\n      <td>139</td>\n      <td>0</td>\n      <td>0</td>\n      <td>0</td>\n    </tr>\n    <tr>\n      <th>296</th>\n      <td>45.0</td>\n      <td>0</td>\n      <td>2060</td>\n      <td>1</td>\n      <td>60</td>\n      <td>0</td>\n      <td>742000.00</td>\n      <td>0.8</td>\n      <td>138</td>\n      <td>0</td>\n      <td>0</td>\n      <td>0</td>\n    </tr>\n    <tr>\n      <th>297</th>\n      <td>45.0</td>\n      <td>0</td>\n      <td>2413</td>\n      <td>0</td>\n      <td>38</td>\n      <td>0</td>\n      <td>140000.00</td>\n      <td>1.4</td>\n      <td>140</td>\n      <td>1</td>\n      <td>1</td>\n      <td>0</td>\n    </tr>\n    <tr>\n      <th>298</th>\n      <td>50.0</td>\n      <td>0</td>\n      <td>196</td>\n      <td>0</td>\n      <td>45</td>\n      <td>0</td>\n      <td>395000.00</td>\n      <td>1.6</td>\n      <td>136</td>\n      <td>1</td>\n      <td>1</td>\n      <td>0</td>\n    </tr>\n  </tbody>\n</table>\n<p>299 rows × 12 columns</p>\n</div>"
     },
     "execution_count": 38,
     "metadata": {},
     "output_type": "execute_result"
    }
   ],
   "source": [
    "new_df.drop(\"time\",axis=1,inplace=True)\n",
    "new_df\n",
    "# il tempo di osservazione del paziente non incide sulla predizione"
   ],
   "metadata": {
    "collapsed": false,
    "ExecuteTime": {
     "start_time": "2023-06-06T12:04:26.083355Z",
     "end_time": "2023-06-06T12:04:26.085725Z"
    }
   }
  },
  {
   "cell_type": "code",
   "execution_count": 39,
   "outputs": [],
   "source": [
    "y = new_df[\"DEATH_EVENT\"]\n",
    "new_df.drop(\"DEATH_EVENT\",axis=1,inplace=True)"
   ],
   "metadata": {
    "collapsed": false,
    "ExecuteTime": {
     "start_time": "2023-06-06T12:05:26.798580Z",
     "end_time": "2023-06-06T12:05:26.814125Z"
    }
   }
  },
  {
   "cell_type": "code",
   "execution_count": 43,
   "outputs": [
    {
     "data": {
      "text/plain": "      age  anaemia  creatinine_phosphokinase  diabetes  ejection_fraction  \\\n280  70.0        0                      2695         1                 40   \n248  40.0        0                       624         0                 35   \n126  46.0        0                       168         1                 17   \n171  52.0        0                      3966         0                 40   \n71   58.0        0                       582         1                 35   \n..    ...      ...                       ...       ...                ...   \n251  55.0        0                       572         1                 35   \n192  50.0        1                       121         1                 40   \n117  85.0        1                       102         0                 60   \n47   60.0        0                       582         1                 38   \n172  70.0        1                       171         0                 60   \n\n     high_blood_pressure  platelets  serum_creatinine  serum_sodium  sex  \\\n280                    0   241000.0               1.0           137    1   \n248                    0   301000.0               1.0           142    1   \n126                    1   271000.0               2.1           124    0   \n171                    0   325000.0               0.9           140    1   \n71                     0   122000.0               0.9           139    1   \n..                   ...        ...               ...           ...  ...   \n251                    0   231000.0               0.8           143    0   \n192                    0   260000.0               0.7           130    1   \n117                    0   507000.0               3.2           138    0   \n47                     1   451000.0               0.6           138    1   \n172                    1   176000.0               1.1           145    1   \n\n     smoking  death  \n280        0      0  \n248        1      0  \n126        0      1  \n171        1      0  \n71         1      0  \n..       ...    ...  \n251        0      0  \n192        0      0  \n117        0      0  \n47         1      1  \n172        1      0  \n\n[199 rows x 12 columns]",
      "text/html": "<div>\n<style scoped>\n    .dataframe tbody tr th:only-of-type {\n        vertical-align: middle;\n    }\n\n    .dataframe tbody tr th {\n        vertical-align: top;\n    }\n\n    .dataframe thead th {\n        text-align: right;\n    }\n</style>\n<table border=\"1\" class=\"dataframe\">\n  <thead>\n    <tr style=\"text-align: right;\">\n      <th></th>\n      <th>age</th>\n      <th>anaemia</th>\n      <th>creatinine_phosphokinase</th>\n      <th>diabetes</th>\n      <th>ejection_fraction</th>\n      <th>high_blood_pressure</th>\n      <th>platelets</th>\n      <th>serum_creatinine</th>\n      <th>serum_sodium</th>\n      <th>sex</th>\n      <th>smoking</th>\n      <th>death</th>\n    </tr>\n  </thead>\n  <tbody>\n    <tr>\n      <th>280</th>\n      <td>70.0</td>\n      <td>0</td>\n      <td>2695</td>\n      <td>1</td>\n      <td>40</td>\n      <td>0</td>\n      <td>241000.0</td>\n      <td>1.0</td>\n      <td>137</td>\n      <td>1</td>\n      <td>0</td>\n      <td>0</td>\n    </tr>\n    <tr>\n      <th>248</th>\n      <td>40.0</td>\n      <td>0</td>\n      <td>624</td>\n      <td>0</td>\n      <td>35</td>\n      <td>0</td>\n      <td>301000.0</td>\n      <td>1.0</td>\n      <td>142</td>\n      <td>1</td>\n      <td>1</td>\n      <td>0</td>\n    </tr>\n    <tr>\n      <th>126</th>\n      <td>46.0</td>\n      <td>0</td>\n      <td>168</td>\n      <td>1</td>\n      <td>17</td>\n      <td>1</td>\n      <td>271000.0</td>\n      <td>2.1</td>\n      <td>124</td>\n      <td>0</td>\n      <td>0</td>\n      <td>1</td>\n    </tr>\n    <tr>\n      <th>171</th>\n      <td>52.0</td>\n      <td>0</td>\n      <td>3966</td>\n      <td>0</td>\n      <td>40</td>\n      <td>0</td>\n      <td>325000.0</td>\n      <td>0.9</td>\n      <td>140</td>\n      <td>1</td>\n      <td>1</td>\n      <td>0</td>\n    </tr>\n    <tr>\n      <th>71</th>\n      <td>58.0</td>\n      <td>0</td>\n      <td>582</td>\n      <td>1</td>\n      <td>35</td>\n      <td>0</td>\n      <td>122000.0</td>\n      <td>0.9</td>\n      <td>139</td>\n      <td>1</td>\n      <td>1</td>\n      <td>0</td>\n    </tr>\n    <tr>\n      <th>...</th>\n      <td>...</td>\n      <td>...</td>\n      <td>...</td>\n      <td>...</td>\n      <td>...</td>\n      <td>...</td>\n      <td>...</td>\n      <td>...</td>\n      <td>...</td>\n      <td>...</td>\n      <td>...</td>\n      <td>...</td>\n    </tr>\n    <tr>\n      <th>251</th>\n      <td>55.0</td>\n      <td>0</td>\n      <td>572</td>\n      <td>1</td>\n      <td>35</td>\n      <td>0</td>\n      <td>231000.0</td>\n      <td>0.8</td>\n      <td>143</td>\n      <td>0</td>\n      <td>0</td>\n      <td>0</td>\n    </tr>\n    <tr>\n      <th>192</th>\n      <td>50.0</td>\n      <td>1</td>\n      <td>121</td>\n      <td>1</td>\n      <td>40</td>\n      <td>0</td>\n      <td>260000.0</td>\n      <td>0.7</td>\n      <td>130</td>\n      <td>1</td>\n      <td>0</td>\n      <td>0</td>\n    </tr>\n    <tr>\n      <th>117</th>\n      <td>85.0</td>\n      <td>1</td>\n      <td>102</td>\n      <td>0</td>\n      <td>60</td>\n      <td>0</td>\n      <td>507000.0</td>\n      <td>3.2</td>\n      <td>138</td>\n      <td>0</td>\n      <td>0</td>\n      <td>0</td>\n    </tr>\n    <tr>\n      <th>47</th>\n      <td>60.0</td>\n      <td>0</td>\n      <td>582</td>\n      <td>1</td>\n      <td>38</td>\n      <td>1</td>\n      <td>451000.0</td>\n      <td>0.6</td>\n      <td>138</td>\n      <td>1</td>\n      <td>1</td>\n      <td>1</td>\n    </tr>\n    <tr>\n      <th>172</th>\n      <td>70.0</td>\n      <td>1</td>\n      <td>171</td>\n      <td>0</td>\n      <td>60</td>\n      <td>1</td>\n      <td>176000.0</td>\n      <td>1.1</td>\n      <td>145</td>\n      <td>1</td>\n      <td>1</td>\n      <td>0</td>\n    </tr>\n  </tbody>\n</table>\n<p>199 rows × 12 columns</p>\n</div>"
     },
     "execution_count": 43,
     "metadata": {},
     "output_type": "execute_result"
    }
   ],
   "source": [
    "from sklearn.model_selection import train_test_split\n",
    "X_train, X_test, y_train, y_test = train_test_split(new_df, y,test_size=1/3,random_state=0)\n",
    "train = X_train.assign(death=y_train)\n",
    "test = X_test.assign(death=y_test)\n",
    "train"
   ],
   "metadata": {
    "collapsed": false,
    "ExecuteTime": {
     "start_time": "2023-06-06T12:09:35.054543Z",
     "end_time": "2023-06-06T12:09:35.071395Z"
    }
   }
  },
  {
   "cell_type": "code",
   "execution_count": 44,
   "outputs": [],
   "source": [
    "from sklearn.tree import DecisionTreeClassifier\n",
    "from sklearn.linear_model import LogisticRegression\n",
    "from sklearn.dummy import DummyClassifier\n",
    "from sklearn.metrics import  accuracy_score\n",
    "from sklearn.metrics import confusion_matrix\n",
    "\n",
    "def test_model(name ,model,train_data, test_data, train_labels, test_labels):\n",
    "    model.fit(train_data,train_labels)\n",
    "    train_preds = np.round(model.predict(train_data))\n",
    "    test_preds = np.round(model.predict(test_data))\n",
    "    print(f\" ===== {name} =====\")\n",
    "    print(f\"Accuracy on train {accuracy_score(train_labels, train_preds)}\")\n",
    "    print(f\"Accuracy on test {accuracy_score(test_labels, test_preds)}\")\n",
    "    print(\"Confusion matrix on test\")\n",
    "    print(confusion_matrix(test_labels, test_preds))\n"
   ],
   "metadata": {
    "collapsed": false,
    "ExecuteTime": {
     "start_time": "2023-06-06T12:09:39.223013Z",
     "end_time": "2023-06-06T12:09:39.230161Z"
    }
   }
  },
  {
   "cell_type": "code",
   "execution_count": 45,
   "outputs": [
    {
     "name": "stdout",
     "output_type": "stream",
     "text": [
      " ===== DT =====\n",
      "Accuracy on train 1.0\n",
      "Accuracy on test 0.64\n",
      "Confusion matrix on test\n",
      "[[50 18]\n",
      " [18 14]]\n",
      " ===== LR =====\n",
      "Accuracy on train 0.7738693467336684\n",
      "Accuracy on test 0.68\n",
      "Confusion matrix on test\n",
      "[[59  9]\n",
      " [23  9]]\n",
      " ===== dummy =====\n",
      "Accuracy on train 0.678391959798995\n",
      "Accuracy on test 0.68\n",
      "Confusion matrix on test\n",
      "[[68  0]\n",
      " [32  0]]\n"
     ]
    }
   ],
   "source": [
    "classifiers = [DecisionTreeClassifier(), LogisticRegression(), DummyClassifier()]\n",
    "\n",
    "names = [\"DT\",\"LR\", \"dummy\"]\n",
    "\n",
    "for model,name in zip(classifiers,names):\n",
    "    test_model(name,model, X_train, X_test, y_train, y_test)"
   ],
   "metadata": {
    "collapsed": false,
    "ExecuteTime": {
     "start_time": "2023-06-06T12:09:40.870912Z",
     "end_time": "2023-06-06T12:09:40.892339Z"
    }
   }
  },
  {
   "cell_type": "markdown",
   "source": [
    "Sia nel Decision Tree che nella Logistic Regression l'accuracy calcolata nella fase di train è migliore in quella calcolata nella fase di test, questo vuole dire che entrambi i modelli fanno dell'overfitting"
   ],
   "metadata": {
    "collapsed": false
   }
  },
  {
   "cell_type": "markdown",
   "source": [
    "# 2.2\n",
    "Confrontare l’accuratezza ottenuta nel punto precedente con l’accuratezza si ottiene con una\n",
    "5 Fold cross validation.\n"
   ],
   "metadata": {
    "collapsed": false
   }
  },
  {
   "cell_type": "code",
   "execution_count": 46,
   "outputs": [
    {
     "name": "stdout",
     "output_type": "stream",
     "text": [
      "Accuracy of :DT is:  0.6688700564971752\n",
      "[0.55       0.71666667 0.71666667 0.7        0.66101695]\n",
      "Accuracy of :LR is:  0.7324293785310735\n",
      "[0.75       0.73333333 0.68333333 0.76666667 0.72881356]\n",
      "Accuracy of :dummy is:  0.6789265536723164\n",
      "[0.66666667 0.68333333 0.68333333 0.68333333 0.6779661 ]\n"
     ]
    }
   ],
   "source": [
    "from sklearn.model_selection import cross_val_score\n",
    "\n",
    "for model,name in zip(classifiers,names):\n",
    "    scores = cross_val_score(model, new_df,y, cv=5)\n",
    "    print(f\"Accuracy of :{name} is: \",scores.mean())\n",
    "    print(scores)\n"
   ],
   "metadata": {
    "collapsed": false,
    "ExecuteTime": {
     "start_time": "2023-06-06T12:13:03.970818Z",
     "end_time": "2023-06-06T12:13:04.044122Z"
    }
   }
  },
  {
   "cell_type": "markdown",
   "source": [
    "# 2.3\n",
    "Considerare il dataset originale, eliminare l’attributo time, scalare il valore degli attributi a\n",
    "\n",
    "un intervallo (0,1) e allenare sui dati un modello di LinearRegression (https://scikit-\n",
    "learn.org/stable/modules/generated/sklearn.linear_model.LinearRegression.html#sklearn.linear\n",
    "\n",
    "_model.LinearRegression). Analizzare poi i coefficienti del modello e individuare i 5 attributi che\n",
    "in valore assoluto hanno il valore più elevato. Costruire un nuovo dataset composto unicamente\n",
    "di quei 5 attributi, e usare la tecnica 5 Fold cross validation per valutare se l’accuratezza del\n",
    "modello Decision Tree migliora."
   ],
   "metadata": {
    "collapsed": false
   }
  },
  {
   "cell_type": "code",
   "execution_count": 49,
   "outputs": [
    {
     "data": {
      "text/plain": "0      1\n1      1\n2      1\n3      1\n4      1\n      ..\n294    0\n295    0\n296    0\n297    0\n298    0\nName: DEATH_EVENT, Length: 299, dtype: int64"
     },
     "execution_count": 49,
     "metadata": {},
     "output_type": "execute_result"
    }
   ],
   "source": [
    "from sklearn.preprocessing import MinMaxScaler\n",
    "scaled_df = new_df.copy()\n",
    "model_lr = classifiers[1]\n",
    "\n",
    "scaler = MinMaxScaler(feature_range=(0, 1))\n",
    "scaled_df = scaler.fit_transform(scaled_df)\n",
    "scaled_df = pd.DataFrame(scaled_df,columns=new_df.columns.tolist())\n"
   ],
   "metadata": {
    "collapsed": false,
    "ExecuteTime": {
     "start_time": "2023-06-06T12:20:16.336570Z",
     "end_time": "2023-06-06T12:20:16.343030Z"
    }
   }
  },
  {
   "cell_type": "code",
   "execution_count": 50,
   "outputs": [
    {
     "data": {
      "text/plain": "0.71"
     },
     "execution_count": 50,
     "metadata": {},
     "output_type": "execute_result"
    }
   ],
   "source": [
    "X_train, X_test, y_train, y_test = train_test_split(scaled_df, y,test_size=1/3,random_state=0)\n",
    "model_lr.fit(X_train,y_train)\n",
    "preds = model_lr.predict(X_test)\n",
    "score = accuracy_score(y_test,preds)\n",
    "score"
   ],
   "metadata": {
    "collapsed": false,
    "ExecuteTime": {
     "start_time": "2023-06-06T12:21:15.885062Z",
     "end_time": "2023-06-06T12:21:15.909117Z"
    }
   }
  },
  {
   "cell_type": "code",
   "execution_count": 51,
   "outputs": [
    {
     "data": {
      "text/plain": "array([[ 2.05685039,  0.1339354 ,  0.76018771,  0.0092003 , -2.51168851,\n         0.27268921, -0.10465316,  1.51534293, -1.26299002, -0.16780091,\n        -0.07027497]])"
     },
     "execution_count": 51,
     "metadata": {},
     "output_type": "execute_result"
    }
   ],
   "source": [
    "model_lr.coef_"
   ],
   "metadata": {
    "collapsed": false,
    "ExecuteTime": {
     "start_time": "2023-06-06T12:21:26.545319Z",
     "end_time": "2023-06-06T12:21:26.568368Z"
    }
   }
  },
  {
   "cell_type": "code",
   "execution_count": 52,
   "outputs": [
    {
     "data": {
      "text/plain": "array([[2.05685039, 0.1339354 , 0.76018771, 0.0092003 , 2.51168851,\n        0.27268921, 0.10465316, 1.51534293, 1.26299002, 0.16780091,\n        0.07027497]])"
     },
     "execution_count": 52,
     "metadata": {},
     "output_type": "execute_result"
    }
   ],
   "source": [
    "abs_values =abs(model_lr.coef_)\n",
    "abs_values"
   ],
   "metadata": {
    "collapsed": false,
    "ExecuteTime": {
     "start_time": "2023-06-06T12:22:43.208557Z",
     "end_time": "2023-06-06T12:22:43.231109Z"
    }
   }
  },
  {
   "cell_type": "code",
   "execution_count": 56,
   "outputs": [
    {
     "data": {
      "text/plain": "      age  creatinine_phosphokinase  ejection_fraction  serum_creatinine  \\\n0    75.0                       582                 20               1.9   \n1    55.0                      7861                 38               1.1   \n2    65.0                       146                 20               1.3   \n3    50.0                       111                 20               1.9   \n4    65.0                       160                 20               2.7   \n..    ...                       ...                ...               ...   \n294  62.0                        61                 38               1.1   \n295  55.0                      1820                 38               1.2   \n296  45.0                      2060                 60               0.8   \n297  45.0                      2413                 38               1.4   \n298  50.0                       196                 45               1.6   \n\n     serum_sodium  \n0             130  \n1             136  \n2             129  \n3             137  \n4             116  \n..            ...  \n294           143  \n295           139  \n296           138  \n297           140  \n298           136  \n\n[299 rows x 5 columns]",
      "text/html": "<div>\n<style scoped>\n    .dataframe tbody tr th:only-of-type {\n        vertical-align: middle;\n    }\n\n    .dataframe tbody tr th {\n        vertical-align: top;\n    }\n\n    .dataframe thead th {\n        text-align: right;\n    }\n</style>\n<table border=\"1\" class=\"dataframe\">\n  <thead>\n    <tr style=\"text-align: right;\">\n      <th></th>\n      <th>age</th>\n      <th>creatinine_phosphokinase</th>\n      <th>ejection_fraction</th>\n      <th>serum_creatinine</th>\n      <th>serum_sodium</th>\n    </tr>\n  </thead>\n  <tbody>\n    <tr>\n      <th>0</th>\n      <td>75.0</td>\n      <td>582</td>\n      <td>20</td>\n      <td>1.9</td>\n      <td>130</td>\n    </tr>\n    <tr>\n      <th>1</th>\n      <td>55.0</td>\n      <td>7861</td>\n      <td>38</td>\n      <td>1.1</td>\n      <td>136</td>\n    </tr>\n    <tr>\n      <th>2</th>\n      <td>65.0</td>\n      <td>146</td>\n      <td>20</td>\n      <td>1.3</td>\n      <td>129</td>\n    </tr>\n    <tr>\n      <th>3</th>\n      <td>50.0</td>\n      <td>111</td>\n      <td>20</td>\n      <td>1.9</td>\n      <td>137</td>\n    </tr>\n    <tr>\n      <th>4</th>\n      <td>65.0</td>\n      <td>160</td>\n      <td>20</td>\n      <td>2.7</td>\n      <td>116</td>\n    </tr>\n    <tr>\n      <th>...</th>\n      <td>...</td>\n      <td>...</td>\n      <td>...</td>\n      <td>...</td>\n      <td>...</td>\n    </tr>\n    <tr>\n      <th>294</th>\n      <td>62.0</td>\n      <td>61</td>\n      <td>38</td>\n      <td>1.1</td>\n      <td>143</td>\n    </tr>\n    <tr>\n      <th>295</th>\n      <td>55.0</td>\n      <td>1820</td>\n      <td>38</td>\n      <td>1.2</td>\n      <td>139</td>\n    </tr>\n    <tr>\n      <th>296</th>\n      <td>45.0</td>\n      <td>2060</td>\n      <td>60</td>\n      <td>0.8</td>\n      <td>138</td>\n    </tr>\n    <tr>\n      <th>297</th>\n      <td>45.0</td>\n      <td>2413</td>\n      <td>38</td>\n      <td>1.4</td>\n      <td>140</td>\n    </tr>\n    <tr>\n      <th>298</th>\n      <td>50.0</td>\n      <td>196</td>\n      <td>45</td>\n      <td>1.6</td>\n      <td>136</td>\n    </tr>\n  </tbody>\n</table>\n<p>299 rows × 5 columns</p>\n</div>"
     },
     "execution_count": 56,
     "metadata": {},
     "output_type": "execute_result"
    }
   ],
   "source": [
    "index = [0, 2, 4, 7, 8]\n",
    "new_coef_df = new_df.iloc[:,index]\n",
    "new_coef_df"
   ],
   "metadata": {
    "collapsed": false,
    "ExecuteTime": {
     "start_time": "2023-06-06T12:25:18.691768Z",
     "end_time": "2023-06-06T12:25:18.696243Z"
    }
   }
  },
  {
   "cell_type": "code",
   "execution_count": 58,
   "outputs": [
    {
     "name": "stdout",
     "output_type": "stream",
     "text": [
      "Accuracy of DT is:  0.6758757062146892\n",
      "[0.6        0.73333333 0.6        0.68333333 0.76271186]\n"
     ]
    }
   ],
   "source": [
    "model_td =  classifiers[0]\n",
    "scores = cross_val_score(model_td, new_coef_df, y, cv=5)\n",
    "print(f\"Accuracy of DT is: \",scores.mean())\n",
    "print(scores)"
   ],
   "metadata": {
    "collapsed": false,
    "ExecuteTime": {
     "start_time": "2023-06-06T12:27:38.923768Z",
     "end_time": "2023-06-06T12:27:38.948078Z"
    }
   }
  },
  {
   "cell_type": "markdown",
   "source": [
    "# 2.4\n",
    "Considerare il dataset originale, eliminare l’attributo time, e creare una pipeline in cui il\n",
    "valore degli attributi age e platelets sia discretizzato in 6 intervalli e gli attributi non booleani\n",
    "vengano ricondotti a valori nell’intervallo (0,1) e normalizzati con la funzione Normalizer. Si\n",
    "applichi poi un modello DecisionTree e si valuti l’accuratezza."
   ],
   "metadata": {
    "collapsed": false
   }
  },
  {
   "cell_type": "code",
   "execution_count": 59,
   "outputs": [
    {
     "name": "stdout",
     "output_type": "stream",
     "text": [
      "<class 'pandas.core.frame.DataFrame'>\n",
      "RangeIndex: 299 entries, 0 to 298\n",
      "Data columns (total 11 columns):\n",
      " #   Column                    Non-Null Count  Dtype  \n",
      "---  ------                    --------------  -----  \n",
      " 0   age                       299 non-null    float64\n",
      " 1   anaemia                   299 non-null    int64  \n",
      " 2   creatinine_phosphokinase  299 non-null    int64  \n",
      " 3   diabetes                  299 non-null    int64  \n",
      " 4   ejection_fraction         299 non-null    int64  \n",
      " 5   high_blood_pressure       299 non-null    int64  \n",
      " 6   platelets                 299 non-null    float64\n",
      " 7   serum_creatinine          299 non-null    float64\n",
      " 8   serum_sodium              299 non-null    int64  \n",
      " 9   sex                       299 non-null    int64  \n",
      " 10  smoking                   299 non-null    int64  \n",
      "dtypes: float64(3), int64(8)\n",
      "memory usage: 25.8 KB\n"
     ]
    }
   ],
   "source": [
    "new_df.info()"
   ],
   "metadata": {
    "collapsed": false,
    "ExecuteTime": {
     "start_time": "2023-06-06T12:28:46.196995Z",
     "end_time": "2023-06-06T12:28:46.219336Z"
    }
   }
  },
  {
   "cell_type": "code",
   "execution_count": 66,
   "outputs": [
    {
     "ename": "TypeError",
     "evalue": "'KBinsDiscretizer' object is not iterable",
     "output_type": "error",
     "traceback": [
      "\u001B[0;31m---------------------------------------------------------------------------\u001B[0m",
      "\u001B[0;31mTypeError\u001B[0m                                 Traceback (most recent call last)",
      "\u001B[0;32m/var/folders/zk/y_05r4dd4q51x5hx9n0nwwk80000gn/T/ipykernel_1320/290607458.py\u001B[0m in \u001B[0;36m<module>\u001B[0;34m\u001B[0m\n\u001B[1;32m      8\u001B[0m     \u001B[0mtransformers\u001B[0m\u001B[0;34m=\u001B[0m\u001B[0;34m(\u001B[0m\u001B[0;34m[\u001B[0m\u001B[0;34m'kbin'\u001B[0m\u001B[0;34m,\u001B[0m\u001B[0mkbin\u001B[0m\u001B[0;34m,\u001B[0m\u001B[0;34m[\u001B[0m\u001B[0;34m\"age\"\u001B[0m\u001B[0;34m,\u001B[0m \u001B[0;34m\"platelets\"\u001B[0m\u001B[0;34m]\u001B[0m\u001B[0;34m]\u001B[0m\u001B[0;34m)\u001B[0m\u001B[0;34m,\u001B[0m\u001B[0mremainder\u001B[0m\u001B[0;34m=\u001B[0m\u001B[0;34m\"passthrough\"\u001B[0m\u001B[0;34m\u001B[0m\u001B[0;34m\u001B[0m\u001B[0m\n\u001B[1;32m      9\u001B[0m )\n\u001B[0;32m---> 10\u001B[0;31m \u001B[0mverify\u001B[0m \u001B[0;34m=\u001B[0m \u001B[0mcolumn_trasform\u001B[0m\u001B[0;34m.\u001B[0m\u001B[0mfit_transform\u001B[0m\u001B[0;34m(\u001B[0m\u001B[0mnew_df\u001B[0m\u001B[0;34m)\u001B[0m\u001B[0;34m\u001B[0m\u001B[0;34m\u001B[0m\u001B[0m\n\u001B[0m\u001B[1;32m     11\u001B[0m \u001B[0mverify\u001B[0m\u001B[0;34m\u001B[0m\u001B[0;34m\u001B[0m\u001B[0m\n",
      "\u001B[0;32m/opt/anaconda3/lib/python3.9/site-packages/sklearn/compose/_column_transformer.py\u001B[0m in \u001B[0;36mfit_transform\u001B[0;34m(self, X, y)\u001B[0m\n\u001B[1;32m    669\u001B[0m         \u001B[0;31m# set n_features_in_ attribute\u001B[0m\u001B[0;34m\u001B[0m\u001B[0;34m\u001B[0m\u001B[0m\n\u001B[1;32m    670\u001B[0m         \u001B[0mself\u001B[0m\u001B[0;34m.\u001B[0m\u001B[0m_check_n_features\u001B[0m\u001B[0;34m(\u001B[0m\u001B[0mX\u001B[0m\u001B[0;34m,\u001B[0m \u001B[0mreset\u001B[0m\u001B[0;34m=\u001B[0m\u001B[0;32mTrue\u001B[0m\u001B[0;34m)\u001B[0m\u001B[0;34m\u001B[0m\u001B[0;34m\u001B[0m\u001B[0m\n\u001B[0;32m--> 671\u001B[0;31m         \u001B[0mself\u001B[0m\u001B[0;34m.\u001B[0m\u001B[0m_validate_transformers\u001B[0m\u001B[0;34m(\u001B[0m\u001B[0;34m)\u001B[0m\u001B[0;34m\u001B[0m\u001B[0;34m\u001B[0m\u001B[0m\n\u001B[0m\u001B[1;32m    672\u001B[0m         \u001B[0mself\u001B[0m\u001B[0;34m.\u001B[0m\u001B[0m_validate_column_callables\u001B[0m\u001B[0;34m(\u001B[0m\u001B[0mX\u001B[0m\u001B[0;34m)\u001B[0m\u001B[0;34m\u001B[0m\u001B[0;34m\u001B[0m\u001B[0m\n\u001B[1;32m    673\u001B[0m         \u001B[0mself\u001B[0m\u001B[0;34m.\u001B[0m\u001B[0m_validate_remainder\u001B[0m\u001B[0;34m(\u001B[0m\u001B[0mX\u001B[0m\u001B[0;34m)\u001B[0m\u001B[0;34m\u001B[0m\u001B[0;34m\u001B[0m\u001B[0m\n",
      "\u001B[0;32m/opt/anaconda3/lib/python3.9/site-packages/sklearn/compose/_column_transformer.py\u001B[0m in \u001B[0;36m_validate_transformers\u001B[0;34m(self)\u001B[0m\n\u001B[1;32m    322\u001B[0m             \u001B[0;32mreturn\u001B[0m\u001B[0;34m\u001B[0m\u001B[0;34m\u001B[0m\u001B[0m\n\u001B[1;32m    323\u001B[0m \u001B[0;34m\u001B[0m\u001B[0m\n\u001B[0;32m--> 324\u001B[0;31m         \u001B[0mnames\u001B[0m\u001B[0;34m,\u001B[0m \u001B[0mtransformers\u001B[0m\u001B[0;34m,\u001B[0m \u001B[0m_\u001B[0m \u001B[0;34m=\u001B[0m \u001B[0mzip\u001B[0m\u001B[0;34m(\u001B[0m\u001B[0;34m*\u001B[0m\u001B[0mself\u001B[0m\u001B[0;34m.\u001B[0m\u001B[0mtransformers\u001B[0m\u001B[0;34m)\u001B[0m\u001B[0;34m\u001B[0m\u001B[0;34m\u001B[0m\u001B[0m\n\u001B[0m\u001B[1;32m    325\u001B[0m \u001B[0;34m\u001B[0m\u001B[0m\n\u001B[1;32m    326\u001B[0m         \u001B[0;31m# validate names\u001B[0m\u001B[0;34m\u001B[0m\u001B[0;34m\u001B[0m\u001B[0m\n",
      "\u001B[0;31mTypeError\u001B[0m: 'KBinsDiscretizer' object is not iterable"
     ]
    }
   ],
   "source": [
    "from sklearn.pipeline import Pipeline\n",
    "from sklearn.preprocessing import KBinsDiscretizer\n",
    "from sklearn.compose import ColumnTransformer\n",
    "\n",
    "kbin = KBinsDiscretizer(n_bins=6, encode=\"ordinal\", strategy=\"uniform\")\n",
    "\n",
    "column_trasform = ColumnTransformer(\n",
    "    transformers=(['kbin',kbin,[\"age\", \"platelets\"]]),remainder=\"passthrough\"\n",
    ")\n",
    "verify = column_trasform.fit_transform(new_df)\n",
    "verify"
   ],
   "metadata": {
    "collapsed": false
   }
  },
  {
   "cell_type": "code",
   "execution_count": null,
   "outputs": [],
   "source": [],
   "metadata": {
    "collapsed": false
   }
  }
 ],
 "metadata": {
  "kernelspec": {
   "display_name": "Python 3",
   "language": "python",
   "name": "python3"
  },
  "language_info": {
   "codemirror_mode": {
    "name": "ipython",
    "version": 2
   },
   "file_extension": ".py",
   "mimetype": "text/x-python",
   "name": "python",
   "nbconvert_exporter": "python",
   "pygments_lexer": "ipython2",
   "version": "2.7.6"
  }
 },
 "nbformat": 4,
 "nbformat_minor": 0
}
