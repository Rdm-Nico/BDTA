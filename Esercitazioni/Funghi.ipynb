{
 "cells": [
  {
   "cell_type": "markdown",
   "source": [
    "# 1 Scaricare il [dataset](https://archive.ics.uci.edu/ml/datasets/mushroom) e inserirlo nel dataframe\n"
   ],
   "metadata": {
    "collapsed": false,
    "id": "3D6WtKPGcGgA"
   }
  },
  {
   "cell_type": "code",
   "execution_count": 1,
   "outputs": [],
   "source": [
    "import pandas as pd"
   ],
   "metadata": {
    "ExecuteTime": {
     "start_time": "2023-05-22T15:33:43.684937Z",
     "end_time": "2023-05-22T15:33:45.719607Z"
    },
    "id": "Cn_BIge6cGgC"
   }
  },
  {
   "cell_type": "code",
   "execution_count": 2,
   "outputs": [
    {
     "data": {
      "text/plain": "['cap-shape',\n 'cap-surface',\n 'cap-color',\n 'bruises?',\n 'odor',\n 'gill-attachment',\n 'gill-spacing',\n 'gill-size',\n 'gill-color',\n 'stalk-shape',\n 'stalk-root',\n 'stalk-surface-above-ring',\n 'stalk-surface-below-ring',\n 'stalk-color-above-ring',\n 'stalk-color-below-ring',\n 'veil-type',\n 'veil-color',\n 'ring-number',\n 'ring-type',\n 'spore-print-color',\n 'population',\n 'habitat']"
     },
     "execution_count": 2,
     "metadata": {},
     "output_type": "execute_result"
    }
   ],
   "source": [
    "column_names = ['cap-shape','cap-surface','cap-color','bruises?','odor','gill-attachment','gill-spacing','gill-size','gill-color','stalk-shape','stalk-root','stalk-surface-above-ring','stalk-surface-below-ring','stalk-color-above-ring','stalk-color-below-ring','veil-type','veil-color','ring-number','ring-type','spore-print-color','population','habitat']\n",
    "column_names"
   ],
   "metadata": {
    "ExecuteTime": {
     "start_time": "2023-05-22T15:33:45.724810Z",
     "end_time": "2023-05-22T15:33:45.728324Z"
    },
    "id": "iYWV2W12cGgD",
    "outputId": "c6a9f8ec-00a4-43f7-91f6-43d636def792",
    "colab": {
     "base_uri": "https://localhost:8080/"
    }
   }
  },
  {
   "cell_type": "code",
   "execution_count": 22,
   "outputs": [
    {
     "data": {
      "text/plain": "     0  1  2  3  4  5  6  7  8  9   ... 13 14 15 16 17 18 19 20 21 22\n0     p  x  s  n  t  p  f  c  n  k  ...  s  w  w  p  w  o  p  k  s  u\n1     e  x  s  y  t  a  f  c  b  k  ...  s  w  w  p  w  o  p  n  n  g\n2     e  b  s  w  t  l  f  c  b  n  ...  s  w  w  p  w  o  p  n  n  m\n3     p  x  y  w  t  p  f  c  n  n  ...  s  w  w  p  w  o  p  k  s  u\n4     e  x  s  g  f  n  f  w  b  k  ...  s  w  w  p  w  o  e  n  a  g\n...  .. .. .. .. .. .. .. .. .. ..  ... .. .. .. .. .. .. .. .. .. ..\n8119  e  k  s  n  f  n  a  c  b  y  ...  s  o  o  p  o  o  p  b  c  l\n8120  e  x  s  n  f  n  a  c  b  y  ...  s  o  o  p  n  o  p  b  v  l\n8121  e  f  s  n  f  n  a  c  b  n  ...  s  o  o  p  o  o  p  b  c  l\n8122  p  k  y  n  f  y  f  c  n  b  ...  k  w  w  p  w  o  e  w  v  l\n8123  e  x  s  n  f  n  a  c  b  y  ...  s  o  o  p  o  o  p  o  c  l\n\n[8124 rows x 23 columns]",
      "text/html": "<div>\n<style scoped>\n    .dataframe tbody tr th:only-of-type {\n        vertical-align: middle;\n    }\n\n    .dataframe tbody tr th {\n        vertical-align: top;\n    }\n\n    .dataframe thead th {\n        text-align: right;\n    }\n</style>\n<table border=\"1\" class=\"dataframe\">\n  <thead>\n    <tr style=\"text-align: right;\">\n      <th></th>\n      <th>0</th>\n      <th>1</th>\n      <th>2</th>\n      <th>3</th>\n      <th>4</th>\n      <th>5</th>\n      <th>6</th>\n      <th>7</th>\n      <th>8</th>\n      <th>9</th>\n      <th>...</th>\n      <th>13</th>\n      <th>14</th>\n      <th>15</th>\n      <th>16</th>\n      <th>17</th>\n      <th>18</th>\n      <th>19</th>\n      <th>20</th>\n      <th>21</th>\n      <th>22</th>\n    </tr>\n  </thead>\n  <tbody>\n    <tr>\n      <th>0</th>\n      <td>p</td>\n      <td>x</td>\n      <td>s</td>\n      <td>n</td>\n      <td>t</td>\n      <td>p</td>\n      <td>f</td>\n      <td>c</td>\n      <td>n</td>\n      <td>k</td>\n      <td>...</td>\n      <td>s</td>\n      <td>w</td>\n      <td>w</td>\n      <td>p</td>\n      <td>w</td>\n      <td>o</td>\n      <td>p</td>\n      <td>k</td>\n      <td>s</td>\n      <td>u</td>\n    </tr>\n    <tr>\n      <th>1</th>\n      <td>e</td>\n      <td>x</td>\n      <td>s</td>\n      <td>y</td>\n      <td>t</td>\n      <td>a</td>\n      <td>f</td>\n      <td>c</td>\n      <td>b</td>\n      <td>k</td>\n      <td>...</td>\n      <td>s</td>\n      <td>w</td>\n      <td>w</td>\n      <td>p</td>\n      <td>w</td>\n      <td>o</td>\n      <td>p</td>\n      <td>n</td>\n      <td>n</td>\n      <td>g</td>\n    </tr>\n    <tr>\n      <th>2</th>\n      <td>e</td>\n      <td>b</td>\n      <td>s</td>\n      <td>w</td>\n      <td>t</td>\n      <td>l</td>\n      <td>f</td>\n      <td>c</td>\n      <td>b</td>\n      <td>n</td>\n      <td>...</td>\n      <td>s</td>\n      <td>w</td>\n      <td>w</td>\n      <td>p</td>\n      <td>w</td>\n      <td>o</td>\n      <td>p</td>\n      <td>n</td>\n      <td>n</td>\n      <td>m</td>\n    </tr>\n    <tr>\n      <th>3</th>\n      <td>p</td>\n      <td>x</td>\n      <td>y</td>\n      <td>w</td>\n      <td>t</td>\n      <td>p</td>\n      <td>f</td>\n      <td>c</td>\n      <td>n</td>\n      <td>n</td>\n      <td>...</td>\n      <td>s</td>\n      <td>w</td>\n      <td>w</td>\n      <td>p</td>\n      <td>w</td>\n      <td>o</td>\n      <td>p</td>\n      <td>k</td>\n      <td>s</td>\n      <td>u</td>\n    </tr>\n    <tr>\n      <th>4</th>\n      <td>e</td>\n      <td>x</td>\n      <td>s</td>\n      <td>g</td>\n      <td>f</td>\n      <td>n</td>\n      <td>f</td>\n      <td>w</td>\n      <td>b</td>\n      <td>k</td>\n      <td>...</td>\n      <td>s</td>\n      <td>w</td>\n      <td>w</td>\n      <td>p</td>\n      <td>w</td>\n      <td>o</td>\n      <td>e</td>\n      <td>n</td>\n      <td>a</td>\n      <td>g</td>\n    </tr>\n    <tr>\n      <th>...</th>\n      <td>...</td>\n      <td>...</td>\n      <td>...</td>\n      <td>...</td>\n      <td>...</td>\n      <td>...</td>\n      <td>...</td>\n      <td>...</td>\n      <td>...</td>\n      <td>...</td>\n      <td>...</td>\n      <td>...</td>\n      <td>...</td>\n      <td>...</td>\n      <td>...</td>\n      <td>...</td>\n      <td>...</td>\n      <td>...</td>\n      <td>...</td>\n      <td>...</td>\n      <td>...</td>\n    </tr>\n    <tr>\n      <th>8119</th>\n      <td>e</td>\n      <td>k</td>\n      <td>s</td>\n      <td>n</td>\n      <td>f</td>\n      <td>n</td>\n      <td>a</td>\n      <td>c</td>\n      <td>b</td>\n      <td>y</td>\n      <td>...</td>\n      <td>s</td>\n      <td>o</td>\n      <td>o</td>\n      <td>p</td>\n      <td>o</td>\n      <td>o</td>\n      <td>p</td>\n      <td>b</td>\n      <td>c</td>\n      <td>l</td>\n    </tr>\n    <tr>\n      <th>8120</th>\n      <td>e</td>\n      <td>x</td>\n      <td>s</td>\n      <td>n</td>\n      <td>f</td>\n      <td>n</td>\n      <td>a</td>\n      <td>c</td>\n      <td>b</td>\n      <td>y</td>\n      <td>...</td>\n      <td>s</td>\n      <td>o</td>\n      <td>o</td>\n      <td>p</td>\n      <td>n</td>\n      <td>o</td>\n      <td>p</td>\n      <td>b</td>\n      <td>v</td>\n      <td>l</td>\n    </tr>\n    <tr>\n      <th>8121</th>\n      <td>e</td>\n      <td>f</td>\n      <td>s</td>\n      <td>n</td>\n      <td>f</td>\n      <td>n</td>\n      <td>a</td>\n      <td>c</td>\n      <td>b</td>\n      <td>n</td>\n      <td>...</td>\n      <td>s</td>\n      <td>o</td>\n      <td>o</td>\n      <td>p</td>\n      <td>o</td>\n      <td>o</td>\n      <td>p</td>\n      <td>b</td>\n      <td>c</td>\n      <td>l</td>\n    </tr>\n    <tr>\n      <th>8122</th>\n      <td>p</td>\n      <td>k</td>\n      <td>y</td>\n      <td>n</td>\n      <td>f</td>\n      <td>y</td>\n      <td>f</td>\n      <td>c</td>\n      <td>n</td>\n      <td>b</td>\n      <td>...</td>\n      <td>k</td>\n      <td>w</td>\n      <td>w</td>\n      <td>p</td>\n      <td>w</td>\n      <td>o</td>\n      <td>e</td>\n      <td>w</td>\n      <td>v</td>\n      <td>l</td>\n    </tr>\n    <tr>\n      <th>8123</th>\n      <td>e</td>\n      <td>x</td>\n      <td>s</td>\n      <td>n</td>\n      <td>f</td>\n      <td>n</td>\n      <td>a</td>\n      <td>c</td>\n      <td>b</td>\n      <td>y</td>\n      <td>...</td>\n      <td>s</td>\n      <td>o</td>\n      <td>o</td>\n      <td>p</td>\n      <td>o</td>\n      <td>o</td>\n      <td>p</td>\n      <td>o</td>\n      <td>c</td>\n      <td>l</td>\n    </tr>\n  </tbody>\n</table>\n<p>8124 rows × 23 columns</p>\n</div>"
     },
     "execution_count": 22,
     "metadata": {},
     "output_type": "execute_result"
    }
   ],
   "source": [
    "data = pd.read_csv(\"Data/agaricus-lepiota.csv\",header=None) # con header=None specifica che c'è l'header ( che è vero)\n",
    "data"
   ],
   "metadata": {
    "ExecuteTime": {
     "start_time": "2023-05-22T15:36:55.980230Z",
     "end_time": "2023-05-22T15:36:56.009518Z"
    },
    "id": "Xp55mpJycGgD",
    "outputId": "21253024-cd8c-4137-ab35-dea369a53742",
    "colab": {
     "base_uri": "https://localhost:8080/",
     "height": 424
    }
   }
  },
  {
   "cell_type": "code",
   "execution_count": 23,
   "outputs": [
    {
     "data": {
      "text/plain": "0       p\n1       e\n2       e\n3       p\n4       e\n       ..\n8119    e\n8120    e\n8121    e\n8122    p\n8123    e\nName: 0, Length: 8124, dtype: object"
     },
     "execution_count": 23,
     "metadata": {},
     "output_type": "execute_result"
    }
   ],
   "source": [
    "target = data.iloc[:,0] # questa é la colonna del target\n",
    "target"
   ],
   "metadata": {
    "ExecuteTime": {
     "start_time": "2023-05-22T15:37:01.990610Z",
     "end_time": "2023-05-22T15:37:02.005388Z"
    },
    "id": "AfZOJYudcGgE",
    "outputId": "5394e00b-daaf-49bc-e51e-86b82e346f00",
    "colab": {
     "base_uri": "https://localhost:8080/"
    }
   }
  },
  {
   "cell_type": "code",
   "execution_count": 25,
   "outputs": [
    {
     "data": {
      "text/plain": "     cap-shape cap-surface cap-color bruises? odor gill-attachment  \\\n0            x           s         n        t    p               f   \n1            x           s         y        t    a               f   \n2            b           s         w        t    l               f   \n3            x           y         w        t    p               f   \n4            x           s         g        f    n               f   \n...        ...         ...       ...      ...  ...             ...   \n8119         k           s         n        f    n               a   \n8120         x           s         n        f    n               a   \n8121         f           s         n        f    n               a   \n8122         k           y         n        f    y               f   \n8123         x           s         n        f    n               a   \n\n     gill-spacing gill-size gill-color stalk-shape  ...  \\\n0               c         n          k           e  ...   \n1               c         b          k           e  ...   \n2               c         b          n           e  ...   \n3               c         n          n           e  ...   \n4               w         b          k           t  ...   \n...           ...       ...        ...         ...  ...   \n8119            c         b          y           e  ...   \n8120            c         b          y           e  ...   \n8121            c         b          n           e  ...   \n8122            c         n          b           t  ...   \n8123            c         b          y           e  ...   \n\n     stalk-surface-below-ring stalk-color-above-ring stalk-color-below-ring  \\\n0                           s                      w                      w   \n1                           s                      w                      w   \n2                           s                      w                      w   \n3                           s                      w                      w   \n4                           s                      w                      w   \n...                       ...                    ...                    ...   \n8119                        s                      o                      o   \n8120                        s                      o                      o   \n8121                        s                      o                      o   \n8122                        k                      w                      w   \n8123                        s                      o                      o   \n\n     veil-type veil-color ring-number ring-type spore-print-color population  \\\n0            p          w           o         p                 k          s   \n1            p          w           o         p                 n          n   \n2            p          w           o         p                 n          n   \n3            p          w           o         p                 k          s   \n4            p          w           o         e                 n          a   \n...        ...        ...         ...       ...               ...        ...   \n8119         p          o           o         p                 b          c   \n8120         p          n           o         p                 b          v   \n8121         p          o           o         p                 b          c   \n8122         p          w           o         e                 w          v   \n8123         p          o           o         p                 o          c   \n\n     habitat  \n0          u  \n1          g  \n2          m  \n3          u  \n4          g  \n...      ...  \n8119       l  \n8120       l  \n8121       l  \n8122       l  \n8123       l  \n\n[8124 rows x 22 columns]",
      "text/html": "<div>\n<style scoped>\n    .dataframe tbody tr th:only-of-type {\n        vertical-align: middle;\n    }\n\n    .dataframe tbody tr th {\n        vertical-align: top;\n    }\n\n    .dataframe thead th {\n        text-align: right;\n    }\n</style>\n<table border=\"1\" class=\"dataframe\">\n  <thead>\n    <tr style=\"text-align: right;\">\n      <th></th>\n      <th>cap-shape</th>\n      <th>cap-surface</th>\n      <th>cap-color</th>\n      <th>bruises?</th>\n      <th>odor</th>\n      <th>gill-attachment</th>\n      <th>gill-spacing</th>\n      <th>gill-size</th>\n      <th>gill-color</th>\n      <th>stalk-shape</th>\n      <th>...</th>\n      <th>stalk-surface-below-ring</th>\n      <th>stalk-color-above-ring</th>\n      <th>stalk-color-below-ring</th>\n      <th>veil-type</th>\n      <th>veil-color</th>\n      <th>ring-number</th>\n      <th>ring-type</th>\n      <th>spore-print-color</th>\n      <th>population</th>\n      <th>habitat</th>\n    </tr>\n  </thead>\n  <tbody>\n    <tr>\n      <th>0</th>\n      <td>x</td>\n      <td>s</td>\n      <td>n</td>\n      <td>t</td>\n      <td>p</td>\n      <td>f</td>\n      <td>c</td>\n      <td>n</td>\n      <td>k</td>\n      <td>e</td>\n      <td>...</td>\n      <td>s</td>\n      <td>w</td>\n      <td>w</td>\n      <td>p</td>\n      <td>w</td>\n      <td>o</td>\n      <td>p</td>\n      <td>k</td>\n      <td>s</td>\n      <td>u</td>\n    </tr>\n    <tr>\n      <th>1</th>\n      <td>x</td>\n      <td>s</td>\n      <td>y</td>\n      <td>t</td>\n      <td>a</td>\n      <td>f</td>\n      <td>c</td>\n      <td>b</td>\n      <td>k</td>\n      <td>e</td>\n      <td>...</td>\n      <td>s</td>\n      <td>w</td>\n      <td>w</td>\n      <td>p</td>\n      <td>w</td>\n      <td>o</td>\n      <td>p</td>\n      <td>n</td>\n      <td>n</td>\n      <td>g</td>\n    </tr>\n    <tr>\n      <th>2</th>\n      <td>b</td>\n      <td>s</td>\n      <td>w</td>\n      <td>t</td>\n      <td>l</td>\n      <td>f</td>\n      <td>c</td>\n      <td>b</td>\n      <td>n</td>\n      <td>e</td>\n      <td>...</td>\n      <td>s</td>\n      <td>w</td>\n      <td>w</td>\n      <td>p</td>\n      <td>w</td>\n      <td>o</td>\n      <td>p</td>\n      <td>n</td>\n      <td>n</td>\n      <td>m</td>\n    </tr>\n    <tr>\n      <th>3</th>\n      <td>x</td>\n      <td>y</td>\n      <td>w</td>\n      <td>t</td>\n      <td>p</td>\n      <td>f</td>\n      <td>c</td>\n      <td>n</td>\n      <td>n</td>\n      <td>e</td>\n      <td>...</td>\n      <td>s</td>\n      <td>w</td>\n      <td>w</td>\n      <td>p</td>\n      <td>w</td>\n      <td>o</td>\n      <td>p</td>\n      <td>k</td>\n      <td>s</td>\n      <td>u</td>\n    </tr>\n    <tr>\n      <th>4</th>\n      <td>x</td>\n      <td>s</td>\n      <td>g</td>\n      <td>f</td>\n      <td>n</td>\n      <td>f</td>\n      <td>w</td>\n      <td>b</td>\n      <td>k</td>\n      <td>t</td>\n      <td>...</td>\n      <td>s</td>\n      <td>w</td>\n      <td>w</td>\n      <td>p</td>\n      <td>w</td>\n      <td>o</td>\n      <td>e</td>\n      <td>n</td>\n      <td>a</td>\n      <td>g</td>\n    </tr>\n    <tr>\n      <th>...</th>\n      <td>...</td>\n      <td>...</td>\n      <td>...</td>\n      <td>...</td>\n      <td>...</td>\n      <td>...</td>\n      <td>...</td>\n      <td>...</td>\n      <td>...</td>\n      <td>...</td>\n      <td>...</td>\n      <td>...</td>\n      <td>...</td>\n      <td>...</td>\n      <td>...</td>\n      <td>...</td>\n      <td>...</td>\n      <td>...</td>\n      <td>...</td>\n      <td>...</td>\n      <td>...</td>\n    </tr>\n    <tr>\n      <th>8119</th>\n      <td>k</td>\n      <td>s</td>\n      <td>n</td>\n      <td>f</td>\n      <td>n</td>\n      <td>a</td>\n      <td>c</td>\n      <td>b</td>\n      <td>y</td>\n      <td>e</td>\n      <td>...</td>\n      <td>s</td>\n      <td>o</td>\n      <td>o</td>\n      <td>p</td>\n      <td>o</td>\n      <td>o</td>\n      <td>p</td>\n      <td>b</td>\n      <td>c</td>\n      <td>l</td>\n    </tr>\n    <tr>\n      <th>8120</th>\n      <td>x</td>\n      <td>s</td>\n      <td>n</td>\n      <td>f</td>\n      <td>n</td>\n      <td>a</td>\n      <td>c</td>\n      <td>b</td>\n      <td>y</td>\n      <td>e</td>\n      <td>...</td>\n      <td>s</td>\n      <td>o</td>\n      <td>o</td>\n      <td>p</td>\n      <td>n</td>\n      <td>o</td>\n      <td>p</td>\n      <td>b</td>\n      <td>v</td>\n      <td>l</td>\n    </tr>\n    <tr>\n      <th>8121</th>\n      <td>f</td>\n      <td>s</td>\n      <td>n</td>\n      <td>f</td>\n      <td>n</td>\n      <td>a</td>\n      <td>c</td>\n      <td>b</td>\n      <td>n</td>\n      <td>e</td>\n      <td>...</td>\n      <td>s</td>\n      <td>o</td>\n      <td>o</td>\n      <td>p</td>\n      <td>o</td>\n      <td>o</td>\n      <td>p</td>\n      <td>b</td>\n      <td>c</td>\n      <td>l</td>\n    </tr>\n    <tr>\n      <th>8122</th>\n      <td>k</td>\n      <td>y</td>\n      <td>n</td>\n      <td>f</td>\n      <td>y</td>\n      <td>f</td>\n      <td>c</td>\n      <td>n</td>\n      <td>b</td>\n      <td>t</td>\n      <td>...</td>\n      <td>k</td>\n      <td>w</td>\n      <td>w</td>\n      <td>p</td>\n      <td>w</td>\n      <td>o</td>\n      <td>e</td>\n      <td>w</td>\n      <td>v</td>\n      <td>l</td>\n    </tr>\n    <tr>\n      <th>8123</th>\n      <td>x</td>\n      <td>s</td>\n      <td>n</td>\n      <td>f</td>\n      <td>n</td>\n      <td>a</td>\n      <td>c</td>\n      <td>b</td>\n      <td>y</td>\n      <td>e</td>\n      <td>...</td>\n      <td>s</td>\n      <td>o</td>\n      <td>o</td>\n      <td>p</td>\n      <td>o</td>\n      <td>o</td>\n      <td>p</td>\n      <td>o</td>\n      <td>c</td>\n      <td>l</td>\n    </tr>\n  </tbody>\n</table>\n<p>8124 rows × 22 columns</p>\n</div>"
     },
     "execution_count": 25,
     "metadata": {},
     "output_type": "execute_result"
    }
   ],
   "source": [
    "mushroom = data.drop(data.columns[0],axis=1)\n",
    "\n",
    "mushroom.columns = column_names\n",
    "mushroom"
   ],
   "metadata": {
    "ExecuteTime": {
     "start_time": "2023-05-22T15:39:47.839815Z",
     "end_time": "2023-05-22T15:39:47.856366Z"
    },
    "id": "pQrWJAkRcGgE",
    "outputId": "8f2b206d-b49c-40f2-c0d4-f59d46782aa3",
    "colab": {
     "base_uri": "https://localhost:8080/",
     "height": 540
    }
   }
  },
  {
   "cell_type": "markdown",
   "source": [
    "# 2 Trasformare i valori degli attributi in numeri\n",
    "Sarà necessario usare il OneHotEncoder oppure un OrdinalEncoder\n",
    "preferibile OrdinalEncoder che ti permette di risparmiare in termini di colonne\n",
    "si può anche utilizzare il LabelEncoder che fa questo lavoro ma in un singola colonna"
   ],
   "metadata": {
    "collapsed": false,
    "id": "S3YCAXHvcGgE"
   }
  },
  {
   "cell_type": "code",
   "execution_count": 26,
   "outputs": [
    {
     "data": {
      "text/plain": "OneHotEncoder(sparse=False)"
     },
     "execution_count": 26,
     "metadata": {},
     "output_type": "execute_result"
    }
   ],
   "source": [
    "from sklearn.preprocessing import OneHotEncoder\n",
    "enc = OneHotEncoder(sparse=False)\n",
    "enc"
   ],
   "metadata": {
    "ExecuteTime": {
     "start_time": "2023-05-22T15:39:51.344856Z",
     "end_time": "2023-05-22T15:39:51.351712Z"
    },
    "id": "nqwoWxk5cGgE",
    "outputId": "8dde6ead-6a3c-4b1d-d0ec-69c4ea54b772",
    "colab": {
     "base_uri": "https://localhost:8080/",
     "height": 75
    }
   }
  },
  {
   "cell_type": "code",
   "execution_count": 27,
   "outputs": [],
   "source": [
    "X = enc.fit_transform(mushroom)"
   ],
   "metadata": {
    "ExecuteTime": {
     "start_time": "2023-05-22T15:39:52.036294Z",
     "end_time": "2023-05-22T15:39:52.073333Z"
    },
    "id": "jpx4He3EcGgE",
    "outputId": "ca5e344b-b660-4606-dccc-40b62786119c",
    "colab": {
     "base_uri": "https://localhost:8080/"
    }
   }
  },
  {
   "cell_type": "code",
   "execution_count": 28,
   "outputs": [
    {
     "data": {
      "text/plain": "array([[0., 0., 0., ..., 0., 1., 0.],\n       [0., 0., 0., ..., 0., 0., 0.],\n       [1., 0., 0., ..., 0., 0., 0.],\n       ...,\n       [0., 0., 1., ..., 0., 0., 0.],\n       [0., 0., 0., ..., 0., 0., 0.],\n       [0., 0., 0., ..., 0., 0., 0.]])"
     },
     "execution_count": 28,
     "metadata": {},
     "output_type": "execute_result"
    }
   ],
   "source": [
    "X"
   ],
   "metadata": {
    "ExecuteTime": {
     "start_time": "2023-05-22T15:39:52.506033Z",
     "end_time": "2023-05-22T15:39:52.509978Z"
    },
    "id": "18ysE-U4cGgF",
    "outputId": "9285cb47-5f0f-4f9e-d4de-a9a1d7f6c6f6",
    "colab": {
     "base_uri": "https://localhost:8080/"
    }
   }
  },
  {
   "cell_type": "markdown",
   "source": [
    "# 3 Calcolare l'accuratezza(5 folder cross validation) del dataset ottenuto nel predire se un fungo é velenoso con 3 classificatori\n",
    "\n",
    "I 3 classificatori che utilizzo sono:\n",
    "- Random Forest\n",
    "- SVC\n",
    "- KNN\n"
   ],
   "metadata": {
    "collapsed": false,
    "id": "qbcJZl2ncGgF"
   }
  },
  {
   "cell_type": "code",
   "execution_count": 30,
   "outputs": [
    {
     "name": "stdout",
     "output_type": "stream",
     "text": [
      "scores of Random Forest :\n",
      "[0.84246154 1.         1.         1.         0.80049261]\n",
      "scores of KNN :\n",
      "[0.84984615 1.         0.99569231 1.         0.73522167]\n",
      "scores of SVC :\n",
      "[0.88184615 1.         0.99569231 1.         0.57327586]\n"
     ]
    }
   ],
   "source": [
    "from sklearn.ensemble import  RandomForestClassifier\n",
    "from sklearn.neighbors import  KNeighborsClassifier\n",
    "from sklearn.svm import SVC\n",
    "from sklearn.model_selection import cross_validate\n",
    "# i modelli:\n",
    "classifiers = [RandomForestClassifier(n_estimators=20),\n",
    "               KNeighborsClassifier(weights=\"distance\"),\n",
    "               SVC(kernel='linear',C=0.1)]\n",
    "\n",
    "names = ['Random Forest','KNN','SVC']\n",
    "\n",
    "# le metriche:\n",
    "scoring = ['precision_macro','recall_macro','accuracy']\n",
    "\n",
    "for name,model in zip(names,classifiers):\n",
    "    scoring_model = cross_validate(model, X, target, scoring=scoring, cv=5)\n",
    "    print('scores of '+ name +' :' )\n",
    "    print(scoring_model['test_accuracy'])"
   ],
   "metadata": {
    "ExecuteTime": {
     "start_time": "2023-05-22T15:40:10.651449Z",
     "end_time": "2023-05-22T15:40:13.028128Z"
    },
    "id": "ibKd8BRPcGgF",
    "outputId": "ebf57081-2f8e-45ad-98b1-10b99e6b8235",
    "colab": {
     "base_uri": "https://localhost:8080/"
    }
   }
  },
  {
   "cell_type": "code",
   "execution_count": 10,
   "outputs": [],
   "source": [
    "import matplotlib.pyplot as plt\n",
    "# fig, ax = plt.subplots(1, 1)\n",
    "# ax.plot(score_knn['test_accuracy'], 'r', label='knn')\n",
    "# ax.plot(score_rdm['test_accuracy'], 'b', label='Random Forest ')\n",
    "# ax.plot(score_supv['test_accuracy'], 'k', label='svc')\n",
    "#\n",
    "#\n",
    "# # Set Legend\n",
    "# ax.legend(loc='best')\n",
    "#\n",
    "# # Set Title\n",
    "# ax.set_title('Overview')\n",
    "#\n",
    "# # Set X and Y axis label\n",
    "# ax.set_xlabel('k folder')\n",
    "# ax.set_ylabel('Accuratezza')"
   ],
   "metadata": {
    "ExecuteTime": {
     "start_time": "2023-05-22T15:33:51.299934Z",
     "end_time": "2023-05-22T15:33:52.217053Z"
    },
    "id": "Zplqa_vLcGgF"
   }
  },
  {
   "cell_type": "markdown",
   "source": [
    "# 4/5 Utilizzare solo gli attributi del dataset che riguardano il colore ( chiamare il nuovo dataset mushroom_color) e verificare se l'accuratezza cambia\n",
    "\n"
   ],
   "metadata": {
    "collapsed": false,
    "id": "jYO9Zf_kcGgF"
   }
  },
  {
   "cell_type": "code",
   "execution_count": 11,
   "outputs": [
    {
     "data": {
      "text/plain": "['cap-color',\n 'gill-color',\n 'stalk-color-above-ring',\n 'stalk-color-below-ring',\n 'veil-color',\n 'spore-print-color']"
     },
     "execution_count": 11,
     "metadata": {},
     "output_type": "execute_result"
    }
   ],
   "source": [
    "colori =  [name for name in column_names if 'color' in name ]\n",
    "colori"
   ],
   "metadata": {
    "ExecuteTime": {
     "start_time": "2023-05-22T15:33:52.218660Z",
     "end_time": "2023-05-22T15:33:52.222124Z"
    },
    "id": "1LiGzI0JcGgG",
    "outputId": "7bdb9497-927a-4152-d36f-d1af0250ffa8",
    "colab": {
     "base_uri": "https://localhost:8080/"
    }
   }
  },
  {
   "cell_type": "code",
   "execution_count": 12,
   "outputs": [],
   "source": [
    "mushroom_color = mushroom.loc[:,colori]"
   ],
   "metadata": {
    "ExecuteTime": {
     "start_time": "2023-05-22T15:33:52.221240Z",
     "end_time": "2023-05-22T15:33:52.226216Z"
    },
    "id": "jmLkMZfBcGgG"
   }
  },
  {
   "cell_type": "code",
   "execution_count": 13,
   "outputs": [
    {
     "data": {
      "text/plain": "     cap-color gill-color stalk-color-above-ring stalk-color-below-ring  \\\n0            y          k                      w                      w   \n1            w          n                      w                      w   \n2            w          n                      w                      w   \n3            g          k                      w                      w   \n4            y          n                      w                      w   \n...        ...        ...                    ...                    ...   \n8118         n          y                      o                      o   \n8119         n          y                      o                      o   \n8120         n          n                      o                      o   \n8121         n          b                      w                      w   \n8122         n          y                      o                      o   \n\n     veil-color spore-print-color  \n0             w                 n  \n1             w                 n  \n2             w                 k  \n3             w                 n  \n4             w                 k  \n...         ...               ...  \n8118          o                 b  \n8119          n                 b  \n8120          o                 b  \n8121          w                 w  \n8122          o                 o  \n\n[8123 rows x 6 columns]",
      "text/html": "<div>\n<style scoped>\n    .dataframe tbody tr th:only-of-type {\n        vertical-align: middle;\n    }\n\n    .dataframe tbody tr th {\n        vertical-align: top;\n    }\n\n    .dataframe thead th {\n        text-align: right;\n    }\n</style>\n<table border=\"1\" class=\"dataframe\">\n  <thead>\n    <tr style=\"text-align: right;\">\n      <th></th>\n      <th>cap-color</th>\n      <th>gill-color</th>\n      <th>stalk-color-above-ring</th>\n      <th>stalk-color-below-ring</th>\n      <th>veil-color</th>\n      <th>spore-print-color</th>\n    </tr>\n  </thead>\n  <tbody>\n    <tr>\n      <th>0</th>\n      <td>y</td>\n      <td>k</td>\n      <td>w</td>\n      <td>w</td>\n      <td>w</td>\n      <td>n</td>\n    </tr>\n    <tr>\n      <th>1</th>\n      <td>w</td>\n      <td>n</td>\n      <td>w</td>\n      <td>w</td>\n      <td>w</td>\n      <td>n</td>\n    </tr>\n    <tr>\n      <th>2</th>\n      <td>w</td>\n      <td>n</td>\n      <td>w</td>\n      <td>w</td>\n      <td>w</td>\n      <td>k</td>\n    </tr>\n    <tr>\n      <th>3</th>\n      <td>g</td>\n      <td>k</td>\n      <td>w</td>\n      <td>w</td>\n      <td>w</td>\n      <td>n</td>\n    </tr>\n    <tr>\n      <th>4</th>\n      <td>y</td>\n      <td>n</td>\n      <td>w</td>\n      <td>w</td>\n      <td>w</td>\n      <td>k</td>\n    </tr>\n    <tr>\n      <th>...</th>\n      <td>...</td>\n      <td>...</td>\n      <td>...</td>\n      <td>...</td>\n      <td>...</td>\n      <td>...</td>\n    </tr>\n    <tr>\n      <th>8118</th>\n      <td>n</td>\n      <td>y</td>\n      <td>o</td>\n      <td>o</td>\n      <td>o</td>\n      <td>b</td>\n    </tr>\n    <tr>\n      <th>8119</th>\n      <td>n</td>\n      <td>y</td>\n      <td>o</td>\n      <td>o</td>\n      <td>n</td>\n      <td>b</td>\n    </tr>\n    <tr>\n      <th>8120</th>\n      <td>n</td>\n      <td>n</td>\n      <td>o</td>\n      <td>o</td>\n      <td>o</td>\n      <td>b</td>\n    </tr>\n    <tr>\n      <th>8121</th>\n      <td>n</td>\n      <td>b</td>\n      <td>w</td>\n      <td>w</td>\n      <td>w</td>\n      <td>w</td>\n    </tr>\n    <tr>\n      <th>8122</th>\n      <td>n</td>\n      <td>y</td>\n      <td>o</td>\n      <td>o</td>\n      <td>o</td>\n      <td>o</td>\n    </tr>\n  </tbody>\n</table>\n<p>8123 rows × 6 columns</p>\n</div>"
     },
     "execution_count": 13,
     "metadata": {},
     "output_type": "execute_result"
    }
   ],
   "source": [
    "mushroom_color"
   ],
   "metadata": {
    "ExecuteTime": {
     "start_time": "2023-05-22T15:33:52.232592Z",
     "end_time": "2023-05-22T15:33:52.235441Z"
    },
    "id": "s5ja5bzScGgG",
    "outputId": "33b77262-8974-42bc-caa7-a0d6a65ae7f2",
    "colab": {
     "base_uri": "https://localhost:8080/",
     "height": 468
    }
   }
  },
  {
   "cell_type": "code",
   "execution_count": 14,
   "outputs": [
    {
     "name": "stdout",
     "output_type": "stream",
     "text": [
      "scores of Random Forest :\n",
      "[0.74707692 0.95815385 0.93230769 0.99568966 0.63793103]\n",
      "scores of KNN :\n",
      "[0.752      0.91261538 0.95876923 0.9932266  0.61699507]\n",
      "scores of SVC :\n",
      "[0.73415385 0.99015385 0.97907692 1.         0.52894089]\n"
     ]
    }
   ],
   "source": [
    "from sklearn.pipeline import Pipeline\n",
    "\n",
    "classifiers = [RandomForestClassifier(n_estimators=20),\n",
    "               KNeighborsClassifier(weights=\"distance\"),\n",
    "               SVC(kernel='linear',C=0.1)]\n",
    "\n",
    "names = ['Random Forest','KNN','SVC']\n",
    "\n",
    "enc = OneHotEncoder(sparse=False)\n",
    "mushroom_color_trasform = enc.fit_transform(mushroom_color)\n",
    "\n",
    "for name,model in zip(names,classifiers):\n",
    "    scoring_model = cross_validate(model, mushroom_color_trasform, target, scoring=scoring, cv=5)\n",
    "    print('scores of '+ name +' :' )\n",
    "    print(scoring_model['test_accuracy'])"
   ],
   "metadata": {
    "ExecuteTime": {
     "start_time": "2023-05-22T15:33:52.237828Z",
     "end_time": "2023-05-22T15:33:56.008721Z"
    },
    "id": "OVB6nkL8cGgG",
    "outputId": "8f8e38d5-b534-400b-bfaf-5a2566a86ff1",
    "colab": {
     "base_uri": "https://localhost:8080/"
    }
   }
  },
  {
   "cell_type": "markdown",
   "source": [
    "# 6 Aggiungere un attributo a mushrooom_color del punto 4 del dataset originale in modo da aumentare l’accuratezza\n",
    "Aggiungere una colonna"
   ],
   "metadata": {
    "collapsed": false,
    "id": "0xnWcuPMcGgG"
   }
  },
  {
   "cell_type": "code",
   "execution_count": 15,
   "outputs": [
    {
     "data": {
      "text/plain": "     cap-color gill-color stalk-color-above-ring stalk-color-below-ring  \\\n0            y          k                      w                      w   \n1            w          n                      w                      w   \n2            w          n                      w                      w   \n3            g          k                      w                      w   \n4            y          n                      w                      w   \n...        ...        ...                    ...                    ...   \n8118         n          y                      o                      o   \n8119         n          y                      o                      o   \n8120         n          n                      o                      o   \n8121         n          b                      w                      w   \n8122         n          y                      o                      o   \n\n     veil-color spore-print-color  \n0             w                 n  \n1             w                 n  \n2             w                 k  \n3             w                 n  \n4             w                 k  \n...         ...               ...  \n8118          o                 b  \n8119          n                 b  \n8120          o                 b  \n8121          w                 w  \n8122          o                 o  \n\n[8123 rows x 6 columns]",
      "text/html": "<div>\n<style scoped>\n    .dataframe tbody tr th:only-of-type {\n        vertical-align: middle;\n    }\n\n    .dataframe tbody tr th {\n        vertical-align: top;\n    }\n\n    .dataframe thead th {\n        text-align: right;\n    }\n</style>\n<table border=\"1\" class=\"dataframe\">\n  <thead>\n    <tr style=\"text-align: right;\">\n      <th></th>\n      <th>cap-color</th>\n      <th>gill-color</th>\n      <th>stalk-color-above-ring</th>\n      <th>stalk-color-below-ring</th>\n      <th>veil-color</th>\n      <th>spore-print-color</th>\n    </tr>\n  </thead>\n  <tbody>\n    <tr>\n      <th>0</th>\n      <td>y</td>\n      <td>k</td>\n      <td>w</td>\n      <td>w</td>\n      <td>w</td>\n      <td>n</td>\n    </tr>\n    <tr>\n      <th>1</th>\n      <td>w</td>\n      <td>n</td>\n      <td>w</td>\n      <td>w</td>\n      <td>w</td>\n      <td>n</td>\n    </tr>\n    <tr>\n      <th>2</th>\n      <td>w</td>\n      <td>n</td>\n      <td>w</td>\n      <td>w</td>\n      <td>w</td>\n      <td>k</td>\n    </tr>\n    <tr>\n      <th>3</th>\n      <td>g</td>\n      <td>k</td>\n      <td>w</td>\n      <td>w</td>\n      <td>w</td>\n      <td>n</td>\n    </tr>\n    <tr>\n      <th>4</th>\n      <td>y</td>\n      <td>n</td>\n      <td>w</td>\n      <td>w</td>\n      <td>w</td>\n      <td>k</td>\n    </tr>\n    <tr>\n      <th>...</th>\n      <td>...</td>\n      <td>...</td>\n      <td>...</td>\n      <td>...</td>\n      <td>...</td>\n      <td>...</td>\n    </tr>\n    <tr>\n      <th>8118</th>\n      <td>n</td>\n      <td>y</td>\n      <td>o</td>\n      <td>o</td>\n      <td>o</td>\n      <td>b</td>\n    </tr>\n    <tr>\n      <th>8119</th>\n      <td>n</td>\n      <td>y</td>\n      <td>o</td>\n      <td>o</td>\n      <td>n</td>\n      <td>b</td>\n    </tr>\n    <tr>\n      <th>8120</th>\n      <td>n</td>\n      <td>n</td>\n      <td>o</td>\n      <td>o</td>\n      <td>o</td>\n      <td>b</td>\n    </tr>\n    <tr>\n      <th>8121</th>\n      <td>n</td>\n      <td>b</td>\n      <td>w</td>\n      <td>w</td>\n      <td>w</td>\n      <td>w</td>\n    </tr>\n    <tr>\n      <th>8122</th>\n      <td>n</td>\n      <td>y</td>\n      <td>o</td>\n      <td>o</td>\n      <td>o</td>\n      <td>o</td>\n    </tr>\n  </tbody>\n</table>\n<p>8123 rows × 6 columns</p>\n</div>"
     },
     "execution_count": 15,
     "metadata": {},
     "output_type": "execute_result"
    }
   ],
   "source": [
    "mushroom_color"
   ],
   "metadata": {
    "ExecuteTime": {
     "start_time": "2023-05-22T15:33:56.014986Z",
     "end_time": "2023-05-22T15:33:56.017996Z"
    },
    "id": "9cwch8jTcGgG",
    "outputId": "b0e208b5-908a-487b-ab92-aa2511775bfa",
    "colab": {
     "base_uri": "https://localhost:8080/",
     "height": 468
    }
   }
  },
  {
   "cell_type": "code",
   "execution_count": 16,
   "outputs": [
    {
     "data": {
      "text/plain": "['cap-shape',\n 'cap-surface',\n 'bruises?',\n 'odor',\n 'gill-attachment',\n 'gill-spacing',\n 'gill-size',\n 'stalk-shape',\n 'stalk-root',\n 'stalk-surface-above-ring',\n 'stalk-surface-below-ring',\n 'veil-type',\n 'ring-number',\n 'ring-type',\n 'population',\n 'habitat']"
     },
     "execution_count": 16,
     "metadata": {},
     "output_type": "execute_result"
    }
   ],
   "source": [
    "nomi = [name for name in column_names if 'color' not in name]\n",
    "nomi"
   ],
   "metadata": {
    "ExecuteTime": {
     "start_time": "2023-05-22T15:33:56.019609Z",
     "end_time": "2023-05-22T15:33:56.022257Z"
    },
    "id": "Pi6g7Y0hcGgH",
    "outputId": "13cc1a06-d8e2-44ed-8b61-e8064c88b266",
    "colab": {
     "base_uri": "https://localhost:8080/"
    }
   }
  },
  {
   "cell_type": "code",
   "execution_count": 17,
   "outputs": [
    {
     "data": {
      "text/plain": "['habitat', 'habitat', 'ring-number']"
     },
     "execution_count": 17,
     "metadata": {},
     "output_type": "execute_result"
    }
   ],
   "source": [
    "import numpy as np\n",
    "# estraggo 3 attributi random dalla lista di nomi\n",
    "random_index = np.random.randint(0,len(nomi),size=3)\n",
    "attributes = [nomi[i] for i in random_index]\n",
    "attributes"
   ],
   "metadata": {
    "ExecuteTime": {
     "start_time": "2023-05-22T15:33:56.024325Z",
     "end_time": "2023-05-22T15:33:56.026748Z"
    },
    "id": "u6Ufy43lcGgH",
    "outputId": "1acadc4c-1c35-4c16-ae87-23b9baa6407d",
    "colab": {
     "base_uri": "https://localhost:8080/"
    }
   }
  },
  {
   "cell_type": "code",
   "execution_count": 18,
   "outputs": [
    {
     "name": "stdout",
     "output_type": "stream",
     "text": [
      "result of the model with the attribute: habitat\n",
      "scores of Random Forest:\n",
      "[0.77292308 0.95815385 0.98584615 0.9864532  0.63608374]\n",
      "scores of KNN:\n",
      "[0.77415385 0.93046154 0.96615385 0.9864532  0.67426108]\n",
      "scores of SVC:\n",
      "[0.73415385 0.98276923 0.97907692 1.         0.52894089]\n",
      "\n",
      "\n",
      "result of the model with the attribute: habitat\n",
      "scores of Random Forest:\n",
      "[0.78276923 0.95815385 0.98092308 0.9864532  0.64593596]\n",
      "scores of KNN:\n",
      "[0.77415385 0.93046154 0.96615385 0.9864532  0.67426108]\n",
      "scores of SVC:\n",
      "[0.73415385 0.98276923 0.97907692 1.         0.52894089]\n",
      "\n",
      "\n",
      "result of the model with the attribute: ring-number\n",
      "scores of Random Forest:\n",
      "[0.76184615 0.95876923 0.95876923 0.99568966 0.62253695]\n",
      "scores of KNN:\n",
      "[0.74707692 0.94276923 0.96246154 0.99261084 0.66995074]\n",
      "scores of SVC:\n",
      "[0.73415385 0.99015385 0.95323077 1.         0.61761084]\n",
      "\n",
      "\n"
     ]
    }
   ],
   "source": [
    "import warnings\n",
    "warnings.filterwarnings(action=\"ignore\")\n",
    "for attribute in attributes:\n",
    "    # aggiungo la colonna\n",
    "    mushroom_changed = mushroom_color.join(mushroom.loc[:,attribute])\n",
    "\n",
    "    enc = OneHotEncoder(sparse=False)\n",
    "    mushroom_changed_trasform = enc.fit_transform(mushroom_changed)\n",
    "\n",
    "    print('result of the model with the attribute:',attribute)\n",
    "    for name,model in zip(names,classifiers):\n",
    "        scoring_model = cross_validate(model, mushroom_changed_trasform, target, scoring=scoring, cv=5)\n",
    "        print('scores of '+ name +':' )\n",
    "        print(scoring_model['test_accuracy'])\n",
    "    print('\\n')"
   ],
   "metadata": {
    "ExecuteTime": {
     "start_time": "2023-05-22T15:33:56.032296Z",
     "end_time": "2023-05-22T15:34:07.488781Z"
    },
    "id": "yIJ_p9JTcGgH",
    "outputId": "8b3b7449-46b7-43b6-b296-27d09b84537f",
    "colab": {
     "base_uri": "https://localhost:8080/"
    }
   }
  },
  {
   "cell_type": "markdown",
   "source": [
    "# 7 Usare un algoritmo di regressione per calcolare il valore di edibile. Usare un train/test del 30%. Arrotondare all’intero più vicino. Cambia il risultato?"
   ],
   "metadata": {
    "collapsed": false,
    "id": "SJXdzHHKcGgH"
   }
  },
  {
   "cell_type": "code",
   "source": [
    "target_bool = target == 'e'\n",
    "target_bool"
   ],
   "metadata": {
    "id": "7WKrQ6BYit0p",
    "outputId": "24a69342-c692-4b10-f950-c802407ddcd7",
    "colab": {
     "base_uri": "https://localhost:8080/"
    },
    "ExecuteTime": {
     "start_time": "2023-05-22T15:34:25.088166Z",
     "end_time": "2023-05-22T15:34:25.091054Z"
    }
   },
   "execution_count": 19,
   "outputs": [
    {
     "data": {
      "text/plain": "0        True\n1        True\n2       False\n3        True\n4        True\n        ...  \n8118     True\n8119     True\n8120     True\n8121    False\n8122     True\nName: p, Length: 8123, dtype: bool"
     },
     "execution_count": 19,
     "metadata": {},
     "output_type": "execute_result"
    }
   ]
  },
  {
   "cell_type": "code",
   "execution_count": 20,
   "outputs": [
    {
     "data": {
      "text/plain": "array([1., 1., 1., ..., 0., 0., 0.])"
     },
     "execution_count": 20,
     "metadata": {},
     "output_type": "execute_result"
    }
   ],
   "source": [
    "from sklearn.model_selection import train_test_split\n",
    "from sklearn.ensemble import RandomForestRegressor\n",
    "from sklearn.metrics import mean_absolute_error\n",
    "\n",
    "\n",
    "X_train, X_test, y_train, y_test = train_test_split(X, target_bool, test_size=0.3,\n",
    "                                                    random_state=0)\n",
    "model = RandomForestRegressor(n_estimators=20,random_state=0)\n",
    "\n",
    "model.fit(X_train,y_train)\n",
    "pred = model.predict(X_test)\n",
    "\n",
    "pred"
   ],
   "metadata": {
    "id": "MJsoeTsycGgH",
    "outputId": "88a74527-8434-4a39-94ce-03426a6a4ce2",
    "colab": {
     "base_uri": "https://localhost:8080/"
    },
    "ExecuteTime": {
     "start_time": "2023-05-22T15:34:29.146924Z",
     "end_time": "2023-05-22T15:34:29.360286Z"
    }
   }
  },
  {
   "cell_type": "code",
   "execution_count": 32,
   "outputs": [
    {
     "name": "stdout",
     "output_type": "stream",
     "text": [
      "MAE: 0.00012310217480508823\n"
     ]
    }
   ],
   "source": [
    "# valutiamo\n",
    "from sklearn.metrics import accuracy_score\n",
    "score = mean_absolute_error(y_test,pred)\n",
    "print(\"MAE:\",score)"
   ],
   "metadata": {
    "id": "3hgdBH4ocGgH",
    "ExecuteTime": {
     "start_time": "2023-05-22T15:48:32.834159Z",
     "end_time": "2023-05-22T15:48:32.852674Z"
    }
   }
  },
  {
   "cell_type": "code",
   "execution_count": null,
   "outputs": [],
   "source": [],
   "metadata": {
    "collapsed": false
   }
  }
 ],
 "metadata": {
  "kernelspec": {
   "display_name": "Python 3",
   "language": "python",
   "name": "python3"
  },
  "language_info": {
   "codemirror_mode": {
    "name": "ipython",
    "version": 2
   },
   "file_extension": ".py",
   "mimetype": "text/x-python",
   "name": "python",
   "nbconvert_exporter": "python",
   "pygments_lexer": "ipython2",
   "version": "2.7.6"
  },
  "colab": {
   "provenance": []
  }
 },
 "nbformat": 4,
 "nbformat_minor": 0
}
