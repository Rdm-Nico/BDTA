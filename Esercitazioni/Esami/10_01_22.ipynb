{
 "cells": [
  {
   "cell_type": "markdown",
   "source": [
    "# Esame 10/01/22\n",
    "## Parte 1"
   ],
   "metadata": {
    "collapsed": false
   }
  },
  {
   "cell_type": "code",
   "execution_count": 1,
   "outputs": [],
   "source": [
    "import pandas as pd\n",
    "import numpy as np"
   ],
   "metadata": {
    "collapsed": false,
    "ExecuteTime": {
     "start_time": "2023-06-05T14:17:41.162840Z",
     "end_time": "2023-06-05T14:17:43.176088Z"
    }
   }
  },
  {
   "cell_type": "markdown",
   "source": [
    "# 1.1\n",
    "Quante sono le istanze contenute nel dataset? *17998* Il dataset è completo (cioè per ogni istanza tutti i valori di ogni attributo sono sempre correttamente specificati – non esistono “missing values”)? *Falso* Il dataset è bilanciato per quanto riguarda la classe da predire? *No*"
   ],
   "metadata": {
    "collapsed": false
   }
  },
  {
   "cell_type": "code",
   "execution_count": 78,
   "outputs": [
    {
     "data": {
      "text/plain": "       claim_number  age_of_driver gender  marital_status  annual_income  \\\n0                 1             46      M             1.0          38301   \n1                 3             21      F             0.0          30445   \n2                 4             49      F             0.0          38923   \n3                 5             58      F             1.0          40605   \n4                 6             38      M             1.0          36380   \n...             ...            ...    ...             ...            ...   \n17993         29993             69      M             1.0          42338   \n17994         29996             35      F             0.0          35579   \n17995         29997             27      F             1.0          32953   \n17996         29999             52      F             1.0          39519   \n17997         30000             61      F             0.0          41126   \n\n       high_education_ind  address_change_ind living_status claim_day_of_week  \\\n0                       1                   1          Rent            Friday   \n1                       0                   1          Rent          Thursday   \n2                       0                   1           Own           Tuesday   \n3                       1                   0           Own          Thursday   \n4                       1                   0          Rent           Tuesday   \n...                   ...                 ...           ...               ...   \n17993                   1                   0           Own          Saturday   \n17994                   1                   1           Own            Monday   \n17995                   0                   1          Rent          Saturday   \n17996                   1                   0           Own            Friday   \n17997                   1                   0          Rent            Monday   \n\n      accident_site  past_num_of_claims channel  claim_est_payout  \\\n0             Local                   1  Broker       7530.940993   \n1           Highway                   1  Online       2966.024895   \n2             Local                   0  Broker       6283.888333   \n3             Local                   3  Broker       6169.747994   \n4           Highway                   0  Broker       4541.387150   \n...             ...                 ...     ...               ...   \n17993         Local                   0  Broker       4806.841803   \n17994         Local                   1   Phone       4089.794471   \n17995         Local                   2  Online       2225.803056   \n17996       Highway                   1  Broker       9560.744844   \n17997   Parking Lot                   1   Phone       5166.915270   \n\n       age_of_vehicle vehicle_category  vehicle_price vehicle_color  \\\n0                 9.0          Compact   12885.452350         white   \n1                 4.0            Large   29429.452180         white   \n2                 3.0          Compact   21701.181950         white   \n3                 4.0           Medium   13198.273440         other   \n4                 7.0           Medium   38060.211220          gray   \n...               ...              ...            ...           ...   \n17993             6.0           Medium   32144.571850         black   \n17994             3.0           Medium    9468.510601          blue   \n17995             5.0           Medium   64974.369590         black   \n17996             3.0          Compact   24983.268110         white   \n17997             5.0           Medium   19295.970480          blue   \n\n       vehicle_weight  fraud  \n0         16161.33381      0  \n1         28691.96422      0  \n2         22090.94758      1  \n3         38329.58106      1  \n4         25876.56319      0  \n...               ...    ...  \n17993     16868.53410      0  \n17994     31500.99689      1  \n17995     44536.25506      0  \n17996     50093.75959      0  \n17997     15257.21450      0  \n\n[17998 rows x 19 columns]",
      "text/html": "<div>\n<style scoped>\n    .dataframe tbody tr th:only-of-type {\n        vertical-align: middle;\n    }\n\n    .dataframe tbody tr th {\n        vertical-align: top;\n    }\n\n    .dataframe thead th {\n        text-align: right;\n    }\n</style>\n<table border=\"1\" class=\"dataframe\">\n  <thead>\n    <tr style=\"text-align: right;\">\n      <th></th>\n      <th>claim_number</th>\n      <th>age_of_driver</th>\n      <th>gender</th>\n      <th>marital_status</th>\n      <th>annual_income</th>\n      <th>high_education_ind</th>\n      <th>address_change_ind</th>\n      <th>living_status</th>\n      <th>claim_day_of_week</th>\n      <th>accident_site</th>\n      <th>past_num_of_claims</th>\n      <th>channel</th>\n      <th>claim_est_payout</th>\n      <th>age_of_vehicle</th>\n      <th>vehicle_category</th>\n      <th>vehicle_price</th>\n      <th>vehicle_color</th>\n      <th>vehicle_weight</th>\n      <th>fraud</th>\n    </tr>\n  </thead>\n  <tbody>\n    <tr>\n      <th>0</th>\n      <td>1</td>\n      <td>46</td>\n      <td>M</td>\n      <td>1.0</td>\n      <td>38301</td>\n      <td>1</td>\n      <td>1</td>\n      <td>Rent</td>\n      <td>Friday</td>\n      <td>Local</td>\n      <td>1</td>\n      <td>Broker</td>\n      <td>7530.940993</td>\n      <td>9.0</td>\n      <td>Compact</td>\n      <td>12885.452350</td>\n      <td>white</td>\n      <td>16161.33381</td>\n      <td>0</td>\n    </tr>\n    <tr>\n      <th>1</th>\n      <td>3</td>\n      <td>21</td>\n      <td>F</td>\n      <td>0.0</td>\n      <td>30445</td>\n      <td>0</td>\n      <td>1</td>\n      <td>Rent</td>\n      <td>Thursday</td>\n      <td>Highway</td>\n      <td>1</td>\n      <td>Online</td>\n      <td>2966.024895</td>\n      <td>4.0</td>\n      <td>Large</td>\n      <td>29429.452180</td>\n      <td>white</td>\n      <td>28691.96422</td>\n      <td>0</td>\n    </tr>\n    <tr>\n      <th>2</th>\n      <td>4</td>\n      <td>49</td>\n      <td>F</td>\n      <td>0.0</td>\n      <td>38923</td>\n      <td>0</td>\n      <td>1</td>\n      <td>Own</td>\n      <td>Tuesday</td>\n      <td>Local</td>\n      <td>0</td>\n      <td>Broker</td>\n      <td>6283.888333</td>\n      <td>3.0</td>\n      <td>Compact</td>\n      <td>21701.181950</td>\n      <td>white</td>\n      <td>22090.94758</td>\n      <td>1</td>\n    </tr>\n    <tr>\n      <th>3</th>\n      <td>5</td>\n      <td>58</td>\n      <td>F</td>\n      <td>1.0</td>\n      <td>40605</td>\n      <td>1</td>\n      <td>0</td>\n      <td>Own</td>\n      <td>Thursday</td>\n      <td>Local</td>\n      <td>3</td>\n      <td>Broker</td>\n      <td>6169.747994</td>\n      <td>4.0</td>\n      <td>Medium</td>\n      <td>13198.273440</td>\n      <td>other</td>\n      <td>38329.58106</td>\n      <td>1</td>\n    </tr>\n    <tr>\n      <th>4</th>\n      <td>6</td>\n      <td>38</td>\n      <td>M</td>\n      <td>1.0</td>\n      <td>36380</td>\n      <td>1</td>\n      <td>0</td>\n      <td>Rent</td>\n      <td>Tuesday</td>\n      <td>Highway</td>\n      <td>0</td>\n      <td>Broker</td>\n      <td>4541.387150</td>\n      <td>7.0</td>\n      <td>Medium</td>\n      <td>38060.211220</td>\n      <td>gray</td>\n      <td>25876.56319</td>\n      <td>0</td>\n    </tr>\n    <tr>\n      <th>...</th>\n      <td>...</td>\n      <td>...</td>\n      <td>...</td>\n      <td>...</td>\n      <td>...</td>\n      <td>...</td>\n      <td>...</td>\n      <td>...</td>\n      <td>...</td>\n      <td>...</td>\n      <td>...</td>\n      <td>...</td>\n      <td>...</td>\n      <td>...</td>\n      <td>...</td>\n      <td>...</td>\n      <td>...</td>\n      <td>...</td>\n      <td>...</td>\n    </tr>\n    <tr>\n      <th>17993</th>\n      <td>29993</td>\n      <td>69</td>\n      <td>M</td>\n      <td>1.0</td>\n      <td>42338</td>\n      <td>1</td>\n      <td>0</td>\n      <td>Own</td>\n      <td>Saturday</td>\n      <td>Local</td>\n      <td>0</td>\n      <td>Broker</td>\n      <td>4806.841803</td>\n      <td>6.0</td>\n      <td>Medium</td>\n      <td>32144.571850</td>\n      <td>black</td>\n      <td>16868.53410</td>\n      <td>0</td>\n    </tr>\n    <tr>\n      <th>17994</th>\n      <td>29996</td>\n      <td>35</td>\n      <td>F</td>\n      <td>0.0</td>\n      <td>35579</td>\n      <td>1</td>\n      <td>1</td>\n      <td>Own</td>\n      <td>Monday</td>\n      <td>Local</td>\n      <td>1</td>\n      <td>Phone</td>\n      <td>4089.794471</td>\n      <td>3.0</td>\n      <td>Medium</td>\n      <td>9468.510601</td>\n      <td>blue</td>\n      <td>31500.99689</td>\n      <td>1</td>\n    </tr>\n    <tr>\n      <th>17995</th>\n      <td>29997</td>\n      <td>27</td>\n      <td>F</td>\n      <td>1.0</td>\n      <td>32953</td>\n      <td>0</td>\n      <td>1</td>\n      <td>Rent</td>\n      <td>Saturday</td>\n      <td>Local</td>\n      <td>2</td>\n      <td>Online</td>\n      <td>2225.803056</td>\n      <td>5.0</td>\n      <td>Medium</td>\n      <td>64974.369590</td>\n      <td>black</td>\n      <td>44536.25506</td>\n      <td>0</td>\n    </tr>\n    <tr>\n      <th>17996</th>\n      <td>29999</td>\n      <td>52</td>\n      <td>F</td>\n      <td>1.0</td>\n      <td>39519</td>\n      <td>1</td>\n      <td>0</td>\n      <td>Own</td>\n      <td>Friday</td>\n      <td>Highway</td>\n      <td>1</td>\n      <td>Broker</td>\n      <td>9560.744844</td>\n      <td>3.0</td>\n      <td>Compact</td>\n      <td>24983.268110</td>\n      <td>white</td>\n      <td>50093.75959</td>\n      <td>0</td>\n    </tr>\n    <tr>\n      <th>17997</th>\n      <td>30000</td>\n      <td>61</td>\n      <td>F</td>\n      <td>0.0</td>\n      <td>41126</td>\n      <td>1</td>\n      <td>0</td>\n      <td>Rent</td>\n      <td>Monday</td>\n      <td>Parking Lot</td>\n      <td>1</td>\n      <td>Phone</td>\n      <td>5166.915270</td>\n      <td>5.0</td>\n      <td>Medium</td>\n      <td>19295.970480</td>\n      <td>blue</td>\n      <td>15257.21450</td>\n      <td>0</td>\n    </tr>\n  </tbody>\n</table>\n<p>17998 rows × 19 columns</p>\n</div>"
     },
     "execution_count": 78,
     "metadata": {},
     "output_type": "execute_result"
    }
   ],
   "source": [
    "df = pd.read_csv(\"Data/training_set_fd.csv\",sep=';')\n",
    "df"
   ],
   "metadata": {
    "collapsed": false,
    "ExecuteTime": {
     "start_time": "2023-06-05T15:34:28.690750Z",
     "end_time": "2023-06-05T15:34:28.740463Z"
    }
   }
  },
  {
   "cell_type": "code",
   "execution_count": 7,
   "outputs": [
    {
     "data": {
      "text/plain": "17998"
     },
     "execution_count": 7,
     "metadata": {},
     "output_type": "execute_result"
    }
   ],
   "source": [
    "len(df.where(df.isna()))"
   ],
   "metadata": {
    "collapsed": false,
    "ExecuteTime": {
     "start_time": "2023-06-05T14:20:19.923515Z",
     "end_time": "2023-06-05T14:20:19.929607Z"
    }
   }
  },
  {
   "cell_type": "code",
   "execution_count": null,
   "outputs": [],
   "source": [],
   "metadata": {
    "collapsed": false
   }
  },
  {
   "cell_type": "code",
   "execution_count": 8,
   "outputs": [
    {
     "data": {
      "text/plain": "0        0\n1        0\n2        1\n3        1\n4        0\n        ..\n17993    0\n17994    1\n17995    0\n17996    0\n17997    0\nName: fraud, Length: 17998, dtype: int64"
     },
     "execution_count": 8,
     "metadata": {},
     "output_type": "execute_result"
    }
   ],
   "source": [
    "y = df.fraud\n",
    "y"
   ],
   "metadata": {
    "collapsed": false,
    "ExecuteTime": {
     "start_time": "2023-06-05T14:21:05.083320Z",
     "end_time": "2023-06-05T14:21:05.094185Z"
    }
   }
  },
  {
   "cell_type": "code",
   "execution_count": 9,
   "outputs": [
    {
     "name": "stdout",
     "output_type": "stream",
     "text": [
      "lunghezza di 0 :  15182\n",
      "lunghezza di 1 :  2816\n"
     ]
    }
   ],
   "source": [
    "for i in range(2):\n",
    "    where = np.where(y == i)\n",
    "    lung = len(where[0])\n",
    "    print(\"lunghezza di \"+ str(i) +\" : \",lung)"
   ],
   "metadata": {
    "collapsed": false,
    "ExecuteTime": {
     "start_time": "2023-06-05T14:21:58.084092Z",
     "end_time": "2023-06-05T14:21:58.099912Z"
    }
   }
  },
  {
   "cell_type": "markdown",
   "source": [
    "## 1.2\n",
    "Analizzare la variabile che indica l’età del guidatore, e considerare solo i guidatori con età inferiore a 91 anni. Rappresentare con un istogramma la distribuzione dei valori. Raggruppare poi le età in gruppi, in questo modo: gruppo1 18-21; gruppo 2 22-25; gruppo3 26-30; gruppo 4 41-40; gruppo 5 41-50; gruppo 6 51-90, visualizzare la distribuzione delle età nei gruppi e indicare la percentuale di frodi nel gruppo"
   ],
   "metadata": {
    "collapsed": false
   }
  },
  {
   "cell_type": "code",
   "execution_count": 12,
   "outputs": [
    {
     "data": {
      "text/plain": "0        46\n1        21\n2        49\n3        58\n4        38\n         ..\n17993    69\n17994    35\n17995    27\n17996    52\n17997    61\nName: age_of_driver, Length: 17972, dtype: int64"
     },
     "execution_count": 12,
     "metadata": {},
     "output_type": "execute_result"
    }
   ],
   "source": [
    "df_age = df.loc[df.age_of_driver < 91]\n",
    "ages = df_age.age_of_driver\n",
    "ages"
   ],
   "metadata": {
    "collapsed": false,
    "ExecuteTime": {
     "start_time": "2023-06-05T14:25:47.848158Z",
     "end_time": "2023-06-05T14:25:47.857604Z"
    }
   }
  },
  {
   "cell_type": "code",
   "execution_count": 21,
   "outputs": [
    {
     "data": {
      "text/plain": "0        Gruppo 5\n1        Gruppo 1\n2        Gruppo 5\n3        Gruppo 6\n4        Gruppo 4\n           ...   \n17993    Gruppo 6\n17994    Gruppo 4\n17995    Gruppo 3\n17996    Gruppo 6\n17997    Gruppo 6\nName: age_of_driver, Length: 17972, dtype: category\nCategories (6, object): ['Gruppo 1' < 'Gruppo 2' < 'Gruppo 3' < 'Gruppo 4' < 'Gruppo 5' < 'Gruppo 6']"
     },
     "execution_count": 21,
     "metadata": {},
     "output_type": "execute_result"
    }
   ],
   "source": [
    "# è necessario fare un bin\n",
    "bins = [18, 21, 25, 30, 40, 50,90]\n",
    "group_names = [\"Gruppo 1\",\"Gruppo 2\",\"Gruppo 3\", \"Gruppo 4\",\"Gruppo 5\",\"Gruppo 6\"]\n",
    "cats = pd.cut(ages,bins,labels=group_names)\n",
    "\n",
    "cats"
   ],
   "metadata": {
    "collapsed": false,
    "ExecuteTime": {
     "start_time": "2023-06-05T14:35:39.790833Z",
     "end_time": "2023-06-05T14:35:39.805157Z"
    }
   }
  },
  {
   "cell_type": "code",
   "execution_count": 48,
   "outputs": [
    {
     "data": {
      "text/plain": "<AxesSubplot:>"
     },
     "execution_count": 48,
     "metadata": {},
     "output_type": "execute_result"
    },
    {
     "data": {
      "text/plain": "<Figure size 640x480 with 1 Axes>",
      "image/png": "[encoded data removed]"
     },
     "metadata": {},
     "output_type": "display_data"
    }
   ],
   "source": [
    "ages.hist(bins=5)"
   ],
   "metadata": {
    "collapsed": false,
    "ExecuteTime": {
     "start_time": "2023-06-05T14:51:18.560757Z",
     "end_time": "2023-06-05T14:51:18.656708Z"
    }
   }
  },
  {
   "cell_type": "code",
   "execution_count": 22,
   "outputs": [
    {
     "data": {
      "text/plain": "Gruppo 5    5768\nGruppo 4    5064\nGruppo 6    4712\nGruppo 3    1584\nGruppo 2     716\nGruppo 1     125\nName: age_of_driver, dtype: int64"
     },
     "execution_count": 22,
     "metadata": {},
     "output_type": "execute_result"
    }
   ],
   "source": [
    "pd.value_counts(cats)"
   ],
   "metadata": {
    "collapsed": false,
    "ExecuteTime": {
     "start_time": "2023-06-05T14:35:44.392965Z",
     "end_time": "2023-06-05T14:35:44.409452Z"
    }
   }
  },
  {
   "cell_type": "code",
   "execution_count": 49,
   "outputs": [
    {
     "data": {
      "text/plain": "<AxesSubplot:>"
     },
     "execution_count": 49,
     "metadata": {},
     "output_type": "execute_result"
    },
    {
     "data": {
      "text/plain": "<Figure size 640x480 with 1 Axes>",
      "image/png": "[encoded data removed]"
     },
     "metadata": {},
     "output_type": "display_data"
    }
   ],
   "source": [
    "cats.hist()"
   ],
   "metadata": {
    "collapsed": false,
    "ExecuteTime": {
     "start_time": "2023-06-05T14:52:05.593105Z",
     "end_time": "2023-06-05T14:52:05.667481Z"
    }
   }
  },
  {
   "cell_type": "code",
   "execution_count": null,
   "outputs": [],
   "source": [
    "# con il group by è consigliabile per guardare poi  un unica colonna"
   ],
   "metadata": {
    "collapsed": false
   }
  },
  {
   "cell_type": "code",
   "execution_count": null,
   "outputs": [],
   "source": [
    "# fare 1.4 si può sovrappore  hist"
   ],
   "metadata": {
    "collapsed": false
   }
  },
  {
   "cell_type": "markdown",
   "source": [
    "# Parte 2:\n",
    "## 2.1\n",
    "Si vuole predire il valore di fraud sulla base degli attributi presenti nel dataset. Ricaricare il dataset originale, eliminare eventuali attributi inutili (giustificare la scelta), eliminare le istanze che contengono valori nulli, rendere tutti gli attributi numerici, e dividerlo in modo che 2/3 degli elementi siano contenuti in un nuovo dataset “train” e 1/3 nel dataset “test”\n",
    "\n",
    "\n",
    "# Non utilizzare l'accuratezza perchè questo dataset è sbilanciato\n",
    "usa la recall oppure la f1score ecc..."
   ],
   "metadata": {
    "collapsed": false
   }
  },
  {
   "cell_type": "code",
   "execution_count": 79,
   "outputs": [
    {
     "data": {
      "text/plain": "       claim_number  age_of_driver gender  marital_status  annual_income  \\\n0                 1             46      M             1.0          38301   \n1                 3             21      F             0.0          30445   \n2                 4             49      F             0.0          38923   \n3                 5             58      F             1.0          40605   \n4                 6             38      M             1.0          36380   \n...             ...            ...    ...             ...            ...   \n17993         29993             69      M             1.0          42338   \n17994         29996             35      F             0.0          35579   \n17995         29997             27      F             1.0          32953   \n17996         29999             52      F             1.0          39519   \n17997         30000             61      F             0.0          41126   \n\n       high_education_ind  address_change_ind living_status claim_day_of_week  \\\n0                       1                   1          Rent            Friday   \n1                       0                   1          Rent          Thursday   \n2                       0                   1           Own           Tuesday   \n3                       1                   0           Own          Thursday   \n4                       1                   0          Rent           Tuesday   \n...                   ...                 ...           ...               ...   \n17993                   1                   0           Own          Saturday   \n17994                   1                   1           Own            Monday   \n17995                   0                   1          Rent          Saturday   \n17996                   1                   0           Own            Friday   \n17997                   1                   0          Rent            Monday   \n\n      accident_site  past_num_of_claims channel  claim_est_payout  \\\n0             Local                   1  Broker       7530.940993   \n1           Highway                   1  Online       2966.024895   \n2             Local                   0  Broker       6283.888333   \n3             Local                   3  Broker       6169.747994   \n4           Highway                   0  Broker       4541.387150   \n...             ...                 ...     ...               ...   \n17993         Local                   0  Broker       4806.841803   \n17994         Local                   1   Phone       4089.794471   \n17995         Local                   2  Online       2225.803056   \n17996       Highway                   1  Broker       9560.744844   \n17997   Parking Lot                   1   Phone       5166.915270   \n\n       age_of_vehicle vehicle_category  vehicle_price vehicle_color  \\\n0                 9.0          Compact   12885.452350         white   \n1                 4.0            Large   29429.452180         white   \n2                 3.0          Compact   21701.181950         white   \n3                 4.0           Medium   13198.273440         other   \n4                 7.0           Medium   38060.211220          gray   \n...               ...              ...            ...           ...   \n17993             6.0           Medium   32144.571850         black   \n17994             3.0           Medium    9468.510601          blue   \n17995             5.0           Medium   64974.369590         black   \n17996             3.0          Compact   24983.268110         white   \n17997             5.0           Medium   19295.970480          blue   \n\n       vehicle_weight  fraud  \n0         16161.33381      0  \n1         28691.96422      0  \n2         22090.94758      1  \n3         38329.58106      1  \n4         25876.56319      0  \n...               ...    ...  \n17993     16868.53410      0  \n17994     31500.99689      1  \n17995     44536.25506      0  \n17996     50093.75959      0  \n17997     15257.21450      0  \n\n[17998 rows x 19 columns]",
      "text/html": "<div>\n<style scoped>\n    .dataframe tbody tr th:only-of-type {\n        vertical-align: middle;\n    }\n\n    .dataframe tbody tr th {\n        vertical-align: top;\n    }\n\n    .dataframe thead th {\n        text-align: right;\n    }\n</style>\n<table border=\"1\" class=\"dataframe\">\n  <thead>\n    <tr style=\"text-align: right;\">\n      <th></th>\n      <th>claim_number</th>\n      <th>age_of_driver</th>\n      <th>gender</th>\n      <th>marital_status</th>\n      <th>annual_income</th>\n      <th>high_education_ind</th>\n      <th>address_change_ind</th>\n      <th>living_status</th>\n      <th>claim_day_of_week</th>\n      <th>accident_site</th>\n      <th>past_num_of_claims</th>\n      <th>channel</th>\n      <th>claim_est_payout</th>\n      <th>age_of_vehicle</th>\n      <th>vehicle_category</th>\n      <th>vehicle_price</th>\n      <th>vehicle_color</th>\n      <th>vehicle_weight</th>\n      <th>fraud</th>\n    </tr>\n  </thead>\n  <tbody>\n    <tr>\n      <th>0</th>\n      <td>1</td>\n      <td>46</td>\n      <td>M</td>\n      <td>1.0</td>\n      <td>38301</td>\n      <td>1</td>\n      <td>1</td>\n      <td>Rent</td>\n      <td>Friday</td>\n      <td>Local</td>\n      <td>1</td>\n      <td>Broker</td>\n      <td>7530.940993</td>\n      <td>9.0</td>\n      <td>Compact</td>\n      <td>12885.452350</td>\n      <td>white</td>\n      <td>16161.33381</td>\n      <td>0</td>\n    </tr>\n    <tr>\n      <th>1</th>\n      <td>3</td>\n      <td>21</td>\n      <td>F</td>\n      <td>0.0</td>\n      <td>30445</td>\n      <td>0</td>\n      <td>1</td>\n      <td>Rent</td>\n      <td>Thursday</td>\n      <td>Highway</td>\n      <td>1</td>\n      <td>Online</td>\n      <td>2966.024895</td>\n      <td>4.0</td>\n      <td>Large</td>\n      <td>29429.452180</td>\n      <td>white</td>\n      <td>28691.96422</td>\n      <td>0</td>\n    </tr>\n    <tr>\n      <th>2</th>\n      <td>4</td>\n      <td>49</td>\n      <td>F</td>\n      <td>0.0</td>\n      <td>38923</td>\n      <td>0</td>\n      <td>1</td>\n      <td>Own</td>\n      <td>Tuesday</td>\n      <td>Local</td>\n      <td>0</td>\n      <td>Broker</td>\n      <td>6283.888333</td>\n      <td>3.0</td>\n      <td>Compact</td>\n      <td>21701.181950</td>\n      <td>white</td>\n      <td>22090.94758</td>\n      <td>1</td>\n    </tr>\n    <tr>\n      <th>3</th>\n      <td>5</td>\n      <td>58</td>\n      <td>F</td>\n      <td>1.0</td>\n      <td>40605</td>\n      <td>1</td>\n      <td>0</td>\n      <td>Own</td>\n      <td>Thursday</td>\n      <td>Local</td>\n      <td>3</td>\n      <td>Broker</td>\n      <td>6169.747994</td>\n      <td>4.0</td>\n      <td>Medium</td>\n      <td>13198.273440</td>\n      <td>other</td>\n      <td>38329.58106</td>\n      <td>1</td>\n    </tr>\n    <tr>\n      <th>4</th>\n      <td>6</td>\n      <td>38</td>\n      <td>M</td>\n      <td>1.0</td>\n      <td>36380</td>\n      <td>1</td>\n      <td>0</td>\n      <td>Rent</td>\n      <td>Tuesday</td>\n      <td>Highway</td>\n      <td>0</td>\n      <td>Broker</td>\n      <td>4541.387150</td>\n      <td>7.0</td>\n      <td>Medium</td>\n      <td>38060.211220</td>\n      <td>gray</td>\n      <td>25876.56319</td>\n      <td>0</td>\n    </tr>\n    <tr>\n      <th>...</th>\n      <td>...</td>\n      <td>...</td>\n      <td>...</td>\n      <td>...</td>\n      <td>...</td>\n      <td>...</td>\n      <td>...</td>\n      <td>...</td>\n      <td>...</td>\n      <td>...</td>\n      <td>...</td>\n      <td>...</td>\n      <td>...</td>\n      <td>...</td>\n      <td>...</td>\n      <td>...</td>\n      <td>...</td>\n      <td>...</td>\n      <td>...</td>\n    </tr>\n    <tr>\n      <th>17993</th>\n      <td>29993</td>\n      <td>69</td>\n      <td>M</td>\n      <td>1.0</td>\n      <td>42338</td>\n      <td>1</td>\n      <td>0</td>\n      <td>Own</td>\n      <td>Saturday</td>\n      <td>Local</td>\n      <td>0</td>\n      <td>Broker</td>\n      <td>4806.841803</td>\n      <td>6.0</td>\n      <td>Medium</td>\n      <td>32144.571850</td>\n      <td>black</td>\n      <td>16868.53410</td>\n      <td>0</td>\n    </tr>\n    <tr>\n      <th>17994</th>\n      <td>29996</td>\n      <td>35</td>\n      <td>F</td>\n      <td>0.0</td>\n      <td>35579</td>\n      <td>1</td>\n      <td>1</td>\n      <td>Own</td>\n      <td>Monday</td>\n      <td>Local</td>\n      <td>1</td>\n      <td>Phone</td>\n      <td>4089.794471</td>\n      <td>3.0</td>\n      <td>Medium</td>\n      <td>9468.510601</td>\n      <td>blue</td>\n      <td>31500.99689</td>\n      <td>1</td>\n    </tr>\n    <tr>\n      <th>17995</th>\n      <td>29997</td>\n      <td>27</td>\n      <td>F</td>\n      <td>1.0</td>\n      <td>32953</td>\n      <td>0</td>\n      <td>1</td>\n      <td>Rent</td>\n      <td>Saturday</td>\n      <td>Local</td>\n      <td>2</td>\n      <td>Online</td>\n      <td>2225.803056</td>\n      <td>5.0</td>\n      <td>Medium</td>\n      <td>64974.369590</td>\n      <td>black</td>\n      <td>44536.25506</td>\n      <td>0</td>\n    </tr>\n    <tr>\n      <th>17996</th>\n      <td>29999</td>\n      <td>52</td>\n      <td>F</td>\n      <td>1.0</td>\n      <td>39519</td>\n      <td>1</td>\n      <td>0</td>\n      <td>Own</td>\n      <td>Friday</td>\n      <td>Highway</td>\n      <td>1</td>\n      <td>Broker</td>\n      <td>9560.744844</td>\n      <td>3.0</td>\n      <td>Compact</td>\n      <td>24983.268110</td>\n      <td>white</td>\n      <td>50093.75959</td>\n      <td>0</td>\n    </tr>\n    <tr>\n      <th>17997</th>\n      <td>30000</td>\n      <td>61</td>\n      <td>F</td>\n      <td>0.0</td>\n      <td>41126</td>\n      <td>1</td>\n      <td>0</td>\n      <td>Rent</td>\n      <td>Monday</td>\n      <td>Parking Lot</td>\n      <td>1</td>\n      <td>Phone</td>\n      <td>5166.915270</td>\n      <td>5.0</td>\n      <td>Medium</td>\n      <td>19295.970480</td>\n      <td>blue</td>\n      <td>15257.21450</td>\n      <td>0</td>\n    </tr>\n  </tbody>\n</table>\n<p>17998 rows × 19 columns</p>\n</div>"
     },
     "execution_count": 79,
     "metadata": {},
     "output_type": "execute_result"
    }
   ],
   "source": [
    "df"
   ],
   "metadata": {
    "collapsed": false,
    "ExecuteTime": {
     "start_time": "2023-06-05T15:34:43.882399Z",
     "end_time": "2023-06-05T15:34:43.890505Z"
    }
   }
  },
  {
   "cell_type": "code",
   "execution_count": 80,
   "outputs": [],
   "source": [
    "# eliminare gli attributi non utili per la ricerca della predizione della frode\n",
    "df = df.drop(\"vehicle_color\",axis=1)\n",
    "# perchè non è utile per la predizione conoscere il colore dell'auto\n",
    "df = df.drop(\"claim_day_of_week\",axis=1)\n",
    "# perchè non è utile sapere quando è avvenuto il reclamo per conoscere la predizione\n",
    "df = df.drop(\"marital_status\",axis=1)\n",
    "# non è utile conoscere lo stato matrimoniale per prevedere le frodi\n",
    "df = df.drop(\"claim_number\",axis=1)\n",
    "# non è utile conoscere il numero del reclamo per prevedere la frode"
   ],
   "metadata": {
    "collapsed": false,
    "ExecuteTime": {
     "start_time": "2023-06-05T15:34:46.929392Z",
     "end_time": "2023-06-05T15:34:46.945333Z"
    }
   }
  },
  {
   "cell_type": "code",
   "execution_count": 81,
   "outputs": [],
   "source": [
    "df = df.drop(\"high_education_ind\",axis=1)\n",
    "# non è utile conoscere l'educazione della vittima per la predizioni delle frodi"
   ],
   "metadata": {
    "collapsed": false,
    "ExecuteTime": {
     "start_time": "2023-06-05T15:34:48.365673Z",
     "end_time": "2023-06-05T15:34:48.384666Z"
    }
   }
  },
  {
   "cell_type": "code",
   "execution_count": 82,
   "outputs": [
    {
     "data": {
      "text/plain": "       age_of_driver gender  annual_income  address_change_ind living_status  \\\n0                 46      M          38301                   1          Rent   \n1                 21      F          30445                   1          Rent   \n2                 49      F          38923                   1           Own   \n3                 58      F          40605                   0           Own   \n4                 38      M          36380                   0          Rent   \n...              ...    ...            ...                 ...           ...   \n17993             69      M          42338                   0           Own   \n17994             35      F          35579                   1           Own   \n17995             27      F          32953                   1          Rent   \n17996             52      F          39519                   0           Own   \n17997             61      F          41126                   0          Rent   \n\n      accident_site  past_num_of_claims channel  claim_est_payout  \\\n0             Local                   1  Broker       7530.940993   \n1           Highway                   1  Online       2966.024895   \n2             Local                   0  Broker       6283.888333   \n3             Local                   3  Broker       6169.747994   \n4           Highway                   0  Broker       4541.387150   \n...             ...                 ...     ...               ...   \n17993         Local                   0  Broker       4806.841803   \n17994         Local                   1   Phone       4089.794471   \n17995         Local                   2  Online       2225.803056   \n17996       Highway                   1  Broker       9560.744844   \n17997   Parking Lot                   1   Phone       5166.915270   \n\n       age_of_vehicle vehicle_category  vehicle_price  vehicle_weight  fraud  \n0                 9.0          Compact   12885.452350     16161.33381      0  \n1                 4.0            Large   29429.452180     28691.96422      0  \n2                 3.0          Compact   21701.181950     22090.94758      1  \n3                 4.0           Medium   13198.273440     38329.58106      1  \n4                 7.0           Medium   38060.211220     25876.56319      0  \n...               ...              ...            ...             ...    ...  \n17993             6.0           Medium   32144.571850     16868.53410      0  \n17994             3.0           Medium    9468.510601     31500.99689      1  \n17995             5.0           Medium   64974.369590     44536.25506      0  \n17996             3.0          Compact   24983.268110     50093.75959      0  \n17997             5.0           Medium   19295.970480     15257.21450      0  \n\n[17998 rows x 14 columns]",
      "text/html": "<div>\n<style scoped>\n    .dataframe tbody tr th:only-of-type {\n        vertical-align: middle;\n    }\n\n    .dataframe tbody tr th {\n        vertical-align: top;\n    }\n\n    .dataframe thead th {\n        text-align: right;\n    }\n</style>\n<table border=\"1\" class=\"dataframe\">\n  <thead>\n    <tr style=\"text-align: right;\">\n      <th></th>\n      <th>age_of_driver</th>\n      <th>gender</th>\n      <th>annual_income</th>\n      <th>address_change_ind</th>\n      <th>living_status</th>\n      <th>accident_site</th>\n      <th>past_num_of_claims</th>\n      <th>channel</th>\n      <th>claim_est_payout</th>\n      <th>age_of_vehicle</th>\n      <th>vehicle_category</th>\n      <th>vehicle_price</th>\n      <th>vehicle_weight</th>\n      <th>fraud</th>\n    </tr>\n  </thead>\n  <tbody>\n    <tr>\n      <th>0</th>\n      <td>46</td>\n      <td>M</td>\n      <td>38301</td>\n      <td>1</td>\n      <td>Rent</td>\n      <td>Local</td>\n      <td>1</td>\n      <td>Broker</td>\n      <td>7530.940993</td>\n      <td>9.0</td>\n      <td>Compact</td>\n      <td>12885.452350</td>\n      <td>16161.33381</td>\n      <td>0</td>\n    </tr>\n    <tr>\n      <th>1</th>\n      <td>21</td>\n      <td>F</td>\n      <td>30445</td>\n      <td>1</td>\n      <td>Rent</td>\n      <td>Highway</td>\n      <td>1</td>\n      <td>Online</td>\n      <td>2966.024895</td>\n      <td>4.0</td>\n      <td>Large</td>\n      <td>29429.452180</td>\n      <td>28691.96422</td>\n      <td>0</td>\n    </tr>\n    <tr>\n      <th>2</th>\n      <td>49</td>\n      <td>F</td>\n      <td>38923</td>\n      <td>1</td>\n      <td>Own</td>\n      <td>Local</td>\n      <td>0</td>\n      <td>Broker</td>\n      <td>6283.888333</td>\n      <td>3.0</td>\n      <td>Compact</td>\n      <td>21701.181950</td>\n      <td>22090.94758</td>\n      <td>1</td>\n    </tr>\n    <tr>\n      <th>3</th>\n      <td>58</td>\n      <td>F</td>\n      <td>40605</td>\n      <td>0</td>\n      <td>Own</td>\n      <td>Local</td>\n      <td>3</td>\n      <td>Broker</td>\n      <td>6169.747994</td>\n      <td>4.0</td>\n      <td>Medium</td>\n      <td>13198.273440</td>\n      <td>38329.58106</td>\n      <td>1</td>\n    </tr>\n    <tr>\n      <th>4</th>\n      <td>38</td>\n      <td>M</td>\n      <td>36380</td>\n      <td>0</td>\n      <td>Rent</td>\n      <td>Highway</td>\n      <td>0</td>\n      <td>Broker</td>\n      <td>4541.387150</td>\n      <td>7.0</td>\n      <td>Medium</td>\n      <td>38060.211220</td>\n      <td>25876.56319</td>\n      <td>0</td>\n    </tr>\n    <tr>\n      <th>...</th>\n      <td>...</td>\n      <td>...</td>\n      <td>...</td>\n      <td>...</td>\n      <td>...</td>\n      <td>...</td>\n      <td>...</td>\n      <td>...</td>\n      <td>...</td>\n      <td>...</td>\n      <td>...</td>\n      <td>...</td>\n      <td>...</td>\n      <td>...</td>\n    </tr>\n    <tr>\n      <th>17993</th>\n      <td>69</td>\n      <td>M</td>\n      <td>42338</td>\n      <td>0</td>\n      <td>Own</td>\n      <td>Local</td>\n      <td>0</td>\n      <td>Broker</td>\n      <td>4806.841803</td>\n      <td>6.0</td>\n      <td>Medium</td>\n      <td>32144.571850</td>\n      <td>16868.53410</td>\n      <td>0</td>\n    </tr>\n    <tr>\n      <th>17994</th>\n      <td>35</td>\n      <td>F</td>\n      <td>35579</td>\n      <td>1</td>\n      <td>Own</td>\n      <td>Local</td>\n      <td>1</td>\n      <td>Phone</td>\n      <td>4089.794471</td>\n      <td>3.0</td>\n      <td>Medium</td>\n      <td>9468.510601</td>\n      <td>31500.99689</td>\n      <td>1</td>\n    </tr>\n    <tr>\n      <th>17995</th>\n      <td>27</td>\n      <td>F</td>\n      <td>32953</td>\n      <td>1</td>\n      <td>Rent</td>\n      <td>Local</td>\n      <td>2</td>\n      <td>Online</td>\n      <td>2225.803056</td>\n      <td>5.0</td>\n      <td>Medium</td>\n      <td>64974.369590</td>\n      <td>44536.25506</td>\n      <td>0</td>\n    </tr>\n    <tr>\n      <th>17996</th>\n      <td>52</td>\n      <td>F</td>\n      <td>39519</td>\n      <td>0</td>\n      <td>Own</td>\n      <td>Highway</td>\n      <td>1</td>\n      <td>Broker</td>\n      <td>9560.744844</td>\n      <td>3.0</td>\n      <td>Compact</td>\n      <td>24983.268110</td>\n      <td>50093.75959</td>\n      <td>0</td>\n    </tr>\n    <tr>\n      <th>17997</th>\n      <td>61</td>\n      <td>F</td>\n      <td>41126</td>\n      <td>0</td>\n      <td>Rent</td>\n      <td>Parking Lot</td>\n      <td>1</td>\n      <td>Phone</td>\n      <td>5166.915270</td>\n      <td>5.0</td>\n      <td>Medium</td>\n      <td>19295.970480</td>\n      <td>15257.21450</td>\n      <td>0</td>\n    </tr>\n  </tbody>\n</table>\n<p>17998 rows × 14 columns</p>\n</div>"
     },
     "execution_count": 82,
     "metadata": {},
     "output_type": "execute_result"
    }
   ],
   "source": [
    "df"
   ],
   "metadata": {
    "collapsed": false,
    "ExecuteTime": {
     "start_time": "2023-06-05T15:34:51.250452Z",
     "end_time": "2023-06-05T15:34:51.257719Z"
    }
   }
  },
  {
   "cell_type": "code",
   "execution_count": 83,
   "outputs": [
    {
     "data": {
      "text/plain": "       age_of_driver gender  annual_income  address_change_ind living_status  \\\n0                 46      M          38301                   1          Rent   \n1                 21      F          30445                   1          Rent   \n2                 49      F          38923                   1           Own   \n3                 58      F          40605                   0           Own   \n4                 38      M          36380                   0          Rent   \n...              ...    ...            ...                 ...           ...   \n17993             69      M          42338                   0           Own   \n17994             35      F          35579                   1           Own   \n17995             27      F          32953                   1          Rent   \n17996             52      F          39519                   0           Own   \n17997             61      F          41126                   0          Rent   \n\n      accident_site  past_num_of_claims channel  claim_est_payout  \\\n0             Local                   1  Broker       7530.940993   \n1           Highway                   1  Online       2966.024895   \n2             Local                   0  Broker       6283.888333   \n3             Local                   3  Broker       6169.747994   \n4           Highway                   0  Broker       4541.387150   \n...             ...                 ...     ...               ...   \n17993         Local                   0  Broker       4806.841803   \n17994         Local                   1   Phone       4089.794471   \n17995         Local                   2  Online       2225.803056   \n17996       Highway                   1  Broker       9560.744844   \n17997   Parking Lot                   1   Phone       5166.915270   \n\n       age_of_vehicle vehicle_category  vehicle_price  vehicle_weight  fraud  \n0                 9.0          Compact   12885.452350     16161.33381      0  \n1                 4.0            Large   29429.452180     28691.96422      0  \n2                 3.0          Compact   21701.181950     22090.94758      1  \n3                 4.0           Medium   13198.273440     38329.58106      1  \n4                 7.0           Medium   38060.211220     25876.56319      0  \n...               ...              ...            ...             ...    ...  \n17993             6.0           Medium   32144.571850     16868.53410      0  \n17994             3.0           Medium    9468.510601     31500.99689      1  \n17995             5.0           Medium   64974.369590     44536.25506      0  \n17996             3.0          Compact   24983.268110     50093.75959      0  \n17997             5.0           Medium   19295.970480     15257.21450      0  \n\n[17973 rows x 14 columns]",
      "text/html": "<div>\n<style scoped>\n    .dataframe tbody tr th:only-of-type {\n        vertical-align: middle;\n    }\n\n    .dataframe tbody tr th {\n        vertical-align: top;\n    }\n\n    .dataframe thead th {\n        text-align: right;\n    }\n</style>\n<table border=\"1\" class=\"dataframe\">\n  <thead>\n    <tr style=\"text-align: right;\">\n      <th></th>\n      <th>age_of_driver</th>\n      <th>gender</th>\n      <th>annual_income</th>\n      <th>address_change_ind</th>\n      <th>living_status</th>\n      <th>accident_site</th>\n      <th>past_num_of_claims</th>\n      <th>channel</th>\n      <th>claim_est_payout</th>\n      <th>age_of_vehicle</th>\n      <th>vehicle_category</th>\n      <th>vehicle_price</th>\n      <th>vehicle_weight</th>\n      <th>fraud</th>\n    </tr>\n  </thead>\n  <tbody>\n    <tr>\n      <th>0</th>\n      <td>46</td>\n      <td>M</td>\n      <td>38301</td>\n      <td>1</td>\n      <td>Rent</td>\n      <td>Local</td>\n      <td>1</td>\n      <td>Broker</td>\n      <td>7530.940993</td>\n      <td>9.0</td>\n      <td>Compact</td>\n      <td>12885.452350</td>\n      <td>16161.33381</td>\n      <td>0</td>\n    </tr>\n    <tr>\n      <th>1</th>\n      <td>21</td>\n      <td>F</td>\n      <td>30445</td>\n      <td>1</td>\n      <td>Rent</td>\n      <td>Highway</td>\n      <td>1</td>\n      <td>Online</td>\n      <td>2966.024895</td>\n      <td>4.0</td>\n      <td>Large</td>\n      <td>29429.452180</td>\n      <td>28691.96422</td>\n      <td>0</td>\n    </tr>\n    <tr>\n      <th>2</th>\n      <td>49</td>\n      <td>F</td>\n      <td>38923</td>\n      <td>1</td>\n      <td>Own</td>\n      <td>Local</td>\n      <td>0</td>\n      <td>Broker</td>\n      <td>6283.888333</td>\n      <td>3.0</td>\n      <td>Compact</td>\n      <td>21701.181950</td>\n      <td>22090.94758</td>\n      <td>1</td>\n    </tr>\n    <tr>\n      <th>3</th>\n      <td>58</td>\n      <td>F</td>\n      <td>40605</td>\n      <td>0</td>\n      <td>Own</td>\n      <td>Local</td>\n      <td>3</td>\n      <td>Broker</td>\n      <td>6169.747994</td>\n      <td>4.0</td>\n      <td>Medium</td>\n      <td>13198.273440</td>\n      <td>38329.58106</td>\n      <td>1</td>\n    </tr>\n    <tr>\n      <th>4</th>\n      <td>38</td>\n      <td>M</td>\n      <td>36380</td>\n      <td>0</td>\n      <td>Rent</td>\n      <td>Highway</td>\n      <td>0</td>\n      <td>Broker</td>\n      <td>4541.387150</td>\n      <td>7.0</td>\n      <td>Medium</td>\n      <td>38060.211220</td>\n      <td>25876.56319</td>\n      <td>0</td>\n    </tr>\n    <tr>\n      <th>...</th>\n      <td>...</td>\n      <td>...</td>\n      <td>...</td>\n      <td>...</td>\n      <td>...</td>\n      <td>...</td>\n      <td>...</td>\n      <td>...</td>\n      <td>...</td>\n      <td>...</td>\n      <td>...</td>\n      <td>...</td>\n      <td>...</td>\n      <td>...</td>\n    </tr>\n    <tr>\n      <th>17993</th>\n      <td>69</td>\n      <td>M</td>\n      <td>42338</td>\n      <td>0</td>\n      <td>Own</td>\n      <td>Local</td>\n      <td>0</td>\n      <td>Broker</td>\n      <td>4806.841803</td>\n      <td>6.0</td>\n      <td>Medium</td>\n      <td>32144.571850</td>\n      <td>16868.53410</td>\n      <td>0</td>\n    </tr>\n    <tr>\n      <th>17994</th>\n      <td>35</td>\n      <td>F</td>\n      <td>35579</td>\n      <td>1</td>\n      <td>Own</td>\n      <td>Local</td>\n      <td>1</td>\n      <td>Phone</td>\n      <td>4089.794471</td>\n      <td>3.0</td>\n      <td>Medium</td>\n      <td>9468.510601</td>\n      <td>31500.99689</td>\n      <td>1</td>\n    </tr>\n    <tr>\n      <th>17995</th>\n      <td>27</td>\n      <td>F</td>\n      <td>32953</td>\n      <td>1</td>\n      <td>Rent</td>\n      <td>Local</td>\n      <td>2</td>\n      <td>Online</td>\n      <td>2225.803056</td>\n      <td>5.0</td>\n      <td>Medium</td>\n      <td>64974.369590</td>\n      <td>44536.25506</td>\n      <td>0</td>\n    </tr>\n    <tr>\n      <th>17996</th>\n      <td>52</td>\n      <td>F</td>\n      <td>39519</td>\n      <td>0</td>\n      <td>Own</td>\n      <td>Highway</td>\n      <td>1</td>\n      <td>Broker</td>\n      <td>9560.744844</td>\n      <td>3.0</td>\n      <td>Compact</td>\n      <td>24983.268110</td>\n      <td>50093.75959</td>\n      <td>0</td>\n    </tr>\n    <tr>\n      <th>17997</th>\n      <td>61</td>\n      <td>F</td>\n      <td>41126</td>\n      <td>0</td>\n      <td>Rent</td>\n      <td>Parking Lot</td>\n      <td>1</td>\n      <td>Phone</td>\n      <td>5166.915270</td>\n      <td>5.0</td>\n      <td>Medium</td>\n      <td>19295.970480</td>\n      <td>15257.21450</td>\n      <td>0</td>\n    </tr>\n  </tbody>\n</table>\n<p>17973 rows × 14 columns</p>\n</div>"
     },
     "execution_count": 83,
     "metadata": {},
     "output_type": "execute_result"
    }
   ],
   "source": [
    "df = df.dropna(how='any')\n",
    "df"
   ],
   "metadata": {
    "collapsed": false,
    "ExecuteTime": {
     "start_time": "2023-06-05T15:34:56.701553Z",
     "end_time": "2023-06-05T15:34:56.734180Z"
    }
   }
  },
  {
   "cell_type": "code",
   "execution_count": 84,
   "outputs": [
    {
     "data": {
      "text/plain": "       age_of_driver gender  annual_income  address_change_ind living_status  \\\n0                 46      M          38301                   1          Rent   \n1                 21      F          30445                   1          Rent   \n2                 49      F          38923                   1           Own   \n3                 58      F          40605                   0           Own   \n4                 38      M          36380                   0          Rent   \n...              ...    ...            ...                 ...           ...   \n17993             69      M          42338                   0           Own   \n17994             35      F          35579                   1           Own   \n17995             27      F          32953                   1          Rent   \n17996             52      F          39519                   0           Own   \n17997             61      F          41126                   0          Rent   \n\n      accident_site  past_num_of_claims channel  claim_est_payout  \\\n0             Local                   1  Broker       7530.940993   \n1           Highway                   1  Online       2966.024895   \n2             Local                   0  Broker       6283.888333   \n3             Local                   3  Broker       6169.747994   \n4           Highway                   0  Broker       4541.387150   \n...             ...                 ...     ...               ...   \n17993         Local                   0  Broker       4806.841803   \n17994         Local                   1   Phone       4089.794471   \n17995         Local                   2  Online       2225.803056   \n17996       Highway                   1  Broker       9560.744844   \n17997   Parking Lot                   1   Phone       5166.915270   \n\n       age_of_vehicle vehicle_category  vehicle_price  vehicle_weight  \n0                 9.0          Compact   12885.452350     16161.33381  \n1                 4.0            Large   29429.452180     28691.96422  \n2                 3.0          Compact   21701.181950     22090.94758  \n3                 4.0           Medium   13198.273440     38329.58106  \n4                 7.0           Medium   38060.211220     25876.56319  \n...               ...              ...            ...             ...  \n17993             6.0           Medium   32144.571850     16868.53410  \n17994             3.0           Medium    9468.510601     31500.99689  \n17995             5.0           Medium   64974.369590     44536.25506  \n17996             3.0          Compact   24983.268110     50093.75959  \n17997             5.0           Medium   19295.970480     15257.21450  \n\n[17973 rows x 13 columns]",
      "text/html": "<div>\n<style scoped>\n    .dataframe tbody tr th:only-of-type {\n        vertical-align: middle;\n    }\n\n    .dataframe tbody tr th {\n        vertical-align: top;\n    }\n\n    .dataframe thead th {\n        text-align: right;\n    }\n</style>\n<table border=\"1\" class=\"dataframe\">\n  <thead>\n    <tr style=\"text-align: right;\">\n      <th></th>\n      <th>age_of_driver</th>\n      <th>gender</th>\n      <th>annual_income</th>\n      <th>address_change_ind</th>\n      <th>living_status</th>\n      <th>accident_site</th>\n      <th>past_num_of_claims</th>\n      <th>channel</th>\n      <th>claim_est_payout</th>\n      <th>age_of_vehicle</th>\n      <th>vehicle_category</th>\n      <th>vehicle_price</th>\n      <th>vehicle_weight</th>\n    </tr>\n  </thead>\n  <tbody>\n    <tr>\n      <th>0</th>\n      <td>46</td>\n      <td>M</td>\n      <td>38301</td>\n      <td>1</td>\n      <td>Rent</td>\n      <td>Local</td>\n      <td>1</td>\n      <td>Broker</td>\n      <td>7530.940993</td>\n      <td>9.0</td>\n      <td>Compact</td>\n      <td>12885.452350</td>\n      <td>16161.33381</td>\n    </tr>\n    <tr>\n      <th>1</th>\n      <td>21</td>\n      <td>F</td>\n      <td>30445</td>\n      <td>1</td>\n      <td>Rent</td>\n      <td>Highway</td>\n      <td>1</td>\n      <td>Online</td>\n      <td>2966.024895</td>\n      <td>4.0</td>\n      <td>Large</td>\n      <td>29429.452180</td>\n      <td>28691.96422</td>\n    </tr>\n    <tr>\n      <th>2</th>\n      <td>49</td>\n      <td>F</td>\n      <td>38923</td>\n      <td>1</td>\n      <td>Own</td>\n      <td>Local</td>\n      <td>0</td>\n      <td>Broker</td>\n      <td>6283.888333</td>\n      <td>3.0</td>\n      <td>Compact</td>\n      <td>21701.181950</td>\n      <td>22090.94758</td>\n    </tr>\n    <tr>\n      <th>3</th>\n      <td>58</td>\n      <td>F</td>\n      <td>40605</td>\n      <td>0</td>\n      <td>Own</td>\n      <td>Local</td>\n      <td>3</td>\n      <td>Broker</td>\n      <td>6169.747994</td>\n      <td>4.0</td>\n      <td>Medium</td>\n      <td>13198.273440</td>\n      <td>38329.58106</td>\n    </tr>\n    <tr>\n      <th>4</th>\n      <td>38</td>\n      <td>M</td>\n      <td>36380</td>\n      <td>0</td>\n      <td>Rent</td>\n      <td>Highway</td>\n      <td>0</td>\n      <td>Broker</td>\n      <td>4541.387150</td>\n      <td>7.0</td>\n      <td>Medium</td>\n      <td>38060.211220</td>\n      <td>25876.56319</td>\n    </tr>\n    <tr>\n      <th>...</th>\n      <td>...</td>\n      <td>...</td>\n      <td>...</td>\n      <td>...</td>\n      <td>...</td>\n      <td>...</td>\n      <td>...</td>\n      <td>...</td>\n      <td>...</td>\n      <td>...</td>\n      <td>...</td>\n      <td>...</td>\n      <td>...</td>\n    </tr>\n    <tr>\n      <th>17993</th>\n      <td>69</td>\n      <td>M</td>\n      <td>42338</td>\n      <td>0</td>\n      <td>Own</td>\n      <td>Local</td>\n      <td>0</td>\n      <td>Broker</td>\n      <td>4806.841803</td>\n      <td>6.0</td>\n      <td>Medium</td>\n      <td>32144.571850</td>\n      <td>16868.53410</td>\n    </tr>\n    <tr>\n      <th>17994</th>\n      <td>35</td>\n      <td>F</td>\n      <td>35579</td>\n      <td>1</td>\n      <td>Own</td>\n      <td>Local</td>\n      <td>1</td>\n      <td>Phone</td>\n      <td>4089.794471</td>\n      <td>3.0</td>\n      <td>Medium</td>\n      <td>9468.510601</td>\n      <td>31500.99689</td>\n    </tr>\n    <tr>\n      <th>17995</th>\n      <td>27</td>\n      <td>F</td>\n      <td>32953</td>\n      <td>1</td>\n      <td>Rent</td>\n      <td>Local</td>\n      <td>2</td>\n      <td>Online</td>\n      <td>2225.803056</td>\n      <td>5.0</td>\n      <td>Medium</td>\n      <td>64974.369590</td>\n      <td>44536.25506</td>\n    </tr>\n    <tr>\n      <th>17996</th>\n      <td>52</td>\n      <td>F</td>\n      <td>39519</td>\n      <td>0</td>\n      <td>Own</td>\n      <td>Highway</td>\n      <td>1</td>\n      <td>Broker</td>\n      <td>9560.744844</td>\n      <td>3.0</td>\n      <td>Compact</td>\n      <td>24983.268110</td>\n      <td>50093.75959</td>\n    </tr>\n    <tr>\n      <th>17997</th>\n      <td>61</td>\n      <td>F</td>\n      <td>41126</td>\n      <td>0</td>\n      <td>Rent</td>\n      <td>Parking Lot</td>\n      <td>1</td>\n      <td>Phone</td>\n      <td>5166.915270</td>\n      <td>5.0</td>\n      <td>Medium</td>\n      <td>19295.970480</td>\n      <td>15257.21450</td>\n    </tr>\n  </tbody>\n</table>\n<p>17973 rows × 13 columns</p>\n</div>"
     },
     "execution_count": 84,
     "metadata": {},
     "output_type": "execute_result"
    }
   ],
   "source": [
    "y = df[\"fraud\"]\n",
    "df = df.drop(\"fraud\",axis=1)\n",
    "df"
   ],
   "metadata": {
    "collapsed": false,
    "ExecuteTime": {
     "start_time": "2023-06-05T15:35:22.889779Z",
     "end_time": "2023-06-05T15:35:22.892724Z"
    }
   }
  },
  {
   "cell_type": "code",
   "execution_count": 85,
   "outputs": [],
   "source": [
    "from sklearn.preprocessing import OrdinalEncoder\n",
    "\n",
    "ordinal = OrdinalEncoder()\n",
    "df_ordinal = ordinal.fit_transform(df)"
   ],
   "metadata": {
    "collapsed": false,
    "ExecuteTime": {
     "start_time": "2023-06-05T15:35:29.857929Z",
     "end_time": "2023-06-05T15:35:29.937622Z"
    }
   }
  },
  {
   "cell_type": "code",
   "execution_count": 89,
   "outputs": [
    {
     "name": "stdout",
     "output_type": "stream",
     "text": [
      "f1 score of DT :  0.7322084864684263\n",
      "[[4168  849]\n",
      " [ 754  215]]\n",
      "f1 score of LR :  0.8381222853324424\n",
      "[[5017    0]\n",
      " [ 969    0]]\n",
      "f1 score of dummy :  0.8381222853324424\n",
      "[[5017    0]\n",
      " [ 969    0]]\n"
     ]
    }
   ],
   "source": [
    "from sklearn.model_selection import train_test_split\n",
    "from sklearn.tree import DecisionTreeClassifier\n",
    "from sklearn.linear_model import LogisticRegression\n",
    "from sklearn.dummy import DummyClassifier\n",
    "from sklearn.metrics import f1_score\n",
    "from sklearn.metrics import  accuracy_score\n",
    "from  sklearn.metrics import recall_score\n",
    "from sklearn.metrics import confusion_matrix\n",
    "\n",
    "X_train, X_test, y_train, y_test = train_test_split(df_ordinal, y, train_size=0.667, test_size=0.333,\n",
    "                                                    random_state=0)\n",
    "\n",
    "classifiers = [DecisionTreeClassifier(), LogisticRegression(),DummyClassifier()]\n",
    "\n",
    "names = [\"DT\",\"LR\", \"dummy\"]\n",
    "\n",
    "for model,name in zip(classifiers,names):\n",
    "    model.fit(X_train,y_train)\n",
    "    pred = model.predict(X_test)\n",
    "    score = accuracy_score(y_test,pred)\n",
    "    matrix = confusion_matrix(y_test,pred)\n",
    "    print('f1 score of '+ name +' : ',score)\n",
    "    print(matrix)"
   ],
   "metadata": {
    "collapsed": false,
    "ExecuteTime": {
     "start_time": "2023-06-05T15:44:31.821684Z",
     "end_time": "2023-06-05T15:44:31.951942Z"
    }
   }
  },
  {
   "cell_type": "code",
   "execution_count": null,
   "outputs": [],
   "source": [],
   "metadata": {
    "collapsed": false
   }
  }
 ],
 "metadata": {
  "kernelspec": {
   "display_name": "Python 3",
   "language": "python",
   "name": "python3"
  },
  "language_info": {
   "codemirror_mode": {
    "name": "ipython",
    "version": 2
   },
   "file_extension": ".py",
   "mimetype": "text/x-python",
   "name": "python",
   "nbconvert_exporter": "python",
   "pygments_lexer": "ipython2",
   "version": "2.7.6"
  }
 },
 "nbformat": 4,
 "nbformat_minor": 0
}
