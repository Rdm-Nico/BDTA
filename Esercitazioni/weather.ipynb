{
 "cells": [
  {
   "cell_type": "markdown",
   "source": [
    "# 1\n",
    "Inserire nuove features nel dataset che rappresentino:\n",
    "- escursione termica gionarliera (MaxTemp-MinTemp)\n",
    "- differenza di unimidità (Humidity3pm- Humidity 9am)\n",
    "- vento medio (WindSpeed3pm,WindSpeed9am)\n",
    "\n",
    "Eliminare l'attributo Location e trasformare gli attributi booleani in numerici. Dividere il dataset in train e test (20%). Calcolare che accuratezza si ottiene con un modello randomForest (100 alberi) e confrontarla con un dummyClassifier (strategia stratified)"
   ],
   "metadata": {
    "collapsed": false,
    "id": "GDXhte9x-Taz"
   }
  },
  {
   "cell_type": "code",
   "execution_count": 1,
   "outputs": [
    {
     "data": {
      "text/plain": "       Month Location  MinTemp  MaxTemp  Rainfall  WindGustSpeed  \\\n0          1   Albury     20.4     37.6       0.0             54   \n1          1   Albury     20.9     33.6       0.4             50   \n2          1   Albury     18.4     23.1       2.2             48   \n3          1   Albury     17.3     23.7      15.6             39   \n4          1   Albury     15.5     22.9       6.8             31   \n...      ...      ...      ...      ...       ...            ...   \n14463     12    Uluru     22.1     35.8      63.8             43   \n14464     12    Uluru     22.6     36.8       0.0             50   \n14465     12    Uluru     23.2     38.0       0.0             33   \n14466     12    Uluru     19.7     37.0       0.0             37   \n14467     12    Uluru     23.7     33.0       0.0             46   \n\n       WindSpeed9am  WindSpeed3pm  Humidity9am  Humidity3pm  Pressure9am  \\\n0                 0             7           46           17       1013.4   \n1                 9            17           54           30       1011.1   \n2                11            39           62           67       1014.0   \n3                 9            17           74           65       1017.9   \n4                 6             9           92           63       1016.3   \n...             ...           ...          ...          ...          ...   \n14463            17            31           77           41        997.8   \n14464            30            15           63           39       1000.0   \n14465            17            17           25           14       1004.4   \n14466            22             6           30           23       1004.6   \n14467            24            17           40           38       1005.1   \n\n       Pressure3pm  Cloud3pm  Temp9am  Temp3pm RainToday RainTomorrow  \n0           1009.2         3     26.1     36.7        No           No  \n1           1008.4         8     24.8     31.7        No          Yes  \n2           1014.8         8     21.8     19.5       Yes          Yes  \n3           1016.5         8     19.2     21.6       Yes          Yes  \n4           1013.9         8     17.2     22.2       Yes           No  \n...            ...       ...      ...      ...       ...          ...  \n14463        995.2         2     26.0     33.5       Yes           No  \n14464        998.8        -1     29.7     34.0        No           No  \n14465       1001.0        -1     28.7     36.4        No           No  \n14466       1000.9        -1     28.2     35.1        No           No  \n14467       1002.7        -1     30.1     31.5        No           No  \n\n[14468 rows x 17 columns]",
      "text/html": "<div>\n<style scoped>\n    .dataframe tbody tr th:only-of-type {\n        vertical-align: middle;\n    }\n\n    .dataframe tbody tr th {\n        vertical-align: top;\n    }\n\n    .dataframe thead th {\n        text-align: right;\n    }\n</style>\n<table border=\"1\" class=\"dataframe\">\n  <thead>\n    <tr style=\"text-align: right;\">\n      <th></th>\n      <th>Month</th>\n      <th>Location</th>\n      <th>MinTemp</th>\n      <th>MaxTemp</th>\n      <th>Rainfall</th>\n      <th>WindGustSpeed</th>\n      <th>WindSpeed9am</th>\n      <th>WindSpeed3pm</th>\n      <th>Humidity9am</th>\n      <th>Humidity3pm</th>\n      <th>Pressure9am</th>\n      <th>Pressure3pm</th>\n      <th>Cloud3pm</th>\n      <th>Temp9am</th>\n      <th>Temp3pm</th>\n      <th>RainToday</th>\n      <th>RainTomorrow</th>\n    </tr>\n  </thead>\n  <tbody>\n    <tr>\n      <th>0</th>\n      <td>1</td>\n      <td>Albury</td>\n      <td>20.4</td>\n      <td>37.6</td>\n      <td>0.0</td>\n      <td>54</td>\n      <td>0</td>\n      <td>7</td>\n      <td>46</td>\n      <td>17</td>\n      <td>1013.4</td>\n      <td>1009.2</td>\n      <td>3</td>\n      <td>26.1</td>\n      <td>36.7</td>\n      <td>No</td>\n      <td>No</td>\n    </tr>\n    <tr>\n      <th>1</th>\n      <td>1</td>\n      <td>Albury</td>\n      <td>20.9</td>\n      <td>33.6</td>\n      <td>0.4</td>\n      <td>50</td>\n      <td>9</td>\n      <td>17</td>\n      <td>54</td>\n      <td>30</td>\n      <td>1011.1</td>\n      <td>1008.4</td>\n      <td>8</td>\n      <td>24.8</td>\n      <td>31.7</td>\n      <td>No</td>\n      <td>Yes</td>\n    </tr>\n    <tr>\n      <th>2</th>\n      <td>1</td>\n      <td>Albury</td>\n      <td>18.4</td>\n      <td>23.1</td>\n      <td>2.2</td>\n      <td>48</td>\n      <td>11</td>\n      <td>39</td>\n      <td>62</td>\n      <td>67</td>\n      <td>1014.0</td>\n      <td>1014.8</td>\n      <td>8</td>\n      <td>21.8</td>\n      <td>19.5</td>\n      <td>Yes</td>\n      <td>Yes</td>\n    </tr>\n    <tr>\n      <th>3</th>\n      <td>1</td>\n      <td>Albury</td>\n      <td>17.3</td>\n      <td>23.7</td>\n      <td>15.6</td>\n      <td>39</td>\n      <td>9</td>\n      <td>17</td>\n      <td>74</td>\n      <td>65</td>\n      <td>1017.9</td>\n      <td>1016.5</td>\n      <td>8</td>\n      <td>19.2</td>\n      <td>21.6</td>\n      <td>Yes</td>\n      <td>Yes</td>\n    </tr>\n    <tr>\n      <th>4</th>\n      <td>1</td>\n      <td>Albury</td>\n      <td>15.5</td>\n      <td>22.9</td>\n      <td>6.8</td>\n      <td>31</td>\n      <td>6</td>\n      <td>9</td>\n      <td>92</td>\n      <td>63</td>\n      <td>1016.3</td>\n      <td>1013.9</td>\n      <td>8</td>\n      <td>17.2</td>\n      <td>22.2</td>\n      <td>Yes</td>\n      <td>No</td>\n    </tr>\n    <tr>\n      <th>...</th>\n      <td>...</td>\n      <td>...</td>\n      <td>...</td>\n      <td>...</td>\n      <td>...</td>\n      <td>...</td>\n      <td>...</td>\n      <td>...</td>\n      <td>...</td>\n      <td>...</td>\n      <td>...</td>\n      <td>...</td>\n      <td>...</td>\n      <td>...</td>\n      <td>...</td>\n      <td>...</td>\n      <td>...</td>\n    </tr>\n    <tr>\n      <th>14463</th>\n      <td>12</td>\n      <td>Uluru</td>\n      <td>22.1</td>\n      <td>35.8</td>\n      <td>63.8</td>\n      <td>43</td>\n      <td>17</td>\n      <td>31</td>\n      <td>77</td>\n      <td>41</td>\n      <td>997.8</td>\n      <td>995.2</td>\n      <td>2</td>\n      <td>26.0</td>\n      <td>33.5</td>\n      <td>Yes</td>\n      <td>No</td>\n    </tr>\n    <tr>\n      <th>14464</th>\n      <td>12</td>\n      <td>Uluru</td>\n      <td>22.6</td>\n      <td>36.8</td>\n      <td>0.0</td>\n      <td>50</td>\n      <td>30</td>\n      <td>15</td>\n      <td>63</td>\n      <td>39</td>\n      <td>1000.0</td>\n      <td>998.8</td>\n      <td>-1</td>\n      <td>29.7</td>\n      <td>34.0</td>\n      <td>No</td>\n      <td>No</td>\n    </tr>\n    <tr>\n      <th>14465</th>\n      <td>12</td>\n      <td>Uluru</td>\n      <td>23.2</td>\n      <td>38.0</td>\n      <td>0.0</td>\n      <td>33</td>\n      <td>17</td>\n      <td>17</td>\n      <td>25</td>\n      <td>14</td>\n      <td>1004.4</td>\n      <td>1001.0</td>\n      <td>-1</td>\n      <td>28.7</td>\n      <td>36.4</td>\n      <td>No</td>\n      <td>No</td>\n    </tr>\n    <tr>\n      <th>14466</th>\n      <td>12</td>\n      <td>Uluru</td>\n      <td>19.7</td>\n      <td>37.0</td>\n      <td>0.0</td>\n      <td>37</td>\n      <td>22</td>\n      <td>6</td>\n      <td>30</td>\n      <td>23</td>\n      <td>1004.6</td>\n      <td>1000.9</td>\n      <td>-1</td>\n      <td>28.2</td>\n      <td>35.1</td>\n      <td>No</td>\n      <td>No</td>\n    </tr>\n    <tr>\n      <th>14467</th>\n      <td>12</td>\n      <td>Uluru</td>\n      <td>23.7</td>\n      <td>33.0</td>\n      <td>0.0</td>\n      <td>46</td>\n      <td>24</td>\n      <td>17</td>\n      <td>40</td>\n      <td>38</td>\n      <td>1005.1</td>\n      <td>1002.7</td>\n      <td>-1</td>\n      <td>30.1</td>\n      <td>31.5</td>\n      <td>No</td>\n      <td>No</td>\n    </tr>\n  </tbody>\n</table>\n<p>14468 rows × 17 columns</p>\n</div>"
     },
     "execution_count": 1,
     "metadata": {},
     "output_type": "execute_result"
    }
   ],
   "source": [
    "import pandas as pd\n",
    "import numpy as np\n",
    "\n",
    "df = pd.read_csv(\"Data/weather.csv\",sep=\";\")\n",
    "df"
   ],
   "metadata": {
    "ExecuteTime": {
     "start_time": "2023-06-02T16:13:41.274031Z",
     "end_time": "2023-06-02T16:13:42.133491Z"
    },
    "id": "osBtrKXR-Ta1",
    "outputId": "98886e8f-de39-44c0-850e-007c2b90e892",
    "colab": {
     "base_uri": "https://localhost:8080/",
     "height": 487
    }
   }
  },
  {
   "cell_type": "markdown",
   "source": [
    "aggiungiamo le colonne:"
   ],
   "metadata": {
    "collapsed": false,
    "id": "QTOq-P00-Ta3"
   }
  },
  {
   "cell_type": "code",
   "execution_count": 2,
   "outputs": [
    {
     "data": {
      "text/plain": "       Month Location  MinTemp  MaxTemp  Rainfall  WindGustSpeed  \\\n0          1   Albury     20.4     37.6       0.0             54   \n1          1   Albury     20.9     33.6       0.4             50   \n2          1   Albury     18.4     23.1       2.2             48   \n3          1   Albury     17.3     23.7      15.6             39   \n4          1   Albury     15.5     22.9       6.8             31   \n...      ...      ...      ...      ...       ...            ...   \n14463     12    Uluru     22.1     35.8      63.8             43   \n14464     12    Uluru     22.6     36.8       0.0             50   \n14465     12    Uluru     23.2     38.0       0.0             33   \n14466     12    Uluru     19.7     37.0       0.0             37   \n14467     12    Uluru     23.7     33.0       0.0             46   \n\n       WindSpeed9am  WindSpeed3pm  Humidity9am  Humidity3pm  Pressure9am  \\\n0                 0             7           46           17       1013.4   \n1                 9            17           54           30       1011.1   \n2                11            39           62           67       1014.0   \n3                 9            17           74           65       1017.9   \n4                 6             9           92           63       1016.3   \n...             ...           ...          ...          ...          ...   \n14463            17            31           77           41        997.8   \n14464            30            15           63           39       1000.0   \n14465            17            17           25           14       1004.4   \n14466            22             6           30           23       1004.6   \n14467            24            17           40           38       1005.1   \n\n       Pressure3pm  Cloud3pm  Temp9am  Temp3pm RainToday RainTomorrow  \\\n0           1009.2         3     26.1     36.7        No           No   \n1           1008.4         8     24.8     31.7        No          Yes   \n2           1014.8         8     21.8     19.5       Yes          Yes   \n3           1016.5         8     19.2     21.6       Yes          Yes   \n4           1013.9         8     17.2     22.2       Yes           No   \n...            ...       ...      ...      ...       ...          ...   \n14463        995.2         2     26.0     33.5       Yes           No   \n14464        998.8        -1     29.7     34.0        No           No   \n14465       1001.0        -1     28.7     36.4        No           No   \n14466       1000.9        -1     28.2     35.1        No           No   \n14467       1002.7        -1     30.1     31.5        No           No   \n\n       Escursione_Giornaliera  Diff_umidità  Vento_medio  \n0                        17.2           -29          3.5  \n1                        12.7           -24         13.0  \n2                         4.7             5         25.0  \n3                         6.4            -9         13.0  \n4                         7.4           -29          7.5  \n...                       ...           ...          ...  \n14463                    13.7           -36         24.0  \n14464                    14.2           -24         22.5  \n14465                    14.8           -11         17.0  \n14466                    17.3            -7         14.0  \n14467                     9.3            -2         20.5  \n\n[14468 rows x 20 columns]",
      "text/html": "<div>\n<style scoped>\n    .dataframe tbody tr th:only-of-type {\n        vertical-align: middle;\n    }\n\n    .dataframe tbody tr th {\n        vertical-align: top;\n    }\n\n    .dataframe thead th {\n        text-align: right;\n    }\n</style>\n<table border=\"1\" class=\"dataframe\">\n  <thead>\n    <tr style=\"text-align: right;\">\n      <th></th>\n      <th>Month</th>\n      <th>Location</th>\n      <th>MinTemp</th>\n      <th>MaxTemp</th>\n      <th>Rainfall</th>\n      <th>WindGustSpeed</th>\n      <th>WindSpeed9am</th>\n      <th>WindSpeed3pm</th>\n      <th>Humidity9am</th>\n      <th>Humidity3pm</th>\n      <th>Pressure9am</th>\n      <th>Pressure3pm</th>\n      <th>Cloud3pm</th>\n      <th>Temp9am</th>\n      <th>Temp3pm</th>\n      <th>RainToday</th>\n      <th>RainTomorrow</th>\n      <th>Escursione_Giornaliera</th>\n      <th>Diff_umidità</th>\n      <th>Vento_medio</th>\n    </tr>\n  </thead>\n  <tbody>\n    <tr>\n      <th>0</th>\n      <td>1</td>\n      <td>Albury</td>\n      <td>20.4</td>\n      <td>37.6</td>\n      <td>0.0</td>\n      <td>54</td>\n      <td>0</td>\n      <td>7</td>\n      <td>46</td>\n      <td>17</td>\n      <td>1013.4</td>\n      <td>1009.2</td>\n      <td>3</td>\n      <td>26.1</td>\n      <td>36.7</td>\n      <td>No</td>\n      <td>No</td>\n      <td>17.2</td>\n      <td>-29</td>\n      <td>3.5</td>\n    </tr>\n    <tr>\n      <th>1</th>\n      <td>1</td>\n      <td>Albury</td>\n      <td>20.9</td>\n      <td>33.6</td>\n      <td>0.4</td>\n      <td>50</td>\n      <td>9</td>\n      <td>17</td>\n      <td>54</td>\n      <td>30</td>\n      <td>1011.1</td>\n      <td>1008.4</td>\n      <td>8</td>\n      <td>24.8</td>\n      <td>31.7</td>\n      <td>No</td>\n      <td>Yes</td>\n      <td>12.7</td>\n      <td>-24</td>\n      <td>13.0</td>\n    </tr>\n    <tr>\n      <th>2</th>\n      <td>1</td>\n      <td>Albury</td>\n      <td>18.4</td>\n      <td>23.1</td>\n      <td>2.2</td>\n      <td>48</td>\n      <td>11</td>\n      <td>39</td>\n      <td>62</td>\n      <td>67</td>\n      <td>1014.0</td>\n      <td>1014.8</td>\n      <td>8</td>\n      <td>21.8</td>\n      <td>19.5</td>\n      <td>Yes</td>\n      <td>Yes</td>\n      <td>4.7</td>\n      <td>5</td>\n      <td>25.0</td>\n    </tr>\n    <tr>\n      <th>3</th>\n      <td>1</td>\n      <td>Albury</td>\n      <td>17.3</td>\n      <td>23.7</td>\n      <td>15.6</td>\n      <td>39</td>\n      <td>9</td>\n      <td>17</td>\n      <td>74</td>\n      <td>65</td>\n      <td>1017.9</td>\n      <td>1016.5</td>\n      <td>8</td>\n      <td>19.2</td>\n      <td>21.6</td>\n      <td>Yes</td>\n      <td>Yes</td>\n      <td>6.4</td>\n      <td>-9</td>\n      <td>13.0</td>\n    </tr>\n    <tr>\n      <th>4</th>\n      <td>1</td>\n      <td>Albury</td>\n      <td>15.5</td>\n      <td>22.9</td>\n      <td>6.8</td>\n      <td>31</td>\n      <td>6</td>\n      <td>9</td>\n      <td>92</td>\n      <td>63</td>\n      <td>1016.3</td>\n      <td>1013.9</td>\n      <td>8</td>\n      <td>17.2</td>\n      <td>22.2</td>\n      <td>Yes</td>\n      <td>No</td>\n      <td>7.4</td>\n      <td>-29</td>\n      <td>7.5</td>\n    </tr>\n    <tr>\n      <th>...</th>\n      <td>...</td>\n      <td>...</td>\n      <td>...</td>\n      <td>...</td>\n      <td>...</td>\n      <td>...</td>\n      <td>...</td>\n      <td>...</td>\n      <td>...</td>\n      <td>...</td>\n      <td>...</td>\n      <td>...</td>\n      <td>...</td>\n      <td>...</td>\n      <td>...</td>\n      <td>...</td>\n      <td>...</td>\n      <td>...</td>\n      <td>...</td>\n      <td>...</td>\n    </tr>\n    <tr>\n      <th>14463</th>\n      <td>12</td>\n      <td>Uluru</td>\n      <td>22.1</td>\n      <td>35.8</td>\n      <td>63.8</td>\n      <td>43</td>\n      <td>17</td>\n      <td>31</td>\n      <td>77</td>\n      <td>41</td>\n      <td>997.8</td>\n      <td>995.2</td>\n      <td>2</td>\n      <td>26.0</td>\n      <td>33.5</td>\n      <td>Yes</td>\n      <td>No</td>\n      <td>13.7</td>\n      <td>-36</td>\n      <td>24.0</td>\n    </tr>\n    <tr>\n      <th>14464</th>\n      <td>12</td>\n      <td>Uluru</td>\n      <td>22.6</td>\n      <td>36.8</td>\n      <td>0.0</td>\n      <td>50</td>\n      <td>30</td>\n      <td>15</td>\n      <td>63</td>\n      <td>39</td>\n      <td>1000.0</td>\n      <td>998.8</td>\n      <td>-1</td>\n      <td>29.7</td>\n      <td>34.0</td>\n      <td>No</td>\n      <td>No</td>\n      <td>14.2</td>\n      <td>-24</td>\n      <td>22.5</td>\n    </tr>\n    <tr>\n      <th>14465</th>\n      <td>12</td>\n      <td>Uluru</td>\n      <td>23.2</td>\n      <td>38.0</td>\n      <td>0.0</td>\n      <td>33</td>\n      <td>17</td>\n      <td>17</td>\n      <td>25</td>\n      <td>14</td>\n      <td>1004.4</td>\n      <td>1001.0</td>\n      <td>-1</td>\n      <td>28.7</td>\n      <td>36.4</td>\n      <td>No</td>\n      <td>No</td>\n      <td>14.8</td>\n      <td>-11</td>\n      <td>17.0</td>\n    </tr>\n    <tr>\n      <th>14466</th>\n      <td>12</td>\n      <td>Uluru</td>\n      <td>19.7</td>\n      <td>37.0</td>\n      <td>0.0</td>\n      <td>37</td>\n      <td>22</td>\n      <td>6</td>\n      <td>30</td>\n      <td>23</td>\n      <td>1004.6</td>\n      <td>1000.9</td>\n      <td>-1</td>\n      <td>28.2</td>\n      <td>35.1</td>\n      <td>No</td>\n      <td>No</td>\n      <td>17.3</td>\n      <td>-7</td>\n      <td>14.0</td>\n    </tr>\n    <tr>\n      <th>14467</th>\n      <td>12</td>\n      <td>Uluru</td>\n      <td>23.7</td>\n      <td>33.0</td>\n      <td>0.0</td>\n      <td>46</td>\n      <td>24</td>\n      <td>17</td>\n      <td>40</td>\n      <td>38</td>\n      <td>1005.1</td>\n      <td>1002.7</td>\n      <td>-1</td>\n      <td>30.1</td>\n      <td>31.5</td>\n      <td>No</td>\n      <td>No</td>\n      <td>9.3</td>\n      <td>-2</td>\n      <td>20.5</td>\n    </tr>\n  </tbody>\n</table>\n<p>14468 rows × 20 columns</p>\n</div>"
     },
     "execution_count": 2,
     "metadata": {},
     "output_type": "execute_result"
    }
   ],
   "source": [
    "df['Escursione_Giornaliera'] = df['MaxTemp'] - df['MinTemp']\n",
    "df['Diff_umidità'] = df['Humidity3pm'] - df['Humidity9am']\n",
    "df['Vento_medio'] = (df['WindSpeed3pm'] + df['WindSpeed9am'])/2\n",
    "df"
   ],
   "metadata": {
    "ExecuteTime": {
     "start_time": "2023-06-02T16:13:42.134802Z",
     "end_time": "2023-06-02T16:13:42.147762Z"
    },
    "id": "RW7T3NaO-Ta3",
    "outputId": "38fb47c3-c6f2-48c7-8add-011772a790a9",
    "colab": {
     "base_uri": "https://localhost:8080/",
     "height": 487
    }
   }
  },
  {
   "cell_type": "code",
   "execution_count": 3,
   "outputs": [
    {
     "data": {
      "text/plain": "       Month  MinTemp  MaxTemp  Rainfall  WindGustSpeed  WindSpeed9am  \\\n0          1     20.4     37.6       0.0             54             0   \n1          1     20.9     33.6       0.4             50             9   \n2          1     18.4     23.1       2.2             48            11   \n3          1     17.3     23.7      15.6             39             9   \n4          1     15.5     22.9       6.8             31             6   \n...      ...      ...      ...       ...            ...           ...   \n14463     12     22.1     35.8      63.8             43            17   \n14464     12     22.6     36.8       0.0             50            30   \n14465     12     23.2     38.0       0.0             33            17   \n14466     12     19.7     37.0       0.0             37            22   \n14467     12     23.7     33.0       0.0             46            24   \n\n       WindSpeed3pm  Humidity9am  Humidity3pm  Pressure9am  Pressure3pm  \\\n0                 7           46           17       1013.4       1009.2   \n1                17           54           30       1011.1       1008.4   \n2                39           62           67       1014.0       1014.8   \n3                17           74           65       1017.9       1016.5   \n4                 9           92           63       1016.3       1013.9   \n...             ...          ...          ...          ...          ...   \n14463            31           77           41        997.8        995.2   \n14464            15           63           39       1000.0        998.8   \n14465            17           25           14       1004.4       1001.0   \n14466             6           30           23       1004.6       1000.9   \n14467            17           40           38       1005.1       1002.7   \n\n       Cloud3pm  Temp9am  Temp3pm RainToday RainTomorrow  \\\n0             3     26.1     36.7        No           No   \n1             8     24.8     31.7        No          Yes   \n2             8     21.8     19.5       Yes          Yes   \n3             8     19.2     21.6       Yes          Yes   \n4             8     17.2     22.2       Yes           No   \n...         ...      ...      ...       ...          ...   \n14463         2     26.0     33.5       Yes           No   \n14464        -1     29.7     34.0        No           No   \n14465        -1     28.7     36.4        No           No   \n14466        -1     28.2     35.1        No           No   \n14467        -1     30.1     31.5        No           No   \n\n       Escursione_Giornaliera  Diff_umidità  Vento_medio  \n0                        17.2           -29          3.5  \n1                        12.7           -24         13.0  \n2                         4.7             5         25.0  \n3                         6.4            -9         13.0  \n4                         7.4           -29          7.5  \n...                       ...           ...          ...  \n14463                    13.7           -36         24.0  \n14464                    14.2           -24         22.5  \n14465                    14.8           -11         17.0  \n14466                    17.3            -7         14.0  \n14467                     9.3            -2         20.5  \n\n[14468 rows x 19 columns]",
      "text/html": "<div>\n<style scoped>\n    .dataframe tbody tr th:only-of-type {\n        vertical-align: middle;\n    }\n\n    .dataframe tbody tr th {\n        vertical-align: top;\n    }\n\n    .dataframe thead th {\n        text-align: right;\n    }\n</style>\n<table border=\"1\" class=\"dataframe\">\n  <thead>\n    <tr style=\"text-align: right;\">\n      <th></th>\n      <th>Month</th>\n      <th>MinTemp</th>\n      <th>MaxTemp</th>\n      <th>Rainfall</th>\n      <th>WindGustSpeed</th>\n      <th>WindSpeed9am</th>\n      <th>WindSpeed3pm</th>\n      <th>Humidity9am</th>\n      <th>Humidity3pm</th>\n      <th>Pressure9am</th>\n      <th>Pressure3pm</th>\n      <th>Cloud3pm</th>\n      <th>Temp9am</th>\n      <th>Temp3pm</th>\n      <th>RainToday</th>\n      <th>RainTomorrow</th>\n      <th>Escursione_Giornaliera</th>\n      <th>Diff_umidità</th>\n      <th>Vento_medio</th>\n    </tr>\n  </thead>\n  <tbody>\n    <tr>\n      <th>0</th>\n      <td>1</td>\n      <td>20.4</td>\n      <td>37.6</td>\n      <td>0.0</td>\n      <td>54</td>\n      <td>0</td>\n      <td>7</td>\n      <td>46</td>\n      <td>17</td>\n      <td>1013.4</td>\n      <td>1009.2</td>\n      <td>3</td>\n      <td>26.1</td>\n      <td>36.7</td>\n      <td>No</td>\n      <td>No</td>\n      <td>17.2</td>\n      <td>-29</td>\n      <td>3.5</td>\n    </tr>\n    <tr>\n      <th>1</th>\n      <td>1</td>\n      <td>20.9</td>\n      <td>33.6</td>\n      <td>0.4</td>\n      <td>50</td>\n      <td>9</td>\n      <td>17</td>\n      <td>54</td>\n      <td>30</td>\n      <td>1011.1</td>\n      <td>1008.4</td>\n      <td>8</td>\n      <td>24.8</td>\n      <td>31.7</td>\n      <td>No</td>\n      <td>Yes</td>\n      <td>12.7</td>\n      <td>-24</td>\n      <td>13.0</td>\n    </tr>\n    <tr>\n      <th>2</th>\n      <td>1</td>\n      <td>18.4</td>\n      <td>23.1</td>\n      <td>2.2</td>\n      <td>48</td>\n      <td>11</td>\n      <td>39</td>\n      <td>62</td>\n      <td>67</td>\n      <td>1014.0</td>\n      <td>1014.8</td>\n      <td>8</td>\n      <td>21.8</td>\n      <td>19.5</td>\n      <td>Yes</td>\n      <td>Yes</td>\n      <td>4.7</td>\n      <td>5</td>\n      <td>25.0</td>\n    </tr>\n    <tr>\n      <th>3</th>\n      <td>1</td>\n      <td>17.3</td>\n      <td>23.7</td>\n      <td>15.6</td>\n      <td>39</td>\n      <td>9</td>\n      <td>17</td>\n      <td>74</td>\n      <td>65</td>\n      <td>1017.9</td>\n      <td>1016.5</td>\n      <td>8</td>\n      <td>19.2</td>\n      <td>21.6</td>\n      <td>Yes</td>\n      <td>Yes</td>\n      <td>6.4</td>\n      <td>-9</td>\n      <td>13.0</td>\n    </tr>\n    <tr>\n      <th>4</th>\n      <td>1</td>\n      <td>15.5</td>\n      <td>22.9</td>\n      <td>6.8</td>\n      <td>31</td>\n      <td>6</td>\n      <td>9</td>\n      <td>92</td>\n      <td>63</td>\n      <td>1016.3</td>\n      <td>1013.9</td>\n      <td>8</td>\n      <td>17.2</td>\n      <td>22.2</td>\n      <td>Yes</td>\n      <td>No</td>\n      <td>7.4</td>\n      <td>-29</td>\n      <td>7.5</td>\n    </tr>\n    <tr>\n      <th>...</th>\n      <td>...</td>\n      <td>...</td>\n      <td>...</td>\n      <td>...</td>\n      <td>...</td>\n      <td>...</td>\n      <td>...</td>\n      <td>...</td>\n      <td>...</td>\n      <td>...</td>\n      <td>...</td>\n      <td>...</td>\n      <td>...</td>\n      <td>...</td>\n      <td>...</td>\n      <td>...</td>\n      <td>...</td>\n      <td>...</td>\n      <td>...</td>\n    </tr>\n    <tr>\n      <th>14463</th>\n      <td>12</td>\n      <td>22.1</td>\n      <td>35.8</td>\n      <td>63.8</td>\n      <td>43</td>\n      <td>17</td>\n      <td>31</td>\n      <td>77</td>\n      <td>41</td>\n      <td>997.8</td>\n      <td>995.2</td>\n      <td>2</td>\n      <td>26.0</td>\n      <td>33.5</td>\n      <td>Yes</td>\n      <td>No</td>\n      <td>13.7</td>\n      <td>-36</td>\n      <td>24.0</td>\n    </tr>\n    <tr>\n      <th>14464</th>\n      <td>12</td>\n      <td>22.6</td>\n      <td>36.8</td>\n      <td>0.0</td>\n      <td>50</td>\n      <td>30</td>\n      <td>15</td>\n      <td>63</td>\n      <td>39</td>\n      <td>1000.0</td>\n      <td>998.8</td>\n      <td>-1</td>\n      <td>29.7</td>\n      <td>34.0</td>\n      <td>No</td>\n      <td>No</td>\n      <td>14.2</td>\n      <td>-24</td>\n      <td>22.5</td>\n    </tr>\n    <tr>\n      <th>14465</th>\n      <td>12</td>\n      <td>23.2</td>\n      <td>38.0</td>\n      <td>0.0</td>\n      <td>33</td>\n      <td>17</td>\n      <td>17</td>\n      <td>25</td>\n      <td>14</td>\n      <td>1004.4</td>\n      <td>1001.0</td>\n      <td>-1</td>\n      <td>28.7</td>\n      <td>36.4</td>\n      <td>No</td>\n      <td>No</td>\n      <td>14.8</td>\n      <td>-11</td>\n      <td>17.0</td>\n    </tr>\n    <tr>\n      <th>14466</th>\n      <td>12</td>\n      <td>19.7</td>\n      <td>37.0</td>\n      <td>0.0</td>\n      <td>37</td>\n      <td>22</td>\n      <td>6</td>\n      <td>30</td>\n      <td>23</td>\n      <td>1004.6</td>\n      <td>1000.9</td>\n      <td>-1</td>\n      <td>28.2</td>\n      <td>35.1</td>\n      <td>No</td>\n      <td>No</td>\n      <td>17.3</td>\n      <td>-7</td>\n      <td>14.0</td>\n    </tr>\n    <tr>\n      <th>14467</th>\n      <td>12</td>\n      <td>23.7</td>\n      <td>33.0</td>\n      <td>0.0</td>\n      <td>46</td>\n      <td>24</td>\n      <td>17</td>\n      <td>40</td>\n      <td>38</td>\n      <td>1005.1</td>\n      <td>1002.7</td>\n      <td>-1</td>\n      <td>30.1</td>\n      <td>31.5</td>\n      <td>No</td>\n      <td>No</td>\n      <td>9.3</td>\n      <td>-2</td>\n      <td>20.5</td>\n    </tr>\n  </tbody>\n</table>\n<p>14468 rows × 19 columns</p>\n</div>"
     },
     "execution_count": 3,
     "metadata": {},
     "output_type": "execute_result"
    }
   ],
   "source": [
    "df = df.drop('Location',axis=1)\n",
    "df"
   ],
   "metadata": {
    "ExecuteTime": {
     "start_time": "2023-06-02T16:13:42.148634Z",
     "end_time": "2023-06-02T16:13:42.180582Z"
    },
    "id": "YB82pCJZ-Ta4",
    "outputId": "7f3a9624-549b-48f3-93a6-eac37f194ccb",
    "colab": {
     "base_uri": "https://localhost:8080/",
     "height": 487
    }
   }
  },
  {
   "cell_type": "code",
   "execution_count": 4,
   "outputs": [
    {
     "data": {
      "text/plain": "array([0, 1, 1, ..., 0, 0, 0])"
     },
     "execution_count": 4,
     "metadata": {},
     "output_type": "execute_result"
    }
   ],
   "source": [
    "from sklearn.preprocessing import LabelEncoder\n",
    "y = df['RainTomorrow']\n",
    "df = df.drop('RainTomorrow',axis=1)\n",
    "\n",
    "lb = LabelEncoder()\n",
    "y = lb.fit_transform(y)\n",
    "y"
   ],
   "metadata": {
    "ExecuteTime": {
     "start_time": "2023-06-02T16:13:42.161279Z",
     "end_time": "2023-06-02T16:13:42.587032Z"
    },
    "id": "JgChJTxd-Ta4",
    "outputId": "ab1d5a3f-fca0-4f2f-d0e7-f2a4c2ab6cee",
    "colab": {
     "base_uri": "https://localhost:8080/"
    }
   }
  },
  {
   "cell_type": "code",
   "execution_count": 5,
   "outputs": [
    {
     "data": {
      "text/plain": "       Month  MinTemp  MaxTemp  Rainfall  WindGustSpeed  WindSpeed9am  \\\n0          1     20.4     37.6       0.0             54             0   \n1          1     20.9     33.6       0.4             50             9   \n2          1     18.4     23.1       2.2             48            11   \n3          1     17.3     23.7      15.6             39             9   \n4          1     15.5     22.9       6.8             31             6   \n...      ...      ...      ...       ...            ...           ...   \n14463     12     22.1     35.8      63.8             43            17   \n14464     12     22.6     36.8       0.0             50            30   \n14465     12     23.2     38.0       0.0             33            17   \n14466     12     19.7     37.0       0.0             37            22   \n14467     12     23.7     33.0       0.0             46            24   \n\n       WindSpeed3pm  Humidity9am  Humidity3pm  Pressure9am  Pressure3pm  \\\n0                 7           46           17       1013.4       1009.2   \n1                17           54           30       1011.1       1008.4   \n2                39           62           67       1014.0       1014.8   \n3                17           74           65       1017.9       1016.5   \n4                 9           92           63       1016.3       1013.9   \n...             ...          ...          ...          ...          ...   \n14463            31           77           41        997.8        995.2   \n14464            15           63           39       1000.0        998.8   \n14465            17           25           14       1004.4       1001.0   \n14466             6           30           23       1004.6       1000.9   \n14467            17           40           38       1005.1       1002.7   \n\n       Cloud3pm  Temp9am  Temp3pm  RainToday  Escursione_Giornaliera  \\\n0             3     26.1     36.7          0                    17.2   \n1             8     24.8     31.7          0                    12.7   \n2             8     21.8     19.5          1                     4.7   \n3             8     19.2     21.6          1                     6.4   \n4             8     17.2     22.2          1                     7.4   \n...         ...      ...      ...        ...                     ...   \n14463         2     26.0     33.5          1                    13.7   \n14464        -1     29.7     34.0          0                    14.2   \n14465        -1     28.7     36.4          0                    14.8   \n14466        -1     28.2     35.1          0                    17.3   \n14467        -1     30.1     31.5          0                     9.3   \n\n       Diff_umidità  Vento_medio  \n0               -29          3.5  \n1               -24         13.0  \n2                 5         25.0  \n3                -9         13.0  \n4               -29          7.5  \n...             ...          ...  \n14463           -36         24.0  \n14464           -24         22.5  \n14465           -11         17.0  \n14466            -7         14.0  \n14467            -2         20.5  \n\n[14468 rows x 18 columns]",
      "text/html": "<div>\n<style scoped>\n    .dataframe tbody tr th:only-of-type {\n        vertical-align: middle;\n    }\n\n    .dataframe tbody tr th {\n        vertical-align: top;\n    }\n\n    .dataframe thead th {\n        text-align: right;\n    }\n</style>\n<table border=\"1\" class=\"dataframe\">\n  <thead>\n    <tr style=\"text-align: right;\">\n      <th></th>\n      <th>Month</th>\n      <th>MinTemp</th>\n      <th>MaxTemp</th>\n      <th>Rainfall</th>\n      <th>WindGustSpeed</th>\n      <th>WindSpeed9am</th>\n      <th>WindSpeed3pm</th>\n      <th>Humidity9am</th>\n      <th>Humidity3pm</th>\n      <th>Pressure9am</th>\n      <th>Pressure3pm</th>\n      <th>Cloud3pm</th>\n      <th>Temp9am</th>\n      <th>Temp3pm</th>\n      <th>RainToday</th>\n      <th>Escursione_Giornaliera</th>\n      <th>Diff_umidità</th>\n      <th>Vento_medio</th>\n    </tr>\n  </thead>\n  <tbody>\n    <tr>\n      <th>0</th>\n      <td>1</td>\n      <td>20.4</td>\n      <td>37.6</td>\n      <td>0.0</td>\n      <td>54</td>\n      <td>0</td>\n      <td>7</td>\n      <td>46</td>\n      <td>17</td>\n      <td>1013.4</td>\n      <td>1009.2</td>\n      <td>3</td>\n      <td>26.1</td>\n      <td>36.7</td>\n      <td>0</td>\n      <td>17.2</td>\n      <td>-29</td>\n      <td>3.5</td>\n    </tr>\n    <tr>\n      <th>1</th>\n      <td>1</td>\n      <td>20.9</td>\n      <td>33.6</td>\n      <td>0.4</td>\n      <td>50</td>\n      <td>9</td>\n      <td>17</td>\n      <td>54</td>\n      <td>30</td>\n      <td>1011.1</td>\n      <td>1008.4</td>\n      <td>8</td>\n      <td>24.8</td>\n      <td>31.7</td>\n      <td>0</td>\n      <td>12.7</td>\n      <td>-24</td>\n      <td>13.0</td>\n    </tr>\n    <tr>\n      <th>2</th>\n      <td>1</td>\n      <td>18.4</td>\n      <td>23.1</td>\n      <td>2.2</td>\n      <td>48</td>\n      <td>11</td>\n      <td>39</td>\n      <td>62</td>\n      <td>67</td>\n      <td>1014.0</td>\n      <td>1014.8</td>\n      <td>8</td>\n      <td>21.8</td>\n      <td>19.5</td>\n      <td>1</td>\n      <td>4.7</td>\n      <td>5</td>\n      <td>25.0</td>\n    </tr>\n    <tr>\n      <th>3</th>\n      <td>1</td>\n      <td>17.3</td>\n      <td>23.7</td>\n      <td>15.6</td>\n      <td>39</td>\n      <td>9</td>\n      <td>17</td>\n      <td>74</td>\n      <td>65</td>\n      <td>1017.9</td>\n      <td>1016.5</td>\n      <td>8</td>\n      <td>19.2</td>\n      <td>21.6</td>\n      <td>1</td>\n      <td>6.4</td>\n      <td>-9</td>\n      <td>13.0</td>\n    </tr>\n    <tr>\n      <th>4</th>\n      <td>1</td>\n      <td>15.5</td>\n      <td>22.9</td>\n      <td>6.8</td>\n      <td>31</td>\n      <td>6</td>\n      <td>9</td>\n      <td>92</td>\n      <td>63</td>\n      <td>1016.3</td>\n      <td>1013.9</td>\n      <td>8</td>\n      <td>17.2</td>\n      <td>22.2</td>\n      <td>1</td>\n      <td>7.4</td>\n      <td>-29</td>\n      <td>7.5</td>\n    </tr>\n    <tr>\n      <th>...</th>\n      <td>...</td>\n      <td>...</td>\n      <td>...</td>\n      <td>...</td>\n      <td>...</td>\n      <td>...</td>\n      <td>...</td>\n      <td>...</td>\n      <td>...</td>\n      <td>...</td>\n      <td>...</td>\n      <td>...</td>\n      <td>...</td>\n      <td>...</td>\n      <td>...</td>\n      <td>...</td>\n      <td>...</td>\n      <td>...</td>\n    </tr>\n    <tr>\n      <th>14463</th>\n      <td>12</td>\n      <td>22.1</td>\n      <td>35.8</td>\n      <td>63.8</td>\n      <td>43</td>\n      <td>17</td>\n      <td>31</td>\n      <td>77</td>\n      <td>41</td>\n      <td>997.8</td>\n      <td>995.2</td>\n      <td>2</td>\n      <td>26.0</td>\n      <td>33.5</td>\n      <td>1</td>\n      <td>13.7</td>\n      <td>-36</td>\n      <td>24.0</td>\n    </tr>\n    <tr>\n      <th>14464</th>\n      <td>12</td>\n      <td>22.6</td>\n      <td>36.8</td>\n      <td>0.0</td>\n      <td>50</td>\n      <td>30</td>\n      <td>15</td>\n      <td>63</td>\n      <td>39</td>\n      <td>1000.0</td>\n      <td>998.8</td>\n      <td>-1</td>\n      <td>29.7</td>\n      <td>34.0</td>\n      <td>0</td>\n      <td>14.2</td>\n      <td>-24</td>\n      <td>22.5</td>\n    </tr>\n    <tr>\n      <th>14465</th>\n      <td>12</td>\n      <td>23.2</td>\n      <td>38.0</td>\n      <td>0.0</td>\n      <td>33</td>\n      <td>17</td>\n      <td>17</td>\n      <td>25</td>\n      <td>14</td>\n      <td>1004.4</td>\n      <td>1001.0</td>\n      <td>-1</td>\n      <td>28.7</td>\n      <td>36.4</td>\n      <td>0</td>\n      <td>14.8</td>\n      <td>-11</td>\n      <td>17.0</td>\n    </tr>\n    <tr>\n      <th>14466</th>\n      <td>12</td>\n      <td>19.7</td>\n      <td>37.0</td>\n      <td>0.0</td>\n      <td>37</td>\n      <td>22</td>\n      <td>6</td>\n      <td>30</td>\n      <td>23</td>\n      <td>1004.6</td>\n      <td>1000.9</td>\n      <td>-1</td>\n      <td>28.2</td>\n      <td>35.1</td>\n      <td>0</td>\n      <td>17.3</td>\n      <td>-7</td>\n      <td>14.0</td>\n    </tr>\n    <tr>\n      <th>14467</th>\n      <td>12</td>\n      <td>23.7</td>\n      <td>33.0</td>\n      <td>0.0</td>\n      <td>46</td>\n      <td>24</td>\n      <td>17</td>\n      <td>40</td>\n      <td>38</td>\n      <td>1005.1</td>\n      <td>1002.7</td>\n      <td>-1</td>\n      <td>30.1</td>\n      <td>31.5</td>\n      <td>0</td>\n      <td>9.3</td>\n      <td>-2</td>\n      <td>20.5</td>\n    </tr>\n  </tbody>\n</table>\n<p>14468 rows × 18 columns</p>\n</div>"
     },
     "execution_count": 5,
     "metadata": {},
     "output_type": "execute_result"
    }
   ],
   "source": [
    "lb = LabelEncoder()\n",
    "df['RainToday'] = lb.fit_transform(df['RainToday'])\n",
    "df"
   ],
   "metadata": {
    "ExecuteTime": {
     "start_time": "2023-06-02T16:13:42.588420Z",
     "end_time": "2023-06-02T16:13:42.602955Z"
    },
    "id": "SjHNjbwV-Ta4",
    "outputId": "36e84765-1e59-4f2f-9507-116bdcbab067",
    "colab": {
     "base_uri": "https://localhost:8080/",
     "height": 487
    }
   }
  },
  {
   "cell_type": "code",
   "execution_count": 6,
   "outputs": [
    {
     "name": "stdout",
     "output_type": "stream",
     "text": [
      "accuracy of RF :  0.8476157567380788\n",
      "accuracy of dummy :  0.640635798203179\n"
     ]
    }
   ],
   "source": [
    "from sklearn.model_selection import train_test_split\n",
    "from sklearn.ensemble import RandomForestClassifier\n",
    "from sklearn.dummy import DummyClassifier\n",
    "from sklearn.metrics import accuracy_score\n",
    "\n",
    "X_train, X_test, y_train, y_test = train_test_split(df, y, test_size=0.2,random_state=0)\n",
    "\n",
    "classifiers = [RandomForestClassifier(n_estimators=100),DummyClassifier(strategy='stratified')]\n",
    "names = ['RF','dummy']\n",
    "for model,name in zip(classifiers,names):\n",
    "    model.fit(X_train,y_train)\n",
    "    pred = model.predict(X_test)\n",
    "    score = accuracy_score(y_test,pred)\n",
    "    print('accuracy of '+ name +' : ',score)"
   ],
   "metadata": {
    "ExecuteTime": {
     "start_time": "2023-06-02T16:13:42.604873Z",
     "end_time": "2023-06-02T16:13:44.315592Z"
    },
    "id": "_0vJuzvT-Ta4",
    "outputId": "b998c166-3348-48af-8072-20edd569dc07",
    "colab": {
     "base_uri": "https://localhost:8080/"
    }
   }
  },
  {
   "cell_type": "markdown",
   "source": [
    "# 2 Verificare se i risultati migliorano dopo avere scalato i valori tra 0 e 1 e normalizzato con Normalizer\n",
    "Per scalare da 0 a 1 si usa il MinMax_Scaler\n"
   ],
   "metadata": {
    "collapsed": false,
    "id": "rX7sKRkt-Ta5"
   }
  },
  {
   "cell_type": "code",
   "execution_count": 7,
   "outputs": [
    {
     "data": {
      "text/plain": "array([[0.        , 0.34350798, 0.37499499, ..., 0.26563098, 0.15066763,\n        0.02556784],\n       [0.        , 0.33334099, 0.31373087, ..., 0.18672468, 0.15647906,\n        0.09041013],\n       [0.        , 0.27491343, 0.18232416, ..., 0.06295194, 0.21145027,\n        0.15838972],\n       ...,\n       [0.42544701, 0.35188269, 0.35086247, ..., 0.21129583, 0.18486686,\n        0.11480316],\n       [0.43013366, 0.31237372, 0.34410693, ..., 0.24970847, 0.19714459,\n        0.09558526],\n       [0.42528059, 0.357873  , 0.29822145, ..., 0.13272179, 0.20757743,\n        0.13838495]])"
     },
     "execution_count": 7,
     "metadata": {},
     "output_type": "execute_result"
    }
   ],
   "source": [
    "from sklearn.preprocessing import MinMaxScaler,Normalizer\n",
    "scaler = MinMaxScaler(feature_range=(0,1))\n",
    "normalize = Normalizer()\n",
    "X = scaler.fit_transform(df)\n",
    "X = normalize.fit_transform(X)\n",
    "X"
   ],
   "metadata": {
    "ExecuteTime": {
     "start_time": "2023-06-02T16:13:44.315584Z",
     "end_time": "2023-06-02T16:13:44.324374Z"
    },
    "id": "qaIqMcfS-Ta5",
    "outputId": "6a69645c-ae2c-478f-e88d-e0dcb75529d9",
    "colab": {
     "base_uri": "https://localhost:8080/"
    }
   }
  },
  {
   "cell_type": "raw",
   "source": [
    "e rifaccio"
   ],
   "metadata": {
    "collapsed": false,
    "id": "Q9GmJAQN-Ta6"
   }
  },
  {
   "cell_type": "code",
   "execution_count": 8,
   "outputs": [
    {
     "name": "stdout",
     "output_type": "stream",
     "text": [
      "accuracy of RF :  0.8451969592259848\n",
      "accuracy of dummy :  0.6347615756738079\n"
     ]
    }
   ],
   "source": [
    "X_train, X_test, y_train, y_test = train_test_split(X, y, test_size=0.2,random_state=0)\n",
    "\n",
    "for model,name in zip(classifiers,names):\n",
    "    model.fit(X_train,y_train)\n",
    "    pred = model.predict(X_test)\n",
    "    score = accuracy_score(y_test,pred)\n",
    "    print('accuracy of '+ name +' : ',score)"
   ],
   "metadata": {
    "ExecuteTime": {
     "start_time": "2023-06-02T16:13:44.326030Z",
     "end_time": "2023-06-02T16:13:47.162300Z"
    },
    "id": "MbQSA5GN-Ta6",
    "outputId": "742aeb75-e6b3-4e98-f474-a3775ef56b40",
    "colab": {
     "base_uri": "https://localhost:8080/"
    }
   }
  },
  {
   "cell_type": "markdown",
   "source": [
    "# 3 Nel dataset originale, il valore -1 per l'attributo Cloud3pm rappresenta un errore. Occorre individuare le istanze che assumono quel valore, usare il modello randomforest per stimare il valore di Cloud3pm. Sostituire il valore predetto a -1 e rieseguire tutte le normalizzazioni del punto precedente e valutare se si introduce un miglioramento. Valutare cosa succede se invece di effettuare la sostituzione dei valori si eliminano le istanze non corrette"
   ],
   "metadata": {
    "collapsed": false,
    "id": "a_pbllEb-Ta6"
   }
  },
  {
   "cell_type": "code",
   "execution_count": 9,
   "outputs": [
    {
     "data": {
      "text/plain": "       Month  MinTemp  MaxTemp  Rainfall  WindGustSpeed  WindSpeed9am  \\\n0          1     20.4     37.6       0.0             54             0   \n1          1     20.9     33.6       0.4             50             9   \n2          1     18.4     23.1       2.2             48            11   \n3          1     17.3     23.7      15.6             39             9   \n4          1     15.5     22.9       6.8             31             6   \n...      ...      ...      ...       ...            ...           ...   \n14463     12     22.1     35.8      63.8             43            17   \n14464     12     22.6     36.8       0.0             50            30   \n14465     12     23.2     38.0       0.0             33            17   \n14466     12     19.7     37.0       0.0             37            22   \n14467     12     23.7     33.0       0.0             46            24   \n\n       WindSpeed3pm  Humidity9am  Humidity3pm  Pressure9am  Pressure3pm  \\\n0                 7           46           17       1013.4       1009.2   \n1                17           54           30       1011.1       1008.4   \n2                39           62           67       1014.0       1014.8   \n3                17           74           65       1017.9       1016.5   \n4                 9           92           63       1016.3       1013.9   \n...             ...          ...          ...          ...          ...   \n14463            31           77           41        997.8        995.2   \n14464            15           63           39       1000.0        998.8   \n14465            17           25           14       1004.4       1001.0   \n14466             6           30           23       1004.6       1000.9   \n14467            17           40           38       1005.1       1002.7   \n\n       Cloud3pm  Temp9am  Temp3pm  RainToday  Escursione_Giornaliera  \\\n0             3     26.1     36.7          0                    17.2   \n1             8     24.8     31.7          0                    12.7   \n2             8     21.8     19.5          1                     4.7   \n3             8     19.2     21.6          1                     6.4   \n4             8     17.2     22.2          1                     7.4   \n...         ...      ...      ...        ...                     ...   \n14463         2     26.0     33.5          1                    13.7   \n14464        -1     29.7     34.0          0                    14.2   \n14465        -1     28.7     36.4          0                    14.8   \n14466        -1     28.2     35.1          0                    17.3   \n14467        -1     30.1     31.5          0                     9.3   \n\n       Diff_umidità  Vento_medio  \n0               -29          3.5  \n1               -24         13.0  \n2                 5         25.0  \n3                -9         13.0  \n4               -29          7.5  \n...             ...          ...  \n14463           -36         24.0  \n14464           -24         22.5  \n14465           -11         17.0  \n14466            -7         14.0  \n14467            -2         20.5  \n\n[14468 rows x 18 columns]",
      "text/html": "<div>\n<style scoped>\n    .dataframe tbody tr th:only-of-type {\n        vertical-align: middle;\n    }\n\n    .dataframe tbody tr th {\n        vertical-align: top;\n    }\n\n    .dataframe thead th {\n        text-align: right;\n    }\n</style>\n<table border=\"1\" class=\"dataframe\">\n  <thead>\n    <tr style=\"text-align: right;\">\n      <th></th>\n      <th>Month</th>\n      <th>MinTemp</th>\n      <th>MaxTemp</th>\n      <th>Rainfall</th>\n      <th>WindGustSpeed</th>\n      <th>WindSpeed9am</th>\n      <th>WindSpeed3pm</th>\n      <th>Humidity9am</th>\n      <th>Humidity3pm</th>\n      <th>Pressure9am</th>\n      <th>Pressure3pm</th>\n      <th>Cloud3pm</th>\n      <th>Temp9am</th>\n      <th>Temp3pm</th>\n      <th>RainToday</th>\n      <th>Escursione_Giornaliera</th>\n      <th>Diff_umidità</th>\n      <th>Vento_medio</th>\n    </tr>\n  </thead>\n  <tbody>\n    <tr>\n      <th>0</th>\n      <td>1</td>\n      <td>20.4</td>\n      <td>37.6</td>\n      <td>0.0</td>\n      <td>54</td>\n      <td>0</td>\n      <td>7</td>\n      <td>46</td>\n      <td>17</td>\n      <td>1013.4</td>\n      <td>1009.2</td>\n      <td>3</td>\n      <td>26.1</td>\n      <td>36.7</td>\n      <td>0</td>\n      <td>17.2</td>\n      <td>-29</td>\n      <td>3.5</td>\n    </tr>\n    <tr>\n      <th>1</th>\n      <td>1</td>\n      <td>20.9</td>\n      <td>33.6</td>\n      <td>0.4</td>\n      <td>50</td>\n      <td>9</td>\n      <td>17</td>\n      <td>54</td>\n      <td>30</td>\n      <td>1011.1</td>\n      <td>1008.4</td>\n      <td>8</td>\n      <td>24.8</td>\n      <td>31.7</td>\n      <td>0</td>\n      <td>12.7</td>\n      <td>-24</td>\n      <td>13.0</td>\n    </tr>\n    <tr>\n      <th>2</th>\n      <td>1</td>\n      <td>18.4</td>\n      <td>23.1</td>\n      <td>2.2</td>\n      <td>48</td>\n      <td>11</td>\n      <td>39</td>\n      <td>62</td>\n      <td>67</td>\n      <td>1014.0</td>\n      <td>1014.8</td>\n      <td>8</td>\n      <td>21.8</td>\n      <td>19.5</td>\n      <td>1</td>\n      <td>4.7</td>\n      <td>5</td>\n      <td>25.0</td>\n    </tr>\n    <tr>\n      <th>3</th>\n      <td>1</td>\n      <td>17.3</td>\n      <td>23.7</td>\n      <td>15.6</td>\n      <td>39</td>\n      <td>9</td>\n      <td>17</td>\n      <td>74</td>\n      <td>65</td>\n      <td>1017.9</td>\n      <td>1016.5</td>\n      <td>8</td>\n      <td>19.2</td>\n      <td>21.6</td>\n      <td>1</td>\n      <td>6.4</td>\n      <td>-9</td>\n      <td>13.0</td>\n    </tr>\n    <tr>\n      <th>4</th>\n      <td>1</td>\n      <td>15.5</td>\n      <td>22.9</td>\n      <td>6.8</td>\n      <td>31</td>\n      <td>6</td>\n      <td>9</td>\n      <td>92</td>\n      <td>63</td>\n      <td>1016.3</td>\n      <td>1013.9</td>\n      <td>8</td>\n      <td>17.2</td>\n      <td>22.2</td>\n      <td>1</td>\n      <td>7.4</td>\n      <td>-29</td>\n      <td>7.5</td>\n    </tr>\n    <tr>\n      <th>...</th>\n      <td>...</td>\n      <td>...</td>\n      <td>...</td>\n      <td>...</td>\n      <td>...</td>\n      <td>...</td>\n      <td>...</td>\n      <td>...</td>\n      <td>...</td>\n      <td>...</td>\n      <td>...</td>\n      <td>...</td>\n      <td>...</td>\n      <td>...</td>\n      <td>...</td>\n      <td>...</td>\n      <td>...</td>\n      <td>...</td>\n    </tr>\n    <tr>\n      <th>14463</th>\n      <td>12</td>\n      <td>22.1</td>\n      <td>35.8</td>\n      <td>63.8</td>\n      <td>43</td>\n      <td>17</td>\n      <td>31</td>\n      <td>77</td>\n      <td>41</td>\n      <td>997.8</td>\n      <td>995.2</td>\n      <td>2</td>\n      <td>26.0</td>\n      <td>33.5</td>\n      <td>1</td>\n      <td>13.7</td>\n      <td>-36</td>\n      <td>24.0</td>\n    </tr>\n    <tr>\n      <th>14464</th>\n      <td>12</td>\n      <td>22.6</td>\n      <td>36.8</td>\n      <td>0.0</td>\n      <td>50</td>\n      <td>30</td>\n      <td>15</td>\n      <td>63</td>\n      <td>39</td>\n      <td>1000.0</td>\n      <td>998.8</td>\n      <td>-1</td>\n      <td>29.7</td>\n      <td>34.0</td>\n      <td>0</td>\n      <td>14.2</td>\n      <td>-24</td>\n      <td>22.5</td>\n    </tr>\n    <tr>\n      <th>14465</th>\n      <td>12</td>\n      <td>23.2</td>\n      <td>38.0</td>\n      <td>0.0</td>\n      <td>33</td>\n      <td>17</td>\n      <td>17</td>\n      <td>25</td>\n      <td>14</td>\n      <td>1004.4</td>\n      <td>1001.0</td>\n      <td>-1</td>\n      <td>28.7</td>\n      <td>36.4</td>\n      <td>0</td>\n      <td>14.8</td>\n      <td>-11</td>\n      <td>17.0</td>\n    </tr>\n    <tr>\n      <th>14466</th>\n      <td>12</td>\n      <td>19.7</td>\n      <td>37.0</td>\n      <td>0.0</td>\n      <td>37</td>\n      <td>22</td>\n      <td>6</td>\n      <td>30</td>\n      <td>23</td>\n      <td>1004.6</td>\n      <td>1000.9</td>\n      <td>-1</td>\n      <td>28.2</td>\n      <td>35.1</td>\n      <td>0</td>\n      <td>17.3</td>\n      <td>-7</td>\n      <td>14.0</td>\n    </tr>\n    <tr>\n      <th>14467</th>\n      <td>12</td>\n      <td>23.7</td>\n      <td>33.0</td>\n      <td>0.0</td>\n      <td>46</td>\n      <td>24</td>\n      <td>17</td>\n      <td>40</td>\n      <td>38</td>\n      <td>1005.1</td>\n      <td>1002.7</td>\n      <td>-1</td>\n      <td>30.1</td>\n      <td>31.5</td>\n      <td>0</td>\n      <td>9.3</td>\n      <td>-2</td>\n      <td>20.5</td>\n    </tr>\n  </tbody>\n</table>\n<p>14468 rows × 18 columns</p>\n</div>"
     },
     "execution_count": 9,
     "metadata": {},
     "output_type": "execute_result"
    }
   ],
   "source": [
    "df"
   ],
   "metadata": {
    "ExecuteTime": {
     "start_time": "2023-06-02T16:13:47.162828Z",
     "end_time": "2023-06-02T16:13:47.174059Z"
    },
    "id": "c15EWPmY-Ta6",
    "outputId": "f95e2c66-1d88-4242-bf28-efae6a8f68d4",
    "colab": {
     "base_uri": "https://localhost:8080/",
     "height": 487
    }
   }
  },
  {
   "cell_type": "code",
   "execution_count": 10,
   "outputs": [
    {
     "data": {
      "text/plain": "       Month  MinTemp  MaxTemp  Rainfall  WindGustSpeed  WindSpeed9am  \\\n0          1     20.4     37.6       0.0             54             0   \n1          1     20.9     33.6       0.4             50             9   \n2          1     18.4     23.1       2.2             48            11   \n3          1     17.3     23.7      15.6             39             9   \n4          1     15.5     22.9       6.8             31             6   \n...      ...      ...      ...       ...            ...           ...   \n14463     12     22.1     35.8      63.8             43            17   \n14464     12     22.6     36.8       0.0             50            30   \n14465     12     23.2     38.0       0.0             33            17   \n14466     12     19.7     37.0       0.0             37            22   \n14467     12     23.7     33.0       0.0             46            24   \n\n       WindSpeed3pm  Humidity9am  Humidity3pm  Pressure9am  Pressure3pm  \\\n0                 7           46           17       1013.4       1009.2   \n1                17           54           30       1011.1       1008.4   \n2                39           62           67       1014.0       1014.8   \n3                17           74           65       1017.9       1016.5   \n4                 9           92           63       1016.3       1013.9   \n...             ...          ...          ...          ...          ...   \n14463            31           77           41        997.8        995.2   \n14464            15           63           39       1000.0        998.8   \n14465            17           25           14       1004.4       1001.0   \n14466             6           30           23       1004.6       1000.9   \n14467            17           40           38       1005.1       1002.7   \n\n       Cloud3pm  Temp9am  Temp3pm  RainToday  Escursione_Giornaliera  \\\n0             3     26.1     36.7          0                    17.2   \n1             8     24.8     31.7          0                    12.7   \n2             8     21.8     19.5          1                     4.7   \n3             8     19.2     21.6          1                     6.4   \n4             8     17.2     22.2          1                     7.4   \n...         ...      ...      ...        ...                     ...   \n14463         2     26.0     33.5          1                    13.7   \n14464        -1     29.7     34.0          0                    14.2   \n14465        -1     28.7     36.4          0                    14.8   \n14466        -1     28.2     35.1          0                    17.3   \n14467        -1     30.1     31.5          0                     9.3   \n\n       Diff_umidità  Vento_medio  RainTomorrow  \n0               -29          3.5             0  \n1               -24         13.0             1  \n2                 5         25.0             1  \n3                -9         13.0             1  \n4               -29          7.5             0  \n...             ...          ...           ...  \n14463           -36         24.0             0  \n14464           -24         22.5             0  \n14465           -11         17.0             0  \n14466            -7         14.0             0  \n14467            -2         20.5             0  \n\n[14468 rows x 19 columns]",
      "text/html": "<div>\n<style scoped>\n    .dataframe tbody tr th:only-of-type {\n        vertical-align: middle;\n    }\n\n    .dataframe tbody tr th {\n        vertical-align: top;\n    }\n\n    .dataframe thead th {\n        text-align: right;\n    }\n</style>\n<table border=\"1\" class=\"dataframe\">\n  <thead>\n    <tr style=\"text-align: right;\">\n      <th></th>\n      <th>Month</th>\n      <th>MinTemp</th>\n      <th>MaxTemp</th>\n      <th>Rainfall</th>\n      <th>WindGustSpeed</th>\n      <th>WindSpeed9am</th>\n      <th>WindSpeed3pm</th>\n      <th>Humidity9am</th>\n      <th>Humidity3pm</th>\n      <th>Pressure9am</th>\n      <th>Pressure3pm</th>\n      <th>Cloud3pm</th>\n      <th>Temp9am</th>\n      <th>Temp3pm</th>\n      <th>RainToday</th>\n      <th>Escursione_Giornaliera</th>\n      <th>Diff_umidità</th>\n      <th>Vento_medio</th>\n      <th>RainTomorrow</th>\n    </tr>\n  </thead>\n  <tbody>\n    <tr>\n      <th>0</th>\n      <td>1</td>\n      <td>20.4</td>\n      <td>37.6</td>\n      <td>0.0</td>\n      <td>54</td>\n      <td>0</td>\n      <td>7</td>\n      <td>46</td>\n      <td>17</td>\n      <td>1013.4</td>\n      <td>1009.2</td>\n      <td>3</td>\n      <td>26.1</td>\n      <td>36.7</td>\n      <td>0</td>\n      <td>17.2</td>\n      <td>-29</td>\n      <td>3.5</td>\n      <td>0</td>\n    </tr>\n    <tr>\n      <th>1</th>\n      <td>1</td>\n      <td>20.9</td>\n      <td>33.6</td>\n      <td>0.4</td>\n      <td>50</td>\n      <td>9</td>\n      <td>17</td>\n      <td>54</td>\n      <td>30</td>\n      <td>1011.1</td>\n      <td>1008.4</td>\n      <td>8</td>\n      <td>24.8</td>\n      <td>31.7</td>\n      <td>0</td>\n      <td>12.7</td>\n      <td>-24</td>\n      <td>13.0</td>\n      <td>1</td>\n    </tr>\n    <tr>\n      <th>2</th>\n      <td>1</td>\n      <td>18.4</td>\n      <td>23.1</td>\n      <td>2.2</td>\n      <td>48</td>\n      <td>11</td>\n      <td>39</td>\n      <td>62</td>\n      <td>67</td>\n      <td>1014.0</td>\n      <td>1014.8</td>\n      <td>8</td>\n      <td>21.8</td>\n      <td>19.5</td>\n      <td>1</td>\n      <td>4.7</td>\n      <td>5</td>\n      <td>25.0</td>\n      <td>1</td>\n    </tr>\n    <tr>\n      <th>3</th>\n      <td>1</td>\n      <td>17.3</td>\n      <td>23.7</td>\n      <td>15.6</td>\n      <td>39</td>\n      <td>9</td>\n      <td>17</td>\n      <td>74</td>\n      <td>65</td>\n      <td>1017.9</td>\n      <td>1016.5</td>\n      <td>8</td>\n      <td>19.2</td>\n      <td>21.6</td>\n      <td>1</td>\n      <td>6.4</td>\n      <td>-9</td>\n      <td>13.0</td>\n      <td>1</td>\n    </tr>\n    <tr>\n      <th>4</th>\n      <td>1</td>\n      <td>15.5</td>\n      <td>22.9</td>\n      <td>6.8</td>\n      <td>31</td>\n      <td>6</td>\n      <td>9</td>\n      <td>92</td>\n      <td>63</td>\n      <td>1016.3</td>\n      <td>1013.9</td>\n      <td>8</td>\n      <td>17.2</td>\n      <td>22.2</td>\n      <td>1</td>\n      <td>7.4</td>\n      <td>-29</td>\n      <td>7.5</td>\n      <td>0</td>\n    </tr>\n    <tr>\n      <th>...</th>\n      <td>...</td>\n      <td>...</td>\n      <td>...</td>\n      <td>...</td>\n      <td>...</td>\n      <td>...</td>\n      <td>...</td>\n      <td>...</td>\n      <td>...</td>\n      <td>...</td>\n      <td>...</td>\n      <td>...</td>\n      <td>...</td>\n      <td>...</td>\n      <td>...</td>\n      <td>...</td>\n      <td>...</td>\n      <td>...</td>\n      <td>...</td>\n    </tr>\n    <tr>\n      <th>14463</th>\n      <td>12</td>\n      <td>22.1</td>\n      <td>35.8</td>\n      <td>63.8</td>\n      <td>43</td>\n      <td>17</td>\n      <td>31</td>\n      <td>77</td>\n      <td>41</td>\n      <td>997.8</td>\n      <td>995.2</td>\n      <td>2</td>\n      <td>26.0</td>\n      <td>33.5</td>\n      <td>1</td>\n      <td>13.7</td>\n      <td>-36</td>\n      <td>24.0</td>\n      <td>0</td>\n    </tr>\n    <tr>\n      <th>14464</th>\n      <td>12</td>\n      <td>22.6</td>\n      <td>36.8</td>\n      <td>0.0</td>\n      <td>50</td>\n      <td>30</td>\n      <td>15</td>\n      <td>63</td>\n      <td>39</td>\n      <td>1000.0</td>\n      <td>998.8</td>\n      <td>-1</td>\n      <td>29.7</td>\n      <td>34.0</td>\n      <td>0</td>\n      <td>14.2</td>\n      <td>-24</td>\n      <td>22.5</td>\n      <td>0</td>\n    </tr>\n    <tr>\n      <th>14465</th>\n      <td>12</td>\n      <td>23.2</td>\n      <td>38.0</td>\n      <td>0.0</td>\n      <td>33</td>\n      <td>17</td>\n      <td>17</td>\n      <td>25</td>\n      <td>14</td>\n      <td>1004.4</td>\n      <td>1001.0</td>\n      <td>-1</td>\n      <td>28.7</td>\n      <td>36.4</td>\n      <td>0</td>\n      <td>14.8</td>\n      <td>-11</td>\n      <td>17.0</td>\n      <td>0</td>\n    </tr>\n    <tr>\n      <th>14466</th>\n      <td>12</td>\n      <td>19.7</td>\n      <td>37.0</td>\n      <td>0.0</td>\n      <td>37</td>\n      <td>22</td>\n      <td>6</td>\n      <td>30</td>\n      <td>23</td>\n      <td>1004.6</td>\n      <td>1000.9</td>\n      <td>-1</td>\n      <td>28.2</td>\n      <td>35.1</td>\n      <td>0</td>\n      <td>17.3</td>\n      <td>-7</td>\n      <td>14.0</td>\n      <td>0</td>\n    </tr>\n    <tr>\n      <th>14467</th>\n      <td>12</td>\n      <td>23.7</td>\n      <td>33.0</td>\n      <td>0.0</td>\n      <td>46</td>\n      <td>24</td>\n      <td>17</td>\n      <td>40</td>\n      <td>38</td>\n      <td>1005.1</td>\n      <td>1002.7</td>\n      <td>-1</td>\n      <td>30.1</td>\n      <td>31.5</td>\n      <td>0</td>\n      <td>9.3</td>\n      <td>-2</td>\n      <td>20.5</td>\n      <td>0</td>\n    </tr>\n  </tbody>\n</table>\n<p>14468 rows × 19 columns</p>\n</div>"
     },
     "execution_count": 10,
     "metadata": {},
     "output_type": "execute_result"
    }
   ],
   "source": [
    "df_with_Tomorrow = df.copy()\n",
    "df_with_Tomorrow['RainTomorrow'] = y\n",
    "df_with_Tomorrow"
   ],
   "metadata": {
    "ExecuteTime": {
     "start_time": "2023-06-02T16:13:47.174432Z",
     "end_time": "2023-06-02T16:13:47.210991Z"
    },
    "id": "fqBY0mk6-Ta7",
    "outputId": "dff50a93-0de2-4f65-c90b-76101eca5f96",
    "colab": {
     "base_uri": "https://localhost:8080/",
     "height": 487
    }
   }
  },
  {
   "cell_type": "code",
   "execution_count": 11,
   "outputs": [],
   "source": [
    "df_no_cloud  = df_with_Tomorrow[df_with_Tomorrow['Cloud3pm']  > 0]"
   ],
   "metadata": {
    "ExecuteTime": {
     "start_time": "2023-06-02T16:13:47.186836Z",
     "end_time": "2023-06-02T16:13:47.219619Z"
    },
    "id": "YBcWX1Ym-Ta7",
    "outputId": "646bf5be-65e5-4336-eec6-9e95dd67d07a",
    "colab": {
     "base_uri": "https://localhost:8080/",
     "height": 487
    }
   }
  },
  {
   "cell_type": "code",
   "execution_count": 12,
   "outputs": [
    {
     "data": {
      "text/plain": "       Month  MinTemp  MaxTemp  Rainfall  WindGustSpeed  WindSpeed9am  \\\n0          1     20.4     37.6       0.0             54             0   \n1          1     20.9     33.6       0.4             50             9   \n2          1     18.4     23.1       2.2             48            11   \n3          1     17.3     23.7      15.6             39             9   \n4          1     15.5     22.9       6.8             31             6   \n...      ...      ...      ...       ...            ...           ...   \n14459     12     24.8     32.6       0.0             44            20   \n14460     12     22.9     29.9      21.8             35            13   \n14461     12     22.8     29.5       9.2             54            19   \n14462     12     22.1     27.4      83.8             72            31   \n14463     12     22.1     35.8      63.8             43            17   \n\n       WindSpeed3pm  Humidity9am  Humidity3pm  Pressure9am  Pressure3pm  \\\n0                 7           46           17       1013.4       1009.2   \n1                17           54           30       1011.1       1008.4   \n2                39           62           67       1014.0       1014.8   \n3                17           74           65       1017.9       1016.5   \n4                 9           92           63       1016.3       1013.9   \n...             ...          ...          ...          ...          ...   \n14459            11           59           57       1007.5       1004.0   \n14460            19           85           58       1008.8       1005.1   \n14461            26           96           75       1005.5       1001.1   \n14462            43          100          100        994.6        989.2   \n14463            31           77           41        997.8        995.2   \n\n       Temp9am  Temp3pm  RainToday  Escursione_Giornaliera  Diff_umidità  \\\n0         26.1     36.7          0                    17.2           -29   \n1         24.8     31.7          0                    12.7           -24   \n2         21.8     19.5          1                     4.7             5   \n3         19.2     21.6          1                     6.4            -9   \n4         17.2     22.2          1                     7.4           -29   \n...        ...      ...        ...                     ...           ...   \n14459     28.2     30.0          0                     7.8            -2   \n14460     24.6     29.3          1                     7.0           -27   \n14461     24.3     28.0          1                     6.7           -21   \n14462     22.2     24.2          1                     5.3             0   \n14463     26.0     33.5          1                    13.7           -36   \n\n       Vento_medio  RainTomorrow  \n0              3.5             0  \n1             13.0             1  \n2             25.0             1  \n3             13.0             1  \n4              7.5             0  \n...            ...           ...  \n14459         15.5             1  \n14460         16.0             1  \n14461         22.5             1  \n14462         37.0             1  \n14463         24.0             0  \n\n[8086 rows x 18 columns]",
      "text/html": "<div>\n<style scoped>\n    .dataframe tbody tr th:only-of-type {\n        vertical-align: middle;\n    }\n\n    .dataframe tbody tr th {\n        vertical-align: top;\n    }\n\n    .dataframe thead th {\n        text-align: right;\n    }\n</style>\n<table border=\"1\" class=\"dataframe\">\n  <thead>\n    <tr style=\"text-align: right;\">\n      <th></th>\n      <th>Month</th>\n      <th>MinTemp</th>\n      <th>MaxTemp</th>\n      <th>Rainfall</th>\n      <th>WindGustSpeed</th>\n      <th>WindSpeed9am</th>\n      <th>WindSpeed3pm</th>\n      <th>Humidity9am</th>\n      <th>Humidity3pm</th>\n      <th>Pressure9am</th>\n      <th>Pressure3pm</th>\n      <th>Temp9am</th>\n      <th>Temp3pm</th>\n      <th>RainToday</th>\n      <th>Escursione_Giornaliera</th>\n      <th>Diff_umidità</th>\n      <th>Vento_medio</th>\n      <th>RainTomorrow</th>\n    </tr>\n  </thead>\n  <tbody>\n    <tr>\n      <th>0</th>\n      <td>1</td>\n      <td>20.4</td>\n      <td>37.6</td>\n      <td>0.0</td>\n      <td>54</td>\n      <td>0</td>\n      <td>7</td>\n      <td>46</td>\n      <td>17</td>\n      <td>1013.4</td>\n      <td>1009.2</td>\n      <td>26.1</td>\n      <td>36.7</td>\n      <td>0</td>\n      <td>17.2</td>\n      <td>-29</td>\n      <td>3.5</td>\n      <td>0</td>\n    </tr>\n    <tr>\n      <th>1</th>\n      <td>1</td>\n      <td>20.9</td>\n      <td>33.6</td>\n      <td>0.4</td>\n      <td>50</td>\n      <td>9</td>\n      <td>17</td>\n      <td>54</td>\n      <td>30</td>\n      <td>1011.1</td>\n      <td>1008.4</td>\n      <td>24.8</td>\n      <td>31.7</td>\n      <td>0</td>\n      <td>12.7</td>\n      <td>-24</td>\n      <td>13.0</td>\n      <td>1</td>\n    </tr>\n    <tr>\n      <th>2</th>\n      <td>1</td>\n      <td>18.4</td>\n      <td>23.1</td>\n      <td>2.2</td>\n      <td>48</td>\n      <td>11</td>\n      <td>39</td>\n      <td>62</td>\n      <td>67</td>\n      <td>1014.0</td>\n      <td>1014.8</td>\n      <td>21.8</td>\n      <td>19.5</td>\n      <td>1</td>\n      <td>4.7</td>\n      <td>5</td>\n      <td>25.0</td>\n      <td>1</td>\n    </tr>\n    <tr>\n      <th>3</th>\n      <td>1</td>\n      <td>17.3</td>\n      <td>23.7</td>\n      <td>15.6</td>\n      <td>39</td>\n      <td>9</td>\n      <td>17</td>\n      <td>74</td>\n      <td>65</td>\n      <td>1017.9</td>\n      <td>1016.5</td>\n      <td>19.2</td>\n      <td>21.6</td>\n      <td>1</td>\n      <td>6.4</td>\n      <td>-9</td>\n      <td>13.0</td>\n      <td>1</td>\n    </tr>\n    <tr>\n      <th>4</th>\n      <td>1</td>\n      <td>15.5</td>\n      <td>22.9</td>\n      <td>6.8</td>\n      <td>31</td>\n      <td>6</td>\n      <td>9</td>\n      <td>92</td>\n      <td>63</td>\n      <td>1016.3</td>\n      <td>1013.9</td>\n      <td>17.2</td>\n      <td>22.2</td>\n      <td>1</td>\n      <td>7.4</td>\n      <td>-29</td>\n      <td>7.5</td>\n      <td>0</td>\n    </tr>\n    <tr>\n      <th>...</th>\n      <td>...</td>\n      <td>...</td>\n      <td>...</td>\n      <td>...</td>\n      <td>...</td>\n      <td>...</td>\n      <td>...</td>\n      <td>...</td>\n      <td>...</td>\n      <td>...</td>\n      <td>...</td>\n      <td>...</td>\n      <td>...</td>\n      <td>...</td>\n      <td>...</td>\n      <td>...</td>\n      <td>...</td>\n      <td>...</td>\n    </tr>\n    <tr>\n      <th>14459</th>\n      <td>12</td>\n      <td>24.8</td>\n      <td>32.6</td>\n      <td>0.0</td>\n      <td>44</td>\n      <td>20</td>\n      <td>11</td>\n      <td>59</td>\n      <td>57</td>\n      <td>1007.5</td>\n      <td>1004.0</td>\n      <td>28.2</td>\n      <td>30.0</td>\n      <td>0</td>\n      <td>7.8</td>\n      <td>-2</td>\n      <td>15.5</td>\n      <td>1</td>\n    </tr>\n    <tr>\n      <th>14460</th>\n      <td>12</td>\n      <td>22.9</td>\n      <td>29.9</td>\n      <td>21.8</td>\n      <td>35</td>\n      <td>13</td>\n      <td>19</td>\n      <td>85</td>\n      <td>58</td>\n      <td>1008.8</td>\n      <td>1005.1</td>\n      <td>24.6</td>\n      <td>29.3</td>\n      <td>1</td>\n      <td>7.0</td>\n      <td>-27</td>\n      <td>16.0</td>\n      <td>1</td>\n    </tr>\n    <tr>\n      <th>14461</th>\n      <td>12</td>\n      <td>22.8</td>\n      <td>29.5</td>\n      <td>9.2</td>\n      <td>54</td>\n      <td>19</td>\n      <td>26</td>\n      <td>96</td>\n      <td>75</td>\n      <td>1005.5</td>\n      <td>1001.1</td>\n      <td>24.3</td>\n      <td>28.0</td>\n      <td>1</td>\n      <td>6.7</td>\n      <td>-21</td>\n      <td>22.5</td>\n      <td>1</td>\n    </tr>\n    <tr>\n      <th>14462</th>\n      <td>12</td>\n      <td>22.1</td>\n      <td>27.4</td>\n      <td>83.8</td>\n      <td>72</td>\n      <td>31</td>\n      <td>43</td>\n      <td>100</td>\n      <td>100</td>\n      <td>994.6</td>\n      <td>989.2</td>\n      <td>22.2</td>\n      <td>24.2</td>\n      <td>1</td>\n      <td>5.3</td>\n      <td>0</td>\n      <td>37.0</td>\n      <td>1</td>\n    </tr>\n    <tr>\n      <th>14463</th>\n      <td>12</td>\n      <td>22.1</td>\n      <td>35.8</td>\n      <td>63.8</td>\n      <td>43</td>\n      <td>17</td>\n      <td>31</td>\n      <td>77</td>\n      <td>41</td>\n      <td>997.8</td>\n      <td>995.2</td>\n      <td>26.0</td>\n      <td>33.5</td>\n      <td>1</td>\n      <td>13.7</td>\n      <td>-36</td>\n      <td>24.0</td>\n      <td>0</td>\n    </tr>\n  </tbody>\n</table>\n<p>8086 rows × 18 columns</p>\n</div>"
     },
     "execution_count": 12,
     "metadata": {},
     "output_type": "execute_result"
    }
   ],
   "source": [
    "y_cloud = df_no_cloud ['Cloud3pm']\n",
    "df_no_cloud = df_no_cloud.drop('Cloud3pm',axis=1)\n",
    "df_no_cloud"
   ],
   "metadata": {
    "ExecuteTime": {
     "start_time": "2023-06-02T16:13:47.190483Z",
     "end_time": "2023-06-02T16:13:47.228674Z"
    },
    "id": "97pGkkLU-Ta7",
    "outputId": "ca7599ed-e877-4d1c-8bd6-22922f3f0e88",
    "colab": {
     "base_uri": "https://localhost:8080/"
    }
   }
  },
  {
   "cell_type": "code",
   "execution_count": 13,
   "outputs": [
    {
     "data": {
      "text/plain": "array([2, 7, 8, ..., 7, 8, 8])"
     },
     "execution_count": 13,
     "metadata": {},
     "output_type": "execute_result"
    }
   ],
   "source": [
    "X_train, X_test, y_train, y_test = train_test_split(df_no_cloud,y_cloud, test_size=0.2,random_state=0)\n",
    "\n",
    "model = classifiers[0]\n",
    "model.fit(X_train,y_train)\n",
    "pred = model.predict(X_test)\n",
    "pred"
   ],
   "metadata": {
    "ExecuteTime": {
     "start_time": "2023-06-02T16:13:47.203245Z",
     "end_time": "2023-06-02T16:13:48.375018Z"
    },
    "id": "3rmj1paJ-Ta7",
    "outputId": "e437e0e9-9b51-4ff0-e974-f74219ca23dc",
    "colab": {
     "base_uri": "https://localhost:8080/"
    }
   }
  },
  {
   "cell_type": "code",
   "execution_count": 14,
   "outputs": [],
   "source": [
    "media = pred.mean()"
   ],
   "metadata": {
    "collapsed": false,
    "ExecuteTime": {
     "start_time": "2023-06-02T16:13:48.377412Z",
     "end_time": "2023-06-02T16:13:48.379467Z"
    }
   }
  },
  {
   "cell_type": "markdown",
   "source": [
    "Poi sostituiamo il valore predetto con -1"
   ],
   "metadata": {
    "id": "Q99Q9jMdAKbc"
   }
  },
  {
   "cell_type": "code",
   "source": [
    "df_replaced = df.replace(-1,media)\n",
    "df_replaced"
   ],
   "metadata": {
    "id": "GXOgUJgiAcgr",
    "outputId": "7b033439-ec21-44cf-96e4-6a1ea04562de",
    "colab": {
     "base_uri": "https://localhost:8080/",
     "height": 487
    },
    "ExecuteTime": {
     "start_time": "2023-06-02T16:13:48.380184Z",
     "end_time": "2023-06-02T16:13:48.392595Z"
    }
   },
   "execution_count": 15,
   "outputs": [
    {
     "data": {
      "text/plain": "       Month  MinTemp  MaxTemp  Rainfall  WindGustSpeed  WindSpeed9am  \\\n0          1     20.4     37.6       0.0             54             0   \n1          1     20.9     33.6       0.4             50             9   \n2          1     18.4     23.1       2.2             48            11   \n3          1     17.3     23.7      15.6             39             9   \n4          1     15.5     22.9       6.8             31             6   \n...      ...      ...      ...       ...            ...           ...   \n14463     12     22.1     35.8      63.8             43            17   \n14464     12     22.6     36.8       0.0             50            30   \n14465     12     23.2     38.0       0.0             33            17   \n14466     12     19.7     37.0       0.0             37            22   \n14467     12     23.7     33.0       0.0             46            24   \n\n       WindSpeed3pm  Humidity9am  Humidity3pm  Pressure9am  Pressure3pm  \\\n0                 7           46           17       1013.4       1009.2   \n1                17           54           30       1011.1       1008.4   \n2                39           62           67       1014.0       1014.8   \n3                17           74           65       1017.9       1016.5   \n4                 9           92           63       1016.3       1013.9   \n...             ...          ...          ...          ...          ...   \n14463            31           77           41        997.8        995.2   \n14464            15           63           39       1000.0        998.8   \n14465            17           25           14       1004.4       1001.0   \n14466             6           30           23       1004.6       1000.9   \n14467            17           40           38       1005.1       1002.7   \n\n       Cloud3pm  Temp9am  Temp3pm  RainToday  Escursione_Giornaliera  \\\n0      3.000000     26.1     36.7          0                    17.2   \n1      8.000000     24.8     31.7          0                    12.7   \n2      8.000000     21.8     19.5          1                     4.7   \n3      8.000000     19.2     21.6          1                     6.4   \n4      8.000000     17.2     22.2          1                     7.4   \n...         ...      ...      ...        ...                     ...   \n14463  2.000000     26.0     33.5          1                    13.7   \n14464  5.125464     29.7     34.0          0                    14.2   \n14465  5.125464     28.7     36.4          0                    14.8   \n14466  5.125464     28.2     35.1          0                    17.3   \n14467  5.125464     30.1     31.5          0                     9.3   \n\n       Diff_umidità  Vento_medio  \n0             -29.0          3.5  \n1             -24.0         13.0  \n2               5.0         25.0  \n3              -9.0         13.0  \n4             -29.0          7.5  \n...             ...          ...  \n14463         -36.0         24.0  \n14464         -24.0         22.5  \n14465         -11.0         17.0  \n14466          -7.0         14.0  \n14467          -2.0         20.5  \n\n[14468 rows x 18 columns]",
      "text/html": "<div>\n<style scoped>\n    .dataframe tbody tr th:only-of-type {\n        vertical-align: middle;\n    }\n\n    .dataframe tbody tr th {\n        vertical-align: top;\n    }\n\n    .dataframe thead th {\n        text-align: right;\n    }\n</style>\n<table border=\"1\" class=\"dataframe\">\n  <thead>\n    <tr style=\"text-align: right;\">\n      <th></th>\n      <th>Month</th>\n      <th>MinTemp</th>\n      <th>MaxTemp</th>\n      <th>Rainfall</th>\n      <th>WindGustSpeed</th>\n      <th>WindSpeed9am</th>\n      <th>WindSpeed3pm</th>\n      <th>Humidity9am</th>\n      <th>Humidity3pm</th>\n      <th>Pressure9am</th>\n      <th>Pressure3pm</th>\n      <th>Cloud3pm</th>\n      <th>Temp9am</th>\n      <th>Temp3pm</th>\n      <th>RainToday</th>\n      <th>Escursione_Giornaliera</th>\n      <th>Diff_umidità</th>\n      <th>Vento_medio</th>\n    </tr>\n  </thead>\n  <tbody>\n    <tr>\n      <th>0</th>\n      <td>1</td>\n      <td>20.4</td>\n      <td>37.6</td>\n      <td>0.0</td>\n      <td>54</td>\n      <td>0</td>\n      <td>7</td>\n      <td>46</td>\n      <td>17</td>\n      <td>1013.4</td>\n      <td>1009.2</td>\n      <td>3.000000</td>\n      <td>26.1</td>\n      <td>36.7</td>\n      <td>0</td>\n      <td>17.2</td>\n      <td>-29.0</td>\n      <td>3.5</td>\n    </tr>\n    <tr>\n      <th>1</th>\n      <td>1</td>\n      <td>20.9</td>\n      <td>33.6</td>\n      <td>0.4</td>\n      <td>50</td>\n      <td>9</td>\n      <td>17</td>\n      <td>54</td>\n      <td>30</td>\n      <td>1011.1</td>\n      <td>1008.4</td>\n      <td>8.000000</td>\n      <td>24.8</td>\n      <td>31.7</td>\n      <td>0</td>\n      <td>12.7</td>\n      <td>-24.0</td>\n      <td>13.0</td>\n    </tr>\n    <tr>\n      <th>2</th>\n      <td>1</td>\n      <td>18.4</td>\n      <td>23.1</td>\n      <td>2.2</td>\n      <td>48</td>\n      <td>11</td>\n      <td>39</td>\n      <td>62</td>\n      <td>67</td>\n      <td>1014.0</td>\n      <td>1014.8</td>\n      <td>8.000000</td>\n      <td>21.8</td>\n      <td>19.5</td>\n      <td>1</td>\n      <td>4.7</td>\n      <td>5.0</td>\n      <td>25.0</td>\n    </tr>\n    <tr>\n      <th>3</th>\n      <td>1</td>\n      <td>17.3</td>\n      <td>23.7</td>\n      <td>15.6</td>\n      <td>39</td>\n      <td>9</td>\n      <td>17</td>\n      <td>74</td>\n      <td>65</td>\n      <td>1017.9</td>\n      <td>1016.5</td>\n      <td>8.000000</td>\n      <td>19.2</td>\n      <td>21.6</td>\n      <td>1</td>\n      <td>6.4</td>\n      <td>-9.0</td>\n      <td>13.0</td>\n    </tr>\n    <tr>\n      <th>4</th>\n      <td>1</td>\n      <td>15.5</td>\n      <td>22.9</td>\n      <td>6.8</td>\n      <td>31</td>\n      <td>6</td>\n      <td>9</td>\n      <td>92</td>\n      <td>63</td>\n      <td>1016.3</td>\n      <td>1013.9</td>\n      <td>8.000000</td>\n      <td>17.2</td>\n      <td>22.2</td>\n      <td>1</td>\n      <td>7.4</td>\n      <td>-29.0</td>\n      <td>7.5</td>\n    </tr>\n    <tr>\n      <th>...</th>\n      <td>...</td>\n      <td>...</td>\n      <td>...</td>\n      <td>...</td>\n      <td>...</td>\n      <td>...</td>\n      <td>...</td>\n      <td>...</td>\n      <td>...</td>\n      <td>...</td>\n      <td>...</td>\n      <td>...</td>\n      <td>...</td>\n      <td>...</td>\n      <td>...</td>\n      <td>...</td>\n      <td>...</td>\n      <td>...</td>\n    </tr>\n    <tr>\n      <th>14463</th>\n      <td>12</td>\n      <td>22.1</td>\n      <td>35.8</td>\n      <td>63.8</td>\n      <td>43</td>\n      <td>17</td>\n      <td>31</td>\n      <td>77</td>\n      <td>41</td>\n      <td>997.8</td>\n      <td>995.2</td>\n      <td>2.000000</td>\n      <td>26.0</td>\n      <td>33.5</td>\n      <td>1</td>\n      <td>13.7</td>\n      <td>-36.0</td>\n      <td>24.0</td>\n    </tr>\n    <tr>\n      <th>14464</th>\n      <td>12</td>\n      <td>22.6</td>\n      <td>36.8</td>\n      <td>0.0</td>\n      <td>50</td>\n      <td>30</td>\n      <td>15</td>\n      <td>63</td>\n      <td>39</td>\n      <td>1000.0</td>\n      <td>998.8</td>\n      <td>5.125464</td>\n      <td>29.7</td>\n      <td>34.0</td>\n      <td>0</td>\n      <td>14.2</td>\n      <td>-24.0</td>\n      <td>22.5</td>\n    </tr>\n    <tr>\n      <th>14465</th>\n      <td>12</td>\n      <td>23.2</td>\n      <td>38.0</td>\n      <td>0.0</td>\n      <td>33</td>\n      <td>17</td>\n      <td>17</td>\n      <td>25</td>\n      <td>14</td>\n      <td>1004.4</td>\n      <td>1001.0</td>\n      <td>5.125464</td>\n      <td>28.7</td>\n      <td>36.4</td>\n      <td>0</td>\n      <td>14.8</td>\n      <td>-11.0</td>\n      <td>17.0</td>\n    </tr>\n    <tr>\n      <th>14466</th>\n      <td>12</td>\n      <td>19.7</td>\n      <td>37.0</td>\n      <td>0.0</td>\n      <td>37</td>\n      <td>22</td>\n      <td>6</td>\n      <td>30</td>\n      <td>23</td>\n      <td>1004.6</td>\n      <td>1000.9</td>\n      <td>5.125464</td>\n      <td>28.2</td>\n      <td>35.1</td>\n      <td>0</td>\n      <td>17.3</td>\n      <td>-7.0</td>\n      <td>14.0</td>\n    </tr>\n    <tr>\n      <th>14467</th>\n      <td>12</td>\n      <td>23.7</td>\n      <td>33.0</td>\n      <td>0.0</td>\n      <td>46</td>\n      <td>24</td>\n      <td>17</td>\n      <td>40</td>\n      <td>38</td>\n      <td>1005.1</td>\n      <td>1002.7</td>\n      <td>5.125464</td>\n      <td>30.1</td>\n      <td>31.5</td>\n      <td>0</td>\n      <td>9.3</td>\n      <td>-2.0</td>\n      <td>20.5</td>\n    </tr>\n  </tbody>\n</table>\n<p>14468 rows × 18 columns</p>\n</div>"
     },
     "execution_count": 15,
     "metadata": {},
     "output_type": "execute_result"
    }
   ]
  },
  {
   "cell_type": "code",
   "execution_count": 16,
   "outputs": [
    {
     "data": {
      "text/plain": "array([[0.        , 0.34560825, 0.37728777, ..., 0.26725509, 0.15158884,\n        0.02572417],\n       [0.        , 0.33335097, 0.31374026, ..., 0.18673027, 0.15648375,\n        0.09041283],\n       [0.        , 0.27491873, 0.18232768, ..., 0.06295315, 0.21145435,\n        0.15839277],\n       ...,\n       [0.41048511, 0.33950786, 0.33852353, ..., 0.20386509, 0.17836556,\n        0.11076582],\n       [0.41468972, 0.30115795, 0.33175177, ..., 0.24074269, 0.19006612,\n        0.09215327],\n       [0.410335  , 0.34529632, 0.28774109, ..., 0.12805757, 0.20028256,\n        0.13352171]])"
     },
     "execution_count": 16,
     "metadata": {},
     "output_type": "execute_result"
    }
   ],
   "source": [
    "scaler = MinMaxScaler(feature_range=(0,1))\n",
    "normalize = Normalizer()\n",
    "X = scaler.fit_transform(df_replaced)\n",
    "X = normalize.fit_transform(X)\n",
    "X"
   ],
   "metadata": {
    "ExecuteTime": {
     "start_time": "2023-06-02T16:13:48.394216Z",
     "end_time": "2023-06-02T16:13:48.428306Z"
    },
    "id": "omMbOqAp-Ta8",
    "outputId": "4f435395-01d7-4224-8348-bdebf80a8b7e",
    "colab": {
     "base_uri": "https://localhost:8080/"
    }
   }
  },
  {
   "cell_type": "code",
   "execution_count": 17,
   "outputs": [
    {
     "name": "stdout",
     "output_type": "stream",
     "text": [
      "accuracy of RF :  0.8431237042156186\n",
      "accuracy of dummy :  0.6295784381478922\n"
     ]
    }
   ],
   "source": [
    "X_train, X_test, y_train, y_test = train_test_split(X, y, test_size=0.2,random_state=0)\n",
    "\n",
    "for model,name in zip(classifiers,names):\n",
    "    model.fit(X_train,y_train)\n",
    "    pred = model.predict(X_test)\n",
    "    score = accuracy_score(y_test,pred)\n",
    "    print('accuracy of '+ name +' : ',score)"
   ],
   "metadata": {
    "ExecuteTime": {
     "start_time": "2023-06-02T16:13:48.403147Z",
     "end_time": "2023-06-02T16:13:51.306425Z"
    },
    "id": "J6jst1NA-Ta8",
    "outputId": "23497bc6-786d-4a32-cfbd-cc3e9a7a0112",
    "colab": {
     "base_uri": "https://localhost:8080/"
    }
   }
  },
  {
   "cell_type": "code",
   "source": [
    "df.loc[(df.Cloud3pm == -1)].index"
   ],
   "metadata": {
    "id": "m2Z4gYlLFFxd",
    "outputId": "5d3c4a6d-960b-4a96-967d-0234ba20bb53",
    "colab": {
     "base_uri": "https://localhost:8080/"
    },
    "ExecuteTime": {
     "start_time": "2023-06-02T16:27:09.373213Z",
     "end_time": "2023-06-02T16:27:09.380590Z"
    }
   },
   "execution_count": 22,
   "outputs": [
    {
     "data": {
      "text/plain": "Int64Index([    9,    11,    12,    14,    15,    17,    23,    29,    34,\n               35,\n            ...\n            14449, 14453, 14454, 14455, 14456, 14457, 14464, 14465, 14466,\n            14467],\n           dtype='int64', length=6124)"
     },
     "execution_count": 22,
     "metadata": {},
     "output_type": "execute_result"
    }
   ]
  },
  {
   "cell_type": "code",
   "execution_count": 19,
   "outputs": [
    {
     "data": {
      "text/plain": "       Month  MinTemp  MaxTemp  Rainfall  WindGustSpeed  WindSpeed9am  \\\n0          1     20.4     37.6       0.0             54             0   \n1          1     20.9     33.6       0.4             50             9   \n2          1     18.4     23.1       2.2             48            11   \n3          1     17.3     23.7      15.6             39             9   \n4          1     15.5     22.9       6.8             31             6   \n...      ...      ...      ...       ...            ...           ...   \n14459     12     24.8     32.6       0.0             44            20   \n14460     12     22.9     29.9      21.8             35            13   \n14461     12     22.8     29.5       9.2             54            19   \n14462     12     22.1     27.4      83.8             72            31   \n14463     12     22.1     35.8      63.8             43            17   \n\n       WindSpeed3pm  Humidity9am  Humidity3pm  Pressure9am  Pressure3pm  \\\n0                 7           46           17       1013.4       1009.2   \n1                17           54           30       1011.1       1008.4   \n2                39           62           67       1014.0       1014.8   \n3                17           74           65       1017.9       1016.5   \n4                 9           92           63       1016.3       1013.9   \n...             ...          ...          ...          ...          ...   \n14459            11           59           57       1007.5       1004.0   \n14460            19           85           58       1008.8       1005.1   \n14461            26           96           75       1005.5       1001.1   \n14462            43          100          100        994.6        989.2   \n14463            31           77           41        997.8        995.2   \n\n       Cloud3pm  Temp9am  Temp3pm  RainToday  Escursione_Giornaliera  \\\n0             3     26.1     36.7          0                    17.2   \n1             8     24.8     31.7          0                    12.7   \n2             8     21.8     19.5          1                     4.7   \n3             8     19.2     21.6          1                     6.4   \n4             8     17.2     22.2          1                     7.4   \n...         ...      ...      ...        ...                     ...   \n14459         8     28.2     30.0          0                     7.8   \n14460         6     24.6     29.3          1                     7.0   \n14461         8     24.3     28.0          1                     6.7   \n14462         8     22.2     24.2          1                     5.3   \n14463         2     26.0     33.5          1                    13.7   \n\n       Diff_umidità  Vento_medio  \n0               -29          3.5  \n1               -24         13.0  \n2                 5         25.0  \n3                -9         13.0  \n4               -29          7.5  \n...             ...          ...  \n14459            -2         15.5  \n14460           -27         16.0  \n14461           -21         22.5  \n14462             0         37.0  \n14463           -36         24.0  \n\n[8344 rows x 18 columns]",
      "text/html": "<div>\n<style scoped>\n    .dataframe tbody tr th:only-of-type {\n        vertical-align: middle;\n    }\n\n    .dataframe tbody tr th {\n        vertical-align: top;\n    }\n\n    .dataframe thead th {\n        text-align: right;\n    }\n</style>\n<table border=\"1\" class=\"dataframe\">\n  <thead>\n    <tr style=\"text-align: right;\">\n      <th></th>\n      <th>Month</th>\n      <th>MinTemp</th>\n      <th>MaxTemp</th>\n      <th>Rainfall</th>\n      <th>WindGustSpeed</th>\n      <th>WindSpeed9am</th>\n      <th>WindSpeed3pm</th>\n      <th>Humidity9am</th>\n      <th>Humidity3pm</th>\n      <th>Pressure9am</th>\n      <th>Pressure3pm</th>\n      <th>Cloud3pm</th>\n      <th>Temp9am</th>\n      <th>Temp3pm</th>\n      <th>RainToday</th>\n      <th>Escursione_Giornaliera</th>\n      <th>Diff_umidità</th>\n      <th>Vento_medio</th>\n    </tr>\n  </thead>\n  <tbody>\n    <tr>\n      <th>0</th>\n      <td>1</td>\n      <td>20.4</td>\n      <td>37.6</td>\n      <td>0.0</td>\n      <td>54</td>\n      <td>0</td>\n      <td>7</td>\n      <td>46</td>\n      <td>17</td>\n      <td>1013.4</td>\n      <td>1009.2</td>\n      <td>3</td>\n      <td>26.1</td>\n      <td>36.7</td>\n      <td>0</td>\n      <td>17.2</td>\n      <td>-29</td>\n      <td>3.5</td>\n    </tr>\n    <tr>\n      <th>1</th>\n      <td>1</td>\n      <td>20.9</td>\n      <td>33.6</td>\n      <td>0.4</td>\n      <td>50</td>\n      <td>9</td>\n      <td>17</td>\n      <td>54</td>\n      <td>30</td>\n      <td>1011.1</td>\n      <td>1008.4</td>\n      <td>8</td>\n      <td>24.8</td>\n      <td>31.7</td>\n      <td>0</td>\n      <td>12.7</td>\n      <td>-24</td>\n      <td>13.0</td>\n    </tr>\n    <tr>\n      <th>2</th>\n      <td>1</td>\n      <td>18.4</td>\n      <td>23.1</td>\n      <td>2.2</td>\n      <td>48</td>\n      <td>11</td>\n      <td>39</td>\n      <td>62</td>\n      <td>67</td>\n      <td>1014.0</td>\n      <td>1014.8</td>\n      <td>8</td>\n      <td>21.8</td>\n      <td>19.5</td>\n      <td>1</td>\n      <td>4.7</td>\n      <td>5</td>\n      <td>25.0</td>\n    </tr>\n    <tr>\n      <th>3</th>\n      <td>1</td>\n      <td>17.3</td>\n      <td>23.7</td>\n      <td>15.6</td>\n      <td>39</td>\n      <td>9</td>\n      <td>17</td>\n      <td>74</td>\n      <td>65</td>\n      <td>1017.9</td>\n      <td>1016.5</td>\n      <td>8</td>\n      <td>19.2</td>\n      <td>21.6</td>\n      <td>1</td>\n      <td>6.4</td>\n      <td>-9</td>\n      <td>13.0</td>\n    </tr>\n    <tr>\n      <th>4</th>\n      <td>1</td>\n      <td>15.5</td>\n      <td>22.9</td>\n      <td>6.8</td>\n      <td>31</td>\n      <td>6</td>\n      <td>9</td>\n      <td>92</td>\n      <td>63</td>\n      <td>1016.3</td>\n      <td>1013.9</td>\n      <td>8</td>\n      <td>17.2</td>\n      <td>22.2</td>\n      <td>1</td>\n      <td>7.4</td>\n      <td>-29</td>\n      <td>7.5</td>\n    </tr>\n    <tr>\n      <th>...</th>\n      <td>...</td>\n      <td>...</td>\n      <td>...</td>\n      <td>...</td>\n      <td>...</td>\n      <td>...</td>\n      <td>...</td>\n      <td>...</td>\n      <td>...</td>\n      <td>...</td>\n      <td>...</td>\n      <td>...</td>\n      <td>...</td>\n      <td>...</td>\n      <td>...</td>\n      <td>...</td>\n      <td>...</td>\n      <td>...</td>\n    </tr>\n    <tr>\n      <th>14459</th>\n      <td>12</td>\n      <td>24.8</td>\n      <td>32.6</td>\n      <td>0.0</td>\n      <td>44</td>\n      <td>20</td>\n      <td>11</td>\n      <td>59</td>\n      <td>57</td>\n      <td>1007.5</td>\n      <td>1004.0</td>\n      <td>8</td>\n      <td>28.2</td>\n      <td>30.0</td>\n      <td>0</td>\n      <td>7.8</td>\n      <td>-2</td>\n      <td>15.5</td>\n    </tr>\n    <tr>\n      <th>14460</th>\n      <td>12</td>\n      <td>22.9</td>\n      <td>29.9</td>\n      <td>21.8</td>\n      <td>35</td>\n      <td>13</td>\n      <td>19</td>\n      <td>85</td>\n      <td>58</td>\n      <td>1008.8</td>\n      <td>1005.1</td>\n      <td>6</td>\n      <td>24.6</td>\n      <td>29.3</td>\n      <td>1</td>\n      <td>7.0</td>\n      <td>-27</td>\n      <td>16.0</td>\n    </tr>\n    <tr>\n      <th>14461</th>\n      <td>12</td>\n      <td>22.8</td>\n      <td>29.5</td>\n      <td>9.2</td>\n      <td>54</td>\n      <td>19</td>\n      <td>26</td>\n      <td>96</td>\n      <td>75</td>\n      <td>1005.5</td>\n      <td>1001.1</td>\n      <td>8</td>\n      <td>24.3</td>\n      <td>28.0</td>\n      <td>1</td>\n      <td>6.7</td>\n      <td>-21</td>\n      <td>22.5</td>\n    </tr>\n    <tr>\n      <th>14462</th>\n      <td>12</td>\n      <td>22.1</td>\n      <td>27.4</td>\n      <td>83.8</td>\n      <td>72</td>\n      <td>31</td>\n      <td>43</td>\n      <td>100</td>\n      <td>100</td>\n      <td>994.6</td>\n      <td>989.2</td>\n      <td>8</td>\n      <td>22.2</td>\n      <td>24.2</td>\n      <td>1</td>\n      <td>5.3</td>\n      <td>0</td>\n      <td>37.0</td>\n    </tr>\n    <tr>\n      <th>14463</th>\n      <td>12</td>\n      <td>22.1</td>\n      <td>35.8</td>\n      <td>63.8</td>\n      <td>43</td>\n      <td>17</td>\n      <td>31</td>\n      <td>77</td>\n      <td>41</td>\n      <td>997.8</td>\n      <td>995.2</td>\n      <td>2</td>\n      <td>26.0</td>\n      <td>33.5</td>\n      <td>1</td>\n      <td>13.7</td>\n      <td>-36</td>\n      <td>24.0</td>\n    </tr>\n  </tbody>\n</table>\n<p>8344 rows × 18 columns</p>\n</div>"
     },
     "execution_count": 19,
     "metadata": {},
     "output_type": "execute_result"
    }
   ],
   "source": [
    "df_eliminated = df.drop(df.loc[(df.Cloud3pm == -1)].index)\n",
    "df_eliminated"
   ],
   "metadata": {
    "ExecuteTime": {
     "start_time": "2023-06-02T16:13:51.311973Z",
     "end_time": "2023-06-02T16:13:51.323692Z"
    },
    "id": "ypObfJOT-Ta8",
    "outputId": "0a127455-c82a-45d5-de93-fc1f2c480a34",
    "colab": {
     "base_uri": "https://localhost:8080/",
     "height": 487
    }
   }
  },
  {
   "cell_type": "code",
   "source": [
    "y_delete = np.delete(y,df.loc[(df.Cloud3pm == -1)].index)\n",
    "len(y_delete)"
   ],
   "metadata": {
    "id": "qmA4gH78HiPP",
    "outputId": "8d9281eb-6edc-422a-bde8-285dbe00e81f",
    "colab": {
     "base_uri": "https://localhost:8080/"
    },
    "ExecuteTime": {
     "start_time": "2023-06-02T16:28:56.418474Z",
     "end_time": "2023-06-02T16:28:56.425381Z"
    }
   },
   "execution_count": 24,
   "outputs": [
    {
     "data": {
      "text/plain": "8344"
     },
     "execution_count": 24,
     "metadata": {},
     "output_type": "execute_result"
    }
   ]
  },
  {
   "cell_type": "code",
   "execution_count": null,
   "outputs": [],
   "source": [
    "scaler = MinMaxScaler(feature_range=(0,1))\n",
    "normalize = Normalizer()\n",
    "X = scaler.fit_transform(df_eliminated)\n",
    "X = normalize.fit_transform(X)\n",
    "len(X)"
   ],
   "metadata": {
    "id": "KUgBF0fB-Ta9",
    "outputId": "5890c424-0d14-4ce6-94ad-c796ef7be0f5",
    "colab": {
     "base_uri": "https://localhost:8080/"
    },
    "ExecuteTime": {
     "start_time": "2023-06-02T15:17:11.020489Z",
     "end_time": "2023-06-02T15:17:11.032370Z"
    }
   }
  },
  {
   "cell_type": "code",
   "source": [
    "X_train, X_test, y_train, y_test = train_test_split(X, y_delete, test_size=0.2,random_state=0)\n",
    "\n",
    "for model,name in zip(classifiers,names):\n",
    "    model.fit(X_train,y_train)\n",
    "    pred = model.predict(X_test)\n",
    "    score = accuracy_score(y_test,pred)\n",
    "    print('accuracy of '+ name +' : ',score)"
   ],
   "metadata": {
    "id": "Qpv5AGH1HR8k",
    "outputId": "1c8fcd5f-96e8-46ae-c167-63321887d155",
    "colab": {
     "base_uri": "https://localhost:8080/"
    },
    "ExecuteTime": {
     "start_time": "2023-06-02T15:17:15.598094Z",
     "end_time": "2023-06-02T15:17:17.038810Z"
    }
   },
   "execution_count": null,
   "outputs": []
  },
  {
   "cell_type": "markdown",
   "source": [
    "# 4 Realizzare una pipeline che effettui il punto 2 dell'esercizio\n",
    "Proviamo con il Feature_Union"
   ],
   "metadata": {
    "id": "W4lHoNIvIZKj"
   }
  },
  {
   "cell_type": "code",
   "source": [
    "from sklearn.pipeline import FeatureUnion\n",
    "\n",
    "scaler = MinMaxScaler(feature_range=(0,1))\n",
    "\n",
    "normalize = Normalizer()\n",
    "\n",
    "combine_features = FeatureUnion([('scale',scaler), ('norma',normalize)])\n",
    "combine_features"
   ],
   "metadata": {
    "id": "BRWYmV2kIen6",
    "outputId": "f1e4a36b-5031-4aa0-b1f3-79d85058a81a",
    "colab": {
     "base_uri": "https://localhost:8080/",
     "height": 109
    },
    "ExecuteTime": {
     "start_time": "2023-06-02T15:17:34.030948Z",
     "end_time": "2023-06-02T15:17:34.038188Z"
    }
   },
   "execution_count": null,
   "outputs": []
  },
  {
   "cell_type": "code",
   "source": [
    "from sklearn.pipeline import Pipeline\n",
    "\n",
    "X_train, X_test, y_train, y_test = train_test_split(df, y, test_size=0.2,random_state=0)\n",
    "\n",
    "\n",
    "for model,name in zip(classifiers,names):\n",
    "    my_pipeline = Pipeline(steps=[('combined_features',combine_features),('model',model)],verbose=True)\n",
    "\n",
    "    my_pipeline.fit(X_train,y_train)\n",
    "\n",
    "    preds = my_pipeline.predict(X_test)\n",
    "\n",
    "    score = accuracy_score(y_test,preds)\n",
    "    print('accuracy '+ name+':',score)"
   ],
   "metadata": {
    "id": "FZZtwir_Kpet",
    "outputId": "ea774073-8afa-49bb-98a1-5545f92eb8b2",
    "colab": {
     "base_uri": "https://localhost:8080/"
    },
    "ExecuteTime": {
     "start_time": "2023-06-02T15:17:43.995482Z",
     "end_time": "2023-06-02T15:17:47.194306Z"
    }
   },
   "execution_count": null,
   "outputs": []
  },
  {
   "cell_type": "markdown",
   "source": [
    "# 5 Realizzare una pipeline che effettui i punti 1 e 2 dell'esercizio"
   ],
   "metadata": {
    "collapsed": false
   }
  },
  {
   "cell_type": "code",
   "execution_count": null,
   "outputs": [],
   "source": [
    "new_df = pd.read_csv(\"Data/weather.csv\",sep=\";\")\n",
    "new_df = new_df.drop('RainTomorrow',axis=1)\n",
    "new_df"
   ],
   "metadata": {
    "collapsed": false,
    "ExecuteTime": {
     "start_time": "2023-06-02T15:18:28.103215Z",
     "end_time": "2023-06-02T15:18:28.132790Z"
    }
   }
  },
  {
   "cell_type": "code",
   "execution_count": null,
   "outputs": [],
   "source": [
    "def Ex_1(df):\n",
    "    df['Escursione_Giornaliera'] = df['MaxTemp'] - df['MinTemp']\n",
    "    df['Diff_umidità'] = df['Humidity3pm'] - df['Humidity9am']\n",
    "    df['Vento_medio'] = (df['WindSpeed3pm'] + df['WindSpeed9am'])/2\n",
    "    # remove Location\n",
    "    return df.drop('Location',axis=1)"
   ],
   "metadata": {
    "collapsed": false,
    "ExecuteTime": {
     "start_time": "2023-06-02T15:18:37.399789Z",
     "end_time": "2023-06-02T15:18:37.406475Z"
    }
   }
  },
  {
   "cell_type": "code",
   "execution_count": null,
   "outputs": [],
   "source": [
    "# name = new_df.columns.get_indexer(['RainToday'])\n",
    "# print(name)"
   ],
   "metadata": {
    "collapsed": false,
    "ExecuteTime": {
     "start_time": "2023-06-02T15:20:00.358765Z",
     "end_time": "2023-06-02T15:20:00.367039Z"
    }
   }
  },
  {
   "cell_type": "code",
   "execution_count": null,
   "outputs": [],
   "source": [
    "from sklearn.compose import ColumnTransformer\n",
    "from sklearn.preprocessing import FunctionTransformer,OneHotEncoder\n",
    "X_train, X_test, y_train, y_test = train_test_split(new_df, y, test_size=0.2,random_state=0)\n",
    "\n",
    "bool_trasform = OneHotEncoder(handle_unknown='ignore',sparse=False)\n",
    "\n",
    "col_prep = ColumnTransformer(transformers=[('bool',bool_trasform,[14])],remainder=\"passthrough\")\n",
    "func_ex_1 = FunctionTransformer(Ex_1, validate=False)\n",
    "for model,name in zip(classifiers,names):\n",
    "\n",
    "    my_pipeline = Pipeline(steps=[\n",
    "            ('pre_Ex_1',func_ex_1),\n",
    "            ('bool',col_prep),\n",
    "            ('combined_features',combine_features),\n",
    "            ('model',model)\n",
    "            ],verbose=True)\n",
    "    my_pipeline.fit(X_train,y_train)\n",
    "\n",
    "    preds = my_pipeline.predict(X_test)\n",
    "\n",
    "    score = accuracy_score(y_test,preds)\n",
    "    print('accuracy '+ name+':',score)"
   ],
   "metadata": {
    "collapsed": false,
    "ExecuteTime": {
     "start_time": "2023-06-02T15:20:13.072851Z",
     "end_time": "2023-06-02T15:20:16.189093Z"
    }
   }
  },
  {
   "cell_type": "markdown",
   "source": [
    "# 6 Verificare se il modello ha risultati migliori utilizzando un randomforest con 10-100-250 alberi\n",
    "faccio un tuning dei parametri"
   ],
   "metadata": {
    "collapsed": false
   }
  },
  {
   "cell_type": "code",
   "execution_count": null,
   "outputs": [],
   "source": [
    "# rifaccio la pipeline solo per il RF così non si lamenta del fatto che il Dummy classifier non possiede nessun parametro 'n_estimators'\n",
    "model = classifiers[0]\n",
    "my_pipeline = Pipeline(steps=[\n",
    "    ('pre_Ex_1',func_ex_1),\n",
    "    ('bool',col_prep),\n",
    "    ('combined_features',combine_features),\n",
    "    ('model',model)\n",
    "],verbose=True)\n",
    "my_pipeline.fit(X_train,y_train)\n",
    "\n",
    "preds = my_pipeline.predict(X_test)\n",
    "\n",
    "score = accuracy_score(y_test,preds)\n",
    "print('accuracy:',score)"
   ],
   "metadata": {
    "collapsed": false,
    "ExecuteTime": {
     "start_time": "2023-06-02T15:20:47.424447Z",
     "end_time": "2023-06-02T15:20:50.544307Z"
    }
   }
  },
  {
   "cell_type": "code",
   "execution_count": null,
   "outputs": [],
   "source": [
    "from sklearn.model_selection import GridSearchCV\n",
    "params = {'model__n_estimators': [10, 100, 250]}\n",
    "\n",
    "gs = GridSearchCV(my_pipeline, params, scoring='neg_mean_absolute_error',cv=5,n_jobs=-1)\n",
    "\n",
    "gs.fit(X_train,y_train)"
   ],
   "metadata": {
    "collapsed": false,
    "ExecuteTime": {
     "start_time": "2023-06-02T15:21:07.884479Z",
     "end_time": "2023-06-02T15:21:20.070737Z"
    }
   }
  },
  {
   "cell_type": "code",
   "execution_count": null,
   "outputs": [],
   "source": [
    "gs.best_estimator_"
   ],
   "metadata": {
    "collapsed": false,
    "ExecuteTime": {
     "start_time": "2023-06-02T15:21:25.692816Z",
     "end_time": "2023-06-02T15:21:25.699261Z"
    }
   }
  },
  {
   "cell_type": "code",
   "execution_count": null,
   "outputs": [],
   "source": [
    "gs.best_score_"
   ],
   "metadata": {
    "collapsed": false,
    "ExecuteTime": {
     "start_time": "2023-06-02T15:21:31.091133Z",
     "end_time": "2023-06-02T15:21:31.101328Z"
    }
   }
  },
  {
   "cell_type": "code",
   "execution_count": null,
   "outputs": [],
   "source": [
    "pred = gs.predict(X_test)\n",
    "pred"
   ],
   "metadata": {
    "collapsed": false,
    "ExecuteTime": {
     "start_time": "2023-06-02T15:21:36.251483Z",
     "end_time": "2023-06-02T15:21:36.301998Z"
    }
   }
  },
  {
   "cell_type": "code",
   "execution_count": null,
   "outputs": [],
   "source": [
    "score = accuracy_score(y_test,pred)\n",
    "print('accuracy:',score)"
   ],
   "metadata": {
    "collapsed": false,
    "ExecuteTime": {
     "start_time": "2023-06-02T15:21:43.514763Z",
     "end_time": "2023-06-02T15:21:43.523298Z"
    }
   }
  },
  {
   "cell_type": "markdown",
   "source": [
    "# 7 Provare altre trasformazioni per migliorare il risultato."
   ],
   "metadata": {
    "collapsed": false
   }
  },
  {
   "cell_type": "code",
   "execution_count": null,
   "outputs": [],
   "source": [
    "params = {'model__n_estimators': [10, 100, 250],\n",
    "          'model__criterion': [\"gini\", \"entropy\", \"log_loss\"],\n",
    "          'combined_features__norma__norm': ['l1', 'l2', 'max']\n",
    "          }\n",
    "\n",
    "gs = GridSearchCV(my_pipeline, params, scoring='neg_mean_absolute_error',cv=5,n_jobs=-1)\n",
    "\n",
    "gs.fit(X_train,y_train)"
   ],
   "metadata": {
    "collapsed": false,
    "ExecuteTime": {
     "start_time": "2023-06-02T15:22:04.531731Z",
     "end_time": "2023-06-02T15:22:40.255817Z"
    }
   }
  },
  {
   "cell_type": "code",
   "execution_count": null,
   "outputs": [],
   "source": [
    "gs.best_estimator_"
   ],
   "metadata": {
    "collapsed": false,
    "ExecuteTime": {
     "start_time": "2023-06-02T15:23:36.835922Z",
     "end_time": "2023-06-02T15:23:36.838089Z"
    }
   }
  },
  {
   "cell_type": "code",
   "execution_count": null,
   "outputs": [],
   "source": [
    "gs.best_params_"
   ],
   "metadata": {
    "collapsed": false,
    "ExecuteTime": {
     "start_time": "2023-06-02T15:23:43.126889Z",
     "end_time": "2023-06-02T15:23:43.132239Z"
    }
   }
  },
  {
   "cell_type": "code",
   "execution_count": null,
   "outputs": [],
   "source": [
    "pred = gs.predict(X_test)\n",
    "score = accuracy_score(y_test,pred)\n",
    "print('accuracy:',score)"
   ],
   "metadata": {
    "collapsed": false,
    "ExecuteTime": {
     "start_time": "2023-06-02T15:23:50.044235Z",
     "end_time": "2023-06-02T15:23:50.092432Z"
    }
   }
  },
  {
   "cell_type": "code",
   "execution_count": null,
   "outputs": [],
   "source": [
    "# provare a mettere un SimpleImputer con strategia most frequent\n",
    "from sklearn.impute import SimpleImputer\n",
    "\n",
    "impute = SimpleImputer(strategy=\"most_frequent\")\n",
    "\n",
    "my_pipeline = Pipeline(steps=[\n",
    "    ('pre_Ex_1',func_ex_1),\n",
    "    ('bool',col_prep),\n",
    "    ('combined_features',combine_features),\n",
    "    ('imputer',impute),\n",
    "    ('model',model)\n",
    "],verbose=True)\n",
    "\n",
    "gs = GridSearchCV(my_pipeline, params, scoring='neg_mean_absolute_error',cv=5,n_jobs=-1)\n",
    "\n",
    "gs.fit(X_train,y_train)"
   ],
   "metadata": {
    "collapsed": false,
    "ExecuteTime": {
     "start_time": "2023-06-02T15:24:04.306959Z",
     "end_time": "2023-06-02T15:24:45.137512Z"
    }
   }
  },
  {
   "cell_type": "code",
   "execution_count": null,
   "outputs": [],
   "source": [
    "gs.best_params_"
   ],
   "metadata": {
    "collapsed": false,
    "ExecuteTime": {
     "start_time": "2023-06-02T15:24:54.103630Z",
     "end_time": "2023-06-02T15:24:54.108995Z"
    }
   }
  },
  {
   "cell_type": "code",
   "execution_count": null,
   "outputs": [],
   "source": [
    "pred = gs.predict(X_test)\n",
    "score = accuracy_score(y_test,pred)\n",
    "print('accuracy:',score)"
   ],
   "metadata": {
    "collapsed": false,
    "ExecuteTime": {
     "start_time": "2023-06-02T15:24:57.415940Z",
     "end_time": "2023-06-02T15:24:57.512996Z"
    }
   }
  },
  {
   "cell_type": "code",
   "execution_count": null,
   "outputs": [],
   "source": [],
   "metadata": {
    "collapsed": false
   }
  }
 ],
 "metadata": {
  "kernelspec": {
   "display_name": "Python 3",
   "language": "python",
   "name": "python3"
  },
  "language_info": {
   "codemirror_mode": {
    "name": "ipython",
    "version": 2
   },
   "file_extension": ".py",
   "mimetype": "text/x-python",
   "name": "python",
   "nbconvert_exporter": "python",
   "pygments_lexer": "ipython2",
   "version": "2.7.6"
  },
  "colab": {
   "provenance": []
  }
 },
 "nbformat": 4,
 "nbformat_minor": 0
}
