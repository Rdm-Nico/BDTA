{
 "nbformat": 4,
 "nbformat_minor": 0,
 "metadata": {
  "kernelspec": {
   "display_name": "Python 3",
   "language": "python",
   "name": "python3"
  },
  "language_info": {
   "codemirror_mode": {
    "name": "ipython",
    "version": 3
   },
   "file_extension": ".py",
   "mimetype": "text/x-python",
   "name": "python",
   "nbconvert_exporter": "python",
   "pygments_lexer": "ipython3",
   "version": "3.6.9"
  },
  "colab": {
   "provenance": [],
   "collapsed_sections": [
    "FNrG2m6EQdbL"
   ]
  }
 },
 "cells": [
  {
   "cell_type": "markdown",
   "metadata": {
    "id": "Z-qMzRFGQda-"
   },
   "source": [
    "# Getting started with Pandas\n",
    "\n",
    "1. Official Pandas tutorial (https://pandas.pydata.org/)\n",
    "2. Pandas is one of the most used library for data science"
   ]
  },
  {
   "cell_type": "code",
   "metadata": {
    "id": "umiwIBKgQdbA",
    "ExecuteTime": {
     "start_time": "2023-04-21T18:46:40.813327Z",
     "end_time": "2023-04-21T18:46:41.118625Z"
    }
   },
   "source": [
    "import pandas as pd\n",
    "import numpy as np"
   ],
   "execution_count": 1,
   "outputs": []
  },
  {
   "cell_type": "markdown",
   "metadata": {
    "id": "cfdVDGPmQdbD"
   },
   "source": [
    "Pandas has two main data structures:\n",
    "\n",
    "1.Series\n",
    "\n",
    "2.Dataframe"
   ]
  },
  {
   "cell_type": "code",
   "execution_count": null,
   "outputs": [],
   "source": [
    "from pandas import Series, DataFrame"
   ],
   "metadata": {
    "collapsed": false
   }
  },
  {
   "cell_type": "markdown",
   "metadata": {
    "id": "FNrG2m6EQdbL"
   },
   "source": [
    "## Introduction to pandas Data Structures"
   ]
  },
  {
   "cell_type": "markdown",
   "metadata": {
    "id": "7gmpYyEkQdbM"
   },
   "source": [
    "## Series\n",
    "1. Sequence of values similar to numpy types\n",
    "2. Associated to data labels\n"
   ]
  },
  {
   "cell_type": "code",
   "metadata": {
    "id": "_CNxlKpsQdbN",
    "ExecuteTime": {
     "start_time": "2023-04-21T19:01:42.674338Z",
     "end_time": "2023-04-21T19:01:42.686583Z"
    }
   },
   "source": [
    "obj = pd.Series([4, 7, -5, 3])\n",
    "obj\n",
    "#la serie è una collezione di elementi  che assomiglia ad un dict"
   ],
   "execution_count": 2,
   "outputs": [
    {
     "data": {
      "text/plain": "0    4\n1    7\n2   -5\n3    3\ndtype: int64"
     },
     "execution_count": 2,
     "metadata": {},
     "output_type": "execute_result"
    }
   ]
  },
  {
   "cell_type": "markdown",
   "metadata": {
    "id": "ExTm3Z_XQdbT"
   },
   "source": [
    "- Left side represents the index (data labels)\n",
    "\n",
    "- Right side represents the data"
   ]
  },
  {
   "cell_type": "code",
   "metadata": {
    "id": "UI-9DSlQQdbU",
    "ExecuteTime": {
     "start_time": "2023-04-21T19:01:46.660845Z",
     "end_time": "2023-04-21T19:01:46.676552Z"
    }
   },
   "source": [
    "obj.values"
   ],
   "execution_count": 3,
   "outputs": [
    {
     "data": {
      "text/plain": "array([ 4,  7, -5,  3])"
     },
     "execution_count": 3,
     "metadata": {},
     "output_type": "execute_result"
    }
   ]
  },
  {
   "cell_type": "code",
   "metadata": {
    "id": "N9v7o141QdbZ",
    "ExecuteTime": {
     "start_time": "2023-04-21T19:01:54.619945Z",
     "end_time": "2023-04-21T19:01:54.628102Z"
    }
   },
   "source": [
    "obj.index  # like range(4)"
   ],
   "execution_count": 4,
   "outputs": [
    {
     "data": {
      "text/plain": "RangeIndex(start=0, stop=4, step=1)"
     },
     "execution_count": 4,
     "metadata": {},
     "output_type": "execute_result"
    }
   ]
  },
  {
   "cell_type": "code",
   "metadata": {
    "id": "znK0HDJ6on7J",
    "ExecuteTime": {
     "start_time": "2023-04-21T19:01:58.325957Z",
     "end_time": "2023-04-21T19:01:58.334966Z"
    }
   },
   "source": [
    "obj"
   ],
   "execution_count": 5,
   "outputs": [
    {
     "data": {
      "text/plain": "0    4\n1    7\n2   -5\n3    3\ndtype: int64"
     },
     "execution_count": 5,
     "metadata": {},
     "output_type": "execute_result"
    }
   ]
  },
  {
   "cell_type": "markdown",
   "metadata": {
    "id": "GKQUveweQdbd"
   },
   "source": [
    "We can associate a label to each data point "
   ]
  },
  {
   "cell_type": "code",
   "metadata": {
    "id": "-54FuNaiWSXT"
   },
   "source": [
    "obj[1]"
   ],
   "execution_count": 6,
   "outputs": [
    {
     "data": {
      "text/plain": "7"
     },
     "execution_count": 6,
     "metadata": {},
     "output_type": "execute_result"
    }
   ]
  },
  {
   "cell_type": "code",
   "source": [
    "obj[1]=4"
   ],
   "metadata": {
    "id": "k_akQX3qd33U"
   },
   "execution_count": 7,
   "outputs": []
  },
  {
   "cell_type": "code",
   "source": [
    "obj[1]"
   ],
   "metadata": {
    "id": "Nc0jkrJOd61O"
   },
   "execution_count": 8,
   "outputs": [
    {
     "data": {
      "text/plain": "4"
     },
     "execution_count": 8,
     "metadata": {},
     "output_type": "execute_result"
    }
   ]
  },
  {
   "cell_type": "code",
   "metadata": {
    "id": "O6nJKPtnQdbe",
    "ExecuteTime": {
     "start_time": "2023-04-21T19:02:58.135225Z",
     "end_time": "2023-04-21T19:02:58.137898Z"
    }
   },
   "source": [
    "obj2 = pd.Series([4, 7, -5, 3], index=['d', 'b', 'a', 'c'])\n",
    "obj2"
   ],
   "execution_count": 7,
   "outputs": [
    {
     "data": {
      "text/plain": "d    4\nb    7\na   -5\nc    3\ndtype: int64"
     },
     "execution_count": 7,
     "metadata": {},
     "output_type": "execute_result"
    }
   ]
  },
  {
   "cell_type": "code",
   "metadata": {
    "id": "eQtLHsqRQdbq"
   },
   "source": [
    "obj2.index"
   ],
   "execution_count": 10,
   "outputs": [
    {
     "data": {
      "text/plain": "Index(['d', 'b', 'a', 'c'], dtype='object')"
     },
     "execution_count": 10,
     "metadata": {},
     "output_type": "execute_result"
    }
   ]
  },
  {
   "cell_type": "code",
   "metadata": {
    "id": "wONz303eWA-H"
   },
   "source": [
    "obj2['d']"
   ],
   "execution_count": 12,
   "outputs": [
    {
     "data": {
      "text/plain": "4"
     },
     "execution_count": 12,
     "metadata": {},
     "output_type": "execute_result"
    }
   ]
  },
  {
   "cell_type": "code",
   "metadata": {
    "id": "QYgszIvdWm0C"
   },
   "source": [
    "obj2[0] # funziona in ogni caso"
   ],
   "execution_count": 11,
   "outputs": [
    {
     "data": {
      "text/plain": "4"
     },
     "execution_count": 11,
     "metadata": {},
     "output_type": "execute_result"
    }
   ]
  },
  {
   "cell_type": "code",
   "metadata": {
    "id": "N86wtg5-Qdbw"
   },
   "source": [
    "obj2['a']"
   ],
   "execution_count": 13,
   "outputs": [
    {
     "data": {
      "text/plain": "-5"
     },
     "execution_count": 13,
     "metadata": {},
     "output_type": "execute_result"
    }
   ]
  },
  {
   "cell_type": "code",
   "metadata": {
    "id": "Ja-HpweHQdb1"
   },
   "source": [
    "obj2[2]"
   ],
   "execution_count": 14,
   "outputs": [
    {
     "data": {
      "text/plain": "-5"
     },
     "execution_count": 14,
     "metadata": {},
     "output_type": "execute_result"
    }
   ]
  },
  {
   "cell_type": "code",
   "metadata": {
    "id": "ygWNIImnIwvQ",
    "ExecuteTime": {
     "start_time": "2023-04-21T19:03:12.059821Z",
     "end_time": "2023-04-21T19:03:12.068156Z"
    }
   },
   "source": [
    "obj2[:2]"
   ],
   "execution_count": 8,
   "outputs": [
    {
     "data": {
      "text/plain": "d    4\nb    7\ndtype: int64"
     },
     "execution_count": 8,
     "metadata": {},
     "output_type": "execute_result"
    }
   ]
  },
  {
   "cell_type": "code",
   "metadata": {
    "id": "MC_u4g7bI1l9",
    "ExecuteTime": {
     "start_time": "2023-04-21T19:04:01.211631Z",
     "end_time": "2023-04-21T19:04:01.227005Z"
    }
   },
   "source": [
    "obj2[-2:] # i penultimi due"
   ],
   "execution_count": 12,
   "outputs": [
    {
     "data": {
      "text/plain": "a   -5\nc    3\ndtype: int64"
     },
     "execution_count": 12,
     "metadata": {},
     "output_type": "execute_result"
    }
   ]
  },
  {
   "cell_type": "code",
   "metadata": {
    "id": "vaKr915LJLwa",
    "ExecuteTime": {
     "start_time": "2023-04-21T19:04:26.207829Z",
     "end_time": "2023-04-21T19:04:26.219973Z"
    }
   },
   "source": [
    "obj2['a':]"
   ],
   "execution_count": 13,
   "outputs": [
    {
     "data": {
      "text/plain": "a   -5\nc    3\ndtype: int64"
     },
     "execution_count": 13,
     "metadata": {},
     "output_type": "execute_result"
    }
   ]
  },
  {
   "cell_type": "code",
   "metadata": {
    "id": "hsZ_SE6DXT4K"
   },
   "source": [
    "obj2['a':'c']"
   ],
   "execution_count": 18,
   "outputs": [
    {
     "data": {
      "text/plain": "a   -5\nc    3\ndtype: int64"
     },
     "execution_count": 18,
     "metadata": {},
     "output_type": "execute_result"
    }
   ]
  },
  {
   "cell_type": "code",
   "metadata": {
    "id": "qd2gfx4rXqOL"
   },
   "source": [
    "obj2['d':'c']"
   ],
   "execution_count": 19,
   "outputs": [
    {
     "data": {
      "text/plain": "d    4\nb    7\na   -5\nc    3\ndtype: int64"
     },
     "execution_count": 19,
     "metadata": {},
     "output_type": "execute_result"
    }
   ]
  },
  {
   "cell_type": "markdown",
   "metadata": {
    "id": "V-fpsiCWQdb8"
   },
   "source": [
    "### Numpy-like operations\n",
    "1. Filtering with a boolean array\n",
    "2. Scalar multiplication\n",
    "3. Applying math functions\n",
    "\n",
    "They will preserve the index-value link"
   ]
  },
  {
   "cell_type": "code",
   "metadata": {
    "id": "o1qtJ1_4Qdb8"
   },
   "source": [
    "obj2['d'] = 6\n",
    "obj2"
   ],
   "execution_count": null,
   "outputs": []
  },
  {
   "cell_type": "code",
   "metadata": {
    "id": "GmZBk6xYQdb_"
   },
   "source": [
    "obj2[['c', 'a', 'd','d','a']]"
   ],
   "execution_count": null,
   "outputs": []
  },
  {
   "cell_type": "code",
   "metadata": {
    "id": "omZrorEJJ2Am"
   },
   "source": [
    "obj2>2"
   ],
   "execution_count": null,
   "outputs": []
  },
  {
   "cell_type": "code",
   "metadata": {
    "id": "fqMMH_EaQdcF"
   },
   "source": [
    "selezione = obj2[obj2 > 2]\n",
    "selezione"
   ],
   "execution_count": 20,
   "outputs": [
    {
     "data": {
      "text/plain": "d    4\nb    7\nc    3\ndtype: int64"
     },
     "execution_count": 20,
     "metadata": {},
     "output_type": "execute_result"
    }
   ]
  },
  {
   "cell_type": "markdown",
   "metadata": {
    "id": "2jNLPl-3QdcI"
   },
   "source": [
    "### Math operations"
   ]
  },
  {
   "cell_type": "markdown",
   "metadata": {
    "id": "hTuKOLVcARyr"
   },
   "source": [
    "Element wise casting \n",
    "\n",
    "Given $ X = \\left[ x_1 \\cdots x_n \\right] $ then:<br> $ X * 2  = \\left[ 2 x_1  \\cdots 2{x_n} \\right]\n",
    "$\n",
    " <br> $\n",
    "e^X = \\left[ e^{x_1} \\cdots e^{x_n} \\right]\n",
    "$\n",
    "\n"
   ]
  },
  {
   "cell_type": "code",
   "metadata": {
    "id": "Ajmws7LuQdcI"
   },
   "source": [
    "obj2 * 2"
   ],
   "execution_count": null,
   "outputs": []
  },
  {
   "cell_type": "code",
   "metadata": {
    "id": "9UXqhs9uQdcM"
   },
   "source": [
    "np.exp(obj2)"
   ],
   "execution_count": null,
   "outputs": []
  },
  {
   "cell_type": "markdown",
   "metadata": {
    "id": "_WnIW3nSQdcR"
   },
   "source": [
    "- Another way to think about a Series is as a fixed-length, ordered dict, as it is a mapping of index values to data values.\n",
    "- You might use a dict."
   ]
  },
  {
   "cell_type": "code",
   "metadata": {
    "id": "q8Kpyce6EVuP",
    "ExecuteTime": {
     "start_time": "2023-04-21T19:05:13.511144Z",
     "end_time": "2023-04-21T19:05:13.529574Z"
    }
   },
   "source": [
    "display(\n",
    "  obj2.to_dict(),\n",
    "  obj2.to_dict().keys(),\n",
    "  obj2.to_dict().values())\n",
    "\n",
    "# Recall obj2 = pd.Series([6, 7, -5, 3], index=['d', 'b', 'a', 'c'])"
   ],
   "execution_count": 14,
   "outputs": [
    {
     "data": {
      "text/plain": "{'d': 4, 'b': 7, 'a': -5, 'c': 3}"
     },
     "metadata": {},
     "output_type": "display_data"
    },
    {
     "data": {
      "text/plain": "dict_keys(['d', 'b', 'a', 'c'])"
     },
     "metadata": {},
     "output_type": "display_data"
    },
    {
     "data": {
      "text/plain": "dict_values([4, 7, -5, 3])"
     },
     "metadata": {},
     "output_type": "display_data"
    }
   ]
  },
  {
   "cell_type": "code",
   "metadata": {
    "id": "53IPbdofQdcS",
    "ExecuteTime": {
     "start_time": "2023-04-21T19:05:39.502035Z",
     "end_time": "2023-04-21T19:05:39.513534Z"
    }
   },
   "source": [
    "'b' in obj2 # controllo se un ele è nella serie"
   ],
   "execution_count": 18,
   "outputs": [
    {
     "data": {
      "text/plain": "True"
     },
     "execution_count": 18,
     "metadata": {},
     "output_type": "execute_result"
    }
   ]
  },
  {
   "cell_type": "code",
   "metadata": {
    "id": "aXVsmNSbQdcV"
   },
   "source": [
    "'f' in obj2"
   ],
   "execution_count": 23,
   "outputs": [
    {
     "data": {
      "text/plain": "False"
     },
     "execution_count": 23,
     "metadata": {},
     "output_type": "execute_result"
    }
   ]
  },
  {
   "cell_type": "markdown",
   "metadata": {
    "id": "00jKNKVdQdcW"
   },
   "source": [
    "### Create a Series from a dictionary"
   ]
  },
  {
   "cell_type": "code",
   "metadata": {
    "id": "Jh_sj-1hQdcX"
   },
   "source": [
    "sdata = {'Ohio': 35000, 'Texas': 71000, 'Oregon': 16000, 'Utah': 5000}\n",
    "obj3 = pd.Series(sdata)\n",
    "obj3"
   ],
   "execution_count": 24,
   "outputs": [
    {
     "data": {
      "text/plain": "Ohio      35000\nTexas     71000\nOregon    16000\nUtah       5000\ndtype: int64"
     },
     "execution_count": 24,
     "metadata": {},
     "output_type": "execute_result"
    }
   ]
  },
  {
   "cell_type": "code",
   "metadata": {
    "id": "jxEzLaggQaRE"
   },
   "source": [
    "float_serie = obj3.astype('float')\n",
    "float_serie"
   ],
   "execution_count": 25,
   "outputs": [
    {
     "data": {
      "text/plain": "Ohio      35000.0\nTexas     71000.0\nOregon    16000.0\nUtah       5000.0\ndtype: float64"
     },
     "execution_count": 25,
     "metadata": {},
     "output_type": "execute_result"
    }
   ]
  },
  {
   "cell_type": "code",
   "metadata": {
    "id": "qBQhdBaiChjn"
   },
   "source": [
    "obj3.dtype"
   ],
   "execution_count": 26,
   "outputs": [
    {
     "data": {
      "text/plain": "dtype('int64')"
     },
     "execution_count": 26,
     "metadata": {},
     "output_type": "execute_result"
    }
   ]
  },
  {
   "cell_type": "code",
   "metadata": {
    "id": "jRJUfIYUbzPM"
   },
   "source": [
    "type(obj3)"
   ],
   "execution_count": 27,
   "outputs": [
    {
     "data": {
      "text/plain": "pandas.core.series.Series"
     },
     "execution_count": 27,
     "metadata": {},
     "output_type": "execute_result"
    }
   ]
  },
  {
   "cell_type": "code",
   "metadata": {
    "id": "Na0Us8JTP5Ul"
   },
   "source": [
    "obj3['Ohio']"
   ],
   "execution_count": null,
   "outputs": []
  },
  {
   "cell_type": "markdown",
   "metadata": {
    "id": "13a-nCGPQdcZ"
   },
   "source": [
    "- The index in the resulting Series will have the dict's keys in sorted\n",
    "\n",
    "- Force order of the index"
   ]
  },
  {
   "cell_type": "code",
   "metadata": {
    "id": "ZErASSwmQdcZ"
   },
   "source": [
    "states = ['Ohio','California','Oregon', 'Texas']\n",
    "obj4 = pd.Series(sdata, index=states)\n",
    "obj4"
   ],
   "execution_count": 28,
   "outputs": [
    {
     "data": {
      "text/plain": "Ohio          35000.0\nCalifornia        NaN\nOregon        16000.0\nTexas         71000.0\ndtype: float64"
     },
     "execution_count": 28,
     "metadata": {},
     "output_type": "execute_result"
    }
   ]
  },
  {
   "cell_type": "code",
   "metadata": {
    "id": "9SHT_1OOQdcd"
   },
   "source": [
    "pd.isnull(obj4)"
   ],
   "execution_count": 29,
   "outputs": [
    {
     "data": {
      "text/plain": "Ohio          False\nCalifornia     True\nOregon        False\nTexas         False\ndtype: bool"
     },
     "execution_count": 29,
     "metadata": {},
     "output_type": "execute_result"
    }
   ]
  },
  {
   "cell_type": "code",
   "metadata": {
    "id": "RZAu8EnpQdcg"
   },
   "source": [
    "pd.notnull(obj4)"
   ],
   "execution_count": 30,
   "outputs": [
    {
     "data": {
      "text/plain": "Ohio           True\nCalifornia    False\nOregon         True\nTexas          True\ndtype: bool"
     },
     "execution_count": 30,
     "metadata": {},
     "output_type": "execute_result"
    }
   ]
  },
  {
   "cell_type": "code",
   "metadata": {
    "id": "6NPYy7iTGMMw"
   },
   "source": [
    "obj4.isnull()"
   ],
   "execution_count": 31,
   "outputs": [
    {
     "data": {
      "text/plain": "Ohio          False\nCalifornia     True\nOregon        False\nTexas         False\ndtype: bool"
     },
     "execution_count": 31,
     "metadata": {},
     "output_type": "execute_result"
    }
   ]
  },
  {
   "cell_type": "markdown",
   "metadata": {
    "id": "jNHo1MdiQdck"
   },
   "source": [
    "### Use alignment of indexes for some operations"
   ]
  },
  {
   "cell_type": "code",
   "metadata": {
    "id": "VH19qIj6Qdck"
   },
   "source": [
    "obj3"
   ],
   "execution_count": 32,
   "outputs": [
    {
     "data": {
      "text/plain": "Ohio      35000\nTexas     71000\nOregon    16000\nUtah       5000\ndtype: int64"
     },
     "execution_count": 32,
     "metadata": {},
     "output_type": "execute_result"
    }
   ]
  },
  {
   "cell_type": "code",
   "metadata": {
    "id": "RPvaGSQlQdcm"
   },
   "source": [
    "obj4"
   ],
   "execution_count": 33,
   "outputs": [
    {
     "data": {
      "text/plain": "Ohio          35000.0\nCalifornia        NaN\nOregon        16000.0\nTexas         71000.0\ndtype: float64"
     },
     "execution_count": 33,
     "metadata": {},
     "output_type": "execute_result"
    }
   ]
  },
  {
   "cell_type": "code",
   "metadata": {
    "id": "IBD7ubOPQdcp"
   },
   "source": [
    "obj3 + obj4"
   ],
   "execution_count": 34,
   "outputs": [
    {
     "data": {
      "text/plain": "California         NaN\nOhio           70000.0\nOregon         32000.0\nTexas         142000.0\nUtah               NaN\ndtype: float64"
     },
     "execution_count": 34,
     "metadata": {},
     "output_type": "execute_result"
    }
   ]
  },
  {
   "cell_type": "code",
   "metadata": {
    "id": "s69dO-urQdcr"
   },
   "source": [
    "obj4.name = 'population' # nome alla serie\n",
    "obj4"
   ],
   "execution_count": 35,
   "outputs": [
    {
     "data": {
      "text/plain": "Ohio          35000.0\nCalifornia        NaN\nOregon        16000.0\nTexas         71000.0\nName: population, dtype: float64"
     },
     "execution_count": 35,
     "metadata": {},
     "output_type": "execute_result"
    }
   ]
  },
  {
   "cell_type": "code",
   "metadata": {
    "id": "qBndzsUdQdct"
   },
   "source": [
    "obj4.index.name = 'state' # nome agli indici"
   ],
   "execution_count": 36,
   "outputs": []
  },
  {
   "cell_type": "code",
   "metadata": {
    "id": "FTfW9K0oQdcw"
   },
   "source": [
    "obj4"
   ],
   "execution_count": 37,
   "outputs": [
    {
     "data": {
      "text/plain": "state\nOhio          35000.0\nCalifornia        NaN\nOregon        16000.0\nTexas         71000.0\nName: population, dtype: float64"
     },
     "execution_count": 37,
     "metadata": {},
     "output_type": "execute_result"
    }
   ]
  },
  {
   "cell_type": "code",
   "metadata": {
    "id": "8YvSYswGQdcy"
   },
   "source": [
    "obj"
   ],
   "execution_count": 38,
   "outputs": [
    {
     "data": {
      "text/plain": "0    4\n1    4\n2   -5\n3    3\ndtype: int64"
     },
     "execution_count": 38,
     "metadata": {},
     "output_type": "execute_result"
    }
   ]
  },
  {
   "cell_type": "code",
   "metadata": {
    "id": "0lvDsnIOQdc0"
   },
   "source": [
    "obj.index = ['Bob', 'Steve', 'Jeff', 'Ryan']\n",
    "obj"
   ],
   "execution_count": 39,
   "outputs": [
    {
     "data": {
      "text/plain": "Bob      4\nSteve    4\nJeff    -5\nRyan     3\ndtype: int64"
     },
     "execution_count": 39,
     "metadata": {},
     "output_type": "execute_result"
    }
   ]
  },
  {
   "cell_type": "code",
   "metadata": {
    "id": "m4UXWxX8Qdc2"
   },
   "source": [
    "obj10 = pd.Series([4,7,-5,3], index = ['Bob', 'Steve', 'Jeff', 'Ryan'])\n",
    "obj10"
   ],
   "execution_count": 40,
   "outputs": [
    {
     "data": {
      "text/plain": "Bob      4\nSteve    7\nJeff    -5\nRyan     3\ndtype: int64"
     },
     "execution_count": 40,
     "metadata": {},
     "output_type": "execute_result"
    }
   ]
  },
  {
   "cell_type": "markdown",
   "metadata": {
    "id": "0RjPim0RQdc4"
   },
   "source": [
    "## DataFrame\n",
    "1. Represent a rectangular table\n",
    "2. Ordered collection of columns\n",
    "3. Each column could have a different type (i.e., numeric, string, boolean, etc.)\n",
    "4. Dataframe has indexes on columns and rows"
   ]
  },
  {
   "cell_type": "code",
   "metadata": {
    "id": "Eq5866MDQdc5",
    "ExecuteTime": {
     "start_time": "2023-04-21T19:15:32.722660Z",
     "end_time": "2023-04-21T19:15:32.747472Z"
    }
   },
   "source": [
    "data = {'state': ['Ohio', 'Ohio', 'Ohio', 'Nevada', 'Nevada', 'Nevada'],\n",
    "        'year': [2000, 2001, 2002, 2001, 2002, 2003],\n",
    "        'pop': [1.5, 1.7, 3.6, 2.4, 2.9, 3.2]}\n",
    "frame = pd.DataFrame(data)"
   ],
   "execution_count": 21,
   "outputs": []
  },
  {
   "cell_type": "code",
   "metadata": {
    "id": "iKIvhRWdRcqC"
   },
   "source": [
    "frame"
   ],
   "execution_count": 42,
   "outputs": [
    {
     "data": {
      "text/plain": "    state  year  pop\n0    Ohio  2000  1.5\n1    Ohio  2001  1.7\n2    Ohio  2002  3.6\n3  Nevada  2001  2.4\n4  Nevada  2002  2.9\n5  Nevada  2003  3.2",
      "text/html": "<div>\n<style scoped>\n    .dataframe tbody tr th:only-of-type {\n        vertical-align: middle;\n    }\n\n    .dataframe tbody tr th {\n        vertical-align: top;\n    }\n\n    .dataframe thead th {\n        text-align: right;\n    }\n</style>\n<table border=\"1\" class=\"dataframe\">\n  <thead>\n    <tr style=\"text-align: right;\">\n      <th></th>\n      <th>state</th>\n      <th>year</th>\n      <th>pop</th>\n    </tr>\n  </thead>\n  <tbody>\n    <tr>\n      <th>0</th>\n      <td>Ohio</td>\n      <td>2000</td>\n      <td>1.5</td>\n    </tr>\n    <tr>\n      <th>1</th>\n      <td>Ohio</td>\n      <td>2001</td>\n      <td>1.7</td>\n    </tr>\n    <tr>\n      <th>2</th>\n      <td>Ohio</td>\n      <td>2002</td>\n      <td>3.6</td>\n    </tr>\n    <tr>\n      <th>3</th>\n      <td>Nevada</td>\n      <td>2001</td>\n      <td>2.4</td>\n    </tr>\n    <tr>\n      <th>4</th>\n      <td>Nevada</td>\n      <td>2002</td>\n      <td>2.9</td>\n    </tr>\n    <tr>\n      <th>5</th>\n      <td>Nevada</td>\n      <td>2003</td>\n      <td>3.2</td>\n    </tr>\n  </tbody>\n</table>\n</div>"
     },
     "execution_count": 42,
     "metadata": {},
     "output_type": "execute_result"
    }
   ]
  },
  {
   "cell_type": "markdown",
   "metadata": {
    "id": "90rv9728Qdc_"
   },
   "source": [
    "The head method selects only the first five rows (good for large datasets)"
   ]
  },
  {
   "cell_type": "code",
   "metadata": {
    "id": "p3EolMSP0Gp9"
   },
   "source": [
    "frame.shape"
   ],
   "execution_count": null,
   "outputs": []
  },
  {
   "cell_type": "code",
   "metadata": {
    "id": "5w0qpiDRQddA"
   },
   "source": [
    "frame.head(3) # default: 5"
   ],
   "execution_count": 44,
   "outputs": [
    {
     "data": {
      "text/plain": "  state  year  pop\n0  Ohio  2000  1.5\n1  Ohio  2001  1.7\n2  Ohio  2002  3.6",
      "text/html": "<div>\n<style scoped>\n    .dataframe tbody tr th:only-of-type {\n        vertical-align: middle;\n    }\n\n    .dataframe tbody tr th {\n        vertical-align: top;\n    }\n\n    .dataframe thead th {\n        text-align: right;\n    }\n</style>\n<table border=\"1\" class=\"dataframe\">\n  <thead>\n    <tr style=\"text-align: right;\">\n      <th></th>\n      <th>state</th>\n      <th>year</th>\n      <th>pop</th>\n    </tr>\n  </thead>\n  <tbody>\n    <tr>\n      <th>0</th>\n      <td>Ohio</td>\n      <td>2000</td>\n      <td>1.5</td>\n    </tr>\n    <tr>\n      <th>1</th>\n      <td>Ohio</td>\n      <td>2001</td>\n      <td>1.7</td>\n    </tr>\n    <tr>\n      <th>2</th>\n      <td>Ohio</td>\n      <td>2002</td>\n      <td>3.6</td>\n    </tr>\n  </tbody>\n</table>\n</div>"
     },
     "execution_count": 44,
     "metadata": {},
     "output_type": "execute_result"
    }
   ]
  },
  {
   "cell_type": "code",
   "metadata": {
    "id": "6h_UqaXKQddC"
   },
   "source": [
    "frame.tail(3)"
   ],
   "execution_count": 45,
   "outputs": [
    {
     "data": {
      "text/plain": "    state  year  pop\n3  Nevada  2001  2.4\n4  Nevada  2002  2.9\n5  Nevada  2003  3.2",
      "text/html": "<div>\n<style scoped>\n    .dataframe tbody tr th:only-of-type {\n        vertical-align: middle;\n    }\n\n    .dataframe tbody tr th {\n        vertical-align: top;\n    }\n\n    .dataframe thead th {\n        text-align: right;\n    }\n</style>\n<table border=\"1\" class=\"dataframe\">\n  <thead>\n    <tr style=\"text-align: right;\">\n      <th></th>\n      <th>state</th>\n      <th>year</th>\n      <th>pop</th>\n    </tr>\n  </thead>\n  <tbody>\n    <tr>\n      <th>3</th>\n      <td>Nevada</td>\n      <td>2001</td>\n      <td>2.4</td>\n    </tr>\n    <tr>\n      <th>4</th>\n      <td>Nevada</td>\n      <td>2002</td>\n      <td>2.9</td>\n    </tr>\n    <tr>\n      <th>5</th>\n      <td>Nevada</td>\n      <td>2003</td>\n      <td>3.2</td>\n    </tr>\n  </tbody>\n</table>\n</div>"
     },
     "execution_count": 45,
     "metadata": {},
     "output_type": "execute_result"
    }
   ]
  },
  {
   "cell_type": "code",
   "metadata": {
    "id": "Q94BTgGnHlk3"
   },
   "source": [
    "frame.sample(3) # default: 1, estrae a caso una riga dal dataset"
   ],
   "execution_count": 46,
   "outputs": [
    {
     "data": {
      "text/plain": "    state  year  pop\n2    Ohio  2002  3.6\n4  Nevada  2002  2.9\n1    Ohio  2001  1.7",
      "text/html": "<div>\n<style scoped>\n    .dataframe tbody tr th:only-of-type {\n        vertical-align: middle;\n    }\n\n    .dataframe tbody tr th {\n        vertical-align: top;\n    }\n\n    .dataframe thead th {\n        text-align: right;\n    }\n</style>\n<table border=\"1\" class=\"dataframe\">\n  <thead>\n    <tr style=\"text-align: right;\">\n      <th></th>\n      <th>state</th>\n      <th>year</th>\n      <th>pop</th>\n    </tr>\n  </thead>\n  <tbody>\n    <tr>\n      <th>2</th>\n      <td>Ohio</td>\n      <td>2002</td>\n      <td>3.6</td>\n    </tr>\n    <tr>\n      <th>4</th>\n      <td>Nevada</td>\n      <td>2002</td>\n      <td>2.9</td>\n    </tr>\n    <tr>\n      <th>1</th>\n      <td>Ohio</td>\n      <td>2001</td>\n      <td>1.7</td>\n    </tr>\n  </tbody>\n</table>\n</div>"
     },
     "execution_count": 46,
     "metadata": {},
     "output_type": "execute_result"
    }
   ]
  },
  {
   "cell_type": "code",
   "metadata": {
    "id": "9JwjU3_zMkoq"
   },
   "source": [
    "frame.columns"
   ],
   "execution_count": 47,
   "outputs": [
    {
     "data": {
      "text/plain": "Index(['state', 'year', 'pop'], dtype='object')"
     },
     "execution_count": 47,
     "metadata": {},
     "output_type": "execute_result"
    }
   ]
  },
  {
   "cell_type": "code",
   "metadata": {
    "id": "P9tQHj5QMmjU"
   },
   "source": [
    "frame.index.values"
   ],
   "execution_count": 48,
   "outputs": [
    {
     "data": {
      "text/plain": "array([0, 1, 2, 3, 4, 5], dtype=int64)"
     },
     "execution_count": 48,
     "metadata": {},
     "output_type": "execute_result"
    }
   ]
  },
  {
   "cell_type": "markdown",
   "metadata": {
    "id": "5qrRwtDMQddE"
   },
   "source": [
    "If you specify a sequence of columns, the DataFrame’s columns will be arranged in that order"
   ]
  },
  {
   "cell_type": "code",
   "metadata": {
    "id": "AifTzN9kWpEt"
   },
   "source": [
    "matrix = np.arange(4).reshape(2,-1)\n",
    "matrix"
   ],
   "execution_count": 49,
   "outputs": [
    {
     "data": {
      "text/plain": "array([[0, 1],\n       [2, 3]])"
     },
     "execution_count": 49,
     "metadata": {},
     "output_type": "execute_result"
    }
   ]
  },
  {
   "cell_type": "code",
   "metadata": {
    "id": "I6rFTVUyW0QV"
   },
   "source": [
    "table = pd.DataFrame(matrix, columns=['col1', 'col2'], index=['row1', 'row2'])\n",
    "table"
   ],
   "execution_count": 50,
   "outputs": [
    {
     "data": {
      "text/plain": "      col1  col2\nrow1     0     1\nrow2     2     3",
      "text/html": "<div>\n<style scoped>\n    .dataframe tbody tr th:only-of-type {\n        vertical-align: middle;\n    }\n\n    .dataframe tbody tr th {\n        vertical-align: top;\n    }\n\n    .dataframe thead th {\n        text-align: right;\n    }\n</style>\n<table border=\"1\" class=\"dataframe\">\n  <thead>\n    <tr style=\"text-align: right;\">\n      <th></th>\n      <th>col1</th>\n      <th>col2</th>\n    </tr>\n  </thead>\n  <tbody>\n    <tr>\n      <th>row1</th>\n      <td>0</td>\n      <td>1</td>\n    </tr>\n    <tr>\n      <th>row2</th>\n      <td>2</td>\n      <td>3</td>\n    </tr>\n  </tbody>\n</table>\n</div>"
     },
     "execution_count": 50,
     "metadata": {},
     "output_type": "execute_result"
    }
   ]
  },
  {
   "cell_type": "code",
   "metadata": {
    "id": "orhJJABiUpNw",
    "ExecuteTime": {
     "start_time": "2023-04-21T19:15:40.137693Z",
     "end_time": "2023-04-21T19:15:40.161478Z"
    }
   },
   "source": [
    "data"
   ],
   "execution_count": 22,
   "outputs": [
    {
     "data": {
      "text/plain": "{'state': ['Ohio', 'Ohio', 'Ohio', 'Nevada', 'Nevada', 'Nevada'],\n 'year': [2000, 2001, 2002, 2001, 2002, 2003],\n 'pop': [1.5, 1.7, 3.6, 2.4, 2.9, 3.2]}"
     },
     "execution_count": 22,
     "metadata": {},
     "output_type": "execute_result"
    }
   ]
  },
  {
   "cell_type": "code",
   "metadata": {
    "id": "VKSqwuBqQddF",
    "ExecuteTime": {
     "start_time": "2023-04-21T19:15:58.119373Z",
     "end_time": "2023-04-21T19:15:58.141172Z"
    }
   },
   "source": [
    "pd.DataFrame(data, columns=['year', 'state', 'pop'])"
   ],
   "execution_count": 24,
   "outputs": [
    {
     "data": {
      "text/plain": "   year   state  pop\n0  2000    Ohio  1.5\n1  2001    Ohio  1.7\n2  2002    Ohio  3.6\n3  2001  Nevada  2.4\n4  2002  Nevada  2.9\n5  2003  Nevada  3.2",
      "text/html": "<div>\n<style scoped>\n    .dataframe tbody tr th:only-of-type {\n        vertical-align: middle;\n    }\n\n    .dataframe tbody tr th {\n        vertical-align: top;\n    }\n\n    .dataframe thead th {\n        text-align: right;\n    }\n</style>\n<table border=\"1\" class=\"dataframe\">\n  <thead>\n    <tr style=\"text-align: right;\">\n      <th></th>\n      <th>year</th>\n      <th>state</th>\n      <th>pop</th>\n    </tr>\n  </thead>\n  <tbody>\n    <tr>\n      <th>0</th>\n      <td>2000</td>\n      <td>Ohio</td>\n      <td>1.5</td>\n    </tr>\n    <tr>\n      <th>1</th>\n      <td>2001</td>\n      <td>Ohio</td>\n      <td>1.7</td>\n    </tr>\n    <tr>\n      <th>2</th>\n      <td>2002</td>\n      <td>Ohio</td>\n      <td>3.6</td>\n    </tr>\n    <tr>\n      <th>3</th>\n      <td>2001</td>\n      <td>Nevada</td>\n      <td>2.4</td>\n    </tr>\n    <tr>\n      <th>4</th>\n      <td>2002</td>\n      <td>Nevada</td>\n      <td>2.9</td>\n    </tr>\n    <tr>\n      <th>5</th>\n      <td>2003</td>\n      <td>Nevada</td>\n      <td>3.2</td>\n    </tr>\n  </tbody>\n</table>\n</div>"
     },
     "execution_count": 24,
     "metadata": {},
     "output_type": "execute_result"
    }
   ]
  },
  {
   "cell_type": "code",
   "metadata": {
    "id": "FgnXGkVcQddH",
    "ExecuteTime": {
     "start_time": "2023-04-21T19:16:13.355793Z",
     "end_time": "2023-04-21T19:16:13.377444Z"
    }
   },
   "source": [
    "frame2 = pd.DataFrame(data, columns=['year', 'state', 'pop', 'debt'],\n",
    "                      index=['one', 'two', 'three', 'four',\n",
    "                             'five', 'six'])\n",
    "frame2"
   ],
   "execution_count": 27,
   "outputs": [
    {
     "data": {
      "text/plain": "       year   state  pop debt\none    2000    Ohio  1.5  NaN\ntwo    2001    Ohio  1.7  NaN\nthree  2002    Ohio  3.6  NaN\nfour   2001  Nevada  2.4  NaN\nfive   2002  Nevada  2.9  NaN\nsix    2003  Nevada  3.2  NaN",
      "text/html": "<div>\n<style scoped>\n    .dataframe tbody tr th:only-of-type {\n        vertical-align: middle;\n    }\n\n    .dataframe tbody tr th {\n        vertical-align: top;\n    }\n\n    .dataframe thead th {\n        text-align: right;\n    }\n</style>\n<table border=\"1\" class=\"dataframe\">\n  <thead>\n    <tr style=\"text-align: right;\">\n      <th></th>\n      <th>year</th>\n      <th>state</th>\n      <th>pop</th>\n      <th>debt</th>\n    </tr>\n  </thead>\n  <tbody>\n    <tr>\n      <th>one</th>\n      <td>2000</td>\n      <td>Ohio</td>\n      <td>1.5</td>\n      <td>NaN</td>\n    </tr>\n    <tr>\n      <th>two</th>\n      <td>2001</td>\n      <td>Ohio</td>\n      <td>1.7</td>\n      <td>NaN</td>\n    </tr>\n    <tr>\n      <th>three</th>\n      <td>2002</td>\n      <td>Ohio</td>\n      <td>3.6</td>\n      <td>NaN</td>\n    </tr>\n    <tr>\n      <th>four</th>\n      <td>2001</td>\n      <td>Nevada</td>\n      <td>2.4</td>\n      <td>NaN</td>\n    </tr>\n    <tr>\n      <th>five</th>\n      <td>2002</td>\n      <td>Nevada</td>\n      <td>2.9</td>\n      <td>NaN</td>\n    </tr>\n    <tr>\n      <th>six</th>\n      <td>2003</td>\n      <td>Nevada</td>\n      <td>3.2</td>\n      <td>NaN</td>\n    </tr>\n  </tbody>\n</table>\n</div>"
     },
     "execution_count": 27,
     "metadata": {},
     "output_type": "execute_result"
    }
   ]
  },
  {
   "cell_type": "code",
   "metadata": {
    "id": "cOGIu2fcQddN",
    "ExecuteTime": {
     "start_time": "2023-04-21T19:16:35.307562Z",
     "end_time": "2023-04-21T19:16:35.335294Z"
    }
   },
   "source": [
    "dato = np.array([[1,2,3],[4,5,6]])\n",
    "dato"
   ],
   "execution_count": 28,
   "outputs": [
    {
     "data": {
      "text/plain": "array([[1, 2, 3],\n       [4, 5, 6]])"
     },
     "execution_count": 28,
     "metadata": {},
     "output_type": "execute_result"
    }
   ]
  },
  {
   "cell_type": "code",
   "metadata": {
    "id": "AqiFKi2pQddS",
    "ExecuteTime": {
     "start_time": "2023-04-21T19:17:51.660300Z",
     "end_time": "2023-04-21T19:17:51.681436Z"
    }
   },
   "source": [
    "frame = pd.DataFrame(dato, columns=['a','s','k'],index=['one','two'])\n",
    "frame"
   ],
   "execution_count": 32,
   "outputs": [
    {
     "data": {
      "text/plain": "     a  s  k\none  1  2  3\ntwo  4  5  6",
      "text/html": "<div>\n<style scoped>\n    .dataframe tbody tr th:only-of-type {\n        vertical-align: middle;\n    }\n\n    .dataframe tbody tr th {\n        vertical-align: top;\n    }\n\n    .dataframe thead th {\n        text-align: right;\n    }\n</style>\n<table border=\"1\" class=\"dataframe\">\n  <thead>\n    <tr style=\"text-align: right;\">\n      <th></th>\n      <th>a</th>\n      <th>s</th>\n      <th>k</th>\n    </tr>\n  </thead>\n  <tbody>\n    <tr>\n      <th>one</th>\n      <td>1</td>\n      <td>2</td>\n      <td>3</td>\n    </tr>\n    <tr>\n      <th>two</th>\n      <td>4</td>\n      <td>5</td>\n      <td>6</td>\n    </tr>\n  </tbody>\n</table>\n</div>"
     },
     "execution_count": 32,
     "metadata": {},
     "output_type": "execute_result"
    }
   ]
  },
  {
   "cell_type": "code",
   "metadata": {
    "id": "n7HvoYCOQddX",
    "ExecuteTime": {
     "start_time": "2023-04-21T19:18:05.470604Z",
     "end_time": "2023-04-21T19:18:05.494804Z"
    }
   },
   "source": [
    "frame.index"
   ],
   "execution_count": 34,
   "outputs": [
    {
     "data": {
      "text/plain": "Index(['one', 'two'], dtype='object')"
     },
     "execution_count": 34,
     "metadata": {},
     "output_type": "execute_result"
    }
   ]
  },
  {
   "cell_type": "code",
   "metadata": {
    "id": "x-veVP1IPBjX"
   },
   "source": [
    "frame2.columns"
   ],
   "execution_count": 56,
   "outputs": [
    {
     "data": {
      "text/plain": "Index(['year', 'state', 'pop', 'debt'], dtype='object')"
     },
     "execution_count": 56,
     "metadata": {},
     "output_type": "execute_result"
    }
   ]
  },
  {
   "cell_type": "markdown",
   "metadata": {
    "id": "I20kThOrQddY"
   },
   "source": [
    "A column in a DataFrame can be retrieved as a Series either by dict-like notation or by attribute"
   ]
  },
  {
   "cell_type": "code",
   "metadata": {
    "id": "S-YJkSSSQddZ",
    "ExecuteTime": {
     "start_time": "2023-04-21T19:18:17.176521Z",
     "end_time": "2023-04-21T19:18:17.201104Z"
    }
   },
   "source": [
    "frame2['state']"
   ],
   "execution_count": 35,
   "outputs": [
    {
     "data": {
      "text/plain": "one        Ohio\ntwo        Ohio\nthree      Ohio\nfour     Nevada\nfive     Nevada\nsix      Nevada\nName: state, dtype: object"
     },
     "execution_count": 35,
     "metadata": {},
     "output_type": "execute_result"
    }
   ]
  },
  {
   "cell_type": "code",
   "metadata": {
    "id": "kmSVjpA6Qddc",
    "ExecuteTime": {
     "start_time": "2023-04-21T19:18:22.709462Z",
     "end_time": "2023-04-21T19:18:22.746567Z"
    }
   },
   "source": [
    "type(frame2['state']) # sia le righe che le  colonne sono una Serie"
   ],
   "execution_count": 36,
   "outputs": [
    {
     "data": {
      "text/plain": "pandas.core.series.Series"
     },
     "execution_count": 36,
     "metadata": {},
     "output_type": "execute_result"
    }
   ]
  },
  {
   "cell_type": "code",
   "metadata": {
    "id": "UeSWnSnePXU1"
   },
   "source": [
    "type(frame2)"
   ],
   "execution_count": 60,
   "outputs": [
    {
     "data": {
      "text/plain": "pandas.core.frame.DataFrame"
     },
     "execution_count": 60,
     "metadata": {},
     "output_type": "execute_result"
    }
   ]
  },
  {
   "cell_type": "code",
   "metadata": {
    "id": "nM_x-yzifs-d"
   },
   "source": [
    "frame2.state"
   ],
   "execution_count": 61,
   "outputs": [
    {
     "data": {
      "text/plain": "one        Ohio\ntwo        Ohio\nthree      Ohio\nfour     Nevada\nfive     Nevada\nsix      Nevada\nName: state, dtype: object"
     },
     "execution_count": 61,
     "metadata": {},
     "output_type": "execute_result"
    }
   ]
  },
  {
   "cell_type": "code",
   "metadata": {
    "id": "ykmA9OreQddh"
   },
   "source": [
    "display(\n",
    "  frame2.year, '---',\n",
    "  frame2['year'])"
   ],
   "execution_count": 62,
   "outputs": [
    {
     "data": {
      "text/plain": "one      2000\ntwo      2001\nthree    2002\nfour     2001\nfive     2002\nsix      2003\nName: year, dtype: int64"
     },
     "metadata": {},
     "output_type": "display_data"
    },
    {
     "data": {
      "text/plain": "'---'"
     },
     "metadata": {},
     "output_type": "display_data"
    },
    {
     "data": {
      "text/plain": "one      2000\ntwo      2001\nthree    2002\nfour     2001\nfive     2002\nsix      2003\nName: year, dtype: int64"
     },
     "metadata": {},
     "output_type": "display_data"
    }
   ]
  },
  {
   "cell_type": "markdown",
   "metadata": {
    "id": "f8xyMK-EQddm"
   },
   "source": [
    "Rows can also be retrieved by position or name with the special loc attribute"
   ]
  },
  {
   "cell_type": "markdown",
   "source": [
    "##  Filtrare i DataFrame"
   ],
   "metadata": {
    "collapsed": false
   }
  },
  {
   "cell_type": "code",
   "execution_count": 63,
   "outputs": [
    {
     "data": {
      "text/plain": "       year   state  pop debt\none    2000    Ohio  1.5  NaN\ntwo    2001    Ohio  1.7  NaN\nthree  2002    Ohio  3.6  NaN\nfour   2001  Nevada  2.4  NaN\nfive   2002  Nevada  2.9  NaN\nsix    2003  Nevada  3.2  NaN",
      "text/html": "<div>\n<style scoped>\n    .dataframe tbody tr th:only-of-type {\n        vertical-align: middle;\n    }\n\n    .dataframe tbody tr th {\n        vertical-align: top;\n    }\n\n    .dataframe thead th {\n        text-align: right;\n    }\n</style>\n<table border=\"1\" class=\"dataframe\">\n  <thead>\n    <tr style=\"text-align: right;\">\n      <th></th>\n      <th>year</th>\n      <th>state</th>\n      <th>pop</th>\n      <th>debt</th>\n    </tr>\n  </thead>\n  <tbody>\n    <tr>\n      <th>one</th>\n      <td>2000</td>\n      <td>Ohio</td>\n      <td>1.5</td>\n      <td>NaN</td>\n    </tr>\n    <tr>\n      <th>two</th>\n      <td>2001</td>\n      <td>Ohio</td>\n      <td>1.7</td>\n      <td>NaN</td>\n    </tr>\n    <tr>\n      <th>three</th>\n      <td>2002</td>\n      <td>Ohio</td>\n      <td>3.6</td>\n      <td>NaN</td>\n    </tr>\n    <tr>\n      <th>four</th>\n      <td>2001</td>\n      <td>Nevada</td>\n      <td>2.4</td>\n      <td>NaN</td>\n    </tr>\n    <tr>\n      <th>five</th>\n      <td>2002</td>\n      <td>Nevada</td>\n      <td>2.9</td>\n      <td>NaN</td>\n    </tr>\n    <tr>\n      <th>six</th>\n      <td>2003</td>\n      <td>Nevada</td>\n      <td>3.2</td>\n      <td>NaN</td>\n    </tr>\n  </tbody>\n</table>\n</div>"
     },
     "execution_count": 63,
     "metadata": {},
     "output_type": "execute_result"
    }
   ],
   "source": [
    "frame2"
   ],
   "metadata": {
    "collapsed": false
   }
  },
  {
   "cell_type": "code",
   "metadata": {
    "id": "Z6UYn2uhPnxq"
   },
   "source": [
    "frame2['year'][0] # or frame2.year[0]"
   ],
   "execution_count": 66,
   "outputs": [
    {
     "data": {
      "text/plain": "2000"
     },
     "execution_count": 66,
     "metadata": {},
     "output_type": "execute_result"
    }
   ]
  },
  {
   "cell_type": "code",
   "metadata": {
    "id": "B5TyjLYuQddn"
   },
   "source": [
    "frame2.loc['three'] # NOT work frame2['three'] --> [] takes strings only as columns. Si usa per un indice esplicito"
   ],
   "execution_count": 67,
   "outputs": [
    {
     "data": {
      "text/plain": "year     2002\nstate    Ohio\npop       3.6\ndebt      NaN\nName: three, dtype: object"
     },
     "execution_count": 67,
     "metadata": {},
     "output_type": "execute_result"
    }
   ]
  },
  {
   "cell_type": "code",
   "metadata": {
    "id": "w3SuOm3KgUVw"
   },
   "source": [
    "type(frame2.loc['three'])"
   ],
   "execution_count": 68,
   "outputs": [
    {
     "data": {
      "text/plain": "pandas.core.series.Series"
     },
     "execution_count": 68,
     "metadata": {},
     "output_type": "execute_result"
    }
   ]
  },
  {
   "cell_type": "code",
   "metadata": {
    "id": "I5E9dyQAYbpS"
   },
   "source": [
    "frame"
   ],
   "execution_count": 69,
   "outputs": [
    {
     "data": {
      "text/plain": "   a  s  k\n0  1  2  3\n1  4  5  6",
      "text/html": "<div>\n<style scoped>\n    .dataframe tbody tr th:only-of-type {\n        vertical-align: middle;\n    }\n\n    .dataframe tbody tr th {\n        vertical-align: top;\n    }\n\n    .dataframe thead th {\n        text-align: right;\n    }\n</style>\n<table border=\"1\" class=\"dataframe\">\n  <thead>\n    <tr style=\"text-align: right;\">\n      <th></th>\n      <th>a</th>\n      <th>s</th>\n      <th>k</th>\n    </tr>\n  </thead>\n  <tbody>\n    <tr>\n      <th>0</th>\n      <td>1</td>\n      <td>2</td>\n      <td>3</td>\n    </tr>\n    <tr>\n      <th>1</th>\n      <td>4</td>\n      <td>5</td>\n      <td>6</td>\n    </tr>\n  </tbody>\n</table>\n</div>"
     },
     "execution_count": 69,
     "metadata": {},
     "output_type": "execute_result"
    }
   ]
  },
  {
   "cell_type": "markdown",
   "metadata": {
    "id": "ZCO4l4e6Qdfe"
   },
   "source": [
    "### Indexing, Selection, and Filtering\n",
    "\n",
    "- *loc*: Access a group of rows and columns by label(s) or a boolean array.\n",
    "- *iloc*: Purely integer-location based rows and columns indexing for selection by position.\n",
    "- [...]: Access rows by integer or labels, or access columns with labels(no slice for columns in [...]).\n",
    "\n",
    "columns can be always omitted."
   ]
  },
  {
   "cell_type": "code",
   "metadata": {
    "id": "79nno0yPQdfq",
    "ExecuteTime": {
     "start_time": "2023-04-21T19:20:52.394402Z",
     "end_time": "2023-04-21T19:20:52.416464Z"
    }
   },
   "source": [
    "data = pd.DataFrame(np.arange(20).reshape((4, 5)),\n",
    "                    index=['Ohio', 'Colorado', 'Utah', 'New York'],\n",
    "                    columns=['zero', 'one', 'two', 'three', 'four'])\n",
    "data"
   ],
   "execution_count": 40,
   "outputs": [
    {
     "data": {
      "text/plain": "          zero  one  two  three  four\nOhio         0    1    2      3     4\nColorado     5    6    7      8     9\nUtah        10   11   12     13    14\nNew York    15   16   17     18    19",
      "text/html": "<div>\n<style scoped>\n    .dataframe tbody tr th:only-of-type {\n        vertical-align: middle;\n    }\n\n    .dataframe tbody tr th {\n        vertical-align: top;\n    }\n\n    .dataframe thead th {\n        text-align: right;\n    }\n</style>\n<table border=\"1\" class=\"dataframe\">\n  <thead>\n    <tr style=\"text-align: right;\">\n      <th></th>\n      <th>zero</th>\n      <th>one</th>\n      <th>two</th>\n      <th>three</th>\n      <th>four</th>\n    </tr>\n  </thead>\n  <tbody>\n    <tr>\n      <th>Ohio</th>\n      <td>0</td>\n      <td>1</td>\n      <td>2</td>\n      <td>3</td>\n      <td>4</td>\n    </tr>\n    <tr>\n      <th>Colorado</th>\n      <td>5</td>\n      <td>6</td>\n      <td>7</td>\n      <td>8</td>\n      <td>9</td>\n    </tr>\n    <tr>\n      <th>Utah</th>\n      <td>10</td>\n      <td>11</td>\n      <td>12</td>\n      <td>13</td>\n      <td>14</td>\n    </tr>\n    <tr>\n      <th>New York</th>\n      <td>15</td>\n      <td>16</td>\n      <td>17</td>\n      <td>18</td>\n      <td>19</td>\n    </tr>\n  </tbody>\n</table>\n</div>"
     },
     "execution_count": 40,
     "metadata": {},
     "output_type": "execute_result"
    }
   ]
  },
  {
   "cell_type": "code",
   "execution_count": 41,
   "outputs": [
    {
     "data": {
      "text/plain": "          zero  one  two  three  four\nOhio         0    1    2      3     4\nColorado     5    6    7      8     9",
      "text/html": "<div>\n<style scoped>\n    .dataframe tbody tr th:only-of-type {\n        vertical-align: middle;\n    }\n\n    .dataframe tbody tr th {\n        vertical-align: top;\n    }\n\n    .dataframe thead th {\n        text-align: right;\n    }\n</style>\n<table border=\"1\" class=\"dataframe\">\n  <thead>\n    <tr style=\"text-align: right;\">\n      <th></th>\n      <th>zero</th>\n      <th>one</th>\n      <th>two</th>\n      <th>three</th>\n      <th>four</th>\n    </tr>\n  </thead>\n  <tbody>\n    <tr>\n      <th>Ohio</th>\n      <td>0</td>\n      <td>1</td>\n      <td>2</td>\n      <td>3</td>\n      <td>4</td>\n    </tr>\n    <tr>\n      <th>Colorado</th>\n      <td>5</td>\n      <td>6</td>\n      <td>7</td>\n      <td>8</td>\n      <td>9</td>\n    </tr>\n  </tbody>\n</table>\n</div>"
     },
     "execution_count": 41,
     "metadata": {},
     "output_type": "execute_result"
    }
   ],
   "source": [
    "data[:2] # con gli slicing fornisce le righe"
   ],
   "metadata": {
    "collapsed": false,
    "ExecuteTime": {
     "start_time": "2023-04-21T19:20:55.299180Z",
     "end_time": "2023-04-21T19:20:55.325337Z"
    }
   }
  },
  {
   "cell_type": "code",
   "metadata": {
    "id": "Dt9MEZKnTtA_"
   },
   "source": [
    "data.loc['Ohio':'Utah',\"three\"]"
   ],
   "execution_count": 76,
   "outputs": [
    {
     "data": {
      "text/plain": "Ohio         3\nColorado     8\nUtah        13\nName: three, dtype: int32"
     },
     "execution_count": 76,
     "metadata": {},
     "output_type": "execute_result"
    }
   ]
  },
  {
   "cell_type": "markdown",
   "metadata": {
    "id": "4dtdu5JLSjj1"
   },
   "source": [
    "#### columns indexing"
   ]
  },
  {
   "cell_type": "code",
   "metadata": {
    "id": "B0SxfEfoiHnT",
    "ExecuteTime": {
     "start_time": "2023-04-21T19:20:58.209401Z",
     "end_time": "2023-04-21T19:20:58.235218Z"
    }
   },
   "source": [
    "data[0:1]"
   ],
   "execution_count": 42,
   "outputs": [
    {
     "data": {
      "text/plain": "      zero  one  two  three  four\nOhio     0    1    2      3     4",
      "text/html": "<div>\n<style scoped>\n    .dataframe tbody tr th:only-of-type {\n        vertical-align: middle;\n    }\n\n    .dataframe tbody tr th {\n        vertical-align: top;\n    }\n\n    .dataframe thead th {\n        text-align: right;\n    }\n</style>\n<table border=\"1\" class=\"dataframe\">\n  <thead>\n    <tr style=\"text-align: right;\">\n      <th></th>\n      <th>zero</th>\n      <th>one</th>\n      <th>two</th>\n      <th>three</th>\n      <th>four</th>\n    </tr>\n  </thead>\n  <tbody>\n    <tr>\n      <th>Ohio</th>\n      <td>0</td>\n      <td>1</td>\n      <td>2</td>\n      <td>3</td>\n      <td>4</td>\n    </tr>\n  </tbody>\n</table>\n</div>"
     },
     "execution_count": 42,
     "metadata": {},
     "output_type": "execute_result"
    }
   ]
  },
  {
   "cell_type": "code",
   "execution_count": 43,
   "outputs": [
    {
     "data": {
      "text/plain": "          one\nOhio        1\nColorado    6\nUtah       11\nNew York   16",
      "text/html": "<div>\n<style scoped>\n    .dataframe tbody tr th:only-of-type {\n        vertical-align: middle;\n    }\n\n    .dataframe tbody tr th {\n        vertical-align: top;\n    }\n\n    .dataframe thead th {\n        text-align: right;\n    }\n</style>\n<table border=\"1\" class=\"dataframe\">\n  <thead>\n    <tr style=\"text-align: right;\">\n      <th></th>\n      <th>one</th>\n    </tr>\n  </thead>\n  <tbody>\n    <tr>\n      <th>Ohio</th>\n      <td>1</td>\n    </tr>\n    <tr>\n      <th>Colorado</th>\n      <td>6</td>\n    </tr>\n    <tr>\n      <th>Utah</th>\n      <td>11</td>\n    </tr>\n    <tr>\n      <th>New York</th>\n      <td>16</td>\n    </tr>\n  </tbody>\n</table>\n</div>"
     },
     "execution_count": 43,
     "metadata": {},
     "output_type": "execute_result"
    }
   ],
   "source": [
    "data[['one']]"
   ],
   "metadata": {
    "collapsed": false,
    "ExecuteTime": {
     "start_time": "2023-04-21T19:21:02.509282Z",
     "end_time": "2023-04-21T19:21:02.534131Z"
    }
   }
  },
  {
   "cell_type": "code",
   "metadata": {
    "id": "GkMgO39khzCJ"
   },
   "source": [
    "data[['one','two']] # il risultato è un frame con le doppie quadre"
   ],
   "execution_count": 78,
   "outputs": [
    {
     "data": {
      "text/plain": "          one  two\nOhio        1    2\nColorado    6    7\nUtah       11   12\nNew York   16   17",
      "text/html": "<div>\n<style scoped>\n    .dataframe tbody tr th:only-of-type {\n        vertical-align: middle;\n    }\n\n    .dataframe tbody tr th {\n        vertical-align: top;\n    }\n\n    .dataframe thead th {\n        text-align: right;\n    }\n</style>\n<table border=\"1\" class=\"dataframe\">\n  <thead>\n    <tr style=\"text-align: right;\">\n      <th></th>\n      <th>one</th>\n      <th>two</th>\n    </tr>\n  </thead>\n  <tbody>\n    <tr>\n      <th>Ohio</th>\n      <td>1</td>\n      <td>2</td>\n    </tr>\n    <tr>\n      <th>Colorado</th>\n      <td>6</td>\n      <td>7</td>\n    </tr>\n    <tr>\n      <th>Utah</th>\n      <td>11</td>\n      <td>12</td>\n    </tr>\n    <tr>\n      <th>New York</th>\n      <td>16</td>\n      <td>17</td>\n    </tr>\n  </tbody>\n</table>\n</div>"
     },
     "execution_count": 78,
     "metadata": {},
     "output_type": "execute_result"
    }
   ]
  },
  {
   "cell_type": "code",
   "source": [
    "data"
   ],
   "metadata": {
    "id": "Va7a7orsjLBP"
   },
   "execution_count": 79,
   "outputs": [
    {
     "data": {
      "text/plain": "          zero  one  two  three  four\nOhio         0    1    2      3     4\nColorado     5    6    7      8     9\nUtah        10   11   12     13    14\nNew York    15   16   17     18    19",
      "text/html": "<div>\n<style scoped>\n    .dataframe tbody tr th:only-of-type {\n        vertical-align: middle;\n    }\n\n    .dataframe tbody tr th {\n        vertical-align: top;\n    }\n\n    .dataframe thead th {\n        text-align: right;\n    }\n</style>\n<table border=\"1\" class=\"dataframe\">\n  <thead>\n    <tr style=\"text-align: right;\">\n      <th></th>\n      <th>zero</th>\n      <th>one</th>\n      <th>two</th>\n      <th>three</th>\n      <th>four</th>\n    </tr>\n  </thead>\n  <tbody>\n    <tr>\n      <th>Ohio</th>\n      <td>0</td>\n      <td>1</td>\n      <td>2</td>\n      <td>3</td>\n      <td>4</td>\n    </tr>\n    <tr>\n      <th>Colorado</th>\n      <td>5</td>\n      <td>6</td>\n      <td>7</td>\n      <td>8</td>\n      <td>9</td>\n    </tr>\n    <tr>\n      <th>Utah</th>\n      <td>10</td>\n      <td>11</td>\n      <td>12</td>\n      <td>13</td>\n      <td>14</td>\n    </tr>\n    <tr>\n      <th>New York</th>\n      <td>15</td>\n      <td>16</td>\n      <td>17</td>\n      <td>18</td>\n      <td>19</td>\n    </tr>\n  </tbody>\n</table>\n</div>"
     },
     "execution_count": 79,
     "metadata": {},
     "output_type": "execute_result"
    }
   ]
  },
  {
   "cell_type": "code",
   "metadata": {
    "id": "G1FlEceQQdft"
   },
   "source": [
    "\n",
    "#data.loc['Colorado':'Utah','one']# not equal to\n",
    "data.iloc[1:2,1:] # iloc con gli indici implicito"
   ],
   "execution_count": 86,
   "outputs": [
    {
     "data": {
      "text/plain": "          one  two  three  four\nColorado    6    7      8     9",
      "text/html": "<div>\n<style scoped>\n    .dataframe tbody tr th:only-of-type {\n        vertical-align: middle;\n    }\n\n    .dataframe tbody tr th {\n        vertical-align: top;\n    }\n\n    .dataframe thead th {\n        text-align: right;\n    }\n</style>\n<table border=\"1\" class=\"dataframe\">\n  <thead>\n    <tr style=\"text-align: right;\">\n      <th></th>\n      <th>one</th>\n      <th>two</th>\n      <th>three</th>\n      <th>four</th>\n    </tr>\n  </thead>\n  <tbody>\n    <tr>\n      <th>Colorado</th>\n      <td>6</td>\n      <td>7</td>\n      <td>8</td>\n      <td>9</td>\n    </tr>\n  </tbody>\n</table>\n</div>"
     },
     "execution_count": 86,
     "metadata": {},
     "output_type": "execute_result"
    }
   ]
  },
  {
   "cell_type": "code",
   "metadata": {
    "id": "bYblHpfsaoI6"
   },
   "source": [
    "data.loc[:,'one']"
   ],
   "execution_count": 87,
   "outputs": [
    {
     "data": {
      "text/plain": "Ohio         1\nColorado     6\nUtah        11\nNew York    16\nName: one, dtype: int32"
     },
     "execution_count": 87,
     "metadata": {},
     "output_type": "execute_result"
    }
   ]
  },
  {
   "cell_type": "code",
   "metadata": {
    "id": "-4AePvZ8Qdfu"
   },
   "source": [
    "#data[['three', 'two', 'one']] # equals to\n",
    "# data.loc[:,['three', 'two', 'one']]\n",
    "data.iloc[:,[2,1,0]]"
   ],
   "execution_count": 90,
   "outputs": [
    {
     "data": {
      "text/plain": "          two  one  zero\nOhio        2    1     0\nColorado    7    6     5\nUtah       12   11    10\nNew York   17   16    15",
      "text/html": "<div>\n<style scoped>\n    .dataframe tbody tr th:only-of-type {\n        vertical-align: middle;\n    }\n\n    .dataframe tbody tr th {\n        vertical-align: top;\n    }\n\n    .dataframe thead th {\n        text-align: right;\n    }\n</style>\n<table border=\"1\" class=\"dataframe\">\n  <thead>\n    <tr style=\"text-align: right;\">\n      <th></th>\n      <th>two</th>\n      <th>one</th>\n      <th>zero</th>\n    </tr>\n  </thead>\n  <tbody>\n    <tr>\n      <th>Ohio</th>\n      <td>2</td>\n      <td>1</td>\n      <td>0</td>\n    </tr>\n    <tr>\n      <th>Colorado</th>\n      <td>7</td>\n      <td>6</td>\n      <td>5</td>\n    </tr>\n    <tr>\n      <th>Utah</th>\n      <td>12</td>\n      <td>11</td>\n      <td>10</td>\n    </tr>\n    <tr>\n      <th>New York</th>\n      <td>17</td>\n      <td>16</td>\n      <td>15</td>\n    </tr>\n  </tbody>\n</table>\n</div>"
     },
     "execution_count": 90,
     "metadata": {},
     "output_type": "execute_result"
    }
   ]
  },
  {
   "cell_type": "code",
   "metadata": {
    "id": "sMKkbU9Mcwzv"
   },
   "source": [
    "display( # sulle colonne\n",
    "data['three'],\n",
    "data[['three']],\n",
    "data[['one', 'two']],\n",
    ")"
   ],
   "execution_count": 91,
   "outputs": [
    {
     "data": {
      "text/plain": "Ohio         3\nColorado     8\nUtah        13\nNew York    18\nName: three, dtype: int32"
     },
     "metadata": {},
     "output_type": "display_data"
    },
    {
     "data": {
      "text/plain": "          three\nOhio          3\nColorado      8\nUtah         13\nNew York     18",
      "text/html": "<div>\n<style scoped>\n    .dataframe tbody tr th:only-of-type {\n        vertical-align: middle;\n    }\n\n    .dataframe tbody tr th {\n        vertical-align: top;\n    }\n\n    .dataframe thead th {\n        text-align: right;\n    }\n</style>\n<table border=\"1\" class=\"dataframe\">\n  <thead>\n    <tr style=\"text-align: right;\">\n      <th></th>\n      <th>three</th>\n    </tr>\n  </thead>\n  <tbody>\n    <tr>\n      <th>Ohio</th>\n      <td>3</td>\n    </tr>\n    <tr>\n      <th>Colorado</th>\n      <td>8</td>\n    </tr>\n    <tr>\n      <th>Utah</th>\n      <td>13</td>\n    </tr>\n    <tr>\n      <th>New York</th>\n      <td>18</td>\n    </tr>\n  </tbody>\n</table>\n</div>"
     },
     "metadata": {},
     "output_type": "display_data"
    },
    {
     "data": {
      "text/plain": "          one  two\nOhio        1    2\nColorado    6    7\nUtah       11   12\nNew York   16   17",
      "text/html": "<div>\n<style scoped>\n    .dataframe tbody tr th:only-of-type {\n        vertical-align: middle;\n    }\n\n    .dataframe tbody tr th {\n        vertical-align: top;\n    }\n\n    .dataframe thead th {\n        text-align: right;\n    }\n</style>\n<table border=\"1\" class=\"dataframe\">\n  <thead>\n    <tr style=\"text-align: right;\">\n      <th></th>\n      <th>one</th>\n      <th>two</th>\n    </tr>\n  </thead>\n  <tbody>\n    <tr>\n      <th>Ohio</th>\n      <td>1</td>\n      <td>2</td>\n    </tr>\n    <tr>\n      <th>Colorado</th>\n      <td>6</td>\n      <td>7</td>\n    </tr>\n    <tr>\n      <th>Utah</th>\n      <td>11</td>\n      <td>12</td>\n    </tr>\n    <tr>\n      <th>New York</th>\n      <td>16</td>\n      <td>17</td>\n    </tr>\n  </tbody>\n</table>\n</div>"
     },
     "metadata": {},
     "output_type": "display_data"
    }
   ]
  },
  {
   "cell_type": "code",
   "metadata": {
    "id": "g7uZXN7_mfkO"
   },
   "source": [
    "#SLICE\n",
    "data.loc[:, 'two':] # or\n",
    "#data.iloc[:, 2:]\n",
    "# data['two':] is NOT working"
   ],
   "execution_count": null,
   "outputs": []
  },
  {
   "cell_type": "markdown",
   "metadata": {
    "id": "Cs-WouQjSnM6"
   },
   "source": [
    "#### row indexing"
   ]
  },
  {
   "cell_type": "code",
   "metadata": {
    "id": "y3_7yMDxFzba"
   },
   "source": [
    "data"
   ],
   "execution_count": null,
   "outputs": []
  },
  {
   "cell_type": "code",
   "metadata": {
    "id": "J4kS-Wf-b7nb"
   },
   "source": [
    "data[1:] # equals to \n",
    "# data.loc['Colorado':]\n",
    "# data.iloc[1:]"
   ],
   "execution_count": null,
   "outputs": []
  },
  {
   "cell_type": "code",
   "metadata": {
    "id": "ebBYy1_cQdfv"
   },
   "source": [
    "data[0:2] #--> [] by integer\n",
    "# equals to \n",
    "# data.loc['Ohio':'Colorado']\n",
    "# data.iloc[0:2]\n",
    "# data['Ohio':'Colorado'] # --> [] by label"
   ],
   "execution_count": null,
   "outputs": []
  },
  {
   "cell_type": "code",
   "metadata": {
    "id": "-JqgECgbqExm"
   },
   "source": [
    "data.loc['Colorado']\n",
    "# data['Colorado'] # does not work >>> None of [Index(['Colorado'], dtype='object')] are in the [columns] <<< --> in [] single labels are only for columns\n",
    "# data.iloc[1]"
   ],
   "execution_count": null,
   "outputs": []
  },
  {
   "cell_type": "code",
   "metadata": {
    "id": "4TVwNeCHc6Jm"
   },
   "source": [
    "data.loc[['Colorado']] \n",
    "# data['Colorado':'Colorado']\n",
    "# data.iloc[[1]]"
   ],
   "execution_count": null,
   "outputs": []
  },
  {
   "cell_type": "code",
   "metadata": {
    "id": "XATxTjkuzNIG",
    "ExecuteTime": {
     "start_time": "2023-04-21T19:21:28.647776Z",
     "end_time": "2023-04-21T19:21:28.671594Z"
    }
   },
   "source": [
    "# Row and columns selection\n",
    "# Examples\n",
    "data.loc['Ohio':'Colorado', 'three'] # data.loc[[row], [col]] -> label\n",
    "data.loc['Colorado', ['two', 'three']] # data\n",
    "data.loc['Ohio':'Colorado', 'three':'four']\n",
    "data.iloc[[1, 2], 1:2]\n",
    "data.loc[:'Utah', 'two']\n",
    "data.iloc[0:2, :] # data.iloc[[row], [col]] -> posizionale\n",
    "data.iloc[2:3, [3, 0, 1]] # Utah, cols: four, one, two"
   ],
   "execution_count": 44,
   "outputs": [
    {
     "data": {
      "text/plain": "      three  zero  one\nUtah     13    10   11",
      "text/html": "<div>\n<style scoped>\n    .dataframe tbody tr th:only-of-type {\n        vertical-align: middle;\n    }\n\n    .dataframe tbody tr th {\n        vertical-align: top;\n    }\n\n    .dataframe thead th {\n        text-align: right;\n    }\n</style>\n<table border=\"1\" class=\"dataframe\">\n  <thead>\n    <tr style=\"text-align: right;\">\n      <th></th>\n      <th>three</th>\n      <th>zero</th>\n      <th>one</th>\n    </tr>\n  </thead>\n  <tbody>\n    <tr>\n      <th>Utah</th>\n      <td>13</td>\n      <td>10</td>\n      <td>11</td>\n    </tr>\n  </tbody>\n</table>\n</div>"
     },
     "execution_count": 44,
     "metadata": {},
     "output_type": "execute_result"
    }
   ]
  },
  {
   "cell_type": "markdown",
   "metadata": {
    "id": "__8nGHvHWsge"
   },
   "source": [
    "Why use loc? Differences between [] and .loc[]\n",
    "\n",
    "1.   using **.loc**, the execution time is more than 3X times faster!\n",
    "\n",
    "2.   loc is explicit: df.loc[row_indexer, column_index] can select rows and columns.\n",
    "\n",
    " df[indexer] can only select rows or columns depending on the type of values in indexer and the type of column values df has (again, are they boolean?).\n",
    "\n",
    "3.  When a slice is passed to **df.loc** the **end-points are included** in the range. When a slice is passed to **df[...]**, the slice is interpreted as a **half-open** interval:\n",
    "\n",
    "```\n",
    "x = pd.DataFrame(np.arange(9).reshape(3,3))\n",
    "x.loc[1:2].index.values # [1,2]\n",
    "x[1:2].index.values # [1]\n",
    "```\n",
    "\n"
   ]
  },
  {
   "cell_type": "markdown",
   "metadata": {
    "id": "qB-iQ_jivNU9"
   },
   "source": [
    "#### Filtering"
   ]
  },
  {
   "cell_type": "code",
   "metadata": {
    "id": "aHbV3Z18cf-e"
   },
   "source": [
    "data['three'] > 5"
   ],
   "execution_count": null,
   "outputs": []
  },
  {
   "cell_type": "code",
   "metadata": {
    "id": "mmxKzzJrUnZQ",
    "ExecuteTime": {
     "start_time": "2023-04-21T19:22:29.858963Z",
     "end_time": "2023-04-21T19:22:29.886407Z"
    }
   },
   "source": [
    "data"
   ],
   "execution_count": 45,
   "outputs": [
    {
     "data": {
      "text/plain": "          zero  one  two  three  four\nOhio         0    1    2      3     4\nColorado     5    6    7      8     9\nUtah        10   11   12     13    14\nNew York    15   16   17     18    19",
      "text/html": "<div>\n<style scoped>\n    .dataframe tbody tr th:only-of-type {\n        vertical-align: middle;\n    }\n\n    .dataframe tbody tr th {\n        vertical-align: top;\n    }\n\n    .dataframe thead th {\n        text-align: right;\n    }\n</style>\n<table border=\"1\" class=\"dataframe\">\n  <thead>\n    <tr style=\"text-align: right;\">\n      <th></th>\n      <th>zero</th>\n      <th>one</th>\n      <th>two</th>\n      <th>three</th>\n      <th>four</th>\n    </tr>\n  </thead>\n  <tbody>\n    <tr>\n      <th>Ohio</th>\n      <td>0</td>\n      <td>1</td>\n      <td>2</td>\n      <td>3</td>\n      <td>4</td>\n    </tr>\n    <tr>\n      <th>Colorado</th>\n      <td>5</td>\n      <td>6</td>\n      <td>7</td>\n      <td>8</td>\n      <td>9</td>\n    </tr>\n    <tr>\n      <th>Utah</th>\n      <td>10</td>\n      <td>11</td>\n      <td>12</td>\n      <td>13</td>\n      <td>14</td>\n    </tr>\n    <tr>\n      <th>New York</th>\n      <td>15</td>\n      <td>16</td>\n      <td>17</td>\n      <td>18</td>\n      <td>19</td>\n    </tr>\n  </tbody>\n</table>\n</div>"
     },
     "execution_count": 45,
     "metadata": {},
     "output_type": "execute_result"
    }
   ]
  },
  {
   "cell_type": "code",
   "metadata": {
    "id": "JlqrHKkYQdfz"
   },
   "source": [
    "data[data['three'] > 5]\n",
    "# data.loc[data['three'] > 5]\n",
    "# data.iloc[data['three'] > 5] # NOT working >>> iLocation based boolean indexing cannot use an indexable as a mask"
   ],
   "execution_count": null,
   "outputs": []
  },
  {
   "cell_type": "code",
   "metadata": {
    "id": "_Qr1LiPbQdf1",
    "ExecuteTime": {
     "start_time": "2023-04-21T19:22:32.641762Z",
     "end_time": "2023-04-21T19:22:32.667264Z"
    }
   },
   "source": [
    "data >= 12"
   ],
   "execution_count": 46,
   "outputs": [
    {
     "data": {
      "text/plain": "           zero    one    two  three   four\nOhio      False  False  False  False  False\nColorado  False  False  False  False  False\nUtah      False  False   True   True   True\nNew York   True   True   True   True   True",
      "text/html": "<div>\n<style scoped>\n    .dataframe tbody tr th:only-of-type {\n        vertical-align: middle;\n    }\n\n    .dataframe tbody tr th {\n        vertical-align: top;\n    }\n\n    .dataframe thead th {\n        text-align: right;\n    }\n</style>\n<table border=\"1\" class=\"dataframe\">\n  <thead>\n    <tr style=\"text-align: right;\">\n      <th></th>\n      <th>zero</th>\n      <th>one</th>\n      <th>two</th>\n      <th>three</th>\n      <th>four</th>\n    </tr>\n  </thead>\n  <tbody>\n    <tr>\n      <th>Ohio</th>\n      <td>False</td>\n      <td>False</td>\n      <td>False</td>\n      <td>False</td>\n      <td>False</td>\n    </tr>\n    <tr>\n      <th>Colorado</th>\n      <td>False</td>\n      <td>False</td>\n      <td>False</td>\n      <td>False</td>\n      <td>False</td>\n    </tr>\n    <tr>\n      <th>Utah</th>\n      <td>False</td>\n      <td>False</td>\n      <td>True</td>\n      <td>True</td>\n      <td>True</td>\n    </tr>\n    <tr>\n      <th>New York</th>\n      <td>True</td>\n      <td>True</td>\n      <td>True</td>\n      <td>True</td>\n      <td>True</td>\n    </tr>\n  </tbody>\n</table>\n</div>"
     },
     "execution_count": 46,
     "metadata": {},
     "output_type": "execute_result"
    }
   ]
  },
  {
   "cell_type": "code",
   "metadata": {
    "id": "rEe7u09jqtDL"
   },
   "source": [
    "data[data >= 12]\n",
    "# Does NOT work with loc & iloc"
   ],
   "execution_count": null,
   "outputs": []
  },
  {
   "cell_type": "code",
   "metadata": {
    "id": "jBu2mo9Juz-w"
   },
   "source": [
    "data.iloc[:, :3][(data.three > 5) & (data['four'] <100)] # combination"
   ],
   "execution_count": null,
   "outputs": []
  },
  {
   "cell_type": "markdown",
   "metadata": {
    "id": "s11rzx42rpT4"
   },
   "source": [
    "#### Modify a DataFrame"
   ]
  },
  {
   "cell_type": "code",
   "metadata": {
    "id": "WEt7qHsRQdf5"
   },
   "source": [
    "data_copy_reference = data\n",
    "data_copy = data.copy()\n",
    "data_view = data.iloc[2:,1:-1]"
   ],
   "execution_count": null,
   "outputs": []
  },
  {
   "cell_type": "code",
   "source": [
    "data_copy_reference "
   ],
   "metadata": {
    "id": "ty6W-irzkbNU"
   },
   "execution_count": null,
   "outputs": []
  },
  {
   "cell_type": "code",
   "metadata": {
    "id": "TbyOtANcQdf4"
   },
   "source": [
    "data_copy_reference[data_copy_reference >= 12] = 100\n",
    "data_copy_reference"
   ],
   "execution_count": null,
   "outputs": []
  },
  {
   "cell_type": "code",
   "metadata": {
    "id": "uI23oBlLr2mr"
   },
   "source": [
    "data"
   ],
   "execution_count": null,
   "outputs": []
  },
  {
   "cell_type": "code",
   "metadata": {
    "id": "79mRJyy4sazE"
   },
   "source": [
    "data_view"
   ],
   "execution_count": null,
   "outputs": []
  },
  {
   "cell_type": "code",
   "metadata": {
    "id": "5v-JPYZLtdbh"
   },
   "source": [
    "data_copy"
   ],
   "execution_count": null,
   "outputs": []
  },
  {
   "cell_type": "markdown",
   "metadata": {
    "id": "UeOkFyJHQddw"
   },
   "source": [
    "Columns can be modified by assignment."
   ]
  },
  {
   "cell_type": "code",
   "metadata": {
    "id": "bGxbLkDZ4bTa"
   },
   "source": [
    "frame2"
   ],
   "execution_count": null,
   "outputs": []
  },
  {
   "cell_type": "code",
   "metadata": {
    "id": "RrsF8X1hQddx"
   },
   "source": [
    "frame2['debt'] = 16.5 \n",
    "frame2\n",
    "# 16.5 is **broadcasted** to [16.5, 16.5, ...] == [16.5] * frame2['debt'].shape[0]"
   ],
   "execution_count": null,
   "outputs": []
  },
  {
   "cell_type": "markdown",
   "metadata": {
    "id": "l8LJxaDGQdd2"
   },
   "source": [
    "When you are assigning lists or arrays to a column, the value’s length must match the length of the DataFrame."
   ]
  },
  {
   "cell_type": "code",
   "metadata": {
    "id": "yHjronINQqyf"
   },
   "source": [
    "frame2['debt'] = [2,15.7,80,98,12,12]\n",
    "frame2"
   ],
   "execution_count": null,
   "outputs": []
  },
  {
   "cell_type": "code",
   "metadata": {
    "id": "XkdAg6uxaHI9"
   },
   "source": [
    "np.arange(6)"
   ],
   "execution_count": null,
   "outputs": []
  },
  {
   "cell_type": "code",
   "metadata": {
    "id": "kzDDQB0iQddz"
   },
   "source": [
    "frame2['debt'] = np.arange(6.)\n",
    "frame2"
   ],
   "execution_count": null,
   "outputs": []
  },
  {
   "cell_type": "code",
   "metadata": {
    "id": "uAdK7X3qa9Hu"
   },
   "source": [
    "pd.Series([-1.2, -1.5, -1.7], index=['two', 'four', 'five'])"
   ],
   "execution_count": null,
   "outputs": []
  },
  {
   "cell_type": "code",
   "metadata": {
    "id": "FWHC0_tfQdd2"
   },
   "source": [
    "val = pd.Series([-1.2, -1.5, -1.7], index=['two', 'four', 'five'])\n",
    "frame2['debt'] = val\n",
    "frame2"
   ],
   "execution_count": null,
   "outputs": []
  },
  {
   "cell_type": "markdown",
   "metadata": {
    "id": "EgFOgXGcQdew"
   },
   "source": [
    "## Essential Functionality"
   ]
  },
  {
   "cell_type": "code",
   "metadata": {
    "id": "MjID1kFVS-aa"
   },
   "source": [
    "pd.Series([1,2,3])"
   ],
   "execution_count": null,
   "outputs": []
  },
  {
   "cell_type": "code",
   "metadata": {
    "id": "XEy7zdifTEXm"
   },
   "source": [
    "pd.DataFrame({'a':[1,2,3], 'b':[1,2,3]})"
   ],
   "execution_count": null,
   "outputs": []
  },
  {
   "cell_type": "markdown",
   "metadata": {
    "id": "GDU1LGfYQdfH"
   },
   "source": [
    "### Dropping Entries from an Axis | .drop\n",
    "\n",
    "*drop* method"
   ]
  },
  {
   "cell_type": "code",
   "metadata": {
    "id": "zwo24CwcQdfI"
   },
   "source": [
    "obj = pd.Series(np.arange(5.), index=['a', 'b', 'c', 'd', 'e'])\n",
    "obj"
   ],
   "execution_count": null,
   "outputs": []
  },
  {
   "cell_type": "code",
   "metadata": {
    "id": "tzGXHFG7Wk1r"
   },
   "source": [
    "obj.drop('c')"
   ],
   "execution_count": null,
   "outputs": []
  },
  {
   "cell_type": "code",
   "metadata": {
    "id": "AJeohTsyWpWn"
   },
   "source": [
    "obj"
   ],
   "execution_count": null,
   "outputs": []
  },
  {
   "cell_type": "code",
   "metadata": {
    "id": "_8riNjs0QdfK"
   },
   "source": [
    "new_obj = obj.drop('c')\n",
    "new_obj"
   ],
   "execution_count": null,
   "outputs": []
  },
  {
   "cell_type": "code",
   "metadata": {
    "id": "EIeNg-WBBDKs"
   },
   "source": [
    "obj"
   ],
   "execution_count": null,
   "outputs": []
  },
  {
   "cell_type": "code",
   "metadata": {
    "id": "EjAr_WQMQdfN"
   },
   "source": [
    "obj.drop('c', inplace=True)\n",
    "obj"
   ],
   "execution_count": null,
   "outputs": []
  },
  {
   "cell_type": "code",
   "metadata": {
    "id": "e940udeDQdfR"
   },
   "source": [
    "obj.drop(['d', 'a'])"
   ],
   "execution_count": null,
   "outputs": []
  },
  {
   "cell_type": "code",
   "metadata": {
    "id": "oaxWzHijXNE1"
   },
   "source": [
    "obj"
   ],
   "execution_count": null,
   "outputs": []
  },
  {
   "cell_type": "code",
   "metadata": {
    "id": "AKJR5jOFWR3A"
   },
   "source": [
    "np.arange(20).reshape((4,5))"
   ],
   "execution_count": null,
   "outputs": []
  },
  {
   "cell_type": "code",
   "metadata": {
    "id": "S0TsNX-mWzvU"
   },
   "source": [
    "data = pd.DataFrame(np.arange(16).reshape((4, 4)), index=['Ohio', 'Colorado', 'Utah', 'New York'])\n",
    "data"
   ],
   "execution_count": null,
   "outputs": []
  },
  {
   "cell_type": "code",
   "metadata": {
    "id": "VF97kj6QQdfT"
   },
   "source": [
    "data = pd.DataFrame(np.arange(16).reshape((4, 4)),\n",
    "                    index=['Ohio', 'Colorado', 'Utah', 'New York'],\n",
    "                    columns=['one', 'two', 'three', 'four'])\n",
    "data"
   ],
   "execution_count": null,
   "outputs": []
  },
  {
   "cell_type": "code",
   "metadata": {
    "id": "kQ2CjcbwQdfV"
   },
   "source": [
    "data.drop(['Colorado', 'Ohio'])#, inplace=False)"
   ],
   "execution_count": null,
   "outputs": []
  },
  {
   "cell_type": "code",
   "metadata": {
    "id": "3i2yqF_gQdfc"
   },
   "source": [
    "# data.drop('two', axis=1)\n",
    "data.drop(['two', 'four'], axis=1)"
   ],
   "execution_count": null,
   "outputs": []
  },
  {
   "cell_type": "code",
   "metadata": {
    "id": "s6vGKpCpYQjx"
   },
   "source": [
    "data"
   ],
   "execution_count": null,
   "outputs": []
  },
  {
   "cell_type": "markdown",
   "metadata": {
    "id": "E6LNeXu2QdgV"
   },
   "source": [
    "### Arithmetic and Data Alignment"
   ]
  },
  {
   "cell_type": "code",
   "metadata": {
    "id": "-gqhwj4dQdgW"
   },
   "source": [
    "s1 = pd.Series([7.3, -2.5, 3.4, 1.5], index=['a', 'c', 'd', 'e'])\n",
    "s2 = pd.Series([-2.1, 3.6, -1.5, 4, 3.1],\n",
    "               index=['a', 'c', 'e', 'f', 'g'])\n"
   ],
   "execution_count": null,
   "outputs": []
  },
  {
   "cell_type": "code",
   "metadata": {
    "id": "Iw0tzsoYQdgY"
   },
   "source": [
    "s1"
   ],
   "execution_count": null,
   "outputs": []
  },
  {
   "cell_type": "code",
   "metadata": {
    "id": "VOv-p0VvQdgc"
   },
   "source": [
    "s2"
   ],
   "execution_count": null,
   "outputs": []
  },
  {
   "cell_type": "code",
   "metadata": {
    "id": "VFKb0Q4LQdge"
   },
   "source": [
    "s1 + s2"
   ],
   "execution_count": null,
   "outputs": []
  },
  {
   "cell_type": "code",
   "metadata": {
    "id": "5RPzFfNLQdgi"
   },
   "source": [
    "df1 = pd.DataFrame(np.arange(9.).reshape((3, 3)), columns=list('bcd'),\n",
    "                   index=['Ohio', 'Texas', 'Colorado'])\n",
    "\n",
    "\n",
    "df2 = pd.DataFrame(np.arange(12.).reshape((4, 3)), columns=list('bde'),\n",
    "                   index=['Utah', 'Ohio', 'Texas', 'Oregon'])\n",
    "\n"
   ],
   "execution_count": null,
   "outputs": []
  },
  {
   "cell_type": "code",
   "metadata": {
    "id": "pamQU_TpQdgk"
   },
   "source": [
    "df1"
   ],
   "execution_count": null,
   "outputs": []
  },
  {
   "cell_type": "code",
   "metadata": {
    "id": "5YgAQfjxQdgl"
   },
   "source": [
    "df2\n"
   ],
   "execution_count": null,
   "outputs": []
  },
  {
   "cell_type": "code",
   "metadata": {
    "id": "gZTUzLqoQdgm"
   },
   "source": [
    "df1 + df2"
   ],
   "execution_count": null,
   "outputs": []
  },
  {
   "cell_type": "code",
   "metadata": {
    "id": "WleiwNnsQdgp"
   },
   "source": [
    "df1 = pd.DataFrame({'A': [1, 2]})\n",
    "df2 = pd.DataFrame({'B': [3, 4]})"
   ],
   "execution_count": null,
   "outputs": []
  },
  {
   "cell_type": "code",
   "metadata": {
    "id": "LIP_zDNLQdgq"
   },
   "source": [
    "df1"
   ],
   "execution_count": null,
   "outputs": []
  },
  {
   "cell_type": "code",
   "metadata": {
    "id": "4zxhRatKQdgr"
   },
   "source": [
    "df2"
   ],
   "execution_count": null,
   "outputs": []
  },
  {
   "cell_type": "code",
   "metadata": {
    "id": "D1lU4SCxQdgt"
   },
   "source": [
    "df1 + df2"
   ],
   "execution_count": null,
   "outputs": []
  },
  {
   "cell_type": "markdown",
   "metadata": {
    "id": "-ryB0dCHQdgv"
   },
   "source": [
    "#### Arithmetic methods with fill values"
   ]
  },
  {
   "cell_type": "code",
   "metadata": {
    "id": "SZkA874NQdgv"
   },
   "source": [
    "df1 = pd.DataFrame(np.arange(12.).reshape((3, 4)),\n",
    "                   columns=list('abcd'))\n",
    "df2 = pd.DataFrame(np.arange(20.).reshape((4, 5)),\n",
    "                   columns=list('abcde'))"
   ],
   "execution_count": null,
   "outputs": []
  },
  {
   "cell_type": "code",
   "metadata": {
    "id": "dgSGWBaVQdgw"
   },
   "source": [
    "df1"
   ],
   "execution_count": null,
   "outputs": []
  },
  {
   "cell_type": "code",
   "metadata": {
    "id": "56PZVRthQdgx"
   },
   "source": [
    "df2"
   ],
   "execution_count": null,
   "outputs": []
  },
  {
   "cell_type": "code",
   "metadata": {
    "id": "-4SlZkEYQdgy"
   },
   "source": [
    "df2.loc[1, 'b'] = np.nan"
   ],
   "execution_count": null,
   "outputs": []
  },
  {
   "cell_type": "code",
   "metadata": {
    "id": "yzHf5vPxQdgz"
   },
   "source": [
    "df2"
   ],
   "execution_count": null,
   "outputs": []
  },
  {
   "cell_type": "code",
   "metadata": {
    "id": "-_qhH5aTQdg2"
   },
   "source": [
    "df1"
   ],
   "execution_count": null,
   "outputs": []
  },
  {
   "cell_type": "code",
   "metadata": {
    "id": "MiWELMTzeNZv"
   },
   "source": [
    "df1-df2"
   ],
   "execution_count": null,
   "outputs": []
  },
  {
   "cell_type": "code",
   "metadata": {
    "id": "iUh3DHMOQdg3"
   },
   "source": [
    "df1.sub(df2, fill_value=0)"
   ],
   "execution_count": null,
   "outputs": []
  },
  {
   "cell_type": "code",
   "metadata": {
    "id": "dM3d0ajiw41D"
   },
   "source": [
    "1 / df1"
   ],
   "execution_count": null,
   "outputs": []
  },
  {
   "cell_type": "code",
   "metadata": {
    "id": "wBU8TrLBjJr-"
   },
   "source": [
    "df1 / 1"
   ],
   "execution_count": null,
   "outputs": []
  },
  {
   "cell_type": "code",
   "metadata": {
    "id": "DB3QUSnRja-5"
   },
   "source": [
    "df2.columns"
   ],
   "execution_count": null,
   "outputs": []
  },
  {
   "cell_type": "code",
   "metadata": {
    "id": "4iQohYP1jZg-"
   },
   "source": [
    "df1"
   ],
   "execution_count": null,
   "outputs": []
  },
  {
   "cell_type": "code",
   "metadata": {
    "id": "Yv6udiedQdg5"
   },
   "source": [
    "df1.reindex(columns=df2.columns, fill_value=100)"
   ],
   "execution_count": null,
   "outputs": []
  },
  {
   "cell_type": "markdown",
   "metadata": {
    "id": "_mnJ11ANQdg6"
   },
   "source": [
    "#### Operations between DataFrame and Series"
   ]
  },
  {
   "cell_type": "code",
   "metadata": {
    "id": "4T1dGnKDQdg7"
   },
   "source": [
    "arr = np.arange(12.).reshape((3, 4))\n",
    "arr"
   ],
   "execution_count": null,
   "outputs": []
  },
  {
   "cell_type": "code",
   "metadata": {
    "id": "cGbaD6cuQdhB"
   },
   "source": [
    "arr + 4"
   ],
   "execution_count": null,
   "outputs": []
  },
  {
   "cell_type": "code",
   "metadata": {
    "id": "fgzKDMsqQdhC"
   },
   "source": [
    "frame = pd.DataFrame(np.arange(12.).reshape((4, 3)),\n",
    "                     columns=list('bde'),\n",
    "                     index=['Utah', 'Ohio', 'Texas', 'Oregon'])\n",
    "frame"
   ],
   "execution_count": null,
   "outputs": []
  },
  {
   "cell_type": "code",
   "metadata": {
    "id": "1ExdUMU1QdhD"
   },
   "source": [
    "series = frame.iloc[0]\n",
    "series"
   ],
   "execution_count": null,
   "outputs": []
  },
  {
   "cell_type": "code",
   "metadata": {
    "id": "9z4oTGWHQdhI"
   },
   "source": [
    "frame - series"
   ],
   "execution_count": null,
   "outputs": []
  },
  {
   "cell_type": "code",
   "metadata": {
    "id": "-j6M8fstsxAS"
   },
   "source": [
    "frame.sub([0,1,2,4], axis='index')"
   ],
   "execution_count": null,
   "outputs": []
  },
  {
   "cell_type": "code",
   "metadata": {
    "id": "CQBuBBb6QdhJ"
   },
   "source": [
    "series2 = pd.Series(range(3), index=['b', 'e', 'f'])\n",
    "series2"
   ],
   "execution_count": null,
   "outputs": []
  },
  {
   "cell_type": "code",
   "metadata": {
    "id": "YsS-E22fQdhL"
   },
   "source": [
    "frame + series2"
   ],
   "execution_count": null,
   "outputs": []
  },
  {
   "cell_type": "code",
   "metadata": {
    "id": "PTOLooRpQdhM"
   },
   "source": [
    "series3 = frame['d']\n",
    "series3"
   ],
   "execution_count": null,
   "outputs": []
  },
  {
   "cell_type": "code",
   "metadata": {
    "id": "JO7JN3kb89id"
   },
   "source": [
    "frame"
   ],
   "execution_count": null,
   "outputs": []
  },
  {
   "cell_type": "code",
   "metadata": {
    "id": "hXXMtKrUQdhO"
   },
   "source": [
    "frame + series3"
   ],
   "execution_count": null,
   "outputs": []
  },
  {
   "cell_type": "code",
   "metadata": {
    "id": "KKxsMi4TQdhQ"
   },
   "source": [
    "frame.add(series3, axis='index')"
   ],
   "execution_count": null,
   "outputs": []
  },
  {
   "cell_type": "code",
   "metadata": {
    "id": "z9igGPBFlpS2"
   },
   "source": [
    "frame - series3"
   ],
   "execution_count": null,
   "outputs": []
  },
  {
   "cell_type": "code",
   "metadata": {
    "id": "voxyEI29SDUp"
   },
   "source": [
    "frame.sub(series3, axis='columns')"
   ],
   "execution_count": null,
   "outputs": []
  },
  {
   "cell_type": "markdown",
   "metadata": {
    "id": "swsayQcuQdhR"
   },
   "source": [
    "### Function Application and Mapping\n",
    "\n",
    "- *apply*: Apply a function along an axis of the DataFrame\n",
    "- applymap: Apply a function to a Dataframe elementwise. This method applies a function that accepts and returns a scalar to every element of a DataFrame"
   ]
  },
  {
   "cell_type": "code",
   "metadata": {
    "id": "DQT37VRVQdhR"
   },
   "source": [
    "frame = pd.DataFrame(np.random.randn(4, 3), columns=list('bde'),\n",
    "                     index=['Utah', 'Ohio', 'Texas', 'Oregon'])\n",
    "frame"
   ],
   "execution_count": null,
   "outputs": []
  },
  {
   "cell_type": "code",
   "metadata": {
    "id": "zEiCo5RPmR5v"
   },
   "source": [
    "frame['b'].max()"
   ],
   "execution_count": null,
   "outputs": []
  },
  {
   "cell_type": "code",
   "metadata": {
    "id": "r0jTUnkZmXux"
   },
   "source": [
    "frame['b'].min()"
   ],
   "execution_count": null,
   "outputs": []
  },
  {
   "cell_type": "code",
   "metadata": {
    "id": "vMFn9qEimIue"
   },
   "source": [
    "f = lambda x: x.max() - x.min()\n",
    "f"
   ],
   "execution_count": null,
   "outputs": []
  },
  {
   "cell_type": "code",
   "metadata": {
    "id": "8kuyviV8Y1Hh"
   },
   "source": [
    "f(frame['b'])"
   ],
   "execution_count": null,
   "outputs": []
  },
  {
   "cell_type": "code",
   "metadata": {
    "id": "ASNceIMqmec0"
   },
   "source": [
    "def diff_max_min(x): # x pd.Series\n",
    "  return x.max() - x.min()"
   ],
   "execution_count": null,
   "outputs": []
  },
  {
   "cell_type": "code",
   "metadata": {
    "id": "nM1R9yZDjTYi"
   },
   "source": [
    "frame"
   ],
   "execution_count": null,
   "outputs": []
  },
  {
   "cell_type": "code",
   "metadata": {
    "id": "kJkWL3V8QdhT"
   },
   "source": [
    "frame.apply(lambda x: x.max() - x.min())"
   ],
   "execution_count": null,
   "outputs": []
  },
  {
   "cell_type": "code",
   "metadata": {
    "id": "HHNB6AhG52lc"
   },
   "source": [
    "frame.apply(diff_max_min)"
   ],
   "execution_count": null,
   "outputs": []
  },
  {
   "cell_type": "code",
   "metadata": {
    "id": "iSN0XfDk8lNI"
   },
   "source": [
    "frame.apply(lambda x: x.max() * 100)"
   ],
   "execution_count": null,
   "outputs": []
  },
  {
   "cell_type": "code",
   "metadata": {
    "id": "cbH_2MmtnH3a"
   },
   "source": [
    "def get_max(x):\n",
    "  return x.max()"
   ],
   "execution_count": null,
   "outputs": []
  },
  {
   "cell_type": "code",
   "metadata": {
    "id": "Az5wLZs-6dS0"
   },
   "source": [
    "frame"
   ],
   "execution_count": null,
   "outputs": []
  },
  {
   "cell_type": "code",
   "metadata": {
    "id": "N9ncq7f8QdhU"
   },
   "source": [
    "frame.apply(get_max, axis='index')"
   ],
   "execution_count": null,
   "outputs": []
  },
  {
   "cell_type": "code",
   "metadata": {
    "id": "n0mBJpKZT1MG"
   },
   "source": [
    "frame.apply(get_max, axis='columns')"
   ],
   "execution_count": null,
   "outputs": []
  },
  {
   "cell_type": "code",
   "metadata": {
    "id": "179-Ux5H6wKo"
   },
   "source": [
    "frame.apply(lambda x: x.max(), axis='columns')"
   ],
   "execution_count": null,
   "outputs": []
  },
  {
   "cell_type": "code",
   "metadata": {
    "id": "nd0Lo9wQQdhV"
   },
   "source": [
    "def f(x):\n",
    "  return pd.Series([x.min(), x.max()], index=['min', 'max'])\n",
    "\n",
    "frame.apply(f)"
   ],
   "execution_count": null,
   "outputs": []
  },
  {
   "cell_type": "code",
   "metadata": {
    "id": "poBCu1QX-8me"
   },
   "source": [
    "'%.3f' % 10.2121212"
   ],
   "execution_count": null,
   "outputs": []
  },
  {
   "cell_type": "code",
   "metadata": {
    "id": "T8iP8h1aQdhW"
   },
   "source": [
    "format = lambda x: '%.2f' % x\n",
    "\n",
    "def get_power_2(x): # x valore\n",
    "  return np.power(x, 2)\n",
    "\n",
    "frame.applymap(format)"
   ],
   "execution_count": null,
   "outputs": []
  },
  {
   "cell_type": "code",
   "metadata": {
    "id": "X_86-N8B_lSs"
   },
   "source": [
    "frame.applymap(lambda x: '%.2f' % x)"
   ],
   "execution_count": null,
   "outputs": []
  },
  {
   "cell_type": "code",
   "metadata": {
    "id": "RDGPNZgAQdhY"
   },
   "source": [
    "frame['e'].map(format)"
   ],
   "execution_count": null,
   "outputs": []
  },
  {
   "cell_type": "markdown",
   "metadata": {
    "id": "9CS4Rwb-QdiD"
   },
   "source": [
    "## Summarizing and Computing Descriptive Statistics"
   ]
  },
  {
   "cell_type": "markdown",
   "metadata": {
    "id": "Vbq9j9wQirhZ"
   },
   "source": [
    "### Describe"
   ]
  },
  {
   "cell_type": "markdown",
   "metadata": {
    "id": "lhDW0zUchjW3"
   },
   "source": [
    "- describe\n",
    "- sum or cumsum\n",
    "- mean\n",
    "- count\n",
    "- value_counts"
   ]
  },
  {
   "cell_type": "code",
   "metadata": {
    "id": "v0Lin5CGQdiE",
    "ExecuteTime": {
     "start_time": "2023-04-21T19:23:06.407719Z",
     "end_time": "2023-04-21T19:23:06.434941Z"
    }
   },
   "source": [
    "df = pd.DataFrame([[1.4, np.nan], [7.1, -4.5],\n",
    "                   [np.nan, np.nan], [0.75, -1.3]],\n",
    "                  index=['a', 'b', 'c', 'd'],\n",
    "                  columns=['one', 'two'])\n",
    "df"
   ],
   "execution_count": 47,
   "outputs": [
    {
     "data": {
      "text/plain": "    one  two\na  1.40  NaN\nb  7.10 -4.5\nc   NaN  NaN\nd  0.75 -1.3",
      "text/html": "<div>\n<style scoped>\n    .dataframe tbody tr th:only-of-type {\n        vertical-align: middle;\n    }\n\n    .dataframe tbody tr th {\n        vertical-align: top;\n    }\n\n    .dataframe thead th {\n        text-align: right;\n    }\n</style>\n<table border=\"1\" class=\"dataframe\">\n  <thead>\n    <tr style=\"text-align: right;\">\n      <th></th>\n      <th>one</th>\n      <th>two</th>\n    </tr>\n  </thead>\n  <tbody>\n    <tr>\n      <th>a</th>\n      <td>1.40</td>\n      <td>NaN</td>\n    </tr>\n    <tr>\n      <th>b</th>\n      <td>7.10</td>\n      <td>-4.5</td>\n    </tr>\n    <tr>\n      <th>c</th>\n      <td>NaN</td>\n      <td>NaN</td>\n    </tr>\n    <tr>\n      <th>d</th>\n      <td>0.75</td>\n      <td>-1.3</td>\n    </tr>\n  </tbody>\n</table>\n</div>"
     },
     "execution_count": 47,
     "metadata": {},
     "output_type": "execute_result"
    }
   ]
  },
  {
   "cell_type": "code",
   "metadata": {
    "id": "_eE2dAfZA69s",
    "ExecuteTime": {
     "start_time": "2023-04-21T19:23:10.544806Z",
     "end_time": "2023-04-21T19:23:10.574325Z"
    }
   },
   "source": [
    "df.describe()"
   ],
   "execution_count": 48,
   "outputs": [
    {
     "data": {
      "text/plain": "            one       two\ncount  3.000000  2.000000\nmean   3.083333 -2.900000\nstd    3.493685  2.262742\nmin    0.750000 -4.500000\n25%    1.075000 -3.700000\n50%    1.400000 -2.900000\n75%    4.250000 -2.100000\nmax    7.100000 -1.300000",
      "text/html": "<div>\n<style scoped>\n    .dataframe tbody tr th:only-of-type {\n        vertical-align: middle;\n    }\n\n    .dataframe tbody tr th {\n        vertical-align: top;\n    }\n\n    .dataframe thead th {\n        text-align: right;\n    }\n</style>\n<table border=\"1\" class=\"dataframe\">\n  <thead>\n    <tr style=\"text-align: right;\">\n      <th></th>\n      <th>one</th>\n      <th>two</th>\n    </tr>\n  </thead>\n  <tbody>\n    <tr>\n      <th>count</th>\n      <td>3.000000</td>\n      <td>2.000000</td>\n    </tr>\n    <tr>\n      <th>mean</th>\n      <td>3.083333</td>\n      <td>-2.900000</td>\n    </tr>\n    <tr>\n      <th>std</th>\n      <td>3.493685</td>\n      <td>2.262742</td>\n    </tr>\n    <tr>\n      <th>min</th>\n      <td>0.750000</td>\n      <td>-4.500000</td>\n    </tr>\n    <tr>\n      <th>25%</th>\n      <td>1.075000</td>\n      <td>-3.700000</td>\n    </tr>\n    <tr>\n      <th>50%</th>\n      <td>1.400000</td>\n      <td>-2.900000</td>\n    </tr>\n    <tr>\n      <th>75%</th>\n      <td>4.250000</td>\n      <td>-2.100000</td>\n    </tr>\n    <tr>\n      <th>max</th>\n      <td>7.100000</td>\n      <td>-1.300000</td>\n    </tr>\n  </tbody>\n</table>\n</div>"
     },
     "execution_count": 48,
     "metadata": {},
     "output_type": "execute_result"
    }
   ]
  },
  {
   "cell_type": "code",
   "metadata": {
    "id": "_ePjao6FDufb"
   },
   "source": [
    "df"
   ],
   "execution_count": null,
   "outputs": []
  },
  {
   "cell_type": "code",
   "metadata": {
    "id": "t-pK6a5ZQdiF"
   },
   "source": [
    "df.sum()"
   ],
   "execution_count": null,
   "outputs": []
  },
  {
   "cell_type": "code",
   "metadata": {
    "id": "WzK-nFiMQdiG"
   },
   "source": [
    "df.sum(axis='columns')"
   ],
   "execution_count": null,
   "outputs": []
  },
  {
   "cell_type": "code",
   "metadata": {
    "id": "_ANA8MZ0QdiH"
   },
   "source": [
    "df.mean(axis='columns', skipna=False)"
   ],
   "execution_count": null,
   "outputs": []
  },
  {
   "cell_type": "code",
   "metadata": {
    "id": "i4ieSxkkEGkA"
   },
   "source": [
    "df"
   ],
   "execution_count": null,
   "outputs": []
  },
  {
   "cell_type": "code",
   "metadata": {
    "id": "haUme1uC8GwG"
   },
   "source": [
    "df.max()"
   ],
   "execution_count": null,
   "outputs": []
  },
  {
   "cell_type": "code",
   "metadata": {
    "id": "PIyvKcm9QdiK"
   },
   "source": [
    "df.idxmax()"
   ],
   "execution_count": null,
   "outputs": []
  },
  {
   "cell_type": "code",
   "metadata": {
    "id": "F79082plibwQ"
   },
   "source": [
    "df.max()"
   ],
   "execution_count": null,
   "outputs": []
  },
  {
   "cell_type": "code",
   "metadata": {
    "id": "isE-iG2v8iiS"
   },
   "source": [
    "df.sum()"
   ],
   "execution_count": null,
   "outputs": []
  },
  {
   "cell_type": "code",
   "metadata": {
    "id": "Tk0ytYlaQdiL"
   },
   "source": [
    "df.cumsum()"
   ],
   "execution_count": null,
   "outputs": []
  },
  {
   "cell_type": "code",
   "metadata": {
    "id": "76de_4yU9D7X"
   },
   "source": [
    "df"
   ],
   "execution_count": null,
   "outputs": []
  },
  {
   "cell_type": "code",
   "metadata": {
    "id": "_7DRBKHAQdiM"
   },
   "source": [
    "df.describe()"
   ],
   "execution_count": null,
   "outputs": []
  },
  {
   "cell_type": "code",
   "metadata": {
    "id": "CiQ5HNGMEa3u"
   },
   "source": [
    "df.info()"
   ],
   "execution_count": null,
   "outputs": []
  },
  {
   "cell_type": "markdown",
   "metadata": {
    "id": "74X1ImGcQdib"
   },
   "source": [
    "### Unique Values, Value Counts, and Membership"
   ]
  },
  {
   "cell_type": "code",
   "metadata": {
    "id": "I98ImCRYQdib"
   },
   "source": [
    "obj = pd.Series(['c', 'a', 'c', 'a', 'a', 'b', 'b', 'c', 'c'])\n",
    "obj"
   ],
   "execution_count": null,
   "outputs": []
  },
  {
   "cell_type": "code",
   "metadata": {
    "id": "zLuU2O5RQdid"
   },
   "source": [
    "uniques = obj.unique()\n",
    "uniques"
   ],
   "execution_count": null,
   "outputs": []
  },
  {
   "cell_type": "code",
   "metadata": {
    "id": "4SeCA3qdQdie"
   },
   "source": [
    "obj.value_counts()"
   ],
   "execution_count": null,
   "outputs": []
  },
  {
   "cell_type": "code",
   "metadata": {
    "id": "j8xNkS3YhmBH"
   },
   "source": [
    "obj.values"
   ],
   "execution_count": null,
   "outputs": []
  },
  {
   "cell_type": "code",
   "metadata": {
    "id": "46jdv0HHQdif"
   },
   "source": [
    "pd.value_counts(obj.values, sort=True, ascending=True)"
   ],
   "execution_count": null,
   "outputs": []
  },
  {
   "cell_type": "code",
   "metadata": {
    "id": "BkPioiTd95gU"
   },
   "source": [
    "obj"
   ],
   "execution_count": null,
   "outputs": []
  },
  {
   "cell_type": "code",
   "metadata": {
    "id": "2IhIMblBFSF-"
   },
   "source": [
    "obj.map(lambda x: x in ['c', 'a'])"
   ],
   "execution_count": null,
   "outputs": []
  },
  {
   "cell_type": "code",
   "metadata": {
    "id": "U9lc2d1oQdig"
   },
   "source": [
    "mask = obj.isin(['c', 'a'])"
   ],
   "execution_count": null,
   "outputs": []
  },
  {
   "cell_type": "code",
   "metadata": {
    "id": "3OQVovUUQdih"
   },
   "source": [
    "mask"
   ],
   "execution_count": null,
   "outputs": []
  },
  {
   "cell_type": "code",
   "metadata": {
    "id": "1XeLWUioQdim"
   },
   "source": [
    "obj[mask]"
   ],
   "execution_count": null,
   "outputs": []
  },
  {
   "cell_type": "code",
   "metadata": {
    "id": "13Wc30UhQdip"
   },
   "source": [
    "data = pd.DataFrame({'Qu1': [1, 3, 4, 3, 4],\n",
    "                     'Qu2': [2, 3, 1, 2, 3],\n",
    "                     'Qu3': [1, 5, 2, 4, 4]})\n",
    "data"
   ],
   "execution_count": null,
   "outputs": []
  },
  {
   "cell_type": "code",
   "metadata": {
    "id": "irf7mj2cQdiq"
   },
   "source": [
    "result = data.apply(pd.value_counts)data_copy_reference \n",
    "result"
   ],
   "execution_count": null,
   "outputs": []
  },
  {
   "cell_type": "code",
   "metadata": {
    "id": "lOyueKNxQdir"
   },
   "source": [
    "pd.value_counts(data[\"Qu1\"])"
   ],
   "execution_count": null,
   "outputs": []
  },
  {
   "cell_type": "code",
   "metadata": {
    "id": "NABKKuYnw9CX"
   },
   "source": [
    "data.apply(pd.value_counts, axis=1).fillna(0)"
   ],
   "execution_count": null,
   "outputs": []
  }
 ]
}
