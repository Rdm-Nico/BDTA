{
 "nbformat": 4,
 "nbformat_minor": 0,
 "metadata": {
  "kernelspec": {
   "display_name": "Python 3",
   "language": "python",
   "name": "python3"
  },
  "language_info": {
   "codemirror_mode": {
    "name": "ipython",
    "version": 3
   },
   "file_extension": ".py",
   "mimetype": "text/x-python",
   "name": "python",
   "nbconvert_exporter": "python",
   "pygments_lexer": "ipython3",
   "version": "3.6.9"
  },
  "colab": {
   "provenance": [],
   "collapsed_sections": [
    "t9zwNgPlVLFU"
   ]
  }
 },
 "cells": [
  {
   "cell_type": "markdown",
   "metadata": {
    "id": "mp6q1vsoVLD5"
   },
   "source": [
    "# Data Loading, Storage\n"
   ]
  },
  {
   "cell_type": "code",
   "metadata": {
    "id": "6jJBd0NMVLD6",
    "ExecuteTime": {
     "start_time": "2023-04-25T10:49:26.910780Z",
     "end_time": "2023-04-25T10:49:27.402606Z"
    }
   },
   "source": [
    "import numpy as np\n",
    "import pandas as pd\n",
    "np.random.seed(12345)\n",
    "import matplotlib.pyplot as plt\n",
    "plt.rc('figure', figsize=(10, 6))\n",
    "np.set_printoptions(precision=4, suppress=True)"
   ],
   "execution_count": 2,
   "outputs": []
  },
  {
   "cell_type": "code",
   "metadata": {
    "id": "gXklwd5TXANB",
    "pycharm": {
     "is_executing": true
    }
   },
   "source": [
    "# You have to upload the data by using the Files function on your dashboard"
   ],
   "execution_count": null,
   "outputs": []
  },
  {
   "cell_type": "markdown",
   "metadata": {
    "id": "n7636wXO5fkX"
   },
   "source": [
    "## Reading and Writing Data in Text Format"
   ]
  },
  {
   "cell_type": "markdown",
   "metadata": {
    "id": "J3pd1E2Fsg_D"
   },
   "source": [
    "two methods:\n",
    "- *read_csv*: Read a comma-separated values (csv) file into DataFrame. Also supports optionally iterating or breaking of the file into chunks.\n",
    "- *to_csv*: Write object to a comma-separated values (csv) file."
   ]
  },
  {
   "cell_type": "markdown",
   "metadata": {
    "id": "wg5JF4b6zEVV"
   },
   "source": [
    "### Reading Text Files"
   ]
  },
  {
   "cell_type": "code",
   "metadata": {
    "id": "GLehPIUPVLEF",
    "colab": {
     "base_uri": "https://localhost:8080/",
     "height": 142
    },
    "outputId": "ee2d9afe-ecbe-492a-f0e6-7b01ed1d6afd",
    "ExecuteTime": {
     "start_time": "2023-04-25T10:50:50.298709Z",
     "end_time": "2023-04-25T10:50:50.730172Z"
    }
   },
   "source": [
    "df= pd.read_csv(\"5-Data_visualization/data/winemag-data_first150k.csv\", sep=',')\n",
    "df"
   ],
   "execution_count": 5,
   "outputs": [
    {
     "data": {
      "text/plain": "            id country                                        description  \\\n0            0      US  This tremendous 100% varietal wine hails from ...   \n1            1   Spain  Ripe aromas of fig, blackberry and cassis are ...   \n2            2      US  Mac Watson honors the memory of a wine once ma...   \n3            3      US  This spent 20 months in 30% new French oak, an...   \n4            4  France  This is the top wine from La Bégude, named aft...   \n...        ...     ...                                                ...   \n150925  150925   Italy  Many people feel Fiano represents southern Ita...   \n150926  150926  France  Offers an intriguing nose with ginger, lime an...   \n150927  150927   Italy  This classic example comes from a cru vineyard...   \n150928  150928  France  A perfect salmon shade, with scents of peaches...   \n150929  150929   Italy  More Pinot Grigios should taste like this. A r...   \n\n                                 designation  points  price  \\\n0                          Martha's Vineyard      96  235.0   \n1       Carodorum Selección Especial Reserva      96  110.0   \n2              Special Selected Late Harvest      96   90.0   \n3                                    Reserve      96   65.0   \n4                                 La Brûlade      95   66.0   \n...                                      ...     ...    ...   \n150925                                   NaN      91   20.0   \n150926                        Cuvée Prestige      91   27.0   \n150927                         Terre di Dora      91   20.0   \n150928                       Grand Brut Rosé      90   52.0   \n150929                                   NaN      90   15.0   \n\n                  province           region_1           region_2  \\\n0               California        Napa Valley               Napa   \n1           Northern Spain               Toro                NaN   \n2               California     Knights Valley             Sonoma   \n3                   Oregon  Willamette Valley  Willamette Valley   \n4                 Provence             Bandol                NaN   \n...                    ...                ...                ...   \n150925      Southern Italy  Fiano di Avellino                NaN   \n150926           Champagne          Champagne                NaN   \n150927      Southern Italy  Fiano di Avellino                NaN   \n150928           Champagne          Champagne                NaN   \n150929  Northeastern Italy         Alto Adige                NaN   \n\n                   variety                   winery  \n0       Cabernet Sauvignon                    Heitz  \n1            Tinta de Toro  Bodega Carmen Rodríguez  \n2          Sauvignon Blanc                 Macauley  \n3               Pinot Noir                    Ponzi  \n4       Provence red blend     Domaine de la Bégude  \n...                    ...                      ...  \n150925         White Blend    Feudi di San Gregorio  \n150926     Champagne Blend                H.Germain  \n150927         White Blend                Terredora  \n150928     Champagne Blend                   Gosset  \n150929        Pinot Grigio            Alois Lageder  \n\n[150930 rows x 11 columns]",
      "text/html": "<div>\n<style scoped>\n    .dataframe tbody tr th:only-of-type {\n        vertical-align: middle;\n    }\n\n    .dataframe tbody tr th {\n        vertical-align: top;\n    }\n\n    .dataframe thead th {\n        text-align: right;\n    }\n</style>\n<table border=\"1\" class=\"dataframe\">\n  <thead>\n    <tr style=\"text-align: right;\">\n      <th></th>\n      <th>id</th>\n      <th>country</th>\n      <th>description</th>\n      <th>designation</th>\n      <th>points</th>\n      <th>price</th>\n      <th>province</th>\n      <th>region_1</th>\n      <th>region_2</th>\n      <th>variety</th>\n      <th>winery</th>\n    </tr>\n  </thead>\n  <tbody>\n    <tr>\n      <th>0</th>\n      <td>0</td>\n      <td>US</td>\n      <td>This tremendous 100% varietal wine hails from ...</td>\n      <td>Martha's Vineyard</td>\n      <td>96</td>\n      <td>235.0</td>\n      <td>California</td>\n      <td>Napa Valley</td>\n      <td>Napa</td>\n      <td>Cabernet Sauvignon</td>\n      <td>Heitz</td>\n    </tr>\n    <tr>\n      <th>1</th>\n      <td>1</td>\n      <td>Spain</td>\n      <td>Ripe aromas of fig, blackberry and cassis are ...</td>\n      <td>Carodorum Selección Especial Reserva</td>\n      <td>96</td>\n      <td>110.0</td>\n      <td>Northern Spain</td>\n      <td>Toro</td>\n      <td>NaN</td>\n      <td>Tinta de Toro</td>\n      <td>Bodega Carmen Rodríguez</td>\n    </tr>\n    <tr>\n      <th>2</th>\n      <td>2</td>\n      <td>US</td>\n      <td>Mac Watson honors the memory of a wine once ma...</td>\n      <td>Special Selected Late Harvest</td>\n      <td>96</td>\n      <td>90.0</td>\n      <td>California</td>\n      <td>Knights Valley</td>\n      <td>Sonoma</td>\n      <td>Sauvignon Blanc</td>\n      <td>Macauley</td>\n    </tr>\n    <tr>\n      <th>3</th>\n      <td>3</td>\n      <td>US</td>\n      <td>This spent 20 months in 30% new French oak, an...</td>\n      <td>Reserve</td>\n      <td>96</td>\n      <td>65.0</td>\n      <td>Oregon</td>\n      <td>Willamette Valley</td>\n      <td>Willamette Valley</td>\n      <td>Pinot Noir</td>\n      <td>Ponzi</td>\n    </tr>\n    <tr>\n      <th>4</th>\n      <td>4</td>\n      <td>France</td>\n      <td>This is the top wine from La Bégude, named aft...</td>\n      <td>La Brûlade</td>\n      <td>95</td>\n      <td>66.0</td>\n      <td>Provence</td>\n      <td>Bandol</td>\n      <td>NaN</td>\n      <td>Provence red blend</td>\n      <td>Domaine de la Bégude</td>\n    </tr>\n    <tr>\n      <th>...</th>\n      <td>...</td>\n      <td>...</td>\n      <td>...</td>\n      <td>...</td>\n      <td>...</td>\n      <td>...</td>\n      <td>...</td>\n      <td>...</td>\n      <td>...</td>\n      <td>...</td>\n      <td>...</td>\n    </tr>\n    <tr>\n      <th>150925</th>\n      <td>150925</td>\n      <td>Italy</td>\n      <td>Many people feel Fiano represents southern Ita...</td>\n      <td>NaN</td>\n      <td>91</td>\n      <td>20.0</td>\n      <td>Southern Italy</td>\n      <td>Fiano di Avellino</td>\n      <td>NaN</td>\n      <td>White Blend</td>\n      <td>Feudi di San Gregorio</td>\n    </tr>\n    <tr>\n      <th>150926</th>\n      <td>150926</td>\n      <td>France</td>\n      <td>Offers an intriguing nose with ginger, lime an...</td>\n      <td>Cuvée Prestige</td>\n      <td>91</td>\n      <td>27.0</td>\n      <td>Champagne</td>\n      <td>Champagne</td>\n      <td>NaN</td>\n      <td>Champagne Blend</td>\n      <td>H.Germain</td>\n    </tr>\n    <tr>\n      <th>150927</th>\n      <td>150927</td>\n      <td>Italy</td>\n      <td>This classic example comes from a cru vineyard...</td>\n      <td>Terre di Dora</td>\n      <td>91</td>\n      <td>20.0</td>\n      <td>Southern Italy</td>\n      <td>Fiano di Avellino</td>\n      <td>NaN</td>\n      <td>White Blend</td>\n      <td>Terredora</td>\n    </tr>\n    <tr>\n      <th>150928</th>\n      <td>150928</td>\n      <td>France</td>\n      <td>A perfect salmon shade, with scents of peaches...</td>\n      <td>Grand Brut Rosé</td>\n      <td>90</td>\n      <td>52.0</td>\n      <td>Champagne</td>\n      <td>Champagne</td>\n      <td>NaN</td>\n      <td>Champagne Blend</td>\n      <td>Gosset</td>\n    </tr>\n    <tr>\n      <th>150929</th>\n      <td>150929</td>\n      <td>Italy</td>\n      <td>More Pinot Grigios should taste like this. A r...</td>\n      <td>NaN</td>\n      <td>90</td>\n      <td>15.0</td>\n      <td>Northeastern Italy</td>\n      <td>Alto Adige</td>\n      <td>NaN</td>\n      <td>Pinot Grigio</td>\n      <td>Alois Lageder</td>\n    </tr>\n  </tbody>\n</table>\n<p>150930 rows × 11 columns</p>\n</div>"
     },
     "execution_count": 5,
     "metadata": {},
     "output_type": "execute_result"
    }
   ]
  },
  {
   "cell_type": "code",
   "metadata": {
    "id": "xirEygHzCAB0",
    "colab": {
     "base_uri": "https://localhost:8080/"
    },
    "outputId": "65a0a617-f981-4f0a-e995-b2efc42babaa",
    "ExecuteTime": {
     "start_time": "2023-04-25T10:11:18.284520Z",
     "end_time": "2023-04-25T10:11:18.294638Z"
    }
   },
   "source": [
    "type(df)"
   ],
   "execution_count": 3,
   "outputs": [
    {
     "data": {
      "text/plain": "pandas.core.frame.DataFrame"
     },
     "execution_count": 3,
     "metadata": {},
     "output_type": "execute_result"
    }
   ]
  },
  {
   "cell_type": "code",
   "metadata": {
    "id": "zNgjdun6VLD-"
   },
   "source": [
    " !cat \"ex1.csv\"\n",
    " #!cat \"examples/ex1.csv\""
   ],
   "execution_count": null,
   "outputs": []
  },
  {
   "cell_type": "markdown",
   "metadata": {
    "id": "bRYF7V44ysr9"
   },
   "source": [
    "define separator value and header"
   ]
  },
  {
   "cell_type": "code",
   "metadata": {
    "id": "jZPh1VwJVLEC",
    "ExecuteTime": {
     "start_time": "2023-04-25T10:12:14.147225Z",
     "end_time": "2023-04-25T10:12:14.633113Z"
    }
   },
   "source": [
    "# define the table sepator value\n",
    "\n",
    "df = pd.read_csv(\"5-Data_visualization/data/winemag-data_first150k.csv\", sep='\\t')\n",
    "df # in questo caso se il separatore era una virgola , quindi il risultato cambia nettamente"
   ],
   "execution_count": 4,
   "outputs": [
    {
     "data": {
      "text/plain": "       id,country,description,designation,points,price,province,region_1,region_2,variety,winery\n0       0,US,\"This tremendous 100% varietal wine hails...                                       \n1       1,Spain,\"Ripe aromas of fig, blackberry and ca...                                       \n2       2,US,\"Mac Watson honors the memory of a wine o...                                       \n3       3,US,\"This spent 20 months in 30% new French o...                                       \n4       4,France,\"This is the top wine from La Bégude,...                                       \n...                                                   ...                                       \n150930  150925,Italy,\"Many people feel Fiano represent...                                       \n150931  150926,France,\"Offers an intriguing nose with ...                                       \n150932  150927,Italy,\"This classic example comes from ...                                       \n150933  150928,France,\"A perfect salmon shade, with sc...                                       \n150934  150929,Italy,\"More Pinot Grigios should taste ...                                       \n\n[150935 rows x 1 columns]",
      "text/html": "<div>\n<style scoped>\n    .dataframe tbody tr th:only-of-type {\n        vertical-align: middle;\n    }\n\n    .dataframe tbody tr th {\n        vertical-align: top;\n    }\n\n    .dataframe thead th {\n        text-align: right;\n    }\n</style>\n<table border=\"1\" class=\"dataframe\">\n  <thead>\n    <tr style=\"text-align: right;\">\n      <th></th>\n      <th>id,country,description,designation,points,price,province,region_1,region_2,variety,winery</th>\n    </tr>\n  </thead>\n  <tbody>\n    <tr>\n      <th>0</th>\n      <td>0,US,\"This tremendous 100% varietal wine hails...</td>\n    </tr>\n    <tr>\n      <th>1</th>\n      <td>1,Spain,\"Ripe aromas of fig, blackberry and ca...</td>\n    </tr>\n    <tr>\n      <th>2</th>\n      <td>2,US,\"Mac Watson honors the memory of a wine o...</td>\n    </tr>\n    <tr>\n      <th>3</th>\n      <td>3,US,\"This spent 20 months in 30% new French o...</td>\n    </tr>\n    <tr>\n      <th>4</th>\n      <td>4,France,\"This is the top wine from La Bégude,...</td>\n    </tr>\n    <tr>\n      <th>...</th>\n      <td>...</td>\n    </tr>\n    <tr>\n      <th>150930</th>\n      <td>150925,Italy,\"Many people feel Fiano represent...</td>\n    </tr>\n    <tr>\n      <th>150931</th>\n      <td>150926,France,\"Offers an intriguing nose with ...</td>\n    </tr>\n    <tr>\n      <th>150932</th>\n      <td>150927,Italy,\"This classic example comes from ...</td>\n    </tr>\n    <tr>\n      <th>150933</th>\n      <td>150928,France,\"A perfect salmon shade, with sc...</td>\n    </tr>\n    <tr>\n      <th>150934</th>\n      <td>150929,Italy,\"More Pinot Grigios should taste ...</td>\n    </tr>\n  </tbody>\n</table>\n<p>150935 rows × 1 columns</p>\n</div>"
     },
     "execution_count": 4,
     "metadata": {},
     "output_type": "execute_result"
    }
   ]
  },
  {
   "cell_type": "code",
   "metadata": {
    "id": "XVCpRxTrVLEK",
    "colab": {
     "base_uri": "https://localhost:8080/",
     "height": 173
    },
    "outputId": "cf540339-dd9f-4feb-a8e4-8e8190db6b35",
    "ExecuteTime": {
     "start_time": "2023-04-25T10:18:16.738129Z",
     "end_time": "2023-04-25T10:18:17.151050Z"
    }
   },
   "source": [
    "# define if the table header exists \n",
    "\n",
    "df = pd.read_csv(\"5-Data_visualization/data/winemag-data_first150k.csv\", header=None)\n",
    "df"
   ],
   "execution_count": 5,
   "outputs": [
    {
     "name": "stderr",
     "output_type": "stream",
     "text": [
      "/var/folders/zk/y_05r4dd4q51x5hx9n0nwwk80000gn/T/ipykernel_1733/956745932.py:3: DtypeWarning: Columns (0,4,5) have mixed types. Specify dtype option on import or set low_memory=False.\n",
      "  df = pd.read_csv(\"5-Data_visualization/data/winemag-data_first150k.csv\", header=None)\n"
     ]
    },
    {
     "data": {
      "text/plain": "            0        1                                                  2   \\\n0           id  country                                        description   \n1            0       US  This tremendous 100% varietal wine hails from ...   \n2            1    Spain  Ripe aromas of fig, blackberry and cassis are ...   \n3            2       US  Mac Watson honors the memory of a wine once ma...   \n4            3       US  This spent 20 months in 30% new French oak, an...   \n...        ...      ...                                                ...   \n150926  150925    Italy  Many people feel Fiano represents southern Ita...   \n150927  150926   France  Offers an intriguing nose with ginger, lime an...   \n150928  150927    Italy  This classic example comes from a cru vineyard...   \n150929  150928   France  A perfect salmon shade, with scents of peaches...   \n150930  150929    Italy  More Pinot Grigios should taste like this. A r...   \n\n                                          3       4      5   \\\n0                                designation  points  price   \n1                          Martha's Vineyard      96  235.0   \n2       Carodorum Selección Especial Reserva      96  110.0   \n3              Special Selected Late Harvest      96   90.0   \n4                                    Reserve      96   65.0   \n...                                      ...     ...    ...   \n150926                                   NaN      91   20.0   \n150927                        Cuvée Prestige      91   27.0   \n150928                         Terre di Dora      91   20.0   \n150929                       Grand Brut Rosé      90   52.0   \n150930                                   NaN      90   15.0   \n\n                        6                  7                  8   \\\n0                 province           region_1           region_2   \n1               California        Napa Valley               Napa   \n2           Northern Spain               Toro                NaN   \n3               California     Knights Valley             Sonoma   \n4                   Oregon  Willamette Valley  Willamette Valley   \n...                    ...                ...                ...   \n150926      Southern Italy  Fiano di Avellino                NaN   \n150927           Champagne          Champagne                NaN   \n150928      Southern Italy  Fiano di Avellino                NaN   \n150929           Champagne          Champagne                NaN   \n150930  Northeastern Italy         Alto Adige                NaN   \n\n                        9                        10  \n0                  variety                   winery  \n1       Cabernet Sauvignon                    Heitz  \n2            Tinta de Toro  Bodega Carmen Rodríguez  \n3          Sauvignon Blanc                 Macauley  \n4               Pinot Noir                    Ponzi  \n...                    ...                      ...  \n150926         White Blend    Feudi di San Gregorio  \n150927     Champagne Blend                H.Germain  \n150928         White Blend                Terredora  \n150929     Champagne Blend                   Gosset  \n150930        Pinot Grigio            Alois Lageder  \n\n[150931 rows x 11 columns]",
      "text/html": "<div>\n<style scoped>\n    .dataframe tbody tr th:only-of-type {\n        vertical-align: middle;\n    }\n\n    .dataframe tbody tr th {\n        vertical-align: top;\n    }\n\n    .dataframe thead th {\n        text-align: right;\n    }\n</style>\n<table border=\"1\" class=\"dataframe\">\n  <thead>\n    <tr style=\"text-align: right;\">\n      <th></th>\n      <th>0</th>\n      <th>1</th>\n      <th>2</th>\n      <th>3</th>\n      <th>4</th>\n      <th>5</th>\n      <th>6</th>\n      <th>7</th>\n      <th>8</th>\n      <th>9</th>\n      <th>10</th>\n    </tr>\n  </thead>\n  <tbody>\n    <tr>\n      <th>0</th>\n      <td>id</td>\n      <td>country</td>\n      <td>description</td>\n      <td>designation</td>\n      <td>points</td>\n      <td>price</td>\n      <td>province</td>\n      <td>region_1</td>\n      <td>region_2</td>\n      <td>variety</td>\n      <td>winery</td>\n    </tr>\n    <tr>\n      <th>1</th>\n      <td>0</td>\n      <td>US</td>\n      <td>This tremendous 100% varietal wine hails from ...</td>\n      <td>Martha's Vineyard</td>\n      <td>96</td>\n      <td>235.0</td>\n      <td>California</td>\n      <td>Napa Valley</td>\n      <td>Napa</td>\n      <td>Cabernet Sauvignon</td>\n      <td>Heitz</td>\n    </tr>\n    <tr>\n      <th>2</th>\n      <td>1</td>\n      <td>Spain</td>\n      <td>Ripe aromas of fig, blackberry and cassis are ...</td>\n      <td>Carodorum Selección Especial Reserva</td>\n      <td>96</td>\n      <td>110.0</td>\n      <td>Northern Spain</td>\n      <td>Toro</td>\n      <td>NaN</td>\n      <td>Tinta de Toro</td>\n      <td>Bodega Carmen Rodríguez</td>\n    </tr>\n    <tr>\n      <th>3</th>\n      <td>2</td>\n      <td>US</td>\n      <td>Mac Watson honors the memory of a wine once ma...</td>\n      <td>Special Selected Late Harvest</td>\n      <td>96</td>\n      <td>90.0</td>\n      <td>California</td>\n      <td>Knights Valley</td>\n      <td>Sonoma</td>\n      <td>Sauvignon Blanc</td>\n      <td>Macauley</td>\n    </tr>\n    <tr>\n      <th>4</th>\n      <td>3</td>\n      <td>US</td>\n      <td>This spent 20 months in 30% new French oak, an...</td>\n      <td>Reserve</td>\n      <td>96</td>\n      <td>65.0</td>\n      <td>Oregon</td>\n      <td>Willamette Valley</td>\n      <td>Willamette Valley</td>\n      <td>Pinot Noir</td>\n      <td>Ponzi</td>\n    </tr>\n    <tr>\n      <th>...</th>\n      <td>...</td>\n      <td>...</td>\n      <td>...</td>\n      <td>...</td>\n      <td>...</td>\n      <td>...</td>\n      <td>...</td>\n      <td>...</td>\n      <td>...</td>\n      <td>...</td>\n      <td>...</td>\n    </tr>\n    <tr>\n      <th>150926</th>\n      <td>150925</td>\n      <td>Italy</td>\n      <td>Many people feel Fiano represents southern Ita...</td>\n      <td>NaN</td>\n      <td>91</td>\n      <td>20.0</td>\n      <td>Southern Italy</td>\n      <td>Fiano di Avellino</td>\n      <td>NaN</td>\n      <td>White Blend</td>\n      <td>Feudi di San Gregorio</td>\n    </tr>\n    <tr>\n      <th>150927</th>\n      <td>150926</td>\n      <td>France</td>\n      <td>Offers an intriguing nose with ginger, lime an...</td>\n      <td>Cuvée Prestige</td>\n      <td>91</td>\n      <td>27.0</td>\n      <td>Champagne</td>\n      <td>Champagne</td>\n      <td>NaN</td>\n      <td>Champagne Blend</td>\n      <td>H.Germain</td>\n    </tr>\n    <tr>\n      <th>150928</th>\n      <td>150927</td>\n      <td>Italy</td>\n      <td>This classic example comes from a cru vineyard...</td>\n      <td>Terre di Dora</td>\n      <td>91</td>\n      <td>20.0</td>\n      <td>Southern Italy</td>\n      <td>Fiano di Avellino</td>\n      <td>NaN</td>\n      <td>White Blend</td>\n      <td>Terredora</td>\n    </tr>\n    <tr>\n      <th>150929</th>\n      <td>150928</td>\n      <td>France</td>\n      <td>A perfect salmon shade, with scents of peaches...</td>\n      <td>Grand Brut Rosé</td>\n      <td>90</td>\n      <td>52.0</td>\n      <td>Champagne</td>\n      <td>Champagne</td>\n      <td>NaN</td>\n      <td>Champagne Blend</td>\n      <td>Gosset</td>\n    </tr>\n    <tr>\n      <th>150930</th>\n      <td>150929</td>\n      <td>Italy</td>\n      <td>More Pinot Grigios should taste like this. A r...</td>\n      <td>NaN</td>\n      <td>90</td>\n      <td>15.0</td>\n      <td>Northeastern Italy</td>\n      <td>Alto Adige</td>\n      <td>NaN</td>\n      <td>Pinot Grigio</td>\n      <td>Alois Lageder</td>\n    </tr>\n  </tbody>\n</table>\n<p>150931 rows × 11 columns</p>\n</div>"
     },
     "execution_count": 5,
     "metadata": {},
     "output_type": "execute_result"
    }
   ]
  },
  {
   "cell_type": "code",
   "metadata": {
    "id": "NwaY_-kwpHD4"
   },
   "source": [
    " !cat \"ex2.csv\""
   ],
   "execution_count": null,
   "outputs": []
  },
  {
   "cell_type": "code",
   "metadata": {
    "id": "1lRJr_l4VLEM",
    "colab": {
     "base_uri": "https://localhost:8080/",
     "height": 142
    },
    "outputId": "4890179b-6428-423a-fc29-576de4aaf7ac"
   },
   "source": [
    "pd.('ex2.csv', sep=',', header=None)"
   ],
   "execution_count": null,
   "outputs": []
  },
  {
   "cell_type": "markdown",
   "metadata": {
    "id": "_eGnHPhvynoo"
   },
   "source": [
    "define column name and/or index name"
   ]
  },
  {
   "cell_type": "code",
   "metadata": {
    "id": "j3AkbKj3VLEP",
    "colab": {
     "base_uri": "https://localhost:8080/",
     "height": 142
    },
    "outputId": "09e6f555-4d0c-430a-abe4-51ae23a65609"
   },
   "source": [
    "# define column name\n",
    "\n",
    "pd.read_csv('ex2.csv', names=['a', 'b', 'c', 'd', 'message'])"
   ],
   "execution_count": null,
   "outputs": []
  },
  {
   "cell_type": "code",
   "metadata": {
    "id": "V99QrvInVLES",
    "colab": {
     "base_uri": "https://localhost:8080/",
     "height": 173
    },
    "outputId": "d2f8bb22-b348-4efd-c7be-83810b4cce62",
    "ExecuteTime": {
     "start_time": "2023-04-25T10:22:38.124636Z",
     "end_time": "2023-04-25T10:22:38.131760Z"
    }
   },
   "source": [
    "# define index name\n",
    "\n",
    "names = ['a', 'b', 'c', 'd', 'message']\n",
    "pd.read_csv('ex2.csv', names=names, index_col='message')"
   ],
   "execution_count": 9,
   "outputs": [
    {
     "data": {
      "text/plain": "         a   b   c   d\nmessage               \nhello    1   2   3   4\nworld    5   6   7   8\nfoo      9  10  11  12",
      "text/html": "<div>\n<style scoped>\n    .dataframe tbody tr th:only-of-type {\n        vertical-align: middle;\n    }\n\n    .dataframe tbody tr th {\n        vertical-align: top;\n    }\n\n    .dataframe thead th {\n        text-align: right;\n    }\n</style>\n<table border=\"1\" class=\"dataframe\">\n  <thead>\n    <tr style=\"text-align: right;\">\n      <th></th>\n      <th>a</th>\n      <th>b</th>\n      <th>c</th>\n      <th>d</th>\n    </tr>\n    <tr>\n      <th>message</th>\n      <th></th>\n      <th></th>\n      <th></th>\n      <th></th>\n    </tr>\n  </thead>\n  <tbody>\n    <tr>\n      <th>hello</th>\n      <td>1</td>\n      <td>2</td>\n      <td>3</td>\n      <td>4</td>\n    </tr>\n    <tr>\n      <th>world</th>\n      <td>5</td>\n      <td>6</td>\n      <td>7</td>\n      <td>8</td>\n    </tr>\n    <tr>\n      <th>foo</th>\n      <td>9</td>\n      <td>10</td>\n      <td>11</td>\n      <td>12</td>\n    </tr>\n  </tbody>\n</table>\n</div>"
     },
     "execution_count": 9,
     "metadata": {},
     "output_type": "execute_result"
    }
   ]
  },
  {
   "cell_type": "markdown",
   "metadata": {
    "id": "C_sPU8fqyhxG"
   },
   "source": [
    "you can skip a list of row"
   ]
  },
  {
   "cell_type": "code",
   "metadata": {
    "id": "_B8BghB7pl34",
    "colab": {
     "base_uri": "https://localhost:8080/"
    },
    "outputId": "807f8bc3-5a21-4eae-d5e7-3ef3b897bf34"
   },
   "source": [
    "!cat \"ex4.csv\""
   ],
   "execution_count": null,
   "outputs": []
  },
  {
   "cell_type": "code",
   "metadata": {
    "id": "R5_VdYWLC-et",
    "colab": {
     "base_uri": "https://localhost:8080/",
     "height": 236
    },
    "outputId": "39352025-06ee-405f-9a1d-7762a928485f"
   },
   "source": [
    "pd.read_csv('ex4.csv', sep=',')"
   ],
   "execution_count": null,
   "outputs": []
  },
  {
   "cell_type": "code",
   "metadata": {
    "id": "X8F9YdUyVLEb",
    "colab": {
     "base_uri": "https://localhost:8080/",
     "height": 142
    },
    "outputId": "bac565de-2f0d-4061-d340-4fe01d0fc880"
   },
   "source": [
    "# you can skip a list of row\n",
    "pd.read_csv('ex4.csv', skiprows=[0, 2, 3])"
   ],
   "execution_count": null,
   "outputs": []
  },
  {
   "cell_type": "code",
   "metadata": {
    "id": "1J_AVSXfVLEd",
    "colab": {
     "base_uri": "https://localhost:8080/"
    },
    "outputId": "eeaa052c-2196-4337-bba3-d9791530c730"
   },
   "source": [
    "!cat ex5.csv"
   ],
   "execution_count": null,
   "outputs": []
  },
  {
   "cell_type": "code",
   "metadata": {
    "id": "7dfxS3ZeVLEk",
    "colab": {
     "base_uri": "https://localhost:8080/",
     "height": 142
    },
    "outputId": "5232a05b-b2ed-47bf-f898-9f27b167bfc8",
    "ExecuteTime": {
     "start_time": "2023-04-25T10:23:42.987686Z",
     "end_time": "2023-04-25T10:23:42.996750Z"
    }
   },
   "source": [
    "result = pd.read_csv('ex2.csv')\n",
    "result"
   ],
   "execution_count": 11,
   "outputs": [
    {
     "data": {
      "text/plain": "   1   2   3   4  hello\n0  5   6   7   8  world\n1  9  10  11  12    foo",
      "text/html": "<div>\n<style scoped>\n    .dataframe tbody tr th:only-of-type {\n        vertical-align: middle;\n    }\n\n    .dataframe tbody tr th {\n        vertical-align: top;\n    }\n\n    .dataframe thead th {\n        text-align: right;\n    }\n</style>\n<table border=\"1\" class=\"dataframe\">\n  <thead>\n    <tr style=\"text-align: right;\">\n      <th></th>\n      <th>1</th>\n      <th>2</th>\n      <th>3</th>\n      <th>4</th>\n      <th>hello</th>\n    </tr>\n  </thead>\n  <tbody>\n    <tr>\n      <th>0</th>\n      <td>5</td>\n      <td>6</td>\n      <td>7</td>\n      <td>8</td>\n      <td>world</td>\n    </tr>\n    <tr>\n      <th>1</th>\n      <td>9</td>\n      <td>10</td>\n      <td>11</td>\n      <td>12</td>\n      <td>foo</td>\n    </tr>\n  </tbody>\n</table>\n</div>"
     },
     "execution_count": 11,
     "metadata": {},
     "output_type": "execute_result"
    }
   ]
  },
  {
   "cell_type": "code",
   "metadata": {
    "id": "bRscRRPtDaxc",
    "ExecuteTime": {
     "start_time": "2023-04-25T10:23:18.642185Z",
     "end_time": "2023-04-25T10:23:18.649150Z"
    }
   },
   "source": [
    "None; np.nan"
   ],
   "execution_count": 10,
   "outputs": [
    {
     "data": {
      "text/plain": "nan"
     },
     "execution_count": 10,
     "metadata": {},
     "output_type": "execute_result"
    }
   ]
  },
  {
   "cell_type": "code",
   "metadata": {
    "id": "hSAdHoKrVLEm",
    "ExecuteTime": {
     "start_time": "2023-04-25T10:23:45.790948Z",
     "end_time": "2023-04-25T10:23:45.799256Z"
    }
   },
   "source": [
    "pd.isnull(result)"
   ],
   "execution_count": 12,
   "outputs": [
    {
     "data": {
      "text/plain": "       1      2      3      4  hello\n0  False  False  False  False  False\n1  False  False  False  False  False",
      "text/html": "<div>\n<style scoped>\n    .dataframe tbody tr th:only-of-type {\n        vertical-align: middle;\n    }\n\n    .dataframe tbody tr th {\n        vertical-align: top;\n    }\n\n    .dataframe thead th {\n        text-align: right;\n    }\n</style>\n<table border=\"1\" class=\"dataframe\">\n  <thead>\n    <tr style=\"text-align: right;\">\n      <th></th>\n      <th>1</th>\n      <th>2</th>\n      <th>3</th>\n      <th>4</th>\n      <th>hello</th>\n    </tr>\n  </thead>\n  <tbody>\n    <tr>\n      <th>0</th>\n      <td>False</td>\n      <td>False</td>\n      <td>False</td>\n      <td>False</td>\n      <td>False</td>\n    </tr>\n    <tr>\n      <th>1</th>\n      <td>False</td>\n      <td>False</td>\n      <td>False</td>\n      <td>False</td>\n      <td>False</td>\n    </tr>\n  </tbody>\n</table>\n</div>"
     },
     "execution_count": 12,
     "metadata": {},
     "output_type": "execute_result"
    }
   ]
  },
  {
   "cell_type": "markdown",
   "metadata": {
    "id": "-D9Dmngwyb-x"
   },
   "source": [
    "define *na_values*"
   ]
  },
  {
   "cell_type": "code",
   "metadata": {
    "id": "XRDEP_p0VLEo",
    "colab": {
     "base_uri": "https://localhost:8080/",
     "height": 142
    },
    "outputId": "eb82bbe5-e992-4700-a08d-c4177e7cfb5d",
    "ExecuteTime": {
     "start_time": "2023-04-25T10:29:40.224791Z",
     "end_time": "2023-04-25T10:29:40.232206Z"
    }
   },
   "source": [
    "result = pd.read_csv('ex5.csv', na_values=['NULL', 'one'])\n",
    "result"
   ],
   "execution_count": 15,
   "outputs": [
    {
     "data": {
      "text/plain": "  something  a   b     c   d message\n0       NaN  1   2   3.0   4     NaN\n1       two  5   6   NaN   8   world\n2     three  9  10  11.0  12     foo",
      "text/html": "<div>\n<style scoped>\n    .dataframe tbody tr th:only-of-type {\n        vertical-align: middle;\n    }\n\n    .dataframe tbody tr th {\n        vertical-align: top;\n    }\n\n    .dataframe thead th {\n        text-align: right;\n    }\n</style>\n<table border=\"1\" class=\"dataframe\">\n  <thead>\n    <tr style=\"text-align: right;\">\n      <th></th>\n      <th>something</th>\n      <th>a</th>\n      <th>b</th>\n      <th>c</th>\n      <th>d</th>\n      <th>message</th>\n    </tr>\n  </thead>\n  <tbody>\n    <tr>\n      <th>0</th>\n      <td>NaN</td>\n      <td>1</td>\n      <td>2</td>\n      <td>3.0</td>\n      <td>4</td>\n      <td>NaN</td>\n    </tr>\n    <tr>\n      <th>1</th>\n      <td>two</td>\n      <td>5</td>\n      <td>6</td>\n      <td>NaN</td>\n      <td>8</td>\n      <td>world</td>\n    </tr>\n    <tr>\n      <th>2</th>\n      <td>three</td>\n      <td>9</td>\n      <td>10</td>\n      <td>11.0</td>\n      <td>12</td>\n      <td>foo</td>\n    </tr>\n  </tbody>\n</table>\n</div>"
     },
     "execution_count": 15,
     "metadata": {},
     "output_type": "execute_result"
    }
   ]
  },
  {
   "cell_type": "code",
   "metadata": {
    "id": "DYYfOLlhVLEr",
    "colab": {
     "base_uri": "https://localhost:8080/",
     "height": 142
    },
    "outputId": "f394566f-f472-45c3-cc7d-12dc05e73b07",
    "ExecuteTime": {
     "start_time": "2023-04-25T10:28:57.075835Z",
     "end_time": "2023-04-25T10:28:57.085226Z"
    }
   },
   "source": [
    "sentinels = {'message': ['foo', 'NA'], 'something': ['two']}\n",
    "pd.read_csv('ex5.csv', na_values=sentinels)\n",
    "#pd.read_csv('examples/ex5.csv', na_values=sentinels)"
   ],
   "execution_count": 14,
   "outputs": [
    {
     "data": {
      "text/plain": "  something  a   b     c   d message\n0       one  1   2   3.0   4     NaN\n1       NaN  5   6   NaN   8   world\n2     three  9  10  11.0  12     NaN",
      "text/html": "<div>\n<style scoped>\n    .dataframe tbody tr th:only-of-type {\n        vertical-align: middle;\n    }\n\n    .dataframe tbody tr th {\n        vertical-align: top;\n    }\n\n    .dataframe thead th {\n        text-align: right;\n    }\n</style>\n<table border=\"1\" class=\"dataframe\">\n  <thead>\n    <tr style=\"text-align: right;\">\n      <th></th>\n      <th>something</th>\n      <th>a</th>\n      <th>b</th>\n      <th>c</th>\n      <th>d</th>\n      <th>message</th>\n    </tr>\n  </thead>\n  <tbody>\n    <tr>\n      <th>0</th>\n      <td>one</td>\n      <td>1</td>\n      <td>2</td>\n      <td>3.0</td>\n      <td>4</td>\n      <td>NaN</td>\n    </tr>\n    <tr>\n      <th>1</th>\n      <td>NaN</td>\n      <td>5</td>\n      <td>6</td>\n      <td>NaN</td>\n      <td>8</td>\n      <td>world</td>\n    </tr>\n    <tr>\n      <th>2</th>\n      <td>three</td>\n      <td>9</td>\n      <td>10</td>\n      <td>11.0</td>\n      <td>12</td>\n      <td>NaN</td>\n    </tr>\n  </tbody>\n</table>\n</div>"
     },
     "execution_count": 14,
     "metadata": {},
     "output_type": "execute_result"
    }
   ]
  },
  {
   "cell_type": "markdown",
   "metadata": {
    "id": "Aoa6PiWgVLEu"
   },
   "source": [
    "### Reading Text Files in Pieces"
   ]
  },
  {
   "cell_type": "code",
   "metadata": {
    "id": "8TQyz9iGVLEu"
   },
   "source": [
    "result = pd.read_csv('ex6.csv')\n",
    "result"
   ],
   "execution_count": null,
   "outputs": []
  },
  {
   "cell_type": "markdown",
   "metadata": {
    "id": "tjw3tu5bzYAy"
   },
   "source": [
    "Read only a fixed number of rows"
   ]
  },
  {
   "cell_type": "code",
   "metadata": {
    "id": "wBXNAR4ZVLEx",
    "ExecuteTime": {
     "start_time": "2023-04-25T10:30:12.360574Z",
     "end_time": "2023-04-25T10:30:12.368106Z"
    }
   },
   "source": [
    "pd.read_csv('5-Data_visualization/data/winemag-data_first150k.csv', nrows=5)"
   ],
   "execution_count": 16,
   "outputs": [
    {
     "data": {
      "text/plain": "   id country                                        description  \\\n0   0      US  This tremendous 100% varietal wine hails from ...   \n1   1   Spain  Ripe aromas of fig, blackberry and cassis are ...   \n2   2      US  Mac Watson honors the memory of a wine once ma...   \n3   3      US  This spent 20 months in 30% new French oak, an...   \n4   4  France  This is the top wine from La Bégude, named aft...   \n\n                            designation  points  price        province  \\\n0                     Martha's Vineyard      96  235.0      California   \n1  Carodorum Selección Especial Reserva      96  110.0  Northern Spain   \n2         Special Selected Late Harvest      96   90.0      California   \n3                               Reserve      96   65.0          Oregon   \n4                            La Brûlade      95   66.0        Provence   \n\n            region_1           region_2             variety  \\\n0        Napa Valley               Napa  Cabernet Sauvignon   \n1               Toro                NaN       Tinta de Toro   \n2     Knights Valley             Sonoma     Sauvignon Blanc   \n3  Willamette Valley  Willamette Valley          Pinot Noir   \n4             Bandol                NaN  Provence red blend   \n\n                    winery  \n0                    Heitz  \n1  Bodega Carmen Rodríguez  \n2                 Macauley  \n3                    Ponzi  \n4     Domaine de la Bégude  ",
      "text/html": "<div>\n<style scoped>\n    .dataframe tbody tr th:only-of-type {\n        vertical-align: middle;\n    }\n\n    .dataframe tbody tr th {\n        vertical-align: top;\n    }\n\n    .dataframe thead th {\n        text-align: right;\n    }\n</style>\n<table border=\"1\" class=\"dataframe\">\n  <thead>\n    <tr style=\"text-align: right;\">\n      <th></th>\n      <th>id</th>\n      <th>country</th>\n      <th>description</th>\n      <th>designation</th>\n      <th>points</th>\n      <th>price</th>\n      <th>province</th>\n      <th>region_1</th>\n      <th>region_2</th>\n      <th>variety</th>\n      <th>winery</th>\n    </tr>\n  </thead>\n  <tbody>\n    <tr>\n      <th>0</th>\n      <td>0</td>\n      <td>US</td>\n      <td>This tremendous 100% varietal wine hails from ...</td>\n      <td>Martha's Vineyard</td>\n      <td>96</td>\n      <td>235.0</td>\n      <td>California</td>\n      <td>Napa Valley</td>\n      <td>Napa</td>\n      <td>Cabernet Sauvignon</td>\n      <td>Heitz</td>\n    </tr>\n    <tr>\n      <th>1</th>\n      <td>1</td>\n      <td>Spain</td>\n      <td>Ripe aromas of fig, blackberry and cassis are ...</td>\n      <td>Carodorum Selección Especial Reserva</td>\n      <td>96</td>\n      <td>110.0</td>\n      <td>Northern Spain</td>\n      <td>Toro</td>\n      <td>NaN</td>\n      <td>Tinta de Toro</td>\n      <td>Bodega Carmen Rodríguez</td>\n    </tr>\n    <tr>\n      <th>2</th>\n      <td>2</td>\n      <td>US</td>\n      <td>Mac Watson honors the memory of a wine once ma...</td>\n      <td>Special Selected Late Harvest</td>\n      <td>96</td>\n      <td>90.0</td>\n      <td>California</td>\n      <td>Knights Valley</td>\n      <td>Sonoma</td>\n      <td>Sauvignon Blanc</td>\n      <td>Macauley</td>\n    </tr>\n    <tr>\n      <th>3</th>\n      <td>3</td>\n      <td>US</td>\n      <td>This spent 20 months in 30% new French oak, an...</td>\n      <td>Reserve</td>\n      <td>96</td>\n      <td>65.0</td>\n      <td>Oregon</td>\n      <td>Willamette Valley</td>\n      <td>Willamette Valley</td>\n      <td>Pinot Noir</td>\n      <td>Ponzi</td>\n    </tr>\n    <tr>\n      <th>4</th>\n      <td>4</td>\n      <td>France</td>\n      <td>This is the top wine from La Bégude, named aft...</td>\n      <td>La Brûlade</td>\n      <td>95</td>\n      <td>66.0</td>\n      <td>Provence</td>\n      <td>Bandol</td>\n      <td>NaN</td>\n      <td>Provence red blend</td>\n      <td>Domaine de la Bégude</td>\n    </tr>\n  </tbody>\n</table>\n</div>"
     },
     "execution_count": 16,
     "metadata": {},
     "output_type": "execute_result"
    }
   ]
  },
  {
   "cell_type": "markdown",
   "metadata": {
    "id": "dj-hf0X_zfcc"
   },
   "source": [
    "Read Text Files in chunks"
   ]
  },
  {
   "cell_type": "code",
   "metadata": {
    "id": "IkOnVC9NVLE1",
    "ExecuteTime": {
     "start_time": "2023-04-25T10:30:45.203149Z",
     "end_time": "2023-04-25T10:30:45.211851Z"
    }
   },
   "source": [
    "chunker = pd.read_csv('5-Data_visualization/data/winemag-data_first150k.csv', chunksize=1000)\n",
    "chunker"
   ],
   "execution_count": 17,
   "outputs": [
    {
     "data": {
      "text/plain": "<pandas.io.parsers.readers.TextFileReader at 0x15765f430>"
     },
     "execution_count": 17,
     "metadata": {},
     "output_type": "execute_result"
    }
   ]
  },
  {
   "cell_type": "code",
   "metadata": {
    "id": "JYsu5qQW0Y5I",
    "ExecuteTime": {
     "start_time": "2023-04-25T10:31:20.050261Z",
     "end_time": "2023-04-25T10:31:20.067022Z"
    }
   },
   "source": [
    "chunk = next(chunker)\n",
    "chunk.head(5)"
   ],
   "execution_count": 20,
   "outputs": [
    {
     "data": {
      "text/plain": "        id country                                        description  \\\n2000  2000   Italy  This wine has an unusual combination of sweet ...   \n2001  2001  France  This rich wine has both open, ripe black fruit...   \n2002  2002  France  This wine is already soft, warm and attractive...   \n2003  2003  France  Firm and dry, it's packed with as much tannin ...   \n2004  2004  France  This super-rich wine is dominated by ripe Merl...   \n\n                designation  points  price  province                 region_1  \\\n2000  Rocche di Castelletto      88   75.0  Piedmont                   Barolo   \n2001                    NaN      88    NaN  Bordeaux            Saint-Émilion   \n2002                    NaN      88   15.0  Bordeaux           Côtes de Bourg   \n2003                    NaN      88   22.0  Bordeaux  Blaye Côtes de Bordeaux   \n2004                    NaN      88   35.0  Bordeaux                    Médoc   \n\n     region_2                   variety                      winery  \n2000      NaN                  Nebbiolo              Cascina Chicco  \n2001      NaN  Bordeaux-style Red Blend           Château de Fonbel  \n2002      NaN  Bordeaux-style Red Blend  Château Fleur de Plaisance  \n2003      NaN  Bordeaux-style Red Blend            Château Gauthier  \n2004      NaN  Bordeaux-style Red Blend      Château Haut Canteloup  ",
      "text/html": "<div>\n<style scoped>\n    .dataframe tbody tr th:only-of-type {\n        vertical-align: middle;\n    }\n\n    .dataframe tbody tr th {\n        vertical-align: top;\n    }\n\n    .dataframe thead th {\n        text-align: right;\n    }\n</style>\n<table border=\"1\" class=\"dataframe\">\n  <thead>\n    <tr style=\"text-align: right;\">\n      <th></th>\n      <th>id</th>\n      <th>country</th>\n      <th>description</th>\n      <th>designation</th>\n      <th>points</th>\n      <th>price</th>\n      <th>province</th>\n      <th>region_1</th>\n      <th>region_2</th>\n      <th>variety</th>\n      <th>winery</th>\n    </tr>\n  </thead>\n  <tbody>\n    <tr>\n      <th>2000</th>\n      <td>2000</td>\n      <td>Italy</td>\n      <td>This wine has an unusual combination of sweet ...</td>\n      <td>Rocche di Castelletto</td>\n      <td>88</td>\n      <td>75.0</td>\n      <td>Piedmont</td>\n      <td>Barolo</td>\n      <td>NaN</td>\n      <td>Nebbiolo</td>\n      <td>Cascina Chicco</td>\n    </tr>\n    <tr>\n      <th>2001</th>\n      <td>2001</td>\n      <td>France</td>\n      <td>This rich wine has both open, ripe black fruit...</td>\n      <td>NaN</td>\n      <td>88</td>\n      <td>NaN</td>\n      <td>Bordeaux</td>\n      <td>Saint-Émilion</td>\n      <td>NaN</td>\n      <td>Bordeaux-style Red Blend</td>\n      <td>Château de Fonbel</td>\n    </tr>\n    <tr>\n      <th>2002</th>\n      <td>2002</td>\n      <td>France</td>\n      <td>This wine is already soft, warm and attractive...</td>\n      <td>NaN</td>\n      <td>88</td>\n      <td>15.0</td>\n      <td>Bordeaux</td>\n      <td>Côtes de Bourg</td>\n      <td>NaN</td>\n      <td>Bordeaux-style Red Blend</td>\n      <td>Château Fleur de Plaisance</td>\n    </tr>\n    <tr>\n      <th>2003</th>\n      <td>2003</td>\n      <td>France</td>\n      <td>Firm and dry, it's packed with as much tannin ...</td>\n      <td>NaN</td>\n      <td>88</td>\n      <td>22.0</td>\n      <td>Bordeaux</td>\n      <td>Blaye Côtes de Bordeaux</td>\n      <td>NaN</td>\n      <td>Bordeaux-style Red Blend</td>\n      <td>Château Gauthier</td>\n    </tr>\n    <tr>\n      <th>2004</th>\n      <td>2004</td>\n      <td>France</td>\n      <td>This super-rich wine is dominated by ripe Merl...</td>\n      <td>NaN</td>\n      <td>88</td>\n      <td>35.0</td>\n      <td>Bordeaux</td>\n      <td>Médoc</td>\n      <td>NaN</td>\n      <td>Bordeaux-style Red Blend</td>\n      <td>Château Haut Canteloup</td>\n    </tr>\n  </tbody>\n</table>\n</div>"
     },
     "execution_count": 20,
     "metadata": {},
     "output_type": "execute_result"
    }
   ]
  },
  {
   "cell_type": "code",
   "metadata": {
    "id": "V04gP1VYz5Fw",
    "ExecuteTime": {
     "start_time": "2023-04-25T10:31:37.831043Z",
     "end_time": "2023-04-25T10:31:37.842599Z"
    }
   },
   "source": [
    "for chunk in chunker:\n",
    "  print(\"chunk size: {}\".format(chunk.shape))\n",
    "  break"
   ],
   "execution_count": 21,
   "outputs": [
    {
     "name": "stdout",
     "output_type": "stream",
     "text": [
      "chunk size: (1000, 11)\n"
     ]
    }
   ]
  },
  {
   "cell_type": "code",
   "metadata": {
    "id": "TONrsyXUVLE3"
   },
   "source": [
    "# tot = pd.Series([], dtype=float)\n",
    "# for piece in chunker:\n",
    "#     tot = tot.add(piece['key'].value_counts(), fill_value=0)\n",
    "\n",
    "# tot = tot.sort_values(ascending=False)"
   ],
   "execution_count": null,
   "outputs": []
  },
  {
   "cell_type": "markdown",
   "metadata": {
    "id": "cEJ9WVfaVLE9"
   },
   "source": [
    "### Writing Data to Text Format"
   ]
  },
  {
   "cell_type": "code",
   "metadata": {
    "id": "obxcxTRMVLE9",
    "colab": {
     "base_uri": "https://localhost:8080/",
     "height": 142
    },
    "outputId": "0ff9e051-3373-42a1-b229-42737b4713c3",
    "ExecuteTime": {
     "start_time": "2023-04-25T10:36:04.573268Z",
     "end_time": "2023-04-25T10:36:04.581999Z"
    }
   },
   "source": [
    "data = pd.read_csv('ex5.csv')\n",
    "data"
   ],
   "execution_count": 38,
   "outputs": [
    {
     "data": {
      "text/plain": "  something  a   b     c   d message\n0       one  1   2   3.0   4     NaN\n1       two  5   6   NaN   8   world\n2     three  9  10  11.0  12     foo",
      "text/html": "<div>\n<style scoped>\n    .dataframe tbody tr th:only-of-type {\n        vertical-align: middle;\n    }\n\n    .dataframe tbody tr th {\n        vertical-align: top;\n    }\n\n    .dataframe thead th {\n        text-align: right;\n    }\n</style>\n<table border=\"1\" class=\"dataframe\">\n  <thead>\n    <tr style=\"text-align: right;\">\n      <th></th>\n      <th>something</th>\n      <th>a</th>\n      <th>b</th>\n      <th>c</th>\n      <th>d</th>\n      <th>message</th>\n    </tr>\n  </thead>\n  <tbody>\n    <tr>\n      <th>0</th>\n      <td>one</td>\n      <td>1</td>\n      <td>2</td>\n      <td>3.0</td>\n      <td>4</td>\n      <td>NaN</td>\n    </tr>\n    <tr>\n      <th>1</th>\n      <td>two</td>\n      <td>5</td>\n      <td>6</td>\n      <td>NaN</td>\n      <td>8</td>\n      <td>world</td>\n    </tr>\n    <tr>\n      <th>2</th>\n      <td>three</td>\n      <td>9</td>\n      <td>10</td>\n      <td>11.0</td>\n      <td>12</td>\n      <td>foo</td>\n    </tr>\n  </tbody>\n</table>\n</div>"
     },
     "execution_count": 38,
     "metadata": {},
     "output_type": "execute_result"
    }
   ]
  },
  {
   "cell_type": "code",
   "metadata": {
    "id": "G7b5rOSyEaK9",
    "ExecuteTime": {
     "start_time": "2023-04-25T10:36:12.703245Z",
     "end_time": "2023-04-25T10:36:12.713132Z"
    }
   },
   "source": [
    "data.iloc[0,1] = 999"
   ],
   "execution_count": 39,
   "outputs": []
  },
  {
   "cell_type": "code",
   "metadata": {
    "id": "uPqJ2NVWEfeo",
    "colab": {
     "base_uri": "https://localhost:8080/",
     "height": 142
    },
    "outputId": "80ecdd60-0cc7-4435-d0fd-1eae709ec4a9",
    "ExecuteTime": {
     "start_time": "2023-04-25T10:36:14.462842Z",
     "end_time": "2023-04-25T10:36:14.468539Z"
    }
   },
   "source": [
    "data"
   ],
   "execution_count": 40,
   "outputs": [
    {
     "data": {
      "text/plain": "  something    a   b     c   d message\n0       one  999   2   3.0   4     NaN\n1       two    5   6   NaN   8   world\n2     three    9  10  11.0  12     foo",
      "text/html": "<div>\n<style scoped>\n    .dataframe tbody tr th:only-of-type {\n        vertical-align: middle;\n    }\n\n    .dataframe tbody tr th {\n        vertical-align: top;\n    }\n\n    .dataframe thead th {\n        text-align: right;\n    }\n</style>\n<table border=\"1\" class=\"dataframe\">\n  <thead>\n    <tr style=\"text-align: right;\">\n      <th></th>\n      <th>something</th>\n      <th>a</th>\n      <th>b</th>\n      <th>c</th>\n      <th>d</th>\n      <th>message</th>\n    </tr>\n  </thead>\n  <tbody>\n    <tr>\n      <th>0</th>\n      <td>one</td>\n      <td>999</td>\n      <td>2</td>\n      <td>3.0</td>\n      <td>4</td>\n      <td>NaN</td>\n    </tr>\n    <tr>\n      <th>1</th>\n      <td>two</td>\n      <td>5</td>\n      <td>6</td>\n      <td>NaN</td>\n      <td>8</td>\n      <td>world</td>\n    </tr>\n    <tr>\n      <th>2</th>\n      <td>three</td>\n      <td>9</td>\n      <td>10</td>\n      <td>11.0</td>\n      <td>12</td>\n      <td>foo</td>\n    </tr>\n  </tbody>\n</table>\n</div>"
     },
     "execution_count": 40,
     "metadata": {},
     "output_type": "execute_result"
    }
   ]
  },
  {
   "cell_type": "code",
   "metadata": {
    "id": "BwzWyZ3fVLFA",
    "ExecuteTime": {
     "start_time": "2023-04-25T10:35:03.681677Z",
     "end_time": "2023-04-25T10:35:03.689913Z"
    }
   },
   "source": [
    "data.to_csv('out.csv',index=False)"
   ],
   "execution_count": 31,
   "outputs": []
  },
  {
   "cell_type": "code",
   "metadata": {
    "id": "jhptAkNQE3PM",
    "ExecuteTime": {
     "start_time": "2023-04-25T10:35:20.334721Z",
     "end_time": "2023-04-25T10:35:20.344687Z"
    }
   },
   "source": [
    "pd.read_csv('out.csv', sep=',')"
   ],
   "execution_count": 33,
   "outputs": [
    {
     "data": {
      "text/plain": "  something    a   b     c   d message\n0       999  999   2   3.0   4     NaN\n1       two    5   6   NaN   8   world\n2     three    9  10  11.0  12     foo",
      "text/html": "<div>\n<style scoped>\n    .dataframe tbody tr th:only-of-type {\n        vertical-align: middle;\n    }\n\n    .dataframe tbody tr th {\n        vertical-align: top;\n    }\n\n    .dataframe thead th {\n        text-align: right;\n    }\n</style>\n<table border=\"1\" class=\"dataframe\">\n  <thead>\n    <tr style=\"text-align: right;\">\n      <th></th>\n      <th>something</th>\n      <th>a</th>\n      <th>b</th>\n      <th>c</th>\n      <th>d</th>\n      <th>message</th>\n    </tr>\n  </thead>\n  <tbody>\n    <tr>\n      <th>0</th>\n      <td>999</td>\n      <td>999</td>\n      <td>2</td>\n      <td>3.0</td>\n      <td>4</td>\n      <td>NaN</td>\n    </tr>\n    <tr>\n      <th>1</th>\n      <td>two</td>\n      <td>5</td>\n      <td>6</td>\n      <td>NaN</td>\n      <td>8</td>\n      <td>world</td>\n    </tr>\n    <tr>\n      <th>2</th>\n      <td>three</td>\n      <td>9</td>\n      <td>10</td>\n      <td>11.0</td>\n      <td>12</td>\n      <td>foo</td>\n    </tr>\n  </tbody>\n</table>\n</div>"
     },
     "execution_count": 33,
     "metadata": {},
     "output_type": "execute_result"
    }
   ]
  },
  {
   "cell_type": "code",
   "metadata": {
    "id": "_YTHtKQVVLFD",
    "ExecuteTime": {
     "start_time": "2023-04-25T10:35:29.783895Z",
     "end_time": "2023-04-25T10:35:29.921910Z"
    }
   },
   "source": [
    "!cat out.csv"
   ],
   "execution_count": 34,
   "outputs": [
    {
     "name": "stdout",
     "output_type": "stream",
     "text": [
      "something,a,b,c,d,message\r\n",
      "999,999,2,3.0,4,\r\n",
      "two,5,6,,8,world\r\n",
      "three,9,10,11.0,12,foo\r\n"
     ]
    }
   ]
  },
  {
   "cell_type": "code",
   "metadata": {
    "id": "JsxJG4w71KUk",
    "ExecuteTime": {
     "start_time": "2023-04-25T10:35:38.777676Z",
     "end_time": "2023-04-25T10:35:38.785363Z"
    }
   },
   "source": [
    "data.to_csv('out.csv', index=False, sep='#')"
   ],
   "execution_count": 35,
   "outputs": []
  },
  {
   "cell_type": "code",
   "metadata": {
    "id": "KYef1U9HE_Zy",
    "ExecuteTime": {
     "start_time": "2023-04-25T10:35:44.842191Z",
     "end_time": "2023-04-25T10:35:44.849471Z"
    }
   },
   "source": [
    "pd.read_csv('out.csv', sep=';')"
   ],
   "execution_count": 36,
   "outputs": [
    {
     "data": {
      "text/plain": "  something#a#b#c#d#message\n0          999#999#2#3.0#4#\n1          two#5#6##8#world\n2    three#9#10#11.0#12#foo",
      "text/html": "<div>\n<style scoped>\n    .dataframe tbody tr th:only-of-type {\n        vertical-align: middle;\n    }\n\n    .dataframe tbody tr th {\n        vertical-align: top;\n    }\n\n    .dataframe thead th {\n        text-align: right;\n    }\n</style>\n<table border=\"1\" class=\"dataframe\">\n  <thead>\n    <tr style=\"text-align: right;\">\n      <th></th>\n      <th>something#a#b#c#d#message</th>\n    </tr>\n  </thead>\n  <tbody>\n    <tr>\n      <th>0</th>\n      <td>999#999#2#3.0#4#</td>\n    </tr>\n    <tr>\n      <th>1</th>\n      <td>two#5#6##8#world</td>\n    </tr>\n    <tr>\n      <th>2</th>\n      <td>three#9#10#11.0#12#foo</td>\n    </tr>\n  </tbody>\n</table>\n</div>"
     },
     "execution_count": 36,
     "metadata": {},
     "output_type": "execute_result"
    }
   ]
  },
  {
   "cell_type": "code",
   "metadata": {
    "id": "NnRFxBS71K2K",
    "ExecuteTime": {
     "start_time": "2023-04-25T10:35:57.646888Z",
     "end_time": "2023-04-25T10:35:57.776192Z"
    }
   },
   "source": [
    "!cat out.csv"
   ],
   "execution_count": 37,
   "outputs": [
    {
     "name": "stdout",
     "output_type": "stream",
     "text": [
      "something#a#b#c#d#message\r\n",
      "999#999#2#3.0#4#\r\n",
      "two#5#6##8#world\r\n",
      "three#9#10#11.0#12#foo\r\n"
     ]
    }
   ]
  },
  {
   "cell_type": "code",
   "metadata": {
    "id": "NFJKgdsiFeMo"
   },
   "source": [],
   "execution_count": null,
   "outputs": []
  },
  {
   "cell_type": "markdown",
   "metadata": {
    "id": "t9zwNgPlVLFU"
   },
   "source": [
    "### Reading and Writing Microsoft Excel Files"
   ]
  },
  {
   "cell_type": "markdown",
   "metadata": {
    "id": "6OyEu72q1sHO"
   },
   "source": [
    "Read option 1: Using *ExcelFile* class"
   ]
  },
  {
   "cell_type": "code",
   "metadata": {
    "id": "ViBIM6DWVLFV"
   },
   "source": [
    "#xlsx = pd.ExcelFile('examples/ex1.xlsx')\n",
    "xlsx = pd.ExcelFile('ex1.xlsx')"
   ],
   "execution_count": null,
   "outputs": []
  },
  {
   "cell_type": "code",
   "metadata": {
    "id": "sGxER3gh_9Eo"
   },
   "source": [
    "xlsx"
   ],
   "execution_count": null,
   "outputs": []
  },
  {
   "cell_type": "code",
   "metadata": {
    "id": "5djIOLxWVLFX"
   },
   "source": [
    "pd.read_excel(xlsx, 'Sheet1')"
   ],
   "execution_count": null,
   "outputs": []
  },
  {
   "cell_type": "code",
   "execution_count": 7,
   "outputs": [
    {
     "name": "stdout",
     "output_type": "stream",
     "text": [
      "Collecting openpyxl\r\n",
      "  Downloading openpyxl-3.1.2-py2.py3-none-any.whl (249 kB)\r\n",
      "\u001B[2K     \u001B[90m━━━━━━━━━━━━━━━━━━━━━━━━━━━━━━━━━━━━━━━\u001B[0m \u001B[32m250.0/250.0 kB\u001B[0m \u001B[31m4.1 MB/s\u001B[0m eta \u001B[36m0:00:00\u001B[0ma \u001B[36m0:00:01\u001B[0m\r\n",
      "\u001B[?25hCollecting et-xmlfile\r\n",
      "  Downloading et_xmlfile-1.1.0-py3-none-any.whl (4.7 kB)\r\n",
      "Installing collected packages: et-xmlfile, openpyxl\r\n",
      "Successfully installed et-xmlfile-1.1.0 openpyxl-3.1.2\r\n",
      "\r\n",
      "\u001B[1m[\u001B[0m\u001B[34;49mnotice\u001B[0m\u001B[1;39;49m]\u001B[0m\u001B[39;49m A new release of pip available: \u001B[0m\u001B[31;49m22.3.1\u001B[0m\u001B[39;49m -> \u001B[0m\u001B[32;49m23.1.1\u001B[0m\r\n",
      "\u001B[1m[\u001B[0m\u001B[34;49mnotice\u001B[0m\u001B[1;39;49m]\u001B[0m\u001B[39;49m To update, run: \u001B[0m\u001B[32;49mpython -m pip install --upgrade pip\u001B[0m\r\n"
     ]
    }
   ],
   "source": [
    "!pip install openpyxl"
   ],
   "metadata": {
    "collapsed": false,
    "ExecuteTime": {
     "start_time": "2023-04-25T10:53:17.160886Z",
     "end_time": "2023-04-25T10:53:19.056067Z"
    }
   }
  },
  {
   "cell_type": "markdown",
   "metadata": {
    "id": "nk6iFpWX1xUI"
   },
   "source": [
    "Read option 2: Using *read_excel* method"
   ]
  },
  {
   "cell_type": "code",
   "metadata": {
    "id": "JGL5SuSmVLFZ",
    "ExecuteTime": {
     "start_time": "2023-04-25T10:54:19.299572Z",
     "end_time": "2023-04-25T10:54:19.314515Z"
    }
   },
   "source": [
    "frame = pd.read_excel('Calcola_Ore.xlsx', 'Foglio1')\n",
    "frame"
   ],
   "execution_count": 11,
   "outputs": [
    {
     "data": {
      "text/plain": "    Unnamed: 0  Unnamed: 1           Unnamed: 2           Unnamed: 3  \\\n0          NaN         NaN                  NaN                  NaN   \n1          NaN         NaN                  NaN                  NaN   \n2          NaN         NaN                  NaN                  NaN   \n3          NaN         NaN         data inizio            data fine    \n4          NaN         NaN  2023-04-18 08:30:00  2023-04-18 17:30:00   \n5          NaN         NaN  2023-04-21 08:30:00  2023-04-21 12:30:00   \n6          NaN         NaN                  NaN                  NaN   \n7          NaN         NaN                  NaN                  NaN   \n8          NaN         NaN                  NaN                  NaN   \n9          NaN         NaN                  NaN                  NaN   \n10         NaN         NaN                  NaN                  NaN   \n11         NaN         NaN                  NaN                  NaN   \n12         NaN         NaN                  NaN                  NaN   \n13         NaN         NaN                  NaN                  NaN   \n14         NaN         NaN                  NaN                  NaN   \n15         NaN         NaN                  NaN                  NaN   \n16         NaN         NaN                  NaN                  NaN   \n17         NaN         NaN                  NaN                  NaN   \n\n     Unnamed: 4 Unnamed: 5 Unnamed: 6  \n0           NaN        NaN        NaN  \n1           NaN        NaN        NaN  \n2           NaN        NaN        NaN  \n3   DIFF in min        ORE        EUR  \n4           540          9     98.982  \n5         240.0        4.0     43.992  \n6             0          0          0  \n7             0          0          0  \n8             0          0          0  \n9             0          0          0  \n10            0          0          0  \n11            0          0          0  \n12            0          0          0  \n13            0          0          0  \n14            0          0          0  \n15            0          0          0  \n16            0          0          0  \n17            0          0          0  ",
      "text/html": "<div>\n<style scoped>\n    .dataframe tbody tr th:only-of-type {\n        vertical-align: middle;\n    }\n\n    .dataframe tbody tr th {\n        vertical-align: top;\n    }\n\n    .dataframe thead th {\n        text-align: right;\n    }\n</style>\n<table border=\"1\" class=\"dataframe\">\n  <thead>\n    <tr style=\"text-align: right;\">\n      <th></th>\n      <th>Unnamed: 0</th>\n      <th>Unnamed: 1</th>\n      <th>Unnamed: 2</th>\n      <th>Unnamed: 3</th>\n      <th>Unnamed: 4</th>\n      <th>Unnamed: 5</th>\n      <th>Unnamed: 6</th>\n    </tr>\n  </thead>\n  <tbody>\n    <tr>\n      <th>0</th>\n      <td>NaN</td>\n      <td>NaN</td>\n      <td>NaN</td>\n      <td>NaN</td>\n      <td>NaN</td>\n      <td>NaN</td>\n      <td>NaN</td>\n    </tr>\n    <tr>\n      <th>1</th>\n      <td>NaN</td>\n      <td>NaN</td>\n      <td>NaN</td>\n      <td>NaN</td>\n      <td>NaN</td>\n      <td>NaN</td>\n      <td>NaN</td>\n    </tr>\n    <tr>\n      <th>2</th>\n      <td>NaN</td>\n      <td>NaN</td>\n      <td>NaN</td>\n      <td>NaN</td>\n      <td>NaN</td>\n      <td>NaN</td>\n      <td>NaN</td>\n    </tr>\n    <tr>\n      <th>3</th>\n      <td>NaN</td>\n      <td>NaN</td>\n      <td>data inizio</td>\n      <td>data fine</td>\n      <td>DIFF in min</td>\n      <td>ORE</td>\n      <td>EUR</td>\n    </tr>\n    <tr>\n      <th>4</th>\n      <td>NaN</td>\n      <td>NaN</td>\n      <td>2023-04-18 08:30:00</td>\n      <td>2023-04-18 17:30:00</td>\n      <td>540</td>\n      <td>9</td>\n      <td>98.982</td>\n    </tr>\n    <tr>\n      <th>5</th>\n      <td>NaN</td>\n      <td>NaN</td>\n      <td>2023-04-21 08:30:00</td>\n      <td>2023-04-21 12:30:00</td>\n      <td>240.0</td>\n      <td>4.0</td>\n      <td>43.992</td>\n    </tr>\n    <tr>\n      <th>6</th>\n      <td>NaN</td>\n      <td>NaN</td>\n      <td>NaN</td>\n      <td>NaN</td>\n      <td>0</td>\n      <td>0</td>\n      <td>0</td>\n    </tr>\n    <tr>\n      <th>7</th>\n      <td>NaN</td>\n      <td>NaN</td>\n      <td>NaN</td>\n      <td>NaN</td>\n      <td>0</td>\n      <td>0</td>\n      <td>0</td>\n    </tr>\n    <tr>\n      <th>8</th>\n      <td>NaN</td>\n      <td>NaN</td>\n      <td>NaN</td>\n      <td>NaN</td>\n      <td>0</td>\n      <td>0</td>\n      <td>0</td>\n    </tr>\n    <tr>\n      <th>9</th>\n      <td>NaN</td>\n      <td>NaN</td>\n      <td>NaN</td>\n      <td>NaN</td>\n      <td>0</td>\n      <td>0</td>\n      <td>0</td>\n    </tr>\n    <tr>\n      <th>10</th>\n      <td>NaN</td>\n      <td>NaN</td>\n      <td>NaN</td>\n      <td>NaN</td>\n      <td>0</td>\n      <td>0</td>\n      <td>0</td>\n    </tr>\n    <tr>\n      <th>11</th>\n      <td>NaN</td>\n      <td>NaN</td>\n      <td>NaN</td>\n      <td>NaN</td>\n      <td>0</td>\n      <td>0</td>\n      <td>0</td>\n    </tr>\n    <tr>\n      <th>12</th>\n      <td>NaN</td>\n      <td>NaN</td>\n      <td>NaN</td>\n      <td>NaN</td>\n      <td>0</td>\n      <td>0</td>\n      <td>0</td>\n    </tr>\n    <tr>\n      <th>13</th>\n      <td>NaN</td>\n      <td>NaN</td>\n      <td>NaN</td>\n      <td>NaN</td>\n      <td>0</td>\n      <td>0</td>\n      <td>0</td>\n    </tr>\n    <tr>\n      <th>14</th>\n      <td>NaN</td>\n      <td>NaN</td>\n      <td>NaN</td>\n      <td>NaN</td>\n      <td>0</td>\n      <td>0</td>\n      <td>0</td>\n    </tr>\n    <tr>\n      <th>15</th>\n      <td>NaN</td>\n      <td>NaN</td>\n      <td>NaN</td>\n      <td>NaN</td>\n      <td>0</td>\n      <td>0</td>\n      <td>0</td>\n    </tr>\n    <tr>\n      <th>16</th>\n      <td>NaN</td>\n      <td>NaN</td>\n      <td>NaN</td>\n      <td>NaN</td>\n      <td>0</td>\n      <td>0</td>\n      <td>0</td>\n    </tr>\n    <tr>\n      <th>17</th>\n      <td>NaN</td>\n      <td>NaN</td>\n      <td>NaN</td>\n      <td>NaN</td>\n      <td>0</td>\n      <td>0</td>\n      <td>0</td>\n    </tr>\n  </tbody>\n</table>\n</div>"
     },
     "execution_count": 11,
     "metadata": {},
     "output_type": "execute_result"
    }
   ]
  },
  {
   "cell_type": "markdown",
   "metadata": {
    "id": "9ZLOJ5UO17Qd"
   },
   "source": [
    "Write option 1: using *ExcelWriter* object"
   ]
  },
  {
   "cell_type": "code",
   "metadata": {
    "id": "Lp5XmkOTVLFb"
   },
   "source": [
    "writer = pd.ExcelWriter('ex2.xlsx')\n",
    "frame.to_excel(writer, 'Sheet1')\n",
    "writer.save()"
   ],
   "execution_count": null,
   "outputs": []
  },
  {
   "cell_type": "markdown",
   "metadata": {
    "id": "zE0qSpic2JdV"
   },
   "source": [
    "Write option 2: using *to_excel* method"
   ]
  },
  {
   "cell_type": "code",
   "metadata": {
    "id": "fXsSKaS0GEp2"
   },
   "source": [
    "frame"
   ],
   "execution_count": null,
   "outputs": []
  },
  {
   "cell_type": "code",
   "metadata": {
    "id": "eKhSFfxqVLFd"
   },
   "source": [
    "frame.to_excel('ex2_out.xlsx')"
   ],
   "execution_count": null,
   "outputs": []
  },
  {
   "cell_type": "code",
   "metadata": {
    "id": "vV2LWFjGVLFg"
   },
   "source": [
    "!rm examples/ex2.xlsx"
   ],
   "execution_count": null,
   "outputs": []
  },
  {
   "cell_type": "markdown",
   "metadata": {
    "id": "XxeU8kenVLFH"
   },
   "source": [
    "### Optional: Working with Delimited Formats"
   ]
  },
  {
   "cell_type": "code",
   "metadata": {
    "id": "a-g-RFmDVLFH",
    "colab": {
     "base_uri": "https://localhost:8080/"
    },
    "outputId": "b26799cd-f32d-4b3f-fc57-bf8350c92dc7"
   },
   "source": [
    "!cat ex7.csv"
   ],
   "execution_count": null,
   "outputs": []
  },
  {
   "cell_type": "code",
   "metadata": {
    "id": "IZNdq_cSVLFJ"
   },
   "source": [
    "import csv\n",
    "f = open('ex7.csv')\n",
    "\n",
    "reader = csv.reader(f)"
   ],
   "execution_count": null,
   "outputs": []
  },
  {
   "cell_type": "code",
   "metadata": {
    "id": "8afogLYEVLFL",
    "colab": {
     "base_uri": "https://localhost:8080/"
    },
    "outputId": "316cef81-a740-4c8a-bf68-e8674964ff88"
   },
   "source": [
    "for line in reader:\n",
    "    print(line)"
   ],
   "execution_count": null,
   "outputs": []
  },
  {
   "cell_type": "code",
   "metadata": {
    "id": "IRtLqWz-VLFN"
   },
   "source": [
    "with open('ex7.csv') as f:\n",
    "    lines = list(csv.reader(f))"
   ],
   "execution_count": null,
   "outputs": []
  },
  {
   "cell_type": "code",
   "metadata": {
    "id": "q0vzYE41VLFP"
   },
   "source": [
    "header, values = lines[0], lines[1:]"
   ],
   "execution_count": null,
   "outputs": []
  },
  {
   "cell_type": "code",
   "metadata": {
    "id": "WwMfOo2b5n-Q",
    "colab": {
     "base_uri": "https://localhost:8080/"
    },
    "outputId": "ddd9a4d4-4f2d-4abf-cd2d-7910d200b178"
   },
   "source": [
    "values"
   ],
   "execution_count": null,
   "outputs": []
  },
  {
   "cell_type": "code",
   "source": [
    "header"
   ],
   "metadata": {
    "colab": {
     "base_uri": "https://localhost:8080/"
    },
    "id": "b1pD207c0MrQ",
    "outputId": "92ecdacb-edb4-4aa5-d473-920e7857fbe1"
   },
   "execution_count": null,
   "outputs": []
  },
  {
   "cell_type": "code",
   "metadata": {
    "id": "dF8bbh7DVLFR",
    "colab": {
     "base_uri": "https://localhost:8080/"
    },
    "outputId": "7aea6cac-405c-4da7-b35d-9dce4a178c4e"
   },
   "source": [
    "data_dict = {h: v for h, v in zip(header, zip(*values))}\n",
    "data_dict"
   ],
   "execution_count": null,
   "outputs": []
  },
  {
   "cell_type": "markdown",
   "metadata": {
    "id": "0L44UVPEy7ZD"
   },
   "source": [
    "## Optional"
   ]
  },
  {
   "cell_type": "code",
   "metadata": {
    "id": "8Bs3nT1RwyUs",
    "colab": {
     "base_uri": "https://localhost:8080/"
    },
    "outputId": "478d8f3e-8b50-43ca-ae81-838c67f3699a"
   },
   "source": [
    "with open('ex3.txt', 'r') as f:\n",
    "  lines = f.readlines()\n",
    "lines"
   ],
   "execution_count": null,
   "outputs": []
  },
  {
   "cell_type": "code",
   "metadata": {
    "id": "yo6fdqWzwySr",
    "colab": {
     "base_uri": "https://localhost:8080/"
    },
    "outputId": "868f6dd9-e99d-4a4b-d955-86b241b17d61"
   },
   "source": [
    "columns = [val.strip() for val in lines[0].split(' ') if val != '']\n",
    "columns"
   ],
   "execution_count": null,
   "outputs": []
  },
  {
   "cell_type": "code",
   "metadata": {
    "id": "X89BUphowyQr"
   },
   "source": [
    "data = []\n",
    "for row in lines[1:]:\n",
    "  res = [val.strip() for val in row.split(' ') if val != '']\n",
    "  data.append(res)"
   ],
   "execution_count": null,
   "outputs": []
  },
  {
   "cell_type": "code",
   "metadata": {
    "id": "SWtlewHOxszT",
    "colab": {
     "base_uri": "https://localhost:8080/"
    },
    "outputId": "70709365-9547-4d64-afaa-720478fa56af"
   },
   "source": [
    "data"
   ],
   "execution_count": null,
   "outputs": []
  },
  {
   "cell_type": "code",
   "metadata": {
    "id": "J-01dZ3Xxcwy"
   },
   "source": [
    "columns"
   ],
   "execution_count": null,
   "outputs": []
  },
  {
   "cell_type": "code",
   "metadata": {
    "id": "0Uq59vmhxdwf"
   },
   "source": [
    "columns.insert(0, 'index')\n",
    "columns"
   ],
   "execution_count": null,
   "outputs": []
  },
  {
   "cell_type": "code",
   "metadata": {
    "id": "LktG0AY6wyOZ"
   },
   "source": [
    "ds = pd.DataFrame(data, columns=columns)\n",
    "ds"
   ],
   "execution_count": null,
   "outputs": []
  },
  {
   "cell_type": "code",
   "metadata": {
    "id": "Q6d2Y675wyMq"
   },
   "source": [
    "ds.set_index('index')"
   ],
   "execution_count": null,
   "outputs": []
  }
 ]
}
