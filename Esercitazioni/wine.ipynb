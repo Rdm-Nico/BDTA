{
 "cells": [
  {
   "cell_type": "markdown",
   "source": [
    "# Wine Quality Data Set\n",
    "## Es 1:\n",
    "Importare il dataset winequality-white_modified, indicare la dimensione del\n",
    "dataset e valutare se il dataset è bilanciato rispetto la variabile qualità da\n",
    "predire. Prendere confidenza del dataset calcolando misure descrittive dello\n",
    "stesso e facendo dei plot."
   ],
   "metadata": {
    "collapsed": false
   }
  },
  {
   "cell_type": "code",
   "execution_count": 1,
   "outputs": [],
   "source": [
    "import pandas as pd\n",
    "import numpy as np"
   ],
   "metadata": {
    "collapsed": false,
    "ExecuteTime": {
     "start_time": "2023-06-09T09:17:37.870549Z",
     "end_time": "2023-06-09T09:17:39.870569Z"
    }
   }
  },
  {
   "cell_type": "code",
   "execution_count": 2,
   "outputs": [
    {
     "data": {
      "text/plain": "      fixed acidity  volatile acidity  citric acid  residual sugar  chlorides  \\\n0               6.8              0.30         0.23             4.6      0.061   \n1               6.0              0.27         0.28             4.8      0.063   \n2               7.4              0.24         0.29            10.1      0.050   \n3               7.4              0.18         0.30             8.8      0.064   \n4               6.7              0.54         0.28             5.4      0.060   \n...             ...               ...          ...             ...        ...   \n4493            7.6              0.20         0.30            14.2      0.056   \n4494            7.6              0.20         0.30            14.2      0.056   \n4495            7.6              0.20         0.30            14.2      0.056   \n4496            7.6              0.20         0.30            14.2      0.056   \n4497            7.6              0.20         0.30            14.2      0.056   \n\n      free sulfur dioxide  total sulfur dioxide  density    pH  sulphates  \\\n0                    50.5                 238.5   0.9958  3.32       0.60   \n1                    31.0                 201.0   0.9964  3.69       0.71   \n2                    21.0                 105.0   0.9962  3.13       0.35   \n3                    26.0                 103.0   0.9961  2.94       0.56   \n4                    21.0                 105.0   0.9949  3.27       0.37   \n...                   ...                   ...      ...   ...        ...   \n4493                 53.0                 212.5   0.9990  3.14       0.46   \n4494                 53.0                 212.5   0.9990  3.14       0.46   \n4495                 53.0                 212.5   0.9990  3.14       0.46   \n4496                 53.0                 212.5   0.9990  3.14       0.46   \n4497                 53.0                 212.5   0.9990  3.14       0.46   \n\n      alcohol  quality  \n0         9.5        0  \n1        10.0        0  \n2         9.5        0  \n3         9.3        0  \n4         9.0        0  \n...       ...      ...  \n4493      8.9        2  \n4494      8.9        2  \n4495      8.9        2  \n4496      8.9        2  \n4497      8.9        2  \n\n[4498 rows x 12 columns]",
      "text/html": "<div>\n<style scoped>\n    .dataframe tbody tr th:only-of-type {\n        vertical-align: middle;\n    }\n\n    .dataframe tbody tr th {\n        vertical-align: top;\n    }\n\n    .dataframe thead th {\n        text-align: right;\n    }\n</style>\n<table border=\"1\" class=\"dataframe\">\n  <thead>\n    <tr style=\"text-align: right;\">\n      <th></th>\n      <th>fixed acidity</th>\n      <th>volatile acidity</th>\n      <th>citric acid</th>\n      <th>residual sugar</th>\n      <th>chlorides</th>\n      <th>free sulfur dioxide</th>\n      <th>total sulfur dioxide</th>\n      <th>density</th>\n      <th>pH</th>\n      <th>sulphates</th>\n      <th>alcohol</th>\n      <th>quality</th>\n    </tr>\n  </thead>\n  <tbody>\n    <tr>\n      <th>0</th>\n      <td>6.8</td>\n      <td>0.30</td>\n      <td>0.23</td>\n      <td>4.6</td>\n      <td>0.061</td>\n      <td>50.5</td>\n      <td>238.5</td>\n      <td>0.9958</td>\n      <td>3.32</td>\n      <td>0.60</td>\n      <td>9.5</td>\n      <td>0</td>\n    </tr>\n    <tr>\n      <th>1</th>\n      <td>6.0</td>\n      <td>0.27</td>\n      <td>0.28</td>\n      <td>4.8</td>\n      <td>0.063</td>\n      <td>31.0</td>\n      <td>201.0</td>\n      <td>0.9964</td>\n      <td>3.69</td>\n      <td>0.71</td>\n      <td>10.0</td>\n      <td>0</td>\n    </tr>\n    <tr>\n      <th>2</th>\n      <td>7.4</td>\n      <td>0.24</td>\n      <td>0.29</td>\n      <td>10.1</td>\n      <td>0.050</td>\n      <td>21.0</td>\n      <td>105.0</td>\n      <td>0.9962</td>\n      <td>3.13</td>\n      <td>0.35</td>\n      <td>9.5</td>\n      <td>0</td>\n    </tr>\n    <tr>\n      <th>3</th>\n      <td>7.4</td>\n      <td>0.18</td>\n      <td>0.30</td>\n      <td>8.8</td>\n      <td>0.064</td>\n      <td>26.0</td>\n      <td>103.0</td>\n      <td>0.9961</td>\n      <td>2.94</td>\n      <td>0.56</td>\n      <td>9.3</td>\n      <td>0</td>\n    </tr>\n    <tr>\n      <th>4</th>\n      <td>6.7</td>\n      <td>0.54</td>\n      <td>0.28</td>\n      <td>5.4</td>\n      <td>0.060</td>\n      <td>21.0</td>\n      <td>105.0</td>\n      <td>0.9949</td>\n      <td>3.27</td>\n      <td>0.37</td>\n      <td>9.0</td>\n      <td>0</td>\n    </tr>\n    <tr>\n      <th>...</th>\n      <td>...</td>\n      <td>...</td>\n      <td>...</td>\n      <td>...</td>\n      <td>...</td>\n      <td>...</td>\n      <td>...</td>\n      <td>...</td>\n      <td>...</td>\n      <td>...</td>\n      <td>...</td>\n      <td>...</td>\n    </tr>\n    <tr>\n      <th>4493</th>\n      <td>7.6</td>\n      <td>0.20</td>\n      <td>0.30</td>\n      <td>14.2</td>\n      <td>0.056</td>\n      <td>53.0</td>\n      <td>212.5</td>\n      <td>0.9990</td>\n      <td>3.14</td>\n      <td>0.46</td>\n      <td>8.9</td>\n      <td>2</td>\n    </tr>\n    <tr>\n      <th>4494</th>\n      <td>7.6</td>\n      <td>0.20</td>\n      <td>0.30</td>\n      <td>14.2</td>\n      <td>0.056</td>\n      <td>53.0</td>\n      <td>212.5</td>\n      <td>0.9990</td>\n      <td>3.14</td>\n      <td>0.46</td>\n      <td>8.9</td>\n      <td>2</td>\n    </tr>\n    <tr>\n      <th>4495</th>\n      <td>7.6</td>\n      <td>0.20</td>\n      <td>0.30</td>\n      <td>14.2</td>\n      <td>0.056</td>\n      <td>53.0</td>\n      <td>212.5</td>\n      <td>0.9990</td>\n      <td>3.14</td>\n      <td>0.46</td>\n      <td>8.9</td>\n      <td>2</td>\n    </tr>\n    <tr>\n      <th>4496</th>\n      <td>7.6</td>\n      <td>0.20</td>\n      <td>0.30</td>\n      <td>14.2</td>\n      <td>0.056</td>\n      <td>53.0</td>\n      <td>212.5</td>\n      <td>0.9990</td>\n      <td>3.14</td>\n      <td>0.46</td>\n      <td>8.9</td>\n      <td>2</td>\n    </tr>\n    <tr>\n      <th>4497</th>\n      <td>7.6</td>\n      <td>0.20</td>\n      <td>0.30</td>\n      <td>14.2</td>\n      <td>0.056</td>\n      <td>53.0</td>\n      <td>212.5</td>\n      <td>0.9990</td>\n      <td>3.14</td>\n      <td>0.46</td>\n      <td>8.9</td>\n      <td>2</td>\n    </tr>\n  </tbody>\n</table>\n<p>4498 rows × 12 columns</p>\n</div>"
     },
     "execution_count": 2,
     "metadata": {},
     "output_type": "execute_result"
    }
   ],
   "source": [
    "df = pd.read_csv(\"Data/winequality-white_modified.csv\",sep=';')\n",
    "df"
   ],
   "metadata": {
    "collapsed": false,
    "ExecuteTime": {
     "start_time": "2023-06-09T09:20:44.431891Z",
     "end_time": "2023-06-09T09:20:44.467081Z"
    }
   }
  },
  {
   "cell_type": "code",
   "execution_count": 3,
   "outputs": [
    {
     "data": {
      "text/plain": "4498"
     },
     "execution_count": 3,
     "metadata": {},
     "output_type": "execute_result"
    }
   ],
   "source": [
    "df.shape[0]"
   ],
   "metadata": {
    "collapsed": false,
    "ExecuteTime": {
     "start_time": "2023-06-09T09:21:01.699348Z",
     "end_time": "2023-06-09T09:21:01.703425Z"
    }
   }
  },
  {
   "cell_type": "code",
   "execution_count": 6,
   "outputs": [
    {
     "data": {
      "text/plain": "fixed acidity           0\nvolatile acidity        0\ncitric acid             0\nresidual sugar          0\nchlorides               0\nfree sulfur dioxide     0\ntotal sulfur dioxide    0\ndensity                 0\npH                      0\nsulphates               0\nalcohol                 0\nquality                 0\ndtype: int64"
     },
     "execution_count": 6,
     "metadata": {},
     "output_type": "execute_result"
    }
   ],
   "source": [
    "df.isna().sum()"
   ],
   "metadata": {
    "collapsed": false,
    "ExecuteTime": {
     "start_time": "2023-06-09T09:21:57.681453Z",
     "end_time": "2023-06-09T09:21:57.684813Z"
    }
   }
  },
  {
   "cell_type": "code",
   "execution_count": 9,
   "outputs": [
    {
     "data": {
      "text/plain": "quality\n0    1440\n1    2098\n2     960\nName: pH, dtype: int64"
     },
     "execution_count": 9,
     "metadata": {},
     "output_type": "execute_result"
    }
   ],
   "source": [
    "df.groupby(\"quality\")[\"pH\"].count()"
   ],
   "metadata": {
    "collapsed": false,
    "ExecuteTime": {
     "start_time": "2023-06-09T09:23:13.999368Z",
     "end_time": "2023-06-09T09:23:14.004567Z"
    }
   }
  },
  {
   "cell_type": "code",
   "execution_count": 13,
   "outputs": [
    {
     "data": {
      "text/plain": "<AxesSubplot:>"
     },
     "execution_count": 13,
     "metadata": {},
     "output_type": "execute_result"
    },
    {
     "data": {
      "text/plain": "<Figure size 640x480 with 1 Axes>",
      "image/png": "[encoded data removed]"
     },
     "metadata": {},
     "output_type": "display_data"
    }
   ],
   "source": [
    "df[\"alcohol\"].hist(bins=100)"
   ],
   "metadata": {
    "collapsed": false,
    "ExecuteTime": {
     "start_time": "2023-06-09T09:26:10.432672Z",
     "end_time": "2023-06-09T09:26:10.589558Z"
    }
   }
  },
  {
   "cell_type": "code",
   "execution_count": 14,
   "outputs": [
    {
     "data": {
      "text/plain": "<AxesSubplot:>"
     },
     "execution_count": 14,
     "metadata": {},
     "output_type": "execute_result"
    },
    {
     "data": {
      "text/plain": "<Figure size 640x480 with 1 Axes>",
      "image/png": "[encoded data removed]"
     },
     "metadata": {},
     "output_type": "display_data"
    }
   ],
   "source": [
    "df[\"density\"].hist(bins=100)"
   ],
   "metadata": {
    "collapsed": false,
    "ExecuteTime": {
     "start_time": "2023-06-09T09:26:19.042070Z",
     "end_time": "2023-06-09T09:26:19.199179Z"
    }
   }
  },
  {
   "cell_type": "code",
   "execution_count": 16,
   "outputs": [],
   "source": [
    "datas = []\n",
    "df_quality_1 = df.loc[df.quality == 1]\n",
    "datas.append(df_quality_1[\"alcohol\"])\n",
    "df_quality_0 = df.loc[df.quality == 0]\n",
    "datas.append(df_quality_0[\"alcohol\"])\n",
    "df_quality_2 = df.loc[df.quality == 2]\n",
    "datas.append(df_quality_2[\"alcohol\"])"
   ],
   "metadata": {
    "collapsed": false,
    "ExecuteTime": {
     "start_time": "2023-06-09T09:31:00.135797Z",
     "end_time": "2023-06-09T09:31:00.140878Z"
    }
   }
  },
  {
   "cell_type": "code",
   "execution_count": 18,
   "outputs": [
    {
     "data": {
      "text/plain": "<matplotlib.legend.Legend at 0x7fa6521af5e0>"
     },
     "execution_count": 18,
     "metadata": {},
     "output_type": "execute_result"
    },
    {
     "data": {
      "text/plain": "<Figure size 640x480 with 1 Axes>",
      "image/png": "[encoded data removed]"
     },
     "metadata": {},
     "output_type": "display_data"
    }
   ],
   "source": [
    "import matplotlib.pyplot as plt\n",
    "plt.hist(datas, bins=50,color=['g','r','y'],label=['quality 1 ','quality 0','quality 2'])\n",
    "plt.xlabel(\"X-axis\")\n",
    "plt.ylabel(\"Y-axis\")\n",
    "plt.title(\"Distribuzione della gradazione di alcol per qualità\")\n",
    "plt.legend()"
   ],
   "metadata": {
    "collapsed": false,
    "ExecuteTime": {
     "start_time": "2023-06-09T09:32:30.823080Z",
     "end_time": "2023-06-09T09:32:31.078018Z"
    }
   }
  },
  {
   "cell_type": "markdown",
   "source": [
    "# Es 2:\n",
    "Selezionare il modello KNN e valutare un dataset rispetto a un training che si\n",
    "compone di 2/3 delle istanze. Comparare I risultati di accuratezza ottenuti\n",
    "con un 10 cross fold validation. Comparare con uno stimatore dummy con\n",
    "strategia most_frequent. Visualizzare la confusion matrix per vedere se\n",
    "l’errore è localizzato in una classe particolare"
   ],
   "metadata": {
    "collapsed": false
   }
  },
  {
   "cell_type": "code",
   "execution_count": 26,
   "outputs": [],
   "source": [
    "new_df = df.copy()"
   ],
   "metadata": {
    "collapsed": false,
    "ExecuteTime": {
     "start_time": "2023-06-09T09:56:22.537459Z",
     "end_time": "2023-06-09T09:56:22.540965Z"
    }
   }
  },
  {
   "cell_type": "code",
   "execution_count": 28,
   "outputs": [],
   "source": [
    "from sklearn.neighbors import  KNeighborsClassifier\n",
    "from sklearn.dummy import  DummyClassifier\n",
    "from sklearn.model_selection import train_test_split,cross_val_score\n",
    "y = new_df[\"quality\"]\n",
    "new_df.drop(\"quality\", axis=1, inplace=True)\n",
    "\n",
    "X_train, X_test, y_train, y_test = train_test_split(new_df, y, test_size=1/3, random_state=0)"
   ],
   "metadata": {
    "collapsed": false,
    "ExecuteTime": {
     "start_time": "2023-06-09T09:56:58.918316Z",
     "end_time": "2023-06-09T09:56:58.922241Z"
    }
   }
  },
  {
   "cell_type": "code",
   "execution_count": 29,
   "outputs": [],
   "source": [
    "from sklearn.metrics import  accuracy_score\n",
    "from sklearn.metrics import confusion_matrix\n",
    "\n",
    "def test_model(name ,model,train_data, test_data, train_labels, test_labels):\n",
    "    model.fit(train_data,train_labels)\n",
    "    train_preds = model.predict(train_data)\n",
    "    test_preds = model.predict(test_data)\n",
    "    print(f\" ===== {name} =====\")\n",
    "    print(f\"Accuracy on train {accuracy_score(train_labels, train_preds)}\")\n",
    "    print(f\"Accuracy on test {accuracy_score(test_labels, test_preds)}\")\n",
    "    print(\"Confusion matrix on test\")\n",
    "    print(confusion_matrix(test_labels, test_preds))\n"
   ],
   "metadata": {
    "collapsed": false,
    "ExecuteTime": {
     "start_time": "2023-06-09T09:57:24.152972Z",
     "end_time": "2023-06-09T09:57:24.163573Z"
    }
   }
  },
  {
   "cell_type": "code",
   "execution_count": 32,
   "outputs": [
    {
     "name": "stdout",
     "output_type": "stream",
     "text": [
      "Accuracy  of Cross validate KNN:  0.4522024251422915\n",
      "[0.42666667 0.45777778 0.43555556 0.47555556 0.43777778 0.46\n",
      " 0.46666667 0.45111111 0.48552339 0.42538976]\n",
      "=======================\n",
      " ===== KNN =====\n",
      "Accuracy on train 0.6727818545697132\n",
      "Accuracy on test 0.4846666666666667\n",
      "Confusion matrix on test\n",
      "[[236 226  35]\n",
      " [201 398  83]\n",
      " [ 58 170  93]]\n",
      " ===== dummy =====\n",
      "Accuracy on train 0.4723148765843896\n",
      "Accuracy on test 0.45466666666666666\n",
      "Confusion matrix on test\n",
      "[[  0 497   0]\n",
      " [  0 682   0]\n",
      " [  0 321   0]]\n"
     ]
    }
   ],
   "source": [
    "def warn(*args, **kwargs):\n",
    "    pass\n",
    "import warnings\n",
    "warnings.warn = warn\n",
    "\n",
    "\n",
    "classifiers = [KNeighborsClassifier(), DummyClassifier(strategy=\"most_frequent\")]\n",
    "names = [\"KNN\", \"dummy\"]\n",
    "\n",
    "scores = cross_val_score(classifiers[0], new_df, y, cv=10)\n",
    "print(f\"Accuracy  of Cross validate KNN: \",scores.mean())\n",
    "print(scores)\n",
    "print(\"=======================\")\n",
    "\n",
    "\n",
    "for model,name in zip(classifiers,names):\n",
    "    test_model(name,model, X_train, X_test, y_train, y_test)"
   ],
   "metadata": {
    "collapsed": false,
    "ExecuteTime": {
     "start_time": "2023-06-09T10:02:46.312947Z",
     "end_time": "2023-06-09T10:02:46.567078Z"
    }
   }
  },
  {
   "cell_type": "markdown",
   "source": [
    "I vini di qualità 2 sono i più difficile da predire corettamente"
   ],
   "metadata": {
    "collapsed": false
   }
  },
  {
   "cell_type": "markdown",
   "source": [
    "# Es 3:\n",
    "Scalare tutte le variabili in modo che siano in un intervallo 0-1 e normalizzare\n",
    "usando la funzione normalizer. Verificare se il nuovo setting migliora i\n",
    "risultati, rispetto il train/test split precedente."
   ],
   "metadata": {
    "collapsed": false
   }
  },
  {
   "cell_type": "code",
   "execution_count": 33,
   "outputs": [],
   "source": [
    "from sklearn.preprocessing import  Normalizer\n",
    "from sklearn.preprocessing import MinMaxScaler\n",
    "\n",
    "scaler = MinMaxScaler()\n",
    "normalizer = Normalizer()\n",
    "\n",
    "df_scaled = scaler.fit_transform(new_df)"
   ],
   "metadata": {
    "collapsed": false,
    "ExecuteTime": {
     "start_time": "2023-06-09T10:08:32.419258Z",
     "end_time": "2023-06-09T10:08:32.431587Z"
    }
   }
  },
  {
   "cell_type": "code",
   "execution_count": 35,
   "outputs": [
    {
     "data": {
      "text/plain": "array([[0.24539319, 0.21147255, 0.11786757, ..., 0.46401621, 0.3758891 ,\n        0.20581364],\n       [0.15915897, 0.16152959, 0.12690879, ..., 0.66346929, 0.4286861 ,\n        0.24270576],\n       [0.45693422, 0.23864989, 0.23060804, ..., 0.492012  , 0.19953975,\n        0.31936263],\n       ...,\n       [0.35321319, 0.13107644, 0.17470278, ..., 0.36909933, 0.2697736 ,\n        0.14032578],\n       [0.35321319, 0.13107644, 0.17470278, ..., 0.36909933, 0.2697736 ,\n        0.14032578],\n       [0.35321319, 0.13107644, 0.17470278, ..., 0.36909933, 0.2697736 ,\n        0.14032578]])"
     },
     "execution_count": 35,
     "metadata": {},
     "output_type": "execute_result"
    }
   ],
   "source": [
    "df_norma = normalizer.fit_transform(df_scaled)\n",
    "df_norma"
   ],
   "metadata": {
    "collapsed": false,
    "ExecuteTime": {
     "start_time": "2023-06-09T10:09:14.919821Z",
     "end_time": "2023-06-09T10:09:14.927402Z"
    }
   }
  },
  {
   "cell_type": "code",
   "execution_count": 36,
   "outputs": [
    {
     "name": "stdout",
     "output_type": "stream",
     "text": [
      "Accuracy  of Cross validate KNN:  0.524243999010146\n",
      "[0.47777778 0.50222222 0.51555556 0.49555556 0.52666667 0.52888889\n",
      " 0.53555556 0.56222222 0.59910913 0.49888641]\n",
      "=======================\n",
      " ===== KNN =====\n",
      "Accuracy on train 0.7194796531020681\n",
      "Accuracy on test 0.6\n",
      "Confusion matrix on test\n",
      "[[307 172  18]\n",
      " [151 425 106]\n",
      " [ 17 136 168]]\n",
      " ===== dummy =====\n",
      "Accuracy on train 0.4723148765843896\n",
      "Accuracy on test 0.45466666666666666\n",
      "Confusion matrix on test\n",
      "[[  0 497   0]\n",
      " [  0 682   0]\n",
      " [  0 321   0]]\n"
     ]
    }
   ],
   "source": [
    "X_train, X_test, y_train, y_test = train_test_split(df_norma, y, test_size=1/3, random_state=0)\n",
    "\n",
    "scores = cross_val_score(classifiers[0], df_norma, y, cv=10)\n",
    "print(f\"Accuracy  of Cross validate KNN: \",scores.mean())\n",
    "print(scores)\n",
    "print(\"=======================\")\n",
    "\n",
    "\n",
    "for model,name in zip(classifiers,names):\n",
    "    test_model(name,model, X_train, X_test, y_train, y_test)"
   ],
   "metadata": {
    "collapsed": false,
    "ExecuteTime": {
     "start_time": "2023-06-09T10:10:12.484239Z",
     "end_time": "2023-06-09T10:10:12.919613Z"
    }
   }
  },
  {
   "cell_type": "markdown",
   "source": [
    "# Es 4:\n",
    "Provare alcune configurazioni di numero di neighbors e di weights per cercare\n",
    "di migliorare i risultati"
   ],
   "metadata": {
    "collapsed": false
   }
  },
  {
   "cell_type": "code",
   "execution_count": 37,
   "outputs": [
    {
     "name": "stdout",
     "output_type": "stream",
     "text": [
      " ===== GridSearch  KNN =====\n",
      "Accuracy on train 1.0\n",
      "Accuracy on test 0.68\n",
      "Confusion matrix on test\n",
      "[[324 161  12]\n",
      " [ 92 506  84]\n",
      " [  5 126 190]]\n"
     ]
    }
   ],
   "source": [
    "from sklearn.model_selection import GridSearchCV\n",
    "\n",
    "params = {\"n_neighbors\": [3,5,10,20], \"weights\" : (\"uniform\", \"distance\")}\n",
    "\n",
    "gs = GridSearchCV(classifiers[0],params)\n",
    "\n",
    "test_model(\"GridSearch  KNN\",gs, X_train, X_test, y_train, y_test)"
   ],
   "metadata": {
    "collapsed": false,
    "ExecuteTime": {
     "start_time": "2023-06-09T10:21:15.941594Z",
     "end_time": "2023-06-09T10:21:17.007119Z"
    }
   }
  },
  {
   "cell_type": "code",
   "execution_count": 38,
   "outputs": [
    {
     "data": {
      "text/plain": "{'n_neighbors': 20, 'weights': 'distance'}"
     },
     "execution_count": 38,
     "metadata": {},
     "output_type": "execute_result"
    }
   ],
   "source": [
    "gs.best_params_"
   ],
   "metadata": {
    "collapsed": false,
    "ExecuteTime": {
     "start_time": "2023-06-09T10:21:23.088499Z",
     "end_time": "2023-06-09T10:21:23.104802Z"
    }
   }
  },
  {
   "cell_type": "code",
   "execution_count": 39,
   "outputs": [
    {
     "name": "stdout",
     "output_type": "stream",
     "text": [
      " ===== KNN with best params =====\n",
      "Accuracy on train 1.0\n",
      "Accuracy on test 0.68\n",
      "Confusion matrix on test\n",
      "[[324 161  12]\n",
      " [ 92 506  84]\n",
      " [  5 126 190]]\n"
     ]
    }
   ],
   "source": [
    "classifiers[0].set_params(**gs.best_params_)\n",
    "\n",
    "test_model(\"KNN with best params\",classifiers[0], X_train, X_test, y_train, y_test)"
   ],
   "metadata": {
    "collapsed": false,
    "ExecuteTime": {
     "start_time": "2023-06-09T10:24:10.982415Z",
     "end_time": "2023-06-09T10:24:11.146138Z"
    }
   }
  },
  {
   "cell_type": "markdown",
   "source": [
    "# Es 5:\n",
    "Provare il modello ottenuto sul file winequality-white_modified_production e\n",
    "valutare i risultati ottenuti\n",
    "Extra fare una pipeline con questo modello"
   ],
   "metadata": {
    "collapsed": false
   }
  },
  {
   "cell_type": "code",
   "execution_count": 40,
   "outputs": [
    {
     "data": {
      "text/plain": "     fixed acidity  volatile acidity  citric acid  residual sugar  chlorides  \\\n0              6.3              0.41         0.18             3.5      0.027   \n1              6.8              0.37         0.28             1.9      0.024   \n2              7.7              0.40         0.27             4.5      0.034   \n3              6.9              0.15         0.28             4.4      0.029   \n4              6.9              0.15         0.28             4.4      0.029   \n..             ...               ...          ...             ...        ...   \n395            6.9              0.19         0.35             5.0      0.067   \n396            7.0              0.47         0.07             1.1      0.035   \n397            6.2              0.35         0.03             1.2      0.064   \n398            6.7              0.25         0.13             1.2      0.041   \n399            7.4              0.24         0.29            10.1      0.050   \n\n     free sulfur dioxide  total sulfur dioxide  density    pH  sulphates  \\\n0                   23.0                 109.0  0.99018  3.34       0.54   \n1                   64.0                 106.0  0.98993  3.45       0.60   \n2                   27.0                  95.0  0.99175  3.21       0.59   \n3                   14.0                 107.0  0.99347  3.24       0.46   \n4                   14.0                 107.0  0.99347  3.24       0.46   \n..                   ...                   ...      ...   ...        ...   \n395                 32.0                 150.0  0.99500  3.36       0.48   \n396                 17.0                 151.0  0.99100  3.02       0.34   \n397                 29.0                 120.0  0.99340  3.22       0.54   \n398                 81.0                 174.0  0.99200  3.14       0.42   \n399                 21.0                 105.0  0.99620  3.13       0.35   \n\n     alcohol  quality  \n0       12.8        2  \n1       12.6        2  \n2       12.3        2  \n3       10.4        2  \n4       10.4        2  \n..       ...      ...  \n395      9.8        0  \n396     10.5        0  \n397      9.1        0  \n398      9.8        0  \n399      9.5        0  \n\n[400 rows x 12 columns]",
      "text/html": "<div>\n<style scoped>\n    .dataframe tbody tr th:only-of-type {\n        vertical-align: middle;\n    }\n\n    .dataframe tbody tr th {\n        vertical-align: top;\n    }\n\n    .dataframe thead th {\n        text-align: right;\n    }\n</style>\n<table border=\"1\" class=\"dataframe\">\n  <thead>\n    <tr style=\"text-align: right;\">\n      <th></th>\n      <th>fixed acidity</th>\n      <th>volatile acidity</th>\n      <th>citric acid</th>\n      <th>residual sugar</th>\n      <th>chlorides</th>\n      <th>free sulfur dioxide</th>\n      <th>total sulfur dioxide</th>\n      <th>density</th>\n      <th>pH</th>\n      <th>sulphates</th>\n      <th>alcohol</th>\n      <th>quality</th>\n    </tr>\n  </thead>\n  <tbody>\n    <tr>\n      <th>0</th>\n      <td>6.3</td>\n      <td>0.41</td>\n      <td>0.18</td>\n      <td>3.5</td>\n      <td>0.027</td>\n      <td>23.0</td>\n      <td>109.0</td>\n      <td>0.99018</td>\n      <td>3.34</td>\n      <td>0.54</td>\n      <td>12.8</td>\n      <td>2</td>\n    </tr>\n    <tr>\n      <th>1</th>\n      <td>6.8</td>\n      <td>0.37</td>\n      <td>0.28</td>\n      <td>1.9</td>\n      <td>0.024</td>\n      <td>64.0</td>\n      <td>106.0</td>\n      <td>0.98993</td>\n      <td>3.45</td>\n      <td>0.60</td>\n      <td>12.6</td>\n      <td>2</td>\n    </tr>\n    <tr>\n      <th>2</th>\n      <td>7.7</td>\n      <td>0.40</td>\n      <td>0.27</td>\n      <td>4.5</td>\n      <td>0.034</td>\n      <td>27.0</td>\n      <td>95.0</td>\n      <td>0.99175</td>\n      <td>3.21</td>\n      <td>0.59</td>\n      <td>12.3</td>\n      <td>2</td>\n    </tr>\n    <tr>\n      <th>3</th>\n      <td>6.9</td>\n      <td>0.15</td>\n      <td>0.28</td>\n      <td>4.4</td>\n      <td>0.029</td>\n      <td>14.0</td>\n      <td>107.0</td>\n      <td>0.99347</td>\n      <td>3.24</td>\n      <td>0.46</td>\n      <td>10.4</td>\n      <td>2</td>\n    </tr>\n    <tr>\n      <th>4</th>\n      <td>6.9</td>\n      <td>0.15</td>\n      <td>0.28</td>\n      <td>4.4</td>\n      <td>0.029</td>\n      <td>14.0</td>\n      <td>107.0</td>\n      <td>0.99347</td>\n      <td>3.24</td>\n      <td>0.46</td>\n      <td>10.4</td>\n      <td>2</td>\n    </tr>\n    <tr>\n      <th>...</th>\n      <td>...</td>\n      <td>...</td>\n      <td>...</td>\n      <td>...</td>\n      <td>...</td>\n      <td>...</td>\n      <td>...</td>\n      <td>...</td>\n      <td>...</td>\n      <td>...</td>\n      <td>...</td>\n      <td>...</td>\n    </tr>\n    <tr>\n      <th>395</th>\n      <td>6.9</td>\n      <td>0.19</td>\n      <td>0.35</td>\n      <td>5.0</td>\n      <td>0.067</td>\n      <td>32.0</td>\n      <td>150.0</td>\n      <td>0.99500</td>\n      <td>3.36</td>\n      <td>0.48</td>\n      <td>9.8</td>\n      <td>0</td>\n    </tr>\n    <tr>\n      <th>396</th>\n      <td>7.0</td>\n      <td>0.47</td>\n      <td>0.07</td>\n      <td>1.1</td>\n      <td>0.035</td>\n      <td>17.0</td>\n      <td>151.0</td>\n      <td>0.99100</td>\n      <td>3.02</td>\n      <td>0.34</td>\n      <td>10.5</td>\n      <td>0</td>\n    </tr>\n    <tr>\n      <th>397</th>\n      <td>6.2</td>\n      <td>0.35</td>\n      <td>0.03</td>\n      <td>1.2</td>\n      <td>0.064</td>\n      <td>29.0</td>\n      <td>120.0</td>\n      <td>0.99340</td>\n      <td>3.22</td>\n      <td>0.54</td>\n      <td>9.1</td>\n      <td>0</td>\n    </tr>\n    <tr>\n      <th>398</th>\n      <td>6.7</td>\n      <td>0.25</td>\n      <td>0.13</td>\n      <td>1.2</td>\n      <td>0.041</td>\n      <td>81.0</td>\n      <td>174.0</td>\n      <td>0.99200</td>\n      <td>3.14</td>\n      <td>0.42</td>\n      <td>9.8</td>\n      <td>0</td>\n    </tr>\n    <tr>\n      <th>399</th>\n      <td>7.4</td>\n      <td>0.24</td>\n      <td>0.29</td>\n      <td>10.1</td>\n      <td>0.050</td>\n      <td>21.0</td>\n      <td>105.0</td>\n      <td>0.99620</td>\n      <td>3.13</td>\n      <td>0.35</td>\n      <td>9.5</td>\n      <td>0</td>\n    </tr>\n  </tbody>\n</table>\n<p>400 rows × 12 columns</p>\n</div>"
     },
     "execution_count": 40,
     "metadata": {},
     "output_type": "execute_result"
    }
   ],
   "source": [
    "df_production = pd.read_csv(\"Data/winequality-white_modified_production.csv\",sep=\";\")\n",
    "df_production"
   ],
   "metadata": {
    "collapsed": false,
    "ExecuteTime": {
     "start_time": "2023-06-09T10:25:56.939823Z",
     "end_time": "2023-06-09T10:25:56.959641Z"
    }
   }
  },
  {
   "cell_type": "code",
   "execution_count": 41,
   "outputs": [
    {
     "data": {
      "text/plain": "     fixed acidity  volatile acidity  citric acid  residual sugar  chlorides  \\\n0              6.3              0.41         0.18             3.5      0.027   \n1              6.8              0.37         0.28             1.9      0.024   \n2              7.7              0.40         0.27             4.5      0.034   \n3              6.9              0.15         0.28             4.4      0.029   \n4              6.9              0.15         0.28             4.4      0.029   \n..             ...               ...          ...             ...        ...   \n395            6.9              0.19         0.35             5.0      0.067   \n396            7.0              0.47         0.07             1.1      0.035   \n397            6.2              0.35         0.03             1.2      0.064   \n398            6.7              0.25         0.13             1.2      0.041   \n399            7.4              0.24         0.29            10.1      0.050   \n\n     free sulfur dioxide  total sulfur dioxide  density    pH  sulphates  \\\n0                   23.0                 109.0  0.99018  3.34       0.54   \n1                   64.0                 106.0  0.98993  3.45       0.60   \n2                   27.0                  95.0  0.99175  3.21       0.59   \n3                   14.0                 107.0  0.99347  3.24       0.46   \n4                   14.0                 107.0  0.99347  3.24       0.46   \n..                   ...                   ...      ...   ...        ...   \n395                 32.0                 150.0  0.99500  3.36       0.48   \n396                 17.0                 151.0  0.99100  3.02       0.34   \n397                 29.0                 120.0  0.99340  3.22       0.54   \n398                 81.0                 174.0  0.99200  3.14       0.42   \n399                 21.0                 105.0  0.99620  3.13       0.35   \n\n     alcohol  \n0       12.8  \n1       12.6  \n2       12.3  \n3       10.4  \n4       10.4  \n..       ...  \n395      9.8  \n396     10.5  \n397      9.1  \n398      9.8  \n399      9.5  \n\n[400 rows x 11 columns]",
      "text/html": "<div>\n<style scoped>\n    .dataframe tbody tr th:only-of-type {\n        vertical-align: middle;\n    }\n\n    .dataframe tbody tr th {\n        vertical-align: top;\n    }\n\n    .dataframe thead th {\n        text-align: right;\n    }\n</style>\n<table border=\"1\" class=\"dataframe\">\n  <thead>\n    <tr style=\"text-align: right;\">\n      <th></th>\n      <th>fixed acidity</th>\n      <th>volatile acidity</th>\n      <th>citric acid</th>\n      <th>residual sugar</th>\n      <th>chlorides</th>\n      <th>free sulfur dioxide</th>\n      <th>total sulfur dioxide</th>\n      <th>density</th>\n      <th>pH</th>\n      <th>sulphates</th>\n      <th>alcohol</th>\n    </tr>\n  </thead>\n  <tbody>\n    <tr>\n      <th>0</th>\n      <td>6.3</td>\n      <td>0.41</td>\n      <td>0.18</td>\n      <td>3.5</td>\n      <td>0.027</td>\n      <td>23.0</td>\n      <td>109.0</td>\n      <td>0.99018</td>\n      <td>3.34</td>\n      <td>0.54</td>\n      <td>12.8</td>\n    </tr>\n    <tr>\n      <th>1</th>\n      <td>6.8</td>\n      <td>0.37</td>\n      <td>0.28</td>\n      <td>1.9</td>\n      <td>0.024</td>\n      <td>64.0</td>\n      <td>106.0</td>\n      <td>0.98993</td>\n      <td>3.45</td>\n      <td>0.60</td>\n      <td>12.6</td>\n    </tr>\n    <tr>\n      <th>2</th>\n      <td>7.7</td>\n      <td>0.40</td>\n      <td>0.27</td>\n      <td>4.5</td>\n      <td>0.034</td>\n      <td>27.0</td>\n      <td>95.0</td>\n      <td>0.99175</td>\n      <td>3.21</td>\n      <td>0.59</td>\n      <td>12.3</td>\n    </tr>\n    <tr>\n      <th>3</th>\n      <td>6.9</td>\n      <td>0.15</td>\n      <td>0.28</td>\n      <td>4.4</td>\n      <td>0.029</td>\n      <td>14.0</td>\n      <td>107.0</td>\n      <td>0.99347</td>\n      <td>3.24</td>\n      <td>0.46</td>\n      <td>10.4</td>\n    </tr>\n    <tr>\n      <th>4</th>\n      <td>6.9</td>\n      <td>0.15</td>\n      <td>0.28</td>\n      <td>4.4</td>\n      <td>0.029</td>\n      <td>14.0</td>\n      <td>107.0</td>\n      <td>0.99347</td>\n      <td>3.24</td>\n      <td>0.46</td>\n      <td>10.4</td>\n    </tr>\n    <tr>\n      <th>...</th>\n      <td>...</td>\n      <td>...</td>\n      <td>...</td>\n      <td>...</td>\n      <td>...</td>\n      <td>...</td>\n      <td>...</td>\n      <td>...</td>\n      <td>...</td>\n      <td>...</td>\n      <td>...</td>\n    </tr>\n    <tr>\n      <th>395</th>\n      <td>6.9</td>\n      <td>0.19</td>\n      <td>0.35</td>\n      <td>5.0</td>\n      <td>0.067</td>\n      <td>32.0</td>\n      <td>150.0</td>\n      <td>0.99500</td>\n      <td>3.36</td>\n      <td>0.48</td>\n      <td>9.8</td>\n    </tr>\n    <tr>\n      <th>396</th>\n      <td>7.0</td>\n      <td>0.47</td>\n      <td>0.07</td>\n      <td>1.1</td>\n      <td>0.035</td>\n      <td>17.0</td>\n      <td>151.0</td>\n      <td>0.99100</td>\n      <td>3.02</td>\n      <td>0.34</td>\n      <td>10.5</td>\n    </tr>\n    <tr>\n      <th>397</th>\n      <td>6.2</td>\n      <td>0.35</td>\n      <td>0.03</td>\n      <td>1.2</td>\n      <td>0.064</td>\n      <td>29.0</td>\n      <td>120.0</td>\n      <td>0.99340</td>\n      <td>3.22</td>\n      <td>0.54</td>\n      <td>9.1</td>\n    </tr>\n    <tr>\n      <th>398</th>\n      <td>6.7</td>\n      <td>0.25</td>\n      <td>0.13</td>\n      <td>1.2</td>\n      <td>0.041</td>\n      <td>81.0</td>\n      <td>174.0</td>\n      <td>0.99200</td>\n      <td>3.14</td>\n      <td>0.42</td>\n      <td>9.8</td>\n    </tr>\n    <tr>\n      <th>399</th>\n      <td>7.4</td>\n      <td>0.24</td>\n      <td>0.29</td>\n      <td>10.1</td>\n      <td>0.050</td>\n      <td>21.0</td>\n      <td>105.0</td>\n      <td>0.99620</td>\n      <td>3.13</td>\n      <td>0.35</td>\n      <td>9.5</td>\n    </tr>\n  </tbody>\n</table>\n<p>400 rows × 11 columns</p>\n</div>"
     },
     "execution_count": 41,
     "metadata": {},
     "output_type": "execute_result"
    }
   ],
   "source": [
    "y = df_production.quality\n",
    "X  = df_production.drop(\"quality\",axis=1)\n",
    "X"
   ],
   "metadata": {
    "collapsed": false,
    "ExecuteTime": {
     "start_time": "2023-06-09T10:26:55.865005Z",
     "end_time": "2023-06-09T10:26:55.871995Z"
    }
   }
  },
  {
   "cell_type": "code",
   "execution_count": 42,
   "outputs": [
    {
     "name": "stdout",
     "output_type": "stream",
     "text": [
      "[Pipeline] ............ (step 1 of 2) Processing scaler, total=   0.0s\n",
      "[Pipeline] ............. (step 2 of 2) Processing norma, total=   0.0s\n",
      "[Pipeline] ..... (step 1 of 2) Processing preporcessing, total=   0.0s\n",
      "[Pipeline] ............. (step 2 of 2) Processing model, total=   0.0s\n",
      " ===== KNN model in production =====\n",
      "Accuracy on train 1.0\n",
      "Accuracy on test 0.7910447761194029\n",
      "Confusion matrix on test\n",
      "[[50  6  9]\n",
      " [ 2 25  6]\n",
      " [ 1  4 31]]\n"
     ]
    }
   ],
   "source": [
    "from sklearn.pipeline import Pipeline\n",
    "\n",
    "model_knn = KNeighborsClassifier(n_neighbors=20,weights=\"distance\")\n",
    "\n",
    "pipeline_trasform = Pipeline(steps=[(\"scaler\",scaler),(\"norma\",normalizer)],verbose=True)\n",
    "\n",
    "my_pipeline = Pipeline(steps=[(\"preporcessing\",pipeline_trasform), (\"model\",model_knn)],verbose=True)\n",
    "\n",
    "X_train, X_test, y_train, y_test = train_test_split(X, y, test_size=1/3, random_state=0)\n",
    "\n",
    "test_model(\"KNN model in production\",my_pipeline, X_train, X_test, y_train, y_test)"
   ],
   "metadata": {
    "collapsed": false,
    "ExecuteTime": {
     "start_time": "2023-06-09T10:30:13.962912Z",
     "end_time": "2023-06-09T10:30:13.981029Z"
    }
   }
  },
  {
   "cell_type": "code",
   "execution_count": null,
   "outputs": [],
   "source": [],
   "metadata": {
    "collapsed": false
   }
  }
 ],
 "metadata": {
  "kernelspec": {
   "display_name": "Python 3",
   "language": "python",
   "name": "python3"
  },
  "language_info": {
   "codemirror_mode": {
    "name": "ipython",
    "version": 2
   },
   "file_extension": ".py",
   "mimetype": "text/x-python",
   "name": "python",
   "nbconvert_exporter": "python",
   "pygments_lexer": "ipython2",
   "version": "2.7.6"
  }
 },
 "nbformat": 4,
 "nbformat_minor": 0
}
