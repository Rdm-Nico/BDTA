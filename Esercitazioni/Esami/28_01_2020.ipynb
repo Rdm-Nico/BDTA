{
 "cells": [
  {
   "cell_type": "markdown",
   "source": [
    "# Esame del 28/01/2020\n",
    "Il datataset weather_train.csv (preso da kaggle -- https://www.kaggle.com/nicholasjhana/energyconsumption-generation-prices-and-weather) contiene dati relativi a rilevazioni meteo registrate\n",
    "in città spagnole una volta al giorno secondo il seguente schema:\n",
    "'dt_iso', 'city_name', 'temp', 'temp_min', 'temp_max', 'pressure', 'humidity', 'wind_speed',\n",
    "'wind_deg', 'rain_1h', 'rain_3h', 'snow_3h', ‘clouds_all', 'weather_id', 'weather_main',\n",
    "'weather_description', 'weather_icon'\n",
    "Il dataset è costituito da attributi con valori numerici e categorici.\n",
    "L’obiettivo è quello di prevedere il tempo complessivo di una giornata (valore della feature\n",
    "'weather_main') sulla base degli altri parametri."
   ],
   "metadata": {
    "collapsed": false
   }
  },
  {
   "cell_type": "markdown",
   "source": [
    "# Parte 1: Analisi"
   ],
   "metadata": {
    "collapsed": false
   }
  },
  {
   "cell_type": "markdown",
   "source": [
    "\n",
    "# 1.\n",
    "## Quanto sono le istanze contenute nel dataset ?\n",
    "Le istanze sono il numero di colonne che sono -> 158131\n",
    "\n",
    "## Il dataset è completo (cioè per ogni istanza tutti i valori di attributo sono sempre correttamente specificati – non esistono “missing values”)?\n",
    "Si non ci sono\n",
    "## Il dataset è bilanciato per quanto riguarda la classe da predire?\n",
    "Non proprio perché:\n",
    "- _cloud_ = 64130\n",
    "- _clear_ = 77750\n",
    "- _rain_ = 16251"
   ],
   "metadata": {
    "collapsed": false
   }
  },
  {
   "cell_type": "code",
   "execution_count": 8,
   "outputs": [
    {
     "data": {
      "text/plain": "                           dt_iso   city_name     temp  temp_min  temp_max  \\\n0       2016-05-26 09:00:00+02:00      Bilbao  288.420   285.150   290.930   \n1       2016-07-16 10:00:00+02:00      Madrid  299.037   299.037   299.037   \n2       2018-06-03 05:00:00+02:00      Madrid  285.150   285.150   285.150   \n3       2018-10-19 10:00:00+02:00    Valencia  289.150   289.150   289.150   \n4       2017-11-25 07:00:00+01:00     Seville  279.940   279.150   281.150   \n...                           ...         ...      ...       ...       ...   \n158126  2016-08-01 10:00:00+02:00      Madrid  297.760   293.710   305.050   \n158127  2017-10-12 00:00:00+02:00   Barcelona  292.830   291.150   294.150   \n158128  2015-11-09 16:00:00+01:00      Bilbao  292.810   292.810   292.810   \n158129  2016-02-25 05:00:00+01:00    Valencia  285.220   285.220   285.220   \n158130  2016-04-21 20:00:00+02:00   Barcelona  287.761   287.761   287.761   \n\n        pressure  humidity  wind_speed  wind_deg  rain_1h  rain_3h  snow_3h  \\\n0           1012        93           0         0      0.0      0.0      0.0   \n1            961        44           2        83      0.0      0.0      0.0   \n2           1017       100           0         0      0.0      0.0      0.0   \n3           1011       100           4       320      0.9      0.0      0.0   \n4           1019        81           0        50      0.0      0.0      0.0   \n...          ...       ...         ...       ...      ...      ...      ...   \n158126      1021        56           2        30      0.0      0.0      0.0   \n158127      1024        88           0       280      0.0      0.0      0.0   \n158128      1031        62           1        25      0.0      0.0      0.0   \n158129      1012        60           4       265      0.0      0.0      0.0   \n158130      1024       100           3        41      0.3      0.0      0.0   \n\n        clouds_all  weather_id weather_main weather_description weather_icon  \n0               75         803       clouds       broken clouds          04d  \n1                0         800        clear        sky is clear          01d  \n2               56         803       clouds       broken clouds          04n  \n3               75         521         rain         shower rain          09d  \n4                0         800        clear        sky is clear          01n  \n...            ...         ...          ...                 ...          ...  \n158126           0         800        clear        sky is clear          01d  \n158127           0         800        clear        sky is clear          01n  \n158128           0         800        clear        sky is clear           01  \n158129           0         800        clear        sky is clear           01  \n158130           0         500         rain          light rain          10d  \n\n[158131 rows x 17 columns]",
      "text/html": "<div>\n<style scoped>\n    .dataframe tbody tr th:only-of-type {\n        vertical-align: middle;\n    }\n\n    .dataframe tbody tr th {\n        vertical-align: top;\n    }\n\n    .dataframe thead th {\n        text-align: right;\n    }\n</style>\n<table border=\"1\" class=\"dataframe\">\n  <thead>\n    <tr style=\"text-align: right;\">\n      <th></th>\n      <th>dt_iso</th>\n      <th>city_name</th>\n      <th>temp</th>\n      <th>temp_min</th>\n      <th>temp_max</th>\n      <th>pressure</th>\n      <th>humidity</th>\n      <th>wind_speed</th>\n      <th>wind_deg</th>\n      <th>rain_1h</th>\n      <th>rain_3h</th>\n      <th>snow_3h</th>\n      <th>clouds_all</th>\n      <th>weather_id</th>\n      <th>weather_main</th>\n      <th>weather_description</th>\n      <th>weather_icon</th>\n    </tr>\n  </thead>\n  <tbody>\n    <tr>\n      <th>0</th>\n      <td>2016-05-26 09:00:00+02:00</td>\n      <td>Bilbao</td>\n      <td>288.420</td>\n      <td>285.150</td>\n      <td>290.930</td>\n      <td>1012</td>\n      <td>93</td>\n      <td>0</td>\n      <td>0</td>\n      <td>0.0</td>\n      <td>0.0</td>\n      <td>0.0</td>\n      <td>75</td>\n      <td>803</td>\n      <td>clouds</td>\n      <td>broken clouds</td>\n      <td>04d</td>\n    </tr>\n    <tr>\n      <th>1</th>\n      <td>2016-07-16 10:00:00+02:00</td>\n      <td>Madrid</td>\n      <td>299.037</td>\n      <td>299.037</td>\n      <td>299.037</td>\n      <td>961</td>\n      <td>44</td>\n      <td>2</td>\n      <td>83</td>\n      <td>0.0</td>\n      <td>0.0</td>\n      <td>0.0</td>\n      <td>0</td>\n      <td>800</td>\n      <td>clear</td>\n      <td>sky is clear</td>\n      <td>01d</td>\n    </tr>\n    <tr>\n      <th>2</th>\n      <td>2018-06-03 05:00:00+02:00</td>\n      <td>Madrid</td>\n      <td>285.150</td>\n      <td>285.150</td>\n      <td>285.150</td>\n      <td>1017</td>\n      <td>100</td>\n      <td>0</td>\n      <td>0</td>\n      <td>0.0</td>\n      <td>0.0</td>\n      <td>0.0</td>\n      <td>56</td>\n      <td>803</td>\n      <td>clouds</td>\n      <td>broken clouds</td>\n      <td>04n</td>\n    </tr>\n    <tr>\n      <th>3</th>\n      <td>2018-10-19 10:00:00+02:00</td>\n      <td>Valencia</td>\n      <td>289.150</td>\n      <td>289.150</td>\n      <td>289.150</td>\n      <td>1011</td>\n      <td>100</td>\n      <td>4</td>\n      <td>320</td>\n      <td>0.9</td>\n      <td>0.0</td>\n      <td>0.0</td>\n      <td>75</td>\n      <td>521</td>\n      <td>rain</td>\n      <td>shower rain</td>\n      <td>09d</td>\n    </tr>\n    <tr>\n      <th>4</th>\n      <td>2017-11-25 07:00:00+01:00</td>\n      <td>Seville</td>\n      <td>279.940</td>\n      <td>279.150</td>\n      <td>281.150</td>\n      <td>1019</td>\n      <td>81</td>\n      <td>0</td>\n      <td>50</td>\n      <td>0.0</td>\n      <td>0.0</td>\n      <td>0.0</td>\n      <td>0</td>\n      <td>800</td>\n      <td>clear</td>\n      <td>sky is clear</td>\n      <td>01n</td>\n    </tr>\n    <tr>\n      <th>...</th>\n      <td>...</td>\n      <td>...</td>\n      <td>...</td>\n      <td>...</td>\n      <td>...</td>\n      <td>...</td>\n      <td>...</td>\n      <td>...</td>\n      <td>...</td>\n      <td>...</td>\n      <td>...</td>\n      <td>...</td>\n      <td>...</td>\n      <td>...</td>\n      <td>...</td>\n      <td>...</td>\n      <td>...</td>\n    </tr>\n    <tr>\n      <th>158126</th>\n      <td>2016-08-01 10:00:00+02:00</td>\n      <td>Madrid</td>\n      <td>297.760</td>\n      <td>293.710</td>\n      <td>305.050</td>\n      <td>1021</td>\n      <td>56</td>\n      <td>2</td>\n      <td>30</td>\n      <td>0.0</td>\n      <td>0.0</td>\n      <td>0.0</td>\n      <td>0</td>\n      <td>800</td>\n      <td>clear</td>\n      <td>sky is clear</td>\n      <td>01d</td>\n    </tr>\n    <tr>\n      <th>158127</th>\n      <td>2017-10-12 00:00:00+02:00</td>\n      <td>Barcelona</td>\n      <td>292.830</td>\n      <td>291.150</td>\n      <td>294.150</td>\n      <td>1024</td>\n      <td>88</td>\n      <td>0</td>\n      <td>280</td>\n      <td>0.0</td>\n      <td>0.0</td>\n      <td>0.0</td>\n      <td>0</td>\n      <td>800</td>\n      <td>clear</td>\n      <td>sky is clear</td>\n      <td>01n</td>\n    </tr>\n    <tr>\n      <th>158128</th>\n      <td>2015-11-09 16:00:00+01:00</td>\n      <td>Bilbao</td>\n      <td>292.810</td>\n      <td>292.810</td>\n      <td>292.810</td>\n      <td>1031</td>\n      <td>62</td>\n      <td>1</td>\n      <td>25</td>\n      <td>0.0</td>\n      <td>0.0</td>\n      <td>0.0</td>\n      <td>0</td>\n      <td>800</td>\n      <td>clear</td>\n      <td>sky is clear</td>\n      <td>01</td>\n    </tr>\n    <tr>\n      <th>158129</th>\n      <td>2016-02-25 05:00:00+01:00</td>\n      <td>Valencia</td>\n      <td>285.220</td>\n      <td>285.220</td>\n      <td>285.220</td>\n      <td>1012</td>\n      <td>60</td>\n      <td>4</td>\n      <td>265</td>\n      <td>0.0</td>\n      <td>0.0</td>\n      <td>0.0</td>\n      <td>0</td>\n      <td>800</td>\n      <td>clear</td>\n      <td>sky is clear</td>\n      <td>01</td>\n    </tr>\n    <tr>\n      <th>158130</th>\n      <td>2016-04-21 20:00:00+02:00</td>\n      <td>Barcelona</td>\n      <td>287.761</td>\n      <td>287.761</td>\n      <td>287.761</td>\n      <td>1024</td>\n      <td>100</td>\n      <td>3</td>\n      <td>41</td>\n      <td>0.3</td>\n      <td>0.0</td>\n      <td>0.0</td>\n      <td>0</td>\n      <td>500</td>\n      <td>rain</td>\n      <td>light rain</td>\n      <td>10d</td>\n    </tr>\n  </tbody>\n</table>\n<p>158131 rows × 17 columns</p>\n</div>"
     },
     "execution_count": 8,
     "metadata": {},
     "output_type": "execute_result"
    }
   ],
   "source": [
    "import pandas as pd\n",
    "import numpy as np\n",
    "\n",
    "df = pd.read_csv(\"Data/weather_train.csv\")\n",
    "df"
   ],
   "metadata": {
    "collapsed": false,
    "ExecuteTime": {
     "start_time": "2023-05-29T21:48:34.546286Z",
     "end_time": "2023-05-29T21:48:34.733830Z"
    }
   }
  },
  {
   "cell_type": "code",
   "execution_count": 9,
   "outputs": [
    {
     "data": {
      "text/plain": "(array([], dtype=int64), array([], dtype=int64))"
     },
     "execution_count": 9,
     "metadata": {},
     "output_type": "execute_result"
    }
   ],
   "source": [
    "# verifico che non ci sono missing value:\n",
    "np.where(pd.isnull(df))"
   ],
   "metadata": {
    "collapsed": false,
    "ExecuteTime": {
     "start_time": "2023-05-29T21:48:51.825378Z",
     "end_time": "2023-05-29T21:48:51.917514Z"
    }
   }
  },
  {
   "cell_type": "code",
   "execution_count": 22,
   "outputs": [
    {
     "data": {
      "text/plain": "64130"
     },
     "execution_count": 22,
     "metadata": {},
     "output_type": "execute_result"
    }
   ],
   "source": [
    "# come vedere se il dataset é bilanciato verso la classe target:\n",
    "cloud =np.where(df[\"weather_main\"] == \"clouds\")\n",
    "len(cloud[0])"
   ],
   "metadata": {
    "collapsed": false,
    "ExecuteTime": {
     "start_time": "2023-05-29T21:59:15.768128Z",
     "end_time": "2023-05-29T21:59:15.772508Z"
    }
   }
  },
  {
   "cell_type": "code",
   "execution_count": 23,
   "outputs": [
    {
     "data": {
      "text/plain": "77750"
     },
     "execution_count": 23,
     "metadata": {},
     "output_type": "execute_result"
    }
   ],
   "source": [
    "clear =np.where(df[\"weather_main\"] == \"clear\")\n",
    "len(clear[0])"
   ],
   "metadata": {
    "collapsed": false,
    "ExecuteTime": {
     "start_time": "2023-05-29T21:59:40.627102Z",
     "end_time": "2023-05-29T21:59:40.630196Z"
    }
   }
  },
  {
   "cell_type": "code",
   "execution_count": 24,
   "outputs": [
    {
     "data": {
      "text/plain": "16251"
     },
     "execution_count": 24,
     "metadata": {},
     "output_type": "execute_result"
    }
   ],
   "source": [
    "rain =np.where(df[\"weather_main\"] == \"rain\")\n",
    "len(rain[0])"
   ],
   "metadata": {
    "collapsed": false,
    "ExecuteTime": {
     "start_time": "2023-05-29T22:00:08.467023Z",
     "end_time": "2023-05-29T22:00:08.473513Z"
    }
   }
  },
  {
   "cell_type": "markdown",
   "source": [
    "# 2.\n",
    "##  Le rilevazioni con pressione e umidità uguale a 0 sono irreali. Quante sono queste rilevazioni? Eliminarle dal dataset\n",
    "sono in totale 61 rilevazioni\n"
   ],
   "metadata": {
    "collapsed": false
   }
  },
  {
   "cell_type": "code",
   "execution_count": 28,
   "outputs": [
    {
     "data": {
      "text/plain": "2"
     },
     "execution_count": 28,
     "metadata": {},
     "output_type": "execute_result"
    }
   ],
   "source": [
    "pressure = np.where(df[\"pressure\"] == 0)\n",
    "len(pressure[0])"
   ],
   "metadata": {
    "collapsed": false,
    "ExecuteTime": {
     "start_time": "2023-05-29T22:05:50.197292Z",
     "end_time": "2023-05-29T22:05:50.200901Z"
    }
   }
  },
  {
   "cell_type": "code",
   "execution_count": 29,
   "outputs": [
    {
     "data": {
      "text/plain": "59"
     },
     "execution_count": 29,
     "metadata": {},
     "output_type": "execute_result"
    }
   ],
   "source": [
    "humidity = np.where(df[\"humidity\"] == 0)\n",
    "len(humidity[0])"
   ],
   "metadata": {
    "collapsed": false,
    "ExecuteTime": {
     "start_time": "2023-05-29T22:06:15.238662Z",
     "end_time": "2023-05-29T22:06:15.245477Z"
    }
   }
  },
  {
   "cell_type": "code",
   "execution_count": 33,
   "outputs": [
    {
     "ename": "KeyError",
     "evalue": "'[5564, 16489, 19646, 26268, 28206, 31708, 32124, 34264, 35967, 44422, 47534, 48620, 51348, 52667, 53378, 53391, 55428, 55446, 56324, 65703, 69389, 73332, 75263, 79819, 87619, 89562, 90531, 90549, 95620, 98665, 99523, 104831, 106051, 109462, 109938, 112513, 116899, 116991, 120621, 124591, 125822, 128413, 128575, 130382, 133212, 133662, 135345, 135630, 136428, 138216, 140492, 141541, 143143, 146784, 150240, 152292, 155102, 156197, 156282] not found in axis'",
     "output_type": "error",
     "traceback": [
      "\u001B[0;31m---------------------------------------------------------------------------\u001B[0m",
      "\u001B[0;31mKeyError\u001B[0m                                  Traceback (most recent call last)",
      "\u001B[0;32m/var/folders/zk/y_05r4dd4q51x5hx9n0nwwk80000gn/T/ipykernel_2416/2764763939.py\u001B[0m in \u001B[0;36m<module>\u001B[0;34m\u001B[0m\n\u001B[1;32m      1\u001B[0m \u001B[0;31m# eliminare queste istanze\u001B[0m\u001B[0;34m\u001B[0m\u001B[0;34m\u001B[0m\u001B[0m\n\u001B[0;32m----> 2\u001B[0;31m \u001B[0mdf\u001B[0m \u001B[0;34m=\u001B[0m \u001B[0mdf\u001B[0m\u001B[0;34m.\u001B[0m\u001B[0mdrop\u001B[0m\u001B[0;34m(\u001B[0m\u001B[0mhumidity\u001B[0m\u001B[0;34m[\u001B[0m\u001B[0;36m0\u001B[0m\u001B[0;34m]\u001B[0m\u001B[0;34m)\u001B[0m\u001B[0;34m\u001B[0m\u001B[0;34m\u001B[0m\u001B[0m\n\u001B[0m\u001B[1;32m      3\u001B[0m \u001B[0;31m# poi dobbiamo ricalcolare  la pressure perché gli indici potrebbe essere diversi\u001B[0m\u001B[0;34m\u001B[0m\u001B[0;34m\u001B[0m\u001B[0m\n\u001B[1;32m      4\u001B[0m \u001B[0mpressure\u001B[0m \u001B[0;34m=\u001B[0m \u001B[0mnp\u001B[0m\u001B[0;34m.\u001B[0m\u001B[0mwhere\u001B[0m\u001B[0;34m(\u001B[0m\u001B[0mdf\u001B[0m\u001B[0;34m[\u001B[0m\u001B[0;34m\"pressure\"\u001B[0m\u001B[0;34m]\u001B[0m \u001B[0;34m==\u001B[0m \u001B[0;36m0\u001B[0m\u001B[0;34m)\u001B[0m\u001B[0;34m\u001B[0m\u001B[0;34m\u001B[0m\u001B[0m\n\u001B[1;32m      5\u001B[0m \u001B[0mdf\u001B[0m \u001B[0;34m=\u001B[0m \u001B[0mdf\u001B[0m\u001B[0;34m.\u001B[0m\u001B[0mdrop\u001B[0m\u001B[0;34m(\u001B[0m\u001B[0mpressure\u001B[0m\u001B[0;34m[\u001B[0m\u001B[0;36m0\u001B[0m\u001B[0;34m]\u001B[0m\u001B[0;34m)\u001B[0m\u001B[0;34m\u001B[0m\u001B[0;34m\u001B[0m\u001B[0m\n",
      "\u001B[0;32m/opt/anaconda3/lib/python3.9/site-packages/pandas/util/_decorators.py\u001B[0m in \u001B[0;36mwrapper\u001B[0;34m(*args, **kwargs)\u001B[0m\n\u001B[1;32m    309\u001B[0m                     \u001B[0mstacklevel\u001B[0m\u001B[0;34m=\u001B[0m\u001B[0mstacklevel\u001B[0m\u001B[0;34m,\u001B[0m\u001B[0;34m\u001B[0m\u001B[0;34m\u001B[0m\u001B[0m\n\u001B[1;32m    310\u001B[0m                 )\n\u001B[0;32m--> 311\u001B[0;31m             \u001B[0;32mreturn\u001B[0m \u001B[0mfunc\u001B[0m\u001B[0;34m(\u001B[0m\u001B[0;34m*\u001B[0m\u001B[0margs\u001B[0m\u001B[0;34m,\u001B[0m \u001B[0;34m**\u001B[0m\u001B[0mkwargs\u001B[0m\u001B[0;34m)\u001B[0m\u001B[0;34m\u001B[0m\u001B[0;34m\u001B[0m\u001B[0m\n\u001B[0m\u001B[1;32m    312\u001B[0m \u001B[0;34m\u001B[0m\u001B[0m\n\u001B[1;32m    313\u001B[0m         \u001B[0;32mreturn\u001B[0m \u001B[0mwrapper\u001B[0m\u001B[0;34m\u001B[0m\u001B[0;34m\u001B[0m\u001B[0m\n",
      "\u001B[0;32m/opt/anaconda3/lib/python3.9/site-packages/pandas/core/frame.py\u001B[0m in \u001B[0;36mdrop\u001B[0;34m(self, labels, axis, index, columns, level, inplace, errors)\u001B[0m\n\u001B[1;32m   4955\u001B[0m                 \u001B[0mweight\u001B[0m  \u001B[0;36m1.0\u001B[0m     \u001B[0;36m0.8\u001B[0m\u001B[0;34m\u001B[0m\u001B[0;34m\u001B[0m\u001B[0m\n\u001B[1;32m   4956\u001B[0m         \"\"\"\n\u001B[0;32m-> 4957\u001B[0;31m         return super().drop(\n\u001B[0m\u001B[1;32m   4958\u001B[0m             \u001B[0mlabels\u001B[0m\u001B[0;34m=\u001B[0m\u001B[0mlabels\u001B[0m\u001B[0;34m,\u001B[0m\u001B[0;34m\u001B[0m\u001B[0;34m\u001B[0m\u001B[0m\n\u001B[1;32m   4959\u001B[0m             \u001B[0maxis\u001B[0m\u001B[0;34m=\u001B[0m\u001B[0maxis\u001B[0m\u001B[0;34m,\u001B[0m\u001B[0;34m\u001B[0m\u001B[0;34m\u001B[0m\u001B[0m\n",
      "\u001B[0;32m/opt/anaconda3/lib/python3.9/site-packages/pandas/core/generic.py\u001B[0m in \u001B[0;36mdrop\u001B[0;34m(self, labels, axis, index, columns, level, inplace, errors)\u001B[0m\n\u001B[1;32m   4265\u001B[0m         \u001B[0;32mfor\u001B[0m \u001B[0maxis\u001B[0m\u001B[0;34m,\u001B[0m \u001B[0mlabels\u001B[0m \u001B[0;32min\u001B[0m \u001B[0maxes\u001B[0m\u001B[0;34m.\u001B[0m\u001B[0mitems\u001B[0m\u001B[0;34m(\u001B[0m\u001B[0;34m)\u001B[0m\u001B[0;34m:\u001B[0m\u001B[0;34m\u001B[0m\u001B[0;34m\u001B[0m\u001B[0m\n\u001B[1;32m   4266\u001B[0m             \u001B[0;32mif\u001B[0m \u001B[0mlabels\u001B[0m \u001B[0;32mis\u001B[0m \u001B[0;32mnot\u001B[0m \u001B[0;32mNone\u001B[0m\u001B[0;34m:\u001B[0m\u001B[0;34m\u001B[0m\u001B[0;34m\u001B[0m\u001B[0m\n\u001B[0;32m-> 4267\u001B[0;31m                 \u001B[0mobj\u001B[0m \u001B[0;34m=\u001B[0m \u001B[0mobj\u001B[0m\u001B[0;34m.\u001B[0m\u001B[0m_drop_axis\u001B[0m\u001B[0;34m(\u001B[0m\u001B[0mlabels\u001B[0m\u001B[0;34m,\u001B[0m \u001B[0maxis\u001B[0m\u001B[0;34m,\u001B[0m \u001B[0mlevel\u001B[0m\u001B[0;34m=\u001B[0m\u001B[0mlevel\u001B[0m\u001B[0;34m,\u001B[0m \u001B[0merrors\u001B[0m\u001B[0;34m=\u001B[0m\u001B[0merrors\u001B[0m\u001B[0;34m)\u001B[0m\u001B[0;34m\u001B[0m\u001B[0;34m\u001B[0m\u001B[0m\n\u001B[0m\u001B[1;32m   4268\u001B[0m \u001B[0;34m\u001B[0m\u001B[0m\n\u001B[1;32m   4269\u001B[0m         \u001B[0;32mif\u001B[0m \u001B[0minplace\u001B[0m\u001B[0;34m:\u001B[0m\u001B[0;34m\u001B[0m\u001B[0;34m\u001B[0m\u001B[0m\n",
      "\u001B[0;32m/opt/anaconda3/lib/python3.9/site-packages/pandas/core/generic.py\u001B[0m in \u001B[0;36m_drop_axis\u001B[0;34m(self, labels, axis, level, errors, consolidate, only_slice)\u001B[0m\n\u001B[1;32m   4309\u001B[0m                 \u001B[0mnew_axis\u001B[0m \u001B[0;34m=\u001B[0m \u001B[0maxis\u001B[0m\u001B[0;34m.\u001B[0m\u001B[0mdrop\u001B[0m\u001B[0;34m(\u001B[0m\u001B[0mlabels\u001B[0m\u001B[0;34m,\u001B[0m \u001B[0mlevel\u001B[0m\u001B[0;34m=\u001B[0m\u001B[0mlevel\u001B[0m\u001B[0;34m,\u001B[0m \u001B[0merrors\u001B[0m\u001B[0;34m=\u001B[0m\u001B[0merrors\u001B[0m\u001B[0;34m)\u001B[0m\u001B[0;34m\u001B[0m\u001B[0;34m\u001B[0m\u001B[0m\n\u001B[1;32m   4310\u001B[0m             \u001B[0;32melse\u001B[0m\u001B[0;34m:\u001B[0m\u001B[0;34m\u001B[0m\u001B[0;34m\u001B[0m\u001B[0m\n\u001B[0;32m-> 4311\u001B[0;31m                 \u001B[0mnew_axis\u001B[0m \u001B[0;34m=\u001B[0m \u001B[0maxis\u001B[0m\u001B[0;34m.\u001B[0m\u001B[0mdrop\u001B[0m\u001B[0;34m(\u001B[0m\u001B[0mlabels\u001B[0m\u001B[0;34m,\u001B[0m \u001B[0merrors\u001B[0m\u001B[0;34m=\u001B[0m\u001B[0merrors\u001B[0m\u001B[0;34m)\u001B[0m\u001B[0;34m\u001B[0m\u001B[0;34m\u001B[0m\u001B[0m\n\u001B[0m\u001B[1;32m   4312\u001B[0m             \u001B[0mindexer\u001B[0m \u001B[0;34m=\u001B[0m \u001B[0maxis\u001B[0m\u001B[0;34m.\u001B[0m\u001B[0mget_indexer\u001B[0m\u001B[0;34m(\u001B[0m\u001B[0mnew_axis\u001B[0m\u001B[0;34m)\u001B[0m\u001B[0;34m\u001B[0m\u001B[0;34m\u001B[0m\u001B[0m\n\u001B[1;32m   4313\u001B[0m \u001B[0;34m\u001B[0m\u001B[0m\n",
      "\u001B[0;32m/opt/anaconda3/lib/python3.9/site-packages/pandas/core/indexes/base.py\u001B[0m in \u001B[0;36mdrop\u001B[0;34m(self, labels, errors)\u001B[0m\n\u001B[1;32m   6659\u001B[0m         \u001B[0;32mif\u001B[0m \u001B[0mmask\u001B[0m\u001B[0;34m.\u001B[0m\u001B[0many\u001B[0m\u001B[0;34m(\u001B[0m\u001B[0;34m)\u001B[0m\u001B[0;34m:\u001B[0m\u001B[0;34m\u001B[0m\u001B[0;34m\u001B[0m\u001B[0m\n\u001B[1;32m   6660\u001B[0m             \u001B[0;32mif\u001B[0m \u001B[0merrors\u001B[0m \u001B[0;34m!=\u001B[0m \u001B[0;34m\"ignore\"\u001B[0m\u001B[0;34m:\u001B[0m\u001B[0;34m\u001B[0m\u001B[0;34m\u001B[0m\u001B[0m\n\u001B[0;32m-> 6661\u001B[0;31m                 \u001B[0;32mraise\u001B[0m \u001B[0mKeyError\u001B[0m\u001B[0;34m(\u001B[0m\u001B[0;34mf\"{list(labels[mask])} not found in axis\"\u001B[0m\u001B[0;34m)\u001B[0m\u001B[0;34m\u001B[0m\u001B[0;34m\u001B[0m\u001B[0m\n\u001B[0m\u001B[1;32m   6662\u001B[0m             \u001B[0mindexer\u001B[0m \u001B[0;34m=\u001B[0m \u001B[0mindexer\u001B[0m\u001B[0;34m[\u001B[0m\u001B[0;34m~\u001B[0m\u001B[0mmask\u001B[0m\u001B[0;34m]\u001B[0m\u001B[0;34m\u001B[0m\u001B[0;34m\u001B[0m\u001B[0m\n\u001B[1;32m   6663\u001B[0m         \u001B[0;32mreturn\u001B[0m \u001B[0mself\u001B[0m\u001B[0;34m.\u001B[0m\u001B[0mdelete\u001B[0m\u001B[0;34m(\u001B[0m\u001B[0mindexer\u001B[0m\u001B[0;34m)\u001B[0m\u001B[0;34m\u001B[0m\u001B[0;34m\u001B[0m\u001B[0m\n",
      "\u001B[0;31mKeyError\u001B[0m: '[5564, 16489, 19646, 26268, 28206, 31708, 32124, 34264, 35967, 44422, 47534, 48620, 51348, 52667, 53378, 53391, 55428, 55446, 56324, 65703, 69389, 73332, 75263, 79819, 87619, 89562, 90531, 90549, 95620, 98665, 99523, 104831, 106051, 109462, 109938, 112513, 116899, 116991, 120621, 124591, 125822, 128413, 128575, 130382, 133212, 133662, 135345, 135630, 136428, 138216, 140492, 141541, 143143, 146784, 150240, 152292, 155102, 156197, 156282] not found in axis'"
     ]
    }
   ],
   "source": [
    "# eliminare queste istanze\n",
    "df = df.drop(humidity[0])\n",
    "df"
   ],
   "metadata": {
    "collapsed": false,
    "ExecuteTime": {
     "start_time": "2023-05-29T22:08:27.860379Z",
     "end_time": "2023-05-29T22:08:27.863693Z"
    }
   }
  },
  {
   "cell_type": "code",
   "execution_count": 34,
   "outputs": [
    {
     "data": {
      "text/plain": "                           dt_iso   city_name     temp  temp_min  temp_max  \\\n0       2016-05-26 09:00:00+02:00      Bilbao  288.420   285.150   290.930   \n1       2016-07-16 10:00:00+02:00      Madrid  299.037   299.037   299.037   \n2       2018-06-03 05:00:00+02:00      Madrid  285.150   285.150   285.150   \n3       2018-10-19 10:00:00+02:00    Valencia  289.150   289.150   289.150   \n4       2017-11-25 07:00:00+01:00     Seville  279.940   279.150   281.150   \n...                           ...         ...      ...       ...       ...   \n158126  2016-08-01 10:00:00+02:00      Madrid  297.760   293.710   305.050   \n158127  2017-10-12 00:00:00+02:00   Barcelona  292.830   291.150   294.150   \n158128  2015-11-09 16:00:00+01:00      Bilbao  292.810   292.810   292.810   \n158129  2016-02-25 05:00:00+01:00    Valencia  285.220   285.220   285.220   \n158130  2016-04-21 20:00:00+02:00   Barcelona  287.761   287.761   287.761   \n\n        pressure  humidity  wind_speed  wind_deg  rain_1h  rain_3h  snow_3h  \\\n0           1012        93           0         0      0.0      0.0      0.0   \n1            961        44           2        83      0.0      0.0      0.0   \n2           1017       100           0         0      0.0      0.0      0.0   \n3           1011       100           4       320      0.9      0.0      0.0   \n4           1019        81           0        50      0.0      0.0      0.0   \n...          ...       ...         ...       ...      ...      ...      ...   \n158126      1021        56           2        30      0.0      0.0      0.0   \n158127      1024        88           0       280      0.0      0.0      0.0   \n158128      1031        62           1        25      0.0      0.0      0.0   \n158129      1012        60           4       265      0.0      0.0      0.0   \n158130      1024       100           3        41      0.3      0.0      0.0   \n\n        clouds_all  weather_id weather_main weather_description weather_icon  \n0               75         803       clouds       broken clouds          04d  \n1                0         800        clear        sky is clear          01d  \n2               56         803       clouds       broken clouds          04n  \n3               75         521         rain         shower rain          09d  \n4                0         800        clear        sky is clear          01n  \n...            ...         ...          ...                 ...          ...  \n158126           0         800        clear        sky is clear          01d  \n158127           0         800        clear        sky is clear          01n  \n158128           0         800        clear        sky is clear           01  \n158129           0         800        clear        sky is clear           01  \n158130           0         500         rain          light rain          10d  \n\n[158070 rows x 17 columns]",
      "text/html": "<div>\n<style scoped>\n    .dataframe tbody tr th:only-of-type {\n        vertical-align: middle;\n    }\n\n    .dataframe tbody tr th {\n        vertical-align: top;\n    }\n\n    .dataframe thead th {\n        text-align: right;\n    }\n</style>\n<table border=\"1\" class=\"dataframe\">\n  <thead>\n    <tr style=\"text-align: right;\">\n      <th></th>\n      <th>dt_iso</th>\n      <th>city_name</th>\n      <th>temp</th>\n      <th>temp_min</th>\n      <th>temp_max</th>\n      <th>pressure</th>\n      <th>humidity</th>\n      <th>wind_speed</th>\n      <th>wind_deg</th>\n      <th>rain_1h</th>\n      <th>rain_3h</th>\n      <th>snow_3h</th>\n      <th>clouds_all</th>\n      <th>weather_id</th>\n      <th>weather_main</th>\n      <th>weather_description</th>\n      <th>weather_icon</th>\n    </tr>\n  </thead>\n  <tbody>\n    <tr>\n      <th>0</th>\n      <td>2016-05-26 09:00:00+02:00</td>\n      <td>Bilbao</td>\n      <td>288.420</td>\n      <td>285.150</td>\n      <td>290.930</td>\n      <td>1012</td>\n      <td>93</td>\n      <td>0</td>\n      <td>0</td>\n      <td>0.0</td>\n      <td>0.0</td>\n      <td>0.0</td>\n      <td>75</td>\n      <td>803</td>\n      <td>clouds</td>\n      <td>broken clouds</td>\n      <td>04d</td>\n    </tr>\n    <tr>\n      <th>1</th>\n      <td>2016-07-16 10:00:00+02:00</td>\n      <td>Madrid</td>\n      <td>299.037</td>\n      <td>299.037</td>\n      <td>299.037</td>\n      <td>961</td>\n      <td>44</td>\n      <td>2</td>\n      <td>83</td>\n      <td>0.0</td>\n      <td>0.0</td>\n      <td>0.0</td>\n      <td>0</td>\n      <td>800</td>\n      <td>clear</td>\n      <td>sky is clear</td>\n      <td>01d</td>\n    </tr>\n    <tr>\n      <th>2</th>\n      <td>2018-06-03 05:00:00+02:00</td>\n      <td>Madrid</td>\n      <td>285.150</td>\n      <td>285.150</td>\n      <td>285.150</td>\n      <td>1017</td>\n      <td>100</td>\n      <td>0</td>\n      <td>0</td>\n      <td>0.0</td>\n      <td>0.0</td>\n      <td>0.0</td>\n      <td>56</td>\n      <td>803</td>\n      <td>clouds</td>\n      <td>broken clouds</td>\n      <td>04n</td>\n    </tr>\n    <tr>\n      <th>3</th>\n      <td>2018-10-19 10:00:00+02:00</td>\n      <td>Valencia</td>\n      <td>289.150</td>\n      <td>289.150</td>\n      <td>289.150</td>\n      <td>1011</td>\n      <td>100</td>\n      <td>4</td>\n      <td>320</td>\n      <td>0.9</td>\n      <td>0.0</td>\n      <td>0.0</td>\n      <td>75</td>\n      <td>521</td>\n      <td>rain</td>\n      <td>shower rain</td>\n      <td>09d</td>\n    </tr>\n    <tr>\n      <th>4</th>\n      <td>2017-11-25 07:00:00+01:00</td>\n      <td>Seville</td>\n      <td>279.940</td>\n      <td>279.150</td>\n      <td>281.150</td>\n      <td>1019</td>\n      <td>81</td>\n      <td>0</td>\n      <td>50</td>\n      <td>0.0</td>\n      <td>0.0</td>\n      <td>0.0</td>\n      <td>0</td>\n      <td>800</td>\n      <td>clear</td>\n      <td>sky is clear</td>\n      <td>01n</td>\n    </tr>\n    <tr>\n      <th>...</th>\n      <td>...</td>\n      <td>...</td>\n      <td>...</td>\n      <td>...</td>\n      <td>...</td>\n      <td>...</td>\n      <td>...</td>\n      <td>...</td>\n      <td>...</td>\n      <td>...</td>\n      <td>...</td>\n      <td>...</td>\n      <td>...</td>\n      <td>...</td>\n      <td>...</td>\n      <td>...</td>\n      <td>...</td>\n    </tr>\n    <tr>\n      <th>158126</th>\n      <td>2016-08-01 10:00:00+02:00</td>\n      <td>Madrid</td>\n      <td>297.760</td>\n      <td>293.710</td>\n      <td>305.050</td>\n      <td>1021</td>\n      <td>56</td>\n      <td>2</td>\n      <td>30</td>\n      <td>0.0</td>\n      <td>0.0</td>\n      <td>0.0</td>\n      <td>0</td>\n      <td>800</td>\n      <td>clear</td>\n      <td>sky is clear</td>\n      <td>01d</td>\n    </tr>\n    <tr>\n      <th>158127</th>\n      <td>2017-10-12 00:00:00+02:00</td>\n      <td>Barcelona</td>\n      <td>292.830</td>\n      <td>291.150</td>\n      <td>294.150</td>\n      <td>1024</td>\n      <td>88</td>\n      <td>0</td>\n      <td>280</td>\n      <td>0.0</td>\n      <td>0.0</td>\n      <td>0.0</td>\n      <td>0</td>\n      <td>800</td>\n      <td>clear</td>\n      <td>sky is clear</td>\n      <td>01n</td>\n    </tr>\n    <tr>\n      <th>158128</th>\n      <td>2015-11-09 16:00:00+01:00</td>\n      <td>Bilbao</td>\n      <td>292.810</td>\n      <td>292.810</td>\n      <td>292.810</td>\n      <td>1031</td>\n      <td>62</td>\n      <td>1</td>\n      <td>25</td>\n      <td>0.0</td>\n      <td>0.0</td>\n      <td>0.0</td>\n      <td>0</td>\n      <td>800</td>\n      <td>clear</td>\n      <td>sky is clear</td>\n      <td>01</td>\n    </tr>\n    <tr>\n      <th>158129</th>\n      <td>2016-02-25 05:00:00+01:00</td>\n      <td>Valencia</td>\n      <td>285.220</td>\n      <td>285.220</td>\n      <td>285.220</td>\n      <td>1012</td>\n      <td>60</td>\n      <td>4</td>\n      <td>265</td>\n      <td>0.0</td>\n      <td>0.0</td>\n      <td>0.0</td>\n      <td>0</td>\n      <td>800</td>\n      <td>clear</td>\n      <td>sky is clear</td>\n      <td>01</td>\n    </tr>\n    <tr>\n      <th>158130</th>\n      <td>2016-04-21 20:00:00+02:00</td>\n      <td>Barcelona</td>\n      <td>287.761</td>\n      <td>287.761</td>\n      <td>287.761</td>\n      <td>1024</td>\n      <td>100</td>\n      <td>3</td>\n      <td>41</td>\n      <td>0.3</td>\n      <td>0.0</td>\n      <td>0.0</td>\n      <td>0</td>\n      <td>500</td>\n      <td>rain</td>\n      <td>light rain</td>\n      <td>10d</td>\n    </tr>\n  </tbody>\n</table>\n<p>158070 rows × 17 columns</p>\n</div>"
     },
     "execution_count": 34,
     "metadata": {},
     "output_type": "execute_result"
    }
   ],
   "source": [
    "# poi dobbiamo ricalcolare  la pressure perché gli indici potrebbe essere diversi\n",
    "pressure = np.where(df[\"pressure\"] == 0)\n",
    "df = df.drop(pressure[0])\n",
    "df"
   ],
   "metadata": {
    "collapsed": false,
    "ExecuteTime": {
     "start_time": "2023-05-29T22:10:17.211055Z",
     "end_time": "2023-05-29T22:10:17.234367Z"
    }
   }
  },
  {
   "cell_type": "markdown",
   "source": [
    "# 3.\n",
    "## Analizzare la temperatura massima rilevata. Valutare se la distribuzione dei valori assume un andamento simile a una gaussiana. Considerare poi le rilevazioni che si collocano all’interno del 5% delle temperature più alte. Le città sono equamente presenti in quella fascia di rilevazioni? Come è il tempo complessivo nei giorni in cui la temperatura massima è in quella fascia per ogni città?\n",
    "No non é distribuito equamente le cittá perché Seville ha molte istanze presenti"
   ],
   "metadata": {
    "collapsed": false
   }
  },
  {
   "cell_type": "code",
   "execution_count": 40,
   "outputs": [
    {
     "data": {
      "text/plain": "<matplotlib.legend.Legend at 0x7fe37006ec70>"
     },
     "execution_count": 40,
     "metadata": {},
     "output_type": "execute_result"
    },
    {
     "data": {
      "text/plain": "<Figure size 1000x800 with 1 Axes>",
      "image/png": "[encoded data removed]"
     },
     "metadata": {},
     "output_type": "display_data"
    }
   ],
   "source": [
    "# potremmo vederlo graficamente se assomiglia ad una gaussiana\n",
    "import seaborn as sns\n",
    "import matplotlib.pyplot as plt\n",
    "\n",
    "\n",
    "fig, (ax1) = plt.subplots(ncols=1, figsize=(10, 8))\n",
    "ax1.set_title(\"distribuzione della temperatura massima\")\n",
    "\n",
    "sns.kdeplot(df[\"temp_max\"],ax=ax1, label =\"temp_max\")\n",
    "\n",
    "\n",
    "plt.legend()"
   ],
   "metadata": {
    "collapsed": false,
    "ExecuteTime": {
     "start_time": "2023-05-29T22:22:01.598939Z",
     "end_time": "2023-05-29T22:22:01.990274Z"
    }
   }
  },
  {
   "cell_type": "code",
   "execution_count": 55,
   "outputs": [
    {
     "data": {
      "text/plain": "Int64Index([  4159, 140988,  18574,  31698,  51907, 102550, 104920, 113363,\n            113639, 114977,\n            ...\n             14228,  14307,  14375,  14549,  14624,  14710,  14729,  14928,\n             14974,  15124],\n           dtype='int64', length=7903)"
     },
     "execution_count": 55,
     "metadata": {},
     "output_type": "execute_result"
    }
   ],
   "source": [
    "df['temp_max'].nlargest(n=7903).index"
   ],
   "metadata": {
    "collapsed": false,
    "ExecuteTime": {
     "start_time": "2023-05-29T22:35:24.185136Z",
     "end_time": "2023-05-29T22:35:24.192901Z"
    }
   }
  },
  {
   "cell_type": "code",
   "execution_count": 57,
   "outputs": [
    {
     "data": {
      "text/plain": "                           dt_iso   city_name    temp  temp_min  temp_max  \\\n4159    2015-07-13 13:00:00+02:00     Seville  311.08    305.15    321.15   \n140988  2015-07-13 12:00:00+02:00     Seville  310.12    303.15    321.15   \n18574   2015-07-04 14:00:00+02:00     Seville  311.73    306.15    320.15   \n31698   2016-07-24 13:00:00+02:00     Seville  311.64    306.15    320.15   \n51907   2015-07-26 13:00:00+02:00     Seville  310.33    303.15    320.15   \n...                           ...         ...     ...       ...       ...   \n14710   2018-08-04 18:00:00+02:00   Barcelona  306.15    306.15    306.15   \n14729   2016-07-08 15:00:00+02:00      Madrid  305.06    304.15    306.15   \n14928   2017-07-01 19:00:00+02:00     Seville  305.76    305.15    306.15   \n14974   2018-07-10 14:00:00+02:00   Barcelona  304.15    302.15    306.15   \n15124   2016-09-18 21:00:00+02:00     Seville  304.13    301.15    306.15   \n\n        pressure  humidity  wind_speed  wind_deg  rain_1h  rain_3h  snow_3h  \\\n4159        1018        31           1       240      0.0      0.0      0.0   \n140988      1018        35           0       250      0.0      0.0      0.0   \n18574       1018        19           1       140      0.0      0.0      0.0   \n31698       1015        24           1       100      0.0      0.0      0.0   \n51907       1015        26           1         0      0.0      0.0      0.0   \n...          ...       ...         ...       ...      ...      ...      ...   \n14710       1016        41           5       130      0.0      0.0      0.0   \n14729       1021        27           2       310      0.0      0.0      0.0   \n14928       1016        14           3        50      0.0      0.0      0.0   \n14974       1015        38           3       180      0.0      0.0      0.0   \n15124       1015        30           5       230      0.0      0.0      0.0   \n\n        clouds_all  weather_id weather_main weather_description weather_icon  \n4159             0         800        clear        sky is clear          01d  \n140988           0         800        clear        sky is clear          01d  \n18574            0         800        clear        sky is clear          01d  \n31698            0         800        clear        sky is clear          01d  \n51907            0         800        clear        sky is clear          01d  \n...            ...         ...          ...                 ...          ...  \n14710           20         801       clouds          few clouds          02d  \n14729            0         800        clear        sky is clear          01d  \n14928            0         800        clear        sky is clear          01d  \n14974           20         801       clouds          few clouds          02d  \n15124            0         800        clear        sky is clear          01n  \n\n[7903 rows x 17 columns]",
      "text/html": "<div>\n<style scoped>\n    .dataframe tbody tr th:only-of-type {\n        vertical-align: middle;\n    }\n\n    .dataframe tbody tr th {\n        vertical-align: top;\n    }\n\n    .dataframe thead th {\n        text-align: right;\n    }\n</style>\n<table border=\"1\" class=\"dataframe\">\n  <thead>\n    <tr style=\"text-align: right;\">\n      <th></th>\n      <th>dt_iso</th>\n      <th>city_name</th>\n      <th>temp</th>\n      <th>temp_min</th>\n      <th>temp_max</th>\n      <th>pressure</th>\n      <th>humidity</th>\n      <th>wind_speed</th>\n      <th>wind_deg</th>\n      <th>rain_1h</th>\n      <th>rain_3h</th>\n      <th>snow_3h</th>\n      <th>clouds_all</th>\n      <th>weather_id</th>\n      <th>weather_main</th>\n      <th>weather_description</th>\n      <th>weather_icon</th>\n    </tr>\n  </thead>\n  <tbody>\n    <tr>\n      <th>4159</th>\n      <td>2015-07-13 13:00:00+02:00</td>\n      <td>Seville</td>\n      <td>311.08</td>\n      <td>305.15</td>\n      <td>321.15</td>\n      <td>1018</td>\n      <td>31</td>\n      <td>1</td>\n      <td>240</td>\n      <td>0.0</td>\n      <td>0.0</td>\n      <td>0.0</td>\n      <td>0</td>\n      <td>800</td>\n      <td>clear</td>\n      <td>sky is clear</td>\n      <td>01d</td>\n    </tr>\n    <tr>\n      <th>140988</th>\n      <td>2015-07-13 12:00:00+02:00</td>\n      <td>Seville</td>\n      <td>310.12</td>\n      <td>303.15</td>\n      <td>321.15</td>\n      <td>1018</td>\n      <td>35</td>\n      <td>0</td>\n      <td>250</td>\n      <td>0.0</td>\n      <td>0.0</td>\n      <td>0.0</td>\n      <td>0</td>\n      <td>800</td>\n      <td>clear</td>\n      <td>sky is clear</td>\n      <td>01d</td>\n    </tr>\n    <tr>\n      <th>18574</th>\n      <td>2015-07-04 14:00:00+02:00</td>\n      <td>Seville</td>\n      <td>311.73</td>\n      <td>306.15</td>\n      <td>320.15</td>\n      <td>1018</td>\n      <td>19</td>\n      <td>1</td>\n      <td>140</td>\n      <td>0.0</td>\n      <td>0.0</td>\n      <td>0.0</td>\n      <td>0</td>\n      <td>800</td>\n      <td>clear</td>\n      <td>sky is clear</td>\n      <td>01d</td>\n    </tr>\n    <tr>\n      <th>31698</th>\n      <td>2016-07-24 13:00:00+02:00</td>\n      <td>Seville</td>\n      <td>311.64</td>\n      <td>306.15</td>\n      <td>320.15</td>\n      <td>1015</td>\n      <td>24</td>\n      <td>1</td>\n      <td>100</td>\n      <td>0.0</td>\n      <td>0.0</td>\n      <td>0.0</td>\n      <td>0</td>\n      <td>800</td>\n      <td>clear</td>\n      <td>sky is clear</td>\n      <td>01d</td>\n    </tr>\n    <tr>\n      <th>51907</th>\n      <td>2015-07-26 13:00:00+02:00</td>\n      <td>Seville</td>\n      <td>310.33</td>\n      <td>303.15</td>\n      <td>320.15</td>\n      <td>1015</td>\n      <td>26</td>\n      <td>1</td>\n      <td>0</td>\n      <td>0.0</td>\n      <td>0.0</td>\n      <td>0.0</td>\n      <td>0</td>\n      <td>800</td>\n      <td>clear</td>\n      <td>sky is clear</td>\n      <td>01d</td>\n    </tr>\n    <tr>\n      <th>...</th>\n      <td>...</td>\n      <td>...</td>\n      <td>...</td>\n      <td>...</td>\n      <td>...</td>\n      <td>...</td>\n      <td>...</td>\n      <td>...</td>\n      <td>...</td>\n      <td>...</td>\n      <td>...</td>\n      <td>...</td>\n      <td>...</td>\n      <td>...</td>\n      <td>...</td>\n      <td>...</td>\n      <td>...</td>\n    </tr>\n    <tr>\n      <th>14710</th>\n      <td>2018-08-04 18:00:00+02:00</td>\n      <td>Barcelona</td>\n      <td>306.15</td>\n      <td>306.15</td>\n      <td>306.15</td>\n      <td>1016</td>\n      <td>41</td>\n      <td>5</td>\n      <td>130</td>\n      <td>0.0</td>\n      <td>0.0</td>\n      <td>0.0</td>\n      <td>20</td>\n      <td>801</td>\n      <td>clouds</td>\n      <td>few clouds</td>\n      <td>02d</td>\n    </tr>\n    <tr>\n      <th>14729</th>\n      <td>2016-07-08 15:00:00+02:00</td>\n      <td>Madrid</td>\n      <td>305.06</td>\n      <td>304.15</td>\n      <td>306.15</td>\n      <td>1021</td>\n      <td>27</td>\n      <td>2</td>\n      <td>310</td>\n      <td>0.0</td>\n      <td>0.0</td>\n      <td>0.0</td>\n      <td>0</td>\n      <td>800</td>\n      <td>clear</td>\n      <td>sky is clear</td>\n      <td>01d</td>\n    </tr>\n    <tr>\n      <th>14928</th>\n      <td>2017-07-01 19:00:00+02:00</td>\n      <td>Seville</td>\n      <td>305.76</td>\n      <td>305.15</td>\n      <td>306.15</td>\n      <td>1016</td>\n      <td>14</td>\n      <td>3</td>\n      <td>50</td>\n      <td>0.0</td>\n      <td>0.0</td>\n      <td>0.0</td>\n      <td>0</td>\n      <td>800</td>\n      <td>clear</td>\n      <td>sky is clear</td>\n      <td>01d</td>\n    </tr>\n    <tr>\n      <th>14974</th>\n      <td>2018-07-10 14:00:00+02:00</td>\n      <td>Barcelona</td>\n      <td>304.15</td>\n      <td>302.15</td>\n      <td>306.15</td>\n      <td>1015</td>\n      <td>38</td>\n      <td>3</td>\n      <td>180</td>\n      <td>0.0</td>\n      <td>0.0</td>\n      <td>0.0</td>\n      <td>20</td>\n      <td>801</td>\n      <td>clouds</td>\n      <td>few clouds</td>\n      <td>02d</td>\n    </tr>\n    <tr>\n      <th>15124</th>\n      <td>2016-09-18 21:00:00+02:00</td>\n      <td>Seville</td>\n      <td>304.13</td>\n      <td>301.15</td>\n      <td>306.15</td>\n      <td>1015</td>\n      <td>30</td>\n      <td>5</td>\n      <td>230</td>\n      <td>0.0</td>\n      <td>0.0</td>\n      <td>0.0</td>\n      <td>0</td>\n      <td>800</td>\n      <td>clear</td>\n      <td>sky is clear</td>\n      <td>01n</td>\n    </tr>\n  </tbody>\n</table>\n<p>7903 rows × 17 columns</p>\n</div>"
     },
     "execution_count": 57,
     "metadata": {},
     "output_type": "execute_result"
    }
   ],
   "source": [
    "df_temp_max = df.loc[df['temp_max'].nlargest(n=7903).index]\n",
    "df_temp_max"
   ],
   "metadata": {
    "collapsed": false,
    "ExecuteTime": {
     "start_time": "2023-05-29T22:36:19.021031Z",
     "end_time": "2023-05-29T22:36:19.042089Z"
    }
   }
  },
  {
   "cell_type": "code",
   "execution_count": 76,
   "outputs": [
    {
     "data": {
      "text/plain": "4614"
     },
     "execution_count": 76,
     "metadata": {},
     "output_type": "execute_result"
    }
   ],
   "source": [
    "city = np.where(df_temp_max[\"city_name\"] == \"Seville\")\n",
    "len(city[0])"
   ],
   "metadata": {
    "collapsed": false,
    "ExecuteTime": {
     "start_time": "2023-05-29T22:52:02.949887Z",
     "end_time": "2023-05-29T22:52:02.952350Z"
    }
   }
  },
  {
   "cell_type": "markdown",
   "source": [
    "visualizziamo perché é bello:"
   ],
   "metadata": {
    "collapsed": false
   }
  },
  {
   "cell_type": "code",
   "execution_count": 136,
   "outputs": [
    {
     "name": "stderr",
     "output_type": "stream",
     "text": [
      "/var/folders/zk/y_05r4dd4q51x5hx9n0nwwk80000gn/T/ipykernel_2416/2469803926.py:2: FutureWarning: The frame.append method is deprecated and will be removed from pandas in a future version. Use pandas.concat instead.\n",
      "  df_city = df_city.append({'city':'Seville','count':len(city[0])},ignore_index=True)\n",
      "/var/folders/zk/y_05r4dd4q51x5hx9n0nwwk80000gn/T/ipykernel_2416/2469803926.py:3: FutureWarning: The frame.append method is deprecated and will be removed from pandas in a future version. Use pandas.concat instead.\n",
      "  df_city = df_city.append({'city':'Madrid','count':1850},ignore_index=True)\n",
      "/var/folders/zk/y_05r4dd4q51x5hx9n0nwwk80000gn/T/ipykernel_2416/2469803926.py:4: FutureWarning: The frame.append method is deprecated and will be removed from pandas in a future version. Use pandas.concat instead.\n",
      "  df_city = df_city.append({'city':'Bilbao','count':349},ignore_index=True)\n",
      "/var/folders/zk/y_05r4dd4q51x5hx9n0nwwk80000gn/T/ipykernel_2416/2469803926.py:5: FutureWarning: The frame.append method is deprecated and will be removed from pandas in a future version. Use pandas.concat instead.\n",
      "  df_city = df_city.append({'city':'Valencia','count':539},ignore_index=True)\n"
     ]
    },
    {
     "data": {
      "text/plain": "Text(0.5, 0.98, 'distribuzione delle città piú calde')"
     },
     "execution_count": 136,
     "metadata": {},
     "output_type": "execute_result"
    },
    {
     "data": {
      "text/plain": "<Figure size 1000x800 with 1 Axes>",
      "image/png": "[encoded data removed]"
     },
     "metadata": {},
     "output_type": "display_data"
    }
   ],
   "source": [
    "df_city = pd.DataFrame(columns=[\"city\",\"count\"])\n",
    "df_city = df_city.append({'city':'Seville','count':len(city[0])},ignore_index=True)\n",
    "df_city = df_city.append({'city':'Madrid','count':1850},ignore_index=True)\n",
    "df_city = df_city.append({'city':'Bilbao','count':349},ignore_index=True)\n",
    "df_city = df_city.append({'city':'Valencia','count':539},ignore_index=True)\n",
    "\n",
    "fig,ax1= plt.subplots(ncols=1, figsize=(10, 8))\n",
    "\n",
    "colors = sns.color_palette('bright')[0:4]\n",
    "ax1.pie(df_city[\"count\"],labels=df_city[\"city\"],colors=colors)\n",
    "fig.suptitle(\"distribuzione delle città piú calde\")"
   ],
   "metadata": {
    "collapsed": false,
    "ExecuteTime": {
     "start_time": "2023-05-29T23:34:05.015926Z",
     "end_time": "2023-05-29T23:34:05.067207Z"
    }
   }
  },
  {
   "cell_type": "code",
   "execution_count": 87,
   "outputs": [
    {
     "data": {
      "text/plain": "count      4614\nunique        3\ntop       clear\nfreq       3905\nName: weather_main, dtype: object"
     },
     "execution_count": 87,
     "metadata": {},
     "output_type": "execute_result"
    }
   ],
   "source": [
    "seville = df_temp_max.loc[df_temp_max[\"city_name\"] == \"Seville\"]\n",
    "seville[\"weather_main\"].describe()"
   ],
   "metadata": {
    "collapsed": false,
    "ExecuteTime": {
     "start_time": "2023-05-29T22:55:50.335359Z",
     "end_time": "2023-05-29T22:55:50.341880Z"
    }
   }
  },
  {
   "cell_type": "code",
   "execution_count": 88,
   "outputs": [
    {
     "data": {
      "text/plain": "count      1850\nunique        3\ntop       clear\nfreq       1461\nName: weather_main, dtype: object"
     },
     "execution_count": 88,
     "metadata": {},
     "output_type": "execute_result"
    }
   ],
   "source": [
    "madrid = df_temp_max.loc[df_temp_max[\"city_name\"] == \"Madrid\"]\n",
    "madrid[\"weather_main\"].describe()"
   ],
   "metadata": {
    "collapsed": false,
    "ExecuteTime": {
     "start_time": "2023-05-29T22:56:22.523832Z",
     "end_time": "2023-05-29T22:56:22.537246Z"
    }
   }
  },
  {
   "cell_type": "code",
   "execution_count": 81,
   "outputs": [
    {
     "data": {
      "text/plain": "Empty DataFrame\nColumns: [dt_iso, city_name, temp, temp_min, temp_max, pressure, humidity, wind_speed, wind_deg, rain_1h, rain_3h, snow_3h, clouds_all, weather_id, weather_main, weather_description, weather_icon]\nIndex: []",
      "text/html": "<div>\n<style scoped>\n    .dataframe tbody tr th:only-of-type {\n        vertical-align: middle;\n    }\n\n    .dataframe tbody tr th {\n        vertical-align: top;\n    }\n\n    .dataframe thead th {\n        text-align: right;\n    }\n</style>\n<table border=\"1\" class=\"dataframe\">\n  <thead>\n    <tr style=\"text-align: right;\">\n      <th></th>\n      <th>dt_iso</th>\n      <th>city_name</th>\n      <th>temp</th>\n      <th>temp_min</th>\n      <th>temp_max</th>\n      <th>pressure</th>\n      <th>humidity</th>\n      <th>wind_speed</th>\n      <th>wind_deg</th>\n      <th>rain_1h</th>\n      <th>rain_3h</th>\n      <th>snow_3h</th>\n      <th>clouds_all</th>\n      <th>weather_id</th>\n      <th>weather_main</th>\n      <th>weather_description</th>\n      <th>weather_icon</th>\n    </tr>\n  </thead>\n  <tbody>\n  </tbody>\n</table>\n</div>"
     },
     "execution_count": 81,
     "metadata": {},
     "output_type": "execute_result"
    }
   ],
   "source": [
    "df_temp_max.loc[df_temp_max[\"city_name\"] == \"Barcelona\"]"
   ],
   "metadata": {
    "collapsed": false,
    "ExecuteTime": {
     "start_time": "2023-05-29T22:53:09.470926Z",
     "end_time": "2023-05-29T22:53:09.474275Z"
    }
   }
  },
  {
   "cell_type": "code",
   "execution_count": 89,
   "outputs": [
    {
     "data": {
      "text/plain": "count       349\nunique        3\ntop       clear\nfreq        195\nName: weather_main, dtype: object"
     },
     "execution_count": 89,
     "metadata": {},
     "output_type": "execute_result"
    }
   ],
   "source": [
    "bilbao = df_temp_max.loc[df_temp_max[\"city_name\"] == \"Bilbao\"]\n",
    "bilbao[\"weather_main\"].describe()"
   ],
   "metadata": {
    "collapsed": false,
    "ExecuteTime": {
     "start_time": "2023-05-29T22:56:45.798683Z",
     "end_time": "2023-05-29T22:56:45.801299Z"
    }
   }
  },
  {
   "cell_type": "code",
   "execution_count": 90,
   "outputs": [
    {
     "data": {
      "text/plain": "count       539\nunique        3\ntop       clear\nfreq        281\nName: weather_main, dtype: object"
     },
     "execution_count": 90,
     "metadata": {},
     "output_type": "execute_result"
    }
   ],
   "source": [
    "valencia = df_temp_max.loc[df_temp_max[\"city_name\"] == \"Valencia\"]\n",
    "valencia[\"weather_main\"].describe()"
   ],
   "metadata": {
    "collapsed": false,
    "ExecuteTime": {
     "start_time": "2023-05-29T22:56:58.375969Z",
     "end_time": "2023-05-29T22:56:58.381139Z"
    }
   }
  },
  {
   "cell_type": "markdown",
   "source": [
    "# 4.\n",
    "## Verificare se quando nevica la temperatura sia prossima alla temperatura di congelamento (NOTA: il dataset riporta i valori in Kelvin)"
   ],
   "metadata": {
    "collapsed": false
   }
  },
  {
   "cell_type": "code",
   "execution_count": 112,
   "outputs": [
    {
     "data": {
      "text/plain": "count    216.000000\nmean     276.118751\nstd        1.764093\nmin      272.399500\n25%      274.806742\n50%      276.356156\n75%      276.941250\nmax      282.750000\nName: temp, dtype: float64"
     },
     "execution_count": 112,
     "metadata": {},
     "output_type": "execute_result"
    }
   ],
   "source": [
    "df_snow = df.loc[(df[\"snow_3h\"]  != 0)]\n",
    "df_snow[\"temp\"].describe()"
   ],
   "metadata": {
    "collapsed": false,
    "ExecuteTime": {
     "start_time": "2023-05-29T23:09:56.638439Z",
     "end_time": "2023-05-29T23:09:56.647838Z"
    }
   }
  },
  {
   "cell_type": "markdown",
   "source": [
    "# 5.\n",
    "## Confrontare l’escursione termica media (temp_max-temp_min) registrata nei giorni in cui nevica, con quella delle giornate che sono all’interno del 5% delle temperature più alte"
   ],
   "metadata": {
    "collapsed": false
   }
  },
  {
   "cell_type": "code",
   "execution_count": 113,
   "outputs": [
    {
     "data": {
      "text/plain": "                           dt_iso city_name        temp    temp_min  \\\n2600    2015-03-23 11:00:00+01:00    Bilbao  276.356000  276.356000   \n2926    2015-01-20 04:00:00+01:00    Bilbao  275.203000  275.203000   \n6250    2015-02-04 20:00:00+01:00    Bilbao  274.826656  274.826656   \n10148   2015-02-08 16:00:00+01:00    Bilbao  277.219500  277.219500   \n11016   2015-02-01 09:00:00+01:00    Bilbao  276.367344  276.367344   \n...                           ...       ...         ...         ...   \n152628  2015-02-03 10:00:00+01:00    Bilbao  276.557500  276.557500   \n153808  2015-02-02 03:00:00+01:00    Bilbao  276.382656  276.382656   \n154633  2015-02-04 06:00:00+01:00    Bilbao  273.317000  273.317000   \n157078  2015-01-22 10:00:00+01:00    Bilbao  277.648000  277.648000   \n157587  2015-02-04 13:00:00+01:00  Valencia  280.050000  280.050000   \n\n          temp_max  pressure  humidity  wind_speed  wind_deg  rain_1h  \\\n2600    276.356000      1012        98           0       147      0.9   \n2926    275.203000      1012        97           1       198      0.3   \n6250    274.826656      1014        90           3        13      0.3   \n10148   277.219500      1031        82           2        21      0.3   \n11016   276.367344      1010        92           4       314      0.9   \n...            ...       ...       ...         ...       ...      ...   \n152628  276.557500      1004        94           1       281      0.9   \n153808  276.382656      1012        96           1       250      0.3   \n154633  273.317000      1006        97           1       119      0.3   \n157078  277.648000      1013        96           2       343      3.0   \n157587  280.050000      1000        36          11       349      0.3   \n\n        rain_3h  snow_3h  clouds_all  weather_id weather_main  \\\n2600        0.0    2.746          92         501         rain   \n2926        0.0    0.200          88         500         rain   \n6250        0.0   20.900          89         500         rain   \n10148       0.0    0.200          78         500         rain   \n11016       0.0    0.550          92         501         rain   \n...         ...      ...         ...         ...          ...   \n152628      0.0    1.100          84         501         rain   \n153808      0.0    0.050          84         500         rain   \n154633      0.0    3.900          88         500         rain   \n157078      0.0    2.700          92         502         rain   \n157587      0.0    1.125          92         500         rain   \n\n         weather_description weather_icon  \n2600           moderate rain           10  \n2926              light rain           10  \n6250              light rain           10  \n10148             light rain           10  \n11016          moderate rain           10  \n...                      ...          ...  \n152628         moderate rain           10  \n153808            light rain           10  \n154633            light rain           10  \n157078  heavy intensity rain           10  \n157587            light rain          10d  \n\n[216 rows x 17 columns]",
      "text/html": "<div>\n<style scoped>\n    .dataframe tbody tr th:only-of-type {\n        vertical-align: middle;\n    }\n\n    .dataframe tbody tr th {\n        vertical-align: top;\n    }\n\n    .dataframe thead th {\n        text-align: right;\n    }\n</style>\n<table border=\"1\" class=\"dataframe\">\n  <thead>\n    <tr style=\"text-align: right;\">\n      <th></th>\n      <th>dt_iso</th>\n      <th>city_name</th>\n      <th>temp</th>\n      <th>temp_min</th>\n      <th>temp_max</th>\n      <th>pressure</th>\n      <th>humidity</th>\n      <th>wind_speed</th>\n      <th>wind_deg</th>\n      <th>rain_1h</th>\n      <th>rain_3h</th>\n      <th>snow_3h</th>\n      <th>clouds_all</th>\n      <th>weather_id</th>\n      <th>weather_main</th>\n      <th>weather_description</th>\n      <th>weather_icon</th>\n    </tr>\n  </thead>\n  <tbody>\n    <tr>\n      <th>2600</th>\n      <td>2015-03-23 11:00:00+01:00</td>\n      <td>Bilbao</td>\n      <td>276.356000</td>\n      <td>276.356000</td>\n      <td>276.356000</td>\n      <td>1012</td>\n      <td>98</td>\n      <td>0</td>\n      <td>147</td>\n      <td>0.9</td>\n      <td>0.0</td>\n      <td>2.746</td>\n      <td>92</td>\n      <td>501</td>\n      <td>rain</td>\n      <td>moderate rain</td>\n      <td>10</td>\n    </tr>\n    <tr>\n      <th>2926</th>\n      <td>2015-01-20 04:00:00+01:00</td>\n      <td>Bilbao</td>\n      <td>275.203000</td>\n      <td>275.203000</td>\n      <td>275.203000</td>\n      <td>1012</td>\n      <td>97</td>\n      <td>1</td>\n      <td>198</td>\n      <td>0.3</td>\n      <td>0.0</td>\n      <td>0.200</td>\n      <td>88</td>\n      <td>500</td>\n      <td>rain</td>\n      <td>light rain</td>\n      <td>10</td>\n    </tr>\n    <tr>\n      <th>6250</th>\n      <td>2015-02-04 20:00:00+01:00</td>\n      <td>Bilbao</td>\n      <td>274.826656</td>\n      <td>274.826656</td>\n      <td>274.826656</td>\n      <td>1014</td>\n      <td>90</td>\n      <td>3</td>\n      <td>13</td>\n      <td>0.3</td>\n      <td>0.0</td>\n      <td>20.900</td>\n      <td>89</td>\n      <td>500</td>\n      <td>rain</td>\n      <td>light rain</td>\n      <td>10</td>\n    </tr>\n    <tr>\n      <th>10148</th>\n      <td>2015-02-08 16:00:00+01:00</td>\n      <td>Bilbao</td>\n      <td>277.219500</td>\n      <td>277.219500</td>\n      <td>277.219500</td>\n      <td>1031</td>\n      <td>82</td>\n      <td>2</td>\n      <td>21</td>\n      <td>0.3</td>\n      <td>0.0</td>\n      <td>0.200</td>\n      <td>78</td>\n      <td>500</td>\n      <td>rain</td>\n      <td>light rain</td>\n      <td>10</td>\n    </tr>\n    <tr>\n      <th>11016</th>\n      <td>2015-02-01 09:00:00+01:00</td>\n      <td>Bilbao</td>\n      <td>276.367344</td>\n      <td>276.367344</td>\n      <td>276.367344</td>\n      <td>1010</td>\n      <td>92</td>\n      <td>4</td>\n      <td>314</td>\n      <td>0.9</td>\n      <td>0.0</td>\n      <td>0.550</td>\n      <td>92</td>\n      <td>501</td>\n      <td>rain</td>\n      <td>moderate rain</td>\n      <td>10</td>\n    </tr>\n    <tr>\n      <th>...</th>\n      <td>...</td>\n      <td>...</td>\n      <td>...</td>\n      <td>...</td>\n      <td>...</td>\n      <td>...</td>\n      <td>...</td>\n      <td>...</td>\n      <td>...</td>\n      <td>...</td>\n      <td>...</td>\n      <td>...</td>\n      <td>...</td>\n      <td>...</td>\n      <td>...</td>\n      <td>...</td>\n      <td>...</td>\n    </tr>\n    <tr>\n      <th>152628</th>\n      <td>2015-02-03 10:00:00+01:00</td>\n      <td>Bilbao</td>\n      <td>276.557500</td>\n      <td>276.557500</td>\n      <td>276.557500</td>\n      <td>1004</td>\n      <td>94</td>\n      <td>1</td>\n      <td>281</td>\n      <td>0.9</td>\n      <td>0.0</td>\n      <td>1.100</td>\n      <td>84</td>\n      <td>501</td>\n      <td>rain</td>\n      <td>moderate rain</td>\n      <td>10</td>\n    </tr>\n    <tr>\n      <th>153808</th>\n      <td>2015-02-02 03:00:00+01:00</td>\n      <td>Bilbao</td>\n      <td>276.382656</td>\n      <td>276.382656</td>\n      <td>276.382656</td>\n      <td>1012</td>\n      <td>96</td>\n      <td>1</td>\n      <td>250</td>\n      <td>0.3</td>\n      <td>0.0</td>\n      <td>0.050</td>\n      <td>84</td>\n      <td>500</td>\n      <td>rain</td>\n      <td>light rain</td>\n      <td>10</td>\n    </tr>\n    <tr>\n      <th>154633</th>\n      <td>2015-02-04 06:00:00+01:00</td>\n      <td>Bilbao</td>\n      <td>273.317000</td>\n      <td>273.317000</td>\n      <td>273.317000</td>\n      <td>1006</td>\n      <td>97</td>\n      <td>1</td>\n      <td>119</td>\n      <td>0.3</td>\n      <td>0.0</td>\n      <td>3.900</td>\n      <td>88</td>\n      <td>500</td>\n      <td>rain</td>\n      <td>light rain</td>\n      <td>10</td>\n    </tr>\n    <tr>\n      <th>157078</th>\n      <td>2015-01-22 10:00:00+01:00</td>\n      <td>Bilbao</td>\n      <td>277.648000</td>\n      <td>277.648000</td>\n      <td>277.648000</td>\n      <td>1013</td>\n      <td>96</td>\n      <td>2</td>\n      <td>343</td>\n      <td>3.0</td>\n      <td>0.0</td>\n      <td>2.700</td>\n      <td>92</td>\n      <td>502</td>\n      <td>rain</td>\n      <td>heavy intensity rain</td>\n      <td>10</td>\n    </tr>\n    <tr>\n      <th>157587</th>\n      <td>2015-02-04 13:00:00+01:00</td>\n      <td>Valencia</td>\n      <td>280.050000</td>\n      <td>280.050000</td>\n      <td>280.050000</td>\n      <td>1000</td>\n      <td>36</td>\n      <td>11</td>\n      <td>349</td>\n      <td>0.3</td>\n      <td>0.0</td>\n      <td>1.125</td>\n      <td>92</td>\n      <td>500</td>\n      <td>rain</td>\n      <td>light rain</td>\n      <td>10d</td>\n    </tr>\n  </tbody>\n</table>\n<p>216 rows × 17 columns</p>\n</div>"
     },
     "execution_count": 113,
     "metadata": {},
     "output_type": "execute_result"
    }
   ],
   "source": [
    "df_snow"
   ],
   "metadata": {
    "collapsed": false,
    "ExecuteTime": {
     "start_time": "2023-05-29T23:09:58.674084Z",
     "end_time": "2023-05-29T23:09:58.679244Z"
    }
   }
  },
  {
   "cell_type": "code",
   "execution_count": 114,
   "outputs": [
    {
     "data": {
      "text/plain": "count    216.0\nmean       0.0\nstd        0.0\nmin        0.0\n25%        0.0\n50%        0.0\n75%        0.0\nmax        0.0\ndtype: float64"
     },
     "execution_count": 114,
     "metadata": {},
     "output_type": "execute_result"
    }
   ],
   "source": [
    "snowing_dif = df_snow[\"temp_max\"] - df_snow[\"temp_min\"]\n",
    "snowing_dif.describe()"
   ],
   "metadata": {
    "collapsed": false,
    "ExecuteTime": {
     "start_time": "2023-05-29T23:09:59.364853Z",
     "end_time": "2023-05-29T23:09:59.367736Z"
    }
   }
  },
  {
   "cell_type": "code",
   "execution_count": 115,
   "outputs": [
    {
     "data": {
      "text/plain": "count    7903.000000\nmean        7.618640\nstd         6.453353\nmin         0.000000\n25%         2.000000\n50%         6.000000\n75%        12.000000\nmax        33.330000\ndtype: float64"
     },
     "execution_count": 115,
     "metadata": {},
     "output_type": "execute_result"
    }
   ],
   "source": [
    "hot_dif = df_temp_max[\"temp_max\"] - df_temp_max[\"temp_min\"]\n",
    "hot_dif.describe()"
   ],
   "metadata": {
    "collapsed": false,
    "ExecuteTime": {
     "start_time": "2023-05-29T23:10:42.836721Z",
     "end_time": "2023-05-29T23:10:42.863038Z"
    }
   }
  },
  {
   "cell_type": "markdown",
   "source": [
    "# Parte 2: Trasformazione e Predizione"
   ],
   "metadata": {
    "collapsed": false
   }
  },
  {
   "cell_type": "code",
   "execution_count": null,
   "outputs": [],
   "source": [],
   "metadata": {
    "collapsed": false
   }
  }
 ],
 "metadata": {
  "kernelspec": {
   "display_name": "Python 3",
   "language": "python",
   "name": "python3"
  },
  "language_info": {
   "codemirror_mode": {
    "name": "ipython",
    "version": 2
   },
   "file_extension": ".py",
   "mimetype": "text/x-python",
   "name": "python",
   "nbconvert_exporter": "python",
   "pygments_lexer": "ipython2",
   "version": "2.7.6"
  }
 },
 "nbformat": 4,
 "nbformat_minor": 0
}
