{
 "nbformat": 4,
 "nbformat_minor": 0,
 "metadata": {
  "kernelspec": {
   "display_name": "Python 3",
   "language": "python",
   "name": "python3"
  },
  "language_info": {
   "codemirror_mode": {
    "name": "ipython",
    "version": 3
   },
   "file_extension": ".py",
   "mimetype": "text/x-python",
   "name": "python",
   "nbconvert_exporter": "python",
   "pygments_lexer": "ipython3",
   "version": "3.6.8"
  },
  "colab": {
   "provenance": []
  }
 },
 "cells": [
  {
   "cell_type": "code",
   "metadata": {
    "id": "4rwJS-nk1qP6",
    "ExecuteTime": {
     "start_time": "2023-05-08T15:34:11.843688Z",
     "end_time": "2023-05-08T15:34:13.748122Z"
    }
   },
   "source": [
    "import pandas as pd\n",
    "import numpy as np\n",
    "from sklearn.model_selection import train_test_split\n",
    "from sklearn.preprocessing import StandardScaler\n",
    "from sklearn.ensemble import RandomForestClassifier\n",
    "from sklearn.model_selection import cross_val_score\n",
    "from sklearn.model_selection import GridSearchCV"
   ],
   "execution_count": 1,
   "outputs": []
  },
  {
   "cell_type": "markdown",
   "metadata": {
    "collapsed": true,
    "id": "PwLjEIfz0T6y"
   },
   "source": [
    "# 1. Load the dataset wineQualityReds (consider the first column as the index)"
   ]
  },
  {
   "cell_type": "code",
   "metadata": {
    "id": "0BFtQaPN0T60",
    "ExecuteTime": {
     "start_time": "2023-05-08T15:39:32.213630Z",
     "end_time": "2023-05-08T15:39:32.237748Z"
    }
   },
   "source": [
    "# read_csv\n",
    "data = pd.read_csv(\"data/wineQualityReds.csv\", index_col=0)\n",
    "data"
   ],
   "execution_count": 14,
   "outputs": [
    {
     "data": {
      "text/plain": "      fixed.acidity  volatile.acidity  citric.acid  residual.sugar  chlorides  \\\n1               7.4             0.700         0.00             1.9      0.076   \n2               7.8             0.880         0.00             2.6      0.098   \n3               7.8             0.760         0.04             2.3      0.092   \n4              11.2             0.280         0.56             1.9      0.075   \n5               7.4             0.700         0.00             1.9      0.076   \n...             ...               ...          ...             ...        ...   \n1595            6.2             0.600         0.08             2.0      0.090   \n1596            5.9             0.550         0.10             2.2      0.062   \n1597            6.3             0.510         0.13             2.3      0.076   \n1598            5.9             0.645         0.12             2.0      0.075   \n1599            6.0             0.310         0.47             3.6      0.067   \n\n      free.sulfur.dioxide  total.sulfur.dioxide  density    pH  sulphates  \\\n1                    11.0                  34.0  0.99780  3.51       0.56   \n2                    25.0                  67.0  0.99680  3.20       0.68   \n3                    15.0                  54.0  0.99700  3.26       0.65   \n4                    17.0                  60.0  0.99800  3.16       0.58   \n5                    11.0                  34.0  0.99780  3.51       0.56   \n...                   ...                   ...      ...   ...        ...   \n1595                 32.0                  44.0  0.99490  3.45       0.58   \n1596                 39.0                  51.0  0.99512  3.52       0.76   \n1597                 29.0                  40.0  0.99574  3.42       0.75   \n1598                 32.0                  44.0  0.99547  3.57       0.71   \n1599                 18.0                  42.0  0.99549  3.39       0.66   \n\n      alcohol  quality  \n1         9.4        5  \n2         9.8        5  \n3         9.8        5  \n4         9.8        6  \n5         9.4        5  \n...       ...      ...  \n1595     10.5        5  \n1596     11.2        6  \n1597     11.0        6  \n1598     10.2        5  \n1599     11.0        6  \n\n[1599 rows x 12 columns]",
      "text/html": "<div>\n<style scoped>\n    .dataframe tbody tr th:only-of-type {\n        vertical-align: middle;\n    }\n\n    .dataframe tbody tr th {\n        vertical-align: top;\n    }\n\n    .dataframe thead th {\n        text-align: right;\n    }\n</style>\n<table border=\"1\" class=\"dataframe\">\n  <thead>\n    <tr style=\"text-align: right;\">\n      <th></th>\n      <th>fixed.acidity</th>\n      <th>volatile.acidity</th>\n      <th>citric.acid</th>\n      <th>residual.sugar</th>\n      <th>chlorides</th>\n      <th>free.sulfur.dioxide</th>\n      <th>total.sulfur.dioxide</th>\n      <th>density</th>\n      <th>pH</th>\n      <th>sulphates</th>\n      <th>alcohol</th>\n      <th>quality</th>\n    </tr>\n  </thead>\n  <tbody>\n    <tr>\n      <th>1</th>\n      <td>7.4</td>\n      <td>0.700</td>\n      <td>0.00</td>\n      <td>1.9</td>\n      <td>0.076</td>\n      <td>11.0</td>\n      <td>34.0</td>\n      <td>0.99780</td>\n      <td>3.51</td>\n      <td>0.56</td>\n      <td>9.4</td>\n      <td>5</td>\n    </tr>\n    <tr>\n      <th>2</th>\n      <td>7.8</td>\n      <td>0.880</td>\n      <td>0.00</td>\n      <td>2.6</td>\n      <td>0.098</td>\n      <td>25.0</td>\n      <td>67.0</td>\n      <td>0.99680</td>\n      <td>3.20</td>\n      <td>0.68</td>\n      <td>9.8</td>\n      <td>5</td>\n    </tr>\n    <tr>\n      <th>3</th>\n      <td>7.8</td>\n      <td>0.760</td>\n      <td>0.04</td>\n      <td>2.3</td>\n      <td>0.092</td>\n      <td>15.0</td>\n      <td>54.0</td>\n      <td>0.99700</td>\n      <td>3.26</td>\n      <td>0.65</td>\n      <td>9.8</td>\n      <td>5</td>\n    </tr>\n    <tr>\n      <th>4</th>\n      <td>11.2</td>\n      <td>0.280</td>\n      <td>0.56</td>\n      <td>1.9</td>\n      <td>0.075</td>\n      <td>17.0</td>\n      <td>60.0</td>\n      <td>0.99800</td>\n      <td>3.16</td>\n      <td>0.58</td>\n      <td>9.8</td>\n      <td>6</td>\n    </tr>\n    <tr>\n      <th>5</th>\n      <td>7.4</td>\n      <td>0.700</td>\n      <td>0.00</td>\n      <td>1.9</td>\n      <td>0.076</td>\n      <td>11.0</td>\n      <td>34.0</td>\n      <td>0.99780</td>\n      <td>3.51</td>\n      <td>0.56</td>\n      <td>9.4</td>\n      <td>5</td>\n    </tr>\n    <tr>\n      <th>...</th>\n      <td>...</td>\n      <td>...</td>\n      <td>...</td>\n      <td>...</td>\n      <td>...</td>\n      <td>...</td>\n      <td>...</td>\n      <td>...</td>\n      <td>...</td>\n      <td>...</td>\n      <td>...</td>\n      <td>...</td>\n    </tr>\n    <tr>\n      <th>1595</th>\n      <td>6.2</td>\n      <td>0.600</td>\n      <td>0.08</td>\n      <td>2.0</td>\n      <td>0.090</td>\n      <td>32.0</td>\n      <td>44.0</td>\n      <td>0.99490</td>\n      <td>3.45</td>\n      <td>0.58</td>\n      <td>10.5</td>\n      <td>5</td>\n    </tr>\n    <tr>\n      <th>1596</th>\n      <td>5.9</td>\n      <td>0.550</td>\n      <td>0.10</td>\n      <td>2.2</td>\n      <td>0.062</td>\n      <td>39.0</td>\n      <td>51.0</td>\n      <td>0.99512</td>\n      <td>3.52</td>\n      <td>0.76</td>\n      <td>11.2</td>\n      <td>6</td>\n    </tr>\n    <tr>\n      <th>1597</th>\n      <td>6.3</td>\n      <td>0.510</td>\n      <td>0.13</td>\n      <td>2.3</td>\n      <td>0.076</td>\n      <td>29.0</td>\n      <td>40.0</td>\n      <td>0.99574</td>\n      <td>3.42</td>\n      <td>0.75</td>\n      <td>11.0</td>\n      <td>6</td>\n    </tr>\n    <tr>\n      <th>1598</th>\n      <td>5.9</td>\n      <td>0.645</td>\n      <td>0.12</td>\n      <td>2.0</td>\n      <td>0.075</td>\n      <td>32.0</td>\n      <td>44.0</td>\n      <td>0.99547</td>\n      <td>3.57</td>\n      <td>0.71</td>\n      <td>10.2</td>\n      <td>5</td>\n    </tr>\n    <tr>\n      <th>1599</th>\n      <td>6.0</td>\n      <td>0.310</td>\n      <td>0.47</td>\n      <td>3.6</td>\n      <td>0.067</td>\n      <td>18.0</td>\n      <td>42.0</td>\n      <td>0.99549</td>\n      <td>3.39</td>\n      <td>0.66</td>\n      <td>11.0</td>\n      <td>6</td>\n    </tr>\n  </tbody>\n</table>\n<p>1599 rows × 12 columns</p>\n</div>"
     },
     "execution_count": 14,
     "metadata": {},
     "output_type": "execute_result"
    }
   ]
  },
  {
   "cell_type": "markdown",
   "metadata": {
    "id": "zOz8wD8f1Z9C"
   },
   "source": [
    "# 2. Split the dataset in train and test considering that the target column is called 'quality'"
   ]
  },
  {
   "cell_type": "code",
   "execution_count": 13,
   "outputs": [
    {
     "data": {
      "text/plain": "      fixed.acidity  volatile.acidity  citric.acid  residual.sugar  chlorides  \\\n1               7.4             0.700         0.00             1.9      0.076   \n2               7.8             0.880         0.00             2.6      0.098   \n3               7.8             0.760         0.04             2.3      0.092   \n4              11.2             0.280         0.56             1.9      0.075   \n5               7.4             0.700         0.00             1.9      0.076   \n...             ...               ...          ...             ...        ...   \n1595            6.2             0.600         0.08             2.0      0.090   \n1596            5.9             0.550         0.10             2.2      0.062   \n1597            6.3             0.510         0.13             2.3      0.076   \n1598            5.9             0.645         0.12             2.0      0.075   \n1599            6.0             0.310         0.47             3.6      0.067   \n\n      free.sulfur.dioxide  total.sulfur.dioxide  density    pH  sulphates  \\\n1                    11.0                  34.0  0.99780  3.51       0.56   \n2                    25.0                  67.0  0.99680  3.20       0.68   \n3                    15.0                  54.0  0.99700  3.26       0.65   \n4                    17.0                  60.0  0.99800  3.16       0.58   \n5                    11.0                  34.0  0.99780  3.51       0.56   \n...                   ...                   ...      ...   ...        ...   \n1595                 32.0                  44.0  0.99490  3.45       0.58   \n1596                 39.0                  51.0  0.99512  3.52       0.76   \n1597                 29.0                  40.0  0.99574  3.42       0.75   \n1598                 32.0                  44.0  0.99547  3.57       0.71   \n1599                 18.0                  42.0  0.99549  3.39       0.66   \n\n      alcohol  \n1         9.4  \n2         9.8  \n3         9.8  \n4         9.8  \n5         9.4  \n...       ...  \n1595     10.5  \n1596     11.2  \n1597     11.0  \n1598     10.2  \n1599     11.0  \n\n[1599 rows x 11 columns]",
      "text/html": "<div>\n<style scoped>\n    .dataframe tbody tr th:only-of-type {\n        vertical-align: middle;\n    }\n\n    .dataframe tbody tr th {\n        vertical-align: top;\n    }\n\n    .dataframe thead th {\n        text-align: right;\n    }\n</style>\n<table border=\"1\" class=\"dataframe\">\n  <thead>\n    <tr style=\"text-align: right;\">\n      <th></th>\n      <th>fixed.acidity</th>\n      <th>volatile.acidity</th>\n      <th>citric.acid</th>\n      <th>residual.sugar</th>\n      <th>chlorides</th>\n      <th>free.sulfur.dioxide</th>\n      <th>total.sulfur.dioxide</th>\n      <th>density</th>\n      <th>pH</th>\n      <th>sulphates</th>\n      <th>alcohol</th>\n    </tr>\n  </thead>\n  <tbody>\n    <tr>\n      <th>1</th>\n      <td>7.4</td>\n      <td>0.700</td>\n      <td>0.00</td>\n      <td>1.9</td>\n      <td>0.076</td>\n      <td>11.0</td>\n      <td>34.0</td>\n      <td>0.99780</td>\n      <td>3.51</td>\n      <td>0.56</td>\n      <td>9.4</td>\n    </tr>\n    <tr>\n      <th>2</th>\n      <td>7.8</td>\n      <td>0.880</td>\n      <td>0.00</td>\n      <td>2.6</td>\n      <td>0.098</td>\n      <td>25.0</td>\n      <td>67.0</td>\n      <td>0.99680</td>\n      <td>3.20</td>\n      <td>0.68</td>\n      <td>9.8</td>\n    </tr>\n    <tr>\n      <th>3</th>\n      <td>7.8</td>\n      <td>0.760</td>\n      <td>0.04</td>\n      <td>2.3</td>\n      <td>0.092</td>\n      <td>15.0</td>\n      <td>54.0</td>\n      <td>0.99700</td>\n      <td>3.26</td>\n      <td>0.65</td>\n      <td>9.8</td>\n    </tr>\n    <tr>\n      <th>4</th>\n      <td>11.2</td>\n      <td>0.280</td>\n      <td>0.56</td>\n      <td>1.9</td>\n      <td>0.075</td>\n      <td>17.0</td>\n      <td>60.0</td>\n      <td>0.99800</td>\n      <td>3.16</td>\n      <td>0.58</td>\n      <td>9.8</td>\n    </tr>\n    <tr>\n      <th>5</th>\n      <td>7.4</td>\n      <td>0.700</td>\n      <td>0.00</td>\n      <td>1.9</td>\n      <td>0.076</td>\n      <td>11.0</td>\n      <td>34.0</td>\n      <td>0.99780</td>\n      <td>3.51</td>\n      <td>0.56</td>\n      <td>9.4</td>\n    </tr>\n    <tr>\n      <th>...</th>\n      <td>...</td>\n      <td>...</td>\n      <td>...</td>\n      <td>...</td>\n      <td>...</td>\n      <td>...</td>\n      <td>...</td>\n      <td>...</td>\n      <td>...</td>\n      <td>...</td>\n      <td>...</td>\n    </tr>\n    <tr>\n      <th>1595</th>\n      <td>6.2</td>\n      <td>0.600</td>\n      <td>0.08</td>\n      <td>2.0</td>\n      <td>0.090</td>\n      <td>32.0</td>\n      <td>44.0</td>\n      <td>0.99490</td>\n      <td>3.45</td>\n      <td>0.58</td>\n      <td>10.5</td>\n    </tr>\n    <tr>\n      <th>1596</th>\n      <td>5.9</td>\n      <td>0.550</td>\n      <td>0.10</td>\n      <td>2.2</td>\n      <td>0.062</td>\n      <td>39.0</td>\n      <td>51.0</td>\n      <td>0.99512</td>\n      <td>3.52</td>\n      <td>0.76</td>\n      <td>11.2</td>\n    </tr>\n    <tr>\n      <th>1597</th>\n      <td>6.3</td>\n      <td>0.510</td>\n      <td>0.13</td>\n      <td>2.3</td>\n      <td>0.076</td>\n      <td>29.0</td>\n      <td>40.0</td>\n      <td>0.99574</td>\n      <td>3.42</td>\n      <td>0.75</td>\n      <td>11.0</td>\n    </tr>\n    <tr>\n      <th>1598</th>\n      <td>5.9</td>\n      <td>0.645</td>\n      <td>0.12</td>\n      <td>2.0</td>\n      <td>0.075</td>\n      <td>32.0</td>\n      <td>44.0</td>\n      <td>0.99547</td>\n      <td>3.57</td>\n      <td>0.71</td>\n      <td>10.2</td>\n    </tr>\n    <tr>\n      <th>1599</th>\n      <td>6.0</td>\n      <td>0.310</td>\n      <td>0.47</td>\n      <td>3.6</td>\n      <td>0.067</td>\n      <td>18.0</td>\n      <td>42.0</td>\n      <td>0.99549</td>\n      <td>3.39</td>\n      <td>0.66</td>\n      <td>11.0</td>\n    </tr>\n  </tbody>\n</table>\n<p>1599 rows × 11 columns</p>\n</div>"
     },
     "execution_count": 13,
     "metadata": {},
     "output_type": "execute_result"
    }
   ],
   "source": [
    "data"
   ],
   "metadata": {
    "collapsed": false,
    "ExecuteTime": {
     "start_time": "2023-05-08T15:39:18.647988Z",
     "end_time": "2023-05-08T15:39:18.653348Z"
    }
   }
  },
  {
   "cell_type": "code",
   "execution_count": 16,
   "outputs": [],
   "source": [
    "df = data.copy()\n",
    "del df['quality']"
   ],
   "metadata": {
    "collapsed": false,
    "ExecuteTime": {
     "start_time": "2023-05-08T15:42:13.164445Z",
     "end_time": "2023-05-08T15:42:13.170225Z"
    }
   }
  },
  {
   "cell_type": "code",
   "metadata": {
    "id": "sIzXhxDw1bXf",
    "ExecuteTime": {
     "start_time": "2023-05-08T15:42:37.556891Z",
     "end_time": "2023-05-08T15:42:37.561595Z"
    }
   },
   "source": [
    "# train_test_split\n",
    "X_train, X_test, y_train, y_test = train_test_split(df, data['quality'],test_size = 0.25)"
   ],
   "execution_count": 18,
   "outputs": []
  },
  {
   "cell_type": "code",
   "execution_count": 20,
   "outputs": [
    {
     "data": {
      "text/plain": "1487    5\n971     6\n1391    6\n541     5\n504     7\n       ..\n1595    5\n1539    5\n333     6\n414     7\n994     5\nName: quality, Length: 400, dtype: int64"
     },
     "execution_count": 20,
     "metadata": {},
     "output_type": "execute_result"
    }
   ],
   "source": [
    "y_test"
   ],
   "metadata": {
    "collapsed": false,
    "ExecuteTime": {
     "start_time": "2023-05-08T15:43:07.443491Z",
     "end_time": "2023-05-08T15:43:07.448584Z"
    }
   }
  },
  {
   "cell_type": "markdown",
   "metadata": {
    "id": "NPXEK93o1bu-"
   },
   "source": [
    "# 3. Normalize train and test data"
   ]
  },
  {
   "cell_type": "code",
   "metadata": {
    "id": "N9wg1GQn1c94"
   },
   "source": [
    "# StandardScaler + fit_transform"
   ],
   "execution_count": null,
   "outputs": []
  },
  {
   "cell_type": "markdown",
   "metadata": {
    "id": "X5Yw6RmZ1dWI"
   },
   "source": [
    "# 4. Create a RandomForest classifier with 300 estimators"
   ]
  },
  {
   "cell_type": "code",
   "metadata": {
    "id": "sLK_2MfW1eiZ"
   },
   "source": [
    "# RandomForestClassifier"
   ],
   "execution_count": null,
   "outputs": []
  },
  {
   "cell_type": "markdown",
   "metadata": {
    "id": "P8QxlGNp1e6W"
   },
   "source": [
    "# 5. Get the accuracy of the model in cross validation (with K=5)"
   ]
  },
  {
   "cell_type": "code",
   "metadata": {
    "id": "E5UV0e8m1gEX"
   },
   "source": [
    "# cross_val_score"
   ],
   "execution_count": null,
   "outputs": []
  },
  {
   "cell_type": "markdown",
   "metadata": {
    "id": "fbc4C3sX1hgF"
   },
   "source": [
    "# 6. Apply in cross validation a GridSearch with the following parameters to be tested:\n",
    "- 'n_estimators': [100, 300, 500, 800, 1000],\n",
    "- 'criterion': ['gini', 'entropy'],\n",
    "- 'bootstrap': [True, False]"
   ]
  },
  {
   "cell_type": "code",
   "metadata": {
    "id": "_MGBfZBW1kIm"
   },
   "source": [
    "# GridSearchCV"
   ],
   "execution_count": null,
   "outputs": []
  },
  {
   "cell_type": "markdown",
   "metadata": {
    "id": "UIIIuyJz1knf"
   },
   "source": [
    "# 7. Indicate the configuration that generates the best accuracy"
   ]
  },
  {
   "cell_type": "code",
   "metadata": {
    "id": "joMF8Ah21lAr"
   },
   "source": [
    "# best_params_ + best_score_"
   ],
   "execution_count": null,
   "outputs": []
  },
  {
   "cell_type": "markdown",
   "metadata": {
    "id": "RbiyCNRiy98v"
   },
   "source": [
    "# 8. Create a pipeline with the the preprocessing component, the model component and the Grid Search Analysis."
   ]
  },
  {
   "cell_type": "code",
   "metadata": {
    "id": "yXenTYNGyBSs"
   },
   "source": [],
   "execution_count": null,
   "outputs": []
  }
 ]
}
