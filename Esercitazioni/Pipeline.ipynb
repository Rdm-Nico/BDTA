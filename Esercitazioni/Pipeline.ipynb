{
 "cells": [
  {
   "cell_type": "markdown",
   "source": [
    "# Pipeline\n",
    "\n",
    "Le pipeline applicano una lista di trasformatori e un estimatore finale.\n",
    "\n",
    "Gli step intermedi di  una pipeline devono sempre essere dei trasformatori, cioè devono implementare sempre  i metodi `fit` e `trasfrom`, l’estimatore finale dovrà solo possedere il metodo `fit`\n",
    "\n",
    "l’obbiettivo della pipeline é quello di assemblare diversi passaggi che possono poi essere cross validati insieme mentre si scelgono i parametri differenti"
   ],
   "metadata": {
    "collapsed": false
   }
  },
  {
   "cell_type": "code",
   "execution_count": 1,
   "outputs": [],
   "source": [
    "import pandas as pd\n",
    "import nu"
   ],
   "metadata": {
    "collapsed": false,
    "ExecuteTime": {
     "start_time": "2023-05-20T15:39:13.269048Z",
     "end_time": "2023-05-20T15:39:14.780990Z"
    }
   }
  },
  {
   "cell_type": "markdown",
   "source": [],
   "metadata": {
    "collapsed": false
   }
  }
 ],
 "metadata": {
  "kernelspec": {
   "display_name": "Python 3",
   "language": "python",
   "name": "python3"
  },
  "language_info": {
   "codemirror_mode": {
    "name": "ipython",
    "version": 2
   },
   "file_extension": ".py",
   "mimetype": "text/x-python",
   "name": "python",
   "nbconvert_exporter": "python",
   "pygments_lexer": "ipython2",
   "version": "2.7.6"
  }
 },
 "nbformat": 4,
 "nbformat_minor": 0
}
