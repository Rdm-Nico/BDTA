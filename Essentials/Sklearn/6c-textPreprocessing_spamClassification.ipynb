{
 "cells": [
  {
   "cell_type": "code",
   "execution_count": null,
   "metadata": {
    "id": "qUUyPHqc7Z8i",
    "executionInfo": {
     "status": "ok",
     "timestamp": 1683357558346,
     "user_tz": -120,
     "elapsed": 2708,
     "user": {
      "displayName": "Francesco GUERRA",
      "userId": "03589851697809460716"
     }
    },
    "ExecuteTime": {
     "start_time": "2023-05-08T14:19:03.719197Z",
     "end_time": "2023-05-08T14:19:09.459861Z"
    }
   },
   "outputs": [],
   "source": [
    "import nltk\n",
    "import matplotlib.pyplot as plt\n",
    "import numpy as np\n",
    "import pandas as pd\n",
    "import codecs\n",
    "%matplotlib inline\n"
   ]
  },
  {
   "cell_type": "markdown",
   "source": [
    "Dataset from kaggle(dataset carino con anche delle sfide):\n",
    "\n",
    "[kaggle dataset](https://www.kaggle.com/datasets/venky73/spam-mails-dataset?select=spam_ham_dataset.csv)"
   ],
   "metadata": {
    "id": "7lITtv27-arI"
   }
  },
  {
   "cell_type": "markdown",
   "source": [
    "## Loading the dataset"
   ],
   "metadata": {
    "id": "TCM1bUDSZcpM"
   }
  },
  {
   "cell_type": "code",
   "source": [
    "df = pd.read_csv(\"spam_ham_dataset.csv\", index_col=0)"
   ],
   "metadata": {
    "id": "sqlkXkSs8Ygf",
    "executionInfo": {
     "status": "ok",
     "timestamp": 1683358441526,
     "user_tz": -120,
     "elapsed": 271,
     "user": {
      "displayName": "Francesco GUERRA",
      "userId": "03589851697809460716"
     }
    },
    "ExecuteTime": {
     "start_time": "2023-05-08T14:19:42.335375Z",
     "end_time": "2023-05-08T14:19:42.411459Z"
    }
   },
   "execution_count": null,
   "outputs": []
  },
  {
   "cell_type": "code",
   "source": [
    "df"
   ],
   "metadata": {
    "colab": {
     "base_uri": "https://localhost:8080/",
     "height": 423
    },
    "id": "WcGV9RTw8fId",
    "executionInfo": {
     "status": "ok",
     "timestamp": 1683358442690,
     "user_tz": -120,
     "elapsed": 7,
     "user": {
      "displayName": "Francesco GUERRA",
      "userId": "03589851697809460716"
     }
    },
    "outputId": "d4fc76a0-84b8-43fc-ae3e-52b9f6c3b06e",
    "ExecuteTime": {
     "start_time": "2023-05-08T14:19:53.345784Z",
     "end_time": "2023-05-08T14:19:53.351530Z"
    }
   },
   "execution_count": 4,
   "outputs": [
    {
     "data": {
      "text/plain": "     label                                               text  label_num\n605    ham  Subject: enron methanol ; meter # : 988291\\r\\n...          0\n2349   ham  Subject: hpl nom for january 9 , 2001\\r\\n( see...          0\n3624   ham  Subject: neon retreat\\r\\nho ho ho , we ' re ar...          0\n4685  spam  Subject: photoshop , windows , office . cheap ...          1\n2030   ham  Subject: re : indian springs\\r\\nthis deal is t...          0\n...    ...                                                ...        ...\n1518   ham  Subject: put the 10 on the ft\\r\\nthe transport...          0\n404    ham  Subject: 3 / 4 / 2000 and following noms\\r\\nhp...          0\n2933   ham  Subject: calpine daily gas nomination\\r\\n>\\r\\n...          0\n1409   ham  Subject: industrial worksheets for august 2000...          0\n4807  spam  Subject: important online banking alert\\r\\ndea...          1\n\n[5171 rows x 3 columns]",
      "text/html": "<div>\n<style scoped>\n    .dataframe tbody tr th:only-of-type {\n        vertical-align: middle;\n    }\n\n    .dataframe tbody tr th {\n        vertical-align: top;\n    }\n\n    .dataframe thead th {\n        text-align: right;\n    }\n</style>\n<table border=\"1\" class=\"dataframe\">\n  <thead>\n    <tr style=\"text-align: right;\">\n      <th></th>\n      <th>label</th>\n      <th>text</th>\n      <th>label_num</th>\n    </tr>\n  </thead>\n  <tbody>\n    <tr>\n      <th>605</th>\n      <td>ham</td>\n      <td>Subject: enron methanol ; meter # : 988291\\r\\n...</td>\n      <td>0</td>\n    </tr>\n    <tr>\n      <th>2349</th>\n      <td>ham</td>\n      <td>Subject: hpl nom for january 9 , 2001\\r\\n( see...</td>\n      <td>0</td>\n    </tr>\n    <tr>\n      <th>3624</th>\n      <td>ham</td>\n      <td>Subject: neon retreat\\r\\nho ho ho , we ' re ar...</td>\n      <td>0</td>\n    </tr>\n    <tr>\n      <th>4685</th>\n      <td>spam</td>\n      <td>Subject: photoshop , windows , office . cheap ...</td>\n      <td>1</td>\n    </tr>\n    <tr>\n      <th>2030</th>\n      <td>ham</td>\n      <td>Subject: re : indian springs\\r\\nthis deal is t...</td>\n      <td>0</td>\n    </tr>\n    <tr>\n      <th>...</th>\n      <td>...</td>\n      <td>...</td>\n      <td>...</td>\n    </tr>\n    <tr>\n      <th>1518</th>\n      <td>ham</td>\n      <td>Subject: put the 10 on the ft\\r\\nthe transport...</td>\n      <td>0</td>\n    </tr>\n    <tr>\n      <th>404</th>\n      <td>ham</td>\n      <td>Subject: 3 / 4 / 2000 and following noms\\r\\nhp...</td>\n      <td>0</td>\n    </tr>\n    <tr>\n      <th>2933</th>\n      <td>ham</td>\n      <td>Subject: calpine daily gas nomination\\r\\n&gt;\\r\\n...</td>\n      <td>0</td>\n    </tr>\n    <tr>\n      <th>1409</th>\n      <td>ham</td>\n      <td>Subject: industrial worksheets for august 2000...</td>\n      <td>0</td>\n    </tr>\n    <tr>\n      <th>4807</th>\n      <td>spam</td>\n      <td>Subject: important online banking alert\\r\\ndea...</td>\n      <td>1</td>\n    </tr>\n  </tbody>\n</table>\n<p>5171 rows × 3 columns</p>\n</div>"
     },
     "execution_count": 4,
     "metadata": {},
     "output_type": "execute_result"
    }
   ]
  },
  {
   "cell_type": "code",
   "source": [
    "df.sample(5)"
   ],
   "metadata": {
    "colab": {
     "base_uri": "https://localhost:8080/",
     "height": 206
    },
    "id": "WBjSG2QB8o1F",
    "executionInfo": {
     "status": "ok",
     "timestamp": 1683358447181,
     "user_tz": -120,
     "elapsed": 285,
     "user": {
      "displayName": "Francesco GUERRA",
      "userId": "03589851697809460716"
     }
    },
    "outputId": "6f230c5d-2f75-433f-ae64-f87d1fb65778",
    "ExecuteTime": {
     "start_time": "2023-05-08T14:21:44.324722Z",
     "end_time": "2023-05-08T14:21:44.328654Z"
    }
   },
   "execution_count": 5,
   "outputs": [
    {
     "data": {
      "text/plain": "     label                                               text  label_num\n420    ham  Subject: eops salary survey questionnaire\\r\\np...          0\n823    ham  Subject: revised avails\\r\\n- - - - - - - - - -...          0\n3793  spam  Subject: application declined\\r\\nare you drown...          1\n1142   ham  Subject: revision # 1 - enron / hpl actuals fo...          0\n1508   ham  Subject: re : new sitara desk request _ ena - ...          0",
      "text/html": "<div>\n<style scoped>\n    .dataframe tbody tr th:only-of-type {\n        vertical-align: middle;\n    }\n\n    .dataframe tbody tr th {\n        vertical-align: top;\n    }\n\n    .dataframe thead th {\n        text-align: right;\n    }\n</style>\n<table border=\"1\" class=\"dataframe\">\n  <thead>\n    <tr style=\"text-align: right;\">\n      <th></th>\n      <th>label</th>\n      <th>text</th>\n      <th>label_num</th>\n    </tr>\n  </thead>\n  <tbody>\n    <tr>\n      <th>420</th>\n      <td>ham</td>\n      <td>Subject: eops salary survey questionnaire\\r\\np...</td>\n      <td>0</td>\n    </tr>\n    <tr>\n      <th>823</th>\n      <td>ham</td>\n      <td>Subject: revised avails\\r\\n- - - - - - - - - -...</td>\n      <td>0</td>\n    </tr>\n    <tr>\n      <th>3793</th>\n      <td>spam</td>\n      <td>Subject: application declined\\r\\nare you drown...</td>\n      <td>1</td>\n    </tr>\n    <tr>\n      <th>1142</th>\n      <td>ham</td>\n      <td>Subject: revision # 1 - enron / hpl actuals fo...</td>\n      <td>0</td>\n    </tr>\n    <tr>\n      <th>1508</th>\n      <td>ham</td>\n      <td>Subject: re : new sitara desk request _ ena - ...</td>\n      <td>0</td>\n    </tr>\n  </tbody>\n</table>\n</div>"
     },
     "execution_count": 5,
     "metadata": {},
     "output_type": "execute_result"
    }
   ]
  },
  {
   "cell_type": "markdown",
   "source": [
    "## è necessario pulire un po:\n",
    "- tirare via gli spazi\n",
    "- tirare via i \\r \\n"
   ],
   "metadata": {
    "collapsed": false
   }
  },
  {
   "cell_type": "code",
   "source": [
    "def remove_line_break(text):\n",
    "    # Removes all line breaks\n",
    "    for sign in '\\r\\n':\n",
    "        text = text.replace(sign, \" \")\n",
    "    return text"
   ],
   "metadata": {
    "id": "e4yj-JAJ-uIZ",
    "executionInfo": {
     "status": "ok",
     "timestamp": 1683358452077,
     "user_tz": -120,
     "elapsed": 408,
     "user": {
      "displayName": "Francesco GUERRA",
      "userId": "03589851697809460716"
     }
    },
    "ExecuteTime": {
     "start_time": "2023-05-08T14:23:24.813622Z",
     "end_time": "2023-05-08T14:23:24.821314Z"
    }
   },
   "execution_count": 6,
   "outputs": []
  },
  {
   "cell_type": "code",
   "source": [
    "df[\"text\"]=df[\"text\"].apply(remove_line_break) # applica a tutte le righe la funzione che passa come parametro"
   ],
   "metadata": {
    "id": "GoNqLpEI-44z",
    "executionInfo": {
     "status": "ok",
     "timestamp": 1683358532675,
     "user_tz": -120,
     "elapsed": 266,
     "user": {
      "displayName": "Francesco GUERRA",
      "userId": "03589851697809460716"
     }
    },
    "ExecuteTime": {
     "start_time": "2023-05-08T14:23:33.525725Z",
     "end_time": "2023-05-08T14:23:33.533735Z"
    }
   },
   "execution_count": 7,
   "outputs": []
  },
  {
   "cell_type": "code",
   "source": [
    "df.head()"
   ],
   "metadata": {
    "colab": {
     "base_uri": "https://localhost:8080/",
     "height": 206
    },
    "id": "vtbWT_IT_Pow",
    "executionInfo": {
     "status": "ok",
     "timestamp": 1683358552910,
     "user_tz": -120,
     "elapsed": 5,
     "user": {
      "displayName": "Francesco GUERRA",
      "userId": "03589851697809460716"
     }
    },
    "outputId": "75de34fd-4b15-44bf-c580-07e133e171b0",
    "ExecuteTime": {
     "start_time": "2023-05-08T14:23:54.030092Z",
     "end_time": "2023-05-08T14:23:54.036827Z"
    }
   },
   "execution_count": 8,
   "outputs": [
    {
     "data": {
      "text/plain": "     label                                               text  label_num\n605    ham  Subject: enron methanol ; meter # : 988291  th...          0\n2349   ham  Subject: hpl nom for january 9 , 2001  ( see a...          0\n3624   ham  Subject: neon retreat  ho ho ho , we ' re arou...          0\n4685  spam  Subject: photoshop , windows , office . cheap ...          1\n2030   ham  Subject: re : indian springs  this deal is to ...          0",
      "text/html": "<div>\n<style scoped>\n    .dataframe tbody tr th:only-of-type {\n        vertical-align: middle;\n    }\n\n    .dataframe tbody tr th {\n        vertical-align: top;\n    }\n\n    .dataframe thead th {\n        text-align: right;\n    }\n</style>\n<table border=\"1\" class=\"dataframe\">\n  <thead>\n    <tr style=\"text-align: right;\">\n      <th></th>\n      <th>label</th>\n      <th>text</th>\n      <th>label_num</th>\n    </tr>\n  </thead>\n  <tbody>\n    <tr>\n      <th>605</th>\n      <td>ham</td>\n      <td>Subject: enron methanol ; meter # : 988291  th...</td>\n      <td>0</td>\n    </tr>\n    <tr>\n      <th>2349</th>\n      <td>ham</td>\n      <td>Subject: hpl nom for january 9 , 2001  ( see a...</td>\n      <td>0</td>\n    </tr>\n    <tr>\n      <th>3624</th>\n      <td>ham</td>\n      <td>Subject: neon retreat  ho ho ho , we ' re arou...</td>\n      <td>0</td>\n    </tr>\n    <tr>\n      <th>4685</th>\n      <td>spam</td>\n      <td>Subject: photoshop , windows , office . cheap ...</td>\n      <td>1</td>\n    </tr>\n    <tr>\n      <th>2030</th>\n      <td>ham</td>\n      <td>Subject: re : indian springs  this deal is to ...</td>\n      <td>0</td>\n    </tr>\n  </tbody>\n</table>\n</div>"
     },
     "execution_count": 8,
     "metadata": {},
     "output_type": "execute_result"
    }
   ]
  },
  {
   "cell_type": "code",
   "source": [
    "df.shape"
   ],
   "metadata": {
    "colab": {
     "base_uri": "https://localhost:8080/"
    },
    "id": "zghZpDxK_PkH",
    "executionInfo": {
     "status": "ok",
     "timestamp": 1683358570268,
     "user_tz": -120,
     "elapsed": 3,
     "user": {
      "displayName": "Francesco GUERRA",
      "userId": "03589851697809460716"
     }
    },
    "outputId": "7712dd99-0eca-46a8-88b3-5c7de2ddfbd4",
    "ExecuteTime": {
     "start_time": "2023-05-08T14:24:15.654057Z",
     "end_time": "2023-05-08T14:24:15.661392Z"
    }
   },
   "execution_count": 9,
   "outputs": [
    {
     "data": {
      "text/plain": "(5171, 3)"
     },
     "execution_count": 9,
     "metadata": {},
     "output_type": "execute_result"
    }
   ]
  },
  {
   "cell_type": "code",
   "source": [
    "df.describe() # abbiamo più del 75 percento che sono email non di spam"
   ],
   "metadata": {
    "colab": {
     "base_uri": "https://localhost:8080/",
     "height": 300
    },
    "id": "__J1SZ6X_Pgb",
    "executionInfo": {
     "status": "ok",
     "timestamp": 1683358596145,
     "user_tz": -120,
     "elapsed": 5,
     "user": {
      "displayName": "Francesco GUERRA",
      "userId": "03589851697809460716"
     }
    },
    "outputId": "26521d33-98ec-40cf-a3a1-62ad4f5959e7",
    "ExecuteTime": {
     "start_time": "2023-05-08T14:24:18.725117Z",
     "end_time": "2023-05-08T14:24:18.735694Z"
    }
   },
   "execution_count": 10,
   "outputs": [
    {
     "data": {
      "text/plain": "         label_num\ncount  5171.000000\nmean      0.289886\nstd       0.453753\nmin       0.000000\n25%       0.000000\n50%       0.000000\n75%       1.000000\nmax       1.000000",
      "text/html": "<div>\n<style scoped>\n    .dataframe tbody tr th:only-of-type {\n        vertical-align: middle;\n    }\n\n    .dataframe tbody tr th {\n        vertical-align: top;\n    }\n\n    .dataframe thead th {\n        text-align: right;\n    }\n</style>\n<table border=\"1\" class=\"dataframe\">\n  <thead>\n    <tr style=\"text-align: right;\">\n      <th></th>\n      <th>label_num</th>\n    </tr>\n  </thead>\n  <tbody>\n    <tr>\n      <th>count</th>\n      <td>5171.000000</td>\n    </tr>\n    <tr>\n      <th>mean</th>\n      <td>0.289886</td>\n    </tr>\n    <tr>\n      <th>std</th>\n      <td>0.453753</td>\n    </tr>\n    <tr>\n      <th>min</th>\n      <td>0.000000</td>\n    </tr>\n    <tr>\n      <th>25%</th>\n      <td>0.000000</td>\n    </tr>\n    <tr>\n      <th>50%</th>\n      <td>0.000000</td>\n    </tr>\n    <tr>\n      <th>75%</th>\n      <td>1.000000</td>\n    </tr>\n    <tr>\n      <th>max</th>\n      <td>1.000000</td>\n    </tr>\n  </tbody>\n</table>\n</div>"
     },
     "execution_count": 10,
     "metadata": {},
     "output_type": "execute_result"
    }
   ]
  },
  {
   "cell_type": "code",
   "source": [
    "df[\"label_num\"].sum() # fornisce le email di spam"
   ],
   "metadata": {
    "colab": {
     "base_uri": "https://localhost:8080/"
    },
    "id": "9VhpiDmc_Pe8",
    "executionInfo": {
     "status": "ok",
     "timestamp": 1683358621826,
     "user_tz": -120,
     "elapsed": 3,
     "user": {
      "displayName": "Francesco GUERRA",
      "userId": "03589851697809460716"
     }
    },
    "outputId": "d51c2b07-6f73-4456-fc12-8631e0a3c4ae",
    "ExecuteTime": {
     "start_time": "2023-05-08T14:25:10.259748Z",
     "end_time": "2023-05-08T14:25:10.265549Z"
    }
   },
   "execution_count": 11,
   "outputs": [
    {
     "data": {
      "text/plain": "1499"
     },
     "execution_count": 11,
     "metadata": {},
     "output_type": "execute_result"
    }
   ]
  },
  {
   "cell_type": "markdown",
   "source": [
    "## Using TF"
   ],
   "metadata": {
    "id": "QmdNDoPoZiUZ"
   }
  },
  {
   "cell_type": "markdown",
   "source": [
    "### Unigrams"
   ],
   "metadata": {
    "id": "oyVF_Z60Zh6E"
   }
  },
  {
   "cell_type": "code",
   "execution_count": 12,
   "metadata": {
    "id": "EkY9bhgH7Z8r",
    "executionInfo": {
     "status": "ok",
     "timestamp": 1683363342361,
     "user_tz": -120,
     "elapsed": 1885,
     "user": {
      "displayName": "Francesco GUERRA",
      "userId": "03589851697809460716"
     }
    },
    "ExecuteTime": {
     "start_time": "2023-05-08T14:28:03.226337Z",
     "end_time": "2023-05-08T14:28:03.789148Z"
    }
   },
   "outputs": [],
   "source": [
    "from sklearn.feature_extraction.text import CountVectorizer # prende ogni parloe e lo trasforme in un vettore\n",
    "vectorizer = CountVectorizer(analyzer = \"word\",tokenizer = None,preprocessor = None,stop_words = None,max_features = 15000)\n",
    "data_text = vectorizer.fit_transform(df[\"text\"]) # analyzer = \"word \" -> analizzare per parole,  n_grams_range serve per settare il numero  di parole per ogni token, max_features = inserire un limite massimo di colonne da creare"
   ]
  },
  {
   "cell_type": "code",
   "execution_count": 13,
   "metadata": {
    "colab": {
     "base_uri": "https://localhost:8080/"
    },
    "id": "bhEjWccS7Z8r",
    "executionInfo": {
     "status": "ok",
     "timestamp": 1683363342361,
     "user_tz": -120,
     "elapsed": 3,
     "user": {
      "displayName": "Francesco GUERRA",
      "userId": "03589851697809460716"
     }
    },
    "outputId": "24e8bf1c-719e-488c-ba50-06d3a51bf24d",
    "ExecuteTime": {
     "start_time": "2023-05-08T14:28:50.986645Z",
     "end_time": "2023-05-08T14:28:51.187946Z"
    }
   },
   "outputs": [
    {
     "data": {
      "text/plain": "array([[1, 0, 0, ..., 0, 0, 0],\n       [0, 0, 0, ..., 0, 0, 0],\n       [0, 0, 0, ..., 0, 0, 0],\n       ...,\n       [0, 0, 0, ..., 0, 0, 0],\n       [0, 0, 0, ..., 0, 0, 0],\n       [0, 0, 0, ..., 0, 0, 0]])"
     },
     "execution_count": 13,
     "metadata": {},
     "output_type": "execute_result"
    }
   ],
   "source": [
    "data_text.toarray() # è una matrice  sparsa"
   ]
  },
  {
   "cell_type": "code",
   "source": [
    "vectorizer.get_feature_names_out()"
   ],
   "metadata": {
    "colab": {
     "base_uri": "https://localhost:8080/"
    },
    "id": "bTdVoIb8Qpu0",
    "executionInfo": {
     "status": "ok",
     "timestamp": 1683363369420,
     "user_tz": -120,
     "elapsed": 262,
     "user": {
      "displayName": "Francesco GUERRA",
      "userId": "03589851697809460716"
     }
    },
    "outputId": "3ea9f36e-9e6e-4f2b-b1d2-bd3e22000e8d",
    "ExecuteTime": {
     "start_time": "2023-05-08T14:29:55.021115Z",
     "end_time": "2023-05-08T14:29:55.026162Z"
    }
   },
   "execution_count": 14,
   "outputs": [
    {
     "data": {
      "text/plain": "array(['00', '000', '0000', ..., 'zwallet', 'zxgwvpimicrosoft', 'zyban'],\n      dtype=object)"
     },
     "execution_count": 14,
     "metadata": {},
     "output_type": "execute_result"
    }
   ]
  },
  {
   "cell_type": "code",
   "source": [
    "vectorizer.get_feature_names_out()[1000:1010]"
   ],
   "metadata": {
    "colab": {
     "base_uri": "https://localhost:8080/"
    },
    "id": "6oe24fcPQpru",
    "executionInfo": {
     "status": "ok",
     "timestamp": 1683363393262,
     "user_tz": -120,
     "elapsed": 4,
     "user": {
      "displayName": "Francesco GUERRA",
      "userId": "03589851697809460716"
     }
    },
    "outputId": "5cea9992-4e25-453b-8f2f-8406aed3ed4f",
    "ExecuteTime": {
     "start_time": "2023-05-08T14:30:57.749202Z",
     "end_time": "2023-05-08T14:30:57.753894Z"
    }
   },
   "execution_count": 15,
   "outputs": [
    {
     "data": {
      "text/plain": "array(['579', '5796', '58', '580', '5801', '583', '5839', '584', '5843',\n       '5848'], dtype=object)"
     },
     "execution_count": 15,
     "metadata": {},
     "output_type": "execute_result"
    }
   ]
  },
  {
   "cell_type": "code",
   "source": [
    "vectorizer.get_feature_names_out()[10000:10010]"
   ],
   "metadata": {
    "colab": {
     "base_uri": "https://localhost:8080/"
    },
    "id": "_juHP3f7QpoF",
    "executionInfo": {
     "status": "ok",
     "timestamp": 1683363409621,
     "user_tz": -120,
     "elapsed": 293,
     "user": {
      "displayName": "Francesco GUERRA",
      "userId": "03589851697809460716"
     }
    },
    "outputId": "40c533e8-c0c6-4e8d-f42a-b0837313d8f7",
    "ExecuteTime": {
     "start_time": "2023-05-08T14:31:05.569160Z",
     "end_time": "2023-05-08T14:31:05.574724Z"
    }
   },
   "execution_count": 16,
   "outputs": [
    {
     "data": {
      "text/plain": "array(['multipart', 'multiple', 'multipliable', 'multiply', 'multitude',\n       'mundo', 'munich', 'municipal', 'murder', 'murdered'], dtype=object)"
     },
     "execution_count": 16,
     "metadata": {},
     "output_type": "execute_result"
    }
   ]
  },
  {
   "cell_type": "markdown",
   "source": [
    "## Possiamo allenare un modello"
   ],
   "metadata": {
    "collapsed": false
   }
  },
  {
   "cell_type": "code",
   "source": [
    "from sklearn.model_selection import train_test_split"
   ],
   "metadata": {
    "id": "-AIWIcwqR2-r",
    "executionInfo": {
     "status": "ok",
     "timestamp": 1683363667618,
     "user_tz": -120,
     "elapsed": 250,
     "user": {
      "displayName": "Francesco GUERRA",
      "userId": "03589851697809460716"
     }
    },
    "ExecuteTime": {
     "start_time": "2023-05-08T14:31:41.219238Z",
     "end_time": "2023-05-08T14:31:41.228167Z"
    }
   },
   "execution_count": 17,
   "outputs": []
  },
  {
   "cell_type": "code",
   "source": [
    "X_train, X_test, y_train, y_test = train_test_split(data_text, df[\"label_num\"], test_size=0.25)"
   ],
   "metadata": {
    "id": "Y-VTQvzQR25e",
    "executionInfo": {
     "status": "ok",
     "timestamp": 1683363706623,
     "user_tz": -120,
     "elapsed": 247,
     "user": {
      "displayName": "Francesco GUERRA",
      "userId": "03589851697809460716"
     }
    },
    "ExecuteTime": {
     "start_time": "2023-05-08T14:31:55.170911Z",
     "end_time": "2023-05-08T14:31:55.178582Z"
    }
   },
   "execution_count": 18,
   "outputs": []
  },
  {
   "cell_type": "code",
   "source": [
    "from sklearn.naive_bayes import MultinomialNB\n",
    "mnb= MultinomialNB(alpha=1.0, class_prior=None, fit_prior=True)\n",
    "clf=mnb.fit(X_train,y_train)"
   ],
   "metadata": {
    "id": "rbZp9iR1R20b",
    "executionInfo": {
     "status": "ok",
     "timestamp": 1683363738468,
     "user_tz": -120,
     "elapsed": 2,
     "user": {
      "displayName": "Francesco GUERRA",
      "userId": "03589851697809460716"
     }
    },
    "ExecuteTime": {
     "start_time": "2023-05-08T14:32:09.166987Z",
     "end_time": "2023-05-08T14:32:09.177353Z"
    }
   },
   "execution_count": 19,
   "outputs": []
  },
  {
   "cell_type": "code",
   "source": [
    "def accuracy(pred, result):\n",
    "  return 1-(abs(pred-result)).sum()/len(result)"
   ],
   "metadata": {
    "id": "XPOlotfJR2tC",
    "executionInfo": {
     "status": "ok",
     "timestamp": 1683363770568,
     "user_tz": -120,
     "elapsed": 326,
     "user": {
      "displayName": "Francesco GUERRA",
      "userId": "03589851697809460716"
     }
    },
    "ExecuteTime": {
     "start_time": "2023-05-08T14:32:11.384483Z",
     "end_time": "2023-05-08T14:32:11.391999Z"
    }
   },
   "execution_count": 20,
   "outputs": []
  },
  {
   "cell_type": "code",
   "source": [
    "accuracy (mnb.predict(X_test),y_test)"
   ],
   "metadata": {
    "colab": {
     "base_uri": "https://localhost:8080/"
    },
    "id": "oODnGCm5R2oo",
    "executionInfo": {
     "status": "ok",
     "timestamp": 1683363848327,
     "user_tz": -120,
     "elapsed": 256,
     "user": {
      "displayName": "Francesco GUERRA",
      "userId": "03589851697809460716"
     }
    },
    "outputId": "0a3e84c9-4abc-4424-d5bf-d105f69d2c1a",
    "ExecuteTime": {
     "start_time": "2023-05-08T14:32:26.731553Z",
     "end_time": "2023-05-08T14:32:26.739199Z"
    }
   },
   "execution_count": 21,
   "outputs": [
    {
     "data": {
      "text/plain": "0.9675174013921114"
     },
     "execution_count": 21,
     "metadata": {},
     "output_type": "execute_result"
    }
   ]
  },
  {
   "cell_type": "markdown",
   "source": [
    "### Unigrams without stop words\n",
    "tolgo le parole tipiche dell'inglese"
   ],
   "metadata": {
    "id": "Nc7ysd8aZtZE"
   }
  },
  {
   "cell_type": "code",
   "source": [
    "vectorizer = CountVectorizer(analyzer = \"word\",tokenizer = None,preprocessor = None,stop_words=\"english\",max_features = 15000)\n",
    "data_text = vectorizer.fit_transform(df[\"text\"])"
   ],
   "metadata": {
    "id": "J0QBiSG-ULZw",
    "executionInfo": {
     "status": "ok",
     "timestamp": 1683364133382,
     "user_tz": -120,
     "elapsed": 4089,
     "user": {
      "displayName": "Francesco GUERRA",
      "userId": "03589851697809460716"
     }
    },
    "ExecuteTime": {
     "start_time": "2023-05-08T14:33:45.897049Z",
     "end_time": "2023-05-08T14:33:46.448420Z"
    }
   },
   "execution_count": 22,
   "outputs": []
  },
  {
   "cell_type": "code",
   "source": [
    "data_text.shape"
   ],
   "metadata": {
    "colab": {
     "base_uri": "https://localhost:8080/"
    },
    "id": "7NWKlTMNUmu3",
    "executionInfo": {
     "status": "ok",
     "timestamp": 1683364165970,
     "user_tz": -120,
     "elapsed": 342,
     "user": {
      "displayName": "Francesco GUERRA",
      "userId": "03589851697809460716"
     }
    },
    "outputId": "160aefb8-4ca8-4328-a5aa-1ae46ed268e8",
    "ExecuteTime": {
     "start_time": "2023-05-08T14:33:48.831542Z",
     "end_time": "2023-05-08T14:33:48.839159Z"
    }
   },
   "execution_count": 23,
   "outputs": [
    {
     "data": {
      "text/plain": "(5171, 15000)"
     },
     "execution_count": 23,
     "metadata": {},
     "output_type": "execute_result"
    }
   ]
  },
  {
   "cell_type": "code",
   "source": [
    "vectorizer.get_feature_names_out()"
   ],
   "metadata": {
    "colab": {
     "base_uri": "https://localhost:8080/"
    },
    "id": "MFBd4bibULVb",
    "executionInfo": {
     "status": "ok",
     "timestamp": 1683364141224,
     "user_tz": -120,
     "elapsed": 250,
     "user": {
      "displayName": "Francesco GUERRA",
      "userId": "03589851697809460716"
     }
    },
    "outputId": "dd0b0911-16f2-42e8-a19e-d17a0917ad9e",
    "ExecuteTime": {
     "start_time": "2023-05-08T14:34:01.534403Z",
     "end_time": "2023-05-08T14:34:01.544954Z"
    }
   },
   "execution_count": 24,
   "outputs": [
    {
     "data": {
      "text/plain": "array(['00', '000', '0000', ..., 'zwiers', 'zxgwvpimicrosoft', 'zyban'],\n      dtype=object)"
     },
     "execution_count": 24,
     "metadata": {},
     "output_type": "execute_result"
    }
   ]
  },
  {
   "cell_type": "code",
   "execution_count": 28,
   "outputs": [
    {
     "data": {
      "text/plain": "array(['nom 22', 'nom 30', 'nom actual', 'nom april', 'nom august',\n       'nom change', 'nom daren', 'nom day', 'nom deal', 'nom dec'],\n      dtype=object)"
     },
     "execution_count": 28,
     "metadata": {},
     "output_type": "execute_result"
    }
   ],
   "source": [
    "vectorizer.get_feature_names_out()[10000:10010]"
   ],
   "metadata": {
    "collapsed": false,
    "ExecuteTime": {
     "start_time": "2023-05-08T14:37:04.655552Z",
     "end_time": "2023-05-08T14:37:04.664136Z"
    }
   }
  },
  {
   "cell_type": "code",
   "source": [
    "X_train, X_test, y_train, y_test = train_test_split(data_text, df[\"label_num\"], test_size=0.25)\n",
    "clf=mnb.fit(X_train,y_train)\n",
    "accuracy (mnb.predict(X_test),y_test)"
   ],
   "metadata": {
    "colab": {
     "base_uri": "https://localhost:8080/"
    },
    "id": "TOzH6J4cULR3",
    "executionInfo": {
     "status": "ok",
     "timestamp": 1683364186599,
     "user_tz": -120,
     "elapsed": 243,
     "user": {
      "displayName": "Francesco GUERRA",
      "userId": "03589851697809460716"
     }
    },
    "outputId": "38a60847-a570-446f-936f-420c32827d33",
    "ExecuteTime": {
     "start_time": "2023-05-08T14:37:07.814629Z",
     "end_time": "2023-05-08T14:37:07.825409Z"
    }
   },
   "execution_count": 29,
   "outputs": [
    {
     "data": {
      "text/plain": "0.9296210363495746"
     },
     "execution_count": 29,
     "metadata": {},
     "output_type": "execute_result"
    }
   ]
  },
  {
   "cell_type": "markdown",
   "source": [
    "### Bigrams without stop words\n",
    "lavoriamo con coppie di parole"
   ],
   "metadata": {
    "id": "rFje-Q3OZyOI"
   }
  },
  {
   "cell_type": "code",
   "source": [
    "vectorizer = CountVectorizer(analyzer = \"word\",tokenizer = None,preprocessor = None,stop_words=\"english\", ngram_range=(2,2),max_features = 15000)\n",
    "data_text = vectorizer.fit_transform(df[\"text\"])"
   ],
   "metadata": {
    "id": "jE-NRo7HU2sm",
    "executionInfo": {
     "status": "ok",
     "timestamp": 1683364268576,
     "user_tz": -120,
     "elapsed": 3471,
     "user": {
      "displayName": "Francesco GUERRA",
      "userId": "03589851697809460716"
     }
    },
    "ExecuteTime": {
     "start_time": "2023-05-08T14:36:39.974270Z",
     "end_time": "2023-05-08T14:36:41.129171Z"
    }
   },
   "execution_count": 26,
   "outputs": []
  },
  {
   "cell_type": "code",
   "source": [
    "vectorizer.get_feature_names_out()"
   ],
   "metadata": {
    "colab": {
     "base_uri": "https://localhost:8080/"
    },
    "id": "1C-pcmtkVHQY",
    "executionInfo": {
     "status": "ok",
     "timestamp": 1683364285867,
     "user_tz": -120,
     "elapsed": 4,
     "user": {
      "displayName": "Francesco GUERRA",
      "userId": "03589851697809460716"
     }
    },
    "outputId": "47905d6c-ace0-4e0e-a1eb-7c21c4188dd7",
    "ExecuteTime": {
     "start_time": "2023-05-08T14:36:44.223589Z",
     "end_time": "2023-05-08T14:36:44.229644Z"
    }
   },
   "execution_count": 27,
   "outputs": [
    {
     "data": {
      "text/plain": "array(['00 00', '00 000', '00 01', ..., 'zonedubai uae', 'zwallet com',\n       'zyban prozac'], dtype=object)"
     },
     "execution_count": 27,
     "metadata": {},
     "output_type": "execute_result"
    }
   ]
  },
  {
   "cell_type": "code",
   "source": [
    "X_train, X_test, y_train, y_test = train_test_split(data_text, df[\"label_num\"], test_size=0.25)\n",
    "clf=mnb.fit(X_train,y_train)\n",
    "accuracy (mnb.predict(X_test),y_test)"
   ],
   "metadata": {
    "colab": {
     "base_uri": "https://localhost:8080/"
    },
    "id": "DmB7WVloU2in",
    "executionInfo": {
     "status": "ok",
     "timestamp": 1683364274281,
     "user_tz": -120,
     "elapsed": 389,
     "user": {
      "displayName": "Francesco GUERRA",
      "userId": "03589851697809460716"
     }
    },
    "outputId": "667257e5-db0d-4bdd-ef20-c4472c5a874f",
    "ExecuteTime": {
     "start_time": "2023-05-08T14:37:52.810347Z",
     "end_time": "2023-05-08T14:37:52.821052Z"
    }
   },
   "execution_count": 30,
   "outputs": [
    {
     "data": {
      "text/plain": "0.9327146171693735"
     },
     "execution_count": 30,
     "metadata": {},
     "output_type": "execute_result"
    }
   ]
  },
  {
   "cell_type": "markdown",
   "source": [
    "### N-grams (1)\n",
    "cambiando con char_wb -> suddivisione a livello di caratteri e non conta gli spazi\n",
    "Però lavoriamo con colonne che non sono significative."
   ],
   "metadata": {
    "id": "uAVvO_VuZ5zc"
   }
  },
  {
   "cell_type": "code",
   "source": [
    "vectorizer = CountVectorizer(analyzer = \"char_wb\",tokenizer = None,preprocessor = None,stop_words = None,max_features = 15000)\n",
    "data_text = vectorizer.fit_transform(df[\"text\"])"
   ],
   "metadata": {
    "id": "kvAU7pecTiRk",
    "executionInfo": {
     "status": "ok",
     "timestamp": 1683364328262,
     "user_tz": -120,
     "elapsed": 3577,
     "user": {
      "displayName": "Francesco GUERRA",
      "userId": "03589851697809460716"
     }
    },
    "ExecuteTime": {
     "start_time": "2023-05-08T14:40:13.844199Z",
     "end_time": "2023-05-08T14:40:16.364188Z"
    }
   },
   "execution_count": 32,
   "outputs": []
  },
  {
   "cell_type": "code",
   "source": [
    "data_text.shape # 79 colonne"
   ],
   "metadata": {
    "colab": {
     "base_uri": "https://localhost:8080/"
    },
    "id": "GxtWz3aTVO5q",
    "executionInfo": {
     "status": "ok",
     "timestamp": 1683364328262,
     "user_tz": -120,
     "elapsed": 15,
     "user": {
      "displayName": "Francesco GUERRA",
      "userId": "03589851697809460716"
     }
    },
    "outputId": "530e01b2-7331-478a-e56c-6fa312de2b4f",
    "ExecuteTime": {
     "start_time": "2023-05-08T14:40:18.073431Z",
     "end_time": "2023-05-08T14:40:18.078849Z"
    }
   },
   "execution_count": 33,
   "outputs": [
    {
     "data": {
      "text/plain": "(5171, 79)"
     },
     "execution_count": 33,
     "metadata": {},
     "output_type": "execute_result"
    }
   ]
  },
  {
   "cell_type": "code",
   "source": [
    "vectorizer.get_feature_names_out()"
   ],
   "metadata": {
    "colab": {
     "base_uri": "https://localhost:8080/"
    },
    "id": "8ZucfFMLTiID",
    "executionInfo": {
     "status": "ok",
     "timestamp": 1683364331990,
     "user_tz": -120,
     "elapsed": 424,
     "user": {
      "displayName": "Francesco GUERRA",
      "userId": "03589851697809460716"
     }
    },
    "outputId": "d5a91bd9-0527-4c91-b393-6b9255e46940",
    "ExecuteTime": {
     "start_time": "2023-05-08T14:40:24.892032Z",
     "end_time": "2023-05-08T14:40:24.900884Z"
    }
   },
   "execution_count": 34,
   "outputs": [
    {
     "data": {
      "text/plain": "array(['\\x01', '\\x05', '\\x07', '\\x0f', '\\x11', '\\x12', '\\x13', '\\x14',\n       '\\x16', '\\x1b', ' ', '!', '\"', '#', '$', '%', '&', \"'\", '(', ')',\n       '*', '+', ',', '-', '.', '/', '0', '1', '2', '3', '4', '5', '6',\n       '7', '8', '9', ':', ';', '<', '=', '>', '?', '@', '[', '\\\\', ']',\n       '^', '_', '`', 'a', 'b', 'c', 'd', 'e', 'f', 'g', 'h', 'i', 'j',\n       'k', 'l', 'm', 'n', 'o', 'p', 'q', 'r', 's', 't', 'u', 'v', 'w',\n       'x', 'y', 'z', '{', '|', '}', '~'], dtype=object)"
     },
     "execution_count": 34,
     "metadata": {},
     "output_type": "execute_result"
    }
   ]
  },
  {
   "cell_type": "code",
   "source": [
    "X_train, X_test, y_train, y_test = train_test_split(data_text, df[\"label_num\"], test_size=0.25)\n",
    "clf=mnb.fit(X_train,y_train)\n",
    "accuracy (mnb.predict(X_test),y_test)"
   ],
   "metadata": {
    "colab": {
     "base_uri": "https://localhost:8080/"
    },
    "id": "Lx6Ff2nPTiFN",
    "executionInfo": {
     "status": "ok",
     "timestamp": 1683364334147,
     "user_tz": -120,
     "elapsed": 247,
     "user": {
      "displayName": "Francesco GUERRA",
      "userId": "03589851697809460716"
     }
    },
    "outputId": "72a7278e-dd5f-4cda-e44d-e803316a5c8d",
    "ExecuteTime": {
     "start_time": "2023-05-08T14:40:27.489647Z",
     "end_time": "2023-05-08T14:40:27.499470Z"
    }
   },
   "execution_count": 35,
   "outputs": [
    {
     "data": {
      "text/plain": "0.7470997679814385"
     },
     "execution_count": 35,
     "metadata": {},
     "output_type": "execute_result"
    }
   ]
  },
  {
   "cell_type": "markdown",
   "source": [
    "N-grams (2)\n",
    "conta le coppie di caratteri"
   ],
   "metadata": {
    "id": "IgJOMXJ2aAdE"
   }
  },
  {
   "cell_type": "code",
   "source": [
    "vectorizer = CountVectorizer(analyzer = \"char_wb\",tokenizer = None,preprocessor = None,stop_words = None, ngram_range=(2,2), max_features = 15000)\n",
    "data_text = vectorizer.fit_transform(df[\"text\"])"
   ],
   "metadata": {
    "id": "m6aRqHWGTiCO",
    "executionInfo": {
     "status": "ok",
     "timestamp": 1683364356809,
     "user_tz": -120,
     "elapsed": 3918,
     "user": {
      "displayName": "Francesco GUERRA",
      "userId": "03589851697809460716"
     }
    },
    "ExecuteTime": {
     "start_time": "2023-05-08T14:40:34.487606Z",
     "end_time": "2023-05-08T14:40:37.084823Z"
    }
   },
   "execution_count": 36,
   "outputs": []
  },
  {
   "cell_type": "code",
   "source": [
    "data_text.shape"
   ],
   "metadata": {
    "colab": {
     "base_uri": "https://localhost:8080/"
    },
    "id": "ohCxj6IoTh-t",
    "executionInfo": {
     "status": "ok",
     "timestamp": 1683364359400,
     "user_tz": -120,
     "elapsed": 246,
     "user": {
      "displayName": "Francesco GUERRA",
      "userId": "03589851697809460716"
     }
    },
    "outputId": "85433584-f721-449c-c396-f2952803d1a0",
    "ExecuteTime": {
     "start_time": "2023-05-08T14:40:45.867703Z",
     "end_time": "2023-05-08T14:40:45.877802Z"
    }
   },
   "execution_count": 37,
   "outputs": [
    {
     "data": {
      "text/plain": "(5171, 976)"
     },
     "execution_count": 37,
     "metadata": {},
     "output_type": "execute_result"
    }
   ]
  },
  {
   "cell_type": "code",
   "source": [
    "vectorizer.get_feature_names_out()[100:300]"
   ],
   "metadata": {
    "colab": {
     "base_uri": "https://localhost:8080/"
    },
    "id": "lICusbPHR2lr",
    "executionInfo": {
     "status": "ok",
     "timestamp": 1683364365529,
     "user_tz": -120,
     "elapsed": 338,
     "user": {
      "displayName": "Francesco GUERRA",
      "userId": "03589851697809460716"
     }
    },
    "outputId": "fdd17483-fe0e-44e0-a4c3-4d913e17fa5b",
    "ExecuteTime": {
     "start_time": "2023-05-08T14:41:11.340134Z",
     "end_time": "2023-05-08T14:41:11.345627Z"
    }
   },
   "execution_count": 40,
   "outputs": [
    {
     "data": {
      "text/plain": "array(['- ', '. ', '/ ', '0 ', '00', '01', '02', '03', '04', '05', '06',\n       '07', '08', '09', '1 ', '10', '11', '12', '13', '14', '15', '16',\n       '17', '18', '19', '2 ', '20', '21', '22', '23', '24', '25', '26',\n       '27', '28', '29', '3 ', '30', '31', '32', '33', '34', '35', '36',\n       '37', '38', '39', '4 ', '40', '41', '42', '43', '44', '45', '46',\n       '47', '48', '49', '5 ', '50', '51', '52', '53', '54', '55', '56',\n       '57', '58', '59', '6 ', '60', '61', '62', '63', '64', '65', '66',\n       '67', '68', '69', '7 ', '70', '71', '72', '73', '74', '75', '76',\n       '77', '78', '79', '8 ', '80', '81', '82', '83', '84', '85', '86',\n       '87', '88', '89', '9 ', '90', '91', '92', '93', '94', '95', '96',\n       '97', '98', '99', ': ', '; ', '< ', '= ', '> ', '? ', '??', '?a',\n       '?b', '?c', '?d', '?e', '?f', '?g', '?l', '?m', '?n', '?o', '?p',\n       '?r', '?s', '?t', '?v', '?w', '?x', '?y', '@ ', '[ ', '\\\\ ', '] ',\n       '^ ', '_ ', '` ', 'a ', 'a?', 'aa', 'ab', 'ac', 'ad', 'ae', 'af',\n       'ag', 'ah', 'ai', 'aj', 'ak', 'al', 'am', 'an', 'ao', 'ap', 'aq',\n       'ar', 'as', 'at', 'au', 'av', 'aw', 'ax', 'ay', 'az', 'b ', 'b?',\n       'ba', 'bb', 'bc', 'bd', 'be', 'bf', 'bg', 'bh', 'bi', 'bj', 'bk',\n       'bl', 'bm', 'bn', 'bo', 'bp', 'bq', 'br', 'bs', 'bt', 'bu', 'bv',\n       'bw', 'bx'], dtype=object)"
     },
     "execution_count": 40,
     "metadata": {},
     "output_type": "execute_result"
    }
   ]
  },
  {
   "cell_type": "code",
   "source": [
    "X_train, X_test, y_train, y_test = train_test_split(data_text, df[\"label_num\"], test_size=0.25)\n",
    "clf=mnb.fit(X_train,y_train)\n",
    "accuracy (mnb.predict(X_test),y_test)"
   ],
   "metadata": {
    "colab": {
     "base_uri": "https://localhost:8080/"
    },
    "id": "5H33U9qmR2iu",
    "executionInfo": {
     "status": "ok",
     "timestamp": 1683364375277,
     "user_tz": -120,
     "elapsed": 232,
     "user": {
      "displayName": "Francesco GUERRA",
      "userId": "03589851697809460716"
     }
    },
    "outputId": "235e1f2f-470e-4726-d6c2-41f4adc72c62",
    "ExecuteTime": {
     "start_time": "2023-05-08T14:41:13.563390Z",
     "end_time": "2023-05-08T14:41:13.588634Z"
    }
   },
   "execution_count": 41,
   "outputs": [
    {
     "data": {
      "text/plain": "0.8066511987625676"
     },
     "execution_count": 41,
     "metadata": {},
     "output_type": "execute_result"
    }
   ]
  },
  {
   "cell_type": "markdown",
   "source": [
    "### N-grams (3)\n",
    "con i 3-grammi"
   ],
   "metadata": {
    "id": "mLLRoMkYaEoP"
   }
  },
  {
   "cell_type": "code",
   "source": [
    "vectorizer = CountVectorizer(analyzer = \"char_wb\",tokenizer = None,preprocessor = None,stop_words = None, ngram_range=(3,3), max_features = 15000)\n",
    "data_text = vectorizer.fit_transform(df[\"text\"])"
   ],
   "metadata": {
    "id": "ZIx8er05VhAX",
    "executionInfo": {
     "status": "ok",
     "timestamp": 1683364396544,
     "user_tz": -120,
     "elapsed": 3054,
     "user": {
      "displayName": "Francesco GUERRA",
      "userId": "03589851697809460716"
     }
    },
    "ExecuteTime": {
     "start_time": "2023-05-08T14:41:18.406760Z",
     "end_time": "2023-05-08T14:41:20.822608Z"
    }
   },
   "execution_count": 42,
   "outputs": []
  },
  {
   "cell_type": "code",
   "source": [
    "data_text.shape"
   ],
   "metadata": {
    "colab": {
     "base_uri": "https://localhost:8080/"
    },
    "id": "RtUDc0l3Vg90",
    "executionInfo": {
     "status": "ok",
     "timestamp": 1683364404353,
     "user_tz": -120,
     "elapsed": 239,
     "user": {
      "displayName": "Francesco GUERRA",
      "userId": "03589851697809460716"
     }
    },
    "outputId": "571ff2ad-879a-451d-c3c9-16f836a889b0",
    "ExecuteTime": {
     "start_time": "2023-05-08T14:41:32.315860Z",
     "end_time": "2023-05-08T14:41:32.324549Z"
    }
   },
   "execution_count": 43,
   "outputs": [
    {
     "data": {
      "text/plain": "(5171, 15000)"
     },
     "execution_count": 43,
     "metadata": {},
     "output_type": "execute_result"
    }
   ]
  },
  {
   "cell_type": "code",
   "source": [
    "X_train, X_test, y_train, y_test = train_test_split(data_text, df[\"label_num\"], test_size=0.25)\n",
    "clf=mnb.fit(X_train,y_train)\n",
    "accuracy (mnb.predict(X_test),y_test)"
   ],
   "metadata": {
    "colab": {
     "base_uri": "https://localhost:8080/"
    },
    "id": "AwvHOux_Vg6_",
    "executionInfo": {
     "status": "ok",
     "timestamp": 1683364408533,
     "user_tz": -120,
     "elapsed": 253,
     "user": {
      "displayName": "Francesco GUERRA",
      "userId": "03589851697809460716"
     }
    },
    "outputId": "5cf72f07-4b0a-442d-a6d5-c8fab659be87",
    "ExecuteTime": {
     "start_time": "2023-05-08T14:41:36.475817Z",
     "end_time": "2023-05-08T14:41:36.503528Z"
    }
   },
   "execution_count": 44,
   "outputs": [
    {
     "data": {
      "text/plain": "0.9319412219644239"
     },
     "execution_count": 44,
     "metadata": {},
     "output_type": "execute_result"
    }
   ]
  },
  {
   "cell_type": "code",
   "source": [
    "vectorizer = CountVectorizer(analyzer = \"char_wb\",tokenizer = None,preprocessor = None,stop_words = None, ngram_range=(4,4), max_features = 15000)\n",
    "data_text = vectorizer.fit_transform(df[\"text\"])"
   ],
   "metadata": {
    "id": "8Buvcaj8R2e0",
    "executionInfo": {
     "status": "ok",
     "timestamp": 1683364425704,
     "user_tz": -120,
     "elapsed": 3574,
     "user": {
      "displayName": "Francesco GUERRA",
      "userId": "03589851697809460716"
     }
    }
   },
   "execution_count": null,
   "outputs": []
  },
  {
   "cell_type": "code",
   "source": [
    "X_train, X_test, y_train, y_test = train_test_split(data_text, df[\"label_num\"], test_size=0.25)\n",
    "clf=mnb.fit(X_train,y_train)\n",
    "accuracy (mnb.predict(X_test),y_test)"
   ],
   "metadata": {
    "colab": {
     "base_uri": "https://localhost:8080/"
    },
    "id": "KfDmKSJkVqVq",
    "executionInfo": {
     "status": "ok",
     "timestamp": 1683364434235,
     "user_tz": -120,
     "elapsed": 301,
     "user": {
      "displayName": "Francesco GUERRA",
      "userId": "03589851697809460716"
     }
    },
    "outputId": "65c07b6a-9dc5-48be-91ba-a403ef7c6a2b"
   },
   "execution_count": null,
   "outputs": []
  },
  {
   "cell_type": "markdown",
   "source": [
    "### N-grams (5)\n",
    "5-grammi"
   ],
   "metadata": {
    "id": "KiyKmR8TaIor"
   }
  },
  {
   "cell_type": "code",
   "source": [
    "vectorizer = CountVectorizer(analyzer = \"char_wb\",tokenizer = None,preprocessor = None,stop_words = None, ngram_range=(5,5), max_features = 30000)\n",
    "data_text = vectorizer.fit_transform(df[\"text\"])"
   ],
   "metadata": {
    "id": "C2PvWUQBVqUM",
    "executionInfo": {
     "status": "ok",
     "timestamp": 1683364457268,
     "user_tz": -120,
     "elapsed": 2819,
     "user": {
      "displayName": "Francesco GUERRA",
      "userId": "03589851697809460716"
     }
    },
    "ExecuteTime": {
     "start_time": "2023-05-08T14:42:04.978563Z",
     "end_time": "2023-05-08T14:42:07.101694Z"
    }
   },
   "execution_count": 45,
   "outputs": []
  },
  {
   "cell_type": "code",
   "source": [
    "X_train, X_test, y_train, y_test = train_test_split(data_text, df[\"label_num\"], test_size=0.25)\n",
    "clf=mnb.fit(X_train,y_train)\n",
    "accuracy (mnb.predict(X_test),y_test)"
   ],
   "metadata": {
    "colab": {
     "base_uri": "https://localhost:8080/"
    },
    "id": "uRv3njZMVqTb",
    "executionInfo": {
     "status": "ok",
     "timestamp": 1683364464512,
     "user_tz": -120,
     "elapsed": 325,
     "user": {
      "displayName": "Francesco GUERRA",
      "userId": "03589851697809460716"
     }
    },
    "outputId": "a60f3cbb-880f-4ed4-cb91-e396ae0ab9be",
    "ExecuteTime": {
     "start_time": "2023-05-08T14:42:09.846603Z",
     "end_time": "2023-05-08T14:42:09.871976Z"
    }
   },
   "execution_count": 46,
   "outputs": [
    {
     "data": {
      "text/plain": "0.9644238205723125"
     },
     "execution_count": 46,
     "metadata": {},
     "output_type": "execute_result"
    }
   ]
  },
  {
   "cell_type": "markdown",
   "source": [
    "## Cambio i  classificatori diversi"
   ],
   "metadata": {
    "collapsed": false
   }
  },
  {
   "cell_type": "code",
   "execution_count": 47,
   "metadata": {
    "id": "X8T66E3u7Z8t",
    "executionInfo": {
     "status": "ok",
     "timestamp": 1683364635496,
     "user_tz": -120,
     "elapsed": 282,
     "user": {
      "displayName": "Francesco GUERRA",
      "userId": "03589851697809460716"
     }
    },
    "ExecuteTime": {
     "start_time": "2023-05-08T14:42:20.408752Z",
     "end_time": "2023-05-08T14:42:20.854628Z"
    }
   },
   "outputs": [],
   "source": [
    "from sklearn.neighbors import KNeighborsClassifier\n",
    "from sklearn.tree import DecisionTreeClassifier\n",
    "from sklearn.ensemble import RandomForestClassifier\n",
    "from sklearn.naive_bayes import MultinomialNB\n",
    "from sklearn.linear_model import LogisticRegression"
   ]
  },
  {
   "cell_type": "code",
   "source": [
    "import warnings\n",
    "warnings.filterwarnings('ignore')\n",
    "\n",
    "def classif_accuracy(clf,data_train, cat_train,test_data,test_cat):\n",
    "    from sklearn.metrics import accuracy_score\n",
    "       \n",
    "    clf.fit(data_train, cat_train)\n",
    "    pre=clf.predict(test_data)\n",
    "    return accuracy_score(test_cat,pre) "
   ],
   "metadata": {
    "id": "Uz6ZBrrwXdiN",
    "executionInfo": {
     "status": "ok",
     "timestamp": 1683365112716,
     "user_tz": -120,
     "elapsed": 312,
     "user": {
      "displayName": "Francesco GUERRA",
      "userId": "03589851697809460716"
     }
    },
    "ExecuteTime": {
     "start_time": "2023-05-08T14:42:46.755631Z",
     "end_time": "2023-05-08T14:42:46.758108Z"
    }
   },
   "execution_count": 48,
   "outputs": []
  },
  {
   "cell_type": "code",
   "execution_count": 50,
   "metadata": {
    "colab": {
     "base_uri": "https://localhost:8080/"
    },
    "id": "N2c6R4v77Z8t",
    "executionInfo": {
     "status": "ok",
     "timestamp": 1683365119700,
     "user_tz": -120,
     "elapsed": 6603,
     "user": {
      "displayName": "Francesco GUERRA",
      "userId": "03589851697809460716"
     }
    },
    "outputId": "fc6dec98-9f19-4e58-83e2-9373b12f8cdf",
    "ExecuteTime": {
     "start_time": "2023-05-08T14:43:36.173839Z",
     "end_time": "2023-05-08T14:43:39.573366Z"
    }
   },
   "outputs": [
    {
     "name": "stdout",
     "output_type": "stream",
     "text": [
      "Decision Tree          0.917247\n",
      "Random Forest          0.977572\n",
      "Naive Bayes            0.964424\n",
      "Logistic Regression    0.980665\n",
      "knn                    0.899459\n",
      "dtype: float64\n"
     ]
    }
   ],
   "source": [
    "names = [\"Decision Tree\",\"Random Forest\", \"Naive Bayes\", \"Logistic Regression\", \"knn\"]\n",
    "classifiers = [\n",
    "    DecisionTreeClassifier(max_depth=25),\n",
    "    RandomForestClassifier(max_depth=25, n_estimators=100),\n",
    "    MultinomialNB(),\n",
    "    LogisticRegression(),\n",
    "    KNeighborsClassifier()]\n",
    "\n",
    "result_CV=pd.Series()\n",
    "\n",
    "for name, clf in zip(names, classifiers):\n",
    "    result_CV[name]=classif_accuracy(clf,X_train,y_train,X_test,y_test)\n",
    "\n",
    "print(result_CV)\n",
    "# logistic regression è buono"
   ]
  },
  {
   "cell_type": "markdown",
   "source": [
    "## Using TF-IDF"
   ],
   "metadata": {
    "id": "zjZMc_cTaM7Z"
   }
  },
  {
   "cell_type": "markdown",
   "source": [
    "### Unigrams\n",
    "si utilizzano i numeri reali"
   ],
   "metadata": {
    "id": "k_9WxrXGaR5v"
   }
  },
  {
   "cell_type": "code",
   "execution_count": 51,
   "metadata": {
    "id": "6HIrcfrf7Z8z",
    "executionInfo": {
     "status": "ok",
     "timestamp": 1683365242318,
     "user_tz": -120,
     "elapsed": 2573,
     "user": {
      "displayName": "Francesco GUERRA",
      "userId": "03589851697809460716"
     }
    },
    "ExecuteTime": {
     "start_time": "2023-05-08T14:43:51.572408Z",
     "end_time": "2023-05-08T14:43:52.074116Z"
    }
   },
   "outputs": [],
   "source": [
    "from sklearn.feature_extraction.text import TfidfVectorizer\n",
    "vectorizer = TfidfVectorizer(analyzer = \"word\",tokenizer = None,preprocessor = None,stop_words = None,max_features = 15000)\n",
    "data_text = vectorizer.fit_transform(df[\"text\"])"
   ]
  },
  {
   "cell_type": "code",
   "execution_count": 52,
   "metadata": {
    "collapsed": true,
    "colab": {
     "base_uri": "https://localhost:8080/"
    },
    "id": "H2KzKFlW7Z8z",
    "executionInfo": {
     "status": "ok",
     "timestamp": 1683365243198,
     "user_tz": -120,
     "elapsed": 883,
     "user": {
      "displayName": "Francesco GUERRA",
      "userId": "03589851697809460716"
     }
    },
    "outputId": "cc7e05f2-61e9-4d38-f54f-c0eadd655831",
    "ExecuteTime": {
     "start_time": "2023-05-08T14:43:53.275758Z",
     "end_time": "2023-05-08T14:43:53.514169Z"
    }
   },
   "outputs": [
    {
     "data": {
      "text/plain": "array([[0.10392772, 0.        , 0.        , ..., 0.        , 0.        ,\n        0.        ],\n       [0.        , 0.        , 0.        , ..., 0.        , 0.        ,\n        0.        ],\n       [0.        , 0.        , 0.        , ..., 0.        , 0.        ,\n        0.        ],\n       ...,\n       [0.        , 0.        , 0.        , ..., 0.        , 0.        ,\n        0.        ],\n       [0.        , 0.        , 0.        , ..., 0.        , 0.        ,\n        0.        ],\n       [0.        , 0.        , 0.        , ..., 0.        , 0.        ,\n        0.        ]])"
     },
     "execution_count": 52,
     "metadata": {},
     "output_type": "execute_result"
    }
   ],
   "source": [
    "data_text.toarray()"
   ]
  },
  {
   "cell_type": "code",
   "execution_count": 54,
   "metadata": {
    "collapsed": true,
    "colab": {
     "base_uri": "https://localhost:8080/"
    },
    "id": "wjzU9eBi7Z8z",
    "executionInfo": {
     "status": "ok",
     "timestamp": 1683365272834,
     "user_tz": -120,
     "elapsed": 307,
     "user": {
      "displayName": "Francesco GUERRA",
      "userId": "03589851697809460716"
     }
    },
    "outputId": "158500e5-dcdb-4775-85c5-a4fb94d430e5",
    "ExecuteTime": {
     "start_time": "2023-05-08T14:44:22.373352Z",
     "end_time": "2023-05-08T14:44:22.391026Z"
    }
   },
   "outputs": [
    {
     "data": {
      "text/plain": "0.9574632637277649"
     },
     "execution_count": 54,
     "metadata": {},
     "output_type": "execute_result"
    }
   ],
   "source": [
    "X_train, X_test, y_train, y_test = train_test_split(data_text, df[\"label_num\"], test_size=0.25)\n",
    "clf=mnb.fit(X_train,y_train)\n",
    "accuracy (mnb.predict(X_test),y_test)"
   ]
  },
  {
   "cell_type": "markdown",
   "source": [
    "### N-grams (5)"
   ],
   "metadata": {
    "id": "2Uwo09wnaVv1"
   }
  },
  {
   "cell_type": "code",
   "execution_count": 55,
   "metadata": {
    "collapsed": true,
    "id": "c1PgnGVr7Z8z",
    "executionInfo": {
     "status": "ok",
     "timestamp": 1683365339156,
     "user_tz": -120,
     "elapsed": 4877,
     "user": {
      "displayName": "Francesco GUERRA",
      "userId": "03589851697809460716"
     }
    },
    "ExecuteTime": {
     "start_time": "2023-05-08T14:44:29.947404Z",
     "end_time": "2023-05-08T14:44:32.063190Z"
    }
   },
   "outputs": [],
   "source": [
    "vectorizer = TfidfVectorizer(analyzer = \"char_wb\",tokenizer = None,preprocessor = None,stop_words = None, ngram_range=(5,5), max_features = 30000)\n",
    "data_text = vectorizer.fit_transform(df[\"text\"])"
   ]
  },
  {
   "cell_type": "code",
   "execution_count": 56,
   "metadata": {
    "collapsed": true,
    "colab": {
     "base_uri": "https://localhost:8080/"
    },
    "id": "u467aD9Z7Z8z",
    "executionInfo": {
     "status": "ok",
     "timestamp": 1683365388031,
     "user_tz": -120,
     "elapsed": 32179,
     "user": {
      "displayName": "Francesco GUERRA",
      "userId": "03589851697809460716"
     }
    },
    "outputId": "7eac395b-5c40-4d26-d83a-ab74d6534f1e",
    "ExecuteTime": {
     "start_time": "2023-05-08T14:44:34.425521Z",
     "end_time": "2023-05-08T14:44:36.129776Z"
    }
   },
   "outputs": [
    {
     "name": "stdout",
     "output_type": "stream",
     "text": [
      "Decision Tree          0.950503\n",
      "Random Forest          0.967517\n",
      "Naive Bayes            0.957463\n",
      "Logistic Regression    0.987626\n",
      "knn                    0.969838\n",
      "dtype: float64\n"
     ]
    }
   ],
   "source": [
    "names = [\"Decision Tree\",\"Random Forest\", \"Naive Bayes\", \"Logistic Regression\", \"knn\"]\n",
    "classifiers = [\n",
    "    DecisionTreeClassifier(max_depth=25),\n",
    "    RandomForestClassifier(max_depth=25, n_estimators=100),\n",
    "    MultinomialNB(),\n",
    "    LogisticRegression(),\n",
    "    KNeighborsClassifier()]\n",
    "\n",
    "result_CV=pd.Series()\n",
    "\n",
    "for name, clf in zip(names, classifiers):\n",
    "    result_CV[name]=classif_accuracy(clf,X_train,y_train,X_test,y_test)\n",
    "\n",
    "print(result_CV) "
   ]
  }
 ],
 "metadata": {
  "kernelspec": {
   "display_name": "Python 3",
   "language": "python",
   "name": "python3"
  },
  "language_info": {
   "codemirror_mode": {
    "name": "ipython",
    "version": 3
   },
   "file_extension": ".py",
   "mimetype": "text/x-python",
   "name": "python",
   "nbconvert_exporter": "python",
   "pygments_lexer": "ipython3",
   "version": "3.6.9"
  },
  "colab": {
   "provenance": [],
   "toc_visible": true
  }
 },
 "nbformat": 4,
 "nbformat_minor": 0
}
