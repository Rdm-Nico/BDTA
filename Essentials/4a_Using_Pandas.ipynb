{
 "nbformat": 4,
 "nbformat_minor": 0,
 "metadata": {
  "kernelspec": {
   "display_name": "Python 3",
   "language": "python",
   "name": "python3"
  },
  "language_info": {
   "codemirror_mode": {
    "name": "ipython",
    "version": 3
   },
   "file_extension": ".py",
   "mimetype": "text/x-python",
   "name": "python",
   "nbconvert_exporter": "python",
   "pygments_lexer": "ipython3",
   "version": "3.6.9"
  },
  "colab": {
   "provenance": [],
   "collapsed_sections": [
    "GAgmP1KDYS8S",
    "NyoXCtAWYS9l",
    "Jqstd5WnRHA0",
    "5K_8JMjtYS-O",
    "9ZBEm8xUYS-q",
    "7wNkgkb5YS_R",
    "lhbHUzgVYTBF",
    "BQSfM7iSYTB3",
    "yHrgzf2tYTCg",
    "wPLMVFqgYTDH",
    "TtLILBGqYTEy",
    "JLw43IhCYTJD",
    "RUc9XZxUYTLL",
    "HTVTWRvxYTM4",
    "qCR6ZzTRYTM4",
    "xpeXI3CTYTOU",
    "P0kGy_ALYTOv",
    "u6UcusvrYTO_",
    "z4NEmorWYTPJ",
    "4XP5pxzQYTPP",
    "yfSLd-ZoYTPk",
    "TPuXB5D4YTPt",
    "6QO0Yc9nYTP8"
   ]
  }
 },
 "cells": [
  {
   "cell_type": "code",
   "metadata": {
    "id": "55nmCsXfYS0t",
    "ExecuteTime": {
     "start_time": "2023-04-25T10:58:28.660781Z",
     "end_time": "2023-04-25T10:58:28.875260Z"
    }
   },
   "source": [
    "import numpy as np\n",
    "\n",
    "import pandas as pd"
   ],
   "execution_count": 1,
   "outputs": []
  },
  {
   "cell_type": "markdown",
   "metadata": {
    "id": "VSskJlpdYS05"
   },
   "source": [
    "- In Data Analysis, a significant amount of time is spent on data preparation: loading, cleaning, transforming, and rearranging. \n",
    "    - Such tasks are often reported to take up 80% or more of an analyst’s time. \n",
    "- Pandas provides you with a high-level, flexible, and fast set of tools to enable you to manipulate data into the right form.\n",
    "- Much of the design and implementation of pandas has been driven by the needs of real-world applications."
   ]
  },
  {
   "cell_type": "markdown",
   "metadata": {
    "id": "fiJevauSYS06"
   },
   "source": [
    "## Handling Missing Data\n",
    "- Missing data occurs commonly in many data analysis applications.\n",
    "    - all of the descriptive statistics on pandas objects exclude missing data by default.\n",
    "- The missing data is represented in pandas with the floating-point value NaN (Not a Number). \n",
    "    - We call this a sentinel value that can be easily detected."
   ]
  },
  {
   "cell_type": "code",
   "metadata": {
    "id": "2ZLOXq34YS1d"
   },
   "source": [
    "string_data = pd.Series(['aardvark', 'artichoke', np.nan, 'avocado'])"
   ],
   "execution_count": 2,
   "outputs": []
  },
  {
   "cell_type": "code",
   "metadata": {
    "id": "7OwtubZgYS1m"
   },
   "source": [
    "string_data"
   ],
   "execution_count": 3,
   "outputs": [
    {
     "data": {
      "text/plain": "0     aardvark\n1    artichoke\n2          NaN\n3      avocado\ndtype: object"
     },
     "execution_count": 3,
     "metadata": {},
     "output_type": "execute_result"
    }
   ]
  },
  {
   "cell_type": "code",
   "metadata": {
    "id": "wbBJ1GSrYS3L"
   },
   "source": [
    "string_data.isnull()"
   ],
   "execution_count": 4,
   "outputs": [
    {
     "data": {
      "text/plain": "0    False\n1    False\n2     True\n3    False\ndtype: bool"
     },
     "execution_count": 4,
     "metadata": {},
     "output_type": "execute_result"
    }
   ]
  },
  {
   "cell_type": "markdown",
   "metadata": {
    "id": "3IP158cQYS3S"
   },
   "source": [
    "- In pandas, missing data is also referred  as  NA, \n",
    "    - it stands for not available. \n",
    "- In statistics applications, NA means\n",
    "    - data that does not exist \n",
    "    - data that exists but was not observed\n",
    "\n",
    "- When cleaning up data for analysis, it is often important to do analysis on the missing data itself to identify data\n",
    "collection problems or potential biases in the data caused by missing data.\n",
    "- The built-in Python None value is also treated as NA:"
   ]
  },
  {
   "cell_type": "code",
   "metadata": {
    "id": "IIkYPe1FYS3T"
   },
   "source": [
    "string_data[0] = None"
   ],
   "execution_count": 5,
   "outputs": []
  },
  {
   "cell_type": "code",
   "metadata": {
    "id": "or3RsCruYS3c"
   },
   "source": [
    "string_data"
   ],
   "execution_count": 6,
   "outputs": [
    {
     "data": {
      "text/plain": "0         None\n1    artichoke\n2          NaN\n3      avocado\ndtype: object"
     },
     "execution_count": 6,
     "metadata": {},
     "output_type": "execute_result"
    }
   ]
  },
  {
   "cell_type": "code",
   "metadata": {
    "id": "8vAjbiqeYS3q"
   },
   "source": [
    "string_data.isnull()"
   ],
   "execution_count": 7,
   "outputs": [
    {
     "data": {
      "text/plain": "0     True\n1    False\n2     True\n3    False\ndtype: bool"
     },
     "execution_count": 7,
     "metadata": {},
     "output_type": "execute_result"
    }
   ]
  },
  {
   "cell_type": "markdown",
   "metadata": {
    "id": "Ti1CO8iDYS3y"
   },
   "source": [
    "### Filtering Out Missing Data\n",
    "\n",
    "- dropna: Remove missing values."
   ]
  },
  {
   "cell_type": "code",
   "metadata": {
    "id": "BeA89j21YS30"
   },
   "source": [
    "from numpy import nan as NA"
   ],
   "execution_count": 8,
   "outputs": []
  },
  {
   "cell_type": "code",
   "metadata": {
    "id": "iE-V7rzqHxYd"
   },
   "source": [
    "import numpy as np"
   ],
   "execution_count": 9,
   "outputs": []
  },
  {
   "cell_type": "code",
   "metadata": {
    "id": "32NhzFo6Hq04"
   },
   "source": [
    "NA"
   ],
   "execution_count": 10,
   "outputs": [
    {
     "data": {
      "text/plain": "nan"
     },
     "execution_count": 10,
     "metadata": {},
     "output_type": "execute_result"
    }
   ]
  },
  {
   "cell_type": "code",
   "metadata": {
    "id": "8zh1JUbMHtqZ"
   },
   "source": [
    "np.nan"
   ],
   "execution_count": 11,
   "outputs": [
    {
     "data": {
      "text/plain": "nan"
     },
     "execution_count": 11,
     "metadata": {},
     "output_type": "execute_result"
    }
   ]
  },
  {
   "cell_type": "code",
   "metadata": {
    "id": "wcEFGM8PYS4Z"
   },
   "source": [
    "data = pd.Series([1, NA, 3.5, NA, 7])"
   ],
   "execution_count": 12,
   "outputs": []
  },
  {
   "cell_type": "code",
   "metadata": {
    "id": "7JIaS0Y9YS4z"
   },
   "source": [
    "data"
   ],
   "execution_count": 14,
   "outputs": [
    {
     "data": {
      "text/plain": "0    1.0\n1    NaN\n2    3.5\n3    NaN\n4    7.0\ndtype: float64"
     },
     "execution_count": 14,
     "metadata": {},
     "output_type": "execute_result"
    }
   ]
  },
  {
   "cell_type": "code",
   "metadata": {
    "id": "P7mZrOzxYS6J"
   },
   "source": [
    "data.dropna()"
   ],
   "execution_count": 15,
   "outputs": [
    {
     "data": {
      "text/plain": "0    1.0\n2    3.5\n4    7.0\ndtype: float64"
     },
     "execution_count": 15,
     "metadata": {},
     "output_type": "execute_result"
    }
   ]
  },
  {
   "cell_type": "code",
   "metadata": {
    "id": "HfrzHeqKYS6O"
   },
   "source": [
    "data"
   ],
   "execution_count": 16,
   "outputs": [
    {
     "data": {
      "text/plain": "0    1.0\n1    NaN\n2    3.5\n3    NaN\n4    7.0\ndtype: float64"
     },
     "execution_count": 16,
     "metadata": {},
     "output_type": "execute_result"
    }
   ]
  },
  {
   "cell_type": "code",
   "metadata": {
    "id": "XNpnvfMaH9J-"
   },
   "source": [
    "data.notnull()"
   ],
   "execution_count": 17,
   "outputs": [
    {
     "data": {
      "text/plain": "0     True\n1    False\n2     True\n3    False\n4     True\ndtype: bool"
     },
     "execution_count": 17,
     "metadata": {},
     "output_type": "execute_result"
    }
   ]
  },
  {
   "cell_type": "code",
   "metadata": {
    "id": "mHGC99F5YS6U"
   },
   "source": [
    "#dropna is equivalent to\n",
    "data[data.notnull()]"
   ],
   "execution_count": null,
   "outputs": []
  },
  {
   "cell_type": "markdown",
   "metadata": {
    "id": "bMnOFWseYS6a"
   },
   "source": [
    "- dropna in Dataframe"
   ]
  },
  {
   "cell_type": "code",
   "metadata": {
    "id": "UripGJt5YS6d"
   },
   "source": [
    "data = pd.DataFrame([[1., 6.5, 3.], [1., NA, NA],\n",
    "                     [NA, NA, NA], [NA, 6.5, 3.]])\n"
   ],
   "execution_count": 18,
   "outputs": []
  },
  {
   "cell_type": "code",
   "metadata": {
    "id": "YyhE6sb0YS65"
   },
   "source": [
    "data"
   ],
   "execution_count": 19,
   "outputs": [
    {
     "data": {
      "text/plain": "     0    1    2\n0  1.0  6.5  3.0\n1  1.0  NaN  NaN\n2  NaN  NaN  NaN\n3  NaN  6.5  3.0",
      "text/html": "<div>\n<style scoped>\n    .dataframe tbody tr th:only-of-type {\n        vertical-align: middle;\n    }\n\n    .dataframe tbody tr th {\n        vertical-align: top;\n    }\n\n    .dataframe thead th {\n        text-align: right;\n    }\n</style>\n<table border=\"1\" class=\"dataframe\">\n  <thead>\n    <tr style=\"text-align: right;\">\n      <th></th>\n      <th>0</th>\n      <th>1</th>\n      <th>2</th>\n    </tr>\n  </thead>\n  <tbody>\n    <tr>\n      <th>0</th>\n      <td>1.0</td>\n      <td>6.5</td>\n      <td>3.0</td>\n    </tr>\n    <tr>\n      <th>1</th>\n      <td>1.0</td>\n      <td>NaN</td>\n      <td>NaN</td>\n    </tr>\n    <tr>\n      <th>2</th>\n      <td>NaN</td>\n      <td>NaN</td>\n      <td>NaN</td>\n    </tr>\n    <tr>\n      <th>3</th>\n      <td>NaN</td>\n      <td>6.5</td>\n      <td>3.0</td>\n    </tr>\n  </tbody>\n</table>\n</div>"
     },
     "execution_count": 19,
     "metadata": {},
     "output_type": "execute_result"
    }
   ]
  },
  {
   "cell_type": "code",
   "metadata": {
    "id": "OcJvW6iOYS7A"
   },
   "source": [
    "cleaned = data.dropna(axis=1)"
   ],
   "execution_count": 20,
   "outputs": []
  },
  {
   "cell_type": "code",
   "metadata": {
    "id": "RpRf98A_YS7S"
   },
   "source": [
    "cleaned"
   ],
   "execution_count": 23,
   "outputs": [
    {
     "data": {
      "text/plain": "Empty DataFrame\nColumns: []\nIndex: [0, 1, 2, 3]",
      "text/html": "<div>\n<style scoped>\n    .dataframe tbody tr th:only-of-type {\n        vertical-align: middle;\n    }\n\n    .dataframe tbody tr th {\n        vertical-align: top;\n    }\n\n    .dataframe thead th {\n        text-align: right;\n    }\n</style>\n<table border=\"1\" class=\"dataframe\">\n  <thead>\n    <tr style=\"text-align: right;\">\n      <th></th>\n    </tr>\n  </thead>\n  <tbody>\n    <tr>\n      <th>0</th>\n    </tr>\n    <tr>\n      <th>1</th>\n    </tr>\n    <tr>\n      <th>2</th>\n    </tr>\n    <tr>\n      <th>3</th>\n    </tr>\n  </tbody>\n</table>\n</div>"
     },
     "execution_count": 23,
     "metadata": {},
     "output_type": "execute_result"
    }
   ]
  },
  {
   "cell_type": "code",
   "metadata": {
    "id": "HQu20A4kIKmd"
   },
   "source": [
    "data"
   ],
   "execution_count": 24,
   "outputs": [
    {
     "data": {
      "text/plain": "     0    1    2\n0  1.0  6.5  3.0\n1  1.0  NaN  NaN\n2  NaN  NaN  NaN\n3  NaN  6.5  3.0",
      "text/html": "<div>\n<style scoped>\n    .dataframe tbody tr th:only-of-type {\n        vertical-align: middle;\n    }\n\n    .dataframe tbody tr th {\n        vertical-align: top;\n    }\n\n    .dataframe thead th {\n        text-align: right;\n    }\n</style>\n<table border=\"1\" class=\"dataframe\">\n  <thead>\n    <tr style=\"text-align: right;\">\n      <th></th>\n      <th>0</th>\n      <th>1</th>\n      <th>2</th>\n    </tr>\n  </thead>\n  <tbody>\n    <tr>\n      <th>0</th>\n      <td>1.0</td>\n      <td>6.5</td>\n      <td>3.0</td>\n    </tr>\n    <tr>\n      <th>1</th>\n      <td>1.0</td>\n      <td>NaN</td>\n      <td>NaN</td>\n    </tr>\n    <tr>\n      <th>2</th>\n      <td>NaN</td>\n      <td>NaN</td>\n      <td>NaN</td>\n    </tr>\n    <tr>\n      <th>3</th>\n      <td>NaN</td>\n      <td>6.5</td>\n      <td>3.0</td>\n    </tr>\n  </tbody>\n</table>\n</div>"
     },
     "execution_count": 24,
     "metadata": {},
     "output_type": "execute_result"
    }
   ]
  },
  {
   "cell_type": "markdown",
   "metadata": {
    "id": "reizjBIzYS7Y"
   },
   "source": [
    "- Passing how='all' will only drop rows that are all NA"
   ]
  },
  {
   "cell_type": "code",
   "metadata": {
    "id": "7bzWK4YDYS7g"
   },
   "source": [
    "data.dropna(how='all')"
   ],
   "execution_count": 25,
   "outputs": [
    {
     "data": {
      "text/plain": "     0    1    2\n0  1.0  6.5  3.0\n1  1.0  NaN  NaN\n3  NaN  6.5  3.0",
      "text/html": "<div>\n<style scoped>\n    .dataframe tbody tr th:only-of-type {\n        vertical-align: middle;\n    }\n\n    .dataframe tbody tr th {\n        vertical-align: top;\n    }\n\n    .dataframe thead th {\n        text-align: right;\n    }\n</style>\n<table border=\"1\" class=\"dataframe\">\n  <thead>\n    <tr style=\"text-align: right;\">\n      <th></th>\n      <th>0</th>\n      <th>1</th>\n      <th>2</th>\n    </tr>\n  </thead>\n  <tbody>\n    <tr>\n      <th>0</th>\n      <td>1.0</td>\n      <td>6.5</td>\n      <td>3.0</td>\n    </tr>\n    <tr>\n      <th>1</th>\n      <td>1.0</td>\n      <td>NaN</td>\n      <td>NaN</td>\n    </tr>\n    <tr>\n      <th>3</th>\n      <td>NaN</td>\n      <td>6.5</td>\n      <td>3.0</td>\n    </tr>\n  </tbody>\n</table>\n</div>"
     },
     "execution_count": 25,
     "metadata": {},
     "output_type": "execute_result"
    }
   ]
  },
  {
   "cell_type": "code",
   "metadata": {
    "id": "yjnjORxEYS7m"
   },
   "source": [
    "data.dropna(how='any')"
   ],
   "execution_count": 26,
   "outputs": [
    {
     "data": {
      "text/plain": "     0    1    2\n0  1.0  6.5  3.0",
      "text/html": "<div>\n<style scoped>\n    .dataframe tbody tr th:only-of-type {\n        vertical-align: middle;\n    }\n\n    .dataframe tbody tr th {\n        vertical-align: top;\n    }\n\n    .dataframe thead th {\n        text-align: right;\n    }\n</style>\n<table border=\"1\" class=\"dataframe\">\n  <thead>\n    <tr style=\"text-align: right;\">\n      <th></th>\n      <th>0</th>\n      <th>1</th>\n      <th>2</th>\n    </tr>\n  </thead>\n  <tbody>\n    <tr>\n      <th>0</th>\n      <td>1.0</td>\n      <td>6.5</td>\n      <td>3.0</td>\n    </tr>\n  </tbody>\n</table>\n</div>"
     },
     "execution_count": 26,
     "metadata": {},
     "output_type": "execute_result"
    }
   ]
  },
  {
   "cell_type": "code",
   "execution_count": 28,
   "outputs": [
    {
     "data": {
      "text/plain": "     0    1    2\n0  1.0  6.5  3.0\n1  1.0  NaN  NaN\n2  NaN  NaN  NaN\n3  NaN  6.5  3.0",
      "text/html": "<div>\n<style scoped>\n    .dataframe tbody tr th:only-of-type {\n        vertical-align: middle;\n    }\n\n    .dataframe tbody tr th {\n        vertical-align: top;\n    }\n\n    .dataframe thead th {\n        text-align: right;\n    }\n</style>\n<table border=\"1\" class=\"dataframe\">\n  <thead>\n    <tr style=\"text-align: right;\">\n      <th></th>\n      <th>0</th>\n      <th>1</th>\n      <th>2</th>\n    </tr>\n  </thead>\n  <tbody>\n    <tr>\n      <th>0</th>\n      <td>1.0</td>\n      <td>6.5</td>\n      <td>3.0</td>\n    </tr>\n    <tr>\n      <th>1</th>\n      <td>1.0</td>\n      <td>NaN</td>\n      <td>NaN</td>\n    </tr>\n    <tr>\n      <th>2</th>\n      <td>NaN</td>\n      <td>NaN</td>\n      <td>NaN</td>\n    </tr>\n    <tr>\n      <th>3</th>\n      <td>NaN</td>\n      <td>6.5</td>\n      <td>3.0</td>\n    </tr>\n  </tbody>\n</table>\n</div>"
     },
     "execution_count": 28,
     "metadata": {},
     "output_type": "execute_result"
    }
   ],
   "source": [
    "data"
   ],
   "metadata": {
    "collapsed": false
   }
  },
  {
   "cell_type": "code",
   "metadata": {
    "id": "DIWSACs8YS7t"
   },
   "source": [
    "data.dropna(axis=1, how='all')"
   ],
   "execution_count": 30,
   "outputs": [
    {
     "data": {
      "text/plain": "     0    1    2\n0  1.0  6.5  3.0\n1  1.0  NaN  NaN\n2  NaN  NaN  NaN\n3  NaN  6.5  3.0",
      "text/html": "<div>\n<style scoped>\n    .dataframe tbody tr th:only-of-type {\n        vertical-align: middle;\n    }\n\n    .dataframe tbody tr th {\n        vertical-align: top;\n    }\n\n    .dataframe thead th {\n        text-align: right;\n    }\n</style>\n<table border=\"1\" class=\"dataframe\">\n  <thead>\n    <tr style=\"text-align: right;\">\n      <th></th>\n      <th>0</th>\n      <th>1</th>\n      <th>2</th>\n    </tr>\n  </thead>\n  <tbody>\n    <tr>\n      <th>0</th>\n      <td>1.0</td>\n      <td>6.5</td>\n      <td>3.0</td>\n    </tr>\n    <tr>\n      <th>1</th>\n      <td>1.0</td>\n      <td>NaN</td>\n      <td>NaN</td>\n    </tr>\n    <tr>\n      <th>2</th>\n      <td>NaN</td>\n      <td>NaN</td>\n      <td>NaN</td>\n    </tr>\n    <tr>\n      <th>3</th>\n      <td>NaN</td>\n      <td>6.5</td>\n      <td>3.0</td>\n    </tr>\n  </tbody>\n</table>\n</div>"
     },
     "execution_count": 30,
     "metadata": {},
     "output_type": "execute_result"
    }
   ]
  },
  {
   "cell_type": "code",
   "metadata": {
    "id": "A1O5_WakYS72"
   },
   "source": [
    "data.dropna(axis=0, how='any')"
   ],
   "execution_count": 32,
   "outputs": [
    {
     "data": {
      "text/plain": "     0    1    2\n0  1.0  6.5  3.0",
      "text/html": "<div>\n<style scoped>\n    .dataframe tbody tr th:only-of-type {\n        vertical-align: middle;\n    }\n\n    .dataframe tbody tr th {\n        vertical-align: top;\n    }\n\n    .dataframe thead th {\n        text-align: right;\n    }\n</style>\n<table border=\"1\" class=\"dataframe\">\n  <thead>\n    <tr style=\"text-align: right;\">\n      <th></th>\n      <th>0</th>\n      <th>1</th>\n      <th>2</th>\n    </tr>\n  </thead>\n  <tbody>\n    <tr>\n      <th>0</th>\n      <td>1.0</td>\n      <td>6.5</td>\n      <td>3.0</td>\n    </tr>\n  </tbody>\n</table>\n</div>"
     },
     "execution_count": 32,
     "metadata": {},
     "output_type": "execute_result"
    }
   ]
  },
  {
   "cell_type": "markdown",
   "metadata": {
    "id": "nq1KtwVRYS76"
   },
   "source": [
    "- if you want to keep only rows containing a certain number of observations."
   ]
  },
  {
   "cell_type": "code",
   "metadata": {
    "id": "c3E6-F7uYS77"
   },
   "source": [
    "df = pd.DataFrame(np.random.randn(7, 3))\n"
   ],
   "execution_count": 33,
   "outputs": []
  },
  {
   "cell_type": "code",
   "execution_count": 35,
   "outputs": [],
   "source": [
    "df.iloc[:4, 1] = NA\n",
    "df.iloc[:2, 2] = NA"
   ],
   "metadata": {
    "collapsed": false
   }
  },
  {
   "cell_type": "code",
   "metadata": {
    "id": "Faz4Ipb2YS7_"
   },
   "source": [
    "df"
   ],
   "execution_count": 38,
   "outputs": [
    {
     "data": {
      "text/plain": "          0         1         2\n0  0.100499       NaN       NaN\n1  1.305566       NaN       NaN\n2  0.737950       NaN -1.754727\n3  1.171284       NaN -2.635772\n4 -0.287515  0.308519  0.956326\n5 -0.395753 -0.559489 -0.324964\n6  0.731856  0.459638  1.312196",
      "text/html": "<div>\n<style scoped>\n    .dataframe tbody tr th:only-of-type {\n        vertical-align: middle;\n    }\n\n    .dataframe tbody tr th {\n        vertical-align: top;\n    }\n\n    .dataframe thead th {\n        text-align: right;\n    }\n</style>\n<table border=\"1\" class=\"dataframe\">\n  <thead>\n    <tr style=\"text-align: right;\">\n      <th></th>\n      <th>0</th>\n      <th>1</th>\n      <th>2</th>\n    </tr>\n  </thead>\n  <tbody>\n    <tr>\n      <th>0</th>\n      <td>0.100499</td>\n      <td>NaN</td>\n      <td>NaN</td>\n    </tr>\n    <tr>\n      <th>1</th>\n      <td>1.305566</td>\n      <td>NaN</td>\n      <td>NaN</td>\n    </tr>\n    <tr>\n      <th>2</th>\n      <td>0.737950</td>\n      <td>NaN</td>\n      <td>-1.754727</td>\n    </tr>\n    <tr>\n      <th>3</th>\n      <td>1.171284</td>\n      <td>NaN</td>\n      <td>-2.635772</td>\n    </tr>\n    <tr>\n      <th>4</th>\n      <td>-0.287515</td>\n      <td>0.308519</td>\n      <td>0.956326</td>\n    </tr>\n    <tr>\n      <th>5</th>\n      <td>-0.395753</td>\n      <td>-0.559489</td>\n      <td>-0.324964</td>\n    </tr>\n    <tr>\n      <th>6</th>\n      <td>0.731856</td>\n      <td>0.459638</td>\n      <td>1.312196</td>\n    </tr>\n  </tbody>\n</table>\n</div>"
     },
     "execution_count": 38,
     "metadata": {},
     "output_type": "execute_result"
    }
   ]
  },
  {
   "cell_type": "code",
   "metadata": {
    "id": "6cHh8J0jYS8I"
   },
   "source": [
    "df.dropna()"
   ],
   "execution_count": 37,
   "outputs": [
    {
     "data": {
      "text/plain": "          0         1         2\n4 -0.287515  0.308519  0.956326\n5 -0.395753 -0.559489 -0.324964\n6  0.731856  0.459638  1.312196",
      "text/html": "<div>\n<style scoped>\n    .dataframe tbody tr th:only-of-type {\n        vertical-align: middle;\n    }\n\n    .dataframe tbody tr th {\n        vertical-align: top;\n    }\n\n    .dataframe thead th {\n        text-align: right;\n    }\n</style>\n<table border=\"1\" class=\"dataframe\">\n  <thead>\n    <tr style=\"text-align: right;\">\n      <th></th>\n      <th>0</th>\n      <th>1</th>\n      <th>2</th>\n    </tr>\n  </thead>\n  <tbody>\n    <tr>\n      <th>4</th>\n      <td>-0.287515</td>\n      <td>0.308519</td>\n      <td>0.956326</td>\n    </tr>\n    <tr>\n      <th>5</th>\n      <td>-0.395753</td>\n      <td>-0.559489</td>\n      <td>-0.324964</td>\n    </tr>\n    <tr>\n      <th>6</th>\n      <td>0.731856</td>\n      <td>0.459638</td>\n      <td>1.312196</td>\n    </tr>\n  </tbody>\n</table>\n</div>"
     },
     "execution_count": 37,
     "metadata": {},
     "output_type": "execute_result"
    }
   ]
  },
  {
   "cell_type": "code",
   "metadata": {
    "id": "ERPYxggOYS8M"
   },
   "source": [
    "df.dropna(thresh=2)"
   ],
   "execution_count": 42,
   "outputs": [
    {
     "data": {
      "text/plain": "          0         1         2\n2  0.737950       NaN -1.754727\n3  1.171284       NaN -2.635772\n4 -0.287515  0.308519  0.956326\n5 -0.395753 -0.559489 -0.324964\n6  0.731856  0.459638  1.312196",
      "text/html": "<div>\n<style scoped>\n    .dataframe tbody tr th:only-of-type {\n        vertical-align: middle;\n    }\n\n    .dataframe tbody tr th {\n        vertical-align: top;\n    }\n\n    .dataframe thead th {\n        text-align: right;\n    }\n</style>\n<table border=\"1\" class=\"dataframe\">\n  <thead>\n    <tr style=\"text-align: right;\">\n      <th></th>\n      <th>0</th>\n      <th>1</th>\n      <th>2</th>\n    </tr>\n  </thead>\n  <tbody>\n    <tr>\n      <th>2</th>\n      <td>0.737950</td>\n      <td>NaN</td>\n      <td>-1.754727</td>\n    </tr>\n    <tr>\n      <th>3</th>\n      <td>1.171284</td>\n      <td>NaN</td>\n      <td>-2.635772</td>\n    </tr>\n    <tr>\n      <th>4</th>\n      <td>-0.287515</td>\n      <td>0.308519</td>\n      <td>0.956326</td>\n    </tr>\n    <tr>\n      <th>5</th>\n      <td>-0.395753</td>\n      <td>-0.559489</td>\n      <td>-0.324964</td>\n    </tr>\n    <tr>\n      <th>6</th>\n      <td>0.731856</td>\n      <td>0.459638</td>\n      <td>1.312196</td>\n    </tr>\n  </tbody>\n</table>\n</div>"
     },
     "execution_count": 42,
     "metadata": {},
     "output_type": "execute_result"
    }
   ]
  },
  {
   "cell_type": "markdown",
   "metadata": {
    "id": "GAgmP1KDYS8S"
   },
   "source": [
    "### Filling In Missing Data"
   ]
  },
  {
   "cell_type": "markdown",
   "metadata": {
    "id": "a4rxmIVUk3Oe"
   },
   "source": [
    "- *fillna*: Fill NA/NaN values using the specified method"
   ]
  },
  {
   "cell_type": "code",
   "metadata": {
    "id": "E0W-YVuXI0D_"
   },
   "source": [
    "df"
   ],
   "execution_count": 43,
   "outputs": [
    {
     "data": {
      "text/plain": "          0         1         2\n0  0.100499       NaN       NaN\n1  1.305566       NaN       NaN\n2  0.737950       NaN -1.754727\n3  1.171284       NaN -2.635772\n4 -0.287515  0.308519  0.956326\n5 -0.395753 -0.559489 -0.324964\n6  0.731856  0.459638  1.312196",
      "text/html": "<div>\n<style scoped>\n    .dataframe tbody tr th:only-of-type {\n        vertical-align: middle;\n    }\n\n    .dataframe tbody tr th {\n        vertical-align: top;\n    }\n\n    .dataframe thead th {\n        text-align: right;\n    }\n</style>\n<table border=\"1\" class=\"dataframe\">\n  <thead>\n    <tr style=\"text-align: right;\">\n      <th></th>\n      <th>0</th>\n      <th>1</th>\n      <th>2</th>\n    </tr>\n  </thead>\n  <tbody>\n    <tr>\n      <th>0</th>\n      <td>0.100499</td>\n      <td>NaN</td>\n      <td>NaN</td>\n    </tr>\n    <tr>\n      <th>1</th>\n      <td>1.305566</td>\n      <td>NaN</td>\n      <td>NaN</td>\n    </tr>\n    <tr>\n      <th>2</th>\n      <td>0.737950</td>\n      <td>NaN</td>\n      <td>-1.754727</td>\n    </tr>\n    <tr>\n      <th>3</th>\n      <td>1.171284</td>\n      <td>NaN</td>\n      <td>-2.635772</td>\n    </tr>\n    <tr>\n      <th>4</th>\n      <td>-0.287515</td>\n      <td>0.308519</td>\n      <td>0.956326</td>\n    </tr>\n    <tr>\n      <th>5</th>\n      <td>-0.395753</td>\n      <td>-0.559489</td>\n      <td>-0.324964</td>\n    </tr>\n    <tr>\n      <th>6</th>\n      <td>0.731856</td>\n      <td>0.459638</td>\n      <td>1.312196</td>\n    </tr>\n  </tbody>\n</table>\n</div>"
     },
     "execution_count": 43,
     "metadata": {},
     "output_type": "execute_result"
    }
   ]
  },
  {
   "cell_type": "code",
   "metadata": {
    "id": "O4Be4EtvYS8c"
   },
   "source": [
    "df.fillna(42)"
   ],
   "execution_count": 44,
   "outputs": [
    {
     "data": {
      "text/plain": "          0          1          2\n0  0.100499  42.000000  42.000000\n1  1.305566  42.000000  42.000000\n2  0.737950  42.000000  -1.754727\n3  1.171284  42.000000  -2.635772\n4 -0.287515   0.308519   0.956326\n5 -0.395753  -0.559489  -0.324964\n6  0.731856   0.459638   1.312196",
      "text/html": "<div>\n<style scoped>\n    .dataframe tbody tr th:only-of-type {\n        vertical-align: middle;\n    }\n\n    .dataframe tbody tr th {\n        vertical-align: top;\n    }\n\n    .dataframe thead th {\n        text-align: right;\n    }\n</style>\n<table border=\"1\" class=\"dataframe\">\n  <thead>\n    <tr style=\"text-align: right;\">\n      <th></th>\n      <th>0</th>\n      <th>1</th>\n      <th>2</th>\n    </tr>\n  </thead>\n  <tbody>\n    <tr>\n      <th>0</th>\n      <td>0.100499</td>\n      <td>42.000000</td>\n      <td>42.000000</td>\n    </tr>\n    <tr>\n      <th>1</th>\n      <td>1.305566</td>\n      <td>42.000000</td>\n      <td>42.000000</td>\n    </tr>\n    <tr>\n      <th>2</th>\n      <td>0.737950</td>\n      <td>42.000000</td>\n      <td>-1.754727</td>\n    </tr>\n    <tr>\n      <th>3</th>\n      <td>1.171284</td>\n      <td>42.000000</td>\n      <td>-2.635772</td>\n    </tr>\n    <tr>\n      <th>4</th>\n      <td>-0.287515</td>\n      <td>0.308519</td>\n      <td>0.956326</td>\n    </tr>\n    <tr>\n      <th>5</th>\n      <td>-0.395753</td>\n      <td>-0.559489</td>\n      <td>-0.324964</td>\n    </tr>\n    <tr>\n      <th>6</th>\n      <td>0.731856</td>\n      <td>0.459638</td>\n      <td>1.312196</td>\n    </tr>\n  </tbody>\n</table>\n</div>"
     },
     "execution_count": 44,
     "metadata": {},
     "output_type": "execute_result"
    }
   ]
  },
  {
   "cell_type": "code",
   "metadata": {
    "id": "lRD9MtAgI5fA"
   },
   "source": [
    "df"
   ],
   "execution_count": 45,
   "outputs": [
    {
     "data": {
      "text/plain": "          0         1         2\n0  0.100499       NaN       NaN\n1  1.305566       NaN       NaN\n2  0.737950       NaN -1.754727\n3  1.171284       NaN -2.635772\n4 -0.287515  0.308519  0.956326\n5 -0.395753 -0.559489 -0.324964\n6  0.731856  0.459638  1.312196",
      "text/html": "<div>\n<style scoped>\n    .dataframe tbody tr th:only-of-type {\n        vertical-align: middle;\n    }\n\n    .dataframe tbody tr th {\n        vertical-align: top;\n    }\n\n    .dataframe thead th {\n        text-align: right;\n    }\n</style>\n<table border=\"1\" class=\"dataframe\">\n  <thead>\n    <tr style=\"text-align: right;\">\n      <th></th>\n      <th>0</th>\n      <th>1</th>\n      <th>2</th>\n    </tr>\n  </thead>\n  <tbody>\n    <tr>\n      <th>0</th>\n      <td>0.100499</td>\n      <td>NaN</td>\n      <td>NaN</td>\n    </tr>\n    <tr>\n      <th>1</th>\n      <td>1.305566</td>\n      <td>NaN</td>\n      <td>NaN</td>\n    </tr>\n    <tr>\n      <th>2</th>\n      <td>0.737950</td>\n      <td>NaN</td>\n      <td>-1.754727</td>\n    </tr>\n    <tr>\n      <th>3</th>\n      <td>1.171284</td>\n      <td>NaN</td>\n      <td>-2.635772</td>\n    </tr>\n    <tr>\n      <th>4</th>\n      <td>-0.287515</td>\n      <td>0.308519</td>\n      <td>0.956326</td>\n    </tr>\n    <tr>\n      <th>5</th>\n      <td>-0.395753</td>\n      <td>-0.559489</td>\n      <td>-0.324964</td>\n    </tr>\n    <tr>\n      <th>6</th>\n      <td>0.731856</td>\n      <td>0.459638</td>\n      <td>1.312196</td>\n    </tr>\n  </tbody>\n</table>\n</div>"
     },
     "execution_count": 45,
     "metadata": {},
     "output_type": "execute_result"
    }
   ]
  },
  {
   "cell_type": "code",
   "metadata": {
    "id": "EP0iCJcxYS8i"
   },
   "source": [
    "#if the value to fill in depends on the column\n",
    "df.fillna({1: 0.5, 2: 0})"
   ],
   "execution_count": 46,
   "outputs": [
    {
     "data": {
      "text/plain": "          0         1         2\n0  0.100499  0.500000  0.000000\n1  1.305566  0.500000  0.000000\n2  0.737950  0.500000 -1.754727\n3  1.171284  0.500000 -2.635772\n4 -0.287515  0.308519  0.956326\n5 -0.395753 -0.559489 -0.324964\n6  0.731856  0.459638  1.312196",
      "text/html": "<div>\n<style scoped>\n    .dataframe tbody tr th:only-of-type {\n        vertical-align: middle;\n    }\n\n    .dataframe tbody tr th {\n        vertical-align: top;\n    }\n\n    .dataframe thead th {\n        text-align: right;\n    }\n</style>\n<table border=\"1\" class=\"dataframe\">\n  <thead>\n    <tr style=\"text-align: right;\">\n      <th></th>\n      <th>0</th>\n      <th>1</th>\n      <th>2</th>\n    </tr>\n  </thead>\n  <tbody>\n    <tr>\n      <th>0</th>\n      <td>0.100499</td>\n      <td>0.500000</td>\n      <td>0.000000</td>\n    </tr>\n    <tr>\n      <th>1</th>\n      <td>1.305566</td>\n      <td>0.500000</td>\n      <td>0.000000</td>\n    </tr>\n    <tr>\n      <th>2</th>\n      <td>0.737950</td>\n      <td>0.500000</td>\n      <td>-1.754727</td>\n    </tr>\n    <tr>\n      <th>3</th>\n      <td>1.171284</td>\n      <td>0.500000</td>\n      <td>-2.635772</td>\n    </tr>\n    <tr>\n      <th>4</th>\n      <td>-0.287515</td>\n      <td>0.308519</td>\n      <td>0.956326</td>\n    </tr>\n    <tr>\n      <th>5</th>\n      <td>-0.395753</td>\n      <td>-0.559489</td>\n      <td>-0.324964</td>\n    </tr>\n    <tr>\n      <th>6</th>\n      <td>0.731856</td>\n      <td>0.459638</td>\n      <td>1.312196</td>\n    </tr>\n  </tbody>\n</table>\n</div>"
     },
     "execution_count": 46,
     "metadata": {},
     "output_type": "execute_result"
    }
   ]
  },
  {
   "cell_type": "code",
   "metadata": {
    "id": "Zb4fzQsfYS8m"
   },
   "source": [
    "df"
   ],
   "execution_count": 47,
   "outputs": [
    {
     "data": {
      "text/plain": "          0         1         2\n0  0.100499       NaN       NaN\n1  1.305566       NaN       NaN\n2  0.737950       NaN -1.754727\n3  1.171284       NaN -2.635772\n4 -0.287515  0.308519  0.956326\n5 -0.395753 -0.559489 -0.324964\n6  0.731856  0.459638  1.312196",
      "text/html": "<div>\n<style scoped>\n    .dataframe tbody tr th:only-of-type {\n        vertical-align: middle;\n    }\n\n    .dataframe tbody tr th {\n        vertical-align: top;\n    }\n\n    .dataframe thead th {\n        text-align: right;\n    }\n</style>\n<table border=\"1\" class=\"dataframe\">\n  <thead>\n    <tr style=\"text-align: right;\">\n      <th></th>\n      <th>0</th>\n      <th>1</th>\n      <th>2</th>\n    </tr>\n  </thead>\n  <tbody>\n    <tr>\n      <th>0</th>\n      <td>0.100499</td>\n      <td>NaN</td>\n      <td>NaN</td>\n    </tr>\n    <tr>\n      <th>1</th>\n      <td>1.305566</td>\n      <td>NaN</td>\n      <td>NaN</td>\n    </tr>\n    <tr>\n      <th>2</th>\n      <td>0.737950</td>\n      <td>NaN</td>\n      <td>-1.754727</td>\n    </tr>\n    <tr>\n      <th>3</th>\n      <td>1.171284</td>\n      <td>NaN</td>\n      <td>-2.635772</td>\n    </tr>\n    <tr>\n      <th>4</th>\n      <td>-0.287515</td>\n      <td>0.308519</td>\n      <td>0.956326</td>\n    </tr>\n    <tr>\n      <th>5</th>\n      <td>-0.395753</td>\n      <td>-0.559489</td>\n      <td>-0.324964</td>\n    </tr>\n    <tr>\n      <th>6</th>\n      <td>0.731856</td>\n      <td>0.459638</td>\n      <td>1.312196</td>\n    </tr>\n  </tbody>\n</table>\n</div>"
     },
     "execution_count": 47,
     "metadata": {},
     "output_type": "execute_result"
    }
   ]
  },
  {
   "cell_type": "code",
   "metadata": {
    "id": "44qqdssMYS8u"
   },
   "source": [
    "df.fillna(1, inplace=True)"
   ],
   "execution_count": 50,
   "outputs": []
  },
  {
   "cell_type": "code",
   "metadata": {
    "id": "XCK3Mt_SYS81"
   },
   "source": [
    "df"
   ],
   "execution_count": 51,
   "outputs": [
    {
     "data": {
      "text/plain": "          0         1         2\n0  0.100499  0.000000  0.000000\n1  1.305566  0.000000  0.000000\n2  0.737950  0.000000 -1.754727\n3  1.171284  0.000000 -2.635772\n4 -0.287515  0.308519  0.956326\n5 -0.395753 -0.559489 -0.324964\n6  0.731856  0.459638  1.312196",
      "text/html": "<div>\n<style scoped>\n    .dataframe tbody tr th:only-of-type {\n        vertical-align: middle;\n    }\n\n    .dataframe tbody tr th {\n        vertical-align: top;\n    }\n\n    .dataframe thead th {\n        text-align: right;\n    }\n</style>\n<table border=\"1\" class=\"dataframe\">\n  <thead>\n    <tr style=\"text-align: right;\">\n      <th></th>\n      <th>0</th>\n      <th>1</th>\n      <th>2</th>\n    </tr>\n  </thead>\n  <tbody>\n    <tr>\n      <th>0</th>\n      <td>0.100499</td>\n      <td>0.000000</td>\n      <td>0.000000</td>\n    </tr>\n    <tr>\n      <th>1</th>\n      <td>1.305566</td>\n      <td>0.000000</td>\n      <td>0.000000</td>\n    </tr>\n    <tr>\n      <th>2</th>\n      <td>0.737950</td>\n      <td>0.000000</td>\n      <td>-1.754727</td>\n    </tr>\n    <tr>\n      <th>3</th>\n      <td>1.171284</td>\n      <td>0.000000</td>\n      <td>-2.635772</td>\n    </tr>\n    <tr>\n      <th>4</th>\n      <td>-0.287515</td>\n      <td>0.308519</td>\n      <td>0.956326</td>\n    </tr>\n    <tr>\n      <th>5</th>\n      <td>-0.395753</td>\n      <td>-0.559489</td>\n      <td>-0.324964</td>\n    </tr>\n    <tr>\n      <th>6</th>\n      <td>0.731856</td>\n      <td>0.459638</td>\n      <td>1.312196</td>\n    </tr>\n  </tbody>\n</table>\n</div>"
     },
     "execution_count": 51,
     "metadata": {},
     "output_type": "execute_result"
    }
   ]
  },
  {
   "cell_type": "markdown",
   "metadata": {
    "id": "ozkEAQvbYS9O"
   },
   "source": [
    "- computing a value"
   ]
  },
  {
   "cell_type": "code",
   "metadata": {
    "id": "YHbaPXz5YS9P"
   },
   "source": [
    "df = pd.DataFrame(np.random.randn(6, 3))\n",
    "df.iloc[2:, 1] = NA\n",
    "df.iloc[4:, 2] = NA\n",
    "df"
   ],
   "execution_count": 52,
   "outputs": [
    {
     "data": {
      "text/plain": "          0         1         2\n0 -0.604198  0.322769 -0.882923\n1  0.537410  0.191778 -0.345427\n2 -1.723902       NaN -0.176802\n3  0.766360       NaN  0.443854\n4  0.852654       NaN       NaN\n5 -0.702139       NaN       NaN",
      "text/html": "<div>\n<style scoped>\n    .dataframe tbody tr th:only-of-type {\n        vertical-align: middle;\n    }\n\n    .dataframe tbody tr th {\n        vertical-align: top;\n    }\n\n    .dataframe thead th {\n        text-align: right;\n    }\n</style>\n<table border=\"1\" class=\"dataframe\">\n  <thead>\n    <tr style=\"text-align: right;\">\n      <th></th>\n      <th>0</th>\n      <th>1</th>\n      <th>2</th>\n    </tr>\n  </thead>\n  <tbody>\n    <tr>\n      <th>0</th>\n      <td>-0.604198</td>\n      <td>0.322769</td>\n      <td>-0.882923</td>\n    </tr>\n    <tr>\n      <th>1</th>\n      <td>0.537410</td>\n      <td>0.191778</td>\n      <td>-0.345427</td>\n    </tr>\n    <tr>\n      <th>2</th>\n      <td>-1.723902</td>\n      <td>NaN</td>\n      <td>-0.176802</td>\n    </tr>\n    <tr>\n      <th>3</th>\n      <td>0.766360</td>\n      <td>NaN</td>\n      <td>0.443854</td>\n    </tr>\n    <tr>\n      <th>4</th>\n      <td>0.852654</td>\n      <td>NaN</td>\n      <td>NaN</td>\n    </tr>\n    <tr>\n      <th>5</th>\n      <td>-0.702139</td>\n      <td>NaN</td>\n      <td>NaN</td>\n    </tr>\n  </tbody>\n</table>\n</div>"
     },
     "execution_count": 52,
     "metadata": {},
     "output_type": "execute_result"
    }
   ]
  },
  {
   "cell_type": "code",
   "metadata": {
    "id": "btrATcwTYS9W"
   },
   "source": [
    "df.fillna(method='ffill')"
   ],
   "execution_count": 53,
   "outputs": [
    {
     "data": {
      "text/plain": "          0         1         2\n0 -0.604198  0.322769 -0.882923\n1  0.537410  0.191778 -0.345427\n2 -1.723902  0.191778 -0.176802\n3  0.766360  0.191778  0.443854\n4  0.852654  0.191778  0.443854\n5 -0.702139  0.191778  0.443854",
      "text/html": "<div>\n<style scoped>\n    .dataframe tbody tr th:only-of-type {\n        vertical-align: middle;\n    }\n\n    .dataframe tbody tr th {\n        vertical-align: top;\n    }\n\n    .dataframe thead th {\n        text-align: right;\n    }\n</style>\n<table border=\"1\" class=\"dataframe\">\n  <thead>\n    <tr style=\"text-align: right;\">\n      <th></th>\n      <th>0</th>\n      <th>1</th>\n      <th>2</th>\n    </tr>\n  </thead>\n  <tbody>\n    <tr>\n      <th>0</th>\n      <td>-0.604198</td>\n      <td>0.322769</td>\n      <td>-0.882923</td>\n    </tr>\n    <tr>\n      <th>1</th>\n      <td>0.537410</td>\n      <td>0.191778</td>\n      <td>-0.345427</td>\n    </tr>\n    <tr>\n      <th>2</th>\n      <td>-1.723902</td>\n      <td>0.191778</td>\n      <td>-0.176802</td>\n    </tr>\n    <tr>\n      <th>3</th>\n      <td>0.766360</td>\n      <td>0.191778</td>\n      <td>0.443854</td>\n    </tr>\n    <tr>\n      <th>4</th>\n      <td>0.852654</td>\n      <td>0.191778</td>\n      <td>0.443854</td>\n    </tr>\n    <tr>\n      <th>5</th>\n      <td>-0.702139</td>\n      <td>0.191778</td>\n      <td>0.443854</td>\n    </tr>\n  </tbody>\n</table>\n</div>"
     },
     "execution_count": 53,
     "metadata": {},
     "output_type": "execute_result"
    }
   ]
  },
  {
   "cell_type": "code",
   "metadata": {
    "id": "_bJL9oXnYS9a"
   },
   "source": [
    "#limit For forward and backward filling, maximum number of consecutive periods to fill\n",
    "df.fillna(method='ffill', limit=2)"
   ],
   "execution_count": 54,
   "outputs": [
    {
     "data": {
      "text/plain": "          0         1         2\n0 -0.604198  0.322769 -0.882923\n1  0.537410  0.191778 -0.345427\n2 -1.723902  0.191778 -0.176802\n3  0.766360  0.191778  0.443854\n4  0.852654       NaN  0.443854\n5 -0.702139       NaN  0.443854",
      "text/html": "<div>\n<style scoped>\n    .dataframe tbody tr th:only-of-type {\n        vertical-align: middle;\n    }\n\n    .dataframe tbody tr th {\n        vertical-align: top;\n    }\n\n    .dataframe thead th {\n        text-align: right;\n    }\n</style>\n<table border=\"1\" class=\"dataframe\">\n  <thead>\n    <tr style=\"text-align: right;\">\n      <th></th>\n      <th>0</th>\n      <th>1</th>\n      <th>2</th>\n    </tr>\n  </thead>\n  <tbody>\n    <tr>\n      <th>0</th>\n      <td>-0.604198</td>\n      <td>0.322769</td>\n      <td>-0.882923</td>\n    </tr>\n    <tr>\n      <th>1</th>\n      <td>0.537410</td>\n      <td>0.191778</td>\n      <td>-0.345427</td>\n    </tr>\n    <tr>\n      <th>2</th>\n      <td>-1.723902</td>\n      <td>0.191778</td>\n      <td>-0.176802</td>\n    </tr>\n    <tr>\n      <th>3</th>\n      <td>0.766360</td>\n      <td>0.191778</td>\n      <td>0.443854</td>\n    </tr>\n    <tr>\n      <th>4</th>\n      <td>0.852654</td>\n      <td>NaN</td>\n      <td>0.443854</td>\n    </tr>\n    <tr>\n      <th>5</th>\n      <td>-0.702139</td>\n      <td>NaN</td>\n      <td>0.443854</td>\n    </tr>\n  </tbody>\n</table>\n</div>"
     },
     "execution_count": 54,
     "metadata": {},
     "output_type": "execute_result"
    }
   ]
  },
  {
   "cell_type": "code",
   "metadata": {
    "id": "Z59O39wrkry6"
   },
   "source": [
    "# using mean\n",
    "df.mean()"
   ],
   "execution_count": 55,
   "outputs": [
    {
     "data": {
      "text/plain": "0   -0.145636\n1    0.257274\n2   -0.240324\ndtype: float64"
     },
     "execution_count": 55,
     "metadata": {},
     "output_type": "execute_result"
    }
   ]
  },
  {
   "cell_type": "code",
   "metadata": {
    "id": "ndbZxo0oYS9f"
   },
   "source": [
    "#we can use other functions\n",
    "df.fillna(df.mean())"
   ],
   "execution_count": 56,
   "outputs": [
    {
     "data": {
      "text/plain": "          0         1         2\n0 -0.604198  0.322769 -0.882923\n1  0.537410  0.191778 -0.345427\n2 -1.723902  0.257274 -0.176802\n3  0.766360  0.257274  0.443854\n4  0.852654  0.257274 -0.240324\n5 -0.702139  0.257274 -0.240324",
      "text/html": "<div>\n<style scoped>\n    .dataframe tbody tr th:only-of-type {\n        vertical-align: middle;\n    }\n\n    .dataframe tbody tr th {\n        vertical-align: top;\n    }\n\n    .dataframe thead th {\n        text-align: right;\n    }\n</style>\n<table border=\"1\" class=\"dataframe\">\n  <thead>\n    <tr style=\"text-align: right;\">\n      <th></th>\n      <th>0</th>\n      <th>1</th>\n      <th>2</th>\n    </tr>\n  </thead>\n  <tbody>\n    <tr>\n      <th>0</th>\n      <td>-0.604198</td>\n      <td>0.322769</td>\n      <td>-0.882923</td>\n    </tr>\n    <tr>\n      <th>1</th>\n      <td>0.537410</td>\n      <td>0.191778</td>\n      <td>-0.345427</td>\n    </tr>\n    <tr>\n      <th>2</th>\n      <td>-1.723902</td>\n      <td>0.257274</td>\n      <td>-0.176802</td>\n    </tr>\n    <tr>\n      <th>3</th>\n      <td>0.766360</td>\n      <td>0.257274</td>\n      <td>0.443854</td>\n    </tr>\n    <tr>\n      <th>4</th>\n      <td>0.852654</td>\n      <td>0.257274</td>\n      <td>-0.240324</td>\n    </tr>\n    <tr>\n      <th>5</th>\n      <td>-0.702139</td>\n      <td>0.257274</td>\n      <td>-0.240324</td>\n    </tr>\n  </tbody>\n</table>\n</div>"
     },
     "execution_count": 56,
     "metadata": {},
     "output_type": "execute_result"
    }
   ]
  },
  {
   "cell_type": "markdown",
   "metadata": {
    "id": "NyoXCtAWYS9l"
   },
   "source": [
    "## Data Transformation\n"
   ]
  },
  {
   "cell_type": "markdown",
   "metadata": {
    "id": "Jqstd5WnRHA0"
   },
   "source": [
    "### Removing Duplicates\n",
    "\n",
    "- *duplicated*\n",
    "- drop_duplicated"
   ]
  },
  {
   "cell_type": "code",
   "metadata": {
    "id": "igpOTCaWYS9m"
   },
   "source": [
    "data = pd.DataFrame({'k1': ['one', 'two'] * 3 + ['two'],\n",
    "                     'k2': [1, 1, 2, 3, 3, 4, 4]})\n",
    "data"
   ],
   "execution_count": 57,
   "outputs": [
    {
     "data": {
      "text/plain": "    k1  k2\n0  one   1\n1  two   1\n2  one   2\n3  two   3\n4  one   3\n5  two   4\n6  two   4",
      "text/html": "<div>\n<style scoped>\n    .dataframe tbody tr th:only-of-type {\n        vertical-align: middle;\n    }\n\n    .dataframe tbody tr th {\n        vertical-align: top;\n    }\n\n    .dataframe thead th {\n        text-align: right;\n    }\n</style>\n<table border=\"1\" class=\"dataframe\">\n  <thead>\n    <tr style=\"text-align: right;\">\n      <th></th>\n      <th>k1</th>\n      <th>k2</th>\n    </tr>\n  </thead>\n  <tbody>\n    <tr>\n      <th>0</th>\n      <td>one</td>\n      <td>1</td>\n    </tr>\n    <tr>\n      <th>1</th>\n      <td>two</td>\n      <td>1</td>\n    </tr>\n    <tr>\n      <th>2</th>\n      <td>one</td>\n      <td>2</td>\n    </tr>\n    <tr>\n      <th>3</th>\n      <td>two</td>\n      <td>3</td>\n    </tr>\n    <tr>\n      <th>4</th>\n      <td>one</td>\n      <td>3</td>\n    </tr>\n    <tr>\n      <th>5</th>\n      <td>two</td>\n      <td>4</td>\n    </tr>\n    <tr>\n      <th>6</th>\n      <td>two</td>\n      <td>4</td>\n    </tr>\n  </tbody>\n</table>\n</div>"
     },
     "execution_count": 57,
     "metadata": {},
     "output_type": "execute_result"
    }
   ]
  },
  {
   "cell_type": "code",
   "metadata": {
    "id": "--Nc9_2bYS9t"
   },
   "source": [
    "data.duplicated()"
   ],
   "execution_count": 58,
   "outputs": [
    {
     "data": {
      "text/plain": "0    False\n1    False\n2    False\n3    False\n4    False\n5    False\n6     True\ndtype: bool"
     },
     "execution_count": 58,
     "metadata": {},
     "output_type": "execute_result"
    }
   ]
  },
  {
   "cell_type": "code",
   "metadata": {
    "id": "_xr18qTDlvgX"
   },
   "source": [
    "# data['k1'].duplicated()\n",
    "data.duplicated(['k1'])"
   ],
   "execution_count": 59,
   "outputs": [
    {
     "data": {
      "text/plain": "0    False\n1    False\n2     True\n3     True\n4     True\n5     True\n6     True\ndtype: bool"
     },
     "execution_count": 59,
     "metadata": {},
     "output_type": "execute_result"
    }
   ]
  },
  {
   "cell_type": "code",
   "metadata": {
    "id": "A7W-C3-zYS9y"
   },
   "source": [
    "data.drop_duplicates()"
   ],
   "execution_count": 60,
   "outputs": [
    {
     "data": {
      "text/plain": "    k1  k2\n0  one   1\n1  two   1\n2  one   2\n3  two   3\n4  one   3\n5  two   4",
      "text/html": "<div>\n<style scoped>\n    .dataframe tbody tr th:only-of-type {\n        vertical-align: middle;\n    }\n\n    .dataframe tbody tr th {\n        vertical-align: top;\n    }\n\n    .dataframe thead th {\n        text-align: right;\n    }\n</style>\n<table border=\"1\" class=\"dataframe\">\n  <thead>\n    <tr style=\"text-align: right;\">\n      <th></th>\n      <th>k1</th>\n      <th>k2</th>\n    </tr>\n  </thead>\n  <tbody>\n    <tr>\n      <th>0</th>\n      <td>one</td>\n      <td>1</td>\n    </tr>\n    <tr>\n      <th>1</th>\n      <td>two</td>\n      <td>1</td>\n    </tr>\n    <tr>\n      <th>2</th>\n      <td>one</td>\n      <td>2</td>\n    </tr>\n    <tr>\n      <th>3</th>\n      <td>two</td>\n      <td>3</td>\n    </tr>\n    <tr>\n      <th>4</th>\n      <td>one</td>\n      <td>3</td>\n    </tr>\n    <tr>\n      <th>5</th>\n      <td>two</td>\n      <td>4</td>\n    </tr>\n  </tbody>\n</table>\n</div>"
     },
     "execution_count": 60,
     "metadata": {},
     "output_type": "execute_result"
    }
   ]
  },
  {
   "cell_type": "code",
   "metadata": {
    "id": "z1somV3jYS-B"
   },
   "source": [
    "data['v1'] = range(7)\n",
    "data"
   ],
   "execution_count": 61,
   "outputs": [
    {
     "data": {
      "text/plain": "    k1  k2  v1\n0  one   1   0\n1  two   1   1\n2  one   2   2\n3  two   3   3\n4  one   3   4\n5  two   4   5\n6  two   4   6",
      "text/html": "<div>\n<style scoped>\n    .dataframe tbody tr th:only-of-type {\n        vertical-align: middle;\n    }\n\n    .dataframe tbody tr th {\n        vertical-align: top;\n    }\n\n    .dataframe thead th {\n        text-align: right;\n    }\n</style>\n<table border=\"1\" class=\"dataframe\">\n  <thead>\n    <tr style=\"text-align: right;\">\n      <th></th>\n      <th>k1</th>\n      <th>k2</th>\n      <th>v1</th>\n    </tr>\n  </thead>\n  <tbody>\n    <tr>\n      <th>0</th>\n      <td>one</td>\n      <td>1</td>\n      <td>0</td>\n    </tr>\n    <tr>\n      <th>1</th>\n      <td>two</td>\n      <td>1</td>\n      <td>1</td>\n    </tr>\n    <tr>\n      <th>2</th>\n      <td>one</td>\n      <td>2</td>\n      <td>2</td>\n    </tr>\n    <tr>\n      <th>3</th>\n      <td>two</td>\n      <td>3</td>\n      <td>3</td>\n    </tr>\n    <tr>\n      <th>4</th>\n      <td>one</td>\n      <td>3</td>\n      <td>4</td>\n    </tr>\n    <tr>\n      <th>5</th>\n      <td>two</td>\n      <td>4</td>\n      <td>5</td>\n    </tr>\n    <tr>\n      <th>6</th>\n      <td>two</td>\n      <td>4</td>\n      <td>6</td>\n    </tr>\n  </tbody>\n</table>\n</div>"
     },
     "execution_count": 61,
     "metadata": {},
     "output_type": "execute_result"
    }
   ]
  },
  {
   "cell_type": "code",
   "metadata": {
    "id": "vRAidEQIYS-F"
   },
   "source": [
    "data.drop_duplicates(['k1'])"
   ],
   "execution_count": 62,
   "outputs": [
    {
     "data": {
      "text/plain": "    k1  k2  v1\n0  one   1   0\n1  two   1   1",
      "text/html": "<div>\n<style scoped>\n    .dataframe tbody tr th:only-of-type {\n        vertical-align: middle;\n    }\n\n    .dataframe tbody tr th {\n        vertical-align: top;\n    }\n\n    .dataframe thead th {\n        text-align: right;\n    }\n</style>\n<table border=\"1\" class=\"dataframe\">\n  <thead>\n    <tr style=\"text-align: right;\">\n      <th></th>\n      <th>k1</th>\n      <th>k2</th>\n      <th>v1</th>\n    </tr>\n  </thead>\n  <tbody>\n    <tr>\n      <th>0</th>\n      <td>one</td>\n      <td>1</td>\n      <td>0</td>\n    </tr>\n    <tr>\n      <th>1</th>\n      <td>two</td>\n      <td>1</td>\n      <td>1</td>\n    </tr>\n  </tbody>\n</table>\n</div>"
     },
     "execution_count": 62,
     "metadata": {},
     "output_type": "execute_result"
    }
   ]
  },
  {
   "cell_type": "code",
   "metadata": {
    "id": "nwfsTtypYS-J"
   },
   "source": [
    "data.drop_duplicates(['k1', 'k2'], keep='last')"
   ],
   "execution_count": 63,
   "outputs": [
    {
     "data": {
      "text/plain": "    k1  k2  v1\n0  one   1   0\n1  two   1   1\n2  one   2   2\n3  two   3   3\n4  one   3   4\n6  two   4   6",
      "text/html": "<div>\n<style scoped>\n    .dataframe tbody tr th:only-of-type {\n        vertical-align: middle;\n    }\n\n    .dataframe tbody tr th {\n        vertical-align: top;\n    }\n\n    .dataframe thead th {\n        text-align: right;\n    }\n</style>\n<table border=\"1\" class=\"dataframe\">\n  <thead>\n    <tr style=\"text-align: right;\">\n      <th></th>\n      <th>k1</th>\n      <th>k2</th>\n      <th>v1</th>\n    </tr>\n  </thead>\n  <tbody>\n    <tr>\n      <th>0</th>\n      <td>one</td>\n      <td>1</td>\n      <td>0</td>\n    </tr>\n    <tr>\n      <th>1</th>\n      <td>two</td>\n      <td>1</td>\n      <td>1</td>\n    </tr>\n    <tr>\n      <th>2</th>\n      <td>one</td>\n      <td>2</td>\n      <td>2</td>\n    </tr>\n    <tr>\n      <th>3</th>\n      <td>two</td>\n      <td>3</td>\n      <td>3</td>\n    </tr>\n    <tr>\n      <th>4</th>\n      <td>one</td>\n      <td>3</td>\n      <td>4</td>\n    </tr>\n    <tr>\n      <th>6</th>\n      <td>two</td>\n      <td>4</td>\n      <td>6</td>\n    </tr>\n  </tbody>\n</table>\n</div>"
     },
     "execution_count": 63,
     "metadata": {},
     "output_type": "execute_result"
    }
   ]
  },
  {
   "cell_type": "markdown",
   "metadata": {
    "id": "5K_8JMjtYS-O"
   },
   "source": [
    "### Transforming Data Using a Function or Mapping\n",
    "\n",
    "- map: Map values of Series according to input correspondence."
   ]
  },
  {
   "cell_type": "code",
   "metadata": {
    "id": "viUHq_jwYS-P"
   },
   "source": [
    "data = pd.DataFrame({'food': ['bacon', 'pulled pork', 'bacon',\n",
    "                              'Pastrami', 'corned beef', 'Bacon',\n",
    "                             'pastrami', 'honey ham', 'nova lox'],\n",
    "                     'ounces': [4, 3, 12, 6, 7.5, 8, 3, 5, 6]})\n",
    "data"
   ],
   "execution_count": 64,
   "outputs": [
    {
     "data": {
      "text/plain": "          food  ounces\n0        bacon     4.0\n1  pulled pork     3.0\n2        bacon    12.0\n3     Pastrami     6.0\n4  corned beef     7.5\n5        Bacon     8.0\n6     pastrami     3.0\n7    honey ham     5.0\n8     nova lox     6.0",
      "text/html": "<div>\n<style scoped>\n    .dataframe tbody tr th:only-of-type {\n        vertical-align: middle;\n    }\n\n    .dataframe tbody tr th {\n        vertical-align: top;\n    }\n\n    .dataframe thead th {\n        text-align: right;\n    }\n</style>\n<table border=\"1\" class=\"dataframe\">\n  <thead>\n    <tr style=\"text-align: right;\">\n      <th></th>\n      <th>food</th>\n      <th>ounces</th>\n    </tr>\n  </thead>\n  <tbody>\n    <tr>\n      <th>0</th>\n      <td>bacon</td>\n      <td>4.0</td>\n    </tr>\n    <tr>\n      <th>1</th>\n      <td>pulled pork</td>\n      <td>3.0</td>\n    </tr>\n    <tr>\n      <th>2</th>\n      <td>bacon</td>\n      <td>12.0</td>\n    </tr>\n    <tr>\n      <th>3</th>\n      <td>Pastrami</td>\n      <td>6.0</td>\n    </tr>\n    <tr>\n      <th>4</th>\n      <td>corned beef</td>\n      <td>7.5</td>\n    </tr>\n    <tr>\n      <th>5</th>\n      <td>Bacon</td>\n      <td>8.0</td>\n    </tr>\n    <tr>\n      <th>6</th>\n      <td>pastrami</td>\n      <td>3.0</td>\n    </tr>\n    <tr>\n      <th>7</th>\n      <td>honey ham</td>\n      <td>5.0</td>\n    </tr>\n    <tr>\n      <th>8</th>\n      <td>nova lox</td>\n      <td>6.0</td>\n    </tr>\n  </tbody>\n</table>\n</div>"
     },
     "execution_count": 64,
     "metadata": {},
     "output_type": "execute_result"
    }
   ]
  },
  {
   "cell_type": "markdown",
   "metadata": {
    "id": "lmY7yzBjm0lI"
   },
   "source": [
    "1. passing dictionary"
   ]
  },
  {
   "cell_type": "code",
   "metadata": {
    "id": "iktYUWhLlxzY"
   },
   "source": [
    "data['food'].str.lower().unique()"
   ],
   "execution_count": 65,
   "outputs": [
    {
     "data": {
      "text/plain": "array(['bacon', 'pulled pork', 'pastrami', 'corned beef', 'honey ham',\n       'nova lox'], dtype=object)"
     },
     "execution_count": 65,
     "metadata": {},
     "output_type": "execute_result"
    }
   ]
  },
  {
   "cell_type": "code",
   "metadata": {
    "id": "UQr0gZ4rYS-S"
   },
   "source": [
    "meat_to_animal = {\n",
    "  'bacon': 'pig',\n",
    "  'pulled pork': 'pig',\n",
    "  'pastrami': 'cow',\n",
    "  'corned beef': 'cow',\n",
    "  'honey ham': 'pig',\n",
    "  'nova lox': 'salmon'\n",
    "}"
   ],
   "execution_count": 66,
   "outputs": []
  },
  {
   "cell_type": "code",
   "metadata": {
    "id": "5cGc7a6kYS-X"
   },
   "source": [
    "lowercased = data['food'].str.lower()\n",
    "lowercased"
   ],
   "execution_count": 67,
   "outputs": [
    {
     "data": {
      "text/plain": "0          bacon\n1    pulled pork\n2          bacon\n3       pastrami\n4    corned beef\n5          bacon\n6       pastrami\n7      honey ham\n8       nova lox\nName: food, dtype: object"
     },
     "execution_count": 67,
     "metadata": {},
     "output_type": "execute_result"
    }
   ]
  },
  {
   "cell_type": "code",
   "metadata": {
    "id": "sQuRtNAfYS-b"
   },
   "source": [
    "data['animal'] = lowercased.map(meat_to_animal)\n",
    "data"
   ],
   "execution_count": 68,
   "outputs": [
    {
     "data": {
      "text/plain": "          food  ounces  animal\n0        bacon     4.0     pig\n1  pulled pork     3.0     pig\n2        bacon    12.0     pig\n3     Pastrami     6.0     cow\n4  corned beef     7.5     cow\n5        Bacon     8.0     pig\n6     pastrami     3.0     cow\n7    honey ham     5.0     pig\n8     nova lox     6.0  salmon",
      "text/html": "<div>\n<style scoped>\n    .dataframe tbody tr th:only-of-type {\n        vertical-align: middle;\n    }\n\n    .dataframe tbody tr th {\n        vertical-align: top;\n    }\n\n    .dataframe thead th {\n        text-align: right;\n    }\n</style>\n<table border=\"1\" class=\"dataframe\">\n  <thead>\n    <tr style=\"text-align: right;\">\n      <th></th>\n      <th>food</th>\n      <th>ounces</th>\n      <th>animal</th>\n    </tr>\n  </thead>\n  <tbody>\n    <tr>\n      <th>0</th>\n      <td>bacon</td>\n      <td>4.0</td>\n      <td>pig</td>\n    </tr>\n    <tr>\n      <th>1</th>\n      <td>pulled pork</td>\n      <td>3.0</td>\n      <td>pig</td>\n    </tr>\n    <tr>\n      <th>2</th>\n      <td>bacon</td>\n      <td>12.0</td>\n      <td>pig</td>\n    </tr>\n    <tr>\n      <th>3</th>\n      <td>Pastrami</td>\n      <td>6.0</td>\n      <td>cow</td>\n    </tr>\n    <tr>\n      <th>4</th>\n      <td>corned beef</td>\n      <td>7.5</td>\n      <td>cow</td>\n    </tr>\n    <tr>\n      <th>5</th>\n      <td>Bacon</td>\n      <td>8.0</td>\n      <td>pig</td>\n    </tr>\n    <tr>\n      <th>6</th>\n      <td>pastrami</td>\n      <td>3.0</td>\n      <td>cow</td>\n    </tr>\n    <tr>\n      <th>7</th>\n      <td>honey ham</td>\n      <td>5.0</td>\n      <td>pig</td>\n    </tr>\n    <tr>\n      <th>8</th>\n      <td>nova lox</td>\n      <td>6.0</td>\n      <td>salmon</td>\n    </tr>\n  </tbody>\n</table>\n</div>"
     },
     "execution_count": 68,
     "metadata": {},
     "output_type": "execute_result"
    }
   ]
  },
  {
   "cell_type": "markdown",
   "metadata": {
    "id": "9ZBEm8xUYS-q"
   },
   "source": [
    "### Replacing Values\n",
    "\n",
    "- *replace*: Replace values given in *to_replace* with value."
   ]
  },
  {
   "cell_type": "code",
   "metadata": {
    "id": "rDe9a11fYS-s"
   },
   "source": [
    "data = pd.Series([1., -999., 2., -999., -1000., 3.])\n",
    "data"
   ],
   "execution_count": 69,
   "outputs": [
    {
     "data": {
      "text/plain": "0       1.0\n1    -999.0\n2       2.0\n3    -999.0\n4   -1000.0\n5       3.0\ndtype: float64"
     },
     "execution_count": 69,
     "metadata": {},
     "output_type": "execute_result"
    }
   ]
  },
  {
   "cell_type": "code",
   "metadata": {
    "id": "1rsCfdy4YS-x"
   },
   "source": [
    "data.replace(-999, np.nan)"
   ],
   "execution_count": 70,
   "outputs": [
    {
     "data": {
      "text/plain": "0       1.0\n1       NaN\n2       2.0\n3       NaN\n4   -1000.0\n5       3.0\ndtype: float64"
     },
     "execution_count": 70,
     "metadata": {},
     "output_type": "execute_result"
    }
   ]
  },
  {
   "cell_type": "code",
   "metadata": {
    "id": "TXherkXlYS-4"
   },
   "source": [
    "data.replace([-999, -1000], np.nan)"
   ],
   "execution_count": 71,
   "outputs": [
    {
     "data": {
      "text/plain": "0    1.0\n1    NaN\n2    2.0\n3    NaN\n4    NaN\n5    3.0\ndtype: float64"
     },
     "execution_count": 71,
     "metadata": {},
     "output_type": "execute_result"
    }
   ]
  },
  {
   "cell_type": "code",
   "metadata": {
    "id": "6g5HCfdVYS-8"
   },
   "source": [
    "data.replace([-999, -1000], [np.nan, 0])"
   ],
   "execution_count": 72,
   "outputs": [
    {
     "data": {
      "text/plain": "0    1.0\n1    NaN\n2    2.0\n3    NaN\n4    0.0\n5    3.0\ndtype: float64"
     },
     "execution_count": 72,
     "metadata": {},
     "output_type": "execute_result"
    }
   ]
  },
  {
   "cell_type": "code",
   "metadata": {
    "id": "dXjTQC5_YS_J"
   },
   "source": [
    "data.replace({-999: np.nan, -1000: 0})"
   ],
   "execution_count": null,
   "outputs": []
  },
  {
   "cell_type": "markdown",
   "metadata": {
    "id": "7wNkgkb5YS_R"
   },
   "source": [
    "### Discretization and Binning\n",
    "\n",
    "- *cut*: Bin values into discrete intervals. Use cut when you need to segment and sort data values into bins"
   ]
  },
  {
   "cell_type": "code",
   "metadata": {
    "id": "EB_h6dZHYS_S"
   },
   "source": [
    "ages = [20, 22, 25, 27, 21, 23, 37, 31, 61, 45, 41, 32]"
   ],
   "execution_count": 85,
   "outputs": []
  },
  {
   "cell_type": "code",
   "metadata": {
    "id": "D23AGC2qYS_b"
   },
   "source": [
    "bins = [18, 25, 35, 60, 100]"
   ],
   "execution_count": 74,
   "outputs": []
  },
  {
   "cell_type": "code",
   "metadata": {
    "id": "7E_WvvjOYS_e"
   },
   "source": [
    "cats = pd.cut(ages, bins)"
   ],
   "execution_count": 82,
   "outputs": []
  },
  {
   "cell_type": "code",
   "metadata": {
    "id": "O1F1tlJJYS_l"
   },
   "source": [
    "cats"
   ],
   "execution_count": 86,
   "outputs": [
    {
     "data": {
      "text/plain": "[(18, 25], (18, 25], (18, 25], (25, 35], (18, 25], ..., (25, 35], (60, 100], (35, 60], (60, 100], (60, 100]]\nLength: 12\nCategories (4, interval[int64, right]): [(18, 25] < (25, 35] < (35, 60] < (60, 100]]"
     },
     "execution_count": 86,
     "metadata": {},
     "output_type": "execute_result"
    }
   ]
  },
  {
   "cell_type": "code",
   "metadata": {
    "id": "Xb_0ajkEnoxo"
   },
   "source": [
    "type(cats)"
   ],
   "execution_count": 77,
   "outputs": [
    {
     "data": {
      "text/plain": "pandas.core.arrays.categorical.Categorical"
     },
     "execution_count": 77,
     "metadata": {},
     "output_type": "execute_result"
    }
   ]
  },
  {
   "cell_type": "code",
   "metadata": {
    "id": "cAOg2CCQYS_u"
   },
   "source": [
    "cats.codes"
   ],
   "execution_count": 78,
   "outputs": [
    {
     "data": {
      "text/plain": "array([0, 0, 0, 1, 0, 0, 2, 1, 3, 2, 2, 1], dtype=int8)"
     },
     "execution_count": 78,
     "metadata": {},
     "output_type": "execute_result"
    }
   ]
  },
  {
   "cell_type": "code",
   "metadata": {
    "id": "XSeqWhriYS_4"
   },
   "source": [
    "cats.categories"
   ],
   "execution_count": 79,
   "outputs": [
    {
     "data": {
      "text/plain": "IntervalIndex([(18, 25], (25, 35], (35, 60], (60, 100]], dtype='interval[int64, right]')"
     },
     "execution_count": 79,
     "metadata": {},
     "output_type": "execute_result"
    }
   ]
  },
  {
   "cell_type": "code",
   "metadata": {
    "id": "FKRTPQLyYS_9"
   },
   "source": [
    "#These are the bin counts for the result of pandas.cut.\n",
    "pd.value_counts(cats)"
   ],
   "execution_count": 87,
   "outputs": [
    {
     "data": {
      "text/plain": "(18, 25]     5\n(60, 100]    3\n(25, 35]     2\n(35, 60]     2\ndtype: int64"
     },
     "execution_count": 87,
     "metadata": {},
     "output_type": "execute_result"
    }
   ]
  },
  {
   "cell_type": "code",
   "metadata": {
    "id": "n_6BOuQOYTAA"
   },
   "source": [
    "#parenthesis means that the side is open, \n",
    "#while the square bracket means it is closed (inclusive). \n",
    "#You can change which side is closed by passing right=False:\n",
    "pd.cut(ages, [18, 26, 36, 61, 100], right=False)"
   ],
   "execution_count": 88,
   "outputs": [
    {
     "data": {
      "text/plain": "[[18, 26), [18, 26), [18, 26), [26, 36), [18, 26), ..., [26, 36), [61, 100), [36, 61), [36, 61), [26, 36)]\nLength: 12\nCategories (4, interval[int64, left]): [[18, 26) < [26, 36) < [36, 61) < [61, 100)]"
     },
     "execution_count": 88,
     "metadata": {},
     "output_type": "execute_result"
    }
   ]
  },
  {
   "cell_type": "code",
   "metadata": {
    "id": "lXvu8-i4YTAH"
   },
   "source": [
    "#You can also pass your own bin names by passing a list or array to the labels option:\n",
    "group_names = ['Youth', 'YoungAdult', 'MiddleAged', 'Senior']\n",
    "cat = pd.cut(ages, bins, labels=group_names)"
   ],
   "execution_count": 90,
   "outputs": []
  },
  {
   "cell_type": "code",
   "execution_count": 91,
   "outputs": [
    {
     "data": {
      "text/plain": "Youth         5\nYoungAdult    3\nMiddleAged    3\nSenior        1\ndtype: int64"
     },
     "execution_count": 91,
     "metadata": {},
     "output_type": "execute_result"
    }
   ],
   "source": [
    "pd.value_counts(cat)"
   ],
   "metadata": {
    "collapsed": false
   }
  },
  {
   "cell_type": "code",
   "metadata": {
    "id": "2AJLf3FRYTAN"
   },
   "source": [
    "# passing an integer, it will compute\n",
    "#equal-length bins based on the minimum and maximum values in the data.\n",
    "\n",
    "data = np.random.rand(20)\n",
    "data"
   ],
   "execution_count": 92,
   "outputs": [
    {
     "data": {
      "text/plain": "array([0.67138931, 0.32072345, 0.24407644, 0.65847301, 0.78518685,\n       0.03434049, 0.24631921, 0.97547023, 0.1416963 , 0.58927469,\n       0.22320317, 0.86212739, 0.602625  , 0.62536902, 0.46280774,\n       0.47630573, 0.4135053 , 0.99301555, 0.03447644, 0.13717407])"
     },
     "execution_count": 92,
     "metadata": {},
     "output_type": "execute_result"
    }
   ]
  },
  {
   "cell_type": "code",
   "metadata": {
    "id": "9TVxwd6XmhQJ"
   },
   "source": [
    "pd.cut(data, 2, precision=3)"
   ],
   "execution_count": 93,
   "outputs": [
    {
     "data": {
      "text/plain": "[(0.514, 0.993], (0.0334, 0.514], (0.0334, 0.514], (0.514, 0.993], (0.514, 0.993], ..., (0.0334, 0.514], (0.0334, 0.514], (0.514, 0.993], (0.0334, 0.514], (0.0334, 0.514]]\nLength: 20\nCategories (2, interval[float64, right]): [(0.0334, 0.514] < (0.514, 0.993]]"
     },
     "execution_count": 93,
     "metadata": {},
     "output_type": "execute_result"
    }
   ]
  },
  {
   "cell_type": "code",
   "metadata": {
    "id": "s2p2QZ3JYTAD"
   },
   "source": [
    "pd.cut(ages, 4)"
   ],
   "execution_count": 94,
   "outputs": [
    {
     "data": {
      "text/plain": "[(19.959, 30.25], (19.959, 30.25], (19.959, 30.25], (19.959, 30.25], (19.959, 30.25], ..., (30.25, 40.5], (50.75, 61.0], (40.5, 50.75], (40.5, 50.75], (30.25, 40.5]]\nLength: 12\nCategories (4, interval[float64, right]): [(19.959, 30.25] < (30.25, 40.5] < (40.5, 50.75] < (50.75, 61.0]]"
     },
     "execution_count": 94,
     "metadata": {},
     "output_type": "execute_result"
    }
   ]
  },
  {
   "cell_type": "markdown",
   "metadata": {
    "id": "lhbHUzgVYTBF"
   },
   "source": [
    "### Permutation and Random Sampling"
   ]
  },
  {
   "cell_type": "markdown",
   "metadata": {
    "id": "9sM2wo_Mo3Qz"
   },
   "source": [
    "- *np.random.permutation* -> *pd.DataFrame.take*\n",
    "- *pd.DataFrame.sample*"
   ]
  },
  {
   "cell_type": "code",
   "metadata": {
    "id": "5ZmrcIW5YTBF"
   },
   "source": [
    "df = pd.DataFrame(np.arange(5 * 4).reshape((5, 4)))"
   ],
   "execution_count": 2,
   "outputs": []
  },
  {
   "cell_type": "code",
   "metadata": {
    "id": "fl6RowblYTBI"
   },
   "source": [
    "df"
   ],
   "execution_count": 3,
   "outputs": [
    {
     "data": {
      "text/plain": "    0   1   2   3\n0   0   1   2   3\n1   4   5   6   7\n2   8   9  10  11\n3  12  13  14  15\n4  16  17  18  19",
      "text/html": "<div>\n<style scoped>\n    .dataframe tbody tr th:only-of-type {\n        vertical-align: middle;\n    }\n\n    .dataframe tbody tr th {\n        vertical-align: top;\n    }\n\n    .dataframe thead th {\n        text-align: right;\n    }\n</style>\n<table border=\"1\" class=\"dataframe\">\n  <thead>\n    <tr style=\"text-align: right;\">\n      <th></th>\n      <th>0</th>\n      <th>1</th>\n      <th>2</th>\n      <th>3</th>\n    </tr>\n  </thead>\n  <tbody>\n    <tr>\n      <th>0</th>\n      <td>0</td>\n      <td>1</td>\n      <td>2</td>\n      <td>3</td>\n    </tr>\n    <tr>\n      <th>1</th>\n      <td>4</td>\n      <td>5</td>\n      <td>6</td>\n      <td>7</td>\n    </tr>\n    <tr>\n      <th>2</th>\n      <td>8</td>\n      <td>9</td>\n      <td>10</td>\n      <td>11</td>\n    </tr>\n    <tr>\n      <th>3</th>\n      <td>12</td>\n      <td>13</td>\n      <td>14</td>\n      <td>15</td>\n    </tr>\n    <tr>\n      <th>4</th>\n      <td>16</td>\n      <td>17</td>\n      <td>18</td>\n      <td>19</td>\n    </tr>\n  </tbody>\n</table>\n</div>"
     },
     "execution_count": 3,
     "metadata": {},
     "output_type": "execute_result"
    }
   ]
  },
  {
   "cell_type": "code",
   "metadata": {
    "id": "N1oVXqIGYTBK"
   },
   "source": [
    "sampler = np.random.permutation(5)"
   ],
   "execution_count": 4,
   "outputs": []
  },
  {
   "cell_type": "code",
   "metadata": {
    "id": "qwRlJx4JYTBY"
   },
   "source": [
    "sampler"
   ],
   "execution_count": 5,
   "outputs": [
    {
     "data": {
      "text/plain": "array([4, 2, 3, 0, 1])"
     },
     "execution_count": 5,
     "metadata": {},
     "output_type": "execute_result"
    }
   ]
  },
  {
   "cell_type": "code",
   "metadata": {
    "id": "hG7xiowXYTBi"
   },
   "source": [
    "df"
   ],
   "execution_count": 6,
   "outputs": [
    {
     "data": {
      "text/plain": "    0   1   2   3\n0   0   1   2   3\n1   4   5   6   7\n2   8   9  10  11\n3  12  13  14  15\n4  16  17  18  19",
      "text/html": "<div>\n<style scoped>\n    .dataframe tbody tr th:only-of-type {\n        vertical-align: middle;\n    }\n\n    .dataframe tbody tr th {\n        vertical-align: top;\n    }\n\n    .dataframe thead th {\n        text-align: right;\n    }\n</style>\n<table border=\"1\" class=\"dataframe\">\n  <thead>\n    <tr style=\"text-align: right;\">\n      <th></th>\n      <th>0</th>\n      <th>1</th>\n      <th>2</th>\n      <th>3</th>\n    </tr>\n  </thead>\n  <tbody>\n    <tr>\n      <th>0</th>\n      <td>0</td>\n      <td>1</td>\n      <td>2</td>\n      <td>3</td>\n    </tr>\n    <tr>\n      <th>1</th>\n      <td>4</td>\n      <td>5</td>\n      <td>6</td>\n      <td>7</td>\n    </tr>\n    <tr>\n      <th>2</th>\n      <td>8</td>\n      <td>9</td>\n      <td>10</td>\n      <td>11</td>\n    </tr>\n    <tr>\n      <th>3</th>\n      <td>12</td>\n      <td>13</td>\n      <td>14</td>\n      <td>15</td>\n    </tr>\n    <tr>\n      <th>4</th>\n      <td>16</td>\n      <td>17</td>\n      <td>18</td>\n      <td>19</td>\n    </tr>\n  </tbody>\n</table>\n</div>"
     },
     "execution_count": 6,
     "metadata": {},
     "output_type": "execute_result"
    }
   ]
  },
  {
   "cell_type": "code",
   "metadata": {
    "id": "V5zM0AqzXAS_"
   },
   "source": [
    "df.take(sampler)"
   ],
   "execution_count": 7,
   "outputs": [
    {
     "data": {
      "text/plain": "    0   1   2   3\n4  16  17  18  19\n2   8   9  10  11\n3  12  13  14  15\n0   0   1   2   3\n1   4   5   6   7",
      "text/html": "<div>\n<style scoped>\n    .dataframe tbody tr th:only-of-type {\n        vertical-align: middle;\n    }\n\n    .dataframe tbody tr th {\n        vertical-align: top;\n    }\n\n    .dataframe thead th {\n        text-align: right;\n    }\n</style>\n<table border=\"1\" class=\"dataframe\">\n  <thead>\n    <tr style=\"text-align: right;\">\n      <th></th>\n      <th>0</th>\n      <th>1</th>\n      <th>2</th>\n      <th>3</th>\n    </tr>\n  </thead>\n  <tbody>\n    <tr>\n      <th>4</th>\n      <td>16</td>\n      <td>17</td>\n      <td>18</td>\n      <td>19</td>\n    </tr>\n    <tr>\n      <th>2</th>\n      <td>8</td>\n      <td>9</td>\n      <td>10</td>\n      <td>11</td>\n    </tr>\n    <tr>\n      <th>3</th>\n      <td>12</td>\n      <td>13</td>\n      <td>14</td>\n      <td>15</td>\n    </tr>\n    <tr>\n      <th>0</th>\n      <td>0</td>\n      <td>1</td>\n      <td>2</td>\n      <td>3</td>\n    </tr>\n    <tr>\n      <th>1</th>\n      <td>4</td>\n      <td>5</td>\n      <td>6</td>\n      <td>7</td>\n    </tr>\n  </tbody>\n</table>\n</div>"
     },
     "execution_count": 7,
     "metadata": {},
     "output_type": "execute_result"
    }
   ]
  },
  {
   "cell_type": "code",
   "metadata": {
    "id": "BJFYr_huYTBk"
   },
   "source": [
    "df.take(sampler[-2:])"
   ],
   "execution_count": 8,
   "outputs": [
    {
     "data": {
      "text/plain": "   0  1  2  3\n0  0  1  2  3\n1  4  5  6  7",
      "text/html": "<div>\n<style scoped>\n    .dataframe tbody tr th:only-of-type {\n        vertical-align: middle;\n    }\n\n    .dataframe tbody tr th {\n        vertical-align: top;\n    }\n\n    .dataframe thead th {\n        text-align: right;\n    }\n</style>\n<table border=\"1\" class=\"dataframe\">\n  <thead>\n    <tr style=\"text-align: right;\">\n      <th></th>\n      <th>0</th>\n      <th>1</th>\n      <th>2</th>\n      <th>3</th>\n    </tr>\n  </thead>\n  <tbody>\n    <tr>\n      <th>0</th>\n      <td>0</td>\n      <td>1</td>\n      <td>2</td>\n      <td>3</td>\n    </tr>\n    <tr>\n      <th>1</th>\n      <td>4</td>\n      <td>5</td>\n      <td>6</td>\n      <td>7</td>\n    </tr>\n  </tbody>\n</table>\n</div>"
     },
     "execution_count": 8,
     "metadata": {},
     "output_type": "execute_result"
    }
   ]
  },
  {
   "cell_type": "code",
   "metadata": {
    "id": "iHAIkGNtYTBn"
   },
   "source": [
    "# you can use the sample method with a random subset without replacement\n",
    "df.sample(n=3)"
   ],
   "execution_count": 9,
   "outputs": [
    {
     "data": {
      "text/plain": "   0  1   2   3\n0  0  1   2   3\n1  4  5   6   7\n2  8  9  10  11",
      "text/html": "<div>\n<style scoped>\n    .dataframe tbody tr th:only-of-type {\n        vertical-align: middle;\n    }\n\n    .dataframe tbody tr th {\n        vertical-align: top;\n    }\n\n    .dataframe thead th {\n        text-align: right;\n    }\n</style>\n<table border=\"1\" class=\"dataframe\">\n  <thead>\n    <tr style=\"text-align: right;\">\n      <th></th>\n      <th>0</th>\n      <th>1</th>\n      <th>2</th>\n      <th>3</th>\n    </tr>\n  </thead>\n  <tbody>\n    <tr>\n      <th>0</th>\n      <td>0</td>\n      <td>1</td>\n      <td>2</td>\n      <td>3</td>\n    </tr>\n    <tr>\n      <th>1</th>\n      <td>4</td>\n      <td>5</td>\n      <td>6</td>\n      <td>7</td>\n    </tr>\n    <tr>\n      <th>2</th>\n      <td>8</td>\n      <td>9</td>\n      <td>10</td>\n      <td>11</td>\n    </tr>\n  </tbody>\n</table>\n</div>"
     },
     "execution_count": 9,
     "metadata": {},
     "output_type": "execute_result"
    }
   ]
  },
  {
   "cell_type": "code",
   "metadata": {
    "id": "YvM_h0woYTB1"
   },
   "source": [
    "# a sample with replacement (to allow repeat choices) is generated by passing replace=True to sample\n",
    "df.sample(n=500, replace=True)"
   ],
   "execution_count": 10,
   "outputs": [
    {
     "data": {
      "text/plain": "     0   1   2   3\n3   12  13  14  15\n1    4   5   6   7\n1    4   5   6   7\n1    4   5   6   7\n1    4   5   6   7\n..  ..  ..  ..  ..\n2    8   9  10  11\n1    4   5   6   7\n0    0   1   2   3\n1    4   5   6   7\n4   16  17  18  19\n\n[500 rows x 4 columns]",
      "text/html": "<div>\n<style scoped>\n    .dataframe tbody tr th:only-of-type {\n        vertical-align: middle;\n    }\n\n    .dataframe tbody tr th {\n        vertical-align: top;\n    }\n\n    .dataframe thead th {\n        text-align: right;\n    }\n</style>\n<table border=\"1\" class=\"dataframe\">\n  <thead>\n    <tr style=\"text-align: right;\">\n      <th></th>\n      <th>0</th>\n      <th>1</th>\n      <th>2</th>\n      <th>3</th>\n    </tr>\n  </thead>\n  <tbody>\n    <tr>\n      <th>3</th>\n      <td>12</td>\n      <td>13</td>\n      <td>14</td>\n      <td>15</td>\n    </tr>\n    <tr>\n      <th>1</th>\n      <td>4</td>\n      <td>5</td>\n      <td>6</td>\n      <td>7</td>\n    </tr>\n    <tr>\n      <th>1</th>\n      <td>4</td>\n      <td>5</td>\n      <td>6</td>\n      <td>7</td>\n    </tr>\n    <tr>\n      <th>1</th>\n      <td>4</td>\n      <td>5</td>\n      <td>6</td>\n      <td>7</td>\n    </tr>\n    <tr>\n      <th>1</th>\n      <td>4</td>\n      <td>5</td>\n      <td>6</td>\n      <td>7</td>\n    </tr>\n    <tr>\n      <th>...</th>\n      <td>...</td>\n      <td>...</td>\n      <td>...</td>\n      <td>...</td>\n    </tr>\n    <tr>\n      <th>2</th>\n      <td>8</td>\n      <td>9</td>\n      <td>10</td>\n      <td>11</td>\n    </tr>\n    <tr>\n      <th>1</th>\n      <td>4</td>\n      <td>5</td>\n      <td>6</td>\n      <td>7</td>\n    </tr>\n    <tr>\n      <th>0</th>\n      <td>0</td>\n      <td>1</td>\n      <td>2</td>\n      <td>3</td>\n    </tr>\n    <tr>\n      <th>1</th>\n      <td>4</td>\n      <td>5</td>\n      <td>6</td>\n      <td>7</td>\n    </tr>\n    <tr>\n      <th>4</th>\n      <td>16</td>\n      <td>17</td>\n      <td>18</td>\n      <td>19</td>\n    </tr>\n  </tbody>\n</table>\n<p>500 rows × 4 columns</p>\n</div>"
     },
     "execution_count": 10,
     "metadata": {},
     "output_type": "execute_result"
    }
   ]
  },
  {
   "cell_type": "markdown",
   "metadata": {
    "id": "BQSfM7iSYTB3"
   },
   "source": [
    "### Computing Indicator/Dummy Variables/ One Hot Encoding (OHE)\n",
    "- This converts a categorical variable into a “dummy” or “indicator” matrix. \n",
    "\n",
    "- If a column in a DataFrame has k distinct values, \n",
    "    - you would derive a matrix or DataFrame with k columns containing all 1s and 0s. \n",
    "- pandas has a get_dummies function for doing this"
   ]
  },
  {
   "cell_type": "code",
   "metadata": {
    "id": "AKdG7EEjYTB3"
   },
   "source": [
    "df = pd.DataFrame({'key': ['b', 'b', 'a', 'c', 'a', 'b'],\n",
    "                   'data1': range(6)})"
   ],
   "execution_count": 11,
   "outputs": []
  },
  {
   "cell_type": "code",
   "metadata": {
    "id": "Tc4X2Gy8YTB8"
   },
   "source": [
    "df # rendere la colonna key con il OHE"
   ],
   "execution_count": 13,
   "outputs": [
    {
     "data": {
      "text/plain": "  key  data1\n0   b      0\n1   b      1\n2   a      2\n3   c      3\n4   a      4\n5   b      5",
      "text/html": "<div>\n<style scoped>\n    .dataframe tbody tr th:only-of-type {\n        vertical-align: middle;\n    }\n\n    .dataframe tbody tr th {\n        vertical-align: top;\n    }\n\n    .dataframe thead th {\n        text-align: right;\n    }\n</style>\n<table border=\"1\" class=\"dataframe\">\n  <thead>\n    <tr style=\"text-align: right;\">\n      <th></th>\n      <th>key</th>\n      <th>data1</th>\n    </tr>\n  </thead>\n  <tbody>\n    <tr>\n      <th>0</th>\n      <td>b</td>\n      <td>0</td>\n    </tr>\n    <tr>\n      <th>1</th>\n      <td>b</td>\n      <td>1</td>\n    </tr>\n    <tr>\n      <th>2</th>\n      <td>a</td>\n      <td>2</td>\n    </tr>\n    <tr>\n      <th>3</th>\n      <td>c</td>\n      <td>3</td>\n    </tr>\n    <tr>\n      <th>4</th>\n      <td>a</td>\n      <td>4</td>\n    </tr>\n    <tr>\n      <th>5</th>\n      <td>b</td>\n      <td>5</td>\n    </tr>\n  </tbody>\n</table>\n</div>"
     },
     "execution_count": 13,
     "metadata": {},
     "output_type": "execute_result"
    }
   ]
  },
  {
   "cell_type": "code",
   "metadata": {
    "id": "l-YOQZoIYTCB"
   },
   "source": [
    "pd.get_dummies(df['key'])"
   ],
   "execution_count": 15,
   "outputs": [
    {
     "data": {
      "text/plain": "   a  b  c\n0  0  1  0\n1  0  1  0\n2  1  0  0\n3  0  0  1\n4  1  0  0\n5  0  1  0",
      "text/html": "<div>\n<style scoped>\n    .dataframe tbody tr th:only-of-type {\n        vertical-align: middle;\n    }\n\n    .dataframe tbody tr th {\n        vertical-align: top;\n    }\n\n    .dataframe thead th {\n        text-align: right;\n    }\n</style>\n<table border=\"1\" class=\"dataframe\">\n  <thead>\n    <tr style=\"text-align: right;\">\n      <th></th>\n      <th>a</th>\n      <th>b</th>\n      <th>c</th>\n    </tr>\n  </thead>\n  <tbody>\n    <tr>\n      <th>0</th>\n      <td>0</td>\n      <td>1</td>\n      <td>0</td>\n    </tr>\n    <tr>\n      <th>1</th>\n      <td>0</td>\n      <td>1</td>\n      <td>0</td>\n    </tr>\n    <tr>\n      <th>2</th>\n      <td>1</td>\n      <td>0</td>\n      <td>0</td>\n    </tr>\n    <tr>\n      <th>3</th>\n      <td>0</td>\n      <td>0</td>\n      <td>1</td>\n    </tr>\n    <tr>\n      <th>4</th>\n      <td>1</td>\n      <td>0</td>\n      <td>0</td>\n    </tr>\n    <tr>\n      <th>5</th>\n      <td>0</td>\n      <td>1</td>\n      <td>0</td>\n    </tr>\n  </tbody>\n</table>\n</div>"
     },
     "execution_count": 15,
     "metadata": {},
     "output_type": "execute_result"
    }
   ]
  },
  {
   "cell_type": "code",
   "metadata": {
    "id": "mFJVaZeaYTCK"
   },
   "source": [
    "dummies = pd.get_dummies(df['key'], prefix='key')"
   ],
   "execution_count": 17,
   "outputs": []
  },
  {
   "cell_type": "code",
   "metadata": {
    "id": "j0a2kzbUYTCO"
   },
   "source": [
    "dummies"
   ],
   "execution_count": 19,
   "outputs": [
    {
     "data": {
      "text/plain": "   key_a  key_b  key_c\n0      0      1      0\n1      0      1      0\n2      1      0      0\n3      0      0      1\n4      1      0      0\n5      0      1      0",
      "text/html": "<div>\n<style scoped>\n    .dataframe tbody tr th:only-of-type {\n        vertical-align: middle;\n    }\n\n    .dataframe tbody tr th {\n        vertical-align: top;\n    }\n\n    .dataframe thead th {\n        text-align: right;\n    }\n</style>\n<table border=\"1\" class=\"dataframe\">\n  <thead>\n    <tr style=\"text-align: right;\">\n      <th></th>\n      <th>key_a</th>\n      <th>key_b</th>\n      <th>key_c</th>\n    </tr>\n  </thead>\n  <tbody>\n    <tr>\n      <th>0</th>\n      <td>0</td>\n      <td>1</td>\n      <td>0</td>\n    </tr>\n    <tr>\n      <th>1</th>\n      <td>0</td>\n      <td>1</td>\n      <td>0</td>\n    </tr>\n    <tr>\n      <th>2</th>\n      <td>1</td>\n      <td>0</td>\n      <td>0</td>\n    </tr>\n    <tr>\n      <th>3</th>\n      <td>0</td>\n      <td>0</td>\n      <td>1</td>\n    </tr>\n    <tr>\n      <th>4</th>\n      <td>1</td>\n      <td>0</td>\n      <td>0</td>\n    </tr>\n    <tr>\n      <th>5</th>\n      <td>0</td>\n      <td>1</td>\n      <td>0</td>\n    </tr>\n  </tbody>\n</table>\n</div>"
     },
     "execution_count": 19,
     "metadata": {},
     "output_type": "execute_result"
    }
   ]
  },
  {
   "cell_type": "code",
   "metadata": {
    "id": "mX1sQ73oZKUU"
   },
   "source": [
    "df[['data1']]"
   ],
   "execution_count": null,
   "outputs": []
  },
  {
   "cell_type": "code",
   "metadata": {
    "id": "qvgYNmgaYTCU"
   },
   "source": [
    "#to join the result in the original dataframe\n",
    "df_with_dummy = df[['data1']].join(dummies)\n",
    "df_with_dummy"
   ],
   "execution_count": null,
   "outputs": []
  },
  {
   "cell_type": "markdown",
   "metadata": {
    "id": "yHrgzf2tYTCg"
   },
   "source": [
    "# Data Wrangling: Clean, Transform, Merge, Reshape"
   ]
  },
  {
   "cell_type": "code",
   "metadata": {
    "id": "TOPvVetwYTCg"
   },
   "source": [
    "import pandas as pd\n",
    "import numpy as np"
   ],
   "execution_count": 24,
   "outputs": []
  },
  {
   "cell_type": "markdown",
   "metadata": {
    "id": "b1qKGD46YTDB"
   },
   "source": [
    "- Much of the programming work in data analysis and modeling is spent on data preparation\n",
    "    - loading, cleaning, transforming, and rearranging. \n",
    "    -  the way that data is stored in files or databases is not the way you need it .\n",
    "- Fortunately, pandas along with the Python standard library provide you with a high-level, flexible, and high-performance set of core manipulations and algorithms to enable you to wrangle data into the right form without much trouble.\n"
   ]
  },
  {
   "cell_type": "markdown",
   "metadata": {
    "id": "wPLMVFqgYTDH"
   },
   "source": [
    "## Hierarchical Indexing\n",
    "\n",
    "- Hierarchical indexing  enables you to have multiple (two or more) index levels on an axis. \n"
   ]
  },
  {
   "cell_type": "code",
   "metadata": {
    "id": "_dJiMABFYTDI"
   },
   "source": [
    "data = pd.Series(np.random.randn(9),\n",
    "                 index=[['a', 'a', 'a', 'b', 'b', 'c', 'c', 'd', 'd'],\n",
    "                        [1, 2, 3, 1, 3, 1, 2, 2, 3]])\n",
    "data"
   ],
   "execution_count": 25,
   "outputs": [
    {
     "data": {
      "text/plain": "a  1   -0.656224\n   2    0.037162\n   3    0.063517\nb  1   -0.226376\n   3    0.485154\nc  1    0.807088\n   2    0.520233\nd  2   -0.776008\n   3    0.316444\ndtype: float64"
     },
     "execution_count": 25,
     "metadata": {},
     "output_type": "execute_result"
    }
   ]
  },
  {
   "cell_type": "code",
   "metadata": {
    "id": "GGyzab5FYTDO"
   },
   "source": [
    "data.index"
   ],
   "execution_count": null,
   "outputs": []
  },
  {
   "cell_type": "code",
   "metadata": {
    "id": "FXkq6iWtYTDR"
   },
   "source": [
    "#codes expresses how the indexes are combined\n",
    "codesArr = np.array([[0, 0, 0, 1, 1, 2, 2, 3, 3], [0, 1, 2, 0, 2, 0, 1, 1, 2]])"
   ],
   "execution_count": null,
   "outputs": []
  },
  {
   "cell_type": "code",
   "metadata": {
    "id": "NH1_dfjnYTDU"
   },
   "source": [
    "codesArr"
   ],
   "execution_count": null,
   "outputs": []
  },
  {
   "cell_type": "markdown",
   "metadata": {
    "id": "JScpLQ1aYTDW"
   },
   "source": [
    "- partial indexing"
   ]
  },
  {
   "cell_type": "code",
   "metadata": {
    "id": "mHQR9mtXYTDZ"
   },
   "source": [
    "data[\"a\"]"
   ],
   "execution_count": 36,
   "outputs": [
    {
     "data": {
      "text/plain": "1    0.101404\n2    0.984089\n3    1.718623\ndtype: float64"
     },
     "execution_count": 36,
     "metadata": {},
     "output_type": "execute_result"
    }
   ]
  },
  {
   "cell_type": "code",
   "metadata": {
    "id": "pkluL-P1YTDe"
   },
   "source": [
    "data[\"b\"]"
   ],
   "execution_count": null,
   "outputs": []
  },
  {
   "cell_type": "code",
   "metadata": {
    "id": "I6mDVqqOYTDg"
   },
   "source": [
    "data[\"b\":\"d\"]"
   ],
   "execution_count": null,
   "outputs": []
  },
  {
   "cell_type": "code",
   "metadata": {
    "id": "ON52WLowYTDj"
   },
   "source": [
    "data[[\"b\",\"d\"]]"
   ],
   "execution_count": null,
   "outputs": []
  },
  {
   "cell_type": "code",
   "metadata": {
    "id": "2JICYB2FYTDn"
   },
   "source": [
    "data[:,3]"
   ],
   "execution_count": null,
   "outputs": []
  },
  {
   "cell_type": "code",
   "metadata": {
    "id": "zjQbBCjSYTDo"
   },
   "source": [
    "data"
   ],
   "execution_count": null,
   "outputs": []
  },
  {
   "cell_type": "code",
   "metadata": {
    "id": "J4HFhZJRYTEH"
   },
   "source": [
    "data.unstack()"
   ],
   "execution_count": 38,
   "outputs": [
    {
     "data": {
      "text/plain": "          1         2         3\na  0.101404  0.984089  1.718623\nb  0.300710       NaN  0.656289\nc -0.268631 -0.206736       NaN\nd       NaN  0.126167  1.871580",
      "text/html": "<div>\n<style scoped>\n    .dataframe tbody tr th:only-of-type {\n        vertical-align: middle;\n    }\n\n    .dataframe tbody tr th {\n        vertical-align: top;\n    }\n\n    .dataframe thead th {\n        text-align: right;\n    }\n</style>\n<table border=\"1\" class=\"dataframe\">\n  <thead>\n    <tr style=\"text-align: right;\">\n      <th></th>\n      <th>1</th>\n      <th>2</th>\n      <th>3</th>\n    </tr>\n  </thead>\n  <tbody>\n    <tr>\n      <th>a</th>\n      <td>0.101404</td>\n      <td>0.984089</td>\n      <td>1.718623</td>\n    </tr>\n    <tr>\n      <th>b</th>\n      <td>0.300710</td>\n      <td>NaN</td>\n      <td>0.656289</td>\n    </tr>\n    <tr>\n      <th>c</th>\n      <td>-0.268631</td>\n      <td>-0.206736</td>\n      <td>NaN</td>\n    </tr>\n    <tr>\n      <th>d</th>\n      <td>NaN</td>\n      <td>0.126167</td>\n      <td>1.871580</td>\n    </tr>\n  </tbody>\n</table>\n</div>"
     },
     "execution_count": 38,
     "metadata": {},
     "output_type": "execute_result"
    }
   ]
  },
  {
   "cell_type": "code",
   "metadata": {
    "id": "NdqFh9TyYTEP"
   },
   "source": [
    "data.unstack().stack()"
   ],
   "execution_count": 39,
   "outputs": [
    {
     "data": {
      "text/plain": "a  1    0.101404\n   2    0.984089\n   3    1.718623\nb  1    0.300710\n   3    0.656289\nc  1   -0.268631\n   2   -0.206736\nd  2    0.126167\n   3    1.871580\ndtype: float64"
     },
     "execution_count": 39,
     "metadata": {},
     "output_type": "execute_result"
    }
   ]
  },
  {
   "cell_type": "markdown",
   "metadata": {
    "id": "cD-x3QtTYTER"
   },
   "source": [
    "- In DataFrame, either axis can have a hierarchical index"
   ]
  },
  {
   "cell_type": "code",
   "metadata": {
    "id": "e0oZovbkYTER"
   },
   "source": [
    "frame = pd.DataFrame(np.arange(12).reshape((4, 3)),\n",
    "                     index=[['a', 'a', 'b', 'b'], [1, 2, 1, 2]],\n",
    "                     columns=[['Ohio', 'Ohio', 'Colorado'],\n",
    "                              ['Green', 'Red', 'Green']])\n",
    "frame"
   ],
   "execution_count": 40,
   "outputs": [
    {
     "data": {
      "text/plain": "     Ohio     Colorado\n    Green Red    Green\na 1     0   1        2\n  2     3   4        5\nb 1     6   7        8\n  2     9  10       11",
      "text/html": "<div>\n<style scoped>\n    .dataframe tbody tr th:only-of-type {\n        vertical-align: middle;\n    }\n\n    .dataframe tbody tr th {\n        vertical-align: top;\n    }\n\n    .dataframe thead tr th {\n        text-align: left;\n    }\n</style>\n<table border=\"1\" class=\"dataframe\">\n  <thead>\n    <tr>\n      <th></th>\n      <th></th>\n      <th colspan=\"2\" halign=\"left\">Ohio</th>\n      <th>Colorado</th>\n    </tr>\n    <tr>\n      <th></th>\n      <th></th>\n      <th>Green</th>\n      <th>Red</th>\n      <th>Green</th>\n    </tr>\n  </thead>\n  <tbody>\n    <tr>\n      <th rowspan=\"2\" valign=\"top\">a</th>\n      <th>1</th>\n      <td>0</td>\n      <td>1</td>\n      <td>2</td>\n    </tr>\n    <tr>\n      <th>2</th>\n      <td>3</td>\n      <td>4</td>\n      <td>5</td>\n    </tr>\n    <tr>\n      <th rowspan=\"2\" valign=\"top\">b</th>\n      <th>1</th>\n      <td>6</td>\n      <td>7</td>\n      <td>8</td>\n    </tr>\n    <tr>\n      <th>2</th>\n      <td>9</td>\n      <td>10</td>\n      <td>11</td>\n    </tr>\n  </tbody>\n</table>\n</div>"
     },
     "execution_count": 40,
     "metadata": {},
     "output_type": "execute_result"
    }
   ]
  },
  {
   "cell_type": "code",
   "metadata": {
    "id": "9vl3TSbqYTEX"
   },
   "source": [
    "frame[\"Ohio\"]"
   ],
   "execution_count": 41,
   "outputs": [
    {
     "data": {
      "text/plain": "     Green  Red\na 1      0    1\n  2      3    4\nb 1      6    7\n  2      9   10",
      "text/html": "<div>\n<style scoped>\n    .dataframe tbody tr th:only-of-type {\n        vertical-align: middle;\n    }\n\n    .dataframe tbody tr th {\n        vertical-align: top;\n    }\n\n    .dataframe thead th {\n        text-align: right;\n    }\n</style>\n<table border=\"1\" class=\"dataframe\">\n  <thead>\n    <tr style=\"text-align: right;\">\n      <th></th>\n      <th></th>\n      <th>Green</th>\n      <th>Red</th>\n    </tr>\n  </thead>\n  <tbody>\n    <tr>\n      <th rowspan=\"2\" valign=\"top\">a</th>\n      <th>1</th>\n      <td>0</td>\n      <td>1</td>\n    </tr>\n    <tr>\n      <th>2</th>\n      <td>3</td>\n      <td>4</td>\n    </tr>\n    <tr>\n      <th rowspan=\"2\" valign=\"top\">b</th>\n      <th>1</th>\n      <td>6</td>\n      <td>7</td>\n    </tr>\n    <tr>\n      <th>2</th>\n      <td>9</td>\n      <td>10</td>\n    </tr>\n  </tbody>\n</table>\n</div>"
     },
     "execution_count": 41,
     "metadata": {},
     "output_type": "execute_result"
    }
   ]
  },
  {
   "cell_type": "code",
   "metadata": {
    "id": "LMQ8gjdSYTEa"
   },
   "source": [
    "frame.loc[\"a\",:]"
   ],
   "execution_count": 42,
   "outputs": [
    {
     "data": {
      "text/plain": "   Ohio     Colorado\n  Green Red    Green\n1     0   1        2\n2     3   4        5",
      "text/html": "<div>\n<style scoped>\n    .dataframe tbody tr th:only-of-type {\n        vertical-align: middle;\n    }\n\n    .dataframe tbody tr th {\n        vertical-align: top;\n    }\n\n    .dataframe thead tr th {\n        text-align: left;\n    }\n</style>\n<table border=\"1\" class=\"dataframe\">\n  <thead>\n    <tr>\n      <th></th>\n      <th colspan=\"2\" halign=\"left\">Ohio</th>\n      <th>Colorado</th>\n    </tr>\n    <tr>\n      <th></th>\n      <th>Green</th>\n      <th>Red</th>\n      <th>Green</th>\n    </tr>\n  </thead>\n  <tbody>\n    <tr>\n      <th>1</th>\n      <td>0</td>\n      <td>1</td>\n      <td>2</td>\n    </tr>\n    <tr>\n      <th>2</th>\n      <td>3</td>\n      <td>4</td>\n      <td>5</td>\n    </tr>\n  </tbody>\n</table>\n</div>"
     },
     "execution_count": 42,
     "metadata": {},
     "output_type": "execute_result"
    }
   ]
  },
  {
   "cell_type": "code",
   "metadata": {
    "id": "02y0lqZ6YTEe"
   },
   "source": [
    "frame.index.names = ['key1', 'key2']\n",
    "frame.columns.names = ['state', 'color']\n",
    "frame"
   ],
   "execution_count": 44,
   "outputs": [
    {
     "data": {
      "text/plain": "state      Ohio     Colorado\ncolor     Green Red    Green\nkey1 key2                   \na    1        0   1        2\n     2        3   4        5\nb    1        6   7        8\n     2        9  10       11",
      "text/html": "<div>\n<style scoped>\n    .dataframe tbody tr th:only-of-type {\n        vertical-align: middle;\n    }\n\n    .dataframe tbody tr th {\n        vertical-align: top;\n    }\n\n    .dataframe thead tr th {\n        text-align: left;\n    }\n\n    .dataframe thead tr:last-of-type th {\n        text-align: right;\n    }\n</style>\n<table border=\"1\" class=\"dataframe\">\n  <thead>\n    <tr>\n      <th></th>\n      <th>state</th>\n      <th colspan=\"2\" halign=\"left\">Ohio</th>\n      <th>Colorado</th>\n    </tr>\n    <tr>\n      <th></th>\n      <th>color</th>\n      <th>Green</th>\n      <th>Red</th>\n      <th>Green</th>\n    </tr>\n    <tr>\n      <th>key1</th>\n      <th>key2</th>\n      <th></th>\n      <th></th>\n      <th></th>\n    </tr>\n  </thead>\n  <tbody>\n    <tr>\n      <th rowspan=\"2\" valign=\"top\">a</th>\n      <th>1</th>\n      <td>0</td>\n      <td>1</td>\n      <td>2</td>\n    </tr>\n    <tr>\n      <th>2</th>\n      <td>3</td>\n      <td>4</td>\n      <td>5</td>\n    </tr>\n    <tr>\n      <th rowspan=\"2\" valign=\"top\">b</th>\n      <th>1</th>\n      <td>6</td>\n      <td>7</td>\n      <td>8</td>\n    </tr>\n    <tr>\n      <th>2</th>\n      <td>9</td>\n      <td>10</td>\n      <td>11</td>\n    </tr>\n  </tbody>\n</table>\n</div>"
     },
     "execution_count": 44,
     "metadata": {},
     "output_type": "execute_result"
    }
   ]
  },
  {
   "cell_type": "markdown",
   "metadata": {
    "id": "-u8BoQq5YTEg"
   },
   "source": [
    "- statistics by level"
   ]
  },
  {
   "cell_type": "code",
   "metadata": {
    "id": "lDGYcKQRYTEh"
   },
   "source": [
    "frame.groupby(level='key2').sum()"
   ],
   "execution_count": 46,
   "outputs": [
    {
     "data": {
      "text/plain": "state  Ohio     Colorado\ncolor Green Red    Green\nkey2                    \n1         6   8       10\n2        12  14       16",
      "text/html": "<div>\n<style scoped>\n    .dataframe tbody tr th:only-of-type {\n        vertical-align: middle;\n    }\n\n    .dataframe tbody tr th {\n        vertical-align: top;\n    }\n\n    .dataframe thead tr th {\n        text-align: left;\n    }\n\n    .dataframe thead tr:last-of-type th {\n        text-align: right;\n    }\n</style>\n<table border=\"1\" class=\"dataframe\">\n  <thead>\n    <tr>\n      <th>state</th>\n      <th colspan=\"2\" halign=\"left\">Ohio</th>\n      <th>Colorado</th>\n    </tr>\n    <tr>\n      <th>color</th>\n      <th>Green</th>\n      <th>Red</th>\n      <th>Green</th>\n    </tr>\n    <tr>\n      <th>key2</th>\n      <th></th>\n      <th></th>\n      <th></th>\n    </tr>\n  </thead>\n  <tbody>\n    <tr>\n      <th>1</th>\n      <td>6</td>\n      <td>8</td>\n      <td>10</td>\n    </tr>\n    <tr>\n      <th>2</th>\n      <td>12</td>\n      <td>14</td>\n      <td>16</td>\n    </tr>\n  </tbody>\n</table>\n</div>"
     },
     "execution_count": 46,
     "metadata": {},
     "output_type": "execute_result"
    }
   ]
  },
  {
   "cell_type": "code",
   "metadata": {
    "id": "d4sOpbaVYTEi"
   },
   "source": [
    "frame.groupby(level='color', axis=1).sum()"
   ],
   "execution_count": 48,
   "outputs": [
    {
     "data": {
      "text/plain": "color      Green  Red\nkey1 key2            \na    1         2    1\n     2         8    4\nb    1        14    7\n     2        20   10",
      "text/html": "<div>\n<style scoped>\n    .dataframe tbody tr th:only-of-type {\n        vertical-align: middle;\n    }\n\n    .dataframe tbody tr th {\n        vertical-align: top;\n    }\n\n    .dataframe thead th {\n        text-align: right;\n    }\n</style>\n<table border=\"1\" class=\"dataframe\">\n  <thead>\n    <tr style=\"text-align: right;\">\n      <th></th>\n      <th>color</th>\n      <th>Green</th>\n      <th>Red</th>\n    </tr>\n    <tr>\n      <th>key1</th>\n      <th>key2</th>\n      <th></th>\n      <th></th>\n    </tr>\n  </thead>\n  <tbody>\n    <tr>\n      <th rowspan=\"2\" valign=\"top\">a</th>\n      <th>1</th>\n      <td>2</td>\n      <td>1</td>\n    </tr>\n    <tr>\n      <th>2</th>\n      <td>8</td>\n      <td>4</td>\n    </tr>\n    <tr>\n      <th rowspan=\"2\" valign=\"top\">b</th>\n      <th>1</th>\n      <td>14</td>\n      <td>7</td>\n    </tr>\n    <tr>\n      <th>2</th>\n      <td>20</td>\n      <td>10</td>\n    </tr>\n  </tbody>\n</table>\n</div>"
     },
     "execution_count": 48,
     "metadata": {},
     "output_type": "execute_result"
    }
   ]
  },
  {
   "cell_type": "markdown",
   "metadata": {
    "id": "TtLILBGqYTEy"
   },
   "source": [
    "## Database-style DataFrame Merges"
   ]
  },
  {
   "cell_type": "markdown",
   "metadata": {
    "id": "3-KTsb_rYTEz"
   },
   "source": [
    "- pandas.merge connects rows in DataFrames based on one or more keys. \n",
    "- pandas.concat glues or stacks together objects along an axis.\n",
    "- combine_first instance method enables splicing together overlapping data to fill in missing values in one object with values from another."
   ]
  },
  {
   "cell_type": "markdown",
   "metadata": {
    "id": "ilrbS91yYTE1"
   },
   "source": [
    "- Merge or join operations combine datasets by linking rows using one or more keys.\n",
    "    - These operations are central to relational databases (e.g., SQL-based)."
   ]
  },
  {
   "cell_type": "code",
   "metadata": {
    "id": "Z0IcaSUrYTE_"
   },
   "source": [
    "df1 = pd.DataFrame({'key': ['b', 'b', 'a', 'c', 'a', 'a', 'b'],\n",
    "                    'data1': range(7)})\n",
    "df2 = pd.DataFrame({'key': ['a', 'b', 'd'],\n",
    "                    'data2': range(3)})\n"
   ],
   "execution_count": 49,
   "outputs": []
  },
  {
   "cell_type": "code",
   "metadata": {
    "id": "_R_RPdImYTFJ"
   },
   "source": [
    "df1"
   ],
   "execution_count": 50,
   "outputs": [
    {
     "data": {
      "text/plain": "  key  data1\n0   b      0\n1   b      1\n2   a      2\n3   c      3\n4   a      4\n5   a      5\n6   b      6",
      "text/html": "<div>\n<style scoped>\n    .dataframe tbody tr th:only-of-type {\n        vertical-align: middle;\n    }\n\n    .dataframe tbody tr th {\n        vertical-align: top;\n    }\n\n    .dataframe thead th {\n        text-align: right;\n    }\n</style>\n<table border=\"1\" class=\"dataframe\">\n  <thead>\n    <tr style=\"text-align: right;\">\n      <th></th>\n      <th>key</th>\n      <th>data1</th>\n    </tr>\n  </thead>\n  <tbody>\n    <tr>\n      <th>0</th>\n      <td>b</td>\n      <td>0</td>\n    </tr>\n    <tr>\n      <th>1</th>\n      <td>b</td>\n      <td>1</td>\n    </tr>\n    <tr>\n      <th>2</th>\n      <td>a</td>\n      <td>2</td>\n    </tr>\n    <tr>\n      <th>3</th>\n      <td>c</td>\n      <td>3</td>\n    </tr>\n    <tr>\n      <th>4</th>\n      <td>a</td>\n      <td>4</td>\n    </tr>\n    <tr>\n      <th>5</th>\n      <td>a</td>\n      <td>5</td>\n    </tr>\n    <tr>\n      <th>6</th>\n      <td>b</td>\n      <td>6</td>\n    </tr>\n  </tbody>\n</table>\n</div>"
     },
     "execution_count": 50,
     "metadata": {},
     "output_type": "execute_result"
    }
   ]
  },
  {
   "cell_type": "code",
   "metadata": {
    "id": "nf0qdVEDYTFQ"
   },
   "source": [
    "df2"
   ],
   "execution_count": 51,
   "outputs": [
    {
     "data": {
      "text/plain": "  key  data2\n0   a      0\n1   b      1\n2   d      2",
      "text/html": "<div>\n<style scoped>\n    .dataframe tbody tr th:only-of-type {\n        vertical-align: middle;\n    }\n\n    .dataframe tbody tr th {\n        vertical-align: top;\n    }\n\n    .dataframe thead th {\n        text-align: right;\n    }\n</style>\n<table border=\"1\" class=\"dataframe\">\n  <thead>\n    <tr style=\"text-align: right;\">\n      <th></th>\n      <th>key</th>\n      <th>data2</th>\n    </tr>\n  </thead>\n  <tbody>\n    <tr>\n      <th>0</th>\n      <td>a</td>\n      <td>0</td>\n    </tr>\n    <tr>\n      <th>1</th>\n      <td>b</td>\n      <td>1</td>\n    </tr>\n    <tr>\n      <th>2</th>\n      <td>d</td>\n      <td>2</td>\n    </tr>\n  </tbody>\n</table>\n</div>"
     },
     "execution_count": 51,
     "metadata": {},
     "output_type": "execute_result"
    }
   ]
  },
  {
   "cell_type": "code",
   "metadata": {
    "id": "J_h-ktApYTFS"
   },
   "source": [
    "pd.merge(df1, df2) # natural join"
   ],
   "execution_count": 52,
   "outputs": [
    {
     "data": {
      "text/plain": "  key  data1  data2\n0   b      0      1\n1   b      1      1\n2   b      6      1\n3   a      2      0\n4   a      4      0\n5   a      5      0",
      "text/html": "<div>\n<style scoped>\n    .dataframe tbody tr th:only-of-type {\n        vertical-align: middle;\n    }\n\n    .dataframe tbody tr th {\n        vertical-align: top;\n    }\n\n    .dataframe thead th {\n        text-align: right;\n    }\n</style>\n<table border=\"1\" class=\"dataframe\">\n  <thead>\n    <tr style=\"text-align: right;\">\n      <th></th>\n      <th>key</th>\n      <th>data1</th>\n      <th>data2</th>\n    </tr>\n  </thead>\n  <tbody>\n    <tr>\n      <th>0</th>\n      <td>b</td>\n      <td>0</td>\n      <td>1</td>\n    </tr>\n    <tr>\n      <th>1</th>\n      <td>b</td>\n      <td>1</td>\n      <td>1</td>\n    </tr>\n    <tr>\n      <th>2</th>\n      <td>b</td>\n      <td>6</td>\n      <td>1</td>\n    </tr>\n    <tr>\n      <th>3</th>\n      <td>a</td>\n      <td>2</td>\n      <td>0</td>\n    </tr>\n    <tr>\n      <th>4</th>\n      <td>a</td>\n      <td>4</td>\n      <td>0</td>\n    </tr>\n    <tr>\n      <th>5</th>\n      <td>a</td>\n      <td>5</td>\n      <td>0</td>\n    </tr>\n  </tbody>\n</table>\n</div>"
     },
     "execution_count": 52,
     "metadata": {},
     "output_type": "execute_result"
    }
   ]
  },
  {
   "cell_type": "code",
   "metadata": {
    "id": "BJ7FWTfWYTFa"
   },
   "source": [
    "pd.merge(df1, df2, on='key') # join using the attribute specified in the \"on\" parameter -> colonna particolare"
   ],
   "execution_count": 53,
   "outputs": [
    {
     "data": {
      "text/plain": "  key  data1  data2\n0   b      0      1\n1   b      1      1\n2   b      6      1\n3   a      2      0\n4   a      4      0\n5   a      5      0",
      "text/html": "<div>\n<style scoped>\n    .dataframe tbody tr th:only-of-type {\n        vertical-align: middle;\n    }\n\n    .dataframe tbody tr th {\n        vertical-align: top;\n    }\n\n    .dataframe thead th {\n        text-align: right;\n    }\n</style>\n<table border=\"1\" class=\"dataframe\">\n  <thead>\n    <tr style=\"text-align: right;\">\n      <th></th>\n      <th>key</th>\n      <th>data1</th>\n      <th>data2</th>\n    </tr>\n  </thead>\n  <tbody>\n    <tr>\n      <th>0</th>\n      <td>b</td>\n      <td>0</td>\n      <td>1</td>\n    </tr>\n    <tr>\n      <th>1</th>\n      <td>b</td>\n      <td>1</td>\n      <td>1</td>\n    </tr>\n    <tr>\n      <th>2</th>\n      <td>b</td>\n      <td>6</td>\n      <td>1</td>\n    </tr>\n    <tr>\n      <th>3</th>\n      <td>a</td>\n      <td>2</td>\n      <td>0</td>\n    </tr>\n    <tr>\n      <th>4</th>\n      <td>a</td>\n      <td>4</td>\n      <td>0</td>\n    </tr>\n    <tr>\n      <th>5</th>\n      <td>a</td>\n      <td>5</td>\n      <td>0</td>\n    </tr>\n  </tbody>\n</table>\n</div>"
     },
     "execution_count": 53,
     "metadata": {},
     "output_type": "execute_result"
    }
   ]
  },
  {
   "cell_type": "code",
   "metadata": {
    "id": "Ey_kGZopYTFi"
   },
   "source": [
    "df3 = pd.DataFrame({'lkey': ['b', 'b', 'a', 'c', 'a', 'a', 'b'],\n",
    "                    'data1': range(7)})\n",
    "df4 = pd.DataFrame({'rkey': ['a', 'b', 'd'],\n",
    "                    'data2': range(3)})"
   ],
   "execution_count": 54,
   "outputs": []
  },
  {
   "cell_type": "code",
   "metadata": {
    "id": "BBfGwKSZYTFq"
   },
   "source": [
    "df3"
   ],
   "execution_count": 55,
   "outputs": [
    {
     "data": {
      "text/plain": "  lkey  data1\n0    b      0\n1    b      1\n2    a      2\n3    c      3\n4    a      4\n5    a      5\n6    b      6",
      "text/html": "<div>\n<style scoped>\n    .dataframe tbody tr th:only-of-type {\n        vertical-align: middle;\n    }\n\n    .dataframe tbody tr th {\n        vertical-align: top;\n    }\n\n    .dataframe thead th {\n        text-align: right;\n    }\n</style>\n<table border=\"1\" class=\"dataframe\">\n  <thead>\n    <tr style=\"text-align: right;\">\n      <th></th>\n      <th>lkey</th>\n      <th>data1</th>\n    </tr>\n  </thead>\n  <tbody>\n    <tr>\n      <th>0</th>\n      <td>b</td>\n      <td>0</td>\n    </tr>\n    <tr>\n      <th>1</th>\n      <td>b</td>\n      <td>1</td>\n    </tr>\n    <tr>\n      <th>2</th>\n      <td>a</td>\n      <td>2</td>\n    </tr>\n    <tr>\n      <th>3</th>\n      <td>c</td>\n      <td>3</td>\n    </tr>\n    <tr>\n      <th>4</th>\n      <td>a</td>\n      <td>4</td>\n    </tr>\n    <tr>\n      <th>5</th>\n      <td>a</td>\n      <td>5</td>\n    </tr>\n    <tr>\n      <th>6</th>\n      <td>b</td>\n      <td>6</td>\n    </tr>\n  </tbody>\n</table>\n</div>"
     },
     "execution_count": 55,
     "metadata": {},
     "output_type": "execute_result"
    }
   ]
  },
  {
   "cell_type": "code",
   "metadata": {
    "id": "52uXbXypYTFt"
   },
   "source": [
    "df4"
   ],
   "execution_count": 56,
   "outputs": [
    {
     "data": {
      "text/plain": "  rkey  data2\n0    a      0\n1    b      1\n2    d      2",
      "text/html": "<div>\n<style scoped>\n    .dataframe tbody tr th:only-of-type {\n        vertical-align: middle;\n    }\n\n    .dataframe tbody tr th {\n        vertical-align: top;\n    }\n\n    .dataframe thead th {\n        text-align: right;\n    }\n</style>\n<table border=\"1\" class=\"dataframe\">\n  <thead>\n    <tr style=\"text-align: right;\">\n      <th></th>\n      <th>rkey</th>\n      <th>data2</th>\n    </tr>\n  </thead>\n  <tbody>\n    <tr>\n      <th>0</th>\n      <td>a</td>\n      <td>0</td>\n    </tr>\n    <tr>\n      <th>1</th>\n      <td>b</td>\n      <td>1</td>\n    </tr>\n    <tr>\n      <th>2</th>\n      <td>d</td>\n      <td>2</td>\n    </tr>\n  </tbody>\n</table>\n</div>"
     },
     "execution_count": 56,
     "metadata": {},
     "output_type": "execute_result"
    }
   ]
  },
  {
   "cell_type": "code",
   "metadata": {
    "id": "w6tsAkotakqn"
   },
   "source": [
    "pd.merge(df3,df4)"
   ],
   "execution_count": 57,
   "outputs": [
    {
     "ename": "MergeError",
     "evalue": "No common columns to perform merge on. Merge options: left_on=None, right_on=None, left_index=False, right_index=False",
     "output_type": "error",
     "traceback": [
      "\u001B[0;31m---------------------------------------------------------------------------\u001B[0m",
      "\u001B[0;31mMergeError\u001B[0m                                Traceback (most recent call last)",
      "Cell \u001B[0;32mIn[57], line 1\u001B[0m\n\u001B[0;32m----> 1\u001B[0m \u001B[43mpd\u001B[49m\u001B[38;5;241;43m.\u001B[39;49m\u001B[43mmerge\u001B[49m\u001B[43m(\u001B[49m\u001B[43mdf3\u001B[49m\u001B[43m,\u001B[49m\u001B[43mdf4\u001B[49m\u001B[43m)\u001B[49m\n",
      "File \u001B[0;32m~/PycharmProjects/pythonProject/venv/lib/python3.9/site-packages/pandas/core/reshape/merge.py:110\u001B[0m, in \u001B[0;36mmerge\u001B[0;34m(left, right, how, on, left_on, right_on, left_index, right_index, sort, suffixes, copy, indicator, validate)\u001B[0m\n\u001B[1;32m     93\u001B[0m \u001B[38;5;129m@Substitution\u001B[39m(\u001B[38;5;124m\"\u001B[39m\u001B[38;5;130;01m\\n\u001B[39;00m\u001B[38;5;124mleft : DataFrame or named Series\u001B[39m\u001B[38;5;124m\"\u001B[39m)\n\u001B[1;32m     94\u001B[0m \u001B[38;5;129m@Appender\u001B[39m(_merge_doc, indents\u001B[38;5;241m=\u001B[39m\u001B[38;5;241m0\u001B[39m)\n\u001B[1;32m     95\u001B[0m \u001B[38;5;28;01mdef\u001B[39;00m \u001B[38;5;21mmerge\u001B[39m(\n\u001B[0;32m   (...)\u001B[0m\n\u001B[1;32m    108\u001B[0m     validate: \u001B[38;5;28mstr\u001B[39m \u001B[38;5;241m|\u001B[39m \u001B[38;5;28;01mNone\u001B[39;00m \u001B[38;5;241m=\u001B[39m \u001B[38;5;28;01mNone\u001B[39;00m,\n\u001B[1;32m    109\u001B[0m ) \u001B[38;5;241m-\u001B[39m\u001B[38;5;241m>\u001B[39m DataFrame:\n\u001B[0;32m--> 110\u001B[0m     op \u001B[38;5;241m=\u001B[39m \u001B[43m_MergeOperation\u001B[49m\u001B[43m(\u001B[49m\n\u001B[1;32m    111\u001B[0m \u001B[43m        \u001B[49m\u001B[43mleft\u001B[49m\u001B[43m,\u001B[49m\n\u001B[1;32m    112\u001B[0m \u001B[43m        \u001B[49m\u001B[43mright\u001B[49m\u001B[43m,\u001B[49m\n\u001B[1;32m    113\u001B[0m \u001B[43m        \u001B[49m\u001B[43mhow\u001B[49m\u001B[38;5;241;43m=\u001B[39;49m\u001B[43mhow\u001B[49m\u001B[43m,\u001B[49m\n\u001B[1;32m    114\u001B[0m \u001B[43m        \u001B[49m\u001B[43mon\u001B[49m\u001B[38;5;241;43m=\u001B[39;49m\u001B[43mon\u001B[49m\u001B[43m,\u001B[49m\n\u001B[1;32m    115\u001B[0m \u001B[43m        \u001B[49m\u001B[43mleft_on\u001B[49m\u001B[38;5;241;43m=\u001B[39;49m\u001B[43mleft_on\u001B[49m\u001B[43m,\u001B[49m\n\u001B[1;32m    116\u001B[0m \u001B[43m        \u001B[49m\u001B[43mright_on\u001B[49m\u001B[38;5;241;43m=\u001B[39;49m\u001B[43mright_on\u001B[49m\u001B[43m,\u001B[49m\n\u001B[1;32m    117\u001B[0m \u001B[43m        \u001B[49m\u001B[43mleft_index\u001B[49m\u001B[38;5;241;43m=\u001B[39;49m\u001B[43mleft_index\u001B[49m\u001B[43m,\u001B[49m\n\u001B[1;32m    118\u001B[0m \u001B[43m        \u001B[49m\u001B[43mright_index\u001B[49m\u001B[38;5;241;43m=\u001B[39;49m\u001B[43mright_index\u001B[49m\u001B[43m,\u001B[49m\n\u001B[1;32m    119\u001B[0m \u001B[43m        \u001B[49m\u001B[43msort\u001B[49m\u001B[38;5;241;43m=\u001B[39;49m\u001B[43msort\u001B[49m\u001B[43m,\u001B[49m\n\u001B[1;32m    120\u001B[0m \u001B[43m        \u001B[49m\u001B[43msuffixes\u001B[49m\u001B[38;5;241;43m=\u001B[39;49m\u001B[43msuffixes\u001B[49m\u001B[43m,\u001B[49m\n\u001B[1;32m    121\u001B[0m \u001B[43m        \u001B[49m\u001B[43mindicator\u001B[49m\u001B[38;5;241;43m=\u001B[39;49m\u001B[43mindicator\u001B[49m\u001B[43m,\u001B[49m\n\u001B[1;32m    122\u001B[0m \u001B[43m        \u001B[49m\u001B[43mvalidate\u001B[49m\u001B[38;5;241;43m=\u001B[39;49m\u001B[43mvalidate\u001B[49m\u001B[43m,\u001B[49m\n\u001B[1;32m    123\u001B[0m \u001B[43m    \u001B[49m\u001B[43m)\u001B[49m\n\u001B[1;32m    124\u001B[0m     \u001B[38;5;28;01mreturn\u001B[39;00m op\u001B[38;5;241m.\u001B[39mget_result(copy\u001B[38;5;241m=\u001B[39mcopy)\n",
      "File \u001B[0;32m~/PycharmProjects/pythonProject/venv/lib/python3.9/site-packages/pandas/core/reshape/merge.py:685\u001B[0m, in \u001B[0;36m_MergeOperation.__init__\u001B[0;34m(self, left, right, how, on, left_on, right_on, axis, left_index, right_index, sort, suffixes, indicator, validate)\u001B[0m\n\u001B[1;32m    681\u001B[0m     \u001B[38;5;66;03m# stacklevel chosen to be correct when this is reached via pd.merge\u001B[39;00m\n\u001B[1;32m    682\u001B[0m     \u001B[38;5;66;03m# (and not DataFrame.join)\u001B[39;00m\n\u001B[1;32m    683\u001B[0m     warnings\u001B[38;5;241m.\u001B[39mwarn(msg, \u001B[38;5;167;01mFutureWarning\u001B[39;00m, stacklevel\u001B[38;5;241m=\u001B[39mfind_stack_level())\n\u001B[0;32m--> 685\u001B[0m \u001B[38;5;28mself\u001B[39m\u001B[38;5;241m.\u001B[39mleft_on, \u001B[38;5;28mself\u001B[39m\u001B[38;5;241m.\u001B[39mright_on \u001B[38;5;241m=\u001B[39m \u001B[38;5;28;43mself\u001B[39;49m\u001B[38;5;241;43m.\u001B[39;49m\u001B[43m_validate_left_right_on\u001B[49m\u001B[43m(\u001B[49m\u001B[43mleft_on\u001B[49m\u001B[43m,\u001B[49m\u001B[43m \u001B[49m\u001B[43mright_on\u001B[49m\u001B[43m)\u001B[49m\n\u001B[1;32m    687\u001B[0m cross_col \u001B[38;5;241m=\u001B[39m \u001B[38;5;28;01mNone\u001B[39;00m\n\u001B[1;32m    688\u001B[0m \u001B[38;5;28;01mif\u001B[39;00m \u001B[38;5;28mself\u001B[39m\u001B[38;5;241m.\u001B[39mhow \u001B[38;5;241m==\u001B[39m \u001B[38;5;124m\"\u001B[39m\u001B[38;5;124mcross\u001B[39m\u001B[38;5;124m\"\u001B[39m:\n",
      "File \u001B[0;32m~/PycharmProjects/pythonProject/venv/lib/python3.9/site-packages/pandas/core/reshape/merge.py:1434\u001B[0m, in \u001B[0;36m_MergeOperation._validate_left_right_on\u001B[0;34m(self, left_on, right_on)\u001B[0m\n\u001B[1;32m   1432\u001B[0m common_cols \u001B[38;5;241m=\u001B[39m left_cols\u001B[38;5;241m.\u001B[39mintersection(right_cols)\n\u001B[1;32m   1433\u001B[0m \u001B[38;5;28;01mif\u001B[39;00m \u001B[38;5;28mlen\u001B[39m(common_cols) \u001B[38;5;241m==\u001B[39m \u001B[38;5;241m0\u001B[39m:\n\u001B[0;32m-> 1434\u001B[0m     \u001B[38;5;28;01mraise\u001B[39;00m MergeError(\n\u001B[1;32m   1435\u001B[0m         \u001B[38;5;124m\"\u001B[39m\u001B[38;5;124mNo common columns to perform merge on. \u001B[39m\u001B[38;5;124m\"\u001B[39m\n\u001B[1;32m   1436\u001B[0m         \u001B[38;5;124mf\u001B[39m\u001B[38;5;124m\"\u001B[39m\u001B[38;5;124mMerge options: left_on=\u001B[39m\u001B[38;5;132;01m{\u001B[39;00mleft_on\u001B[38;5;132;01m}\u001B[39;00m\u001B[38;5;124m, \u001B[39m\u001B[38;5;124m\"\u001B[39m\n\u001B[1;32m   1437\u001B[0m         \u001B[38;5;124mf\u001B[39m\u001B[38;5;124m\"\u001B[39m\u001B[38;5;124mright_on=\u001B[39m\u001B[38;5;132;01m{\u001B[39;00mright_on\u001B[38;5;132;01m}\u001B[39;00m\u001B[38;5;124m, \u001B[39m\u001B[38;5;124m\"\u001B[39m\n\u001B[1;32m   1438\u001B[0m         \u001B[38;5;124mf\u001B[39m\u001B[38;5;124m\"\u001B[39m\u001B[38;5;124mleft_index=\u001B[39m\u001B[38;5;132;01m{\u001B[39;00m\u001B[38;5;28mself\u001B[39m\u001B[38;5;241m.\u001B[39mleft_index\u001B[38;5;132;01m}\u001B[39;00m\u001B[38;5;124m, \u001B[39m\u001B[38;5;124m\"\u001B[39m\n\u001B[1;32m   1439\u001B[0m         \u001B[38;5;124mf\u001B[39m\u001B[38;5;124m\"\u001B[39m\u001B[38;5;124mright_index=\u001B[39m\u001B[38;5;132;01m{\u001B[39;00m\u001B[38;5;28mself\u001B[39m\u001B[38;5;241m.\u001B[39mright_index\u001B[38;5;132;01m}\u001B[39;00m\u001B[38;5;124m\"\u001B[39m\n\u001B[1;32m   1440\u001B[0m     )\n\u001B[1;32m   1441\u001B[0m \u001B[38;5;28;01mif\u001B[39;00m (\n\u001B[1;32m   1442\u001B[0m     \u001B[38;5;129;01mnot\u001B[39;00m left_cols\u001B[38;5;241m.\u001B[39mjoin(common_cols, how\u001B[38;5;241m=\u001B[39m\u001B[38;5;124m\"\u001B[39m\u001B[38;5;124minner\u001B[39m\u001B[38;5;124m\"\u001B[39m)\u001B[38;5;241m.\u001B[39mis_unique\n\u001B[1;32m   1443\u001B[0m     \u001B[38;5;129;01mor\u001B[39;00m \u001B[38;5;129;01mnot\u001B[39;00m right_cols\u001B[38;5;241m.\u001B[39mjoin(common_cols, how\u001B[38;5;241m=\u001B[39m\u001B[38;5;124m\"\u001B[39m\u001B[38;5;124minner\u001B[39m\u001B[38;5;124m\"\u001B[39m)\u001B[38;5;241m.\u001B[39mis_unique\n\u001B[1;32m   1444\u001B[0m ):\n\u001B[1;32m   1445\u001B[0m     \u001B[38;5;28;01mraise\u001B[39;00m MergeError(\u001B[38;5;124mf\u001B[39m\u001B[38;5;124m\"\u001B[39m\u001B[38;5;124mData columns not unique: \u001B[39m\u001B[38;5;132;01m{\u001B[39;00m\u001B[38;5;28mrepr\u001B[39m(common_cols)\u001B[38;5;132;01m}\u001B[39;00m\u001B[38;5;124m\"\u001B[39m)\n",
      "\u001B[0;31mMergeError\u001B[0m: No common columns to perform merge on. Merge options: left_on=None, right_on=None, left_index=False, right_index=False"
     ]
    }
   ]
  },
  {
   "cell_type": "code",
   "metadata": {
    "id": "x-mBMlDwYTFv"
   },
   "source": [
    "#we can specify the join attributes on the left and right tables\n",
    "pd.merge(df3, df4, left_on='lkey', right_on='rkey')"
   ],
   "execution_count": 58,
   "outputs": [
    {
     "data": {
      "text/plain": "  lkey  data1 rkey  data2\n0    b      0    b      1\n1    b      1    b      1\n2    b      6    b      1\n3    a      2    a      0\n4    a      4    a      0\n5    a      5    a      0",
      "text/html": "<div>\n<style scoped>\n    .dataframe tbody tr th:only-of-type {\n        vertical-align: middle;\n    }\n\n    .dataframe tbody tr th {\n        vertical-align: top;\n    }\n\n    .dataframe thead th {\n        text-align: right;\n    }\n</style>\n<table border=\"1\" class=\"dataframe\">\n  <thead>\n    <tr style=\"text-align: right;\">\n      <th></th>\n      <th>lkey</th>\n      <th>data1</th>\n      <th>rkey</th>\n      <th>data2</th>\n    </tr>\n  </thead>\n  <tbody>\n    <tr>\n      <th>0</th>\n      <td>b</td>\n      <td>0</td>\n      <td>b</td>\n      <td>1</td>\n    </tr>\n    <tr>\n      <th>1</th>\n      <td>b</td>\n      <td>1</td>\n      <td>b</td>\n      <td>1</td>\n    </tr>\n    <tr>\n      <th>2</th>\n      <td>b</td>\n      <td>6</td>\n      <td>b</td>\n      <td>1</td>\n    </tr>\n    <tr>\n      <th>3</th>\n      <td>a</td>\n      <td>2</td>\n      <td>a</td>\n      <td>0</td>\n    </tr>\n    <tr>\n      <th>4</th>\n      <td>a</td>\n      <td>4</td>\n      <td>a</td>\n      <td>0</td>\n    </tr>\n    <tr>\n      <th>5</th>\n      <td>a</td>\n      <td>5</td>\n      <td>a</td>\n      <td>0</td>\n    </tr>\n  </tbody>\n</table>\n</div>"
     },
     "execution_count": 58,
     "metadata": {},
     "output_type": "execute_result"
    }
   ]
  },
  {
   "cell_type": "code",
   "metadata": {
    "id": "49fLXT3XYTFz"
   },
   "source": [
    "pd.merge(df3, df4, left_on='lkey', right_on='rkey', how='left')"
   ],
   "execution_count": 59,
   "outputs": [
    {
     "data": {
      "text/plain": "  lkey  data1 rkey  data2\n0    b      0    b    1.0\n1    b      1    b    1.0\n2    a      2    a    0.0\n3    c      3  NaN    NaN\n4    a      4    a    0.0\n5    a      5    a    0.0\n6    b      6    b    1.0",
      "text/html": "<div>\n<style scoped>\n    .dataframe tbody tr th:only-of-type {\n        vertical-align: middle;\n    }\n\n    .dataframe tbody tr th {\n        vertical-align: top;\n    }\n\n    .dataframe thead th {\n        text-align: right;\n    }\n</style>\n<table border=\"1\" class=\"dataframe\">\n  <thead>\n    <tr style=\"text-align: right;\">\n      <th></th>\n      <th>lkey</th>\n      <th>data1</th>\n      <th>rkey</th>\n      <th>data2</th>\n    </tr>\n  </thead>\n  <tbody>\n    <tr>\n      <th>0</th>\n      <td>b</td>\n      <td>0</td>\n      <td>b</td>\n      <td>1.0</td>\n    </tr>\n    <tr>\n      <th>1</th>\n      <td>b</td>\n      <td>1</td>\n      <td>b</td>\n      <td>1.0</td>\n    </tr>\n    <tr>\n      <th>2</th>\n      <td>a</td>\n      <td>2</td>\n      <td>a</td>\n      <td>0.0</td>\n    </tr>\n    <tr>\n      <th>3</th>\n      <td>c</td>\n      <td>3</td>\n      <td>NaN</td>\n      <td>NaN</td>\n    </tr>\n    <tr>\n      <th>4</th>\n      <td>a</td>\n      <td>4</td>\n      <td>a</td>\n      <td>0.0</td>\n    </tr>\n    <tr>\n      <th>5</th>\n      <td>a</td>\n      <td>5</td>\n      <td>a</td>\n      <td>0.0</td>\n    </tr>\n    <tr>\n      <th>6</th>\n      <td>b</td>\n      <td>6</td>\n      <td>b</td>\n      <td>1.0</td>\n    </tr>\n  </tbody>\n</table>\n</div>"
     },
     "execution_count": 59,
     "metadata": {},
     "output_type": "execute_result"
    }
   ]
  },
  {
   "cell_type": "code",
   "metadata": {
    "id": "BIGSM--BYTF4"
   },
   "source": [
    "pd.merge(df3, df4, left_on='lkey', right_on='rkey', how='right')"
   ],
   "execution_count": 60,
   "outputs": [
    {
     "data": {
      "text/plain": "  lkey  data1 rkey  data2\n0    a    2.0    a      0\n1    a    4.0    a      0\n2    a    5.0    a      0\n3    b    0.0    b      1\n4    b    1.0    b      1\n5    b    6.0    b      1\n6  NaN    NaN    d      2",
      "text/html": "<div>\n<style scoped>\n    .dataframe tbody tr th:only-of-type {\n        vertical-align: middle;\n    }\n\n    .dataframe tbody tr th {\n        vertical-align: top;\n    }\n\n    .dataframe thead th {\n        text-align: right;\n    }\n</style>\n<table border=\"1\" class=\"dataframe\">\n  <thead>\n    <tr style=\"text-align: right;\">\n      <th></th>\n      <th>lkey</th>\n      <th>data1</th>\n      <th>rkey</th>\n      <th>data2</th>\n    </tr>\n  </thead>\n  <tbody>\n    <tr>\n      <th>0</th>\n      <td>a</td>\n      <td>2.0</td>\n      <td>a</td>\n      <td>0</td>\n    </tr>\n    <tr>\n      <th>1</th>\n      <td>a</td>\n      <td>4.0</td>\n      <td>a</td>\n      <td>0</td>\n    </tr>\n    <tr>\n      <th>2</th>\n      <td>a</td>\n      <td>5.0</td>\n      <td>a</td>\n      <td>0</td>\n    </tr>\n    <tr>\n      <th>3</th>\n      <td>b</td>\n      <td>0.0</td>\n      <td>b</td>\n      <td>1</td>\n    </tr>\n    <tr>\n      <th>4</th>\n      <td>b</td>\n      <td>1.0</td>\n      <td>b</td>\n      <td>1</td>\n    </tr>\n    <tr>\n      <th>5</th>\n      <td>b</td>\n      <td>6.0</td>\n      <td>b</td>\n      <td>1</td>\n    </tr>\n    <tr>\n      <th>6</th>\n      <td>NaN</td>\n      <td>NaN</td>\n      <td>d</td>\n      <td>2</td>\n    </tr>\n  </tbody>\n</table>\n</div>"
     },
     "execution_count": 60,
     "metadata": {},
     "output_type": "execute_result"
    }
   ]
  },
  {
   "cell_type": "code",
   "metadata": {
    "id": "dY1KswCtYTF7"
   },
   "source": [
    "pd.merge(df3, df4, left_on='lkey', right_on='rkey', how='outer')"
   ],
   "execution_count": null,
   "outputs": []
  },
  {
   "cell_type": "code",
   "metadata": {
    "id": "55MDNHBOYTGH"
   },
   "source": [
    "left = pd.DataFrame({'key1': ['foo', 'foo', 'bar'],\n",
    "                     'key2': ['one', 'two', 'one'],\n",
    "                     'lval': [1, 2, 3]})\n",
    "right = pd.DataFrame({'key1': ['foo', 'foo', 'bar', 'bar'],\n",
    "                      'key2': ['one', 'one', 'one', 'two'],\n",
    "                      'rval': [4, 5, 6, 7]})\n"
   ],
   "execution_count": 61,
   "outputs": []
  },
  {
   "cell_type": "code",
   "metadata": {
    "id": "ZENtjhivYTGM"
   },
   "source": [
    "left"
   ],
   "execution_count": 62,
   "outputs": [
    {
     "data": {
      "text/plain": "  key1 key2  lval\n0  foo  one     1\n1  foo  two     2\n2  bar  one     3",
      "text/html": "<div>\n<style scoped>\n    .dataframe tbody tr th:only-of-type {\n        vertical-align: middle;\n    }\n\n    .dataframe tbody tr th {\n        vertical-align: top;\n    }\n\n    .dataframe thead th {\n        text-align: right;\n    }\n</style>\n<table border=\"1\" class=\"dataframe\">\n  <thead>\n    <tr style=\"text-align: right;\">\n      <th></th>\n      <th>key1</th>\n      <th>key2</th>\n      <th>lval</th>\n    </tr>\n  </thead>\n  <tbody>\n    <tr>\n      <th>0</th>\n      <td>foo</td>\n      <td>one</td>\n      <td>1</td>\n    </tr>\n    <tr>\n      <th>1</th>\n      <td>foo</td>\n      <td>two</td>\n      <td>2</td>\n    </tr>\n    <tr>\n      <th>2</th>\n      <td>bar</td>\n      <td>one</td>\n      <td>3</td>\n    </tr>\n  </tbody>\n</table>\n</div>"
     },
     "execution_count": 62,
     "metadata": {},
     "output_type": "execute_result"
    }
   ]
  },
  {
   "cell_type": "code",
   "metadata": {
    "id": "mS1BUzxWYTGR"
   },
   "source": [
    "right"
   ],
   "execution_count": 63,
   "outputs": [
    {
     "data": {
      "text/plain": "  key1 key2  rval\n0  foo  one     4\n1  foo  one     5\n2  bar  one     6\n3  bar  two     7",
      "text/html": "<div>\n<style scoped>\n    .dataframe tbody tr th:only-of-type {\n        vertical-align: middle;\n    }\n\n    .dataframe tbody tr th {\n        vertical-align: top;\n    }\n\n    .dataframe thead th {\n        text-align: right;\n    }\n</style>\n<table border=\"1\" class=\"dataframe\">\n  <thead>\n    <tr style=\"text-align: right;\">\n      <th></th>\n      <th>key1</th>\n      <th>key2</th>\n      <th>rval</th>\n    </tr>\n  </thead>\n  <tbody>\n    <tr>\n      <th>0</th>\n      <td>foo</td>\n      <td>one</td>\n      <td>4</td>\n    </tr>\n    <tr>\n      <th>1</th>\n      <td>foo</td>\n      <td>one</td>\n      <td>5</td>\n    </tr>\n    <tr>\n      <th>2</th>\n      <td>bar</td>\n      <td>one</td>\n      <td>6</td>\n    </tr>\n    <tr>\n      <th>3</th>\n      <td>bar</td>\n      <td>two</td>\n      <td>7</td>\n    </tr>\n  </tbody>\n</table>\n</div>"
     },
     "execution_count": 63,
     "metadata": {},
     "output_type": "execute_result"
    }
   ]
  },
  {
   "cell_type": "code",
   "metadata": {
    "id": "i5ESmq1EYTGa"
   },
   "source": [
    "pd.merge(left, right, on=['key1', 'key2'], how='outer') # non è necessario inserire in questo caso 'on'"
   ],
   "execution_count": 64,
   "outputs": [
    {
     "data": {
      "text/plain": "  key1 key2  lval  rval\n0  foo  one   1.0   4.0\n1  foo  one   1.0   5.0\n2  foo  two   2.0   NaN\n3  bar  one   3.0   6.0\n4  bar  two   NaN   7.0",
      "text/html": "<div>\n<style scoped>\n    .dataframe tbody tr th:only-of-type {\n        vertical-align: middle;\n    }\n\n    .dataframe tbody tr th {\n        vertical-align: top;\n    }\n\n    .dataframe thead th {\n        text-align: right;\n    }\n</style>\n<table border=\"1\" class=\"dataframe\">\n  <thead>\n    <tr style=\"text-align: right;\">\n      <th></th>\n      <th>key1</th>\n      <th>key2</th>\n      <th>lval</th>\n      <th>rval</th>\n    </tr>\n  </thead>\n  <tbody>\n    <tr>\n      <th>0</th>\n      <td>foo</td>\n      <td>one</td>\n      <td>1.0</td>\n      <td>4.0</td>\n    </tr>\n    <tr>\n      <th>1</th>\n      <td>foo</td>\n      <td>one</td>\n      <td>1.0</td>\n      <td>5.0</td>\n    </tr>\n    <tr>\n      <th>2</th>\n      <td>foo</td>\n      <td>two</td>\n      <td>2.0</td>\n      <td>NaN</td>\n    </tr>\n    <tr>\n      <th>3</th>\n      <td>bar</td>\n      <td>one</td>\n      <td>3.0</td>\n      <td>6.0</td>\n    </tr>\n    <tr>\n      <th>4</th>\n      <td>bar</td>\n      <td>two</td>\n      <td>NaN</td>\n      <td>7.0</td>\n    </tr>\n  </tbody>\n</table>\n</div>"
     },
     "execution_count": 64,
     "metadata": {},
     "output_type": "execute_result"
    }
   ]
  },
  {
   "cell_type": "markdown",
   "metadata": {
    "id": "7D0G1nEaYTGg"
   },
   "source": [
    "- treatment of overlapping column names.\n",
    "-  merge has a suffixes option for specifying strings to appendto overlapping names in the left and right DataFrame objects"
   ]
  },
  {
   "cell_type": "code",
   "metadata": {
    "id": "FjoyoHLTYTGh"
   },
   "source": [
    "pd.merge(left, right, on='key1')"
   ],
   "execution_count": 65,
   "outputs": [
    {
     "data": {
      "text/plain": "  key1 key2_x  lval key2_y  rval\n0  foo    one     1    one     4\n1  foo    one     1    one     5\n2  foo    two     2    one     4\n3  foo    two     2    one     5\n4  bar    one     3    one     6\n5  bar    one     3    two     7",
      "text/html": "<div>\n<style scoped>\n    .dataframe tbody tr th:only-of-type {\n        vertical-align: middle;\n    }\n\n    .dataframe tbody tr th {\n        vertical-align: top;\n    }\n\n    .dataframe thead th {\n        text-align: right;\n    }\n</style>\n<table border=\"1\" class=\"dataframe\">\n  <thead>\n    <tr style=\"text-align: right;\">\n      <th></th>\n      <th>key1</th>\n      <th>key2_x</th>\n      <th>lval</th>\n      <th>key2_y</th>\n      <th>rval</th>\n    </tr>\n  </thead>\n  <tbody>\n    <tr>\n      <th>0</th>\n      <td>foo</td>\n      <td>one</td>\n      <td>1</td>\n      <td>one</td>\n      <td>4</td>\n    </tr>\n    <tr>\n      <th>1</th>\n      <td>foo</td>\n      <td>one</td>\n      <td>1</td>\n      <td>one</td>\n      <td>5</td>\n    </tr>\n    <tr>\n      <th>2</th>\n      <td>foo</td>\n      <td>two</td>\n      <td>2</td>\n      <td>one</td>\n      <td>4</td>\n    </tr>\n    <tr>\n      <th>3</th>\n      <td>foo</td>\n      <td>two</td>\n      <td>2</td>\n      <td>one</td>\n      <td>5</td>\n    </tr>\n    <tr>\n      <th>4</th>\n      <td>bar</td>\n      <td>one</td>\n      <td>3</td>\n      <td>one</td>\n      <td>6</td>\n    </tr>\n    <tr>\n      <th>5</th>\n      <td>bar</td>\n      <td>one</td>\n      <td>3</td>\n      <td>two</td>\n      <td>7</td>\n    </tr>\n  </tbody>\n</table>\n</div>"
     },
     "execution_count": 65,
     "metadata": {},
     "output_type": "execute_result"
    }
   ]
  },
  {
   "cell_type": "code",
   "metadata": {
    "id": "92VJGs0FYTGt"
   },
   "source": [
    "pd.merge(left, right, on='key1', suffixes=('_left', '_right'))"
   ],
   "execution_count": 66,
   "outputs": [
    {
     "data": {
      "text/plain": "  key1 key2_left  lval key2_right  rval\n0  foo       one     1        one     4\n1  foo       one     1        one     5\n2  foo       two     2        one     4\n3  foo       two     2        one     5\n4  bar       one     3        one     6\n5  bar       one     3        two     7",
      "text/html": "<div>\n<style scoped>\n    .dataframe tbody tr th:only-of-type {\n        vertical-align: middle;\n    }\n\n    .dataframe tbody tr th {\n        vertical-align: top;\n    }\n\n    .dataframe thead th {\n        text-align: right;\n    }\n</style>\n<table border=\"1\" class=\"dataframe\">\n  <thead>\n    <tr style=\"text-align: right;\">\n      <th></th>\n      <th>key1</th>\n      <th>key2_left</th>\n      <th>lval</th>\n      <th>key2_right</th>\n      <th>rval</th>\n    </tr>\n  </thead>\n  <tbody>\n    <tr>\n      <th>0</th>\n      <td>foo</td>\n      <td>one</td>\n      <td>1</td>\n      <td>one</td>\n      <td>4</td>\n    </tr>\n    <tr>\n      <th>1</th>\n      <td>foo</td>\n      <td>one</td>\n      <td>1</td>\n      <td>one</td>\n      <td>5</td>\n    </tr>\n    <tr>\n      <th>2</th>\n      <td>foo</td>\n      <td>two</td>\n      <td>2</td>\n      <td>one</td>\n      <td>4</td>\n    </tr>\n    <tr>\n      <th>3</th>\n      <td>foo</td>\n      <td>two</td>\n      <td>2</td>\n      <td>one</td>\n      <td>5</td>\n    </tr>\n    <tr>\n      <th>4</th>\n      <td>bar</td>\n      <td>one</td>\n      <td>3</td>\n      <td>one</td>\n      <td>6</td>\n    </tr>\n    <tr>\n      <th>5</th>\n      <td>bar</td>\n      <td>one</td>\n      <td>3</td>\n      <td>two</td>\n      <td>7</td>\n    </tr>\n  </tbody>\n</table>\n</div>"
     },
     "execution_count": 66,
     "metadata": {},
     "output_type": "execute_result"
    }
   ]
  },
  {
   "cell_type": "markdown",
   "metadata": {
    "id": "dOXSd0mVYTG4"
   },
   "source": [
    "- Merging on Index\n",
    "    - the merge key(s) in a DataFrame can be found in its index."
   ]
  },
  {
   "cell_type": "code",
   "metadata": {
    "id": "StXjQf5rYTG5"
   },
   "source": [
    "left1 = pd.DataFrame({'key': ['a', 'b', 'a', 'a', 'b', 'c'],\n",
    "                      'value': range(6)})\n",
    "right1 = pd.DataFrame({'group_val': [3.5, 7]}, index=['a', 'b'])"
   ],
   "execution_count": null,
   "outputs": []
  },
  {
   "cell_type": "code",
   "metadata": {
    "id": "w-l4FswSYTHB"
   },
   "source": [
    "left1"
   ],
   "execution_count": null,
   "outputs": []
  },
  {
   "cell_type": "code",
   "metadata": {
    "id": "799obDq4YTHb"
   },
   "source": [
    "right1"
   ],
   "execution_count": null,
   "outputs": []
  },
  {
   "cell_type": "code",
   "metadata": {
    "id": "_BovHdjtYTHi"
   },
   "source": [
    "pd.merge(left1, right1, left_on='key', right_index=True)"
   ],
   "execution_count": null,
   "outputs": []
  },
  {
   "cell_type": "code",
   "metadata": {
    "id": "S_dZ0-PNdC4h"
   },
   "source": [
    "pd.merge(right1, right1, left_index=True, right_index=True)"
   ],
   "execution_count": null,
   "outputs": []
  },
  {
   "cell_type": "code",
   "metadata": {
    "id": "MLpuB6sfYTHo"
   },
   "source": [
    "pd.merge(left1, right1, left_on='key', right_index=True, how='outer')"
   ],
   "execution_count": null,
   "outputs": []
  },
  {
   "cell_type": "code",
   "metadata": {
    "id": "BRWXd2wTYTHt"
   },
   "source": [
    "#we can use the indexes on both tables\n",
    "\n",
    "left2 = pd.DataFrame([[1., 2.], [3., 4.], [5., 6.]],\n",
    "                     index=['a', 'c', 'e'],\n",
    "                     columns=['Ohio', 'Nevada'])\n",
    "right2 = pd.DataFrame([[7., 8.], [9., 10.], [11., 12.], [13, 14]],\n",
    "                      index=['b', 'c', 'd', 'e'],\n",
    "                      columns=['Missouri', 'Alabama'])"
   ],
   "execution_count": null,
   "outputs": []
  },
  {
   "cell_type": "code",
   "metadata": {
    "id": "Y28jTEC8YTHw"
   },
   "source": [
    "left2"
   ],
   "execution_count": null,
   "outputs": []
  },
  {
   "cell_type": "code",
   "metadata": {
    "id": "NC7_Jj1bYTIs"
   },
   "source": [
    "right2"
   ],
   "execution_count": null,
   "outputs": []
  },
  {
   "cell_type": "code",
   "metadata": {
    "id": "tdWeL_tMYTIu"
   },
   "source": [
    "pd.merge(left2, right2,  left_index=True, right_index=True)"
   ],
   "execution_count": null,
   "outputs": []
  },
  {
   "cell_type": "markdown",
   "metadata": {
    "id": "aMMp-VZNYTIy"
   },
   "source": [
    "- DataFrame has a convenient **join** instance for merging by index\n",
    "- it performs a left join on the join keys, exactly preserving the left frame’s row index"
   ]
  },
  {
   "cell_type": "markdown",
   "source": [],
   "metadata": {
    "collapsed": false
   }
  },
  {
   "cell_type": "code",
   "metadata": {
    "id": "V5ITd7_PYTIy"
   },
   "source": [
    "left2.join(right2) # -> utilizza gli indici, ed è un left-join"
   ],
   "execution_count": null,
   "outputs": []
  },
  {
   "cell_type": "code",
   "metadata": {
    "id": "3Dyu4krIvjgu"
   },
   "source": [
    "right2.join(left2)"
   ],
   "execution_count": null,
   "outputs": []
  },
  {
   "cell_type": "code",
   "metadata": {
    "id": "F5Z7NIVPYTI3"
   },
   "source": [
    "left2.join(right2, how ='inner')"
   ],
   "execution_count": null,
   "outputs": []
  },
  {
   "cell_type": "code",
   "metadata": {
    "id": "AwdEb7Y8YTI5"
   },
   "source": [
    "# we can join by index and attribute as with the merge\n",
    "\n",
    "left1.join(right1, on='key')"
   ],
   "execution_count": null,
   "outputs": []
  },
  {
   "cell_type": "code",
   "metadata": {
    "id": "HsUezDnkYTI_"
   },
   "source": [
    "#joining more tables\n",
    "another = pd.DataFrame([[7., 8.], [9., 10.], [11., 12.], [16., 17.]],\n",
    "                       index=['a', 'c', 'e', 'f'],\n",
    "                       columns=['New York', 'Oregon'])\n",
    "another"
   ],
   "execution_count": null,
   "outputs": []
  },
  {
   "cell_type": "code",
   "metadata": {
    "id": "sktF6lvsYTJB"
   },
   "source": [
    "left2.join([right2, another])"
   ],
   "execution_count": null,
   "outputs": []
  },
  {
   "cell_type": "markdown",
   "metadata": {
    "id": "JLw43IhCYTJD"
   },
   "source": [
    "## Concatenating Along an Axis\n",
    "\n",
    "- Another kind of data combination operation is referred to interchangeably as concatenation, binding, or stacking"
   ]
  },
  {
   "cell_type": "code",
   "metadata": {
    "id": "PtjFHryaYTJE"
   },
   "source": [
    "arr = np.arange(12).reshape((3, 4))\n",
    "arr"
   ],
   "execution_count": null,
   "outputs": []
  },
  {
   "cell_type": "code",
   "metadata": {
    "id": "XxC1fAk7YTJG"
   },
   "source": [
    "np.concatenate([arr, arr], axis=1)"
   ],
   "execution_count": null,
   "outputs": []
  },
  {
   "cell_type": "code",
   "metadata": {
    "id": "K4nqQ8QSYTJI"
   },
   "source": [
    "np.concatenate([arr, arr])"
   ],
   "execution_count": null,
   "outputs": []
  },
  {
   "cell_type": "markdown",
   "metadata": {
    "id": "YSZ1c_r-YTJa"
   },
   "source": [
    "In the context of pandas objects such as Series and DataFrame, having labeled axes\n",
    "enable you to further generalize array concatenation"
   ]
  },
  {
   "cell_type": "code",
   "metadata": {
    "id": "dlALarvVYTJa"
   },
   "source": [
    "s1 = pd.Series([0, 1], index=['a', 'b'])\n",
    "s2 = pd.Series([2, 3, 4], index=['c', 'd', 'e'])\n",
    "s3 = pd.Series([5, 6], index=['f', 'g'])"
   ],
   "execution_count": null,
   "outputs": []
  },
  {
   "cell_type": "code",
   "metadata": {
    "id": "pMkOMaRVYTJg"
   },
   "source": [
    "s1"
   ],
   "execution_count": null,
   "outputs": []
  },
  {
   "cell_type": "code",
   "metadata": {
    "id": "0AoFvHz8YTJk"
   },
   "source": [
    "s2"
   ],
   "execution_count": null,
   "outputs": []
  },
  {
   "cell_type": "code",
   "metadata": {
    "id": "lURZWKlMYTJy"
   },
   "source": [
    "s3"
   ],
   "execution_count": null,
   "outputs": []
  },
  {
   "cell_type": "code",
   "metadata": {
    "id": "lEZ_agEWYTJ0"
   },
   "source": [
    "pd.concat([s1,s2,s3])"
   ],
   "execution_count": null,
   "outputs": []
  },
  {
   "cell_type": "code",
   "metadata": {
    "id": "Th_coiCBYTJ4"
   },
   "source": [
    "pd.concat([s1,s2,s3], axis =1)"
   ],
   "execution_count": null,
   "outputs": []
  },
  {
   "cell_type": "code",
   "metadata": {
    "id": "pSXT3Xu2YTJ6"
   },
   "source": [
    "s4 = pd.concat([s1, s3])"
   ],
   "execution_count": null,
   "outputs": []
  },
  {
   "cell_type": "code",
   "metadata": {
    "id": "1RAn1-7rYTJ8"
   },
   "source": [
    "s4"
   ],
   "execution_count": null,
   "outputs": []
  },
  {
   "cell_type": "code",
   "metadata": {
    "id": "e7ezhdbLYTJ_"
   },
   "source": [
    "pd.concat([s1, s4], axis=1)"
   ],
   "execution_count": null,
   "outputs": []
  },
  {
   "cell_type": "code",
   "metadata": {
    "id": "ilkn6zceYTKA"
   },
   "source": [
    "pd.concat([s1, s4], axis=1, join ='inner')"
   ],
   "execution_count": null,
   "outputs": []
  },
  {
   "cell_type": "markdown",
   "metadata": {
    "id": "Z2eDGifIYTKF"
   },
   "source": [
    "- A potential issue is that the concatenated pieces are not identifiable in the result."
   ]
  },
  {
   "cell_type": "code",
   "metadata": {
    "id": "d_L_w_koYTKF"
   },
   "source": [
    "pd.concat([s1,s2,s3], keys=['s1','s2','s3'])"
   ],
   "execution_count": null,
   "outputs": []
  },
  {
   "cell_type": "code",
   "metadata": {
    "id": "qqHpC_KZYTKG"
   },
   "source": [
    "pd.concat([s1,s2,s3], keys=['s1','s2','s3']).unstack()"
   ],
   "execution_count": null,
   "outputs": []
  },
  {
   "cell_type": "markdown",
   "metadata": {
    "id": "gAXaae5AYTKU"
   },
   "source": [
    "- The same logic extends to DataFrame objects:"
   ]
  },
  {
   "cell_type": "code",
   "metadata": {
    "id": "FBlmujnsYTKU"
   },
   "source": [
    "df1 = pd.DataFrame(np.arange(6).reshape(3, 2), index=['a', 'b', 'c'],\n",
    "                   columns=['one', 'two'])\n",
    "df2 = pd.DataFrame(5 + np.arange(4).reshape(2, 2), index=['a', 'c'],\n",
    "                   columns=['three', 'four'])"
   ],
   "execution_count": null,
   "outputs": []
  },
  {
   "cell_type": "code",
   "metadata": {
    "id": "M1zT2bIzYTKW"
   },
   "source": [
    "df1"
   ],
   "execution_count": null,
   "outputs": []
  },
  {
   "cell_type": "code",
   "metadata": {
    "id": "VF7Pl-vdYTKl"
   },
   "source": [
    "df2"
   ],
   "execution_count": null,
   "outputs": []
  },
  {
   "cell_type": "code",
   "metadata": {
    "id": "7pBGbVUqYTKn"
   },
   "source": [
    "pd.concat([df1,df2])"
   ],
   "execution_count": null,
   "outputs": []
  },
  {
   "cell_type": "code",
   "metadata": {
    "id": "niuBdnG9YTKs"
   },
   "source": [
    "pd.concat([df1,df2], axis =1)"
   ],
   "execution_count": null,
   "outputs": []
  },
  {
   "cell_type": "code",
   "metadata": {
    "id": "Y1dfdwOHYTKu"
   },
   "source": [
    "pd.concat([df1,df2], axis =1, keys =['df1','df2'])"
   ],
   "execution_count": null,
   "outputs": []
  },
  {
   "cell_type": "markdown",
   "metadata": {
    "id": "YzUrUpo3YTKw"
   },
   "source": [
    "- when the row index does not contain any relevant data"
   ]
  },
  {
   "cell_type": "code",
   "metadata": {
    "id": "oS9hdCiKYTKy"
   },
   "source": [
    "df1 = pd.DataFrame(np.random.randn(3, 4), columns=['a', 'b', 'c', 'd'])\n",
    "df2 = pd.DataFrame(np.random.randn(2, 3), columns=['b', 'd', 'a'])"
   ],
   "execution_count": null,
   "outputs": []
  },
  {
   "cell_type": "code",
   "metadata": {
    "id": "l-Uv7sSUYTK1"
   },
   "source": [
    "df1"
   ],
   "execution_count": null,
   "outputs": []
  },
  {
   "cell_type": "code",
   "metadata": {
    "id": "ujYZUqSJYTK-"
   },
   "source": [
    "df2"
   ],
   "execution_count": null,
   "outputs": []
  },
  {
   "cell_type": "code",
   "metadata": {
    "id": "xlVJty_IYTLD"
   },
   "source": [
    "pd.concat([df1,df2])"
   ],
   "execution_count": null,
   "outputs": []
  },
  {
   "cell_type": "code",
   "metadata": {
    "id": "JssAhnluYTLJ"
   },
   "source": [
    "pd.concat([df1,df2], ignore_index=True)"
   ],
   "execution_count": null,
   "outputs": []
  },
  {
   "cell_type": "markdown",
   "metadata": {
    "id": "RUc9XZxUYTLL"
   },
   "source": [
    "## [Bonus] Combining Data with Overlap\n",
    "\n",
    "- You may have two datasets whose indexes overlap in full or part"
   ]
  },
  {
   "cell_type": "code",
   "metadata": {
    "id": "SnYsQvvRYTLL"
   },
   "source": [
    "a = pd.Series([np.nan, 2.5, np.nan, 3.5, 4.5, np.nan],\n",
    "              index=['f', 'e', 'd', 'c', 'b', 'a'])\n",
    "b = pd.Series(np.arange(len(a), dtype=np.float64),\n",
    "              index=['f', 'e', 'd', 'c', 'b', 'a'])"
   ],
   "execution_count": null,
   "outputs": []
  },
  {
   "cell_type": "code",
   "metadata": {
    "id": "pOGuC_3pYTLN"
   },
   "source": [
    "a"
   ],
   "execution_count": null,
   "outputs": []
  },
  {
   "cell_type": "code",
   "metadata": {
    "id": "XnPR3Y7HYTLP"
   },
   "source": [
    "b"
   ],
   "execution_count": null,
   "outputs": []
  },
  {
   "cell_type": "code",
   "metadata": {
    "id": "uTVXA1VdYTLQ"
   },
   "source": [
    "b[-1]=np.nan"
   ],
   "execution_count": null,
   "outputs": []
  },
  {
   "cell_type": "code",
   "metadata": {
    "id": "2gk8ws7tYTLS"
   },
   "source": [
    "b"
   ],
   "execution_count": null,
   "outputs": []
  },
  {
   "cell_type": "code",
   "metadata": {
    "id": "4nmtJDkcYTLY"
   },
   "source": [
    "np.where(pd.isnull(a), b, a)"
   ],
   "execution_count": null,
   "outputs": []
  },
  {
   "cell_type": "markdown",
   "metadata": {
    "id": "I-ldVY9DYTLa"
   },
   "source": [
    "- the **combine_first method** performs the equivalent of this operation along with pandas’s usual data alignment logic"
   ]
  },
  {
   "cell_type": "code",
   "metadata": {
    "id": "1IGj17K3YTLa"
   },
   "source": [
    "b[:].combine_first(a)"
   ],
   "execution_count": null,
   "outputs": []
  },
  {
   "cell_type": "code",
   "metadata": {
    "id": "jKQoA5eMYTLd"
   },
   "source": [
    "b[::-1].combine_first(a)"
   ],
   "execution_count": null,
   "outputs": []
  },
  {
   "cell_type": "code",
   "metadata": {
    "id": "aa3G6gQXYTLf"
   },
   "source": [
    "a[::-1].combine_first(b)"
   ],
   "execution_count": null,
   "outputs": []
  },
  {
   "cell_type": "markdown",
   "metadata": {
    "id": "OxO_yuC7YTLi"
   },
   "source": [
    "- With DataFrames, combine_first does the same thing column by column\n",
    "    - you can think of it as “patching” missing data in the calling object with data from the object you pass"
   ]
  },
  {
   "cell_type": "code",
   "metadata": {
    "id": "_Y8D7sCFYTLs"
   },
   "source": [
    "df1 = pd.DataFrame({'a': [1., np.nan, 5., np.nan],\n",
    "                    'b': [np.nan, 2., np.nan, 6.],\n",
    "                    'c': range(2, 18, 4)})\n",
    "df2 = pd.DataFrame({'a': [5., 4., np.nan, 3., 7.],\n",
    "                    'b': [np.nan, 3., 4., 6., 8.]})"
   ],
   "execution_count": null,
   "outputs": []
  },
  {
   "cell_type": "code",
   "metadata": {
    "id": "jas3omIGYTLx"
   },
   "source": [
    "df1"
   ],
   "execution_count": null,
   "outputs": []
  },
  {
   "cell_type": "code",
   "metadata": {
    "id": "gCJCHmEtYTMC"
   },
   "source": [
    "df2"
   ],
   "execution_count": null,
   "outputs": []
  },
  {
   "cell_type": "code",
   "metadata": {
    "id": "XLEux51ZYTMN"
   },
   "source": [
    "df1.combine_first(df2)"
   ],
   "execution_count": null,
   "outputs": []
  },
  {
   "cell_type": "code",
   "metadata": {
    "id": "jBhooyw4YTMP"
   },
   "source": [
    "df2.combine_first(df1)"
   ],
   "execution_count": null,
   "outputs": []
  },
  {
   "cell_type": "markdown",
   "metadata": {
    "id": "xkkqj4KcYTMQ"
   },
   "source": [
    "## [BONUS] Reshaping and Pivoting\n",
    "- There are a number of basic operations for rearranging tabular data. \n",
    "- These are referred to as reshape or pivot operations."
   ]
  },
  {
   "cell_type": "markdown",
   "metadata": {
    "id": "Llb73y6TYTMQ"
   },
   "source": [
    "- Hierarchical indexing provides a consistent way to rearrange data in a DataFrame.\n",
    "\n",
    "- stack\n",
    "    - This “rotates” or pivots from the columns in the data to the rows\n",
    "- unstack\n",
    "    - This pivots from the rows into the columns"
   ]
  },
  {
   "cell_type": "code",
   "metadata": {
    "id": "5EhUeHZJYTMR"
   },
   "source": [
    "data = pd.DataFrame(np.arange(6).reshape((2, 3)),\n",
    "                    index=pd.Index(['Ohio', 'Colorado'], name='state'),\n",
    "                    columns=pd.Index(['one', 'two', 'three']))"
   ],
   "execution_count": 67,
   "outputs": []
  },
  {
   "cell_type": "code",
   "metadata": {
    "id": "Fie3cyRDYTMT"
   },
   "source": [
    "data"
   ],
   "execution_count": 68,
   "outputs": [
    {
     "data": {
      "text/plain": "          one  two  three\nstate                    \nOhio        0    1      2\nColorado    3    4      5",
      "text/html": "<div>\n<style scoped>\n    .dataframe tbody tr th:only-of-type {\n        vertical-align: middle;\n    }\n\n    .dataframe tbody tr th {\n        vertical-align: top;\n    }\n\n    .dataframe thead th {\n        text-align: right;\n    }\n</style>\n<table border=\"1\" class=\"dataframe\">\n  <thead>\n    <tr style=\"text-align: right;\">\n      <th></th>\n      <th>one</th>\n      <th>two</th>\n      <th>three</th>\n    </tr>\n    <tr>\n      <th>state</th>\n      <th></th>\n      <th></th>\n      <th></th>\n    </tr>\n  </thead>\n  <tbody>\n    <tr>\n      <th>Ohio</th>\n      <td>0</td>\n      <td>1</td>\n      <td>2</td>\n    </tr>\n    <tr>\n      <th>Colorado</th>\n      <td>3</td>\n      <td>4</td>\n      <td>5</td>\n    </tr>\n  </tbody>\n</table>\n</div>"
     },
     "execution_count": 68,
     "metadata": {},
     "output_type": "execute_result"
    }
   ]
  },
  {
   "cell_type": "code",
   "metadata": {
    "id": "4icojmOrYTMV"
   },
   "source": [
    "data.stack()"
   ],
   "execution_count": 69,
   "outputs": [
    {
     "data": {
      "text/plain": "state          \nOhio      one      0\n          two      1\n          three    2\nColorado  one      3\n          two      4\n          three    5\ndtype: int64"
     },
     "execution_count": 69,
     "metadata": {},
     "output_type": "execute_result"
    }
   ]
  },
  {
   "cell_type": "code",
   "metadata": {
    "id": "8QNnZZwIYTMX"
   },
   "source": [
    "stacked = data.stack()"
   ],
   "execution_count": 70,
   "outputs": []
  },
  {
   "cell_type": "code",
   "metadata": {
    "id": "rBK163vOYTMh"
   },
   "source": [
    "stacked"
   ],
   "execution_count": 71,
   "outputs": [
    {
     "data": {
      "text/plain": "state          \nOhio      one      0\n          two      1\n          three    2\nColorado  one      3\n          two      4\n          three    5\ndtype: int64"
     },
     "execution_count": 71,
     "metadata": {},
     "output_type": "execute_result"
    }
   ]
  },
  {
   "cell_type": "code",
   "metadata": {
    "id": "K-vAzfVMYTMl"
   },
   "source": [
    "stacked.unstack()"
   ],
   "execution_count": 72,
   "outputs": [
    {
     "data": {
      "text/plain": "          one  two  three\nstate                    \nOhio        0    1      2\nColorado    3    4      5",
      "text/html": "<div>\n<style scoped>\n    .dataframe tbody tr th:only-of-type {\n        vertical-align: middle;\n    }\n\n    .dataframe tbody tr th {\n        vertical-align: top;\n    }\n\n    .dataframe thead th {\n        text-align: right;\n    }\n</style>\n<table border=\"1\" class=\"dataframe\">\n  <thead>\n    <tr style=\"text-align: right;\">\n      <th></th>\n      <th>one</th>\n      <th>two</th>\n      <th>three</th>\n    </tr>\n    <tr>\n      <th>state</th>\n      <th></th>\n      <th></th>\n      <th></th>\n    </tr>\n  </thead>\n  <tbody>\n    <tr>\n      <th>Ohio</th>\n      <td>0</td>\n      <td>1</td>\n      <td>2</td>\n    </tr>\n    <tr>\n      <th>Colorado</th>\n      <td>3</td>\n      <td>4</td>\n      <td>5</td>\n    </tr>\n  </tbody>\n</table>\n</div>"
     },
     "execution_count": 72,
     "metadata": {},
     "output_type": "execute_result"
    }
   ]
  },
  {
   "cell_type": "code",
   "metadata": {
    "id": "aY3me5RNYTMn"
   },
   "source": [
    "#By default the innermost level is unstacked (same with stack). \n",
    "#You can unstack a different level by passing a level number or name:\n",
    "stacked.unstack(0)"
   ],
   "execution_count": 73,
   "outputs": [
    {
     "data": {
      "text/plain": "state  Ohio  Colorado\none       0         3\ntwo       1         4\nthree     2         5",
      "text/html": "<div>\n<style scoped>\n    .dataframe tbody tr th:only-of-type {\n        vertical-align: middle;\n    }\n\n    .dataframe tbody tr th {\n        vertical-align: top;\n    }\n\n    .dataframe thead th {\n        text-align: right;\n    }\n</style>\n<table border=\"1\" class=\"dataframe\">\n  <thead>\n    <tr style=\"text-align: right;\">\n      <th>state</th>\n      <th>Ohio</th>\n      <th>Colorado</th>\n    </tr>\n  </thead>\n  <tbody>\n    <tr>\n      <th>one</th>\n      <td>0</td>\n      <td>3</td>\n    </tr>\n    <tr>\n      <th>two</th>\n      <td>1</td>\n      <td>4</td>\n    </tr>\n    <tr>\n      <th>three</th>\n      <td>2</td>\n      <td>5</td>\n    </tr>\n  </tbody>\n</table>\n</div>"
     },
     "execution_count": 73,
     "metadata": {},
     "output_type": "execute_result"
    }
   ]
  },
  {
   "cell_type": "markdown",
   "metadata": {
    "id": "oBHFif1HYTMr"
   },
   "source": [
    "- Unstacking might introduce missing data "
   ]
  },
  {
   "cell_type": "code",
   "metadata": {
    "id": "YumISYQvYTMs"
   },
   "source": [
    "s1 = pd.Series([0, 1, 2, 3], index=['a', 'b', 'c', 'd'])\n",
    "s2 = pd.Series([4, 5, 6], index=['c', 'd', 'e'])"
   ],
   "execution_count": null,
   "outputs": []
  },
  {
   "cell_type": "code",
   "metadata": {
    "id": "mL4F-JlkYTMt"
   },
   "source": [
    "s1"
   ],
   "execution_count": null,
   "outputs": []
  },
  {
   "cell_type": "code",
   "metadata": {
    "id": "R53V6L-3YTMv"
   },
   "source": [
    "s2"
   ],
   "execution_count": null,
   "outputs": []
  },
  {
   "cell_type": "code",
   "metadata": {
    "id": "2My1AUHBYTM0"
   },
   "source": [
    "data2 = pd.concat([s1, s2], keys=['one', 'two'])\n",
    "data2"
   ],
   "execution_count": null,
   "outputs": []
  },
  {
   "cell_type": "code",
   "metadata": {
    "id": "kezt4Qt9YTM2"
   },
   "source": [
    "data2.unstack()"
   ],
   "execution_count": null,
   "outputs": []
  },
  {
   "cell_type": "markdown",
   "metadata": {
    "id": "HTVTWRvxYTM4"
   },
   "source": [
    "# Data Aggregation and Group Operations\n",
    "\n",
    "- Categorizing a dataset and applying a function to each group is often a critical component of a data analysis workflow. \n",
    "- After loading, merging, and preparing a dataset, you may need to compute group statistics or pivot tables for reporting or visualization purposes. "
   ]
  },
  {
   "cell_type": "markdown",
   "metadata": {
    "id": "qCR6ZzTRYTM4"
   },
   "source": [
    "### GroupBy Mechanics\n",
    "- data contained in a pandas object is split into groups based on one or more keys.\n",
    "    - The splitting is performed on a particular axis of an object. \n",
    "        - For example, a DataFrame can be grouped on its rows (axis=0) or its columns (axis=1).\n",
    "- a function is applied to each group, producing a new value.\n",
    "- the results of all those function applications are combined into a result object. \n",
    "\n",
    "<img src=\"https://drive.google.com/uc?id=1B559BfpzVoV6i9QdzmeA-GLrGdZTd-2s\" width=500>"
   ]
  },
  {
   "cell_type": "code",
   "metadata": {
    "id": "MkxtbJtaYTM4"
   },
   "source": [
    "df = pd.DataFrame({'key1' : ['a', 'a', 'b', 'b', 'a'],\n",
    "                   'key2' : ['one', 'two', 'one', 'two', 'one'],\n",
    "                   'data1' : np.random.randn(5),\n",
    "                   'data2' : np.random.randn(5)})\n",
    "df"
   ],
   "execution_count": 74,
   "outputs": [
    {
     "data": {
      "text/plain": "  key1 key2     data1     data2\n0    a  one  1.072986  0.469145\n1    a  two -0.125867  0.136712\n2    b  one -0.319104  0.018095\n3    b  two -1.180257  0.153587\n4    a  one -1.147403  1.206164",
      "text/html": "<div>\n<style scoped>\n    .dataframe tbody tr th:only-of-type {\n        vertical-align: middle;\n    }\n\n    .dataframe tbody tr th {\n        vertical-align: top;\n    }\n\n    .dataframe thead th {\n        text-align: right;\n    }\n</style>\n<table border=\"1\" class=\"dataframe\">\n  <thead>\n    <tr style=\"text-align: right;\">\n      <th></th>\n      <th>key1</th>\n      <th>key2</th>\n      <th>data1</th>\n      <th>data2</th>\n    </tr>\n  </thead>\n  <tbody>\n    <tr>\n      <th>0</th>\n      <td>a</td>\n      <td>one</td>\n      <td>1.072986</td>\n      <td>0.469145</td>\n    </tr>\n    <tr>\n      <th>1</th>\n      <td>a</td>\n      <td>two</td>\n      <td>-0.125867</td>\n      <td>0.136712</td>\n    </tr>\n    <tr>\n      <th>2</th>\n      <td>b</td>\n      <td>one</td>\n      <td>-0.319104</td>\n      <td>0.018095</td>\n    </tr>\n    <tr>\n      <th>3</th>\n      <td>b</td>\n      <td>two</td>\n      <td>-1.180257</td>\n      <td>0.153587</td>\n    </tr>\n    <tr>\n      <th>4</th>\n      <td>a</td>\n      <td>one</td>\n      <td>-1.147403</td>\n      <td>1.206164</td>\n    </tr>\n  </tbody>\n</table>\n</div>"
     },
     "execution_count": 74,
     "metadata": {},
     "output_type": "execute_result"
    }
   ]
  },
  {
   "cell_type": "markdown",
   "metadata": {
    "id": "iIVouogtYTM7"
   },
   "source": [
    "- We want to compute the mean of the data1 column using the labels from key1."
   ]
  },
  {
   "cell_type": "code",
   "metadata": {
    "id": "zMLk93hnYTM7"
   },
   "source": [
    "grouped = df['data1'].groupby(df['key1'])"
   ],
   "execution_count": 75,
   "outputs": []
  },
  {
   "cell_type": "code",
   "metadata": {
    "id": "lb5qNCeAi5zu"
   },
   "source": [
    "grouped"
   ],
   "execution_count": 76,
   "outputs": [
    {
     "data": {
      "text/plain": "<pandas.core.groupby.generic.SeriesGroupBy object at 0x16a001ac0>"
     },
     "execution_count": 76,
     "metadata": {},
     "output_type": "execute_result"
    }
   ]
  },
  {
   "cell_type": "markdown",
   "metadata": {
    "id": "sk9sWqN-YTM9"
   },
   "source": [
    "- This grouped variable is now a GroupBy object. \n",
    "- It has not actually computed anything yet except for some intermediate data about the group key df['key1']. \n",
    "- The idea is that this object has all of the information needed to then apply some operation to each of the groups."
   ]
  },
  {
   "cell_type": "code",
   "metadata": {
    "id": "jhGnB332YTM9"
   },
   "source": [
    "grouped"
   ],
   "execution_count": 77,
   "outputs": [
    {
     "data": {
      "text/plain": "<pandas.core.groupby.generic.SeriesGroupBy object at 0x16a001ac0>"
     },
     "execution_count": 77,
     "metadata": {},
     "output_type": "execute_result"
    }
   ]
  },
  {
   "cell_type": "code",
   "metadata": {
    "id": "cFavtD_mYTM_"
   },
   "source": [
    "grouped.mean()"
   ],
   "execution_count": 78,
   "outputs": [
    {
     "data": {
      "text/plain": "key1\na   -0.066761\nb   -0.749680\nName: data1, dtype: float64"
     },
     "execution_count": 78,
     "metadata": {},
     "output_type": "execute_result"
    }
   ]
  },
  {
   "cell_type": "code",
   "metadata": {
    "id": "5HvJekAUYTNA"
   },
   "source": [
    "grouped.sum()"
   ],
   "execution_count": 79,
   "outputs": [
    {
     "data": {
      "text/plain": "key1\na   -0.200284\nb   -1.499361\nName: data1, dtype: float64"
     },
     "execution_count": 79,
     "metadata": {},
     "output_type": "execute_result"
    }
   ]
  },
  {
   "cell_type": "code",
   "metadata": {
    "id": "-nCA4uRtzO9o"
   },
   "source": [
    "grouped.max()"
   ],
   "execution_count": 80,
   "outputs": [
    {
     "data": {
      "text/plain": "key1\na    1.072986\nb   -0.319104\nName: data1, dtype: float64"
     },
     "execution_count": 80,
     "metadata": {},
     "output_type": "execute_result"
    }
   ]
  },
  {
   "cell_type": "code",
   "metadata": {
    "id": "6Op_KwMkYTND"
   },
   "source": [
    "df['data1'].groupby([df['key1'], df['key2']]).mean()"
   ],
   "execution_count": 81,
   "outputs": [
    {
     "data": {
      "text/plain": "key1  key2\na     one    -0.037208\n      two    -0.125867\nb     one    -0.319104\n      two    -1.180257\nName: data1, dtype: float64"
     },
     "execution_count": 81,
     "metadata": {},
     "output_type": "execute_result"
    }
   ]
  },
  {
   "cell_type": "code",
   "metadata": {
    "id": "byb5RYhJYTNF"
   },
   "source": [
    "df['data1'].groupby([df['key1'], df['key2']]).mean().unstack()"
   ],
   "execution_count": 82,
   "outputs": [
    {
     "data": {
      "text/plain": "key2       one       two\nkey1                    \na    -0.037208 -0.125867\nb    -0.319104 -1.180257",
      "text/html": "<div>\n<style scoped>\n    .dataframe tbody tr th:only-of-type {\n        vertical-align: middle;\n    }\n\n    .dataframe tbody tr th {\n        vertical-align: top;\n    }\n\n    .dataframe thead th {\n        text-align: right;\n    }\n</style>\n<table border=\"1\" class=\"dataframe\">\n  <thead>\n    <tr style=\"text-align: right;\">\n      <th>key2</th>\n      <th>one</th>\n      <th>two</th>\n    </tr>\n    <tr>\n      <th>key1</th>\n      <th></th>\n      <th></th>\n    </tr>\n  </thead>\n  <tbody>\n    <tr>\n      <th>a</th>\n      <td>-0.037208</td>\n      <td>-0.125867</td>\n    </tr>\n    <tr>\n      <th>b</th>\n      <td>-0.319104</td>\n      <td>-1.180257</td>\n    </tr>\n  </tbody>\n</table>\n</div>"
     },
     "execution_count": 82,
     "metadata": {},
     "output_type": "execute_result"
    }
   ]
  },
  {
   "cell_type": "code",
   "metadata": {
    "id": "E8NdU9zmYTNH"
   },
   "source": [
    "df['data1'].groupby(df['key1']).mean()"
   ],
   "execution_count": 83,
   "outputs": [
    {
     "data": {
      "text/plain": "key1\na   -0.066761\nb   -0.749680\nName: data1, dtype: float64"
     },
     "execution_count": 83,
     "metadata": {},
     "output_type": "execute_result"
    }
   ]
  },
  {
   "cell_type": "code",
   "metadata": {
    "id": "VRNKWCg2YTNQ"
   },
   "source": [
    "df.groupby(df['key1']).mean()"
   ],
   "execution_count": 84,
   "outputs": [
    {
     "name": "stderr",
     "output_type": "stream",
     "text": [
      "/var/folders/zk/y_05r4dd4q51x5hx9n0nwwk80000gn/T/ipykernel_2043/1333894316.py:1: FutureWarning: The default value of numeric_only in DataFrameGroupBy.mean is deprecated. In a future version, numeric_only will default to False. Either specify numeric_only or select only columns which should be valid for the function.\n",
      "  df.groupby(df['key1']).mean()\n"
     ]
    },
    {
     "data": {
      "text/plain": "         data1     data2\nkey1                    \na    -0.066761  0.604007\nb    -0.749680  0.085841",
      "text/html": "<div>\n<style scoped>\n    .dataframe tbody tr th:only-of-type {\n        vertical-align: middle;\n    }\n\n    .dataframe tbody tr th {\n        vertical-align: top;\n    }\n\n    .dataframe thead th {\n        text-align: right;\n    }\n</style>\n<table border=\"1\" class=\"dataframe\">\n  <thead>\n    <tr style=\"text-align: right;\">\n      <th></th>\n      <th>data1</th>\n      <th>data2</th>\n    </tr>\n    <tr>\n      <th>key1</th>\n      <th></th>\n      <th></th>\n    </tr>\n  </thead>\n  <tbody>\n    <tr>\n      <th>a</th>\n      <td>-0.066761</td>\n      <td>0.604007</td>\n    </tr>\n    <tr>\n      <th>b</th>\n      <td>-0.749680</td>\n      <td>0.085841</td>\n    </tr>\n  </tbody>\n</table>\n</div>"
     },
     "execution_count": 84,
     "metadata": {},
     "output_type": "execute_result"
    }
   ]
  },
  {
   "cell_type": "markdown",
   "metadata": {
    "id": "vLCWpg3hYTNT"
   },
   "source": [
    "- Note that there is no key2 column in the result. \n",
    "    - df['key2'] is not numeric data. \n",
    "    - By default, all of the numeric columns are aggregated\n",
    "\n",
    "    \n",
    "    \n",
    "- the method size returns a Series containing group sizes"
   ]
  },
  {
   "cell_type": "code",
   "metadata": {
    "id": "QQLpQpTiYTNT"
   },
   "source": [
    "df.groupby(['key1', 'key2']).size()"
   ],
   "execution_count": 85,
   "outputs": [
    {
     "data": {
      "text/plain": "key1  key2\na     one     2\n      two     1\nb     one     1\n      two     1\ndtype: int64"
     },
     "execution_count": 85,
     "metadata": {},
     "output_type": "execute_result"
    }
   ]
  },
  {
   "cell_type": "markdown",
   "metadata": {
    "id": "7hLOcOtGYTNU"
   },
   "source": [
    "- Iterating Over Groups\n",
    "    - The GroupBy object supports iteration, \n",
    "    - It generates a sequence of 2-tuples containing the group name along with the chunk of data"
   ]
  },
  {
   "cell_type": "code",
   "metadata": {
    "id": "2HrnKkMIYTNU"
   },
   "source": [
    "for name, group in df.groupby('key1'):\n",
    "    print(name)\n",
    "    print(group)\n",
    "    print(\"\\n\\n\")"
   ],
   "execution_count": 86,
   "outputs": [
    {
     "name": "stdout",
     "output_type": "stream",
     "text": [
      "a\n",
      "  key1 key2     data1     data2\n",
      "0    a  one  1.072986  0.469145\n",
      "1    a  two -0.125867  0.136712\n",
      "4    a  one -1.147403  1.206164\n",
      "\n",
      "\n",
      "\n",
      "b\n",
      "  key1 key2     data1     data2\n",
      "2    b  one -0.319104  0.018095\n",
      "3    b  two -1.180257  0.153587\n",
      "\n",
      "\n",
      "\n"
     ]
    }
   ]
  },
  {
   "cell_type": "code",
   "metadata": {
    "id": "e_9MiGwpYTNW"
   },
   "source": [
    "# multiple keys in the group by clause\n",
    "for (k1, k2), group in df.groupby(['key1', 'key2']):\n",
    "    print((k1, k2))\n",
    "    print(group)\n",
    "    print(\"\\n\\n\")"
   ],
   "execution_count": 87,
   "outputs": [
    {
     "name": "stdout",
     "output_type": "stream",
     "text": [
      "('a', 'one')\n",
      "  key1 key2     data1     data2\n",
      "0    a  one  1.072986  0.469145\n",
      "4    a  one -1.147403  1.206164\n",
      "\n",
      "\n",
      "\n",
      "('a', 'two')\n",
      "  key1 key2     data1     data2\n",
      "1    a  two -0.125867  0.136712\n",
      "\n",
      "\n",
      "\n",
      "('b', 'one')\n",
      "  key1 key2     data1     data2\n",
      "2    b  one -0.319104  0.018095\n",
      "\n",
      "\n",
      "\n",
      "('b', 'two')\n",
      "  key1 key2     data1     data2\n",
      "3    b  two -1.180257  0.153587\n",
      "\n",
      "\n",
      "\n"
     ]
    }
   ]
  },
  {
   "cell_type": "markdown",
   "metadata": {
    "id": "tbOt9NeOYTNX"
   },
   "source": [
    "- you can choose to do whatever you want with the pieces of data. \n",
    "- A recipe you may find useful is computing a dict of the data pieces as a one-liner:"
   ]
  },
  {
   "cell_type": "code",
   "metadata": {
    "id": "P0i7jGkjYTNY"
   },
   "source": [
    "pieces = dict(list(df.groupby('key1')))"
   ],
   "execution_count": 88,
   "outputs": []
  },
  {
   "cell_type": "code",
   "metadata": {
    "id": "BNYgMGH2YTNZ"
   },
   "source": [
    "pieces"
   ],
   "execution_count": 89,
   "outputs": [
    {
     "data": {
      "text/plain": "{'a':   key1 key2     data1     data2\n 0    a  one  1.072986  0.469145\n 1    a  two -0.125867  0.136712\n 4    a  one -1.147403  1.206164,\n 'b':   key1 key2     data1     data2\n 2    b  one -0.319104  0.018095\n 3    b  two -1.180257  0.153587}"
     },
     "execution_count": 89,
     "metadata": {},
     "output_type": "execute_result"
    }
   ]
  },
  {
   "cell_type": "code",
   "metadata": {
    "id": "l7EYMaePYTNb"
   },
   "source": [
    "pieces['a']"
   ],
   "execution_count": 90,
   "outputs": [
    {
     "data": {
      "text/plain": "  key1 key2     data1     data2\n0    a  one  1.072986  0.469145\n1    a  two -0.125867  0.136712\n4    a  one -1.147403  1.206164",
      "text/html": "<div>\n<style scoped>\n    .dataframe tbody tr th:only-of-type {\n        vertical-align: middle;\n    }\n\n    .dataframe tbody tr th {\n        vertical-align: top;\n    }\n\n    .dataframe thead th {\n        text-align: right;\n    }\n</style>\n<table border=\"1\" class=\"dataframe\">\n  <thead>\n    <tr style=\"text-align: right;\">\n      <th></th>\n      <th>key1</th>\n      <th>key2</th>\n      <th>data1</th>\n      <th>data2</th>\n    </tr>\n  </thead>\n  <tbody>\n    <tr>\n      <th>0</th>\n      <td>a</td>\n      <td>one</td>\n      <td>1.072986</td>\n      <td>0.469145</td>\n    </tr>\n    <tr>\n      <th>1</th>\n      <td>a</td>\n      <td>two</td>\n      <td>-0.125867</td>\n      <td>0.136712</td>\n    </tr>\n    <tr>\n      <th>4</th>\n      <td>a</td>\n      <td>one</td>\n      <td>-1.147403</td>\n      <td>1.206164</td>\n    </tr>\n  </tbody>\n</table>\n</div>"
     },
     "execution_count": 90,
     "metadata": {},
     "output_type": "execute_result"
    }
   ]
  },
  {
   "cell_type": "code",
   "metadata": {
    "id": "Ws5aT8aHYTNe"
   },
   "source": [
    "pieces['b']"
   ],
   "execution_count": 91,
   "outputs": [
    {
     "data": {
      "text/plain": "  key1 key2     data1     data2\n2    b  one -0.319104  0.018095\n3    b  two -1.180257  0.153587",
      "text/html": "<div>\n<style scoped>\n    .dataframe tbody tr th:only-of-type {\n        vertical-align: middle;\n    }\n\n    .dataframe tbody tr th {\n        vertical-align: top;\n    }\n\n    .dataframe thead th {\n        text-align: right;\n    }\n</style>\n<table border=\"1\" class=\"dataframe\">\n  <thead>\n    <tr style=\"text-align: right;\">\n      <th></th>\n      <th>key1</th>\n      <th>key2</th>\n      <th>data1</th>\n      <th>data2</th>\n    </tr>\n  </thead>\n  <tbody>\n    <tr>\n      <th>2</th>\n      <td>b</td>\n      <td>one</td>\n      <td>-0.319104</td>\n      <td>0.018095</td>\n    </tr>\n    <tr>\n      <th>3</th>\n      <td>b</td>\n      <td>two</td>\n      <td>-1.180257</td>\n      <td>0.153587</td>\n    </tr>\n  </tbody>\n</table>\n</div>"
     },
     "execution_count": 91,
     "metadata": {},
     "output_type": "execute_result"
    }
   ]
  },
  {
   "cell_type": "markdown",
   "metadata": {
    "id": "YLcN4nflYTNo"
   },
   "source": [
    "- By default groupby groups on axis=0, but you can group on any of the other axes."
   ]
  },
  {
   "cell_type": "code",
   "metadata": {
    "id": "awQcNLQdYTNo"
   },
   "source": [
    "df.dtypes"
   ],
   "execution_count": 92,
   "outputs": [
    {
     "data": {
      "text/plain": "key1      object\nkey2      object\ndata1    float64\ndata2    float64\ndtype: object"
     },
     "execution_count": 92,
     "metadata": {},
     "output_type": "execute_result"
    }
   ]
  },
  {
   "cell_type": "code",
   "metadata": {
    "id": "f_3lk4qQYTNq"
   },
   "source": [
    "grouped = df.groupby(df.dtypes, axis=1)"
   ],
   "execution_count": 94,
   "outputs": []
  },
  {
   "cell_type": "code",
   "metadata": {
    "id": "2BnyN4VNYTOM"
   },
   "source": [
    "for dtype, group in grouped:\n",
    "    print(dtype)\n",
    "    print(group)"
   ],
   "execution_count": 95,
   "outputs": [
    {
     "name": "stdout",
     "output_type": "stream",
     "text": [
      "float64\n",
      "      data1     data2\n",
      "0  1.072986  0.469145\n",
      "1 -0.125867  0.136712\n",
      "2 -0.319104  0.018095\n",
      "3 -1.180257  0.153587\n",
      "4 -1.147403  1.206164\n",
      "object\n",
      "  key1 key2\n",
      "0    a  one\n",
      "1    a  two\n",
      "2    b  one\n",
      "3    b  two\n",
      "4    a  one\n"
     ]
    }
   ]
  },
  {
   "cell_type": "markdown",
   "metadata": {
    "id": "xpeXI3CTYTOU"
   },
   "source": [
    "### Selecting a Column or Subset of Columns\n",
    "- Indexing a GroupBy object created from a DataFrame with a column name or array of column names has the effect of column subsetting for aggregation"
   ]
  },
  {
   "cell_type": "code",
   "metadata": {
    "id": "joDxV87VYTOU"
   },
   "source": [
    "df.groupby('key1')['data1'] \n",
    "# it is equal to df['data1'].groupby(df['key1'])"
   ],
   "execution_count": null,
   "outputs": []
  },
  {
   "cell_type": "code",
   "metadata": {
    "id": "jQ6hREDFYTOj"
   },
   "source": [
    "df.groupby('key1')[['data2']]\n",
    "# it is equal to df[['data2']].groupby(df['key1'])"
   ],
   "execution_count": null,
   "outputs": []
  },
  {
   "cell_type": "code",
   "metadata": {
    "id": "eUJx1U_YYTOk"
   },
   "source": [
    "df.groupby('key1')['data2'].mean()"
   ],
   "execution_count": null,
   "outputs": []
  },
  {
   "cell_type": "markdown",
   "metadata": {
    "id": "P0kGy_ALYTOv"
   },
   "source": [
    "### Grouping with Dicts and Series\n"
   ]
  },
  {
   "cell_type": "code",
   "metadata": {
    "id": "d95s2i8HYTO0"
   },
   "source": [
    "people = pd.DataFrame(np.random.randn(5, 5),\n",
    "                      columns=['a', 'b', 'c', 'd', 'e'],\n",
    "                      index=['Joe', 'Steve', 'Wes', 'Jim', 'Travis'])"
   ],
   "execution_count": null,
   "outputs": []
  },
  {
   "cell_type": "code",
   "metadata": {
    "id": "OuCda5R8YTO2"
   },
   "source": [
    "people"
   ],
   "execution_count": null,
   "outputs": []
  },
  {
   "cell_type": "code",
   "metadata": {
    "id": "xeIq0rnPYTO3"
   },
   "source": [
    "mapping = {'a': 'red', 'b': 'red', 'c': 'blue',\n",
    "           'd': 'blue', 'e': 'orange'}"
   ],
   "execution_count": null,
   "outputs": []
  },
  {
   "cell_type": "code",
   "metadata": {
    "id": "skGq8rVVYTO4"
   },
   "source": [
    "by_column = people.groupby(mapping, axis=1)"
   ],
   "execution_count": null,
   "outputs": []
  },
  {
   "cell_type": "code",
   "metadata": {
    "id": "1w3uaXvyYTO6"
   },
   "source": [
    "by_column.sum()"
   ],
   "execution_count": null,
   "outputs": []
  },
  {
   "cell_type": "markdown",
   "metadata": {
    "id": "bPMP42FoYTO8"
   },
   "source": [
    "- The same functionality holds for Series, which can be viewed as a fixed-size mapping"
   ]
  },
  {
   "cell_type": "code",
   "metadata": {
    "id": "kt7yoF8nYTO8"
   },
   "source": [
    "map_series = pd.Series(mapping)"
   ],
   "execution_count": null,
   "outputs": []
  },
  {
   "cell_type": "code",
   "metadata": {
    "id": "yM7_El2-YTO9"
   },
   "source": [
    "map_series"
   ],
   "execution_count": null,
   "outputs": []
  },
  {
   "cell_type": "code",
   "metadata": {
    "id": "ZJNvH0QnYTO-"
   },
   "source": [
    "by_columnSeries = people.groupby(mapping, axis=1)"
   ],
   "execution_count": null,
   "outputs": []
  },
  {
   "cell_type": "code",
   "metadata": {
    "id": "6vniNd9xYTO_"
   },
   "source": [
    "by_columnSeries.mean()"
   ],
   "execution_count": null,
   "outputs": []
  },
  {
   "cell_type": "markdown",
   "metadata": {
    "id": "u6UcusvrYTO_"
   },
   "source": [
    "### Grouping with Functions\n",
    "- Any function passed as a group key will be called once per index value, with the return values being used as the group names. \n"
   ]
  },
  {
   "cell_type": "code",
   "metadata": {
    "id": "YMfy_7k8YTPA"
   },
   "source": [
    "people"
   ],
   "execution_count": null,
   "outputs": []
  },
  {
   "cell_type": "code",
   "metadata": {
    "id": "q4LCfHvgYTPB"
   },
   "source": [
    "people.groupby(len).sum()"
   ],
   "execution_count": null,
   "outputs": []
  },
  {
   "cell_type": "markdown",
   "metadata": {
    "id": "vFITTynWYTPC"
   },
   "source": [
    "- Mixing functions with arrays, dicts, or Series is not a problem"
   ]
  },
  {
   "cell_type": "code",
   "metadata": {
    "id": "tnyKEDhbYTPD"
   },
   "source": [
    "key_list = ['one', 'one', 'one', 'two', 'two']\n",
    "people.groupby([len, key_list]).min()"
   ],
   "execution_count": null,
   "outputs": []
  },
  {
   "cell_type": "markdown",
   "metadata": {
    "id": "z4NEmorWYTPJ"
   },
   "source": [
    "### Data Aggregation\n",
    "\n",
    "<img src=\"https://drive.google.com/uc?id=1Azj6fJq9KLaSZoA0GSLl2OwJCUzw-Ba2\" width=500>\n",
    "\n",
    "- Aggregations refer to any data transformation that produces scalar values from arrays. \n",
    "\n",
    "- Many common aggregations, such as those found in the above table, have optimized implementations. \n",
    "\n",
    "- You are not limited to only this set of methods.\n",
    "    - For example quantile is not explicitly implemented for GroupBy, it is a Series method and thus available for use."
   ]
  },
  {
   "cell_type": "code",
   "metadata": {
    "id": "4LNIuBJAYTPJ"
   },
   "source": [
    "grouped = df.groupby('key1')\n",
    "grouped['data1'].quantile()"
   ],
   "execution_count": null,
   "outputs": []
  },
  {
   "cell_type": "markdown",
   "metadata": {
    "id": "9thHRVRdYTPL"
   },
   "source": [
    "-  you can implement a custom function\n",
    "- you have to pass the function to the agg() method"
   ]
  },
  {
   "cell_type": "code",
   "metadata": {
    "id": "f5Ah5elCYTPL"
   },
   "source": [
    "def peak_to_peak(arr):\n",
    "    return arr.max() - arr.min()"
   ],
   "execution_count": null,
   "outputs": []
  },
  {
   "cell_type": "code",
   "metadata": {
    "id": "XY_JGNQuYTPM"
   },
   "source": [
    "grouped = df.groupby('key1')"
   ],
   "execution_count": null,
   "outputs": []
  },
  {
   "cell_type": "code",
   "metadata": {
    "id": "PLj-e0U8YTPN"
   },
   "source": [
    "grouped['data1'].agg(peak_to_peak)"
   ],
   "execution_count": null,
   "outputs": []
  },
  {
   "cell_type": "code",
   "metadata": {
    "id": "YqseUBgIYTPO"
   },
   "source": [
    "#Note that the method describes works applied to groups\n",
    "grouped.describe()"
   ],
   "execution_count": null,
   "outputs": []
  },
  {
   "cell_type": "markdown",
   "metadata": {
    "id": "4XP5pxzQYTPP"
   },
   "source": [
    "## [BONUS] Column-Wise and Multiple Function Application"
   ]
  },
  {
   "cell_type": "code",
   "metadata": {
    "id": "VF8pOUMWYTPP"
   },
   "source": [
    "#caricare il file su colab\n",
    "tips = pd.read_csv(\"tips.csv\")"
   ],
   "execution_count": 101,
   "outputs": []
  },
  {
   "cell_type": "code",
   "metadata": {
    "id": "A1EI70cvYTPR"
   },
   "source": [
    "tips.head(10)"
   ],
   "execution_count": 102,
   "outputs": [
    {
     "data": {
      "text/plain": "            Unnamed: 0     SPX\n0  1990-02-01 00:00:00  328.79\n1  1990-02-02 00:00:00  330.92\n2  1990-02-05 00:00:00  331.85\n3  1990-02-06 00:00:00  329.66\n4  1990-02-07 00:00:00  333.75\n5  1990-02-08 00:00:00  332.96\n6  1990-02-09 00:00:00  333.62\n7  1990-02-12 00:00:00  330.08\n8  1990-02-13 00:00:00  331.02\n9  1990-02-14 00:00:00  332.01",
      "text/html": "<div>\n<style scoped>\n    .dataframe tbody tr th:only-of-type {\n        vertical-align: middle;\n    }\n\n    .dataframe tbody tr th {\n        vertical-align: top;\n    }\n\n    .dataframe thead th {\n        text-align: right;\n    }\n</style>\n<table border=\"1\" class=\"dataframe\">\n  <thead>\n    <tr style=\"text-align: right;\">\n      <th></th>\n      <th>Unnamed: 0</th>\n      <th>SPX</th>\n    </tr>\n  </thead>\n  <tbody>\n    <tr>\n      <th>0</th>\n      <td>1990-02-01 00:00:00</td>\n      <td>328.79</td>\n    </tr>\n    <tr>\n      <th>1</th>\n      <td>1990-02-02 00:00:00</td>\n      <td>330.92</td>\n    </tr>\n    <tr>\n      <th>2</th>\n      <td>1990-02-05 00:00:00</td>\n      <td>331.85</td>\n    </tr>\n    <tr>\n      <th>3</th>\n      <td>1990-02-06 00:00:00</td>\n      <td>329.66</td>\n    </tr>\n    <tr>\n      <th>4</th>\n      <td>1990-02-07 00:00:00</td>\n      <td>333.75</td>\n    </tr>\n    <tr>\n      <th>5</th>\n      <td>1990-02-08 00:00:00</td>\n      <td>332.96</td>\n    </tr>\n    <tr>\n      <th>6</th>\n      <td>1990-02-09 00:00:00</td>\n      <td>333.62</td>\n    </tr>\n    <tr>\n      <th>7</th>\n      <td>1990-02-12 00:00:00</td>\n      <td>330.08</td>\n    </tr>\n    <tr>\n      <th>8</th>\n      <td>1990-02-13 00:00:00</td>\n      <td>331.02</td>\n    </tr>\n    <tr>\n      <th>9</th>\n      <td>1990-02-14 00:00:00</td>\n      <td>332.01</td>\n    </tr>\n  </tbody>\n</table>\n</div>"
     },
     "execution_count": 102,
     "metadata": {},
     "output_type": "execute_result"
    }
   ]
  },
  {
   "cell_type": "code",
   "metadata": {
    "id": "0yFb2Ec_YTPS"
   },
   "source": [
    "tips.shape"
   ],
   "execution_count": null,
   "outputs": []
  },
  {
   "cell_type": "code",
   "metadata": {
    "id": "mmRjIqyWYTPU"
   },
   "source": [
    "tips['tip_pct'] = tips['tip'] / tips['total_bill']"
   ],
   "execution_count": null,
   "outputs": []
  },
  {
   "cell_type": "code",
   "metadata": {
    "id": "SOSOLKibYTPV"
   },
   "source": [
    "tips.head(10)"
   ],
   "execution_count": null,
   "outputs": []
  },
  {
   "cell_type": "markdown",
   "metadata": {
    "id": "d58IbLv3YTPW"
   },
   "source": [
    "- aggregating a Series or all of the columns of a DataFrame is a matter of using aggregate with the desired function or calling a method like mean or std. \n",
    "- you may want to aggregate using a different function depending on the column, or multiple functions at once."
   ]
  },
  {
   "cell_type": "code",
   "metadata": {
    "id": "6SexqnbTYTPW"
   },
   "source": [
    "#this is a simple grouping\n",
    "grouped = tips.groupby(['day', 'smoker'])"
   ],
   "execution_count": null,
   "outputs": []
  },
  {
   "cell_type": "code",
   "metadata": {
    "id": "hAz3ou0fYTPX"
   },
   "source": [
    "grouped_pct = grouped['tip_pct']"
   ],
   "execution_count": null,
   "outputs": []
  },
  {
   "cell_type": "code",
   "metadata": {
    "id": "rcVj-2DyYTPY"
   },
   "source": [
    "# for simple statistics, you can pass the name of the function as a string\n",
    "\n",
    "grouped_pct.agg('mean')"
   ],
   "execution_count": null,
   "outputs": []
  },
  {
   "cell_type": "code",
   "metadata": {
    "id": "88yJDO2YYTPZ"
   },
   "source": [
    "# If you pass a list of functions or function names , you get back a DataFrame with column names taken from the functions\n",
    "grouped_pct.agg(['mean', 'std', peak_to_peak])"
   ],
   "execution_count": null,
   "outputs": []
  },
  {
   "cell_type": "code",
   "metadata": {
    "id": "tT60yeKqYTPb"
   },
   "source": [
    "#\n",
    "grouped_pct.agg([('Media', 'mean'), ('Deviazione std', np.std)])"
   ],
   "execution_count": null,
   "outputs": []
  },
  {
   "cell_type": "code",
   "metadata": {
    "id": "YCdrNkkxYTPd"
   },
   "source": [
    "#you can specify a list of functions to apply to all of the columns or different functions per column\n",
    "#all columns\n",
    "functions = ['count', 'mean', 'max']"
   ],
   "execution_count": null,
   "outputs": []
  },
  {
   "cell_type": "code",
   "metadata": {
    "id": "QJNYXAkdYTPf"
   },
   "source": [
    "grouped['tip_pct', 'total_bill'].agg(functions)"
   ],
   "execution_count": null,
   "outputs": []
  },
  {
   "cell_type": "code",
   "metadata": {
    "id": "o2cN6mVFYTPh"
   },
   "source": [
    "#aggregation on a selection of the columns"
   ],
   "execution_count": null,
   "outputs": []
  },
  {
   "cell_type": "code",
   "metadata": {
    "id": "wfRcaGiGYTPi"
   },
   "source": [
    "grouped.agg({'tip' : np.max, 'size' : 'sum'})"
   ],
   "execution_count": null,
   "outputs": []
  },
  {
   "cell_type": "markdown",
   "metadata": {
    "id": "yfSLd-ZoYTPk"
   },
   "source": [
    "## [BONUS] Apply: General split-apply-combine\n",
    "\n",
    "- We want to select the top five values by group"
   ]
  },
  {
   "cell_type": "code",
   "metadata": {
    "id": "d8_eX0-oYTPl"
   },
   "source": [
    "def top(df, n=5, column='tip_pct'):\n",
    "    return df.sort_values(by=column)[-n:]"
   ],
   "execution_count": null,
   "outputs": []
  },
  {
   "cell_type": "code",
   "metadata": {
    "id": "SFmTDJ8DYTPo"
   },
   "source": [
    "top(tips, n=6)"
   ],
   "execution_count": null,
   "outputs": []
  },
  {
   "cell_type": "code",
   "metadata": {
    "id": "MGUwRY2tYTPp"
   },
   "source": [
    "tips[[\"day\",\"total_bill\"]].groupby([\"day\"]).max()"
   ],
   "execution_count": null,
   "outputs": []
  },
  {
   "cell_type": "code",
   "metadata": {
    "id": "AOXZkJzeYTPq"
   },
   "source": [
    "tips[[\"day\",\"total_bill\"]].groupby(\"day\").apply(top, column=\"total_bill\")"
   ],
   "execution_count": null,
   "outputs": []
  },
  {
   "cell_type": "code",
   "metadata": {
    "id": "5_mY2ZuUYTPs"
   },
   "source": [
    "tips[[\"day\",\"total_bill\"]].groupby(\"day\").apply(top, n=1, column=\"total_bill\")"
   ],
   "execution_count": null,
   "outputs": []
  },
  {
   "cell_type": "markdown",
   "metadata": {
    "id": "TPuXB5D4YTPt"
   },
   "source": [
    "## Pivot Tables \n",
    "\n",
    "- A pivot table \n",
    "    - aggregates a table of data by one or more keys, \n",
    "    - arranges the data in a rectangle with some of the group keys along the rows and the columns. \n"
   ]
  },
  {
   "cell_type": "code",
   "metadata": {
    "id": "KAfepx61YTPu"
   },
   "source": [
    "tips.head(10)"
   ],
   "execution_count": 103,
   "outputs": [
    {
     "data": {
      "text/plain": "            Unnamed: 0     SPX\n0  1990-02-01 00:00:00  328.79\n1  1990-02-02 00:00:00  330.92\n2  1990-02-05 00:00:00  331.85\n3  1990-02-06 00:00:00  329.66\n4  1990-02-07 00:00:00  333.75\n5  1990-02-08 00:00:00  332.96\n6  1990-02-09 00:00:00  333.62\n7  1990-02-12 00:00:00  330.08\n8  1990-02-13 00:00:00  331.02\n9  1990-02-14 00:00:00  332.01",
      "text/html": "<div>\n<style scoped>\n    .dataframe tbody tr th:only-of-type {\n        vertical-align: middle;\n    }\n\n    .dataframe tbody tr th {\n        vertical-align: top;\n    }\n\n    .dataframe thead th {\n        text-align: right;\n    }\n</style>\n<table border=\"1\" class=\"dataframe\">\n  <thead>\n    <tr style=\"text-align: right;\">\n      <th></th>\n      <th>Unnamed: 0</th>\n      <th>SPX</th>\n    </tr>\n  </thead>\n  <tbody>\n    <tr>\n      <th>0</th>\n      <td>1990-02-01 00:00:00</td>\n      <td>328.79</td>\n    </tr>\n    <tr>\n      <th>1</th>\n      <td>1990-02-02 00:00:00</td>\n      <td>330.92</td>\n    </tr>\n    <tr>\n      <th>2</th>\n      <td>1990-02-05 00:00:00</td>\n      <td>331.85</td>\n    </tr>\n    <tr>\n      <th>3</th>\n      <td>1990-02-06 00:00:00</td>\n      <td>329.66</td>\n    </tr>\n    <tr>\n      <th>4</th>\n      <td>1990-02-07 00:00:00</td>\n      <td>333.75</td>\n    </tr>\n    <tr>\n      <th>5</th>\n      <td>1990-02-08 00:00:00</td>\n      <td>332.96</td>\n    </tr>\n    <tr>\n      <th>6</th>\n      <td>1990-02-09 00:00:00</td>\n      <td>333.62</td>\n    </tr>\n    <tr>\n      <th>7</th>\n      <td>1990-02-12 00:00:00</td>\n      <td>330.08</td>\n    </tr>\n    <tr>\n      <th>8</th>\n      <td>1990-02-13 00:00:00</td>\n      <td>331.02</td>\n    </tr>\n    <tr>\n      <th>9</th>\n      <td>1990-02-14 00:00:00</td>\n      <td>332.01</td>\n    </tr>\n  </tbody>\n</table>\n</div>"
     },
     "execution_count": 103,
     "metadata": {},
     "output_type": "execute_result"
    }
   ]
  },
  {
   "cell_type": "code",
   "metadata": {
    "id": "A9qeUNCeYTPv"
   },
   "source": [
    "tips.pivot_table(index=['day', 'smoker']) # the default aggregation type is mean"
   ],
   "execution_count": 104,
   "outputs": [
    {
     "ename": "KeyError",
     "evalue": "'day'",
     "output_type": "error",
     "traceback": [
      "\u001B[0;31m---------------------------------------------------------------------------\u001B[0m",
      "\u001B[0;31mKeyError\u001B[0m                                  Traceback (most recent call last)",
      "Cell \u001B[0;32mIn[104], line 1\u001B[0m\n\u001B[0;32m----> 1\u001B[0m \u001B[43mtips\u001B[49m\u001B[38;5;241;43m.\u001B[39;49m\u001B[43mpivot_table\u001B[49m\u001B[43m(\u001B[49m\u001B[43mindex\u001B[49m\u001B[38;5;241;43m=\u001B[39;49m\u001B[43m[\u001B[49m\u001B[38;5;124;43m'\u001B[39;49m\u001B[38;5;124;43mday\u001B[39;49m\u001B[38;5;124;43m'\u001B[39;49m\u001B[43m,\u001B[49m\u001B[43m \u001B[49m\u001B[38;5;124;43m'\u001B[39;49m\u001B[38;5;124;43msmoker\u001B[39;49m\u001B[38;5;124;43m'\u001B[39;49m\u001B[43m]\u001B[49m\u001B[43m)\u001B[49m \u001B[38;5;66;03m# the default aggregation type is mean\u001B[39;00m\n",
      "File \u001B[0;32m~/PycharmProjects/pythonProject/venv/lib/python3.9/site-packages/pandas/core/frame.py:8731\u001B[0m, in \u001B[0;36mDataFrame.pivot_table\u001B[0;34m(self, values, index, columns, aggfunc, fill_value, margins, dropna, margins_name, observed, sort)\u001B[0m\n\u001B[1;32m   8714\u001B[0m \u001B[38;5;129m@Substitution\u001B[39m(\u001B[38;5;124m\"\u001B[39m\u001B[38;5;124m\"\u001B[39m)\n\u001B[1;32m   8715\u001B[0m \u001B[38;5;129m@Appender\u001B[39m(_shared_docs[\u001B[38;5;124m\"\u001B[39m\u001B[38;5;124mpivot_table\u001B[39m\u001B[38;5;124m\"\u001B[39m])\n\u001B[1;32m   8716\u001B[0m \u001B[38;5;28;01mdef\u001B[39;00m \u001B[38;5;21mpivot_table\u001B[39m(\n\u001B[0;32m   (...)\u001B[0m\n\u001B[1;32m   8727\u001B[0m     sort\u001B[38;5;241m=\u001B[39m\u001B[38;5;28;01mTrue\u001B[39;00m,\n\u001B[1;32m   8728\u001B[0m ) \u001B[38;5;241m-\u001B[39m\u001B[38;5;241m>\u001B[39m DataFrame:\n\u001B[1;32m   8729\u001B[0m     \u001B[38;5;28;01mfrom\u001B[39;00m \u001B[38;5;21;01mpandas\u001B[39;00m\u001B[38;5;21;01m.\u001B[39;00m\u001B[38;5;21;01mcore\u001B[39;00m\u001B[38;5;21;01m.\u001B[39;00m\u001B[38;5;21;01mreshape\u001B[39;00m\u001B[38;5;21;01m.\u001B[39;00m\u001B[38;5;21;01mpivot\u001B[39;00m \u001B[38;5;28;01mimport\u001B[39;00m pivot_table\n\u001B[0;32m-> 8731\u001B[0m     \u001B[38;5;28;01mreturn\u001B[39;00m \u001B[43mpivot_table\u001B[49m\u001B[43m(\u001B[49m\n\u001B[1;32m   8732\u001B[0m \u001B[43m        \u001B[49m\u001B[38;5;28;43mself\u001B[39;49m\u001B[43m,\u001B[49m\n\u001B[1;32m   8733\u001B[0m \u001B[43m        \u001B[49m\u001B[43mvalues\u001B[49m\u001B[38;5;241;43m=\u001B[39;49m\u001B[43mvalues\u001B[49m\u001B[43m,\u001B[49m\n\u001B[1;32m   8734\u001B[0m \u001B[43m        \u001B[49m\u001B[43mindex\u001B[49m\u001B[38;5;241;43m=\u001B[39;49m\u001B[43mindex\u001B[49m\u001B[43m,\u001B[49m\n\u001B[1;32m   8735\u001B[0m \u001B[43m        \u001B[49m\u001B[43mcolumns\u001B[49m\u001B[38;5;241;43m=\u001B[39;49m\u001B[43mcolumns\u001B[49m\u001B[43m,\u001B[49m\n\u001B[1;32m   8736\u001B[0m \u001B[43m        \u001B[49m\u001B[43maggfunc\u001B[49m\u001B[38;5;241;43m=\u001B[39;49m\u001B[43maggfunc\u001B[49m\u001B[43m,\u001B[49m\n\u001B[1;32m   8737\u001B[0m \u001B[43m        \u001B[49m\u001B[43mfill_value\u001B[49m\u001B[38;5;241;43m=\u001B[39;49m\u001B[43mfill_value\u001B[49m\u001B[43m,\u001B[49m\n\u001B[1;32m   8738\u001B[0m \u001B[43m        \u001B[49m\u001B[43mmargins\u001B[49m\u001B[38;5;241;43m=\u001B[39;49m\u001B[43mmargins\u001B[49m\u001B[43m,\u001B[49m\n\u001B[1;32m   8739\u001B[0m \u001B[43m        \u001B[49m\u001B[43mdropna\u001B[49m\u001B[38;5;241;43m=\u001B[39;49m\u001B[43mdropna\u001B[49m\u001B[43m,\u001B[49m\n\u001B[1;32m   8740\u001B[0m \u001B[43m        \u001B[49m\u001B[43mmargins_name\u001B[49m\u001B[38;5;241;43m=\u001B[39;49m\u001B[43mmargins_name\u001B[49m\u001B[43m,\u001B[49m\n\u001B[1;32m   8741\u001B[0m \u001B[43m        \u001B[49m\u001B[43mobserved\u001B[49m\u001B[38;5;241;43m=\u001B[39;49m\u001B[43mobserved\u001B[49m\u001B[43m,\u001B[49m\n\u001B[1;32m   8742\u001B[0m \u001B[43m        \u001B[49m\u001B[43msort\u001B[49m\u001B[38;5;241;43m=\u001B[39;49m\u001B[43msort\u001B[49m\u001B[43m,\u001B[49m\n\u001B[1;32m   8743\u001B[0m \u001B[43m    \u001B[49m\u001B[43m)\u001B[49m\n",
      "File \u001B[0;32m~/PycharmProjects/pythonProject/venv/lib/python3.9/site-packages/pandas/core/reshape/pivot.py:97\u001B[0m, in \u001B[0;36mpivot_table\u001B[0;34m(data, values, index, columns, aggfunc, fill_value, margins, dropna, margins_name, observed, sort)\u001B[0m\n\u001B[1;32m     94\u001B[0m     table \u001B[38;5;241m=\u001B[39m concat(pieces, keys\u001B[38;5;241m=\u001B[39mkeys, axis\u001B[38;5;241m=\u001B[39m\u001B[38;5;241m1\u001B[39m)\n\u001B[1;32m     95\u001B[0m     \u001B[38;5;28;01mreturn\u001B[39;00m table\u001B[38;5;241m.\u001B[39m__finalize__(data, method\u001B[38;5;241m=\u001B[39m\u001B[38;5;124m\"\u001B[39m\u001B[38;5;124mpivot_table\u001B[39m\u001B[38;5;124m\"\u001B[39m)\n\u001B[0;32m---> 97\u001B[0m table \u001B[38;5;241m=\u001B[39m \u001B[43m__internal_pivot_table\u001B[49m\u001B[43m(\u001B[49m\n\u001B[1;32m     98\u001B[0m \u001B[43m    \u001B[49m\u001B[43mdata\u001B[49m\u001B[43m,\u001B[49m\n\u001B[1;32m     99\u001B[0m \u001B[43m    \u001B[49m\u001B[43mvalues\u001B[49m\u001B[43m,\u001B[49m\n\u001B[1;32m    100\u001B[0m \u001B[43m    \u001B[49m\u001B[43mindex\u001B[49m\u001B[43m,\u001B[49m\n\u001B[1;32m    101\u001B[0m \u001B[43m    \u001B[49m\u001B[43mcolumns\u001B[49m\u001B[43m,\u001B[49m\n\u001B[1;32m    102\u001B[0m \u001B[43m    \u001B[49m\u001B[43maggfunc\u001B[49m\u001B[43m,\u001B[49m\n\u001B[1;32m    103\u001B[0m \u001B[43m    \u001B[49m\u001B[43mfill_value\u001B[49m\u001B[43m,\u001B[49m\n\u001B[1;32m    104\u001B[0m \u001B[43m    \u001B[49m\u001B[43mmargins\u001B[49m\u001B[43m,\u001B[49m\n\u001B[1;32m    105\u001B[0m \u001B[43m    \u001B[49m\u001B[43mdropna\u001B[49m\u001B[43m,\u001B[49m\n\u001B[1;32m    106\u001B[0m \u001B[43m    \u001B[49m\u001B[43mmargins_name\u001B[49m\u001B[43m,\u001B[49m\n\u001B[1;32m    107\u001B[0m \u001B[43m    \u001B[49m\u001B[43mobserved\u001B[49m\u001B[43m,\u001B[49m\n\u001B[1;32m    108\u001B[0m \u001B[43m    \u001B[49m\u001B[43msort\u001B[49m\u001B[43m,\u001B[49m\n\u001B[1;32m    109\u001B[0m \u001B[43m\u001B[49m\u001B[43m)\u001B[49m\n\u001B[1;32m    110\u001B[0m \u001B[38;5;28;01mreturn\u001B[39;00m table\u001B[38;5;241m.\u001B[39m__finalize__(data, method\u001B[38;5;241m=\u001B[39m\u001B[38;5;124m\"\u001B[39m\u001B[38;5;124mpivot_table\u001B[39m\u001B[38;5;124m\"\u001B[39m)\n",
      "File \u001B[0;32m~/PycharmProjects/pythonProject/venv/lib/python3.9/site-packages/pandas/core/reshape/pivot.py:166\u001B[0m, in \u001B[0;36m__internal_pivot_table\u001B[0;34m(data, values, index, columns, aggfunc, fill_value, margins, dropna, margins_name, observed, sort)\u001B[0m\n\u001B[1;32m    163\u001B[0m             \u001B[38;5;28;01mpass\u001B[39;00m\n\u001B[1;32m    164\u001B[0m     values \u001B[38;5;241m=\u001B[39m \u001B[38;5;28mlist\u001B[39m(values)\n\u001B[0;32m--> 166\u001B[0m grouped \u001B[38;5;241m=\u001B[39m \u001B[43mdata\u001B[49m\u001B[38;5;241;43m.\u001B[39;49m\u001B[43mgroupby\u001B[49m\u001B[43m(\u001B[49m\u001B[43mkeys\u001B[49m\u001B[43m,\u001B[49m\u001B[43m \u001B[49m\u001B[43mobserved\u001B[49m\u001B[38;5;241;43m=\u001B[39;49m\u001B[43mobserved\u001B[49m\u001B[43m,\u001B[49m\u001B[43m \u001B[49m\u001B[43msort\u001B[49m\u001B[38;5;241;43m=\u001B[39;49m\u001B[43msort\u001B[49m\u001B[43m)\u001B[49m\n\u001B[1;32m    167\u001B[0m msg \u001B[38;5;241m=\u001B[39m (\n\u001B[1;32m    168\u001B[0m     \u001B[38;5;124m\"\u001B[39m\u001B[38;5;124mpivot_table dropped a column because it failed to aggregate. This behavior \u001B[39m\u001B[38;5;124m\"\u001B[39m\n\u001B[1;32m    169\u001B[0m     \u001B[38;5;124m\"\u001B[39m\u001B[38;5;124mis deprecated and will raise in a future version of pandas. Select only the \u001B[39m\u001B[38;5;124m\"\u001B[39m\n\u001B[1;32m    170\u001B[0m     \u001B[38;5;124m\"\u001B[39m\u001B[38;5;124mcolumns that can be aggregated.\u001B[39m\u001B[38;5;124m\"\u001B[39m\n\u001B[1;32m    171\u001B[0m )\n\u001B[1;32m    172\u001B[0m \u001B[38;5;28;01mwith\u001B[39;00m rewrite_warning(\n\u001B[1;32m    173\u001B[0m     target_message\u001B[38;5;241m=\u001B[39m\u001B[38;5;124m\"\u001B[39m\u001B[38;5;124mThe default value of numeric_only\u001B[39m\u001B[38;5;124m\"\u001B[39m,\n\u001B[1;32m    174\u001B[0m     target_category\u001B[38;5;241m=\u001B[39m\u001B[38;5;167;01mFutureWarning\u001B[39;00m,\n\u001B[1;32m    175\u001B[0m     new_message\u001B[38;5;241m=\u001B[39mmsg,\n\u001B[1;32m    176\u001B[0m ):\n",
      "File \u001B[0;32m~/PycharmProjects/pythonProject/venv/lib/python3.9/site-packages/pandas/core/frame.py:8402\u001B[0m, in \u001B[0;36mDataFrame.groupby\u001B[0;34m(self, by, axis, level, as_index, sort, group_keys, squeeze, observed, dropna)\u001B[0m\n\u001B[1;32m   8399\u001B[0m     \u001B[38;5;28;01mraise\u001B[39;00m \u001B[38;5;167;01mTypeError\u001B[39;00m(\u001B[38;5;124m\"\u001B[39m\u001B[38;5;124mYou have to supply one of \u001B[39m\u001B[38;5;124m'\u001B[39m\u001B[38;5;124mby\u001B[39m\u001B[38;5;124m'\u001B[39m\u001B[38;5;124m and \u001B[39m\u001B[38;5;124m'\u001B[39m\u001B[38;5;124mlevel\u001B[39m\u001B[38;5;124m'\u001B[39m\u001B[38;5;124m\"\u001B[39m)\n\u001B[1;32m   8400\u001B[0m axis \u001B[38;5;241m=\u001B[39m \u001B[38;5;28mself\u001B[39m\u001B[38;5;241m.\u001B[39m_get_axis_number(axis)\n\u001B[0;32m-> 8402\u001B[0m \u001B[38;5;28;01mreturn\u001B[39;00m \u001B[43mDataFrameGroupBy\u001B[49m\u001B[43m(\u001B[49m\n\u001B[1;32m   8403\u001B[0m \u001B[43m    \u001B[49m\u001B[43mobj\u001B[49m\u001B[38;5;241;43m=\u001B[39;49m\u001B[38;5;28;43mself\u001B[39;49m\u001B[43m,\u001B[49m\n\u001B[1;32m   8404\u001B[0m \u001B[43m    \u001B[49m\u001B[43mkeys\u001B[49m\u001B[38;5;241;43m=\u001B[39;49m\u001B[43mby\u001B[49m\u001B[43m,\u001B[49m\n\u001B[1;32m   8405\u001B[0m \u001B[43m    \u001B[49m\u001B[43maxis\u001B[49m\u001B[38;5;241;43m=\u001B[39;49m\u001B[43maxis\u001B[49m\u001B[43m,\u001B[49m\n\u001B[1;32m   8406\u001B[0m \u001B[43m    \u001B[49m\u001B[43mlevel\u001B[49m\u001B[38;5;241;43m=\u001B[39;49m\u001B[43mlevel\u001B[49m\u001B[43m,\u001B[49m\n\u001B[1;32m   8407\u001B[0m \u001B[43m    \u001B[49m\u001B[43mas_index\u001B[49m\u001B[38;5;241;43m=\u001B[39;49m\u001B[43mas_index\u001B[49m\u001B[43m,\u001B[49m\n\u001B[1;32m   8408\u001B[0m \u001B[43m    \u001B[49m\u001B[43msort\u001B[49m\u001B[38;5;241;43m=\u001B[39;49m\u001B[43msort\u001B[49m\u001B[43m,\u001B[49m\n\u001B[1;32m   8409\u001B[0m \u001B[43m    \u001B[49m\u001B[43mgroup_keys\u001B[49m\u001B[38;5;241;43m=\u001B[39;49m\u001B[43mgroup_keys\u001B[49m\u001B[43m,\u001B[49m\n\u001B[1;32m   8410\u001B[0m \u001B[43m    \u001B[49m\u001B[43msqueeze\u001B[49m\u001B[38;5;241;43m=\u001B[39;49m\u001B[43msqueeze\u001B[49m\u001B[43m,\u001B[49m\n\u001B[1;32m   8411\u001B[0m \u001B[43m    \u001B[49m\u001B[43mobserved\u001B[49m\u001B[38;5;241;43m=\u001B[39;49m\u001B[43mobserved\u001B[49m\u001B[43m,\u001B[49m\n\u001B[1;32m   8412\u001B[0m \u001B[43m    \u001B[49m\u001B[43mdropna\u001B[49m\u001B[38;5;241;43m=\u001B[39;49m\u001B[43mdropna\u001B[49m\u001B[43m,\u001B[49m\n\u001B[1;32m   8413\u001B[0m \u001B[43m\u001B[49m\u001B[43m)\u001B[49m\n",
      "File \u001B[0;32m~/PycharmProjects/pythonProject/venv/lib/python3.9/site-packages/pandas/core/groupby/groupby.py:965\u001B[0m, in \u001B[0;36mGroupBy.__init__\u001B[0;34m(self, obj, keys, axis, level, grouper, exclusions, selection, as_index, sort, group_keys, squeeze, observed, mutated, dropna)\u001B[0m\n\u001B[1;32m    962\u001B[0m \u001B[38;5;28;01mif\u001B[39;00m grouper \u001B[38;5;129;01mis\u001B[39;00m \u001B[38;5;28;01mNone\u001B[39;00m:\n\u001B[1;32m    963\u001B[0m     \u001B[38;5;28;01mfrom\u001B[39;00m \u001B[38;5;21;01mpandas\u001B[39;00m\u001B[38;5;21;01m.\u001B[39;00m\u001B[38;5;21;01mcore\u001B[39;00m\u001B[38;5;21;01m.\u001B[39;00m\u001B[38;5;21;01mgroupby\u001B[39;00m\u001B[38;5;21;01m.\u001B[39;00m\u001B[38;5;21;01mgrouper\u001B[39;00m \u001B[38;5;28;01mimport\u001B[39;00m get_grouper\n\u001B[0;32m--> 965\u001B[0m     grouper, exclusions, obj \u001B[38;5;241m=\u001B[39m \u001B[43mget_grouper\u001B[49m\u001B[43m(\u001B[49m\n\u001B[1;32m    966\u001B[0m \u001B[43m        \u001B[49m\u001B[43mobj\u001B[49m\u001B[43m,\u001B[49m\n\u001B[1;32m    967\u001B[0m \u001B[43m        \u001B[49m\u001B[43mkeys\u001B[49m\u001B[43m,\u001B[49m\n\u001B[1;32m    968\u001B[0m \u001B[43m        \u001B[49m\u001B[43maxis\u001B[49m\u001B[38;5;241;43m=\u001B[39;49m\u001B[43maxis\u001B[49m\u001B[43m,\u001B[49m\n\u001B[1;32m    969\u001B[0m \u001B[43m        \u001B[49m\u001B[43mlevel\u001B[49m\u001B[38;5;241;43m=\u001B[39;49m\u001B[43mlevel\u001B[49m\u001B[43m,\u001B[49m\n\u001B[1;32m    970\u001B[0m \u001B[43m        \u001B[49m\u001B[43msort\u001B[49m\u001B[38;5;241;43m=\u001B[39;49m\u001B[43msort\u001B[49m\u001B[43m,\u001B[49m\n\u001B[1;32m    971\u001B[0m \u001B[43m        \u001B[49m\u001B[43mobserved\u001B[49m\u001B[38;5;241;43m=\u001B[39;49m\u001B[43mobserved\u001B[49m\u001B[43m,\u001B[49m\n\u001B[1;32m    972\u001B[0m \u001B[43m        \u001B[49m\u001B[43mmutated\u001B[49m\u001B[38;5;241;43m=\u001B[39;49m\u001B[38;5;28;43mself\u001B[39;49m\u001B[38;5;241;43m.\u001B[39;49m\u001B[43mmutated\u001B[49m\u001B[43m,\u001B[49m\n\u001B[1;32m    973\u001B[0m \u001B[43m        \u001B[49m\u001B[43mdropna\u001B[49m\u001B[38;5;241;43m=\u001B[39;49m\u001B[38;5;28;43mself\u001B[39;49m\u001B[38;5;241;43m.\u001B[39;49m\u001B[43mdropna\u001B[49m\u001B[43m,\u001B[49m\n\u001B[1;32m    974\u001B[0m \u001B[43m    \u001B[49m\u001B[43m)\u001B[49m\n\u001B[1;32m    976\u001B[0m \u001B[38;5;28mself\u001B[39m\u001B[38;5;241m.\u001B[39mobj \u001B[38;5;241m=\u001B[39m obj\n\u001B[1;32m    977\u001B[0m \u001B[38;5;28mself\u001B[39m\u001B[38;5;241m.\u001B[39maxis \u001B[38;5;241m=\u001B[39m obj\u001B[38;5;241m.\u001B[39m_get_axis_number(axis)\n",
      "File \u001B[0;32m~/PycharmProjects/pythonProject/venv/lib/python3.9/site-packages/pandas/core/groupby/grouper.py:888\u001B[0m, in \u001B[0;36mget_grouper\u001B[0;34m(obj, key, axis, level, sort, observed, mutated, validate, dropna)\u001B[0m\n\u001B[1;32m    886\u001B[0m         in_axis, level, gpr \u001B[38;5;241m=\u001B[39m \u001B[38;5;28;01mFalse\u001B[39;00m, gpr, \u001B[38;5;28;01mNone\u001B[39;00m\n\u001B[1;32m    887\u001B[0m     \u001B[38;5;28;01melse\u001B[39;00m:\n\u001B[0;32m--> 888\u001B[0m         \u001B[38;5;28;01mraise\u001B[39;00m \u001B[38;5;167;01mKeyError\u001B[39;00m(gpr)\n\u001B[1;32m    889\u001B[0m \u001B[38;5;28;01melif\u001B[39;00m \u001B[38;5;28misinstance\u001B[39m(gpr, Grouper) \u001B[38;5;129;01mand\u001B[39;00m gpr\u001B[38;5;241m.\u001B[39mkey \u001B[38;5;129;01mis\u001B[39;00m \u001B[38;5;129;01mnot\u001B[39;00m \u001B[38;5;28;01mNone\u001B[39;00m:\n\u001B[1;32m    890\u001B[0m     \u001B[38;5;66;03m# Add key to exclusions\u001B[39;00m\n\u001B[1;32m    891\u001B[0m     exclusions\u001B[38;5;241m.\u001B[39madd(gpr\u001B[38;5;241m.\u001B[39mkey)\n",
      "\u001B[0;31mKeyError\u001B[0m: 'day'"
     ]
    }
   ]
  },
  {
   "cell_type": "code",
   "metadata": {
    "id": "URgrLdrnYTPw"
   },
   "source": [
    "tips.pivot_table(index=['day', 'smoker'], aggfunc='sum') "
   ],
   "execution_count": null,
   "outputs": []
  },
  {
   "cell_type": "code",
   "metadata": {
    "id": "4FvrgRdRYTPy"
   },
   "source": [
    "tips.pivot_table(index=['day', 'size'], columns='smoker') "
   ],
   "execution_count": null,
   "outputs": []
  },
  {
   "cell_type": "code",
   "metadata": {
    "id": "k0vyEDW1YTP5"
   },
   "source": [
    "tips.pivot_table(index=['day', 'size'], columns='smoker', margins=True) "
   ],
   "execution_count": null,
   "outputs": []
  },
  {
   "cell_type": "code",
   "metadata": {
    "id": "2HfUeTXkYTP6"
   },
   "source": [
    "tips.pivot_table(index=['day', 'size'], columns='smoker', margins=True, fill_value=-1000) "
   ],
   "execution_count": null,
   "outputs": []
  },
  {
   "cell_type": "markdown",
   "metadata": {
    "id": "6QO0Yc9nYTP8"
   },
   "source": [
    "## [Bonus] Cross-Tabulations: Crosstab\n",
    "- A cross-tabulation (or crosstab for short) is a special case of a pivot table that computes group frequencies."
   ]
  },
  {
   "cell_type": "code",
   "metadata": {
    "id": "50uhpjW9YTQL"
   },
   "source": [
    "states= ['USA','USA','UK','IT','UK','UK','IT','USA']\n",
    "gender= ['M','F','F','M','M','M','F','M']\n",
    "# Molto utilizzanto\n"
   ],
   "execution_count": null,
   "outputs": []
  },
  {
   "cell_type": "code",
   "metadata": {
    "id": "zjQLiB7sYTQM"
   },
   "source": [
    "data = pd.DataFrame({'states':states,'gender':gender})"
   ],
   "execution_count": null,
   "outputs": []
  },
  {
   "cell_type": "code",
   "metadata": {
    "id": "XJDJasRcYTQN"
   },
   "source": [
    "data"
   ],
   "execution_count": null,
   "outputs": []
  },
  {
   "cell_type": "code",
   "metadata": {
    "id": "fQS5fmoTYTQO"
   },
   "source": [
    "pd.crosstab(data.states, data.gender)"
   ],
   "execution_count": null,
   "outputs": []
  },
  {
   "cell_type": "code",
   "metadata": {
    "id": "3AHx5-0oYTQP"
   },
   "source": [
    "pd.crosstab(data.gender, data.states)"
   ],
   "execution_count": null,
   "outputs": []
  },
  {
   "cell_type": "code",
   "metadata": {
    "id": "3OHJJ3_IYTQR"
   },
   "source": [
    "pd.crosstab(data.gender, data.states, margins=True)"
   ],
   "execution_count": null,
   "outputs": []
  },
  {
   "cell_type": "code",
   "metadata": {
    "id": "81jE7YqbYTQU"
   },
   "source": [],
   "execution_count": null,
   "outputs": []
  }
 ]
}
