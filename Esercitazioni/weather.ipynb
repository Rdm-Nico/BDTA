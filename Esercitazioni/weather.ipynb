{
 "cells": [
  {
   "cell_type": "markdown",
   "source": [
    "# 1\n",
    "Inserire nuove features nel dataset che rappresentino:\n",
    "- escursione termica gionarliera (MaxTemp-MinTemp)\n",
    "- differenza di unimidità (Humidity3pm- Humidity 9am)\n",
    "- vento medio (WindSpeed3pm,WindSpeed9am)\n",
    "\n",
    "Eliminare l'attributo Location e trasformare gli attributi booleani in numerici. Dividere il dataset in train e test (20%). Calcolare che accuratezza si ottiene con un modello randomForest (100 alberi) e confrontarla con un dummyClassifier (strategia stratified)"
   ],
   "metadata": {
    "collapsed": false
   }
  },
  {
   "cell_type": "code",
   "execution_count": null,
   "outputs": [],
   "source": [],
   "metadata": {
    "collapsed": false
   }
  }
 ],
 "metadata": {
  "kernelspec": {
   "display_name": "Python 3",
   "language": "python",
   "name": "python3"
  },
  "language_info": {
   "codemirror_mode": {
    "name": "ipython",
    "version": 2
   },
   "file_extension": ".py",
   "mimetype": "text/x-python",
   "name": "python",
   "nbconvert_exporter": "python",
   "pygments_lexer": "ipython2",
   "version": "2.7.6"
  }
 },
 "nbformat": 4,
 "nbformat_minor": 0
}
