{
 "cells": [
  {
   "cell_type": "markdown",
   "source": [
    "# Pipeline\n",
    "\n",
    "Le pipeline applicano una lista di trasformatori e un estimatore finale.\n",
    "\n",
    "Gli step intermedi di  una pipeline devono sempre essere dei trasformatori, cioè devono implementare sempre  i metodi `fit` e `trasfrom`, l’estimatore finale dovrà solo possedere il metodo `fit`\n",
    "\n",
    "l’obbiettivo della pipeline é quello di assemblare diversi passaggi che possono poi essere cross validati insieme mentre si scelgono i parametri differenti"
   ],
   "metadata": {
    "collapsed": false
   }
  },
  {
   "cell_type": "code",
   "execution_count": 1,
   "outputs": [],
   "source": [
    "import pandas as pd\n",
    "import numpy as np"
   ],
   "metadata": {
    "collapsed": false,
    "ExecuteTime": {
     "start_time": "2023-05-20T18:08:38.823328Z",
     "end_time": "2023-05-20T18:08:39.701356Z"
    }
   }
  },
  {
   "cell_type": "code",
   "execution_count": 2,
   "outputs": [],
   "source": [
    "from sklearn import datasets\n",
    "iris = datasets.load_iris()\n",
    "\n",
    "X = iris.data\n",
    "y = iris.target\n",
    "\n",
    "from sklearn.model_selection import train_test_split\n",
    "\n",
    "X_train, X_valid, y_train, y_valid = train_test_split(X, y, train_size=0.8, test_size=0.2,\n",
    "                                                      random_state=0)\n"
   ],
   "metadata": {
    "collapsed": false,
    "ExecuteTime": {
     "start_time": "2023-05-20T18:08:39.702522Z",
     "end_time": "2023-05-20T18:08:40.211039Z"
    }
   }
  },
  {
   "cell_type": "markdown",
   "source": [
    "# Semplice Pipeline\n",
    "\n",
    "una semplice pipeline potrebbe essere la seguente:\n",
    "\n",
    "- **Trasformatori**\n",
    "    - Scalare i valori tra 0 e 1(MinMaxScaler)\n",
    "    - PCA tenendo due colonne\n",
    "- **Estimatore**\n",
    "    - Logistic Regression"
   ],
   "metadata": {
    "collapsed": false
   }
  },
  {
   "cell_type": "code",
   "execution_count": 3,
   "outputs": [
    {
     "name": "stdout",
     "output_type": "stream",
     "text": [
      "[Pipeline]  (step 1 of 2) Processing preprocessing_transformer, total=   0.0s\n",
      "[Pipeline] ............. (step 2 of 2) Processing model, total=   0.0s\n",
      "Accuracy Score: 0.8666666666666667\n"
     ]
    }
   ],
   "source": [
    "from sklearn.pipeline import Pipeline\n",
    "from sklearn.decomposition import PCA\n",
    "from sklearn.preprocessing import MinMaxScaler\n",
    "from sklearn.linear_model import LogisticRegression\n",
    "from sklearn.metrics import accuracy_score\n",
    "\n",
    "preprocessing_transformer = Pipeline(steps=[('scale_01', MinMaxScaler(feature_range=(0, 1))),\n",
    "                                            ('PCA', PCA(n_components=2))])\n",
    "\n",
    "\n",
    "model = LogisticRegression(solver='lbfgs', multi_class='auto')\n",
    "\n",
    "\n",
    "# pipeline\n",
    "my_pipeline = Pipeline(steps=[('preprocessing_transformer', preprocessing_transformer),\n",
    "                              ('model', model)\n",
    "                              ], verbose = True)\n",
    "# verbose stampa il tempo di eseguzione\n",
    "\n",
    "\n",
    "# Preprocessing of training data, fit model\n",
    "my_pipeline.fit(X_train, y_train)\n",
    "\n",
    "# Preprocessing of validation data, get predictions\n",
    "preds = my_pipeline.predict(X_valid)\n",
    "\n",
    "# Evaluate the model\n",
    "score = accuracy_score(y_valid, preds)\n",
    "print('Accuracy Score:', score)"
   ],
   "metadata": {
    "collapsed": false,
    "ExecuteTime": {
     "start_time": "2023-05-20T18:08:40.212703Z",
     "end_time": "2023-05-20T18:08:40.263924Z"
    }
   }
  },
  {
   "cell_type": "markdown",
   "source": [
    "Gli `steps` di una pipeline non sono altro che una lista di tuple con una label ( che possiamo scegliere il nome che vogliamo ) e l’operatore da applicare"
   ],
   "metadata": {
    "collapsed": false
   }
  },
  {
   "cell_type": "markdown",
   "source": [
    "# ColumnTrasformer:\n",
    "\n",
    "Questo metodo permette di gestire differenti tipi di trasformatori per differenti tipi di colonne\n",
    "\n",
    "un esempio sarebbe:\n",
    "\n",
    "1. Applicare la PCA solo ad una colonna\n",
    "2. Applicare il OHE a solo le colonne testuali"
   ],
   "metadata": {
    "collapsed": false
   }
  },
  {
   "cell_type": "code",
   "execution_count": 4,
   "outputs": [
    {
     "data": {
      "text/plain": "   property_id  location_id  \\\n0       237062         3325   \n1       346905         3236   \n2       386513          764   \n3       656161          340   \n4       841645         3226   \n\n                                            page_url property_type     price  \\\n0  https://www.zameen.com/Property/g_10_g_10_2_gr...          Flat  10000000   \n1  https://www.zameen.com/Property/e_11_2_service...          Flat   6900000   \n2  https://www.zameen.com/Property/islamabad_g_15...         House  16500000   \n3  https://www.zameen.com/Property/islamabad_bani...         House  43500000   \n4  https://www.zameen.com/Property/dha_valley_dha...         House   7000000   \n\n      location       city      province_name   latitude  longitude  baths  \\\n0         G-10  Islamabad  Islamabad Capital  33.679890  73.012640      2   \n1         E-11  Islamabad  Islamabad Capital  33.700993  72.971492      3   \n2         G-15  Islamabad  Islamabad Capital  33.631486  72.926559      6   \n3    Bani Gala  Islamabad  Islamabad Capital  33.707573  73.151199      4   \n4  DHA Defence  Islamabad  Islamabad Capital  33.492591  73.301339      3   \n\n        area   purpose  bedrooms  date_added         agency  \\\n0    4 Marla  For Sale         2  02-04-2019            NaN   \n1  5.6 Marla  For Sale         3  05-04-2019            NaN   \n2    8 Marla  For Sale         5  07-17-2019            NaN   \n3    2 Kanal  For Sale         4  04-05-2019            NaN   \n4    8 Marla  For Sale         3  07-10-2019  Easy Property   \n\n                                          agent Area Type  Area Size  \\\n0                                           NaN     Marla        4.0   \n1                                           NaN     Marla        5.6   \n2                                           NaN     Marla        8.0   \n3                                           NaN     Kanal        2.0   \n4  Muhammad Junaid Ceo Muhammad Shahid Director     Marla        8.0   \n\n  Area Category  \n0     0-5 Marla  \n1    5-10 Marla  \n2    5-10 Marla  \n3     1-5 Kanal  \n4    5-10 Marla  ",
      "text/html": "<div>\n<style scoped>\n    .dataframe tbody tr th:only-of-type {\n        vertical-align: middle;\n    }\n\n    .dataframe tbody tr th {\n        vertical-align: top;\n    }\n\n    .dataframe thead th {\n        text-align: right;\n    }\n</style>\n<table border=\"1\" class=\"dataframe\">\n  <thead>\n    <tr style=\"text-align: right;\">\n      <th></th>\n      <th>property_id</th>\n      <th>location_id</th>\n      <th>page_url</th>\n      <th>property_type</th>\n      <th>price</th>\n      <th>location</th>\n      <th>city</th>\n      <th>province_name</th>\n      <th>latitude</th>\n      <th>longitude</th>\n      <th>baths</th>\n      <th>area</th>\n      <th>purpose</th>\n      <th>bedrooms</th>\n      <th>date_added</th>\n      <th>agency</th>\n      <th>agent</th>\n      <th>Area Type</th>\n      <th>Area Size</th>\n      <th>Area Category</th>\n    </tr>\n  </thead>\n  <tbody>\n    <tr>\n      <th>0</th>\n      <td>237062</td>\n      <td>3325</td>\n      <td>https://www.zameen.com/Property/g_10_g_10_2_gr...</td>\n      <td>Flat</td>\n      <td>10000000</td>\n      <td>G-10</td>\n      <td>Islamabad</td>\n      <td>Islamabad Capital</td>\n      <td>33.679890</td>\n      <td>73.012640</td>\n      <td>2</td>\n      <td>4 Marla</td>\n      <td>For Sale</td>\n      <td>2</td>\n      <td>02-04-2019</td>\n      <td>NaN</td>\n      <td>NaN</td>\n      <td>Marla</td>\n      <td>4.0</td>\n      <td>0-5 Marla</td>\n    </tr>\n    <tr>\n      <th>1</th>\n      <td>346905</td>\n      <td>3236</td>\n      <td>https://www.zameen.com/Property/e_11_2_service...</td>\n      <td>Flat</td>\n      <td>6900000</td>\n      <td>E-11</td>\n      <td>Islamabad</td>\n      <td>Islamabad Capital</td>\n      <td>33.700993</td>\n      <td>72.971492</td>\n      <td>3</td>\n      <td>5.6 Marla</td>\n      <td>For Sale</td>\n      <td>3</td>\n      <td>05-04-2019</td>\n      <td>NaN</td>\n      <td>NaN</td>\n      <td>Marla</td>\n      <td>5.6</td>\n      <td>5-10 Marla</td>\n    </tr>\n    <tr>\n      <th>2</th>\n      <td>386513</td>\n      <td>764</td>\n      <td>https://www.zameen.com/Property/islamabad_g_15...</td>\n      <td>House</td>\n      <td>16500000</td>\n      <td>G-15</td>\n      <td>Islamabad</td>\n      <td>Islamabad Capital</td>\n      <td>33.631486</td>\n      <td>72.926559</td>\n      <td>6</td>\n      <td>8 Marla</td>\n      <td>For Sale</td>\n      <td>5</td>\n      <td>07-17-2019</td>\n      <td>NaN</td>\n      <td>NaN</td>\n      <td>Marla</td>\n      <td>8.0</td>\n      <td>5-10 Marla</td>\n    </tr>\n    <tr>\n      <th>3</th>\n      <td>656161</td>\n      <td>340</td>\n      <td>https://www.zameen.com/Property/islamabad_bani...</td>\n      <td>House</td>\n      <td>43500000</td>\n      <td>Bani Gala</td>\n      <td>Islamabad</td>\n      <td>Islamabad Capital</td>\n      <td>33.707573</td>\n      <td>73.151199</td>\n      <td>4</td>\n      <td>2 Kanal</td>\n      <td>For Sale</td>\n      <td>4</td>\n      <td>04-05-2019</td>\n      <td>NaN</td>\n      <td>NaN</td>\n      <td>Kanal</td>\n      <td>2.0</td>\n      <td>1-5 Kanal</td>\n    </tr>\n    <tr>\n      <th>4</th>\n      <td>841645</td>\n      <td>3226</td>\n      <td>https://www.zameen.com/Property/dha_valley_dha...</td>\n      <td>House</td>\n      <td>7000000</td>\n      <td>DHA Defence</td>\n      <td>Islamabad</td>\n      <td>Islamabad Capital</td>\n      <td>33.492591</td>\n      <td>73.301339</td>\n      <td>3</td>\n      <td>8 Marla</td>\n      <td>For Sale</td>\n      <td>3</td>\n      <td>07-10-2019</td>\n      <td>Easy Property</td>\n      <td>Muhammad Junaid Ceo Muhammad Shahid Director</td>\n      <td>Marla</td>\n      <td>8.0</td>\n      <td>5-10 Marla</td>\n    </tr>\n  </tbody>\n</table>\n</div>"
     },
     "execution_count": 4,
     "metadata": {},
     "output_type": "execute_result"
    }
   ],
   "source": [
    "house = pd.read_csv(\"Data/zameen-updated.csv\")\n",
    "house.head()"
   ],
   "metadata": {
    "collapsed": false,
    "ExecuteTime": {
     "start_time": "2023-05-20T18:08:40.264712Z",
     "end_time": "2023-05-20T18:08:40.736197Z"
    }
   }
  },
  {
   "cell_type": "code",
   "execution_count": 5,
   "outputs": [
    {
     "data": {
      "text/plain": "0         10000000\n1          6900000\n2         16500000\n3         43500000\n4          7000000\n            ...   \n168441    26500000\n168442    12500000\n168443    27000000\n168444    11000000\n168445     9000000\nName: price, Length: 168446, dtype: int64"
     },
     "execution_count": 5,
     "metadata": {},
     "output_type": "execute_result"
    }
   ],
   "source": [
    "house['price']"
   ],
   "metadata": {
    "collapsed": false,
    "ExecuteTime": {
     "start_time": "2023-05-20T18:08:40.738409Z",
     "end_time": "2023-05-20T18:08:40.740565Z"
    }
   }
  },
  {
   "cell_type": "code",
   "execution_count": 6,
   "outputs": [
    {
     "data": {
      "text/plain": "                                                 page_url property_type  \\\n0       https://www.zameen.com/Property/g_10_g_10_2_gr...          Flat   \n1       https://www.zameen.com/Property/e_11_2_service...          Flat   \n2       https://www.zameen.com/Property/islamabad_g_15...         House   \n3       https://www.zameen.com/Property/islamabad_bani...         House   \n4       https://www.zameen.com/Property/dha_valley_dha...         House   \n...                                                   ...           ...   \n168441  https://www.zameen.com/Property/gulshan_e_maym...         House   \n168442  https://www.zameen.com/Property/gadap_town_gul...         House   \n168443  https://www.zameen.com/Property/gulshan_e_maym...         House   \n168444  https://www.zameen.com/Property/gulshan_e_maym...         House   \n168445  https://www.zameen.com/Property/bahria_town_ka...         House   \n\n           price             location       city      province_name  \\\n0       10000000                 G-10  Islamabad  Islamabad Capital   \n1        6900000                 E-11  Islamabad  Islamabad Capital   \n2       16500000                 G-15  Islamabad  Islamabad Capital   \n3       43500000            Bani Gala  Islamabad  Islamabad Capital   \n4        7000000          DHA Defence  Islamabad  Islamabad Capital   \n...          ...                  ...        ...                ...   \n168441  26500000           Gadap Town    Karachi              Sindh   \n168442  12500000           Gadap Town    Karachi              Sindh   \n168443  27000000           Gadap Town    Karachi              Sindh   \n168444  11000000           Gadap Town    Karachi              Sindh   \n168445   9000000  Bahria Town Karachi    Karachi              Sindh   \n\n         latitude  longitude  baths       area   purpose  bedrooms  \\\n0       33.679890  73.012640      2    4 Marla  For Sale         2   \n1       33.700993  72.971492      3  5.6 Marla  For Sale         3   \n2       33.631486  72.926559      6    8 Marla  For Sale         5   \n3       33.707573  73.151199      4    2 Kanal  For Sale         4   \n4       33.492591  73.301339      3    8 Marla  For Sale         3   \n...           ...        ...    ...        ...       ...       ...   \n168441  25.029909  67.137192      0  9.6 Marla  For Sale         6   \n168442  25.017951  67.136393      0    8 Marla  For Sale         3   \n168443  25.015384  67.116330      0  9.6 Marla  For Sale         6   \n168444  25.013265  67.120818      0  7.8 Marla  For Sale         3   \n168445  25.113565  67.353811      3  9.4 Marla  For Sale         3   \n\n        date_added                      agency  \\\n0       02-04-2019                         NaN   \n1       05-04-2019                         NaN   \n2       07-17-2019                         NaN   \n3       04-05-2019                         NaN   \n4       07-10-2019               Easy Property   \n...            ...                         ...   \n168441  07-18-2019       Al Shahab Enterprises   \n168442  07-18-2019       Al Shahab Enterprises   \n168443  07-18-2019       Al Shahab Enterprises   \n168444  07-18-2019       Al Shahab Enterprises   \n168445  07-18-2019  ZPN Real Estate & Builders   \n\n                                               agent Area Type  Area Size  \\\n0                                                NaN     Marla        4.0   \n1                                                NaN     Marla        5.6   \n2                                                NaN     Marla        8.0   \n3                                                NaN     Kanal        2.0   \n4       Muhammad Junaid Ceo Muhammad Shahid Director     Marla        8.0   \n...                                              ...       ...        ...   \n168441                                       Shahmir     Marla        9.6   \n168442                                       Shahmir     Marla        8.0   \n168443                                       Shahmir     Marla        9.6   \n168444                                       Shahmir     Marla        7.8   \n168445                                      Ali Raza     Marla        9.4   \n\n       Area Category  \n0          0-5 Marla  \n1         5-10 Marla  \n2         5-10 Marla  \n3          1-5 Kanal  \n4         5-10 Marla  \n...              ...  \n168441    5-10 Marla  \n168442    5-10 Marla  \n168443    5-10 Marla  \n168444    5-10 Marla  \n168445    5-10 Marla  \n\n[168446 rows x 18 columns]",
      "text/html": "<div>\n<style scoped>\n    .dataframe tbody tr th:only-of-type {\n        vertical-align: middle;\n    }\n\n    .dataframe tbody tr th {\n        vertical-align: top;\n    }\n\n    .dataframe thead th {\n        text-align: right;\n    }\n</style>\n<table border=\"1\" class=\"dataframe\">\n  <thead>\n    <tr style=\"text-align: right;\">\n      <th></th>\n      <th>page_url</th>\n      <th>property_type</th>\n      <th>price</th>\n      <th>location</th>\n      <th>city</th>\n      <th>province_name</th>\n      <th>latitude</th>\n      <th>longitude</th>\n      <th>baths</th>\n      <th>area</th>\n      <th>purpose</th>\n      <th>bedrooms</th>\n      <th>date_added</th>\n      <th>agency</th>\n      <th>agent</th>\n      <th>Area Type</th>\n      <th>Area Size</th>\n      <th>Area Category</th>\n    </tr>\n  </thead>\n  <tbody>\n    <tr>\n      <th>0</th>\n      <td>https://www.zameen.com/Property/g_10_g_10_2_gr...</td>\n      <td>Flat</td>\n      <td>10000000</td>\n      <td>G-10</td>\n      <td>Islamabad</td>\n      <td>Islamabad Capital</td>\n      <td>33.679890</td>\n      <td>73.012640</td>\n      <td>2</td>\n      <td>4 Marla</td>\n      <td>For Sale</td>\n      <td>2</td>\n      <td>02-04-2019</td>\n      <td>NaN</td>\n      <td>NaN</td>\n      <td>Marla</td>\n      <td>4.0</td>\n      <td>0-5 Marla</td>\n    </tr>\n    <tr>\n      <th>1</th>\n      <td>https://www.zameen.com/Property/e_11_2_service...</td>\n      <td>Flat</td>\n      <td>6900000</td>\n      <td>E-11</td>\n      <td>Islamabad</td>\n      <td>Islamabad Capital</td>\n      <td>33.700993</td>\n      <td>72.971492</td>\n      <td>3</td>\n      <td>5.6 Marla</td>\n      <td>For Sale</td>\n      <td>3</td>\n      <td>05-04-2019</td>\n      <td>NaN</td>\n      <td>NaN</td>\n      <td>Marla</td>\n      <td>5.6</td>\n      <td>5-10 Marla</td>\n    </tr>\n    <tr>\n      <th>2</th>\n      <td>https://www.zameen.com/Property/islamabad_g_15...</td>\n      <td>House</td>\n      <td>16500000</td>\n      <td>G-15</td>\n      <td>Islamabad</td>\n      <td>Islamabad Capital</td>\n      <td>33.631486</td>\n      <td>72.926559</td>\n      <td>6</td>\n      <td>8 Marla</td>\n      <td>For Sale</td>\n      <td>5</td>\n      <td>07-17-2019</td>\n      <td>NaN</td>\n      <td>NaN</td>\n      <td>Marla</td>\n      <td>8.0</td>\n      <td>5-10 Marla</td>\n    </tr>\n    <tr>\n      <th>3</th>\n      <td>https://www.zameen.com/Property/islamabad_bani...</td>\n      <td>House</td>\n      <td>43500000</td>\n      <td>Bani Gala</td>\n      <td>Islamabad</td>\n      <td>Islamabad Capital</td>\n      <td>33.707573</td>\n      <td>73.151199</td>\n      <td>4</td>\n      <td>2 Kanal</td>\n      <td>For Sale</td>\n      <td>4</td>\n      <td>04-05-2019</td>\n      <td>NaN</td>\n      <td>NaN</td>\n      <td>Kanal</td>\n      <td>2.0</td>\n      <td>1-5 Kanal</td>\n    </tr>\n    <tr>\n      <th>4</th>\n      <td>https://www.zameen.com/Property/dha_valley_dha...</td>\n      <td>House</td>\n      <td>7000000</td>\n      <td>DHA Defence</td>\n      <td>Islamabad</td>\n      <td>Islamabad Capital</td>\n      <td>33.492591</td>\n      <td>73.301339</td>\n      <td>3</td>\n      <td>8 Marla</td>\n      <td>For Sale</td>\n      <td>3</td>\n      <td>07-10-2019</td>\n      <td>Easy Property</td>\n      <td>Muhammad Junaid Ceo Muhammad Shahid Director</td>\n      <td>Marla</td>\n      <td>8.0</td>\n      <td>5-10 Marla</td>\n    </tr>\n    <tr>\n      <th>...</th>\n      <td>...</td>\n      <td>...</td>\n      <td>...</td>\n      <td>...</td>\n      <td>...</td>\n      <td>...</td>\n      <td>...</td>\n      <td>...</td>\n      <td>...</td>\n      <td>...</td>\n      <td>...</td>\n      <td>...</td>\n      <td>...</td>\n      <td>...</td>\n      <td>...</td>\n      <td>...</td>\n      <td>...</td>\n      <td>...</td>\n    </tr>\n    <tr>\n      <th>168441</th>\n      <td>https://www.zameen.com/Property/gulshan_e_maym...</td>\n      <td>House</td>\n      <td>26500000</td>\n      <td>Gadap Town</td>\n      <td>Karachi</td>\n      <td>Sindh</td>\n      <td>25.029909</td>\n      <td>67.137192</td>\n      <td>0</td>\n      <td>9.6 Marla</td>\n      <td>For Sale</td>\n      <td>6</td>\n      <td>07-18-2019</td>\n      <td>Al Shahab Enterprises</td>\n      <td>Shahmir</td>\n      <td>Marla</td>\n      <td>9.6</td>\n      <td>5-10 Marla</td>\n    </tr>\n    <tr>\n      <th>168442</th>\n      <td>https://www.zameen.com/Property/gadap_town_gul...</td>\n      <td>House</td>\n      <td>12500000</td>\n      <td>Gadap Town</td>\n      <td>Karachi</td>\n      <td>Sindh</td>\n      <td>25.017951</td>\n      <td>67.136393</td>\n      <td>0</td>\n      <td>8 Marla</td>\n      <td>For Sale</td>\n      <td>3</td>\n      <td>07-18-2019</td>\n      <td>Al Shahab Enterprises</td>\n      <td>Shahmir</td>\n      <td>Marla</td>\n      <td>8.0</td>\n      <td>5-10 Marla</td>\n    </tr>\n    <tr>\n      <th>168443</th>\n      <td>https://www.zameen.com/Property/gulshan_e_maym...</td>\n      <td>House</td>\n      <td>27000000</td>\n      <td>Gadap Town</td>\n      <td>Karachi</td>\n      <td>Sindh</td>\n      <td>25.015384</td>\n      <td>67.116330</td>\n      <td>0</td>\n      <td>9.6 Marla</td>\n      <td>For Sale</td>\n      <td>6</td>\n      <td>07-18-2019</td>\n      <td>Al Shahab Enterprises</td>\n      <td>Shahmir</td>\n      <td>Marla</td>\n      <td>9.6</td>\n      <td>5-10 Marla</td>\n    </tr>\n    <tr>\n      <th>168444</th>\n      <td>https://www.zameen.com/Property/gulshan_e_maym...</td>\n      <td>House</td>\n      <td>11000000</td>\n      <td>Gadap Town</td>\n      <td>Karachi</td>\n      <td>Sindh</td>\n      <td>25.013265</td>\n      <td>67.120818</td>\n      <td>0</td>\n      <td>7.8 Marla</td>\n      <td>For Sale</td>\n      <td>3</td>\n      <td>07-18-2019</td>\n      <td>Al Shahab Enterprises</td>\n      <td>Shahmir</td>\n      <td>Marla</td>\n      <td>7.8</td>\n      <td>5-10 Marla</td>\n    </tr>\n    <tr>\n      <th>168445</th>\n      <td>https://www.zameen.com/Property/bahria_town_ka...</td>\n      <td>House</td>\n      <td>9000000</td>\n      <td>Bahria Town Karachi</td>\n      <td>Karachi</td>\n      <td>Sindh</td>\n      <td>25.113565</td>\n      <td>67.353811</td>\n      <td>3</td>\n      <td>9.4 Marla</td>\n      <td>For Sale</td>\n      <td>3</td>\n      <td>07-18-2019</td>\n      <td>ZPN Real Estate &amp; Builders</td>\n      <td>Ali Raza</td>\n      <td>Marla</td>\n      <td>9.4</td>\n      <td>5-10 Marla</td>\n    </tr>\n  </tbody>\n</table>\n<p>168446 rows × 18 columns</p>\n</div>"
     },
     "execution_count": 6,
     "metadata": {},
     "output_type": "execute_result"
    }
   ],
   "source": [
    "# possiamo togliere i due id che sono completamente inutili:\n",
    "house = house.drop(columns=['property_id','location_id'])\n",
    "house"
   ],
   "metadata": {
    "collapsed": false,
    "ExecuteTime": {
     "start_time": "2023-05-20T18:08:40.741790Z",
     "end_time": "2023-05-20T18:08:40.778554Z"
    }
   }
  },
  {
   "cell_type": "code",
   "execution_count": 7,
   "outputs": [
    {
     "data": {
      "text/plain": "                                                 page_url property_type  \\\n0       https://www.zameen.com/Property/g_10_g_10_2_gr...          Flat   \n1       https://www.zameen.com/Property/e_11_2_service...          Flat   \n2       https://www.zameen.com/Property/islamabad_g_15...         House   \n3       https://www.zameen.com/Property/islamabad_bani...         House   \n4       https://www.zameen.com/Property/dha_valley_dha...         House   \n...                                                   ...           ...   \n168441  https://www.zameen.com/Property/gulshan_e_maym...         House   \n168442  https://www.zameen.com/Property/gadap_town_gul...         House   \n168443  https://www.zameen.com/Property/gulshan_e_maym...         House   \n168444  https://www.zameen.com/Property/gulshan_e_maym...         House   \n168445  https://www.zameen.com/Property/bahria_town_ka...         House   \n\n                   location       city      province_name   latitude  \\\n0                      G-10  Islamabad  Islamabad Capital  33.679890   \n1                      E-11  Islamabad  Islamabad Capital  33.700993   \n2                      G-15  Islamabad  Islamabad Capital  33.631486   \n3                 Bani Gala  Islamabad  Islamabad Capital  33.707573   \n4               DHA Defence  Islamabad  Islamabad Capital  33.492591   \n...                     ...        ...                ...        ...   \n168441           Gadap Town    Karachi              Sindh  25.029909   \n168442           Gadap Town    Karachi              Sindh  25.017951   \n168443           Gadap Town    Karachi              Sindh  25.015384   \n168444           Gadap Town    Karachi              Sindh  25.013265   \n168445  Bahria Town Karachi    Karachi              Sindh  25.113565   \n\n        longitude  baths       area   purpose  bedrooms  date_added  \\\n0       73.012640      2    4 Marla  For Sale         2  02-04-2019   \n1       72.971492      3  5.6 Marla  For Sale         3  05-04-2019   \n2       72.926559      6    8 Marla  For Sale         5  07-17-2019   \n3       73.151199      4    2 Kanal  For Sale         4  04-05-2019   \n4       73.301339      3    8 Marla  For Sale         3  07-10-2019   \n...           ...    ...        ...       ...       ...         ...   \n168441  67.137192      0  9.6 Marla  For Sale         6  07-18-2019   \n168442  67.136393      0    8 Marla  For Sale         3  07-18-2019   \n168443  67.116330      0  9.6 Marla  For Sale         6  07-18-2019   \n168444  67.120818      0  7.8 Marla  For Sale         3  07-18-2019   \n168445  67.353811      3  9.4 Marla  For Sale         3  07-18-2019   \n\n                            agency  \\\n0                              NaN   \n1                              NaN   \n2                              NaN   \n3                              NaN   \n4                    Easy Property   \n...                            ...   \n168441       Al Shahab Enterprises   \n168442       Al Shahab Enterprises   \n168443       Al Shahab Enterprises   \n168444       Al Shahab Enterprises   \n168445  ZPN Real Estate & Builders   \n\n                                               agent Area Type  Area Size  \\\n0                                                NaN     Marla        4.0   \n1                                                NaN     Marla        5.6   \n2                                                NaN     Marla        8.0   \n3                                                NaN     Kanal        2.0   \n4       Muhammad Junaid Ceo Muhammad Shahid Director     Marla        8.0   \n...                                              ...       ...        ...   \n168441                                       Shahmir     Marla        9.6   \n168442                                       Shahmir     Marla        8.0   \n168443                                       Shahmir     Marla        9.6   \n168444                                       Shahmir     Marla        7.8   \n168445                                      Ali Raza     Marla        9.4   \n\n       Area Category  \n0          0-5 Marla  \n1         5-10 Marla  \n2         5-10 Marla  \n3          1-5 Kanal  \n4         5-10 Marla  \n...              ...  \n168441    5-10 Marla  \n168442    5-10 Marla  \n168443    5-10 Marla  \n168444    5-10 Marla  \n168445    5-10 Marla  \n\n[168446 rows x 17 columns]",
      "text/html": "<div>\n<style scoped>\n    .dataframe tbody tr th:only-of-type {\n        vertical-align: middle;\n    }\n\n    .dataframe tbody tr th {\n        vertical-align: top;\n    }\n\n    .dataframe thead th {\n        text-align: right;\n    }\n</style>\n<table border=\"1\" class=\"dataframe\">\n  <thead>\n    <tr style=\"text-align: right;\">\n      <th></th>\n      <th>page_url</th>\n      <th>property_type</th>\n      <th>location</th>\n      <th>city</th>\n      <th>province_name</th>\n      <th>latitude</th>\n      <th>longitude</th>\n      <th>baths</th>\n      <th>area</th>\n      <th>purpose</th>\n      <th>bedrooms</th>\n      <th>date_added</th>\n      <th>agency</th>\n      <th>agent</th>\n      <th>Area Type</th>\n      <th>Area Size</th>\n      <th>Area Category</th>\n    </tr>\n  </thead>\n  <tbody>\n    <tr>\n      <th>0</th>\n      <td>https://www.zameen.com/Property/g_10_g_10_2_gr...</td>\n      <td>Flat</td>\n      <td>G-10</td>\n      <td>Islamabad</td>\n      <td>Islamabad Capital</td>\n      <td>33.679890</td>\n      <td>73.012640</td>\n      <td>2</td>\n      <td>4 Marla</td>\n      <td>For Sale</td>\n      <td>2</td>\n      <td>02-04-2019</td>\n      <td>NaN</td>\n      <td>NaN</td>\n      <td>Marla</td>\n      <td>4.0</td>\n      <td>0-5 Marla</td>\n    </tr>\n    <tr>\n      <th>1</th>\n      <td>https://www.zameen.com/Property/e_11_2_service...</td>\n      <td>Flat</td>\n      <td>E-11</td>\n      <td>Islamabad</td>\n      <td>Islamabad Capital</td>\n      <td>33.700993</td>\n      <td>72.971492</td>\n      <td>3</td>\n      <td>5.6 Marla</td>\n      <td>For Sale</td>\n      <td>3</td>\n      <td>05-04-2019</td>\n      <td>NaN</td>\n      <td>NaN</td>\n      <td>Marla</td>\n      <td>5.6</td>\n      <td>5-10 Marla</td>\n    </tr>\n    <tr>\n      <th>2</th>\n      <td>https://www.zameen.com/Property/islamabad_g_15...</td>\n      <td>House</td>\n      <td>G-15</td>\n      <td>Islamabad</td>\n      <td>Islamabad Capital</td>\n      <td>33.631486</td>\n      <td>72.926559</td>\n      <td>6</td>\n      <td>8 Marla</td>\n      <td>For Sale</td>\n      <td>5</td>\n      <td>07-17-2019</td>\n      <td>NaN</td>\n      <td>NaN</td>\n      <td>Marla</td>\n      <td>8.0</td>\n      <td>5-10 Marla</td>\n    </tr>\n    <tr>\n      <th>3</th>\n      <td>https://www.zameen.com/Property/islamabad_bani...</td>\n      <td>House</td>\n      <td>Bani Gala</td>\n      <td>Islamabad</td>\n      <td>Islamabad Capital</td>\n      <td>33.707573</td>\n      <td>73.151199</td>\n      <td>4</td>\n      <td>2 Kanal</td>\n      <td>For Sale</td>\n      <td>4</td>\n      <td>04-05-2019</td>\n      <td>NaN</td>\n      <td>NaN</td>\n      <td>Kanal</td>\n      <td>2.0</td>\n      <td>1-5 Kanal</td>\n    </tr>\n    <tr>\n      <th>4</th>\n      <td>https://www.zameen.com/Property/dha_valley_dha...</td>\n      <td>House</td>\n      <td>DHA Defence</td>\n      <td>Islamabad</td>\n      <td>Islamabad Capital</td>\n      <td>33.492591</td>\n      <td>73.301339</td>\n      <td>3</td>\n      <td>8 Marla</td>\n      <td>For Sale</td>\n      <td>3</td>\n      <td>07-10-2019</td>\n      <td>Easy Property</td>\n      <td>Muhammad Junaid Ceo Muhammad Shahid Director</td>\n      <td>Marla</td>\n      <td>8.0</td>\n      <td>5-10 Marla</td>\n    </tr>\n    <tr>\n      <th>...</th>\n      <td>...</td>\n      <td>...</td>\n      <td>...</td>\n      <td>...</td>\n      <td>...</td>\n      <td>...</td>\n      <td>...</td>\n      <td>...</td>\n      <td>...</td>\n      <td>...</td>\n      <td>...</td>\n      <td>...</td>\n      <td>...</td>\n      <td>...</td>\n      <td>...</td>\n      <td>...</td>\n      <td>...</td>\n    </tr>\n    <tr>\n      <th>168441</th>\n      <td>https://www.zameen.com/Property/gulshan_e_maym...</td>\n      <td>House</td>\n      <td>Gadap Town</td>\n      <td>Karachi</td>\n      <td>Sindh</td>\n      <td>25.029909</td>\n      <td>67.137192</td>\n      <td>0</td>\n      <td>9.6 Marla</td>\n      <td>For Sale</td>\n      <td>6</td>\n      <td>07-18-2019</td>\n      <td>Al Shahab Enterprises</td>\n      <td>Shahmir</td>\n      <td>Marla</td>\n      <td>9.6</td>\n      <td>5-10 Marla</td>\n    </tr>\n    <tr>\n      <th>168442</th>\n      <td>https://www.zameen.com/Property/gadap_town_gul...</td>\n      <td>House</td>\n      <td>Gadap Town</td>\n      <td>Karachi</td>\n      <td>Sindh</td>\n      <td>25.017951</td>\n      <td>67.136393</td>\n      <td>0</td>\n      <td>8 Marla</td>\n      <td>For Sale</td>\n      <td>3</td>\n      <td>07-18-2019</td>\n      <td>Al Shahab Enterprises</td>\n      <td>Shahmir</td>\n      <td>Marla</td>\n      <td>8.0</td>\n      <td>5-10 Marla</td>\n    </tr>\n    <tr>\n      <th>168443</th>\n      <td>https://www.zameen.com/Property/gulshan_e_maym...</td>\n      <td>House</td>\n      <td>Gadap Town</td>\n      <td>Karachi</td>\n      <td>Sindh</td>\n      <td>25.015384</td>\n      <td>67.116330</td>\n      <td>0</td>\n      <td>9.6 Marla</td>\n      <td>For Sale</td>\n      <td>6</td>\n      <td>07-18-2019</td>\n      <td>Al Shahab Enterprises</td>\n      <td>Shahmir</td>\n      <td>Marla</td>\n      <td>9.6</td>\n      <td>5-10 Marla</td>\n    </tr>\n    <tr>\n      <th>168444</th>\n      <td>https://www.zameen.com/Property/gulshan_e_maym...</td>\n      <td>House</td>\n      <td>Gadap Town</td>\n      <td>Karachi</td>\n      <td>Sindh</td>\n      <td>25.013265</td>\n      <td>67.120818</td>\n      <td>0</td>\n      <td>7.8 Marla</td>\n      <td>For Sale</td>\n      <td>3</td>\n      <td>07-18-2019</td>\n      <td>Al Shahab Enterprises</td>\n      <td>Shahmir</td>\n      <td>Marla</td>\n      <td>7.8</td>\n      <td>5-10 Marla</td>\n    </tr>\n    <tr>\n      <th>168445</th>\n      <td>https://www.zameen.com/Property/bahria_town_ka...</td>\n      <td>House</td>\n      <td>Bahria Town Karachi</td>\n      <td>Karachi</td>\n      <td>Sindh</td>\n      <td>25.113565</td>\n      <td>67.353811</td>\n      <td>3</td>\n      <td>9.4 Marla</td>\n      <td>For Sale</td>\n      <td>3</td>\n      <td>07-18-2019</td>\n      <td>ZPN Real Estate &amp; Builders</td>\n      <td>Ali Raza</td>\n      <td>Marla</td>\n      <td>9.4</td>\n      <td>5-10 Marla</td>\n    </tr>\n  </tbody>\n</table>\n<p>168446 rows × 17 columns</p>\n</div>"
     },
     "execution_count": 7,
     "metadata": {},
     "output_type": "execute_result"
    }
   ],
   "source": [
    "# creiamo il dataset per prevedere il prezzo delle case\n",
    "y = house['price']\n",
    "X = house.drop(columns=['price'])\n",
    "X"
   ],
   "metadata": {
    "collapsed": false,
    "ExecuteTime": {
     "start_time": "2023-05-20T18:08:40.784071Z",
     "end_time": "2023-05-20T18:08:40.797309Z"
    }
   }
  },
  {
   "cell_type": "code",
   "execution_count": 8,
   "outputs": [
    {
     "name": "stdout",
     "output_type": "stream",
     "text": [
      "<class 'pandas.core.frame.DataFrame'>\n",
      "RangeIndex: 168446 entries, 0 to 168445\n",
      "Data columns (total 17 columns):\n",
      " #   Column         Non-Null Count   Dtype  \n",
      "---  ------         --------------   -----  \n",
      " 0   page_url       168446 non-null  object \n",
      " 1   property_type  168446 non-null  object \n",
      " 2   location       168446 non-null  object \n",
      " 3   city           168446 non-null  object \n",
      " 4   province_name  168446 non-null  object \n",
      " 5   latitude       168446 non-null  float64\n",
      " 6   longitude      168446 non-null  float64\n",
      " 7   baths          168446 non-null  int64  \n",
      " 8   area           168446 non-null  object \n",
      " 9   purpose        168446 non-null  object \n",
      " 10  bedrooms       168446 non-null  int64  \n",
      " 11  date_added     168446 non-null  object \n",
      " 12  agency         124375 non-null  object \n",
      " 13  agent          124374 non-null  object \n",
      " 14  Area Type      168446 non-null  object \n",
      " 15  Area Size      168446 non-null  float64\n",
      " 16  Area Category  168446 non-null  object \n",
      "dtypes: float64(3), int64(2), object(12)\n",
      "memory usage: 21.8+ MB\n"
     ]
    }
   ],
   "source": [
    "X.info()"
   ],
   "metadata": {
    "collapsed": false,
    "ExecuteTime": {
     "start_time": "2023-05-20T18:08:40.953540Z",
     "end_time": "2023-05-20T18:08:40.961344Z"
    }
   }
  },
  {
   "cell_type": "code",
   "execution_count": 9,
   "outputs": [],
   "source": [
    "from sklearn.model_selection import train_test_split\n",
    "\n",
    "X_train, X_test, y_train, y_test = train_test_split(X, y, train_size=0.8, test_size=0.2,\n",
    "                                                    random_state=0)"
   ],
   "metadata": {
    "collapsed": false,
    "ExecuteTime": {
     "start_time": "2023-05-20T18:08:40.965177Z",
     "end_time": "2023-05-20T18:08:40.993894Z"
    }
   }
  },
  {
   "cell_type": "markdown",
   "source": [
    "# Primo metodo:\n",
    "faremo 3 step:\n",
    "1. Definire il processo degli steps\n",
    "2. definire il modello\n",
    "3. creare e valutare la pipeline"
   ],
   "metadata": {
    "collapsed": false
   }
  },
  {
   "cell_type": "markdown",
   "source": [],
   "metadata": {
    "collapsed": false
   }
  },
  {
   "cell_type": "code",
   "execution_count": 10,
   "outputs": [],
   "source": [
    "categorical_cols = [cname for cname in X_train.columns if\n",
    "                    X_train[cname].nunique() < 10 and\n",
    "                    X_train[cname].dtype == \"object\"]\n",
    "\n",
    "numerical_cols = [cname for cname in X_train.columns if\n",
    "                  X_train[cname].dtype in ['int64', 'float64']]"
   ],
   "metadata": {
    "collapsed": false,
    "ExecuteTime": {
     "start_time": "2023-05-20T18:08:41.005159Z",
     "end_time": "2023-05-20T18:08:41.135636Z"
    }
   }
  },
  {
   "cell_type": "markdown",
   "source": [
    "La condizione `X_train[cname].nunique() < 10` dice che se ci sono più di 10 elementi doppi nella colonna , la colona non sarà utilizzata come colonna d’interesse ( questo perché non ci fornisce nessuna conoscenza supplementare, es: un indirizzo di una via)"
   ],
   "metadata": {
    "collapsed": false
   }
  },
  {
   "cell_type": "code",
   "execution_count": 11,
   "outputs": [
    {
     "data": {
      "text/plain": "['property_type', 'city', 'province_name', 'purpose', 'Area Type']"
     },
     "execution_count": 11,
     "metadata": {},
     "output_type": "execute_result"
    }
   ],
   "source": [
    "categorical_cols"
   ],
   "metadata": {
    "collapsed": false,
    "ExecuteTime": {
     "start_time": "2023-05-20T18:08:41.136825Z",
     "end_time": "2023-05-20T18:08:41.139059Z"
    }
   }
  },
  {
   "cell_type": "code",
   "execution_count": 12,
   "outputs": [
    {
     "data": {
      "text/plain": "['latitude', 'longitude', 'baths', 'bedrooms', 'Area Size']"
     },
     "execution_count": 12,
     "metadata": {},
     "output_type": "execute_result"
    }
   ],
   "source": [
    "numerical_cols"
   ],
   "metadata": {
    "collapsed": false,
    "ExecuteTime": {
     "start_time": "2023-05-20T18:08:41.139650Z",
     "end_time": "2023-05-20T18:08:41.142488Z"
    }
   }
  },
  {
   "cell_type": "code",
   "execution_count": 13,
   "outputs": [],
   "source": [
    "from sklearn.compose import ColumnTransformer\n",
    "from sklearn.impute import SimpleImputer\n",
    "from sklearn.preprocessing import OneHotEncoder\n",
    "\n",
    "# preprocessing per i valori numerici\n",
    "numeric_trasformer = SimpleImputer(strategy=\"most_frequent\")\n",
    "\n",
    "# preprocessing per i valori testuali\n",
    "categoric_trasform = Pipeline(steps=[\n",
    "    ('imputer',SimpleImputer(strategy=\"most_frequent\")),\n",
    "    ('OHE',OneHotEncoder(handle_unknown='ignore',sparse=False))\n",
    "    ])\n",
    "\n",
    "# uniamo i due processi\n",
    "preproces  = ColumnTransformer(\n",
    "    transformers=[\n",
    "        ('num',numeric_trasformer,numerical_cols),\n",
    "        ('cat',categoric_trasform,categorical_cols)\n",
    "    ])\n"
   ],
   "metadata": {
    "collapsed": false,
    "ExecuteTime": {
     "start_time": "2023-05-20T18:08:41.143768Z",
     "end_time": "2023-05-20T18:08:41.177478Z"
    }
   }
  },
  {
   "cell_type": "markdown",
   "source": [
    "Il metodo `SimpleImputer` é un trasformatore che toglie i valori nulli e in questo caso li sostituisce con il valore più frequente\n",
    "\n",
    "il parametro `trasformers` é una lista di tuple di tre elem:\n",
    "\n",
    "1. etichetta\n",
    "2. operatore\n",
    "3. colonne a cui applicare l’operatore( che posso essere sia gli indici che il nome)"
   ],
   "metadata": {
    "collapsed": false
   }
  },
  {
   "cell_type": "markdown",
   "source": [
    "### 2 step:\n",
    "\n",
    "il modello che usiamo é un `RandomForestRegressor`"
   ],
   "metadata": {
    "collapsed": false
   }
  },
  {
   "cell_type": "code",
   "execution_count": 14,
   "outputs": [],
   "source": [
    "from sklearn.ensemble import RandomForestRegressor\n",
    "model = RandomForestRegressor(n_estimators=50,random_state=0)"
   ],
   "metadata": {
    "collapsed": false,
    "ExecuteTime": {
     "start_time": "2023-05-20T18:08:47.618607Z",
     "end_time": "2023-05-20T18:08:47.679641Z"
    }
   }
  },
  {
   "cell_type": "markdown",
   "source": [
    "### 3 step:"
   ],
   "metadata": {
    "collapsed": false
   }
  },
  {
   "cell_type": "code",
   "execution_count": 19,
   "outputs": [
    {
     "name": "stderr",
     "output_type": "stream",
     "text": [
      "/opt/anaconda3/lib/python3.9/site-packages/sklearn/impute/_base.py:49: FutureWarning: Unlike other reduction functions (e.g. `skew`, `kurtosis`), the default behavior of `mode` typically preserves the axis it acts along. In SciPy 1.11.0, this behavior will change: the default value of `keepdims` will become False, the `axis` over which the statistic is taken will be eliminated, and the value None will no longer be accepted. Set `keepdims` to True or False to avoid this warning.\n",
      "  mode = stats.mode(array)\n"
     ]
    },
    {
     "name": "stdout",
     "output_type": "stream",
     "text": [
      "MAE:  1760.0313832423517\n"
     ]
    }
   ],
   "source": [
    "from  sklearn.metrics import  mean_absolute_error\n",
    "from math import sqrt\n",
    "\n",
    "# creiamo la pipeline:\n",
    "my_pipeline = Pipeline(steps=[\n",
    "                        ('preprocessor',preproces),\n",
    "                        ('model',model),\n",
    "                        ])\n",
    "\n",
    "my_pipeline.fit(X_train,y_train)\n",
    "\n",
    "pred = my_pipeline.predict(X_test)\n",
    "\n",
    "# valutiamo il modello\n",
    "score = sqrt(mean_absolute_error(y_test,pred))\n",
    "print(\"MAE: \", score)"
   ],
   "metadata": {
    "collapsed": false,
    "ExecuteTime": {
     "start_time": "2023-05-20T16:42:47.425950Z",
     "end_time": "2023-05-20T16:43:00.869365Z"
    }
   }
  },
  {
   "cell_type": "markdown",
   "source": [
    "### Tuning dei parametri:\n",
    "\n",
    "é possibile fare il tuning di vari parametri usando il nome dato per etichetta separato da `__` :"
   ],
   "metadata": {
    "collapsed": false
   }
  },
  {
   "cell_type": "code",
   "execution_count": 21,
   "outputs": [
    {
     "name": "stderr",
     "output_type": "stream",
     "text": [
      "/opt/anaconda3/lib/python3.9/site-packages/sklearn/impute/_base.py:49: FutureWarning: Unlike other reduction functions (e.g. `skew`, `kurtosis`), the default behavior of `mode` typically preserves the axis it acts along. In SciPy 1.11.0, this behavior will change: the default value of `keepdims` will become False, the `axis` over which the statistic is taken will be eliminated, and the value None will no longer be accepted. Set `keepdims` to True or False to avoid this warning.\n",
      "  mode = stats.mode(array)\n",
      "/opt/anaconda3/lib/python3.9/site-packages/sklearn/impute/_base.py:49: FutureWarning: Unlike other reduction functions (e.g. `skew`, `kurtosis`), the default behavior of `mode` typically preserves the axis it acts along. In SciPy 1.11.0, this behavior will change: the default value of `keepdims` will become False, the `axis` over which the statistic is taken will be eliminated, and the value None will no longer be accepted. Set `keepdims` to True or False to avoid this warning.\n",
      "  mode = stats.mode(array)\n",
      "/opt/anaconda3/lib/python3.9/site-packages/sklearn/impute/_base.py:49: FutureWarning: Unlike other reduction functions (e.g. `skew`, `kurtosis`), the default behavior of `mode` typically preserves the axis it acts along. In SciPy 1.11.0, this behavior will change: the default value of `keepdims` will become False, the `axis` over which the statistic is taken will be eliminated, and the value None will no longer be accepted. Set `keepdims` to True or False to avoid this warning.\n",
      "  mode = stats.mode(array)\n",
      "/opt/anaconda3/lib/python3.9/site-packages/sklearn/impute/_base.py:49: FutureWarning: Unlike other reduction functions (e.g. `skew`, `kurtosis`), the default behavior of `mode` typically preserves the axis it acts along. In SciPy 1.11.0, this behavior will change: the default value of `keepdims` will become False, the `axis` over which the statistic is taken will be eliminated, and the value None will no longer be accepted. Set `keepdims` to True or False to avoid this warning.\n",
      "  mode = stats.mode(array)\n",
      "/opt/anaconda3/lib/python3.9/site-packages/sklearn/impute/_base.py:49: FutureWarning: Unlike other reduction functions (e.g. `skew`, `kurtosis`), the default behavior of `mode` typically preserves the axis it acts along. In SciPy 1.11.0, this behavior will change: the default value of `keepdims` will become False, the `axis` over which the statistic is taken will be eliminated, and the value None will no longer be accepted. Set `keepdims` to True or False to avoid this warning.\n",
      "  mode = stats.mode(array)\n",
      "/opt/anaconda3/lib/python3.9/site-packages/sklearn/impute/_base.py:49: FutureWarning: Unlike other reduction functions (e.g. `skew`, `kurtosis`), the default behavior of `mode` typically preserves the axis it acts along. In SciPy 1.11.0, this behavior will change: the default value of `keepdims` will become False, the `axis` over which the statistic is taken will be eliminated, and the value None will no longer be accepted. Set `keepdims` to True or False to avoid this warning.\n",
      "  mode = stats.mode(array)\n",
      "/opt/anaconda3/lib/python3.9/site-packages/sklearn/impute/_base.py:49: FutureWarning: Unlike other reduction functions (e.g. `skew`, `kurtosis`), the default behavior of `mode` typically preserves the axis it acts along. In SciPy 1.11.0, this behavior will change: the default value of `keepdims` will become False, the `axis` over which the statistic is taken will be eliminated, and the value None will no longer be accepted. Set `keepdims` to True or False to avoid this warning.\n",
      "  mode = stats.mode(array)\n",
      "/opt/anaconda3/lib/python3.9/site-packages/sklearn/impute/_base.py:49: FutureWarning: Unlike other reduction functions (e.g. `skew`, `kurtosis`), the default behavior of `mode` typically preserves the axis it acts along. In SciPy 1.11.0, this behavior will change: the default value of `keepdims` will become False, the `axis` over which the statistic is taken will be eliminated, and the value None will no longer be accepted. Set `keepdims` to True or False to avoid this warning.\n",
      "  mode = stats.mode(array)\n",
      "/opt/anaconda3/lib/python3.9/site-packages/sklearn/impute/_base.py:49: FutureWarning: Unlike other reduction functions (e.g. `skew`, `kurtosis`), the default behavior of `mode` typically preserves the axis it acts along. In SciPy 1.11.0, this behavior will change: the default value of `keepdims` will become False, the `axis` over which the statistic is taken will be eliminated, and the value None will no longer be accepted. Set `keepdims` to True or False to avoid this warning.\n",
      "  mode = stats.mode(array)\n",
      "/opt/anaconda3/lib/python3.9/site-packages/sklearn/impute/_base.py:49: FutureWarning: Unlike other reduction functions (e.g. `skew`, `kurtosis`), the default behavior of `mode` typically preserves the axis it acts along. In SciPy 1.11.0, this behavior will change: the default value of `keepdims` will become False, the `axis` over which the statistic is taken will be eliminated, and the value None will no longer be accepted. Set `keepdims` to True or False to avoid this warning.\n",
      "  mode = stats.mode(array)\n",
      "/opt/anaconda3/lib/python3.9/site-packages/sklearn/impute/_base.py:49: FutureWarning: Unlike other reduction functions (e.g. `skew`, `kurtosis`), the default behavior of `mode` typically preserves the axis it acts along. In SciPy 1.11.0, this behavior will change: the default value of `keepdims` will become False, the `axis` over which the statistic is taken will be eliminated, and the value None will no longer be accepted. Set `keepdims` to True or False to avoid this warning.\n",
      "  mode = stats.mode(array)\n",
      "/opt/anaconda3/lib/python3.9/site-packages/sklearn/impute/_base.py:49: FutureWarning: Unlike other reduction functions (e.g. `skew`, `kurtosis`), the default behavior of `mode` typically preserves the axis it acts along. In SciPy 1.11.0, this behavior will change: the default value of `keepdims` will become False, the `axis` over which the statistic is taken will be eliminated, and the value None will no longer be accepted. Set `keepdims` to True or False to avoid this warning.\n",
      "  mode = stats.mode(array)\n",
      "/opt/anaconda3/lib/python3.9/site-packages/sklearn/impute/_base.py:49: FutureWarning: Unlike other reduction functions (e.g. `skew`, `kurtosis`), the default behavior of `mode` typically preserves the axis it acts along. In SciPy 1.11.0, this behavior will change: the default value of `keepdims` will become False, the `axis` over which the statistic is taken will be eliminated, and the value None will no longer be accepted. Set `keepdims` to True or False to avoid this warning.\n",
      "  mode = stats.mode(array)\n",
      "/opt/anaconda3/lib/python3.9/site-packages/sklearn/impute/_base.py:49: FutureWarning: Unlike other reduction functions (e.g. `skew`, `kurtosis`), the default behavior of `mode` typically preserves the axis it acts along. In SciPy 1.11.0, this behavior will change: the default value of `keepdims` will become False, the `axis` over which the statistic is taken will be eliminated, and the value None will no longer be accepted. Set `keepdims` to True or False to avoid this warning.\n",
      "  mode = stats.mode(array)\n",
      "/opt/anaconda3/lib/python3.9/site-packages/sklearn/impute/_base.py:49: FutureWarning: Unlike other reduction functions (e.g. `skew`, `kurtosis`), the default behavior of `mode` typically preserves the axis it acts along. In SciPy 1.11.0, this behavior will change: the default value of `keepdims` will become False, the `axis` over which the statistic is taken will be eliminated, and the value None will no longer be accepted. Set `keepdims` to True or False to avoid this warning.\n",
      "  mode = stats.mode(array)\n",
      "/opt/anaconda3/lib/python3.9/site-packages/sklearn/impute/_base.py:49: FutureWarning: Unlike other reduction functions (e.g. `skew`, `kurtosis`), the default behavior of `mode` typically preserves the axis it acts along. In SciPy 1.11.0, this behavior will change: the default value of `keepdims` will become False, the `axis` over which the statistic is taken will be eliminated, and the value None will no longer be accepted. Set `keepdims` to True or False to avoid this warning.\n",
      "  mode = stats.mode(array)\n",
      "/opt/anaconda3/lib/python3.9/site-packages/sklearn/impute/_base.py:49: FutureWarning: Unlike other reduction functions (e.g. `skew`, `kurtosis`), the default behavior of `mode` typically preserves the axis it acts along. In SciPy 1.11.0, this behavior will change: the default value of `keepdims` will become False, the `axis` over which the statistic is taken will be eliminated, and the value None will no longer be accepted. Set `keepdims` to True or False to avoid this warning.\n",
      "  mode = stats.mode(array)\n",
      "/opt/anaconda3/lib/python3.9/site-packages/sklearn/impute/_base.py:49: FutureWarning: Unlike other reduction functions (e.g. `skew`, `kurtosis`), the default behavior of `mode` typically preserves the axis it acts along. In SciPy 1.11.0, this behavior will change: the default value of `keepdims` will become False, the `axis` over which the statistic is taken will be eliminated, and the value None will no longer be accepted. Set `keepdims` to True or False to avoid this warning.\n",
      "  mode = stats.mode(array)\n",
      "/opt/anaconda3/lib/python3.9/site-packages/sklearn/impute/_base.py:49: FutureWarning: Unlike other reduction functions (e.g. `skew`, `kurtosis`), the default behavior of `mode` typically preserves the axis it acts along. In SciPy 1.11.0, this behavior will change: the default value of `keepdims` will become False, the `axis` over which the statistic is taken will be eliminated, and the value None will no longer be accepted. Set `keepdims` to True or False to avoid this warning.\n",
      "  mode = stats.mode(array)\n",
      "/opt/anaconda3/lib/python3.9/site-packages/sklearn/impute/_base.py:49: FutureWarning: Unlike other reduction functions (e.g. `skew`, `kurtosis`), the default behavior of `mode` typically preserves the axis it acts along. In SciPy 1.11.0, this behavior will change: the default value of `keepdims` will become False, the `axis` over which the statistic is taken will be eliminated, and the value None will no longer be accepted. Set `keepdims` to True or False to avoid this warning.\n",
      "  mode = stats.mode(array)\n",
      "/opt/anaconda3/lib/python3.9/site-packages/sklearn/impute/_base.py:49: FutureWarning: Unlike other reduction functions (e.g. `skew`, `kurtosis`), the default behavior of `mode` typically preserves the axis it acts along. In SciPy 1.11.0, this behavior will change: the default value of `keepdims` will become False, the `axis` over which the statistic is taken will be eliminated, and the value None will no longer be accepted. Set `keepdims` to True or False to avoid this warning.\n",
      "  mode = stats.mode(array)\n",
      "/opt/anaconda3/lib/python3.9/site-packages/sklearn/impute/_base.py:49: FutureWarning: Unlike other reduction functions (e.g. `skew`, `kurtosis`), the default behavior of `mode` typically preserves the axis it acts along. In SciPy 1.11.0, this behavior will change: the default value of `keepdims` will become False, the `axis` over which the statistic is taken will be eliminated, and the value None will no longer be accepted. Set `keepdims` to True or False to avoid this warning.\n",
      "  mode = stats.mode(array)\n",
      "/opt/anaconda3/lib/python3.9/site-packages/sklearn/impute/_base.py:49: FutureWarning: Unlike other reduction functions (e.g. `skew`, `kurtosis`), the default behavior of `mode` typically preserves the axis it acts along. In SciPy 1.11.0, this behavior will change: the default value of `keepdims` will become False, the `axis` over which the statistic is taken will be eliminated, and the value None will no longer be accepted. Set `keepdims` to True or False to avoid this warning.\n",
      "  mode = stats.mode(array)\n",
      "/opt/anaconda3/lib/python3.9/site-packages/sklearn/impute/_base.py:49: FutureWarning: Unlike other reduction functions (e.g. `skew`, `kurtosis`), the default behavior of `mode` typically preserves the axis it acts along. In SciPy 1.11.0, this behavior will change: the default value of `keepdims` will become False, the `axis` over which the statistic is taken will be eliminated, and the value None will no longer be accepted. Set `keepdims` to True or False to avoid this warning.\n",
      "  mode = stats.mode(array)\n",
      "/opt/anaconda3/lib/python3.9/site-packages/sklearn/impute/_base.py:49: FutureWarning: Unlike other reduction functions (e.g. `skew`, `kurtosis`), the default behavior of `mode` typically preserves the axis it acts along. In SciPy 1.11.0, this behavior will change: the default value of `keepdims` will become False, the `axis` over which the statistic is taken will be eliminated, and the value None will no longer be accepted. Set `keepdims` to True or False to avoid this warning.\n",
      "  mode = stats.mode(array)\n",
      "/opt/anaconda3/lib/python3.9/site-packages/sklearn/impute/_base.py:49: FutureWarning: Unlike other reduction functions (e.g. `skew`, `kurtosis`), the default behavior of `mode` typically preserves the axis it acts along. In SciPy 1.11.0, this behavior will change: the default value of `keepdims` will become False, the `axis` over which the statistic is taken will be eliminated, and the value None will no longer be accepted. Set `keepdims` to True or False to avoid this warning.\n",
      "  mode = stats.mode(array)\n",
      "/opt/anaconda3/lib/python3.9/site-packages/sklearn/impute/_base.py:49: FutureWarning: Unlike other reduction functions (e.g. `skew`, `kurtosis`), the default behavior of `mode` typically preserves the axis it acts along. In SciPy 1.11.0, this behavior will change: the default value of `keepdims` will become False, the `axis` over which the statistic is taken will be eliminated, and the value None will no longer be accepted. Set `keepdims` to True or False to avoid this warning.\n",
      "  mode = stats.mode(array)\n",
      "/opt/anaconda3/lib/python3.9/site-packages/sklearn/impute/_base.py:49: FutureWarning: Unlike other reduction functions (e.g. `skew`, `kurtosis`), the default behavior of `mode` typically preserves the axis it acts along. In SciPy 1.11.0, this behavior will change: the default value of `keepdims` will become False, the `axis` over which the statistic is taken will be eliminated, and the value None will no longer be accepted. Set `keepdims` to True or False to avoid this warning.\n",
      "  mode = stats.mode(array)\n",
      "/opt/anaconda3/lib/python3.9/site-packages/sklearn/impute/_base.py:49: FutureWarning: Unlike other reduction functions (e.g. `skew`, `kurtosis`), the default behavior of `mode` typically preserves the axis it acts along. In SciPy 1.11.0, this behavior will change: the default value of `keepdims` will become False, the `axis` over which the statistic is taken will be eliminated, and the value None will no longer be accepted. Set `keepdims` to True or False to avoid this warning.\n",
      "  mode = stats.mode(array)\n",
      "/opt/anaconda3/lib/python3.9/site-packages/sklearn/impute/_base.py:49: FutureWarning: Unlike other reduction functions (e.g. `skew`, `kurtosis`), the default behavior of `mode` typically preserves the axis it acts along. In SciPy 1.11.0, this behavior will change: the default value of `keepdims` will become False, the `axis` over which the statistic is taken will be eliminated, and the value None will no longer be accepted. Set `keepdims` to True or False to avoid this warning.\n",
      "  mode = stats.mode(array)\n",
      "/opt/anaconda3/lib/python3.9/site-packages/sklearn/model_selection/_validation.py:372: FitFailedWarning: \n",
      "30 fits failed out of a total of 60.\n",
      "The score on these train-test partitions for these parameters will be set to nan.\n",
      "If these failures are not expected, you can try to debug them by setting error_score='raise'.\n",
      "\n",
      "Below are more details about the failures:\n",
      "--------------------------------------------------------------------------------\n",
      "30 fits failed with the following error:\n",
      "Traceback (most recent call last):\n",
      "  File \"/opt/anaconda3/lib/python3.9/site-packages/sklearn/model_selection/_validation.py\", line 680, in _fit_and_score\n",
      "    estimator.fit(X_train, y_train, **fit_params)\n",
      "  File \"/opt/anaconda3/lib/python3.9/site-packages/sklearn/pipeline.py\", line 390, in fit\n",
      "    Xt = self._fit(X, y, **fit_params_steps)\n",
      "  File \"/opt/anaconda3/lib/python3.9/site-packages/sklearn/pipeline.py\", line 348, in _fit\n",
      "    X, fitted_transformer = fit_transform_one_cached(\n",
      "  File \"/opt/anaconda3/lib/python3.9/site-packages/joblib/memory.py\", line 349, in __call__\n",
      "    return self.func(*args, **kwargs)\n",
      "  File \"/opt/anaconda3/lib/python3.9/site-packages/sklearn/pipeline.py\", line 893, in _fit_transform_one\n",
      "    res = transformer.fit_transform(X, y, **fit_params)\n",
      "  File \"/opt/anaconda3/lib/python3.9/site-packages/sklearn/compose/_column_transformer.py\", line 675, in fit_transform\n",
      "    result = self._fit_transform(X, y, _fit_transform_one)\n",
      "  File \"/opt/anaconda3/lib/python3.9/site-packages/sklearn/compose/_column_transformer.py\", line 606, in _fit_transform\n",
      "    return Parallel(n_jobs=self.n_jobs)(\n",
      "  File \"/opt/anaconda3/lib/python3.9/site-packages/joblib/parallel.py\", line 1046, in __call__\n",
      "    while self.dispatch_one_batch(iterator):\n",
      "  File \"/opt/anaconda3/lib/python3.9/site-packages/joblib/parallel.py\", line 861, in dispatch_one_batch\n",
      "    self._dispatch(tasks)\n",
      "  File \"/opt/anaconda3/lib/python3.9/site-packages/joblib/parallel.py\", line 779, in _dispatch\n",
      "    job = self._backend.apply_async(batch, callback=cb)\n",
      "  File \"/opt/anaconda3/lib/python3.9/site-packages/joblib/_parallel_backends.py\", line 208, in apply_async\n",
      "    result = ImmediateResult(func)\n",
      "  File \"/opt/anaconda3/lib/python3.9/site-packages/joblib/_parallel_backends.py\", line 572, in __init__\n",
      "    self.results = batch()\n",
      "  File \"/opt/anaconda3/lib/python3.9/site-packages/joblib/parallel.py\", line 262, in __call__\n",
      "    return [func(*args, **kwargs)\n",
      "  File \"/opt/anaconda3/lib/python3.9/site-packages/joblib/parallel.py\", line 262, in <listcomp>\n",
      "    return [func(*args, **kwargs)\n",
      "  File \"/opt/anaconda3/lib/python3.9/site-packages/sklearn/utils/fixes.py\", line 216, in __call__\n",
      "    return self.function(*args, **kwargs)\n",
      "  File \"/opt/anaconda3/lib/python3.9/site-packages/sklearn/pipeline.py\", line 893, in _fit_transform_one\n",
      "    res = transformer.fit_transform(X, y, **fit_params)\n",
      "  File \"/opt/anaconda3/lib/python3.9/site-packages/sklearn/pipeline.py\", line 426, in fit_transform\n",
      "    Xt = self._fit(X, y, **fit_params_steps)\n",
      "  File \"/opt/anaconda3/lib/python3.9/site-packages/sklearn/pipeline.py\", line 348, in _fit\n",
      "    X, fitted_transformer = fit_transform_one_cached(\n",
      "  File \"/opt/anaconda3/lib/python3.9/site-packages/joblib/memory.py\", line 349, in __call__\n",
      "    return self.func(*args, **kwargs)\n",
      "  File \"/opt/anaconda3/lib/python3.9/site-packages/sklearn/pipeline.py\", line 893, in _fit_transform_one\n",
      "    res = transformer.fit_transform(X, y, **fit_params)\n",
      "  File \"/opt/anaconda3/lib/python3.9/site-packages/sklearn/base.py\", line 855, in fit_transform\n",
      "    return self.fit(X, y, **fit_params).transform(X)\n",
      "  File \"/opt/anaconda3/lib/python3.9/site-packages/sklearn/impute/_base.py\", line 319, in fit\n",
      "    X = self._validate_input(X, in_fit=True)\n",
      "  File \"/opt/anaconda3/lib/python3.9/site-packages/sklearn/impute/_base.py\", line 244, in _validate_input\n",
      "    raise ValueError(\n",
      "ValueError: Can only use these strategies: ['mean', 'median', 'most_frequent', 'constant']  got strategy=costant\n",
      "\n",
      "  warnings.warn(some_fits_failed_message, FitFailedWarning)\n",
      "/opt/anaconda3/lib/python3.9/site-packages/sklearn/model_selection/_search.py:969: UserWarning: One or more of the test scores are non-finite: [-3308199.6613554  -3308199.6613554                nan               nan\n",
      " -3268023.49906389 -3268023.49906389               nan               nan\n",
      " -3259086.92502567 -3259086.92502567               nan               nan]\n",
      "  warnings.warn(\n",
      "/opt/anaconda3/lib/python3.9/site-packages/sklearn/impute/_base.py:49: FutureWarning: Unlike other reduction functions (e.g. `skew`, `kurtosis`), the default behavior of `mode` typically preserves the axis it acts along. In SciPy 1.11.0, this behavior will change: the default value of `keepdims` will become False, the `axis` over which the statistic is taken will be eliminated, and the value None will no longer be accepted. Set `keepdims` to True or False to avoid this warning.\n",
      "  mode = stats.mode(array)\n"
     ]
    },
    {
     "data": {
      "text/plain": "GridSearchCV(cv=5,\n             estimator=Pipeline(steps=[('preprocessor',\n                                        ColumnTransformer(transformers=[('num',\n                                                                         SimpleImputer(strategy='most_frequent'),\n                                                                         ['latitude',\n                                                                          'longitude',\n                                                                          'baths',\n                                                                          'bedrooms',\n                                                                          'Area '\n                                                                          'Size']),\n                                                                        ('cat',\n                                                                         Pipeline(steps=[('imputer',\n                                                                                          SimpleImputer(strategy='most_frequent')),\n                                                                                         ('OHE',\n                                                                                          OneHotEncoder(handle_unknown='ignore',\n                                                                                                        sparse=False))]),\n                                                                         ['property_type',\n                                                                          'city',\n                                                                          'province_name',\n                                                                          'purpose',\n                                                                          'Area '\n                                                                          'Type'])])),\n                                       ('model',\n                                        RandomForestRegressor(n_estimators=50,\n                                                              random_state=0))]),\n             n_jobs=-1,\n             param_grid={'model__n_estimators': [20, 50, 75],\n                         'preprocessor__cat__imputer__strategy': ['most_frequent',\n                                                                  'costant'],\n                         'preprocessor__num__strategy': ['most_frequent',\n                                                         'constant']},\n             scoring='neg_mean_absolute_error')"
     },
     "execution_count": 21,
     "metadata": {},
     "output_type": "execute_result"
    }
   ],
   "source": [
    "from sklearn.model_selection import  GridSearchCV\n",
    "\n",
    "params = {\n",
    "    'model__n_estimators': [20,50,75],\n",
    "    'preprocessor__num__strategy': ['most_frequent','constant'],\n",
    "    'preprocessor__cat__imputer__strategy': ['most_frequent','costant'],\n",
    "}\n",
    "\n",
    "gs = GridSearchCV(my_pipeline, params, scoring='neg_mean_absolute_error', cv=5, n_jobs=-1)\n",
    "\n",
    "gs.fit(X,y)"
   ],
   "metadata": {
    "collapsed": false,
    "ExecuteTime": {
     "start_time": "2023-05-20T16:51:24.172959Z",
     "end_time": "2023-05-20T16:52:44.316872Z"
    }
   }
  },
  {
   "cell_type": "code",
   "execution_count": 22,
   "outputs": [
    {
     "data": {
      "text/plain": "Pipeline(steps=[('preprocessor',\n                 ColumnTransformer(transformers=[('num',\n                                                  SimpleImputer(strategy='most_frequent'),\n                                                  ['latitude', 'longitude',\n                                                   'baths', 'bedrooms',\n                                                   'Area Size']),\n                                                 ('cat',\n                                                  Pipeline(steps=[('imputer',\n                                                                   SimpleImputer(strategy='most_frequent')),\n                                                                  ('OHE',\n                                                                   OneHotEncoder(handle_unknown='ignore',\n                                                                                 sparse=False))]),\n                                                  ['property_type', 'city',\n                                                   'province_name', 'purpose',\n                                                   'Area Type'])])),\n                ('model',\n                 RandomForestRegressor(n_estimators=75, random_state=0))])"
     },
     "execution_count": 22,
     "metadata": {},
     "output_type": "execute_result"
    }
   ],
   "source": [
    "gs.best_estimator_"
   ],
   "metadata": {
    "collapsed": false,
    "ExecuteTime": {
     "start_time": "2023-05-20T16:52:55.594736Z",
     "end_time": "2023-05-20T16:52:55.600669Z"
    }
   }
  },
  {
   "cell_type": "code",
   "execution_count": 23,
   "outputs": [
    {
     "data": {
      "text/plain": "-3259086.925025675"
     },
     "execution_count": 23,
     "metadata": {},
     "output_type": "execute_result"
    }
   ],
   "source": [
    "gs.best_score_"
   ],
   "metadata": {
    "collapsed": false,
    "ExecuteTime": {
     "start_time": "2023-05-20T16:53:34.272090Z",
     "end_time": "2023-05-20T16:53:34.284383Z"
    }
   }
  },
  {
   "cell_type": "markdown",
   "source": [
    "# 2 Metodo:\n",
    "\n",
    "Il problema con il primo metodo e che perdi le informazioni che scarti nella fase  del `ColumnTrasformer` .\n",
    "\n",
    "Per evitare questo si utilizza un parametro del `ColumnTrasformer`  chiamato `remainder` che possiede tre possibile soluzione:\n",
    "\n",
    "1. `passthrough` le colonne che non vengono interessata dal Trasformer vengono passate direttamente all’output\n",
    "2. specificare un trasformatore di  ********default******** che viene applicato nelle colonne che non vengono interessate\n",
    "3. Il default che elimina le colonne non interessante"
   ],
   "metadata": {
    "collapsed": false
   }
  },
  {
   "cell_type": "code",
   "execution_count": null,
   "outputs": [
    {
     "name": "stderr",
     "output_type": "stream",
     "text": [
      "/opt/anaconda3/lib/python3.9/site-packages/sklearn/impute/_base.py:49: FutureWarning: Unlike other reduction functions (e.g. `skew`, `kurtosis`), the default behavior of `mode` typically preserves the axis it acts along. In SciPy 1.11.0, this behavior will change: the default value of `keepdims` will become False, the `axis` over which the statistic is taken will be eliminated, and the value None will no longer be accepted. Set `keepdims` to True or False to avoid this warning.\n",
      "  mode = stats.mode(array)\n"
     ]
    }
   ],
   "source": [
    "numerical_transformer = SimpleImputer(strategy='most_frequent')\n",
    "\n",
    "preproces = ColumnTransformer(transformers=\n",
    "                           [('num',numerical_transformer,numerical_cols)],\n",
    "                           remainder=OneHotEncoder(handle_unknown='ignore',sparse=False))\n",
    "\n",
    "# creiamo la pipeline:\n",
    "my_pipeline = Pipeline(steps=[\n",
    "    ('preprocessor',preproces),\n",
    "    ('model',model),\n",
    "])\n",
    "\n",
    "my_pipeline.fit(X_train,y_train)\n",
    "\n",
    "pred = my_pipeline.predict(X_test)\n",
    "\n",
    "# valutiamo il modello\n",
    "score = sqrt(mean_absolute_error(y_test,pred))\n",
    "print(\"MAE: \", score)"
   ],
   "metadata": {
    "collapsed": false,
    "pycharm": {
     "is_executing": true
    }
   }
  },
  {
   "cell_type": "markdown",
   "source": [
    "# Metodo alternativo per indicare le colonne\n",
    "\n",
    "Il problema che se indichiamo le colonne con il loro nome, e il trasformatore é dopo un altro invece di essere prima, questo causerà un problema.\n",
    "\n",
    "Per risolverlo si utilizza:"
   ],
   "metadata": {
    "collapsed": false
   }
  },
  {
   "cell_type": "code",
   "execution_count": 16,
   "outputs": [
    {
     "data": {
      "text/plain": "[5, 6, 7, 10, 15]"
     },
     "execution_count": 16,
     "metadata": {},
     "output_type": "execute_result"
    }
   ],
   "source": [
    "X_test.columns.get_indexer(numerical_cols).tolist()"
   ],
   "metadata": {
    "collapsed": false,
    "ExecuteTime": {
     "start_time": "2023-05-20T18:09:02.624328Z",
     "end_time": "2023-05-20T18:09:02.627986Z"
    }
   }
  },
  {
   "cell_type": "code",
   "execution_count": 19,
   "outputs": [
    {
     "data": {
      "text/plain": "array([[0.39023229, 0.91889088, 0.03706551, 0.03706551, 0.02471034],\n       [0.4163612 , 0.90430029, 0.        , 0.03712957, 0.08663567],\n       [0.34392081, 0.92984375, 0.09705468, 0.08318972, 0.02772991],\n       ...,\n       [0.3941204 , 0.91487207, 0.        , 0.        , 0.08762535],\n       [0.34751909, 0.93503173, 0.02777824, 0.02777824, 0.0583343 ],\n       [0.39034891, 0.9066204 , 0.03721898, 0.02481265, 0.15383843]])"
     },
     "execution_count": 19,
     "metadata": {},
     "output_type": "execute_result"
    }
   ],
   "source": [
    "from sklearn.preprocessing import Normalizer\n",
    "from sklearn.compose import ColumnTransformer\n",
    "\n",
    "# preprocessing  per tutto il dataset\n",
    "simple = SimpleImputer(strategy=\"most_frequent\")\n",
    "\n",
    "norma = Normalizer()\n",
    "\n",
    "\n",
    "prepro = ColumnTransformer(transformers=[('num', norma, X_train.columns.get_indexer(numerical_cols))])\n",
    "\n",
    "prep_transfor = Pipeline(steps=[('simple',simple),('prep',prepro)])\n",
    "\n",
    "prep_transfor.fit_transform(X_train)"
   ],
   "metadata": {
    "collapsed": false,
    "ExecuteTime": {
     "start_time": "2023-05-20T18:15:09.664132Z",
     "end_time": "2023-05-20T18:15:10.030864Z"
    }
   }
  },
  {
   "cell_type": "markdown",
   "source": [
    "# FeatureUnion:\n",
    "\n",
    "É una terza tipo di pipeline che prende delle altre pipeline e applica al dataset queste pipeline in parallelo:"
   ],
   "metadata": {
    "collapsed": false
   }
  },
  {
   "cell_type": "code",
   "execution_count": 22,
   "outputs": [],
   "source": [
    "from sklearn.pipeline import FeatureUnion\n",
    "from sklearn import datasets\n",
    "iris = datasets.load_iris()\n",
    "\n",
    "X = iris.data\n",
    "y = iris.target\n",
    "\n",
    "from sklearn.model_selection import train_test_split\n",
    "X_train, X_valid, y_train, y_valid = train_test_split(X, y, train_size=0.8, test_size=0.2,\n",
    "                                                      random_state=0)"
   ],
   "metadata": {
    "collapsed": false,
    "ExecuteTime": {
     "start_time": "2023-05-20T18:42:29.951705Z",
     "end_time": "2023-05-20T18:42:29.963030Z"
    }
   }
  },
  {
   "cell_type": "code",
   "execution_count": 23,
   "outputs": [
    {
     "data": {
      "text/plain": "4"
     },
     "execution_count": 23,
     "metadata": {},
     "output_type": "execute_result"
    }
   ],
   "source": [
    "from sklearn.feature_selection import SelectKBest\n",
    "\n",
    "pca = PCA(n_components=2)\n",
    "\n",
    "selection =  SelectKBest(k=2)\n",
    "\n",
    "scaler = MinMaxScaler(feature_range=(0,1))\n",
    "\n",
    "combine_feature = FeatureUnion([(\"pca\",pca), (\"select\",selection), ('normal',scaler)])"
   ],
   "metadata": {
    "collapsed": false,
    "ExecuteTime": {
     "start_time": "2023-05-20T18:42:30.757467Z",
     "end_time": "2023-05-20T18:42:30.762724Z"
    }
   }
  },
  {
   "cell_type": "markdown",
   "source": [
    "Il metodo `SelectKBest()` permette di estrarre solo le migliori k colonne.\n",
    "\n",
    "Una cosa da osservare:"
   ],
   "metadata": {
    "collapsed": false
   }
  },
  {
   "cell_type": "code",
   "execution_count": 31,
   "outputs": [
    {
     "data": {
      "text/plain": "4"
     },
     "execution_count": 31,
     "metadata": {},
     "output_type": "execute_result"
    }
   ],
   "source": [
    "X.shape[1]"
   ],
   "metadata": {
    "collapsed": false,
    "ExecuteTime": {
     "start_time": "2023-05-20T18:49:44.350585Z",
     "end_time": "2023-05-20T18:49:44.354824Z"
    }
   }
  },
  {
   "cell_type": "code",
   "execution_count": 24,
   "outputs": [
    {
     "data": {
      "text/plain": "2"
     },
     "execution_count": 24,
     "metadata": {},
     "output_type": "execute_result"
    }
   ],
   "source": [
    "pca.fit_transform(X).shape[1]"
   ],
   "metadata": {
    "collapsed": false,
    "ExecuteTime": {
     "start_time": "2023-05-20T18:43:02.478058Z",
     "end_time": "2023-05-20T18:43:02.495946Z"
    }
   }
  },
  {
   "cell_type": "code",
   "execution_count": 27,
   "outputs": [
    {
     "data": {
      "text/plain": "2"
     },
     "execution_count": 27,
     "metadata": {},
     "output_type": "execute_result"
    }
   ],
   "source": [
    "selection.fit_transform(X,y).shape[1]"
   ],
   "metadata": {
    "collapsed": false,
    "ExecuteTime": {
     "start_time": "2023-05-20T18:43:47.526644Z",
     "end_time": "2023-05-20T18:43:47.531485Z"
    }
   }
  },
  {
   "cell_type": "code",
   "execution_count": 28,
   "outputs": [
    {
     "data": {
      "text/plain": "4"
     },
     "execution_count": 28,
     "metadata": {},
     "output_type": "execute_result"
    }
   ],
   "source": [
    "scaler.fit_transform(X).shape[1]"
   ],
   "metadata": {
    "collapsed": false,
    "ExecuteTime": {
     "start_time": "2023-05-20T18:44:02.390895Z",
     "end_time": "2023-05-20T18:44:02.414096Z"
    }
   }
  },
  {
   "cell_type": "code",
   "execution_count": 29,
   "outputs": [
    {
     "data": {
      "text/plain": "8"
     },
     "execution_count": 29,
     "metadata": {},
     "output_type": "execute_result"
    }
   ],
   "source": [
    "combine_feature.fit_transform(X,y).shape[1]"
   ],
   "metadata": {
    "collapsed": false,
    "ExecuteTime": {
     "start_time": "2023-05-20T18:44:24.244064Z",
     "end_time": "2023-05-20T18:44:24.266886Z"
    }
   }
  },
  {
   "cell_type": "code",
   "execution_count": 30,
   "outputs": [
    {
     "name": "stdout",
     "output_type": "stream",
     "text": [
      "[Pipeline] . (step 1 of 2) Processing combined_features, total=   0.0s\n",
      "[Pipeline] ............. (step 2 of 2) Processing model, total=   0.0s\n",
      "Accuracy Score: 1.0\n"
     ]
    }
   ],
   "source": [
    "from sklearn.linear_model import LogisticRegression\n",
    "from sklearn.metrics import accuracy_score\n",
    "model = LogisticRegression()\n",
    "\n",
    "\n",
    "# Bundle preprocessing and modeling code in a pipeline\n",
    "my_pipeline = Pipeline(steps=[('combined_features', combine_feature),\n",
    "                              ('model', model)\n",
    "                              ], verbose = True)\n",
    "\n",
    "# Preprocessing of training data, fit model\n",
    "my_pipeline.fit(X_train, y_train)\n",
    "\n",
    "# Preprocessing of validation data, get predictions\n",
    "preds = my_pipeline.predict(X_valid)\n",
    "\n",
    "# Evaluate the model\n",
    "score = accuracy_score(y_valid, preds)\n",
    "print('Accuracy Score:', score)"
   ],
   "metadata": {
    "collapsed": false,
    "ExecuteTime": {
     "start_time": "2023-05-20T18:44:54.299452Z",
     "end_time": "2023-05-20T18:44:54.321197Z"
    }
   }
  },
  {
   "cell_type": "markdown",
   "source": [
    "# FunctionTrasformer:\n",
    "\n",
    "É possibile creare dei trasformatori personalizzati:\n",
    "Teneto conto però che i trasformer ritornano degli array non dei DataFrame"
   ],
   "metadata": {
    "collapsed": false
   }
  },
  {
   "cell_type": "code",
   "execution_count": 34,
   "outputs": [
    {
     "name": "stdout",
     "output_type": "stream",
     "text": [
      "[Pipeline] ......... (step 1 of 2) Processing drop_cols, total=   0.0s\n",
      "[Pipeline] ........... (step 2 of 2) Processing fill_na, total=   0.1s\n"
     ]
    },
    {
     "name": "stderr",
     "output_type": "stream",
     "text": [
      "/opt/anaconda3/lib/python3.9/site-packages/sklearn/impute/_base.py:49: FutureWarning: Unlike other reduction functions (e.g. `skew`, `kurtosis`), the default behavior of `mode` typically preserves the axis it acts along. In SciPy 1.11.0, this behavior will change: the default value of `keepdims` will become False, the `axis` over which the statistic is taken will be eliminated, and the value None will no longer be accepted. Set `keepdims` to True or False to avoid this warning.\n",
      "  mode = stats.mode(array)\n"
     ]
    },
    {
     "name": "stdout",
     "output_type": "stream",
     "text": [
      "MAE: 8392568.661241287\n"
     ]
    }
   ],
   "source": [
    "from sklearn.preprocessing import FunctionTransformer\n",
    "from sklearn.ensemble import RandomForestRegressor\n",
    "from sklearn.metrics import mean_absolute_error\n",
    "\n",
    "dataset = pd.read_csv(\"Data/zameen-updated.csv\")\n",
    "columns = dataset.columns.to_list()\n",
    "columns.remove('price')\n",
    "X = dataset[columns]\n",
    "y = dataset['price']\n",
    "\n",
    "X_train, X_valid, y_train, y_valid = train_test_split(X, y, train_size=0.8, test_size=0.2,\n",
    "                                                      random_state=0)\n",
    "\n",
    "#Selecting the numerical columns -> toglie le colonne che sono di tipo testuali, mantiene solo le numeriche\n",
    "def columns_num(X):\n",
    "    numerical_cols = [cname for cname in X.columns if  X[cname].dtype in ['int64', 'float64']]\n",
    "    return X.loc[:,numerical_cols]\n",
    "\n",
    "fill_na_transformer = Pipeline(steps=[ ('drop_cols', FunctionTransformer(columns_num, validate=False)), # input viene lasciato così come e quindi permette di avviare la funzione ( perchè se validate=True renderebbe l'input un array monodimensionale\n",
    "                                       ('fill_na', SimpleImputer(strategy='most_frequent'))  ], verbose=True)\n",
    "\n",
    "\n",
    "model = RandomForestRegressor(n_estimators=5, random_state=0)\n",
    "\n",
    "\n",
    "\n",
    "# Bundle preprocessing and modeling code in a pipeline\n",
    "my_pipeline = Pipeline(steps=[('preprocessor', fill_na_transformer),\n",
    "                              ('model', model)\n",
    "                              ])\n",
    "\n",
    "# Preprocessing of training data, fit model\n",
    "my_pipeline.fit(X_train, y_train)\n",
    "\n",
    "# Preprocessing of validation data, get predictions\n",
    "preds = my_pipeline.predict(X_valid)\n",
    "\n",
    "# Evaluate the model\n",
    "score = mean_absolute_error(y_valid, preds)\n",
    "print('MAE:', score)"
   ],
   "metadata": {
    "collapsed": false,
    "ExecuteTime": {
     "start_time": "2023-05-20T18:54:48.011752Z",
     "end_time": "2023-05-20T18:54:50.640384Z"
    }
   }
  }
 ],
 "metadata": {
  "kernelspec": {
   "display_name": "Python 3",
   "language": "python",
   "name": "python3"
  },
  "language_info": {
   "codemirror_mode": {
    "name": "ipython",
    "version": 2
   },
   "file_extension": ".py",
   "mimetype": "text/x-python",
   "name": "python",
   "nbconvert_exporter": "python",
   "pygments_lexer": "ipython2",
   "version": "2.7.6"
  }
 },
 "nbformat": 4,
 "nbformat_minor": 0
}
