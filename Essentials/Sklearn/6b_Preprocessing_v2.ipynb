{
 "nbformat": 4,
 "nbformat_minor": 0,
 "metadata": {
  "kernelspec": {
   "display_name": "Python 3",
   "language": "python",
   "name": "python3"
  },
  "language_info": {
   "codemirror_mode": {
    "name": "ipython",
    "version": 3
   },
   "file_extension": ".py",
   "mimetype": "text/x-python",
   "name": "python",
   "nbconvert_exporter": "python",
   "pygments_lexer": "ipython3",
   "version": "3.6.9"
  },
  "colab": {
   "provenance": []
  }
 },
 "cells": [
  {
   "cell_type": "markdown",
   "metadata": {
    "id": "uEZDBAtRNkGD"
   },
   "source": [
    "# Preprocessing data"
   ]
  },
  {
   "cell_type": "markdown",
   "metadata": {
    "id": "FHqUR4F1NkGF"
   },
   "source": [
    "### Standardization, or mean removal and variance scaling\n"
   ]
  },
  {
   "cell_type": "markdown",
   "metadata": {
    "id": "j-lzTNXTNkGG"
   },
   "source": [
    "Standardization of datasets is a common requirement for many machine learning estimators implemented in scikit-learn; \n",
    "\n",
    "In practice we often ignore the shape of the distribution and just transform the data to center it by removing the mean value of each feature, then scale it by dividing non-constant features by their standard deviation.\n",
    "\n",
    "\n",
    "Generalmente gli algoritmi di ML lavorano meglio con caratteristiche che si trovano in una scala simile e sono simili alla distribuzione normale\n"
   ]
  },
  {
   "cell_type": "code",
   "metadata": {
    "id": "n8kBGdMJNkGG",
    "ExecuteTime": {
     "start_time": "2023-05-02T16:17:36.366175Z",
     "end_time": "2023-05-02T16:17:39.261861Z"
    }
   },
   "source": [
    "from sklearn import preprocessing\n",
    "import numpy as np\n",
    "import pandas as pd\n",
    "\n",
    "X_train = np.array([[ 1., -1.,  2.],\n",
    "                    [ 2.,  0.,  0.],\n",
    "                    [ 0.,  1., -1.]])\n",
    "\n",
    "X_scaled = preprocessing.scale(X_train) # non viene utilizzato questo metodo\n",
    "\n",
    "X_scaled     "
   ],
   "execution_count": 1,
   "outputs": [
    {
     "data": {
      "text/plain": "array([[ 0.        , -1.22474487,  1.33630621],\n       [ 1.22474487,  0.        , -0.26726124],\n       [-1.22474487,  1.22474487, -1.06904497]])"
     },
     "execution_count": 1,
     "metadata": {},
     "output_type": "execute_result"
    }
   ]
  },
  {
   "cell_type": "code",
   "metadata": {
    "id": "lyQzUCIFK215",
    "ExecuteTime": {
     "start_time": "2023-05-02T16:17:39.261530Z",
     "end_time": "2023-05-02T16:17:39.264404Z"
    }
   },
   "source": [
    "X_train.std(axis=0) # deviazione std"
   ],
   "execution_count": 2,
   "outputs": [
    {
     "data": {
      "text/plain": "array([0.81649658, 0.81649658, 1.24721913])"
     },
     "execution_count": 2,
     "metadata": {},
     "output_type": "execute_result"
    }
   ]
  },
  {
   "cell_type": "code",
   "metadata": {
    "id": "0urVF9uEKxWd",
    "ExecuteTime": {
     "start_time": "2023-05-02T16:17:39.265130Z",
     "end_time": "2023-05-02T16:17:39.267474Z"
    }
   },
   "source": [
    "X_train.mean(axis=0)"
   ],
   "execution_count": 3,
   "outputs": [
    {
     "data": {
      "text/plain": "array([1.        , 0.        , 0.33333333])"
     },
     "execution_count": 3,
     "metadata": {},
     "output_type": "execute_result"
    }
   ]
  },
  {
   "cell_type": "code",
   "metadata": {
    "id": "BJnV7Wi6NkGJ",
    "ExecuteTime": {
     "start_time": "2023-05-02T16:17:39.268616Z",
     "end_time": "2023-05-02T16:17:39.271059Z"
    }
   },
   "source": [
    "X_scaled.mean(axis=0)"
   ],
   "execution_count": 4,
   "outputs": [
    {
     "data": {
      "text/plain": "array([0., 0., 0.])"
     },
     "execution_count": 4,
     "metadata": {},
     "output_type": "execute_result"
    }
   ]
  },
  {
   "cell_type": "code",
   "metadata": {
    "id": "ezZ8RGESNkGM",
    "ExecuteTime": {
     "start_time": "2023-05-02T16:17:39.273537Z",
     "end_time": "2023-05-02T16:17:39.275415Z"
    }
   },
   "source": [
    "X_scaled.std(axis=0)"
   ],
   "execution_count": 5,
   "outputs": [
    {
     "data": {
      "text/plain": "array([1., 1., 1.])"
     },
     "execution_count": 5,
     "metadata": {},
     "output_type": "execute_result"
    }
   ]
  },
  {
   "cell_type": "markdown",
   "metadata": {
    "id": "V0dwh-YHNkGO"
   },
   "source": [
    "The standard score of a sample x is calculated as:\n",
    "<tt>z = (x - u) / s</tt>\n",
    "where u is the mean of the training samples or zero if <tt>with_mean=False</tt>, and s is the standard deviation of the training samples or one if <tt>with_std=False</tt>.\n",
    "\n",
    "\n",
    "The preprocessing module further provides a utility class `StandardScaler` that implements the Transformer API to compute the mean and standard deviation on a training set so as to be able to later reapply the same transformation on the testing set.\n",
    "\n",
    "Quindi permette di calcolare la media e la deviazione std in un dataset di allenamento per poi successivamente riapplicare la stessa trasformazione sul dataset di test"
   ]
  },
  {
   "cell_type": "code",
   "metadata": {
    "id": "BQCBHOBzNkGP",
    "ExecuteTime": {
     "start_time": "2023-05-02T16:17:39.276165Z",
     "end_time": "2023-05-02T16:17:39.277941Z"
    }
   },
   "source": [
    "sss = preprocessing.StandardScaler() # si istanzia il modello che si vuole usare\n",
    "scaler = sss.fit(X_train) # calcola la media e la deviazione std per utilizzarli per il successivo ridimensionamento"
   ],
   "execution_count": 6,
   "outputs": []
  },
  {
   "cell_type": "code",
   "metadata": {
    "id": "kriAXDyPNkGT",
    "ExecuteTime": {
     "start_time": "2023-05-02T16:17:39.278591Z",
     "end_time": "2023-05-02T16:17:39.281227Z"
    }
   },
   "source": [
    "scaler.mean_ "
   ],
   "execution_count": 7,
   "outputs": [
    {
     "data": {
      "text/plain": "array([1.        , 0.        , 0.33333333])"
     },
     "execution_count": 7,
     "metadata": {},
     "output_type": "execute_result"
    }
   ]
  },
  {
   "cell_type": "code",
   "metadata": {
    "id": "yjwkXPiZNkGX",
    "ExecuteTime": {
     "start_time": "2023-05-02T16:17:39.282185Z",
     "end_time": "2023-05-02T16:17:39.305714Z"
    }
   },
   "source": [
    "scaler.scale_ "
   ],
   "execution_count": 8,
   "outputs": [
    {
     "data": {
      "text/plain": "array([0.81649658, 0.81649658, 1.24721913])"
     },
     "execution_count": 8,
     "metadata": {},
     "output_type": "execute_result"
    }
   ]
  },
  {
   "cell_type": "code",
   "metadata": {
    "id": "g81V64OTNkGZ",
    "ExecuteTime": {
     "start_time": "2023-05-02T16:17:39.285680Z",
     "end_time": "2023-05-02T16:17:39.306204Z"
    }
   },
   "source": [
    "newX_Train = scaler.transform(X_train) "
   ],
   "execution_count": 9,
   "outputs": []
  },
  {
   "cell_type": "code",
   "metadata": {
    "id": "rhU4v1Xr8ZSd",
    "ExecuteTime": {
     "start_time": "2023-05-02T16:17:39.289534Z",
     "end_time": "2023-05-02T16:17:39.306404Z"
    }
   },
   "source": [
    "scaler.fit(X_train)\n",
    "scaler.transform(X_train) # per l'andamento del modello stesso"
   ],
   "execution_count": 10,
   "outputs": [
    {
     "data": {
      "text/plain": "array([[ 0.        , -1.22474487,  1.33630621],\n       [ 1.22474487,  0.        , -0.26726124],\n       [-1.22474487,  1.22474487, -1.06904497]])"
     },
     "execution_count": 10,
     "metadata": {},
     "output_type": "execute_result"
    }
   ]
  },
  {
   "cell_type": "code",
   "metadata": {
    "id": "dOtzJFf5NkGc",
    "ExecuteTime": {
     "start_time": "2023-05-02T16:17:39.293666Z",
     "end_time": "2023-05-02T16:17:39.306612Z"
    }
   },
   "source": [
    "scaler.fit_transform(X_train) # abbiamo il dataset nella sua interezza"
   ],
   "execution_count": 11,
   "outputs": [
    {
     "data": {
      "text/plain": "array([[ 0.        , -1.22474487,  1.33630621],\n       [ 1.22474487,  0.        , -0.26726124],\n       [-1.22474487,  1.22474487, -1.06904497]])"
     },
     "execution_count": 11,
     "metadata": {},
     "output_type": "execute_result"
    }
   ]
  },
  {
   "cell_type": "code",
   "metadata": {
    "id": "65edBiNfmlD7",
    "ExecuteTime": {
     "start_time": "2023-05-02T16:17:39.297394Z",
     "end_time": "2023-05-02T16:17:39.306783Z"
    }
   },
   "source": [
    "scaler.fit_transform(X_train).mean()"
   ],
   "execution_count": 12,
   "outputs": [
    {
     "data": {
      "text/plain": "4.9343245538895844e-17"
     },
     "execution_count": 12,
     "metadata": {},
     "output_type": "execute_result"
    }
   ]
  },
  {
   "cell_type": "code",
   "metadata": {
    "id": "3sRYq5KPmqv-",
    "ExecuteTime": {
     "start_time": "2023-05-02T16:17:39.301405Z",
     "end_time": "2023-05-02T16:17:39.306936Z"
    }
   },
   "source": [
    "scaler.fit_transform(X_train).std()"
   ],
   "execution_count": 13,
   "outputs": [
    {
     "data": {
      "text/plain": "1.0"
     },
     "execution_count": 13,
     "metadata": {},
     "output_type": "execute_result"
    }
   ]
  },
  {
   "cell_type": "markdown",
   "metadata": {
    "id": "5gCw0tHgNkGf"
   },
   "source": [
    "The scaler instance can then be used on new data to transform it the same way it did on the training set\n",
    "\n"
   ]
  },
  {
   "cell_type": "code",
   "metadata": {
    "id": "dxkGCwKmNkGf",
    "ExecuteTime": {
     "start_time": "2023-05-02T16:17:39.307895Z",
     "end_time": "2023-05-02T16:17:39.318279Z"
    }
   },
   "source": [
    "X_test = [[-1., 1., 0.]]\n",
    "scaler.transform(X_test)    "
   ],
   "execution_count": 14,
   "outputs": [
    {
     "data": {
      "text/plain": "array([[-2.44948974,  1.22474487, -0.26726124]])"
     },
     "execution_count": 14,
     "metadata": {},
     "output_type": "execute_result"
    }
   ]
  },
  {
   "cell_type": "markdown",
   "metadata": {
    "id": "WuqSnnTRNkGh"
   },
   "source": [
    "### Scaling features to a range"
   ]
  },
  {
   "cell_type": "markdown",
   "metadata": {
    "id": "ZB5x4XOGNkGj"
   },
   "source": [
    "An alternative standardization is scaling features to lie between a given minimum and maximum value, often between zero and one, or so that the maximum absolute value of each feature is scaled to unit size."
   ]
  },
  {
   "cell_type": "code",
   "metadata": {
    "id": "vkb3NZgLNkGj",
    "ExecuteTime": {
     "start_time": "2023-05-02T16:17:39.311112Z",
     "end_time": "2023-05-02T16:17:39.318400Z"
    }
   },
   "source": [
    "# il KNN deve prima essere normalizzato:\n",
    "X_train = np.array([[ 1., -1.,  2.],\n",
    "                    [ 2.,  0.,  0.],\n",
    "                    [ 0.,  1., -1.]])"
   ],
   "execution_count": 15,
   "outputs": []
  },
  {
   "cell_type": "code",
   "metadata": {
    "id": "9XZVQLdaNkGl",
    "ExecuteTime": {
     "start_time": "2023-05-02T16:17:39.313683Z",
     "end_time": "2023-05-02T16:17:39.318473Z"
    }
   },
   "source": [
    "min_max_scaler = preprocessing.MinMaxScaler((0,1)) # default [0,1]"
   ],
   "execution_count": 16,
   "outputs": []
  },
  {
   "cell_type": "code",
   "metadata": {
    "id": "o-v5jbBINkGo",
    "ExecuteTime": {
     "start_time": "2023-05-02T16:17:39.316752Z",
     "end_time": "2023-05-02T16:17:39.327670Z"
    }
   },
   "source": [
    "min_max_scaler.fit(X_train)"
   ],
   "execution_count": 17,
   "outputs": [
    {
     "data": {
      "text/plain": "MinMaxScaler()"
     },
     "execution_count": 17,
     "metadata": {},
     "output_type": "execute_result"
    }
   ]
  },
  {
   "cell_type": "code",
   "metadata": {
    "id": "DP0CR5gaNkGq",
    "ExecuteTime": {
     "start_time": "2023-05-02T16:17:39.321468Z",
     "end_time": "2023-05-02T16:17:39.327916Z"
    }
   },
   "source": [
    "min_max_scaler.transform(X_train)"
   ],
   "execution_count": 18,
   "outputs": [
    {
     "data": {
      "text/plain": "array([[0.5       , 0.        , 1.        ],\n       [1.        , 0.5       , 0.33333333],\n       [0.        , 1.        , 0.        ]])"
     },
     "execution_count": 18,
     "metadata": {},
     "output_type": "execute_result"
    }
   ]
  },
  {
   "cell_type": "code",
   "metadata": {
    "id": "l5MDQQgjNkGs",
    "ExecuteTime": {
     "start_time": "2023-05-02T16:17:39.324691Z",
     "end_time": "2023-05-02T16:17:39.386208Z"
    }
   },
   "source": [
    "X_train_minmax = min_max_scaler.fit_transform(X_train)"
   ],
   "execution_count": 19,
   "outputs": []
  },
  {
   "cell_type": "code",
   "metadata": {
    "id": "pT5W7z2INkGv",
    "ExecuteTime": {
     "start_time": "2023-05-02T16:17:39.327516Z",
     "end_time": "2023-05-02T16:17:39.386607Z"
    }
   },
   "source": [
    "X_train_minmax"
   ],
   "execution_count": 20,
   "outputs": [
    {
     "data": {
      "text/plain": "array([[0.5       , 0.        , 1.        ],\n       [1.        , 0.5       , 0.33333333],\n       [0.        , 1.        , 0.        ]])"
     },
     "execution_count": 20,
     "metadata": {},
     "output_type": "execute_result"
    }
   ]
  },
  {
   "cell_type": "code",
   "metadata": {
    "id": "gpMedwIGNkGx",
    "ExecuteTime": {
     "start_time": "2023-05-02T16:17:39.331540Z",
     "end_time": "2023-05-02T16:17:39.415994Z"
    }
   },
   "source": [
    "X_test = np.array([[-3., -1.,  4.]])\n",
    "X_test_minmax = min_max_scaler.transform(X_test)\n",
    "X_test_minmax # perché i parametri calcolati si abasa sulla matrice precedente"
   ],
   "execution_count": 21,
   "outputs": [
    {
     "data": {
      "text/plain": "array([[-1.5       ,  0.        ,  1.66666667]])"
     },
     "execution_count": 21,
     "metadata": {},
     "output_type": "execute_result"
    }
   ]
  },
  {
   "cell_type": "code",
   "metadata": {
    "id": "atAwNYv5m5rA",
    "ExecuteTime": {
     "start_time": "2023-05-02T16:17:39.334773Z",
     "end_time": "2023-05-02T16:17:39.416260Z"
    }
   },
   "source": [
    "X_train.mean()"
   ],
   "execution_count": 22,
   "outputs": [
    {
     "data": {
      "text/plain": "0.4444444444444444"
     },
     "execution_count": 22,
     "metadata": {},
     "output_type": "execute_result"
    }
   ]
  },
  {
   "cell_type": "code",
   "metadata": {
    "id": "QcsxNiD4m9g8",
    "ExecuteTime": {
     "start_time": "2023-05-02T16:17:39.338109Z",
     "end_time": "2023-05-02T16:17:39.416714Z"
    }
   },
   "source": [
    "X_train_minmax.mean()"
   ],
   "execution_count": 23,
   "outputs": [
    {
     "data": {
      "text/plain": "0.48148148148148145"
     },
     "execution_count": 23,
     "metadata": {},
     "output_type": "execute_result"
    }
   ]
  },
  {
   "cell_type": "code",
   "metadata": {
    "id": "ofu6y-QRm9dV",
    "ExecuteTime": {
     "start_time": "2023-05-02T16:17:39.341672Z",
     "end_time": "2023-05-02T16:17:39.416889Z"
    }
   },
   "source": [
    "X_train.std()"
   ],
   "execution_count": 24,
   "outputs": [
    {
     "data": {
      "text/plain": "1.0657403385139377"
     },
     "execution_count": 24,
     "metadata": {},
     "output_type": "execute_result"
    }
   ]
  },
  {
   "cell_type": "code",
   "metadata": {
    "id": "8fynT2gem9Z2",
    "ExecuteTime": {
     "start_time": "2023-05-02T16:17:39.345187Z",
     "end_time": "2023-05-02T16:17:39.417129Z"
    }
   },
   "source": [
    "X_train_minmax.std()"
   ],
   "execution_count": 25,
   "outputs": [
    {
     "data": {
      "text/plain": "0.4115946439054235"
     },
     "execution_count": 25,
     "metadata": {},
     "output_type": "execute_result"
    }
   ]
  },
  {
   "cell_type": "markdown",
   "metadata": {
    "id": "344q1JOwNkG0"
   },
   "source": [
    "The transformation is computed as:\n",
    "\n",
    "<tt>X_scaled = scale * X + min - X.min(axis=0) * scale</tt>\n",
    "\n",
    "where <tt>scale = (max - min) / (X.max(axis=0) - X.min(axis=0))</tt>"
   ]
  },
  {
   "cell_type": "code",
   "metadata": {
    "id": "t6USunY-NkG0",
    "ExecuteTime": {
     "start_time": "2023-05-02T16:17:39.348775Z",
     "end_time": "2023-05-02T16:17:39.417278Z"
    }
   },
   "source": [
    "min_max_scaler.scale_  "
   ],
   "execution_count": 26,
   "outputs": [
    {
     "data": {
      "text/plain": "array([0.5       , 0.5       , 0.33333333])"
     },
     "execution_count": 26,
     "metadata": {},
     "output_type": "execute_result"
    }
   ]
  },
  {
   "cell_type": "markdown",
   "metadata": {
    "id": "_l-9AZsRNkHD"
   },
   "source": [
    "If your data contains many outliers, scaling using the mean and variance of the data is likely to not work very well. In these cases, you can use robust_scale and RobustScaler (x_scaled = x / max(abs(x)))\n",
    "as drop-in replacements instead. They use more robust estimates for the center and range of your data.\n",
    "\n"
   ]
  },
  {
   "cell_type": "code",
   "metadata": {
    "id": "ExvvyfZANkHD",
    "ExecuteTime": {
     "start_time": "2023-05-02T16:17:39.352009Z",
     "end_time": "2023-05-02T16:17:39.417352Z"
    }
   },
   "source": [
    "from sklearn.preprocessing import RobustScaler #  attutisce l'importanza degli outliers = valore anomali\n",
    "X = [[ 1., -2.,  2.],\n",
    "     [ -2.,  1.,  3.],\n",
    "     [ 4.,  1., -2.]]"
   ],
   "execution_count": 27,
   "outputs": []
  },
  {
   "cell_type": "code",
   "metadata": {
    "id": "tKo-0I_hNkHG",
    "ExecuteTime": {
     "start_time": "2023-05-02T16:17:39.354975Z",
     "end_time": "2023-05-02T16:17:39.417416Z"
    }
   },
   "source": [
    "transformer = RobustScaler().fit(X)"
   ],
   "execution_count": 28,
   "outputs": []
  },
  {
   "cell_type": "code",
   "metadata": {
    "id": "KKUzJzNl-dDL",
    "ExecuteTime": {
     "start_time": "2023-05-02T16:17:39.360156Z",
     "end_time": "2023-05-02T16:17:39.417530Z"
    }
   },
   "source": [
    "transformer.scale_"
   ],
   "execution_count": 29,
   "outputs": [
    {
     "data": {
      "text/plain": "array([3. , 1.5, 2.5])"
     },
     "execution_count": 29,
     "metadata": {},
     "output_type": "execute_result"
    }
   ]
  },
  {
   "cell_type": "code",
   "metadata": {
    "id": "eZLEqPrzNkHS",
    "ExecuteTime": {
     "start_time": "2023-05-02T16:17:39.363473Z",
     "end_time": "2023-05-02T16:17:39.417689Z"
    }
   },
   "source": [
    "transformer.transform(X)"
   ],
   "execution_count": 30,
   "outputs": [
    {
     "data": {
      "text/plain": "array([[ 0. , -2. ,  0. ],\n       [-1. ,  0. ,  0.4],\n       [ 1. ,  0. , -1.6]])"
     },
     "execution_count": 30,
     "metadata": {},
     "output_type": "execute_result"
    }
   ]
  },
  {
   "cell_type": "markdown",
   "metadata": {
    "id": "RSiUhq3wNkHU"
   },
   "source": [
    "## Normalization\n"
   ]
  },
  {
   "cell_type": "markdown",
   "metadata": {
    "id": "tYDtanXtNkHU"
   },
   "source": [
    "Normalization is the process of scaling individual samples to have unit norm(norma unitaria). This process can be useful if you plan to use a quadratic form such as the dot-product(prodotto scalare) or any other kernel to quantify the similarity of any pair of samples.\n",
    "\n",
    "‘l1’\n",
    "The l1 norm uses the sum of all the values as and thus gives equal penalty to all parameters, enforcing sparsity.\n",
    "x_normalized = x / sum(X)\n",
    "\n",
    "\n",
    "‘l2’\n",
    "The l2 norm uses the square root of the sum of all the squared values. This creates smoothness and rotational invariance. Some models, like PCA( [Analisi delle componenti principali](https://it.wikipedia.org/wiki/Analisi_delle_componenti_principali ) , assume rotational invariance, and so l2 will perform better.\n",
    "x_normalized = x / sqrt(sum((i**2) for i in X))"
   ]
  },
  {
   "cell_type": "code",
   "metadata": {
    "id": "MVY0yz-uNkHV",
    "ExecuteTime": {
     "start_time": "2023-05-02T16:17:39.368118Z",
     "end_time": "2023-05-02T16:17:39.417776Z"
    }
   },
   "source": [
    "# Normalization -> lavora sulle righe, lavorando in orrizzontale\n",
    "X = np.array([[1., -1.,  2.],\n",
    "     [ 2.,  0.,  0.],\n",
    "     [ 0.,  1., -1.]])\n",
    "X_normalized = preprocessing.normalize(X, norm='l2')"
   ],
   "execution_count": 31,
   "outputs": []
  },
  {
   "cell_type": "code",
   "metadata": {
    "id": "XgpfOf3fy7FC",
    "ExecuteTime": {
     "start_time": "2023-05-02T16:17:39.370627Z",
     "end_time": "2023-05-02T16:17:39.417838Z"
    }
   },
   "source": [
    "# the same as previous X_normalized = preprocessing.Normalizer(norm='l2').fit_transform(X)"
   ],
   "execution_count": 32,
   "outputs": []
  },
  {
   "cell_type": "code",
   "metadata": {
    "id": "FE-rv9EeNkHY",
    "ExecuteTime": {
     "start_time": "2023-05-02T16:17:39.373808Z",
     "end_time": "2023-05-02T16:17:39.417950Z"
    }
   },
   "source": [
    "X_normalized                                      "
   ],
   "execution_count": 33,
   "outputs": [
    {
     "data": {
      "text/plain": "array([[ 0.40824829, -0.40824829,  0.81649658],\n       [ 1.        ,  0.        ,  0.        ],\n       [ 0.        ,  0.70710678, -0.70710678]])"
     },
     "execution_count": 33,
     "metadata": {},
     "output_type": "execute_result"
    }
   ]
  },
  {
   "cell_type": "code",
   "metadata": {
    "id": "WZvskl7f_EV-",
    "ExecuteTime": {
     "start_time": "2023-05-02T16:17:39.376937Z",
     "end_time": "2023-05-02T16:17:39.418050Z"
    }
   },
   "source": [
    "np.sqrt(0.40824829**2 + 0.40824829**2 + 0.81649658**2)"
   ],
   "execution_count": 34,
   "outputs": [
    {
     "data": {
      "text/plain": "0.9999999988637723"
     },
     "execution_count": 34,
     "metadata": {},
     "output_type": "execute_result"
    }
   ]
  },
  {
   "cell_type": "markdown",
   "metadata": {
    "id": "3KCZQAmrxEHP"
   },
   "source": [
    "You can refer to [https://scikit-learn.org/stable/auto_examples/preprocessing/plot_all_scaling.html](https://scikit-learn.org/stable/auto_examples/preprocessing/plot_all_scaling.html) for more details."
   ]
  },
  {
   "cell_type": "markdown",
   "metadata": {
    "id": "VEsK6xb9NkHb"
   },
   "source": [
    "##  Encoding categorical features\n",
    "Le features categoriche devono essere di trasformarli in vettori numerici"
   ]
  },
  {
   "cell_type": "code",
   "metadata": {
    "id": "l68BkGzK_-Wl",
    "ExecuteTime": {
     "start_time": "2023-05-02T16:17:39.380865Z",
     "end_time": "2023-05-02T16:17:39.418164Z"
    }
   },
   "source": [
    "X = [['male', 'from US', 'uses Safari'], \n",
    "     ['female', 'from Europe', 'uses Firefox']]\n",
    "X"
   ],
   "execution_count": 35,
   "outputs": [
    {
     "data": {
      "text/plain": "[['male', 'from US', 'uses Safari'], ['female', 'from Europe', 'uses Firefox']]"
     },
     "execution_count": 35,
     "metadata": {},
     "output_type": "execute_result"
    }
   ]
  },
  {
   "cell_type": "code",
   "metadata": {
    "id": "ZSWKCxGRNkHb",
    "ExecuteTime": {
     "start_time": "2023-05-02T16:17:39.384531Z",
     "end_time": "2023-05-02T16:17:39.419016Z"
    }
   },
   "source": [
    "enc = preprocessing.OneHotEncoder()\n",
    "enc.fit(X)  "
   ],
   "execution_count": 36,
   "outputs": [
    {
     "data": {
      "text/plain": "OneHotEncoder()"
     },
     "execution_count": 36,
     "metadata": {},
     "output_type": "execute_result"
    }
   ]
  },
  {
   "cell_type": "code",
   "metadata": {
    "id": "Y9th2WJwNkHh",
    "ExecuteTime": {
     "start_time": "2023-05-02T16:17:39.389454Z",
     "end_time": "2023-05-02T16:17:39.419171Z"
    }
   },
   "source": [
    "enc.transform([['female', 'from US', 'uses Safari'],\n",
    "               ['male', 'from Europe', 'uses Firefox']]).toarray() # se non applico questo viene stampato con una matrice sparsa"
   ],
   "execution_count": 37,
   "outputs": [
    {
     "data": {
      "text/plain": "array([[1., 0., 0., 1., 0., 1.],\n       [0., 1., 1., 0., 1., 0.]])"
     },
     "execution_count": 37,
     "metadata": {},
     "output_type": "execute_result"
    }
   ]
  },
  {
   "cell_type": "code",
   "execution_count": 38,
   "outputs": [
    {
     "data": {
      "text/plain": "array(['x0_female', 'x0_male', 'x1_from Europe', 'x1_from US',\n       'x2_uses Firefox', 'x2_uses Safari'], dtype=object)"
     },
     "execution_count": 38,
     "metadata": {},
     "output_type": "execute_result"
    }
   ],
   "source": [
    "enc.get_feature_names_out() # per avere le etichette"
   ],
   "metadata": {
    "collapsed": false,
    "ExecuteTime": {
     "start_time": "2023-05-02T16:17:39.392716Z",
     "end_time": "2023-05-02T16:17:39.419283Z"
    }
   }
  },
  {
   "cell_type": "code",
   "source": [
    "enc = preprocessing.OneHotEncoder(sparse=False) # tolgo lo sparse\n",
    "X = [['male', 'from US', 'uses Safari'], ['female', 'from Europe', 'uses Firefox']]\n",
    "enc.fit(X) "
   ],
   "metadata": {
    "id": "ugMYxG6Z-4Yh",
    "ExecuteTime": {
     "start_time": "2023-05-02T16:17:39.396312Z",
     "end_time": "2023-05-02T16:17:39.419395Z"
    }
   },
   "execution_count": 39,
   "outputs": [
    {
     "data": {
      "text/plain": "OneHotEncoder(sparse=False)"
     },
     "execution_count": 39,
     "metadata": {},
     "output_type": "execute_result"
    }
   ]
  },
  {
   "cell_type": "code",
   "source": [
    "enc.transform([['female', 'from US', 'uses Safari'],\n",
    "               ['male', 'from Europe', 'uses Firefox']]) # non é necessario il toarray()"
   ],
   "metadata": {
    "id": "OPo4OFIx-_xE",
    "ExecuteTime": {
     "start_time": "2023-05-02T16:17:39.399849Z",
     "end_time": "2023-05-02T16:17:39.419559Z"
    }
   },
   "execution_count": 40,
   "outputs": [
    {
     "data": {
      "text/plain": "array([[1., 0., 0., 1., 0., 1.],\n       [0., 1., 1., 0., 1., 0.]])"
     },
     "execution_count": 40,
     "metadata": {},
     "output_type": "execute_result"
    }
   ]
  },
  {
   "cell_type": "code",
   "metadata": {
    "id": "G6jJ97jjM4nh",
    "ExecuteTime": {
     "start_time": "2023-05-02T16:17:39.409965Z",
     "end_time": "2023-05-02T16:17:39.527540Z"
    }
   },
   "source": [
    "enc.transform([['male', 'from US', 'uses Safari'], ['female', 'from Europe', 'uses Firefox']])"
   ],
   "execution_count": 41,
   "outputs": [
    {
     "data": {
      "text/plain": "array([[0., 1., 0., 1., 0., 1.],\n       [1., 0., 1., 0., 1., 0.]])"
     },
     "execution_count": 41,
     "metadata": {},
     "output_type": "execute_result"
    }
   ]
  },
  {
   "cell_type": "code",
   "metadata": {
    "id": "aMJUhjNnNEnN",
    "ExecuteTime": {
     "start_time": "2023-05-02T16:17:39.413289Z",
     "end_time": "2023-05-02T16:17:39.527946Z"
    }
   },
   "source": [
    "enc.categories_"
   ],
   "execution_count": 42,
   "outputs": [
    {
     "data": {
      "text/plain": "[array(['female', 'male'], dtype=object),\n array(['from Europe', 'from US'], dtype=object),\n array(['uses Firefox', 'uses Safari'], dtype=object)]"
     },
     "execution_count": 42,
     "metadata": {},
     "output_type": "execute_result"
    }
   ]
  },
  {
   "cell_type": "code",
   "source": [
    "enc = preprocessing.OneHotEncoder()\n",
    "X = [['male', 'from US', 'uses Safari'], ['female', 'from Europe', 'uses Firefox']]\n",
    "enc.fit(X) "
   ],
   "metadata": {
    "id": "FYbWzw5ZAILG",
    "ExecuteTime": {
     "start_time": "2023-05-02T16:17:39.416877Z",
     "end_time": "2023-05-02T16:17:39.528152Z"
    }
   },
   "execution_count": 43,
   "outputs": [
    {
     "data": {
      "text/plain": "OneHotEncoder()"
     },
     "execution_count": 43,
     "metadata": {},
     "output_type": "execute_result"
    }
   ]
  },
  {
   "cell_type": "code",
   "metadata": {
    "id": "JMHliDR3Aqu9",
    "ExecuteTime": {
     "start_time": "2023-05-02T16:17:39.425001Z",
     "end_time": "2023-05-02T16:17:39.528815Z"
    }
   },
   "source": [
    "pd.DataFrame(X, columns=['gender', 'locations', 'browser'])"
   ],
   "execution_count": 44,
   "outputs": [
    {
     "data": {
      "text/plain": "   gender    locations       browser\n0    male      from US   uses Safari\n1  female  from Europe  uses Firefox",
      "text/html": "<div>\n<style scoped>\n    .dataframe tbody tr th:only-of-type {\n        vertical-align: middle;\n    }\n\n    .dataframe tbody tr th {\n        vertical-align: top;\n    }\n\n    .dataframe thead th {\n        text-align: right;\n    }\n</style>\n<table border=\"1\" class=\"dataframe\">\n  <thead>\n    <tr style=\"text-align: right;\">\n      <th></th>\n      <th>gender</th>\n      <th>locations</th>\n      <th>browser</th>\n    </tr>\n  </thead>\n  <tbody>\n    <tr>\n      <th>0</th>\n      <td>male</td>\n      <td>from US</td>\n      <td>uses Safari</td>\n    </tr>\n    <tr>\n      <th>1</th>\n      <td>female</td>\n      <td>from Europe</td>\n      <td>uses Firefox</td>\n    </tr>\n  </tbody>\n</table>\n</div>"
     },
     "execution_count": 44,
     "metadata": {},
     "output_type": "execute_result"
    }
   ]
  },
  {
   "cell_type": "code",
   "metadata": {
    "id": "tzwyZ_k0A0JX",
    "ExecuteTime": {
     "start_time": "2023-05-02T16:17:39.436877Z",
     "end_time": "2023-05-02T16:17:39.529017Z"
    }
   },
   "source": [
    "# per creare un dataset che sia leggibile\n",
    "X = [['male', 'from Asia', 'uses Safari'], ['female', 'from Europe', 'uses Firefox'], ['male', 'from Asia', 'uses Safari']]\n",
    "enc.fit(X)\n",
    "\n",
    "new_features = []\n",
    "for i in enc.categories_:\n",
    "  for j in i:\n",
    "    new_features.append(j)\n",
    "\n",
    "\n",
    "Xnew = enc.transform(X).toarray()\n",
    "pd.DataFrame(Xnew, columns=new_features)"
   ],
   "execution_count": 45,
   "outputs": [
    {
     "data": {
      "text/plain": "   female  male  from Asia  from Europe  uses Firefox  uses Safari\n0     0.0   1.0        1.0          0.0           0.0          1.0\n1     1.0   0.0        0.0          1.0           1.0          0.0\n2     0.0   1.0        1.0          0.0           0.0          1.0",
      "text/html": "<div>\n<style scoped>\n    .dataframe tbody tr th:only-of-type {\n        vertical-align: middle;\n    }\n\n    .dataframe tbody tr th {\n        vertical-align: top;\n    }\n\n    .dataframe thead th {\n        text-align: right;\n    }\n</style>\n<table border=\"1\" class=\"dataframe\">\n  <thead>\n    <tr style=\"text-align: right;\">\n      <th></th>\n      <th>female</th>\n      <th>male</th>\n      <th>from Asia</th>\n      <th>from Europe</th>\n      <th>uses Firefox</th>\n      <th>uses Safari</th>\n    </tr>\n  </thead>\n  <tbody>\n    <tr>\n      <th>0</th>\n      <td>0.0</td>\n      <td>1.0</td>\n      <td>1.0</td>\n      <td>0.0</td>\n      <td>0.0</td>\n      <td>1.0</td>\n    </tr>\n    <tr>\n      <th>1</th>\n      <td>1.0</td>\n      <td>0.0</td>\n      <td>0.0</td>\n      <td>1.0</td>\n      <td>1.0</td>\n      <td>0.0</td>\n    </tr>\n    <tr>\n      <th>2</th>\n      <td>0.0</td>\n      <td>1.0</td>\n      <td>1.0</td>\n      <td>0.0</td>\n      <td>0.0</td>\n      <td>1.0</td>\n    </tr>\n  </tbody>\n</table>\n</div>"
     },
     "execution_count": 45,
     "metadata": {},
     "output_type": "execute_result"
    }
   ]
  },
  {
   "cell_type": "code",
   "metadata": {
    "id": "6AskmDhMNkHj",
    "ExecuteTime": {
     "start_time": "2023-05-02T16:17:39.440601Z",
     "end_time": "2023-05-02T16:17:39.529357Z"
    }
   },
   "source": [
    "enc.categories_"
   ],
   "execution_count": 46,
   "outputs": [
    {
     "data": {
      "text/plain": "[array(['female', 'male'], dtype=object),\n array(['from Asia', 'from Europe'], dtype=object),\n array(['uses Firefox', 'uses Safari'], dtype=object)]"
     },
     "execution_count": 46,
     "metadata": {},
     "output_type": "execute_result"
    }
   ]
  },
  {
   "cell_type": "markdown",
   "metadata": {
    "id": "-V1Vy9yAipjK"
   },
   "source": [
    "with fixed categories value"
   ]
  },
  {
   "cell_type": "code",
   "metadata": {
    "id": "aLibdqXaNkHl",
    "ExecuteTime": {
     "start_time": "2023-05-02T16:17:39.444841Z",
     "end_time": "2023-05-02T16:17:39.529528Z"
    }
   },
   "source": [
    "genders = ['female', 'male']\n",
    "locations = ['from Africa', 'from Asia', 'from Europe', 'from US']\n",
    "browsers = ['uses Chrome', 'uses Firefox', 'uses IE', 'uses Safari']\n",
    "enc = preprocessing.OneHotEncoder(categories=[genders, locations, browsers])\n",
    "\n",
    "# Note that for there are missing categorical values for the 2nd and 3rd\n",
    "# feature\n",
    "\n",
    "\n",
    "X = [['male', 'from US', 'uses Safari'], ['female', 'from Europe', 'uses Firefox']]\n",
    "enc.fit(X) "
   ],
   "execution_count": 47,
   "outputs": [
    {
     "data": {
      "text/plain": "OneHotEncoder(categories=[['female', 'male'],\n                          ['from Africa', 'from Asia', 'from Europe',\n                           'from US'],\n                          ['uses Chrome', 'uses Firefox', 'uses IE',\n                           'uses Safari']])"
     },
     "execution_count": 47,
     "metadata": {},
     "output_type": "execute_result"
    }
   ]
  },
  {
   "cell_type": "code",
   "metadata": {
    "id": "9i8jFXsSNkHm",
    "ExecuteTime": {
     "start_time": "2023-05-02T16:17:39.448854Z",
     "end_time": "2023-05-02T16:17:39.529658Z"
    }
   },
   "source": [
    "enc.transform([['female', 'from Asia', 'uses Chrome']]).toarray()\n"
   ],
   "execution_count": 48,
   "outputs": [
    {
     "data": {
      "text/plain": "array([[1., 0., 0., 1., 0., 0., 1., 0., 0., 0.]])"
     },
     "execution_count": 48,
     "metadata": {},
     "output_type": "execute_result"
    }
   ]
  },
  {
   "cell_type": "markdown",
   "metadata": {
    "id": "7L3iVHUcilXb"
   },
   "source": [
    "with unknown values"
   ]
  },
  {
   "cell_type": "code",
   "source": [
    "enc.transform([['female', 'from Reggio', 'uses Chrome']]).toarray()"
   ],
   "metadata": {
    "id": "LexGcUMrArHx"
   },
   "execution_count": 49,
   "outputs": [
    {
     "ename": "ValueError",
     "evalue": "Found unknown categories ['from Reggio'] in column 1 during transform",
     "output_type": "error",
     "traceback": [
      "\u001B[0;31m---------------------------------------------------------------------------\u001B[0m",
      "\u001B[0;31mValueError\u001B[0m                                Traceback (most recent call last)",
      "\u001B[0;32m/var/folders/zk/y_05r4dd4q51x5hx9n0nwwk80000gn/T/ipykernel_8026/4239092357.py\u001B[0m in \u001B[0;36m<module>\u001B[0;34m\u001B[0m\n\u001B[0;32m----> 1\u001B[0;31m \u001B[0menc\u001B[0m\u001B[0;34m.\u001B[0m\u001B[0mtransform\u001B[0m\u001B[0;34m(\u001B[0m\u001B[0;34m[\u001B[0m\u001B[0;34m[\u001B[0m\u001B[0;34m'female'\u001B[0m\u001B[0;34m,\u001B[0m \u001B[0;34m'from Reggio'\u001B[0m\u001B[0;34m,\u001B[0m \u001B[0;34m'uses Chrome'\u001B[0m\u001B[0;34m]\u001B[0m\u001B[0;34m]\u001B[0m\u001B[0;34m)\u001B[0m\u001B[0;34m.\u001B[0m\u001B[0mtoarray\u001B[0m\u001B[0;34m(\u001B[0m\u001B[0;34m)\u001B[0m\u001B[0;34m\u001B[0m\u001B[0;34m\u001B[0m\u001B[0m\n\u001B[0m",
      "\u001B[0;32m/opt/anaconda3/lib/python3.9/site-packages/sklearn/preprocessing/_encoders.py\u001B[0m in \u001B[0;36mtransform\u001B[0;34m(self, X)\u001B[0m\n\u001B[1;32m    507\u001B[0m         \u001B[0;31m# validation of X happens in _check_X called by _transform\u001B[0m\u001B[0;34m\u001B[0m\u001B[0;34m\u001B[0m\u001B[0m\n\u001B[1;32m    508\u001B[0m         \u001B[0mwarn_on_unknown\u001B[0m \u001B[0;34m=\u001B[0m \u001B[0mself\u001B[0m\u001B[0;34m.\u001B[0m\u001B[0mhandle_unknown\u001B[0m \u001B[0;34m==\u001B[0m \u001B[0;34m\"ignore\"\u001B[0m \u001B[0;32mand\u001B[0m \u001B[0mself\u001B[0m\u001B[0;34m.\u001B[0m\u001B[0mdrop\u001B[0m \u001B[0;32mis\u001B[0m \u001B[0;32mnot\u001B[0m \u001B[0;32mNone\u001B[0m\u001B[0;34m\u001B[0m\u001B[0;34m\u001B[0m\u001B[0m\n\u001B[0;32m--> 509\u001B[0;31m         X_int, X_mask = self._transform(\n\u001B[0m\u001B[1;32m    510\u001B[0m             \u001B[0mX\u001B[0m\u001B[0;34m,\u001B[0m\u001B[0;34m\u001B[0m\u001B[0;34m\u001B[0m\u001B[0m\n\u001B[1;32m    511\u001B[0m             \u001B[0mhandle_unknown\u001B[0m\u001B[0;34m=\u001B[0m\u001B[0mself\u001B[0m\u001B[0;34m.\u001B[0m\u001B[0mhandle_unknown\u001B[0m\u001B[0;34m,\u001B[0m\u001B[0;34m\u001B[0m\u001B[0;34m\u001B[0m\u001B[0m\n",
      "\u001B[0;32m/opt/anaconda3/lib/python3.9/site-packages/sklearn/preprocessing/_encoders.py\u001B[0m in \u001B[0;36m_transform\u001B[0;34m(self, X, handle_unknown, force_all_finite, warn_on_unknown)\u001B[0m\n\u001B[1;32m    140\u001B[0m                         \u001B[0;34m\" during transform\"\u001B[0m\u001B[0;34m.\u001B[0m\u001B[0mformat\u001B[0m\u001B[0;34m(\u001B[0m\u001B[0mdiff\u001B[0m\u001B[0;34m,\u001B[0m \u001B[0mi\u001B[0m\u001B[0;34m)\u001B[0m\u001B[0;34m\u001B[0m\u001B[0;34m\u001B[0m\u001B[0m\n\u001B[1;32m    141\u001B[0m                     )\n\u001B[0;32m--> 142\u001B[0;31m                     \u001B[0;32mraise\u001B[0m \u001B[0mValueError\u001B[0m\u001B[0;34m(\u001B[0m\u001B[0mmsg\u001B[0m\u001B[0;34m)\u001B[0m\u001B[0;34m\u001B[0m\u001B[0;34m\u001B[0m\u001B[0m\n\u001B[0m\u001B[1;32m    143\u001B[0m                 \u001B[0;32melse\u001B[0m\u001B[0;34m:\u001B[0m\u001B[0;34m\u001B[0m\u001B[0;34m\u001B[0m\u001B[0m\n\u001B[1;32m    144\u001B[0m                     \u001B[0;32mif\u001B[0m \u001B[0mwarn_on_unknown\u001B[0m\u001B[0;34m:\u001B[0m\u001B[0;34m\u001B[0m\u001B[0;34m\u001B[0m\u001B[0m\n",
      "\u001B[0;31mValueError\u001B[0m: Found unknown categories ['from Reggio'] in column 1 during transform"
     ]
    }
   ]
  },
  {
   "cell_type": "code",
   "metadata": {
    "id": "8u__9fKWNkHp",
    "ExecuteTime": {
     "start_time": "2023-04-27T23:56:56.166044Z",
     "end_time": "2023-04-27T23:56:56.182527Z"
    }
   },
   "source": [
    "enc = preprocessing.OneHotEncoder(handle_unknown='ignore') # se lo incontra , mette uno 0\n",
    "X = [['male', 'from US', 'uses Safari'], ['female', 'from Europe', 'uses Firefox']]\n",
    "enc.fit(X) "
   ],
   "execution_count": null,
   "outputs": []
  },
  {
   "cell_type": "code",
   "source": [
    "enc.transform([['female', 'from Reggio', 'uses Firefox']]).toarray()"
   ],
   "metadata": {
    "id": "VXQWnHZEDozJ",
    "ExecuteTime": {
     "start_time": "2023-04-27T23:57:00.167690Z",
     "end_time": "2023-04-27T23:57:00.171372Z"
    }
   },
   "execution_count": null,
   "outputs": []
  },
  {
   "cell_type": "code",
   "source": [
    "enc = preprocessing.OneHotEncoder(handle_unknown='infrequent_if_exist') # in version 1.1 é stato aggiunto automaticamente\n",
    "X = [['male', 'from US', 'uses Safari'], ['female', 'from Europe', 'uses Firefox']]\n",
    "enc.fit(X)"
   ],
   "metadata": {
    "id": "rj10SiSCD0KT",
    "ExecuteTime": {
     "start_time": "2023-04-28T00:01:33.449406Z",
     "end_time": "2023-04-28T00:01:33.463628Z"
    }
   },
   "execution_count": null,
   "outputs": []
  },
  {
   "cell_type": "code",
   "source": [
    "enc.categories_"
   ],
   "metadata": {
    "id": "TzqxRe1oE-S4",
    "ExecuteTime": {
     "start_time": "2023-04-28T00:01:40.559637Z",
     "end_time": "2023-04-28T00:01:40.575865Z"
    }
   },
   "execution_count": null,
   "outputs": []
  },
  {
   "cell_type": "code",
   "source": [
    "enc.transform([['female', 'from Reggio', 'uses Firefox']]).toarray()"
   ],
   "metadata": {
    "id": "eauJijGZD4wQ"
   },
   "execution_count": null,
   "outputs": []
  },
  {
   "cell_type": "code",
   "source": [
    "enc.inverse_transform([[1., 0., 0., 0., 1., 0.]]) # inverte convertendo i dati nella rappresentazione orginale"
   ],
   "metadata": {
    "id": "VxfweGfSKhh_"
   },
   "execution_count": null,
   "outputs": []
  },
  {
   "cell_type": "code",
   "source": [
    "enc = preprocessing.OneHotEncoder(handle_unknown='infrequent_if_exist', min_frequency=1, max_categories=2)\n",
    "X = [['male', 'from US', 'uses Safari'], ['female', 'from Europe', 'uses Firefox'], ['female', 'from Europe', 'uses Firefox'], \n",
    "     ['female', 'from Europe', 'uses Firefox'],['female', 'from Europe', 'uses Firefox'], ['female', 'from Europe', 'uses Firefox']]\n",
    "enc.fit(X)"
   ],
   "metadata": {
    "id": "CsNTSv66EgBI"
   },
   "execution_count": null,
   "outputs": []
  },
  {
   "cell_type": "code",
   "source": [
    "enc.get_feature_names_out()"
   ],
   "metadata": {
    "id": "e1ZE2KE4FF7u"
   },
   "execution_count": null,
   "outputs": []
  },
  {
   "cell_type": "code",
   "source": [
    "enc.transform([['female', 'from Reggio', 'uses Firefox']]).toarray()"
   ],
   "metadata": {
    "id": "x8n5xU4lElok"
   },
   "execution_count": null,
   "outputs": []
  },
  {
   "cell_type": "code",
   "source": [
    "enc.transform([['male', 'from Europe', 'uses Firefox']]).toarray()"
   ],
   "metadata": {
    "id": "N9bs7DgvFYzR"
   },
   "execution_count": null,
   "outputs": []
  },
  {
   "cell_type": "code",
   "metadata": {
    "id": "LzW4OY6uNkHr"
   },
   "source": [
    "enc.transform([['female', 'from Asia', 'uses Chrome']]).toarray()"
   ],
   "execution_count": null,
   "outputs": []
  },
  {
   "cell_type": "code",
   "source": [
    "enc.inverse_transform([[1., 0., 0., 1., 0., 1.]])"
   ],
   "metadata": {
    "id": "lpYRL-LGKcGm"
   },
   "execution_count": null,
   "outputs": []
  },
  {
   "cell_type": "markdown",
   "metadata": {
    "id": "ZvC14g9wO2mD"
   },
   "source": [
    "drop first"
   ]
  },
  {
   "cell_type": "code",
   "metadata": {
    "id": "Kx-2ExMvNkHv",
    "ExecuteTime": {
     "start_time": "2023-04-28T00:07:49.155554Z",
     "end_time": "2023-04-28T00:07:49.198877Z"
    }
   },
   "source": [
    "X = [['male', 'from US', 'uses Safari'], ['female', 'from Europe', 'uses Firefox'], ['male', 'from Asia', 'uses Safari'], ['male', 'from Indo', 'uses Safari']]\n",
    "drop_enc = preprocessing.OneHotEncoder(drop='first').fit(X)\n",
    "# utile per situazioni in ui le features perfettamente collineari causano problemi, come quando si alimentano i dati risultati in una NN o in una regressione non regolarizzata"
   ],
   "execution_count": null,
   "outputs": []
  },
  {
   "cell_type": "code",
   "metadata": {
    "id": "joARNZbhNkHx",
    "ExecuteTime": {
     "start_time": "2023-04-28T00:07:51.066973Z",
     "end_time": "2023-04-28T00:07:51.070660Z"
    }
   },
   "source": [
    "drop_enc.categories_"
   ],
   "execution_count": null,
   "outputs": []
  },
  {
   "cell_type": "code",
   "source": [
    "drop_enc.get_feature_names_out()"
   ],
   "metadata": {
    "id": "4bxvTAwkIg_7",
    "ExecuteTime": {
     "start_time": "2023-04-28T00:07:57.281669Z",
     "end_time": "2023-04-28T00:07:57.285463Z"
    }
   },
   "execution_count": null,
   "outputs": []
  },
  {
   "cell_type": "code",
   "metadata": {
    "id": "iW6_EJsKNkHz",
    "ExecuteTime": {
     "start_time": "2023-04-28T00:08:18.373355Z",
     "end_time": "2023-04-28T00:08:18.385850Z"
    }
   },
   "source": [
    "drop_enc.transform(X).toarray()"
   ],
   "execution_count": null,
   "outputs": []
  },
  {
   "cell_type": "code",
   "metadata": {
    "id": "leLOgea2Dk_J",
    "ExecuteTime": {
     "start_time": "2023-04-28T00:08:23.737437Z",
     "end_time": "2023-04-28T00:08:23.754842Z"
    }
   },
   "source": [
    "drop_enc.transform([['female','from Asia', 'uses Firefox']]).toarray()"
   ],
   "execution_count": null,
   "outputs": []
  },
  {
   "cell_type": "code",
   "source": [
    "drop_enc.inverse_transform([[0., 0., 0., 0., 0.]])"
   ],
   "metadata": {
    "id": "HWlyzi_hKLwZ",
    "ExecuteTime": {
     "start_time": "2023-04-28T00:08:28.102374Z",
     "end_time": "2023-04-28T00:08:28.121518Z"
    }
   },
   "execution_count": null,
   "outputs": []
  },
  {
   "cell_type": "code",
   "source": [
    "enc = preprocessing.OrdinalEncoder() # fa il map"
   ],
   "metadata": {
    "id": "vJbsknFWJPSk",
    "ExecuteTime": {
     "start_time": "2023-04-28T00:08:37.678983Z",
     "end_time": "2023-04-28T00:08:37.709533Z"
    }
   },
   "execution_count": null,
   "outputs": []
  },
  {
   "cell_type": "code",
   "source": [
    "X = [['male', 'from US', 'uses Safari'], ['female', 'from Europe', 'uses Firefox']]\n",
    "enc.fit(X)"
   ],
   "metadata": {
    "id": "oV6nyPrmJPY-",
    "ExecuteTime": {
     "start_time": "2023-04-28T00:08:40.269630Z",
     "end_time": "2023-04-28T00:08:40.273665Z"
    }
   },
   "execution_count": null,
   "outputs": []
  },
  {
   "cell_type": "code",
   "source": [
    "enc.categories_"
   ],
   "metadata": {
    "id": "e5uFg2uUJnlf",
    "ExecuteTime": {
     "start_time": "2023-04-28T00:10:08.529454Z",
     "end_time": "2023-04-28T00:10:08.544672Z"
    }
   },
   "execution_count": null,
   "outputs": []
  },
  {
   "cell_type": "code",
   "source": [
    "enc.transform(X)"
   ],
   "metadata": {
    "id": "hWs0ctnKJPfS",
    "ExecuteTime": {
     "start_time": "2023-04-28T00:10:13.136558Z",
     "end_time": "2023-04-28T00:10:13.140289Z"
    }
   },
   "execution_count": null,
   "outputs": []
  },
  {
   "cell_type": "code",
   "source": [
    "enc.transform([['female','from Reggio', 'uses Safari']])"
   ],
   "metadata": {
    "id": "ZIGEMJvqJ4bt"
   },
   "execution_count": null,
   "outputs": []
  },
  {
   "cell_type": "markdown",
   "metadata": {
    "id": "6UyU3E91NkH1"
   },
   "source": [
    "## Discretization"
   ]
  },
  {
   "cell_type": "markdown",
   "metadata": {
    "id": "_Jo-Rb1BNkH1"
   },
   "source": [
    "Discretization (otherwise known as quantization or binning) provides a way to partition continuous features into discrete values. Certain datasets with continuous features may benefit from discretization, because discretization can transform the dataset of continuous attributes to one with only nominal attributes."
   ]
  },
  {
   "cell_type": "code",
   "metadata": {
    "id": "K3FanZC4NkH1",
    "ExecuteTime": {
     "start_time": "2023-04-29T12:44:59.457008Z",
     "end_time": "2023-04-29T12:44:59.461959Z"
    }
   },
   "source": [
    "X = np.array([[ -3., 5., 15 ],\n",
    "              [  0., 6., 14 ],\n",
    "              [  6., 3., 11 ]])\n",
    "est = preprocessing.KBinsDiscretizer(n_bins=[3, 2, 3], encode='ordinal').fit(X) # numero di bin che voglio per la colonna(feature) 1 , colonna 2 e colonna 3\n",
    "est"
   ],
   "execution_count": null,
   "outputs": []
  },
  {
   "cell_type": "code",
   "metadata": {
    "id": "ekpwBnFYNkH3",
    "ExecuteTime": {
     "start_time": "2023-04-29T12:45:15.896454Z",
     "end_time": "2023-04-29T12:45:15.902328Z"
    }
   },
   "source": [
    "est.transform(X)"
   ],
   "execution_count": null,
   "outputs": []
  },
  {
   "cell_type": "code",
   "execution_count": null,
   "outputs": [],
   "source": [
    "est = preprocessing.KBinsDiscretizer(n_bins=[3, 2, 3], encode='onehot').fit(X)\n",
    "est"
   ],
   "metadata": {
    "collapsed": false,
    "ExecuteTime": {
     "start_time": "2023-04-29T12:48:00.295219Z",
     "end_time": "2023-04-29T12:48:00.302995Z"
    }
   }
  },
  {
   "cell_type": "code",
   "execution_count": null,
   "outputs": [],
   "source": [
    "est.transform(X).toarray()"
   ],
   "metadata": {
    "collapsed": false,
    "ExecuteTime": {
     "start_time": "2023-04-29T12:48:14.317557Z",
     "end_time": "2023-04-29T12:48:14.324574Z"
    }
   }
  },
  {
   "cell_type": "code",
   "execution_count": null,
   "outputs": [],
   "source": [
    "est = preprocessing.KBinsDiscretizer(n_bins=[3, 2, 3], encode='onehot-dense').fit(X)\n",
    "est"
   ],
   "metadata": {
    "collapsed": false,
    "ExecuteTime": {
     "start_time": "2023-04-29T12:48:18.433748Z",
     "end_time": "2023-04-29T12:48:18.439349Z"
    }
   }
  },
  {
   "cell_type": "code",
   "execution_count": null,
   "outputs": [],
   "source": [
    "est.transform(X)"
   ],
   "metadata": {
    "collapsed": false,
    "ExecuteTime": {
     "start_time": "2023-04-29T12:48:21.034601Z",
     "end_time": "2023-04-29T12:48:21.043106Z"
    }
   }
  },
  {
   "cell_type": "markdown",
   "metadata": {
    "id": "2YOfvowz1x6E"
   },
   "source": [
    "There are different strategies implemented in KBinsDiscretizer:\n",
    "\n",
    "- ‘uniform’: The discretization is uniform in each feature, which means that the bin widths are constant in each dimension.\n",
    "\n",
    "- quantile’: The discretization is done on the quantiled values, which means that each bin has approximately the same number of samples.\n",
    "\n",
    "- ‘kmeans’: The discretization is based on the centroids of a KMeans clustering procedure.\n",
    "\n",
    "[Demonstrating the different strategies of KBinsDiscretizer](https://scikit-learn.org/stable/auto_examples/preprocessing/plot_discretization_strategies.html?highlight=kbinsdiscretizer)"
   ]
  },
  {
   "cell_type": "markdown",
   "metadata": {
    "id": "RQ1Oy1rgNkH6"
   },
   "source": [
    "Feature binarization is the process of thresholding numerical features to get boolean values. This can be useful for downstream probabilistic estimators that make assumption that the input data is distributed according to a multi-variate Bernoulli distribution."
   ]
  },
  {
   "cell_type": "code",
   "metadata": {
    "id": "Zd_zOlecNkH7",
    "ExecuteTime": {
     "start_time": "2023-05-02T16:17:53.738595Z",
     "end_time": "2023-05-02T16:17:53.742017Z"
    }
   },
   "source": [
    "X = [[ 1., -1.,  2.],\n",
    "     [ 2.,  0.,  0.],\n",
    "     [ 0.,  1., -1.]]\n",
    "\n",
    "binarizer = preprocessing.Binarizer().fit(X)  # fit does nothing\n",
    "binarizer"
   ],
   "execution_count": 51,
   "outputs": [
    {
     "data": {
      "text/plain": "Binarizer()"
     },
     "execution_count": 51,
     "metadata": {},
     "output_type": "execute_result"
    }
   ]
  },
  {
   "cell_type": "code",
   "metadata": {
    "id": "PRbcOLTLNkH-",
    "ExecuteTime": {
     "start_time": "2023-05-02T16:17:56.636317Z",
     "end_time": "2023-05-02T16:17:56.640129Z"
    }
   },
   "source": [
    "binarizer.transform(X)"
   ],
   "execution_count": 52,
   "outputs": [
    {
     "data": {
      "text/plain": "array([[1., 0., 1.],\n       [1., 0., 0.],\n       [0., 1., 0.]])"
     },
     "execution_count": 52,
     "metadata": {},
     "output_type": "execute_result"
    }
   ]
  },
  {
   "cell_type": "code",
   "metadata": {
    "id": "InpepFE2NkIB",
    "ExecuteTime": {
     "start_time": "2023-05-02T16:18:05.188933Z",
     "end_time": "2023-05-02T16:18:05.194119Z"
    }
   },
   "source": [
    "binarizer = preprocessing.Binarizer(threshold=1.1)"
   ],
   "execution_count": 53,
   "outputs": []
  },
  {
   "cell_type": "code",
   "execution_count": 54,
   "outputs": [
    {
     "data": {
      "text/plain": "array([[0., 0., 1.],\n       [1., 0., 0.],\n       [0., 0., 0.]])"
     },
     "execution_count": 54,
     "metadata": {},
     "output_type": "execute_result"
    }
   ],
   "source": [
    "binarizer.transform(X)"
   ],
   "metadata": {
    "collapsed": false,
    "ExecuteTime": {
     "start_time": "2023-05-02T16:18:06.758684Z",
     "end_time": "2023-05-02T16:18:06.764954Z"
    }
   }
  },
  {
   "cell_type": "code",
   "execution_count": 55,
   "outputs": [],
   "source": [
    "X[0][0] = 1.2"
   ],
   "metadata": {
    "collapsed": false,
    "ExecuteTime": {
     "start_time": "2023-05-02T16:18:26.024293Z",
     "end_time": "2023-05-02T16:18:26.031962Z"
    }
   }
  },
  {
   "cell_type": "code",
   "metadata": {
    "id": "Fu8vbEzfNkID",
    "ExecuteTime": {
     "start_time": "2023-05-02T16:18:28.960841Z",
     "end_time": "2023-05-02T16:18:28.966812Z"
    }
   },
   "source": [
    "binarizer.transform(X)"
   ],
   "execution_count": 56,
   "outputs": [
    {
     "data": {
      "text/plain": "array([[1., 0., 1.],\n       [1., 0., 0.],\n       [0., 0., 0.]])"
     },
     "execution_count": 56,
     "metadata": {},
     "output_type": "execute_result"
    }
   ]
  },
  {
   "cell_type": "markdown",
   "metadata": {
    "id": "ep7XWWUYNkIF"
   },
   "source": [
    "## Custom transformers"
   ]
  },
  {
   "cell_type": "markdown",
   "metadata": {
    "id": "7fdlq1gnNkIF"
   },
   "source": [
    "Often, you will want to convert an existing Python function into a transformer to assist in data cleaning or processing. "
   ]
  },
  {
   "cell_type": "code",
   "metadata": {
    "id": "pkTR2GPGNkIF",
    "ExecuteTime": {
     "start_time": "2023-04-28T17:41:29.635495Z",
     "end_time": "2023-04-28T17:41:29.642166Z"
    }
   },
   "source": [
    "import numpy as np\n",
    "from sklearn.preprocessing import FunctionTransformer\n",
    "\n",
    "transformer = FunctionTransformer(np.log1p, validate=True)\n",
    "X = np.array([[0, 1], [2, 3]])\n",
    "transformer.transform(X)"
   ],
   "execution_count": 69,
   "outputs": [
    {
     "data": {
      "text/plain": "array([[0.        , 0.69314718],\n       [1.09861229, 1.38629436]])"
     },
     "execution_count": 69,
     "metadata": {},
     "output_type": "execute_result"
    }
   ]
  },
  {
   "cell_type": "markdown",
   "metadata": {
    "id": "Hz-dmUSZSaG8"
   },
   "source": [
    "The *validate* parameter indicates that the input X array should be checked before calling func. The possibilities are:\n",
    "\n",
    "- If False, there is no input validation.\n",
    "\n",
    "- If True, then X will be converted to a 2-dimensional NumPy array or sparse matrix. If the conversion is not possible an exception is raised."
   ]
  },
  {
   "cell_type": "code",
   "metadata": {
    "id": "cGFhTXpx2enr",
    "ExecuteTime": {
     "start_time": "2023-04-28T17:41:08.784052Z",
     "end_time": "2023-04-28T17:41:08.797559Z"
    }
   },
   "source": [
    "type(X)"
   ],
   "execution_count": 65,
   "outputs": [
    {
     "data": {
      "text/plain": "numpy.ndarray"
     },
     "execution_count": 65,
     "metadata": {},
     "output_type": "execute_result"
    }
   ]
  },
  {
   "cell_type": "code",
   "metadata": {
    "id": "UlokF9eX2gD1",
    "ExecuteTime": {
     "start_time": "2023-04-28T17:41:25.224454Z",
     "end_time": "2023-04-28T17:41:25.235882Z"
    }
   },
   "source": [
    "type(transformer.transform(X)) "
   ],
   "execution_count": 68,
   "outputs": [
    {
     "data": {
      "text/plain": "numpy.ndarray"
     },
     "execution_count": 68,
     "metadata": {},
     "output_type": "execute_result"
    }
   ]
  },
  {
   "cell_type": "code",
   "metadata": {
    "id": "FQ9HW5OElk80",
    "ExecuteTime": {
     "start_time": "2023-04-28T17:41:32.481446Z",
     "end_time": "2023-04-28T17:41:32.493028Z"
    }
   },
   "source": [
    "df = pd.DataFrame(X)"
   ],
   "execution_count": 70,
   "outputs": []
  },
  {
   "cell_type": "code",
   "metadata": {
    "id": "di52gFG-E-Yr",
    "ExecuteTime": {
     "start_time": "2023-04-28T17:41:34.740662Z",
     "end_time": "2023-04-28T17:41:34.750322Z"
    }
   },
   "source": [
    "df"
   ],
   "execution_count": 71,
   "outputs": [
    {
     "data": {
      "text/plain": "   0  1\n0  0  1\n1  2  3",
      "text/html": "<div>\n<style scoped>\n    .dataframe tbody tr th:only-of-type {\n        vertical-align: middle;\n    }\n\n    .dataframe tbody tr th {\n        vertical-align: top;\n    }\n\n    .dataframe thead th {\n        text-align: right;\n    }\n</style>\n<table border=\"1\" class=\"dataframe\">\n  <thead>\n    <tr style=\"text-align: right;\">\n      <th></th>\n      <th>0</th>\n      <th>1</th>\n    </tr>\n  </thead>\n  <tbody>\n    <tr>\n      <th>0</th>\n      <td>0</td>\n      <td>1</td>\n    </tr>\n    <tr>\n      <th>1</th>\n      <td>2</td>\n      <td>3</td>\n    </tr>\n  </tbody>\n</table>\n</div>"
     },
     "execution_count": 71,
     "metadata": {},
     "output_type": "execute_result"
    }
   ]
  },
  {
   "cell_type": "code",
   "metadata": {
    "id": "ZNUjRc8USQdm",
    "ExecuteTime": {
     "start_time": "2023-04-28T17:41:38.881861Z",
     "end_time": "2023-04-28T17:41:38.892245Z"
    }
   },
   "source": [
    "transformer.transform(df)"
   ],
   "execution_count": 72,
   "outputs": [
    {
     "data": {
      "text/plain": "array([[0.        , 0.69314718],\n       [1.09861229, 1.38629436]])"
     },
     "execution_count": 72,
     "metadata": {},
     "output_type": "execute_result"
    }
   ]
  },
  {
   "cell_type": "code",
   "metadata": {
    "id": "OZOFk14WSUmC",
    "ExecuteTime": {
     "start_time": "2023-04-28T17:41:54.473297Z",
     "end_time": "2023-04-28T17:41:54.485335Z"
    }
   },
   "source": [
    "transformer = FunctionTransformer(np.log1p, validate=False)"
   ],
   "execution_count": 73,
   "outputs": []
  },
  {
   "cell_type": "code",
   "metadata": {
    "id": "3AoY6Ic0SYm3",
    "ExecuteTime": {
     "start_time": "2023-04-28T17:41:58.113749Z",
     "end_time": "2023-04-28T17:41:58.120661Z"
    }
   },
   "source": [
    "transformer.transform(df)"
   ],
   "execution_count": 74,
   "outputs": [
    {
     "data": {
      "text/plain": "          0         1\n0  0.000000  0.693147\n1  1.098612  1.386294",
      "text/html": "<div>\n<style scoped>\n    .dataframe tbody tr th:only-of-type {\n        vertical-align: middle;\n    }\n\n    .dataframe tbody tr th {\n        vertical-align: top;\n    }\n\n    .dataframe thead th {\n        text-align: right;\n    }\n</style>\n<table border=\"1\" class=\"dataframe\">\n  <thead>\n    <tr style=\"text-align: right;\">\n      <th></th>\n      <th>0</th>\n      <th>1</th>\n    </tr>\n  </thead>\n  <tbody>\n    <tr>\n      <th>0</th>\n      <td>0.000000</td>\n      <td>0.693147</td>\n    </tr>\n    <tr>\n      <th>1</th>\n      <td>1.098612</td>\n      <td>1.386294</td>\n    </tr>\n  </tbody>\n</table>\n</div>"
     },
     "execution_count": 74,
     "metadata": {},
     "output_type": "execute_result"
    }
   ]
  },
  {
   "cell_type": "markdown",
   "metadata": {
    "id": "XWhGL-Vy2VGo"
   },
   "source": [
    "Pay Attention!\n",
    "The result of a transformer is typically a np.array!"
   ]
  },
  {
   "cell_type": "code",
   "metadata": {
    "id": "Q4h19P1Z20lu",
    "ExecuteTime": {
     "start_time": "2023-04-28T17:42:38.053652Z",
     "end_time": "2023-04-28T17:42:38.061113Z"
    }
   },
   "source": [
    "preprocessing.StandardScaler().fit_transform(df)"
   ],
   "execution_count": 75,
   "outputs": [
    {
     "data": {
      "text/plain": "array([[-1., -1.],\n       [ 1.,  1.]])"
     },
     "execution_count": 75,
     "metadata": {},
     "output_type": "execute_result"
    }
   ]
  },
  {
   "cell_type": "code",
   "metadata": {
    "id": "H9-qct0m30rZ",
    "ExecuteTime": {
     "start_time": "2023-04-28T17:42:49.226367Z",
     "end_time": "2023-04-28T17:42:49.237178Z"
    }
   },
   "source": [
    "preprocessing.StandardScaler().fit_transform(X)"
   ],
   "execution_count": 76,
   "outputs": [
    {
     "data": {
      "text/plain": "array([[-1., -1.],\n       [ 1.,  1.]])"
     },
     "execution_count": 76,
     "metadata": {},
     "output_type": "execute_result"
    }
   ]
  },
  {
   "cell_type": "code",
   "source": [
    "X.shape"
   ],
   "metadata": {
    "id": "AJMFGAUmNgRM",
    "ExecuteTime": {
     "start_time": "2023-04-28T17:42:58.075690Z",
     "end_time": "2023-04-28T17:42:58.086772Z"
    }
   },
   "execution_count": 77,
   "outputs": [
    {
     "data": {
      "text/plain": "(2, 2)"
     },
     "execution_count": 77,
     "metadata": {},
     "output_type": "execute_result"
    }
   ]
  }
 ]
}
