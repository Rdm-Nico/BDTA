{
 "cells": [
  {
   "cell_type": "markdown",
   "source": [
    "# Esame 10/01/22\n",
    "## Parte 1"
   ],
   "metadata": {
    "collapsed": false
   }
  },
  {
   "cell_type": "code",
   "execution_count": 8,
   "outputs": [],
   "source": [
    "import pandas as pd\n",
    "import numpy as np\n",
    "import  matplotlib.pyplot as plt"
   ],
   "metadata": {
    "collapsed": false,
    "ExecuteTime": {
     "start_time": "2023-06-06T11:14:31.955899Z",
     "end_time": "2023-06-06T11:14:32.007167Z"
    }
   }
  },
  {
   "cell_type": "code",
   "execution_count": 9,
   "outputs": [
    {
     "data": {
      "text/plain": "<matplotlib.legend.Legend at 0x7ff31061f2b0>"
     },
     "execution_count": 9,
     "metadata": {},
     "output_type": "execute_result"
    },
    {
     "data": {
      "text/plain": "<Figure size 640x480 with 1 Axes>",
      "image/png": "[encoded data removed]"
     },
     "metadata": {},
     "output_type": "display_data"
    }
   ],
   "source": [
    "plt.hist([np.random.randn(10000),np.random.randn(100000)], bins=100,color=['g','r'],label=['first','second'])\n",
    "plt.xlabel(\"X-axis\")\n",
    "plt.ylabel(\"Y-axis\")\n",
    "plt.title(\"Title\")\n",
    "plt.legend()"
   ],
   "metadata": {
    "collapsed": false,
    "ExecuteTime": {
     "start_time": "2023-06-06T11:14:31.960262Z",
     "end_time": "2023-06-06T11:14:32.359118Z"
    }
   }
  },
  {
   "cell_type": "markdown",
   "source": [
    "# 1.1\n",
    "Quante sono le istanze contenute nel dataset? *17998* Il dataset è completo (cioè per ogni istanza tutti i valori di ogni attributo sono sempre correttamente specificati – non esistono “missing values”)? *Falso* Il dataset è bilanciato per quanto riguarda la classe da predire? *No*"
   ],
   "metadata": {
    "collapsed": false
   }
  },
  {
   "cell_type": "code",
   "execution_count": 10,
   "outputs": [
    {
     "data": {
      "text/plain": "       claim_number  age_of_driver gender  marital_status  annual_income  \\\n0                 1             46      M             1.0          38301   \n1                 3             21      F             0.0          30445   \n2                 4             49      F             0.0          38923   \n3                 5             58      F             1.0          40605   \n4                 6             38      M             1.0          36380   \n...             ...            ...    ...             ...            ...   \n17993         29993             69      M             1.0          42338   \n17994         29996             35      F             0.0          35579   \n17995         29997             27      F             1.0          32953   \n17996         29999             52      F             1.0          39519   \n17997         30000             61      F             0.0          41126   \n\n       high_education_ind  address_change_ind living_status claim_day_of_week  \\\n0                       1                   1          Rent            Friday   \n1                       0                   1          Rent          Thursday   \n2                       0                   1           Own           Tuesday   \n3                       1                   0           Own          Thursday   \n4                       1                   0          Rent           Tuesday   \n...                   ...                 ...           ...               ...   \n17993                   1                   0           Own          Saturday   \n17994                   1                   1           Own            Monday   \n17995                   0                   1          Rent          Saturday   \n17996                   1                   0           Own            Friday   \n17997                   1                   0          Rent            Monday   \n\n      accident_site  past_num_of_claims channel  claim_est_payout  \\\n0             Local                   1  Broker       7530.940993   \n1           Highway                   1  Online       2966.024895   \n2             Local                   0  Broker       6283.888333   \n3             Local                   3  Broker       6169.747994   \n4           Highway                   0  Broker       4541.387150   \n...             ...                 ...     ...               ...   \n17993         Local                   0  Broker       4806.841803   \n17994         Local                   1   Phone       4089.794471   \n17995         Local                   2  Online       2225.803056   \n17996       Highway                   1  Broker       9560.744844   \n17997   Parking Lot                   1   Phone       5166.915270   \n\n       age_of_vehicle vehicle_category  vehicle_price vehicle_color  \\\n0                 9.0          Compact   12885.452350         white   \n1                 4.0            Large   29429.452180         white   \n2                 3.0          Compact   21701.181950         white   \n3                 4.0           Medium   13198.273440         other   \n4                 7.0           Medium   38060.211220          gray   \n...               ...              ...            ...           ...   \n17993             6.0           Medium   32144.571850         black   \n17994             3.0           Medium    9468.510601          blue   \n17995             5.0           Medium   64974.369590         black   \n17996             3.0          Compact   24983.268110         white   \n17997             5.0           Medium   19295.970480          blue   \n\n       vehicle_weight  fraud  \n0         16161.33381      0  \n1         28691.96422      0  \n2         22090.94758      1  \n3         38329.58106      1  \n4         25876.56319      0  \n...               ...    ...  \n17993     16868.53410      0  \n17994     31500.99689      1  \n17995     44536.25506      0  \n17996     50093.75959      0  \n17997     15257.21450      0  \n\n[17998 rows x 19 columns]",
      "text/html": "<div>\n<style scoped>\n    .dataframe tbody tr th:only-of-type {\n        vertical-align: middle;\n    }\n\n    .dataframe tbody tr th {\n        vertical-align: top;\n    }\n\n    .dataframe thead th {\n        text-align: right;\n    }\n</style>\n<table border=\"1\" class=\"dataframe\">\n  <thead>\n    <tr style=\"text-align: right;\">\n      <th></th>\n      <th>claim_number</th>\n      <th>age_of_driver</th>\n      <th>gender</th>\n      <th>marital_status</th>\n      <th>annual_income</th>\n      <th>high_education_ind</th>\n      <th>address_change_ind</th>\n      <th>living_status</th>\n      <th>claim_day_of_week</th>\n      <th>accident_site</th>\n      <th>past_num_of_claims</th>\n      <th>channel</th>\n      <th>claim_est_payout</th>\n      <th>age_of_vehicle</th>\n      <th>vehicle_category</th>\n      <th>vehicle_price</th>\n      <th>vehicle_color</th>\n      <th>vehicle_weight</th>\n      <th>fraud</th>\n    </tr>\n  </thead>\n  <tbody>\n    <tr>\n      <th>0</th>\n      <td>1</td>\n      <td>46</td>\n      <td>M</td>\n      <td>1.0</td>\n      <td>38301</td>\n      <td>1</td>\n      <td>1</td>\n      <td>Rent</td>\n      <td>Friday</td>\n      <td>Local</td>\n      <td>1</td>\n      <td>Broker</td>\n      <td>7530.940993</td>\n      <td>9.0</td>\n      <td>Compact</td>\n      <td>12885.452350</td>\n      <td>white</td>\n      <td>16161.33381</td>\n      <td>0</td>\n    </tr>\n    <tr>\n      <th>1</th>\n      <td>3</td>\n      <td>21</td>\n      <td>F</td>\n      <td>0.0</td>\n      <td>30445</td>\n      <td>0</td>\n      <td>1</td>\n      <td>Rent</td>\n      <td>Thursday</td>\n      <td>Highway</td>\n      <td>1</td>\n      <td>Online</td>\n      <td>2966.024895</td>\n      <td>4.0</td>\n      <td>Large</td>\n      <td>29429.452180</td>\n      <td>white</td>\n      <td>28691.96422</td>\n      <td>0</td>\n    </tr>\n    <tr>\n      <th>2</th>\n      <td>4</td>\n      <td>49</td>\n      <td>F</td>\n      <td>0.0</td>\n      <td>38923</td>\n      <td>0</td>\n      <td>1</td>\n      <td>Own</td>\n      <td>Tuesday</td>\n      <td>Local</td>\n      <td>0</td>\n      <td>Broker</td>\n      <td>6283.888333</td>\n      <td>3.0</td>\n      <td>Compact</td>\n      <td>21701.181950</td>\n      <td>white</td>\n      <td>22090.94758</td>\n      <td>1</td>\n    </tr>\n    <tr>\n      <th>3</th>\n      <td>5</td>\n      <td>58</td>\n      <td>F</td>\n      <td>1.0</td>\n      <td>40605</td>\n      <td>1</td>\n      <td>0</td>\n      <td>Own</td>\n      <td>Thursday</td>\n      <td>Local</td>\n      <td>3</td>\n      <td>Broker</td>\n      <td>6169.747994</td>\n      <td>4.0</td>\n      <td>Medium</td>\n      <td>13198.273440</td>\n      <td>other</td>\n      <td>38329.58106</td>\n      <td>1</td>\n    </tr>\n    <tr>\n      <th>4</th>\n      <td>6</td>\n      <td>38</td>\n      <td>M</td>\n      <td>1.0</td>\n      <td>36380</td>\n      <td>1</td>\n      <td>0</td>\n      <td>Rent</td>\n      <td>Tuesday</td>\n      <td>Highway</td>\n      <td>0</td>\n      <td>Broker</td>\n      <td>4541.387150</td>\n      <td>7.0</td>\n      <td>Medium</td>\n      <td>38060.211220</td>\n      <td>gray</td>\n      <td>25876.56319</td>\n      <td>0</td>\n    </tr>\n    <tr>\n      <th>...</th>\n      <td>...</td>\n      <td>...</td>\n      <td>...</td>\n      <td>...</td>\n      <td>...</td>\n      <td>...</td>\n      <td>...</td>\n      <td>...</td>\n      <td>...</td>\n      <td>...</td>\n      <td>...</td>\n      <td>...</td>\n      <td>...</td>\n      <td>...</td>\n      <td>...</td>\n      <td>...</td>\n      <td>...</td>\n      <td>...</td>\n      <td>...</td>\n    </tr>\n    <tr>\n      <th>17993</th>\n      <td>29993</td>\n      <td>69</td>\n      <td>M</td>\n      <td>1.0</td>\n      <td>42338</td>\n      <td>1</td>\n      <td>0</td>\n      <td>Own</td>\n      <td>Saturday</td>\n      <td>Local</td>\n      <td>0</td>\n      <td>Broker</td>\n      <td>4806.841803</td>\n      <td>6.0</td>\n      <td>Medium</td>\n      <td>32144.571850</td>\n      <td>black</td>\n      <td>16868.53410</td>\n      <td>0</td>\n    </tr>\n    <tr>\n      <th>17994</th>\n      <td>29996</td>\n      <td>35</td>\n      <td>F</td>\n      <td>0.0</td>\n      <td>35579</td>\n      <td>1</td>\n      <td>1</td>\n      <td>Own</td>\n      <td>Monday</td>\n      <td>Local</td>\n      <td>1</td>\n      <td>Phone</td>\n      <td>4089.794471</td>\n      <td>3.0</td>\n      <td>Medium</td>\n      <td>9468.510601</td>\n      <td>blue</td>\n      <td>31500.99689</td>\n      <td>1</td>\n    </tr>\n    <tr>\n      <th>17995</th>\n      <td>29997</td>\n      <td>27</td>\n      <td>F</td>\n      <td>1.0</td>\n      <td>32953</td>\n      <td>0</td>\n      <td>1</td>\n      <td>Rent</td>\n      <td>Saturday</td>\n      <td>Local</td>\n      <td>2</td>\n      <td>Online</td>\n      <td>2225.803056</td>\n      <td>5.0</td>\n      <td>Medium</td>\n      <td>64974.369590</td>\n      <td>black</td>\n      <td>44536.25506</td>\n      <td>0</td>\n    </tr>\n    <tr>\n      <th>17996</th>\n      <td>29999</td>\n      <td>52</td>\n      <td>F</td>\n      <td>1.0</td>\n      <td>39519</td>\n      <td>1</td>\n      <td>0</td>\n      <td>Own</td>\n      <td>Friday</td>\n      <td>Highway</td>\n      <td>1</td>\n      <td>Broker</td>\n      <td>9560.744844</td>\n      <td>3.0</td>\n      <td>Compact</td>\n      <td>24983.268110</td>\n      <td>white</td>\n      <td>50093.75959</td>\n      <td>0</td>\n    </tr>\n    <tr>\n      <th>17997</th>\n      <td>30000</td>\n      <td>61</td>\n      <td>F</td>\n      <td>0.0</td>\n      <td>41126</td>\n      <td>1</td>\n      <td>0</td>\n      <td>Rent</td>\n      <td>Monday</td>\n      <td>Parking Lot</td>\n      <td>1</td>\n      <td>Phone</td>\n      <td>5166.915270</td>\n      <td>5.0</td>\n      <td>Medium</td>\n      <td>19295.970480</td>\n      <td>blue</td>\n      <td>15257.21450</td>\n      <td>0</td>\n    </tr>\n  </tbody>\n</table>\n<p>17998 rows × 19 columns</p>\n</div>"
     },
     "execution_count": 10,
     "metadata": {},
     "output_type": "execute_result"
    }
   ],
   "source": [
    "df = pd.read_csv(\"Data/training_set_fd.csv\",sep=';')\n",
    "df"
   ],
   "metadata": {
    "collapsed": false,
    "ExecuteTime": {
     "start_time": "2023-06-06T11:14:32.360979Z",
     "end_time": "2023-06-06T11:14:32.457092Z"
    }
   }
  },
  {
   "cell_type": "code",
   "execution_count": 11,
   "outputs": [
    {
     "data": {
      "text/plain": "claim_number           0\nage_of_driver          0\ngender                 0\nmarital_status         5\nannual_income          0\nhigh_education_ind     0\naddress_change_ind     0\nliving_status          0\nclaim_day_of_week      0\naccident_site          0\npast_num_of_claims     0\nchannel                0\nclaim_est_payout      17\nage_of_vehicle         8\nvehicle_category       0\nvehicle_price          0\nvehicle_color          0\nvehicle_weight         0\nfraud                  0\ndtype: int64"
     },
     "execution_count": 11,
     "metadata": {},
     "output_type": "execute_result"
    }
   ],
   "source": [
    "df.isna().sum()"
   ],
   "metadata": {
    "collapsed": false,
    "ExecuteTime": {
     "start_time": "2023-06-06T11:14:32.434861Z",
     "end_time": "2023-06-06T11:14:32.457508Z"
    }
   }
  },
  {
   "cell_type": "code",
   "execution_count": 12,
   "outputs": [
    {
     "data": {
      "text/plain": "0        0\n1        0\n2        1\n3        1\n4        0\n        ..\n17993    0\n17994    1\n17995    0\n17996    0\n17997    0\nName: fraud, Length: 17998, dtype: int64"
     },
     "execution_count": 12,
     "metadata": {},
     "output_type": "execute_result"
    }
   ],
   "source": [
    "y = df.fraud\n",
    "y"
   ],
   "metadata": {
    "collapsed": false,
    "ExecuteTime": {
     "start_time": "2023-06-06T11:14:32.456542Z",
     "end_time": "2023-06-06T11:14:32.464471Z"
    }
   }
  },
  {
   "cell_type": "code",
   "execution_count": 13,
   "outputs": [
    {
     "name": "stdout",
     "output_type": "stream",
     "text": [
      "lunghezza di 0 :  15182\n",
      "lunghezza di 1 :  2816\n"
     ]
    }
   ],
   "source": [
    "for i in range(2):\n",
    "    where = np.where(df.fraud == i)\n",
    "    lung = len(where[0])\n",
    "    print(\"lunghezza di \"+ str(i) +\" : \",lung)"
   ],
   "metadata": {
    "collapsed": false,
    "ExecuteTime": {
     "start_time": "2023-06-06T11:14:32.463106Z",
     "end_time": "2023-06-06T11:14:32.470358Z"
    }
   }
  },
  {
   "cell_type": "code",
   "execution_count": 14,
   "outputs": [
    {
     "data": {
      "text/plain": "fraud\n0    15182\n1     2816\nName: claim_number, dtype: int64"
     },
     "execution_count": 14,
     "metadata": {},
     "output_type": "execute_result"
    }
   ],
   "source": [
    "df.groupby(\"fraud\")[\"claim_number\"].count()"
   ],
   "metadata": {
    "collapsed": false,
    "ExecuteTime": {
     "start_time": "2023-06-06T11:14:32.469155Z",
     "end_time": "2023-06-06T11:14:32.473431Z"
    }
   }
  },
  {
   "cell_type": "markdown",
   "source": [
    "## 1.2\n",
    "Analizzare la variabile che indica l’età del guidatore, e considerare solo i guidatori con età inferiore a 91 anni. Rappresentare con un istogramma la distribuzione dei valori. Raggruppare poi le età in gruppi, in questo modo: gruppo1 18-21; gruppo 2 22-25; gruppo3 26-30; gruppo 4 41-40; gruppo 5 41-50; gruppo 6 51-90, visualizzare la distribuzione delle età nei gruppi e indicare la percentuale di frodi nel gruppo"
   ],
   "metadata": {
    "collapsed": false
   }
  },
  {
   "cell_type": "code",
   "execution_count": 15,
   "outputs": [
    {
     "data": {
      "text/plain": "0        46\n1        21\n2        49\n3        58\n4        38\n         ..\n17993    69\n17994    35\n17995    27\n17996    52\n17997    61\nName: age_of_driver, Length: 17972, dtype: int64"
     },
     "execution_count": 15,
     "metadata": {},
     "output_type": "execute_result"
    }
   ],
   "source": [
    "df_age = df.copy()\n",
    "df_age = df_age.loc[df.age_of_driver < 91]\n",
    "ages = df_age.age_of_driver\n",
    "ages"
   ],
   "metadata": {
    "collapsed": false,
    "ExecuteTime": {
     "start_time": "2023-06-06T11:14:32.475264Z",
     "end_time": "2023-06-06T11:14:32.502032Z"
    }
   }
  },
  {
   "cell_type": "code",
   "execution_count": 16,
   "outputs": [
    {
     "data": {
      "text/plain": "<AxesSubplot:>"
     },
     "execution_count": 16,
     "metadata": {},
     "output_type": "execute_result"
    },
    {
     "data": {
      "text/plain": "<Figure size 640x480 with 1 Axes>",
      "image/png": "[encoded data removed]"
     },
     "metadata": {},
     "output_type": "display_data"
    }
   ],
   "source": [
    "# è necessario fare un bin\n",
    "bins = [18, 21, 25, 30, 40, 50,90]\n",
    "group_names = [\"Gruppo 1\",\"Gruppo 2\",\"Gruppo 3\", \"Gruppo 4\",\"Gruppo 5\",\"Gruppo 6\"]\n",
    "cats = pd.cut(ages,bins,labels=group_names)\n",
    "\n",
    "cats.hist()"
   ],
   "metadata": {
    "collapsed": false,
    "ExecuteTime": {
     "start_time": "2023-06-06T11:14:32.484162Z",
     "end_time": "2023-06-06T11:14:32.607158Z"
    }
   }
  },
  {
   "cell_type": "code",
   "execution_count": 17,
   "outputs": [
    {
     "data": {
      "text/plain": "               claim_number    gender  marital_status  annual_income  \\\nage_of_driver                                                          \nGruppo 1           0.224000  0.224000        0.224000       0.224000   \nGruppo 2           0.142458  0.142458        0.142458       0.142458   \nGruppo 3           0.156566  0.156566        0.156566       0.156566   \nGruppo 4           0.170419  0.170419        0.170452       0.170419   \nGruppo 5           0.194348  0.194348        0.194382       0.194348   \nGruppo 6           0.095289  0.095289        0.095349       0.095289   \n\n               high_education_ind  address_change_ind  living_status  \\\nage_of_driver                                                          \nGruppo 1                 0.224000            0.224000       0.224000   \nGruppo 2                 0.142458            0.142458       0.142458   \nGruppo 3                 0.156566            0.156566       0.156566   \nGruppo 4                 0.170419            0.170419       0.170419   \nGruppo 5                 0.194348            0.194348       0.194348   \nGruppo 6                 0.095289            0.095289       0.095289   \n\n               claim_day_of_week  accident_site  past_num_of_claims   channel  \\\nage_of_driver                                                                   \nGruppo 1                0.224000       0.224000            0.224000  0.224000   \nGruppo 2                0.142458       0.142458            0.142458  0.142458   \nGruppo 3                0.156566       0.156566            0.156566  0.156566   \nGruppo 4                0.170419       0.170419            0.170419  0.170419   \nGruppo 5                0.194348       0.194348            0.194348  0.194348   \nGruppo 6                0.095289       0.095289            0.095289  0.095289   \n\n               claim_est_payout  age_of_vehicle  vehicle_category  \\\nage_of_driver                                                       \nGruppo 1               0.224000        0.224000          0.224000   \nGruppo 2               0.142458        0.142458          0.142458   \nGruppo 3               0.156863        0.156566          0.156566   \nGruppo 4               0.170486        0.170452          0.170419   \nGruppo 5               0.194237        0.194276          0.194348   \nGruppo 6               0.095390        0.095157          0.095289   \n\n               vehicle_price  vehicle_color  vehicle_weight     fraud  \nage_of_driver                                                          \nGruppo 1            0.224000       0.224000        0.224000  0.224000  \nGruppo 2            0.142458       0.142458        0.142458  0.142458  \nGruppo 3            0.156566       0.156566        0.156566  0.156566  \nGruppo 4            0.170419       0.170419        0.170419  0.170419  \nGruppo 5            0.194348       0.194348        0.194348  0.194348  \nGruppo 6            0.095289       0.095289        0.095289  0.095289  ",
      "text/html": "<div>\n<style scoped>\n    .dataframe tbody tr th:only-of-type {\n        vertical-align: middle;\n    }\n\n    .dataframe tbody tr th {\n        vertical-align: top;\n    }\n\n    .dataframe thead th {\n        text-align: right;\n    }\n</style>\n<table border=\"1\" class=\"dataframe\">\n  <thead>\n    <tr style=\"text-align: right;\">\n      <th></th>\n      <th>claim_number</th>\n      <th>gender</th>\n      <th>marital_status</th>\n      <th>annual_income</th>\n      <th>high_education_ind</th>\n      <th>address_change_ind</th>\n      <th>living_status</th>\n      <th>claim_day_of_week</th>\n      <th>accident_site</th>\n      <th>past_num_of_claims</th>\n      <th>channel</th>\n      <th>claim_est_payout</th>\n      <th>age_of_vehicle</th>\n      <th>vehicle_category</th>\n      <th>vehicle_price</th>\n      <th>vehicle_color</th>\n      <th>vehicle_weight</th>\n      <th>fraud</th>\n    </tr>\n    <tr>\n      <th>age_of_driver</th>\n      <th></th>\n      <th></th>\n      <th></th>\n      <th></th>\n      <th></th>\n      <th></th>\n      <th></th>\n      <th></th>\n      <th></th>\n      <th></th>\n      <th></th>\n      <th></th>\n      <th></th>\n      <th></th>\n      <th></th>\n      <th></th>\n      <th></th>\n      <th></th>\n    </tr>\n  </thead>\n  <tbody>\n    <tr>\n      <th>Gruppo 1</th>\n      <td>0.224000</td>\n      <td>0.224000</td>\n      <td>0.224000</td>\n      <td>0.224000</td>\n      <td>0.224000</td>\n      <td>0.224000</td>\n      <td>0.224000</td>\n      <td>0.224000</td>\n      <td>0.224000</td>\n      <td>0.224000</td>\n      <td>0.224000</td>\n      <td>0.224000</td>\n      <td>0.224000</td>\n      <td>0.224000</td>\n      <td>0.224000</td>\n      <td>0.224000</td>\n      <td>0.224000</td>\n      <td>0.224000</td>\n    </tr>\n    <tr>\n      <th>Gruppo 2</th>\n      <td>0.142458</td>\n      <td>0.142458</td>\n      <td>0.142458</td>\n      <td>0.142458</td>\n      <td>0.142458</td>\n      <td>0.142458</td>\n      <td>0.142458</td>\n      <td>0.142458</td>\n      <td>0.142458</td>\n      <td>0.142458</td>\n      <td>0.142458</td>\n      <td>0.142458</td>\n      <td>0.142458</td>\n      <td>0.142458</td>\n      <td>0.142458</td>\n      <td>0.142458</td>\n      <td>0.142458</td>\n      <td>0.142458</td>\n    </tr>\n    <tr>\n      <th>Gruppo 3</th>\n      <td>0.156566</td>\n      <td>0.156566</td>\n      <td>0.156566</td>\n      <td>0.156566</td>\n      <td>0.156566</td>\n      <td>0.156566</td>\n      <td>0.156566</td>\n      <td>0.156566</td>\n      <td>0.156566</td>\n      <td>0.156566</td>\n      <td>0.156566</td>\n      <td>0.156863</td>\n      <td>0.156566</td>\n      <td>0.156566</td>\n      <td>0.156566</td>\n      <td>0.156566</td>\n      <td>0.156566</td>\n      <td>0.156566</td>\n    </tr>\n    <tr>\n      <th>Gruppo 4</th>\n      <td>0.170419</td>\n      <td>0.170419</td>\n      <td>0.170452</td>\n      <td>0.170419</td>\n      <td>0.170419</td>\n      <td>0.170419</td>\n      <td>0.170419</td>\n      <td>0.170419</td>\n      <td>0.170419</td>\n      <td>0.170419</td>\n      <td>0.170419</td>\n      <td>0.170486</td>\n      <td>0.170452</td>\n      <td>0.170419</td>\n      <td>0.170419</td>\n      <td>0.170419</td>\n      <td>0.170419</td>\n      <td>0.170419</td>\n    </tr>\n    <tr>\n      <th>Gruppo 5</th>\n      <td>0.194348</td>\n      <td>0.194348</td>\n      <td>0.194382</td>\n      <td>0.194348</td>\n      <td>0.194348</td>\n      <td>0.194348</td>\n      <td>0.194348</td>\n      <td>0.194348</td>\n      <td>0.194348</td>\n      <td>0.194348</td>\n      <td>0.194348</td>\n      <td>0.194237</td>\n      <td>0.194276</td>\n      <td>0.194348</td>\n      <td>0.194348</td>\n      <td>0.194348</td>\n      <td>0.194348</td>\n      <td>0.194348</td>\n    </tr>\n    <tr>\n      <th>Gruppo 6</th>\n      <td>0.095289</td>\n      <td>0.095289</td>\n      <td>0.095349</td>\n      <td>0.095289</td>\n      <td>0.095289</td>\n      <td>0.095289</td>\n      <td>0.095289</td>\n      <td>0.095289</td>\n      <td>0.095289</td>\n      <td>0.095289</td>\n      <td>0.095289</td>\n      <td>0.095390</td>\n      <td>0.095157</td>\n      <td>0.095289</td>\n      <td>0.095289</td>\n      <td>0.095289</td>\n      <td>0.095289</td>\n      <td>0.095289</td>\n    </tr>\n  </tbody>\n</table>\n</div>"
     },
     "execution_count": 17,
     "metadata": {},
     "output_type": "execute_result"
    }
   ],
   "source": [
    "df_age['age_of_driver'] = cats\n",
    "age_fraud = df_age.loc[df_age.fraud == 1]\n",
    "age_fraud.groupby(\"age_of_driver\").count()/df_age.groupby(\"age_of_driver\").count()"
   ],
   "metadata": {
    "collapsed": false,
    "ExecuteTime": {
     "start_time": "2023-06-06T11:14:32.594645Z",
     "end_time": "2023-06-06T11:14:32.687477Z"
    }
   }
  },
  {
   "cell_type": "markdown",
   "source": [
    "## 1.3\n",
    "Considerare il dataset originale e considerare la divisione in uomini e donne, e all’interno di\n",
    "ogni gruppo la divisione in under o over 40 (si includano anche le persone con quaranta anni in\n",
    "questo gruppo). Indicare a quale gruppo occorre fare maggiore attenzione perché è più facile\n",
    "avere una frode all’interno di esso (motivare la decisione)"
   ],
   "metadata": {
    "collapsed": false
   }
  },
  {
   "cell_type": "code",
   "execution_count": 18,
   "outputs": [
    {
     "data": {
      "text/plain": "gender  age_of_driver\nF       over40           895\n        under40          597\nM       over40           798\n        under40          526\nName: gender, dtype: int64"
     },
     "execution_count": 18,
     "metadata": {},
     "output_type": "execute_result"
    }
   ],
   "source": [
    "new_df = df.copy()\n",
    "new_df['age_of_driver'] = np.where(new_df['age_of_driver'] < 40, \"under40\", \"over40\")\n",
    "new_df = new_df.loc[new_df.fraud == 1]\n",
    "new_df.groupby([\"gender\",\"age_of_driver\"])[\"gender\"].count()"
   ],
   "metadata": {
    "collapsed": false,
    "ExecuteTime": {
     "start_time": "2023-06-06T11:14:32.644897Z",
     "end_time": "2023-06-06T11:14:32.687693Z"
    }
   }
  },
  {
   "cell_type": "markdown",
   "source": [
    "## 1.4\n",
    "Verificare con un opportuno diagramma se è vero che la distribuzione delle frodi aumenta\n",
    "all’aumentare del pagamento richiesto per l’indennizzo (attributo claim_est_payout)"
   ],
   "metadata": {
    "collapsed": false
   }
  },
  {
   "cell_type": "code",
   "execution_count": 19,
   "outputs": [
    {
     "data": {
      "text/plain": "<AxesSubplot:>"
     },
     "execution_count": 19,
     "metadata": {},
     "output_type": "execute_result"
    },
    {
     "data": {
      "text/plain": "<Figure size 640x480 with 1 Axes>",
      "image/png": "[encoded data removed]"
     },
     "metadata": {},
     "output_type": "display_data"
    }
   ],
   "source": [
    "new_df = df.copy()\n",
    "datas = []\n",
    "datas.append(new_df[\"claim_est_payout\"])\n",
    "new_df[\"claim_est_payout\"].hist(bins=100)\n",
    "new_df_no_fraud = new_df.loc[new_df.fraud == 0]\n",
    "datas.append(new_df_no_fraud[\"claim_est_payout\"])\n",
    "new_df_no_fraud['claim_est_payout'].hist(bins=100)\n",
    "new_df_fraud = new_df.loc[new_df.fraud == 1]\n",
    "datas.append(new_df_fraud[\"claim_est_payout\"])\n",
    "new_df_fraud['claim_est_payout'].hist(bins=100)"
   ],
   "metadata": {
    "collapsed": false,
    "ExecuteTime": {
     "start_time": "2023-06-06T11:14:32.659096Z",
     "end_time": "2023-06-06T11:14:33.021056Z"
    }
   }
  },
  {
   "cell_type": "code",
   "execution_count": 20,
   "outputs": [
    {
     "data": {
      "text/plain": "<matplotlib.legend.Legend at 0x7ff32079b040>"
     },
     "execution_count": 20,
     "metadata": {},
     "output_type": "execute_result"
    },
    {
     "data": {
      "text/plain": "<Figure size 640x480 with 1 Axes>",
      "image/png": "[encoded data removed]"
     },
     "metadata": {},
     "output_type": "display_data"
    }
   ],
   "source": [
    "plt.hist(datas, bins=100,color=['g','r','y'],label=['first','second','third'])\n",
    "plt.xlabel(\"X-axis\")\n",
    "plt.ylabel(\"Y-axis\")\n",
    "plt.title(\"Title\")\n",
    "plt.legend()"
   ],
   "metadata": {
    "collapsed": false,
    "ExecuteTime": {
     "start_time": "2023-06-06T11:14:36.929153Z",
     "end_time": "2023-06-06T11:14:37.375070Z"
    }
   }
  },
  {
   "cell_type": "markdown",
   "source": [
    "# Parte 2:\n",
    "## 2.1\n",
    "Si vuole predire il valore di fraud sulla base degli attributi presenti nel dataset. Ricaricare il dataset originale, eliminare eventuali attributi inutili (giustificare la scelta), eliminare le istanze che contengono valori nulli, rendere tutti gli attributi numerici, e dividerlo in modo che 2/3 degli elementi siano contenuti in un nuovo dataset “train” e 1/3 nel dataset “test”\n",
    "\n",
    "\n",
    "# Non utilizzare l'accuratezza perchè questo dataset è sbilanciato\n",
    "usa la recall oppure la f1score ecc..."
   ],
   "metadata": {
    "collapsed": false
   }
  },
  {
   "cell_type": "code",
   "execution_count": 13,
   "outputs": [],
   "source": [
    "new_df =  df.copy()"
   ],
   "metadata": {
    "collapsed": false,
    "ExecuteTime": {
     "start_time": "2023-06-05T22:53:56.515392Z",
     "end_time": "2023-06-05T22:53:56.517497Z"
    }
   }
  },
  {
   "cell_type": "code",
   "execution_count": 14,
   "outputs": [],
   "source": [
    "# eliminare gli attributi non utili per la ricerca della predizione della frode\n",
    "new_df.drop(\"vehicle_color\",axis=1,inplace=True)\n",
    "# perchè non è utile per la predizione conoscere il colore dell'auto\n",
    "new_df.drop(\"claim_day_of_week\",axis=1,inplace=True)\n",
    "# perchè non è utile sapere quando è avvenuto il reclamo per conoscere la predizione\n",
    "new_df.drop(\"marital_status\",axis=1,inplace=True)\n",
    "# non è utile conoscere lo stato matrimoniale per prevedere le frodi\n",
    "new_df.drop(\"claim_number\",axis=1,inplace=True)\n",
    "# non è utile conoscere il numero del reclamo per prevedere la frode"
   ],
   "metadata": {
    "collapsed": false,
    "ExecuteTime": {
     "start_time": "2023-06-05T22:53:56.522856Z",
     "end_time": "2023-06-05T22:53:56.526807Z"
    }
   }
  },
  {
   "cell_type": "code",
   "execution_count": 15,
   "outputs": [],
   "source": [
    "new_df.drop(\"high_education_ind\",axis=1,inplace=True)\n",
    "# non è utile conoscere l'educazione della vittima per la predizioni delle frodi"
   ],
   "metadata": {
    "collapsed": false,
    "ExecuteTime": {
     "start_time": "2023-06-05T22:53:56.527821Z",
     "end_time": "2023-06-05T22:53:56.530366Z"
    }
   }
  },
  {
   "cell_type": "code",
   "execution_count": 16,
   "outputs": [
    {
     "data": {
      "text/plain": "       age_of_driver gender  annual_income  address_change_ind living_status  \\\n0                 46      M          38301                   1          Rent   \n1                 21      F          30445                   1          Rent   \n2                 49      F          38923                   1           Own   \n3                 58      F          40605                   0           Own   \n4                 38      M          36380                   0          Rent   \n...              ...    ...            ...                 ...           ...   \n17993             69      M          42338                   0           Own   \n17994             35      F          35579                   1           Own   \n17995             27      F          32953                   1          Rent   \n17996             52      F          39519                   0           Own   \n17997             61      F          41126                   0          Rent   \n\n      accident_site  past_num_of_claims channel  claim_est_payout  \\\n0             Local                   1  Broker       7530.940993   \n1           Highway                   1  Online       2966.024895   \n2             Local                   0  Broker       6283.888333   \n3             Local                   3  Broker       6169.747994   \n4           Highway                   0  Broker       4541.387150   \n...             ...                 ...     ...               ...   \n17993         Local                   0  Broker       4806.841803   \n17994         Local                   1   Phone       4089.794471   \n17995         Local                   2  Online       2225.803056   \n17996       Highway                   1  Broker       9560.744844   \n17997   Parking Lot                   1   Phone       5166.915270   \n\n       age_of_vehicle vehicle_category  vehicle_price  vehicle_weight  fraud  \n0                 9.0          Compact   12885.452350     16161.33381      0  \n1                 4.0            Large   29429.452180     28691.96422      0  \n2                 3.0          Compact   21701.181950     22090.94758      1  \n3                 4.0           Medium   13198.273440     38329.58106      1  \n4                 7.0           Medium   38060.211220     25876.56319      0  \n...               ...              ...            ...             ...    ...  \n17993             6.0           Medium   32144.571850     16868.53410      0  \n17994             3.0           Medium    9468.510601     31500.99689      1  \n17995             5.0           Medium   64974.369590     44536.25506      0  \n17996             3.0          Compact   24983.268110     50093.75959      0  \n17997             5.0           Medium   19295.970480     15257.21450      0  \n\n[17998 rows x 14 columns]",
      "text/html": "<div>\n<style scoped>\n    .dataframe tbody tr th:only-of-type {\n        vertical-align: middle;\n    }\n\n    .dataframe tbody tr th {\n        vertical-align: top;\n    }\n\n    .dataframe thead th {\n        text-align: right;\n    }\n</style>\n<table border=\"1\" class=\"dataframe\">\n  <thead>\n    <tr style=\"text-align: right;\">\n      <th></th>\n      <th>age_of_driver</th>\n      <th>gender</th>\n      <th>annual_income</th>\n      <th>address_change_ind</th>\n      <th>living_status</th>\n      <th>accident_site</th>\n      <th>past_num_of_claims</th>\n      <th>channel</th>\n      <th>claim_est_payout</th>\n      <th>age_of_vehicle</th>\n      <th>vehicle_category</th>\n      <th>vehicle_price</th>\n      <th>vehicle_weight</th>\n      <th>fraud</th>\n    </tr>\n  </thead>\n  <tbody>\n    <tr>\n      <th>0</th>\n      <td>46</td>\n      <td>M</td>\n      <td>38301</td>\n      <td>1</td>\n      <td>Rent</td>\n      <td>Local</td>\n      <td>1</td>\n      <td>Broker</td>\n      <td>7530.940993</td>\n      <td>9.0</td>\n      <td>Compact</td>\n      <td>12885.452350</td>\n      <td>16161.33381</td>\n      <td>0</td>\n    </tr>\n    <tr>\n      <th>1</th>\n      <td>21</td>\n      <td>F</td>\n      <td>30445</td>\n      <td>1</td>\n      <td>Rent</td>\n      <td>Highway</td>\n      <td>1</td>\n      <td>Online</td>\n      <td>2966.024895</td>\n      <td>4.0</td>\n      <td>Large</td>\n      <td>29429.452180</td>\n      <td>28691.96422</td>\n      <td>0</td>\n    </tr>\n    <tr>\n      <th>2</th>\n      <td>49</td>\n      <td>F</td>\n      <td>38923</td>\n      <td>1</td>\n      <td>Own</td>\n      <td>Local</td>\n      <td>0</td>\n      <td>Broker</td>\n      <td>6283.888333</td>\n      <td>3.0</td>\n      <td>Compact</td>\n      <td>21701.181950</td>\n      <td>22090.94758</td>\n      <td>1</td>\n    </tr>\n    <tr>\n      <th>3</th>\n      <td>58</td>\n      <td>F</td>\n      <td>40605</td>\n      <td>0</td>\n      <td>Own</td>\n      <td>Local</td>\n      <td>3</td>\n      <td>Broker</td>\n      <td>6169.747994</td>\n      <td>4.0</td>\n      <td>Medium</td>\n      <td>13198.273440</td>\n      <td>38329.58106</td>\n      <td>1</td>\n    </tr>\n    <tr>\n      <th>4</th>\n      <td>38</td>\n      <td>M</td>\n      <td>36380</td>\n      <td>0</td>\n      <td>Rent</td>\n      <td>Highway</td>\n      <td>0</td>\n      <td>Broker</td>\n      <td>4541.387150</td>\n      <td>7.0</td>\n      <td>Medium</td>\n      <td>38060.211220</td>\n      <td>25876.56319</td>\n      <td>0</td>\n    </tr>\n    <tr>\n      <th>...</th>\n      <td>...</td>\n      <td>...</td>\n      <td>...</td>\n      <td>...</td>\n      <td>...</td>\n      <td>...</td>\n      <td>...</td>\n      <td>...</td>\n      <td>...</td>\n      <td>...</td>\n      <td>...</td>\n      <td>...</td>\n      <td>...</td>\n      <td>...</td>\n    </tr>\n    <tr>\n      <th>17993</th>\n      <td>69</td>\n      <td>M</td>\n      <td>42338</td>\n      <td>0</td>\n      <td>Own</td>\n      <td>Local</td>\n      <td>0</td>\n      <td>Broker</td>\n      <td>4806.841803</td>\n      <td>6.0</td>\n      <td>Medium</td>\n      <td>32144.571850</td>\n      <td>16868.53410</td>\n      <td>0</td>\n    </tr>\n    <tr>\n      <th>17994</th>\n      <td>35</td>\n      <td>F</td>\n      <td>35579</td>\n      <td>1</td>\n      <td>Own</td>\n      <td>Local</td>\n      <td>1</td>\n      <td>Phone</td>\n      <td>4089.794471</td>\n      <td>3.0</td>\n      <td>Medium</td>\n      <td>9468.510601</td>\n      <td>31500.99689</td>\n      <td>1</td>\n    </tr>\n    <tr>\n      <th>17995</th>\n      <td>27</td>\n      <td>F</td>\n      <td>32953</td>\n      <td>1</td>\n      <td>Rent</td>\n      <td>Local</td>\n      <td>2</td>\n      <td>Online</td>\n      <td>2225.803056</td>\n      <td>5.0</td>\n      <td>Medium</td>\n      <td>64974.369590</td>\n      <td>44536.25506</td>\n      <td>0</td>\n    </tr>\n    <tr>\n      <th>17996</th>\n      <td>52</td>\n      <td>F</td>\n      <td>39519</td>\n      <td>0</td>\n      <td>Own</td>\n      <td>Highway</td>\n      <td>1</td>\n      <td>Broker</td>\n      <td>9560.744844</td>\n      <td>3.0</td>\n      <td>Compact</td>\n      <td>24983.268110</td>\n      <td>50093.75959</td>\n      <td>0</td>\n    </tr>\n    <tr>\n      <th>17997</th>\n      <td>61</td>\n      <td>F</td>\n      <td>41126</td>\n      <td>0</td>\n      <td>Rent</td>\n      <td>Parking Lot</td>\n      <td>1</td>\n      <td>Phone</td>\n      <td>5166.915270</td>\n      <td>5.0</td>\n      <td>Medium</td>\n      <td>19295.970480</td>\n      <td>15257.21450</td>\n      <td>0</td>\n    </tr>\n  </tbody>\n</table>\n<p>17998 rows × 14 columns</p>\n</div>"
     },
     "execution_count": 16,
     "metadata": {},
     "output_type": "execute_result"
    }
   ],
   "source": [
    "new_df"
   ],
   "metadata": {
    "collapsed": false,
    "ExecuteTime": {
     "start_time": "2023-06-05T22:53:56.538142Z",
     "end_time": "2023-06-05T22:53:56.557476Z"
    }
   }
  },
  {
   "cell_type": "code",
   "execution_count": 17,
   "outputs": [
    {
     "data": {
      "text/plain": "       age_of_driver gender  annual_income  address_change_ind living_status  \\\n0                 46      M          38301                   1          Rent   \n1                 21      F          30445                   1          Rent   \n2                 49      F          38923                   1           Own   \n3                 58      F          40605                   0           Own   \n4                 38      M          36380                   0          Rent   \n...              ...    ...            ...                 ...           ...   \n17993             69      M          42338                   0           Own   \n17994             35      F          35579                   1           Own   \n17995             27      F          32953                   1          Rent   \n17996             52      F          39519                   0           Own   \n17997             61      F          41126                   0          Rent   \n\n      accident_site  past_num_of_claims channel  claim_est_payout  \\\n0             Local                   1  Broker       7530.940993   \n1           Highway                   1  Online       2966.024895   \n2             Local                   0  Broker       6283.888333   \n3             Local                   3  Broker       6169.747994   \n4           Highway                   0  Broker       4541.387150   \n...             ...                 ...     ...               ...   \n17993         Local                   0  Broker       4806.841803   \n17994         Local                   1   Phone       4089.794471   \n17995         Local                   2  Online       2225.803056   \n17996       Highway                   1  Broker       9560.744844   \n17997   Parking Lot                   1   Phone       5166.915270   \n\n       age_of_vehicle vehicle_category  vehicle_price  vehicle_weight  fraud  \n0                 9.0          Compact   12885.452350     16161.33381      0  \n1                 4.0            Large   29429.452180     28691.96422      0  \n2                 3.0          Compact   21701.181950     22090.94758      1  \n3                 4.0           Medium   13198.273440     38329.58106      1  \n4                 7.0           Medium   38060.211220     25876.56319      0  \n...               ...              ...            ...             ...    ...  \n17993             6.0           Medium   32144.571850     16868.53410      0  \n17994             3.0           Medium    9468.510601     31500.99689      1  \n17995             5.0           Medium   64974.369590     44536.25506      0  \n17996             3.0          Compact   24983.268110     50093.75959      0  \n17997             5.0           Medium   19295.970480     15257.21450      0  \n\n[17973 rows x 14 columns]",
      "text/html": "<div>\n<style scoped>\n    .dataframe tbody tr th:only-of-type {\n        vertical-align: middle;\n    }\n\n    .dataframe tbody tr th {\n        vertical-align: top;\n    }\n\n    .dataframe thead th {\n        text-align: right;\n    }\n</style>\n<table border=\"1\" class=\"dataframe\">\n  <thead>\n    <tr style=\"text-align: right;\">\n      <th></th>\n      <th>age_of_driver</th>\n      <th>gender</th>\n      <th>annual_income</th>\n      <th>address_change_ind</th>\n      <th>living_status</th>\n      <th>accident_site</th>\n      <th>past_num_of_claims</th>\n      <th>channel</th>\n      <th>claim_est_payout</th>\n      <th>age_of_vehicle</th>\n      <th>vehicle_category</th>\n      <th>vehicle_price</th>\n      <th>vehicle_weight</th>\n      <th>fraud</th>\n    </tr>\n  </thead>\n  <tbody>\n    <tr>\n      <th>0</th>\n      <td>46</td>\n      <td>M</td>\n      <td>38301</td>\n      <td>1</td>\n      <td>Rent</td>\n      <td>Local</td>\n      <td>1</td>\n      <td>Broker</td>\n      <td>7530.940993</td>\n      <td>9.0</td>\n      <td>Compact</td>\n      <td>12885.452350</td>\n      <td>16161.33381</td>\n      <td>0</td>\n    </tr>\n    <tr>\n      <th>1</th>\n      <td>21</td>\n      <td>F</td>\n      <td>30445</td>\n      <td>1</td>\n      <td>Rent</td>\n      <td>Highway</td>\n      <td>1</td>\n      <td>Online</td>\n      <td>2966.024895</td>\n      <td>4.0</td>\n      <td>Large</td>\n      <td>29429.452180</td>\n      <td>28691.96422</td>\n      <td>0</td>\n    </tr>\n    <tr>\n      <th>2</th>\n      <td>49</td>\n      <td>F</td>\n      <td>38923</td>\n      <td>1</td>\n      <td>Own</td>\n      <td>Local</td>\n      <td>0</td>\n      <td>Broker</td>\n      <td>6283.888333</td>\n      <td>3.0</td>\n      <td>Compact</td>\n      <td>21701.181950</td>\n      <td>22090.94758</td>\n      <td>1</td>\n    </tr>\n    <tr>\n      <th>3</th>\n      <td>58</td>\n      <td>F</td>\n      <td>40605</td>\n      <td>0</td>\n      <td>Own</td>\n      <td>Local</td>\n      <td>3</td>\n      <td>Broker</td>\n      <td>6169.747994</td>\n      <td>4.0</td>\n      <td>Medium</td>\n      <td>13198.273440</td>\n      <td>38329.58106</td>\n      <td>1</td>\n    </tr>\n    <tr>\n      <th>4</th>\n      <td>38</td>\n      <td>M</td>\n      <td>36380</td>\n      <td>0</td>\n      <td>Rent</td>\n      <td>Highway</td>\n      <td>0</td>\n      <td>Broker</td>\n      <td>4541.387150</td>\n      <td>7.0</td>\n      <td>Medium</td>\n      <td>38060.211220</td>\n      <td>25876.56319</td>\n      <td>0</td>\n    </tr>\n    <tr>\n      <th>...</th>\n      <td>...</td>\n      <td>...</td>\n      <td>...</td>\n      <td>...</td>\n      <td>...</td>\n      <td>...</td>\n      <td>...</td>\n      <td>...</td>\n      <td>...</td>\n      <td>...</td>\n      <td>...</td>\n      <td>...</td>\n      <td>...</td>\n      <td>...</td>\n    </tr>\n    <tr>\n      <th>17993</th>\n      <td>69</td>\n      <td>M</td>\n      <td>42338</td>\n      <td>0</td>\n      <td>Own</td>\n      <td>Local</td>\n      <td>0</td>\n      <td>Broker</td>\n      <td>4806.841803</td>\n      <td>6.0</td>\n      <td>Medium</td>\n      <td>32144.571850</td>\n      <td>16868.53410</td>\n      <td>0</td>\n    </tr>\n    <tr>\n      <th>17994</th>\n      <td>35</td>\n      <td>F</td>\n      <td>35579</td>\n      <td>1</td>\n      <td>Own</td>\n      <td>Local</td>\n      <td>1</td>\n      <td>Phone</td>\n      <td>4089.794471</td>\n      <td>3.0</td>\n      <td>Medium</td>\n      <td>9468.510601</td>\n      <td>31500.99689</td>\n      <td>1</td>\n    </tr>\n    <tr>\n      <th>17995</th>\n      <td>27</td>\n      <td>F</td>\n      <td>32953</td>\n      <td>1</td>\n      <td>Rent</td>\n      <td>Local</td>\n      <td>2</td>\n      <td>Online</td>\n      <td>2225.803056</td>\n      <td>5.0</td>\n      <td>Medium</td>\n      <td>64974.369590</td>\n      <td>44536.25506</td>\n      <td>0</td>\n    </tr>\n    <tr>\n      <th>17996</th>\n      <td>52</td>\n      <td>F</td>\n      <td>39519</td>\n      <td>0</td>\n      <td>Own</td>\n      <td>Highway</td>\n      <td>1</td>\n      <td>Broker</td>\n      <td>9560.744844</td>\n      <td>3.0</td>\n      <td>Compact</td>\n      <td>24983.268110</td>\n      <td>50093.75959</td>\n      <td>0</td>\n    </tr>\n    <tr>\n      <th>17997</th>\n      <td>61</td>\n      <td>F</td>\n      <td>41126</td>\n      <td>0</td>\n      <td>Rent</td>\n      <td>Parking Lot</td>\n      <td>1</td>\n      <td>Phone</td>\n      <td>5166.915270</td>\n      <td>5.0</td>\n      <td>Medium</td>\n      <td>19295.970480</td>\n      <td>15257.21450</td>\n      <td>0</td>\n    </tr>\n  </tbody>\n</table>\n<p>17973 rows × 14 columns</p>\n</div>"
     },
     "execution_count": 17,
     "metadata": {},
     "output_type": "execute_result"
    }
   ],
   "source": [
    "new_df.dropna(inplace=True)\n",
    "new_df"
   ],
   "metadata": {
    "collapsed": false,
    "ExecuteTime": {
     "start_time": "2023-06-05T22:53:56.549271Z",
     "end_time": "2023-06-05T22:53:56.564301Z"
    }
   }
  },
  {
   "cell_type": "code",
   "execution_count": 18,
   "outputs": [],
   "source": [
    "column_names = new_df.columns"
   ],
   "metadata": {
    "collapsed": false,
    "ExecuteTime": {
     "start_time": "2023-06-05T22:53:56.559167Z",
     "end_time": "2023-06-05T22:53:56.564400Z"
    }
   }
  },
  {
   "cell_type": "code",
   "execution_count": 19,
   "outputs": [
    {
     "data": {
      "text/plain": "       age_of_driver  gender  annual_income  address_change_ind  \\\n0               28.0     1.0         1351.0                 1.0   \n1                3.0     0.0           57.0                 1.0   \n2               31.0     0.0         1498.0                 1.0   \n3               40.0     0.0         1938.0                 0.0   \n4               20.0     1.0          905.0                 0.0   \n...              ...     ...            ...                 ...   \n17968           51.0     1.0         2373.0                 0.0   \n17969           17.0     0.0          772.0                 1.0   \n17970            9.0     0.0          329.0                 1.0   \n17971           34.0     0.0         1657.0                 0.0   \n17972           43.0     0.0         2091.0                 0.0   \n\n       living_status  accident_site  past_num_of_claims  channel  \\\n0                1.0            1.0                 1.0      0.0   \n1                1.0            0.0                 1.0      1.0   \n2                0.0            1.0                 0.0      0.0   \n3                0.0            1.0                 3.0      0.0   \n4                1.0            0.0                 0.0      0.0   \n...              ...            ...                 ...      ...   \n17968            0.0            1.0                 0.0      0.0   \n17969            0.0            1.0                 1.0      2.0   \n17970            1.0            1.0                 2.0      1.0   \n17971            0.0            0.0                 1.0      0.0   \n17972            1.0            2.0                 1.0      2.0   \n\n       claim_est_payout  age_of_vehicle  vehicle_category  vehicle_price  \\\n0               15718.0             9.0               0.0         3571.0   \n1                3283.0             4.0               1.0        13429.0   \n2               13528.0             3.0               0.0         9489.0   \n3               13292.0             4.0               2.0         3768.0   \n4                8559.0             7.0               2.0        16020.0   \n...                 ...             ...               ...            ...   \n17968            9443.0             6.0               2.0        14399.0   \n17969            7002.0             3.0               2.0         1583.0   \n17970            1388.0             5.0               2.0        17870.0   \n17971           17320.0             3.0               0.0        11367.0   \n17972           10601.0             5.0               2.0         7902.0   \n\n       vehicle_weight  fraud  \n0              5840.0    0.0  \n1             13204.0    0.0  \n2              9785.0    1.0  \n3             16033.0    1.0  \n4             11900.0    0.0  \n...               ...    ...  \n17968          6322.0    0.0  \n17969         14264.0    1.0  \n17970         16927.0    0.0  \n17971         17408.0    0.0  \n17972          5232.0    0.0  \n\n[17973 rows x 14 columns]",
      "text/html": "<div>\n<style scoped>\n    .dataframe tbody tr th:only-of-type {\n        vertical-align: middle;\n    }\n\n    .dataframe tbody tr th {\n        vertical-align: top;\n    }\n\n    .dataframe thead th {\n        text-align: right;\n    }\n</style>\n<table border=\"1\" class=\"dataframe\">\n  <thead>\n    <tr style=\"text-align: right;\">\n      <th></th>\n      <th>age_of_driver</th>\n      <th>gender</th>\n      <th>annual_income</th>\n      <th>address_change_ind</th>\n      <th>living_status</th>\n      <th>accident_site</th>\n      <th>past_num_of_claims</th>\n      <th>channel</th>\n      <th>claim_est_payout</th>\n      <th>age_of_vehicle</th>\n      <th>vehicle_category</th>\n      <th>vehicle_price</th>\n      <th>vehicle_weight</th>\n      <th>fraud</th>\n    </tr>\n  </thead>\n  <tbody>\n    <tr>\n      <th>0</th>\n      <td>28.0</td>\n      <td>1.0</td>\n      <td>1351.0</td>\n      <td>1.0</td>\n      <td>1.0</td>\n      <td>1.0</td>\n      <td>1.0</td>\n      <td>0.0</td>\n      <td>15718.0</td>\n      <td>9.0</td>\n      <td>0.0</td>\n      <td>3571.0</td>\n      <td>5840.0</td>\n      <td>0.0</td>\n    </tr>\n    <tr>\n      <th>1</th>\n      <td>3.0</td>\n      <td>0.0</td>\n      <td>57.0</td>\n      <td>1.0</td>\n      <td>1.0</td>\n      <td>0.0</td>\n      <td>1.0</td>\n      <td>1.0</td>\n      <td>3283.0</td>\n      <td>4.0</td>\n      <td>1.0</td>\n      <td>13429.0</td>\n      <td>13204.0</td>\n      <td>0.0</td>\n    </tr>\n    <tr>\n      <th>2</th>\n      <td>31.0</td>\n      <td>0.0</td>\n      <td>1498.0</td>\n      <td>1.0</td>\n      <td>0.0</td>\n      <td>1.0</td>\n      <td>0.0</td>\n      <td>0.0</td>\n      <td>13528.0</td>\n      <td>3.0</td>\n      <td>0.0</td>\n      <td>9489.0</td>\n      <td>9785.0</td>\n      <td>1.0</td>\n    </tr>\n    <tr>\n      <th>3</th>\n      <td>40.0</td>\n      <td>0.0</td>\n      <td>1938.0</td>\n      <td>0.0</td>\n      <td>0.0</td>\n      <td>1.0</td>\n      <td>3.0</td>\n      <td>0.0</td>\n      <td>13292.0</td>\n      <td>4.0</td>\n      <td>2.0</td>\n      <td>3768.0</td>\n      <td>16033.0</td>\n      <td>1.0</td>\n    </tr>\n    <tr>\n      <th>4</th>\n      <td>20.0</td>\n      <td>1.0</td>\n      <td>905.0</td>\n      <td>0.0</td>\n      <td>1.0</td>\n      <td>0.0</td>\n      <td>0.0</td>\n      <td>0.0</td>\n      <td>8559.0</td>\n      <td>7.0</td>\n      <td>2.0</td>\n      <td>16020.0</td>\n      <td>11900.0</td>\n      <td>0.0</td>\n    </tr>\n    <tr>\n      <th>...</th>\n      <td>...</td>\n      <td>...</td>\n      <td>...</td>\n      <td>...</td>\n      <td>...</td>\n      <td>...</td>\n      <td>...</td>\n      <td>...</td>\n      <td>...</td>\n      <td>...</td>\n      <td>...</td>\n      <td>...</td>\n      <td>...</td>\n      <td>...</td>\n    </tr>\n    <tr>\n      <th>17968</th>\n      <td>51.0</td>\n      <td>1.0</td>\n      <td>2373.0</td>\n      <td>0.0</td>\n      <td>0.0</td>\n      <td>1.0</td>\n      <td>0.0</td>\n      <td>0.0</td>\n      <td>9443.0</td>\n      <td>6.0</td>\n      <td>2.0</td>\n      <td>14399.0</td>\n      <td>6322.0</td>\n      <td>0.0</td>\n    </tr>\n    <tr>\n      <th>17969</th>\n      <td>17.0</td>\n      <td>0.0</td>\n      <td>772.0</td>\n      <td>1.0</td>\n      <td>0.0</td>\n      <td>1.0</td>\n      <td>1.0</td>\n      <td>2.0</td>\n      <td>7002.0</td>\n      <td>3.0</td>\n      <td>2.0</td>\n      <td>1583.0</td>\n      <td>14264.0</td>\n      <td>1.0</td>\n    </tr>\n    <tr>\n      <th>17970</th>\n      <td>9.0</td>\n      <td>0.0</td>\n      <td>329.0</td>\n      <td>1.0</td>\n      <td>1.0</td>\n      <td>1.0</td>\n      <td>2.0</td>\n      <td>1.0</td>\n      <td>1388.0</td>\n      <td>5.0</td>\n      <td>2.0</td>\n      <td>17870.0</td>\n      <td>16927.0</td>\n      <td>0.0</td>\n    </tr>\n    <tr>\n      <th>17971</th>\n      <td>34.0</td>\n      <td>0.0</td>\n      <td>1657.0</td>\n      <td>0.0</td>\n      <td>0.0</td>\n      <td>0.0</td>\n      <td>1.0</td>\n      <td>0.0</td>\n      <td>17320.0</td>\n      <td>3.0</td>\n      <td>0.0</td>\n      <td>11367.0</td>\n      <td>17408.0</td>\n      <td>0.0</td>\n    </tr>\n    <tr>\n      <th>17972</th>\n      <td>43.0</td>\n      <td>0.0</td>\n      <td>2091.0</td>\n      <td>0.0</td>\n      <td>1.0</td>\n      <td>2.0</td>\n      <td>1.0</td>\n      <td>2.0</td>\n      <td>10601.0</td>\n      <td>5.0</td>\n      <td>2.0</td>\n      <td>7902.0</td>\n      <td>5232.0</td>\n      <td>0.0</td>\n    </tr>\n  </tbody>\n</table>\n<p>17973 rows × 14 columns</p>\n</div>"
     },
     "execution_count": 19,
     "metadata": {},
     "output_type": "execute_result"
    }
   ],
   "source": [
    "from sklearn.preprocessing import OrdinalEncoder\n",
    "\n",
    "ordinal = OrdinalEncoder()\n",
    "new_df = ordinal.fit_transform(new_df)\n",
    "new_df = pd.DataFrame(new_df,columns=column_names)\n",
    "new_df"
   ],
   "metadata": {
    "collapsed": false,
    "ExecuteTime": {
     "start_time": "2023-06-05T22:53:56.562702Z",
     "end_time": "2023-06-05T22:53:56.700545Z"
    }
   }
  },
  {
   "cell_type": "code",
   "execution_count": 20,
   "outputs": [],
   "source": [
    "y = new_df[\"fraud\"]\n",
    "new_df.drop(\"fraud\",axis=1,inplace=True)"
   ],
   "metadata": {
    "collapsed": false,
    "ExecuteTime": {
     "start_time": "2023-06-05T22:53:56.701966Z",
     "end_time": "2023-06-05T22:53:56.704033Z"
    }
   }
  },
  {
   "cell_type": "code",
   "execution_count": 21,
   "outputs": [
    {
     "data": {
      "text/plain": "       age_of_driver  gender  annual_income  address_change_ind  \\\n6999            13.0     0.0          538.0                 1.0   \n16530           34.0     0.0         1654.0                 0.0   \n16006            4.0     1.0           93.0                 1.0   \n477             29.0     0.0         1396.0                 1.0   \n15988           30.0     1.0         1467.0                 0.0   \n...              ...     ...            ...                 ...   \n9225            30.0     1.0         1447.0                 1.0   \n13123           18.0     0.0          802.0                 0.0   \n9845            37.0     0.0         1787.0                 0.0   \n10799           15.0     0.0          639.0                 0.0   \n2732            14.0     0.0          593.0                 1.0   \n\n       living_status  accident_site  past_num_of_claims  channel  \\\n6999             1.0            2.0                 1.0      0.0   \n16530            0.0            1.0                 0.0      2.0   \n16006            1.0            1.0                 1.0      2.0   \n477              0.0            0.0                 2.0      0.0   \n15988            1.0            2.0                 0.0      2.0   \n...              ...            ...                 ...      ...   \n9225             0.0            1.0                 3.0      2.0   \n13123            1.0            1.0                 0.0      0.0   \n9845             1.0            2.0                 1.0      0.0   \n10799            0.0            1.0                 1.0      0.0   \n2732             0.0            1.0                 0.0      0.0   \n\n       claim_est_payout  age_of_vehicle  vehicle_category  vehicle_price  \\\n6999             2701.0             6.0               0.0         8445.0   \n16530            8299.0             4.0               2.0        10531.0   \n16006            2472.0             3.0               2.0        14801.0   \n477              5694.0             3.0               2.0        12506.0   \n15988             689.0             6.0               0.0         1314.0   \n...                 ...             ...               ...            ...   \n9225             9465.0             3.0               0.0         1889.0   \n13123            8472.0             5.0               1.0         3946.0   \n9845             6450.0             3.0               1.0        14078.0   \n10799            1022.0             1.0               2.0        17780.0   \n2732            11081.0             5.0               2.0         9616.0   \n\n       vehicle_weight  fraud  \n6999           7320.0    0.0  \n16530         15509.0    0.0  \n16006         10750.0    0.0  \n477           17493.0    0.0  \n15988         14642.0    0.0  \n...               ...    ...  \n9225           3146.0    0.0  \n13123           949.0    1.0  \n9845            476.0    0.0  \n10799         17261.0    0.0  \n2732           3484.0    0.0  \n\n[11982 rows x 14 columns]",
      "text/html": "<div>\n<style scoped>\n    .dataframe tbody tr th:only-of-type {\n        vertical-align: middle;\n    }\n\n    .dataframe tbody tr th {\n        vertical-align: top;\n    }\n\n    .dataframe thead th {\n        text-align: right;\n    }\n</style>\n<table border=\"1\" class=\"dataframe\">\n  <thead>\n    <tr style=\"text-align: right;\">\n      <th></th>\n      <th>age_of_driver</th>\n      <th>gender</th>\n      <th>annual_income</th>\n      <th>address_change_ind</th>\n      <th>living_status</th>\n      <th>accident_site</th>\n      <th>past_num_of_claims</th>\n      <th>channel</th>\n      <th>claim_est_payout</th>\n      <th>age_of_vehicle</th>\n      <th>vehicle_category</th>\n      <th>vehicle_price</th>\n      <th>vehicle_weight</th>\n      <th>fraud</th>\n    </tr>\n  </thead>\n  <tbody>\n    <tr>\n      <th>6999</th>\n      <td>13.0</td>\n      <td>0.0</td>\n      <td>538.0</td>\n      <td>1.0</td>\n      <td>1.0</td>\n      <td>2.0</td>\n      <td>1.0</td>\n      <td>0.0</td>\n      <td>2701.0</td>\n      <td>6.0</td>\n      <td>0.0</td>\n      <td>8445.0</td>\n      <td>7320.0</td>\n      <td>0.0</td>\n    </tr>\n    <tr>\n      <th>16530</th>\n      <td>34.0</td>\n      <td>0.0</td>\n      <td>1654.0</td>\n      <td>0.0</td>\n      <td>0.0</td>\n      <td>1.0</td>\n      <td>0.0</td>\n      <td>2.0</td>\n      <td>8299.0</td>\n      <td>4.0</td>\n      <td>2.0</td>\n      <td>10531.0</td>\n      <td>15509.0</td>\n      <td>0.0</td>\n    </tr>\n    <tr>\n      <th>16006</th>\n      <td>4.0</td>\n      <td>1.0</td>\n      <td>93.0</td>\n      <td>1.0</td>\n      <td>1.0</td>\n      <td>1.0</td>\n      <td>1.0</td>\n      <td>2.0</td>\n      <td>2472.0</td>\n      <td>3.0</td>\n      <td>2.0</td>\n      <td>14801.0</td>\n      <td>10750.0</td>\n      <td>0.0</td>\n    </tr>\n    <tr>\n      <th>477</th>\n      <td>29.0</td>\n      <td>0.0</td>\n      <td>1396.0</td>\n      <td>1.0</td>\n      <td>0.0</td>\n      <td>0.0</td>\n      <td>2.0</td>\n      <td>0.0</td>\n      <td>5694.0</td>\n      <td>3.0</td>\n      <td>2.0</td>\n      <td>12506.0</td>\n      <td>17493.0</td>\n      <td>0.0</td>\n    </tr>\n    <tr>\n      <th>15988</th>\n      <td>30.0</td>\n      <td>1.0</td>\n      <td>1467.0</td>\n      <td>0.0</td>\n      <td>1.0</td>\n      <td>2.0</td>\n      <td>0.0</td>\n      <td>2.0</td>\n      <td>689.0</td>\n      <td>6.0</td>\n      <td>0.0</td>\n      <td>1314.0</td>\n      <td>14642.0</td>\n      <td>0.0</td>\n    </tr>\n    <tr>\n      <th>...</th>\n      <td>...</td>\n      <td>...</td>\n      <td>...</td>\n      <td>...</td>\n      <td>...</td>\n      <td>...</td>\n      <td>...</td>\n      <td>...</td>\n      <td>...</td>\n      <td>...</td>\n      <td>...</td>\n      <td>...</td>\n      <td>...</td>\n      <td>...</td>\n    </tr>\n    <tr>\n      <th>9225</th>\n      <td>30.0</td>\n      <td>1.0</td>\n      <td>1447.0</td>\n      <td>1.0</td>\n      <td>0.0</td>\n      <td>1.0</td>\n      <td>3.0</td>\n      <td>2.0</td>\n      <td>9465.0</td>\n      <td>3.0</td>\n      <td>0.0</td>\n      <td>1889.0</td>\n      <td>3146.0</td>\n      <td>0.0</td>\n    </tr>\n    <tr>\n      <th>13123</th>\n      <td>18.0</td>\n      <td>0.0</td>\n      <td>802.0</td>\n      <td>0.0</td>\n      <td>1.0</td>\n      <td>1.0</td>\n      <td>0.0</td>\n      <td>0.0</td>\n      <td>8472.0</td>\n      <td>5.0</td>\n      <td>1.0</td>\n      <td>3946.0</td>\n      <td>949.0</td>\n      <td>1.0</td>\n    </tr>\n    <tr>\n      <th>9845</th>\n      <td>37.0</td>\n      <td>0.0</td>\n      <td>1787.0</td>\n      <td>0.0</td>\n      <td>1.0</td>\n      <td>2.0</td>\n      <td>1.0</td>\n      <td>0.0</td>\n      <td>6450.0</td>\n      <td>3.0</td>\n      <td>1.0</td>\n      <td>14078.0</td>\n      <td>476.0</td>\n      <td>0.0</td>\n    </tr>\n    <tr>\n      <th>10799</th>\n      <td>15.0</td>\n      <td>0.0</td>\n      <td>639.0</td>\n      <td>0.0</td>\n      <td>0.0</td>\n      <td>1.0</td>\n      <td>1.0</td>\n      <td>0.0</td>\n      <td>1022.0</td>\n      <td>1.0</td>\n      <td>2.0</td>\n      <td>17780.0</td>\n      <td>17261.0</td>\n      <td>0.0</td>\n    </tr>\n    <tr>\n      <th>2732</th>\n      <td>14.0</td>\n      <td>0.0</td>\n      <td>593.0</td>\n      <td>1.0</td>\n      <td>0.0</td>\n      <td>1.0</td>\n      <td>0.0</td>\n      <td>0.0</td>\n      <td>11081.0</td>\n      <td>5.0</td>\n      <td>2.0</td>\n      <td>9616.0</td>\n      <td>3484.0</td>\n      <td>0.0</td>\n    </tr>\n  </tbody>\n</table>\n<p>11982 rows × 14 columns</p>\n</div>"
     },
     "execution_count": 21,
     "metadata": {},
     "output_type": "execute_result"
    }
   ],
   "source": [
    "from sklearn.model_selection import train_test_split\n",
    "X_train, X_test, y_train, y_test = train_test_split(new_df, y,test_size=(1/3),\n",
    "                                                    random_state=0)\n",
    "train = X_train.assign(fraud=y_train)\n",
    "test = X_test.assign(fraud=y_test)\n",
    "train"
   ],
   "metadata": {
    "collapsed": false,
    "ExecuteTime": {
     "start_time": "2023-06-05T22:53:56.705445Z",
     "end_time": "2023-06-05T22:53:56.750391Z"
    }
   }
  },
  {
   "cell_type": "code",
   "execution_count": 22,
   "outputs": [
    {
     "name": "stdout",
     "output_type": "stream",
     "text": [
      " ===== DT =====\n",
      "Accuracy on train 1.0\n",
      "Accuracy on test 0.7364379903188115\n",
      "Confusion matrix on test\n",
      "[[4215  806]\n",
      " [ 773  197]]\n",
      " ===== LR =====\n",
      "Accuracy on train 0.8462694041061593\n",
      "Accuracy on test 0.8380904690368887\n",
      "Confusion matrix on test\n",
      "[[5021    0]\n",
      " [ 970    0]]\n",
      " ===== dummy =====\n",
      "Accuracy on train 0.8462694041061593\n",
      "Accuracy on test 0.8380904690368887\n",
      "Confusion matrix on test\n",
      "[[5021    0]\n",
      " [ 970    0]]\n"
     ]
    }
   ],
   "source": [
    "from sklearn.tree import DecisionTreeClassifier\n",
    "from sklearn.linear_model import LogisticRegression\n",
    "from sklearn.dummy import DummyClassifier\n",
    "from sklearn.metrics import  accuracy_score\n",
    "from sklearn.metrics import confusion_matrix\n",
    "\n",
    "def test_model(name ,model,train_data, test_data, train_labels, test_labels):\n",
    "    model.fit(train_data,train_labels)\n",
    "    train_preds = np.round(model.predict(train_data))\n",
    "    test_preds = np.round(model.predict(test_data))\n",
    "    print(f\" ===== {name} =====\")\n",
    "    print(f\"Accuracy on train {accuracy_score(train_labels, train_preds)}\")\n",
    "    print(f\"Accuracy on test {accuracy_score(test_labels, test_preds)}\")\n",
    "    print(\"Confusion matrix on test\")\n",
    "    print(confusion_matrix(test_labels, test_preds))\n",
    "\n",
    "\n",
    "classifiers = [DecisionTreeClassifier(), LogisticRegression(), DummyClassifier()]\n",
    "\n",
    "names = [\"DT\",\"LR\", \"dummy\"]\n",
    "\n",
    "for model,name in zip(classifiers,names):\n",
    "    test_model(name,model, X_train, X_test, y_train, y_test)"
   ],
   "metadata": {
    "collapsed": false,
    "ExecuteTime": {
     "start_time": "2023-06-05T22:53:56.750260Z",
     "end_time": "2023-06-05T22:53:56.938623Z"
    }
   }
  },
  {
   "cell_type": "markdown",
   "source": [
    "## 2.2\n",
    "Confrontare l’accuratezza ottenuta nel punto precedente con l’accuratezza si ottiene con un una 10 Fold cross validation"
   ],
   "metadata": {
    "collapsed": false
   }
  },
  {
   "cell_type": "code",
   "execution_count": 23,
   "outputs": [
    {
     "name": "stdout",
     "output_type": "stream",
     "text": [
      " ===== DT =====\n",
      "media degli accuracy score:  0.741223476527125\n",
      "[0.73136819 0.7352614  0.74749722 0.7573734  0.73288815 0.73233166\n",
      " 0.74123539 0.7506956  0.74234836 0.74123539]\n",
      " ===== LR =====\n",
      "media degli accuracy score:  0.8431535565084063\n",
      "[0.84371524 0.84427141 0.84260289 0.84362827 0.84307179 0.84140234\n",
      " 0.84307179 0.84307179 0.84362827 0.84307179]\n",
      " ===== dummy =====\n",
      "media degli accuracy score:  0.8435431255776065\n",
      "[0.84371524 0.84315907 0.84315907 0.84362827 0.84362827 0.84362827\n",
      " 0.84362827 0.84362827 0.84362827 0.84362827]\n"
     ]
    }
   ],
   "source": [
    "from sklearn.model_selection import cross_val_score\n",
    "for model,name in zip(classifiers,names):\n",
    "    scores = cross_val_score(model,new_df,y,cv=10)\n",
    "    print(f\" ===== {name} =====\")\n",
    "    print(\"media degli accuracy score: \",scores.mean())\n",
    "    print(scores)"
   ],
   "metadata": {
    "collapsed": false,
    "ExecuteTime": {
     "start_time": "2023-06-05T22:53:56.940229Z",
     "end_time": "2023-06-05T22:53:58.553322Z"
    }
   }
  },
  {
   "cell_type": "markdown",
   "source": [
    "## 2.3\n",
    "Trovare i parametri migliori del classificatore Logistic Regression. Agire sui parametri penalty e C. Verificare se l’accuratezza che si ottiene con la nuova configurazione supera quella standard ottenuta al punto 1"
   ],
   "metadata": {
    "collapsed": false
   }
  },
  {
   "cell_type": "code",
   "execution_count": 24,
   "outputs": [
    {
     "name": "stderr",
     "output_type": "stream",
     "text": [
      "/opt/anaconda3/lib/python3.9/site-packages/sklearn/linear_model/_logistic.py:1483: UserWarning: Setting penalty='none' will ignore the C and l1_ratio parameters\n",
      "  warnings.warn(\n",
      "/opt/anaconda3/lib/python3.9/site-packages/sklearn/linear_model/_logistic.py:1483: UserWarning: Setting penalty='none' will ignore the C and l1_ratio parameters\n",
      "  warnings.warn(\n",
      "/opt/anaconda3/lib/python3.9/site-packages/sklearn/linear_model/_logistic.py:814: ConvergenceWarning: lbfgs failed to converge (status=1):\n",
      "STOP: TOTAL NO. of ITERATIONS REACHED LIMIT.\n",
      "\n",
      "Increase the number of iterations (max_iter) or scale the data as shown in:\n",
      "    https://scikit-learn.org/stable/modules/preprocessing.html\n",
      "Please also refer to the documentation for alternative solver options:\n",
      "    https://scikit-learn.org/stable/modules/linear_model.html#logistic-regression\n",
      "  n_iter_i = _check_optimize_result(\n",
      "/opt/anaconda3/lib/python3.9/site-packages/sklearn/linear_model/_logistic.py:1483: UserWarning: Setting penalty='none' will ignore the C and l1_ratio parameters\n",
      "  warnings.warn(\n",
      "/opt/anaconda3/lib/python3.9/site-packages/sklearn/linear_model/_logistic.py:1483: UserWarning: Setting penalty='none' will ignore the C and l1_ratio parameters\n",
      "  warnings.warn(\n",
      "/opt/anaconda3/lib/python3.9/site-packages/sklearn/linear_model/_logistic.py:1483: UserWarning: Setting penalty='none' will ignore the C and l1_ratio parameters\n",
      "  warnings.warn(\n",
      "/opt/anaconda3/lib/python3.9/site-packages/sklearn/linear_model/_logistic.py:814: ConvergenceWarning: lbfgs failed to converge (status=1):\n",
      "STOP: TOTAL NO. of ITERATIONS REACHED LIMIT.\n",
      "\n",
      "Increase the number of iterations (max_iter) or scale the data as shown in:\n",
      "    https://scikit-learn.org/stable/modules/preprocessing.html\n",
      "Please also refer to the documentation for alternative solver options:\n",
      "    https://scikit-learn.org/stable/modules/linear_model.html#logistic-regression\n",
      "  n_iter_i = _check_optimize_result(\n",
      "/opt/anaconda3/lib/python3.9/site-packages/sklearn/linear_model/_logistic.py:814: ConvergenceWarning: lbfgs failed to converge (status=1):\n",
      "STOP: TOTAL NO. of ITERATIONS REACHED LIMIT.\n",
      "\n",
      "Increase the number of iterations (max_iter) or scale the data as shown in:\n",
      "    https://scikit-learn.org/stable/modules/preprocessing.html\n",
      "Please also refer to the documentation for alternative solver options:\n",
      "    https://scikit-learn.org/stable/modules/linear_model.html#logistic-regression\n",
      "  n_iter_i = _check_optimize_result(\n",
      "/opt/anaconda3/lib/python3.9/site-packages/sklearn/linear_model/_logistic.py:814: ConvergenceWarning: lbfgs failed to converge (status=1):\n",
      "STOP: TOTAL NO. of ITERATIONS REACHED LIMIT.\n",
      "\n",
      "Increase the number of iterations (max_iter) or scale the data as shown in:\n",
      "    https://scikit-learn.org/stable/modules/preprocessing.html\n",
      "Please also refer to the documentation for alternative solver options:\n",
      "    https://scikit-learn.org/stable/modules/linear_model.html#logistic-regression\n",
      "  n_iter_i = _check_optimize_result(\n",
      "/opt/anaconda3/lib/python3.9/site-packages/sklearn/linear_model/_logistic.py:1483: UserWarning: Setting penalty='none' will ignore the C and l1_ratio parameters\n",
      "  warnings.warn(\n",
      "/opt/anaconda3/lib/python3.9/site-packages/sklearn/linear_model/_logistic.py:1483: UserWarning: Setting penalty='none' will ignore the C and l1_ratio parameters\n",
      "  warnings.warn(\n",
      "/opt/anaconda3/lib/python3.9/site-packages/sklearn/linear_model/_logistic.py:814: ConvergenceWarning: lbfgs failed to converge (status=1):\n",
      "STOP: TOTAL NO. of ITERATIONS REACHED LIMIT.\n",
      "\n",
      "Increase the number of iterations (max_iter) or scale the data as shown in:\n",
      "    https://scikit-learn.org/stable/modules/preprocessing.html\n",
      "Please also refer to the documentation for alternative solver options:\n",
      "    https://scikit-learn.org/stable/modules/linear_model.html#logistic-regression\n",
      "  n_iter_i = _check_optimize_result(\n",
      "/opt/anaconda3/lib/python3.9/site-packages/sklearn/linear_model/_logistic.py:1483: UserWarning: Setting penalty='none' will ignore the C and l1_ratio parameters\n",
      "  warnings.warn(\n",
      "/opt/anaconda3/lib/python3.9/site-packages/sklearn/linear_model/_logistic.py:1483: UserWarning: Setting penalty='none' will ignore the C and l1_ratio parameters\n",
      "  warnings.warn(\n",
      "/opt/anaconda3/lib/python3.9/site-packages/sklearn/linear_model/_logistic.py:1483: UserWarning: Setting penalty='none' will ignore the C and l1_ratio parameters\n",
      "  warnings.warn(\n",
      "/opt/anaconda3/lib/python3.9/site-packages/sklearn/linear_model/_logistic.py:814: ConvergenceWarning: lbfgs failed to converge (status=1):\n",
      "STOP: TOTAL NO. of ITERATIONS REACHED LIMIT.\n",
      "\n",
      "Increase the number of iterations (max_iter) or scale the data as shown in:\n",
      "    https://scikit-learn.org/stable/modules/preprocessing.html\n",
      "Please also refer to the documentation for alternative solver options:\n",
      "    https://scikit-learn.org/stable/modules/linear_model.html#logistic-regression\n",
      "  n_iter_i = _check_optimize_result(\n",
      "/opt/anaconda3/lib/python3.9/site-packages/sklearn/linear_model/_logistic.py:1483: UserWarning: Setting penalty='none' will ignore the C and l1_ratio parameters\n",
      "  warnings.warn(\n",
      "/opt/anaconda3/lib/python3.9/site-packages/sklearn/linear_model/_logistic.py:1483: UserWarning: Setting penalty='none' will ignore the C and l1_ratio parameters\n",
      "  warnings.warn(\n",
      "/opt/anaconda3/lib/python3.9/site-packages/sklearn/linear_model/_logistic.py:814: ConvergenceWarning: lbfgs failed to converge (status=1):\n",
      "STOP: TOTAL NO. of ITERATIONS REACHED LIMIT.\n",
      "\n",
      "Increase the number of iterations (max_iter) or scale the data as shown in:\n",
      "    https://scikit-learn.org/stable/modules/preprocessing.html\n",
      "Please also refer to the documentation for alternative solver options:\n",
      "    https://scikit-learn.org/stable/modules/linear_model.html#logistic-regression\n",
      "  n_iter_i = _check_optimize_result(\n",
      "/opt/anaconda3/lib/python3.9/site-packages/sklearn/linear_model/_logistic.py:1483: UserWarning: Setting penalty='none' will ignore the C and l1_ratio parameters\n",
      "  warnings.warn(\n",
      "/opt/anaconda3/lib/python3.9/site-packages/sklearn/linear_model/_logistic.py:1483: UserWarning: Setting penalty='none' will ignore the C and l1_ratio parameters\n",
      "  warnings.warn(\n",
      "/opt/anaconda3/lib/python3.9/site-packages/sklearn/linear_model/_logistic.py:1483: UserWarning: Setting penalty='none' will ignore the C and l1_ratio parameters\n",
      "  warnings.warn(\n",
      "/opt/anaconda3/lib/python3.9/site-packages/sklearn/model_selection/_validation.py:372: FitFailedWarning: \n",
      "40 fits failed out of a total of 80.\n",
      "The score on these train-test partitions for these parameters will be set to nan.\n",
      "If these failures are not expected, you can try to debug them by setting error_score='raise'.\n",
      "\n",
      "Below are more details about the failures:\n",
      "--------------------------------------------------------------------------------\n",
      "20 fits failed with the following error:\n",
      "Traceback (most recent call last):\n",
      "  File \"/opt/anaconda3/lib/python3.9/site-packages/sklearn/model_selection/_validation.py\", line 680, in _fit_and_score\n",
      "    estimator.fit(X_train, y_train, **fit_params)\n",
      "  File \"/opt/anaconda3/lib/python3.9/site-packages/sklearn/linear_model/_logistic.py\", line 1461, in fit\n",
      "    solver = _check_solver(self.solver, self.penalty, self.dual)\n",
      "  File \"/opt/anaconda3/lib/python3.9/site-packages/sklearn/linear_model/_logistic.py\", line 447, in _check_solver\n",
      "    raise ValueError(\n",
      "ValueError: Solver lbfgs supports only 'l2' or 'none' penalties, got l1 penalty.\n",
      "\n",
      "--------------------------------------------------------------------------------\n",
      "20 fits failed with the following error:\n",
      "Traceback (most recent call last):\n",
      "  File \"/opt/anaconda3/lib/python3.9/site-packages/sklearn/model_selection/_validation.py\", line 680, in _fit_and_score\n",
      "    estimator.fit(X_train, y_train, **fit_params)\n",
      "  File \"/opt/anaconda3/lib/python3.9/site-packages/sklearn/linear_model/_logistic.py\", line 1461, in fit\n",
      "    solver = _check_solver(self.solver, self.penalty, self.dual)\n",
      "  File \"/opt/anaconda3/lib/python3.9/site-packages/sklearn/linear_model/_logistic.py\", line 447, in _check_solver\n",
      "    raise ValueError(\n",
      "ValueError: Solver lbfgs supports only 'l2' or 'none' penalties, got elasticnet penalty.\n",
      "\n",
      "  warnings.warn(some_fits_failed_message, FitFailedWarning)\n",
      "/opt/anaconda3/lib/python3.9/site-packages/sklearn/model_selection/_search.py:969: UserWarning: One or more of the test scores are non-finite: [       nan 0.84343182        nan 0.84343185        nan 0.84332054\n",
      "        nan 0.84343185        nan 0.84320923        nan 0.84343185\n",
      "        nan 0.84315364        nan 0.84343185]\n",
      "  warnings.warn(\n",
      "/opt/anaconda3/lib/python3.9/site-packages/sklearn/linear_model/_logistic.py:1483: UserWarning: Setting penalty='none' will ignore the C and l1_ratio parameters\n",
      "  warnings.warn(\n"
     ]
    },
    {
     "data": {
      "text/plain": "GridSearchCV(estimator=LogisticRegression(),\n             param_grid={'C': [0.1, 1.0, 2.0, 0.5],\n                         'penalty': ('l1', 'l2', 'elasticnet', 'none')})"
     },
     "execution_count": 24,
     "metadata": {},
     "output_type": "execute_result"
    }
   ],
   "source": [
    "# utilizzare il GridSearchCV\n",
    "from sklearn.model_selection import GridSearchCV\n",
    "params={\"penalty\":('l1', 'l2', 'elasticnet','none'), \"C\":[.1,1.0,2.0,.5]}\n",
    "\n",
    "model_lr = classifiers[1]\n",
    "grid_model = GridSearchCV(model_lr,params)\n",
    "grid_model.fit(new_df,y)"
   ],
   "metadata": {
    "collapsed": false,
    "ExecuteTime": {
     "start_time": "2023-06-05T22:53:58.554910Z",
     "end_time": "2023-06-05T22:54:00.386767Z"
    }
   }
  },
  {
   "cell_type": "code",
   "execution_count": 25,
   "outputs": [
    {
     "data": {
      "text/plain": "{'C': 0.1, 'penalty': 'none'}"
     },
     "execution_count": 25,
     "metadata": {},
     "output_type": "execute_result"
    }
   ],
   "source": [
    "grid_model.best_params_"
   ],
   "metadata": {
    "collapsed": false,
    "ExecuteTime": {
     "start_time": "2023-06-05T22:54:00.386871Z",
     "end_time": "2023-06-05T22:54:00.390257Z"
    }
   }
  },
  {
   "cell_type": "code",
   "execution_count": 26,
   "outputs": [
    {
     "name": "stderr",
     "output_type": "stream",
     "text": [
      "/opt/anaconda3/lib/python3.9/site-packages/sklearn/linear_model/_logistic.py:1483: UserWarning: Setting penalty='none' will ignore the C and l1_ratio parameters\n",
      "  warnings.warn(\n",
      "/opt/anaconda3/lib/python3.9/site-packages/sklearn/linear_model/_logistic.py:1483: UserWarning: Setting penalty='none' will ignore the C and l1_ratio parameters\n",
      "  warnings.warn(\n",
      "/opt/anaconda3/lib/python3.9/site-packages/sklearn/linear_model/_logistic.py:1483: UserWarning: Setting penalty='none' will ignore the C and l1_ratio parameters\n",
      "  warnings.warn(\n",
      "/opt/anaconda3/lib/python3.9/site-packages/sklearn/linear_model/_logistic.py:1483: UserWarning: Setting penalty='none' will ignore the C and l1_ratio parameters\n",
      "  warnings.warn(\n",
      "/opt/anaconda3/lib/python3.9/site-packages/sklearn/linear_model/_logistic.py:1483: UserWarning: Setting penalty='none' will ignore the C and l1_ratio parameters\n",
      "  warnings.warn(\n",
      "/opt/anaconda3/lib/python3.9/site-packages/sklearn/linear_model/_logistic.py:1483: UserWarning: Setting penalty='none' will ignore the C and l1_ratio parameters\n",
      "  warnings.warn(\n",
      "/opt/anaconda3/lib/python3.9/site-packages/sklearn/linear_model/_logistic.py:1483: UserWarning: Setting penalty='none' will ignore the C and l1_ratio parameters\n",
      "  warnings.warn(\n",
      "/opt/anaconda3/lib/python3.9/site-packages/sklearn/linear_model/_logistic.py:1483: UserWarning: Setting penalty='none' will ignore the C and l1_ratio parameters\n",
      "  warnings.warn(\n",
      "/opt/anaconda3/lib/python3.9/site-packages/sklearn/linear_model/_logistic.py:1483: UserWarning: Setting penalty='none' will ignore the C and l1_ratio parameters\n",
      "  warnings.warn(\n",
      "/opt/anaconda3/lib/python3.9/site-packages/sklearn/linear_model/_logistic.py:1483: UserWarning: Setting penalty='none' will ignore the C and l1_ratio parameters\n",
      "  warnings.warn(\n"
     ]
    },
    {
     "name": "stdout",
     "output_type": "stream",
     "text": [
      " ===== LR with GridSearch =====\n",
      "Accuracy on train 0.8462694041061593\n",
      "Accuracy on test 0.8380904690368887\n",
      "Confusion matrix on test\n",
      "[[5021    0]\n",
      " [ 970    0]]\n"
     ]
    },
    {
     "name": "stderr",
     "output_type": "stream",
     "text": [
      "/opt/anaconda3/lib/python3.9/site-packages/sklearn/linear_model/_logistic.py:1483: UserWarning: Setting penalty='none' will ignore the C and l1_ratio parameters\n",
      "  warnings.warn(\n",
      "/opt/anaconda3/lib/python3.9/site-packages/sklearn/linear_model/_logistic.py:1483: UserWarning: Setting penalty='none' will ignore the C and l1_ratio parameters\n",
      "  warnings.warn(\n",
      "/opt/anaconda3/lib/python3.9/site-packages/sklearn/linear_model/_logistic.py:1483: UserWarning: Setting penalty='none' will ignore the C and l1_ratio parameters\n",
      "  warnings.warn(\n",
      "/opt/anaconda3/lib/python3.9/site-packages/sklearn/linear_model/_logistic.py:1483: UserWarning: Setting penalty='none' will ignore the C and l1_ratio parameters\n",
      "  warnings.warn(\n",
      "/opt/anaconda3/lib/python3.9/site-packages/sklearn/linear_model/_logistic.py:1483: UserWarning: Setting penalty='none' will ignore the C and l1_ratio parameters\n",
      "  warnings.warn(\n",
      "/opt/anaconda3/lib/python3.9/site-packages/sklearn/model_selection/_validation.py:372: FitFailedWarning: \n",
      "40 fits failed out of a total of 80.\n",
      "The score on these train-test partitions for these parameters will be set to nan.\n",
      "If these failures are not expected, you can try to debug them by setting error_score='raise'.\n",
      "\n",
      "Below are more details about the failures:\n",
      "--------------------------------------------------------------------------------\n",
      "20 fits failed with the following error:\n",
      "Traceback (most recent call last):\n",
      "  File \"/opt/anaconda3/lib/python3.9/site-packages/sklearn/model_selection/_validation.py\", line 680, in _fit_and_score\n",
      "    estimator.fit(X_train, y_train, **fit_params)\n",
      "  File \"/opt/anaconda3/lib/python3.9/site-packages/sklearn/linear_model/_logistic.py\", line 1461, in fit\n",
      "    solver = _check_solver(self.solver, self.penalty, self.dual)\n",
      "  File \"/opt/anaconda3/lib/python3.9/site-packages/sklearn/linear_model/_logistic.py\", line 447, in _check_solver\n",
      "    raise ValueError(\n",
      "ValueError: Solver lbfgs supports only 'l2' or 'none' penalties, got l1 penalty.\n",
      "\n",
      "--------------------------------------------------------------------------------\n",
      "20 fits failed with the following error:\n",
      "Traceback (most recent call last):\n",
      "  File \"/opt/anaconda3/lib/python3.9/site-packages/sklearn/model_selection/_validation.py\", line 680, in _fit_and_score\n",
      "    estimator.fit(X_train, y_train, **fit_params)\n",
      "  File \"/opt/anaconda3/lib/python3.9/site-packages/sklearn/linear_model/_logistic.py\", line 1461, in fit\n",
      "    solver = _check_solver(self.solver, self.penalty, self.dual)\n",
      "  File \"/opt/anaconda3/lib/python3.9/site-packages/sklearn/linear_model/_logistic.py\", line 447, in _check_solver\n",
      "    raise ValueError(\n",
      "ValueError: Solver lbfgs supports only 'l2' or 'none' penalties, got elasticnet penalty.\n",
      "\n",
      "  warnings.warn(some_fits_failed_message, FitFailedWarning)\n",
      "/opt/anaconda3/lib/python3.9/site-packages/sklearn/model_selection/_search.py:969: UserWarning: One or more of the test scores are non-finite: [       nan 0.84626944        nan 0.84626944        nan 0.84626944\n",
      "        nan 0.84626944        nan 0.84626944        nan 0.84626944\n",
      "        nan 0.84626944        nan 0.84626944]\n",
      "  warnings.warn(\n"
     ]
    }
   ],
   "source": [
    "model_lr.set_params(**grid_model.best_params_)\n",
    "test_model(\"LR with GridSearch\",grid_model,X_train,X_test,y_train,y_test)"
   ],
   "metadata": {
    "collapsed": false,
    "ExecuteTime": {
     "start_time": "2023-06-05T22:54:00.391889Z",
     "end_time": "2023-06-05T22:54:01.251545Z"
    }
   }
  },
  {
   "cell_type": "markdown",
   "source": [
    "## 2.4\n",
    "Introdurre una discretizzazione degli attributi claim_est_payout e vehicle_price, e utilizzare la funzione MaxAbsScaler per scalare i valori del dataset tra 0 e 1 e confrontare se l’accuratezza ottenuta con il Decision Tree Classifier e con la Logistic Regression migliora"
   ],
   "metadata": {
    "collapsed": false
   }
  },
  {
   "cell_type": "code",
   "execution_count": 27,
   "outputs": [
    {
     "data": {
      "text/plain": "       claim_est_payout  vehicle_price\n0               15718.0         3571.0\n1                3283.0        13429.0\n2               13528.0         9489.0\n3               13292.0         3768.0\n4                8559.0        16020.0\n...                 ...            ...\n17968            9443.0        14399.0\n17969            7002.0         1583.0\n17970            1388.0        17870.0\n17971           17320.0        11367.0\n17972           10601.0         7902.0\n\n[17973 rows x 2 columns]",
      "text/html": "<div>\n<style scoped>\n    .dataframe tbody tr th:only-of-type {\n        vertical-align: middle;\n    }\n\n    .dataframe tbody tr th {\n        vertical-align: top;\n    }\n\n    .dataframe thead th {\n        text-align: right;\n    }\n</style>\n<table border=\"1\" class=\"dataframe\">\n  <thead>\n    <tr style=\"text-align: right;\">\n      <th></th>\n      <th>claim_est_payout</th>\n      <th>vehicle_price</th>\n    </tr>\n  </thead>\n  <tbody>\n    <tr>\n      <th>0</th>\n      <td>15718.0</td>\n      <td>3571.0</td>\n    </tr>\n    <tr>\n      <th>1</th>\n      <td>3283.0</td>\n      <td>13429.0</td>\n    </tr>\n    <tr>\n      <th>2</th>\n      <td>13528.0</td>\n      <td>9489.0</td>\n    </tr>\n    <tr>\n      <th>3</th>\n      <td>13292.0</td>\n      <td>3768.0</td>\n    </tr>\n    <tr>\n      <th>4</th>\n      <td>8559.0</td>\n      <td>16020.0</td>\n    </tr>\n    <tr>\n      <th>...</th>\n      <td>...</td>\n      <td>...</td>\n    </tr>\n    <tr>\n      <th>17968</th>\n      <td>9443.0</td>\n      <td>14399.0</td>\n    </tr>\n    <tr>\n      <th>17969</th>\n      <td>7002.0</td>\n      <td>1583.0</td>\n    </tr>\n    <tr>\n      <th>17970</th>\n      <td>1388.0</td>\n      <td>17870.0</td>\n    </tr>\n    <tr>\n      <th>17971</th>\n      <td>17320.0</td>\n      <td>11367.0</td>\n    </tr>\n    <tr>\n      <th>17972</th>\n      <td>10601.0</td>\n      <td>7902.0</td>\n    </tr>\n  </tbody>\n</table>\n<p>17973 rows × 2 columns</p>\n</div>"
     },
     "execution_count": 27,
     "metadata": {},
     "output_type": "execute_result"
    }
   ],
   "source": [
    "new_df.loc[:,('claim_est_payout','vehicle_price')]"
   ],
   "metadata": {
    "collapsed": false,
    "ExecuteTime": {
     "start_time": "2023-06-05T22:54:03.531393Z",
     "end_time": "2023-06-05T22:54:03.534045Z"
    }
   }
  },
  {
   "cell_type": "code",
   "execution_count": 38,
   "outputs": [
    {
     "data": {
      "text/plain": "       age_of_driver  gender  annual_income  address_change_ind  \\\n0           0.325581     1.0       0.502417                 1.0   \n1           0.034884     0.0       0.021197                 1.0   \n2           0.360465     0.0       0.557084                 1.0   \n3           0.465116     0.0       0.720714                 0.0   \n4           0.232558     1.0       0.336556                 0.0   \n...              ...     ...            ...                 ...   \n17968       0.593023     1.0       0.882484                 0.0   \n17969       0.197674     0.0       0.287096                 1.0   \n17970       0.104651     0.0       0.122350                 1.0   \n17971       0.395349     0.0       0.616214                 0.0   \n17972       0.500000     0.0       0.777612                 0.0   \n\n       living_status  accident_site  past_num_of_claims  channel  \\\n0                1.0            0.5            0.166667      0.0   \n1                1.0            0.0            0.166667      0.5   \n2                0.0            0.5            0.000000      0.0   \n3                0.0            0.5            0.500000      0.0   \n4                1.0            0.0            0.000000      0.0   \n...              ...            ...                 ...      ...   \n17968            0.0            0.5            0.000000      0.0   \n17969            0.0            0.5            0.166667      1.0   \n17970            1.0            0.5            0.333333      0.5   \n17971            0.0            0.0            0.166667      0.0   \n17972            1.0            1.0            0.166667      1.0   \n\n       claim_est_payout  age_of_vehicle  vehicle_category  vehicle_price  \\\n0              1.000000          0.5625               0.0       0.000000   \n1              0.000000          0.2500               0.5       0.758621   \n2              0.758621          0.1875               0.0       0.517241   \n3              0.758621          0.2500               1.0       0.241379   \n4              0.517241          0.4375               1.0       1.000000   \n...                 ...             ...               ...            ...   \n17968          0.517241          0.3750               1.0       1.000000   \n17969          0.241379          0.1875               1.0       0.000000   \n17970          0.000000          0.3125               1.0       1.000000   \n17971          1.000000          0.1875               0.0       0.758621   \n17972          0.517241          0.3125               1.0       0.517241   \n\n       vehicle_weight  \n0            0.324950  \n1            0.734698  \n2            0.544458  \n3            0.892110  \n4            0.662141  \n...               ...  \n17968        0.351769  \n17969        0.793679  \n17970        0.941854  \n17971        0.968618  \n17972        0.291120  \n\n[17973 rows x 13 columns]",
      "text/html": "<div>\n<style scoped>\n    .dataframe tbody tr th:only-of-type {\n        vertical-align: middle;\n    }\n\n    .dataframe tbody tr th {\n        vertical-align: top;\n    }\n\n    .dataframe thead th {\n        text-align: right;\n    }\n</style>\n<table border=\"1\" class=\"dataframe\">\n  <thead>\n    <tr style=\"text-align: right;\">\n      <th></th>\n      <th>age_of_driver</th>\n      <th>gender</th>\n      <th>annual_income</th>\n      <th>address_change_ind</th>\n      <th>living_status</th>\n      <th>accident_site</th>\n      <th>past_num_of_claims</th>\n      <th>channel</th>\n      <th>claim_est_payout</th>\n      <th>age_of_vehicle</th>\n      <th>vehicle_category</th>\n      <th>vehicle_price</th>\n      <th>vehicle_weight</th>\n    </tr>\n  </thead>\n  <tbody>\n    <tr>\n      <th>0</th>\n      <td>0.325581</td>\n      <td>1.0</td>\n      <td>0.502417</td>\n      <td>1.0</td>\n      <td>1.0</td>\n      <td>0.5</td>\n      <td>0.166667</td>\n      <td>0.0</td>\n      <td>1.000000</td>\n      <td>0.5625</td>\n      <td>0.0</td>\n      <td>0.000000</td>\n      <td>0.324950</td>\n    </tr>\n    <tr>\n      <th>1</th>\n      <td>0.034884</td>\n      <td>0.0</td>\n      <td>0.021197</td>\n      <td>1.0</td>\n      <td>1.0</td>\n      <td>0.0</td>\n      <td>0.166667</td>\n      <td>0.5</td>\n      <td>0.000000</td>\n      <td>0.2500</td>\n      <td>0.5</td>\n      <td>0.758621</td>\n      <td>0.734698</td>\n    </tr>\n    <tr>\n      <th>2</th>\n      <td>0.360465</td>\n      <td>0.0</td>\n      <td>0.557084</td>\n      <td>1.0</td>\n      <td>0.0</td>\n      <td>0.5</td>\n      <td>0.000000</td>\n      <td>0.0</td>\n      <td>0.758621</td>\n      <td>0.1875</td>\n      <td>0.0</td>\n      <td>0.517241</td>\n      <td>0.544458</td>\n    </tr>\n    <tr>\n      <th>3</th>\n      <td>0.465116</td>\n      <td>0.0</td>\n      <td>0.720714</td>\n      <td>0.0</td>\n      <td>0.0</td>\n      <td>0.5</td>\n      <td>0.500000</td>\n      <td>0.0</td>\n      <td>0.758621</td>\n      <td>0.2500</td>\n      <td>1.0</td>\n      <td>0.241379</td>\n      <td>0.892110</td>\n    </tr>\n    <tr>\n      <th>4</th>\n      <td>0.232558</td>\n      <td>1.0</td>\n      <td>0.336556</td>\n      <td>0.0</td>\n      <td>1.0</td>\n      <td>0.0</td>\n      <td>0.000000</td>\n      <td>0.0</td>\n      <td>0.517241</td>\n      <td>0.4375</td>\n      <td>1.0</td>\n      <td>1.000000</td>\n      <td>0.662141</td>\n    </tr>\n    <tr>\n      <th>...</th>\n      <td>...</td>\n      <td>...</td>\n      <td>...</td>\n      <td>...</td>\n      <td>...</td>\n      <td>...</td>\n      <td>...</td>\n      <td>...</td>\n      <td>...</td>\n      <td>...</td>\n      <td>...</td>\n      <td>...</td>\n      <td>...</td>\n    </tr>\n    <tr>\n      <th>17968</th>\n      <td>0.593023</td>\n      <td>1.0</td>\n      <td>0.882484</td>\n      <td>0.0</td>\n      <td>0.0</td>\n      <td>0.5</td>\n      <td>0.000000</td>\n      <td>0.0</td>\n      <td>0.517241</td>\n      <td>0.3750</td>\n      <td>1.0</td>\n      <td>1.000000</td>\n      <td>0.351769</td>\n    </tr>\n    <tr>\n      <th>17969</th>\n      <td>0.197674</td>\n      <td>0.0</td>\n      <td>0.287096</td>\n      <td>1.0</td>\n      <td>0.0</td>\n      <td>0.5</td>\n      <td>0.166667</td>\n      <td>1.0</td>\n      <td>0.241379</td>\n      <td>0.1875</td>\n      <td>1.0</td>\n      <td>0.000000</td>\n      <td>0.793679</td>\n    </tr>\n    <tr>\n      <th>17970</th>\n      <td>0.104651</td>\n      <td>0.0</td>\n      <td>0.122350</td>\n      <td>1.0</td>\n      <td>1.0</td>\n      <td>0.5</td>\n      <td>0.333333</td>\n      <td>0.5</td>\n      <td>0.000000</td>\n      <td>0.3125</td>\n      <td>1.0</td>\n      <td>1.000000</td>\n      <td>0.941854</td>\n    </tr>\n    <tr>\n      <th>17971</th>\n      <td>0.395349</td>\n      <td>0.0</td>\n      <td>0.616214</td>\n      <td>0.0</td>\n      <td>0.0</td>\n      <td>0.0</td>\n      <td>0.166667</td>\n      <td>0.0</td>\n      <td>1.000000</td>\n      <td>0.1875</td>\n      <td>0.0</td>\n      <td>0.758621</td>\n      <td>0.968618</td>\n    </tr>\n    <tr>\n      <th>17972</th>\n      <td>0.500000</td>\n      <td>0.0</td>\n      <td>0.777612</td>\n      <td>0.0</td>\n      <td>1.0</td>\n      <td>1.0</td>\n      <td>0.166667</td>\n      <td>1.0</td>\n      <td>0.517241</td>\n      <td>0.3125</td>\n      <td>1.0</td>\n      <td>0.517241</td>\n      <td>0.291120</td>\n    </tr>\n  </tbody>\n</table>\n<p>17973 rows × 13 columns</p>\n</div>"
     },
     "execution_count": 38,
     "metadata": {},
     "output_type": "execute_result"
    }
   ],
   "source": [
    "from sklearn.preprocessing import KBinsDiscretizer\n",
    "from sklearn.preprocessing import MaxAbsScaler\n",
    "\n",
    "scaler = MaxAbsScaler()\n",
    "kbin = KBinsDiscretizer(n_bins=30, strategy=\"uniform\", encode=\"ordinal\")\n",
    "kbin.fit(pd.DataFrame(new_df.loc[:,('claim_est_payout','vehicle_price')]))\n",
    "\n",
    "new_df.loc[:,('claim_est_payout','vehicle_price')] = kbin.transform(new_df.loc[:,('claim_est_payout','vehicle_price')])\n",
    "\n",
    "\n",
    "df_trasform = scaler.fit_transform(new_df)\n",
    "\n",
    "df_trasform = pd.DataFrame(df_trasform,columns=scaler.feature_names_in_)\n",
    "df_trasform"
   ],
   "metadata": {
    "collapsed": false,
    "ExecuteTime": {
     "start_time": "2023-06-05T23:06:18.666258Z",
     "end_time": "2023-06-05T23:06:18.693712Z"
    }
   }
  },
  {
   "cell_type": "code",
   "execution_count": 40,
   "outputs": [
    {
     "data": {
      "text/plain": "0        0.0\n1        0.0\n2        1.0\n3        1.0\n4        0.0\n        ... \n17968    0.0\n17969    1.0\n17970    0.0\n17971    0.0\n17972    0.0\nName: fraud, Length: 17973, dtype: float64"
     },
     "execution_count": 40,
     "metadata": {},
     "output_type": "execute_result"
    }
   ],
   "source": [
    "y"
   ],
   "metadata": {
    "collapsed": false,
    "ExecuteTime": {
     "start_time": "2023-06-05T23:06:43.524426Z",
     "end_time": "2023-06-05T23:06:43.526225Z"
    }
   }
  },
  {
   "cell_type": "code",
   "execution_count": 39,
   "outputs": [
    {
     "name": "stdout",
     "output_type": "stream",
     "text": [
      " ===== DT =====\n",
      "Accuracy on train 1.0\n",
      "Accuracy on test 0.7270906359539309\n",
      "Confusion matrix on test\n",
      "[[4133  888]\n",
      " [ 747  223]]\n",
      " ===== LR =====\n",
      "Accuracy on train 0.8457686529794692\n",
      "Accuracy on test 0.8369220497412786\n",
      "Confusion matrix on test\n",
      "[[5007   14]\n",
      " [ 963    7]]\n"
     ]
    }
   ],
   "source": [
    "X_train, X_test, y_train, y_test = train_test_split(df_trasform, y,test_size=(1/3),\n",
    "                                                    random_state=0)\n",
    "\n",
    "classifiers = [DecisionTreeClassifier(), LogisticRegression()]\n",
    "names = [\"DT\",\"LR\"]\n",
    "\n",
    "for model,name in zip(classifiers,names):\n",
    "    test_model(name,model, X_train, X_test, y_train, y_test)"
   ],
   "metadata": {
    "collapsed": false,
    "ExecuteTime": {
     "start_time": "2023-06-05T23:06:22.932024Z",
     "end_time": "2023-06-05T23:06:23.041431Z"
    }
   }
  },
  {
   "cell_type": "code",
   "execution_count": null,
   "outputs": [],
   "source": [],
   "metadata": {
    "collapsed": false
   }
  }
 ],
 "metadata": {
  "kernelspec": {
   "display_name": "Python 3",
   "language": "python",
   "name": "python3"
  },
  "language_info": {
   "codemirror_mode": {
    "name": "ipython",
    "version": 2
   },
   "file_extension": ".py",
   "mimetype": "text/x-python",
   "name": "python",
   "nbconvert_exporter": "python",
   "pygments_lexer": "ipython2",
   "version": "2.7.6"
  }
 },
 "nbformat": 4,
 "nbformat_minor": 0
}
