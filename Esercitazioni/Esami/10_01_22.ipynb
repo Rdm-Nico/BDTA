{
 "cells": [
  {
   "cell_type": "markdown",
   "source": [
    "# Esame 10/01/22\n",
    "## Parte 1"
   ],
   "metadata": {
    "collapsed": false,
    "id": "s-YcKme7-fPK"
   }
  },
  {
   "cell_type": "code",
   "execution_count": 1,
   "outputs": [],
   "source": [
    "import pandas as pd\n",
    "import numpy as np\n",
    "import  matplotlib.pyplot as plt"
   ],
   "metadata": {
    "ExecuteTime": {
     "start_time": "2023-06-12T11:25:27.713366Z",
     "end_time": "2023-06-12T11:25:29.466233Z"
    },
    "id": "tW2tedu9-fPN"
   }
  },
  {
   "cell_type": "code",
   "execution_count": 2,
   "outputs": [
    {
     "data": {
      "text/plain": "<matplotlib.legend.Legend at 0x7f8828032bb0>"
     },
     "execution_count": 2,
     "metadata": {},
     "output_type": "execute_result"
    },
    {
     "data": {
      "text/plain": "<Figure size 640x480 with 1 Axes>",
      "image/png": "[encoded data removed]"
     },
     "metadata": {},
     "output_type": "display_data"
    }
   ],
   "source": [
    "plt.hist([np.random.randn(10000),np.random.randn(100000)], bins=50,color=['g','r'],label=['first','second'])\n",
    "plt.xlabel(\"X-axis\")\n",
    "plt.ylabel(\"Y-axis\")\n",
    "plt.title(\"Title\")\n",
    "plt.legend()"
   ],
   "metadata": {
    "ExecuteTime": {
     "start_time": "2023-06-12T11:25:34.972215Z",
     "end_time": "2023-06-12T11:25:35.228730Z"
    },
    "id": "sXi8I-AU-fPN",
    "outputId": "50b62ad1-09d1-4650-9c50-c0dd683f79e8",
    "colab": {
     "base_uri": "https://localhost:8080/",
     "height": 489
    }
   }
  },
  {
   "cell_type": "markdown",
   "source": [
    "# 1.1\n",
    "Quante sono le istanze contenute nel dataset? *17998* Il dataset è completo (cioè per ogni istanza tutti i valori di ogni attributo sono sempre correttamente specificati – non esistono “missing values”)? *Falso* Il dataset è bilanciato per quanto riguarda la classe da predire? *No*"
   ],
   "metadata": {
    "collapsed": false,
    "id": "YOXZ0tEC-fPO"
   }
  },
  {
   "cell_type": "code",
   "execution_count": 7,
   "outputs": [
    {
     "data": {
      "text/plain": "       claim_number  age_of_driver gender  marital_status  annual_income  \\\n0                 1             46      M             1.0          38301   \n1                 3             21      F             0.0          30445   \n2                 4             49      F             0.0          38923   \n3                 5             58      F             1.0          40605   \n4                 6             38      M             1.0          36380   \n...             ...            ...    ...             ...            ...   \n17993         29993             69      M             1.0          42338   \n17994         29996             35      F             0.0          35579   \n17995         29997             27      F             1.0          32953   \n17996         29999             52      F             1.0          39519   \n17997         30000             61      F             0.0          41126   \n\n       high_education_ind  address_change_ind living_status claim_day_of_week  \\\n0                       1                   1          Rent            Friday   \n1                       0                   1          Rent          Thursday   \n2                       0                   1           Own           Tuesday   \n3                       1                   0           Own          Thursday   \n4                       1                   0          Rent           Tuesday   \n...                   ...                 ...           ...               ...   \n17993                   1                   0           Own          Saturday   \n17994                   1                   1           Own            Monday   \n17995                   0                   1          Rent          Saturday   \n17996                   1                   0           Own            Friday   \n17997                   1                   0          Rent            Monday   \n\n      accident_site  past_num_of_claims channel  claim_est_payout  \\\n0             Local                   1  Broker       7530.940993   \n1           Highway                   1  Online       2966.024895   \n2             Local                   0  Broker       6283.888333   \n3             Local                   3  Broker       6169.747994   \n4           Highway                   0  Broker       4541.387150   \n...             ...                 ...     ...               ...   \n17993         Local                   0  Broker       4806.841803   \n17994         Local                   1   Phone       4089.794471   \n17995         Local                   2  Online       2225.803056   \n17996       Highway                   1  Broker       9560.744844   \n17997   Parking Lot                   1   Phone       5166.915270   \n\n       age_of_vehicle vehicle_category  vehicle_price vehicle_color  \\\n0                 9.0          Compact   12885.452350         white   \n1                 4.0            Large   29429.452180         white   \n2                 3.0          Compact   21701.181950         white   \n3                 4.0           Medium   13198.273440         other   \n4                 7.0           Medium   38060.211220          gray   \n...               ...              ...            ...           ...   \n17993             6.0           Medium   32144.571850         black   \n17994             3.0           Medium    9468.510601          blue   \n17995             5.0           Medium   64974.369590         black   \n17996             3.0          Compact   24983.268110         white   \n17997             5.0           Medium   19295.970480          blue   \n\n       vehicle_weight  fraud  \n0         16161.33381      0  \n1         28691.96422      0  \n2         22090.94758      1  \n3         38329.58106      1  \n4         25876.56319      0  \n...               ...    ...  \n17993     16868.53410      0  \n17994     31500.99689      1  \n17995     44536.25506      0  \n17996     50093.75959      0  \n17997     15257.21450      0  \n\n[17998 rows x 19 columns]",
      "text/html": "<div>\n<style scoped>\n    .dataframe tbody tr th:only-of-type {\n        vertical-align: middle;\n    }\n\n    .dataframe tbody tr th {\n        vertical-align: top;\n    }\n\n    .dataframe thead th {\n        text-align: right;\n    }\n</style>\n<table border=\"1\" class=\"dataframe\">\n  <thead>\n    <tr style=\"text-align: right;\">\n      <th></th>\n      <th>claim_number</th>\n      <th>age_of_driver</th>\n      <th>gender</th>\n      <th>marital_status</th>\n      <th>annual_income</th>\n      <th>high_education_ind</th>\n      <th>address_change_ind</th>\n      <th>living_status</th>\n      <th>claim_day_of_week</th>\n      <th>accident_site</th>\n      <th>past_num_of_claims</th>\n      <th>channel</th>\n      <th>claim_est_payout</th>\n      <th>age_of_vehicle</th>\n      <th>vehicle_category</th>\n      <th>vehicle_price</th>\n      <th>vehicle_color</th>\n      <th>vehicle_weight</th>\n      <th>fraud</th>\n    </tr>\n  </thead>\n  <tbody>\n    <tr>\n      <th>0</th>\n      <td>1</td>\n      <td>46</td>\n      <td>M</td>\n      <td>1.0</td>\n      <td>38301</td>\n      <td>1</td>\n      <td>1</td>\n      <td>Rent</td>\n      <td>Friday</td>\n      <td>Local</td>\n      <td>1</td>\n      <td>Broker</td>\n      <td>7530.940993</td>\n      <td>9.0</td>\n      <td>Compact</td>\n      <td>12885.452350</td>\n      <td>white</td>\n      <td>16161.33381</td>\n      <td>0</td>\n    </tr>\n    <tr>\n      <th>1</th>\n      <td>3</td>\n      <td>21</td>\n      <td>F</td>\n      <td>0.0</td>\n      <td>30445</td>\n      <td>0</td>\n      <td>1</td>\n      <td>Rent</td>\n      <td>Thursday</td>\n      <td>Highway</td>\n      <td>1</td>\n      <td>Online</td>\n      <td>2966.024895</td>\n      <td>4.0</td>\n      <td>Large</td>\n      <td>29429.452180</td>\n      <td>white</td>\n      <td>28691.96422</td>\n      <td>0</td>\n    </tr>\n    <tr>\n      <th>2</th>\n      <td>4</td>\n      <td>49</td>\n      <td>F</td>\n      <td>0.0</td>\n      <td>38923</td>\n      <td>0</td>\n      <td>1</td>\n      <td>Own</td>\n      <td>Tuesday</td>\n      <td>Local</td>\n      <td>0</td>\n      <td>Broker</td>\n      <td>6283.888333</td>\n      <td>3.0</td>\n      <td>Compact</td>\n      <td>21701.181950</td>\n      <td>white</td>\n      <td>22090.94758</td>\n      <td>1</td>\n    </tr>\n    <tr>\n      <th>3</th>\n      <td>5</td>\n      <td>58</td>\n      <td>F</td>\n      <td>1.0</td>\n      <td>40605</td>\n      <td>1</td>\n      <td>0</td>\n      <td>Own</td>\n      <td>Thursday</td>\n      <td>Local</td>\n      <td>3</td>\n      <td>Broker</td>\n      <td>6169.747994</td>\n      <td>4.0</td>\n      <td>Medium</td>\n      <td>13198.273440</td>\n      <td>other</td>\n      <td>38329.58106</td>\n      <td>1</td>\n    </tr>\n    <tr>\n      <th>4</th>\n      <td>6</td>\n      <td>38</td>\n      <td>M</td>\n      <td>1.0</td>\n      <td>36380</td>\n      <td>1</td>\n      <td>0</td>\n      <td>Rent</td>\n      <td>Tuesday</td>\n      <td>Highway</td>\n      <td>0</td>\n      <td>Broker</td>\n      <td>4541.387150</td>\n      <td>7.0</td>\n      <td>Medium</td>\n      <td>38060.211220</td>\n      <td>gray</td>\n      <td>25876.56319</td>\n      <td>0</td>\n    </tr>\n    <tr>\n      <th>...</th>\n      <td>...</td>\n      <td>...</td>\n      <td>...</td>\n      <td>...</td>\n      <td>...</td>\n      <td>...</td>\n      <td>...</td>\n      <td>...</td>\n      <td>...</td>\n      <td>...</td>\n      <td>...</td>\n      <td>...</td>\n      <td>...</td>\n      <td>...</td>\n      <td>...</td>\n      <td>...</td>\n      <td>...</td>\n      <td>...</td>\n      <td>...</td>\n    </tr>\n    <tr>\n      <th>17993</th>\n      <td>29993</td>\n      <td>69</td>\n      <td>M</td>\n      <td>1.0</td>\n      <td>42338</td>\n      <td>1</td>\n      <td>0</td>\n      <td>Own</td>\n      <td>Saturday</td>\n      <td>Local</td>\n      <td>0</td>\n      <td>Broker</td>\n      <td>4806.841803</td>\n      <td>6.0</td>\n      <td>Medium</td>\n      <td>32144.571850</td>\n      <td>black</td>\n      <td>16868.53410</td>\n      <td>0</td>\n    </tr>\n    <tr>\n      <th>17994</th>\n      <td>29996</td>\n      <td>35</td>\n      <td>F</td>\n      <td>0.0</td>\n      <td>35579</td>\n      <td>1</td>\n      <td>1</td>\n      <td>Own</td>\n      <td>Monday</td>\n      <td>Local</td>\n      <td>1</td>\n      <td>Phone</td>\n      <td>4089.794471</td>\n      <td>3.0</td>\n      <td>Medium</td>\n      <td>9468.510601</td>\n      <td>blue</td>\n      <td>31500.99689</td>\n      <td>1</td>\n    </tr>\n    <tr>\n      <th>17995</th>\n      <td>29997</td>\n      <td>27</td>\n      <td>F</td>\n      <td>1.0</td>\n      <td>32953</td>\n      <td>0</td>\n      <td>1</td>\n      <td>Rent</td>\n      <td>Saturday</td>\n      <td>Local</td>\n      <td>2</td>\n      <td>Online</td>\n      <td>2225.803056</td>\n      <td>5.0</td>\n      <td>Medium</td>\n      <td>64974.369590</td>\n      <td>black</td>\n      <td>44536.25506</td>\n      <td>0</td>\n    </tr>\n    <tr>\n      <th>17996</th>\n      <td>29999</td>\n      <td>52</td>\n      <td>F</td>\n      <td>1.0</td>\n      <td>39519</td>\n      <td>1</td>\n      <td>0</td>\n      <td>Own</td>\n      <td>Friday</td>\n      <td>Highway</td>\n      <td>1</td>\n      <td>Broker</td>\n      <td>9560.744844</td>\n      <td>3.0</td>\n      <td>Compact</td>\n      <td>24983.268110</td>\n      <td>white</td>\n      <td>50093.75959</td>\n      <td>0</td>\n    </tr>\n    <tr>\n      <th>17997</th>\n      <td>30000</td>\n      <td>61</td>\n      <td>F</td>\n      <td>0.0</td>\n      <td>41126</td>\n      <td>1</td>\n      <td>0</td>\n      <td>Rent</td>\n      <td>Monday</td>\n      <td>Parking Lot</td>\n      <td>1</td>\n      <td>Phone</td>\n      <td>5166.915270</td>\n      <td>5.0</td>\n      <td>Medium</td>\n      <td>19295.970480</td>\n      <td>blue</td>\n      <td>15257.21450</td>\n      <td>0</td>\n    </tr>\n  </tbody>\n</table>\n<p>17998 rows × 19 columns</p>\n</div>"
     },
     "execution_count": 7,
     "metadata": {},
     "output_type": "execute_result"
    }
   ],
   "source": [
    "df = pd.read_csv(\"Data/training_set_fd.csv\",sep=';')\n",
    "df"
   ],
   "metadata": {
    "ExecuteTime": {
     "start_time": "2023-06-12T11:26:45.252532Z",
     "end_time": "2023-06-12T11:26:45.301413Z"
    },
    "id": "ezcnoHYD-fPP",
    "outputId": "60f57d19-b0b4-4e92-9e8d-261b9d71a4af",
    "colab": {
     "base_uri": "https://localhost:8080/",
     "height": 487
    }
   }
  },
  {
   "cell_type": "code",
   "execution_count": 4,
   "outputs": [
    {
     "data": {
      "text/plain": "claim_number           0\nage_of_driver          0\ngender                 0\nmarital_status         5\nannual_income          0\nhigh_education_ind     0\naddress_change_ind     0\nliving_status          0\nclaim_day_of_week      0\naccident_site          0\npast_num_of_claims     0\nchannel                0\nclaim_est_payout      17\nage_of_vehicle         8\nvehicle_category       0\nvehicle_price          0\nvehicle_color          0\nvehicle_weight         0\nfraud                  0\ndtype: int64"
     },
     "execution_count": 4,
     "metadata": {},
     "output_type": "execute_result"
    }
   ],
   "source": [
    "df.isna().sum()"
   ],
   "metadata": {
    "ExecuteTime": {
     "start_time": "2023-06-12T11:25:54.691612Z",
     "end_time": "2023-06-12T11:25:54.718148Z"
    },
    "id": "Pz9MO7oy-fPP",
    "outputId": "61dd9683-eb80-4bc0-e42a-0675387400cd",
    "colab": {
     "base_uri": "https://localhost:8080/"
    }
   }
  },
  {
   "cell_type": "code",
   "execution_count": 5,
   "outputs": [
    {
     "output_type": "execute_result",
     "data": {
      "text/plain": [
       "0        0\n",
       "1        0\n",
       "2        1\n",
       "3        1\n",
       "4        0\n",
       "        ..\n",
       "17993    0\n",
       "17994    1\n",
       "17995    0\n",
       "17996    0\n",
       "17997    0\n",
       "Name: fraud, Length: 17998, dtype: int64"
      ]
     },
     "metadata": {},
     "execution_count": 5
    }
   ],
   "source": [
    "y = df.fraud\n",
    "y"
   ],
   "metadata": {
    "ExecuteTime": {
     "start_time": "2023-06-06T11:14:32.456542Z",
     "end_time": "2023-06-06T11:14:32.464471Z"
    },
    "id": "qAZmOgCt-fPP",
    "outputId": "da8452ff-5144-49b1-ebc8-0eab545d85e0",
    "colab": {
     "base_uri": "https://localhost:8080/"
    }
   }
  },
  {
   "cell_type": "code",
   "execution_count": 6,
   "outputs": [
    {
     "output_type": "stream",
     "name": "stdout",
     "text": [
      "lunghezza di 0 :  15182\n",
      "lunghezza di 1 :  2816\n"
     ]
    }
   ],
   "source": [
    "for i in range(2):\n",
    "    where = np.where(df.fraud == i)\n",
    "    lung = len(where[0])\n",
    "    print(\"lunghezza di \"+ str(i) +\" : \",lung)"
   ],
   "metadata": {
    "ExecuteTime": {
     "start_time": "2023-06-06T11:14:32.463106Z",
     "end_time": "2023-06-06T11:14:32.470358Z"
    },
    "id": "cG7GsKGr-fPP",
    "outputId": "b65609df-76e0-4036-8b9a-7ce1ab7a1fe0",
    "colab": {
     "base_uri": "https://localhost:8080/"
    }
   }
  },
  {
   "cell_type": "code",
   "execution_count": 8,
   "outputs": [
    {
     "data": {
      "text/plain": "fraud\n0    15182\n1     2816\nName: claim_number, dtype: int64"
     },
     "execution_count": 8,
     "metadata": {},
     "output_type": "execute_result"
    }
   ],
   "source": [
    "df.groupby(\"fraud\")[\"claim_number\"].count()"
   ],
   "metadata": {
    "ExecuteTime": {
     "start_time": "2023-06-12T11:26:56.706113Z",
     "end_time": "2023-06-12T11:26:56.714877Z"
    },
    "id": "qKKmHPjZ-fPP",
    "outputId": "f3b177f0-ce0f-4375-a15c-7a6760a61f2c",
    "colab": {
     "base_uri": "https://localhost:8080/"
    }
   }
  },
  {
   "cell_type": "markdown",
   "source": [
    "## 1.2\n",
    "Analizzare la variabile che indica l’età del guidatore, e considerare solo i guidatori con età inferiore a 91 anni. Rappresentare con un istogramma la distribuzione dei valori. Raggruppare poi le età in gruppi, in questo modo: gruppo1 18-21; gruppo 2 22-25; gruppo3 26-30; gruppo 4 41-40; gruppo 5 41-50; gruppo 6 51-90, visualizzare la distribuzione delle età nei gruppi e indicare la percentuale di frodi nel gruppo"
   ],
   "metadata": {
    "collapsed": false,
    "id": "1WkPMWi7-fPQ"
   }
  },
  {
   "cell_type": "code",
   "execution_count": 9,
   "outputs": [
    {
     "data": {
      "text/plain": "0        46\n1        21\n2        49\n3        58\n4        38\n         ..\n17993    69\n17994    35\n17995    27\n17996    52\n17997    61\nName: age_of_driver, Length: 17972, dtype: int64"
     },
     "execution_count": 9,
     "metadata": {},
     "output_type": "execute_result"
    }
   ],
   "source": [
    "df_age = df.copy()\n",
    "df_age = df_age.loc[df.age_of_driver < 91]\n",
    "ages = df_age.age_of_driver\n",
    "ages"
   ],
   "metadata": {
    "ExecuteTime": {
     "start_time": "2023-06-12T11:27:38.182620Z",
     "end_time": "2023-06-12T11:27:38.194570Z"
    },
    "id": "Jh1icu-K-fPQ",
    "outputId": "38ad11a9-2b2e-443f-bf65-992a52ea21ec",
    "colab": {
     "base_uri": "https://localhost:8080/"
    }
   }
  },
  {
   "cell_type": "code",
   "execution_count": 10,
   "outputs": [
    {
     "data": {
      "text/plain": "<AxesSubplot:>"
     },
     "execution_count": 10,
     "metadata": {},
     "output_type": "execute_result"
    },
    {
     "data": {
      "text/plain": "<Figure size 640x480 with 1 Axes>",
      "image/png": "[encoded data removed]"
     },
     "metadata": {},
     "output_type": "display_data"
    }
   ],
   "source": [
    "# è necessario fare un bin\n",
    "bins = [18, 21, 25, 30, 40, 50,90]\n",
    "group_names = [\"Gruppo 1\",\"Gruppo 2\",\"Gruppo 3\", \"Gruppo 4\",\"Gruppo 5\",\"Gruppo 6\"]\n",
    "cats = pd.cut(ages,bins,labels=group_names)\n",
    "\n",
    "cats.hist()"
   ],
   "metadata": {
    "ExecuteTime": {
     "start_time": "2023-06-12T11:28:16.253392Z",
     "end_time": "2023-06-12T11:28:16.352792Z"
    },
    "id": "28-xB5_C-fPQ",
    "outputId": "29fda34e-c51c-4604-c4e2-45437ac40e3e",
    "colab": {
     "base_uri": "https://localhost:8080/",
     "height": 449
    }
   }
  },
  {
   "cell_type": "code",
   "execution_count": 11,
   "outputs": [
    {
     "data": {
      "text/plain": "age_of_driver\nGruppo 1    0.224000\nGruppo 2    0.142458\nGruppo 3    0.156566\nGruppo 4    0.170419\nGruppo 5    0.194348\nGruppo 6    0.095289\nName: gender, dtype: float64"
     },
     "execution_count": 11,
     "metadata": {},
     "output_type": "execute_result"
    }
   ],
   "source": [
    "df_age['age_of_driver'] = cats\n",
    "age_fraud = df_age.loc[df_age.fraud == 1]\n",
    "age_fraud.groupby(\"age_of_driver\")[\"gender\"].count()/df_age.groupby(\"age_of_driver\")[\"gender\"].count()"
   ],
   "metadata": {
    "ExecuteTime": {
     "start_time": "2023-06-12T11:33:23.369516Z",
     "end_time": "2023-06-12T11:33:23.385750Z"
    },
    "id": "fBTtevTn-fPR",
    "outputId": "d65c5762-18fc-4701-8d6b-b2cdc346fccd",
    "colab": {
     "base_uri": "https://localhost:8080/"
    }
   }
  },
  {
   "cell_type": "markdown",
   "source": [
    "## 1.3\n",
    "Considerare il dataset originale e considerare la divisione in uomini e donne, e all’interno di\n",
    "ogni gruppo la divisione in under o over 40 (si includano anche le persone con quaranta anni in\n",
    "questo gruppo). Indicare a quale gruppo occorre fare maggiore attenzione perché è più facile\n",
    "avere una frode all’interno di esso (motivare la decisione)"
   ],
   "metadata": {
    "collapsed": false,
    "id": "6wgJHde2-fPR"
   }
  },
  {
   "cell_type": "code",
   "execution_count": 13,
   "outputs": [
    {
     "data": {
      "text/plain": "gender  age_of_driver\nF       over40           895\n        under40          597\nM       over40           798\n        under40          526\nName: gender, dtype: int64"
     },
     "execution_count": 13,
     "metadata": {},
     "output_type": "execute_result"
    }
   ],
   "source": [
    "new_df = df.copy()\n",
    "new_df['age_of_driver'] = np.where(new_df['age_of_driver'] < 40, \"under40\", \"over40\")\n",
    "new_df_fraud = new_df.loc[new_df.fraud == 1]\n",
    "new_df_fraud.groupby([\"gender\",\"age_of_driver\"])[\"gender\"].count()"
   ],
   "metadata": {
    "ExecuteTime": {
     "start_time": "2023-06-12T11:35:33.283251Z",
     "end_time": "2023-06-12T11:35:33.297626Z"
    },
    "id": "Iy4Qvy2R-fPR",
    "outputId": "a47df505-b8d9-4c02-8644-fd1ffe17bfd7",
    "colab": {
     "base_uri": "https://localhost:8080/"
    }
   }
  },
  {
   "cell_type": "code",
   "source": [
    "new_df_fraud.groupby([\"gender\",\"age_of_driver\"])[\"gender\"].count() / new_df.groupby([\"gender\", \"age_of_driver\"])[\"gender\"].count()"
   ],
   "metadata": {
    "id": "xoXH_Zl0_iJ7",
    "outputId": "e2815ff2-bf2d-4bac-a9eb-7a24025c0d0c",
    "colab": {
     "base_uri": "https://localhost:8080/"
    },
    "ExecuteTime": {
     "start_time": "2023-06-12T11:43:05.893954Z",
     "end_time": "2023-06-12T11:43:05.914675Z"
    }
   },
   "execution_count": 17,
   "outputs": [
    {
     "data": {
      "text/plain": "gender  age_of_driver\nF       over40           0.170055\n        under40          0.179765\nM       over40           0.135830\n        under40          0.148630\nName: gender, dtype: float64"
     },
     "execution_count": 17,
     "metadata": {},
     "output_type": "execute_result"
    }
   ]
  },
  {
   "cell_type": "markdown",
   "source": [
    "## 1.4\n",
    "Verificare con un opportuno diagramma se è vero che la distribuzione delle frodi aumenta\n",
    "all’aumentare del pagamento richiesto per l’indennizzo (attributo claim_est_payout)"
   ],
   "metadata": {
    "collapsed": false,
    "id": "zQtLAcQB-fPS"
   }
  },
  {
   "cell_type": "code",
   "execution_count": 18,
   "outputs": [
    {
     "data": {
      "text/plain": "<AxesSubplot:>"
     },
     "execution_count": 18,
     "metadata": {},
     "output_type": "execute_result"
    },
    {
     "data": {
      "text/plain": "<Figure size 640x480 with 1 Axes>",
      "image/png": "[encoded data removed]"
     },
     "metadata": {},
     "output_type": "display_data"
    }
   ],
   "source": [
    "new_df = df.copy()\n",
    "datas = []\n",
    "datas.append(new_df[\"claim_est_payout\"])\n",
    "new_df[\"claim_est_payout\"].hist(bins=100)\n",
    "new_df_no_fraud = new_df.loc[new_df.fraud == 0]\n",
    "datas.append(new_df_no_fraud[\"claim_est_payout\"])\n",
    "new_df_no_fraud['claim_est_payout'].hist(bins=100)\n",
    "new_df_fraud = new_df.loc[new_df.fraud == 1]\n",
    "datas.append(new_df_fraud[\"claim_est_payout\"])\n",
    "new_df_fraud['claim_est_payout'].hist(bins=100)"
   ],
   "metadata": {
    "ExecuteTime": {
     "start_time": "2023-06-12T11:44:58.143067Z",
     "end_time": "2023-06-12T11:44:58.502065Z"
    },
    "id": "3UcHzhrw-fPS",
    "outputId": "ee07c343-45ed-4256-fcd3-bbd6a7853d19",
    "colab": {
     "base_uri": "https://localhost:8080/",
     "height": 447
    }
   }
  },
  {
   "cell_type": "code",
   "execution_count": 26,
   "outputs": [
    {
     "data": {
      "text/plain": "<matplotlib.legend.Legend at 0x7f886b82c430>"
     },
     "execution_count": 26,
     "metadata": {},
     "output_type": "execute_result"
    },
    {
     "data": {
      "text/plain": "<Figure size 640x480 with 1 Axes>",
      "image/png": "[encoded data removed]"
     },
     "metadata": {},
     "output_type": "display_data"
    }
   ],
   "source": [
    "plt.hist(datas, bins=50,color=['g','r','y'],label=['intero dataset','senza frode','frode'])\n",
    "plt.xlabel(\"X-axis\")\n",
    "plt.ylabel(\"Y-axis\")\n",
    "plt.title(\"Distribuzione delle frodi all'aumentare del pagamento richiesto\")\n",
    "plt.legend()"
   ],
   "metadata": {
    "ExecuteTime": {
     "start_time": "2023-06-12T11:49:07.003179Z",
     "end_time": "2023-06-12T11:49:07.270682Z"
    },
    "id": "yjB3WrGW-fPS",
    "outputId": "252bd178-0294-4f20-e004-5229bffad5bd",
    "colab": {
     "base_uri": "https://localhost:8080/",
     "height": 489
    }
   }
  },
  {
   "cell_type": "markdown",
   "source": [
    "# Parte 2:\n",
    "## 2.1\n",
    "Si vuole predire il valore di fraud sulla base degli attributi presenti nel dataset. Ricaricare il dataset originale, eliminare eventuali attributi inutili (giustificare la scelta), eliminare le istanze che contengono valori nulli, rendere tutti gli attributi numerici, e dividerlo in modo che 2/3 degli elementi siano contenuti in un nuovo dataset “train” e 1/3 nel dataset “test”\n",
    "\n",
    "\n",
    "# Non utilizzare l'accuratezza perchè questo dataset è sbilanciato\n",
    "usa la recall oppure la f1score ecc..."
   ],
   "metadata": {
    "collapsed": false,
    "id": "9tz8c4ic-fPT"
   }
  },
  {
   "cell_type": "code",
   "execution_count": 27,
   "outputs": [],
   "source": [
    "new_df =  df.copy()"
   ],
   "metadata": {
    "ExecuteTime": {
     "start_time": "2023-06-12T11:49:45.501530Z",
     "end_time": "2023-06-12T11:49:45.509223Z"
    },
    "id": "EFc5njsp-fPT"
   }
  },
  {
   "cell_type": "code",
   "execution_count": 28,
   "outputs": [],
   "source": [
    "# eliminare gli attributi non utili per la ricerca della predizione della frode\n",
    "new_df.drop(\"vehicle_color\",axis=1,inplace=True)\n",
    "# perchè non è utile per la predizione conoscere il colore dell'auto\n",
    "new_df.drop(\"claim_day_of_week\",axis=1,inplace=True)\n",
    "# perchè non è utile sapere quando è avvenuto il reclamo per conoscere la predizione\n",
    "new_df.drop(\"marital_status\",axis=1,inplace=True)\n",
    "# non è utile conoscere lo stato matrimoniale per prevedere le frodi\n",
    "new_df.drop(\"claim_number\",axis=1,inplace=True)\n",
    "# non è utile conoscere il numero del reclamo per prevedere la frode"
   ],
   "metadata": {
    "ExecuteTime": {
     "start_time": "2023-06-12T11:49:54.622094Z",
     "end_time": "2023-06-12T11:49:54.629406Z"
    },
    "id": "YBnWWcBd-fPT"
   }
  },
  {
   "cell_type": "code",
   "execution_count": 29,
   "outputs": [],
   "source": [
    "new_df.drop(\"high_education_ind\",axis=1,inplace=True)\n",
    "# non è utile conoscere l'educazione della vittima per la predizioni delle frodi"
   ],
   "metadata": {
    "ExecuteTime": {
     "start_time": "2023-06-12T11:50:01.368620Z",
     "end_time": "2023-06-12T11:50:01.371371Z"
    },
    "id": "caUltvZR-fPT"
   }
  },
  {
   "cell_type": "code",
   "execution_count": 30,
   "outputs": [
    {
     "data": {
      "text/plain": "       age_of_driver gender  annual_income  address_change_ind living_status  \\\n0                 46      M          38301                   1          Rent   \n1                 21      F          30445                   1          Rent   \n2                 49      F          38923                   1           Own   \n3                 58      F          40605                   0           Own   \n4                 38      M          36380                   0          Rent   \n...              ...    ...            ...                 ...           ...   \n17993             69      M          42338                   0           Own   \n17994             35      F          35579                   1           Own   \n17995             27      F          32953                   1          Rent   \n17996             52      F          39519                   0           Own   \n17997             61      F          41126                   0          Rent   \n\n      accident_site  past_num_of_claims channel  claim_est_payout  \\\n0             Local                   1  Broker       7530.940993   \n1           Highway                   1  Online       2966.024895   \n2             Local                   0  Broker       6283.888333   \n3             Local                   3  Broker       6169.747994   \n4           Highway                   0  Broker       4541.387150   \n...             ...                 ...     ...               ...   \n17993         Local                   0  Broker       4806.841803   \n17994         Local                   1   Phone       4089.794471   \n17995         Local                   2  Online       2225.803056   \n17996       Highway                   1  Broker       9560.744844   \n17997   Parking Lot                   1   Phone       5166.915270   \n\n       age_of_vehicle vehicle_category  vehicle_price  vehicle_weight  fraud  \n0                 9.0          Compact   12885.452350     16161.33381      0  \n1                 4.0            Large   29429.452180     28691.96422      0  \n2                 3.0          Compact   21701.181950     22090.94758      1  \n3                 4.0           Medium   13198.273440     38329.58106      1  \n4                 7.0           Medium   38060.211220     25876.56319      0  \n...               ...              ...            ...             ...    ...  \n17993             6.0           Medium   32144.571850     16868.53410      0  \n17994             3.0           Medium    9468.510601     31500.99689      1  \n17995             5.0           Medium   64974.369590     44536.25506      0  \n17996             3.0          Compact   24983.268110     50093.75959      0  \n17997             5.0           Medium   19295.970480     15257.21450      0  \n\n[17998 rows x 14 columns]",
      "text/html": "<div>\n<style scoped>\n    .dataframe tbody tr th:only-of-type {\n        vertical-align: middle;\n    }\n\n    .dataframe tbody tr th {\n        vertical-align: top;\n    }\n\n    .dataframe thead th {\n        text-align: right;\n    }\n</style>\n<table border=\"1\" class=\"dataframe\">\n  <thead>\n    <tr style=\"text-align: right;\">\n      <th></th>\n      <th>age_of_driver</th>\n      <th>gender</th>\n      <th>annual_income</th>\n      <th>address_change_ind</th>\n      <th>living_status</th>\n      <th>accident_site</th>\n      <th>past_num_of_claims</th>\n      <th>channel</th>\n      <th>claim_est_payout</th>\n      <th>age_of_vehicle</th>\n      <th>vehicle_category</th>\n      <th>vehicle_price</th>\n      <th>vehicle_weight</th>\n      <th>fraud</th>\n    </tr>\n  </thead>\n  <tbody>\n    <tr>\n      <th>0</th>\n      <td>46</td>\n      <td>M</td>\n      <td>38301</td>\n      <td>1</td>\n      <td>Rent</td>\n      <td>Local</td>\n      <td>1</td>\n      <td>Broker</td>\n      <td>7530.940993</td>\n      <td>9.0</td>\n      <td>Compact</td>\n      <td>12885.452350</td>\n      <td>16161.33381</td>\n      <td>0</td>\n    </tr>\n    <tr>\n      <th>1</th>\n      <td>21</td>\n      <td>F</td>\n      <td>30445</td>\n      <td>1</td>\n      <td>Rent</td>\n      <td>Highway</td>\n      <td>1</td>\n      <td>Online</td>\n      <td>2966.024895</td>\n      <td>4.0</td>\n      <td>Large</td>\n      <td>29429.452180</td>\n      <td>28691.96422</td>\n      <td>0</td>\n    </tr>\n    <tr>\n      <th>2</th>\n      <td>49</td>\n      <td>F</td>\n      <td>38923</td>\n      <td>1</td>\n      <td>Own</td>\n      <td>Local</td>\n      <td>0</td>\n      <td>Broker</td>\n      <td>6283.888333</td>\n      <td>3.0</td>\n      <td>Compact</td>\n      <td>21701.181950</td>\n      <td>22090.94758</td>\n      <td>1</td>\n    </tr>\n    <tr>\n      <th>3</th>\n      <td>58</td>\n      <td>F</td>\n      <td>40605</td>\n      <td>0</td>\n      <td>Own</td>\n      <td>Local</td>\n      <td>3</td>\n      <td>Broker</td>\n      <td>6169.747994</td>\n      <td>4.0</td>\n      <td>Medium</td>\n      <td>13198.273440</td>\n      <td>38329.58106</td>\n      <td>1</td>\n    </tr>\n    <tr>\n      <th>4</th>\n      <td>38</td>\n      <td>M</td>\n      <td>36380</td>\n      <td>0</td>\n      <td>Rent</td>\n      <td>Highway</td>\n      <td>0</td>\n      <td>Broker</td>\n      <td>4541.387150</td>\n      <td>7.0</td>\n      <td>Medium</td>\n      <td>38060.211220</td>\n      <td>25876.56319</td>\n      <td>0</td>\n    </tr>\n    <tr>\n      <th>...</th>\n      <td>...</td>\n      <td>...</td>\n      <td>...</td>\n      <td>...</td>\n      <td>...</td>\n      <td>...</td>\n      <td>...</td>\n      <td>...</td>\n      <td>...</td>\n      <td>...</td>\n      <td>...</td>\n      <td>...</td>\n      <td>...</td>\n      <td>...</td>\n    </tr>\n    <tr>\n      <th>17993</th>\n      <td>69</td>\n      <td>M</td>\n      <td>42338</td>\n      <td>0</td>\n      <td>Own</td>\n      <td>Local</td>\n      <td>0</td>\n      <td>Broker</td>\n      <td>4806.841803</td>\n      <td>6.0</td>\n      <td>Medium</td>\n      <td>32144.571850</td>\n      <td>16868.53410</td>\n      <td>0</td>\n    </tr>\n    <tr>\n      <th>17994</th>\n      <td>35</td>\n      <td>F</td>\n      <td>35579</td>\n      <td>1</td>\n      <td>Own</td>\n      <td>Local</td>\n      <td>1</td>\n      <td>Phone</td>\n      <td>4089.794471</td>\n      <td>3.0</td>\n      <td>Medium</td>\n      <td>9468.510601</td>\n      <td>31500.99689</td>\n      <td>1</td>\n    </tr>\n    <tr>\n      <th>17995</th>\n      <td>27</td>\n      <td>F</td>\n      <td>32953</td>\n      <td>1</td>\n      <td>Rent</td>\n      <td>Local</td>\n      <td>2</td>\n      <td>Online</td>\n      <td>2225.803056</td>\n      <td>5.0</td>\n      <td>Medium</td>\n      <td>64974.369590</td>\n      <td>44536.25506</td>\n      <td>0</td>\n    </tr>\n    <tr>\n      <th>17996</th>\n      <td>52</td>\n      <td>F</td>\n      <td>39519</td>\n      <td>0</td>\n      <td>Own</td>\n      <td>Highway</td>\n      <td>1</td>\n      <td>Broker</td>\n      <td>9560.744844</td>\n      <td>3.0</td>\n      <td>Compact</td>\n      <td>24983.268110</td>\n      <td>50093.75959</td>\n      <td>0</td>\n    </tr>\n    <tr>\n      <th>17997</th>\n      <td>61</td>\n      <td>F</td>\n      <td>41126</td>\n      <td>0</td>\n      <td>Rent</td>\n      <td>Parking Lot</td>\n      <td>1</td>\n      <td>Phone</td>\n      <td>5166.915270</td>\n      <td>5.0</td>\n      <td>Medium</td>\n      <td>19295.970480</td>\n      <td>15257.21450</td>\n      <td>0</td>\n    </tr>\n  </tbody>\n</table>\n<p>17998 rows × 14 columns</p>\n</div>"
     },
     "execution_count": 30,
     "metadata": {},
     "output_type": "execute_result"
    }
   ],
   "source": [
    "new_df"
   ],
   "metadata": {
    "ExecuteTime": {
     "start_time": "2023-06-12T11:50:02.073214Z",
     "end_time": "2023-06-12T11:50:02.075927Z"
    },
    "id": "i8-XkN_F-fPU",
    "outputId": "70195231-ada8-4ba6-f80d-83b6a299772a",
    "colab": {
     "base_uri": "https://localhost:8080/",
     "height": 487
    }
   }
  },
  {
   "cell_type": "code",
   "execution_count": 31,
   "outputs": [
    {
     "data": {
      "text/plain": "       age_of_driver gender  annual_income  address_change_ind living_status  \\\n0                 46      M          38301                   1          Rent   \n1                 21      F          30445                   1          Rent   \n2                 49      F          38923                   1           Own   \n3                 58      F          40605                   0           Own   \n4                 38      M          36380                   0          Rent   \n...              ...    ...            ...                 ...           ...   \n17993             69      M          42338                   0           Own   \n17994             35      F          35579                   1           Own   \n17995             27      F          32953                   1          Rent   \n17996             52      F          39519                   0           Own   \n17997             61      F          41126                   0          Rent   \n\n      accident_site  past_num_of_claims channel  claim_est_payout  \\\n0             Local                   1  Broker       7530.940993   \n1           Highway                   1  Online       2966.024895   \n2             Local                   0  Broker       6283.888333   \n3             Local                   3  Broker       6169.747994   \n4           Highway                   0  Broker       4541.387150   \n...             ...                 ...     ...               ...   \n17993         Local                   0  Broker       4806.841803   \n17994         Local                   1   Phone       4089.794471   \n17995         Local                   2  Online       2225.803056   \n17996       Highway                   1  Broker       9560.744844   \n17997   Parking Lot                   1   Phone       5166.915270   \n\n       age_of_vehicle vehicle_category  vehicle_price  vehicle_weight  fraud  \n0                 9.0          Compact   12885.452350     16161.33381      0  \n1                 4.0            Large   29429.452180     28691.96422      0  \n2                 3.0          Compact   21701.181950     22090.94758      1  \n3                 4.0           Medium   13198.273440     38329.58106      1  \n4                 7.0           Medium   38060.211220     25876.56319      0  \n...               ...              ...            ...             ...    ...  \n17993             6.0           Medium   32144.571850     16868.53410      0  \n17994             3.0           Medium    9468.510601     31500.99689      1  \n17995             5.0           Medium   64974.369590     44536.25506      0  \n17996             3.0          Compact   24983.268110     50093.75959      0  \n17997             5.0           Medium   19295.970480     15257.21450      0  \n\n[17973 rows x 14 columns]",
      "text/html": "<div>\n<style scoped>\n    .dataframe tbody tr th:only-of-type {\n        vertical-align: middle;\n    }\n\n    .dataframe tbody tr th {\n        vertical-align: top;\n    }\n\n    .dataframe thead th {\n        text-align: right;\n    }\n</style>\n<table border=\"1\" class=\"dataframe\">\n  <thead>\n    <tr style=\"text-align: right;\">\n      <th></th>\n      <th>age_of_driver</th>\n      <th>gender</th>\n      <th>annual_income</th>\n      <th>address_change_ind</th>\n      <th>living_status</th>\n      <th>accident_site</th>\n      <th>past_num_of_claims</th>\n      <th>channel</th>\n      <th>claim_est_payout</th>\n      <th>age_of_vehicle</th>\n      <th>vehicle_category</th>\n      <th>vehicle_price</th>\n      <th>vehicle_weight</th>\n      <th>fraud</th>\n    </tr>\n  </thead>\n  <tbody>\n    <tr>\n      <th>0</th>\n      <td>46</td>\n      <td>M</td>\n      <td>38301</td>\n      <td>1</td>\n      <td>Rent</td>\n      <td>Local</td>\n      <td>1</td>\n      <td>Broker</td>\n      <td>7530.940993</td>\n      <td>9.0</td>\n      <td>Compact</td>\n      <td>12885.452350</td>\n      <td>16161.33381</td>\n      <td>0</td>\n    </tr>\n    <tr>\n      <th>1</th>\n      <td>21</td>\n      <td>F</td>\n      <td>30445</td>\n      <td>1</td>\n      <td>Rent</td>\n      <td>Highway</td>\n      <td>1</td>\n      <td>Online</td>\n      <td>2966.024895</td>\n      <td>4.0</td>\n      <td>Large</td>\n      <td>29429.452180</td>\n      <td>28691.96422</td>\n      <td>0</td>\n    </tr>\n    <tr>\n      <th>2</th>\n      <td>49</td>\n      <td>F</td>\n      <td>38923</td>\n      <td>1</td>\n      <td>Own</td>\n      <td>Local</td>\n      <td>0</td>\n      <td>Broker</td>\n      <td>6283.888333</td>\n      <td>3.0</td>\n      <td>Compact</td>\n      <td>21701.181950</td>\n      <td>22090.94758</td>\n      <td>1</td>\n    </tr>\n    <tr>\n      <th>3</th>\n      <td>58</td>\n      <td>F</td>\n      <td>40605</td>\n      <td>0</td>\n      <td>Own</td>\n      <td>Local</td>\n      <td>3</td>\n      <td>Broker</td>\n      <td>6169.747994</td>\n      <td>4.0</td>\n      <td>Medium</td>\n      <td>13198.273440</td>\n      <td>38329.58106</td>\n      <td>1</td>\n    </tr>\n    <tr>\n      <th>4</th>\n      <td>38</td>\n      <td>M</td>\n      <td>36380</td>\n      <td>0</td>\n      <td>Rent</td>\n      <td>Highway</td>\n      <td>0</td>\n      <td>Broker</td>\n      <td>4541.387150</td>\n      <td>7.0</td>\n      <td>Medium</td>\n      <td>38060.211220</td>\n      <td>25876.56319</td>\n      <td>0</td>\n    </tr>\n    <tr>\n      <th>...</th>\n      <td>...</td>\n      <td>...</td>\n      <td>...</td>\n      <td>...</td>\n      <td>...</td>\n      <td>...</td>\n      <td>...</td>\n      <td>...</td>\n      <td>...</td>\n      <td>...</td>\n      <td>...</td>\n      <td>...</td>\n      <td>...</td>\n      <td>...</td>\n    </tr>\n    <tr>\n      <th>17993</th>\n      <td>69</td>\n      <td>M</td>\n      <td>42338</td>\n      <td>0</td>\n      <td>Own</td>\n      <td>Local</td>\n      <td>0</td>\n      <td>Broker</td>\n      <td>4806.841803</td>\n      <td>6.0</td>\n      <td>Medium</td>\n      <td>32144.571850</td>\n      <td>16868.53410</td>\n      <td>0</td>\n    </tr>\n    <tr>\n      <th>17994</th>\n      <td>35</td>\n      <td>F</td>\n      <td>35579</td>\n      <td>1</td>\n      <td>Own</td>\n      <td>Local</td>\n      <td>1</td>\n      <td>Phone</td>\n      <td>4089.794471</td>\n      <td>3.0</td>\n      <td>Medium</td>\n      <td>9468.510601</td>\n      <td>31500.99689</td>\n      <td>1</td>\n    </tr>\n    <tr>\n      <th>17995</th>\n      <td>27</td>\n      <td>F</td>\n      <td>32953</td>\n      <td>1</td>\n      <td>Rent</td>\n      <td>Local</td>\n      <td>2</td>\n      <td>Online</td>\n      <td>2225.803056</td>\n      <td>5.0</td>\n      <td>Medium</td>\n      <td>64974.369590</td>\n      <td>44536.25506</td>\n      <td>0</td>\n    </tr>\n    <tr>\n      <th>17996</th>\n      <td>52</td>\n      <td>F</td>\n      <td>39519</td>\n      <td>0</td>\n      <td>Own</td>\n      <td>Highway</td>\n      <td>1</td>\n      <td>Broker</td>\n      <td>9560.744844</td>\n      <td>3.0</td>\n      <td>Compact</td>\n      <td>24983.268110</td>\n      <td>50093.75959</td>\n      <td>0</td>\n    </tr>\n    <tr>\n      <th>17997</th>\n      <td>61</td>\n      <td>F</td>\n      <td>41126</td>\n      <td>0</td>\n      <td>Rent</td>\n      <td>Parking Lot</td>\n      <td>1</td>\n      <td>Phone</td>\n      <td>5166.915270</td>\n      <td>5.0</td>\n      <td>Medium</td>\n      <td>19295.970480</td>\n      <td>15257.21450</td>\n      <td>0</td>\n    </tr>\n  </tbody>\n</table>\n<p>17973 rows × 14 columns</p>\n</div>"
     },
     "execution_count": 31,
     "metadata": {},
     "output_type": "execute_result"
    }
   ],
   "source": [
    "new_df.dropna(inplace=True)\n",
    "new_df"
   ],
   "metadata": {
    "ExecuteTime": {
     "start_time": "2023-06-12T11:50:15.228277Z",
     "end_time": "2023-06-12T11:50:15.537416Z"
    },
    "id": "ojOQXdxn-fPU",
    "outputId": "d5d703e0-0362-4f57-88ba-8e93df3c8fbc",
    "colab": {
     "base_uri": "https://localhost:8080/",
     "height": 487
    }
   }
  },
  {
   "cell_type": "code",
   "execution_count": 32,
   "outputs": [],
   "source": [
    "column_names = new_df.columns"
   ],
   "metadata": {
    "ExecuteTime": {
     "start_time": "2023-06-12T11:50:22.425639Z",
     "end_time": "2023-06-12T11:50:22.430090Z"
    },
    "id": "NwKtB5Zd-fPU"
   }
  },
  {
   "cell_type": "code",
   "execution_count": 33,
   "outputs": [
    {
     "data": {
      "text/plain": "       age_of_driver  gender  annual_income  address_change_ind  \\\n0               28.0     1.0         1351.0                 1.0   \n1                3.0     0.0           57.0                 1.0   \n2               31.0     0.0         1498.0                 1.0   \n3               40.0     0.0         1938.0                 0.0   \n4               20.0     1.0          905.0                 0.0   \n...              ...     ...            ...                 ...   \n17968           51.0     1.0         2373.0                 0.0   \n17969           17.0     0.0          772.0                 1.0   \n17970            9.0     0.0          329.0                 1.0   \n17971           34.0     0.0         1657.0                 0.0   \n17972           43.0     0.0         2091.0                 0.0   \n\n       living_status  accident_site  past_num_of_claims  channel  \\\n0                1.0            1.0                 1.0      0.0   \n1                1.0            0.0                 1.0      1.0   \n2                0.0            1.0                 0.0      0.0   \n3                0.0            1.0                 3.0      0.0   \n4                1.0            0.0                 0.0      0.0   \n...              ...            ...                 ...      ...   \n17968            0.0            1.0                 0.0      0.0   \n17969            0.0            1.0                 1.0      2.0   \n17970            1.0            1.0                 2.0      1.0   \n17971            0.0            0.0                 1.0      0.0   \n17972            1.0            2.0                 1.0      2.0   \n\n       claim_est_payout  age_of_vehicle  vehicle_category  vehicle_price  \\\n0               15718.0             9.0               0.0         3571.0   \n1                3283.0             4.0               1.0        13429.0   \n2               13528.0             3.0               0.0         9489.0   \n3               13292.0             4.0               2.0         3768.0   \n4                8559.0             7.0               2.0        16020.0   \n...                 ...             ...               ...            ...   \n17968            9443.0             6.0               2.0        14399.0   \n17969            7002.0             3.0               2.0         1583.0   \n17970            1388.0             5.0               2.0        17870.0   \n17971           17320.0             3.0               0.0        11367.0   \n17972           10601.0             5.0               2.0         7902.0   \n\n       vehicle_weight  fraud  \n0              5840.0    0.0  \n1             13204.0    0.0  \n2              9785.0    1.0  \n3             16033.0    1.0  \n4             11900.0    0.0  \n...               ...    ...  \n17968          6322.0    0.0  \n17969         14264.0    1.0  \n17970         16927.0    0.0  \n17971         17408.0    0.0  \n17972          5232.0    0.0  \n\n[17973 rows x 14 columns]",
      "text/html": "<div>\n<style scoped>\n    .dataframe tbody tr th:only-of-type {\n        vertical-align: middle;\n    }\n\n    .dataframe tbody tr th {\n        vertical-align: top;\n    }\n\n    .dataframe thead th {\n        text-align: right;\n    }\n</style>\n<table border=\"1\" class=\"dataframe\">\n  <thead>\n    <tr style=\"text-align: right;\">\n      <th></th>\n      <th>age_of_driver</th>\n      <th>gender</th>\n      <th>annual_income</th>\n      <th>address_change_ind</th>\n      <th>living_status</th>\n      <th>accident_site</th>\n      <th>past_num_of_claims</th>\n      <th>channel</th>\n      <th>claim_est_payout</th>\n      <th>age_of_vehicle</th>\n      <th>vehicle_category</th>\n      <th>vehicle_price</th>\n      <th>vehicle_weight</th>\n      <th>fraud</th>\n    </tr>\n  </thead>\n  <tbody>\n    <tr>\n      <th>0</th>\n      <td>28.0</td>\n      <td>1.0</td>\n      <td>1351.0</td>\n      <td>1.0</td>\n      <td>1.0</td>\n      <td>1.0</td>\n      <td>1.0</td>\n      <td>0.0</td>\n      <td>15718.0</td>\n      <td>9.0</td>\n      <td>0.0</td>\n      <td>3571.0</td>\n      <td>5840.0</td>\n      <td>0.0</td>\n    </tr>\n    <tr>\n      <th>1</th>\n      <td>3.0</td>\n      <td>0.0</td>\n      <td>57.0</td>\n      <td>1.0</td>\n      <td>1.0</td>\n      <td>0.0</td>\n      <td>1.0</td>\n      <td>1.0</td>\n      <td>3283.0</td>\n      <td>4.0</td>\n      <td>1.0</td>\n      <td>13429.0</td>\n      <td>13204.0</td>\n      <td>0.0</td>\n    </tr>\n    <tr>\n      <th>2</th>\n      <td>31.0</td>\n      <td>0.0</td>\n      <td>1498.0</td>\n      <td>1.0</td>\n      <td>0.0</td>\n      <td>1.0</td>\n      <td>0.0</td>\n      <td>0.0</td>\n      <td>13528.0</td>\n      <td>3.0</td>\n      <td>0.0</td>\n      <td>9489.0</td>\n      <td>9785.0</td>\n      <td>1.0</td>\n    </tr>\n    <tr>\n      <th>3</th>\n      <td>40.0</td>\n      <td>0.0</td>\n      <td>1938.0</td>\n      <td>0.0</td>\n      <td>0.0</td>\n      <td>1.0</td>\n      <td>3.0</td>\n      <td>0.0</td>\n      <td>13292.0</td>\n      <td>4.0</td>\n      <td>2.0</td>\n      <td>3768.0</td>\n      <td>16033.0</td>\n      <td>1.0</td>\n    </tr>\n    <tr>\n      <th>4</th>\n      <td>20.0</td>\n      <td>1.0</td>\n      <td>905.0</td>\n      <td>0.0</td>\n      <td>1.0</td>\n      <td>0.0</td>\n      <td>0.0</td>\n      <td>0.0</td>\n      <td>8559.0</td>\n      <td>7.0</td>\n      <td>2.0</td>\n      <td>16020.0</td>\n      <td>11900.0</td>\n      <td>0.0</td>\n    </tr>\n    <tr>\n      <th>...</th>\n      <td>...</td>\n      <td>...</td>\n      <td>...</td>\n      <td>...</td>\n      <td>...</td>\n      <td>...</td>\n      <td>...</td>\n      <td>...</td>\n      <td>...</td>\n      <td>...</td>\n      <td>...</td>\n      <td>...</td>\n      <td>...</td>\n      <td>...</td>\n    </tr>\n    <tr>\n      <th>17968</th>\n      <td>51.0</td>\n      <td>1.0</td>\n      <td>2373.0</td>\n      <td>0.0</td>\n      <td>0.0</td>\n      <td>1.0</td>\n      <td>0.0</td>\n      <td>0.0</td>\n      <td>9443.0</td>\n      <td>6.0</td>\n      <td>2.0</td>\n      <td>14399.0</td>\n      <td>6322.0</td>\n      <td>0.0</td>\n    </tr>\n    <tr>\n      <th>17969</th>\n      <td>17.0</td>\n      <td>0.0</td>\n      <td>772.0</td>\n      <td>1.0</td>\n      <td>0.0</td>\n      <td>1.0</td>\n      <td>1.0</td>\n      <td>2.0</td>\n      <td>7002.0</td>\n      <td>3.0</td>\n      <td>2.0</td>\n      <td>1583.0</td>\n      <td>14264.0</td>\n      <td>1.0</td>\n    </tr>\n    <tr>\n      <th>17970</th>\n      <td>9.0</td>\n      <td>0.0</td>\n      <td>329.0</td>\n      <td>1.0</td>\n      <td>1.0</td>\n      <td>1.0</td>\n      <td>2.0</td>\n      <td>1.0</td>\n      <td>1388.0</td>\n      <td>5.0</td>\n      <td>2.0</td>\n      <td>17870.0</td>\n      <td>16927.0</td>\n      <td>0.0</td>\n    </tr>\n    <tr>\n      <th>17971</th>\n      <td>34.0</td>\n      <td>0.0</td>\n      <td>1657.0</td>\n      <td>0.0</td>\n      <td>0.0</td>\n      <td>0.0</td>\n      <td>1.0</td>\n      <td>0.0</td>\n      <td>17320.0</td>\n      <td>3.0</td>\n      <td>0.0</td>\n      <td>11367.0</td>\n      <td>17408.0</td>\n      <td>0.0</td>\n    </tr>\n    <tr>\n      <th>17972</th>\n      <td>43.0</td>\n      <td>0.0</td>\n      <td>2091.0</td>\n      <td>0.0</td>\n      <td>1.0</td>\n      <td>2.0</td>\n      <td>1.0</td>\n      <td>2.0</td>\n      <td>10601.0</td>\n      <td>5.0</td>\n      <td>2.0</td>\n      <td>7902.0</td>\n      <td>5232.0</td>\n      <td>0.0</td>\n    </tr>\n  </tbody>\n</table>\n<p>17973 rows × 14 columns</p>\n</div>"
     },
     "execution_count": 33,
     "metadata": {},
     "output_type": "execute_result"
    }
   ],
   "source": [
    "from sklearn.preprocessing import OrdinalEncoder\n",
    "\n",
    "ordinal = OrdinalEncoder()\n",
    "new_df = ordinal.fit_transform(new_df)\n",
    "new_df = pd.DataFrame(new_df,columns=column_names)\n",
    "new_df"
   ],
   "metadata": {
    "ExecuteTime": {
     "start_time": "2023-06-12T11:50:33.835301Z",
     "end_time": "2023-06-12T11:50:34.735775Z"
    },
    "id": "dDkP4GAX-fPU",
    "outputId": "587cb609-39ae-48b1-904d-9707ba208d0e",
    "colab": {
     "base_uri": "https://localhost:8080/",
     "height": 487
    }
   }
  },
  {
   "cell_type": "code",
   "execution_count": 34,
   "outputs": [],
   "source": [
    "y = new_df[\"fraud\"]\n",
    "new_df.drop(\"fraud\",axis=1,inplace=True)"
   ],
   "metadata": {
    "ExecuteTime": {
     "start_time": "2023-06-12T11:50:51.116651Z",
     "end_time": "2023-06-12T11:50:51.119215Z"
    },
    "id": "Zo5rpRwn-fPU"
   }
  },
  {
   "cell_type": "code",
   "execution_count": 35,
   "outputs": [
    {
     "data": {
      "text/plain": "       age_of_driver  gender  annual_income  address_change_ind  \\\n6999            13.0     0.0          538.0                 1.0   \n16530           34.0     0.0         1654.0                 0.0   \n16006            4.0     1.0           93.0                 1.0   \n477             29.0     0.0         1396.0                 1.0   \n15988           30.0     1.0         1467.0                 0.0   \n...              ...     ...            ...                 ...   \n9225            30.0     1.0         1447.0                 1.0   \n13123           18.0     0.0          802.0                 0.0   \n9845            37.0     0.0         1787.0                 0.0   \n10799           15.0     0.0          639.0                 0.0   \n2732            14.0     0.0          593.0                 1.0   \n\n       living_status  accident_site  past_num_of_claims  channel  \\\n6999             1.0            2.0                 1.0      0.0   \n16530            0.0            1.0                 0.0      2.0   \n16006            1.0            1.0                 1.0      2.0   \n477              0.0            0.0                 2.0      0.0   \n15988            1.0            2.0                 0.0      2.0   \n...              ...            ...                 ...      ...   \n9225             0.0            1.0                 3.0      2.0   \n13123            1.0            1.0                 0.0      0.0   \n9845             1.0            2.0                 1.0      0.0   \n10799            0.0            1.0                 1.0      0.0   \n2732             0.0            1.0                 0.0      0.0   \n\n       claim_est_payout  age_of_vehicle  vehicle_category  vehicle_price  \\\n6999             2701.0             6.0               0.0         8445.0   \n16530            8299.0             4.0               2.0        10531.0   \n16006            2472.0             3.0               2.0        14801.0   \n477              5694.0             3.0               2.0        12506.0   \n15988             689.0             6.0               0.0         1314.0   \n...                 ...             ...               ...            ...   \n9225             9465.0             3.0               0.0         1889.0   \n13123            8472.0             5.0               1.0         3946.0   \n9845             6450.0             3.0               1.0        14078.0   \n10799            1022.0             1.0               2.0        17780.0   \n2732            11081.0             5.0               2.0         9616.0   \n\n       vehicle_weight  fraud  \n6999           7320.0    0.0  \n16530         15509.0    0.0  \n16006         10750.0    0.0  \n477           17493.0    0.0  \n15988         14642.0    0.0  \n...               ...    ...  \n9225           3146.0    0.0  \n13123           949.0    1.0  \n9845            476.0    0.0  \n10799         17261.0    0.0  \n2732           3484.0    0.0  \n\n[11982 rows x 14 columns]",
      "text/html": "<div>\n<style scoped>\n    .dataframe tbody tr th:only-of-type {\n        vertical-align: middle;\n    }\n\n    .dataframe tbody tr th {\n        vertical-align: top;\n    }\n\n    .dataframe thead th {\n        text-align: right;\n    }\n</style>\n<table border=\"1\" class=\"dataframe\">\n  <thead>\n    <tr style=\"text-align: right;\">\n      <th></th>\n      <th>age_of_driver</th>\n      <th>gender</th>\n      <th>annual_income</th>\n      <th>address_change_ind</th>\n      <th>living_status</th>\n      <th>accident_site</th>\n      <th>past_num_of_claims</th>\n      <th>channel</th>\n      <th>claim_est_payout</th>\n      <th>age_of_vehicle</th>\n      <th>vehicle_category</th>\n      <th>vehicle_price</th>\n      <th>vehicle_weight</th>\n      <th>fraud</th>\n    </tr>\n  </thead>\n  <tbody>\n    <tr>\n      <th>6999</th>\n      <td>13.0</td>\n      <td>0.0</td>\n      <td>538.0</td>\n      <td>1.0</td>\n      <td>1.0</td>\n      <td>2.0</td>\n      <td>1.0</td>\n      <td>0.0</td>\n      <td>2701.0</td>\n      <td>6.0</td>\n      <td>0.0</td>\n      <td>8445.0</td>\n      <td>7320.0</td>\n      <td>0.0</td>\n    </tr>\n    <tr>\n      <th>16530</th>\n      <td>34.0</td>\n      <td>0.0</td>\n      <td>1654.0</td>\n      <td>0.0</td>\n      <td>0.0</td>\n      <td>1.0</td>\n      <td>0.0</td>\n      <td>2.0</td>\n      <td>8299.0</td>\n      <td>4.0</td>\n      <td>2.0</td>\n      <td>10531.0</td>\n      <td>15509.0</td>\n      <td>0.0</td>\n    </tr>\n    <tr>\n      <th>16006</th>\n      <td>4.0</td>\n      <td>1.0</td>\n      <td>93.0</td>\n      <td>1.0</td>\n      <td>1.0</td>\n      <td>1.0</td>\n      <td>1.0</td>\n      <td>2.0</td>\n      <td>2472.0</td>\n      <td>3.0</td>\n      <td>2.0</td>\n      <td>14801.0</td>\n      <td>10750.0</td>\n      <td>0.0</td>\n    </tr>\n    <tr>\n      <th>477</th>\n      <td>29.0</td>\n      <td>0.0</td>\n      <td>1396.0</td>\n      <td>1.0</td>\n      <td>0.0</td>\n      <td>0.0</td>\n      <td>2.0</td>\n      <td>0.0</td>\n      <td>5694.0</td>\n      <td>3.0</td>\n      <td>2.0</td>\n      <td>12506.0</td>\n      <td>17493.0</td>\n      <td>0.0</td>\n    </tr>\n    <tr>\n      <th>15988</th>\n      <td>30.0</td>\n      <td>1.0</td>\n      <td>1467.0</td>\n      <td>0.0</td>\n      <td>1.0</td>\n      <td>2.0</td>\n      <td>0.0</td>\n      <td>2.0</td>\n      <td>689.0</td>\n      <td>6.0</td>\n      <td>0.0</td>\n      <td>1314.0</td>\n      <td>14642.0</td>\n      <td>0.0</td>\n    </tr>\n    <tr>\n      <th>...</th>\n      <td>...</td>\n      <td>...</td>\n      <td>...</td>\n      <td>...</td>\n      <td>...</td>\n      <td>...</td>\n      <td>...</td>\n      <td>...</td>\n      <td>...</td>\n      <td>...</td>\n      <td>...</td>\n      <td>...</td>\n      <td>...</td>\n      <td>...</td>\n    </tr>\n    <tr>\n      <th>9225</th>\n      <td>30.0</td>\n      <td>1.0</td>\n      <td>1447.0</td>\n      <td>1.0</td>\n      <td>0.0</td>\n      <td>1.0</td>\n      <td>3.0</td>\n      <td>2.0</td>\n      <td>9465.0</td>\n      <td>3.0</td>\n      <td>0.0</td>\n      <td>1889.0</td>\n      <td>3146.0</td>\n      <td>0.0</td>\n    </tr>\n    <tr>\n      <th>13123</th>\n      <td>18.0</td>\n      <td>0.0</td>\n      <td>802.0</td>\n      <td>0.0</td>\n      <td>1.0</td>\n      <td>1.0</td>\n      <td>0.0</td>\n      <td>0.0</td>\n      <td>8472.0</td>\n      <td>5.0</td>\n      <td>1.0</td>\n      <td>3946.0</td>\n      <td>949.0</td>\n      <td>1.0</td>\n    </tr>\n    <tr>\n      <th>9845</th>\n      <td>37.0</td>\n      <td>0.0</td>\n      <td>1787.0</td>\n      <td>0.0</td>\n      <td>1.0</td>\n      <td>2.0</td>\n      <td>1.0</td>\n      <td>0.0</td>\n      <td>6450.0</td>\n      <td>3.0</td>\n      <td>1.0</td>\n      <td>14078.0</td>\n      <td>476.0</td>\n      <td>0.0</td>\n    </tr>\n    <tr>\n      <th>10799</th>\n      <td>15.0</td>\n      <td>0.0</td>\n      <td>639.0</td>\n      <td>0.0</td>\n      <td>0.0</td>\n      <td>1.0</td>\n      <td>1.0</td>\n      <td>0.0</td>\n      <td>1022.0</td>\n      <td>1.0</td>\n      <td>2.0</td>\n      <td>17780.0</td>\n      <td>17261.0</td>\n      <td>0.0</td>\n    </tr>\n    <tr>\n      <th>2732</th>\n      <td>14.0</td>\n      <td>0.0</td>\n      <td>593.0</td>\n      <td>1.0</td>\n      <td>0.0</td>\n      <td>1.0</td>\n      <td>0.0</td>\n      <td>0.0</td>\n      <td>11081.0</td>\n      <td>5.0</td>\n      <td>2.0</td>\n      <td>9616.0</td>\n      <td>3484.0</td>\n      <td>0.0</td>\n    </tr>\n  </tbody>\n</table>\n<p>11982 rows × 14 columns</p>\n</div>"
     },
     "execution_count": 35,
     "metadata": {},
     "output_type": "execute_result"
    }
   ],
   "source": [
    "from sklearn.model_selection import train_test_split\n",
    "X_train, X_test, y_train, y_test = train_test_split(new_df, y,test_size=(1/3),\n",
    "                                                    random_state=0)\n",
    "train = X_train.assign(fraud=y_train)\n",
    "test = X_test.assign(fraud=y_test)\n",
    "train"
   ],
   "metadata": {
    "ExecuteTime": {
     "start_time": "2023-06-12T11:50:53.794317Z",
     "end_time": "2023-06-12T11:50:53.851876Z"
    },
    "id": "X4BL9iQ8-fPU",
    "outputId": "57d34440-60ea-4569-a6e5-05cdbd6811c3",
    "colab": {
     "base_uri": "https://localhost:8080/",
     "height": 487
    }
   }
  },
  {
   "cell_type": "code",
   "execution_count": 36,
   "outputs": [
    {
     "name": "stdout",
     "output_type": "stream",
     "text": [
      " ===== DT =====\n",
      "Accuracy on train 1.0\n",
      "Accuracy on test 0.7334334835586713\n",
      "Confusion matrix on test\n",
      "[[4177  844]\n",
      " [ 753  217]]\n",
      " ===== LR =====\n",
      "Accuracy on train 0.8462694041061593\n",
      "Accuracy on test 0.8380904690368887\n",
      "Confusion matrix on test\n",
      "[[5021    0]\n",
      " [ 970    0]]\n",
      " ===== dummy =====\n",
      "Accuracy on train 0.8462694041061593\n",
      "Accuracy on test 0.8380904690368887\n",
      "Confusion matrix on test\n",
      "[[5021    0]\n",
      " [ 970    0]]\n"
     ]
    }
   ],
   "source": [
    "from sklearn.tree import DecisionTreeClassifier\n",
    "from sklearn.linear_model import LogisticRegression\n",
    "from sklearn.dummy import DummyClassifier\n",
    "from sklearn.metrics import  accuracy_score\n",
    "from sklearn.metrics import confusion_matrix\n",
    "\n",
    "def test_model(name ,model,train_data, test_data, train_labels, test_labels):\n",
    "    model.fit(train_data,train_labels)\n",
    "    train_preds = np.round(model.predict(train_data))\n",
    "    test_preds = np.round(model.predict(test_data))\n",
    "    print(f\" ===== {name} =====\")\n",
    "    print(f\"Accuracy on train {accuracy_score(train_labels, train_preds)}\")\n",
    "    print(f\"Accuracy on test {accuracy_score(test_labels, test_preds)}\")\n",
    "    print(\"Confusion matrix on test\")\n",
    "    print(confusion_matrix(test_labels, test_preds))\n",
    "\n",
    "\n",
    "classifiers = [DecisionTreeClassifier(), LogisticRegression(), DummyClassifier()]\n",
    "\n",
    "names = [\"DT\",\"LR\", \"dummy\"]\n",
    "\n",
    "for model,name in zip(classifiers,names):\n",
    "    test_model(name,model, X_train, X_test, y_train, y_test)"
   ],
   "metadata": {
    "ExecuteTime": {
     "start_time": "2023-06-12T11:51:04.113311Z",
     "end_time": "2023-06-12T11:51:04.383563Z"
    },
    "id": "FayD5Rto-fPV",
    "outputId": "a33ec27e-9b80-420d-93ef-8509bfcc4c04",
    "colab": {
     "base_uri": "https://localhost:8080/"
    }
   }
  },
  {
   "cell_type": "markdown",
   "source": [
    "Nella matrici di confisione del LR  i valori TN non vengono trovati, gli unici valori che vengono trovati sono i TP e i FP.\n",
    "Nel DT invece la distribuzione è più omognea anche se l'accuratezza è comunque bassa.\n",
    "l'accuratezza non è una buona metrica perchè il dataset in questione è sbilanciato nella colonna da predire "
   ],
   "metadata": {
    "id": "kzRIKOlsCnkp"
   }
  },
  {
   "cell_type": "markdown",
   "source": [
    "## 2.2\n",
    "Confrontare l’accuratezza ottenuta nel punto precedente con l’accuratezza si ottiene con un una 10 Fold cross validation"
   ],
   "metadata": {
    "collapsed": false,
    "id": "ssYFawhI-fPV"
   }
  },
  {
   "cell_type": "code",
   "execution_count": 37,
   "outputs": [
    {
     "name": "stdout",
     "output_type": "stream",
     "text": [
      " ===== DT =====\n",
      "media degli accuracy score:  0.7412232908264486\n",
      "[0.72914349 0.74249166 0.7458287  0.76015582 0.73678353 0.73622705\n",
      " 0.74457429 0.74513077 0.74012243 0.73177518]\n",
      " ===== LR =====\n",
      "media degli accuracy score:  0.8431535565084063\n",
      "[0.84371524 0.84427141 0.84260289 0.84362827 0.84307179 0.84140234\n",
      " 0.84307179 0.84307179 0.84362827 0.84307179]\n",
      " ===== dummy =====\n",
      "media degli accuracy score:  0.8435431255776065\n",
      "[0.84371524 0.84315907 0.84315907 0.84362827 0.84362827 0.84362827\n",
      " 0.84362827 0.84362827 0.84362827 0.84362827]\n"
     ]
    }
   ],
   "source": [
    "from sklearn.model_selection import cross_val_score\n",
    "for model,name in zip(classifiers,names):\n",
    "    scores = cross_val_score(model,new_df,y,cv=10)\n",
    "    print(f\" ===== {name} =====\")\n",
    "    print(\"media degli accuracy score: \",scores.mean())\n",
    "    print(scores)"
   ],
   "metadata": {
    "ExecuteTime": {
     "start_time": "2023-06-12T11:52:53.804791Z",
     "end_time": "2023-06-12T11:52:55.852846Z"
    },
    "id": "9aO7HPwb-fPV",
    "outputId": "4847bba6-42b0-4ba5-ffe3-6eb585ce8b0f",
    "colab": {
     "base_uri": "https://localhost:8080/"
    }
   }
  },
  {
   "cell_type": "markdown",
   "source": [
    "## 2.3\n",
    "Trovare i parametri migliori del classificatore Logistic Regression. Agire sui parametri penalty e C. Verificare se l’accuratezza che si ottiene con la nuova configurazione supera quella standard ottenuta al punto 1"
   ],
   "metadata": {
    "collapsed": false,
    "id": "-ORbpkFv-fPV"
   }
  },
  {
   "cell_type": "code",
   "execution_count": 38,
   "outputs": [
    {
     "data": {
      "text/plain": "GridSearchCV(estimator=LogisticRegression(),\n             param_grid={'C': [0.1, 1.0, 2.0, 0.5],\n                         'penalty': ('l1', 'l2', 'elasticnet', 'none')})"
     },
     "execution_count": 38,
     "metadata": {},
     "output_type": "execute_result"
    }
   ],
   "source": [
    "def warn(*args, **kwargs):\n",
    "    pass\n",
    "import warnings\n",
    "warnings.warn = warn\n",
    "\n",
    "# utilizzare il GridSearchCV\n",
    "from sklearn.model_selection import GridSearchCV\n",
    "params={\"penalty\":('l1', 'l2', 'elasticnet','none'), \"C\":[.1,1.0,2.0,.5]}\n",
    "\n",
    "model_lr = classifiers[1]\n",
    "grid_model = GridSearchCV(model_lr,params)\n",
    "grid_model.fit(new_df,y)"
   ],
   "metadata": {
    "ExecuteTime": {
     "start_time": "2023-06-12T11:53:26.856332Z",
     "end_time": "2023-06-12T11:53:29.468606Z"
    },
    "id": "pZOEQfyy-fPV",
    "outputId": "53b8f33b-1adb-4c59-a1f4-cd4d620b486a",
    "colab": {
     "base_uri": "https://localhost:8080/",
     "height": 117
    }
   }
  },
  {
   "cell_type": "code",
   "execution_count": 40,
   "outputs": [
    {
     "name": "stdout",
     "output_type": "stream",
     "text": [
      " =====  GridSearch =====\n",
      "Accuracy on train 0.8462694041061593\n",
      "Accuracy on test 0.8380904690368887\n",
      "Confusion matrix on test\n",
      "[[5021    0]\n",
      " [ 970    0]]\n"
     ]
    }
   ],
   "source": [
    "test_model(\" GridSearch\",grid_model,X_train,X_test,y_train,y_test)"
   ],
   "metadata": {
    "collapsed": false,
    "ExecuteTime": {
     "start_time": "2023-06-12T11:54:30.824597Z",
     "end_time": "2023-06-12T11:54:32.204532Z"
    }
   }
  },
  {
   "cell_type": "code",
   "execution_count": 41,
   "outputs": [
    {
     "data": {
      "text/plain": "{'C': 0.1, 'penalty': 'l2'}"
     },
     "execution_count": 41,
     "metadata": {},
     "output_type": "execute_result"
    }
   ],
   "source": [
    "grid_model.best_params_"
   ],
   "metadata": {
    "ExecuteTime": {
     "start_time": "2023-06-12T11:54:35.768732Z",
     "end_time": "2023-06-12T11:54:35.773559Z"
    },
    "id": "fD9sb_0U-fPW",
    "outputId": "ab085c12-a164-414d-8e55-47feee9823a5",
    "colab": {
     "base_uri": "https://localhost:8080/"
    }
   }
  },
  {
   "cell_type": "code",
   "execution_count": 43,
   "outputs": [
    {
     "name": "stdout",
     "output_type": "stream",
     "text": [
      " ===== LR with GridSearch =====\n",
      "Accuracy on train 0.8462694041061593\n",
      "Accuracy on test 0.8380904690368887\n",
      "Confusion matrix on test\n",
      "[[5021    0]\n",
      " [ 970    0]]\n"
     ]
    }
   ],
   "source": [
    "model_lr.set_params(**grid_model.best_params_)\n",
    "test_model(\"LR with GridSearch\",model_lr,X_train,X_test,y_train,y_test)"
   ],
   "metadata": {
    "ExecuteTime": {
     "start_time": "2023-06-12T11:55:03.398365Z",
     "end_time": "2023-06-12T11:55:03.436095Z"
    },
    "id": "IKBgRUP8-fPW",
    "outputId": "fe93c42e-00fb-4a25-fd8a-e41fab2a718e",
    "colab": {
     "base_uri": "https://localhost:8080/"
    }
   }
  },
  {
   "cell_type": "markdown",
   "source": [
    "## 2.4\n",
    "Introdurre una discretizzazione degli attributi claim_est_payout e vehicle_price, e utilizzare la funzione MaxAbsScaler per scalare i valori del dataset tra 0 e 1 e confrontare se l’accuratezza ottenuta con il Decision Tree Classifier e con la Logistic Regression migliora"
   ],
   "metadata": {
    "collapsed": false,
    "id": "NsAtxUkB-fPW"
   }
  },
  {
   "cell_type": "code",
   "execution_count": 44,
   "outputs": [
    {
     "data": {
      "text/plain": "       claim_est_payout  vehicle_price\n0               15718.0         3571.0\n1                3283.0        13429.0\n2               13528.0         9489.0\n3               13292.0         3768.0\n4                8559.0        16020.0\n...                 ...            ...\n17968            9443.0        14399.0\n17969            7002.0         1583.0\n17970            1388.0        17870.0\n17971           17320.0        11367.0\n17972           10601.0         7902.0\n\n[17973 rows x 2 columns]",
      "text/html": "<div>\n<style scoped>\n    .dataframe tbody tr th:only-of-type {\n        vertical-align: middle;\n    }\n\n    .dataframe tbody tr th {\n        vertical-align: top;\n    }\n\n    .dataframe thead th {\n        text-align: right;\n    }\n</style>\n<table border=\"1\" class=\"dataframe\">\n  <thead>\n    <tr style=\"text-align: right;\">\n      <th></th>\n      <th>claim_est_payout</th>\n      <th>vehicle_price</th>\n    </tr>\n  </thead>\n  <tbody>\n    <tr>\n      <th>0</th>\n      <td>15718.0</td>\n      <td>3571.0</td>\n    </tr>\n    <tr>\n      <th>1</th>\n      <td>3283.0</td>\n      <td>13429.0</td>\n    </tr>\n    <tr>\n      <th>2</th>\n      <td>13528.0</td>\n      <td>9489.0</td>\n    </tr>\n    <tr>\n      <th>3</th>\n      <td>13292.0</td>\n      <td>3768.0</td>\n    </tr>\n    <tr>\n      <th>4</th>\n      <td>8559.0</td>\n      <td>16020.0</td>\n    </tr>\n    <tr>\n      <th>...</th>\n      <td>...</td>\n      <td>...</td>\n    </tr>\n    <tr>\n      <th>17968</th>\n      <td>9443.0</td>\n      <td>14399.0</td>\n    </tr>\n    <tr>\n      <th>17969</th>\n      <td>7002.0</td>\n      <td>1583.0</td>\n    </tr>\n    <tr>\n      <th>17970</th>\n      <td>1388.0</td>\n      <td>17870.0</td>\n    </tr>\n    <tr>\n      <th>17971</th>\n      <td>17320.0</td>\n      <td>11367.0</td>\n    </tr>\n    <tr>\n      <th>17972</th>\n      <td>10601.0</td>\n      <td>7902.0</td>\n    </tr>\n  </tbody>\n</table>\n<p>17973 rows × 2 columns</p>\n</div>"
     },
     "execution_count": 44,
     "metadata": {},
     "output_type": "execute_result"
    }
   ],
   "source": [
    "new_df.loc[:,('claim_est_payout','vehicle_price')]"
   ],
   "metadata": {
    "ExecuteTime": {
     "start_time": "2023-06-12T11:58:57.386105Z",
     "end_time": "2023-06-12T11:58:57.394763Z"
    },
    "id": "of4_qLYq-fPW",
    "outputId": "43c2fa68-4030-4963-8417-7c6ee9fb209a",
    "colab": {
     "base_uri": "https://localhost:8080/",
     "height": 423
    }
   }
  },
  {
   "cell_type": "code",
   "execution_count": 45,
   "outputs": [
    {
     "data": {
      "text/plain": "       age_of_driver  gender  annual_income  address_change_ind  \\\n0           0.325581     1.0       0.502417                 1.0   \n1           0.034884     0.0       0.021197                 1.0   \n2           0.360465     0.0       0.557084                 1.0   \n3           0.465116     0.0       0.720714                 0.0   \n4           0.232558     1.0       0.336556                 0.0   \n...              ...     ...            ...                 ...   \n17968       0.593023     1.0       0.882484                 0.0   \n17969       0.197674     0.0       0.287096                 1.0   \n17970       0.104651     0.0       0.122350                 1.0   \n17971       0.395349     0.0       0.616214                 0.0   \n17972       0.500000     0.0       0.777612                 0.0   \n\n       living_status  accident_site  past_num_of_claims  channel  \\\n0                1.0            0.5            0.166667      0.0   \n1                1.0            0.0            0.166667      0.5   \n2                0.0            0.5            0.000000      0.0   \n3                0.0            0.5            0.500000      0.0   \n4                1.0            0.0            0.000000      0.0   \n...              ...            ...                 ...      ...   \n17968            0.0            0.5            0.000000      0.0   \n17969            0.0            0.5            0.166667      1.0   \n17970            1.0            0.5            0.333333      0.5   \n17971            0.0            0.0            0.166667      0.0   \n17972            1.0            1.0            0.166667      1.0   \n\n       claim_est_payout  age_of_vehicle  vehicle_category  vehicle_price  \\\n0              0.896552          0.5625               0.0       0.172414   \n1              0.172414          0.2500               0.5       0.758621   \n2              0.758621          0.1875               0.0       0.517241   \n3              0.758621          0.2500               1.0       0.206897   \n4              0.482759          0.4375               1.0       0.896552   \n...                 ...             ...               ...            ...   \n17968          0.517241          0.3750               1.0       0.827586   \n17969          0.379310          0.1875               1.0       0.068966   \n17970          0.068966          0.3125               1.0       1.000000   \n17971          0.965517          0.1875               0.0       0.620690   \n17972          0.586207          0.3125               1.0       0.448276   \n\n       vehicle_weight  \n0            0.324950  \n1            0.734698  \n2            0.544458  \n3            0.892110  \n4            0.662141  \n...               ...  \n17968        0.351769  \n17969        0.793679  \n17970        0.941854  \n17971        0.968618  \n17972        0.291120  \n\n[17973 rows x 13 columns]",
      "text/html": "<div>\n<style scoped>\n    .dataframe tbody tr th:only-of-type {\n        vertical-align: middle;\n    }\n\n    .dataframe tbody tr th {\n        vertical-align: top;\n    }\n\n    .dataframe thead th {\n        text-align: right;\n    }\n</style>\n<table border=\"1\" class=\"dataframe\">\n  <thead>\n    <tr style=\"text-align: right;\">\n      <th></th>\n      <th>age_of_driver</th>\n      <th>gender</th>\n      <th>annual_income</th>\n      <th>address_change_ind</th>\n      <th>living_status</th>\n      <th>accident_site</th>\n      <th>past_num_of_claims</th>\n      <th>channel</th>\n      <th>claim_est_payout</th>\n      <th>age_of_vehicle</th>\n      <th>vehicle_category</th>\n      <th>vehicle_price</th>\n      <th>vehicle_weight</th>\n    </tr>\n  </thead>\n  <tbody>\n    <tr>\n      <th>0</th>\n      <td>0.325581</td>\n      <td>1.0</td>\n      <td>0.502417</td>\n      <td>1.0</td>\n      <td>1.0</td>\n      <td>0.5</td>\n      <td>0.166667</td>\n      <td>0.0</td>\n      <td>0.896552</td>\n      <td>0.5625</td>\n      <td>0.0</td>\n      <td>0.172414</td>\n      <td>0.324950</td>\n    </tr>\n    <tr>\n      <th>1</th>\n      <td>0.034884</td>\n      <td>0.0</td>\n      <td>0.021197</td>\n      <td>1.0</td>\n      <td>1.0</td>\n      <td>0.0</td>\n      <td>0.166667</td>\n      <td>0.5</td>\n      <td>0.172414</td>\n      <td>0.2500</td>\n      <td>0.5</td>\n      <td>0.758621</td>\n      <td>0.734698</td>\n    </tr>\n    <tr>\n      <th>2</th>\n      <td>0.360465</td>\n      <td>0.0</td>\n      <td>0.557084</td>\n      <td>1.0</td>\n      <td>0.0</td>\n      <td>0.5</td>\n      <td>0.000000</td>\n      <td>0.0</td>\n      <td>0.758621</td>\n      <td>0.1875</td>\n      <td>0.0</td>\n      <td>0.517241</td>\n      <td>0.544458</td>\n    </tr>\n    <tr>\n      <th>3</th>\n      <td>0.465116</td>\n      <td>0.0</td>\n      <td>0.720714</td>\n      <td>0.0</td>\n      <td>0.0</td>\n      <td>0.5</td>\n      <td>0.500000</td>\n      <td>0.0</td>\n      <td>0.758621</td>\n      <td>0.2500</td>\n      <td>1.0</td>\n      <td>0.206897</td>\n      <td>0.892110</td>\n    </tr>\n    <tr>\n      <th>4</th>\n      <td>0.232558</td>\n      <td>1.0</td>\n      <td>0.336556</td>\n      <td>0.0</td>\n      <td>1.0</td>\n      <td>0.0</td>\n      <td>0.000000</td>\n      <td>0.0</td>\n      <td>0.482759</td>\n      <td>0.4375</td>\n      <td>1.0</td>\n      <td>0.896552</td>\n      <td>0.662141</td>\n    </tr>\n    <tr>\n      <th>...</th>\n      <td>...</td>\n      <td>...</td>\n      <td>...</td>\n      <td>...</td>\n      <td>...</td>\n      <td>...</td>\n      <td>...</td>\n      <td>...</td>\n      <td>...</td>\n      <td>...</td>\n      <td>...</td>\n      <td>...</td>\n      <td>...</td>\n    </tr>\n    <tr>\n      <th>17968</th>\n      <td>0.593023</td>\n      <td>1.0</td>\n      <td>0.882484</td>\n      <td>0.0</td>\n      <td>0.0</td>\n      <td>0.5</td>\n      <td>0.000000</td>\n      <td>0.0</td>\n      <td>0.517241</td>\n      <td>0.3750</td>\n      <td>1.0</td>\n      <td>0.827586</td>\n      <td>0.351769</td>\n    </tr>\n    <tr>\n      <th>17969</th>\n      <td>0.197674</td>\n      <td>0.0</td>\n      <td>0.287096</td>\n      <td>1.0</td>\n      <td>0.0</td>\n      <td>0.5</td>\n      <td>0.166667</td>\n      <td>1.0</td>\n      <td>0.379310</td>\n      <td>0.1875</td>\n      <td>1.0</td>\n      <td>0.068966</td>\n      <td>0.793679</td>\n    </tr>\n    <tr>\n      <th>17970</th>\n      <td>0.104651</td>\n      <td>0.0</td>\n      <td>0.122350</td>\n      <td>1.0</td>\n      <td>1.0</td>\n      <td>0.5</td>\n      <td>0.333333</td>\n      <td>0.5</td>\n      <td>0.068966</td>\n      <td>0.3125</td>\n      <td>1.0</td>\n      <td>1.000000</td>\n      <td>0.941854</td>\n    </tr>\n    <tr>\n      <th>17971</th>\n      <td>0.395349</td>\n      <td>0.0</td>\n      <td>0.616214</td>\n      <td>0.0</td>\n      <td>0.0</td>\n      <td>0.0</td>\n      <td>0.166667</td>\n      <td>0.0</td>\n      <td>0.965517</td>\n      <td>0.1875</td>\n      <td>0.0</td>\n      <td>0.620690</td>\n      <td>0.968618</td>\n    </tr>\n    <tr>\n      <th>17972</th>\n      <td>0.500000</td>\n      <td>0.0</td>\n      <td>0.777612</td>\n      <td>0.0</td>\n      <td>1.0</td>\n      <td>1.0</td>\n      <td>0.166667</td>\n      <td>1.0</td>\n      <td>0.586207</td>\n      <td>0.3125</td>\n      <td>1.0</td>\n      <td>0.448276</td>\n      <td>0.291120</td>\n    </tr>\n  </tbody>\n</table>\n<p>17973 rows × 13 columns</p>\n</div>"
     },
     "execution_count": 45,
     "metadata": {},
     "output_type": "execute_result"
    }
   ],
   "source": [
    "from sklearn.preprocessing import KBinsDiscretizer\n",
    "from sklearn.preprocessing import MaxAbsScaler\n",
    "\n",
    "scaler = MaxAbsScaler()\n",
    "kbin = KBinsDiscretizer(n_bins=30, strategy=\"uniform\", encode=\"ordinal\")\n",
    "kbin.fit(pd.DataFrame(new_df.loc[:,('claim_est_payout','vehicle_price')]))\n",
    "\n",
    "new_df.loc[:,('claim_est_payout','vehicle_price')] = kbin.transform(new_df.loc[:,('claim_est_payout','vehicle_price')])\n",
    "\n",
    "\n",
    "df_trasform = scaler.fit_transform(new_df)\n",
    "\n",
    "df_trasform = pd.DataFrame(df_trasform,columns=scaler.feature_names_in_)\n",
    "df_trasform"
   ],
   "metadata": {
    "ExecuteTime": {
     "start_time": "2023-06-12T11:59:58.949463Z",
     "end_time": "2023-06-12T11:59:58.974837Z"
    },
    "id": "aTsdRv6q-fPW",
    "outputId": "b1169ba7-2cbf-4959-8555-955080762288",
    "colab": {
     "base_uri": "https://localhost:8080/",
     "height": 487
    }
   }
  },
  {
   "cell_type": "code",
   "execution_count": 46,
   "outputs": [
    {
     "name": "stdout",
     "output_type": "stream",
     "text": [
      " ===== DT =====\n",
      "Accuracy on train 1.0\n",
      "Accuracy on test 0.7346019028542814\n",
      "Confusion matrix on test\n",
      "[[4191  830]\n",
      " [ 760  210]]\n",
      " ===== LR =====\n",
      "Accuracy on train 0.8458521115005843\n",
      "Accuracy on test 0.8372558838257386\n",
      "Confusion matrix on test\n",
      "[[5008   13]\n",
      " [ 962    8]]\n"
     ]
    }
   ],
   "source": [
    "X_train, X_test, y_train, y_test = train_test_split(df_trasform, y,test_size=(1/3),\n",
    "                                                    random_state=0)\n",
    "\n",
    "classifiers = [DecisionTreeClassifier(), LogisticRegression()]\n",
    "names = [\"DT\",\"LR\"]\n",
    "\n",
    "for model,name in zip(classifiers,names):\n",
    "    test_model(name,model, X_train, X_test, y_train, y_test)"
   ],
   "metadata": {
    "ExecuteTime": {
     "start_time": "2023-06-12T12:00:10.497040Z",
     "end_time": "2023-06-12T12:00:10.634416Z"
    },
    "id": "oZ2-UvMt-fPd",
    "outputId": "769ccb8d-1bc3-44e0-82b5-6f93df6dfa09",
    "colab": {
     "base_uri": "https://localhost:8080/"
    }
   }
  },
  {
   "cell_type": "markdown",
   "source": [
    "# 2.5\n",
    "Creare una pipeline in cui si aggiungano al dataset normalizzato due colonne che\n",
    "rappresentano i valori degli attributi claim_est_payout e vehicle_price discretizzati in 10\n",
    "intervalli. Si valuti se l’accuratezza migliora utilizzando LogisticRegression come modello"
   ],
   "metadata": {
    "id": "DJD0i8FwEPfB"
   }
  },
  {
   "cell_type": "code",
   "source": [
    "from sklearn.preprocessing import FunctionTransformer\n",
    "from sklearn.pipeline import Pipeline,FeatureUnion\n",
    "from sklearn.compose import ColumnTransformer"
   ],
   "metadata": {
    "id": "DljRM3uOFDNw",
    "ExecuteTime": {
     "start_time": "2023-06-12T12:05:45.107922Z",
     "end_time": "2023-06-12T12:05:45.122373Z"
    }
   },
   "execution_count": 47,
   "outputs": []
  },
  {
   "cell_type": "code",
   "source": [
    "df_trasform"
   ],
   "metadata": {
    "id": "TfArL-DEJW8Y",
    "outputId": "138e3c37-456d-4995-f5a6-f2adc7c678e7",
    "colab": {
     "base_uri": "https://localhost:8080/",
     "height": 487
    },
    "ExecuteTime": {
     "start_time": "2023-06-12T12:05:48.680415Z",
     "end_time": "2023-06-12T12:05:48.683962Z"
    }
   },
   "execution_count": 48,
   "outputs": [
    {
     "data": {
      "text/plain": "       age_of_driver  gender  annual_income  address_change_ind  \\\n0           0.325581     1.0       0.502417                 1.0   \n1           0.034884     0.0       0.021197                 1.0   \n2           0.360465     0.0       0.557084                 1.0   \n3           0.465116     0.0       0.720714                 0.0   \n4           0.232558     1.0       0.336556                 0.0   \n...              ...     ...            ...                 ...   \n17968       0.593023     1.0       0.882484                 0.0   \n17969       0.197674     0.0       0.287096                 1.0   \n17970       0.104651     0.0       0.122350                 1.0   \n17971       0.395349     0.0       0.616214                 0.0   \n17972       0.500000     0.0       0.777612                 0.0   \n\n       living_status  accident_site  past_num_of_claims  channel  \\\n0                1.0            0.5            0.166667      0.0   \n1                1.0            0.0            0.166667      0.5   \n2                0.0            0.5            0.000000      0.0   \n3                0.0            0.5            0.500000      0.0   \n4                1.0            0.0            0.000000      0.0   \n...              ...            ...                 ...      ...   \n17968            0.0            0.5            0.000000      0.0   \n17969            0.0            0.5            0.166667      1.0   \n17970            1.0            0.5            0.333333      0.5   \n17971            0.0            0.0            0.166667      0.0   \n17972            1.0            1.0            0.166667      1.0   \n\n       claim_est_payout  age_of_vehicle  vehicle_category  vehicle_price  \\\n0              0.896552          0.5625               0.0       0.172414   \n1              0.172414          0.2500               0.5       0.758621   \n2              0.758621          0.1875               0.0       0.517241   \n3              0.758621          0.2500               1.0       0.206897   \n4              0.482759          0.4375               1.0       0.896552   \n...                 ...             ...               ...            ...   \n17968          0.517241          0.3750               1.0       0.827586   \n17969          0.379310          0.1875               1.0       0.068966   \n17970          0.068966          0.3125               1.0       1.000000   \n17971          0.965517          0.1875               0.0       0.620690   \n17972          0.586207          0.3125               1.0       0.448276   \n\n       vehicle_weight  \n0            0.324950  \n1            0.734698  \n2            0.544458  \n3            0.892110  \n4            0.662141  \n...               ...  \n17968        0.351769  \n17969        0.793679  \n17970        0.941854  \n17971        0.968618  \n17972        0.291120  \n\n[17973 rows x 13 columns]",
      "text/html": "<div>\n<style scoped>\n    .dataframe tbody tr th:only-of-type {\n        vertical-align: middle;\n    }\n\n    .dataframe tbody tr th {\n        vertical-align: top;\n    }\n\n    .dataframe thead th {\n        text-align: right;\n    }\n</style>\n<table border=\"1\" class=\"dataframe\">\n  <thead>\n    <tr style=\"text-align: right;\">\n      <th></th>\n      <th>age_of_driver</th>\n      <th>gender</th>\n      <th>annual_income</th>\n      <th>address_change_ind</th>\n      <th>living_status</th>\n      <th>accident_site</th>\n      <th>past_num_of_claims</th>\n      <th>channel</th>\n      <th>claim_est_payout</th>\n      <th>age_of_vehicle</th>\n      <th>vehicle_category</th>\n      <th>vehicle_price</th>\n      <th>vehicle_weight</th>\n    </tr>\n  </thead>\n  <tbody>\n    <tr>\n      <th>0</th>\n      <td>0.325581</td>\n      <td>1.0</td>\n      <td>0.502417</td>\n      <td>1.0</td>\n      <td>1.0</td>\n      <td>0.5</td>\n      <td>0.166667</td>\n      <td>0.0</td>\n      <td>0.896552</td>\n      <td>0.5625</td>\n      <td>0.0</td>\n      <td>0.172414</td>\n      <td>0.324950</td>\n    </tr>\n    <tr>\n      <th>1</th>\n      <td>0.034884</td>\n      <td>0.0</td>\n      <td>0.021197</td>\n      <td>1.0</td>\n      <td>1.0</td>\n      <td>0.0</td>\n      <td>0.166667</td>\n      <td>0.5</td>\n      <td>0.172414</td>\n      <td>0.2500</td>\n      <td>0.5</td>\n      <td>0.758621</td>\n      <td>0.734698</td>\n    </tr>\n    <tr>\n      <th>2</th>\n      <td>0.360465</td>\n      <td>0.0</td>\n      <td>0.557084</td>\n      <td>1.0</td>\n      <td>0.0</td>\n      <td>0.5</td>\n      <td>0.000000</td>\n      <td>0.0</td>\n      <td>0.758621</td>\n      <td>0.1875</td>\n      <td>0.0</td>\n      <td>0.517241</td>\n      <td>0.544458</td>\n    </tr>\n    <tr>\n      <th>3</th>\n      <td>0.465116</td>\n      <td>0.0</td>\n      <td>0.720714</td>\n      <td>0.0</td>\n      <td>0.0</td>\n      <td>0.5</td>\n      <td>0.500000</td>\n      <td>0.0</td>\n      <td>0.758621</td>\n      <td>0.2500</td>\n      <td>1.0</td>\n      <td>0.206897</td>\n      <td>0.892110</td>\n    </tr>\n    <tr>\n      <th>4</th>\n      <td>0.232558</td>\n      <td>1.0</td>\n      <td>0.336556</td>\n      <td>0.0</td>\n      <td>1.0</td>\n      <td>0.0</td>\n      <td>0.000000</td>\n      <td>0.0</td>\n      <td>0.482759</td>\n      <td>0.4375</td>\n      <td>1.0</td>\n      <td>0.896552</td>\n      <td>0.662141</td>\n    </tr>\n    <tr>\n      <th>...</th>\n      <td>...</td>\n      <td>...</td>\n      <td>...</td>\n      <td>...</td>\n      <td>...</td>\n      <td>...</td>\n      <td>...</td>\n      <td>...</td>\n      <td>...</td>\n      <td>...</td>\n      <td>...</td>\n      <td>...</td>\n      <td>...</td>\n    </tr>\n    <tr>\n      <th>17968</th>\n      <td>0.593023</td>\n      <td>1.0</td>\n      <td>0.882484</td>\n      <td>0.0</td>\n      <td>0.0</td>\n      <td>0.5</td>\n      <td>0.000000</td>\n      <td>0.0</td>\n      <td>0.517241</td>\n      <td>0.3750</td>\n      <td>1.0</td>\n      <td>0.827586</td>\n      <td>0.351769</td>\n    </tr>\n    <tr>\n      <th>17969</th>\n      <td>0.197674</td>\n      <td>0.0</td>\n      <td>0.287096</td>\n      <td>1.0</td>\n      <td>0.0</td>\n      <td>0.5</td>\n      <td>0.166667</td>\n      <td>1.0</td>\n      <td>0.379310</td>\n      <td>0.1875</td>\n      <td>1.0</td>\n      <td>0.068966</td>\n      <td>0.793679</td>\n    </tr>\n    <tr>\n      <th>17970</th>\n      <td>0.104651</td>\n      <td>0.0</td>\n      <td>0.122350</td>\n      <td>1.0</td>\n      <td>1.0</td>\n      <td>0.5</td>\n      <td>0.333333</td>\n      <td>0.5</td>\n      <td>0.068966</td>\n      <td>0.3125</td>\n      <td>1.0</td>\n      <td>1.000000</td>\n      <td>0.941854</td>\n    </tr>\n    <tr>\n      <th>17971</th>\n      <td>0.395349</td>\n      <td>0.0</td>\n      <td>0.616214</td>\n      <td>0.0</td>\n      <td>0.0</td>\n      <td>0.0</td>\n      <td>0.166667</td>\n      <td>0.0</td>\n      <td>0.965517</td>\n      <td>0.1875</td>\n      <td>0.0</td>\n      <td>0.620690</td>\n      <td>0.968618</td>\n    </tr>\n    <tr>\n      <th>17972</th>\n      <td>0.500000</td>\n      <td>0.0</td>\n      <td>0.777612</td>\n      <td>0.0</td>\n      <td>1.0</td>\n      <td>1.0</td>\n      <td>0.166667</td>\n      <td>1.0</td>\n      <td>0.586207</td>\n      <td>0.3125</td>\n      <td>1.0</td>\n      <td>0.448276</td>\n      <td>0.291120</td>\n    </tr>\n  </tbody>\n</table>\n<p>17973 rows × 13 columns</p>\n</div>"
     },
     "execution_count": 48,
     "metadata": {},
     "output_type": "execute_result"
    }
   ]
  },
  {
   "cell_type": "code",
   "source": [
    "kbin = KBinsDiscretizer(n_bins=10, strategy=\"uniform\", encode=\"ordinal\")"
   ],
   "metadata": {
    "id": "npscdwQoFqzp",
    "ExecuteTime": {
     "start_time": "2023-06-12T12:05:59.451308Z",
     "end_time": "2023-06-12T12:05:59.463634Z"
    }
   },
   "execution_count": 49,
   "outputs": []
  },
  {
   "cell_type": "code",
   "source": [
    "def identity(X):\n",
    "  return X\n",
    "\n",
    "Identity = FunctionTransformer(identity, validate=True)\n",
    "\n",
    "discetizier = ColumnTransformer([(\"bin_value\",kbin,[\"claim_est_payout\", \"vehicle_price\"])],remainder=\"passthrough\")\n",
    "\n",
    "union = FeatureUnion([(\"discretizier\",discetizier),(\"passthrough\",Identity)])\n",
    " \n",
    "my_pipeline = Pipeline(steps=[(\"union\",union),\n",
    "                              (\"model\",LogisticRegression())])\n",
    "\n",
    "test_model(\"Scaled Pipeline\",my_pipeline, X_train, X_test, y_train, y_test)"
   ],
   "metadata": {
    "id": "Qfp7Tc2tGWGn",
    "outputId": "2dbf1caf-9b1f-4795-a6c4-5e65c2556cb8",
    "colab": {
     "base_uri": "https://localhost:8080/"
    },
    "ExecuteTime": {
     "start_time": "2023-06-12T12:06:36.404288Z",
     "end_time": "2023-06-12T12:06:36.521061Z"
    }
   },
   "execution_count": 50,
   "outputs": [
    {
     "name": "stdout",
     "output_type": "stream",
     "text": [
      " ===== Scaled Pipeline =====\n",
      "Accuracy on train 0.8457686529794692\n",
      "Accuracy on test 0.8372558838257386\n",
      "Confusion matrix on test\n",
      "[[5008   13]\n",
      " [ 962    8]]\n"
     ]
    }
   ]
  },
  {
   "cell_type": "markdown",
   "source": [
    "# 2.6\n",
    "Aggiungere alla pipeline la funzione  [SelectKBest](https://scikit-learn.org/stable/modules/generated/sklearn.feature_selection.SelectKBest.html?highlight=selectkbest#sklearn.feature_selection.SelectKBest) . Utilizzare la funzione di gridSearchCV per\n",
    "selezionare il K migliore e anche gli intervalli migliori in cui discretizzare i valori di\n",
    "claim_est_payout e vehicle_price."
   ],
   "metadata": {
    "id": "eKQbF0tFKyDX"
   }
  },
  {
   "cell_type": "code",
   "source": [
    "from sklearn.feature_selection import SelectKBest\n",
    "\n",
    "kbest = SelectKBest()\n",
    "\n",
    "my_pipeline = Pipeline(steps=[(\"union\",union),\n",
    "                              (\"kbest\",kbest),\n",
    "                              (\"model\",LogisticRegression())])\n",
    "\n",
    "params={'kbest__k': [10,5,3,\"all\"],\n",
    "        'union__discretizier__bin_value__n_bins': [10, 20, 30, 5 ,40]}\n",
    "gs = GridSearchCV(my_pipeline, params, n_jobs=-1)\n",
    "\n",
    "test_model(\"Scaled Pipeline with GridSearch\",gs, X_train, X_test, y_train, y_test)"
   ],
   "metadata": {
    "id": "uVlj5WaSLKGg",
    "outputId": "43ac7808-1dbb-4603-c8bf-1043375b09d4",
    "colab": {
     "base_uri": "https://localhost:8080/"
    },
    "ExecuteTime": {
     "start_time": "2023-06-12T12:07:18.774208Z",
     "end_time": "2023-06-12T12:07:22.428143Z"
    }
   },
   "execution_count": 51,
   "outputs": [
    {
     "name": "stderr",
     "output_type": "stream",
     "text": [
      "/opt/anaconda3/lib/python3.9/site-packages/sklearn/linear_model/_logistic.py:814: ConvergenceWarning: lbfgs failed to converge (status=1):\n",
      "STOP: TOTAL NO. of ITERATIONS REACHED LIMIT.\n",
      "\n",
      "Increase the number of iterations (max_iter) or scale the data as shown in:\n",
      "    https://scikit-learn.org/stable/modules/preprocessing.html\n",
      "Please also refer to the documentation for alternative solver options:\n",
      "    https://scikit-learn.org/stable/modules/linear_model.html#logistic-regression\n",
      "  n_iter_i = _check_optimize_result(\n",
      "/opt/anaconda3/lib/python3.9/site-packages/sklearn/linear_model/_logistic.py:814: ConvergenceWarning: lbfgs failed to converge (status=1):\n",
      "STOP: TOTAL NO. of ITERATIONS REACHED LIMIT.\n",
      "\n",
      "Increase the number of iterations (max_iter) or scale the data as shown in:\n",
      "    https://scikit-learn.org/stable/modules/preprocessing.html\n",
      "Please also refer to the documentation for alternative solver options:\n",
      "    https://scikit-learn.org/stable/modules/linear_model.html#logistic-regression\n",
      "  n_iter_i = _check_optimize_result(\n",
      "/opt/anaconda3/lib/python3.9/site-packages/sklearn/linear_model/_logistic.py:814: ConvergenceWarning: lbfgs failed to converge (status=1):\n",
      "STOP: TOTAL NO. of ITERATIONS REACHED LIMIT.\n",
      "\n",
      "Increase the number of iterations (max_iter) or scale the data as shown in:\n",
      "    https://scikit-learn.org/stable/modules/preprocessing.html\n",
      "Please also refer to the documentation for alternative solver options:\n",
      "    https://scikit-learn.org/stable/modules/linear_model.html#logistic-regression\n",
      "  n_iter_i = _check_optimize_result(\n",
      "/opt/anaconda3/lib/python3.9/site-packages/sklearn/linear_model/_logistic.py:814: ConvergenceWarning: lbfgs failed to converge (status=1):\n",
      "STOP: TOTAL NO. of ITERATIONS REACHED LIMIT.\n",
      "\n",
      "Increase the number of iterations (max_iter) or scale the data as shown in:\n",
      "    https://scikit-learn.org/stable/modules/preprocessing.html\n",
      "Please also refer to the documentation for alternative solver options:\n",
      "    https://scikit-learn.org/stable/modules/linear_model.html#logistic-regression\n",
      "  n_iter_i = _check_optimize_result(\n",
      "/opt/anaconda3/lib/python3.9/site-packages/sklearn/linear_model/_logistic.py:814: ConvergenceWarning: lbfgs failed to converge (status=1):\n",
      "STOP: TOTAL NO. of ITERATIONS REACHED LIMIT.\n",
      "\n",
      "Increase the number of iterations (max_iter) or scale the data as shown in:\n",
      "    https://scikit-learn.org/stable/modules/preprocessing.html\n",
      "Please also refer to the documentation for alternative solver options:\n",
      "    https://scikit-learn.org/stable/modules/linear_model.html#logistic-regression\n",
      "  n_iter_i = _check_optimize_result(\n",
      "/opt/anaconda3/lib/python3.9/site-packages/sklearn/linear_model/_logistic.py:814: ConvergenceWarning: lbfgs failed to converge (status=1):\n",
      "STOP: TOTAL NO. of ITERATIONS REACHED LIMIT.\n",
      "\n",
      "Increase the number of iterations (max_iter) or scale the data as shown in:\n",
      "    https://scikit-learn.org/stable/modules/preprocessing.html\n",
      "Please also refer to the documentation for alternative solver options:\n",
      "    https://scikit-learn.org/stable/modules/linear_model.html#logistic-regression\n",
      "  n_iter_i = _check_optimize_result(\n",
      "/opt/anaconda3/lib/python3.9/site-packages/sklearn/linear_model/_logistic.py:814: ConvergenceWarning: lbfgs failed to converge (status=1):\n",
      "STOP: TOTAL NO. of ITERATIONS REACHED LIMIT.\n",
      "\n",
      "Increase the number of iterations (max_iter) or scale the data as shown in:\n",
      "    https://scikit-learn.org/stable/modules/preprocessing.html\n",
      "Please also refer to the documentation for alternative solver options:\n",
      "    https://scikit-learn.org/stable/modules/linear_model.html#logistic-regression\n",
      "  n_iter_i = _check_optimize_result(\n",
      "/opt/anaconda3/lib/python3.9/site-packages/sklearn/linear_model/_logistic.py:814: ConvergenceWarning: lbfgs failed to converge (status=1):\n",
      "STOP: TOTAL NO. of ITERATIONS REACHED LIMIT.\n",
      "\n",
      "Increase the number of iterations (max_iter) or scale the data as shown in:\n",
      "    https://scikit-learn.org/stable/modules/preprocessing.html\n",
      "Please also refer to the documentation for alternative solver options:\n",
      "    https://scikit-learn.org/stable/modules/linear_model.html#logistic-regression\n",
      "  n_iter_i = _check_optimize_result(\n",
      "/opt/anaconda3/lib/python3.9/site-packages/sklearn/linear_model/_logistic.py:814: ConvergenceWarning: lbfgs failed to converge (status=1):\n",
      "STOP: TOTAL NO. of ITERATIONS REACHED LIMIT.\n",
      "\n",
      "Increase the number of iterations (max_iter) or scale the data as shown in:\n",
      "    https://scikit-learn.org/stable/modules/preprocessing.html\n",
      "Please also refer to the documentation for alternative solver options:\n",
      "    https://scikit-learn.org/stable/modules/linear_model.html#logistic-regression\n",
      "  n_iter_i = _check_optimize_result(\n",
      "/opt/anaconda3/lib/python3.9/site-packages/sklearn/linear_model/_logistic.py:814: ConvergenceWarning: lbfgs failed to converge (status=1):\n",
      "STOP: TOTAL NO. of ITERATIONS REACHED LIMIT.\n",
      "\n",
      "Increase the number of iterations (max_iter) or scale the data as shown in:\n",
      "    https://scikit-learn.org/stable/modules/preprocessing.html\n",
      "Please also refer to the documentation for alternative solver options:\n",
      "    https://scikit-learn.org/stable/modules/linear_model.html#logistic-regression\n",
      "  n_iter_i = _check_optimize_result(\n",
      "/opt/anaconda3/lib/python3.9/site-packages/sklearn/linear_model/_logistic.py:814: ConvergenceWarning: lbfgs failed to converge (status=1):\n",
      "STOP: TOTAL NO. of ITERATIONS REACHED LIMIT.\n",
      "\n",
      "Increase the number of iterations (max_iter) or scale the data as shown in:\n",
      "    https://scikit-learn.org/stable/modules/preprocessing.html\n",
      "Please also refer to the documentation for alternative solver options:\n",
      "    https://scikit-learn.org/stable/modules/linear_model.html#logistic-regression\n",
      "  n_iter_i = _check_optimize_result(\n",
      "/opt/anaconda3/lib/python3.9/site-packages/sklearn/linear_model/_logistic.py:814: ConvergenceWarning: lbfgs failed to converge (status=1):\n",
      "STOP: TOTAL NO. of ITERATIONS REACHED LIMIT.\n",
      "\n",
      "Increase the number of iterations (max_iter) or scale the data as shown in:\n",
      "    https://scikit-learn.org/stable/modules/preprocessing.html\n",
      "Please also refer to the documentation for alternative solver options:\n",
      "    https://scikit-learn.org/stable/modules/linear_model.html#logistic-regression\n",
      "  n_iter_i = _check_optimize_result(\n",
      "/opt/anaconda3/lib/python3.9/site-packages/sklearn/linear_model/_logistic.py:814: ConvergenceWarning: lbfgs failed to converge (status=1):\n",
      "STOP: TOTAL NO. of ITERATIONS REACHED LIMIT.\n",
      "\n",
      "Increase the number of iterations (max_iter) or scale the data as shown in:\n",
      "    https://scikit-learn.org/stable/modules/preprocessing.html\n",
      "Please also refer to the documentation for alternative solver options:\n",
      "    https://scikit-learn.org/stable/modules/linear_model.html#logistic-regression\n",
      "  n_iter_i = _check_optimize_result(\n",
      "/opt/anaconda3/lib/python3.9/site-packages/sklearn/linear_model/_logistic.py:814: ConvergenceWarning: lbfgs failed to converge (status=1):\n",
      "STOP: TOTAL NO. of ITERATIONS REACHED LIMIT.\n",
      "\n",
      "Increase the number of iterations (max_iter) or scale the data as shown in:\n",
      "    https://scikit-learn.org/stable/modules/preprocessing.html\n",
      "Please also refer to the documentation for alternative solver options:\n",
      "    https://scikit-learn.org/stable/modules/linear_model.html#logistic-regression\n",
      "  n_iter_i = _check_optimize_result(\n",
      "/opt/anaconda3/lib/python3.9/site-packages/sklearn/linear_model/_logistic.py:814: ConvergenceWarning: lbfgs failed to converge (status=1):\n",
      "STOP: TOTAL NO. of ITERATIONS REACHED LIMIT.\n",
      "\n",
      "Increase the number of iterations (max_iter) or scale the data as shown in:\n",
      "    https://scikit-learn.org/stable/modules/preprocessing.html\n",
      "Please also refer to the documentation for alternative solver options:\n",
      "    https://scikit-learn.org/stable/modules/linear_model.html#logistic-regression\n",
      "  n_iter_i = _check_optimize_result(\n",
      "/opt/anaconda3/lib/python3.9/site-packages/sklearn/linear_model/_logistic.py:814: ConvergenceWarning: lbfgs failed to converge (status=1):\n",
      "STOP: TOTAL NO. of ITERATIONS REACHED LIMIT.\n",
      "\n",
      "Increase the number of iterations (max_iter) or scale the data as shown in:\n",
      "    https://scikit-learn.org/stable/modules/preprocessing.html\n",
      "Please also refer to the documentation for alternative solver options:\n",
      "    https://scikit-learn.org/stable/modules/linear_model.html#logistic-regression\n",
      "  n_iter_i = _check_optimize_result(\n",
      "/opt/anaconda3/lib/python3.9/site-packages/sklearn/linear_model/_logistic.py:814: ConvergenceWarning: lbfgs failed to converge (status=1):\n",
      "STOP: TOTAL NO. of ITERATIONS REACHED LIMIT.\n",
      "\n",
      "Increase the number of iterations (max_iter) or scale the data as shown in:\n",
      "    https://scikit-learn.org/stable/modules/preprocessing.html\n",
      "Please also refer to the documentation for alternative solver options:\n",
      "    https://scikit-learn.org/stable/modules/linear_model.html#logistic-regression\n",
      "  n_iter_i = _check_optimize_result(\n",
      "/opt/anaconda3/lib/python3.9/site-packages/sklearn/linear_model/_logistic.py:814: ConvergenceWarning: lbfgs failed to converge (status=1):\n",
      "STOP: TOTAL NO. of ITERATIONS REACHED LIMIT.\n",
      "\n",
      "Increase the number of iterations (max_iter) or scale the data as shown in:\n",
      "    https://scikit-learn.org/stable/modules/preprocessing.html\n",
      "Please also refer to the documentation for alternative solver options:\n",
      "    https://scikit-learn.org/stable/modules/linear_model.html#logistic-regression\n",
      "  n_iter_i = _check_optimize_result(\n"
     ]
    },
    {
     "name": "stdout",
     "output_type": "stream",
     "text": [
      " ===== Scaled Pipeline with GridSearch =====\n",
      "Accuracy on train 0.8457686529794692\n",
      "Accuracy on test 0.8372558838257386\n",
      "Confusion matrix on test\n",
      "[[5008   13]\n",
      " [ 962    8]]\n"
     ]
    }
   ]
  },
  {
   "cell_type": "code",
   "source": [
    "gs.best_params_"
   ],
   "metadata": {
    "id": "UixQIsRiM-z-",
    "outputId": "b18be2bd-f4ed-46f8-9891-f8421263996d",
    "colab": {
     "base_uri": "https://localhost:8080/"
    },
    "ExecuteTime": {
     "start_time": "2023-06-12T12:07:28.142625Z",
     "end_time": "2023-06-12T12:07:28.149905Z"
    }
   },
   "execution_count": 52,
   "outputs": [
    {
     "data": {
      "text/plain": "{'kbest__k': 'all', 'union__discretizier__bin_value__n_bins': 5}"
     },
     "execution_count": 52,
     "metadata": {},
     "output_type": "execute_result"
    }
   ]
  },
  {
   "cell_type": "markdown",
   "source": [
    "# 2.7\n",
    "Creare una nuova pipeline che applichi un simpleImputer (anziché la rimozione delle righe), al\n",
    "dataset iniziale. Si aggiunga questa pipeline a quella del punto 6 e si valuti la strategia migliore\n",
    "tra mean, median e most frequent (si decida una configurazione qualsiasi per gli altri\n",
    "parametri."
   ],
   "metadata": {
    "id": "aJx2JWwlN7Ar"
   }
  },
  {
   "cell_type": "code",
   "source": [
    "new_df = df.copy()\n",
    "y = new_df[\"fraud\"]\n",
    "new_df.drop(\"fraud\",axis=1,inplace=True)\n",
    "new_df.drop([ \"claim_number\"], inplace=True, axis=1)\n",
    "\n",
    "column_names = new_df.columns.tolist()\n",
    "\n",
    "ordinal = OrdinalEncoder()\n",
    "new_df = ordinal.fit_transform(new_df)\n",
    "new_df = pd.DataFrame(new_df,columns=column_names)\n",
    "\n",
    "X_train, X_test, y_train, y_test = train_test_split(new_df, y,test_size=(1/3),\n",
    "                                                    random_state=0)\n",
    "new_df"
   ],
   "metadata": {
    "id": "-bemc-CqN_Hg",
    "outputId": "a7023cdc-4c47-4061-dd83-9d8106046cfe",
    "colab": {
     "base_uri": "https://localhost:8080/",
     "height": 487
    },
    "ExecuteTime": {
     "start_time": "2023-06-12T12:08:33.199114Z",
     "end_time": "2023-06-12T12:08:33.331473Z"
    }
   },
   "execution_count": 53,
   "outputs": [
    {
     "data": {
      "text/plain": "       age_of_driver  gender  marital_status  annual_income  \\\n0               28.0     1.0             1.0         1352.0   \n1                3.0     0.0             0.0           57.0   \n2               31.0     0.0             0.0         1499.0   \n3               40.0     0.0             1.0         1939.0   \n4               20.0     1.0             1.0          905.0   \n...              ...     ...             ...            ...   \n17993           51.0     1.0             1.0         2376.0   \n17994           17.0     0.0             0.0          772.0   \n17995            9.0     0.0             1.0          329.0   \n17996           34.0     0.0             1.0         1658.0   \n17997           43.0     0.0             0.0         2092.0   \n\n       high_education_ind  address_change_ind  living_status  \\\n0                     1.0                 1.0            1.0   \n1                     0.0                 1.0            1.0   \n2                     0.0                 1.0            0.0   \n3                     1.0                 0.0            0.0   \n4                     1.0                 0.0            1.0   \n...                   ...                 ...            ...   \n17993                 1.0                 0.0            0.0   \n17994                 1.0                 1.0            0.0   \n17995                 0.0                 1.0            1.0   \n17996                 1.0                 0.0            0.0   \n17997                 1.0                 0.0            1.0   \n\n       claim_day_of_week  accident_site  past_num_of_claims  channel  \\\n0                    0.0            1.0                 1.0      0.0   \n1                    4.0            0.0                 1.0      1.0   \n2                    5.0            1.0                 0.0      0.0   \n3                    4.0            1.0                 3.0      0.0   \n4                    5.0            0.0                 0.0      0.0   \n...                  ...            ...                 ...      ...   \n17993                2.0            1.0                 0.0      0.0   \n17994                1.0            1.0                 1.0      2.0   \n17995                2.0            1.0                 2.0      1.0   \n17996                0.0            0.0                 1.0      0.0   \n17997                1.0            2.0                 1.0      2.0   \n\n       claim_est_payout  age_of_vehicle  vehicle_category  vehicle_price  \\\n0               15726.0             9.0               0.0         3575.0   \n1                3285.0             4.0               1.0        13446.0   \n2               13533.0             3.0               0.0         9501.0   \n3               13297.0             4.0               2.0         3773.0   \n4                8563.0             7.0               2.0        16040.0   \n...                 ...             ...               ...            ...   \n17993            9448.0             6.0               2.0        14417.0   \n17994            7006.0             3.0               2.0         1585.0   \n17995            1389.0             5.0               2.0        17895.0   \n17996           17328.0             3.0               0.0        11382.0   \n17997           10606.0             5.0               2.0         7912.0   \n\n       vehicle_color  vehicle_weight  \n0                6.0          5843.0  \n1                6.0         13214.0  \n2                6.0          9791.0  \n3                3.0         16054.0  \n4                2.0         11908.0  \n...              ...             ...  \n17993            0.0          6325.0  \n17994            1.0         14280.0  \n17995            0.0         16949.0  \n17996            6.0         17430.0  \n17997            1.0          5235.0  \n\n[17998 rows x 17 columns]",
      "text/html": "<div>\n<style scoped>\n    .dataframe tbody tr th:only-of-type {\n        vertical-align: middle;\n    }\n\n    .dataframe tbody tr th {\n        vertical-align: top;\n    }\n\n    .dataframe thead th {\n        text-align: right;\n    }\n</style>\n<table border=\"1\" class=\"dataframe\">\n  <thead>\n    <tr style=\"text-align: right;\">\n      <th></th>\n      <th>age_of_driver</th>\n      <th>gender</th>\n      <th>marital_status</th>\n      <th>annual_income</th>\n      <th>high_education_ind</th>\n      <th>address_change_ind</th>\n      <th>living_status</th>\n      <th>claim_day_of_week</th>\n      <th>accident_site</th>\n      <th>past_num_of_claims</th>\n      <th>channel</th>\n      <th>claim_est_payout</th>\n      <th>age_of_vehicle</th>\n      <th>vehicle_category</th>\n      <th>vehicle_price</th>\n      <th>vehicle_color</th>\n      <th>vehicle_weight</th>\n    </tr>\n  </thead>\n  <tbody>\n    <tr>\n      <th>0</th>\n      <td>28.0</td>\n      <td>1.0</td>\n      <td>1.0</td>\n      <td>1352.0</td>\n      <td>1.0</td>\n      <td>1.0</td>\n      <td>1.0</td>\n      <td>0.0</td>\n      <td>1.0</td>\n      <td>1.0</td>\n      <td>0.0</td>\n      <td>15726.0</td>\n      <td>9.0</td>\n      <td>0.0</td>\n      <td>3575.0</td>\n      <td>6.0</td>\n      <td>5843.0</td>\n    </tr>\n    <tr>\n      <th>1</th>\n      <td>3.0</td>\n      <td>0.0</td>\n      <td>0.0</td>\n      <td>57.0</td>\n      <td>0.0</td>\n      <td>1.0</td>\n      <td>1.0</td>\n      <td>4.0</td>\n      <td>0.0</td>\n      <td>1.0</td>\n      <td>1.0</td>\n      <td>3285.0</td>\n      <td>4.0</td>\n      <td>1.0</td>\n      <td>13446.0</td>\n      <td>6.0</td>\n      <td>13214.0</td>\n    </tr>\n    <tr>\n      <th>2</th>\n      <td>31.0</td>\n      <td>0.0</td>\n      <td>0.0</td>\n      <td>1499.0</td>\n      <td>0.0</td>\n      <td>1.0</td>\n      <td>0.0</td>\n      <td>5.0</td>\n      <td>1.0</td>\n      <td>0.0</td>\n      <td>0.0</td>\n      <td>13533.0</td>\n      <td>3.0</td>\n      <td>0.0</td>\n      <td>9501.0</td>\n      <td>6.0</td>\n      <td>9791.0</td>\n    </tr>\n    <tr>\n      <th>3</th>\n      <td>40.0</td>\n      <td>0.0</td>\n      <td>1.0</td>\n      <td>1939.0</td>\n      <td>1.0</td>\n      <td>0.0</td>\n      <td>0.0</td>\n      <td>4.0</td>\n      <td>1.0</td>\n      <td>3.0</td>\n      <td>0.0</td>\n      <td>13297.0</td>\n      <td>4.0</td>\n      <td>2.0</td>\n      <td>3773.0</td>\n      <td>3.0</td>\n      <td>16054.0</td>\n    </tr>\n    <tr>\n      <th>4</th>\n      <td>20.0</td>\n      <td>1.0</td>\n      <td>1.0</td>\n      <td>905.0</td>\n      <td>1.0</td>\n      <td>0.0</td>\n      <td>1.0</td>\n      <td>5.0</td>\n      <td>0.0</td>\n      <td>0.0</td>\n      <td>0.0</td>\n      <td>8563.0</td>\n      <td>7.0</td>\n      <td>2.0</td>\n      <td>16040.0</td>\n      <td>2.0</td>\n      <td>11908.0</td>\n    </tr>\n    <tr>\n      <th>...</th>\n      <td>...</td>\n      <td>...</td>\n      <td>...</td>\n      <td>...</td>\n      <td>...</td>\n      <td>...</td>\n      <td>...</td>\n      <td>...</td>\n      <td>...</td>\n      <td>...</td>\n      <td>...</td>\n      <td>...</td>\n      <td>...</td>\n      <td>...</td>\n      <td>...</td>\n      <td>...</td>\n      <td>...</td>\n    </tr>\n    <tr>\n      <th>17993</th>\n      <td>51.0</td>\n      <td>1.0</td>\n      <td>1.0</td>\n      <td>2376.0</td>\n      <td>1.0</td>\n      <td>0.0</td>\n      <td>0.0</td>\n      <td>2.0</td>\n      <td>1.0</td>\n      <td>0.0</td>\n      <td>0.0</td>\n      <td>9448.0</td>\n      <td>6.0</td>\n      <td>2.0</td>\n      <td>14417.0</td>\n      <td>0.0</td>\n      <td>6325.0</td>\n    </tr>\n    <tr>\n      <th>17994</th>\n      <td>17.0</td>\n      <td>0.0</td>\n      <td>0.0</td>\n      <td>772.0</td>\n      <td>1.0</td>\n      <td>1.0</td>\n      <td>0.0</td>\n      <td>1.0</td>\n      <td>1.0</td>\n      <td>1.0</td>\n      <td>2.0</td>\n      <td>7006.0</td>\n      <td>3.0</td>\n      <td>2.0</td>\n      <td>1585.0</td>\n      <td>1.0</td>\n      <td>14280.0</td>\n    </tr>\n    <tr>\n      <th>17995</th>\n      <td>9.0</td>\n      <td>0.0</td>\n      <td>1.0</td>\n      <td>329.0</td>\n      <td>0.0</td>\n      <td>1.0</td>\n      <td>1.0</td>\n      <td>2.0</td>\n      <td>1.0</td>\n      <td>2.0</td>\n      <td>1.0</td>\n      <td>1389.0</td>\n      <td>5.0</td>\n      <td>2.0</td>\n      <td>17895.0</td>\n      <td>0.0</td>\n      <td>16949.0</td>\n    </tr>\n    <tr>\n      <th>17996</th>\n      <td>34.0</td>\n      <td>0.0</td>\n      <td>1.0</td>\n      <td>1658.0</td>\n      <td>1.0</td>\n      <td>0.0</td>\n      <td>0.0</td>\n      <td>0.0</td>\n      <td>0.0</td>\n      <td>1.0</td>\n      <td>0.0</td>\n      <td>17328.0</td>\n      <td>3.0</td>\n      <td>0.0</td>\n      <td>11382.0</td>\n      <td>6.0</td>\n      <td>17430.0</td>\n    </tr>\n    <tr>\n      <th>17997</th>\n      <td>43.0</td>\n      <td>0.0</td>\n      <td>0.0</td>\n      <td>2092.0</td>\n      <td>1.0</td>\n      <td>0.0</td>\n      <td>1.0</td>\n      <td>1.0</td>\n      <td>2.0</td>\n      <td>1.0</td>\n      <td>2.0</td>\n      <td>10606.0</td>\n      <td>5.0</td>\n      <td>2.0</td>\n      <td>7912.0</td>\n      <td>1.0</td>\n      <td>5235.0</td>\n    </tr>\n  </tbody>\n</table>\n<p>17998 rows × 17 columns</p>\n</div>"
     },
     "execution_count": 53,
     "metadata": {},
     "output_type": "execute_result"
    }
   ]
  },
  {
   "cell_type": "code",
   "source": [
    "X_train.columns.get_loc(\"claim_est_payout\")"
   ],
   "metadata": {
    "id": "f3A-xbBcRu3T",
    "outputId": "55cd8a25-e23c-4a9b-f4b7-70cba66c4b80",
    "colab": {
     "base_uri": "https://localhost:8080/"
    },
    "ExecuteTime": {
     "start_time": "2023-06-12T12:08:48.216896Z",
     "end_time": "2023-06-12T12:08:48.222683Z"
    }
   },
   "execution_count": 54,
   "outputs": [
    {
     "data": {
      "text/plain": "11"
     },
     "execution_count": 54,
     "metadata": {},
     "output_type": "execute_result"
    }
   ]
  },
  {
   "cell_type": "code",
   "source": [
    "from sklearn.impute import SimpleImputer\n",
    "\n",
    "imputer = SimpleImputer(strategy=\"median\")\n",
    "\n",
    "discretizier = ColumnTransformer([(\"payout\", KBinsDiscretizer(n_bins=30, encode=\"ordinal\", strategy=\"uniform\"), [X_train.columns.get_loc(\"claim_est_payout\")]),\n",
    "                                  (\"vehicle_price\", KBinsDiscretizer(n_bins=20, encode=\"ordinal\", strategy=\"uniform\"), [X_train.columns.get_loc(\"vehicle_price\")])])\n",
    "\n",
    "union = FeatureUnion([(\"discretizier\",discretizier),(\"passthrough\",Identity)])\n",
    "\n",
    "\n",
    "\n",
    "trasformer = Pipeline(steps=[(\"imputer\",imputer),(\"union\",union)])\n",
    "\n",
    "prov = trasformer.fit_transform(new_df,y)\n",
    "print(new_df.shape)\n",
    "prov.shape"
   ],
   "metadata": {
    "id": "wbaa7hz9ONGw",
    "outputId": "15d6028f-a09c-45f7-fafc-19d889b89a4a",
    "colab": {
     "base_uri": "https://localhost:8080/"
    },
    "ExecuteTime": {
     "start_time": "2023-06-12T12:18:31.776464Z",
     "end_time": "2023-06-12T12:18:31.811785Z"
    }
   },
   "execution_count": 62,
   "outputs": [
    {
     "name": "stdout",
     "output_type": "stream",
     "text": [
      "(17998, 17)\n"
     ]
    },
    {
     "data": {
      "text/plain": "(17998, 19)"
     },
     "execution_count": 62,
     "metadata": {},
     "output_type": "execute_result"
    }
   ]
  },
  {
   "cell_type": "code",
   "execution_count": 63,
   "outputs": [
    {
     "name": "stdout",
     "output_type": "stream",
     "text": [
      " ===== Scaled Pipeline with GridSearch and SimpleImputer =====\n",
      "Accuracy on train 0.8438906484414069\n",
      "Accuracy on test 0.8423333333333334\n",
      "Confusion matrix on test\n",
      "[[5042   18]\n",
      " [ 928   12]]\n"
     ]
    }
   ],
   "source": [
    "kbest = SelectKBest()\n",
    "\n",
    "my_old_pipeline = Pipeline(steps=[(\"union\",union),\n",
    "                                  (\"kbest\",kbest),\n",
    "                                  (\"model\",LogisticRegression())])\n",
    "\n",
    "my_pipeline = Pipeline(steps=[(\"imputer\",imputer), (\"old_pipeline\", my_old_pipeline)])\n",
    "\n",
    "params={'old_pipeline__kbest__k': [10,5,3,\"all\"],\n",
    "        'old_pipeline__union__discretizier__payout__n_bins': [10],\n",
    "        'old_pipeline__union__discretizier__vehicle_price__n_bins': [5],\n",
    "        'old_pipeline__model__penalty': (\"l1\",\"l2\",\"none\"),\n",
    "        'imputer__strategy':(\"mean\", \"median\", \"most frequent\")}\n",
    "\n",
    "gs = GridSearchCV(my_pipeline, params)\n",
    "\n",
    "test_model(\"Scaled Pipeline with GridSearch and SimpleImputer\",gs, X_train, X_test, y_train, y_test)"
   ],
   "metadata": {
    "collapsed": false,
    "ExecuteTime": {
     "start_time": "2023-06-12T12:18:40.349717Z",
     "end_time": "2023-06-12T12:18:45.325653Z"
    }
   }
  },
  {
   "cell_type": "code",
   "source": [
    "gs.best_params_"
   ],
   "metadata": {
    "id": "4AM30HESPyYy",
    "outputId": "04c0ffcd-4fb4-4524-b571-2cb0db902467",
    "colab": {
     "base_uri": "https://localhost:8080/"
    },
    "ExecuteTime": {
     "start_time": "2023-06-12T12:18:51.424567Z",
     "end_time": "2023-06-12T12:18:51.427841Z"
    }
   },
   "execution_count": 64,
   "outputs": [
    {
     "data": {
      "text/plain": "{'imputer__strategy': 'mean',\n 'old_pipeline__kbest__k': 'all',\n 'old_pipeline__model__penalty': 'none',\n 'old_pipeline__union__discretizier__payout__n_bins': 10,\n 'old_pipeline__union__discretizier__vehicle_price__n_bins': 5}"
     },
     "execution_count": 64,
     "metadata": {},
     "output_type": "execute_result"
    }
   ]
  },
  {
   "cell_type": "code",
   "source": [],
   "metadata": {
    "id": "cyvngBj5QCYA"
   },
   "execution_count": null,
   "outputs": []
  }
 ],
 "metadata": {
  "kernelspec": {
   "display_name": "Python 3",
   "language": "python",
   "name": "python3"
  },
  "language_info": {
   "codemirror_mode": {
    "name": "ipython",
    "version": 2
   },
   "file_extension": ".py",
   "mimetype": "text/x-python",
   "name": "python",
   "nbconvert_exporter": "python",
   "pygments_lexer": "ipython2",
   "version": "2.7.6"
  },
  "colab": {
   "provenance": []
  }
 },
 "nbformat": 4,
 "nbformat_minor": 0
}
