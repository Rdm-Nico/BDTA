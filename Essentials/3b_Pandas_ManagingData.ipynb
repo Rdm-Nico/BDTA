{
 "nbformat": 4,
 "nbformat_minor": 0,
 "metadata": {
  "kernelspec": {
   "display_name": "Python 3",
   "language": "python",
   "name": "python3"
  },
  "language_info": {
   "codemirror_mode": {
    "name": "ipython",
    "version": 3
   },
   "file_extension": ".py",
   "mimetype": "text/x-python",
   "name": "python",
   "nbconvert_exporter": "python",
   "pygments_lexer": "ipython3",
   "version": "3.6.9"
  },
  "colab": {
   "provenance": [],
   "collapsed_sections": [
    "t9zwNgPlVLFU"
   ]
  }
 },
 "cells": [
  {
   "cell_type": "markdown",
   "metadata": {
    "id": "mp6q1vsoVLD5"
   },
   "source": [
    "# Data Loading, Storage\n"
   ]
  },
  {
   "cell_type": "code",
   "metadata": {
    "id": "6jJBd0NMVLD6"
   },
   "source": [
    "import numpy as np\n",
    "import pandas as pd\n",
    "np.random.seed(12345)\n",
    "import matplotlib.pyplot as plt\n",
    "plt.rc('figure', figsize=(10, 6))\n",
    "np.set_printoptions(precision=4, suppress=True)"
   ],
   "execution_count": null,
   "outputs": []
  },
  {
   "cell_type": "code",
   "metadata": {
    "id": "gXklwd5TXANB",
    "pycharm": {
     "is_executing": true
    }
   },
   "source": [
    "# You have to upload the data by using the Files function on your dashboard"
   ],
   "execution_count": null,
   "outputs": []
  },
  {
   "cell_type": "markdown",
   "metadata": {
    "id": "n7636wXO5fkX"
   },
   "source": [
    "## Reading and Writing Data in Text Format"
   ]
  },
  {
   "cell_type": "markdown",
   "metadata": {
    "id": "J3pd1E2Fsg_D"
   },
   "source": [
    "two methods:\n",
    "- *read_csv*: Read a comma-separated values (csv) file into DataFrame. Also supports optionally iterating or breaking of the file into chunks.\n",
    "- *to_csv*: Write object to a comma-separated values (csv) file."
   ]
  },
  {
   "cell_type": "markdown",
   "metadata": {
    "id": "wg5JF4b6zEVV"
   },
   "source": [
    "### Reading Text Files"
   ]
  },
  {
   "cell_type": "code",
   "metadata": {
    "id": "GLehPIUPVLEF",
    "colab": {
     "base_uri": "https://localhost:8080/",
     "height": 142
    },
    "outputId": "ee2d9afe-ecbe-492a-f0e6-7b01ed1d6afd"
   },
   "source": [
    "df= pd.read_csv(\"ex1.csv\", sep=',')\n",
    "df"
   ],
   "execution_count": null,
   "outputs": []
  },
  {
   "cell_type": "code",
   "metadata": {
    "id": "xirEygHzCAB0",
    "colab": {
     "base_uri": "https://localhost:8080/"
    },
    "outputId": "65a0a617-f981-4f0a-e995-b2efc42babaa"
   },
   "source": [
    "type(df)"
   ],
   "execution_count": null,
   "outputs": []
  },
  {
   "cell_type": "code",
   "metadata": {
    "id": "zNgjdun6VLD-"
   },
   "source": [
    " !cat \"ex1.csv\"\n",
    " #!cat \"examples/ex1.csv\""
   ],
   "execution_count": null,
   "outputs": []
  },
  {
   "cell_type": "markdown",
   "metadata": {
    "id": "bRYF7V44ysr9"
   },
   "source": [
    "define separator value and header"
   ]
  },
  {
   "cell_type": "code",
   "metadata": {
    "id": "jZPh1VwJVLEC"
   },
   "source": [
    "# define the table sepator value\n",
    "\n",
    "df = pd.read_csv('ex1.csv', sep='\\t')\n",
    "df"
   ],
   "execution_count": null,
   "outputs": []
  },
  {
   "cell_type": "code",
   "metadata": {
    "id": "XVCpRxTrVLEK",
    "colab": {
     "base_uri": "https://localhost:8080/",
     "height": 173
    },
    "outputId": "cf540339-dd9f-4feb-a8e4-8e8190db6b35"
   },
   "source": [
    "# define if the table header exists \n",
    "\n",
    "df = pd.read_csv('ex1.csv', header=None)\n",
    "df"
   ],
   "execution_count": null,
   "outputs": []
  },
  {
   "cell_type": "code",
   "metadata": {
    "id": "NwaY_-kwpHD4"
   },
   "source": [
    " !cat \"ex2.csv\""
   ],
   "execution_count": null,
   "outputs": []
  },
  {
   "cell_type": "code",
   "metadata": {
    "id": "1lRJr_l4VLEM",
    "colab": {
     "base_uri": "https://localhost:8080/",
     "height": 142
    },
    "outputId": "4890179b-6428-423a-fc29-576de4aaf7ac"
   },
   "source": [
    "pd.read_csv('ex2.csv', sep=',', header=None)"
   ],
   "execution_count": null,
   "outputs": []
  },
  {
   "cell_type": "markdown",
   "metadata": {
    "id": "_eGnHPhvynoo"
   },
   "source": [
    "define column name and/or index name"
   ]
  },
  {
   "cell_type": "code",
   "metadata": {
    "id": "j3AkbKj3VLEP",
    "colab": {
     "base_uri": "https://localhost:8080/",
     "height": 142
    },
    "outputId": "09e6f555-4d0c-430a-abe4-51ae23a65609"
   },
   "source": [
    "# define column name\n",
    "\n",
    "pd.read_csv('ex2.csv', names=['a', 'b', 'c', 'd', 'message'])"
   ],
   "execution_count": null,
   "outputs": []
  },
  {
   "cell_type": "code",
   "metadata": {
    "id": "V99QrvInVLES",
    "colab": {
     "base_uri": "https://localhost:8080/",
     "height": 173
    },
    "outputId": "d2f8bb22-b348-4efd-c7be-83810b4cce62"
   },
   "source": [
    "# define index name\n",
    "\n",
    "names = ['a', 'b', 'c', 'd', 'message']\n",
    "pd.read_csv('ex2.csv', names=names, index_col='message')"
   ],
   "execution_count": null,
   "outputs": []
  },
  {
   "cell_type": "markdown",
   "metadata": {
    "id": "C_sPU8fqyhxG"
   },
   "source": [
    "you can skip a list of row"
   ]
  },
  {
   "cell_type": "code",
   "metadata": {
    "id": "_B8BghB7pl34",
    "colab": {
     "base_uri": "https://localhost:8080/"
    },
    "outputId": "807f8bc3-5a21-4eae-d5e7-3ef3b897bf34"
   },
   "source": [
    "!cat \"ex4.csv\""
   ],
   "execution_count": null,
   "outputs": []
  },
  {
   "cell_type": "code",
   "metadata": {
    "id": "R5_VdYWLC-et",
    "colab": {
     "base_uri": "https://localhost:8080/",
     "height": 236
    },
    "outputId": "39352025-06ee-405f-9a1d-7762a928485f"
   },
   "source": [
    "pd.read_csv('ex4.csv', sep=',')"
   ],
   "execution_count": null,
   "outputs": []
  },
  {
   "cell_type": "code",
   "metadata": {
    "id": "X8F9YdUyVLEb",
    "colab": {
     "base_uri": "https://localhost:8080/",
     "height": 142
    },
    "outputId": "bac565de-2f0d-4061-d340-4fe01d0fc880"
   },
   "source": [
    "# you can skip a list of row\n",
    "pd.read_csv('ex4.csv', skiprows=[0, 2, 3])"
   ],
   "execution_count": null,
   "outputs": []
  },
  {
   "cell_type": "code",
   "metadata": {
    "id": "1J_AVSXfVLEd",
    "colab": {
     "base_uri": "https://localhost:8080/"
    },
    "outputId": "eeaa052c-2196-4337-bba3-d9791530c730"
   },
   "source": [
    "!cat ex5.csv"
   ],
   "execution_count": null,
   "outputs": []
  },
  {
   "cell_type": "code",
   "metadata": {
    "id": "7dfxS3ZeVLEk",
    "colab": {
     "base_uri": "https://localhost:8080/",
     "height": 142
    },
    "outputId": "5232a05b-b2ed-47bf-f898-9f27b167bfc8"
   },
   "source": [
    "result = pd.read_csv('ex5.csv')\n",
    "result"
   ],
   "execution_count": null,
   "outputs": []
  },
  {
   "cell_type": "code",
   "metadata": {
    "id": "bRscRRPtDaxc"
   },
   "source": [
    "None; np.nan"
   ],
   "execution_count": null,
   "outputs": []
  },
  {
   "cell_type": "code",
   "metadata": {
    "id": "hSAdHoKrVLEm"
   },
   "source": [
    "pd.isnull(result)"
   ],
   "execution_count": null,
   "outputs": []
  },
  {
   "cell_type": "markdown",
   "metadata": {
    "id": "-D9Dmngwyb-x"
   },
   "source": [
    "define *na_values*"
   ]
  },
  {
   "cell_type": "code",
   "metadata": {
    "id": "XRDEP_p0VLEo",
    "colab": {
     "base_uri": "https://localhost:8080/",
     "height": 142
    },
    "outputId": "eb82bbe5-e992-4700-a08d-c4177e7cfb5d"
   },
   "source": [
    "result = pd.read_csv('ex5.csv', na_values=['NULL', 'one'])\n",
    "result"
   ],
   "execution_count": null,
   "outputs": []
  },
  {
   "cell_type": "code",
   "metadata": {
    "id": "DYYfOLlhVLEr",
    "colab": {
     "base_uri": "https://localhost:8080/",
     "height": 142
    },
    "outputId": "f394566f-f472-45c3-cc7d-12dc05e73b07"
   },
   "source": [
    "sentinels = {'message': ['foo', 'NA'], 'something': ['two']}\n",
    "pd.read_csv('ex5.csv', na_values=sentinels)\n",
    "#pd.read_csv('examples/ex5.csv', na_values=sentinels)"
   ],
   "execution_count": null,
   "outputs": []
  },
  {
   "cell_type": "markdown",
   "metadata": {
    "id": "Aoa6PiWgVLEu"
   },
   "source": [
    "### Reading Text Files in Pieces"
   ]
  },
  {
   "cell_type": "code",
   "metadata": {
    "id": "8TQyz9iGVLEu"
   },
   "source": [
    "result = pd.read_csv('ex6.csv')\n",
    "result"
   ],
   "execution_count": null,
   "outputs": []
  },
  {
   "cell_type": "markdown",
   "metadata": {
    "id": "tjw3tu5bzYAy"
   },
   "source": [
    "Read only a fixed number of rows"
   ]
  },
  {
   "cell_type": "code",
   "metadata": {
    "id": "wBXNAR4ZVLEx"
   },
   "source": [
    "pd.read_csv('ex6.csv', nrows=5)"
   ],
   "execution_count": null,
   "outputs": []
  },
  {
   "cell_type": "markdown",
   "metadata": {
    "id": "dj-hf0X_zfcc"
   },
   "source": [
    "Read Text Files in chunks"
   ]
  },
  {
   "cell_type": "code",
   "metadata": {
    "id": "IkOnVC9NVLE1"
   },
   "source": [
    "chunker = pd.read_csv('ex6.csv', chunksize=1000)\n",
    "chunker"
   ],
   "execution_count": null,
   "outputs": []
  },
  {
   "cell_type": "code",
   "metadata": {
    "id": "JYsu5qQW0Y5I"
   },
   "source": [
    "chunk = next(chunker)\n",
    "chunk.head(5)"
   ],
   "execution_count": null,
   "outputs": []
  },
  {
   "cell_type": "code",
   "metadata": {
    "id": "V04gP1VYz5Fw"
   },
   "source": [
    "for chunk in chunker:\n",
    "  print(\"chunk size: {}\".format(chunk.shape))\n",
    "  break"
   ],
   "execution_count": null,
   "outputs": []
  },
  {
   "cell_type": "code",
   "metadata": {
    "id": "TONrsyXUVLE3"
   },
   "source": [
    "# tot = pd.Series([], dtype=float)\n",
    "# for piece in chunker:\n",
    "#     tot = tot.add(piece['key'].value_counts(), fill_value=0)\n",
    "\n",
    "# tot = tot.sort_values(ascending=False)"
   ],
   "execution_count": null,
   "outputs": []
  },
  {
   "cell_type": "markdown",
   "metadata": {
    "id": "cEJ9WVfaVLE9"
   },
   "source": [
    "### Writing Data to Text Format"
   ]
  },
  {
   "cell_type": "code",
   "metadata": {
    "id": "obxcxTRMVLE9",
    "colab": {
     "base_uri": "https://localhost:8080/",
     "height": 142
    },
    "outputId": "0ff9e051-3373-42a1-b229-42737b4713c3"
   },
   "source": [
    "data = pd.read_csv('ex5.csv')\n",
    "data"
   ],
   "execution_count": null,
   "outputs": []
  },
  {
   "cell_type": "code",
   "metadata": {
    "id": "G7b5rOSyEaK9"
   },
   "source": [
    "data.iloc[0,0] = 999"
   ],
   "execution_count": null,
   "outputs": []
  },
  {
   "cell_type": "code",
   "metadata": {
    "id": "uPqJ2NVWEfeo",
    "colab": {
     "base_uri": "https://localhost:8080/",
     "height": 142
    },
    "outputId": "80ecdd60-0cc7-4435-d0fd-1eae709ec4a9"
   },
   "source": [
    "data"
   ],
   "execution_count": null,
   "outputs": []
  },
  {
   "cell_type": "code",
   "metadata": {
    "id": "BwzWyZ3fVLFA"
   },
   "source": [
    "data.to_csv('out.csv',index=False)"
   ],
   "execution_count": null,
   "outputs": []
  },
  {
   "cell_type": "code",
   "metadata": {
    "id": "jhptAkNQE3PM"
   },
   "source": [
    "pd.read_csv('out.csv', sep=',')"
   ],
   "execution_count": null,
   "outputs": []
  },
  {
   "cell_type": "code",
   "metadata": {
    "id": "_YTHtKQVVLFD"
   },
   "source": [
    "!cat out.csv"
   ],
   "execution_count": null,
   "outputs": []
  },
  {
   "cell_type": "code",
   "metadata": {
    "id": "JsxJG4w71KUk"
   },
   "source": [
    "data.to_csv('out.csv', index=False, sep='#')"
   ],
   "execution_count": null,
   "outputs": []
  },
  {
   "cell_type": "code",
   "metadata": {
    "id": "KYef1U9HE_Zy"
   },
   "source": [
    "pd.read_csv('out.csv', sep=';')"
   ],
   "execution_count": null,
   "outputs": []
  },
  {
   "cell_type": "code",
   "metadata": {
    "id": "NnRFxBS71K2K"
   },
   "source": [
    "!cat out.csv"
   ],
   "execution_count": null,
   "outputs": []
  },
  {
   "cell_type": "code",
   "metadata": {
    "id": "NFJKgdsiFeMo"
   },
   "source": [],
   "execution_count": null,
   "outputs": []
  },
  {
   "cell_type": "markdown",
   "metadata": {
    "id": "t9zwNgPlVLFU"
   },
   "source": [
    "### Reading and Writing Microsoft Excel Files"
   ]
  },
  {
   "cell_type": "markdown",
   "metadata": {
    "id": "6OyEu72q1sHO"
   },
   "source": [
    "Read option 1: Using *ExcelFile* class"
   ]
  },
  {
   "cell_type": "code",
   "metadata": {
    "id": "ViBIM6DWVLFV"
   },
   "source": [
    "#xlsx = pd.ExcelFile('examples/ex1.xlsx')\n",
    "xlsx = pd.ExcelFile('ex1.xlsx')"
   ],
   "execution_count": null,
   "outputs": []
  },
  {
   "cell_type": "code",
   "metadata": {
    "id": "sGxER3gh_9Eo"
   },
   "source": [
    "xlsx"
   ],
   "execution_count": null,
   "outputs": []
  },
  {
   "cell_type": "code",
   "metadata": {
    "id": "5djIOLxWVLFX"
   },
   "source": [
    "pd.read_excel(xlsx, 'Sheet1')"
   ],
   "execution_count": null,
   "outputs": []
  },
  {
   "cell_type": "markdown",
   "metadata": {
    "id": "nk6iFpWX1xUI"
   },
   "source": [
    "Read option 2: Using *read_excel* method"
   ]
  },
  {
   "cell_type": "code",
   "metadata": {
    "id": "JGL5SuSmVLFZ"
   },
   "source": [
    "frame = pd.read_excel('ex1.xlsx', 'Sheet1')\n",
    "frame"
   ],
   "execution_count": null,
   "outputs": []
  },
  {
   "cell_type": "markdown",
   "metadata": {
    "id": "9ZLOJ5UO17Qd"
   },
   "source": [
    "Write option 1: using *ExcelWriter* object"
   ]
  },
  {
   "cell_type": "code",
   "metadata": {
    "id": "Lp5XmkOTVLFb"
   },
   "source": [
    "writer = pd.ExcelWriter('ex2.xlsx')\n",
    "frame.to_excel(writer, 'Sheet1')\n",
    "writer.save()"
   ],
   "execution_count": null,
   "outputs": []
  },
  {
   "cell_type": "markdown",
   "metadata": {
    "id": "zE0qSpic2JdV"
   },
   "source": [
    "Write option 2: using *to_excel* method"
   ]
  },
  {
   "cell_type": "code",
   "metadata": {
    "id": "fXsSKaS0GEp2"
   },
   "source": [
    "frame"
   ],
   "execution_count": null,
   "outputs": []
  },
  {
   "cell_type": "code",
   "metadata": {
    "id": "eKhSFfxqVLFd"
   },
   "source": [
    "frame.to_excel('ex2_out.xlsx')"
   ],
   "execution_count": null,
   "outputs": []
  },
  {
   "cell_type": "code",
   "metadata": {
    "id": "vV2LWFjGVLFg"
   },
   "source": [
    "!rm examples/ex2.xlsx"
   ],
   "execution_count": null,
   "outputs": []
  },
  {
   "cell_type": "markdown",
   "metadata": {
    "id": "XxeU8kenVLFH"
   },
   "source": [
    "### Optional: Working with Delimited Formats"
   ]
  },
  {
   "cell_type": "code",
   "metadata": {
    "id": "a-g-RFmDVLFH",
    "colab": {
     "base_uri": "https://localhost:8080/"
    },
    "outputId": "b26799cd-f32d-4b3f-fc57-bf8350c92dc7"
   },
   "source": [
    "!cat ex7.csv"
   ],
   "execution_count": null,
   "outputs": []
  },
  {
   "cell_type": "code",
   "metadata": {
    "id": "IZNdq_cSVLFJ"
   },
   "source": [
    "import csv\n",
    "f = open('ex7.csv')\n",
    "\n",
    "reader = csv.reader(f)"
   ],
   "execution_count": null,
   "outputs": []
  },
  {
   "cell_type": "code",
   "metadata": {
    "id": "8afogLYEVLFL",
    "colab": {
     "base_uri": "https://localhost:8080/"
    },
    "outputId": "316cef81-a740-4c8a-bf68-e8674964ff88"
   },
   "source": [
    "for line in reader:\n",
    "    print(line)"
   ],
   "execution_count": null,
   "outputs": []
  },
  {
   "cell_type": "code",
   "metadata": {
    "id": "IRtLqWz-VLFN"
   },
   "source": [
    "with open('ex7.csv') as f:\n",
    "    lines = list(csv.reader(f))"
   ],
   "execution_count": null,
   "outputs": []
  },
  {
   "cell_type": "code",
   "metadata": {
    "id": "q0vzYE41VLFP"
   },
   "source": [
    "header, values = lines[0], lines[1:]"
   ],
   "execution_count": null,
   "outputs": []
  },
  {
   "cell_type": "code",
   "metadata": {
    "id": "WwMfOo2b5n-Q",
    "colab": {
     "base_uri": "https://localhost:8080/"
    },
    "outputId": "ddd9a4d4-4f2d-4abf-cd2d-7910d200b178"
   },
   "source": [
    "values"
   ],
   "execution_count": null,
   "outputs": []
  },
  {
   "cell_type": "code",
   "source": [
    "header"
   ],
   "metadata": {
    "colab": {
     "base_uri": "https://localhost:8080/"
    },
    "id": "b1pD207c0MrQ",
    "outputId": "92ecdacb-edb4-4aa5-d473-920e7857fbe1"
   },
   "execution_count": null,
   "outputs": []
  },
  {
   "cell_type": "code",
   "metadata": {
    "id": "dF8bbh7DVLFR",
    "colab": {
     "base_uri": "https://localhost:8080/"
    },
    "outputId": "7aea6cac-405c-4da7-b35d-9dce4a178c4e"
   },
   "source": [
    "data_dict = {h: v for h, v in zip(header, zip(*values))}\n",
    "data_dict"
   ],
   "execution_count": null,
   "outputs": []
  },
  {
   "cell_type": "markdown",
   "metadata": {
    "id": "0L44UVPEy7ZD"
   },
   "source": [
    "## Optional"
   ]
  },
  {
   "cell_type": "code",
   "metadata": {
    "id": "8Bs3nT1RwyUs",
    "colab": {
     "base_uri": "https://localhost:8080/"
    },
    "outputId": "478d8f3e-8b50-43ca-ae81-838c67f3699a"
   },
   "source": [
    "with open('ex3.txt', 'r') as f:\n",
    "  lines = f.readlines()\n",
    "lines"
   ],
   "execution_count": null,
   "outputs": []
  },
  {
   "cell_type": "code",
   "metadata": {
    "id": "yo6fdqWzwySr",
    "colab": {
     "base_uri": "https://localhost:8080/"
    },
    "outputId": "868f6dd9-e99d-4a4b-d955-86b241b17d61"
   },
   "source": [
    "columns = [val.strip() for val in lines[0].split(' ') if val != '']\n",
    "columns"
   ],
   "execution_count": null,
   "outputs": []
  },
  {
   "cell_type": "code",
   "metadata": {
    "id": "X89BUphowyQr"
   },
   "source": [
    "data = []\n",
    "for row in lines[1:]:\n",
    "  res = [val.strip() for val in row.split(' ') if val != '']\n",
    "  data.append(res)"
   ],
   "execution_count": null,
   "outputs": []
  },
  {
   "cell_type": "code",
   "metadata": {
    "id": "SWtlewHOxszT",
    "colab": {
     "base_uri": "https://localhost:8080/"
    },
    "outputId": "70709365-9547-4d64-afaa-720478fa56af"
   },
   "source": [
    "data"
   ],
   "execution_count": null,
   "outputs": []
  },
  {
   "cell_type": "code",
   "metadata": {
    "id": "J-01dZ3Xxcwy"
   },
   "source": [
    "columns"
   ],
   "execution_count": null,
   "outputs": []
  },
  {
   "cell_type": "code",
   "metadata": {
    "id": "0Uq59vmhxdwf"
   },
   "source": [
    "columns.insert(0, 'index')\n",
    "columns"
   ],
   "execution_count": null,
   "outputs": []
  },
  {
   "cell_type": "code",
   "metadata": {
    "id": "LktG0AY6wyOZ"
   },
   "source": [
    "ds = pd.DataFrame(data, columns=columns)\n",
    "ds"
   ],
   "execution_count": null,
   "outputs": []
  },
  {
   "cell_type": "code",
   "metadata": {
    "id": "Q6d2Y675wyMq"
   },
   "source": [
    "ds.set_index('index')"
   ],
   "execution_count": null,
   "outputs": []
  }
 ]
}
