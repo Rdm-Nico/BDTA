{
 "nbformat": 4,
 "nbformat_minor": 0,
 "metadata": {
  "colab": {
   "provenance": [],
   "authorship_tag": "ABX9TyPFQUIMRKWB0eSvIA+xns9O"
  },
  "kernelspec": {
   "name": "python3",
   "language": "python",
   "display_name": "Python 3 (ipykernel)"
  },
  "language_info": {
   "name": "python"
  }
 },
 "cells": [
  {
   "cell_type": "markdown",
   "source": [
    "# Esercizio\n",
    "1. Creare un dataframe che contenga i valori di iris\n",
    "2. Creare due nuovi attributi che rappresentano l'area del petalo e del sepalo. Calcolare l'accuratezza con una divisione train /test 0.75/0.25 e un Decision Tree Classifier\n",
    "3. Creare una discretizzazione dei valori in 4 bin (per ogni colonna del dataset), sostituire al dataset iniziale e calcolare l'accuratezza\n",
    "4. Standardizzare il dataset del punto 2 e calcolare l'accuratezza con il classificatore di prima \n",
    "5. Applicare il logaritmo (trasformazione custom) a tutte le colonne del dataset del punto 2 e calcolare l'accuratezza con il classificatore di prima \n",
    "6. Creare una nuova colonna che abbia valore 1 se e solo se l'area del petalo e l'area del sepalo hanno entrambe valore superiore a 4 e calcolare l'accuratezza con il classificatore di prima"
   ],
   "metadata": {
    "id": "LeqYqYg0N-QD"
   }
  },
  {
   "cell_type": "code",
   "source": [
    "%matplotlib inline\n",
    "import matplotlib.pyplot as plt\n",
    "import numpy as np\n",
    "import pandas as pd\n",
    "import sklearn as sk\n",
    "from sklearn import datasets"
   ],
   "metadata": {
    "id": "cCe3volwOI70",
    "ExecuteTime": {
     "start_time": "2023-04-20T19:08:17.138665Z",
     "end_time": "2023-04-20T19:08:20.345233Z"
    }
   },
   "execution_count": 1,
   "outputs": []
  },
  {
   "cell_type": "code",
   "source": [
    "def accuracy(pred, result):\n",
    "  return 1-(abs(pred-result)).sum()/len(result)"
   ],
   "metadata": {
    "id": "wmwGTVeSO226",
    "ExecuteTime": {
     "start_time": "2023-04-20T19:08:51.276216Z",
     "end_time": "2023-04-20T19:08:51.292649Z"
    }
   },
   "execution_count": 2,
   "outputs": []
  },
  {
   "cell_type": "code",
   "source": [
    "iris = datasets.load_iris()"
   ],
   "metadata": {
    "id": "ellDjOt2ORnK",
    "ExecuteTime": {
     "start_time": "2023-04-20T19:09:17.508686Z",
     "end_time": "2023-04-20T19:09:17.514142Z"
    }
   },
   "execution_count": 3,
   "outputs": []
  },
  {
   "cell_type": "code",
   "source": [
    "iris['target_names']"
   ],
   "metadata": {
    "id": "fisN65liOW6v",
    "ExecuteTime": {
     "start_time": "2023-04-20T19:09:29.394688Z",
     "end_time": "2023-04-20T19:09:29.400505Z"
    }
   },
   "execution_count": 4,
   "outputs": [
    {
     "data": {
      "text/plain": "array(['setosa', 'versicolor', 'virginica'], dtype='<U10')"
     },
     "execution_count": 4,
     "metadata": {},
     "output_type": "execute_result"
    }
   ]
  },
  {
   "cell_type": "code",
   "source": [
    "iris['feature_names']"
   ],
   "metadata": {
    "id": "kfYKv46LOaC-",
    "ExecuteTime": {
     "start_time": "2023-04-20T19:09:51.192683Z",
     "end_time": "2023-04-20T19:09:51.199288Z"
    }
   },
   "execution_count": 5,
   "outputs": [
    {
     "data": {
      "text/plain": "['sepal length (cm)',\n 'sepal width (cm)',\n 'petal length (cm)',\n 'petal width (cm)']"
     },
     "execution_count": 5,
     "metadata": {},
     "output_type": "execute_result"
    }
   ]
  },
  {
   "cell_type": "code",
   "source": [
    "X = iris.data\n",
    "y = iris.target # target value"
   ],
   "metadata": {
    "id": "q2pu_uzxOcGP",
    "ExecuteTime": {
     "start_time": "2023-04-20T19:11:38.848948Z",
     "end_time": "2023-04-20T19:11:38.857353Z"
    }
   },
   "execution_count": 6,
   "outputs": []
  },
  {
   "cell_type": "code",
   "source": [
    "df = pd.DataFrame(X, columns=iris['feature_names']) # crea il df dove sul nome delle colonne mette le features "
   ],
   "metadata": {
    "id": "eV5FLBZVOowf",
    "ExecuteTime": {
     "start_time": "2023-04-20T19:12:25.444314Z",
     "end_time": "2023-04-20T19:12:25.453092Z"
    }
   },
   "execution_count": 7,
   "outputs": []
  },
  {
   "cell_type": "code",
   "source": [
    "df"
   ],
   "metadata": {
    "id": "bNgwgE8-Ov40",
    "ExecuteTime": {
     "start_time": "2023-04-20T19:12:30.557322Z",
     "end_time": "2023-04-20T19:12:30.560434Z"
    }
   },
   "execution_count": 8,
   "outputs": [
    {
     "data": {
      "text/plain": "     sepal length (cm)  sepal width (cm)  petal length (cm)  petal width (cm)\n0                  5.1               3.5                1.4               0.2\n1                  4.9               3.0                1.4               0.2\n2                  4.7               3.2                1.3               0.2\n3                  4.6               3.1                1.5               0.2\n4                  5.0               3.6                1.4               0.2\n..                 ...               ...                ...               ...\n145                6.7               3.0                5.2               2.3\n146                6.3               2.5                5.0               1.9\n147                6.5               3.0                5.2               2.0\n148                6.2               3.4                5.4               2.3\n149                5.9               3.0                5.1               1.8\n\n[150 rows x 4 columns]",
      "text/html": "<div>\n<style scoped>\n    .dataframe tbody tr th:only-of-type {\n        vertical-align: middle;\n    }\n\n    .dataframe tbody tr th {\n        vertical-align: top;\n    }\n\n    .dataframe thead th {\n        text-align: right;\n    }\n</style>\n<table border=\"1\" class=\"dataframe\">\n  <thead>\n    <tr style=\"text-align: right;\">\n      <th></th>\n      <th>sepal length (cm)</th>\n      <th>sepal width (cm)</th>\n      <th>petal length (cm)</th>\n      <th>petal width (cm)</th>\n    </tr>\n  </thead>\n  <tbody>\n    <tr>\n      <th>0</th>\n      <td>5.1</td>\n      <td>3.5</td>\n      <td>1.4</td>\n      <td>0.2</td>\n    </tr>\n    <tr>\n      <th>1</th>\n      <td>4.9</td>\n      <td>3.0</td>\n      <td>1.4</td>\n      <td>0.2</td>\n    </tr>\n    <tr>\n      <th>2</th>\n      <td>4.7</td>\n      <td>3.2</td>\n      <td>1.3</td>\n      <td>0.2</td>\n    </tr>\n    <tr>\n      <th>3</th>\n      <td>4.6</td>\n      <td>3.1</td>\n      <td>1.5</td>\n      <td>0.2</td>\n    </tr>\n    <tr>\n      <th>4</th>\n      <td>5.0</td>\n      <td>3.6</td>\n      <td>1.4</td>\n      <td>0.2</td>\n    </tr>\n    <tr>\n      <th>...</th>\n      <td>...</td>\n      <td>...</td>\n      <td>...</td>\n      <td>...</td>\n    </tr>\n    <tr>\n      <th>145</th>\n      <td>6.7</td>\n      <td>3.0</td>\n      <td>5.2</td>\n      <td>2.3</td>\n    </tr>\n    <tr>\n      <th>146</th>\n      <td>6.3</td>\n      <td>2.5</td>\n      <td>5.0</td>\n      <td>1.9</td>\n    </tr>\n    <tr>\n      <th>147</th>\n      <td>6.5</td>\n      <td>3.0</td>\n      <td>5.2</td>\n      <td>2.0</td>\n    </tr>\n    <tr>\n      <th>148</th>\n      <td>6.2</td>\n      <td>3.4</td>\n      <td>5.4</td>\n      <td>2.3</td>\n    </tr>\n    <tr>\n      <th>149</th>\n      <td>5.9</td>\n      <td>3.0</td>\n      <td>5.1</td>\n      <td>1.8</td>\n    </tr>\n  </tbody>\n</table>\n<p>150 rows × 4 columns</p>\n</div>"
     },
     "execution_count": 8,
     "metadata": {},
     "output_type": "execute_result"
    }
   ]
  },
  {
   "cell_type": "code",
   "source": [
    "from sklearn.model_selection import train_test_split\n",
    "X_train, X_test, y_train, y_test = train_test_split(df, y, test_size=0.25) # qua si poteva evitare di mettere la specifica nel test_size perché il 0.25 é di defalut"
   ],
   "metadata": {
    "id": "X6NYqAaaOwbL",
    "ExecuteTime": {
     "start_time": "2023-04-20T19:22:08.293031Z",
     "end_time": "2023-04-20T19:22:08.521359Z"
    }
   },
   "execution_count": 9,
   "outputs": []
  },
  {
   "cell_type": "code",
   "source": [
    "from sklearn.tree import DecisionTreeClassifier"
   ],
   "metadata": {
    "id": "r0SYN_faO_37",
    "ExecuteTime": {
     "start_time": "2023-04-20T19:22:11.401706Z",
     "end_time": "2023-04-20T19:22:11.759076Z"
    }
   },
   "execution_count": 10,
   "outputs": []
  },
  {
   "cell_type": "code",
   "source": [
    "model = DecisionTreeClassifier()"
   ],
   "metadata": {
    "id": "9GTAli_qPEOO",
    "ExecuteTime": {
     "start_time": "2023-04-20T19:22:14.066942Z",
     "end_time": "2023-04-20T19:22:14.074165Z"
    }
   },
   "execution_count": 11,
   "outputs": []
  },
  {
   "cell_type": "code",
   "source": [
    "model.fit(X_train, y_train)\n",
    "result = model.predict(X_test)"
   ],
   "metadata": {
    "id": "qgWyll5vPEqe",
    "ExecuteTime": {
     "start_time": "2023-04-20T19:25:18.157746Z",
     "end_time": "2023-04-20T19:25:18.171621Z"
    }
   },
   "execution_count": 12,
   "outputs": []
  },
  {
   "cell_type": "code",
   "source": [
    "accuracy(y_test, result)"
   ],
   "metadata": {
    "id": "BSoX20YyPHbn",
    "ExecuteTime": {
     "start_time": "2023-04-20T19:25:22.897577Z",
     "end_time": "2023-04-20T19:25:22.901816Z"
    }
   },
   "execution_count": 13,
   "outputs": [
    {
     "data": {
      "text/plain": "1.0"
     },
     "execution_count": 13,
     "metadata": {},
     "output_type": "execute_result"
    }
   ]
  },
  {
   "cell_type": "code",
   "source": [
    "accuracy(y_train, model.predict(X_train) )"
   ],
   "metadata": {
    "id": "SUgkPnvxPKIV",
    "ExecuteTime": {
     "start_time": "2023-04-20T19:26:24.648397Z",
     "end_time": "2023-04-20T19:26:24.652999Z"
    }
   },
   "execution_count": 14,
   "outputs": [
    {
     "data": {
      "text/plain": "1.0"
     },
     "execution_count": 14,
     "metadata": {},
     "output_type": "execute_result"
    }
   ]
  },
  {
   "cell_type": "markdown",
   "source": [
    "## Creare due nuovi attributi che rappresentano l'area del petalo e del sepalo"
   ],
   "metadata": {
    "id": "XsuIREMyPQED"
   }
  },
  {
   "cell_type": "code",
   "source": [
    "df['areaSep'] = df['sepal length (cm)'] *df['sepal width (cm)']\n",
    "df['areaPet'] = df['petal length (cm)'] * df['petal length (cm)']"
   ],
   "metadata": {
    "id": "hkLZBr0YPaPv",
    "ExecuteTime": {
     "start_time": "2023-04-20T19:28:41.059168Z",
     "end_time": "2023-04-20T19:28:41.065297Z"
    }
   },
   "execution_count": 15,
   "outputs": []
  },
  {
   "cell_type": "code",
   "source": [
    "df"
   ],
   "metadata": {
    "id": "fysLqiCGPew5",
    "ExecuteTime": {
     "start_time": "2023-04-20T19:28:45.238391Z",
     "end_time": "2023-04-20T19:28:45.242094Z"
    }
   },
   "execution_count": 16,
   "outputs": [
    {
     "data": {
      "text/plain": "     sepal length (cm)  sepal width (cm)  petal length (cm)  petal width (cm)  \\\n0                  5.1               3.5                1.4               0.2   \n1                  4.9               3.0                1.4               0.2   \n2                  4.7               3.2                1.3               0.2   \n3                  4.6               3.1                1.5               0.2   \n4                  5.0               3.6                1.4               0.2   \n..                 ...               ...                ...               ...   \n145                6.7               3.0                5.2               2.3   \n146                6.3               2.5                5.0               1.9   \n147                6.5               3.0                5.2               2.0   \n148                6.2               3.4                5.4               2.3   \n149                5.9               3.0                5.1               1.8   \n\n     areaSep  areaPet  \n0      17.85     1.96  \n1      14.70     1.96  \n2      15.04     1.69  \n3      14.26     2.25  \n4      18.00     1.96  \n..       ...      ...  \n145    20.10    27.04  \n146    15.75    25.00  \n147    19.50    27.04  \n148    21.08    29.16  \n149    17.70    26.01  \n\n[150 rows x 6 columns]",
      "text/html": "<div>\n<style scoped>\n    .dataframe tbody tr th:only-of-type {\n        vertical-align: middle;\n    }\n\n    .dataframe tbody tr th {\n        vertical-align: top;\n    }\n\n    .dataframe thead th {\n        text-align: right;\n    }\n</style>\n<table border=\"1\" class=\"dataframe\">\n  <thead>\n    <tr style=\"text-align: right;\">\n      <th></th>\n      <th>sepal length (cm)</th>\n      <th>sepal width (cm)</th>\n      <th>petal length (cm)</th>\n      <th>petal width (cm)</th>\n      <th>areaSep</th>\n      <th>areaPet</th>\n    </tr>\n  </thead>\n  <tbody>\n    <tr>\n      <th>0</th>\n      <td>5.1</td>\n      <td>3.5</td>\n      <td>1.4</td>\n      <td>0.2</td>\n      <td>17.85</td>\n      <td>1.96</td>\n    </tr>\n    <tr>\n      <th>1</th>\n      <td>4.9</td>\n      <td>3.0</td>\n      <td>1.4</td>\n      <td>0.2</td>\n      <td>14.70</td>\n      <td>1.96</td>\n    </tr>\n    <tr>\n      <th>2</th>\n      <td>4.7</td>\n      <td>3.2</td>\n      <td>1.3</td>\n      <td>0.2</td>\n      <td>15.04</td>\n      <td>1.69</td>\n    </tr>\n    <tr>\n      <th>3</th>\n      <td>4.6</td>\n      <td>3.1</td>\n      <td>1.5</td>\n      <td>0.2</td>\n      <td>14.26</td>\n      <td>2.25</td>\n    </tr>\n    <tr>\n      <th>4</th>\n      <td>5.0</td>\n      <td>3.6</td>\n      <td>1.4</td>\n      <td>0.2</td>\n      <td>18.00</td>\n      <td>1.96</td>\n    </tr>\n    <tr>\n      <th>...</th>\n      <td>...</td>\n      <td>...</td>\n      <td>...</td>\n      <td>...</td>\n      <td>...</td>\n      <td>...</td>\n    </tr>\n    <tr>\n      <th>145</th>\n      <td>6.7</td>\n      <td>3.0</td>\n      <td>5.2</td>\n      <td>2.3</td>\n      <td>20.10</td>\n      <td>27.04</td>\n    </tr>\n    <tr>\n      <th>146</th>\n      <td>6.3</td>\n      <td>2.5</td>\n      <td>5.0</td>\n      <td>1.9</td>\n      <td>15.75</td>\n      <td>25.00</td>\n    </tr>\n    <tr>\n      <th>147</th>\n      <td>6.5</td>\n      <td>3.0</td>\n      <td>5.2</td>\n      <td>2.0</td>\n      <td>19.50</td>\n      <td>27.04</td>\n    </tr>\n    <tr>\n      <th>148</th>\n      <td>6.2</td>\n      <td>3.4</td>\n      <td>5.4</td>\n      <td>2.3</td>\n      <td>21.08</td>\n      <td>29.16</td>\n    </tr>\n    <tr>\n      <th>149</th>\n      <td>5.9</td>\n      <td>3.0</td>\n      <td>5.1</td>\n      <td>1.8</td>\n      <td>17.70</td>\n      <td>26.01</td>\n    </tr>\n  </tbody>\n</table>\n<p>150 rows × 6 columns</p>\n</div>"
     },
     "execution_count": 16,
     "metadata": {},
     "output_type": "execute_result"
    }
   ]
  },
  {
   "cell_type": "code",
   "source": [
    "X_train, X_test, y_train, y_test = train_test_split(df, y, test_size=0.25)"
   ],
   "metadata": {
    "id": "VzPTLloJPsCD",
    "ExecuteTime": {
     "start_time": "2023-04-20T19:29:02.437682Z",
     "end_time": "2023-04-20T19:29:02.445150Z"
    }
   },
   "execution_count": 17,
   "outputs": []
  },
  {
   "cell_type": "code",
   "source": [
    "model.fit(X_train, y_train)\n",
    "result = model.predict(X_test)\n",
    "accuracy(y_test, result)"
   ],
   "metadata": {
    "id": "SrY9H4S8PumP",
    "ExecuteTime": {
     "start_time": "2023-04-20T19:30:10.297631Z",
     "end_time": "2023-04-20T19:30:10.304342Z"
    }
   },
   "execution_count": 18,
   "outputs": [
    {
     "data": {
      "text/plain": "0.9736842105263158"
     },
     "execution_count": 18,
     "metadata": {},
     "output_type": "execute_result"
    }
   ]
  },
  {
   "cell_type": "code",
   "source": [
    "accuracy(y_train, model.predict(X_train))"
   ],
   "metadata": {
    "id": "LgVX74LRQAKn",
    "ExecuteTime": {
     "start_time": "2023-04-20T19:30:25.821880Z",
     "end_time": "2023-04-20T19:30:25.826375Z"
    }
   },
   "execution_count": 19,
   "outputs": [
    {
     "data": {
      "text/plain": "1.0"
     },
     "execution_count": 19,
     "metadata": {},
     "output_type": "execute_result"
    }
   ]
  },
  {
   "cell_type": "markdown",
   "source": [
    "## Creare una discretizzazione dei valori in 4 bin"
   ],
   "metadata": {
    "id": "FZ9lcdjlQEmj"
   }
  },
  {
   "cell_type": "code",
   "source": [
    "from sklearn import preprocessing"
   ],
   "metadata": {
    "id": "_Te5hMJ4SNqn",
    "ExecuteTime": {
     "start_time": "2023-04-20T19:31:01.117634Z",
     "end_time": "2023-04-20T19:31:01.126684Z"
    }
   },
   "execution_count": 20,
   "outputs": []
  },
  {
   "cell_type": "code",
   "source": [
    "kb= preprocessing.KBinsDiscretizer(n_bins=4, encode='ordinal').fit(df)"
   ],
   "metadata": {
    "id": "pS2PVnIPQOaq",
    "ExecuteTime": {
     "start_time": "2023-04-20T19:34:30.789456Z",
     "end_time": "2023-04-20T19:34:30.810506Z"
    }
   },
   "execution_count": 21,
   "outputs": []
  },
  {
   "cell_type": "code",
   "source": [
    "dfd = pd.DataFrame(kb.transform(df), columns= df.columns) # con il nome delle colonne"
   ],
   "metadata": {
    "id": "FrAZ3spZSGJ-",
    "ExecuteTime": {
     "start_time": "2023-04-17T15:26:10.668912Z",
     "end_time": "2023-04-17T15:26:10.674391Z"
    }
   },
   "execution_count": 22,
   "outputs": []
  },
  {
   "cell_type": "code",
   "source": [
    "dfd.head()"
   ],
   "metadata": {
    "id": "dWzQKuhCSbxn",
    "ExecuteTime": {
     "start_time": "2023-04-17T15:26:12.955604Z",
     "end_time": "2023-04-17T15:26:12.960583Z"
    }
   },
   "execution_count": 23,
   "outputs": [
    {
     "data": {
      "text/plain": "   sepal length (cm)  sepal width (cm)  petal length (cm)  petal width (cm)  \\\n0                1.0               3.0                0.0               0.0   \n1                0.0               2.0                0.0               0.0   \n2                0.0               2.0                0.0               0.0   \n3                0.0               2.0                0.0               0.0   \n4                0.0               3.0                0.0               0.0   \n\n   areaSep  areaPet  \n0      2.0      0.0  \n1      0.0      0.0  \n2      0.0      0.0  \n3      0.0      0.0  \n4      2.0      0.0  ",
      "text/html": "<div>\n<style scoped>\n    .dataframe tbody tr th:only-of-type {\n        vertical-align: middle;\n    }\n\n    .dataframe tbody tr th {\n        vertical-align: top;\n    }\n\n    .dataframe thead th {\n        text-align: right;\n    }\n</style>\n<table border=\"1\" class=\"dataframe\">\n  <thead>\n    <tr style=\"text-align: right;\">\n      <th></th>\n      <th>sepal length (cm)</th>\n      <th>sepal width (cm)</th>\n      <th>petal length (cm)</th>\n      <th>petal width (cm)</th>\n      <th>areaSep</th>\n      <th>areaPet</th>\n    </tr>\n  </thead>\n  <tbody>\n    <tr>\n      <th>0</th>\n      <td>1.0</td>\n      <td>3.0</td>\n      <td>0.0</td>\n      <td>0.0</td>\n      <td>2.0</td>\n      <td>0.0</td>\n    </tr>\n    <tr>\n      <th>1</th>\n      <td>0.0</td>\n      <td>2.0</td>\n      <td>0.0</td>\n      <td>0.0</td>\n      <td>0.0</td>\n      <td>0.0</td>\n    </tr>\n    <tr>\n      <th>2</th>\n      <td>0.0</td>\n      <td>2.0</td>\n      <td>0.0</td>\n      <td>0.0</td>\n      <td>0.0</td>\n      <td>0.0</td>\n    </tr>\n    <tr>\n      <th>3</th>\n      <td>0.0</td>\n      <td>2.0</td>\n      <td>0.0</td>\n      <td>0.0</td>\n      <td>0.0</td>\n      <td>0.0</td>\n    </tr>\n    <tr>\n      <th>4</th>\n      <td>0.0</td>\n      <td>3.0</td>\n      <td>0.0</td>\n      <td>0.0</td>\n      <td>2.0</td>\n      <td>0.0</td>\n    </tr>\n  </tbody>\n</table>\n</div>"
     },
     "execution_count": 23,
     "metadata": {},
     "output_type": "execute_result"
    }
   ]
  },
  {
   "cell_type": "code",
   "source": [
    "X_train, X_test, y_train, y_test = train_test_split(dfd, y, test_size=0.25)"
   ],
   "metadata": {
    "id": "fyYqjM-XTFMH",
    "ExecuteTime": {
     "start_time": "2023-04-17T15:26:21.258024Z",
     "end_time": "2023-04-17T15:26:21.263877Z"
    }
   },
   "execution_count": 24,
   "outputs": []
  },
  {
   "cell_type": "code",
   "source": [
    "model.fit(X_train, y_train)\n",
    "result = model.predict(X_test)\n",
    "accuracy(y_test, result)"
   ],
   "metadata": {
    "id": "jhcv9fttTIUL",
    "ExecuteTime": {
     "start_time": "2023-04-17T15:26:24.786025Z",
     "end_time": "2023-04-17T15:26:24.797429Z"
    }
   },
   "execution_count": 25,
   "outputs": [
    {
     "data": {
      "text/plain": "0.9736842105263158"
     },
     "execution_count": 25,
     "metadata": {},
     "output_type": "execute_result"
    }
   ]
  },
  {
   "cell_type": "code",
   "source": [
    "accuracy(y_train, model.predict(X_train)) # fa meno overfitting"
   ],
   "metadata": {
    "id": "LMHB_A9CTL2G",
    "ExecuteTime": {
     "start_time": "2023-04-17T15:26:27.632753Z",
     "end_time": "2023-04-17T15:26:27.639534Z"
    }
   },
   "execution_count": 26,
   "outputs": [
    {
     "data": {
      "text/plain": "0.9821428571428571"
     },
     "execution_count": 26,
     "metadata": {},
     "output_type": "execute_result"
    }
   ]
  },
  {
   "cell_type": "markdown",
   "source": [
    "## Standardizzare il dataset del punto 2 e calcolare l'accuratezza con il classificatore di prima \n"
   ],
   "metadata": {
    "id": "3QSZAI8UTNpX"
   }
  },
  {
   "cell_type": "code",
   "execution_count": 52,
   "outputs": [],
   "source": [
    "sss = preprocessing.StandardScaler()"
   ],
   "metadata": {
    "collapsed": false,
    "ExecuteTime": {
     "start_time": "2023-04-17T15:48:25.794982Z",
     "end_time": "2023-04-17T15:48:25.800657Z"
    }
   }
  },
  {
   "cell_type": "code",
   "execution_count": 53,
   "outputs": [],
   "source": [
    "scaler = sss.fit(df)"
   ],
   "metadata": {
    "collapsed": false,
    "ExecuteTime": {
     "start_time": "2023-04-17T15:48:28.031313Z",
     "end_time": "2023-04-17T15:48:28.050505Z"
    }
   }
  },
  {
   "cell_type": "code",
   "execution_count": 54,
   "outputs": [],
   "source": [
    "dfs = scaler.transform(df)"
   ],
   "metadata": {
    "collapsed": false,
    "ExecuteTime": {
     "start_time": "2023-04-17T15:48:31.442693Z",
     "end_time": "2023-04-17T15:48:31.448313Z"
    }
   }
  },
  {
   "cell_type": "code",
   "execution_count": 55,
   "outputs": [],
   "source": [
    "X_train, X_test, y_train, y_test = train_test_split(dfs, y, test_size=0.25)"
   ],
   "metadata": {
    "collapsed": false,
    "ExecuteTime": {
     "start_time": "2023-04-17T15:48:33.441503Z",
     "end_time": "2023-04-17T15:48:33.447521Z"
    }
   }
  },
  {
   "cell_type": "code",
   "execution_count": 56,
   "outputs": [
    {
     "data": {
      "text/plain": "0.9736842105263158"
     },
     "execution_count": 56,
     "metadata": {},
     "output_type": "execute_result"
    }
   ],
   "source": [
    "model.fit(X_train, y_train)\n",
    "result = model.predict(X_test)\n",
    "accuracy(y_test, result)"
   ],
   "metadata": {
    "collapsed": false,
    "ExecuteTime": {
     "start_time": "2023-04-17T15:48:34.676311Z",
     "end_time": "2023-04-17T15:48:34.682643Z"
    }
   }
  },
  {
   "cell_type": "code",
   "execution_count": 57,
   "outputs": [
    {
     "data": {
      "text/plain": "1.0"
     },
     "execution_count": 57,
     "metadata": {},
     "output_type": "execute_result"
    }
   ],
   "source": [
    "accuracy(y_train, model.predict(X_train))"
   ],
   "metadata": {
    "collapsed": false,
    "ExecuteTime": {
     "start_time": "2023-04-17T15:48:36.441597Z",
     "end_time": "2023-04-17T15:48:36.447874Z"
    }
   }
  },
  {
   "cell_type": "markdown",
   "source": [
    "## Applicare il logaritmo (trasformazione custom) a tutte le colonne del dataset del punto 2 e calcolare l'accuratezza con il classificatore di prima \n"
   ],
   "metadata": {
    "id": "MK0M3MWMVefP"
   }
  },
  {
   "cell_type": "code",
   "source": [
    "from sklearn.preprocessing import  FunctionTransformer\n",
    "trasformer = FunctionTransformer(np.log,validate=True)\n",
    "df_log = trasformer.transform(df)\n",
    "df_log"
   ],
   "metadata": {
    "id": "9AfCbUWeiv-x",
    "ExecuteTime": {
     "start_time": "2023-04-17T15:37:40.924578Z",
     "end_time": "2023-04-17T15:37:40.928682Z"
    }
   },
   "execution_count": 39,
   "outputs": [
    {
     "name": "stderr",
     "output_type": "stream",
     "text": [
      "/Users/rdm-nico/PycharmProjects/pythonProject/venv/lib/python3.9/site-packages/sklearn/base.py:432: UserWarning: X has feature names, but FunctionTransformer was fitted without feature names\n",
      "  warnings.warn(\n"
     ]
    },
    {
     "data": {
      "text/plain": "array([[ 1.62924054,  1.25276297,  0.33647224, -1.60943791,  2.88200351,\n        -1.27296568],\n       [ 1.58923521,  1.09861229,  0.33647224, -1.60943791,  2.68784749,\n        -1.27296568],\n       [ 1.54756251,  1.16315081,  0.26236426, -1.60943791,  2.71071332,\n        -1.34707365],\n       [ 1.5260563 ,  1.13140211,  0.40546511, -1.60943791,  2.65745841,\n        -1.2039728 ],\n       [ 1.60943791,  1.28093385,  0.33647224, -1.60943791,  2.89037176,\n        -1.27296568],\n       [ 1.68639895,  1.36097655,  0.53062825, -0.91629073,  3.04737551,\n        -0.38566248],\n       [ 1.5260563 ,  1.22377543,  0.33647224, -1.2039728 ,  2.74983174,\n        -0.86750057],\n       [ 1.60943791,  1.22377543,  0.40546511, -1.60943791,  2.83321334,\n        -1.2039728 ],\n       [ 1.48160454,  1.06471074,  0.33647224, -1.60943791,  2.54631528,\n        -1.27296568],\n       [ 1.58923521,  1.13140211,  0.40546511, -2.30258509,  2.72063732,\n        -1.89711998],\n       [ 1.68639895,  1.30833282,  0.40546511, -1.60943791,  2.99473177,\n        -1.2039728 ],\n       [ 1.56861592,  1.22377543,  0.47000363, -1.60943791,  2.79239135,\n        -1.13943428],\n       [ 1.56861592,  1.09861229,  0.33647224, -2.30258509,  2.66722821,\n        -1.96611286],\n       [ 1.45861502,  1.09861229,  0.09531018, -2.30258509,  2.55722731,\n        -2.20727491],\n       [ 1.75785792,  1.38629436,  0.18232156, -1.60943791,  3.14415228,\n        -1.42711636],\n       [ 1.74046617,  1.48160454,  0.40546511, -0.91629073,  3.22207072,\n        -0.51082562],\n       [ 1.68639895,  1.36097655,  0.26236426, -0.91629073,  3.04737551,\n        -0.65392647],\n       [ 1.62924054,  1.25276297,  0.33647224, -1.2039728 ,  2.88200351,\n        -0.86750057],\n       [ 1.74046617,  1.33500107,  0.53062825, -1.2039728 ,  3.07546724,\n        -0.67334455],\n       [ 1.62924054,  1.33500107,  0.40546511, -1.2039728 ,  2.96424161,\n        -0.7985077 ],\n       [ 1.68639895,  1.22377543,  0.53062825, -1.60943791,  2.91017439,\n        -1.07880966],\n       [ 1.62924054,  1.30833282,  0.40546511, -0.91629073,  2.93757336,\n        -0.51082562],\n       [ 1.5260563 ,  1.28093385,  0.        , -1.60943791,  2.80699015,\n        -1.60943791],\n       [ 1.62924054,  1.19392247,  0.53062825, -0.69314718,  2.82316301,\n        -0.16251893],\n       [ 1.56861592,  1.22377543,  0.64185389, -1.60943791,  2.79239135,\n        -0.96758403],\n       [ 1.60943791,  1.09861229,  0.47000363, -1.60943791,  2.7080502 ,\n        -1.13943428],\n       [ 1.60943791,  1.22377543,  0.47000363, -0.91629073,  2.83321334,\n        -0.4462871 ],\n       [ 1.64865863,  1.25276297,  0.40546511, -1.60943791,  2.90142159,\n        -1.2039728 ],\n       [ 1.64865863,  1.22377543,  0.33647224, -1.60943791,  2.87243406,\n        -1.27296568],\n       [ 1.54756251,  1.16315081,  0.47000363, -1.60943791,  2.71071332,\n        -1.13943428],\n       [ 1.56861592,  1.13140211,  0.47000363, -1.60943791,  2.70001803,\n        -1.13943428],\n       [ 1.68639895,  1.22377543,  0.40546511, -0.91629073,  2.91017439,\n        -0.51082562],\n       [ 1.64865863,  1.41098697,  0.40546511, -2.30258509,  3.0596456 ,\n        -1.89711998],\n       [ 1.70474809,  1.43508453,  0.33647224, -1.60943791,  3.13983262,\n        -1.27296568],\n       [ 1.58923521,  1.13140211,  0.40546511, -1.60943791,  2.72063732,\n        -1.2039728 ],\n       [ 1.60943791,  1.16315081,  0.18232156, -1.60943791,  2.77258872,\n        -1.42711636],\n       [ 1.70474809,  1.25276297,  0.26236426, -1.60943791,  2.95751106,\n        -1.34707365],\n       [ 1.58923521,  1.28093385,  0.33647224, -2.30258509,  2.87016905,\n        -1.96611286],\n       [ 1.48160454,  1.09861229,  0.26236426, -1.60943791,  2.58021683,\n        -1.34707365],\n       [ 1.62924054,  1.22377543,  0.40546511, -1.60943791,  2.85301597,\n        -1.2039728 ],\n       [ 1.60943791,  1.25276297,  0.26236426, -1.2039728 ,  2.86220088,\n        -0.94160854],\n       [ 1.5040774 ,  0.83290912,  0.26236426, -1.2039728 ,  2.33698652,\n        -0.94160854],\n       [ 1.48160454,  1.16315081,  0.26236426, -1.60943791,  2.64475535,\n        -1.34707365],\n       [ 1.60943791,  1.25276297,  0.47000363, -0.51082562,  2.86220088,\n        -0.04082199],\n       [ 1.62924054,  1.33500107,  0.64185389, -0.91629073,  2.96424161,\n        -0.27443685],\n       [ 1.56861592,  1.09861229,  0.33647224, -1.2039728 ,  2.66722821,\n        -0.86750057],\n       [ 1.62924054,  1.33500107,  0.47000363, -1.60943791,  2.96424161,\n        -1.13943428],\n       [ 1.5260563 ,  1.16315081,  0.33647224, -1.60943791,  2.68920711,\n        -1.27296568],\n       [ 1.66770682,  1.30833282,  0.40546511, -1.60943791,  2.97603964,\n        -1.2039728 ],\n       [ 1.60943791,  1.19392247,  0.33647224, -1.60943791,  2.80336038,\n        -1.27296568],\n       [ 1.94591015,  1.16315081,  1.54756251,  0.33647224,  3.10906096,\n         1.88403475],\n       [ 1.85629799,  1.16315081,  1.5040774 ,  0.40546511,  3.0194488 ,\n         1.9095425 ],\n       [ 1.93152141,  1.13140211,  1.58923521,  0.40546511,  3.06292352,\n         1.99470031],\n       [ 1.70474809,  0.83290912,  1.38629436,  0.26236426,  2.53765722,\n         1.64865863],\n       [ 1.87180218,  1.02961942,  1.5260563 ,  0.40546511,  2.90142159,\n         1.93152141],\n       [ 1.74046617,  1.02961942,  1.5040774 ,  0.26236426,  2.77008559,\n         1.76644166],\n       [ 1.84054963,  1.19392247,  1.54756251,  0.47000363,  3.0344721 ,\n         2.01756614],\n       [ 1.58923521,  0.87546874,  1.19392247,  0.        ,  2.46470394,\n         1.19392247],\n       [ 1.88706965,  1.06471074,  1.5260563 ,  0.26236426,  2.95178039,\n         1.78842057],\n       [ 1.64865863,  0.99325177,  1.36097655,  0.33647224,  2.6419104 ,\n         1.69744879],\n       [ 1.60943791,  0.69314718,  1.25276297,  0.        ,  2.30258509,\n         1.25276297],\n       [ 1.77495235,  1.09861229,  1.43508453,  0.40546511,  2.87356464,\n         1.84054963],\n       [ 1.79175947,  0.78845736,  1.38629436,  0.        ,  2.58021683,\n         1.38629436],\n       [ 1.80828877,  1.06471074,  1.54756251,  0.33647224,  2.87299951,\n         1.88403475],\n       [ 1.7227666 ,  1.06471074,  1.28093385,  0.26236426,  2.78747733,\n         1.54329811],\n       [ 1.90210753,  1.13140211,  1.48160454,  0.33647224,  3.03350964,\n         1.81807678],\n       [ 1.7227666 ,  1.09861229,  1.5040774 ,  0.40546511,  2.82137889,\n         1.9095425 ],\n       [ 1.75785792,  0.99325177,  1.41098697,  0.        ,  2.75110969,\n         1.41098697],\n       [ 1.82454929,  0.78845736,  1.5040774 ,  0.40546511,  2.61300665,\n         1.9095425 ],\n       [ 1.7227666 ,  0.91629073,  1.36097655,  0.09531018,  2.63905733,\n         1.45628673],\n       [ 1.77495235,  1.16315081,  1.56861592,  0.58778666,  2.93810316,\n         2.15640258],\n       [ 1.80828877,  1.02961942,  1.38629436,  0.26236426,  2.83790819,\n         1.64865863],\n       [ 1.84054963,  0.91629073,  1.58923521,  0.40546511,  2.75684037,\n         1.99470031],\n       [ 1.80828877,  1.02961942,  1.54756251,  0.18232156,  2.83790819,\n         1.72988407],\n       [ 1.85629799,  1.06471074,  1.45861502,  0.26236426,  2.92100873,\n         1.72097929],\n       [ 1.88706965,  1.09861229,  1.48160454,  0.33647224,  2.98568194,\n         1.81807678],\n       [ 1.91692261,  1.02961942,  1.56861592,  0.33647224,  2.94654203,\n         1.90508815],\n       [ 1.90210753,  1.09861229,  1.60943791,  0.53062825,  3.00071982,\n         2.14006616],\n       [ 1.79175947,  1.06471074,  1.5040774 ,  0.40546511,  2.85647021,\n         1.9095425 ],\n       [ 1.74046617,  0.95551145,  1.25276297,  0.        ,  2.69597762,\n         1.25276297],\n       [ 1.70474809,  0.87546874,  1.33500107,  0.09531018,  2.58021683,\n         1.43031125],\n       [ 1.70474809,  0.87546874,  1.30833282,  0.        ,  2.58021683,\n         1.30833282],\n       [ 1.75785792,  0.99325177,  1.36097655,  0.18232156,  2.75110969,\n         1.54329811],\n       [ 1.79175947,  0.99325177,  1.62924054,  0.47000363,  2.78501124,\n         2.09924417],\n       [ 1.68639895,  1.09861229,  1.5040774 ,  0.40546511,  2.78501124,\n         1.9095425 ],\n       [ 1.79175947,  1.22377543,  1.5040774 ,  0.47000363,  3.0155349 ,\n         1.97408103],\n       [ 1.90210753,  1.13140211,  1.54756251,  0.40546511,  3.03350964,\n         1.95302762],\n       [ 1.84054963,  0.83290912,  1.48160454,  0.26236426,  2.67345876,\n         1.74396881],\n       [ 1.7227666 ,  1.09861229,  1.41098697,  0.26236426,  2.82137889,\n         1.67335124],\n       [ 1.70474809,  0.91629073,  1.38629436,  0.26236426,  2.62103882,\n         1.64865863],\n       [ 1.70474809,  0.95551145,  1.48160454,  0.18232156,  2.66025954,\n         1.6639261 ],\n       [ 1.80828877,  1.09861229,  1.5260563 ,  0.33647224,  2.90690106,\n         1.86252854],\n       [ 1.75785792,  0.95551145,  1.38629436,  0.18232156,  2.71336936,\n         1.56861592],\n       [ 1.60943791,  0.83290912,  1.19392247,  0.        ,  2.44234704,\n         1.19392247],\n       [ 1.7227666 ,  0.99325177,  1.43508453,  0.26236426,  2.71601837,\n         1.69744879],\n       [ 1.74046617,  1.09861229,  1.43508453,  0.18232156,  2.83907846,\n         1.61740608],\n       [ 1.74046617,  1.06471074,  1.43508453,  0.26236426,  2.80517691,\n         1.69744879],\n       [ 1.82454929,  1.06471074,  1.45861502,  0.26236426,  2.88926003,\n         1.72097929],\n       [ 1.62924054,  0.91629073,  1.09861229,  0.09531018,  2.54553127,\n         1.19392247],\n       [ 1.74046617,  1.02961942,  1.41098697,  0.26236426,  2.77008559,\n         1.67335124],\n       [ 1.84054963,  1.19392247,  1.79175947,  0.91629073,  3.0344721 ,\n         2.7080502 ],\n       [ 1.75785792,  0.99325177,  1.62924054,  0.64185389,  2.75110969,\n         2.27109443],\n       [ 1.96009478,  1.09861229,  1.77495235,  0.74193734,  3.05870707,\n         2.5168897 ],\n       [ 1.84054963,  1.06471074,  1.7227666 ,  0.58778666,  2.90526037,\n         2.31055326],\n       [ 1.87180218,  1.09861229,  1.75785792,  0.78845736,  2.97041447,\n         2.54631528],\n       [ 2.02814825,  1.09861229,  1.88706965,  0.74193734,  3.12676054,\n         2.62900699],\n       [ 1.58923521,  0.91629073,  1.5040774 ,  0.53062825,  2.50552594,\n         2.03470565],\n       [ 1.98787435,  1.06471074,  1.84054963,  0.58778666,  3.05258509,\n         2.4283363 ],\n       [ 1.90210753,  0.91629073,  1.75785792,  0.58778666,  2.81839826,\n         2.34564458],\n       [ 1.97408103,  1.28093385,  1.80828877,  0.91629073,  3.25501487,\n         2.7245795 ],\n       [ 1.87180218,  1.16315081,  1.62924054,  0.69314718,  3.03495299,\n         2.32238772],\n       [ 1.85629799,  0.99325177,  1.66770682,  0.64185389,  2.84954976,\n         2.30956071],\n       [ 1.91692261,  1.09861229,  1.70474809,  0.74193734,  3.0155349 ,\n         2.44668544],\n       [ 1.74046617,  0.91629073,  1.60943791,  0.69314718,  2.65675691,\n         2.30258509],\n       [ 1.75785792,  1.02961942,  1.62924054,  0.87546874,  2.78747733,\n         2.50470928],\n       [ 1.85629799,  1.16315081,  1.66770682,  0.83290912,  3.0194488 ,\n         2.50061594],\n       [ 1.87180218,  1.09861229,  1.70474809,  0.58778666,  2.97041447,\n         2.29253476],\n       [ 2.04122033,  1.33500107,  1.90210753,  0.78845736,  3.3762214 ,\n         2.69056489],\n       [ 2.04122033,  0.95551145,  1.93152141,  0.83290912,  2.99673177,\n         2.76443053],\n       [ 1.79175947,  0.78845736,  1.60943791,  0.40546511,  2.58021683,\n         2.01490302],\n       [ 1.93152141,  1.16315081,  1.74046617,  0.83290912,  3.09467222,\n         2.5733753 ],\n       [ 1.7227666 ,  1.02961942,  1.58923521,  0.69314718,  2.75238601,\n         2.28238239],\n       [ 2.04122033,  1.02961942,  1.90210753,  0.69314718,  3.07083975,\n         2.59525471],\n       [ 1.84054963,  0.99325177,  1.58923521,  0.58778666,  2.83380141,\n         2.17702187],\n       [ 1.90210753,  1.19392247,  1.74046617,  0.74193734,  3.09602999,\n         2.48240352],\n       [ 1.97408103,  1.16315081,  1.79175947,  0.58778666,  3.13723184,\n         2.37954613],\n       [ 1.82454929,  1.02961942,  1.56861592,  0.58778666,  2.85416871,\n         2.15640258],\n       [ 1.80828877,  1.09861229,  1.58923521,  0.58778666,  2.90690106,\n         2.17702187],\n       [ 1.85629799,  1.02961942,  1.7227666 ,  0.74193734,  2.88591741,\n         2.46470394],\n       [ 1.97408103,  1.09861229,  1.75785792,  0.47000363,  3.07269331,\n         2.22786155],\n       [ 2.00148   ,  1.02961942,  1.80828877,  0.64185389,  3.03109942,\n         2.45014266],\n       [ 2.06686276,  1.33500107,  1.85629799,  0.69314718,  3.40186383,\n         2.54944517],\n       [ 1.85629799,  1.02961942,  1.7227666 ,  0.78845736,  2.88591741,\n         2.51122396],\n       [ 1.84054963,  1.02961942,  1.62924054,  0.40546511,  2.87016905,\n         2.03470565],\n       [ 1.80828877,  0.95551145,  1.7227666 ,  0.33647224,  2.76380022,\n         2.05923883],\n       [ 2.04122033,  1.09861229,  1.80828877,  0.83290912,  3.13983262,\n         2.64119789],\n       [ 1.84054963,  1.22377543,  1.7227666 ,  0.87546874,  3.06432507,\n         2.59823534],\n       [ 1.85629799,  1.13140211,  1.70474809,  0.58778666,  2.9877001 ,\n         2.29253476],\n       [ 1.79175947,  1.09861229,  1.56861592,  0.58778666,  2.89037176,\n         2.15640258],\n       [ 1.93152141,  1.13140211,  1.68639895,  0.74193734,  3.06292352,\n         2.4283363 ],\n       [ 1.90210753,  1.13140211,  1.7227666 ,  0.87546874,  3.03350964,\n         2.59823534],\n       [ 1.93152141,  1.13140211,  1.62924054,  0.83290912,  3.06292352,\n         2.46214966],\n       [ 1.75785792,  0.99325177,  1.62924054,  0.64185389,  2.75110969,\n         2.27109443],\n       [ 1.91692261,  1.16315081,  1.77495235,  0.83290912,  3.08007342,\n         2.60786147],\n       [ 1.90210753,  1.19392247,  1.74046617,  0.91629073,  3.09602999,\n         2.65675691],\n       [ 1.90210753,  1.09861229,  1.64865863,  0.83290912,  3.00071982,\n         2.48156775],\n       [ 1.84054963,  0.91629073,  1.60943791,  0.64185389,  2.75684037,\n         2.2512918 ],\n       [ 1.87180218,  1.09861229,  1.64865863,  0.69314718,  2.97041447,\n         2.34180581],\n       [ 1.82454929,  1.22377543,  1.68639895,  0.83290912,  3.04832472,\n         2.51930808],\n       [ 1.77495235,  1.09861229,  1.62924054,  0.58778666,  2.87356464,\n         2.2170272 ]])"
     },
     "execution_count": 39,
     "metadata": {},
     "output_type": "execute_result"
    }
   ]
  },
  {
   "cell_type": "code",
   "execution_count": 40,
   "outputs": [],
   "source": [
    "X_train, X_test, y_train, y_test = train_test_split(df_log, y, test_size=0.25)"
   ],
   "metadata": {
    "collapsed": false,
    "ExecuteTime": {
     "start_time": "2023-04-17T15:38:17.241061Z",
     "end_time": "2023-04-17T15:38:17.245966Z"
    }
   }
  },
  {
   "cell_type": "code",
   "execution_count": 41,
   "outputs": [
    {
     "data": {
      "text/plain": "0.9473684210526316"
     },
     "execution_count": 41,
     "metadata": {},
     "output_type": "execute_result"
    }
   ],
   "source": [
    "model.fit(X_train, y_train)\n",
    "result = model.predict(X_test)\n",
    "accuracy(y_test, result)"
   ],
   "metadata": {
    "collapsed": false,
    "ExecuteTime": {
     "start_time": "2023-04-17T15:38:34.828273Z",
     "end_time": "2023-04-17T15:38:34.833103Z"
    }
   }
  },
  {
   "cell_type": "code",
   "execution_count": 42,
   "outputs": [
    {
     "data": {
      "text/plain": "1.0"
     },
     "execution_count": 42,
     "metadata": {},
     "output_type": "execute_result"
    }
   ],
   "source": [
    "accuracy(y_train, model.predict(X_train))"
   ],
   "metadata": {
    "collapsed": false,
    "ExecuteTime": {
     "start_time": "2023-04-17T15:38:48.970726Z",
     "end_time": "2023-04-17T15:38:48.974287Z"
    }
   }
  },
  {
   "cell_type": "markdown",
   "source": [
    "## Creare una nuova colonna che abbia valore 1 se e solo se l'area del petalo e l'area del sepalo hanno entrambe valore superiore a 4 e calcolare l'accuratezza con il classificatore di prima "
   ],
   "metadata": {
    "id": "XwuOD9oFVhts"
   }
  },
  {
   "cell_type": "code",
   "source": [],
   "metadata": {
    "id": "IPxHGM3hix7m",
    "ExecuteTime": {
     "start_time": "2023-04-17T15:43:51.944577Z",
     "end_time": "2023-04-17T15:43:51.947610Z"
    }
   },
   "execution_count": 43,
   "outputs": [
    {
     "data": {
      "text/plain": "0    17.85\n1    14.70\n2    15.04\n3    14.26\n4    18.00\nName: areaSep, dtype: float64"
     },
     "execution_count": 43,
     "metadata": {},
     "output_type": "execute_result"
    }
   ]
  }
 ]
}
