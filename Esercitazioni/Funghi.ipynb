{
 "cells": [
  {
   "cell_type": "markdown",
   "source": [
    "# 1 Scaricare il [dataset](https://archive.ics.uci.edu/ml/datasets/mushroom) e inserirlo nel dataframe"
   ],
   "metadata": {
    "collapsed": false
   }
  },
  {
   "cell_type": "code",
   "execution_count": 1,
   "outputs": [],
   "source": [
    "import pandas as pd"
   ],
   "metadata": {
    "collapsed": false,
    "ExecuteTime": {
     "start_time": "2023-05-21T10:09:39.871681Z",
     "end_time": "2023-05-21T10:09:41.311453Z"
    }
   }
  },
  {
   "cell_type": "code",
   "execution_count": 2,
   "outputs": [
    {
     "data": {
      "text/plain": "['cap-shape',\n 'cap-surface',\n 'cap-color',\n 'bruises?',\n 'odor',\n 'gill-attachment',\n 'gill-spacing',\n 'gill-size',\n 'gill-color',\n 'stalk-shape',\n 'stalk-root',\n 'stalk-surface-above-ring',\n 'stalk-surface-below-ring',\n 'stalk-color-above-ring',\n 'stalk-color-below-ring',\n 'veil-type',\n 'veil-color',\n 'ring-number',\n 'ring-type',\n 'spore-print-color',\n 'population',\n 'habitat']"
     },
     "execution_count": 2,
     "metadata": {},
     "output_type": "execute_result"
    }
   ],
   "source": [
    "column_names = ['cap-shape','cap-surface','cap-color','bruises?','odor','gill-attachment','gill-spacing','gill-size','gill-color','stalk-shape','stalk-root','stalk-surface-above-ring','stalk-surface-below-ring','stalk-color-above-ring','stalk-color-below-ring','veil-type','veil-color','ring-number','ring-type','spore-print-color','population','habitat']\n",
    "column_names"
   ],
   "metadata": {
    "collapsed": false,
    "ExecuteTime": {
     "start_time": "2023-05-21T10:09:50.459442Z",
     "end_time": "2023-05-21T10:09:50.468300Z"
    }
   }
  },
  {
   "cell_type": "code",
   "execution_count": 3,
   "outputs": [
    {
     "data": {
      "text/plain": "      p  x  s  n  t p.1  f  c n.1  k  ... s.2  w w.1 p.2 w.2  o p.3 k.1 s.3  u\n0     e  x  s  y  t   a  f  c   b  k  ...   s  w   w   p   w  o   p   n   n  g\n1     e  b  s  w  t   l  f  c   b  n  ...   s  w   w   p   w  o   p   n   n  m\n2     p  x  y  w  t   p  f  c   n  n  ...   s  w   w   p   w  o   p   k   s  u\n3     e  x  s  g  f   n  f  w   b  k  ...   s  w   w   p   w  o   e   n   a  g\n4     e  x  y  y  t   a  f  c   b  n  ...   s  w   w   p   w  o   p   k   n  g\n...  .. .. .. .. ..  .. .. ..  .. ..  ...  .. ..  ..  ..  .. ..  ..  ..  .. ..\n8118  e  k  s  n  f   n  a  c   b  y  ...   s  o   o   p   o  o   p   b   c  l\n8119  e  x  s  n  f   n  a  c   b  y  ...   s  o   o   p   n  o   p   b   v  l\n8120  e  f  s  n  f   n  a  c   b  n  ...   s  o   o   p   o  o   p   b   c  l\n8121  p  k  y  n  f   y  f  c   n  b  ...   k  w   w   p   w  o   e   w   v  l\n8122  e  x  s  n  f   n  a  c   b  y  ...   s  o   o   p   o  o   p   o   c  l\n\n[8123 rows x 23 columns]",
      "text/html": "<div>\n<style scoped>\n    .dataframe tbody tr th:only-of-type {\n        vertical-align: middle;\n    }\n\n    .dataframe tbody tr th {\n        vertical-align: top;\n    }\n\n    .dataframe thead th {\n        text-align: right;\n    }\n</style>\n<table border=\"1\" class=\"dataframe\">\n  <thead>\n    <tr style=\"text-align: right;\">\n      <th></th>\n      <th>p</th>\n      <th>x</th>\n      <th>s</th>\n      <th>n</th>\n      <th>t</th>\n      <th>p.1</th>\n      <th>f</th>\n      <th>c</th>\n      <th>n.1</th>\n      <th>k</th>\n      <th>...</th>\n      <th>s.2</th>\n      <th>w</th>\n      <th>w.1</th>\n      <th>p.2</th>\n      <th>w.2</th>\n      <th>o</th>\n      <th>p.3</th>\n      <th>k.1</th>\n      <th>s.3</th>\n      <th>u</th>\n    </tr>\n  </thead>\n  <tbody>\n    <tr>\n      <th>0</th>\n      <td>e</td>\n      <td>x</td>\n      <td>s</td>\n      <td>y</td>\n      <td>t</td>\n      <td>a</td>\n      <td>f</td>\n      <td>c</td>\n      <td>b</td>\n      <td>k</td>\n      <td>...</td>\n      <td>s</td>\n      <td>w</td>\n      <td>w</td>\n      <td>p</td>\n      <td>w</td>\n      <td>o</td>\n      <td>p</td>\n      <td>n</td>\n      <td>n</td>\n      <td>g</td>\n    </tr>\n    <tr>\n      <th>1</th>\n      <td>e</td>\n      <td>b</td>\n      <td>s</td>\n      <td>w</td>\n      <td>t</td>\n      <td>l</td>\n      <td>f</td>\n      <td>c</td>\n      <td>b</td>\n      <td>n</td>\n      <td>...</td>\n      <td>s</td>\n      <td>w</td>\n      <td>w</td>\n      <td>p</td>\n      <td>w</td>\n      <td>o</td>\n      <td>p</td>\n      <td>n</td>\n      <td>n</td>\n      <td>m</td>\n    </tr>\n    <tr>\n      <th>2</th>\n      <td>p</td>\n      <td>x</td>\n      <td>y</td>\n      <td>w</td>\n      <td>t</td>\n      <td>p</td>\n      <td>f</td>\n      <td>c</td>\n      <td>n</td>\n      <td>n</td>\n      <td>...</td>\n      <td>s</td>\n      <td>w</td>\n      <td>w</td>\n      <td>p</td>\n      <td>w</td>\n      <td>o</td>\n      <td>p</td>\n      <td>k</td>\n      <td>s</td>\n      <td>u</td>\n    </tr>\n    <tr>\n      <th>3</th>\n      <td>e</td>\n      <td>x</td>\n      <td>s</td>\n      <td>g</td>\n      <td>f</td>\n      <td>n</td>\n      <td>f</td>\n      <td>w</td>\n      <td>b</td>\n      <td>k</td>\n      <td>...</td>\n      <td>s</td>\n      <td>w</td>\n      <td>w</td>\n      <td>p</td>\n      <td>w</td>\n      <td>o</td>\n      <td>e</td>\n      <td>n</td>\n      <td>a</td>\n      <td>g</td>\n    </tr>\n    <tr>\n      <th>4</th>\n      <td>e</td>\n      <td>x</td>\n      <td>y</td>\n      <td>y</td>\n      <td>t</td>\n      <td>a</td>\n      <td>f</td>\n      <td>c</td>\n      <td>b</td>\n      <td>n</td>\n      <td>...</td>\n      <td>s</td>\n      <td>w</td>\n      <td>w</td>\n      <td>p</td>\n      <td>w</td>\n      <td>o</td>\n      <td>p</td>\n      <td>k</td>\n      <td>n</td>\n      <td>g</td>\n    </tr>\n    <tr>\n      <th>...</th>\n      <td>...</td>\n      <td>...</td>\n      <td>...</td>\n      <td>...</td>\n      <td>...</td>\n      <td>...</td>\n      <td>...</td>\n      <td>...</td>\n      <td>...</td>\n      <td>...</td>\n      <td>...</td>\n      <td>...</td>\n      <td>...</td>\n      <td>...</td>\n      <td>...</td>\n      <td>...</td>\n      <td>...</td>\n      <td>...</td>\n      <td>...</td>\n      <td>...</td>\n      <td>...</td>\n    </tr>\n    <tr>\n      <th>8118</th>\n      <td>e</td>\n      <td>k</td>\n      <td>s</td>\n      <td>n</td>\n      <td>f</td>\n      <td>n</td>\n      <td>a</td>\n      <td>c</td>\n      <td>b</td>\n      <td>y</td>\n      <td>...</td>\n      <td>s</td>\n      <td>o</td>\n      <td>o</td>\n      <td>p</td>\n      <td>o</td>\n      <td>o</td>\n      <td>p</td>\n      <td>b</td>\n      <td>c</td>\n      <td>l</td>\n    </tr>\n    <tr>\n      <th>8119</th>\n      <td>e</td>\n      <td>x</td>\n      <td>s</td>\n      <td>n</td>\n      <td>f</td>\n      <td>n</td>\n      <td>a</td>\n      <td>c</td>\n      <td>b</td>\n      <td>y</td>\n      <td>...</td>\n      <td>s</td>\n      <td>o</td>\n      <td>o</td>\n      <td>p</td>\n      <td>n</td>\n      <td>o</td>\n      <td>p</td>\n      <td>b</td>\n      <td>v</td>\n      <td>l</td>\n    </tr>\n    <tr>\n      <th>8120</th>\n      <td>e</td>\n      <td>f</td>\n      <td>s</td>\n      <td>n</td>\n      <td>f</td>\n      <td>n</td>\n      <td>a</td>\n      <td>c</td>\n      <td>b</td>\n      <td>n</td>\n      <td>...</td>\n      <td>s</td>\n      <td>o</td>\n      <td>o</td>\n      <td>p</td>\n      <td>o</td>\n      <td>o</td>\n      <td>p</td>\n      <td>b</td>\n      <td>c</td>\n      <td>l</td>\n    </tr>\n    <tr>\n      <th>8121</th>\n      <td>p</td>\n      <td>k</td>\n      <td>y</td>\n      <td>n</td>\n      <td>f</td>\n      <td>y</td>\n      <td>f</td>\n      <td>c</td>\n      <td>n</td>\n      <td>b</td>\n      <td>...</td>\n      <td>k</td>\n      <td>w</td>\n      <td>w</td>\n      <td>p</td>\n      <td>w</td>\n      <td>o</td>\n      <td>e</td>\n      <td>w</td>\n      <td>v</td>\n      <td>l</td>\n    </tr>\n    <tr>\n      <th>8122</th>\n      <td>e</td>\n      <td>x</td>\n      <td>s</td>\n      <td>n</td>\n      <td>f</td>\n      <td>n</td>\n      <td>a</td>\n      <td>c</td>\n      <td>b</td>\n      <td>y</td>\n      <td>...</td>\n      <td>s</td>\n      <td>o</td>\n      <td>o</td>\n      <td>p</td>\n      <td>o</td>\n      <td>o</td>\n      <td>p</td>\n      <td>o</td>\n      <td>c</td>\n      <td>l</td>\n    </tr>\n  </tbody>\n</table>\n<p>8123 rows × 23 columns</p>\n</div>"
     },
     "execution_count": 3,
     "metadata": {},
     "output_type": "execute_result"
    }
   ],
   "source": [
    "data = pd.read_csv(\"Data/agaricus-lepiota.csv\")\n",
    "data"
   ],
   "metadata": {
    "collapsed": false,
    "ExecuteTime": {
     "start_time": "2023-05-21T10:09:58.588054Z",
     "end_time": "2023-05-21T10:09:58.623688Z"
    }
   }
  },
  {
   "cell_type": "code",
   "execution_count": 4,
   "outputs": [
    {
     "data": {
      "text/plain": "0       e\n1       e\n2       p\n3       e\n4       e\n       ..\n8118    e\n8119    e\n8120    e\n8121    p\n8122    e\nName: p, Length: 8123, dtype: object"
     },
     "execution_count": 4,
     "metadata": {},
     "output_type": "execute_result"
    }
   ],
   "source": [
    "target = data.iloc[:,0] # questa é la colonna del target\n",
    "target"
   ],
   "metadata": {
    "collapsed": false,
    "ExecuteTime": {
     "start_time": "2023-05-21T10:10:04.349448Z",
     "end_time": "2023-05-21T10:10:04.360210Z"
    }
   }
  },
  {
   "cell_type": "code",
   "execution_count": 5,
   "outputs": [
    {
     "data": {
      "text/plain": "     cap-shape cap-surface cap-color bruises? odor gill-attachment  \\\n0            x           s         y        t    a               f   \n1            b           s         w        t    l               f   \n2            x           y         w        t    p               f   \n3            x           s         g        f    n               f   \n4            x           y         y        t    a               f   \n...        ...         ...       ...      ...  ...             ...   \n8118         k           s         n        f    n               a   \n8119         x           s         n        f    n               a   \n8120         f           s         n        f    n               a   \n8121         k           y         n        f    y               f   \n8122         x           s         n        f    n               a   \n\n     gill-spacing gill-size gill-color stalk-shape  ...  \\\n0               c         b          k           e  ...   \n1               c         b          n           e  ...   \n2               c         n          n           e  ...   \n3               w         b          k           t  ...   \n4               c         b          n           e  ...   \n...           ...       ...        ...         ...  ...   \n8118            c         b          y           e  ...   \n8119            c         b          y           e  ...   \n8120            c         b          n           e  ...   \n8121            c         n          b           t  ...   \n8122            c         b          y           e  ...   \n\n     stalk-surface-below-ring stalk-color-above-ring stalk-color-below-ring  \\\n0                           s                      w                      w   \n1                           s                      w                      w   \n2                           s                      w                      w   \n3                           s                      w                      w   \n4                           s                      w                      w   \n...                       ...                    ...                    ...   \n8118                        s                      o                      o   \n8119                        s                      o                      o   \n8120                        s                      o                      o   \n8121                        k                      w                      w   \n8122                        s                      o                      o   \n\n     veil-type veil-color ring-number ring-type spore-print-color population  \\\n0            p          w           o         p                 n          n   \n1            p          w           o         p                 n          n   \n2            p          w           o         p                 k          s   \n3            p          w           o         e                 n          a   \n4            p          w           o         p                 k          n   \n...        ...        ...         ...       ...               ...        ...   \n8118         p          o           o         p                 b          c   \n8119         p          n           o         p                 b          v   \n8120         p          o           o         p                 b          c   \n8121         p          w           o         e                 w          v   \n8122         p          o           o         p                 o          c   \n\n     habitat  \n0          g  \n1          m  \n2          u  \n3          g  \n4          g  \n...      ...  \n8118       l  \n8119       l  \n8120       l  \n8121       l  \n8122       l  \n\n[8123 rows x 22 columns]",
      "text/html": "<div>\n<style scoped>\n    .dataframe tbody tr th:only-of-type {\n        vertical-align: middle;\n    }\n\n    .dataframe tbody tr th {\n        vertical-align: top;\n    }\n\n    .dataframe thead th {\n        text-align: right;\n    }\n</style>\n<table border=\"1\" class=\"dataframe\">\n  <thead>\n    <tr style=\"text-align: right;\">\n      <th></th>\n      <th>cap-shape</th>\n      <th>cap-surface</th>\n      <th>cap-color</th>\n      <th>bruises?</th>\n      <th>odor</th>\n      <th>gill-attachment</th>\n      <th>gill-spacing</th>\n      <th>gill-size</th>\n      <th>gill-color</th>\n      <th>stalk-shape</th>\n      <th>...</th>\n      <th>stalk-surface-below-ring</th>\n      <th>stalk-color-above-ring</th>\n      <th>stalk-color-below-ring</th>\n      <th>veil-type</th>\n      <th>veil-color</th>\n      <th>ring-number</th>\n      <th>ring-type</th>\n      <th>spore-print-color</th>\n      <th>population</th>\n      <th>habitat</th>\n    </tr>\n  </thead>\n  <tbody>\n    <tr>\n      <th>0</th>\n      <td>x</td>\n      <td>s</td>\n      <td>y</td>\n      <td>t</td>\n      <td>a</td>\n      <td>f</td>\n      <td>c</td>\n      <td>b</td>\n      <td>k</td>\n      <td>e</td>\n      <td>...</td>\n      <td>s</td>\n      <td>w</td>\n      <td>w</td>\n      <td>p</td>\n      <td>w</td>\n      <td>o</td>\n      <td>p</td>\n      <td>n</td>\n      <td>n</td>\n      <td>g</td>\n    </tr>\n    <tr>\n      <th>1</th>\n      <td>b</td>\n      <td>s</td>\n      <td>w</td>\n      <td>t</td>\n      <td>l</td>\n      <td>f</td>\n      <td>c</td>\n      <td>b</td>\n      <td>n</td>\n      <td>e</td>\n      <td>...</td>\n      <td>s</td>\n      <td>w</td>\n      <td>w</td>\n      <td>p</td>\n      <td>w</td>\n      <td>o</td>\n      <td>p</td>\n      <td>n</td>\n      <td>n</td>\n      <td>m</td>\n    </tr>\n    <tr>\n      <th>2</th>\n      <td>x</td>\n      <td>y</td>\n      <td>w</td>\n      <td>t</td>\n      <td>p</td>\n      <td>f</td>\n      <td>c</td>\n      <td>n</td>\n      <td>n</td>\n      <td>e</td>\n      <td>...</td>\n      <td>s</td>\n      <td>w</td>\n      <td>w</td>\n      <td>p</td>\n      <td>w</td>\n      <td>o</td>\n      <td>p</td>\n      <td>k</td>\n      <td>s</td>\n      <td>u</td>\n    </tr>\n    <tr>\n      <th>3</th>\n      <td>x</td>\n      <td>s</td>\n      <td>g</td>\n      <td>f</td>\n      <td>n</td>\n      <td>f</td>\n      <td>w</td>\n      <td>b</td>\n      <td>k</td>\n      <td>t</td>\n      <td>...</td>\n      <td>s</td>\n      <td>w</td>\n      <td>w</td>\n      <td>p</td>\n      <td>w</td>\n      <td>o</td>\n      <td>e</td>\n      <td>n</td>\n      <td>a</td>\n      <td>g</td>\n    </tr>\n    <tr>\n      <th>4</th>\n      <td>x</td>\n      <td>y</td>\n      <td>y</td>\n      <td>t</td>\n      <td>a</td>\n      <td>f</td>\n      <td>c</td>\n      <td>b</td>\n      <td>n</td>\n      <td>e</td>\n      <td>...</td>\n      <td>s</td>\n      <td>w</td>\n      <td>w</td>\n      <td>p</td>\n      <td>w</td>\n      <td>o</td>\n      <td>p</td>\n      <td>k</td>\n      <td>n</td>\n      <td>g</td>\n    </tr>\n    <tr>\n      <th>...</th>\n      <td>...</td>\n      <td>...</td>\n      <td>...</td>\n      <td>...</td>\n      <td>...</td>\n      <td>...</td>\n      <td>...</td>\n      <td>...</td>\n      <td>...</td>\n      <td>...</td>\n      <td>...</td>\n      <td>...</td>\n      <td>...</td>\n      <td>...</td>\n      <td>...</td>\n      <td>...</td>\n      <td>...</td>\n      <td>...</td>\n      <td>...</td>\n      <td>...</td>\n      <td>...</td>\n    </tr>\n    <tr>\n      <th>8118</th>\n      <td>k</td>\n      <td>s</td>\n      <td>n</td>\n      <td>f</td>\n      <td>n</td>\n      <td>a</td>\n      <td>c</td>\n      <td>b</td>\n      <td>y</td>\n      <td>e</td>\n      <td>...</td>\n      <td>s</td>\n      <td>o</td>\n      <td>o</td>\n      <td>p</td>\n      <td>o</td>\n      <td>o</td>\n      <td>p</td>\n      <td>b</td>\n      <td>c</td>\n      <td>l</td>\n    </tr>\n    <tr>\n      <th>8119</th>\n      <td>x</td>\n      <td>s</td>\n      <td>n</td>\n      <td>f</td>\n      <td>n</td>\n      <td>a</td>\n      <td>c</td>\n      <td>b</td>\n      <td>y</td>\n      <td>e</td>\n      <td>...</td>\n      <td>s</td>\n      <td>o</td>\n      <td>o</td>\n      <td>p</td>\n      <td>n</td>\n      <td>o</td>\n      <td>p</td>\n      <td>b</td>\n      <td>v</td>\n      <td>l</td>\n    </tr>\n    <tr>\n      <th>8120</th>\n      <td>f</td>\n      <td>s</td>\n      <td>n</td>\n      <td>f</td>\n      <td>n</td>\n      <td>a</td>\n      <td>c</td>\n      <td>b</td>\n      <td>n</td>\n      <td>e</td>\n      <td>...</td>\n      <td>s</td>\n      <td>o</td>\n      <td>o</td>\n      <td>p</td>\n      <td>o</td>\n      <td>o</td>\n      <td>p</td>\n      <td>b</td>\n      <td>c</td>\n      <td>l</td>\n    </tr>\n    <tr>\n      <th>8121</th>\n      <td>k</td>\n      <td>y</td>\n      <td>n</td>\n      <td>f</td>\n      <td>y</td>\n      <td>f</td>\n      <td>c</td>\n      <td>n</td>\n      <td>b</td>\n      <td>t</td>\n      <td>...</td>\n      <td>k</td>\n      <td>w</td>\n      <td>w</td>\n      <td>p</td>\n      <td>w</td>\n      <td>o</td>\n      <td>e</td>\n      <td>w</td>\n      <td>v</td>\n      <td>l</td>\n    </tr>\n    <tr>\n      <th>8122</th>\n      <td>x</td>\n      <td>s</td>\n      <td>n</td>\n      <td>f</td>\n      <td>n</td>\n      <td>a</td>\n      <td>c</td>\n      <td>b</td>\n      <td>y</td>\n      <td>e</td>\n      <td>...</td>\n      <td>s</td>\n      <td>o</td>\n      <td>o</td>\n      <td>p</td>\n      <td>o</td>\n      <td>o</td>\n      <td>p</td>\n      <td>o</td>\n      <td>c</td>\n      <td>l</td>\n    </tr>\n  </tbody>\n</table>\n<p>8123 rows × 22 columns</p>\n</div>"
     },
     "execution_count": 5,
     "metadata": {},
     "output_type": "execute_result"
    }
   ],
   "source": [
    "mushroom = data.drop(data.columns[0],axis=1)\n",
    "\n",
    "mushroom.columns = column_names\n",
    "mushroom"
   ],
   "metadata": {
    "collapsed": false,
    "ExecuteTime": {
     "start_time": "2023-05-21T10:10:15.013673Z",
     "end_time": "2023-05-21T10:10:15.036884Z"
    }
   }
  },
  {
   "cell_type": "markdown",
   "source": [
    "# 2 Trasformare i valori degli attributi in numeri\n",
    "Sarà necessario usare il OneHotEncoder"
   ],
   "metadata": {
    "collapsed": false
   }
  },
  {
   "cell_type": "code",
   "execution_count": 6,
   "outputs": [
    {
     "data": {
      "text/plain": "OneHotEncoder(sparse=False)"
     },
     "execution_count": 6,
     "metadata": {},
     "output_type": "execute_result"
    }
   ],
   "source": [
    "from sklearn.preprocessing import OneHotEncoder\n",
    "enc = OneHotEncoder(sparse=False)\n",
    "enc"
   ],
   "metadata": {
    "collapsed": false,
    "ExecuteTime": {
     "start_time": "2023-05-21T10:20:40.338059Z",
     "end_time": "2023-05-21T10:20:42.011250Z"
    }
   }
  },
  {
   "cell_type": "code",
   "execution_count": 7,
   "outputs": [],
   "source": [
    "X = enc.fit_transform(mushroom)"
   ],
   "metadata": {
    "collapsed": false,
    "ExecuteTime": {
     "start_time": "2023-05-21T10:20:44.748152Z",
     "end_time": "2023-05-21T10:20:44.787470Z"
    }
   }
  },
  {
   "cell_type": "code",
   "execution_count": 8,
   "outputs": [
    {
     "data": {
      "text/plain": "array([[0., 0., 0., ..., 0., 0., 0.],\n       [1., 0., 0., ..., 0., 0., 0.],\n       [0., 0., 0., ..., 0., 1., 0.],\n       ...,\n       [0., 0., 1., ..., 0., 0., 0.],\n       [0., 0., 0., ..., 0., 0., 0.],\n       [0., 0., 0., ..., 0., 0., 0.]])"
     },
     "execution_count": 8,
     "metadata": {},
     "output_type": "execute_result"
    }
   ],
   "source": [
    "X"
   ],
   "metadata": {
    "collapsed": false,
    "ExecuteTime": {
     "start_time": "2023-05-21T10:20:45.596526Z",
     "end_time": "2023-05-21T10:20:45.599942Z"
    }
   }
  },
  {
   "cell_type": "markdown",
   "source": [
    "# 3 Calcolare l'accuratezza(5 folder cross validation) del dataset ottenuto nel predire se un fungo é velenoso con 3 classificatori\n",
    "\n",
    "I 3 classificatori che utilizzo sono:\n",
    "- Random Forest\n",
    "- SVC\n",
    "- KNN\n"
   ],
   "metadata": {
    "collapsed": false
   }
  },
  {
   "cell_type": "code",
   "execution_count": 13,
   "outputs": [
    {
     "name": "stdout",
     "output_type": "stream",
     "text": [
      "scores of Random Forest :\n",
      "[0.86584615 1.         0.99876923 1.         0.79064039]\n",
      "scores of KNN :\n",
      "[0.85292308 1.         0.99569231 1.         0.72475369]\n",
      "scores of SVC :\n",
      "[0.88246154 1.         0.99569231 1.         0.57327586]\n"
     ]
    }
   ],
   "source": [
    "from sklearn.ensemble import  RandomForestClassifier\n",
    "from sklearn.neighbors import  KNeighborsClassifier\n",
    "from sklearn.svm import SVC\n",
    "from sklearn.model_selection import cross_validate\n",
    "# i modelli:\n",
    "classifiers = [RandomForestClassifier(n_estimators=20),\n",
    "               KNeighborsClassifier(weights=\"distance\"),\n",
    "               SVC(kernel='linear',C=0.1)]\n",
    "\n",
    "names = ['Random Forest','KNN','SVC']\n",
    "\n",
    "# le metriche:\n",
    "scoring = ['precision_macro','recall_macro','accuracy']\n",
    "\n",
    "for name,model in zip(names,classifiers):\n",
    "    scoring_model = cross_validate(model, X, target, scoring=scoring, cv=5)\n",
    "    print('scores of '+ name +' :' )\n",
    "    print(scoring_model['test_accuracy'])"
   ],
   "metadata": {
    "collapsed": false,
    "ExecuteTime": {
     "start_time": "2023-05-21T10:25:39.380994Z",
     "end_time": "2023-05-21T10:25:41.114396Z"
    }
   }
  },
  {
   "cell_type": "code",
   "execution_count": 14,
   "outputs": [],
   "source": [
    "import matplotlib.pyplot as plt\n",
    "# fig, ax = plt.subplots(1, 1)\n",
    "# ax.plot(score_knn['test_accuracy'], 'r', label='knn')\n",
    "# ax.plot(score_rdm['test_accuracy'], 'b', label='Random Forest ')\n",
    "# ax.plot(score_supv['test_accuracy'], 'k', label='svc')\n",
    "#\n",
    "#\n",
    "# # Set Legend\n",
    "# ax.legend(loc='best')\n",
    "#\n",
    "# # Set Title\n",
    "# ax.set_title('Overview')\n",
    "#\n",
    "# # Set X and Y axis label\n",
    "# ax.set_xlabel('k folder')\n",
    "# ax.set_ylabel('Accuratezza')"
   ],
   "metadata": {
    "collapsed": false,
    "ExecuteTime": {
     "start_time": "2023-05-21T10:31:01.736517Z",
     "end_time": "2023-05-21T10:31:02.348928Z"
    }
   }
  },
  {
   "cell_type": "markdown",
   "source": [
    "# 4/5 Utilizzare solo gli attributi del dataset che riguardano il colore ( chiamare il nuovo dataset mushroom_color) e verificare se l'accuratezza cambia\n",
    "\n"
   ],
   "metadata": {
    "collapsed": false
   }
  },
  {
   "cell_type": "code",
   "execution_count": 24,
   "outputs": [
    {
     "data": {
      "text/plain": "['cap-color',\n 'gill-color',\n 'stalk-color-above-ring',\n 'stalk-color-below-ring',\n 'veil-color',\n 'spore-print-color']"
     },
     "execution_count": 24,
     "metadata": {},
     "output_type": "execute_result"
    }
   ],
   "source": [
    "colori =  [name for name in column_names if 'color' in name ]\n",
    "colori"
   ],
   "metadata": {
    "collapsed": false,
    "ExecuteTime": {
     "start_time": "2023-05-21T11:14:46.090800Z",
     "end_time": "2023-05-21T11:14:46.094428Z"
    }
   }
  },
  {
   "cell_type": "code",
   "execution_count": 25,
   "outputs": [],
   "source": [
    "mushroom_color = mushroom.loc[:,colori]"
   ],
   "metadata": {
    "collapsed": false,
    "ExecuteTime": {
     "start_time": "2023-05-21T11:14:59.822194Z",
     "end_time": "2023-05-21T11:14:59.826565Z"
    }
   }
  },
  {
   "cell_type": "code",
   "execution_count": 26,
   "outputs": [
    {
     "data": {
      "text/plain": "     cap-color gill-color stalk-color-above-ring stalk-color-below-ring  \\\n0            y          k                      w                      w   \n1            w          n                      w                      w   \n2            w          n                      w                      w   \n3            g          k                      w                      w   \n4            y          n                      w                      w   \n...        ...        ...                    ...                    ...   \n8118         n          y                      o                      o   \n8119         n          y                      o                      o   \n8120         n          n                      o                      o   \n8121         n          b                      w                      w   \n8122         n          y                      o                      o   \n\n     veil-color spore-print-color  \n0             w                 n  \n1             w                 n  \n2             w                 k  \n3             w                 n  \n4             w                 k  \n...         ...               ...  \n8118          o                 b  \n8119          n                 b  \n8120          o                 b  \n8121          w                 w  \n8122          o                 o  \n\n[8123 rows x 6 columns]",
      "text/html": "<div>\n<style scoped>\n    .dataframe tbody tr th:only-of-type {\n        vertical-align: middle;\n    }\n\n    .dataframe tbody tr th {\n        vertical-align: top;\n    }\n\n    .dataframe thead th {\n        text-align: right;\n    }\n</style>\n<table border=\"1\" class=\"dataframe\">\n  <thead>\n    <tr style=\"text-align: right;\">\n      <th></th>\n      <th>cap-color</th>\n      <th>gill-color</th>\n      <th>stalk-color-above-ring</th>\n      <th>stalk-color-below-ring</th>\n      <th>veil-color</th>\n      <th>spore-print-color</th>\n    </tr>\n  </thead>\n  <tbody>\n    <tr>\n      <th>0</th>\n      <td>y</td>\n      <td>k</td>\n      <td>w</td>\n      <td>w</td>\n      <td>w</td>\n      <td>n</td>\n    </tr>\n    <tr>\n      <th>1</th>\n      <td>w</td>\n      <td>n</td>\n      <td>w</td>\n      <td>w</td>\n      <td>w</td>\n      <td>n</td>\n    </tr>\n    <tr>\n      <th>2</th>\n      <td>w</td>\n      <td>n</td>\n      <td>w</td>\n      <td>w</td>\n      <td>w</td>\n      <td>k</td>\n    </tr>\n    <tr>\n      <th>3</th>\n      <td>g</td>\n      <td>k</td>\n      <td>w</td>\n      <td>w</td>\n      <td>w</td>\n      <td>n</td>\n    </tr>\n    <tr>\n      <th>4</th>\n      <td>y</td>\n      <td>n</td>\n      <td>w</td>\n      <td>w</td>\n      <td>w</td>\n      <td>k</td>\n    </tr>\n    <tr>\n      <th>...</th>\n      <td>...</td>\n      <td>...</td>\n      <td>...</td>\n      <td>...</td>\n      <td>...</td>\n      <td>...</td>\n    </tr>\n    <tr>\n      <th>8118</th>\n      <td>n</td>\n      <td>y</td>\n      <td>o</td>\n      <td>o</td>\n      <td>o</td>\n      <td>b</td>\n    </tr>\n    <tr>\n      <th>8119</th>\n      <td>n</td>\n      <td>y</td>\n      <td>o</td>\n      <td>o</td>\n      <td>n</td>\n      <td>b</td>\n    </tr>\n    <tr>\n      <th>8120</th>\n      <td>n</td>\n      <td>n</td>\n      <td>o</td>\n      <td>o</td>\n      <td>o</td>\n      <td>b</td>\n    </tr>\n    <tr>\n      <th>8121</th>\n      <td>n</td>\n      <td>b</td>\n      <td>w</td>\n      <td>w</td>\n      <td>w</td>\n      <td>w</td>\n    </tr>\n    <tr>\n      <th>8122</th>\n      <td>n</td>\n      <td>y</td>\n      <td>o</td>\n      <td>o</td>\n      <td>o</td>\n      <td>o</td>\n    </tr>\n  </tbody>\n</table>\n<p>8123 rows × 6 columns</p>\n</div>"
     },
     "execution_count": 26,
     "metadata": {},
     "output_type": "execute_result"
    }
   ],
   "source": [
    "mushroom_color"
   ],
   "metadata": {
    "collapsed": false,
    "ExecuteTime": {
     "start_time": "2023-05-21T11:15:01.539299Z",
     "end_time": "2023-05-21T11:15:01.543348Z"
    }
   }
  },
  {
   "cell_type": "code",
   "execution_count": 18,
   "outputs": [
    {
     "name": "stdout",
     "output_type": "stream",
     "text": [
      "scores of Random Forest :\n",
      "[0.75261538 0.95876923 0.94953846 0.99568966 0.66933498]\n",
      "scores of KNN :\n",
      "[0.752      0.91261538 0.95876923 0.9932266  0.61699507]\n",
      "scores of SVC :\n",
      "[0.73415385 0.99015385 0.97907692 1.         0.52894089]\n"
     ]
    }
   ],
   "source": [
    "from sklearn.pipeline import Pipeline\n",
    "\n",
    "classifiers = [RandomForestClassifier(n_estimators=20),\n",
    "               KNeighborsClassifier(weights=\"distance\"),\n",
    "               SVC(kernel='linear',C=0.1)]\n",
    "\n",
    "names = ['Random Forest','KNN','SVC']\n",
    "\n",
    "enc = OneHotEncoder(sparse=False)\n",
    "mushroom_color_trasform = enc.fit_transform(mushroom_color)\n",
    "\n",
    "for name,model in zip(names,classifiers):\n",
    "    scoring_model = cross_validate(model, mushroom_color_trasform, target, scoring=scoring, cv=5)\n",
    "    print('scores of '+ name +' :' )\n",
    "    print(scoring_model['test_accuracy'])"
   ],
   "metadata": {
    "collapsed": false,
    "ExecuteTime": {
     "start_time": "2023-05-21T10:33:16.628536Z",
     "end_time": "2023-05-21T10:33:19.270084Z"
    }
   }
  },
  {
   "cell_type": "markdown",
   "source": [
    "# 6 Aggiungere un attributo a mushrooom_color del punto 4 del dataset originale in modo da aumentare l’accuratezza\n",
    "Aggiungere una colonna"
   ],
   "metadata": {
    "collapsed": false
   }
  },
  {
   "cell_type": "code",
   "execution_count": 44,
   "outputs": [
    {
     "data": {
      "text/plain": "     cap-color gill-color stalk-color-above-ring stalk-color-below-ring  \\\n0            y          k                      w                      w   \n1            w          n                      w                      w   \n2            w          n                      w                      w   \n3            g          k                      w                      w   \n4            y          n                      w                      w   \n...        ...        ...                    ...                    ...   \n8118         n          y                      o                      o   \n8119         n          y                      o                      o   \n8120         n          n                      o                      o   \n8121         n          b                      w                      w   \n8122         n          y                      o                      o   \n\n     veil-color spore-print-color  \n0             w                 n  \n1             w                 n  \n2             w                 k  \n3             w                 n  \n4             w                 k  \n...         ...               ...  \n8118          o                 b  \n8119          n                 b  \n8120          o                 b  \n8121          w                 w  \n8122          o                 o  \n\n[8123 rows x 6 columns]",
      "text/html": "<div>\n<style scoped>\n    .dataframe tbody tr th:only-of-type {\n        vertical-align: middle;\n    }\n\n    .dataframe tbody tr th {\n        vertical-align: top;\n    }\n\n    .dataframe thead th {\n        text-align: right;\n    }\n</style>\n<table border=\"1\" class=\"dataframe\">\n  <thead>\n    <tr style=\"text-align: right;\">\n      <th></th>\n      <th>cap-color</th>\n      <th>gill-color</th>\n      <th>stalk-color-above-ring</th>\n      <th>stalk-color-below-ring</th>\n      <th>veil-color</th>\n      <th>spore-print-color</th>\n    </tr>\n  </thead>\n  <tbody>\n    <tr>\n      <th>0</th>\n      <td>y</td>\n      <td>k</td>\n      <td>w</td>\n      <td>w</td>\n      <td>w</td>\n      <td>n</td>\n    </tr>\n    <tr>\n      <th>1</th>\n      <td>w</td>\n      <td>n</td>\n      <td>w</td>\n      <td>w</td>\n      <td>w</td>\n      <td>n</td>\n    </tr>\n    <tr>\n      <th>2</th>\n      <td>w</td>\n      <td>n</td>\n      <td>w</td>\n      <td>w</td>\n      <td>w</td>\n      <td>k</td>\n    </tr>\n    <tr>\n      <th>3</th>\n      <td>g</td>\n      <td>k</td>\n      <td>w</td>\n      <td>w</td>\n      <td>w</td>\n      <td>n</td>\n    </tr>\n    <tr>\n      <th>4</th>\n      <td>y</td>\n      <td>n</td>\n      <td>w</td>\n      <td>w</td>\n      <td>w</td>\n      <td>k</td>\n    </tr>\n    <tr>\n      <th>...</th>\n      <td>...</td>\n      <td>...</td>\n      <td>...</td>\n      <td>...</td>\n      <td>...</td>\n      <td>...</td>\n    </tr>\n    <tr>\n      <th>8118</th>\n      <td>n</td>\n      <td>y</td>\n      <td>o</td>\n      <td>o</td>\n      <td>o</td>\n      <td>b</td>\n    </tr>\n    <tr>\n      <th>8119</th>\n      <td>n</td>\n      <td>y</td>\n      <td>o</td>\n      <td>o</td>\n      <td>n</td>\n      <td>b</td>\n    </tr>\n    <tr>\n      <th>8120</th>\n      <td>n</td>\n      <td>n</td>\n      <td>o</td>\n      <td>o</td>\n      <td>o</td>\n      <td>b</td>\n    </tr>\n    <tr>\n      <th>8121</th>\n      <td>n</td>\n      <td>b</td>\n      <td>w</td>\n      <td>w</td>\n      <td>w</td>\n      <td>w</td>\n    </tr>\n    <tr>\n      <th>8122</th>\n      <td>n</td>\n      <td>y</td>\n      <td>o</td>\n      <td>o</td>\n      <td>o</td>\n      <td>o</td>\n    </tr>\n  </tbody>\n</table>\n<p>8123 rows × 6 columns</p>\n</div>"
     },
     "execution_count": 44,
     "metadata": {},
     "output_type": "execute_result"
    }
   ],
   "source": [
    "mushroom_color"
   ],
   "metadata": {
    "collapsed": false,
    "ExecuteTime": {
     "start_time": "2023-05-21T11:35:42.787655Z",
     "end_time": "2023-05-21T11:35:42.795101Z"
    }
   }
  },
  {
   "cell_type": "code",
   "execution_count": 42,
   "outputs": [
    {
     "data": {
      "text/plain": "['cap-shape',\n 'cap-surface',\n 'bruises?',\n 'odor',\n 'gill-attachment',\n 'gill-spacing',\n 'gill-size',\n 'stalk-shape',\n 'stalk-root',\n 'stalk-surface-above-ring',\n 'stalk-surface-below-ring',\n 'veil-type',\n 'ring-number',\n 'ring-type',\n 'population',\n 'habitat']"
     },
     "execution_count": 42,
     "metadata": {},
     "output_type": "execute_result"
    }
   ],
   "source": [
    "nomi = [name for name in column_names if 'color' not in name]\n",
    "nomi"
   ],
   "metadata": {
    "collapsed": false,
    "ExecuteTime": {
     "start_time": "2023-05-21T11:34:28.283933Z",
     "end_time": "2023-05-21T11:34:28.289399Z"
    }
   }
  },
  {
   "cell_type": "code",
   "execution_count": 43,
   "outputs": [
    {
     "data": {
      "text/plain": "['population', 'gill-spacing', 'ring-number']"
     },
     "execution_count": 43,
     "metadata": {},
     "output_type": "execute_result"
    }
   ],
   "source": [
    "import numpy as np\n",
    "# estraggo 3 attributi random dalla lista di nomi\n",
    "random_index = np.random.randint(0,len(nomi),size=3)\n",
    "attributes = [nomi[i] for i in random_index]\n",
    "attributes"
   ],
   "metadata": {
    "collapsed": false,
    "ExecuteTime": {
     "start_time": "2023-05-21T11:35:15.343617Z",
     "end_time": "2023-05-21T11:35:15.346533Z"
    }
   }
  },
  {
   "cell_type": "code",
   "execution_count": 50,
   "outputs": [
    {
     "name": "stdout",
     "output_type": "stream",
     "text": [
      "result of the model with the attribute: population\n",
      "scores of Random Forest:\n",
      "[0.75815385 0.95138462 0.96307692 0.99014778 0.65640394]\n",
      "scores of KNN:\n",
      "[0.75815385 0.93107692 0.95507692 0.9864532  0.68349754]\n",
      "scores of SVC:\n",
      "[0.73415385 0.99015385 0.97907692 1.         0.52894089]\n",
      "result of the model with the attribute: gill-spacing\n",
      "scores of Random Forest:\n",
      "[0.76307692 0.97723077 0.97292308 0.99753695 0.71059113]\n",
      "scores of KNN:\n",
      "[0.77292308 0.94215385 0.94584615 0.99507389 0.64162562]\n",
      "scores of SVC:\n",
      "[0.73415385 0.99015385 0.97907692 1.         0.52894089]\n",
      "result of the model with the attribute: ring-number\n",
      "scores of Random Forest:\n",
      "[0.75692308 0.95876923 0.95876923 0.99568966 0.63300493]\n",
      "scores of KNN:\n",
      "[0.74707692 0.94276923 0.96246154 0.99261084 0.66995074]\n",
      "scores of SVC:\n",
      "[0.73415385 0.99015385 0.95323077 1.         0.61761084]\n"
     ]
    }
   ],
   "source": [
    "for attribute in attributes:\n",
    "    # aggiungo la colonna\n",
    "    mushroom_changed = mushroom_color.join(mushroom.loc[:,attribute])\n",
    "\n",
    "    enc = OneHotEncoder(sparse=False)\n",
    "    mushroom_changed_trasform = enc.fit_transform(mushroom_changed)\n",
    "\n",
    "    print('result of the model with the attribute:',attribute)\n",
    "    for name,model in zip(names,classifiers):\n",
    "        scoring_model = cross_validate(model, mushroom_changed_trasform, target, scoring=scoring, cv=5)\n",
    "        print('scores of '+ name +':' )\n",
    "        print(scoring_model['test_accuracy'])"
   ],
   "metadata": {
    "collapsed": false,
    "ExecuteTime": {
     "start_time": "2023-05-21T11:49:36.719091Z",
     "end_time": "2023-05-21T11:49:44.804351Z"
    }
   }
  },
  {
   "cell_type": "markdown",
   "source": [
    "# 7 Usare un algoritmo di regressione per calcolare il valore di edibile. Usare un train/test del 30%. Arrotondare all’intero più vicino. Cambia il risultato?"
   ],
   "metadata": {
    "collapsed": false
   }
  },
  {
   "cell_type": "code",
   "execution_count": 51,
   "outputs": [
    {
     "ename": "ValueError",
     "evalue": "could not convert string to float: 'p'",
     "output_type": "error",
     "traceback": [
      "\u001B[0;31m---------------------------------------------------------------------------\u001B[0m",
      "\u001B[0;31mValueError\u001B[0m                                Traceback (most recent call last)",
      "\u001B[0;32m/var/folders/zk/y_05r4dd4q51x5hx9n0nwwk80000gn/T/ipykernel_1677/3028831426.py\u001B[0m in \u001B[0;36m<module>\u001B[0;34m\u001B[0m\n\u001B[1;32m      7\u001B[0m \u001B[0mmodel\u001B[0m \u001B[0;34m=\u001B[0m \u001B[0mRandomForestRegressor\u001B[0m\u001B[0;34m(\u001B[0m\u001B[0mn_estimators\u001B[0m\u001B[0;34m=\u001B[0m\u001B[0;36m20\u001B[0m\u001B[0;34m,\u001B[0m\u001B[0mrandom_state\u001B[0m\u001B[0;34m=\u001B[0m\u001B[0;36m0\u001B[0m\u001B[0;34m)\u001B[0m\u001B[0;34m\u001B[0m\u001B[0;34m\u001B[0m\u001B[0m\n\u001B[1;32m      8\u001B[0m \u001B[0;34m\u001B[0m\u001B[0m\n\u001B[0;32m----> 9\u001B[0;31m \u001B[0mmodel\u001B[0m\u001B[0;34m.\u001B[0m\u001B[0mfit\u001B[0m\u001B[0;34m(\u001B[0m\u001B[0mX_train\u001B[0m\u001B[0;34m,\u001B[0m\u001B[0my_train\u001B[0m\u001B[0;34m)\u001B[0m\u001B[0;34m\u001B[0m\u001B[0;34m\u001B[0m\u001B[0m\n\u001B[0m\u001B[1;32m     10\u001B[0m \u001B[0mpred\u001B[0m \u001B[0;34m=\u001B[0m \u001B[0mmodel\u001B[0m\u001B[0;34m.\u001B[0m\u001B[0mpredict\u001B[0m\u001B[0;34m(\u001B[0m\u001B[0mX_test\u001B[0m\u001B[0;34m)\u001B[0m\u001B[0;34m\u001B[0m\u001B[0;34m\u001B[0m\u001B[0m\n\u001B[1;32m     11\u001B[0m \u001B[0;34m\u001B[0m\u001B[0m\n",
      "\u001B[0;32m/opt/anaconda3/lib/python3.9/site-packages/sklearn/ensemble/_forest.py\u001B[0m in \u001B[0;36mfit\u001B[0;34m(self, X, y, sample_weight)\u001B[0m\n\u001B[1;32m    368\u001B[0m \u001B[0;34m\u001B[0m\u001B[0m\n\u001B[1;32m    369\u001B[0m         \u001B[0;32mif\u001B[0m \u001B[0mgetattr\u001B[0m\u001B[0;34m(\u001B[0m\u001B[0my\u001B[0m\u001B[0;34m,\u001B[0m \u001B[0;34m\"dtype\"\u001B[0m\u001B[0;34m,\u001B[0m \u001B[0;32mNone\u001B[0m\u001B[0;34m)\u001B[0m \u001B[0;34m!=\u001B[0m \u001B[0mDOUBLE\u001B[0m \u001B[0;32mor\u001B[0m \u001B[0;32mnot\u001B[0m \u001B[0my\u001B[0m\u001B[0;34m.\u001B[0m\u001B[0mflags\u001B[0m\u001B[0;34m.\u001B[0m\u001B[0mcontiguous\u001B[0m\u001B[0;34m:\u001B[0m\u001B[0;34m\u001B[0m\u001B[0;34m\u001B[0m\u001B[0m\n\u001B[0;32m--> 370\u001B[0;31m             \u001B[0my\u001B[0m \u001B[0;34m=\u001B[0m \u001B[0mnp\u001B[0m\u001B[0;34m.\u001B[0m\u001B[0mascontiguousarray\u001B[0m\u001B[0;34m(\u001B[0m\u001B[0my\u001B[0m\u001B[0;34m,\u001B[0m \u001B[0mdtype\u001B[0m\u001B[0;34m=\u001B[0m\u001B[0mDOUBLE\u001B[0m\u001B[0;34m)\u001B[0m\u001B[0;34m\u001B[0m\u001B[0;34m\u001B[0m\u001B[0m\n\u001B[0m\u001B[1;32m    371\u001B[0m \u001B[0;34m\u001B[0m\u001B[0m\n\u001B[1;32m    372\u001B[0m         \u001B[0;32mif\u001B[0m \u001B[0mexpanded_class_weight\u001B[0m \u001B[0;32mis\u001B[0m \u001B[0;32mnot\u001B[0m \u001B[0;32mNone\u001B[0m\u001B[0;34m:\u001B[0m\u001B[0;34m\u001B[0m\u001B[0;34m\u001B[0m\u001B[0m\n",
      "\u001B[0;31mValueError\u001B[0m: could not convert string to float: 'p'"
     ]
    }
   ],
   "source": [
    "from sklearn.model_selection import train_test_split\n",
    "from sklearn.ensemble import RandomForestRegressor\n",
    "from sklearn.metrics import mean_absolute_error\n",
    "\n",
    "\n",
    "X_train, X_test, y_train, y_test = train_test_split(X,target, test_size=0.3,\n",
    "                                                    random_state=0)\n",
    "model = RandomForestRegressor(n_estimators=20,random_state=0)\n",
    "\n",
    "model.fit(X_train,y_train)\n",
    "pred = model.predict(X_test)\n",
    "\n",
    "# valutiamo\n",
    "score = mean_absolute_error(y_test,pred)\n",
    "print(\"MAE:\",score)"
   ],
   "metadata": {
    "collapsed": false
   }
  },
  {
   "cell_type": "code",
   "execution_count": null,
   "outputs": [],
   "source": [],
   "metadata": {
    "collapsed": false
   }
  }
 ],
 "metadata": {
  "kernelspec": {
   "display_name": "Python 3",
   "language": "python",
   "name": "python3"
  },
  "language_info": {
   "codemirror_mode": {
    "name": "ipython",
    "version": 2
   },
   "file_extension": ".py",
   "mimetype": "text/x-python",
   "name": "python",
   "nbconvert_exporter": "python",
   "pygments_lexer": "ipython2",
   "version": "2.7.6"
  }
 },
 "nbformat": 4,
 "nbformat_minor": 0
}
