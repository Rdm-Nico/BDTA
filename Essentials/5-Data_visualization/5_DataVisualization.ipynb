{
 "nbformat": 4,
 "nbformat_minor": 0,
 "metadata": {
  "kernelspec": {
   "display_name": "Python 3",
   "language": "python",
   "name": "python3"
  },
  "language_info": {
   "codemirror_mode": {
    "name": "ipython",
    "version": 3
   },
   "file_extension": ".py",
   "mimetype": "text/x-python",
   "name": "python",
   "nbconvert_exporter": "python",
   "pygments_lexer": "ipython3",
   "version": "3.6.8"
  },
  "colab": {
   "provenance": []
  }
 },
 "cells": [
  {
   "cell_type": "markdown",
   "metadata": {
    "id": "iBpGjXlP1ySS"
   },
   "source": [
    "## 1. Matplotlib\n",
    "Matplotlib is a very powerful plotting library useful for those working with Python and NumPy. The most used module of Matplotib is Pyplot which provides an interface like MATLAB but instead, it uses Python and it is open source.\n",
    "\n"
   ]
  },
  {
   "cell_type": "markdown",
   "metadata": {
    "id": "IClOQtVD2pIv"
   },
   "source": [
    "### 1.1 General Concepts\n",
    "A Matplotlib figure can be categorized into several parts as below:\n",
    "\n",
    "- Figure: It is a whole figure which may contain one or more than one axes (plots). You can think of a Figure as a canvas which contains plots.\n",
    "- Axes: It is what we generally think of as a plot. A Figure can contain many Axes. It contains two or three (in the case of 3D) Axis objects. Each Axes has a title, an x-label and a y-label.\n",
    "- Axis: They are the number line like objects and take care of generating the graph limits.\n",
    "- Artist: Everything which one can see on the figure is an artist like Text objects, Line2D objects, collection objects. Most Artists are tied to Axes.\n",
    "    \n",
    "<table><tr><td><img src=\"https://drive.google.com/uc?id=1AbPZr0j68vzL1x-diLypGigGqEIpkaJA\"></td><td><img src=\"https://drive.google.com/uc?id=1AarySpTcDCcDbzdIRct280Qr_SEF_ozz\"></td></tr></table>\n",
    "    \n",
    "Pyplot is a module of Matplotlib which provides simple functions to add plot elements like lines, images, text, etc. to the current axes in the current figure."
   ]
  },
  {
   "cell_type": "code",
   "metadata": {
    "id": "bKwqf3l51yST",
    "executionInfo": {
     "status": "ok",
     "timestamp": 1679841452201,
     "user_tz": -120,
     "elapsed": 8,
     "user": {
      "displayName": "Francesco GUERRA",
      "userId": "03589851697809460716"
     }
    }
   },
   "source": [
    "%matplotlib inline\n",
    "import matplotlib.pyplot as plt"
   ],
   "execution_count": 1,
   "outputs": []
  },
  {
   "cell_type": "code",
   "metadata": {
    "id": "XMQ3smj81ySX",
    "colab": {
     "base_uri": "https://localhost:8080/"
    },
    "executionInfo": {
     "status": "ok",
     "timestamp": 1679841452201,
     "user_tz": -120,
     "elapsed": 7,
     "user": {
      "displayName": "Francesco GUERRA",
      "userId": "03589851697809460716"
     }
    },
    "outputId": "3f3383b6-0f99-40ab-a670-02934b60855d"
   },
   "source": [
    "import numpy as np\n",
    "data = np.arange(10)\n",
    "print(data)\n"
   ],
   "execution_count": 2,
   "outputs": [
    {
     "output_type": "stream",
     "name": "stdout",
     "text": [
      "[0 1 2 3 4 5 6 7 8 9]\n"
     ]
    }
   ]
  },
  {
   "cell_type": "code",
   "metadata": {
    "id": "vggJS5jg14J2",
    "colab": {
     "base_uri": "https://localhost:8080/",
     "height": 282
    },
    "executionInfo": {
     "status": "ok",
     "timestamp": 1679841452801,
     "user_tz": -120,
     "elapsed": 606,
     "user": {
      "displayName": "Francesco GUERRA",
      "userId": "03589851697809460716"
     }
    },
    "outputId": "fc5bee52-2e7c-4cec-e12f-6b0e49d80dea"
   },
   "source": [
    "plt.plot(data)"
   ],
   "execution_count": 3,
   "outputs": [
    {
     "output_type": "execute_result",
     "data": {
      "text/plain": [
       "[<matplotlib.lines.Line2D at 0x7fe8fc3e4790>]"
      ]
     },
     "metadata": {},
     "execution_count": 3
    },
    {
     "output_type": "display_data",
     "data": {
      "text/plain": [
       "<Figure size 432x288 with 1 Axes>"
      ],
      "image/png": "[encoded data removed]"
     },
     "metadata": {
      "needs_background": "light"
     }
    }
   ]
  },
  {
   "cell_type": "code",
   "metadata": {
    "id": "4sD09VcG1ySb",
    "colab": {
     "base_uri": "https://localhost:8080/",
     "height": 282
    },
    "executionInfo": {
     "status": "ok",
     "timestamp": 1679841453546,
     "user_tz": -120,
     "elapsed": 748,
     "user": {
      "displayName": "Francesco GUERRA",
      "userId": "03589851697809460716"
     }
    },
    "outputId": "3145b92f-7f3c-48a0-b531-2ec89ffcbf98"
   },
   "source": [
    "plt.plot([1,2,3,4], [1,4,9,16])"
   ],
   "execution_count": 4,
   "outputs": [
    {
     "output_type": "execute_result",
     "data": {
      "text/plain": [
       "[<matplotlib.lines.Line2D at 0x7fe8fc2e4a90>]"
      ]
     },
     "metadata": {},
     "execution_count": 4
    },
    {
     "output_type": "display_data",
     "data": {
      "text/plain": [
       "<Figure size 432x288 with 1 Axes>"
      ],
      "image/png": "[encoded data removed]"
     },
     "metadata": {
      "needs_background": "light"
     }
    }
   ]
  },
  {
   "cell_type": "markdown",
   "metadata": {
    "id": "emDGFPyj1ySe"
   },
   "source": [
    "Plots in matplotlib reside within a Figure object. You can create a new figure with plt.figure. Using the method figure() it is possible to set the size of the figure (i.e., using the figsize argument)."
   ]
  },
  {
   "cell_type": "code",
   "metadata": {
    "id": "JlS9PYd11ySe",
    "colab": {
     "base_uri": "https://localhost:8080/",
     "height": 282
    },
    "executionInfo": {
     "status": "ok",
     "timestamp": 1679841462260,
     "user_tz": -120,
     "elapsed": 831,
     "user": {
      "displayName": "Francesco GUERRA",
      "userId": "03589851697809460716"
     }
    },
    "outputId": "91584f0f-d6c2-4997-c379-5eea073d716b"
   },
   "source": [
    "plt.figure(figsize=(10,4))\n",
    "plt.plot([1,2,3,4], [1,4,9,16])"
   ],
   "execution_count": 5,
   "outputs": [
    {
     "output_type": "execute_result",
     "data": {
      "text/plain": [
       "[<matplotlib.lines.Line2D at 0x7fe8fc27e430>]"
      ]
     },
     "metadata": {},
     "execution_count": 5
    },
    {
     "output_type": "display_data",
     "data": {
      "text/plain": [
       "<Figure size 720x288 with 1 Axes>"
      ],
      "image/png": "[encoded data removed]"
     },
     "metadata": {
      "needs_background": "light"
     }
    }
   ]
  },
  {
   "cell_type": "markdown",
   "metadata": {
    "id": "mJ2mh7BA1ySh"
   },
   "source": [
    "With every X and Y argument, you can also pass an optional third argument in the form of a string which indicates the colour and line type of the plot. The default format is b- which means a solid blue line. In the figure below we use go which means green circles. Likewise, we can make many such combinations to format our plot."
   ]
  },
  {
   "cell_type": "code",
   "metadata": {
    "id": "2V7Xrigb1ySi",
    "colab": {
     "base_uri": "https://localhost:8080/",
     "height": 337
    },
    "executionInfo": {
     "status": "ok",
     "timestamp": 1679841540003,
     "user_tz": -120,
     "elapsed": 700,
     "user": {
      "displayName": "Francesco GUERRA",
      "userId": "03589851697809460716"
     }
    },
    "outputId": "6db3c8c9-b85d-4179-b1e9-2724c941b235"
   },
   "source": [
    "plt.figure(figsize=(10,5))\n",
    "\n",
    "plt.plot([1,2,3,4], [1,4,9,16], '-|k')"
   ],
   "execution_count": 10,
   "outputs": [
    {
     "output_type": "execute_result",
     "data": {
      "text/plain": [
       "[<matplotlib.lines.Line2D at 0x7fe8e462d670>]"
      ]
     },
     "metadata": {},
     "execution_count": 10
    },
    {
     "output_type": "display_data",
     "data": {
      "text/plain": [
       "<Figure size 720x360 with 1 Axes>"
      ],
      "image/png": "[encoded data removed]"
     },
     "metadata": {
      "needs_background": "light"
     }
    }
   ]
  },
  {
   "cell_type": "markdown",
   "metadata": {
    "id": "958vtxZG1ySk"
   },
   "source": [
    "We can also plot multiple sets of data by passing in multiple sets of arguments of X and Y axis in the plot() method as shown.\n",
    "\n",
    "https://matplotlib.org/2.1.1/api/_as_gen/matplotlib.pyplot.plot.html\n"
   ]
  },
  {
   "cell_type": "code",
   "metadata": {
    "id": "ZEZmZDoFIzhw",
    "colab": {
     "base_uri": "https://localhost:8080/"
    },
    "executionInfo": {
     "status": "ok",
     "timestamp": 1679841551889,
     "user_tz": -120,
     "elapsed": 252,
     "user": {
      "displayName": "Francesco GUERRA",
      "userId": "03589851697809460716"
     }
    },
    "outputId": "589f6bf1-b761-4e1f-f9bc-972a520f1ac4"
   },
   "source": [
    "x = np.arange(1,5)\n",
    "x**3"
   ],
   "execution_count": 11,
   "outputs": [
    {
     "output_type": "execute_result",
     "data": {
      "text/plain": [
       "array([ 1,  8, 27, 64])"
      ]
     },
     "metadata": {},
     "execution_count": 11
    }
   ]
  },
  {
   "cell_type": "code",
   "metadata": {
    "id": "PQkUheiq1ySl",
    "colab": {
     "base_uri": "https://localhost:8080/",
     "height": 372
    },
    "executionInfo": {
     "status": "ok",
     "timestamp": 1679841697796,
     "user_tz": -120,
     "elapsed": 6,
     "user": {
      "displayName": "Francesco GUERRA",
      "userId": "03589851697809460716"
     }
    },
    "outputId": "93e23fc0-1927-44a2-ae8a-b2223a7e3c07"
   },
   "source": [
    "x = np.arange(1,5)\n",
    "y = x**3\n",
    "plt.figure(figsize=(10,5))\n",
    "plt.plot([1,2,3,4], [1,4,9,16], 'g--', x, y, 'y-.', [1,2,3,4], [1,5,11,19], 'r--')"
   ],
   "execution_count": 13,
   "outputs": [
    {
     "output_type": "execute_result",
     "data": {
      "text/plain": [
       "[<matplotlib.lines.Line2D at 0x7fe8e4482070>,\n",
       " <matplotlib.lines.Line2D at 0x7fe8e4482040>,\n",
       " <matplotlib.lines.Line2D at 0x7fe8e4482220>]"
      ]
     },
     "metadata": {},
     "execution_count": 13
    },
    {
     "output_type": "display_data",
     "data": {
      "text/plain": [
       "<Figure size 720x360 with 1 Axes>"
      ],
      "image/png": "[encoded data removed]"
     },
     "metadata": {
      "needs_background": "light"
     }
    }
   ]
  },
  {
   "cell_type": "markdown",
   "metadata": {
    "id": "ye544tHM1ySn"
   },
   "source": [
    "### 1.2 Multiple plots in one figure\n",
    "We can use subplot() method to add more than one plots in one figure. The subplot() method takes three arguments: they are nrows, ncols and index. They indicate the number of rows, number of columns and the index number of the sub-plot. "
   ]
  },
  {
   "cell_type": "code",
   "metadata": {
    "id": "DSqvdjd51ySo",
    "colab": {
     "base_uri": "https://localhost:8080/",
     "height": 398
    },
    "executionInfo": {
     "status": "error",
     "timestamp": 1679841760369,
     "user_tz": -120,
     "elapsed": 319,
     "user": {
      "displayName": "Francesco GUERRA",
      "userId": "03589851697809460716"
     }
    },
    "outputId": "0f2156fe-6511-459f-d21a-bd953c56979f"
   },
   "source": [
    "plt.subplot(3,2,1)\n",
    "plt.plot([1,2,3,4], [1,4,9,16], 'go')\n",
    "\n",
    "plt.subplot(3,2,6)\n",
    "plt.plot(x, y, 'r^')"
   ],
   "execution_count": 17,
   "outputs": [
    {
     "output_type": "error",
     "ename": "ValueError",
     "evalue": "ignored",
     "traceback": [
      "\u001B[0;31m---------------------------------------------------------------------------\u001B[0m",
      "\u001B[0;31mValueError\u001B[0m                                Traceback (most recent call last)",
      "\u001B[0;32m<ipython-input-17-811b072d3aaf>\u001B[0m in \u001B[0;36m<module>\u001B[0;34m\u001B[0m\n\u001B[0;32m----> 1\u001B[0;31m \u001B[0mplt\u001B[0m\u001B[0;34m.\u001B[0m\u001B[0msubplot\u001B[0m\u001B[0;34m(\u001B[0m\u001B[0;36m3\u001B[0m\u001B[0;34m,\u001B[0m\u001B[0;36m2\u001B[0m\u001B[0;34m,\u001B[0m\u001B[0;36m0\u001B[0m\u001B[0;34m)\u001B[0m\u001B[0;34m\u001B[0m\u001B[0;34m\u001B[0m\u001B[0m\n\u001B[0m\u001B[1;32m      2\u001B[0m \u001B[0mplt\u001B[0m\u001B[0;34m.\u001B[0m\u001B[0mplot\u001B[0m\u001B[0;34m(\u001B[0m\u001B[0;34m[\u001B[0m\u001B[0;36m1\u001B[0m\u001B[0;34m,\u001B[0m\u001B[0;36m2\u001B[0m\u001B[0;34m,\u001B[0m\u001B[0;36m3\u001B[0m\u001B[0;34m,\u001B[0m\u001B[0;36m4\u001B[0m\u001B[0;34m]\u001B[0m\u001B[0;34m,\u001B[0m \u001B[0;34m[\u001B[0m\u001B[0;36m1\u001B[0m\u001B[0;34m,\u001B[0m\u001B[0;36m4\u001B[0m\u001B[0;34m,\u001B[0m\u001B[0;36m9\u001B[0m\u001B[0;34m,\u001B[0m\u001B[0;36m16\u001B[0m\u001B[0;34m]\u001B[0m\u001B[0;34m,\u001B[0m \u001B[0;34m'go'\u001B[0m\u001B[0;34m)\u001B[0m\u001B[0;34m\u001B[0m\u001B[0;34m\u001B[0m\u001B[0m\n\u001B[1;32m      3\u001B[0m \u001B[0;34m\u001B[0m\u001B[0m\n\u001B[1;32m      4\u001B[0m \u001B[0mplt\u001B[0m\u001B[0;34m.\u001B[0m\u001B[0msubplot\u001B[0m\u001B[0;34m(\u001B[0m\u001B[0;36m3\u001B[0m\u001B[0;34m,\u001B[0m\u001B[0;36m2\u001B[0m\u001B[0;34m,\u001B[0m\u001B[0;36m3\u001B[0m\u001B[0;34m)\u001B[0m\u001B[0;34m\u001B[0m\u001B[0;34m\u001B[0m\u001B[0m\n\u001B[1;32m      5\u001B[0m \u001B[0mplt\u001B[0m\u001B[0;34m.\u001B[0m\u001B[0mplot\u001B[0m\u001B[0;34m(\u001B[0m\u001B[0mx\u001B[0m\u001B[0;34m,\u001B[0m \u001B[0my\u001B[0m\u001B[0;34m,\u001B[0m \u001B[0;34m'r^'\u001B[0m\u001B[0;34m)\u001B[0m\u001B[0;34m\u001B[0m\u001B[0;34m\u001B[0m\u001B[0m\n",
      "\u001B[0;32m/usr/local/lib/python3.9/dist-packages/matplotlib/pyplot.py\u001B[0m in \u001B[0;36msubplot\u001B[0;34m(*args, **kwargs)\u001B[0m\n\u001B[1;32m   1321\u001B[0m \u001B[0;34m\u001B[0m\u001B[0m\n\u001B[1;32m   1322\u001B[0m     \u001B[0;31m# First, search for an existing subplot with a matching spec.\u001B[0m\u001B[0;34m\u001B[0m\u001B[0;34m\u001B[0m\u001B[0m\n\u001B[0;32m-> 1323\u001B[0;31m     \u001B[0mkey\u001B[0m \u001B[0;34m=\u001B[0m \u001B[0mSubplotSpec\u001B[0m\u001B[0;34m.\u001B[0m\u001B[0m_from_subplot_args\u001B[0m\u001B[0;34m(\u001B[0m\u001B[0mfig\u001B[0m\u001B[0;34m,\u001B[0m \u001B[0margs\u001B[0m\u001B[0;34m)\u001B[0m\u001B[0;34m\u001B[0m\u001B[0;34m\u001B[0m\u001B[0m\n\u001B[0m\u001B[1;32m   1324\u001B[0m \u001B[0;34m\u001B[0m\u001B[0m\n\u001B[1;32m   1325\u001B[0m     \u001B[0;32mfor\u001B[0m \u001B[0max\u001B[0m \u001B[0;32min\u001B[0m \u001B[0mfig\u001B[0m\u001B[0;34m.\u001B[0m\u001B[0maxes\u001B[0m\u001B[0;34m:\u001B[0m\u001B[0;34m\u001B[0m\u001B[0;34m\u001B[0m\u001B[0m\n",
      "\u001B[0;32m/usr/local/lib/python3.9/dist-packages/matplotlib/gridspec.py\u001B[0m in \u001B[0;36m_from_subplot_args\u001B[0;34m(figure, args)\u001B[0m\n\u001B[1;32m    596\u001B[0m         \u001B[0;32melse\u001B[0m\u001B[0;34m:\u001B[0m\u001B[0;34m\u001B[0m\u001B[0;34m\u001B[0m\u001B[0m\n\u001B[1;32m    597\u001B[0m             \u001B[0;32mif\u001B[0m \u001B[0;32mnot\u001B[0m \u001B[0misinstance\u001B[0m\u001B[0;34m(\u001B[0m\u001B[0mnum\u001B[0m\u001B[0;34m,\u001B[0m \u001B[0mIntegral\u001B[0m\u001B[0;34m)\u001B[0m \u001B[0;32mor\u001B[0m \u001B[0mnum\u001B[0m \u001B[0;34m<\u001B[0m \u001B[0;36m1\u001B[0m \u001B[0;32mor\u001B[0m \u001B[0mnum\u001B[0m \u001B[0;34m>\u001B[0m \u001B[0mrows\u001B[0m\u001B[0;34m*\u001B[0m\u001B[0mcols\u001B[0m\u001B[0;34m:\u001B[0m\u001B[0;34m\u001B[0m\u001B[0;34m\u001B[0m\u001B[0m\n\u001B[0;32m--> 598\u001B[0;31m                 raise ValueError(\n\u001B[0m\u001B[1;32m    599\u001B[0m                     \u001B[0;34mf\"num must be an integer with 1 <= num <= {rows*cols}, \"\u001B[0m\u001B[0;34m\u001B[0m\u001B[0;34m\u001B[0m\u001B[0m\n\u001B[1;32m    600\u001B[0m                     \u001B[0;34mf\"not {num!r}\"\u001B[0m\u001B[0;34m\u001B[0m\u001B[0;34m\u001B[0m\u001B[0m\n",
      "\u001B[0;31mValueError\u001B[0m: num must be an integer with 1 <= num <= 6, not 0"
     ]
    },
    {
     "output_type": "display_data",
     "data": {
      "text/plain": [
       "<Figure size 432x288 with 0 Axes>"
      ]
     },
     "metadata": {}
    }
   ]
  },
  {
   "cell_type": "code",
   "metadata": {
    "id": "FeqcsZlD1ySq",
    "colab": {
     "base_uri": "https://localhost:8080/",
     "height": 282
    },
    "executionInfo": {
     "status": "ok",
     "timestamp": 1679841775489,
     "user_tz": -120,
     "elapsed": 720,
     "user": {
      "displayName": "Francesco GUERRA",
      "userId": "03589851697809460716"
     }
    },
    "outputId": "96d0845e-6fe0-4fb1-e896-8302513fb1eb"
   },
   "source": [
    "plt.subplot(2,1,1)\n",
    "plt.plot([1,2,3,4], [1,4,9,16], 'go')\n",
    "\n",
    "plt.subplot(2,1,2)\n",
    "plt.plot(x, y, 'r^')"
   ],
   "execution_count": 18,
   "outputs": [
    {
     "output_type": "execute_result",
     "data": {
      "text/plain": [
       "[<matplotlib.lines.Line2D at 0x7fe8fc10b190>]"
      ]
     },
     "metadata": {},
     "execution_count": 18
    },
    {
     "output_type": "display_data",
     "data": {
      "text/plain": [
       "<Figure size 432x288 with 2 Axes>"
      ],
      "image/png": "[encoded data removed]"
     },
     "metadata": {
      "needs_background": "light"
     }
    }
   ]
  },
  {
   "cell_type": "markdown",
   "metadata": {
    "id": "syCQy9oN1ySt"
   },
   "source": [
    "The above way of creating subplots becomes a bit tedious when we want many subplots in our figure. A more convenient way is to use subpltots() method. This method takes two arguments as number of rows and number of columns respectively. This method creates two objects:figure and axes which can be used to change the figure and axes level attributes respectively."
   ]
  },
  {
   "cell_type": "code",
   "metadata": {
    "id": "7LJZ-nFy1ySu",
    "colab": {
     "base_uri": "https://localhost:8080/",
     "height": 337
    },
    "executionInfo": {
     "status": "ok",
     "timestamp": 1635151635041,
     "user_tz": -120,
     "elapsed": 660,
     "user": {
      "displayName": "Francesco GUERRA",
      "photoUrl": "https://lh3.googleusercontent.com/a-/AOh14Gj54LW1VQb8d_pLRjRGNzSfR2PyDbQA_Six3Lic=s64",
      "userId": "03589851697809460716"
     }
    },
    "outputId": "5cabfd49-9692-43bb-fb74-f80fafa0ecda"
   },
   "source": [
    "fig, axes = plt.subplots(nrows=1, ncols=2, figsize=(10,5))\n",
    "axes[0].plot([1,2,3,4], [1,4,9,16], 'go')\n",
    "axes[1].plot(x, y, 'r^')"
   ],
   "execution_count": null,
   "outputs": [
    {
     "output_type": "execute_result",
     "data": {
      "text/plain": [
       "[<matplotlib.lines.Line2D at 0x7f4e74a9b0d0>]"
      ]
     },
     "metadata": {},
     "execution_count": 14
    },
    {
     "output_type": "display_data",
     "data": {
      "image/png": "[encoded data removed]",
      "text/plain": [
       "<Figure size 720x360 with 2 Axes>"
      ]
     },
     "metadata": {
      "needs_background": "light"
     }
    }
   ]
  },
  {
   "cell_type": "code",
   "metadata": {
    "id": "zbZRyjlE1ySw",
    "colab": {
     "base_uri": "https://localhost:8080/",
     "height": 282
    },
    "executionInfo": {
     "status": "ok",
     "timestamp": 1635151675810,
     "user_tz": -120,
     "elapsed": 450,
     "user": {
      "displayName": "Francesco GUERRA",
      "photoUrl": "https://lh3.googleusercontent.com/a-/AOh14Gj54LW1VQb8d_pLRjRGNzSfR2PyDbQA_Six3Lic=s64",
      "userId": "03589851697809460716"
     }
    },
    "outputId": "0061ea1d-5b58-483b-8ecf-f068434c1a0c"
   },
   "source": [
    "# sampling 50 points from a standard normal distribution (i.e. mean = 0 and standard deviation = 1) and summing up them\n",
    "plt.plot(np.random.randn(50).cumsum(), 'k--')"
   ],
   "execution_count": null,
   "outputs": [
    {
     "output_type": "execute_result",
     "data": {
      "text/plain": [
       "[<matplotlib.lines.Line2D at 0x7f4e74ea5990>]"
      ]
     },
     "metadata": {},
     "execution_count": 15
    },
    {
     "output_type": "display_data",
     "data": {
      "image/png": "[encoded data removed]",
      "text/plain": [
       "<Figure size 432x288 with 1 Axes>"
      ]
     },
     "metadata": {
      "needs_background": "light"
     }
    }
   ]
  },
  {
   "cell_type": "code",
   "metadata": {
    "id": "-kXtYe9D1ySz",
    "colab": {
     "base_uri": "https://localhost:8080/",
     "height": 265
    },
    "executionInfo": {
     "status": "ok",
     "timestamp": 1635151676451,
     "user_tz": -120,
     "elapsed": 322,
     "user": {
      "displayName": "Francesco GUERRA",
      "photoUrl": "https://lh3.googleusercontent.com/a-/AOh14Gj54LW1VQb8d_pLRjRGNzSfR2PyDbQA_Six3Lic=s64",
      "userId": "03589851697809460716"
     }
    },
    "outputId": "63f57be9-c603-41ef-a3ab-fa3c978b4d6f"
   },
   "source": [
    "fig, axes = plt.subplots(2, 2)\n",
    "for i in range(2):\n",
    "    for j in range(2):\n",
    "        axes[i, j].plot(np.random.randn(50).cumsum(), 'k--')"
   ],
   "execution_count": null,
   "outputs": [
    {
     "output_type": "display_data",
     "data": {
      "image/png": "[encoded data removed]",
      "text/plain": [
       "<Figure size 432x288 with 4 Axes>"
      ]
     },
     "metadata": {
      "needs_background": "light"
     }
    }
   ]
  },
  {
   "cell_type": "code",
   "metadata": {
    "id": "xdUGCpva1yS2",
    "colab": {
     "base_uri": "https://localhost:8080/",
     "height": 312
    },
    "executionInfo": {
     "status": "ok",
     "timestamp": 1679842731040,
     "user_tz": -120,
     "elapsed": 7,
     "user": {
      "displayName": "Francesco GUERRA",
      "userId": "03589851697809460716"
     }
    },
    "outputId": "1fe9b533-ab20-4ac9-af7a-858af5c1cca6"
   },
   "source": [
    "# Axis level\n",
    "# fig = plt.figure(); \n",
    "# ax = fig.add_subplot(1, 1, 1)\n",
    "fig, ax = plt.subplots(1, 1)\n",
    "ax.plot(np.random.randn(1000).cumsum(), 'r', label='one')\n",
    "ax.plot(np.random.randn(1000).cumsum(), 'b', label='two')\n",
    "ax.plot(np.random.randn(1000).cumsum(), 'k', label='three')\n",
    "\n",
    "\n",
    "# Set Legend\n",
    "ax.legend(loc='center left')\n",
    "\n",
    "# Set Title\n",
    "ax.set_title('My first matplotlib plot')\n",
    "\n",
    "# Set X and Y axis label\n",
    "ax.set_xlabel('X-axis')\n",
    "ax.set_ylabel('Y-axis')"
   ],
   "execution_count": 19,
   "outputs": [
    {
     "output_type": "execute_result",
     "data": {
      "text/plain": [
       "Text(0, 0.5, 'Y-axis')"
      ]
     },
     "metadata": {},
     "execution_count": 19
    },
    {
     "output_type": "display_data",
     "data": {
      "text/plain": [
       "<Figure size 432x288 with 1 Axes>"
      ],
      "image/png": "[encoded data removed]"
     },
     "metadata": {
      "needs_background": "light"
     }
    }
   ]
  },
  {
   "cell_type": "code",
   "metadata": {
    "id": "CvHgGfTU1yS5",
    "colab": {
     "base_uri": "https://localhost:8080/",
     "height": 312
    },
    "executionInfo": {
     "status": "ok",
     "timestamp": 1679842752974,
     "user_tz": -120,
     "elapsed": 1242,
     "user": {
      "displayName": "Francesco GUERRA",
      "userId": "03589851697809460716"
     }
    },
    "outputId": "7d6324e6-b630-4668-d91a-1c874bcd9619"
   },
   "source": [
    "# Plot Level\n",
    "plt.plot(np.random.randn(1000).cumsum(), 'r', label='one')\n",
    "plt.plot(np.random.randn(1000).cumsum(), 'b', label='two')\n",
    "plt.plot(np.random.randn(1000).cumsum(), 'k', label='three')\n",
    "\n",
    "plt.legend(loc='best')\n",
    "plt.title('My first matplotlib plot')\n",
    "plt.xlabel('X-axis')\n",
    "plt.ylabel('Y-axis')"
   ],
   "execution_count": 20,
   "outputs": [
    {
     "output_type": "execute_result",
     "data": {
      "text/plain": [
       "Text(0, 0.5, 'Y-axis')"
      ]
     },
     "metadata": {},
     "execution_count": 20
    },
    {
     "output_type": "display_data",
     "data": {
      "text/plain": [
       "<Figure size 432x288 with 1 Axes>"
      ],
      "image/png": "[encoded data removed]"
     },
     "metadata": {
      "needs_background": "light"
     }
    }
   ]
  },
  {
   "cell_type": "markdown",
   "metadata": {
    "id": "izXJWMNA1yS7"
   },
   "source": [
    "Pyplot provides an interface that allows you to implicitly and automatically create figures and axes to achieve the desired plot. This is especially handy when you want to quickly plot something without instantiating any Figures or Axes. In the previous plot you haven’t explicitly specified these components, yet you manage to output a plot that you have even customized! The defaults are initialized and any customizations that you do, will be done with the current Figure and Axes in mind."
   ]
  },
  {
   "cell_type": "markdown",
   "metadata": {
    "id": "OVyrVsnf1yS8"
   },
   "source": [
    "### 1.3 Different types of graphs"
   ]
  },
  {
   "cell_type": "markdown",
   "metadata": {
    "id": "Etpj_xBn1yS8"
   },
   "source": [
    "#### 1.3.1 Bar graphs\n",
    "Bar graphs are one of the most common types of graphs and are used to show data associated with the categorical variables."
   ]
  },
  {
   "cell_type": "code",
   "metadata": {
    "id": "hkpZoYjxLWH2",
    "colab": {
     "base_uri": "https://localhost:8080/"
    },
    "executionInfo": {
     "status": "ok",
     "timestamp": 1635151694791,
     "user_tz": -120,
     "elapsed": 242,
     "user": {
      "displayName": "Francesco GUERRA",
      "photoUrl": "https://lh3.googleusercontent.com/a-/AOh14Gj54LW1VQb8d_pLRjRGNzSfR2PyDbQA_Six3Lic=s64",
      "userId": "03589851697809460716"
     }
    },
    "outputId": "15c5fb62-70f8-46a1-882b-14af821970f8"
   },
   "source": [
    "list('abcdefghijklmnop')"
   ],
   "execution_count": null,
   "outputs": [
    {
     "output_type": "execute_result",
     "data": {
      "text/plain": [
       "['a',\n",
       " 'b',\n",
       " 'c',\n",
       " 'd',\n",
       " 'e',\n",
       " 'f',\n",
       " 'g',\n",
       " 'h',\n",
       " 'i',\n",
       " 'j',\n",
       " 'k',\n",
       " 'l',\n",
       " 'm',\n",
       " 'n',\n",
       " 'o',\n",
       " 'p']"
      ]
     },
     "metadata": {},
     "execution_count": 17
    }
   ]
  },
  {
   "cell_type": "code",
   "metadata": {
    "id": "xHZ8tSwC1yS8",
    "colab": {
     "base_uri": "https://localhost:8080/",
     "height": 282
    },
    "executionInfo": {
     "status": "ok",
     "timestamp": 1679842763458,
     "user_tz": -120,
     "elapsed": 598,
     "user": {
      "displayName": "Francesco GUERRA",
      "userId": "03589851697809460716"
     }
    },
    "outputId": "1995af2d-61bd-42da-c609-180f967c2917"
   },
   "source": [
    "data = np.random.rand(16)\n",
    "labels=list('abcdefghijklmnop')\n",
    "plt.bar(labels, data)"
   ],
   "execution_count": 21,
   "outputs": [
    {
     "output_type": "execute_result",
     "data": {
      "text/plain": [
       "<BarContainer object of 16 artists>"
      ]
     },
     "metadata": {},
     "execution_count": 21
    },
    {
     "output_type": "display_data",
     "data": {
      "text/plain": [
       "<Figure size 432x288 with 1 Axes>"
      ],
      "image/png": "[encoded data removed]"
     },
     "metadata": {
      "needs_background": "light"
     }
    }
   ]
  },
  {
   "cell_type": "code",
   "metadata": {
    "id": "PFDVnHQt1yS-",
    "colab": {
     "base_uri": "https://localhost:8080/",
     "height": 282
    },
    "executionInfo": {
     "status": "ok",
     "timestamp": 1635151706512,
     "user_tz": -120,
     "elapsed": 666,
     "user": {
      "displayName": "Francesco GUERRA",
      "photoUrl": "https://lh3.googleusercontent.com/a-/AOh14Gj54LW1VQb8d_pLRjRGNzSfR2PyDbQA_Six3Lic=s64",
      "userId": "03589851697809460716"
     }
    },
    "outputId": "8fb6d8ae-0441-45de-e3a3-9a2614ffa890"
   },
   "source": [
    "data = np.random.rand(16)\n",
    "variance = np.random.rand(16) / 30\n",
    "labels=list('abcdefghijklmnop')\n",
    "plt.bar(labels, data, yerr=variance)"
   ],
   "execution_count": null,
   "outputs": [
    {
     "output_type": "execute_result",
     "data": {
      "text/plain": [
       "<BarContainer object of 16 artists>"
      ]
     },
     "metadata": {},
     "execution_count": 19
    },
    {
     "output_type": "display_data",
     "data": {
      "image/png": "[encoded data removed]",
      "text/plain": [
       "<Figure size 432x288 with 1 Axes>"
      ]
     },
     "metadata": {
      "needs_background": "light"
     }
    }
   ]
  },
  {
   "cell_type": "code",
   "metadata": {
    "id": "qm80fosy1yTB",
    "colab": {
     "base_uri": "https://localhost:8080/",
     "height": 282
    },
    "executionInfo": {
     "status": "ok",
     "timestamp": 1635151713989,
     "user_tz": -120,
     "elapsed": 612,
     "user": {
      "displayName": "Francesco GUERRA",
      "photoUrl": "https://lh3.googleusercontent.com/a-/AOh14Gj54LW1VQb8d_pLRjRGNzSfR2PyDbQA_Six3Lic=s64",
      "userId": "03589851697809460716"
     }
    },
    "outputId": "d81acc4e-ab81-45dd-9ffc-6d58ed3e589a"
   },
   "source": [
    "data = np.random.rand(16)\n",
    "variance = np.random.rand(16) / 30\n",
    "labels=list('abcdefghijklmnop')\n",
    "plt.barh(labels, data, xerr=variance)"
   ],
   "execution_count": null,
   "outputs": [
    {
     "output_type": "execute_result",
     "data": {
      "text/plain": [
       "<BarContainer object of 16 artists>"
      ]
     },
     "metadata": {},
     "execution_count": 20
    },
    {
     "output_type": "display_data",
     "data": {
      "image/png": "[encoded data removed]",
      "text/plain": [
       "<Figure size 432x288 with 1 Axes>"
      ]
     },
     "metadata": {
      "needs_background": "light"
     }
    }
   ]
  },
  {
   "cell_type": "code",
   "metadata": {
    "id": "byyO7YMg1yTD",
    "colab": {
     "base_uri": "https://localhost:8080/",
     "height": 516
    },
    "executionInfo": {
     "status": "ok",
     "timestamp": 1679842847717,
     "user_tz": -120,
     "elapsed": 655,
     "user": {
      "displayName": "Francesco GUERRA",
      "userId": "03589851697809460716"
     }
    },
    "outputId": "853fddb1-9917-48a0-b439-1c4ab94dc542"
   },
   "source": [
    "data1 = np.random.rand(6)\n",
    "data2 = np.random.rand(6)\n",
    "labels=list('abcdef')\n",
    "\n",
    "index = np.arange(6)\n",
    "offset = 0.3\n",
    "\n",
    "plt.bar(index, data1, offset, label=\"first\", color=\"blue\")\n",
    "plt.bar(index + offset , data2, offset, label=\"second\", color=\"red\")\n",
    "\n",
    "plt.legend(loc='center')\n",
    "plt.suptitle('My first matplotlib plot')\n",
    "plt.xlabel('X-axis')\n",
    "plt.ylabel('Y-axis')\n",
    "plt.xticks(index+offset/2, labels)"
   ],
   "execution_count": 24,
   "outputs": [
    {
     "output_type": "execute_result",
     "data": {
      "text/plain": [
       "([<matplotlib.axis.XTick at 0x7fe8db4285b0>,\n",
       "  <matplotlib.axis.XTick at 0x7fe8db428580>,\n",
       "  <matplotlib.axis.XTick at 0x7fe8db41ffa0>,\n",
       "  <matplotlib.axis.XTick at 0x7fe8db3f6760>,\n",
       "  <matplotlib.axis.XTick at 0x7fe8db3f6df0>,\n",
       "  <matplotlib.axis.XTick at 0x7fe8db3fd610>],\n",
       " [Text(0.15, 0, 'a'),\n",
       "  Text(1.15, 0, 'b'),\n",
       "  Text(2.15, 0, 'c'),\n",
       "  Text(3.15, 0, 'd'),\n",
       "  Text(4.15, 0, 'e'),\n",
       "  Text(5.15, 0, 'f')])"
      ]
     },
     "metadata": {},
     "execution_count": 24
    },
    {
     "output_type": "display_data",
     "data": {
      "text/plain": [
       "<Figure size 432x288 with 1 Axes>"
      ],
      "image/png": "[encoded data removed]"
     },
     "metadata": {
      "needs_background": "light"
     }
    }
   ]
  },
  {
   "cell_type": "code",
   "metadata": {
    "id": "-vggErwD1yTF",
    "colab": {
     "base_uri": "https://localhost:8080/",
     "height": 516
    },
    "executionInfo": {
     "status": "ok",
     "timestamp": 1679842847718,
     "user_tz": -120,
     "elapsed": 8,
     "user": {
      "displayName": "Francesco GUERRA",
      "userId": "03589851697809460716"
     }
    },
    "outputId": "7327f400-c8b5-4ad9-ea60-8ab2c21e80f7"
   },
   "source": [
    "data1 = np.random.rand(6)\n",
    "data2 = np.random.rand(6)\n",
    "labels=list('abcdef')\n",
    "\n",
    "index = np.arange(6)\n",
    "offset = 0.3\n",
    "\n",
    "plt.bar(index, data1, offset, label=\"first\", color=\"blue\")\n",
    "plt.bar(index, data2, offset, label=\"second\", color=\"red\", bottom=data1)\n",
    "\n",
    "plt.legend(loc='best')\n",
    "plt.suptitle('My first matplotlib plot')\n",
    "plt.xlabel('X-axis')\n",
    "plt.ylabel('Y-axis')\n",
    "plt.xticks(index, labels)"
   ],
   "execution_count": 25,
   "outputs": [
    {
     "output_type": "execute_result",
     "data": {
      "text/plain": [
       "([<matplotlib.axis.XTick at 0x7fe8db3b4700>,\n",
       "  <matplotlib.axis.XTick at 0x7fe8db3b46d0>,\n",
       "  <matplotlib.axis.XTick at 0x7fe8db3b41c0>,\n",
       "  <matplotlib.axis.XTick at 0x7fe8db396910>,\n",
       "  <matplotlib.axis.XTick at 0x7fe8db3083d0>,\n",
       "  <matplotlib.axis.XTick at 0x7fe8db308bb0>],\n",
       " [Text(0, 0, 'a'),\n",
       "  Text(1, 0, 'b'),\n",
       "  Text(2, 0, 'c'),\n",
       "  Text(3, 0, 'd'),\n",
       "  Text(4, 0, 'e'),\n",
       "  Text(5, 0, 'f')])"
      ]
     },
     "metadata": {},
     "execution_count": 25
    },
    {
     "output_type": "display_data",
     "data": {
      "text/plain": [
       "<Figure size 432x288 with 1 Axes>"
      ],
      "image/png": "[encoded data removed]"
     },
     "metadata": {
      "needs_background": "light"
     }
    }
   ]
  },
  {
   "cell_type": "markdown",
   "metadata": {
    "id": "lraaMSaa1yTH"
   },
   "source": [
    "#### 1.3.2 Pie charts"
   ]
  },
  {
   "cell_type": "code",
   "metadata": {
    "id": "_WfQYcQP1yTI",
    "colab": {
     "base_uri": "https://localhost:8080/",
     "height": 265
    },
    "executionInfo": {
     "status": "ok",
     "timestamp": 1635151761186,
     "user_tz": -120,
     "elapsed": 239,
     "user": {
      "displayName": "Francesco GUERRA",
      "photoUrl": "https://lh3.googleusercontent.com/a-/AOh14Gj54LW1VQb8d_pLRjRGNzSfR2PyDbQA_Six3Lic=s64",
      "userId": "03589851697809460716"
     }
    },
    "outputId": "e744004f-fd86-436c-d6e7-90bbfecee92f"
   },
   "source": [
    "data = [20, 15, 25, 15, 25]\n",
    "labels=list('abcde')\n",
    "plt.pie(data, labels=labels, shadow=True, startangle=90)\n",
    "plt.legend(title=\"List of choices\", loc='upper center')"
   ],
   "execution_count": null,
   "outputs": [
    {
     "output_type": "execute_result",
     "data": {
      "text/plain": [
       "<matplotlib.legend.Legend at 0x7f4e74452650>"
      ]
     },
     "metadata": {},
     "execution_count": 25
    },
    {
     "output_type": "display_data",
     "data": {
      "image/png": "[encoded data removed]",
      "text/plain": [
       "<Figure size 432x288 with 1 Axes>"
      ]
     },
     "metadata": {}
    }
   ]
  },
  {
   "cell_type": "markdown",
   "metadata": {
    "id": "mdwKm-ly1yTK"
   },
   "source": [
    "#### 1.3.3 Histograms\n",
    "Histograms are a very common type of plots when we are looking at data which are continuous in nature."
   ]
  },
  {
   "cell_type": "code",
   "metadata": {
    "id": "7zWI5QWsMzM5"
   },
   "source": [
    "np.random.randn(100)"
   ],
   "execution_count": null,
   "outputs": []
  },
  {
   "cell_type": "code",
   "metadata": {
    "id": "jGy82kqr1yTM",
    "colab": {
     "base_uri": "https://localhost:8080/",
     "height": 312
    },
    "executionInfo": {
     "status": "ok",
     "timestamp": 1679842853966,
     "user_tz": -120,
     "elapsed": 755,
     "user": {
      "displayName": "Francesco GUERRA",
      "userId": "03589851697809460716"
     }
    },
    "outputId": "e9345921-2ecf-46ca-a03b-5b383fda5e68"
   },
   "source": [
    "plt.hist(np.random.randn(100000), bins=100, color='k')\n",
    "plt.xlabel(\"X-axis\")\n",
    "plt.ylabel(\"Y-axis\")\n",
    "plt.title(\"Title\")"
   ],
   "execution_count": 26,
   "outputs": [
    {
     "output_type": "execute_result",
     "data": {
      "text/plain": [
       "Text(0.5, 1.0, 'Title')"
      ]
     },
     "metadata": {},
     "execution_count": 26
    },
    {
     "output_type": "display_data",
     "data": {
      "text/plain": [
       "<Figure size 432x288 with 1 Axes>"
      ],
      "image/png": "[encoded data removed]"
     },
     "metadata": {
      "needs_background": "light"
     }
    }
   ]
  },
  {
   "cell_type": "code",
   "metadata": {
    "id": "US4gxV8L1yTO",
    "colab": {
     "base_uri": "https://localhost:8080/",
     "height": 265
    },
    "executionInfo": {
     "status": "ok",
     "timestamp": 1679842882673,
     "user_tz": -120,
     "elapsed": 1226,
     "user": {
      "displayName": "Francesco GUERRA",
      "userId": "03589851697809460716"
     }
    },
    "outputId": "a9e2a438-78c9-4112-82ee-a2b27865f186"
   },
   "source": [
    "fig, axes = plt.subplots(2,2)\n",
    "for i in range(2):\n",
    "    for j in range(2):\n",
    "        axes[i, j].hist(np.random.randn(500), bins=50, color='r')"
   ],
   "execution_count": 27,
   "outputs": [
    {
     "output_type": "display_data",
     "data": {
      "text/plain": [
       "<Figure size 432x288 with 4 Axes>"
      ],
      "image/png": "[encoded data removed]"
     },
     "metadata": {
      "needs_background": "light"
     }
    }
   ]
  },
  {
   "cell_type": "markdown",
   "metadata": {
    "id": "OZHxKBpL1yTQ"
   },
   "source": [
    "#### 1.3.4 Scatter Plots"
   ]
  },
  {
   "cell_type": "code",
   "metadata": {
    "id": "3LTfSgvVo3lY",
    "colab": {
     "base_uri": "https://localhost:8080/"
    },
    "executionInfo": {
     "status": "ok",
     "timestamp": 1679842890334,
     "user_tz": -120,
     "elapsed": 239,
     "user": {
      "displayName": "Francesco GUERRA",
      "userId": "03589851697809460716"
     }
    },
    "outputId": "cde09115-bbe8-4549-afd7-3707fb49737e"
   },
   "source": [
    "20 * np.random.randn(100) + 100"
   ],
   "execution_count": 28,
   "outputs": [
    {
     "output_type": "execute_result",
     "data": {
      "text/plain": [
       "array([115.14440372, 107.46382912, 114.21191499,  83.48609704,\n",
       "       101.19743724, 107.99066668, 107.5612159 , 115.18945253,\n",
       "        88.75929179,  94.37700465, 112.00552052, 107.11207623,\n",
       "       103.28198538,  88.90368722,  98.27569804, 121.62072435,\n",
       "        84.07801528,  86.99646738,  96.33611646,  96.58877187,\n",
       "        75.236644  , 106.26355329, 105.2972102 ,  65.55339678,\n",
       "       104.20520398,  86.811308  , 122.9566719 ,  97.19905918,\n",
       "        76.62174995, 114.60447337,  87.36720588, 126.75232974,\n",
       "       117.43898197,  93.74679148, 130.69249519,  94.18788282,\n",
       "        88.32816745, 102.229297  , 109.59903931, 113.88986799,\n",
       "       123.50186564, 107.73231103,  72.62448344, 101.78280346,\n",
       "        81.01879517,  94.38813428,  96.24440012, 114.32647435,\n",
       "       118.64470091,  95.28308225, 112.38258337,  69.76874617,\n",
       "       115.47851187, 104.66287977, 117.34839708,  80.32834871,\n",
       "       116.47598403, 140.59081575, 101.38002395,  98.52449292,\n",
       "        45.56998917, 119.65972593,  78.64313223, 115.83687373,\n",
       "        96.12428418,  85.35035643,  90.75360673,  69.73998678,\n",
       "        91.19210967,  98.78582068, 125.4934692 ,  93.89238512,\n",
       "        88.96677427,  74.09765123, 105.54464269,  87.09964374,\n",
       "        94.79527568,  98.50527199, 106.62556004,  62.80510324,\n",
       "       146.49870735,  96.68352497,  88.84247967, 121.88889008,\n",
       "        77.68905589, 101.47463348,  91.95415559,  98.69680597,\n",
       "        63.85943815,  85.49328385,  91.49093847,  76.60187999,\n",
       "       112.55671652, 117.00201624,  97.72013202,  86.49973668,\n",
       "        85.60886191,  92.81749212,  74.74430333,  96.92410474])"
      ]
     },
     "metadata": {},
     "execution_count": 28
    }
   ]
  },
  {
   "cell_type": "code",
   "metadata": {
    "id": "naSf57tb1yTQ",
    "colab": {
     "base_uri": "https://localhost:8080/",
     "height": 296
    },
    "executionInfo": {
     "status": "ok",
     "timestamp": 1679842908234,
     "user_tz": -120,
     "elapsed": 642,
     "user": {
      "displayName": "Francesco GUERRA",
      "userId": "03589851697809460716"
     }
    },
    "outputId": "4b5f4cac-13f4-42de-efb0-148056301175"
   },
   "source": [
    "data1 = 20 * np.random.randn(100) + 100\n",
    "data2 = data1 + (10 * np.random.randn(100) + 50)\n",
    "plt.scatter(data1, data2)\n",
    "plt.xlabel(\"Dim1\")\n",
    "plt.ylabel(\"Dim2\")"
   ],
   "execution_count": 29,
   "outputs": [
    {
     "output_type": "execute_result",
     "data": {
      "text/plain": [
       "Text(0, 0.5, 'Dim2')"
      ]
     },
     "metadata": {},
     "execution_count": 29
    },
    {
     "output_type": "display_data",
     "data": {
      "text/plain": [
       "<Figure size 432x288 with 1 Axes>"
      ],
      "image/png": "[encoded data removed]"
     },
     "metadata": {
      "needs_background": "light"
     }
    }
   ]
  },
  {
   "cell_type": "code",
   "metadata": {
    "id": "BRknFcGT1yTU",
    "colab": {
     "base_uri": "https://localhost:8080/",
     "height": 296
    },
    "executionInfo": {
     "status": "ok",
     "timestamp": 1679842913923,
     "user_tz": -120,
     "elapsed": 317,
     "user": {
      "displayName": "Francesco GUERRA",
      "userId": "03589851697809460716"
     }
    },
    "outputId": "4ee2f5e2-f9b2-481b-953e-63235afec08a"
   },
   "source": [
    "data1 = np.random.rand(40)\n",
    "data2 = np.random.rand(40)\n",
    "z = np.random.rand(40)\n",
    "colors = np.random.rand(40)\n",
    "plt.scatter(data1, data2, s=z*1000, c=colors)\n",
    "plt.xlabel(\"Dim1\")\n",
    "plt.ylabel(\"Dim2\")"
   ],
   "execution_count": 30,
   "outputs": [
    {
     "output_type": "execute_result",
     "data": {
      "text/plain": [
       "Text(0, 0.5, 'Dim2')"
      ]
     },
     "metadata": {},
     "execution_count": 30
    },
    {
     "output_type": "display_data",
     "data": {
      "text/plain": [
       "<Figure size 432x288 with 1 Axes>"
      ],
      "image/png": "[encoded data removed]"
     },
     "metadata": {
      "needs_background": "light"
     }
    }
   ]
  },
  {
   "cell_type": "markdown",
   "metadata": {
    "id": "3pazCEJ81yTX"
   },
   "source": [
    "#### 1.3.5 Box plots\n",
    "A box and whisker plot, or boxplot for short, is generally used to summarize the distribution of a data sample.\n",
    "\n",
    "The x-axis is used to represent the data sample, where multiple boxplots can be drawn side by side on the x-axis if desired.\n",
    "\n",
    "The y-axis represents the observation values. A box is drawn to summarize the middle 50% of the dataset starting at the observation at the 25th percentile and ending at the 75th percentile. The median, or 50th percentile, is drawn with a line.\n",
    "\n",
    "Boxplots are useful to summarize the distribution of a data sample as an alternative to the histogram. They can help to quickly get an idea of the range of common and sensible values in the box and in the whisker respectively. Because we are not looking at the shape of the distribution explicitly, this method is often used when the data has an unknown or unusual distribution, such as non-Gaussian."
   ]
  },
  {
   "cell_type": "code",
   "metadata": {
    "id": "xri92KZApi9n"
   },
   "source": [
    "x[0]"
   ],
   "execution_count": null,
   "outputs": []
  },
  {
   "cell_type": "code",
   "metadata": {
    "id": "kR2X-7Jx1yTX"
   },
   "source": [
    "x = [np.random.randn(1000), 5 * np.random.randn(1000), 10 * np.random.randn(1000)]\n",
    "plt.boxplot(x)"
   ],
   "execution_count": null,
   "outputs": []
  },
  {
   "cell_type": "markdown",
   "metadata": {
    "id": "lyTNV0ke1yTc"
   },
   "source": [
    "### 1.4 Saving chart"
   ]
  },
  {
   "cell_type": "code",
   "metadata": {
    "id": "Sqs581TN1yTc"
   },
   "source": [
    "# SAVE PLOT INTO FILE\n",
    "plt.plot(np.random.randn(100))\n",
    "plt.savefig('sample_data/figpath.png')"
   ],
   "execution_count": null,
   "outputs": []
  },
  {
   "cell_type": "markdown",
   "metadata": {
    "id": "oVC_l7al1yTe"
   },
   "source": [
    "## 2. Plotting with pandas and seaborn"
   ]
  },
  {
   "cell_type": "markdown",
   "metadata": {
    "id": "WkYv2R9r1yTf"
   },
   "source": [
    "### 2.1 Line plots\n",
    "Series and DataFrame each have a plot attribute for making some basic plot types. By default, plot() makes line plots."
   ]
  },
  {
   "cell_type": "code",
   "metadata": {
    "id": "sNGNOTae1yTf",
    "colab": {
     "base_uri": "https://localhost:8080/",
     "height": 491
    },
    "executionInfo": {
     "status": "ok",
     "timestamp": 1679842972968,
     "user_tz": -120,
     "elapsed": 829,
     "user": {
      "displayName": "Francesco GUERRA",
      "userId": "03589851697809460716"
     }
    },
    "outputId": "af403168-fe84-4710-f239-771f012682f4"
   },
   "source": [
    "import pandas as pd\n",
    "s = pd.Series(np.random.randn(10).cumsum(), index=np.arange(0, 100, 10))\n",
    "print(s, '\\n')\n",
    "s.plot()"
   ],
   "execution_count": 31,
   "outputs": [
    {
     "output_type": "stream",
     "name": "stdout",
     "text": [
      "0    -0.083148\n",
      "10   -0.417237\n",
      "20    0.004463\n",
      "30    0.592201\n",
      "40    0.398555\n",
      "50   -0.101722\n",
      "60    0.324639\n",
      "70    0.284594\n",
      "80    1.229682\n",
      "90    1.850503\n",
      "dtype: float64 \n",
      "\n"
     ]
    },
    {
     "output_type": "execute_result",
     "data": {
      "text/plain": [
       "<Axes: >"
      ]
     },
     "metadata": {},
     "execution_count": 31
    },
    {
     "output_type": "display_data",
     "data": {
      "text/plain": [
       "<Figure size 432x288 with 1 Axes>"
      ],
      "image/png": "[encoded data removed]"
     },
     "metadata": {
      "needs_background": "light"
     }
    }
   ]
  },
  {
   "cell_type": "markdown",
   "metadata": {
    "id": "bKUuV0zn1yTh"
   },
   "source": [
    "The Series object’s index is passed to matplotlib for plotting on the x-axis."
   ]
  },
  {
   "cell_type": "code",
   "metadata": {
    "id": "HzABV9HI1yTh",
    "colab": {
     "base_uri": "https://localhost:8080/",
     "height": 386
    },
    "executionInfo": {
     "status": "ok",
     "timestamp": 1679843008134,
     "user_tz": -120,
     "elapsed": 748,
     "user": {
      "displayName": "Francesco GUERRA",
      "userId": "03589851697809460716"
     }
    },
    "outputId": "ac86afd2-fdb5-439b-bec3-23f8ff696126"
   },
   "source": [
    "df = pd.DataFrame(np.random.randn(10, 4).cumsum(0), \n",
    "                  columns=['A', 'B', 'C', 'D'],\n",
    "                  index=np.arange(0, 100, 10))\n",
    "print(df.head())\n",
    "df.plot()\n",
    "\n",
    "plt.plot(df.index, df['A'].values, 'r-')\n",
    "plt.plot(df.index, df['B'].values, 'g-')\n",
    "plt.plot(df.index, df['C'].values, 'c-')\n",
    "plt.plot(df.index, df['D'].values, 'y-')"
   ],
   "execution_count": 33,
   "outputs": [
    {
     "output_type": "stream",
     "name": "stdout",
     "text": [
      "           A         B         C         D\n",
      "0   0.291101 -0.475962 -0.991776 -0.142387\n",
      "10 -1.061099 -1.139608 -2.788993 -1.956237\n",
      "20 -0.951522 -0.150612 -3.306091 -2.055323\n",
      "30 -1.588263  0.195450 -4.305608 -3.354438\n",
      "40 -2.153776  1.290161 -5.372339 -2.395796\n"
     ]
    },
    {
     "output_type": "execute_result",
     "data": {
      "text/plain": [
       "[<matplotlib.lines.Line2D at 0x7fe8d0601f70>]"
      ]
     },
     "metadata": {},
     "execution_count": 33
    },
    {
     "output_type": "display_data",
     "data": {
      "text/plain": [
       "<Figure size 432x288 with 1 Axes>"
      ],
      "image/png": "[encoded data removed]"
     },
     "metadata": {
      "needs_background": "light"
     }
    }
   ]
  },
  {
   "cell_type": "code",
   "metadata": {
    "id": "hDMfK4Abqy-2",
    "colab": {
     "base_uri": "https://localhost:8080/",
     "height": 363
    },
    "executionInfo": {
     "status": "ok",
     "timestamp": 1679843015472,
     "user_tz": -120,
     "elapsed": 246,
     "user": {
      "displayName": "Francesco GUERRA",
      "userId": "03589851697809460716"
     }
    },
    "outputId": "46e0bb25-7273-46ae-b7f8-a5abe370d080"
   },
   "source": [
    "df = pd.DataFrame(np.random.randn(10, 4).cumsum(0), \n",
    "                  columns=['A', 'B', 'C', 'D'],\n",
    "                  index=np.arange(0, 100, 10))\n",
    "df"
   ],
   "execution_count": 34,
   "outputs": [
    {
     "output_type": "execute_result",
     "data": {
      "text/plain": [
       "           A         B         C         D\n",
       "0   0.578791  0.105388  1.013550  0.224393\n",
       "10  1.038662  0.276457  1.768475 -1.384765\n",
       "20  1.351944 -0.800646  1.979218 -2.475101\n",
       "30  2.031661 -1.732650  0.458420 -1.971730\n",
       "40  2.872941 -0.195214 -1.159602 -3.569099\n",
       "50  1.635851  0.163982 -0.739454 -2.889206\n",
       "60  0.340579  1.055677 -0.285976 -4.462892\n",
       "70 -0.369050  1.986645 -1.511620 -5.022684\n",
       "80 -0.259793  2.924155 -0.139073 -5.916898\n",
       "90 -0.897275  4.354775  0.911361 -7.487004"
      ],
      "text/html": [
       "\n",
       "  <div id=\"df-6bffbca2-3f05-452d-aa21-12b12efb8a4a\">\n",
       "    <div class=\"colab-df-container\">\n",
       "      <div>\n",
       "<style scoped>\n",
       "    .dataframe tbody tr th:only-of-type {\n",
       "        vertical-align: middle;\n",
       "    }\n",
       "\n",
       "    .dataframe tbody tr th {\n",
       "        vertical-align: top;\n",
       "    }\n",
       "\n",
       "    .dataframe thead th {\n",
       "        text-align: right;\n",
       "    }\n",
       "</style>\n",
       "<table border=\"1\" class=\"dataframe\">\n",
       "  <thead>\n",
       "    <tr style=\"text-align: right;\">\n",
       "      <th></th>\n",
       "      <th>A</th>\n",
       "      <th>B</th>\n",
       "      <th>C</th>\n",
       "      <th>D</th>\n",
       "    </tr>\n",
       "  </thead>\n",
       "  <tbody>\n",
       "    <tr>\n",
       "      <th>0</th>\n",
       "      <td>0.578791</td>\n",
       "      <td>0.105388</td>\n",
       "      <td>1.013550</td>\n",
       "      <td>0.224393</td>\n",
       "    </tr>\n",
       "    <tr>\n",
       "      <th>10</th>\n",
       "      <td>1.038662</td>\n",
       "      <td>0.276457</td>\n",
       "      <td>1.768475</td>\n",
       "      <td>-1.384765</td>\n",
       "    </tr>\n",
       "    <tr>\n",
       "      <th>20</th>\n",
       "      <td>1.351944</td>\n",
       "      <td>-0.800646</td>\n",
       "      <td>1.979218</td>\n",
       "      <td>-2.475101</td>\n",
       "    </tr>\n",
       "    <tr>\n",
       "      <th>30</th>\n",
       "      <td>2.031661</td>\n",
       "      <td>-1.732650</td>\n",
       "      <td>0.458420</td>\n",
       "      <td>-1.971730</td>\n",
       "    </tr>\n",
       "    <tr>\n",
       "      <th>40</th>\n",
       "      <td>2.872941</td>\n",
       "      <td>-0.195214</td>\n",
       "      <td>-1.159602</td>\n",
       "      <td>-3.569099</td>\n",
       "    </tr>\n",
       "    <tr>\n",
       "      <th>50</th>\n",
       "      <td>1.635851</td>\n",
       "      <td>0.163982</td>\n",
       "      <td>-0.739454</td>\n",
       "      <td>-2.889206</td>\n",
       "    </tr>\n",
       "    <tr>\n",
       "      <th>60</th>\n",
       "      <td>0.340579</td>\n",
       "      <td>1.055677</td>\n",
       "      <td>-0.285976</td>\n",
       "      <td>-4.462892</td>\n",
       "    </tr>\n",
       "    <tr>\n",
       "      <th>70</th>\n",
       "      <td>-0.369050</td>\n",
       "      <td>1.986645</td>\n",
       "      <td>-1.511620</td>\n",
       "      <td>-5.022684</td>\n",
       "    </tr>\n",
       "    <tr>\n",
       "      <th>80</th>\n",
       "      <td>-0.259793</td>\n",
       "      <td>2.924155</td>\n",
       "      <td>-0.139073</td>\n",
       "      <td>-5.916898</td>\n",
       "    </tr>\n",
       "    <tr>\n",
       "      <th>90</th>\n",
       "      <td>-0.897275</td>\n",
       "      <td>4.354775</td>\n",
       "      <td>0.911361</td>\n",
       "      <td>-7.487004</td>\n",
       "    </tr>\n",
       "  </tbody>\n",
       "</table>\n",
       "</div>\n",
       "      <button class=\"colab-df-convert\" onclick=\"convertToInteractive('df-6bffbca2-3f05-452d-aa21-12b12efb8a4a')\"\n",
       "              title=\"Convert this dataframe to an interactive table.\"\n",
       "              style=\"display:none;\">\n",
       "        \n",
       "  <svg xmlns=\"http://www.w3.org/2000/svg\" height=\"24px\"viewBox=\"0 0 24 24\"\n",
       "       width=\"24px\">\n",
       "    <path d=\"M0 0h24v24H0V0z\" fill=\"none\"/>\n",
       "    <path d=\"M18.56 5.44l.94 2.06.94-2.06 2.06-.94-2.06-.94-.94-2.06-.94 2.06-2.06.94zm-11 1L8.5 8.5l.94-2.06 2.06-.94-2.06-.94L8.5 2.5l-.94 2.06-2.06.94zm10 10l.94 2.06.94-2.06 2.06-.94-2.06-.94-.94-2.06-.94 2.06-2.06.94z\"/><path d=\"M17.41 7.96l-1.37-1.37c-.4-.4-.92-.59-1.43-.59-.52 0-1.04.2-1.43.59L10.3 9.45l-7.72 7.72c-.78.78-.78 2.05 0 2.83L4 21.41c.39.39.9.59 1.41.59.51 0 1.02-.2 1.41-.59l7.78-7.78 2.81-2.81c.8-.78.8-2.07 0-2.86zM5.41 20L4 18.59l7.72-7.72 1.47 1.35L5.41 20z\"/>\n",
       "  </svg>\n",
       "      </button>\n",
       "      \n",
       "  <style>\n",
       "    .colab-df-container {\n",
       "      display:flex;\n",
       "      flex-wrap:wrap;\n",
       "      gap: 12px;\n",
       "    }\n",
       "\n",
       "    .colab-df-convert {\n",
       "      background-color: #E8F0FE;\n",
       "      border: none;\n",
       "      border-radius: 50%;\n",
       "      cursor: pointer;\n",
       "      display: none;\n",
       "      fill: #1967D2;\n",
       "      height: 32px;\n",
       "      padding: 0 0 0 0;\n",
       "      width: 32px;\n",
       "    }\n",
       "\n",
       "    .colab-df-convert:hover {\n",
       "      background-color: #E2EBFA;\n",
       "      box-shadow: 0px 1px 2px rgba(60, 64, 67, 0.3), 0px 1px 3px 1px rgba(60, 64, 67, 0.15);\n",
       "      fill: #174EA6;\n",
       "    }\n",
       "\n",
       "    [theme=dark] .colab-df-convert {\n",
       "      background-color: #3B4455;\n",
       "      fill: #D2E3FC;\n",
       "    }\n",
       "\n",
       "    [theme=dark] .colab-df-convert:hover {\n",
       "      background-color: #434B5C;\n",
       "      box-shadow: 0px 1px 3px 1px rgba(0, 0, 0, 0.15);\n",
       "      filter: drop-shadow(0px 1px 2px rgba(0, 0, 0, 0.3));\n",
       "      fill: #FFFFFF;\n",
       "    }\n",
       "  </style>\n",
       "\n",
       "      <script>\n",
       "        const buttonEl =\n",
       "          document.querySelector('#df-6bffbca2-3f05-452d-aa21-12b12efb8a4a button.colab-df-convert');\n",
       "        buttonEl.style.display =\n",
       "          google.colab.kernel.accessAllowed ? 'block' : 'none';\n",
       "\n",
       "        async function convertToInteractive(key) {\n",
       "          const element = document.querySelector('#df-6bffbca2-3f05-452d-aa21-12b12efb8a4a');\n",
       "          const dataTable =\n",
       "            await google.colab.kernel.invokeFunction('convertToInteractive',\n",
       "                                                     [key], {});\n",
       "          if (!dataTable) return;\n",
       "\n",
       "          const docLinkHtml = 'Like what you see? Visit the ' +\n",
       "            '<a target=\"_blank\" href=https://colab.research.google.com/notebooks/data_table.ipynb>data table notebook</a>'\n",
       "            + ' to learn more about interactive tables.';\n",
       "          element.innerHTML = '';\n",
       "          dataTable['output_type'] = 'display_data';\n",
       "          await google.colab.output.renderOutput(dataTable, element);\n",
       "          const docLink = document.createElement('div');\n",
       "          docLink.innerHTML = docLinkHtml;\n",
       "          element.appendChild(docLink);\n",
       "        }\n",
       "      </script>\n",
       "    </div>\n",
       "  </div>\n",
       "  "
      ]
     },
     "metadata": {},
     "execution_count": 34
    }
   ]
  },
  {
   "cell_type": "code",
   "metadata": {
    "id": "vVYNd8FUq4pf",
    "colab": {
     "base_uri": "https://localhost:8080/",
     "height": 282
    },
    "executionInfo": {
     "status": "ok",
     "timestamp": 1679843015999,
     "user_tz": -120,
     "elapsed": 286,
     "user": {
      "displayName": "Francesco GUERRA",
      "userId": "03589851697809460716"
     }
    },
    "outputId": "e95a5397-12ec-407c-d55a-a19ce26389cf"
   },
   "source": [
    "df.plot()"
   ],
   "execution_count": 35,
   "outputs": [
    {
     "output_type": "execute_result",
     "data": {
      "text/plain": [
       "<Axes: >"
      ]
     },
     "metadata": {},
     "execution_count": 35
    },
    {
     "output_type": "display_data",
     "data": {
      "text/plain": [
       "<Figure size 432x288 with 1 Axes>"
      ],
      "image/png": "[encoded data removed]"
     },
     "metadata": {
      "needs_background": "light"
     }
    }
   ]
  },
  {
   "cell_type": "markdown",
   "metadata": {
    "id": "UI1jONoM1yTj"
   },
   "source": [
    "DataFrame’s plot method plots each of its columns as a different line on the same subplot, creating a legend automatically."
   ]
  },
  {
   "cell_type": "markdown",
   "metadata": {
    "id": "DtE7Ftca1yTk"
   },
   "source": [
    "### 2.2 Bar plots\n",
    "The plot.bar() and plot.barh() make vertical and horizontal bar plots, respectively. In this case, the Series or DataFrame index will be used as the x ( bar ) or y ( barh ) ticks.\n",
    "\n",
    "See https://matplotlib.org/2.1.1/api/_as_gen/matplotlib.pyplot.plot.html for styles and colors"
   ]
  },
  {
   "cell_type": "code",
   "metadata": {
    "id": "OwraEpR9RrFd",
    "colab": {
     "base_uri": "https://localhost:8080/",
     "height": 285
    },
    "executionInfo": {
     "status": "ok",
     "timestamp": 1679843023324,
     "user_tz": -120,
     "elapsed": 674,
     "user": {
      "displayName": "Francesco GUERRA",
      "userId": "03589851697809460716"
     }
    },
    "outputId": "3436da96-13e8-4656-8705-3eadfbe150e4"
   },
   "source": [
    "#plt.plot() # linee\n",
    "#plt.bar() # grafici a barre\n",
    "\n",
    "# pandas\n",
    "df.plot.bar()"
   ],
   "execution_count": 36,
   "outputs": [
    {
     "output_type": "execute_result",
     "data": {
      "text/plain": [
       "<Axes: >"
      ]
     },
     "metadata": {},
     "execution_count": 36
    },
    {
     "output_type": "display_data",
     "data": {
      "text/plain": [
       "<Figure size 432x288 with 1 Axes>"
      ],
      "image/png": "[encoded data removed]"
     },
     "metadata": {
      "needs_background": "light"
     }
    }
   ]
  },
  {
   "cell_type": "code",
   "metadata": {
    "id": "ESqtopUmrOBJ",
    "colab": {
     "base_uri": "https://localhost:8080/",
     "height": 282
    },
    "executionInfo": {
     "status": "ok",
     "timestamp": 1679843023589,
     "user_tz": -120,
     "elapsed": 5,
     "user": {
      "displayName": "Francesco GUERRA",
      "userId": "03589851697809460716"
     }
    },
    "outputId": "0ed3576c-b7e1-41d3-f78c-f7a0dee15880"
   },
   "source": [
    "df.plot(kind='box')"
   ],
   "execution_count": 37,
   "outputs": [
    {
     "output_type": "execute_result",
     "data": {
      "text/plain": [
       "<Axes: >"
      ]
     },
     "metadata": {},
     "execution_count": 37
    },
    {
     "output_type": "display_data",
     "data": {
      "text/plain": [
       "<Figure size 432x288 with 1 Axes>"
      ],
      "image/png": "[encoded data removed]"
     },
     "metadata": {
      "needs_background": "light"
     }
    }
   ]
  },
  {
   "cell_type": "code",
   "metadata": {
    "id": "DOAWt2zVrl1V",
    "colab": {
     "base_uri": "https://localhost:8080/",
     "height": 282
    },
    "executionInfo": {
     "status": "ok",
     "timestamp": 1679843024169,
     "user_tz": -120,
     "elapsed": 583,
     "user": {
      "displayName": "Francesco GUERRA",
      "userId": "03589851697809460716"
     }
    },
    "outputId": "2fc628a1-1d9d-455a-969a-5931da9033b6"
   },
   "source": [
    "df['A'].hist(bins=10)"
   ],
   "execution_count": 38,
   "outputs": [
    {
     "output_type": "execute_result",
     "data": {
      "text/plain": [
       "<Axes: >"
      ]
     },
     "metadata": {},
     "execution_count": 38
    },
    {
     "output_type": "display_data",
     "data": {
      "text/plain": [
       "<Figure size 432x288 with 1 Axes>"
      ],
      "image/png": "[encoded data removed]"
     },
     "metadata": {
      "needs_background": "light"
     }
    }
   ]
  },
  {
   "cell_type": "code",
   "metadata": {
    "id": "lr7oXm_G1yTk"
   },
   "source": [
    "fig, axes = plt.subplots(2, 1)\n",
    "data = pd.Series(np.random.rand(16), index=list('abcdefghijklmnop'))\n",
    "data.plot.bar(ax=axes[0], color='k', alpha=0.7)\n",
    "data.plot.barh(ax=axes[1], color='k', alpha=0.7)"
   ],
   "execution_count": null,
   "outputs": []
  },
  {
   "cell_type": "markdown",
   "metadata": {
    "id": "KGUMo6tD1yTm"
   },
   "source": [
    "With a DataFrame, bar plots group the values in each row together in a group in bars, side by side, for each value."
   ]
  },
  {
   "cell_type": "code",
   "metadata": {
    "id": "3HQR9gZC1yTn"
   },
   "source": [
    "df = pd.DataFrame(np.random.rand(6, 4), \n",
    "                  index=['one', 'two', 'three', 'four', 'five', 'six'],\n",
    "                  columns=pd.Index(['A', 'B', 'C', 'D'], name='Genus'))\n",
    "print(df.head())\n",
    "df.plot.bar()"
   ],
   "execution_count": null,
   "outputs": []
  },
  {
   "cell_type": "markdown",
   "metadata": {
    "id": "J_KOsyyQ1yTp"
   },
   "source": [
    "We create stacked bar plots from a DataFrame by passing stacked=True , resulting in the value in each row being stacked together"
   ]
  },
  {
   "cell_type": "code",
   "metadata": {
    "id": "ta6EnvAu1yTp"
   },
   "source": [
    "df.plot.bar(stacked=True, alpha=0.5)"
   ],
   "execution_count": null,
   "outputs": []
  },
  {
   "cell_type": "markdown",
   "metadata": {
    "id": "aI5Emt1F1yTr"
   },
   "source": [
    "### 2.3 Histograms and Density Plots\n",
    "A histogram is a kind of bar plot that gives a discretized display of value frequency. The data points are split into discrete, evenly spaced bins, and the number of data points in each bin is plotted."
   ]
  },
  {
   "cell_type": "code",
   "metadata": {
    "scrolled": true,
    "id": "VVoutKgb1yTs",
    "colab": {
     "base_uri": "https://localhost:8080/",
     "height": 661
    },
    "executionInfo": {
     "status": "ok",
     "timestamp": 1679843044995,
     "user_tz": -120,
     "elapsed": 3029,
     "user": {
      "displayName": "Francesco GUERRA",
      "userId": "03589851697809460716"
     }
    },
    "outputId": "1f5e48ab-9471-4814-9f84-e938b9369ab6"
   },
   "source": [
    "import seaborn as sns\n",
    "from sklearn import datasets\n",
    "iris = pd.DataFrame(datasets.load_iris().data, columns=datasets.load_iris().feature_names)\n",
    "\n",
    "\n",
    "plt.figure()\n",
    "iris.plot.hist(subplots=True, layout=(2,2), figsize=(10, 10), bins=20)"
   ],
   "execution_count": 39,
   "outputs": [
    {
     "output_type": "execute_result",
     "data": {
      "text/plain": [
       "array([[<Axes: ylabel='Frequency'>, <Axes: ylabel='Frequency'>],\n",
       "       [<Axes: ylabel='Frequency'>, <Axes: ylabel='Frequency'>]],\n",
       "      dtype=object)"
      ]
     },
     "metadata": {},
     "execution_count": 39
    },
    {
     "output_type": "display_data",
     "data": {
      "text/plain": [
       "<Figure size 432x288 with 0 Axes>"
      ]
     },
     "metadata": {}
    },
    {
     "output_type": "display_data",
     "data": {
      "text/plain": [
       "<Figure size 720x720 with 4 Axes>"
      ],
      "image/png": "[encoded data removed]"
     },
     "metadata": {
      "needs_background": "light"
     }
    }
   ]
  },
  {
   "cell_type": "code",
   "metadata": {
    "id": "RgleBJ8lSogr",
    "colab": {
     "base_uri": "https://localhost:8080/",
     "height": 174
    },
    "executionInfo": {
     "status": "ok",
     "timestamp": 1679843047064,
     "user_tz": -120,
     "elapsed": 269,
     "user": {
      "displayName": "Francesco GUERRA",
      "userId": "03589851697809460716"
     }
    },
    "outputId": "b8a413f9-5e58-43d8-f07c-6d50b4f07dd0"
   },
   "source": [
    "iris.head(4)"
   ],
   "execution_count": 40,
   "outputs": [
    {
     "output_type": "execute_result",
     "data": {
      "text/plain": [
       "   sepal length (cm)  sepal width (cm)  petal length (cm)  petal width (cm)\n",
       "0                5.1               3.5                1.4               0.2\n",
       "1                4.9               3.0                1.4               0.2\n",
       "2                4.7               3.2                1.3               0.2\n",
       "3                4.6               3.1                1.5               0.2"
      ],
      "text/html": [
       "\n",
       "  <div id=\"df-55cd9584-a8ed-4fbb-bbd3-3425e272eca3\">\n",
       "    <div class=\"colab-df-container\">\n",
       "      <div>\n",
       "<style scoped>\n",
       "    .dataframe tbody tr th:only-of-type {\n",
       "        vertical-align: middle;\n",
       "    }\n",
       "\n",
       "    .dataframe tbody tr th {\n",
       "        vertical-align: top;\n",
       "    }\n",
       "\n",
       "    .dataframe thead th {\n",
       "        text-align: right;\n",
       "    }\n",
       "</style>\n",
       "<table border=\"1\" class=\"dataframe\">\n",
       "  <thead>\n",
       "    <tr style=\"text-align: right;\">\n",
       "      <th></th>\n",
       "      <th>sepal length (cm)</th>\n",
       "      <th>sepal width (cm)</th>\n",
       "      <th>petal length (cm)</th>\n",
       "      <th>petal width (cm)</th>\n",
       "    </tr>\n",
       "  </thead>\n",
       "  <tbody>\n",
       "    <tr>\n",
       "      <th>0</th>\n",
       "      <td>5.1</td>\n",
       "      <td>3.5</td>\n",
       "      <td>1.4</td>\n",
       "      <td>0.2</td>\n",
       "    </tr>\n",
       "    <tr>\n",
       "      <th>1</th>\n",
       "      <td>4.9</td>\n",
       "      <td>3.0</td>\n",
       "      <td>1.4</td>\n",
       "      <td>0.2</td>\n",
       "    </tr>\n",
       "    <tr>\n",
       "      <th>2</th>\n",
       "      <td>4.7</td>\n",
       "      <td>3.2</td>\n",
       "      <td>1.3</td>\n",
       "      <td>0.2</td>\n",
       "    </tr>\n",
       "    <tr>\n",
       "      <th>3</th>\n",
       "      <td>4.6</td>\n",
       "      <td>3.1</td>\n",
       "      <td>1.5</td>\n",
       "      <td>0.2</td>\n",
       "    </tr>\n",
       "  </tbody>\n",
       "</table>\n",
       "</div>\n",
       "      <button class=\"colab-df-convert\" onclick=\"convertToInteractive('df-55cd9584-a8ed-4fbb-bbd3-3425e272eca3')\"\n",
       "              title=\"Convert this dataframe to an interactive table.\"\n",
       "              style=\"display:none;\">\n",
       "        \n",
       "  <svg xmlns=\"http://www.w3.org/2000/svg\" height=\"24px\"viewBox=\"0 0 24 24\"\n",
       "       width=\"24px\">\n",
       "    <path d=\"M0 0h24v24H0V0z\" fill=\"none\"/>\n",
       "    <path d=\"M18.56 5.44l.94 2.06.94-2.06 2.06-.94-2.06-.94-.94-2.06-.94 2.06-2.06.94zm-11 1L8.5 8.5l.94-2.06 2.06-.94-2.06-.94L8.5 2.5l-.94 2.06-2.06.94zm10 10l.94 2.06.94-2.06 2.06-.94-2.06-.94-.94-2.06-.94 2.06-2.06.94z\"/><path d=\"M17.41 7.96l-1.37-1.37c-.4-.4-.92-.59-1.43-.59-.52 0-1.04.2-1.43.59L10.3 9.45l-7.72 7.72c-.78.78-.78 2.05 0 2.83L4 21.41c.39.39.9.59 1.41.59.51 0 1.02-.2 1.41-.59l7.78-7.78 2.81-2.81c.8-.78.8-2.07 0-2.86zM5.41 20L4 18.59l7.72-7.72 1.47 1.35L5.41 20z\"/>\n",
       "  </svg>\n",
       "      </button>\n",
       "      \n",
       "  <style>\n",
       "    .colab-df-container {\n",
       "      display:flex;\n",
       "      flex-wrap:wrap;\n",
       "      gap: 12px;\n",
       "    }\n",
       "\n",
       "    .colab-df-convert {\n",
       "      background-color: #E8F0FE;\n",
       "      border: none;\n",
       "      border-radius: 50%;\n",
       "      cursor: pointer;\n",
       "      display: none;\n",
       "      fill: #1967D2;\n",
       "      height: 32px;\n",
       "      padding: 0 0 0 0;\n",
       "      width: 32px;\n",
       "    }\n",
       "\n",
       "    .colab-df-convert:hover {\n",
       "      background-color: #E2EBFA;\n",
       "      box-shadow: 0px 1px 2px rgba(60, 64, 67, 0.3), 0px 1px 3px 1px rgba(60, 64, 67, 0.15);\n",
       "      fill: #174EA6;\n",
       "    }\n",
       "\n",
       "    [theme=dark] .colab-df-convert {\n",
       "      background-color: #3B4455;\n",
       "      fill: #D2E3FC;\n",
       "    }\n",
       "\n",
       "    [theme=dark] .colab-df-convert:hover {\n",
       "      background-color: #434B5C;\n",
       "      box-shadow: 0px 1px 3px 1px rgba(0, 0, 0, 0.15);\n",
       "      filter: drop-shadow(0px 1px 2px rgba(0, 0, 0, 0.3));\n",
       "      fill: #FFFFFF;\n",
       "    }\n",
       "  </style>\n",
       "\n",
       "      <script>\n",
       "        const buttonEl =\n",
       "          document.querySelector('#df-55cd9584-a8ed-4fbb-bbd3-3425e272eca3 button.colab-df-convert');\n",
       "        buttonEl.style.display =\n",
       "          google.colab.kernel.accessAllowed ? 'block' : 'none';\n",
       "\n",
       "        async function convertToInteractive(key) {\n",
       "          const element = document.querySelector('#df-55cd9584-a8ed-4fbb-bbd3-3425e272eca3');\n",
       "          const dataTable =\n",
       "            await google.colab.kernel.invokeFunction('convertToInteractive',\n",
       "                                                     [key], {});\n",
       "          if (!dataTable) return;\n",
       "\n",
       "          const docLinkHtml = 'Like what you see? Visit the ' +\n",
       "            '<a target=\"_blank\" href=https://colab.research.google.com/notebooks/data_table.ipynb>data table notebook</a>'\n",
       "            + ' to learn more about interactive tables.';\n",
       "          element.innerHTML = '';\n",
       "          dataTable['output_type'] = 'display_data';\n",
       "          await google.colab.output.renderOutput(dataTable, element);\n",
       "          const docLink = document.createElement('div');\n",
       "          docLink.innerHTML = docLinkHtml;\n",
       "          element.appendChild(docLink);\n",
       "        }\n",
       "      </script>\n",
       "    </div>\n",
       "  </div>\n",
       "  "
      ]
     },
     "metadata": {},
     "execution_count": 40
    }
   ]
  },
  {
   "cell_type": "markdown",
   "metadata": {
    "id": "jPcIFti41yTu"
   },
   "source": [
    "Seaborn makes histograms and density plots even easier through its distplot method, which can plot both a histogram and a continuous density estimate simultaneously. As an example, consider a bimodal distribution consisting of draws from two different standard normal distributions."
   ]
  },
  {
   "cell_type": "code",
   "metadata": {
    "id": "4Diq_xUz1yTu",
    "colab": {
     "base_uri": "https://localhost:8080/",
     "height": 473
    },
    "executionInfo": {
     "status": "ok",
     "timestamp": 1679843049639,
     "user_tz": -120,
     "elapsed": 685,
     "user": {
      "displayName": "Francesco GUERRA",
      "userId": "03589851697809460716"
     }
    },
    "outputId": "b92e1e11-2fcf-4da5-ebb8-1ecb3abc232d"
   },
   "source": [
    "plt.figure()\n",
    "comp1 = np.random.normal(0, 1, size=200)\n",
    "comp2 = np.random.normal(10, 2, size=200)\n",
    "values = pd.Series(np.concatenate([comp1, comp2]))\n",
    "sns.distplot(values, bins=100, color='k')"
   ],
   "execution_count": 41,
   "outputs": [
    {
     "output_type": "stream",
     "name": "stderr",
     "text": [
      "<ipython-input-41-49778331e656>:5: UserWarning: \n",
      "\n",
      "`distplot` is a deprecated function and will be removed in seaborn v0.14.0.\n",
      "\n",
      "Please adapt your code to use either `displot` (a figure-level function with\n",
      "similar flexibility) or `histplot` (an axes-level function for histograms).\n",
      "\n",
      "For a guide to updating your code to use the new functions, please see\n",
      "https://gist.github.com/mwaskom/de44147ed2974457ad6372750bbe5751\n",
      "\n",
      "  sns.distplot(values, bins=100, color='k')\n"
     ]
    },
    {
     "output_type": "execute_result",
     "data": {
      "text/plain": [
       "<Axes: ylabel='Density'>"
      ]
     },
     "metadata": {},
     "execution_count": 41
    },
    {
     "output_type": "display_data",
     "data": {
      "text/plain": [
       "<Figure size 432x288 with 1 Axes>"
      ],
      "image/png": "[encoded data removed]"
     },
     "metadata": {
      "needs_background": "light"
     }
    }
   ]
  },
  {
   "cell_type": "markdown",
   "metadata": {
    "id": "4cbGwOyW1yTx"
   },
   "source": [
    "### 2.4 Scatter or Point Plot"
   ]
  },
  {
   "cell_type": "markdown",
   "metadata": {
    "id": "6NjU1qbl1yTx"
   },
   "source": [
    "Point plots or scatter plots can be a useful way of examining the relationship between two one-dimensional data series."
   ]
  },
  {
   "cell_type": "code",
   "metadata": {
    "id": "KdeQlQwc1yTx"
   },
   "source": [
    "df = pd.DataFrame(np.random.rand(50, 4), columns=['a', 'b', 'c', 'd'])\n",
    "df.plot.scatter(x='a', y='b')"
   ],
   "execution_count": null,
   "outputs": []
  },
  {
   "cell_type": "code",
   "metadata": {
    "id": "0FkSKhk-1yT0"
   },
   "source": [
    "import seaborn as sns\n",
    "sns.lmplot(x='sepal length (cm)', y='sepal width (cm)', data=iris)\n",
    "#sns.scatterplot(x='sepallength', y='sepalwidth', data=iris)"
   ],
   "execution_count": null,
   "outputs": []
  },
  {
   "cell_type": "markdown",
   "metadata": {
    "id": "R12v2fsi1yT2"
   },
   "source": [
    "### 2.5 Faceting"
   ]
  },
  {
   "cell_type": "markdown",
   "metadata": {
    "id": "ljqt8ZZA1yT2"
   },
   "source": [
    "In exploratory data analysis it’s helpful to be able to look at all the scatter plots among a group of variables; this is known as a pairs plot or scatter plot matrix. Making such a plot from scratch is a bit of work, so seaborn has a convenient pairplot function, which supports placing histograms or density estimates of each variable along the diagonal."
   ]
  },
  {
   "cell_type": "code",
   "metadata": {
    "id": "6jh5myKh1yT2"
   },
   "source": [
    "sns.pairplot(iris)\n",
    "#df = sns.load_dataset('iris')"
   ],
   "execution_count": null,
   "outputs": []
  },
  {
   "cell_type": "markdown",
   "metadata": {
    "id": "pFJm-r501yT6"
   },
   "source": [
    "### 2.5 Box plots"
   ]
  },
  {
   "cell_type": "code",
   "metadata": {
    "id": "9QdkfMkaTP3_"
   },
   "source": [
    "plt.box\n",
    "\n",
    "df.plot.box"
   ],
   "execution_count": null,
   "outputs": []
  },
  {
   "cell_type": "code",
   "metadata": {
    "id": "G9Jn51S01yT6"
   },
   "source": [
    "import pandas as pd\n",
    "import numpy as np\n",
    "df = pd.DataFrame(np.random.rand(10, 5), columns=['A', 'B', 'C', 'D', 'E'])\n",
    "df.plot.box()"
   ],
   "execution_count": null,
   "outputs": []
  },
  {
   "cell_type": "code",
   "metadata": {
    "id": "Q3g9j8CKTTKn"
   },
   "source": [],
   "execution_count": null,
   "outputs": []
  },
  {
   "cell_type": "code",
   "metadata": {
    "id": "ESGEyM4M1yT9"
   },
   "source": [
    "sns.boxplot(data=np.random.rand(10, 5))"
   ],
   "execution_count": null,
   "outputs": []
  },
  {
   "cell_type": "markdown",
   "metadata": {
    "collapsed": true,
    "id": "J5mfYUCv1yT_"
   },
   "source": [
    "### 2.6 Heatmap"
   ]
  },
  {
   "cell_type": "code",
   "metadata": {
    "id": "zbt4K38MTZYt"
   },
   "source": [
    "iris.head(10)"
   ],
   "execution_count": null,
   "outputs": []
  },
  {
   "cell_type": "code",
   "metadata": {
    "id": "7EFitBGv6Ytl"
   },
   "source": [
    "iris.corr()"
   ],
   "execution_count": null,
   "outputs": []
  },
  {
   "cell_type": "code",
   "metadata": {
    "id": "e0kW-Mz01yT_"
   },
   "source": [
    "cax = plt.matshow(iris.corr())\n",
    "plt.xticks(np.arange(len(iris.columns.values)), iris)\n",
    "plt.yticks(np.arange(len(iris.columns.values)), iris)\n",
    "plt.colorbar(cax)"
   ],
   "execution_count": null,
   "outputs": []
  },
  {
   "cell_type": "code",
   "metadata": {
    "id": "AwM_GfDRT0YM"
   },
   "source": [
    "import seaborn as sns"
   ],
   "execution_count": null,
   "outputs": []
  },
  {
   "cell_type": "code",
   "metadata": {
    "id": "qiGqvDum1yUB"
   },
   "source": [
    "sns.heatmap(iris.corr(), annot=True)"
   ],
   "execution_count": null,
   "outputs": []
  },
  {
   "cell_type": "code",
   "metadata": {
    "id": "EYqtb5-FT6pq"
   },
   "source": [],
   "execution_count": null,
   "outputs": []
  }
 ]
}
