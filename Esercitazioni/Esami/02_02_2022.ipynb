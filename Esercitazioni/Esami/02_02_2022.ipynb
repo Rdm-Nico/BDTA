{
 "cells": [
  {
   "cell_type": "markdown",
   "source": [
    "# Prova 02_02_2022\n",
    "# Parte 1:\n",
    "Quante sono le istanze contenute nel dataset? **299** Il dataset è completo (cioè per ogni\n",
    "istanza tutti i valori di ogni attributo sono sempre correttamente specificati – non esistono\n",
    "\n",
    "“missing values”)? **no** Il dataset è bilanciato per quanto riguarda la classe da predire?\n",
    "**sbilanciato** I casi raccolti nel dataset sono equamente distribuiti per età? **no**"
   ],
   "metadata": {
    "collapsed": false
   }
  },
  {
   "cell_type": "code",
   "execution_count": 1,
   "outputs": [],
   "source": [
    "import pandas as pd\n",
    "import numpy as np"
   ],
   "metadata": {
    "collapsed": false,
    "ExecuteTime": {
     "start_time": "2023-06-12T10:52:35.420867Z",
     "end_time": "2023-06-12T10:52:36.583078Z"
    }
   }
  },
  {
   "cell_type": "code",
   "execution_count": 2,
   "outputs": [
    {
     "data": {
      "text/plain": "      age  anaemia  creatinine_phosphokinase  diabetes  ejection_fraction  \\\n0    75.0        0                       582         0                 20   \n1    55.0        0                      7861         0                 38   \n2    65.0        0                       146         0                 20   \n3    50.0        1                       111         0                 20   \n4    65.0        1                       160         1                 20   \n..    ...      ...                       ...       ...                ...   \n294  62.0        0                        61         1                 38   \n295  55.0        0                      1820         0                 38   \n296  45.0        0                      2060         1                 60   \n297  45.0        0                      2413         0                 38   \n298  50.0        0                       196         0                 45   \n\n     high_blood_pressure  platelets  serum_creatinine  serum_sodium  sex  \\\n0                      1  265000.00               1.9           130    1   \n1                      0  263358.03               1.1           136    1   \n2                      0  162000.00               1.3           129    1   \n3                      0  210000.00               1.9           137    1   \n4                      0  327000.00               2.7           116    0   \n..                   ...        ...               ...           ...  ...   \n294                    1  155000.00               1.1           143    1   \n295                    0  270000.00               1.2           139    0   \n296                    0  742000.00               0.8           138    0   \n297                    0  140000.00               1.4           140    1   \n298                    0  395000.00               1.6           136    1   \n\n     smoking  time  DEATH_EVENT  \n0          0     4            1  \n1          0     6            1  \n2          1     7            1  \n3          0     7            1  \n4          0     8            1  \n..       ...   ...          ...  \n294        1   270            0  \n295        0   271            0  \n296        0   278            0  \n297        1   280            0  \n298        1   285            0  \n\n[299 rows x 13 columns]",
      "text/html": "<div>\n<style scoped>\n    .dataframe tbody tr th:only-of-type {\n        vertical-align: middle;\n    }\n\n    .dataframe tbody tr th {\n        vertical-align: top;\n    }\n\n    .dataframe thead th {\n        text-align: right;\n    }\n</style>\n<table border=\"1\" class=\"dataframe\">\n  <thead>\n    <tr style=\"text-align: right;\">\n      <th></th>\n      <th>age</th>\n      <th>anaemia</th>\n      <th>creatinine_phosphokinase</th>\n      <th>diabetes</th>\n      <th>ejection_fraction</th>\n      <th>high_blood_pressure</th>\n      <th>platelets</th>\n      <th>serum_creatinine</th>\n      <th>serum_sodium</th>\n      <th>sex</th>\n      <th>smoking</th>\n      <th>time</th>\n      <th>DEATH_EVENT</th>\n    </tr>\n  </thead>\n  <tbody>\n    <tr>\n      <th>0</th>\n      <td>75.0</td>\n      <td>0</td>\n      <td>582</td>\n      <td>0</td>\n      <td>20</td>\n      <td>1</td>\n      <td>265000.00</td>\n      <td>1.9</td>\n      <td>130</td>\n      <td>1</td>\n      <td>0</td>\n      <td>4</td>\n      <td>1</td>\n    </tr>\n    <tr>\n      <th>1</th>\n      <td>55.0</td>\n      <td>0</td>\n      <td>7861</td>\n      <td>0</td>\n      <td>38</td>\n      <td>0</td>\n      <td>263358.03</td>\n      <td>1.1</td>\n      <td>136</td>\n      <td>1</td>\n      <td>0</td>\n      <td>6</td>\n      <td>1</td>\n    </tr>\n    <tr>\n      <th>2</th>\n      <td>65.0</td>\n      <td>0</td>\n      <td>146</td>\n      <td>0</td>\n      <td>20</td>\n      <td>0</td>\n      <td>162000.00</td>\n      <td>1.3</td>\n      <td>129</td>\n      <td>1</td>\n      <td>1</td>\n      <td>7</td>\n      <td>1</td>\n    </tr>\n    <tr>\n      <th>3</th>\n      <td>50.0</td>\n      <td>1</td>\n      <td>111</td>\n      <td>0</td>\n      <td>20</td>\n      <td>0</td>\n      <td>210000.00</td>\n      <td>1.9</td>\n      <td>137</td>\n      <td>1</td>\n      <td>0</td>\n      <td>7</td>\n      <td>1</td>\n    </tr>\n    <tr>\n      <th>4</th>\n      <td>65.0</td>\n      <td>1</td>\n      <td>160</td>\n      <td>1</td>\n      <td>20</td>\n      <td>0</td>\n      <td>327000.00</td>\n      <td>2.7</td>\n      <td>116</td>\n      <td>0</td>\n      <td>0</td>\n      <td>8</td>\n      <td>1</td>\n    </tr>\n    <tr>\n      <th>...</th>\n      <td>...</td>\n      <td>...</td>\n      <td>...</td>\n      <td>...</td>\n      <td>...</td>\n      <td>...</td>\n      <td>...</td>\n      <td>...</td>\n      <td>...</td>\n      <td>...</td>\n      <td>...</td>\n      <td>...</td>\n      <td>...</td>\n    </tr>\n    <tr>\n      <th>294</th>\n      <td>62.0</td>\n      <td>0</td>\n      <td>61</td>\n      <td>1</td>\n      <td>38</td>\n      <td>1</td>\n      <td>155000.00</td>\n      <td>1.1</td>\n      <td>143</td>\n      <td>1</td>\n      <td>1</td>\n      <td>270</td>\n      <td>0</td>\n    </tr>\n    <tr>\n      <th>295</th>\n      <td>55.0</td>\n      <td>0</td>\n      <td>1820</td>\n      <td>0</td>\n      <td>38</td>\n      <td>0</td>\n      <td>270000.00</td>\n      <td>1.2</td>\n      <td>139</td>\n      <td>0</td>\n      <td>0</td>\n      <td>271</td>\n      <td>0</td>\n    </tr>\n    <tr>\n      <th>296</th>\n      <td>45.0</td>\n      <td>0</td>\n      <td>2060</td>\n      <td>1</td>\n      <td>60</td>\n      <td>0</td>\n      <td>742000.00</td>\n      <td>0.8</td>\n      <td>138</td>\n      <td>0</td>\n      <td>0</td>\n      <td>278</td>\n      <td>0</td>\n    </tr>\n    <tr>\n      <th>297</th>\n      <td>45.0</td>\n      <td>0</td>\n      <td>2413</td>\n      <td>0</td>\n      <td>38</td>\n      <td>0</td>\n      <td>140000.00</td>\n      <td>1.4</td>\n      <td>140</td>\n      <td>1</td>\n      <td>1</td>\n      <td>280</td>\n      <td>0</td>\n    </tr>\n    <tr>\n      <th>298</th>\n      <td>50.0</td>\n      <td>0</td>\n      <td>196</td>\n      <td>0</td>\n      <td>45</td>\n      <td>0</td>\n      <td>395000.00</td>\n      <td>1.6</td>\n      <td>136</td>\n      <td>1</td>\n      <td>1</td>\n      <td>285</td>\n      <td>0</td>\n    </tr>\n  </tbody>\n</table>\n<p>299 rows × 13 columns</p>\n</div>"
     },
     "execution_count": 2,
     "metadata": {},
     "output_type": "execute_result"
    }
   ],
   "source": [
    "df = pd.read_csv(\"Data/heart_failure_clinical_records_dataset.csv\",sep=',')\n",
    "df"
   ],
   "metadata": {
    "collapsed": false,
    "ExecuteTime": {
     "start_time": "2023-06-12T10:52:36.584931Z",
     "end_time": "2023-06-12T10:52:36.607307Z"
    }
   }
  },
  {
   "cell_type": "code",
   "execution_count": 3,
   "outputs": [
    {
     "data": {
      "text/plain": "age                         0\nanaemia                     0\ncreatinine_phosphokinase    0\ndiabetes                    0\nejection_fraction           0\nhigh_blood_pressure         0\nplatelets                   0\nserum_creatinine            0\nserum_sodium                0\nsex                         0\nsmoking                     0\ntime                        0\nDEATH_EVENT                 0\ndtype: int64"
     },
     "execution_count": 3,
     "metadata": {},
     "output_type": "execute_result"
    }
   ],
   "source": [
    "df.isna().sum()"
   ],
   "metadata": {
    "collapsed": false,
    "ExecuteTime": {
     "start_time": "2023-06-12T10:52:36.606404Z",
     "end_time": "2023-06-12T10:52:36.613070Z"
    }
   }
  },
  {
   "cell_type": "code",
   "execution_count": 4,
   "outputs": [
    {
     "data": {
      "text/plain": "DEATH_EVENT\n0    203\n1     96\nName: time, dtype: int64"
     },
     "execution_count": 4,
     "metadata": {},
     "output_type": "execute_result"
    }
   ],
   "source": [
    "df.groupby(\"DEATH_EVENT\")[\"time\"].count()"
   ],
   "metadata": {
    "collapsed": false,
    "ExecuteTime": {
     "start_time": "2023-06-12T10:52:36.611135Z",
     "end_time": "2023-06-12T10:52:36.617016Z"
    }
   }
  },
  {
   "cell_type": "code",
   "execution_count": 5,
   "outputs": [
    {
     "data": {
      "text/plain": "age\n40.000     7\n41.000     1\n42.000     7\n43.000     1\n44.000     2\n45.000    19\n46.000     3\n47.000     1\n48.000     2\n49.000     4\n50.000    27\n51.000     4\n52.000     5\n53.000    10\n54.000     2\n55.000    17\n56.000     1\n57.000     2\n58.000    10\n59.000     4\n60.000    33\n60.667     2\n61.000     4\n62.000     5\n63.000     8\n64.000     3\n65.000    26\n66.000     2\n67.000     2\n68.000     5\n69.000     3\n70.000    25\n72.000     7\n73.000     4\n75.000    11\n77.000     2\n78.000     2\n79.000     1\n80.000     7\n81.000     1\n82.000     3\n85.000     6\n86.000     1\n87.000     1\n90.000     3\n94.000     1\n95.000     2\nName: time, dtype: int64"
     },
     "execution_count": 5,
     "metadata": {},
     "output_type": "execute_result"
    }
   ],
   "source": [
    "df.groupby(\"age\")[\"time\"].count()"
   ],
   "metadata": {
    "collapsed": false,
    "ExecuteTime": {
     "start_time": "2023-06-12T10:52:36.619231Z",
     "end_time": "2023-06-12T10:52:36.624484Z"
    }
   }
  },
  {
   "cell_type": "code",
   "execution_count": 6,
   "outputs": [
    {
     "data": {
      "text/plain": "<AxesSubplot:>"
     },
     "execution_count": 6,
     "metadata": {},
     "output_type": "execute_result"
    },
    {
     "data": {
      "text/plain": "<Figure size 640x480 with 1 Axes>",
      "image/png": "[encoded data removed]"
     },
     "metadata": {},
     "output_type": "display_data"
    }
   ],
   "source": [
    "df.age.hist(bins=100)"
   ],
   "metadata": {
    "collapsed": false,
    "ExecuteTime": {
     "start_time": "2023-06-12T10:52:36.625400Z",
     "end_time": "2023-06-12T10:52:37.409132Z"
    }
   }
  },
  {
   "cell_type": "markdown",
   "source": [
    "# 1.2\n",
    "Verificare se è vero che ci sono meno decessi tra le donne (sex = 0). Rappresentare\n",
    "graficamente se possibile quanto emerge dai dati:\n",
    "Sono circa uguali\n"
   ],
   "metadata": {
    "collapsed": false
   }
  },
  {
   "cell_type": "code",
   "execution_count": 7,
   "outputs": [],
   "source": [
    "new_df = df.copy()\n",
    "new_df_female = new_df.loc[new_df.sex == 0]\n",
    "new_df_male = new_df.loc[new_df.sex == 1]"
   ],
   "metadata": {
    "collapsed": false,
    "ExecuteTime": {
     "start_time": "2023-06-12T10:55:19.917967Z",
     "end_time": "2023-06-12T10:55:19.924089Z"
    }
   }
  },
  {
   "cell_type": "code",
   "execution_count": 8,
   "outputs": [
    {
     "data": {
      "text/plain": "DEATH_EVENT\n0    0.67619\n1    0.32381\nName: age, dtype: float64"
     },
     "execution_count": 8,
     "metadata": {},
     "output_type": "execute_result"
    }
   ],
   "source": [
    "new_df_female.groupby(\"DEATH_EVENT\")[\"age\"].count() / len(new_df_female)"
   ],
   "metadata": {
    "collapsed": false,
    "ExecuteTime": {
     "start_time": "2023-06-12T10:55:21.143152Z",
     "end_time": "2023-06-12T10:55:21.145932Z"
    }
   }
  },
  {
   "cell_type": "code",
   "execution_count": 9,
   "outputs": [
    {
     "data": {
      "text/plain": "DEATH_EVENT\n0    0.680412\n1    0.319588\nName: age, dtype: float64"
     },
     "execution_count": 9,
     "metadata": {},
     "output_type": "execute_result"
    }
   ],
   "source": [
    "new_df_male.groupby(\"DEATH_EVENT\")[\"age\"].count() / len(new_df_male)"
   ],
   "metadata": {
    "collapsed": false,
    "ExecuteTime": {
     "start_time": "2023-06-12T10:55:22.754751Z",
     "end_time": "2023-06-12T10:55:22.760155Z"
    }
   }
  },
  {
   "cell_type": "code",
   "execution_count": 10,
   "outputs": [
    {
     "data": {
      "text/plain": "<AxesSubplot:xlabel='sex'>"
     },
     "execution_count": 10,
     "metadata": {},
     "output_type": "execute_result"
    },
    {
     "data": {
      "text/plain": "<Figure size 640x480 with 1 Axes>",
      "image/png": "[encoded data removed]"
     },
     "metadata": {},
     "output_type": "display_data"
    }
   ],
   "source": [
    "pd.pivot_table(df, 'age', index=\"sex\", columns='DEATH_EVENT', aggfunc='count').plot(kind=\"bar\")"
   ],
   "metadata": {
    "collapsed": false,
    "ExecuteTime": {
     "start_time": "2023-06-12T10:56:50.899846Z",
     "end_time": "2023-06-12T10:56:50.985954Z"
    }
   }
  },
  {
   "cell_type": "markdown",
   "source": [
    "# 1.3\n",
    "Realizzare una pivot_table in cui rappresentare la percentuale di decessi considerando la\n",
    "variabile age (sulle righe e suddivisa in 5 gruppi), la variabile sex e la variabile smoking\n",
    "(entrambe sulle colonne)"
   ],
   "metadata": {
    "collapsed": false
   }
  },
  {
   "cell_type": "code",
   "execution_count": 11,
   "outputs": [
    {
     "data": {
      "text/plain": "                age  anaemia  creatinine_phosphokinase  diabetes  \\\n0      (73.0, 84.0]        0                       582         0   \n1      (51.0, 62.0]        0                      7861         0   \n2      (62.0, 73.0]        0                       146         0   \n3    (39.945, 51.0]        1                       111         0   \n4      (62.0, 73.0]        1                       160         1   \n..              ...      ...                       ...       ...   \n294    (51.0, 62.0]        0                        61         1   \n295    (51.0, 62.0]        0                      1820         0   \n296  (39.945, 51.0]        0                      2060         1   \n297  (39.945, 51.0]        0                      2413         0   \n298  (39.945, 51.0]        0                       196         0   \n\n     ejection_fraction  high_blood_pressure  platelets  serum_creatinine  \\\n0                   20                    1  265000.00               1.9   \n1                   38                    0  263358.03               1.1   \n2                   20                    0  162000.00               1.3   \n3                   20                    0  210000.00               1.9   \n4                   20                    0  327000.00               2.7   \n..                 ...                  ...        ...               ...   \n294                 38                    1  155000.00               1.1   \n295                 38                    0  270000.00               1.2   \n296                 60                    0  742000.00               0.8   \n297                 38                    0  140000.00               1.4   \n298                 45                    0  395000.00               1.6   \n\n     serum_sodium  sex  smoking  time  DEATH_EVENT  \n0             130    1        0     4            1  \n1             136    1        0     6            1  \n2             129    1        1     7            1  \n3             137    1        0     7            1  \n4             116    0        0     8            1  \n..            ...  ...      ...   ...          ...  \n294           143    1        1   270            0  \n295           139    0        0   271            0  \n296           138    0        0   278            0  \n297           140    1        1   280            0  \n298           136    1        1   285            0  \n\n[299 rows x 13 columns]",
      "text/html": "<div>\n<style scoped>\n    .dataframe tbody tr th:only-of-type {\n        vertical-align: middle;\n    }\n\n    .dataframe tbody tr th {\n        vertical-align: top;\n    }\n\n    .dataframe thead th {\n        text-align: right;\n    }\n</style>\n<table border=\"1\" class=\"dataframe\">\n  <thead>\n    <tr style=\"text-align: right;\">\n      <th></th>\n      <th>age</th>\n      <th>anaemia</th>\n      <th>creatinine_phosphokinase</th>\n      <th>diabetes</th>\n      <th>ejection_fraction</th>\n      <th>high_blood_pressure</th>\n      <th>platelets</th>\n      <th>serum_creatinine</th>\n      <th>serum_sodium</th>\n      <th>sex</th>\n      <th>smoking</th>\n      <th>time</th>\n      <th>DEATH_EVENT</th>\n    </tr>\n  </thead>\n  <tbody>\n    <tr>\n      <th>0</th>\n      <td>(73.0, 84.0]</td>\n      <td>0</td>\n      <td>582</td>\n      <td>0</td>\n      <td>20</td>\n      <td>1</td>\n      <td>265000.00</td>\n      <td>1.9</td>\n      <td>130</td>\n      <td>1</td>\n      <td>0</td>\n      <td>4</td>\n      <td>1</td>\n    </tr>\n    <tr>\n      <th>1</th>\n      <td>(51.0, 62.0]</td>\n      <td>0</td>\n      <td>7861</td>\n      <td>0</td>\n      <td>38</td>\n      <td>0</td>\n      <td>263358.03</td>\n      <td>1.1</td>\n      <td>136</td>\n      <td>1</td>\n      <td>0</td>\n      <td>6</td>\n      <td>1</td>\n    </tr>\n    <tr>\n      <th>2</th>\n      <td>(62.0, 73.0]</td>\n      <td>0</td>\n      <td>146</td>\n      <td>0</td>\n      <td>20</td>\n      <td>0</td>\n      <td>162000.00</td>\n      <td>1.3</td>\n      <td>129</td>\n      <td>1</td>\n      <td>1</td>\n      <td>7</td>\n      <td>1</td>\n    </tr>\n    <tr>\n      <th>3</th>\n      <td>(39.945, 51.0]</td>\n      <td>1</td>\n      <td>111</td>\n      <td>0</td>\n      <td>20</td>\n      <td>0</td>\n      <td>210000.00</td>\n      <td>1.9</td>\n      <td>137</td>\n      <td>1</td>\n      <td>0</td>\n      <td>7</td>\n      <td>1</td>\n    </tr>\n    <tr>\n      <th>4</th>\n      <td>(62.0, 73.0]</td>\n      <td>1</td>\n      <td>160</td>\n      <td>1</td>\n      <td>20</td>\n      <td>0</td>\n      <td>327000.00</td>\n      <td>2.7</td>\n      <td>116</td>\n      <td>0</td>\n      <td>0</td>\n      <td>8</td>\n      <td>1</td>\n    </tr>\n    <tr>\n      <th>...</th>\n      <td>...</td>\n      <td>...</td>\n      <td>...</td>\n      <td>...</td>\n      <td>...</td>\n      <td>...</td>\n      <td>...</td>\n      <td>...</td>\n      <td>...</td>\n      <td>...</td>\n      <td>...</td>\n      <td>...</td>\n      <td>...</td>\n    </tr>\n    <tr>\n      <th>294</th>\n      <td>(51.0, 62.0]</td>\n      <td>0</td>\n      <td>61</td>\n      <td>1</td>\n      <td>38</td>\n      <td>1</td>\n      <td>155000.00</td>\n      <td>1.1</td>\n      <td>143</td>\n      <td>1</td>\n      <td>1</td>\n      <td>270</td>\n      <td>0</td>\n    </tr>\n    <tr>\n      <th>295</th>\n      <td>(51.0, 62.0]</td>\n      <td>0</td>\n      <td>1820</td>\n      <td>0</td>\n      <td>38</td>\n      <td>0</td>\n      <td>270000.00</td>\n      <td>1.2</td>\n      <td>139</td>\n      <td>0</td>\n      <td>0</td>\n      <td>271</td>\n      <td>0</td>\n    </tr>\n    <tr>\n      <th>296</th>\n      <td>(39.945, 51.0]</td>\n      <td>0</td>\n      <td>2060</td>\n      <td>1</td>\n      <td>60</td>\n      <td>0</td>\n      <td>742000.00</td>\n      <td>0.8</td>\n      <td>138</td>\n      <td>0</td>\n      <td>0</td>\n      <td>278</td>\n      <td>0</td>\n    </tr>\n    <tr>\n      <th>297</th>\n      <td>(39.945, 51.0]</td>\n      <td>0</td>\n      <td>2413</td>\n      <td>0</td>\n      <td>38</td>\n      <td>0</td>\n      <td>140000.00</td>\n      <td>1.4</td>\n      <td>140</td>\n      <td>1</td>\n      <td>1</td>\n      <td>280</td>\n      <td>0</td>\n    </tr>\n    <tr>\n      <th>298</th>\n      <td>(39.945, 51.0]</td>\n      <td>0</td>\n      <td>196</td>\n      <td>0</td>\n      <td>45</td>\n      <td>0</td>\n      <td>395000.00</td>\n      <td>1.6</td>\n      <td>136</td>\n      <td>1</td>\n      <td>1</td>\n      <td>285</td>\n      <td>0</td>\n    </tr>\n  </tbody>\n</table>\n<p>299 rows × 13 columns</p>\n</div>"
     },
     "execution_count": 11,
     "metadata": {},
     "output_type": "execute_result"
    }
   ],
   "source": [
    "# fare il bin della age\n",
    "new_df = df.copy()\n",
    "ages = pd.cut(new_df[\"age\"],bins=5)\n",
    "new_df[\"age\"] = ages.values\n",
    "new_df"
   ],
   "metadata": {
    "collapsed": false,
    "ExecuteTime": {
     "start_time": "2023-06-12T10:57:27.720690Z",
     "end_time": "2023-06-12T10:57:27.723343Z"
    }
   }
  },
  {
   "cell_type": "code",
   "execution_count": 12,
   "outputs": [
    {
     "data": {
      "text/plain": "sex                    0              1          \nsmoking                0    1         0         1\nage                                              \n(39.945, 51.0]  0.258065  1.0  0.346154  0.100000\n(51.0, 62.0]    0.333333  1.0  0.218750  0.250000\n(62.0, 73.0]    0.250000  0.5  0.260870  0.357143\n(73.0, 84.0]    0.750000  0.0  0.571429  0.444444\n(84.0, 95.0]    0.500000  0.0  0.714286  1.000000",
      "text/html": "<div>\n<style scoped>\n    .dataframe tbody tr th:only-of-type {\n        vertical-align: middle;\n    }\n\n    .dataframe tbody tr th {\n        vertical-align: top;\n    }\n\n    .dataframe thead tr th {\n        text-align: left;\n    }\n\n    .dataframe thead tr:last-of-type th {\n        text-align: right;\n    }\n</style>\n<table border=\"1\" class=\"dataframe\">\n  <thead>\n    <tr>\n      <th>sex</th>\n      <th colspan=\"2\" halign=\"left\">0</th>\n      <th colspan=\"2\" halign=\"left\">1</th>\n    </tr>\n    <tr>\n      <th>smoking</th>\n      <th>0</th>\n      <th>1</th>\n      <th>0</th>\n      <th>1</th>\n    </tr>\n    <tr>\n      <th>age</th>\n      <th></th>\n      <th></th>\n      <th></th>\n      <th></th>\n    </tr>\n  </thead>\n  <tbody>\n    <tr>\n      <th>(39.945, 51.0]</th>\n      <td>0.258065</td>\n      <td>1.0</td>\n      <td>0.346154</td>\n      <td>0.100000</td>\n    </tr>\n    <tr>\n      <th>(51.0, 62.0]</th>\n      <td>0.333333</td>\n      <td>1.0</td>\n      <td>0.218750</td>\n      <td>0.250000</td>\n    </tr>\n    <tr>\n      <th>(62.0, 73.0]</th>\n      <td>0.250000</td>\n      <td>0.5</td>\n      <td>0.260870</td>\n      <td>0.357143</td>\n    </tr>\n    <tr>\n      <th>(73.0, 84.0]</th>\n      <td>0.750000</td>\n      <td>0.0</td>\n      <td>0.571429</td>\n      <td>0.444444</td>\n    </tr>\n    <tr>\n      <th>(84.0, 95.0]</th>\n      <td>0.500000</td>\n      <td>0.0</td>\n      <td>0.714286</td>\n      <td>1.000000</td>\n    </tr>\n  </tbody>\n</table>\n</div>"
     },
     "execution_count": 12,
     "metadata": {},
     "output_type": "execute_result"
    }
   ],
   "source": [
    "table = pd.pivot_table(new_df,values=\"DEATH_EVENT\", index=\"age\", columns=[\"sex\",\"smoking\"],fill_value=0)\n",
    "table"
   ],
   "metadata": {
    "collapsed": false,
    "ExecuteTime": {
     "start_time": "2023-06-12T10:57:55.568710Z",
     "end_time": "2023-06-12T10:57:55.584694Z"
    }
   }
  },
  {
   "cell_type": "markdown",
   "source": [
    "## 1.4\n",
    "Verificare se è vero che generalmente le persone anemiche (anaemia==true) sono anche\n",
    "diabetiche (diabetes == true)\n",
    "\n",
    "No generalmente no"
   ],
   "metadata": {
    "collapsed": false
   }
  },
  {
   "cell_type": "code",
   "execution_count": 13,
   "outputs": [
    {
     "data": {
      "text/plain": "0.4108527131782946"
     },
     "execution_count": 13,
     "metadata": {},
     "output_type": "execute_result"
    }
   ],
   "source": [
    "new_df = df.copy()\n",
    "new_df_anaemia_diabetes = new_df.loc[(new_df.anaemia == 1) & (new_df.diabetes == 1)]\n",
    "new_df_anaemia_diabetes.shape[0] / new_df.loc[(new_df.anaemia == 1)].shape[0]"
   ],
   "metadata": {
    "collapsed": false,
    "ExecuteTime": {
     "start_time": "2023-06-12T10:59:03.245710Z",
     "end_time": "2023-06-12T10:59:03.253787Z"
    }
   }
  },
  {
   "cell_type": "markdown",
   "source": [
    "# 1.5\n",
    "La frequenza dei decessi è uniforme nelle età considerate nel dataset? Mostrare l’analisi\n",
    "attraverso un opportuno grafico"
   ],
   "metadata": {
    "collapsed": false
   }
  },
  {
   "cell_type": "code",
   "execution_count": 14,
   "outputs": [
    {
     "data": {
      "text/plain": "<AxesSubplot:>"
     },
     "execution_count": 14,
     "metadata": {},
     "output_type": "execute_result"
    },
    {
     "data": {
      "text/plain": "<Figure size 640x480 with 1 Axes>",
      "image/png": "[encoded data removed]"
     },
     "metadata": {},
     "output_type": "display_data"
    }
   ],
   "source": [
    "new_df = df.copy()\n",
    "new_df = new_df.loc[new_df.DEATH_EVENT == 1]\n",
    "new_df[\"age\"].hist(bins=100)"
   ],
   "metadata": {
    "collapsed": false,
    "ExecuteTime": {
     "start_time": "2023-06-12T10:59:19.640344Z",
     "end_time": "2023-06-12T10:59:19.807903Z"
    }
   }
  },
  {
   "cell_type": "markdown",
   "source": [
    "# Parte 2:\n",
    "## 2.1\n",
    "Si vuole predire il valore di death event sulla base degli attributi presenti nel dataset.\n",
    "Dividere il dataset in modo che 2/3 degli elementi siano contenuti in un nuovo dataset “train” e\n",
    "1/3 nel dataset “test”. Eliminare gli eventuali attributi che non concorrono alla predizione\n",
    "(identificatori se presenti o altri attributi, giustificare la scelta).\n",
    "Allenare il train con il modello Decision Tree e valutare l’accuracy ottenuta calcolata sia sul\n",
    "dataset train sia sul dataset test. Confrontare i risultati ottenuti con quelli ottenuti con una\n",
    "predizione basata sul modello Logistic Regression (ignorare eventuali warning). Effettuare alcune\n",
    "considerazioni sui risultati ottenuti, tenendo in considerazione anche l’analisi della confusion\n",
    "matrix e la predizione effettuata da un dummy classifier."
   ],
   "metadata": {
    "collapsed": false
   }
  },
  {
   "cell_type": "code",
   "execution_count": 15,
   "outputs": [],
   "source": [
    "new_df  = df.copy()"
   ],
   "metadata": {
    "collapsed": false,
    "ExecuteTime": {
     "start_time": "2023-06-12T11:00:47.649051Z",
     "end_time": "2023-06-12T11:00:47.656505Z"
    }
   }
  },
  {
   "cell_type": "code",
   "execution_count": 16,
   "outputs": [
    {
     "data": {
      "text/plain": "      age  anaemia  creatinine_phosphokinase  diabetes  ejection_fraction  \\\n0    75.0        0                       582         0                 20   \n1    55.0        0                      7861         0                 38   \n2    65.0        0                       146         0                 20   \n3    50.0        1                       111         0                 20   \n4    65.0        1                       160         1                 20   \n..    ...      ...                       ...       ...                ...   \n294  62.0        0                        61         1                 38   \n295  55.0        0                      1820         0                 38   \n296  45.0        0                      2060         1                 60   \n297  45.0        0                      2413         0                 38   \n298  50.0        0                       196         0                 45   \n\n     high_blood_pressure  platelets  serum_creatinine  serum_sodium  sex  \\\n0                      1  265000.00               1.9           130    1   \n1                      0  263358.03               1.1           136    1   \n2                      0  162000.00               1.3           129    1   \n3                      0  210000.00               1.9           137    1   \n4                      0  327000.00               2.7           116    0   \n..                   ...        ...               ...           ...  ...   \n294                    1  155000.00               1.1           143    1   \n295                    0  270000.00               1.2           139    0   \n296                    0  742000.00               0.8           138    0   \n297                    0  140000.00               1.4           140    1   \n298                    0  395000.00               1.6           136    1   \n\n     smoking  time  DEATH_EVENT  \n0          0     4            1  \n1          0     6            1  \n2          1     7            1  \n3          0     7            1  \n4          0     8            1  \n..       ...   ...          ...  \n294        1   270            0  \n295        0   271            0  \n296        0   278            0  \n297        1   280            0  \n298        1   285            0  \n\n[299 rows x 13 columns]",
      "text/html": "<div>\n<style scoped>\n    .dataframe tbody tr th:only-of-type {\n        vertical-align: middle;\n    }\n\n    .dataframe tbody tr th {\n        vertical-align: top;\n    }\n\n    .dataframe thead th {\n        text-align: right;\n    }\n</style>\n<table border=\"1\" class=\"dataframe\">\n  <thead>\n    <tr style=\"text-align: right;\">\n      <th></th>\n      <th>age</th>\n      <th>anaemia</th>\n      <th>creatinine_phosphokinase</th>\n      <th>diabetes</th>\n      <th>ejection_fraction</th>\n      <th>high_blood_pressure</th>\n      <th>platelets</th>\n      <th>serum_creatinine</th>\n      <th>serum_sodium</th>\n      <th>sex</th>\n      <th>smoking</th>\n      <th>time</th>\n      <th>DEATH_EVENT</th>\n    </tr>\n  </thead>\n  <tbody>\n    <tr>\n      <th>0</th>\n      <td>75.0</td>\n      <td>0</td>\n      <td>582</td>\n      <td>0</td>\n      <td>20</td>\n      <td>1</td>\n      <td>265000.00</td>\n      <td>1.9</td>\n      <td>130</td>\n      <td>1</td>\n      <td>0</td>\n      <td>4</td>\n      <td>1</td>\n    </tr>\n    <tr>\n      <th>1</th>\n      <td>55.0</td>\n      <td>0</td>\n      <td>7861</td>\n      <td>0</td>\n      <td>38</td>\n      <td>0</td>\n      <td>263358.03</td>\n      <td>1.1</td>\n      <td>136</td>\n      <td>1</td>\n      <td>0</td>\n      <td>6</td>\n      <td>1</td>\n    </tr>\n    <tr>\n      <th>2</th>\n      <td>65.0</td>\n      <td>0</td>\n      <td>146</td>\n      <td>0</td>\n      <td>20</td>\n      <td>0</td>\n      <td>162000.00</td>\n      <td>1.3</td>\n      <td>129</td>\n      <td>1</td>\n      <td>1</td>\n      <td>7</td>\n      <td>1</td>\n    </tr>\n    <tr>\n      <th>3</th>\n      <td>50.0</td>\n      <td>1</td>\n      <td>111</td>\n      <td>0</td>\n      <td>20</td>\n      <td>0</td>\n      <td>210000.00</td>\n      <td>1.9</td>\n      <td>137</td>\n      <td>1</td>\n      <td>0</td>\n      <td>7</td>\n      <td>1</td>\n    </tr>\n    <tr>\n      <th>4</th>\n      <td>65.0</td>\n      <td>1</td>\n      <td>160</td>\n      <td>1</td>\n      <td>20</td>\n      <td>0</td>\n      <td>327000.00</td>\n      <td>2.7</td>\n      <td>116</td>\n      <td>0</td>\n      <td>0</td>\n      <td>8</td>\n      <td>1</td>\n    </tr>\n    <tr>\n      <th>...</th>\n      <td>...</td>\n      <td>...</td>\n      <td>...</td>\n      <td>...</td>\n      <td>...</td>\n      <td>...</td>\n      <td>...</td>\n      <td>...</td>\n      <td>...</td>\n      <td>...</td>\n      <td>...</td>\n      <td>...</td>\n      <td>...</td>\n    </tr>\n    <tr>\n      <th>294</th>\n      <td>62.0</td>\n      <td>0</td>\n      <td>61</td>\n      <td>1</td>\n      <td>38</td>\n      <td>1</td>\n      <td>155000.00</td>\n      <td>1.1</td>\n      <td>143</td>\n      <td>1</td>\n      <td>1</td>\n      <td>270</td>\n      <td>0</td>\n    </tr>\n    <tr>\n      <th>295</th>\n      <td>55.0</td>\n      <td>0</td>\n      <td>1820</td>\n      <td>0</td>\n      <td>38</td>\n      <td>0</td>\n      <td>270000.00</td>\n      <td>1.2</td>\n      <td>139</td>\n      <td>0</td>\n      <td>0</td>\n      <td>271</td>\n      <td>0</td>\n    </tr>\n    <tr>\n      <th>296</th>\n      <td>45.0</td>\n      <td>0</td>\n      <td>2060</td>\n      <td>1</td>\n      <td>60</td>\n      <td>0</td>\n      <td>742000.00</td>\n      <td>0.8</td>\n      <td>138</td>\n      <td>0</td>\n      <td>0</td>\n      <td>278</td>\n      <td>0</td>\n    </tr>\n    <tr>\n      <th>297</th>\n      <td>45.0</td>\n      <td>0</td>\n      <td>2413</td>\n      <td>0</td>\n      <td>38</td>\n      <td>0</td>\n      <td>140000.00</td>\n      <td>1.4</td>\n      <td>140</td>\n      <td>1</td>\n      <td>1</td>\n      <td>280</td>\n      <td>0</td>\n    </tr>\n    <tr>\n      <th>298</th>\n      <td>50.0</td>\n      <td>0</td>\n      <td>196</td>\n      <td>0</td>\n      <td>45</td>\n      <td>0</td>\n      <td>395000.00</td>\n      <td>1.6</td>\n      <td>136</td>\n      <td>1</td>\n      <td>1</td>\n      <td>285</td>\n      <td>0</td>\n    </tr>\n  </tbody>\n</table>\n<p>299 rows × 13 columns</p>\n</div>"
     },
     "execution_count": 16,
     "metadata": {},
     "output_type": "execute_result"
    }
   ],
   "source": [
    "new_df"
   ],
   "metadata": {
    "collapsed": false,
    "ExecuteTime": {
     "start_time": "2023-06-12T11:00:55.541389Z",
     "end_time": "2023-06-12T11:00:55.548287Z"
    }
   }
  },
  {
   "cell_type": "code",
   "execution_count": 17,
   "outputs": [
    {
     "data": {
      "text/plain": "      age  anaemia  creatinine_phosphokinase  diabetes  ejection_fraction  \\\n0    75.0        0                       582         0                 20   \n1    55.0        0                      7861         0                 38   \n2    65.0        0                       146         0                 20   \n3    50.0        1                       111         0                 20   \n4    65.0        1                       160         1                 20   \n..    ...      ...                       ...       ...                ...   \n294  62.0        0                        61         1                 38   \n295  55.0        0                      1820         0                 38   \n296  45.0        0                      2060         1                 60   \n297  45.0        0                      2413         0                 38   \n298  50.0        0                       196         0                 45   \n\n     high_blood_pressure  platelets  serum_creatinine  serum_sodium  sex  \\\n0                      1  265000.00               1.9           130    1   \n1                      0  263358.03               1.1           136    1   \n2                      0  162000.00               1.3           129    1   \n3                      0  210000.00               1.9           137    1   \n4                      0  327000.00               2.7           116    0   \n..                   ...        ...               ...           ...  ...   \n294                    1  155000.00               1.1           143    1   \n295                    0  270000.00               1.2           139    0   \n296                    0  742000.00               0.8           138    0   \n297                    0  140000.00               1.4           140    1   \n298                    0  395000.00               1.6           136    1   \n\n     smoking  DEATH_EVENT  \n0          0            1  \n1          0            1  \n2          1            1  \n3          0            1  \n4          0            1  \n..       ...          ...  \n294        1            0  \n295        0            0  \n296        0            0  \n297        1            0  \n298        1            0  \n\n[299 rows x 12 columns]",
      "text/html": "<div>\n<style scoped>\n    .dataframe tbody tr th:only-of-type {\n        vertical-align: middle;\n    }\n\n    .dataframe tbody tr th {\n        vertical-align: top;\n    }\n\n    .dataframe thead th {\n        text-align: right;\n    }\n</style>\n<table border=\"1\" class=\"dataframe\">\n  <thead>\n    <tr style=\"text-align: right;\">\n      <th></th>\n      <th>age</th>\n      <th>anaemia</th>\n      <th>creatinine_phosphokinase</th>\n      <th>diabetes</th>\n      <th>ejection_fraction</th>\n      <th>high_blood_pressure</th>\n      <th>platelets</th>\n      <th>serum_creatinine</th>\n      <th>serum_sodium</th>\n      <th>sex</th>\n      <th>smoking</th>\n      <th>DEATH_EVENT</th>\n    </tr>\n  </thead>\n  <tbody>\n    <tr>\n      <th>0</th>\n      <td>75.0</td>\n      <td>0</td>\n      <td>582</td>\n      <td>0</td>\n      <td>20</td>\n      <td>1</td>\n      <td>265000.00</td>\n      <td>1.9</td>\n      <td>130</td>\n      <td>1</td>\n      <td>0</td>\n      <td>1</td>\n    </tr>\n    <tr>\n      <th>1</th>\n      <td>55.0</td>\n      <td>0</td>\n      <td>7861</td>\n      <td>0</td>\n      <td>38</td>\n      <td>0</td>\n      <td>263358.03</td>\n      <td>1.1</td>\n      <td>136</td>\n      <td>1</td>\n      <td>0</td>\n      <td>1</td>\n    </tr>\n    <tr>\n      <th>2</th>\n      <td>65.0</td>\n      <td>0</td>\n      <td>146</td>\n      <td>0</td>\n      <td>20</td>\n      <td>0</td>\n      <td>162000.00</td>\n      <td>1.3</td>\n      <td>129</td>\n      <td>1</td>\n      <td>1</td>\n      <td>1</td>\n    </tr>\n    <tr>\n      <th>3</th>\n      <td>50.0</td>\n      <td>1</td>\n      <td>111</td>\n      <td>0</td>\n      <td>20</td>\n      <td>0</td>\n      <td>210000.00</td>\n      <td>1.9</td>\n      <td>137</td>\n      <td>1</td>\n      <td>0</td>\n      <td>1</td>\n    </tr>\n    <tr>\n      <th>4</th>\n      <td>65.0</td>\n      <td>1</td>\n      <td>160</td>\n      <td>1</td>\n      <td>20</td>\n      <td>0</td>\n      <td>327000.00</td>\n      <td>2.7</td>\n      <td>116</td>\n      <td>0</td>\n      <td>0</td>\n      <td>1</td>\n    </tr>\n    <tr>\n      <th>...</th>\n      <td>...</td>\n      <td>...</td>\n      <td>...</td>\n      <td>...</td>\n      <td>...</td>\n      <td>...</td>\n      <td>...</td>\n      <td>...</td>\n      <td>...</td>\n      <td>...</td>\n      <td>...</td>\n      <td>...</td>\n    </tr>\n    <tr>\n      <th>294</th>\n      <td>62.0</td>\n      <td>0</td>\n      <td>61</td>\n      <td>1</td>\n      <td>38</td>\n      <td>1</td>\n      <td>155000.00</td>\n      <td>1.1</td>\n      <td>143</td>\n      <td>1</td>\n      <td>1</td>\n      <td>0</td>\n    </tr>\n    <tr>\n      <th>295</th>\n      <td>55.0</td>\n      <td>0</td>\n      <td>1820</td>\n      <td>0</td>\n      <td>38</td>\n      <td>0</td>\n      <td>270000.00</td>\n      <td>1.2</td>\n      <td>139</td>\n      <td>0</td>\n      <td>0</td>\n      <td>0</td>\n    </tr>\n    <tr>\n      <th>296</th>\n      <td>45.0</td>\n      <td>0</td>\n      <td>2060</td>\n      <td>1</td>\n      <td>60</td>\n      <td>0</td>\n      <td>742000.00</td>\n      <td>0.8</td>\n      <td>138</td>\n      <td>0</td>\n      <td>0</td>\n      <td>0</td>\n    </tr>\n    <tr>\n      <th>297</th>\n      <td>45.0</td>\n      <td>0</td>\n      <td>2413</td>\n      <td>0</td>\n      <td>38</td>\n      <td>0</td>\n      <td>140000.00</td>\n      <td>1.4</td>\n      <td>140</td>\n      <td>1</td>\n      <td>1</td>\n      <td>0</td>\n    </tr>\n    <tr>\n      <th>298</th>\n      <td>50.0</td>\n      <td>0</td>\n      <td>196</td>\n      <td>0</td>\n      <td>45</td>\n      <td>0</td>\n      <td>395000.00</td>\n      <td>1.6</td>\n      <td>136</td>\n      <td>1</td>\n      <td>1</td>\n      <td>0</td>\n    </tr>\n  </tbody>\n</table>\n<p>299 rows × 12 columns</p>\n</div>"
     },
     "execution_count": 17,
     "metadata": {},
     "output_type": "execute_result"
    }
   ],
   "source": [
    "new_df.drop(\"time\",axis=1,inplace=True)\n",
    "new_df\n",
    "# il tempo di osservazione del paziente non incide sulla predizione"
   ],
   "metadata": {
    "collapsed": false,
    "ExecuteTime": {
     "start_time": "2023-06-12T11:01:01.428705Z",
     "end_time": "2023-06-12T11:01:01.447990Z"
    }
   }
  },
  {
   "cell_type": "code",
   "execution_count": 18,
   "outputs": [],
   "source": [
    "y = new_df[\"DEATH_EVENT\"]\n",
    "new_df.drop(\"DEATH_EVENT\",axis=1,inplace=True)"
   ],
   "metadata": {
    "collapsed": false,
    "ExecuteTime": {
     "start_time": "2023-06-12T11:01:04.306138Z",
     "end_time": "2023-06-12T11:01:04.315406Z"
    }
   }
  },
  {
   "cell_type": "code",
   "execution_count": 19,
   "outputs": [
    {
     "data": {
      "text/plain": "      age  anaemia  creatinine_phosphokinase  diabetes  ejection_fraction  \\\n280  70.0        0                      2695         1                 40   \n248  40.0        0                       624         0                 35   \n126  46.0        0                       168         1                 17   \n171  52.0        0                      3966         0                 40   \n71   58.0        0                       582         1                 35   \n..    ...      ...                       ...       ...                ...   \n251  55.0        0                       572         1                 35   \n192  50.0        1                       121         1                 40   \n117  85.0        1                       102         0                 60   \n47   60.0        0                       582         1                 38   \n172  70.0        1                       171         0                 60   \n\n     high_blood_pressure  platelets  serum_creatinine  serum_sodium  sex  \\\n280                    0   241000.0               1.0           137    1   \n248                    0   301000.0               1.0           142    1   \n126                    1   271000.0               2.1           124    0   \n171                    0   325000.0               0.9           140    1   \n71                     0   122000.0               0.9           139    1   \n..                   ...        ...               ...           ...  ...   \n251                    0   231000.0               0.8           143    0   \n192                    0   260000.0               0.7           130    1   \n117                    0   507000.0               3.2           138    0   \n47                     1   451000.0               0.6           138    1   \n172                    1   176000.0               1.1           145    1   \n\n     smoking  death  \n280        0      0  \n248        1      0  \n126        0      1  \n171        1      0  \n71         1      0  \n..       ...    ...  \n251        0      0  \n192        0      0  \n117        0      0  \n47         1      1  \n172        1      0  \n\n[199 rows x 12 columns]",
      "text/html": "<div>\n<style scoped>\n    .dataframe tbody tr th:only-of-type {\n        vertical-align: middle;\n    }\n\n    .dataframe tbody tr th {\n        vertical-align: top;\n    }\n\n    .dataframe thead th {\n        text-align: right;\n    }\n</style>\n<table border=\"1\" class=\"dataframe\">\n  <thead>\n    <tr style=\"text-align: right;\">\n      <th></th>\n      <th>age</th>\n      <th>anaemia</th>\n      <th>creatinine_phosphokinase</th>\n      <th>diabetes</th>\n      <th>ejection_fraction</th>\n      <th>high_blood_pressure</th>\n      <th>platelets</th>\n      <th>serum_creatinine</th>\n      <th>serum_sodium</th>\n      <th>sex</th>\n      <th>smoking</th>\n      <th>death</th>\n    </tr>\n  </thead>\n  <tbody>\n    <tr>\n      <th>280</th>\n      <td>70.0</td>\n      <td>0</td>\n      <td>2695</td>\n      <td>1</td>\n      <td>40</td>\n      <td>0</td>\n      <td>241000.0</td>\n      <td>1.0</td>\n      <td>137</td>\n      <td>1</td>\n      <td>0</td>\n      <td>0</td>\n    </tr>\n    <tr>\n      <th>248</th>\n      <td>40.0</td>\n      <td>0</td>\n      <td>624</td>\n      <td>0</td>\n      <td>35</td>\n      <td>0</td>\n      <td>301000.0</td>\n      <td>1.0</td>\n      <td>142</td>\n      <td>1</td>\n      <td>1</td>\n      <td>0</td>\n    </tr>\n    <tr>\n      <th>126</th>\n      <td>46.0</td>\n      <td>0</td>\n      <td>168</td>\n      <td>1</td>\n      <td>17</td>\n      <td>1</td>\n      <td>271000.0</td>\n      <td>2.1</td>\n      <td>124</td>\n      <td>0</td>\n      <td>0</td>\n      <td>1</td>\n    </tr>\n    <tr>\n      <th>171</th>\n      <td>52.0</td>\n      <td>0</td>\n      <td>3966</td>\n      <td>0</td>\n      <td>40</td>\n      <td>0</td>\n      <td>325000.0</td>\n      <td>0.9</td>\n      <td>140</td>\n      <td>1</td>\n      <td>1</td>\n      <td>0</td>\n    </tr>\n    <tr>\n      <th>71</th>\n      <td>58.0</td>\n      <td>0</td>\n      <td>582</td>\n      <td>1</td>\n      <td>35</td>\n      <td>0</td>\n      <td>122000.0</td>\n      <td>0.9</td>\n      <td>139</td>\n      <td>1</td>\n      <td>1</td>\n      <td>0</td>\n    </tr>\n    <tr>\n      <th>...</th>\n      <td>...</td>\n      <td>...</td>\n      <td>...</td>\n      <td>...</td>\n      <td>...</td>\n      <td>...</td>\n      <td>...</td>\n      <td>...</td>\n      <td>...</td>\n      <td>...</td>\n      <td>...</td>\n      <td>...</td>\n    </tr>\n    <tr>\n      <th>251</th>\n      <td>55.0</td>\n      <td>0</td>\n      <td>572</td>\n      <td>1</td>\n      <td>35</td>\n      <td>0</td>\n      <td>231000.0</td>\n      <td>0.8</td>\n      <td>143</td>\n      <td>0</td>\n      <td>0</td>\n      <td>0</td>\n    </tr>\n    <tr>\n      <th>192</th>\n      <td>50.0</td>\n      <td>1</td>\n      <td>121</td>\n      <td>1</td>\n      <td>40</td>\n      <td>0</td>\n      <td>260000.0</td>\n      <td>0.7</td>\n      <td>130</td>\n      <td>1</td>\n      <td>0</td>\n      <td>0</td>\n    </tr>\n    <tr>\n      <th>117</th>\n      <td>85.0</td>\n      <td>1</td>\n      <td>102</td>\n      <td>0</td>\n      <td>60</td>\n      <td>0</td>\n      <td>507000.0</td>\n      <td>3.2</td>\n      <td>138</td>\n      <td>0</td>\n      <td>0</td>\n      <td>0</td>\n    </tr>\n    <tr>\n      <th>47</th>\n      <td>60.0</td>\n      <td>0</td>\n      <td>582</td>\n      <td>1</td>\n      <td>38</td>\n      <td>1</td>\n      <td>451000.0</td>\n      <td>0.6</td>\n      <td>138</td>\n      <td>1</td>\n      <td>1</td>\n      <td>1</td>\n    </tr>\n    <tr>\n      <th>172</th>\n      <td>70.0</td>\n      <td>1</td>\n      <td>171</td>\n      <td>0</td>\n      <td>60</td>\n      <td>1</td>\n      <td>176000.0</td>\n      <td>1.1</td>\n      <td>145</td>\n      <td>1</td>\n      <td>1</td>\n      <td>0</td>\n    </tr>\n  </tbody>\n</table>\n<p>199 rows × 12 columns</p>\n</div>"
     },
     "execution_count": 19,
     "metadata": {},
     "output_type": "execute_result"
    }
   ],
   "source": [
    "from sklearn.model_selection import train_test_split\n",
    "X_train, X_test, y_train, y_test = train_test_split(new_df, y,test_size=1/3,random_state=0)\n",
    "train = X_train.assign(death=y_train)\n",
    "test = X_test.assign(death=y_test)\n",
    "train"
   ],
   "metadata": {
    "collapsed": false,
    "ExecuteTime": {
     "start_time": "2023-06-12T11:01:11.910579Z",
     "end_time": "2023-06-12T11:01:13.047330Z"
    }
   }
  },
  {
   "cell_type": "code",
   "execution_count": 20,
   "outputs": [],
   "source": [
    "from sklearn.tree import DecisionTreeClassifier\n",
    "from sklearn.linear_model import LogisticRegression\n",
    "from sklearn.dummy import DummyClassifier\n",
    "from sklearn.metrics import  accuracy_score\n",
    "from sklearn.metrics import confusion_matrix\n",
    "\n",
    "def test_model(name ,model,train_data, test_data, train_labels, test_labels):\n",
    "    model.fit(train_data,train_labels)\n",
    "    train_preds = model.predict(train_data)\n",
    "    test_preds = model.predict(test_data)\n",
    "    print(f\" ===== {name} =====\")\n",
    "    print(f\"Accuracy on train {accuracy_score(train_labels, train_preds)}\")\n",
    "    print(f\"Accuracy on test {accuracy_score(test_labels, test_preds)}\")\n",
    "    print(\"Confusion matrix on test\")\n",
    "    print(confusion_matrix(test_labels, test_preds))\n"
   ],
   "metadata": {
    "collapsed": false,
    "ExecuteTime": {
     "start_time": "2023-06-12T11:02:37.923062Z",
     "end_time": "2023-06-12T11:02:38.371004Z"
    }
   }
  },
  {
   "cell_type": "code",
   "execution_count": 21,
   "outputs": [
    {
     "name": "stdout",
     "output_type": "stream",
     "text": [
      " ===== DT =====\n",
      "Accuracy on train 1.0\n",
      "Accuracy on test 0.69\n",
      "Confusion matrix on test\n",
      "[[54 14]\n",
      " [17 15]]\n",
      " ===== LR =====\n",
      "Accuracy on train 0.7738693467336684\n",
      "Accuracy on test 0.68\n",
      "Confusion matrix on test\n",
      "[[59  9]\n",
      " [23  9]]\n",
      " ===== dummy =====\n",
      "Accuracy on train 0.678391959798995\n",
      "Accuracy on test 0.68\n",
      "Confusion matrix on test\n",
      "[[68  0]\n",
      " [32  0]]\n"
     ]
    }
   ],
   "source": [
    "classifiers = [DecisionTreeClassifier(), LogisticRegression(), DummyClassifier()]\n",
    "\n",
    "names = [\"DT\",\"LR\", \"dummy\"]\n",
    "\n",
    "for model,name in zip(classifiers,names):\n",
    "    test_model(name,model, X_train, X_test, y_train, y_test)"
   ],
   "metadata": {
    "collapsed": false,
    "ExecuteTime": {
     "start_time": "2023-06-12T11:02:43.732189Z",
     "end_time": "2023-06-12T11:02:43.754816Z"
    }
   }
  },
  {
   "cell_type": "markdown",
   "source": [
    "Sia nel Decision Tree che nella Logistic Regression l'accuracy calcolata nella fase di train è migliore in quella calcolata nella fase di test, questo vuole dire che entrambi i modelli fanno dell'overfitting.\n",
    "Il DT non predice correttamente i falsi negativi"
   ],
   "metadata": {
    "collapsed": false
   }
  },
  {
   "cell_type": "markdown",
   "source": [
    "# 2.2\n",
    "Confrontare l’accuratezza ottenuta nel punto precedente con l’accuratezza si ottiene con una\n",
    "5 Fold cross validation.\n"
   ],
   "metadata": {
    "collapsed": false
   }
  },
  {
   "cell_type": "code",
   "execution_count": 22,
   "outputs": [
    {
     "name": "stdout",
     "output_type": "stream",
     "text": [
      "Accuracy of DT is:  0.6722033898305085\n",
      "[0.55       0.75       0.71666667 0.68333333 0.66101695]\n",
      "Accuracy of LR is:  0.7324293785310735\n",
      "[0.75       0.73333333 0.68333333 0.76666667 0.72881356]\n",
      "Accuracy of dummy is:  0.6789265536723164\n",
      "[0.66666667 0.68333333 0.68333333 0.68333333 0.6779661 ]\n"
     ]
    }
   ],
   "source": [
    "from sklearn.model_selection import cross_val_score\n",
    "\n",
    "for model,name in zip(classifiers,names):\n",
    "    scores = cross_val_score(model, new_df,y, cv=5)\n",
    "    print(f\"Accuracy of {name} is: \",scores.mean())\n",
    "    print(scores)\n"
   ],
   "metadata": {
    "collapsed": false,
    "ExecuteTime": {
     "start_time": "2023-06-12T11:03:54.519674Z",
     "end_time": "2023-06-12T11:03:54.592641Z"
    }
   }
  },
  {
   "cell_type": "markdown",
   "source": [
    "# 2.3\n",
    "Considerare il dataset originale, eliminare l’attributo time, scalare il valore degli attributi a\n",
    "\n",
    "un intervallo (0,1) e allenare sui dati un modello di LinearRegression (https://scikit-\n",
    "learn.org/stable/modules/generated/sklearn.linear_model.LinearRegression.html#sklearn.linear\n",
    "\n",
    "_model.LinearRegression). Analizzare poi i coefficienti del modello e individuare i 5 attributi che\n",
    "in valore assoluto hanno il valore più elevato. Costruire un nuovo dataset composto unicamente\n",
    "di quei 5 attributi, e usare la tecnica 5 Fold cross validation per valutare se l’accuratezza del\n",
    "modello Decision Tree migliora."
   ],
   "metadata": {
    "collapsed": false
   }
  },
  {
   "cell_type": "code",
   "execution_count": 23,
   "outputs": [],
   "source": [
    "from sklearn.preprocessing import MinMaxScaler\n",
    "scaled_df = new_df.copy()\n",
    "model_lr = classifiers[1]\n",
    "\n",
    "scaler = MinMaxScaler(feature_range=(0, 1))\n",
    "scaled_df = scaler.fit_transform(scaled_df)\n",
    "scaled_df = pd.DataFrame(scaled_df,columns=new_df.columns.tolist())"
   ],
   "metadata": {
    "collapsed": false,
    "ExecuteTime": {
     "start_time": "2023-06-12T11:05:47.492984Z",
     "end_time": "2023-06-12T11:05:47.497064Z"
    }
   }
  },
  {
   "cell_type": "code",
   "execution_count": 26,
   "outputs": [
    {
     "data": {
      "text/plain": "0.71"
     },
     "execution_count": 26,
     "metadata": {},
     "output_type": "execute_result"
    }
   ],
   "source": [
    "X_train, X_test, y_train, y_test = train_test_split(scaled_df, y,test_size=1/3,random_state=0)\n",
    "model_lr.fit(X_train,y_train)\n",
    "preds = model_lr.predict(X_test)\n",
    "score = accuracy_score(y_test,preds)\n",
    "score"
   ],
   "metadata": {
    "collapsed": false,
    "ExecuteTime": {
     "start_time": "2023-06-12T11:07:20.272132Z",
     "end_time": "2023-06-12T11:07:20.286047Z"
    }
   }
  },
  {
   "cell_type": "code",
   "execution_count": 27,
   "outputs": [
    {
     "data": {
      "text/plain": "array([[ 2.05685039,  0.1339354 ,  0.76018771,  0.0092003 , -2.51168851,\n         0.27268921, -0.10465316,  1.51534293, -1.26299002, -0.16780091,\n        -0.07027497]])"
     },
     "execution_count": 27,
     "metadata": {},
     "output_type": "execute_result"
    }
   ],
   "source": [
    "model_lr.coef_"
   ],
   "metadata": {
    "collapsed": false,
    "ExecuteTime": {
     "start_time": "2023-06-12T11:07:24.887198Z",
     "end_time": "2023-06-12T11:07:24.892553Z"
    }
   }
  },
  {
   "cell_type": "code",
   "execution_count": 28,
   "outputs": [
    {
     "data": {
      "text/plain": "array([[2.05685039, 0.1339354 , 0.76018771, 0.0092003 , 2.51168851,\n        0.27268921, 0.10465316, 1.51534293, 1.26299002, 0.16780091,\n        0.07027497]])"
     },
     "execution_count": 28,
     "metadata": {},
     "output_type": "execute_result"
    }
   ],
   "source": [
    "abs_values =abs(model_lr.coef_)\n",
    "abs_values"
   ],
   "metadata": {
    "collapsed": false,
    "ExecuteTime": {
     "start_time": "2023-06-12T11:07:28.678585Z",
     "end_time": "2023-06-12T11:07:28.689593Z"
    }
   }
  },
  {
   "cell_type": "code",
   "execution_count": 29,
   "outputs": [
    {
     "data": {
      "text/plain": "      age  creatinine_phosphokinase  ejection_fraction  serum_creatinine  \\\n0    75.0                       582                 20               1.9   \n1    55.0                      7861                 38               1.1   \n2    65.0                       146                 20               1.3   \n3    50.0                       111                 20               1.9   \n4    65.0                       160                 20               2.7   \n..    ...                       ...                ...               ...   \n294  62.0                        61                 38               1.1   \n295  55.0                      1820                 38               1.2   \n296  45.0                      2060                 60               0.8   \n297  45.0                      2413                 38               1.4   \n298  50.0                       196                 45               1.6   \n\n     serum_sodium  \n0             130  \n1             136  \n2             129  \n3             137  \n4             116  \n..            ...  \n294           143  \n295           139  \n296           138  \n297           140  \n298           136  \n\n[299 rows x 5 columns]",
      "text/html": "<div>\n<style scoped>\n    .dataframe tbody tr th:only-of-type {\n        vertical-align: middle;\n    }\n\n    .dataframe tbody tr th {\n        vertical-align: top;\n    }\n\n    .dataframe thead th {\n        text-align: right;\n    }\n</style>\n<table border=\"1\" class=\"dataframe\">\n  <thead>\n    <tr style=\"text-align: right;\">\n      <th></th>\n      <th>age</th>\n      <th>creatinine_phosphokinase</th>\n      <th>ejection_fraction</th>\n      <th>serum_creatinine</th>\n      <th>serum_sodium</th>\n    </tr>\n  </thead>\n  <tbody>\n    <tr>\n      <th>0</th>\n      <td>75.0</td>\n      <td>582</td>\n      <td>20</td>\n      <td>1.9</td>\n      <td>130</td>\n    </tr>\n    <tr>\n      <th>1</th>\n      <td>55.0</td>\n      <td>7861</td>\n      <td>38</td>\n      <td>1.1</td>\n      <td>136</td>\n    </tr>\n    <tr>\n      <th>2</th>\n      <td>65.0</td>\n      <td>146</td>\n      <td>20</td>\n      <td>1.3</td>\n      <td>129</td>\n    </tr>\n    <tr>\n      <th>3</th>\n      <td>50.0</td>\n      <td>111</td>\n      <td>20</td>\n      <td>1.9</td>\n      <td>137</td>\n    </tr>\n    <tr>\n      <th>4</th>\n      <td>65.0</td>\n      <td>160</td>\n      <td>20</td>\n      <td>2.7</td>\n      <td>116</td>\n    </tr>\n    <tr>\n      <th>...</th>\n      <td>...</td>\n      <td>...</td>\n      <td>...</td>\n      <td>...</td>\n      <td>...</td>\n    </tr>\n    <tr>\n      <th>294</th>\n      <td>62.0</td>\n      <td>61</td>\n      <td>38</td>\n      <td>1.1</td>\n      <td>143</td>\n    </tr>\n    <tr>\n      <th>295</th>\n      <td>55.0</td>\n      <td>1820</td>\n      <td>38</td>\n      <td>1.2</td>\n      <td>139</td>\n    </tr>\n    <tr>\n      <th>296</th>\n      <td>45.0</td>\n      <td>2060</td>\n      <td>60</td>\n      <td>0.8</td>\n      <td>138</td>\n    </tr>\n    <tr>\n      <th>297</th>\n      <td>45.0</td>\n      <td>2413</td>\n      <td>38</td>\n      <td>1.4</td>\n      <td>140</td>\n    </tr>\n    <tr>\n      <th>298</th>\n      <td>50.0</td>\n      <td>196</td>\n      <td>45</td>\n      <td>1.6</td>\n      <td>136</td>\n    </tr>\n  </tbody>\n</table>\n<p>299 rows × 5 columns</p>\n</div>"
     },
     "execution_count": 29,
     "metadata": {},
     "output_type": "execute_result"
    }
   ],
   "source": [
    "index = [0, 2, 4, 7, 8]\n",
    "new_coef_df = new_df.iloc[:,index]\n",
    "new_coef_df"
   ],
   "metadata": {
    "collapsed": false,
    "ExecuteTime": {
     "start_time": "2023-06-12T11:07:51.221122Z",
     "end_time": "2023-06-12T11:07:51.226862Z"
    }
   }
  },
  {
   "cell_type": "code",
   "execution_count": 30,
   "outputs": [
    {
     "name": "stdout",
     "output_type": "stream",
     "text": [
      "Accuracy of DT is:  0.6624293785310734\n",
      "[0.58333333 0.78333333 0.6        0.61666667 0.72881356]\n"
     ]
    }
   ],
   "source": [
    "model_td =  classifiers[0]\n",
    "scores = cross_val_score(model_td, new_coef_df, y, cv=5)\n",
    "print(f\"Accuracy of DT is: \",scores.mean())\n",
    "print(scores)"
   ],
   "metadata": {
    "collapsed": false,
    "ExecuteTime": {
     "start_time": "2023-06-12T11:08:07.253149Z",
     "end_time": "2023-06-12T11:08:07.276756Z"
    }
   }
  },
  {
   "cell_type": "markdown",
   "source": [
    "# 2.4\n",
    "Considerare il dataset originale, eliminare l’attributo time, e creare una pipeline in cui il\n",
    "valore degli attributi age e platelets sia discretizzato in 6 intervalli e gli attributi non booleani\n",
    "vengano ricondotti a valori nell’intervallo (0,1) e normalizzati con la funzione Normalizer. Si\n",
    "applichi poi un modello DecisionTree e si valuti l’accuratezza."
   ],
   "metadata": {
    "collapsed": false
   }
  },
  {
   "cell_type": "code",
   "execution_count": 31,
   "outputs": [
    {
     "data": {
      "text/plain": "      age  anaemia  creatinine_phosphokinase  diabetes  ejection_fraction  \\\n0    75.0        0                       582         0                 20   \n1    55.0        0                      7861         0                 38   \n2    65.0        0                       146         0                 20   \n3    50.0        1                       111         0                 20   \n4    65.0        1                       160         1                 20   \n..    ...      ...                       ...       ...                ...   \n294  62.0        0                        61         1                 38   \n295  55.0        0                      1820         0                 38   \n296  45.0        0                      2060         1                 60   \n297  45.0        0                      2413         0                 38   \n298  50.0        0                       196         0                 45   \n\n     high_blood_pressure  platelets  serum_creatinine  serum_sodium  sex  \\\n0                      1  265000.00               1.9           130    1   \n1                      0  263358.03               1.1           136    1   \n2                      0  162000.00               1.3           129    1   \n3                      0  210000.00               1.9           137    1   \n4                      0  327000.00               2.7           116    0   \n..                   ...        ...               ...           ...  ...   \n294                    1  155000.00               1.1           143    1   \n295                    0  270000.00               1.2           139    0   \n296                    0  742000.00               0.8           138    0   \n297                    0  140000.00               1.4           140    1   \n298                    0  395000.00               1.6           136    1   \n\n     smoking  \n0          0  \n1          0  \n2          1  \n3          0  \n4          0  \n..       ...  \n294        1  \n295        0  \n296        0  \n297        1  \n298        1  \n\n[299 rows x 11 columns]",
      "text/html": "<div>\n<style scoped>\n    .dataframe tbody tr th:only-of-type {\n        vertical-align: middle;\n    }\n\n    .dataframe tbody tr th {\n        vertical-align: top;\n    }\n\n    .dataframe thead th {\n        text-align: right;\n    }\n</style>\n<table border=\"1\" class=\"dataframe\">\n  <thead>\n    <tr style=\"text-align: right;\">\n      <th></th>\n      <th>age</th>\n      <th>anaemia</th>\n      <th>creatinine_phosphokinase</th>\n      <th>diabetes</th>\n      <th>ejection_fraction</th>\n      <th>high_blood_pressure</th>\n      <th>platelets</th>\n      <th>serum_creatinine</th>\n      <th>serum_sodium</th>\n      <th>sex</th>\n      <th>smoking</th>\n    </tr>\n  </thead>\n  <tbody>\n    <tr>\n      <th>0</th>\n      <td>75.0</td>\n      <td>0</td>\n      <td>582</td>\n      <td>0</td>\n      <td>20</td>\n      <td>1</td>\n      <td>265000.00</td>\n      <td>1.9</td>\n      <td>130</td>\n      <td>1</td>\n      <td>0</td>\n    </tr>\n    <tr>\n      <th>1</th>\n      <td>55.0</td>\n      <td>0</td>\n      <td>7861</td>\n      <td>0</td>\n      <td>38</td>\n      <td>0</td>\n      <td>263358.03</td>\n      <td>1.1</td>\n      <td>136</td>\n      <td>1</td>\n      <td>0</td>\n    </tr>\n    <tr>\n      <th>2</th>\n      <td>65.0</td>\n      <td>0</td>\n      <td>146</td>\n      <td>0</td>\n      <td>20</td>\n      <td>0</td>\n      <td>162000.00</td>\n      <td>1.3</td>\n      <td>129</td>\n      <td>1</td>\n      <td>1</td>\n    </tr>\n    <tr>\n      <th>3</th>\n      <td>50.0</td>\n      <td>1</td>\n      <td>111</td>\n      <td>0</td>\n      <td>20</td>\n      <td>0</td>\n      <td>210000.00</td>\n      <td>1.9</td>\n      <td>137</td>\n      <td>1</td>\n      <td>0</td>\n    </tr>\n    <tr>\n      <th>4</th>\n      <td>65.0</td>\n      <td>1</td>\n      <td>160</td>\n      <td>1</td>\n      <td>20</td>\n      <td>0</td>\n      <td>327000.00</td>\n      <td>2.7</td>\n      <td>116</td>\n      <td>0</td>\n      <td>0</td>\n    </tr>\n    <tr>\n      <th>...</th>\n      <td>...</td>\n      <td>...</td>\n      <td>...</td>\n      <td>...</td>\n      <td>...</td>\n      <td>...</td>\n      <td>...</td>\n      <td>...</td>\n      <td>...</td>\n      <td>...</td>\n      <td>...</td>\n    </tr>\n    <tr>\n      <th>294</th>\n      <td>62.0</td>\n      <td>0</td>\n      <td>61</td>\n      <td>1</td>\n      <td>38</td>\n      <td>1</td>\n      <td>155000.00</td>\n      <td>1.1</td>\n      <td>143</td>\n      <td>1</td>\n      <td>1</td>\n    </tr>\n    <tr>\n      <th>295</th>\n      <td>55.0</td>\n      <td>0</td>\n      <td>1820</td>\n      <td>0</td>\n      <td>38</td>\n      <td>0</td>\n      <td>270000.00</td>\n      <td>1.2</td>\n      <td>139</td>\n      <td>0</td>\n      <td>0</td>\n    </tr>\n    <tr>\n      <th>296</th>\n      <td>45.0</td>\n      <td>0</td>\n      <td>2060</td>\n      <td>1</td>\n      <td>60</td>\n      <td>0</td>\n      <td>742000.00</td>\n      <td>0.8</td>\n      <td>138</td>\n      <td>0</td>\n      <td>0</td>\n    </tr>\n    <tr>\n      <th>297</th>\n      <td>45.0</td>\n      <td>0</td>\n      <td>2413</td>\n      <td>0</td>\n      <td>38</td>\n      <td>0</td>\n      <td>140000.00</td>\n      <td>1.4</td>\n      <td>140</td>\n      <td>1</td>\n      <td>1</td>\n    </tr>\n    <tr>\n      <th>298</th>\n      <td>50.0</td>\n      <td>0</td>\n      <td>196</td>\n      <td>0</td>\n      <td>45</td>\n      <td>0</td>\n      <td>395000.00</td>\n      <td>1.6</td>\n      <td>136</td>\n      <td>1</td>\n      <td>1</td>\n    </tr>\n  </tbody>\n</table>\n<p>299 rows × 11 columns</p>\n</div>"
     },
     "execution_count": 31,
     "metadata": {},
     "output_type": "execute_result"
    }
   ],
   "source": [
    "new_df"
   ],
   "metadata": {
    "collapsed": false,
    "ExecuteTime": {
     "start_time": "2023-06-12T11:08:37.808080Z",
     "end_time": "2023-06-12T11:08:37.821593Z"
    }
   }
  },
  {
   "cell_type": "code",
   "execution_count": 32,
   "outputs": [],
   "source": [
    "from sklearn.model_selection import train_test_split\n",
    "X_train, X_test, y_train, y_test = train_test_split(new_df, y,test_size=1/3,random_state=0)"
   ],
   "metadata": {
    "collapsed": false,
    "ExecuteTime": {
     "start_time": "2023-06-12T11:08:43.671151Z",
     "end_time": "2023-06-12T11:08:43.683778Z"
    }
   }
  },
  {
   "cell_type": "code",
   "execution_count": 40,
   "outputs": [
    {
     "name": "stdout",
     "output_type": "stream",
     "text": [
      "[Pipeline] ............ (step 1 of 2) Processing scaler, total=   0.0s\n",
      "[Pipeline] ........ (step 2 of 2) Processing normalized, total=   0.0s\n"
     ]
    },
    {
     "data": {
      "text/plain": "     age  anaemia  creatinine_phosphokinase  diabetes  ejection_fraction  \\\n0    3.0      1.0                  0.136245  0.173669           0.300505   \n1    1.0      1.0                  0.798440  0.290342           0.053827   \n2    2.0      0.0                  0.033041  0.191411           0.189260   \n3    1.0      1.0                  0.015825  0.128138           0.221721   \n4    2.0      2.0                  0.062981  0.327570           0.890697   \n..   ...      ...                       ...       ...                ...   \n294  2.0      0.0                  0.005193  0.389525           0.072215   \n295  1.0      1.0                  0.266012  0.421916           0.091257   \n296  0.0      5.0                  0.251874  0.675477           0.032668   \n297  0.0      0.0                  0.334590  0.399013           0.110962   \n298  1.0      2.0                  0.027001  0.574592           0.151197   \n\n     high_blood_pressure  platelets  serum_creatinine  serum_sodium  sex  \\\n0               0.927886        0.0               0.0           1.0  1.0   \n1               0.524689        0.0               0.0           0.0  1.0   \n2               0.962523        0.0               0.0           0.0  1.0   \n3               0.966525        1.0               0.0           0.0  1.0   \n4               0.308852        1.0               1.0           0.0  0.0   \n..                   ...        ...               ...           ...  ...   \n294             0.918166        0.0               1.0           1.0  1.0   \n295             0.861914        0.0               0.0           0.0  0.0   \n296             0.692259        0.0               1.0           0.0  0.0   \n297             0.846478        0.0               0.0           0.0  1.0   \n298             0.803899        0.0               0.0           0.0  1.0   \n\n     smoking  \n0        0.0  \n1        0.0  \n2        1.0  \n3        0.0  \n4        0.0  \n..       ...  \n294      1.0  \n295      0.0  \n296      0.0  \n297      1.0  \n298      1.0  \n\n[299 rows x 11 columns]",
      "text/html": "<div>\n<style scoped>\n    .dataframe tbody tr th:only-of-type {\n        vertical-align: middle;\n    }\n\n    .dataframe tbody tr th {\n        vertical-align: top;\n    }\n\n    .dataframe thead th {\n        text-align: right;\n    }\n</style>\n<table border=\"1\" class=\"dataframe\">\n  <thead>\n    <tr style=\"text-align: right;\">\n      <th></th>\n      <th>age</th>\n      <th>anaemia</th>\n      <th>creatinine_phosphokinase</th>\n      <th>diabetes</th>\n      <th>ejection_fraction</th>\n      <th>high_blood_pressure</th>\n      <th>platelets</th>\n      <th>serum_creatinine</th>\n      <th>serum_sodium</th>\n      <th>sex</th>\n      <th>smoking</th>\n    </tr>\n  </thead>\n  <tbody>\n    <tr>\n      <th>0</th>\n      <td>3.0</td>\n      <td>1.0</td>\n      <td>0.136245</td>\n      <td>0.173669</td>\n      <td>0.300505</td>\n      <td>0.927886</td>\n      <td>0.0</td>\n      <td>0.0</td>\n      <td>1.0</td>\n      <td>1.0</td>\n      <td>0.0</td>\n    </tr>\n    <tr>\n      <th>1</th>\n      <td>1.0</td>\n      <td>1.0</td>\n      <td>0.798440</td>\n      <td>0.290342</td>\n      <td>0.053827</td>\n      <td>0.524689</td>\n      <td>0.0</td>\n      <td>0.0</td>\n      <td>0.0</td>\n      <td>1.0</td>\n      <td>0.0</td>\n    </tr>\n    <tr>\n      <th>2</th>\n      <td>2.0</td>\n      <td>0.0</td>\n      <td>0.033041</td>\n      <td>0.191411</td>\n      <td>0.189260</td>\n      <td>0.962523</td>\n      <td>0.0</td>\n      <td>0.0</td>\n      <td>0.0</td>\n      <td>1.0</td>\n      <td>1.0</td>\n    </tr>\n    <tr>\n      <th>3</th>\n      <td>1.0</td>\n      <td>1.0</td>\n      <td>0.015825</td>\n      <td>0.128138</td>\n      <td>0.221721</td>\n      <td>0.966525</td>\n      <td>1.0</td>\n      <td>0.0</td>\n      <td>0.0</td>\n      <td>1.0</td>\n      <td>0.0</td>\n    </tr>\n    <tr>\n      <th>4</th>\n      <td>2.0</td>\n      <td>2.0</td>\n      <td>0.062981</td>\n      <td>0.327570</td>\n      <td>0.890697</td>\n      <td>0.308852</td>\n      <td>1.0</td>\n      <td>1.0</td>\n      <td>0.0</td>\n      <td>0.0</td>\n      <td>0.0</td>\n    </tr>\n    <tr>\n      <th>...</th>\n      <td>...</td>\n      <td>...</td>\n      <td>...</td>\n      <td>...</td>\n      <td>...</td>\n      <td>...</td>\n      <td>...</td>\n      <td>...</td>\n      <td>...</td>\n      <td>...</td>\n      <td>...</td>\n    </tr>\n    <tr>\n      <th>294</th>\n      <td>2.0</td>\n      <td>0.0</td>\n      <td>0.005193</td>\n      <td>0.389525</td>\n      <td>0.072215</td>\n      <td>0.918166</td>\n      <td>0.0</td>\n      <td>1.0</td>\n      <td>1.0</td>\n      <td>1.0</td>\n      <td>1.0</td>\n    </tr>\n    <tr>\n      <th>295</th>\n      <td>1.0</td>\n      <td>1.0</td>\n      <td>0.266012</td>\n      <td>0.421916</td>\n      <td>0.091257</td>\n      <td>0.861914</td>\n      <td>0.0</td>\n      <td>0.0</td>\n      <td>0.0</td>\n      <td>0.0</td>\n      <td>0.0</td>\n    </tr>\n    <tr>\n      <th>296</th>\n      <td>0.0</td>\n      <td>5.0</td>\n      <td>0.251874</td>\n      <td>0.675477</td>\n      <td>0.032668</td>\n      <td>0.692259</td>\n      <td>0.0</td>\n      <td>1.0</td>\n      <td>0.0</td>\n      <td>0.0</td>\n      <td>0.0</td>\n    </tr>\n    <tr>\n      <th>297</th>\n      <td>0.0</td>\n      <td>0.0</td>\n      <td>0.334590</td>\n      <td>0.399013</td>\n      <td>0.110962</td>\n      <td>0.846478</td>\n      <td>0.0</td>\n      <td>0.0</td>\n      <td>0.0</td>\n      <td>1.0</td>\n      <td>1.0</td>\n    </tr>\n    <tr>\n      <th>298</th>\n      <td>1.0</td>\n      <td>2.0</td>\n      <td>0.027001</td>\n      <td>0.574592</td>\n      <td>0.151197</td>\n      <td>0.803899</td>\n      <td>0.0</td>\n      <td>0.0</td>\n      <td>0.0</td>\n      <td>1.0</td>\n      <td>1.0</td>\n    </tr>\n  </tbody>\n</table>\n<p>299 rows × 11 columns</p>\n</div>"
     },
     "execution_count": 40,
     "metadata": {},
     "output_type": "execute_result"
    }
   ],
   "source": [
    "from sklearn.pipeline import Pipeline\n",
    "from sklearn.preprocessing import KBinsDiscretizer\n",
    "from sklearn.compose import ColumnTransformer\n",
    "from sklearn.preprocessing import Normalizer\n",
    "\n",
    "\n",
    "scaled_pipeline = Pipeline(steps=[(\"scaler\",MinMaxScaler(feature_range=(0,1))),\n",
    "                                  (\"normalized\",Normalizer())],verbose=True)\n",
    "\n",
    "column_trasform = ColumnTransformer(transformers=[('age', KBinsDiscretizer(n_bins=6,strategy=\"uniform\", encode=\"ordinal\"),[\"age\"]),\n",
    "                                                  ('platelets', KBinsDiscretizer(n_bins=6, strategy=\"uniform\", encode=\"ordinal\"),[\"platelets\"]),\n",
    "                                                  ('scale_norma', scaled_pipeline,['creatinine_phosphokinase', 'ejection_fraction', 'serum_creatinine', 'serum_sodium'])], remainder=\"passthrough\")\n",
    "\n",
    "\n",
    "ver = pd.DataFrame(column_trasform.fit_transform(new_df),columns=new_df.columns.tolist())\n",
    "ver"
   ],
   "metadata": {
    "collapsed": false,
    "ExecuteTime": {
     "start_time": "2023-06-12T11:16:58.192112Z",
     "end_time": "2023-06-12T11:16:58.208333Z"
    }
   }
  },
  {
   "cell_type": "code",
   "execution_count": 41,
   "outputs": [
    {
     "name": "stdout",
     "output_type": "stream",
     "text": [
      "[Pipeline] ............ (step 1 of 2) Processing scaler, total=   0.0s\n",
      "[Pipeline] ........ (step 2 of 2) Processing normalized, total=   0.0s\n",
      "[Pipeline] ........ (step 1 of 2) Processing trasformer, total=   0.0s\n",
      "[Pipeline] ............. (step 2 of 2) Processing model, total=   0.0s\n",
      " ===== Pipeline  =====\n",
      "Accuracy on train 1.0\n",
      "Accuracy on test 0.65\n",
      "Confusion matrix on test\n",
      "[[50 18]\n",
      " [17 15]]\n"
     ]
    }
   ],
   "source": [
    "my_pipeline = Pipeline(steps=[(\"trasformer\",column_trasform), (\"model\",model_td)],verbose=True)\n",
    "\n",
    "test_model(\"Pipeline \",my_pipeline, X_train, X_test, y_train, y_test)"
   ],
   "metadata": {
    "collapsed": false,
    "ExecuteTime": {
     "start_time": "2023-06-12T11:17:02.034019Z",
     "end_time": "2023-06-12T11:17:02.073167Z"
    }
   }
  },
  {
   "cell_type": "code",
   "execution_count": 42,
   "outputs": [
    {
     "data": {
      "text/plain": "<AxesSubplot:>"
     },
     "execution_count": 42,
     "metadata": {},
     "output_type": "execute_result"
    },
    {
     "data": {
      "text/plain": "<Figure size 640x480 with 1 Axes>",
      "image/png": "[encoded data removed]"
     },
     "metadata": {},
     "output_type": "display_data"
    }
   ],
   "source": [
    "import matplotlib.pyplot as plt\n",
    "importanza = model_td.feature_importances_\n",
    "std = np.std([model_td.feature_importances_],axis=0)\n",
    "DF_importanza = pd.Series(importanza,index=new_df.columns.tolist())\n",
    "fig,ax = plt.subplots()\n",
    "DF_importanza.plot.bar(yerr=std,ax=ax)"
   ],
   "metadata": {
    "collapsed": false,
    "ExecuteTime": {
     "start_time": "2023-06-12T11:17:05.793326Z",
     "end_time": "2023-06-12T11:17:05.890330Z"
    }
   }
  },
  {
   "cell_type": "markdown",
   "source": [
    "# 2.5\n",
    "Applicare una funzione per l’ottimizzazione dei parametri (sia del modello di classificazione\n",
    "sia della pipeline) e verificare se l’accuratezza migliora."
   ],
   "metadata": {
    "collapsed": false
   }
  },
  {
   "cell_type": "code",
   "execution_count": 43,
   "outputs": [
    {
     "name": "stdout",
     "output_type": "stream",
     "text": [
      "[Pipeline] ............ (step 1 of 2) Processing scaler, total=   0.0s\n",
      "[Pipeline] ........ (step 2 of 2) Processing normalized, total=   0.0s\n",
      "[Pipeline] ........ (step 1 of 2) Processing trasformer, total=   0.0s\n",
      "[Pipeline] ............. (step 2 of 2) Processing model, total=   0.0s\n",
      "[Pipeline] ............ (step 1 of 2) Processing scaler, total=   0.0s\n",
      "[Pipeline] ........ (step 2 of 2) Processing normalized, total=   0.0s\n",
      "[Pipeline] ........ (step 1 of 2) Processing trasformer, total=   0.0s\n",
      "[Pipeline] ............. (step 2 of 2) Processing model, total=   0.0s\n",
      "[Pipeline] ............ (step 1 of 2) Processing scaler, total=   0.0s\n",
      "[Pipeline] ........ (step 2 of 2) Processing normalized, total=   0.0s\n",
      "[Pipeline] ........ (step 1 of 2) Processing trasformer, total=   0.0s\n",
      "[Pipeline] ............. (step 2 of 2) Processing model, total=   0.0s\n",
      "[Pipeline] ............ (step 1 of 2) Processing scaler, total=   0.0s\n",
      "[Pipeline] ........ (step 2 of 2) Processing normalized, total=   0.0s\n",
      "[Pipeline] ........ (step 1 of 2) Processing trasformer, total=   0.0s\n",
      "[Pipeline] ............. (step 2 of 2) Processing model, total=   0.0s\n",
      "[Pipeline] ............ (step 1 of 2) Processing scaler, total=   0.0s\n",
      "[Pipeline] ........ (step 2 of 2) Processing normalized, total=   0.0s\n",
      "[Pipeline] ........ (step 1 of 2) Processing trasformer, total=   0.0s\n",
      "[Pipeline] ............. (step 2 of 2) Processing model, total=   0.0s\n",
      "[Pipeline] ............ (step 1 of 2) Processing scaler, total=   0.0s\n",
      "[Pipeline] ........ (step 2 of 2) Processing normalized, total=   0.0s\n",
      "[Pipeline] ........ (step 1 of 2) Processing trasformer, total=   0.0s\n",
      "[Pipeline] ............. (step 2 of 2) Processing model, total=   0.0s\n",
      "[Pipeline] ............ (step 1 of 2) Processing scaler, total=   0.0s\n",
      "[Pipeline] ........ (step 2 of 2) Processing normalized, total=   0.0s\n",
      "[Pipeline] ........ (step 1 of 2) Processing trasformer, total=   0.0s\n",
      "[Pipeline] ............. (step 2 of 2) Processing model, total=   0.0s\n",
      "[Pipeline] ............ (step 1 of 2) Processing scaler, total=   0.0s\n",
      "[Pipeline] ........ (step 2 of 2) Processing normalized, total=   0.0s\n",
      "[Pipeline] ........ (step 1 of 2) Processing trasformer, total=   0.0s\n",
      "[Pipeline] ............. (step 2 of 2) Processing model, total=   0.0s\n",
      "[Pipeline] ............ (step 1 of 2) Processing scaler, total=   0.0s\n",
      "[Pipeline] ........ (step 2 of 2) Processing normalized, total=   0.0s\n",
      "[Pipeline] ........ (step 1 of 2) Processing trasformer, total=   0.0s\n",
      "[Pipeline] ............. (step 2 of 2) Processing model, total=   0.0s\n",
      "[Pipeline] ............ (step 1 of 2) Processing scaler, total=   0.0s\n",
      "[Pipeline] ........ (step 2 of 2) Processing normalized, total=   0.0s\n",
      "[Pipeline] ........ (step 1 of 2) Processing trasformer, total=   0.0s\n",
      "[Pipeline] ............. (step 2 of 2) Processing model, total=   0.0s\n",
      "[Pipeline] ............ (step 1 of 2) Processing scaler, total=   0.0s\n",
      "[Pipeline] ........ (step 2 of 2) Processing normalized, total=   0.0s\n",
      "[Pipeline] ........ (step 1 of 2) Processing trasformer, total=   0.0s\n",
      "[Pipeline] ............. (step 2 of 2) Processing model, total=   0.0s\n",
      "[Pipeline] ............ (step 1 of 2) Processing scaler, total=   0.0s\n",
      "[Pipeline] ........ (step 2 of 2) Processing normalized, total=   0.0s\n",
      "[Pipeline] ........ (step 1 of 2) Processing trasformer, total=   0.0s\n",
      "[Pipeline] ............. (step 2 of 2) Processing model, total=   0.0s\n",
      "[Pipeline] ............ (step 1 of 2) Processing scaler, total=   0.0s\n",
      "[Pipeline] ........ (step 2 of 2) Processing normalized, total=   0.0s\n",
      "[Pipeline] ........ (step 1 of 2) Processing trasformer, total=   0.0s\n",
      "[Pipeline] ............. (step 2 of 2) Processing model, total=   0.0s\n",
      "[Pipeline] ............ (step 1 of 2) Processing scaler, total=   0.0s\n",
      "[Pipeline] ........ (step 2 of 2) Processing normalized, total=   0.0s\n",
      "[Pipeline] ........ (step 1 of 2) Processing trasformer, total=   0.0s\n",
      "[Pipeline] ............. (step 2 of 2) Processing model, total=   0.0s\n",
      "[Pipeline] ............ (step 1 of 2) Processing scaler, total=   0.0s\n",
      "[Pipeline] ........ (step 2 of 2) Processing normalized, total=   0.0s\n",
      "[Pipeline] ........ (step 1 of 2) Processing trasformer, total=   0.0s\n",
      "[Pipeline] ............. (step 2 of 2) Processing model, total=   0.0s\n",
      "[Pipeline] ............ (step 1 of 2) Processing scaler, total=   0.0s\n",
      "[Pipeline] ........ (step 2 of 2) Processing normalized, total=   0.0s\n",
      "[Pipeline] ........ (step 1 of 2) Processing trasformer, total=   0.0s\n",
      "[Pipeline] ............. (step 2 of 2) Processing model, total=   0.0s\n",
      "[Pipeline] ............ (step 1 of 2) Processing scaler, total=   0.0s\n",
      "[Pipeline] ........ (step 2 of 2) Processing normalized, total=   0.0s\n",
      "[Pipeline] ........ (step 1 of 2) Processing trasformer, total=   0.0s\n",
      "[Pipeline] ............. (step 2 of 2) Processing model, total=   0.0s\n",
      "[Pipeline] ............ (step 1 of 2) Processing scaler, total=   0.0s\n",
      "[Pipeline] ........ (step 2 of 2) Processing normalized, total=   0.0s\n",
      "[Pipeline] ........ (step 1 of 2) Processing trasformer, total=   0.0s\n",
      "[Pipeline] ............. (step 2 of 2) Processing model, total=   0.0s\n",
      "[Pipeline] ............ (step 1 of 2) Processing scaler, total=   0.0s\n",
      "[Pipeline] ........ (step 2 of 2) Processing normalized, total=   0.0s\n",
      "[Pipeline] ........ (step 1 of 2) Processing trasformer, total=   0.0s\n",
      "[Pipeline] ............. (step 2 of 2) Processing model, total=   0.0s\n",
      "[Pipeline] ............ (step 1 of 2) Processing scaler, total=   0.0s\n",
      "[Pipeline] ........ (step 2 of 2) Processing normalized, total=   0.0s\n",
      "[Pipeline] ........ (step 1 of 2) Processing trasformer, total=   0.0s\n",
      "[Pipeline] ............. (step 2 of 2) Processing model, total=   0.0s\n",
      "[Pipeline] ............ (step 1 of 2) Processing scaler, total=   0.0s\n",
      "[Pipeline] ........ (step 2 of 2) Processing normalized, total=   0.0s\n",
      "[Pipeline] ........ (step 1 of 2) Processing trasformer, total=   0.0s\n",
      "[Pipeline] ............. (step 2 of 2) Processing model, total=   0.0s\n",
      "[Pipeline] ............ (step 1 of 2) Processing scaler, total=   0.0s\n",
      "[Pipeline] ........ (step 2 of 2) Processing normalized, total=   0.0s\n",
      "[Pipeline] ........ (step 1 of 2) Processing trasformer, total=   0.0s\n",
      "[Pipeline] ............. (step 2 of 2) Processing model, total=   0.0s\n",
      "[Pipeline] ............ (step 1 of 2) Processing scaler, total=   0.0s\n",
      "[Pipeline] ........ (step 2 of 2) Processing normalized, total=   0.0s\n",
      "[Pipeline] ........ (step 1 of 2) Processing trasformer, total=   0.0s\n",
      "[Pipeline] ............. (step 2 of 2) Processing model, total=   0.0s\n",
      "[Pipeline] ............ (step 1 of 2) Processing scaler, total=   0.0s\n",
      "[Pipeline] ........ (step 2 of 2) Processing normalized, total=   0.0s\n",
      "[Pipeline] ........ (step 1 of 2) Processing trasformer, total=   0.0s\n",
      "[Pipeline] ............. (step 2 of 2) Processing model, total=   0.0s\n",
      "[Pipeline] ............ (step 1 of 2) Processing scaler, total=   0.0s\n",
      "[Pipeline] ........ (step 2 of 2) Processing normalized, total=   0.0s\n",
      "[Pipeline] ........ (step 1 of 2) Processing trasformer, total=   0.0s\n",
      "[Pipeline] ............. (step 2 of 2) Processing model, total=   0.0s\n",
      "[Pipeline] ............ (step 1 of 2) Processing scaler, total=   0.0s\n",
      "[Pipeline] ........ (step 2 of 2) Processing normalized, total=   0.0s\n",
      "[Pipeline] ........ (step 1 of 2) Processing trasformer, total=   0.0s\n",
      "[Pipeline] ............. (step 2 of 2) Processing model, total=   0.0s\n",
      "[Pipeline] ............ (step 1 of 2) Processing scaler, total=   0.0s\n",
      "[Pipeline] ........ (step 2 of 2) Processing normalized, total=   0.0s\n",
      "[Pipeline] ........ (step 1 of 2) Processing trasformer, total=   0.0s\n",
      "[Pipeline] ............. (step 2 of 2) Processing model, total=   0.0s\n",
      "[Pipeline] ............ (step 1 of 2) Processing scaler, total=   0.0s\n",
      "[Pipeline] ........ (step 2 of 2) Processing normalized, total=   0.0s\n",
      "[Pipeline] ........ (step 1 of 2) Processing trasformer, total=   0.0s\n",
      "[Pipeline] ............. (step 2 of 2) Processing model, total=   0.0s\n",
      "[Pipeline] ............ (step 1 of 2) Processing scaler, total=   0.0s\n",
      "[Pipeline] ........ (step 2 of 2) Processing normalized, total=   0.0s\n",
      "[Pipeline] ........ (step 1 of 2) Processing trasformer, total=   0.0s\n",
      "[Pipeline] ............. (step 2 of 2) Processing model, total=   0.0s\n",
      "[Pipeline] ............ (step 1 of 2) Processing scaler, total=   0.0s\n",
      "[Pipeline] ........ (step 2 of 2) Processing normalized, total=   0.0s\n",
      "[Pipeline] ........ (step 1 of 2) Processing trasformer, total=   0.0s\n",
      "[Pipeline] ............. (step 2 of 2) Processing model, total=   0.0s\n",
      "[Pipeline] ............ (step 1 of 2) Processing scaler, total=   0.0s\n",
      "[Pipeline] ........ (step 2 of 2) Processing normalized, total=   0.0s\n",
      "[Pipeline] ........ (step 1 of 2) Processing trasformer, total=   0.0s\n",
      "[Pipeline] ............. (step 2 of 2) Processing model, total=   0.0s\n",
      "[Pipeline] ............ (step 1 of 2) Processing scaler, total=   0.0s\n",
      "[Pipeline] ........ (step 2 of 2) Processing normalized, total=   0.0s\n",
      "[Pipeline] ........ (step 1 of 2) Processing trasformer, total=   0.0s\n",
      "[Pipeline] ............. (step 2 of 2) Processing model, total=   0.0s\n",
      "[Pipeline] ............ (step 1 of 2) Processing scaler, total=   0.0s\n",
      "[Pipeline] ........ (step 2 of 2) Processing normalized, total=   0.0s\n",
      "[Pipeline] ........ (step 1 of 2) Processing trasformer, total=   0.0s\n",
      "[Pipeline] ............. (step 2 of 2) Processing model, total=   0.0s\n",
      "[Pipeline] ............ (step 1 of 2) Processing scaler, total=   0.0s\n",
      "[Pipeline] ........ (step 2 of 2) Processing normalized, total=   0.0s\n",
      "[Pipeline] ........ (step 1 of 2) Processing trasformer, total=   0.0s\n",
      "[Pipeline] ............. (step 2 of 2) Processing model, total=   0.0s\n",
      "[Pipeline] ............ (step 1 of 2) Processing scaler, total=   0.0s\n",
      "[Pipeline] ........ (step 2 of 2) Processing normalized, total=   0.0s\n",
      "[Pipeline] ........ (step 1 of 2) Processing trasformer, total=   0.0s\n",
      "[Pipeline] ............. (step 2 of 2) Processing model, total=   0.0s\n",
      "[Pipeline] ............ (step 1 of 2) Processing scaler, total=   0.0s\n",
      "[Pipeline] ........ (step 2 of 2) Processing normalized, total=   0.0s\n",
      "[Pipeline] ........ (step 1 of 2) Processing trasformer, total=   0.0s\n",
      "[Pipeline] ............. (step 2 of 2) Processing model, total=   0.0s\n",
      "[Pipeline] ............ (step 1 of 2) Processing scaler, total=   0.0s\n",
      "[Pipeline] ........ (step 2 of 2) Processing normalized, total=   0.0s\n",
      "[Pipeline] ........ (step 1 of 2) Processing trasformer, total=   0.0s\n",
      "[Pipeline] ............. (step 2 of 2) Processing model, total=   0.0s\n",
      "[Pipeline] ............ (step 1 of 2) Processing scaler, total=   0.0s\n",
      "[Pipeline] ........ (step 2 of 2) Processing normalized, total=   0.0s\n",
      "[Pipeline] ........ (step 1 of 2) Processing trasformer, total=   0.0s\n",
      "[Pipeline] ............. (step 2 of 2) Processing model, total=   0.0s\n",
      "[Pipeline] ............ (step 1 of 2) Processing scaler, total=   0.0s\n",
      "[Pipeline] ........ (step 2 of 2) Processing normalized, total=   0.0s\n",
      "[Pipeline] ........ (step 1 of 2) Processing trasformer, total=   0.0s\n",
      "[Pipeline] ............. (step 2 of 2) Processing model, total=   0.0s\n",
      "[Pipeline] ............ (step 1 of 2) Processing scaler, total=   0.0s\n",
      "[Pipeline] ........ (step 2 of 2) Processing normalized, total=   0.0s\n",
      "[Pipeline] ........ (step 1 of 2) Processing trasformer, total=   0.0s\n",
      "[Pipeline] ............. (step 2 of 2) Processing model, total=   0.0s\n",
      "[Pipeline] ............ (step 1 of 2) Processing scaler, total=   0.0s\n",
      "[Pipeline] ........ (step 2 of 2) Processing normalized, total=   0.0s\n",
      "[Pipeline] ........ (step 1 of 2) Processing trasformer, total=   0.0s\n",
      "[Pipeline] ............. (step 2 of 2) Processing model, total=   0.0s\n",
      "[Pipeline] ............ (step 1 of 2) Processing scaler, total=   0.0s\n",
      "[Pipeline] ........ (step 2 of 2) Processing normalized, total=   0.0s\n",
      "[Pipeline] ........ (step 1 of 2) Processing trasformer, total=   0.0s\n",
      "[Pipeline] ............. (step 2 of 2) Processing model, total=   0.0s\n",
      "[Pipeline] ............ (step 1 of 2) Processing scaler, total=   0.0s\n",
      "[Pipeline] ........ (step 2 of 2) Processing normalized, total=   0.0s\n",
      "[Pipeline] ........ (step 1 of 2) Processing trasformer, total=   0.0s\n",
      "[Pipeline] ............. (step 2 of 2) Processing model, total=   0.0s\n",
      "[Pipeline] ............ (step 1 of 2) Processing scaler, total=   0.0s\n",
      "[Pipeline] ........ (step 2 of 2) Processing normalized, total=   0.0s\n",
      "[Pipeline] ........ (step 1 of 2) Processing trasformer, total=   0.0s\n",
      "[Pipeline] ............. (step 2 of 2) Processing model, total=   0.0s\n",
      "[Pipeline] ............ (step 1 of 2) Processing scaler, total=   0.0s\n",
      "[Pipeline] ........ (step 2 of 2) Processing normalized, total=   0.0s\n",
      "[Pipeline] ........ (step 1 of 2) Processing trasformer, total=   0.0s\n",
      "[Pipeline] ............. (step 2 of 2) Processing model, total=   0.0s\n",
      "[Pipeline] ............ (step 1 of 2) Processing scaler, total=   0.0s\n",
      "[Pipeline] ........ (step 2 of 2) Processing normalized, total=   0.0s\n",
      "[Pipeline] ........ (step 1 of 2) Processing trasformer, total=   0.0s\n",
      "[Pipeline] ............. (step 2 of 2) Processing model, total=   0.0s\n",
      "[Pipeline] ............ (step 1 of 2) Processing scaler, total=   0.0s\n",
      "[Pipeline] ........ (step 2 of 2) Processing normalized, total=   0.0s\n",
      "[Pipeline] ........ (step 1 of 2) Processing trasformer, total=   0.0s\n",
      "[Pipeline] ............. (step 2 of 2) Processing model, total=   0.0s\n",
      "[Pipeline] ............ (step 1 of 2) Processing scaler, total=   0.0s\n",
      "[Pipeline] ........ (step 2 of 2) Processing normalized, total=   0.0s\n",
      "[Pipeline] ........ (step 1 of 2) Processing trasformer, total=   0.0s\n",
      "[Pipeline] ............. (step 2 of 2) Processing model, total=   0.0s\n",
      "[Pipeline] ............ (step 1 of 2) Processing scaler, total=   0.0s\n",
      "[Pipeline] ........ (step 2 of 2) Processing normalized, total=   0.0s\n",
      "[Pipeline] ........ (step 1 of 2) Processing trasformer, total=   0.0s\n",
      "[Pipeline] ............. (step 2 of 2) Processing model, total=   0.0s\n",
      "[Pipeline] ............ (step 1 of 2) Processing scaler, total=   0.0s\n",
      "[Pipeline] ........ (step 2 of 2) Processing normalized, total=   0.0s\n",
      "[Pipeline] ........ (step 1 of 2) Processing trasformer, total=   0.0s\n",
      "[Pipeline] ............. (step 2 of 2) Processing model, total=   0.0s\n",
      "[Pipeline] ............ (step 1 of 2) Processing scaler, total=   0.0s\n",
      "[Pipeline] ........ (step 2 of 2) Processing normalized, total=   0.0s\n",
      "[Pipeline] ........ (step 1 of 2) Processing trasformer, total=   0.0s\n",
      "[Pipeline] ............. (step 2 of 2) Processing model, total=   0.0s\n",
      "[Pipeline] ............ (step 1 of 2) Processing scaler, total=   0.0s\n",
      "[Pipeline] ........ (step 2 of 2) Processing normalized, total=   0.0s\n",
      "[Pipeline] ........ (step 1 of 2) Processing trasformer, total=   0.0s\n",
      "[Pipeline] ............. (step 2 of 2) Processing model, total=   0.0s\n",
      "[Pipeline] ............ (step 1 of 2) Processing scaler, total=   0.0s\n",
      "[Pipeline] ........ (step 2 of 2) Processing normalized, total=   0.0s\n",
      "[Pipeline] ........ (step 1 of 2) Processing trasformer, total=   0.0s\n",
      "[Pipeline] ............. (step 2 of 2) Processing model, total=   0.0s\n",
      "[Pipeline] ............ (step 1 of 2) Processing scaler, total=   0.0s\n",
      "[Pipeline] ........ (step 2 of 2) Processing normalized, total=   0.0s\n",
      "[Pipeline] ........ (step 1 of 2) Processing trasformer, total=   0.0s\n",
      "[Pipeline] ............. (step 2 of 2) Processing model, total=   0.0s\n",
      "[Pipeline] ............ (step 1 of 2) Processing scaler, total=   0.0s\n",
      "[Pipeline] ........ (step 2 of 2) Processing normalized, total=   0.0s\n",
      "[Pipeline] ........ (step 1 of 2) Processing trasformer, total=   0.0s\n",
      "[Pipeline] ............. (step 2 of 2) Processing model, total=   0.0s\n",
      "[Pipeline] ............ (step 1 of 2) Processing scaler, total=   0.0s\n",
      "[Pipeline] ........ (step 2 of 2) Processing normalized, total=   0.0s\n",
      "[Pipeline] ........ (step 1 of 2) Processing trasformer, total=   0.0s\n",
      "[Pipeline] ............. (step 2 of 2) Processing model, total=   0.0s\n",
      "[Pipeline] ............ (step 1 of 2) Processing scaler, total=   0.0s\n",
      "[Pipeline] ........ (step 2 of 2) Processing normalized, total=   0.0s\n",
      "[Pipeline] ........ (step 1 of 2) Processing trasformer, total=   0.0s\n",
      "[Pipeline] ............. (step 2 of 2) Processing model, total=   0.0s\n",
      "[Pipeline] ............ (step 1 of 2) Processing scaler, total=   0.0s\n",
      "[Pipeline] ........ (step 2 of 2) Processing normalized, total=   0.0s\n",
      "[Pipeline] ........ (step 1 of 2) Processing trasformer, total=   0.0s\n",
      "[Pipeline] ............. (step 2 of 2) Processing model, total=   0.0s\n",
      "[Pipeline] ............ (step 1 of 2) Processing scaler, total=   0.0s\n",
      "[Pipeline] ........ (step 2 of 2) Processing normalized, total=   0.0s\n",
      "[Pipeline] ........ (step 1 of 2) Processing trasformer, total=   0.0s\n",
      "[Pipeline] ............. (step 2 of 2) Processing model, total=   0.0s\n",
      "[Pipeline] ............ (step 1 of 2) Processing scaler, total=   0.0s\n",
      "[Pipeline] ........ (step 2 of 2) Processing normalized, total=   0.0s\n",
      "[Pipeline] ........ (step 1 of 2) Processing trasformer, total=   0.0s\n",
      "[Pipeline] ............. (step 2 of 2) Processing model, total=   0.0s\n",
      "[Pipeline] ............ (step 1 of 2) Processing scaler, total=   0.0s\n",
      "[Pipeline] ........ (step 2 of 2) Processing normalized, total=   0.0s\n",
      "[Pipeline] ........ (step 1 of 2) Processing trasformer, total=   0.0s\n",
      "[Pipeline] ............. (step 2 of 2) Processing model, total=   0.0s\n",
      "[Pipeline] ............ (step 1 of 2) Processing scaler, total=   0.0s\n",
      "[Pipeline] ........ (step 2 of 2) Processing normalized, total=   0.0s\n",
      "[Pipeline] ........ (step 1 of 2) Processing trasformer, total=   0.0s\n",
      "[Pipeline] ............. (step 2 of 2) Processing model, total=   0.0s\n",
      "[Pipeline] ............ (step 1 of 2) Processing scaler, total=   0.0s\n",
      "[Pipeline] ........ (step 2 of 2) Processing normalized, total=   0.0s\n",
      "[Pipeline] ........ (step 1 of 2) Processing trasformer, total=   0.0s\n",
      "[Pipeline] ............. (step 2 of 2) Processing model, total=   0.0s\n",
      "[Pipeline] ............ (step 1 of 2) Processing scaler, total=   0.0s\n",
      "[Pipeline] ........ (step 2 of 2) Processing normalized, total=   0.0s\n",
      "[Pipeline] ........ (step 1 of 2) Processing trasformer, total=   0.0s\n",
      "[Pipeline] ............. (step 2 of 2) Processing model, total=   0.0s\n",
      "[Pipeline] ............ (step 1 of 2) Processing scaler, total=   0.0s\n",
      "[Pipeline] ........ (step 2 of 2) Processing normalized, total=   0.0s\n",
      "[Pipeline] ........ (step 1 of 2) Processing trasformer, total=   0.0s\n",
      "[Pipeline] ............. (step 2 of 2) Processing model, total=   0.0s\n",
      "[Pipeline] ............ (step 1 of 2) Processing scaler, total=   0.0s\n",
      "[Pipeline] ........ (step 2 of 2) Processing normalized, total=   0.0s\n",
      "[Pipeline] ........ (step 1 of 2) Processing trasformer, total=   0.0s\n",
      "[Pipeline] ............. (step 2 of 2) Processing model, total=   0.0s\n",
      "[Pipeline] ............ (step 1 of 2) Processing scaler, total=   0.0s\n",
      "[Pipeline] ........ (step 2 of 2) Processing normalized, total=   0.0s\n",
      "[Pipeline] ........ (step 1 of 2) Processing trasformer, total=   0.0s\n",
      "[Pipeline] ............. (step 2 of 2) Processing model, total=   0.0s\n",
      "[Pipeline] ............ (step 1 of 2) Processing scaler, total=   0.0s\n",
      "[Pipeline] ........ (step 2 of 2) Processing normalized, total=   0.0s\n",
      "[Pipeline] ........ (step 1 of 2) Processing trasformer, total=   0.0s\n",
      "[Pipeline] ............. (step 2 of 2) Processing model, total=   0.0s\n",
      "[Pipeline] ............ (step 1 of 2) Processing scaler, total=   0.0s\n",
      "[Pipeline] ........ (step 2 of 2) Processing normalized, total=   0.0s\n",
      "[Pipeline] ........ (step 1 of 2) Processing trasformer, total=   0.0s\n",
      "[Pipeline] ............. (step 2 of 2) Processing model, total=   0.0s\n",
      "[Pipeline] ............ (step 1 of 2) Processing scaler, total=   0.0s\n",
      "[Pipeline] ........ (step 2 of 2) Processing normalized, total=   0.0s\n",
      "[Pipeline] ........ (step 1 of 2) Processing trasformer, total=   0.0s\n",
      "[Pipeline] ............. (step 2 of 2) Processing model, total=   0.0s\n",
      "[Pipeline] ............ (step 1 of 2) Processing scaler, total=   0.0s\n",
      "[Pipeline] ........ (step 2 of 2) Processing normalized, total=   0.0s\n",
      "[Pipeline] ........ (step 1 of 2) Processing trasformer, total=   0.0s\n",
      "[Pipeline] ............. (step 2 of 2) Processing model, total=   0.0s\n",
      "[Pipeline] ............ (step 1 of 2) Processing scaler, total=   0.0s\n",
      "[Pipeline] ........ (step 2 of 2) Processing normalized, total=   0.0s\n",
      "[Pipeline] ........ (step 1 of 2) Processing trasformer, total=   0.0s\n",
      "[Pipeline] ............. (step 2 of 2) Processing model, total=   0.0s\n",
      "[Pipeline] ............ (step 1 of 2) Processing scaler, total=   0.0s\n",
      "[Pipeline] ........ (step 2 of 2) Processing normalized, total=   0.0s\n",
      "[Pipeline] ........ (step 1 of 2) Processing trasformer, total=   0.0s\n",
      "[Pipeline] ............. (step 2 of 2) Processing model, total=   0.0s\n",
      "[Pipeline] ............ (step 1 of 2) Processing scaler, total=   0.0s\n",
      "[Pipeline] ........ (step 2 of 2) Processing normalized, total=   0.0s\n",
      "[Pipeline] ........ (step 1 of 2) Processing trasformer, total=   0.0s\n",
      "[Pipeline] ............. (step 2 of 2) Processing model, total=   0.0s\n",
      "[Pipeline] ............ (step 1 of 2) Processing scaler, total=   0.0s\n",
      "[Pipeline] ........ (step 2 of 2) Processing normalized, total=   0.0s\n",
      "[Pipeline] ........ (step 1 of 2) Processing trasformer, total=   0.0s\n",
      "[Pipeline] ............. (step 2 of 2) Processing model, total=   0.0s\n",
      "[Pipeline] ............ (step 1 of 2) Processing scaler, total=   0.0s\n",
      "[Pipeline] ........ (step 2 of 2) Processing normalized, total=   0.0s\n",
      "[Pipeline] ........ (step 1 of 2) Processing trasformer, total=   0.0s\n",
      "[Pipeline] ............. (step 2 of 2) Processing model, total=   0.0s\n",
      "[Pipeline] ............ (step 1 of 2) Processing scaler, total=   0.0s\n",
      "[Pipeline] ........ (step 2 of 2) Processing normalized, total=   0.0s\n",
      "[Pipeline] ........ (step 1 of 2) Processing trasformer, total=   0.0s\n",
      "[Pipeline] ............. (step 2 of 2) Processing model, total=   0.0s\n",
      "[Pipeline] ............ (step 1 of 2) Processing scaler, total=   0.0s\n",
      "[Pipeline] ........ (step 2 of 2) Processing normalized, total=   0.0s\n",
      "[Pipeline] ........ (step 1 of 2) Processing trasformer, total=   0.0s\n",
      "[Pipeline] ............. (step 2 of 2) Processing model, total=   0.0s\n",
      "[Pipeline] ............ (step 1 of 2) Processing scaler, total=   0.0s\n",
      "[Pipeline] ........ (step 2 of 2) Processing normalized, total=   0.0s\n",
      "[Pipeline] ........ (step 1 of 2) Processing trasformer, total=   0.0s\n",
      "[Pipeline] ............. (step 2 of 2) Processing model, total=   0.0s\n",
      "[Pipeline] ............ (step 1 of 2) Processing scaler, total=   0.0s\n",
      "[Pipeline] ........ (step 2 of 2) Processing normalized, total=   0.0s\n",
      "[Pipeline] ........ (step 1 of 2) Processing trasformer, total=   0.0s\n",
      "[Pipeline] ............. (step 2 of 2) Processing model, total=   0.0s\n",
      "[Pipeline] ............ (step 1 of 2) Processing scaler, total=   0.0s\n",
      "[Pipeline] ........ (step 2 of 2) Processing normalized, total=   0.0s\n",
      "[Pipeline] ........ (step 1 of 2) Processing trasformer, total=   0.0s\n",
      "[Pipeline] ............. (step 2 of 2) Processing model, total=   0.0s\n",
      "[Pipeline] ............ (step 1 of 2) Processing scaler, total=   0.0s\n",
      "[Pipeline] ........ (step 2 of 2) Processing normalized, total=   0.0s\n",
      "[Pipeline] ........ (step 1 of 2) Processing trasformer, total=   0.0s\n",
      "[Pipeline] ............. (step 2 of 2) Processing model, total=   0.0s\n",
      "[Pipeline] ............ (step 1 of 2) Processing scaler, total=   0.0s\n",
      "[Pipeline] ........ (step 2 of 2) Processing normalized, total=   0.0s\n",
      "[Pipeline] ........ (step 1 of 2) Processing trasformer, total=   0.0s\n",
      "[Pipeline] ............. (step 2 of 2) Processing model, total=   0.0s\n",
      "[Pipeline] ............ (step 1 of 2) Processing scaler, total=   0.0s\n",
      "[Pipeline] ........ (step 2 of 2) Processing normalized, total=   0.0s\n",
      "[Pipeline] ........ (step 1 of 2) Processing trasformer, total=   0.0s\n",
      "[Pipeline] ............. (step 2 of 2) Processing model, total=   0.0s\n",
      "[Pipeline] ............ (step 1 of 2) Processing scaler, total=   0.0s\n",
      "[Pipeline] ........ (step 2 of 2) Processing normalized, total=   0.0s\n",
      "[Pipeline] ........ (step 1 of 2) Processing trasformer, total=   0.0s\n",
      "[Pipeline] ............. (step 2 of 2) Processing model, total=   0.0s\n",
      "[Pipeline] ............ (step 1 of 2) Processing scaler, total=   0.0s\n",
      "[Pipeline] ........ (step 2 of 2) Processing normalized, total=   0.0s\n",
      "[Pipeline] ........ (step 1 of 2) Processing trasformer, total=   0.0s\n",
      "[Pipeline] ............. (step 2 of 2) Processing model, total=   0.0s\n",
      "[Pipeline] ............ (step 1 of 2) Processing scaler, total=   0.0s\n",
      "[Pipeline] ........ (step 2 of 2) Processing normalized, total=   0.0s\n",
      "[Pipeline] ........ (step 1 of 2) Processing trasformer, total=   0.0s\n",
      "[Pipeline] ............. (step 2 of 2) Processing model, total=   0.0s\n",
      "[Pipeline] ............ (step 1 of 2) Processing scaler, total=   0.0s\n",
      "[Pipeline] ........ (step 2 of 2) Processing normalized, total=   0.0s\n",
      "[Pipeline] ........ (step 1 of 2) Processing trasformer, total=   0.0s\n",
      "[Pipeline] ............. (step 2 of 2) Processing model, total=   0.0s\n",
      "[Pipeline] ............ (step 1 of 2) Processing scaler, total=   0.0s\n",
      "[Pipeline] ........ (step 2 of 2) Processing normalized, total=   0.0s\n",
      "[Pipeline] ........ (step 1 of 2) Processing trasformer, total=   0.0s\n",
      "[Pipeline] ............. (step 2 of 2) Processing model, total=   0.0s\n",
      "[Pipeline] ............ (step 1 of 2) Processing scaler, total=   0.0s\n",
      "[Pipeline] ........ (step 2 of 2) Processing normalized, total=   0.0s\n",
      "[Pipeline] ........ (step 1 of 2) Processing trasformer, total=   0.0s\n",
      "[Pipeline] ............. (step 2 of 2) Processing model, total=   0.0s\n",
      "[Pipeline] ............ (step 1 of 2) Processing scaler, total=   0.0s\n",
      "[Pipeline] ........ (step 2 of 2) Processing normalized, total=   0.0s\n",
      "[Pipeline] ........ (step 1 of 2) Processing trasformer, total=   0.0s\n",
      "[Pipeline] ............. (step 2 of 2) Processing model, total=   0.0s\n",
      "[Pipeline] ............ (step 1 of 2) Processing scaler, total=   0.0s\n",
      "[Pipeline] ........ (step 2 of 2) Processing normalized, total=   0.0s\n",
      "[Pipeline] ........ (step 1 of 2) Processing trasformer, total=   0.0s\n",
      "[Pipeline] ............. (step 2 of 2) Processing model, total=   0.0s\n",
      "[Pipeline] ............ (step 1 of 2) Processing scaler, total=   0.0s\n",
      "[Pipeline] ........ (step 2 of 2) Processing normalized, total=   0.0s\n",
      "[Pipeline] ........ (step 1 of 2) Processing trasformer, total=   0.0s\n",
      "[Pipeline] ............. (step 2 of 2) Processing model, total=   0.0s\n",
      "[Pipeline] ............ (step 1 of 2) Processing scaler, total=   0.0s\n",
      "[Pipeline] ........ (step 2 of 2) Processing normalized, total=   0.0s\n",
      "[Pipeline] ........ (step 1 of 2) Processing trasformer, total=   0.0s\n",
      "[Pipeline] ............. (step 2 of 2) Processing model, total=   0.0s\n",
      "[Pipeline] ............ (step 1 of 2) Processing scaler, total=   0.0s\n",
      "[Pipeline] ........ (step 2 of 2) Processing normalized, total=   0.0s\n",
      "[Pipeline] ........ (step 1 of 2) Processing trasformer, total=   0.0s\n",
      "[Pipeline] ............. (step 2 of 2) Processing model, total=   0.0s\n",
      "[Pipeline] ............ (step 1 of 2) Processing scaler, total=   0.0s\n",
      "[Pipeline] ........ (step 2 of 2) Processing normalized, total=   0.0s\n",
      "[Pipeline] ........ (step 1 of 2) Processing trasformer, total=   0.0s\n",
      "[Pipeline] ............. (step 2 of 2) Processing model, total=   0.0s\n",
      "[Pipeline] ............ (step 1 of 2) Processing scaler, total=   0.0s\n",
      "[Pipeline] ........ (step 2 of 2) Processing normalized, total=   0.0s\n",
      "[Pipeline] ........ (step 1 of 2) Processing trasformer, total=   0.0s\n",
      "[Pipeline] ............. (step 2 of 2) Processing model, total=   0.0s\n",
      "[Pipeline] ............ (step 1 of 2) Processing scaler, total=   0.0s\n",
      "[Pipeline] ........ (step 2 of 2) Processing normalized, total=   0.0s\n",
      "[Pipeline] ........ (step 1 of 2) Processing trasformer, total=   0.0s\n",
      "[Pipeline] ............. (step 2 of 2) Processing model, total=   0.0s\n",
      "[Pipeline] ............ (step 1 of 2) Processing scaler, total=   0.0s\n",
      "[Pipeline] ........ (step 2 of 2) Processing normalized, total=   0.0s\n",
      "[Pipeline] ........ (step 1 of 2) Processing trasformer, total=   0.0s\n",
      "[Pipeline] ............. (step 2 of 2) Processing model, total=   0.0s\n",
      "[Pipeline] ............ (step 1 of 2) Processing scaler, total=   0.0s\n",
      "[Pipeline] ........ (step 2 of 2) Processing normalized, total=   0.0s\n",
      "[Pipeline] ........ (step 1 of 2) Processing trasformer, total=   0.0s\n",
      "[Pipeline] ............. (step 2 of 2) Processing model, total=   0.0s\n",
      "[Pipeline] ............ (step 1 of 2) Processing scaler, total=   0.0s\n",
      "[Pipeline] ........ (step 2 of 2) Processing normalized, total=   0.0s\n",
      "[Pipeline] ........ (step 1 of 2) Processing trasformer, total=   0.0s\n",
      "[Pipeline] ............. (step 2 of 2) Processing model, total=   0.0s\n",
      "[Pipeline] ............ (step 1 of 2) Processing scaler, total=   0.0s\n",
      "[Pipeline] ........ (step 2 of 2) Processing normalized, total=   0.0s\n",
      "[Pipeline] ........ (step 1 of 2) Processing trasformer, total=   0.0s\n",
      "[Pipeline] ............. (step 2 of 2) Processing model, total=   0.0s\n",
      "[Pipeline] ............ (step 1 of 2) Processing scaler, total=   0.0s\n",
      "[Pipeline] ........ (step 2 of 2) Processing normalized, total=   0.0s\n",
      "[Pipeline] ........ (step 1 of 2) Processing trasformer, total=   0.0s\n",
      "[Pipeline] ............. (step 2 of 2) Processing model, total=   0.0s\n",
      "[Pipeline] ............ (step 1 of 2) Processing scaler, total=   0.0s\n",
      "[Pipeline] ........ (step 2 of 2) Processing normalized, total=   0.0s\n",
      "[Pipeline] ........ (step 1 of 2) Processing trasformer, total=   0.0s\n",
      "[Pipeline] ............. (step 2 of 2) Processing model, total=   0.0s\n",
      "[Pipeline] ............ (step 1 of 2) Processing scaler, total=   0.0s\n",
      "[Pipeline] ........ (step 2 of 2) Processing normalized, total=   0.0s\n",
      "[Pipeline] ........ (step 1 of 2) Processing trasformer, total=   0.0s\n",
      "[Pipeline] ............. (step 2 of 2) Processing model, total=   0.0s\n",
      "[Pipeline] ............ (step 1 of 2) Processing scaler, total=   0.0s\n",
      "[Pipeline] ........ (step 2 of 2) Processing normalized, total=   0.0s\n",
      "[Pipeline] ........ (step 1 of 2) Processing trasformer, total=   0.0s\n",
      "[Pipeline] ............. (step 2 of 2) Processing model, total=   0.0s\n",
      "[Pipeline] ............ (step 1 of 2) Processing scaler, total=   0.0s\n",
      "[Pipeline] ........ (step 2 of 2) Processing normalized, total=   0.0s\n",
      "[Pipeline] ........ (step 1 of 2) Processing trasformer, total=   0.0s\n",
      "[Pipeline] ............. (step 2 of 2) Processing model, total=   0.0s\n",
      "[Pipeline] ............ (step 1 of 2) Processing scaler, total=   0.0s\n",
      "[Pipeline] ........ (step 2 of 2) Processing normalized, total=   0.0s\n",
      "[Pipeline] ........ (step 1 of 2) Processing trasformer, total=   0.0s\n",
      "[Pipeline] ............. (step 2 of 2) Processing model, total=   0.0s\n",
      "[Pipeline] ............ (step 1 of 2) Processing scaler, total=   0.0s\n",
      "[Pipeline] ........ (step 2 of 2) Processing normalized, total=   0.0s\n",
      "[Pipeline] ........ (step 1 of 2) Processing trasformer, total=   0.0s\n",
      "[Pipeline] ............. (step 2 of 2) Processing model, total=   0.0s\n",
      "[Pipeline] ............ (step 1 of 2) Processing scaler, total=   0.0s\n",
      "[Pipeline] ........ (step 2 of 2) Processing normalized, total=   0.0s\n",
      "[Pipeline] ........ (step 1 of 2) Processing trasformer, total=   0.0s\n",
      "[Pipeline] ............. (step 2 of 2) Processing model, total=   0.0s\n",
      "[Pipeline] ............ (step 1 of 2) Processing scaler, total=   0.0s\n",
      "[Pipeline] ........ (step 2 of 2) Processing normalized, total=   0.0s\n",
      "[Pipeline] ........ (step 1 of 2) Processing trasformer, total=   0.0s\n",
      "[Pipeline] ............. (step 2 of 2) Processing model, total=   0.0s\n",
      "[Pipeline] ............ (step 1 of 2) Processing scaler, total=   0.0s\n",
      "[Pipeline] ........ (step 2 of 2) Processing normalized, total=   0.0s\n",
      "[Pipeline] ........ (step 1 of 2) Processing trasformer, total=   0.0s\n",
      "[Pipeline] ............. (step 2 of 2) Processing model, total=   0.0s\n",
      "[Pipeline] ............ (step 1 of 2) Processing scaler, total=   0.0s\n",
      "[Pipeline] ........ (step 2 of 2) Processing normalized, total=   0.0s\n",
      "[Pipeline] ........ (step 1 of 2) Processing trasformer, total=   0.0s\n",
      "[Pipeline] ............. (step 2 of 2) Processing model, total=   0.0s\n",
      "[Pipeline] ............ (step 1 of 2) Processing scaler, total=   0.0s\n",
      "[Pipeline] ........ (step 2 of 2) Processing normalized, total=   0.0s\n",
      "[Pipeline] ........ (step 1 of 2) Processing trasformer, total=   0.0s\n",
      "[Pipeline] ............. (step 2 of 2) Processing model, total=   0.0s\n",
      "[Pipeline] ............ (step 1 of 2) Processing scaler, total=   0.0s\n",
      "[Pipeline] ........ (step 2 of 2) Processing normalized, total=   0.0s\n",
      "[Pipeline] ........ (step 1 of 2) Processing trasformer, total=   0.0s\n",
      "[Pipeline] ............. (step 2 of 2) Processing model, total=   0.0s\n",
      "[Pipeline] ............ (step 1 of 2) Processing scaler, total=   0.0s\n",
      "[Pipeline] ........ (step 2 of 2) Processing normalized, total=   0.0s\n",
      "[Pipeline] ........ (step 1 of 2) Processing trasformer, total=   0.0s\n",
      "[Pipeline] ............. (step 2 of 2) Processing model, total=   0.0s\n",
      "[Pipeline] ............ (step 1 of 2) Processing scaler, total=   0.0s\n",
      "[Pipeline] ........ (step 2 of 2) Processing normalized, total=   0.0s\n",
      "[Pipeline] ........ (step 1 of 2) Processing trasformer, total=   0.0s\n",
      "[Pipeline] ............. (step 2 of 2) Processing model, total=   0.0s\n",
      "[Pipeline] ............ (step 1 of 2) Processing scaler, total=   0.0s\n",
      "[Pipeline] ........ (step 2 of 2) Processing normalized, total=   0.0s\n",
      "[Pipeline] ........ (step 1 of 2) Processing trasformer, total=   0.0s\n",
      "[Pipeline] ............. (step 2 of 2) Processing model, total=   0.0s\n",
      "[Pipeline] ............ (step 1 of 2) Processing scaler, total=   0.0s\n",
      "[Pipeline] ........ (step 2 of 2) Processing normalized, total=   0.0s\n",
      "[Pipeline] ........ (step 1 of 2) Processing trasformer, total=   0.0s\n",
      "[Pipeline] ............. (step 2 of 2) Processing model, total=   0.0s\n",
      "[Pipeline] ............ (step 1 of 2) Processing scaler, total=   0.0s\n",
      "[Pipeline] ........ (step 2 of 2) Processing normalized, total=   0.0s\n",
      "[Pipeline] ........ (step 1 of 2) Processing trasformer, total=   0.0s\n",
      "[Pipeline] ............. (step 2 of 2) Processing model, total=   0.0s\n",
      "[Pipeline] ............ (step 1 of 2) Processing scaler, total=   0.0s\n",
      "[Pipeline] ........ (step 2 of 2) Processing normalized, total=   0.0s\n",
      "[Pipeline] ........ (step 1 of 2) Processing trasformer, total=   0.0s\n",
      "[Pipeline] ............. (step 2 of 2) Processing model, total=   0.0s\n",
      "[Pipeline] ............ (step 1 of 2) Processing scaler, total=   0.0s\n",
      "[Pipeline] ........ (step 2 of 2) Processing normalized, total=   0.0s\n",
      "[Pipeline] ........ (step 1 of 2) Processing trasformer, total=   0.0s\n",
      "[Pipeline] ............. (step 2 of 2) Processing model, total=   0.0s\n",
      "[Pipeline] ............ (step 1 of 2) Processing scaler, total=   0.0s\n",
      "[Pipeline] ........ (step 2 of 2) Processing normalized, total=   0.0s\n",
      "[Pipeline] ........ (step 1 of 2) Processing trasformer, total=   0.0s\n",
      "[Pipeline] ............. (step 2 of 2) Processing model, total=   0.0s\n",
      "[Pipeline] ............ (step 1 of 2) Processing scaler, total=   0.0s\n",
      "[Pipeline] ........ (step 2 of 2) Processing normalized, total=   0.0s\n",
      "[Pipeline] ........ (step 1 of 2) Processing trasformer, total=   0.0s\n",
      "[Pipeline] ............. (step 2 of 2) Processing model, total=   0.0s\n",
      "[Pipeline] ............ (step 1 of 2) Processing scaler, total=   0.0s\n",
      "[Pipeline] ........ (step 2 of 2) Processing normalized, total=   0.0s\n",
      "[Pipeline] ........ (step 1 of 2) Processing trasformer, total=   0.0s\n",
      "[Pipeline] ............. (step 2 of 2) Processing model, total=   0.0s\n",
      "[Pipeline] ............ (step 1 of 2) Processing scaler, total=   0.0s\n",
      "[Pipeline] ........ (step 2 of 2) Processing normalized, total=   0.0s\n",
      "[Pipeline] ........ (step 1 of 2) Processing trasformer, total=   0.0s\n",
      "[Pipeline] ............. (step 2 of 2) Processing model, total=   0.0s\n",
      "[Pipeline] ............ (step 1 of 2) Processing scaler, total=   0.0s\n",
      "[Pipeline] ........ (step 2 of 2) Processing normalized, total=   0.0s\n",
      "[Pipeline] ........ (step 1 of 2) Processing trasformer, total=   0.0s\n",
      "[Pipeline] ............. (step 2 of 2) Processing model, total=   0.0s\n",
      "[Pipeline] ............ (step 1 of 2) Processing scaler, total=   0.0s\n",
      "[Pipeline] ........ (step 2 of 2) Processing normalized, total=   0.0s\n",
      "[Pipeline] ........ (step 1 of 2) Processing trasformer, total=   0.0s\n",
      "[Pipeline] ............. (step 2 of 2) Processing model, total=   0.0s\n",
      "[Pipeline] ............ (step 1 of 2) Processing scaler, total=   0.0s\n",
      "[Pipeline] ........ (step 2 of 2) Processing normalized, total=   0.0s\n",
      "[Pipeline] ........ (step 1 of 2) Processing trasformer, total=   0.0s\n",
      "[Pipeline] ............. (step 2 of 2) Processing model, total=   0.0s\n",
      "[Pipeline] ............ (step 1 of 2) Processing scaler, total=   0.0s\n",
      "[Pipeline] ........ (step 2 of 2) Processing normalized, total=   0.0s\n",
      "[Pipeline] ........ (step 1 of 2) Processing trasformer, total=   0.0s\n",
      "[Pipeline] ............. (step 2 of 2) Processing model, total=   0.0s\n",
      "[Pipeline] ............ (step 1 of 2) Processing scaler, total=   0.0s\n",
      "[Pipeline] ........ (step 2 of 2) Processing normalized, total=   0.0s\n",
      "[Pipeline] ........ (step 1 of 2) Processing trasformer, total=   0.0s\n",
      "[Pipeline] ............. (step 2 of 2) Processing model, total=   0.0s\n",
      "[Pipeline] ............ (step 1 of 2) Processing scaler, total=   0.0s\n",
      "[Pipeline] ........ (step 2 of 2) Processing normalized, total=   0.0s\n",
      "[Pipeline] ........ (step 1 of 2) Processing trasformer, total=   0.0s\n",
      "[Pipeline] ............. (step 2 of 2) Processing model, total=   0.0s\n",
      "[Pipeline] ............ (step 1 of 2) Processing scaler, total=   0.0s\n",
      "[Pipeline] ........ (step 2 of 2) Processing normalized, total=   0.0s\n",
      "[Pipeline] ........ (step 1 of 2) Processing trasformer, total=   0.0s\n",
      "[Pipeline] ............. (step 2 of 2) Processing model, total=   0.0s\n",
      "[Pipeline] ............ (step 1 of 2) Processing scaler, total=   0.0s\n",
      "[Pipeline] ........ (step 2 of 2) Processing normalized, total=   0.0s\n",
      "[Pipeline] ........ (step 1 of 2) Processing trasformer, total=   0.0s\n",
      "[Pipeline] ............. (step 2 of 2) Processing model, total=   0.0s\n",
      "[Pipeline] ............ (step 1 of 2) Processing scaler, total=   0.0s\n",
      "[Pipeline] ........ (step 2 of 2) Processing normalized, total=   0.0s\n",
      "[Pipeline] ........ (step 1 of 2) Processing trasformer, total=   0.0s\n",
      "[Pipeline] ............. (step 2 of 2) Processing model, total=   0.0s\n",
      "[Pipeline] ............ (step 1 of 2) Processing scaler, total=   0.0s\n",
      "[Pipeline] ........ (step 2 of 2) Processing normalized, total=   0.0s\n",
      "[Pipeline] ........ (step 1 of 2) Processing trasformer, total=   0.0s\n",
      "[Pipeline] ............. (step 2 of 2) Processing model, total=   0.0s\n",
      "[Pipeline] ............ (step 1 of 2) Processing scaler, total=   0.0s\n",
      "[Pipeline] ........ (step 2 of 2) Processing normalized, total=   0.0s\n",
      "[Pipeline] ........ (step 1 of 2) Processing trasformer, total=   0.0s\n",
      "[Pipeline] ............. (step 2 of 2) Processing model, total=   0.0s\n",
      "[Pipeline] ............ (step 1 of 2) Processing scaler, total=   0.0s\n",
      "[Pipeline] ........ (step 2 of 2) Processing normalized, total=   0.0s\n",
      "[Pipeline] ........ (step 1 of 2) Processing trasformer, total=   0.0s\n",
      "[Pipeline] ............. (step 2 of 2) Processing model, total=   0.0s\n",
      "[Pipeline] ............ (step 1 of 2) Processing scaler, total=   0.0s\n",
      "[Pipeline] ........ (step 2 of 2) Processing normalized, total=   0.0s\n",
      "[Pipeline] ........ (step 1 of 2) Processing trasformer, total=   0.0s\n",
      "[Pipeline] ............. (step 2 of 2) Processing model, total=   0.0s\n",
      "[Pipeline] ............ (step 1 of 2) Processing scaler, total=   0.0s\n",
      "[Pipeline] ........ (step 2 of 2) Processing normalized, total=   0.0s\n",
      "[Pipeline] ........ (step 1 of 2) Processing trasformer, total=   0.0s\n",
      "[Pipeline] ............. (step 2 of 2) Processing model, total=   0.0s\n",
      "[Pipeline] ............ (step 1 of 2) Processing scaler, total=   0.0s\n",
      "[Pipeline] ........ (step 2 of 2) Processing normalized, total=   0.0s\n",
      "[Pipeline] ........ (step 1 of 2) Processing trasformer, total=   0.0s\n",
      "[Pipeline] ............. (step 2 of 2) Processing model, total=   0.0s\n",
      "[Pipeline] ............ (step 1 of 2) Processing scaler, total=   0.0s\n",
      "[Pipeline] ........ (step 2 of 2) Processing normalized, total=   0.0s\n",
      "[Pipeline] ........ (step 1 of 2) Processing trasformer, total=   0.0s\n",
      "[Pipeline] ............. (step 2 of 2) Processing model, total=   0.0s\n",
      "[Pipeline] ............ (step 1 of 2) Processing scaler, total=   0.0s\n",
      "[Pipeline] ........ (step 2 of 2) Processing normalized, total=   0.0s\n",
      "[Pipeline] ........ (step 1 of 2) Processing trasformer, total=   0.0s\n",
      "[Pipeline] ............. (step 2 of 2) Processing model, total=   0.0s\n",
      "[Pipeline] ............ (step 1 of 2) Processing scaler, total=   0.0s\n",
      "[Pipeline] ........ (step 2 of 2) Processing normalized, total=   0.0s\n",
      "[Pipeline] ........ (step 1 of 2) Processing trasformer, total=   0.0s\n",
      "[Pipeline] ............. (step 2 of 2) Processing model, total=   0.0s\n",
      "[Pipeline] ............ (step 1 of 2) Processing scaler, total=   0.0s\n",
      "[Pipeline] ........ (step 2 of 2) Processing normalized, total=   0.0s\n",
      "[Pipeline] ........ (step 1 of 2) Processing trasformer, total=   0.0s\n",
      "[Pipeline] ............. (step 2 of 2) Processing model, total=   0.0s\n",
      "[Pipeline] ............ (step 1 of 2) Processing scaler, total=   0.0s\n",
      "[Pipeline] ........ (step 2 of 2) Processing normalized, total=   0.0s\n",
      "[Pipeline] ........ (step 1 of 2) Processing trasformer, total=   0.0s\n",
      "[Pipeline] ............. (step 2 of 2) Processing model, total=   0.0s\n",
      "[Pipeline] ............ (step 1 of 2) Processing scaler, total=   0.0s\n",
      "[Pipeline] ........ (step 2 of 2) Processing normalized, total=   0.0s\n",
      "[Pipeline] ........ (step 1 of 2) Processing trasformer, total=   0.0s\n",
      "[Pipeline] ............. (step 2 of 2) Processing model, total=   0.0s\n",
      "[Pipeline] ............ (step 1 of 2) Processing scaler, total=   0.0s\n",
      "[Pipeline] ........ (step 2 of 2) Processing normalized, total=   0.0s\n",
      "[Pipeline] ........ (step 1 of 2) Processing trasformer, total=   0.0s\n",
      "[Pipeline] ............. (step 2 of 2) Processing model, total=   0.0s\n",
      "[Pipeline] ............ (step 1 of 2) Processing scaler, total=   0.0s\n",
      "[Pipeline] ........ (step 2 of 2) Processing normalized, total=   0.0s\n",
      "[Pipeline] ........ (step 1 of 2) Processing trasformer, total=   0.0s\n",
      "[Pipeline] ............. (step 2 of 2) Processing model, total=   0.0s\n",
      "[Pipeline] ............ (step 1 of 2) Processing scaler, total=   0.0s\n",
      "[Pipeline] ........ (step 2 of 2) Processing normalized, total=   0.0s\n",
      "[Pipeline] ........ (step 1 of 2) Processing trasformer, total=   0.0s\n",
      "[Pipeline] ............. (step 2 of 2) Processing model, total=   0.0s\n",
      "[Pipeline] ............ (step 1 of 2) Processing scaler, total=   0.0s\n",
      "[Pipeline] ........ (step 2 of 2) Processing normalized, total=   0.0s\n",
      "[Pipeline] ........ (step 1 of 2) Processing trasformer, total=   0.0s\n",
      "[Pipeline] ............. (step 2 of 2) Processing model, total=   0.0s\n",
      "[Pipeline] ............ (step 1 of 2) Processing scaler, total=   0.0s\n",
      "[Pipeline] ........ (step 2 of 2) Processing normalized, total=   0.0s\n",
      "[Pipeline] ........ (step 1 of 2) Processing trasformer, total=   0.0s\n",
      "[Pipeline] ............. (step 2 of 2) Processing model, total=   0.0s\n",
      "[Pipeline] ............ (step 1 of 2) Processing scaler, total=   0.0s\n",
      "[Pipeline] ........ (step 2 of 2) Processing normalized, total=   0.0s\n",
      "[Pipeline] ........ (step 1 of 2) Processing trasformer, total=   0.0s\n",
      "[Pipeline] ............. (step 2 of 2) Processing model, total=   0.0s\n",
      "[Pipeline] ............ (step 1 of 2) Processing scaler, total=   0.0s\n",
      "[Pipeline] ........ (step 2 of 2) Processing normalized, total=   0.0s\n",
      "[Pipeline] ........ (step 1 of 2) Processing trasformer, total=   0.0s\n",
      "[Pipeline] ............. (step 2 of 2) Processing model, total=   0.0s\n",
      "[Pipeline] ............ (step 1 of 2) Processing scaler, total=   0.0s\n",
      "[Pipeline] ........ (step 2 of 2) Processing normalized, total=   0.0s\n",
      "[Pipeline] ........ (step 1 of 2) Processing trasformer, total=   0.0s\n",
      "[Pipeline] ............. (step 2 of 2) Processing model, total=   0.0s\n",
      "[Pipeline] ............ (step 1 of 2) Processing scaler, total=   0.0s\n",
      "[Pipeline] ........ (step 2 of 2) Processing normalized, total=   0.0s\n",
      "[Pipeline] ........ (step 1 of 2) Processing trasformer, total=   0.0s\n",
      "[Pipeline] ............. (step 2 of 2) Processing model, total=   0.0s\n",
      "[Pipeline] ............ (step 1 of 2) Processing scaler, total=   0.0s\n",
      "[Pipeline] ........ (step 2 of 2) Processing normalized, total=   0.0s\n",
      "[Pipeline] ........ (step 1 of 2) Processing trasformer, total=   0.0s\n",
      "[Pipeline] ............. (step 2 of 2) Processing model, total=   0.0s\n",
      "[Pipeline] ............ (step 1 of 2) Processing scaler, total=   0.0s\n",
      "[Pipeline] ........ (step 2 of 2) Processing normalized, total=   0.0s\n",
      "[Pipeline] ........ (step 1 of 2) Processing trasformer, total=   0.0s\n",
      "[Pipeline] ............. (step 2 of 2) Processing model, total=   0.0s\n",
      "[Pipeline] ............ (step 1 of 2) Processing scaler, total=   0.0s\n",
      "[Pipeline] ........ (step 2 of 2) Processing normalized, total=   0.0s\n",
      "[Pipeline] ........ (step 1 of 2) Processing trasformer, total=   0.0s\n",
      "[Pipeline] ............. (step 2 of 2) Processing model, total=   0.0s\n",
      "[Pipeline] ............ (step 1 of 2) Processing scaler, total=   0.0s\n",
      "[Pipeline] ........ (step 2 of 2) Processing normalized, total=   0.0s\n",
      "[Pipeline] ........ (step 1 of 2) Processing trasformer, total=   0.0s\n",
      "[Pipeline] ............. (step 2 of 2) Processing model, total=   0.0s\n",
      "[Pipeline] ............ (step 1 of 2) Processing scaler, total=   0.0s\n",
      "[Pipeline] ........ (step 2 of 2) Processing normalized, total=   0.0s\n",
      "[Pipeline] ........ (step 1 of 2) Processing trasformer, total=   0.0s\n",
      "[Pipeline] ............. (step 2 of 2) Processing model, total=   0.0s\n",
      "[Pipeline] ............ (step 1 of 2) Processing scaler, total=   0.0s\n",
      "[Pipeline] ........ (step 2 of 2) Processing normalized, total=   0.0s\n",
      "[Pipeline] ........ (step 1 of 2) Processing trasformer, total=   0.0s\n",
      "[Pipeline] ............. (step 2 of 2) Processing model, total=   0.0s\n",
      "[Pipeline] ............ (step 1 of 2) Processing scaler, total=   0.0s\n",
      "[Pipeline] ........ (step 2 of 2) Processing normalized, total=   0.0s\n",
      "[Pipeline] ........ (step 1 of 2) Processing trasformer, total=   0.0s\n",
      "[Pipeline] ............. (step 2 of 2) Processing model, total=   0.0s\n",
      "[Pipeline] ............ (step 1 of 2) Processing scaler, total=   0.0s\n",
      "[Pipeline] ........ (step 2 of 2) Processing normalized, total=   0.0s\n",
      "[Pipeline] ........ (step 1 of 2) Processing trasformer, total=   0.0s\n",
      "[Pipeline] ............. (step 2 of 2) Processing model, total=   0.0s\n",
      "[Pipeline] ............ (step 1 of 2) Processing scaler, total=   0.0s\n",
      "[Pipeline] ........ (step 2 of 2) Processing normalized, total=   0.0s\n",
      "[Pipeline] ........ (step 1 of 2) Processing trasformer, total=   0.0s\n",
      "[Pipeline] ............. (step 2 of 2) Processing model, total=   0.0s\n",
      "[Pipeline] ............ (step 1 of 2) Processing scaler, total=   0.0s\n",
      "[Pipeline] ........ (step 2 of 2) Processing normalized, total=   0.0s\n",
      "[Pipeline] ........ (step 1 of 2) Processing trasformer, total=   0.0s\n",
      "[Pipeline] ............. (step 2 of 2) Processing model, total=   0.0s\n",
      "[Pipeline] ............ (step 1 of 2) Processing scaler, total=   0.0s\n",
      "[Pipeline] ........ (step 2 of 2) Processing normalized, total=   0.0s\n",
      "[Pipeline] ........ (step 1 of 2) Processing trasformer, total=   0.0s\n",
      "[Pipeline] ............. (step 2 of 2) Processing model, total=   0.0s\n",
      "[Pipeline] ............ (step 1 of 2) Processing scaler, total=   0.0s\n",
      "[Pipeline] ........ (step 2 of 2) Processing normalized, total=   0.0s\n",
      "[Pipeline] ........ (step 1 of 2) Processing trasformer, total=   0.0s\n",
      "[Pipeline] ............. (step 2 of 2) Processing model, total=   0.0s\n",
      "[Pipeline] ............ (step 1 of 2) Processing scaler, total=   0.0s\n",
      "[Pipeline] ........ (step 2 of 2) Processing normalized, total=   0.0s\n",
      "[Pipeline] ........ (step 1 of 2) Processing trasformer, total=   0.0s\n",
      "[Pipeline] ............. (step 2 of 2) Processing model, total=   0.0s\n",
      "[Pipeline] ............ (step 1 of 2) Processing scaler, total=   0.0s\n",
      "[Pipeline] ........ (step 2 of 2) Processing normalized, total=   0.0s\n",
      "[Pipeline] ........ (step 1 of 2) Processing trasformer, total=   0.0s\n",
      "[Pipeline] ............. (step 2 of 2) Processing model, total=   0.0s\n",
      "[Pipeline] ............ (step 1 of 2) Processing scaler, total=   0.0s\n",
      "[Pipeline] ........ (step 2 of 2) Processing normalized, total=   0.0s\n",
      "[Pipeline] ........ (step 1 of 2) Processing trasformer, total=   0.0s\n",
      "[Pipeline] ............. (step 2 of 2) Processing model, total=   0.0s\n",
      "[Pipeline] ............ (step 1 of 2) Processing scaler, total=   0.0s\n",
      "[Pipeline] ........ (step 2 of 2) Processing normalized, total=   0.0s\n",
      "[Pipeline] ........ (step 1 of 2) Processing trasformer, total=   0.0s\n",
      "[Pipeline] ............. (step 2 of 2) Processing model, total=   0.0s\n",
      "[Pipeline] ............ (step 1 of 2) Processing scaler, total=   0.0s\n",
      "[Pipeline] ........ (step 2 of 2) Processing normalized, total=   0.0s\n",
      "[Pipeline] ........ (step 1 of 2) Processing trasformer, total=   0.0s\n",
      "[Pipeline] ............. (step 2 of 2) Processing model, total=   0.0s\n",
      "[Pipeline] ............ (step 1 of 2) Processing scaler, total=   0.0s\n",
      "[Pipeline] ........ (step 2 of 2) Processing normalized, total=   0.0s\n",
      "[Pipeline] ........ (step 1 of 2) Processing trasformer, total=   0.0s\n",
      "[Pipeline] ............. (step 2 of 2) Processing model, total=   0.0s\n",
      "[Pipeline] ............ (step 1 of 2) Processing scaler, total=   0.0s\n",
      "[Pipeline] ........ (step 2 of 2) Processing normalized, total=   0.0s\n",
      "[Pipeline] ........ (step 1 of 2) Processing trasformer, total=   0.0s\n",
      "[Pipeline] ............. (step 2 of 2) Processing model, total=   0.0s\n",
      "[Pipeline] ............ (step 1 of 2) Processing scaler, total=   0.0s\n",
      "[Pipeline] ........ (step 2 of 2) Processing normalized, total=   0.0s\n",
      "[Pipeline] ........ (step 1 of 2) Processing trasformer, total=   0.0s\n",
      "[Pipeline] ............. (step 2 of 2) Processing model, total=   0.0s\n",
      "[Pipeline] ............ (step 1 of 2) Processing scaler, total=   0.0s\n",
      "[Pipeline] ........ (step 2 of 2) Processing normalized, total=   0.0s\n",
      "[Pipeline] ........ (step 1 of 2) Processing trasformer, total=   0.0s\n",
      "[Pipeline] ............. (step 2 of 2) Processing model, total=   0.0s\n",
      "[Pipeline] ............ (step 1 of 2) Processing scaler, total=   0.0s\n",
      "[Pipeline] ........ (step 2 of 2) Processing normalized, total=   0.0s\n",
      "[Pipeline] ........ (step 1 of 2) Processing trasformer, total=   0.0s\n",
      "[Pipeline] ............. (step 2 of 2) Processing model, total=   0.0s\n",
      "[Pipeline] ............ (step 1 of 2) Processing scaler, total=   0.0s\n",
      "[Pipeline] ........ (step 2 of 2) Processing normalized, total=   0.0s\n",
      "[Pipeline] ........ (step 1 of 2) Processing trasformer, total=   0.0s\n",
      "[Pipeline] ............. (step 2 of 2) Processing model, total=   0.0s\n",
      "[Pipeline] ............ (step 1 of 2) Processing scaler, total=   0.0s\n",
      "[Pipeline] ........ (step 2 of 2) Processing normalized, total=   0.0s\n",
      "[Pipeline] ........ (step 1 of 2) Processing trasformer, total=   0.0s\n",
      "[Pipeline] ............. (step 2 of 2) Processing model, total=   0.0s\n",
      "[Pipeline] ............ (step 1 of 2) Processing scaler, total=   0.0s\n",
      "[Pipeline] ........ (step 2 of 2) Processing normalized, total=   0.0s\n",
      "[Pipeline] ........ (step 1 of 2) Processing trasformer, total=   0.0s\n",
      "[Pipeline] ............. (step 2 of 2) Processing model, total=   0.0s\n",
      "[Pipeline] ............ (step 1 of 2) Processing scaler, total=   0.0s\n",
      "[Pipeline] ........ (step 2 of 2) Processing normalized, total=   0.0s\n",
      "[Pipeline] ........ (step 1 of 2) Processing trasformer, total=   0.0s\n",
      "[Pipeline] ............. (step 2 of 2) Processing model, total=   0.0s\n",
      "[Pipeline] ............ (step 1 of 2) Processing scaler, total=   0.0s\n",
      "[Pipeline] ........ (step 2 of 2) Processing normalized, total=   0.0s\n",
      "[Pipeline] ........ (step 1 of 2) Processing trasformer, total=   0.0s\n",
      "[Pipeline] ............. (step 2 of 2) Processing model, total=   0.0s\n",
      "[Pipeline] ............ (step 1 of 2) Processing scaler, total=   0.0s\n",
      "[Pipeline] ........ (step 2 of 2) Processing normalized, total=   0.0s\n",
      "[Pipeline] ........ (step 1 of 2) Processing trasformer, total=   0.0s\n",
      "[Pipeline] ............. (step 2 of 2) Processing model, total=   0.0s\n",
      "[Pipeline] ............ (step 1 of 2) Processing scaler, total=   0.0s\n",
      "[Pipeline] ........ (step 2 of 2) Processing normalized, total=   0.0s\n",
      "[Pipeline] ........ (step 1 of 2) Processing trasformer, total=   0.0s\n",
      "[Pipeline] ............. (step 2 of 2) Processing model, total=   0.0s\n",
      "[Pipeline] ............ (step 1 of 2) Processing scaler, total=   0.0s\n",
      "[Pipeline] ........ (step 2 of 2) Processing normalized, total=   0.0s\n",
      "[Pipeline] ........ (step 1 of 2) Processing trasformer, total=   0.0s\n",
      "[Pipeline] ............. (step 2 of 2) Processing model, total=   0.0s\n",
      "[Pipeline] ............ (step 1 of 2) Processing scaler, total=   0.0s\n",
      "[Pipeline] ........ (step 2 of 2) Processing normalized, total=   0.0s\n",
      "[Pipeline] ........ (step 1 of 2) Processing trasformer, total=   0.0s\n",
      "[Pipeline] ............. (step 2 of 2) Processing model, total=   0.0s\n",
      "[Pipeline] ............ (step 1 of 2) Processing scaler, total=   0.0s\n",
      "[Pipeline] ........ (step 2 of 2) Processing normalized, total=   0.0s\n",
      "[Pipeline] ........ (step 1 of 2) Processing trasformer, total=   0.0s\n",
      "[Pipeline] ............. (step 2 of 2) Processing model, total=   0.0s\n",
      "[Pipeline] ............ (step 1 of 2) Processing scaler, total=   0.0s\n",
      "[Pipeline] ........ (step 2 of 2) Processing normalized, total=   0.0s\n",
      "[Pipeline] ........ (step 1 of 2) Processing trasformer, total=   0.0s\n",
      "[Pipeline] ............. (step 2 of 2) Processing model, total=   0.0s\n",
      "[Pipeline] ............ (step 1 of 2) Processing scaler, total=   0.0s\n",
      "[Pipeline] ........ (step 2 of 2) Processing normalized, total=   0.0s\n",
      "[Pipeline] ........ (step 1 of 2) Processing trasformer, total=   0.0s\n",
      "[Pipeline] ............. (step 2 of 2) Processing model, total=   0.0s\n",
      "[Pipeline] ............ (step 1 of 2) Processing scaler, total=   0.0s\n",
      "[Pipeline] ........ (step 2 of 2) Processing normalized, total=   0.0s\n",
      "[Pipeline] ........ (step 1 of 2) Processing trasformer, total=   0.0s\n",
      "[Pipeline] ............. (step 2 of 2) Processing model, total=   0.0s\n",
      "[Pipeline] ............ (step 1 of 2) Processing scaler, total=   0.0s\n",
      "[Pipeline] ........ (step 2 of 2) Processing normalized, total=   0.0s\n",
      "[Pipeline] ........ (step 1 of 2) Processing trasformer, total=   0.0s\n",
      "[Pipeline] ............. (step 2 of 2) Processing model, total=   0.0s\n",
      "[Pipeline] ............ (step 1 of 2) Processing scaler, total=   0.0s\n",
      "[Pipeline] ........ (step 2 of 2) Processing normalized, total=   0.0s\n",
      "[Pipeline] ........ (step 1 of 2) Processing trasformer, total=   0.0s\n",
      "[Pipeline] ............. (step 2 of 2) Processing model, total=   0.0s\n",
      "[Pipeline] ............ (step 1 of 2) Processing scaler, total=   0.0s\n",
      "[Pipeline] ........ (step 2 of 2) Processing normalized, total=   0.0s\n",
      "[Pipeline] ........ (step 1 of 2) Processing trasformer, total=   0.0s\n",
      "[Pipeline] ............. (step 2 of 2) Processing model, total=   0.0s\n",
      "[Pipeline] ............ (step 1 of 2) Processing scaler, total=   0.0s\n",
      "[Pipeline] ........ (step 2 of 2) Processing normalized, total=   0.0s\n",
      "[Pipeline] ........ (step 1 of 2) Processing trasformer, total=   0.0s\n",
      "[Pipeline] ............. (step 2 of 2) Processing model, total=   0.0s\n",
      "[Pipeline] ............ (step 1 of 2) Processing scaler, total=   0.0s\n",
      "[Pipeline] ........ (step 2 of 2) Processing normalized, total=   0.0s\n",
      "[Pipeline] ........ (step 1 of 2) Processing trasformer, total=   0.0s\n",
      "[Pipeline] ............. (step 2 of 2) Processing model, total=   0.0s\n",
      "[Pipeline] ............ (step 1 of 2) Processing scaler, total=   0.0s\n",
      "[Pipeline] ........ (step 2 of 2) Processing normalized, total=   0.0s\n",
      "[Pipeline] ........ (step 1 of 2) Processing trasformer, total=   0.0s\n",
      "[Pipeline] ............. (step 2 of 2) Processing model, total=   0.0s\n",
      "[Pipeline] ............ (step 1 of 2) Processing scaler, total=   0.0s\n",
      "[Pipeline] ........ (step 2 of 2) Processing normalized, total=   0.0s\n",
      "[Pipeline] ........ (step 1 of 2) Processing trasformer, total=   0.0s\n",
      "[Pipeline] ............. (step 2 of 2) Processing model, total=   0.0s\n",
      "[Pipeline] ............ (step 1 of 2) Processing scaler, total=   0.0s\n",
      "[Pipeline] ........ (step 2 of 2) Processing normalized, total=   0.0s\n",
      "[Pipeline] ........ (step 1 of 2) Processing trasformer, total=   0.0s\n",
      "[Pipeline] ............. (step 2 of 2) Processing model, total=   0.0s\n",
      "[Pipeline] ............ (step 1 of 2) Processing scaler, total=   0.0s\n",
      "[Pipeline] ........ (step 2 of 2) Processing normalized, total=   0.0s\n",
      "[Pipeline] ........ (step 1 of 2) Processing trasformer, total=   0.0s\n",
      "[Pipeline] ............. (step 2 of 2) Processing model, total=   0.0s\n",
      "[Pipeline] ............ (step 1 of 2) Processing scaler, total=   0.0s\n",
      "[Pipeline] ........ (step 2 of 2) Processing normalized, total=   0.0s\n",
      "[Pipeline] ........ (step 1 of 2) Processing trasformer, total=   0.0s\n",
      "[Pipeline] ............. (step 2 of 2) Processing model, total=   0.0s\n",
      "[Pipeline] ............ (step 1 of 2) Processing scaler, total=   0.0s\n",
      "[Pipeline] ........ (step 2 of 2) Processing normalized, total=   0.0s\n",
      "[Pipeline] ........ (step 1 of 2) Processing trasformer, total=   0.0s\n",
      "[Pipeline] ............. (step 2 of 2) Processing model, total=   0.0s\n",
      "[Pipeline] ............ (step 1 of 2) Processing scaler, total=   0.0s\n",
      "[Pipeline] ........ (step 2 of 2) Processing normalized, total=   0.0s\n",
      "[Pipeline] ........ (step 1 of 2) Processing trasformer, total=   0.0s\n",
      "[Pipeline] ............. (step 2 of 2) Processing model, total=   0.0s\n",
      "[Pipeline] ............ (step 1 of 2) Processing scaler, total=   0.0s\n",
      "[Pipeline] ........ (step 2 of 2) Processing normalized, total=   0.0s\n",
      "[Pipeline] ........ (step 1 of 2) Processing trasformer, total=   0.0s\n",
      "[Pipeline] ............. (step 2 of 2) Processing model, total=   0.0s\n",
      "[Pipeline] ............ (step 1 of 2) Processing scaler, total=   0.0s\n",
      "[Pipeline] ........ (step 2 of 2) Processing normalized, total=   0.0s\n",
      "[Pipeline] ........ (step 1 of 2) Processing trasformer, total=   0.0s\n",
      "[Pipeline] ............. (step 2 of 2) Processing model, total=   0.0s\n",
      "[Pipeline] ............ (step 1 of 2) Processing scaler, total=   0.0s\n",
      "[Pipeline] ........ (step 2 of 2) Processing normalized, total=   0.0s\n",
      "[Pipeline] ........ (step 1 of 2) Processing trasformer, total=   0.0s\n",
      "[Pipeline] ............. (step 2 of 2) Processing model, total=   0.0s\n",
      "[Pipeline] ............ (step 1 of 2) Processing scaler, total=   0.0s\n",
      "[Pipeline] ........ (step 2 of 2) Processing normalized, total=   0.0s\n",
      "[Pipeline] ........ (step 1 of 2) Processing trasformer, total=   0.0s\n",
      "[Pipeline] ............. (step 2 of 2) Processing model, total=   0.0s\n",
      "[Pipeline] ............ (step 1 of 2) Processing scaler, total=   0.0s\n",
      "[Pipeline] ........ (step 2 of 2) Processing normalized, total=   0.0s\n",
      "[Pipeline] ........ (step 1 of 2) Processing trasformer, total=   0.0s\n",
      "[Pipeline] ............. (step 2 of 2) Processing model, total=   0.0s\n",
      "[Pipeline] ............ (step 1 of 2) Processing scaler, total=   0.0s\n",
      "[Pipeline] ........ (step 2 of 2) Processing normalized, total=   0.0s\n",
      "[Pipeline] ........ (step 1 of 2) Processing trasformer, total=   0.0s\n",
      "[Pipeline] ............. (step 2 of 2) Processing model, total=   0.0s\n",
      "[Pipeline] ............ (step 1 of 2) Processing scaler, total=   0.0s\n",
      "[Pipeline] ........ (step 2 of 2) Processing normalized, total=   0.0s\n",
      "[Pipeline] ........ (step 1 of 2) Processing trasformer, total=   0.0s\n",
      "[Pipeline] ............. (step 2 of 2) Processing model, total=   0.0s\n",
      "[Pipeline] ............ (step 1 of 2) Processing scaler, total=   0.0s\n",
      "[Pipeline] ........ (step 2 of 2) Processing normalized, total=   0.0s\n",
      "[Pipeline] ........ (step 1 of 2) Processing trasformer, total=   0.0s\n",
      "[Pipeline] ............. (step 2 of 2) Processing model, total=   0.0s\n",
      "[Pipeline] ............ (step 1 of 2) Processing scaler, total=   0.0s\n",
      "[Pipeline] ........ (step 2 of 2) Processing normalized, total=   0.0s\n",
      "[Pipeline] ........ (step 1 of 2) Processing trasformer, total=   0.0s\n",
      "[Pipeline] ............. (step 2 of 2) Processing model, total=   0.0s\n",
      "[Pipeline] ............ (step 1 of 2) Processing scaler, total=   0.0s\n",
      "[Pipeline] ........ (step 2 of 2) Processing normalized, total=   0.0s\n",
      "[Pipeline] ........ (step 1 of 2) Processing trasformer, total=   0.0s\n",
      "[Pipeline] ............. (step 2 of 2) Processing model, total=   0.0s\n",
      "[Pipeline] ............ (step 1 of 2) Processing scaler, total=   0.0s\n",
      "[Pipeline] ........ (step 2 of 2) Processing normalized, total=   0.0s\n",
      "[Pipeline] ........ (step 1 of 2) Processing trasformer, total=   0.0s\n",
      "[Pipeline] ............. (step 2 of 2) Processing model, total=   0.0s\n",
      "[Pipeline] ............ (step 1 of 2) Processing scaler, total=   0.0s\n",
      "[Pipeline] ........ (step 2 of 2) Processing normalized, total=   0.0s\n",
      "[Pipeline] ........ (step 1 of 2) Processing trasformer, total=   0.0s\n",
      "[Pipeline] ............. (step 2 of 2) Processing model, total=   0.0s\n",
      "[Pipeline] ............ (step 1 of 2) Processing scaler, total=   0.0s\n",
      "[Pipeline] ........ (step 2 of 2) Processing normalized, total=   0.0s\n",
      "[Pipeline] ........ (step 1 of 2) Processing trasformer, total=   0.0s\n",
      "[Pipeline] ............. (step 2 of 2) Processing model, total=   0.0s\n",
      "[Pipeline] ............ (step 1 of 2) Processing scaler, total=   0.0s\n",
      "[Pipeline] ........ (step 2 of 2) Processing normalized, total=   0.0s\n",
      "[Pipeline] ........ (step 1 of 2) Processing trasformer, total=   0.0s\n",
      "[Pipeline] ............. (step 2 of 2) Processing model, total=   0.0s\n",
      "[Pipeline] ............ (step 1 of 2) Processing scaler, total=   0.0s\n",
      "[Pipeline] ........ (step 2 of 2) Processing normalized, total=   0.0s\n",
      "[Pipeline] ........ (step 1 of 2) Processing trasformer, total=   0.0s\n",
      "[Pipeline] ............. (step 2 of 2) Processing model, total=   0.0s\n",
      "[Pipeline] ............ (step 1 of 2) Processing scaler, total=   0.0s\n",
      "[Pipeline] ........ (step 2 of 2) Processing normalized, total=   0.0s\n",
      "[Pipeline] ........ (step 1 of 2) Processing trasformer, total=   0.0s\n",
      "[Pipeline] ............. (step 2 of 2) Processing model, total=   0.0s\n",
      "[Pipeline] ............ (step 1 of 2) Processing scaler, total=   0.0s\n",
      "[Pipeline] ........ (step 2 of 2) Processing normalized, total=   0.0s\n",
      "[Pipeline] ........ (step 1 of 2) Processing trasformer, total=   0.0s\n",
      "[Pipeline] ............. (step 2 of 2) Processing model, total=   0.0s\n",
      "[Pipeline] ............ (step 1 of 2) Processing scaler, total=   0.0s\n",
      "[Pipeline] ........ (step 2 of 2) Processing normalized, total=   0.0s\n",
      "[Pipeline] ........ (step 1 of 2) Processing trasformer, total=   0.0s\n",
      "[Pipeline] ............. (step 2 of 2) Processing model, total=   0.0s\n",
      "[Pipeline] ............ (step 1 of 2) Processing scaler, total=   0.0s\n",
      "[Pipeline] ........ (step 2 of 2) Processing normalized, total=   0.0s\n",
      "[Pipeline] ........ (step 1 of 2) Processing trasformer, total=   0.0s\n",
      "[Pipeline] ............. (step 2 of 2) Processing model, total=   0.0s\n",
      "[Pipeline] ............ (step 1 of 2) Processing scaler, total=   0.0s\n",
      "[Pipeline] ........ (step 2 of 2) Processing normalized, total=   0.0s\n",
      "[Pipeline] ........ (step 1 of 2) Processing trasformer, total=   0.0s\n",
      "[Pipeline] ............. (step 2 of 2) Processing model, total=   0.0s\n",
      "[Pipeline] ............ (step 1 of 2) Processing scaler, total=   0.0s\n",
      "[Pipeline] ........ (step 2 of 2) Processing normalized, total=   0.0s\n",
      "[Pipeline] ........ (step 1 of 2) Processing trasformer, total=   0.0s\n",
      "[Pipeline] ............. (step 2 of 2) Processing model, total=   0.0s\n",
      "[Pipeline] ............ (step 1 of 2) Processing scaler, total=   0.0s\n",
      "[Pipeline] ........ (step 2 of 2) Processing normalized, total=   0.0s\n",
      "[Pipeline] ........ (step 1 of 2) Processing trasformer, total=   0.0s\n",
      "[Pipeline] ............. (step 2 of 2) Processing model, total=   0.0s\n",
      "[Pipeline] ............ (step 1 of 2) Processing scaler, total=   0.0s\n",
      "[Pipeline] ........ (step 2 of 2) Processing normalized, total=   0.0s\n",
      "[Pipeline] ........ (step 1 of 2) Processing trasformer, total=   0.0s\n",
      "[Pipeline] ............. (step 2 of 2) Processing model, total=   0.0s\n",
      "[Pipeline] ............ (step 1 of 2) Processing scaler, total=   0.0s\n",
      "[Pipeline] ........ (step 2 of 2) Processing normalized, total=   0.0s\n",
      "[Pipeline] ........ (step 1 of 2) Processing trasformer, total=   0.0s\n",
      "[Pipeline] ............. (step 2 of 2) Processing model, total=   0.0s\n",
      "[Pipeline] ............ (step 1 of 2) Processing scaler, total=   0.0s\n",
      "[Pipeline] ........ (step 2 of 2) Processing normalized, total=   0.0s\n",
      "[Pipeline] ........ (step 1 of 2) Processing trasformer, total=   0.0s\n",
      "[Pipeline] ............. (step 2 of 2) Processing model, total=   0.0s\n",
      "[Pipeline] ............ (step 1 of 2) Processing scaler, total=   0.0s\n",
      "[Pipeline] ........ (step 2 of 2) Processing normalized, total=   0.0s\n",
      "[Pipeline] ........ (step 1 of 2) Processing trasformer, total=   0.0s\n",
      "[Pipeline] ............. (step 2 of 2) Processing model, total=   0.0s\n",
      "[Pipeline] ............ (step 1 of 2) Processing scaler, total=   0.0s\n",
      "[Pipeline] ........ (step 2 of 2) Processing normalized, total=   0.0s\n",
      "[Pipeline] ........ (step 1 of 2) Processing trasformer, total=   0.0s\n",
      "[Pipeline] ............. (step 2 of 2) Processing model, total=   0.0s\n",
      "[Pipeline] ............ (step 1 of 2) Processing scaler, total=   0.0s\n",
      "[Pipeline] ........ (step 2 of 2) Processing normalized, total=   0.0s\n",
      "[Pipeline] ........ (step 1 of 2) Processing trasformer, total=   0.0s\n",
      "[Pipeline] ............. (step 2 of 2) Processing model, total=   0.0s\n",
      "[Pipeline] ............ (step 1 of 2) Processing scaler, total=   0.0s\n",
      "[Pipeline] ........ (step 2 of 2) Processing normalized, total=   0.0s\n",
      "[Pipeline] ........ (step 1 of 2) Processing trasformer, total=   0.0s\n",
      "[Pipeline] ............. (step 2 of 2) Processing model, total=   0.0s\n",
      "[Pipeline] ............ (step 1 of 2) Processing scaler, total=   0.0s\n",
      "[Pipeline] ........ (step 2 of 2) Processing normalized, total=   0.0s\n",
      "[Pipeline] ........ (step 1 of 2) Processing trasformer, total=   0.0s\n",
      "[Pipeline] ............. (step 2 of 2) Processing model, total=   0.0s\n",
      "[Pipeline] ............ (step 1 of 2) Processing scaler, total=   0.0s\n",
      "[Pipeline] ........ (step 2 of 2) Processing normalized, total=   0.0s\n",
      "[Pipeline] ........ (step 1 of 2) Processing trasformer, total=   0.0s\n",
      "[Pipeline] ............. (step 2 of 2) Processing model, total=   0.0s\n",
      "[Pipeline] ............ (step 1 of 2) Processing scaler, total=   0.0s\n",
      "[Pipeline] ........ (step 2 of 2) Processing normalized, total=   0.0s\n",
      "[Pipeline] ........ (step 1 of 2) Processing trasformer, total=   0.0s\n",
      "[Pipeline] ............. (step 2 of 2) Processing model, total=   0.0s\n",
      "[Pipeline] ............ (step 1 of 2) Processing scaler, total=   0.0s\n",
      "[Pipeline] ........ (step 2 of 2) Processing normalized, total=   0.0s\n",
      "[Pipeline] ........ (step 1 of 2) Processing trasformer, total=   0.0s\n",
      "[Pipeline] ............. (step 2 of 2) Processing model, total=   0.0s\n",
      "[Pipeline] ............ (step 1 of 2) Processing scaler, total=   0.0s\n",
      "[Pipeline] ........ (step 2 of 2) Processing normalized, total=   0.0s\n",
      "[Pipeline] ........ (step 1 of 2) Processing trasformer, total=   0.0s\n",
      "[Pipeline] ............. (step 2 of 2) Processing model, total=   0.0s\n",
      "[Pipeline] ............ (step 1 of 2) Processing scaler, total=   0.0s\n",
      "[Pipeline] ........ (step 2 of 2) Processing normalized, total=   0.0s\n",
      "[Pipeline] ........ (step 1 of 2) Processing trasformer, total=   0.0s\n",
      "[Pipeline] ............. (step 2 of 2) Processing model, total=   0.0s\n",
      "[Pipeline] ............ (step 1 of 2) Processing scaler, total=   0.0s\n",
      "[Pipeline] ........ (step 2 of 2) Processing normalized, total=   0.0s\n",
      "[Pipeline] ........ (step 1 of 2) Processing trasformer, total=   0.0s\n",
      "[Pipeline] ............. (step 2 of 2) Processing model, total=   0.0s\n",
      "[Pipeline] ............ (step 1 of 2) Processing scaler, total=   0.0s\n",
      "[Pipeline] ........ (step 2 of 2) Processing normalized, total=   0.0s\n",
      "[Pipeline] ........ (step 1 of 2) Processing trasformer, total=   0.0s\n",
      "[Pipeline] ............. (step 2 of 2) Processing model, total=   0.0s\n",
      "[Pipeline] ............ (step 1 of 2) Processing scaler, total=   0.0s\n",
      "[Pipeline] ........ (step 2 of 2) Processing normalized, total=   0.0s\n",
      "[Pipeline] ........ (step 1 of 2) Processing trasformer, total=   0.0s\n",
      "[Pipeline] ............. (step 2 of 2) Processing model, total=   0.0s\n",
      "[Pipeline] ............ (step 1 of 2) Processing scaler, total=   0.0s\n",
      "[Pipeline] ........ (step 2 of 2) Processing normalized, total=   0.0s\n",
      "[Pipeline] ........ (step 1 of 2) Processing trasformer, total=   0.0s\n",
      "[Pipeline] ............. (step 2 of 2) Processing model, total=   0.0s\n",
      "[Pipeline] ............ (step 1 of 2) Processing scaler, total=   0.0s\n",
      "[Pipeline] ........ (step 2 of 2) Processing normalized, total=   0.0s\n",
      "[Pipeline] ........ (step 1 of 2) Processing trasformer, total=   0.0s\n",
      "[Pipeline] ............. (step 2 of 2) Processing model, total=   0.0s\n",
      "[Pipeline] ............ (step 1 of 2) Processing scaler, total=   0.0s\n",
      "[Pipeline] ........ (step 2 of 2) Processing normalized, total=   0.0s\n",
      "[Pipeline] ........ (step 1 of 2) Processing trasformer, total=   0.0s\n",
      "[Pipeline] ............. (step 2 of 2) Processing model, total=   0.0s\n",
      "[Pipeline] ............ (step 1 of 2) Processing scaler, total=   0.0s\n",
      "[Pipeline] ........ (step 2 of 2) Processing normalized, total=   0.0s\n",
      "[Pipeline] ........ (step 1 of 2) Processing trasformer, total=   0.0s\n",
      "[Pipeline] ............. (step 2 of 2) Processing model, total=   0.0s\n",
      "[Pipeline] ............ (step 1 of 2) Processing scaler, total=   0.0s\n",
      "[Pipeline] ........ (step 2 of 2) Processing normalized, total=   0.0s\n",
      "[Pipeline] ........ (step 1 of 2) Processing trasformer, total=   0.0s\n",
      "[Pipeline] ............. (step 2 of 2) Processing model, total=   0.0s\n",
      "[Pipeline] ............ (step 1 of 2) Processing scaler, total=   0.0s\n",
      "[Pipeline] ........ (step 2 of 2) Processing normalized, total=   0.0s\n",
      "[Pipeline] ........ (step 1 of 2) Processing trasformer, total=   0.0s\n",
      "[Pipeline] ............. (step 2 of 2) Processing model, total=   0.0s\n",
      "[Pipeline] ............ (step 1 of 2) Processing scaler, total=   0.0s\n",
      "[Pipeline] ........ (step 2 of 2) Processing normalized, total=   0.0s\n",
      "[Pipeline] ........ (step 1 of 2) Processing trasformer, total=   0.0s\n",
      "[Pipeline] ............. (step 2 of 2) Processing model, total=   0.0s\n",
      "[Pipeline] ............ (step 1 of 2) Processing scaler, total=   0.0s\n",
      "[Pipeline] ........ (step 2 of 2) Processing normalized, total=   0.0s\n",
      "[Pipeline] ........ (step 1 of 2) Processing trasformer, total=   0.0s\n",
      "[Pipeline] ............. (step 2 of 2) Processing model, total=   0.0s\n",
      "[Pipeline] ............ (step 1 of 2) Processing scaler, total=   0.0s\n",
      "[Pipeline] ........ (step 2 of 2) Processing normalized, total=   0.0s\n",
      "[Pipeline] ........ (step 1 of 2) Processing trasformer, total=   0.0s\n",
      "[Pipeline] ............. (step 2 of 2) Processing model, total=   0.0s\n",
      "[Pipeline] ............ (step 1 of 2) Processing scaler, total=   0.0s\n",
      "[Pipeline] ........ (step 2 of 2) Processing normalized, total=   0.0s\n",
      "[Pipeline] ........ (step 1 of 2) Processing trasformer, total=   0.0s\n",
      "[Pipeline] ............. (step 2 of 2) Processing model, total=   0.0s\n",
      "[Pipeline] ............ (step 1 of 2) Processing scaler, total=   0.0s\n",
      "[Pipeline] ........ (step 2 of 2) Processing normalized, total=   0.0s\n",
      "[Pipeline] ........ (step 1 of 2) Processing trasformer, total=   0.0s\n",
      "[Pipeline] ............. (step 2 of 2) Processing model, total=   0.0s\n",
      "[Pipeline] ............ (step 1 of 2) Processing scaler, total=   0.0s\n",
      "[Pipeline] ........ (step 2 of 2) Processing normalized, total=   0.0s\n",
      "[Pipeline] ........ (step 1 of 2) Processing trasformer, total=   0.0s\n",
      "[Pipeline] ............. (step 2 of 2) Processing model, total=   0.0s\n",
      "[Pipeline] ............ (step 1 of 2) Processing scaler, total=   0.0s\n",
      "[Pipeline] ........ (step 2 of 2) Processing normalized, total=   0.0s\n",
      "[Pipeline] ........ (step 1 of 2) Processing trasformer, total=   0.0s\n",
      "[Pipeline] ............. (step 2 of 2) Processing model, total=   0.0s\n",
      "[Pipeline] ............ (step 1 of 2) Processing scaler, total=   0.0s\n",
      "[Pipeline] ........ (step 2 of 2) Processing normalized, total=   0.0s\n",
      "[Pipeline] ........ (step 1 of 2) Processing trasformer, total=   0.0s\n",
      "[Pipeline] ............. (step 2 of 2) Processing model, total=   0.0s\n",
      "[Pipeline] ............ (step 1 of 2) Processing scaler, total=   0.0s\n",
      "[Pipeline] ........ (step 2 of 2) Processing normalized, total=   0.0s\n",
      "[Pipeline] ........ (step 1 of 2) Processing trasformer, total=   0.0s\n",
      "[Pipeline] ............. (step 2 of 2) Processing model, total=   0.0s\n",
      "[Pipeline] ............ (step 1 of 2) Processing scaler, total=   0.0s\n",
      "[Pipeline] ........ (step 2 of 2) Processing normalized, total=   0.0s\n",
      "[Pipeline] ........ (step 1 of 2) Processing trasformer, total=   0.0s\n",
      "[Pipeline] ............. (step 2 of 2) Processing model, total=   0.0s\n",
      "[Pipeline] ............ (step 1 of 2) Processing scaler, total=   0.0s\n",
      "[Pipeline] ........ (step 2 of 2) Processing normalized, total=   0.0s\n",
      "[Pipeline] ........ (step 1 of 2) Processing trasformer, total=   0.0s\n",
      "[Pipeline] ............. (step 2 of 2) Processing model, total=   0.0s\n",
      "[Pipeline] ............ (step 1 of 2) Processing scaler, total=   0.0s\n",
      "[Pipeline] ........ (step 2 of 2) Processing normalized, total=   0.0s\n",
      "[Pipeline] ........ (step 1 of 2) Processing trasformer, total=   0.0s\n",
      "[Pipeline] ............. (step 2 of 2) Processing model, total=   0.0s\n",
      "[Pipeline] ............ (step 1 of 2) Processing scaler, total=   0.0s\n",
      "[Pipeline] ........ (step 2 of 2) Processing normalized, total=   0.0s\n",
      "[Pipeline] ........ (step 1 of 2) Processing trasformer, total=   0.0s\n",
      "[Pipeline] ............. (step 2 of 2) Processing model, total=   0.0s\n",
      "[Pipeline] ............ (step 1 of 2) Processing scaler, total=   0.0s\n",
      "[Pipeline] ........ (step 2 of 2) Processing normalized, total=   0.0s\n",
      "[Pipeline] ........ (step 1 of 2) Processing trasformer, total=   0.0s\n",
      "[Pipeline] ............. (step 2 of 2) Processing model, total=   0.0s\n",
      "[Pipeline] ............ (step 1 of 2) Processing scaler, total=   0.0s\n",
      "[Pipeline] ........ (step 2 of 2) Processing normalized, total=   0.0s\n",
      "[Pipeline] ........ (step 1 of 2) Processing trasformer, total=   0.0s\n",
      "[Pipeline] ............. (step 2 of 2) Processing model, total=   0.0s\n",
      "[Pipeline] ............ (step 1 of 2) Processing scaler, total=   0.0s\n",
      "[Pipeline] ........ (step 2 of 2) Processing normalized, total=   0.0s\n",
      "[Pipeline] ........ (step 1 of 2) Processing trasformer, total=   0.0s\n",
      "[Pipeline] ............. (step 2 of 2) Processing model, total=   0.0s\n",
      "[Pipeline] ............ (step 1 of 2) Processing scaler, total=   0.0s\n",
      "[Pipeline] ........ (step 2 of 2) Processing normalized, total=   0.0s\n",
      "[Pipeline] ........ (step 1 of 2) Processing trasformer, total=   0.0s\n",
      "[Pipeline] ............. (step 2 of 2) Processing model, total=   0.0s\n",
      "[Pipeline] ............ (step 1 of 2) Processing scaler, total=   0.0s\n",
      "[Pipeline] ........ (step 2 of 2) Processing normalized, total=   0.0s\n",
      "[Pipeline] ........ (step 1 of 2) Processing trasformer, total=   0.0s\n",
      "[Pipeline] ............. (step 2 of 2) Processing model, total=   0.0s\n",
      "[Pipeline] ............ (step 1 of 2) Processing scaler, total=   0.0s\n",
      "[Pipeline] ........ (step 2 of 2) Processing normalized, total=   0.0s\n",
      "[Pipeline] ........ (step 1 of 2) Processing trasformer, total=   0.0s\n",
      "[Pipeline] ............. (step 2 of 2) Processing model, total=   0.0s\n",
      "[Pipeline] ............ (step 1 of 2) Processing scaler, total=   0.0s\n",
      "[Pipeline] ........ (step 2 of 2) Processing normalized, total=   0.0s\n",
      "[Pipeline] ........ (step 1 of 2) Processing trasformer, total=   0.0s\n",
      "[Pipeline] ............. (step 2 of 2) Processing model, total=   0.0s\n",
      "[Pipeline] ............ (step 1 of 2) Processing scaler, total=   0.0s\n",
      "[Pipeline] ........ (step 2 of 2) Processing normalized, total=   0.0s\n",
      "[Pipeline] ........ (step 1 of 2) Processing trasformer, total=   0.0s\n",
      "[Pipeline] ............. (step 2 of 2) Processing model, total=   0.0s\n",
      "[Pipeline] ............ (step 1 of 2) Processing scaler, total=   0.0s\n",
      "[Pipeline] ........ (step 2 of 2) Processing normalized, total=   0.0s\n",
      "[Pipeline] ........ (step 1 of 2) Processing trasformer, total=   0.0s\n",
      "[Pipeline] ............. (step 2 of 2) Processing model, total=   0.0s\n",
      "[Pipeline] ............ (step 1 of 2) Processing scaler, total=   0.0s\n",
      "[Pipeline] ........ (step 2 of 2) Processing normalized, total=   0.0s\n",
      "[Pipeline] ........ (step 1 of 2) Processing trasformer, total=   0.0s\n",
      "[Pipeline] ............. (step 2 of 2) Processing model, total=   0.0s\n",
      "[Pipeline] ............ (step 1 of 2) Processing scaler, total=   0.0s\n",
      "[Pipeline] ........ (step 2 of 2) Processing normalized, total=   0.0s\n",
      "[Pipeline] ........ (step 1 of 2) Processing trasformer, total=   0.0s\n",
      "[Pipeline] ............ (step 1 of 2) Processing scaler, total=   0.0s\n",
      "[Pipeline] ........ (step 2 of 2) Processing normalized, total=   0.0s\n",
      "[Pipeline] ........ (step 1 of 2) Processing trasformer, total=   0.0s\n",
      "[Pipeline] ............ (step 1 of 2) Processing scaler, total=   0.0s\n",
      "[Pipeline] ........ (step 2 of 2) Processing normalized, total=   0.0s\n",
      "[Pipeline] ........ (step 1 of 2) Processing trasformer, total=   0.0s\n",
      "[Pipeline] ............ (step 1 of 2) Processing scaler, total=   0.0s\n",
      "[Pipeline] ........ (step 2 of 2) Processing normalized, total=   0.0s\n",
      "[Pipeline] ........ (step 1 of 2) Processing trasformer, total=   0.0s\n",
      "[Pipeline] ............ (step 1 of 2) Processing scaler, total=   0.0s\n",
      "[Pipeline] ........ (step 2 of 2) Processing normalized, total=   0.0s\n",
      "[Pipeline] ........ (step 1 of 2) Processing trasformer, total=   0.0s\n",
      "[Pipeline] ............ (step 1 of 2) Processing scaler, total=   0.0s\n",
      "[Pipeline] ........ (step 2 of 2) Processing normalized, total=   0.0s\n",
      "[Pipeline] ........ (step 1 of 2) Processing trasformer, total=   0.0s\n",
      "[Pipeline] ............ (step 1 of 2) Processing scaler, total=   0.0s\n",
      "[Pipeline] ........ (step 2 of 2) Processing normalized, total=   0.0s\n",
      "[Pipeline] ........ (step 1 of 2) Processing trasformer, total=   0.0s\n",
      "[Pipeline] ............ (step 1 of 2) Processing scaler, total=   0.0s\n",
      "[Pipeline] ........ (step 2 of 2) Processing normalized, total=   0.0s\n",
      "[Pipeline] ........ (step 1 of 2) Processing trasformer, total=   0.0s\n",
      "[Pipeline] ............ (step 1 of 2) Processing scaler, total=   0.0s\n",
      "[Pipeline] ........ (step 2 of 2) Processing normalized, total=   0.0s\n",
      "[Pipeline] ........ (step 1 of 2) Processing trasformer, total=   0.0s\n",
      "[Pipeline] ............ (step 1 of 2) Processing scaler, total=   0.0s\n",
      "[Pipeline] ........ (step 2 of 2) Processing normalized, total=   0.0s\n",
      "[Pipeline] ........ (step 1 of 2) Processing trasformer, total=   0.0s\n",
      "[Pipeline] ............ (step 1 of 2) Processing scaler, total=   0.0s\n",
      "[Pipeline] ........ (step 2 of 2) Processing normalized, total=   0.0s\n",
      "[Pipeline] ........ (step 1 of 2) Processing trasformer, total=   0.0s\n",
      "[Pipeline] ............ (step 1 of 2) Processing scaler, total=   0.0s\n",
      "[Pipeline] ........ (step 2 of 2) Processing normalized, total=   0.0s\n",
      "[Pipeline] ........ (step 1 of 2) Processing trasformer, total=   0.0s\n",
      "[Pipeline] ............ (step 1 of 2) Processing scaler, total=   0.0s\n",
      "[Pipeline] ........ (step 2 of 2) Processing normalized, total=   0.0s\n",
      "[Pipeline] ........ (step 1 of 2) Processing trasformer, total=   0.0s\n",
      "[Pipeline] ............ (step 1 of 2) Processing scaler, total=   0.0s\n",
      "[Pipeline] ........ (step 2 of 2) Processing normalized, total=   0.0s\n",
      "[Pipeline] ........ (step 1 of 2) Processing trasformer, total=   0.0s\n",
      "[Pipeline] ............ (step 1 of 2) Processing scaler, total=   0.0s\n",
      "[Pipeline] ........ (step 2 of 2) Processing normalized, total=   0.0s\n",
      "[Pipeline] ........ (step 1 of 2) Processing trasformer, total=   0.0s\n",
      "[Pipeline] ............ (step 1 of 2) Processing scaler, total=   0.0s\n",
      "[Pipeline] ........ (step 2 of 2) Processing normalized, total=   0.0s\n",
      "[Pipeline] ........ (step 1 of 2) Processing trasformer, total=   0.0s\n",
      "[Pipeline] ............ (step 1 of 2) Processing scaler, total=   0.0s\n",
      "[Pipeline] ........ (step 2 of 2) Processing normalized, total=   0.0s\n",
      "[Pipeline] ........ (step 1 of 2) Processing trasformer, total=   0.0s\n",
      "[Pipeline] ............ (step 1 of 2) Processing scaler, total=   0.0s\n",
      "[Pipeline] ........ (step 2 of 2) Processing normalized, total=   0.0s\n",
      "[Pipeline] ........ (step 1 of 2) Processing trasformer, total=   0.0s\n",
      "[Pipeline] ............ (step 1 of 2) Processing scaler, total=   0.0s\n",
      "[Pipeline] ........ (step 2 of 2) Processing normalized, total=   0.0s\n",
      "[Pipeline] ........ (step 1 of 2) Processing trasformer, total=   0.0s\n",
      "[Pipeline] ............ (step 1 of 2) Processing scaler, total=   0.0s\n",
      "[Pipeline] ........ (step 2 of 2) Processing normalized, total=   0.0s\n",
      "[Pipeline] ........ (step 1 of 2) Processing trasformer, total=   0.0s\n",
      "[Pipeline] ............ (step 1 of 2) Processing scaler, total=   0.0s\n",
      "[Pipeline] ........ (step 2 of 2) Processing normalized, total=   0.0s\n",
      "[Pipeline] ........ (step 1 of 2) Processing trasformer, total=   0.0s\n",
      "[Pipeline] ............ (step 1 of 2) Processing scaler, total=   0.0s\n",
      "[Pipeline] ........ (step 2 of 2) Processing normalized, total=   0.0s\n",
      "[Pipeline] ........ (step 1 of 2) Processing trasformer, total=   0.0s\n",
      "[Pipeline] ............ (step 1 of 2) Processing scaler, total=   0.0s\n",
      "[Pipeline] ........ (step 2 of 2) Processing normalized, total=   0.0s\n",
      "[Pipeline] ........ (step 1 of 2) Processing trasformer, total=   0.0s\n",
      "[Pipeline] ............ (step 1 of 2) Processing scaler, total=   0.0s\n",
      "[Pipeline] ........ (step 2 of 2) Processing normalized, total=   0.0s\n",
      "[Pipeline] ........ (step 1 of 2) Processing trasformer, total=   0.0s\n",
      "[Pipeline] ............ (step 1 of 2) Processing scaler, total=   0.0s\n",
      "[Pipeline] ........ (step 2 of 2) Processing normalized, total=   0.0s\n",
      "[Pipeline] ........ (step 1 of 2) Processing trasformer, total=   0.0s\n",
      "[Pipeline] ............ (step 1 of 2) Processing scaler, total=   0.0s\n",
      "[Pipeline] ........ (step 2 of 2) Processing normalized, total=   0.0s\n",
      "[Pipeline] ........ (step 1 of 2) Processing trasformer, total=   0.0s\n",
      "[Pipeline] ............ (step 1 of 2) Processing scaler, total=   0.0s\n",
      "[Pipeline] ........ (step 2 of 2) Processing normalized, total=   0.0s\n",
      "[Pipeline] ........ (step 1 of 2) Processing trasformer, total=   0.0s\n",
      "[Pipeline] ............ (step 1 of 2) Processing scaler, total=   0.0s\n",
      "[Pipeline] ........ (step 2 of 2) Processing normalized, total=   0.0s\n",
      "[Pipeline] ........ (step 1 of 2) Processing trasformer, total=   0.0s\n",
      "[Pipeline] ............ (step 1 of 2) Processing scaler, total=   0.0s\n",
      "[Pipeline] ........ (step 2 of 2) Processing normalized, total=   0.0s\n",
      "[Pipeline] ........ (step 1 of 2) Processing trasformer, total=   0.0s\n",
      "[Pipeline] ............ (step 1 of 2) Processing scaler, total=   0.0s\n",
      "[Pipeline] ........ (step 2 of 2) Processing normalized, total=   0.0s\n",
      "[Pipeline] ........ (step 1 of 2) Processing trasformer, total=   0.0s\n",
      "[Pipeline] ............ (step 1 of 2) Processing scaler, total=   0.0s\n",
      "[Pipeline] ........ (step 2 of 2) Processing normalized, total=   0.0s\n",
      "[Pipeline] ........ (step 1 of 2) Processing trasformer, total=   0.0s\n",
      "[Pipeline] ............ (step 1 of 2) Processing scaler, total=   0.0s\n",
      "[Pipeline] ........ (step 2 of 2) Processing normalized, total=   0.0s\n",
      "[Pipeline] ........ (step 1 of 2) Processing trasformer, total=   0.0s\n",
      "[Pipeline] ............ (step 1 of 2) Processing scaler, total=   0.0s\n",
      "[Pipeline] ........ (step 2 of 2) Processing normalized, total=   0.0s\n",
      "[Pipeline] ........ (step 1 of 2) Processing trasformer, total=   0.0s\n",
      "[Pipeline] ............ (step 1 of 2) Processing scaler, total=   0.0s\n",
      "[Pipeline] ........ (step 2 of 2) Processing normalized, total=   0.0s\n",
      "[Pipeline] ........ (step 1 of 2) Processing trasformer, total=   0.0s\n",
      "[Pipeline] ............ (step 1 of 2) Processing scaler, total=   0.0s\n",
      "[Pipeline] ........ (step 2 of 2) Processing normalized, total=   0.0s\n",
      "[Pipeline] ........ (step 1 of 2) Processing trasformer, total=   0.0s\n",
      "[Pipeline] ............ (step 1 of 2) Processing scaler, total=   0.0s\n",
      "[Pipeline] ........ (step 2 of 2) Processing normalized, total=   0.0s\n",
      "[Pipeline] ........ (step 1 of 2) Processing trasformer, total=   0.0s\n",
      "[Pipeline] ............ (step 1 of 2) Processing scaler, total=   0.0s\n",
      "[Pipeline] ........ (step 2 of 2) Processing normalized, total=   0.0s\n",
      "[Pipeline] ........ (step 1 of 2) Processing trasformer, total=   0.0s\n",
      "[Pipeline] ............ (step 1 of 2) Processing scaler, total=   0.0s\n",
      "[Pipeline] ........ (step 2 of 2) Processing normalized, total=   0.0s\n",
      "[Pipeline] ........ (step 1 of 2) Processing trasformer, total=   0.0s\n",
      "[Pipeline] ............ (step 1 of 2) Processing scaler, total=   0.0s\n",
      "[Pipeline] ........ (step 2 of 2) Processing normalized, total=   0.0s\n",
      "[Pipeline] ........ (step 1 of 2) Processing trasformer, total=   0.0s\n",
      "[Pipeline] ............ (step 1 of 2) Processing scaler, total=   0.0s\n",
      "[Pipeline] ........ (step 2 of 2) Processing normalized, total=   0.0s\n",
      "[Pipeline] ........ (step 1 of 2) Processing trasformer, total=   0.0s\n",
      "[Pipeline] ............ (step 1 of 2) Processing scaler, total=   0.0s\n",
      "[Pipeline] ........ (step 2 of 2) Processing normalized, total=   0.0s\n",
      "[Pipeline] ........ (step 1 of 2) Processing trasformer, total=   0.0s\n",
      "[Pipeline] ............ (step 1 of 2) Processing scaler, total=   0.0s\n",
      "[Pipeline] ........ (step 2 of 2) Processing normalized, total=   0.0s\n",
      "[Pipeline] ........ (step 1 of 2) Processing trasformer, total=   0.0s\n",
      "[Pipeline] ............ (step 1 of 2) Processing scaler, total=   0.0s\n",
      "[Pipeline] ........ (step 2 of 2) Processing normalized, total=   0.0s\n",
      "[Pipeline] ........ (step 1 of 2) Processing trasformer, total=   0.0s\n",
      "[Pipeline] ............ (step 1 of 2) Processing scaler, total=   0.0s\n",
      "[Pipeline] ........ (step 2 of 2) Processing normalized, total=   0.0s\n",
      "[Pipeline] ........ (step 1 of 2) Processing trasformer, total=   0.0s\n",
      "[Pipeline] ............ (step 1 of 2) Processing scaler, total=   0.0s\n",
      "[Pipeline] ........ (step 2 of 2) Processing normalized, total=   0.0s\n",
      "[Pipeline] ........ (step 1 of 2) Processing trasformer, total=   0.0s\n",
      "[Pipeline] ............ (step 1 of 2) Processing scaler, total=   0.0s\n",
      "[Pipeline] ........ (step 2 of 2) Processing normalized, total=   0.0s\n",
      "[Pipeline] ........ (step 1 of 2) Processing trasformer, total=   0.0s\n",
      "[Pipeline] ............ (step 1 of 2) Processing scaler, total=   0.0s\n",
      "[Pipeline] ........ (step 2 of 2) Processing normalized, total=   0.0s\n",
      "[Pipeline] ........ (step 1 of 2) Processing trasformer, total=   0.0s\n",
      "[Pipeline] ............ (step 1 of 2) Processing scaler, total=   0.0s\n",
      "[Pipeline] ........ (step 2 of 2) Processing normalized, total=   0.0s\n",
      "[Pipeline] ........ (step 1 of 2) Processing trasformer, total=   0.0s\n",
      "[Pipeline] ............ (step 1 of 2) Processing scaler, total=   0.0s\n",
      "[Pipeline] ........ (step 2 of 2) Processing normalized, total=   0.0s\n",
      "[Pipeline] ........ (step 1 of 2) Processing trasformer, total=   0.0s\n",
      "[Pipeline] ............ (step 1 of 2) Processing scaler, total=   0.0s\n",
      "[Pipeline] ........ (step 2 of 2) Processing normalized, total=   0.0s\n",
      "[Pipeline] ........ (step 1 of 2) Processing trasformer, total=   0.0s\n",
      "[Pipeline] ............ (step 1 of 2) Processing scaler, total=   0.0s\n",
      "[Pipeline] ........ (step 2 of 2) Processing normalized, total=   0.0s\n",
      "[Pipeline] ........ (step 1 of 2) Processing trasformer, total=   0.0s\n",
      "[Pipeline] ............ (step 1 of 2) Processing scaler, total=   0.0s\n",
      "[Pipeline] ........ (step 2 of 2) Processing normalized, total=   0.0s\n",
      "[Pipeline] ........ (step 1 of 2) Processing trasformer, total=   0.0s\n",
      "[Pipeline] ............ (step 1 of 2) Processing scaler, total=   0.0s\n",
      "[Pipeline] ........ (step 2 of 2) Processing normalized, total=   0.0s\n",
      "[Pipeline] ........ (step 1 of 2) Processing trasformer, total=   0.0s\n",
      "[Pipeline] ............ (step 1 of 2) Processing scaler, total=   0.0s\n",
      "[Pipeline] ........ (step 2 of 2) Processing normalized, total=   0.0s\n",
      "[Pipeline] ........ (step 1 of 2) Processing trasformer, total=   0.0s\n",
      "[Pipeline] ............ (step 1 of 2) Processing scaler, total=   0.0s\n",
      "[Pipeline] ........ (step 2 of 2) Processing normalized, total=   0.0s\n",
      "[Pipeline] ........ (step 1 of 2) Processing trasformer, total=   0.0s\n",
      "[Pipeline] ............ (step 1 of 2) Processing scaler, total=   0.0s\n",
      "[Pipeline] ........ (step 2 of 2) Processing normalized, total=   0.0s\n",
      "[Pipeline] ........ (step 1 of 2) Processing trasformer, total=   0.0s\n",
      "[Pipeline] ............ (step 1 of 2) Processing scaler, total=   0.0s\n",
      "[Pipeline] ........ (step 2 of 2) Processing normalized, total=   0.0s\n",
      "[Pipeline] ........ (step 1 of 2) Processing trasformer, total=   0.0s\n",
      "[Pipeline] ............ (step 1 of 2) Processing scaler, total=   0.0s\n",
      "[Pipeline] ........ (step 2 of 2) Processing normalized, total=   0.0s\n",
      "[Pipeline] ........ (step 1 of 2) Processing trasformer, total=   0.0s\n",
      "[Pipeline] ............ (step 1 of 2) Processing scaler, total=   0.0s\n",
      "[Pipeline] ........ (step 2 of 2) Processing normalized, total=   0.0s\n",
      "[Pipeline] ........ (step 1 of 2) Processing trasformer, total=   0.0s\n",
      "[Pipeline] ............ (step 1 of 2) Processing scaler, total=   0.0s\n",
      "[Pipeline] ........ (step 2 of 2) Processing normalized, total=   0.0s\n",
      "[Pipeline] ........ (step 1 of 2) Processing trasformer, total=   0.0s\n",
      "[Pipeline] ............ (step 1 of 2) Processing scaler, total=   0.0s\n",
      "[Pipeline] ........ (step 2 of 2) Processing normalized, total=   0.0s\n",
      "[Pipeline] ........ (step 1 of 2) Processing trasformer, total=   0.0s\n",
      "[Pipeline] ............ (step 1 of 2) Processing scaler, total=   0.0s\n",
      "[Pipeline] ........ (step 2 of 2) Processing normalized, total=   0.0s\n",
      "[Pipeline] ........ (step 1 of 2) Processing trasformer, total=   0.0s\n",
      "[Pipeline] ............ (step 1 of 2) Processing scaler, total=   0.0s\n",
      "[Pipeline] ........ (step 2 of 2) Processing normalized, total=   0.0s\n",
      "[Pipeline] ........ (step 1 of 2) Processing trasformer, total=   0.0s\n",
      "[Pipeline] ............ (step 1 of 2) Processing scaler, total=   0.0s\n",
      "[Pipeline] ........ (step 2 of 2) Processing normalized, total=   0.0s\n",
      "[Pipeline] ........ (step 1 of 2) Processing trasformer, total=   0.0s\n",
      "[Pipeline] ............ (step 1 of 2) Processing scaler, total=   0.0s\n",
      "[Pipeline] ........ (step 2 of 2) Processing normalized, total=   0.0s\n",
      "[Pipeline] ........ (step 1 of 2) Processing trasformer, total=   0.0s\n",
      "[Pipeline] ............ (step 1 of 2) Processing scaler, total=   0.0s\n",
      "[Pipeline] ........ (step 2 of 2) Processing normalized, total=   0.0s\n",
      "[Pipeline] ........ (step 1 of 2) Processing trasformer, total=   0.0s\n",
      "[Pipeline] ............ (step 1 of 2) Processing scaler, total=   0.0s\n",
      "[Pipeline] ........ (step 2 of 2) Processing normalized, total=   0.0s\n",
      "[Pipeline] ........ (step 1 of 2) Processing trasformer, total=   0.0s\n",
      "[Pipeline] ............ (step 1 of 2) Processing scaler, total=   0.0s\n",
      "[Pipeline] ........ (step 2 of 2) Processing normalized, total=   0.0s\n",
      "[Pipeline] ........ (step 1 of 2) Processing trasformer, total=   0.0s\n",
      "[Pipeline] ............ (step 1 of 2) Processing scaler, total=   0.0s\n",
      "[Pipeline] ........ (step 2 of 2) Processing normalized, total=   0.0s\n",
      "[Pipeline] ........ (step 1 of 2) Processing trasformer, total=   0.0s\n",
      "[Pipeline] ............ (step 1 of 2) Processing scaler, total=   0.0s\n",
      "[Pipeline] ........ (step 2 of 2) Processing normalized, total=   0.0s\n",
      "[Pipeline] ........ (step 1 of 2) Processing trasformer, total=   0.0s\n",
      "[Pipeline] ............ (step 1 of 2) Processing scaler, total=   0.0s\n",
      "[Pipeline] ........ (step 2 of 2) Processing normalized, total=   0.0s\n",
      "[Pipeline] ........ (step 1 of 2) Processing trasformer, total=   0.0s\n",
      "[Pipeline] ............ (step 1 of 2) Processing scaler, total=   0.0s\n",
      "[Pipeline] ........ (step 2 of 2) Processing normalized, total=   0.0s\n",
      "[Pipeline] ........ (step 1 of 2) Processing trasformer, total=   0.0s\n",
      "[Pipeline] ............ (step 1 of 2) Processing scaler, total=   0.0s\n",
      "[Pipeline] ........ (step 2 of 2) Processing normalized, total=   0.0s\n",
      "[Pipeline] ........ (step 1 of 2) Processing trasformer, total=   0.0s\n",
      "[Pipeline] ............ (step 1 of 2) Processing scaler, total=   0.0s\n",
      "[Pipeline] ........ (step 2 of 2) Processing normalized, total=   0.0s\n",
      "[Pipeline] ........ (step 1 of 2) Processing trasformer, total=   0.0s\n",
      "[Pipeline] ............ (step 1 of 2) Processing scaler, total=   0.0s\n",
      "[Pipeline] ........ (step 2 of 2) Processing normalized, total=   0.0s\n",
      "[Pipeline] ........ (step 1 of 2) Processing trasformer, total=   0.0s\n",
      "[Pipeline] ............ (step 1 of 2) Processing scaler, total=   0.0s\n",
      "[Pipeline] ........ (step 2 of 2) Processing normalized, total=   0.0s\n",
      "[Pipeline] ........ (step 1 of 2) Processing trasformer, total=   0.0s\n",
      "[Pipeline] ............ (step 1 of 2) Processing scaler, total=   0.0s\n",
      "[Pipeline] ........ (step 2 of 2) Processing normalized, total=   0.0s\n",
      "[Pipeline] ........ (step 1 of 2) Processing trasformer, total=   0.0s\n",
      "[Pipeline] ............ (step 1 of 2) Processing scaler, total=   0.0s\n",
      "[Pipeline] ........ (step 2 of 2) Processing normalized, total=   0.0s\n",
      "[Pipeline] ........ (step 1 of 2) Processing trasformer, total=   0.0s\n",
      "[Pipeline] ............ (step 1 of 2) Processing scaler, total=   0.0s\n",
      "[Pipeline] ........ (step 2 of 2) Processing normalized, total=   0.0s\n",
      "[Pipeline] ........ (step 1 of 2) Processing trasformer, total=   0.0s\n",
      "[Pipeline] ............ (step 1 of 2) Processing scaler, total=   0.0s\n",
      "[Pipeline] ........ (step 2 of 2) Processing normalized, total=   0.0s\n",
      "[Pipeline] ........ (step 1 of 2) Processing trasformer, total=   0.0s\n",
      "[Pipeline] ............ (step 1 of 2) Processing scaler, total=   0.0s\n",
      "[Pipeline] ........ (step 2 of 2) Processing normalized, total=   0.0s\n",
      "[Pipeline] ........ (step 1 of 2) Processing trasformer, total=   0.0s\n",
      "[Pipeline] ............ (step 1 of 2) Processing scaler, total=   0.0s\n",
      "[Pipeline] ........ (step 2 of 2) Processing normalized, total=   0.0s\n",
      "[Pipeline] ........ (step 1 of 2) Processing trasformer, total=   0.0s\n",
      "[Pipeline] ............ (step 1 of 2) Processing scaler, total=   0.0s\n",
      "[Pipeline] ........ (step 2 of 2) Processing normalized, total=   0.0s\n",
      "[Pipeline] ........ (step 1 of 2) Processing trasformer, total=   0.0s\n",
      "[Pipeline] ............ (step 1 of 2) Processing scaler, total=   0.0s\n",
      "[Pipeline] ........ (step 2 of 2) Processing normalized, total=   0.0s\n",
      "[Pipeline] ........ (step 1 of 2) Processing trasformer, total=   0.0s\n",
      "[Pipeline] ............ (step 1 of 2) Processing scaler, total=   0.0s\n",
      "[Pipeline] ........ (step 2 of 2) Processing normalized, total=   0.0s\n",
      "[Pipeline] ........ (step 1 of 2) Processing trasformer, total=   0.0s\n",
      "[Pipeline] ............ (step 1 of 2) Processing scaler, total=   0.0s\n",
      "[Pipeline] ........ (step 2 of 2) Processing normalized, total=   0.0s\n",
      "[Pipeline] ........ (step 1 of 2) Processing trasformer, total=   0.0s\n",
      "[Pipeline] ............ (step 1 of 2) Processing scaler, total=   0.0s\n",
      "[Pipeline] ........ (step 2 of 2) Processing normalized, total=   0.0s\n",
      "[Pipeline] ........ (step 1 of 2) Processing trasformer, total=   0.0s\n",
      "[Pipeline] ............ (step 1 of 2) Processing scaler, total=   0.0s\n",
      "[Pipeline] ........ (step 2 of 2) Processing normalized, total=   0.0s\n",
      "[Pipeline] ........ (step 1 of 2) Processing trasformer, total=   0.0s\n",
      "[Pipeline] ............ (step 1 of 2) Processing scaler, total=   0.0s\n",
      "[Pipeline] ........ (step 2 of 2) Processing normalized, total=   0.0s\n",
      "[Pipeline] ........ (step 1 of 2) Processing trasformer, total=   0.0s\n",
      "[Pipeline] ............ (step 1 of 2) Processing scaler, total=   0.0s\n",
      "[Pipeline] ........ (step 2 of 2) Processing normalized, total=   0.0s\n",
      "[Pipeline] ........ (step 1 of 2) Processing trasformer, total=   0.0s\n",
      "[Pipeline] ............ (step 1 of 2) Processing scaler, total=   0.0s\n",
      "[Pipeline] ........ (step 2 of 2) Processing normalized, total=   0.0s\n",
      "[Pipeline] ........ (step 1 of 2) Processing trasformer, total=   0.0s\n",
      "[Pipeline] ............ (step 1 of 2) Processing scaler, total=   0.0s\n",
      "[Pipeline] ........ (step 2 of 2) Processing normalized, total=   0.0s\n",
      "[Pipeline] ........ (step 1 of 2) Processing trasformer, total=   0.0s\n",
      "[Pipeline] ............ (step 1 of 2) Processing scaler, total=   0.0s\n",
      "[Pipeline] ........ (step 2 of 2) Processing normalized, total=   0.0s\n",
      "[Pipeline] ........ (step 1 of 2) Processing trasformer, total=   0.0s\n",
      "[Pipeline] ............ (step 1 of 2) Processing scaler, total=   0.0s\n",
      "[Pipeline] ........ (step 2 of 2) Processing normalized, total=   0.0s\n",
      "[Pipeline] ........ (step 1 of 2) Processing trasformer, total=   0.0s\n",
      "[Pipeline] ............ (step 1 of 2) Processing scaler, total=   0.0s\n",
      "[Pipeline] ........ (step 2 of 2) Processing normalized, total=   0.0s\n",
      "[Pipeline] ........ (step 1 of 2) Processing trasformer, total=   0.0s\n",
      "[Pipeline] ............ (step 1 of 2) Processing scaler, total=   0.0s\n",
      "[Pipeline] ........ (step 2 of 2) Processing normalized, total=   0.0s\n",
      "[Pipeline] ........ (step 1 of 2) Processing trasformer, total=   0.0s\n",
      "[Pipeline] ............ (step 1 of 2) Processing scaler, total=   0.0s\n",
      "[Pipeline] ........ (step 2 of 2) Processing normalized, total=   0.0s\n",
      "[Pipeline] ........ (step 1 of 2) Processing trasformer, total=   0.0s\n",
      "[Pipeline] ............ (step 1 of 2) Processing scaler, total=   0.0s\n",
      "[Pipeline] ........ (step 2 of 2) Processing normalized, total=   0.0s\n",
      "[Pipeline] ........ (step 1 of 2) Processing trasformer, total=   0.0s\n",
      "[Pipeline] ............ (step 1 of 2) Processing scaler, total=   0.0s\n",
      "[Pipeline] ........ (step 2 of 2) Processing normalized, total=   0.0s\n",
      "[Pipeline] ........ (step 1 of 2) Processing trasformer, total=   0.0s\n",
      "[Pipeline] ............ (step 1 of 2) Processing scaler, total=   0.0s\n",
      "[Pipeline] ........ (step 2 of 2) Processing normalized, total=   0.0s\n",
      "[Pipeline] ........ (step 1 of 2) Processing trasformer, total=   0.0s\n",
      "[Pipeline] ............ (step 1 of 2) Processing scaler, total=   0.0s\n",
      "[Pipeline] ........ (step 2 of 2) Processing normalized, total=   0.0s\n",
      "[Pipeline] ........ (step 1 of 2) Processing trasformer, total=   0.0s\n",
      "[Pipeline] ............ (step 1 of 2) Processing scaler, total=   0.0s\n",
      "[Pipeline] ........ (step 2 of 2) Processing normalized, total=   0.0s\n",
      "[Pipeline] ........ (step 1 of 2) Processing trasformer, total=   0.0s\n",
      "[Pipeline] ............ (step 1 of 2) Processing scaler, total=   0.0s\n",
      "[Pipeline] ........ (step 2 of 2) Processing normalized, total=   0.0s\n",
      "[Pipeline] ........ (step 1 of 2) Processing trasformer, total=   0.0s\n",
      "[Pipeline] ............ (step 1 of 2) Processing scaler, total=   0.0s\n",
      "[Pipeline] ........ (step 2 of 2) Processing normalized, total=   0.0s\n",
      "[Pipeline] ........ (step 1 of 2) Processing trasformer, total=   0.0s\n",
      "[Pipeline] ............ (step 1 of 2) Processing scaler, total=   0.0s\n",
      "[Pipeline] ........ (step 2 of 2) Processing normalized, total=   0.0s\n",
      "[Pipeline] ........ (step 1 of 2) Processing trasformer, total=   0.0s\n",
      "[Pipeline] ............ (step 1 of 2) Processing scaler, total=   0.0s\n",
      "[Pipeline] ........ (step 2 of 2) Processing normalized, total=   0.0s\n",
      "[Pipeline] ........ (step 1 of 2) Processing trasformer, total=   0.0s\n",
      "[Pipeline] ............ (step 1 of 2) Processing scaler, total=   0.0s\n",
      "[Pipeline] ........ (step 2 of 2) Processing normalized, total=   0.0s\n",
      "[Pipeline] ........ (step 1 of 2) Processing trasformer, total=   0.0s\n",
      "[Pipeline] ............ (step 1 of 2) Processing scaler, total=   0.0s\n",
      "[Pipeline] ........ (step 2 of 2) Processing normalized, total=   0.0s\n",
      "[Pipeline] ........ (step 1 of 2) Processing trasformer, total=   0.0s\n",
      "[Pipeline] ............ (step 1 of 2) Processing scaler, total=   0.0s\n",
      "[Pipeline] ........ (step 2 of 2) Processing normalized, total=   0.0s\n",
      "[Pipeline] ........ (step 1 of 2) Processing trasformer, total=   0.0s\n",
      "[Pipeline] ............ (step 1 of 2) Processing scaler, total=   0.0s\n",
      "[Pipeline] ........ (step 2 of 2) Processing normalized, total=   0.0s\n",
      "[Pipeline] ........ (step 1 of 2) Processing trasformer, total=   0.0s\n",
      "[Pipeline] ............ (step 1 of 2) Processing scaler, total=   0.0s\n",
      "[Pipeline] ........ (step 2 of 2) Processing normalized, total=   0.0s\n",
      "[Pipeline] ........ (step 1 of 2) Processing trasformer, total=   0.0s\n",
      "[Pipeline] ............ (step 1 of 2) Processing scaler, total=   0.0s\n",
      "[Pipeline] ........ (step 2 of 2) Processing normalized, total=   0.0s\n",
      "[Pipeline] ........ (step 1 of 2) Processing trasformer, total=   0.0s\n",
      "[Pipeline] ............ (step 1 of 2) Processing scaler, total=   0.0s\n",
      "[Pipeline] ........ (step 2 of 2) Processing normalized, total=   0.0s\n",
      "[Pipeline] ........ (step 1 of 2) Processing trasformer, total=   0.0s\n",
      "[Pipeline] ............ (step 1 of 2) Processing scaler, total=   0.0s\n",
      "[Pipeline] ........ (step 2 of 2) Processing normalized, total=   0.0s\n",
      "[Pipeline] ........ (step 1 of 2) Processing trasformer, total=   0.0s\n",
      "[Pipeline] ............ (step 1 of 2) Processing scaler, total=   0.0s\n",
      "[Pipeline] ........ (step 2 of 2) Processing normalized, total=   0.0s\n",
      "[Pipeline] ........ (step 1 of 2) Processing trasformer, total=   0.0s\n",
      "[Pipeline] ............ (step 1 of 2) Processing scaler, total=   0.0s\n",
      "[Pipeline] ........ (step 2 of 2) Processing normalized, total=   0.0s\n",
      "[Pipeline] ........ (step 1 of 2) Processing trasformer, total=   0.0s\n",
      "[Pipeline] ............ (step 1 of 2) Processing scaler, total=   0.0s\n",
      "[Pipeline] ........ (step 2 of 2) Processing normalized, total=   0.0s\n",
      "[Pipeline] ........ (step 1 of 2) Processing trasformer, total=   0.0s\n",
      "[Pipeline] ............ (step 1 of 2) Processing scaler, total=   0.0s\n",
      "[Pipeline] ........ (step 2 of 2) Processing normalized, total=   0.0s\n",
      "[Pipeline] ........ (step 1 of 2) Processing trasformer, total=   0.0s\n",
      "[Pipeline] ............ (step 1 of 2) Processing scaler, total=   0.0s\n",
      "[Pipeline] ........ (step 2 of 2) Processing normalized, total=   0.0s\n",
      "[Pipeline] ........ (step 1 of 2) Processing trasformer, total=   0.0s\n",
      "[Pipeline] ............ (step 1 of 2) Processing scaler, total=   0.0s\n",
      "[Pipeline] ........ (step 2 of 2) Processing normalized, total=   0.0s\n",
      "[Pipeline] ........ (step 1 of 2) Processing trasformer, total=   0.0s\n",
      "[Pipeline] ............ (step 1 of 2) Processing scaler, total=   0.0s\n",
      "[Pipeline] ........ (step 2 of 2) Processing normalized, total=   0.0s\n",
      "[Pipeline] ........ (step 1 of 2) Processing trasformer, total=   0.0s\n",
      "[Pipeline] ............ (step 1 of 2) Processing scaler, total=   0.0s\n",
      "[Pipeline] ........ (step 2 of 2) Processing normalized, total=   0.0s\n",
      "[Pipeline] ........ (step 1 of 2) Processing trasformer, total=   0.0s\n",
      "[Pipeline] ............ (step 1 of 2) Processing scaler, total=   0.0s\n",
      "[Pipeline] ........ (step 2 of 2) Processing normalized, total=   0.0s\n",
      "[Pipeline] ........ (step 1 of 2) Processing trasformer, total=   0.0s\n",
      "[Pipeline] ............ (step 1 of 2) Processing scaler, total=   0.0s\n",
      "[Pipeline] ........ (step 2 of 2) Processing normalized, total=   0.0s\n",
      "[Pipeline] ........ (step 1 of 2) Processing trasformer, total=   0.0s\n",
      "[Pipeline] ............ (step 1 of 2) Processing scaler, total=   0.0s\n",
      "[Pipeline] ........ (step 2 of 2) Processing normalized, total=   0.0s\n",
      "[Pipeline] ........ (step 1 of 2) Processing trasformer, total=   0.0s\n",
      "[Pipeline] ............ (step 1 of 2) Processing scaler, total=   0.0s\n",
      "[Pipeline] ........ (step 2 of 2) Processing normalized, total=   0.0s\n",
      "[Pipeline] ........ (step 1 of 2) Processing trasformer, total=   0.0s\n",
      "[Pipeline] ............ (step 1 of 2) Processing scaler, total=   0.0s\n",
      "[Pipeline] ........ (step 2 of 2) Processing normalized, total=   0.0s\n",
      "[Pipeline] ........ (step 1 of 2) Processing trasformer, total=   0.0s\n",
      "[Pipeline] ............ (step 1 of 2) Processing scaler, total=   0.0s\n",
      "[Pipeline] ........ (step 2 of 2) Processing normalized, total=   0.0s\n",
      "[Pipeline] ........ (step 1 of 2) Processing trasformer, total=   0.0s\n",
      "[Pipeline] ............ (step 1 of 2) Processing scaler, total=   0.0s\n",
      "[Pipeline] ........ (step 2 of 2) Processing normalized, total=   0.0s\n",
      "[Pipeline] ........ (step 1 of 2) Processing trasformer, total=   0.0s\n",
      "[Pipeline] ............ (step 1 of 2) Processing scaler, total=   0.0s\n",
      "[Pipeline] ........ (step 2 of 2) Processing normalized, total=   0.0s\n",
      "[Pipeline] ........ (step 1 of 2) Processing trasformer, total=   0.0s\n",
      "[Pipeline] ............ (step 1 of 2) Processing scaler, total=   0.0s\n",
      "[Pipeline] ........ (step 2 of 2) Processing normalized, total=   0.0s\n",
      "[Pipeline] ........ (step 1 of 2) Processing trasformer, total=   0.0s\n",
      "[Pipeline] ............ (step 1 of 2) Processing scaler, total=   0.0s\n",
      "[Pipeline] ........ (step 2 of 2) Processing normalized, total=   0.0s\n",
      "[Pipeline] ........ (step 1 of 2) Processing trasformer, total=   0.0s\n",
      "[Pipeline] ............ (step 1 of 2) Processing scaler, total=   0.0s\n",
      "[Pipeline] ........ (step 2 of 2) Processing normalized, total=   0.0s\n",
      "[Pipeline] ........ (step 1 of 2) Processing trasformer, total=   0.0s\n",
      "[Pipeline] ............ (step 1 of 2) Processing scaler, total=   0.0s\n",
      "[Pipeline] ........ (step 2 of 2) Processing normalized, total=   0.0s\n",
      "[Pipeline] ........ (step 1 of 2) Processing trasformer, total=   0.0s\n",
      "[Pipeline] ............ (step 1 of 2) Processing scaler, total=   0.0s\n",
      "[Pipeline] ........ (step 2 of 2) Processing normalized, total=   0.0s\n",
      "[Pipeline] ........ (step 1 of 2) Processing trasformer, total=   0.0s\n",
      "[Pipeline] ............ (step 1 of 2) Processing scaler, total=   0.0s\n",
      "[Pipeline] ........ (step 2 of 2) Processing normalized, total=   0.0s\n",
      "[Pipeline] ........ (step 1 of 2) Processing trasformer, total=   0.0s\n",
      "[Pipeline] ............. (step 2 of 2) Processing model, total=   0.0s\n",
      " ===== Scaled Pipeline with GridSearch =====\n",
      "Accuracy on train 1.0\n",
      "Accuracy on test 0.66\n",
      "Confusion matrix on test\n",
      "[[52 16]\n",
      " [18 14]]\n"
     ]
    },
    {
     "name": "stderr",
     "output_type": "stream",
     "text": [
      "/opt/anaconda3/lib/python3.9/site-packages/sklearn/model_selection/_validation.py:372: FitFailedWarning: \n",
      "135 fits failed out of a total of 405.\n",
      "The score on these train-test partitions for these parameters will be set to nan.\n",
      "If these failures are not expected, you can try to debug them by setting error_score='raise'.\n",
      "\n",
      "Below are more details about the failures:\n",
      "--------------------------------------------------------------------------------\n",
      "135 fits failed with the following error:\n",
      "Traceback (most recent call last):\n",
      "  File \"/opt/anaconda3/lib/python3.9/site-packages/sklearn/model_selection/_validation.py\", line 680, in _fit_and_score\n",
      "    estimator.fit(X_train, y_train, **fit_params)\n",
      "  File \"/opt/anaconda3/lib/python3.9/site-packages/sklearn/pipeline.py\", line 394, in fit\n",
      "    self._final_estimator.fit(Xt, y, **fit_params_last_step)\n",
      "  File \"/opt/anaconda3/lib/python3.9/site-packages/sklearn/tree/_classes.py\", line 937, in fit\n",
      "    super().fit(\n",
      "  File \"/opt/anaconda3/lib/python3.9/site-packages/sklearn/tree/_classes.py\", line 352, in fit\n",
      "    criterion = CRITERIA_CLF[self.criterion](\n",
      "KeyError: 'log_loss'\n",
      "\n",
      "  warnings.warn(some_fits_failed_message, FitFailedWarning)\n",
      "/opt/anaconda3/lib/python3.9/site-packages/sklearn/model_selection/_search.py:969: UserWarning: One or more of the test scores are non-finite: [0.74410256 0.76846154 0.74871795 0.78410256 0.75384615 0.73358974\n",
      " 0.73871795 0.75346154 0.74371795 0.78384615 0.74858974 0.77884615\n",
      " 0.75884615 0.75846154 0.74884615 0.75884615 0.73846154 0.76871795\n",
      " 0.77897436 0.74884615 0.75358974 0.74397436 0.75358974 0.74384615\n",
      " 0.73846154 0.76371795 0.73333333 0.76423077 0.76871795 0.74384615\n",
      " 0.76897436 0.77871795 0.73384615 0.77923077 0.77384615 0.73384615\n",
      " 0.75871795 0.76820513 0.75358974 0.75897436 0.71820513 0.75358974\n",
      " 0.77371795 0.77384615 0.73346154 0.77371795 0.75346154 0.75871795\n",
      " 0.76410256 0.75384615 0.73871795 0.72858974 0.77358974 0.73858974\n",
      "        nan        nan        nan        nan        nan        nan\n",
      "        nan        nan        nan        nan        nan        nan\n",
      "        nan        nan        nan        nan        nan        nan\n",
      "        nan        nan        nan        nan        nan        nan\n",
      "        nan        nan        nan]\n",
      "  warnings.warn(\n"
     ]
    }
   ],
   "source": [
    "from sklearn.model_selection import GridSearchCV\n",
    "\n",
    "params = {'model__criterion': (\"gini\", \"entropy\", \"log_loss\"),\n",
    "          'trasformer__age__n_bins' : [5, 20, 30],\n",
    "          'trasformer__platelets__n_bins' : [5, 20, 30],\n",
    "          'trasformer__scale_norma__normalized__norm' : (\"l1\", \"l2\",\"max\")}\n",
    "\n",
    "gs = GridSearchCV(my_pipeline,params)\n",
    "\n",
    "test_model(\"Scaled Pipeline with GridSearch\",gs, X_train, X_test, y_train, y_test)"
   ],
   "metadata": {
    "collapsed": false,
    "ExecuteTime": {
     "start_time": "2023-06-12T11:17:34.421602Z",
     "end_time": "2023-06-12T11:17:38.481383Z"
    }
   }
  },
  {
   "cell_type": "code",
   "execution_count": 44,
   "outputs": [
    {
     "data": {
      "text/plain": "{'model__criterion': 'gini',\n 'trasformer__age__n_bins': 5,\n 'trasformer__platelets__n_bins': 20,\n 'trasformer__scale_norma__normalized__norm': 'l1'}"
     },
     "execution_count": 44,
     "metadata": {},
     "output_type": "execute_result"
    }
   ],
   "source": [
    "gs.best_params_"
   ],
   "metadata": {
    "collapsed": false,
    "ExecuteTime": {
     "start_time": "2023-06-12T11:17:51.788182Z",
     "end_time": "2023-06-12T11:17:51.791067Z"
    }
   }
  },
  {
   "cell_type": "code",
   "execution_count": 45,
   "outputs": [
    {
     "name": "stdout",
     "output_type": "stream",
     "text": [
      "[Pipeline] ............ (step 1 of 2) Processing scaler, total=   0.0s\n",
      "[Pipeline] ........ (step 2 of 2) Processing normalized, total=   0.0s\n",
      "[Pipeline] ........ (step 1 of 2) Processing trasformer, total=   0.0s\n",
      "[Pipeline] ............. (step 2 of 2) Processing model, total=   0.0s\n",
      " ===== Pipeline  =====\n",
      "Accuracy on train 1.0\n",
      "Accuracy on test 0.66\n",
      "Confusion matrix on test\n",
      "[[52 16]\n",
      " [18 14]]\n"
     ]
    }
   ],
   "source": [
    "my_pipeline.set_params(**gs.best_params_)\n",
    "\n",
    "test_model(\"Pipeline \",my_pipeline, X_train, X_test, y_train, y_test)"
   ],
   "metadata": {
    "collapsed": false,
    "ExecuteTime": {
     "start_time": "2023-06-12T11:18:10.172094Z",
     "end_time": "2023-06-12T11:18:10.184743Z"
    }
   }
  },
  {
   "cell_type": "markdown",
   "source": [
    "# 2.6\n",
    "Creare una pipeline che aggiunga alle features della pipeline del punto 4, le feature che\n",
    "\n",
    "derivano dalla applicazione di una [PCA](https://scikit-learn.org/stable/modules/generated/sklearn.decomposition.PCA.html) (mantenendo due\n",
    "\n",
    "dimensioni) e le feature che derivano dalla applicazione della funzione [SelectKBest](https://scikit-learn.org/stable/modules/generated/sklearn.feature_selection.SelectKBest.html?highlight=selectkbest#sklearn.feature_selection.SelectKBest) ( scegliendo K=2)."
   ],
   "metadata": {
    "collapsed": false
   }
  },
  {
   "cell_type": "code",
   "execution_count": 50,
   "outputs": [
    {
     "name": "stdout",
     "output_type": "stream",
     "text": [
      "(299, 11)\n"
     ]
    },
    {
     "data": {
      "text/plain": "(299, 15)"
     },
     "execution_count": 50,
     "metadata": {},
     "output_type": "execute_result"
    }
   ],
   "source": [
    "from sklearn.decomposition import PCA\n",
    "from sklearn.feature_selection import SelectKBest\n",
    "from sklearn.pipeline import FeatureUnion\n",
    "from  sklearn.preprocessing import FunctionTransformer\n",
    "\n",
    "pca = PCA(n_components=2)\n",
    "kbest = SelectKBest(k=2)\n",
    "\n",
    "def identity(X):\n",
    "    return X\n",
    "\n",
    "combined = FeatureUnion([(\"pca\",pca), (\"kbest\",kbest), ('passtrough', FunctionTransformer(identity, validate=True))])\n",
    "\n",
    "\n",
    "my_pipeline = Pipeline(steps=[('trasformer',column_trasform), ('combine_feature',combined), (\"model\",model_td)],verbose=True)\n",
    "\n",
    "ver = pd.DataFrame(combined.fit_transform(new_df,y))\n",
    "print(new_df.shape)\n",
    "ver.shape"
   ],
   "metadata": {
    "collapsed": false,
    "ExecuteTime": {
     "start_time": "2023-06-12T11:21:36.668412Z",
     "end_time": "2023-06-12T11:21:36.681074Z"
    }
   }
  },
  {
   "cell_type": "code",
   "execution_count": 51,
   "outputs": [
    {
     "name": "stdout",
     "output_type": "stream",
     "text": [
      "[Pipeline] ............ (step 1 of 2) Processing scaler, total=   0.0s\n",
      "[Pipeline] ........ (step 2 of 2) Processing normalized, total=   0.0s\n",
      "[Pipeline] ........ (step 1 of 3) Processing trasformer, total=   0.0s\n",
      "[Pipeline] ... (step 2 of 3) Processing combine_feature, total=   0.0s\n",
      "[Pipeline] ............. (step 3 of 3) Processing model, total=   0.0s\n",
      " ===== Pipeline  =====\n",
      "Accuracy on train 1.0\n",
      "Accuracy on test 0.62\n",
      "Confusion matrix on test\n",
      "[[48 20]\n",
      " [18 14]]\n"
     ]
    }
   ],
   "source": [
    "test_model(\"Pipeline \",my_pipeline, X_train, X_test, y_train, y_test)"
   ],
   "metadata": {
    "collapsed": false,
    "ExecuteTime": {
     "start_time": "2023-06-12T11:21:46.572221Z",
     "end_time": "2023-06-12T11:21:46.615545Z"
    }
   }
  },
  {
   "cell_type": "code",
   "execution_count": null,
   "outputs": [],
   "source": [],
   "metadata": {
    "collapsed": false
   }
  }
 ],
 "metadata": {
  "kernelspec": {
   "display_name": "Python 3",
   "language": "python",
   "name": "python3"
  },
  "language_info": {
   "codemirror_mode": {
    "name": "ipython",
    "version": 2
   },
   "file_extension": ".py",
   "mimetype": "text/x-python",
   "name": "python",
   "nbconvert_exporter": "python",
   "pygments_lexer": "ipython2",
   "version": "2.7.6"
  }
 },
 "nbformat": 4,
 "nbformat_minor": 0
}
