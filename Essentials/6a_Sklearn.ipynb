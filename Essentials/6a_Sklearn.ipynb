{
 "nbformat": 4,
 "nbformat_minor": 0,
 "metadata": {
  "colab": {
   "provenance": []
  },
  "kernelspec": {
   "display_name": "Python 3",
   "language": "python",
   "name": "python3"
  },
  "language_info": {
   "codemirror_mode": {
    "name": "ipython",
    "version": 3
   },
   "file_extension": ".py",
   "mimetype": "text/x-python",
   "name": "python",
   "nbconvert_exporter": "python",
   "pygments_lexer": "ipython3",
   "version": "3.6.9"
  }
 },
 "cells": [
  {
   "cell_type": "markdown",
   "metadata": {
    "id": "Wxe8gnB83EA9"
   },
   "source": [
    "# Scikit-Learn"
   ]
  },
  {
   "cell_type": "markdown",
   "metadata": {
    "id": "q9UaSg1D3EA-"
   },
   "source": [
    "- Scikit-Learn is a package that provides efficient versions of a large number of common ML algorithms. \n",
    "- Scikit-Learn is characterized by a clean, uniform, and streamlined API, as well as by very useful and complete online documentation.\n",
    "- A benefit of this uniformity is that once you understand the basic use and syntax of Scikit-Learn for one type of model, switching to a new model or algorithm is very straightforward.\n"
   ]
  },
  {
   "cell_type": "markdown",
   "metadata": {
    "id": "ohdhf7fk3EA_"
   },
   "source": [
    "## Data Representation in Scikit-Learn\n",
    "\n",
    "- The information can be thought of as a two-dimensional numerical array, the features matrix. \n",
    "- By convention, this matrix is stored in a variable named X. \n",
    "- The features matrix is assumed to be two-dimensional, with shape [n_samples, n_features], and is most often contained in a NumPy array or a Pandas DataFrame.\n",
    "    - The samples (i.e., rows) always refer to the individual objects described by the dataset.\n",
    "    - The features (i.e., columns) refer to the distinct observations that describe each sample in a quantitative manner.\n",
    "\n",
    "## Target array\n",
    "- The target array, called y,  is usually one dimensional, with length n_samples, and is generally contained in a NumPy array or Pandas Series. \n",
    "- The target array may have continuous numerical values, or discrete classes/labels. \n",
    "- The target array is that it is usually the quantity we want to predict from the data.\n",
    "\n",
    "\n"
   ]
  },
  {
   "cell_type": "markdown",
   "metadata": {
    "id": "yQ9bBncr3EA_"
   },
   "source": [
    "## Scikit-Learn’s Estimator API\n",
    "\n",
    "### Estimators objects\n",
    "- An estimator is any object that learns from data\n",
    "    - it may be a classification, regression or clustering algorithm or a transformer that extracts/filters useful features from raw data.\n",
    "- Fitting data(dati appropriati): the main API implemented by scikit-learn is that of the estimator.;\n",
    "    - All estimator objects expose a fit method that takes a dataset (usually a 2-d array):\n",
    "    \n",
    "<tt> >>> estimator.fit(data)</tt>\n",
    "\n",
    "- Estimator parameters: All the parameters of an estimator can be set when it is instantiated or by modifying the corresponding attribute:\n",
    "\n",
    "<tt> >>> estimator = Estimator(param1=1, param2=2) </tt>\n",
    "- Estimated parameters: When data is fitted with an estimator, parameters are estimated from the data at hand( i parametri sono stimati dai dati a disposizione). All the estimated parameters are attributes of the estimator object ending by an underscore:\n",
    "    \n",
    "    <tt> >>> estimator.estimated_param_ </tt>\n",
    "    \n",
    "    \n",
    "- All supervised estimators in scikit-learn implement a <tt>fit(X, y)</tt> method to fit the model and a <tt>predict(X)</tt> method that, given unlabeled observations <tt>X</tt>( osservazioni senza etichetta), returns the predicted labels <tt>y</tt>."
   ]
  },
  {
   "cell_type": "code",
   "metadata": {
    "id": "brZg8fUadtKK",
    "executionInfo": {
     "status": "ok",
     "timestamp": 1679844909544,
     "user_tz": -120,
     "elapsed": 1107,
     "user": {
      "displayName": "Francesco GUERRA",
      "userId": "03589851697809460716"
     }
    },
    "ExecuteTime": {
     "start_time": "2023-04-26T18:43:02.411687Z",
     "end_time": "2023-04-26T18:43:04.606016Z"
    }
   },
   "source": [
    "%matplotlib inline\n",
    "import matplotlib.pyplot as plt\n",
    "import numpy as np\n",
    "import pandas as pd"
   ],
   "execution_count": null,
   "outputs": []
  },
  {
   "cell_type": "code",
   "metadata": {
    "id": "iQNYAjEedtKO",
    "executionInfo": {
     "status": "ok",
     "timestamp": 1679844911534,
     "user_tz": -120,
     "elapsed": 1992,
     "user": {
      "displayName": "Francesco GUERRA",
      "userId": "03589851697809460716"
     }
    },
    "ExecuteTime": {
     "start_time": "2023-04-26T18:51:33.616064Z",
     "end_time": "2023-04-26T18:51:35.367952Z"
    }
   },
   "source": [
    "import sklearn as sk"
   ],
   "execution_count": null,
   "outputs": []
  },
  {
   "cell_type": "code",
   "metadata": {
    "id": "78kZ5468dtKQ",
    "executionInfo": {
     "status": "ok",
     "timestamp": 1679844911534,
     "user_tz": -120,
     "elapsed": 30,
     "user": {
      "displayName": "Francesco GUERRA",
      "userId": "03589851697809460716"
     }
    },
    "ExecuteTime": {
     "start_time": "2023-04-26T18:51:39.010888Z",
     "end_time": "2023-04-26T18:51:39.225084Z"
    }
   },
   "source": [
    "from sklearn import datasets"
   ],
   "execution_count": null,
   "outputs": []
  },
  {
   "cell_type": "code",
   "metadata": {
    "id": "POW42UFeuoth",
    "colab": {
     "base_uri": "https://localhost:8080/"
    },
    "executionInfo": {
     "status": "ok",
     "timestamp": 1679844911534,
     "user_tz": -120,
     "elapsed": 29,
     "user": {
      "displayName": "Francesco GUERRA",
      "userId": "03589851697809460716"
     }
    },
    "outputId": "5a812dc6-2ccf-4df8-d84b-75103d21be0a",
    "ExecuteTime": {
     "start_time": "2023-04-26T18:51:47.436262Z",
     "end_time": "2023-04-26T18:51:47.449545Z"
    }
   },
   "source": [
    "datasets.load_iris()"
   ],
   "execution_count": 4,
   "outputs": [
    {
     "data": {
      "text/plain": "{'data': array([[5.1, 3.5, 1.4, 0.2],\n        [4.9, 3. , 1.4, 0.2],\n        [4.7, 3.2, 1.3, 0.2],\n        [4.6, 3.1, 1.5, 0.2],\n        [5. , 3.6, 1.4, 0.2],\n        [5.4, 3.9, 1.7, 0.4],\n        [4.6, 3.4, 1.4, 0.3],\n        [5. , 3.4, 1.5, 0.2],\n        [4.4, 2.9, 1.4, 0.2],\n        [4.9, 3.1, 1.5, 0.1],\n        [5.4, 3.7, 1.5, 0.2],\n        [4.8, 3.4, 1.6, 0.2],\n        [4.8, 3. , 1.4, 0.1],\n        [4.3, 3. , 1.1, 0.1],\n        [5.8, 4. , 1.2, 0.2],\n        [5.7, 4.4, 1.5, 0.4],\n        [5.4, 3.9, 1.3, 0.4],\n        [5.1, 3.5, 1.4, 0.3],\n        [5.7, 3.8, 1.7, 0.3],\n        [5.1, 3.8, 1.5, 0.3],\n        [5.4, 3.4, 1.7, 0.2],\n        [5.1, 3.7, 1.5, 0.4],\n        [4.6, 3.6, 1. , 0.2],\n        [5.1, 3.3, 1.7, 0.5],\n        [4.8, 3.4, 1.9, 0.2],\n        [5. , 3. , 1.6, 0.2],\n        [5. , 3.4, 1.6, 0.4],\n        [5.2, 3.5, 1.5, 0.2],\n        [5.2, 3.4, 1.4, 0.2],\n        [4.7, 3.2, 1.6, 0.2],\n        [4.8, 3.1, 1.6, 0.2],\n        [5.4, 3.4, 1.5, 0.4],\n        [5.2, 4.1, 1.5, 0.1],\n        [5.5, 4.2, 1.4, 0.2],\n        [4.9, 3.1, 1.5, 0.2],\n        [5. , 3.2, 1.2, 0.2],\n        [5.5, 3.5, 1.3, 0.2],\n        [4.9, 3.6, 1.4, 0.1],\n        [4.4, 3. , 1.3, 0.2],\n        [5.1, 3.4, 1.5, 0.2],\n        [5. , 3.5, 1.3, 0.3],\n        [4.5, 2.3, 1.3, 0.3],\n        [4.4, 3.2, 1.3, 0.2],\n        [5. , 3.5, 1.6, 0.6],\n        [5.1, 3.8, 1.9, 0.4],\n        [4.8, 3. , 1.4, 0.3],\n        [5.1, 3.8, 1.6, 0.2],\n        [4.6, 3.2, 1.4, 0.2],\n        [5.3, 3.7, 1.5, 0.2],\n        [5. , 3.3, 1.4, 0.2],\n        [7. , 3.2, 4.7, 1.4],\n        [6.4, 3.2, 4.5, 1.5],\n        [6.9, 3.1, 4.9, 1.5],\n        [5.5, 2.3, 4. , 1.3],\n        [6.5, 2.8, 4.6, 1.5],\n        [5.7, 2.8, 4.5, 1.3],\n        [6.3, 3.3, 4.7, 1.6],\n        [4.9, 2.4, 3.3, 1. ],\n        [6.6, 2.9, 4.6, 1.3],\n        [5.2, 2.7, 3.9, 1.4],\n        [5. , 2. , 3.5, 1. ],\n        [5.9, 3. , 4.2, 1.5],\n        [6. , 2.2, 4. , 1. ],\n        [6.1, 2.9, 4.7, 1.4],\n        [5.6, 2.9, 3.6, 1.3],\n        [6.7, 3.1, 4.4, 1.4],\n        [5.6, 3. , 4.5, 1.5],\n        [5.8, 2.7, 4.1, 1. ],\n        [6.2, 2.2, 4.5, 1.5],\n        [5.6, 2.5, 3.9, 1.1],\n        [5.9, 3.2, 4.8, 1.8],\n        [6.1, 2.8, 4. , 1.3],\n        [6.3, 2.5, 4.9, 1.5],\n        [6.1, 2.8, 4.7, 1.2],\n        [6.4, 2.9, 4.3, 1.3],\n        [6.6, 3. , 4.4, 1.4],\n        [6.8, 2.8, 4.8, 1.4],\n        [6.7, 3. , 5. , 1.7],\n        [6. , 2.9, 4.5, 1.5],\n        [5.7, 2.6, 3.5, 1. ],\n        [5.5, 2.4, 3.8, 1.1],\n        [5.5, 2.4, 3.7, 1. ],\n        [5.8, 2.7, 3.9, 1.2],\n        [6. , 2.7, 5.1, 1.6],\n        [5.4, 3. , 4.5, 1.5],\n        [6. , 3.4, 4.5, 1.6],\n        [6.7, 3.1, 4.7, 1.5],\n        [6.3, 2.3, 4.4, 1.3],\n        [5.6, 3. , 4.1, 1.3],\n        [5.5, 2.5, 4. , 1.3],\n        [5.5, 2.6, 4.4, 1.2],\n        [6.1, 3. , 4.6, 1.4],\n        [5.8, 2.6, 4. , 1.2],\n        [5. , 2.3, 3.3, 1. ],\n        [5.6, 2.7, 4.2, 1.3],\n        [5.7, 3. , 4.2, 1.2],\n        [5.7, 2.9, 4.2, 1.3],\n        [6.2, 2.9, 4.3, 1.3],\n        [5.1, 2.5, 3. , 1.1],\n        [5.7, 2.8, 4.1, 1.3],\n        [6.3, 3.3, 6. , 2.5],\n        [5.8, 2.7, 5.1, 1.9],\n        [7.1, 3. , 5.9, 2.1],\n        [6.3, 2.9, 5.6, 1.8],\n        [6.5, 3. , 5.8, 2.2],\n        [7.6, 3. , 6.6, 2.1],\n        [4.9, 2.5, 4.5, 1.7],\n        [7.3, 2.9, 6.3, 1.8],\n        [6.7, 2.5, 5.8, 1.8],\n        [7.2, 3.6, 6.1, 2.5],\n        [6.5, 3.2, 5.1, 2. ],\n        [6.4, 2.7, 5.3, 1.9],\n        [6.8, 3. , 5.5, 2.1],\n        [5.7, 2.5, 5. , 2. ],\n        [5.8, 2.8, 5.1, 2.4],\n        [6.4, 3.2, 5.3, 2.3],\n        [6.5, 3. , 5.5, 1.8],\n        [7.7, 3.8, 6.7, 2.2],\n        [7.7, 2.6, 6.9, 2.3],\n        [6. , 2.2, 5. , 1.5],\n        [6.9, 3.2, 5.7, 2.3],\n        [5.6, 2.8, 4.9, 2. ],\n        [7.7, 2.8, 6.7, 2. ],\n        [6.3, 2.7, 4.9, 1.8],\n        [6.7, 3.3, 5.7, 2.1],\n        [7.2, 3.2, 6. , 1.8],\n        [6.2, 2.8, 4.8, 1.8],\n        [6.1, 3. , 4.9, 1.8],\n        [6.4, 2.8, 5.6, 2.1],\n        [7.2, 3. , 5.8, 1.6],\n        [7.4, 2.8, 6.1, 1.9],\n        [7.9, 3.8, 6.4, 2. ],\n        [6.4, 2.8, 5.6, 2.2],\n        [6.3, 2.8, 5.1, 1.5],\n        [6.1, 2.6, 5.6, 1.4],\n        [7.7, 3. , 6.1, 2.3],\n        [6.3, 3.4, 5.6, 2.4],\n        [6.4, 3.1, 5.5, 1.8],\n        [6. , 3. , 4.8, 1.8],\n        [6.9, 3.1, 5.4, 2.1],\n        [6.7, 3.1, 5.6, 2.4],\n        [6.9, 3.1, 5.1, 2.3],\n        [5.8, 2.7, 5.1, 1.9],\n        [6.8, 3.2, 5.9, 2.3],\n        [6.7, 3.3, 5.7, 2.5],\n        [6.7, 3. , 5.2, 2.3],\n        [6.3, 2.5, 5. , 1.9],\n        [6.5, 3. , 5.2, 2. ],\n        [6.2, 3.4, 5.4, 2.3],\n        [5.9, 3. , 5.1, 1.8]]),\n 'target': array([0, 0, 0, 0, 0, 0, 0, 0, 0, 0, 0, 0, 0, 0, 0, 0, 0, 0, 0, 0, 0, 0,\n        0, 0, 0, 0, 0, 0, 0, 0, 0, 0, 0, 0, 0, 0, 0, 0, 0, 0, 0, 0, 0, 0,\n        0, 0, 0, 0, 0, 0, 1, 1, 1, 1, 1, 1, 1, 1, 1, 1, 1, 1, 1, 1, 1, 1,\n        1, 1, 1, 1, 1, 1, 1, 1, 1, 1, 1, 1, 1, 1, 1, 1, 1, 1, 1, 1, 1, 1,\n        1, 1, 1, 1, 1, 1, 1, 1, 1, 1, 1, 1, 2, 2, 2, 2, 2, 2, 2, 2, 2, 2,\n        2, 2, 2, 2, 2, 2, 2, 2, 2, 2, 2, 2, 2, 2, 2, 2, 2, 2, 2, 2, 2, 2,\n        2, 2, 2, 2, 2, 2, 2, 2, 2, 2, 2, 2, 2, 2, 2, 2, 2, 2]),\n 'frame': None,\n 'target_names': array(['setosa', 'versicolor', 'virginica'], dtype='<U10'),\n 'DESCR': '.. _iris_dataset:\\n\\nIris plants dataset\\n--------------------\\n\\n**Data Set Characteristics:**\\n\\n    :Number of Instances: 150 (50 in each of three classes)\\n    :Number of Attributes: 4 numeric, predictive attributes and the class\\n    :Attribute Information:\\n        - sepal length in cm\\n        - sepal width in cm\\n        - petal length in cm\\n        - petal width in cm\\n        - class:\\n                - Iris-Setosa\\n                - Iris-Versicolour\\n                - Iris-Virginica\\n                \\n    :Summary Statistics:\\n\\n    ============== ==== ==== ======= ===== ====================\\n                    Min  Max   Mean    SD   Class Correlation\\n    ============== ==== ==== ======= ===== ====================\\n    sepal length:   4.3  7.9   5.84   0.83    0.7826\\n    sepal width:    2.0  4.4   3.05   0.43   -0.4194\\n    petal length:   1.0  6.9   3.76   1.76    0.9490  (high!)\\n    petal width:    0.1  2.5   1.20   0.76    0.9565  (high!)\\n    ============== ==== ==== ======= ===== ====================\\n\\n    :Missing Attribute Values: None\\n    :Class Distribution: 33.3% for each of 3 classes.\\n    :Creator: R.A. Fisher\\n    :Donor: Michael Marshall (MARSHALL%PLU@io.arc.nasa.gov)\\n    :Date: July, 1988\\n\\nThe famous Iris database, first used by Sir R.A. Fisher. The dataset is taken\\nfrom Fisher\\'s paper. Note that it\\'s the same as in R, but not as in the UCI\\nMachine Learning Repository, which has two wrong data points.\\n\\nThis is perhaps the best known database to be found in the\\npattern recognition literature.  Fisher\\'s paper is a classic in the field and\\nis referenced frequently to this day.  (See Duda & Hart, for example.)  The\\ndata set contains 3 classes of 50 instances each, where each class refers to a\\ntype of iris plant.  One class is linearly separable from the other 2; the\\nlatter are NOT linearly separable from each other.\\n\\n.. topic:: References\\n\\n   - Fisher, R.A. \"The use of multiple measurements in taxonomic problems\"\\n     Annual Eugenics, 7, Part II, 179-188 (1936); also in \"Contributions to\\n     Mathematical Statistics\" (John Wiley, NY, 1950).\\n   - Duda, R.O., & Hart, P.E. (1973) Pattern Classification and Scene Analysis.\\n     (Q327.D83) John Wiley & Sons.  ISBN 0-471-22361-1.  See page 218.\\n   - Dasarathy, B.V. (1980) \"Nosing Around the Neighborhood: A New System\\n     Structure and Classification Rule for Recognition in Partially Exposed\\n     Environments\".  IEEE Transactions on Pattern Analysis and Machine\\n     Intelligence, Vol. PAMI-2, No. 1, 67-71.\\n   - Gates, G.W. (1972) \"The Reduced Nearest Neighbor Rule\".  IEEE Transactions\\n     on Information Theory, May 1972, 431-433.\\n   - See also: 1988 MLC Proceedings, 54-64.  Cheeseman et al\"s AUTOCLASS II\\n     conceptual clustering system finds 3 classes in the data.\\n   - Many, many more ...',\n 'feature_names': ['sepal length (cm)',\n  'sepal width (cm)',\n  'petal length (cm)',\n  'petal width (cm)'],\n 'filename': 'iris.csv',\n 'data_module': 'sklearn.datasets.data'}"
     },
     "execution_count": 4,
     "metadata": {},
     "output_type": "execute_result"
    }
   ]
  },
  {
   "cell_type": "code",
   "metadata": {
    "id": "Dk4ESjyQG7VI",
    "executionInfo": {
     "status": "ok",
     "timestamp": 1679844911535,
     "user_tz": -120,
     "elapsed": 27,
     "user": {
      "displayName": "Francesco GUERRA",
      "userId": "03589851697809460716"
     }
    },
    "ExecuteTime": {
     "start_time": "2023-04-26T18:53:09.486209Z",
     "end_time": "2023-04-26T18:53:09.489819Z"
    }
   },
   "source": [
    "iris = datasets.load_iris()"
   ],
   "execution_count": 5,
   "outputs": []
  },
  {
   "cell_type": "code",
   "metadata": {
    "id": "fsuXcMrgdtKV",
    "colab": {
     "base_uri": "https://localhost:8080/"
    },
    "executionInfo": {
     "status": "ok",
     "timestamp": 1679844911535,
     "user_tz": -120,
     "elapsed": 27,
     "user": {
      "displayName": "Francesco GUERRA",
      "userId": "03589851697809460716"
     }
    },
    "outputId": "b6a0e619-9ca9-4671-a670-457a6b0c28e3",
    "ExecuteTime": {
     "start_time": "2023-04-26T18:53:11.611059Z",
     "end_time": "2023-04-26T18:53:11.616774Z"
    }
   },
   "source": [
    "iris.keys() # si tratta quindi di un dict, é questi sono le chiavi del dict"
   ],
   "execution_count": 6,
   "outputs": [
    {
     "data": {
      "text/plain": "dict_keys(['data', 'target', 'frame', 'target_names', 'DESCR', 'feature_names', 'filename', 'data_module'])"
     },
     "execution_count": 6,
     "metadata": {},
     "output_type": "execute_result"
    }
   ]
  },
  {
   "cell_type": "code",
   "metadata": {
    "id": "H4SeccsJHWjL",
    "colab": {
     "base_uri": "https://localhost:8080/"
    },
    "executionInfo": {
     "status": "ok",
     "timestamp": 1679844911535,
     "user_tz": -120,
     "elapsed": 21,
     "user": {
      "displayName": "Francesco GUERRA",
      "userId": "03589851697809460716"
     }
    },
    "outputId": "24335186-71e1-467c-8c8a-2f0f6b4032af",
    "ExecuteTime": {
     "start_time": "2023-04-26T18:55:16.748472Z",
     "end_time": "2023-04-26T18:55:16.752125Z"
    }
   },
   "source": [
    "iris['target_names']"
   ],
   "execution_count": 7,
   "outputs": [
    {
     "data": {
      "text/plain": "array(['setosa', 'versicolor', 'virginica'], dtype='<U10')"
     },
     "execution_count": 7,
     "metadata": {},
     "output_type": "execute_result"
    }
   ]
  },
  {
   "cell_type": "code",
   "metadata": {
    "id": "ycQp-duPHe8d",
    "colab": {
     "base_uri": "https://localhost:8080/"
    },
    "executionInfo": {
     "status": "ok",
     "timestamp": 1679844911536,
     "user_tz": -120,
     "elapsed": 20,
     "user": {
      "displayName": "Francesco GUERRA",
      "userId": "03589851697809460716"
     }
    },
    "outputId": "01fd9f5d-4e34-4458-8f79-6e2f3b03e78a",
    "ExecuteTime": {
     "start_time": "2023-04-26T18:55:49.750450Z",
     "end_time": "2023-04-26T18:55:49.754885Z"
    }
   },
   "source": [
    "iris['feature_names']"
   ],
   "execution_count": 8,
   "outputs": [
    {
     "data": {
      "text/plain": "['sepal length (cm)',\n 'sepal width (cm)',\n 'petal length (cm)',\n 'petal width (cm)']"
     },
     "execution_count": 8,
     "metadata": {},
     "output_type": "execute_result"
    }
   ]
  },
  {
   "cell_type": "code",
   "metadata": {
    "id": "jWxqUi2WdtKZ",
    "executionInfo": {
     "status": "ok",
     "timestamp": 1679844911536,
     "user_tz": -120,
     "elapsed": 17,
     "user": {
      "displayName": "Francesco GUERRA",
      "userId": "03589851697809460716"
     }
    },
    "ExecuteTime": {
     "start_time": "2023-04-26T18:56:25.481585Z",
     "end_time": "2023-04-26T18:56:25.486326Z"
    }
   },
   "source": [
    "X = iris.data # come scrivere X  = iris['data']"
   ],
   "execution_count": 9,
   "outputs": []
  },
  {
   "cell_type": "code",
   "metadata": {
    "id": "-mZmNB09vRrU",
    "colab": {
     "base_uri": "https://localhost:8080/"
    },
    "executionInfo": {
     "status": "ok",
     "timestamp": 1679844911536,
     "user_tz": -120,
     "elapsed": 16,
     "user": {
      "displayName": "Francesco GUERRA",
      "userId": "03589851697809460716"
     }
    },
    "outputId": "1c8e5f74-d2dc-4c4c-bbd0-c6b352c75bcb",
    "ExecuteTime": {
     "start_time": "2023-04-26T18:56:27.023102Z",
     "end_time": "2023-04-26T18:56:27.025648Z"
    }
   },
   "source": [
    "X"
   ],
   "execution_count": 10,
   "outputs": [
    {
     "data": {
      "text/plain": "array([[5.1, 3.5, 1.4, 0.2],\n       [4.9, 3. , 1.4, 0.2],\n       [4.7, 3.2, 1.3, 0.2],\n       [4.6, 3.1, 1.5, 0.2],\n       [5. , 3.6, 1.4, 0.2],\n       [5.4, 3.9, 1.7, 0.4],\n       [4.6, 3.4, 1.4, 0.3],\n       [5. , 3.4, 1.5, 0.2],\n       [4.4, 2.9, 1.4, 0.2],\n       [4.9, 3.1, 1.5, 0.1],\n       [5.4, 3.7, 1.5, 0.2],\n       [4.8, 3.4, 1.6, 0.2],\n       [4.8, 3. , 1.4, 0.1],\n       [4.3, 3. , 1.1, 0.1],\n       [5.8, 4. , 1.2, 0.2],\n       [5.7, 4.4, 1.5, 0.4],\n       [5.4, 3.9, 1.3, 0.4],\n       [5.1, 3.5, 1.4, 0.3],\n       [5.7, 3.8, 1.7, 0.3],\n       [5.1, 3.8, 1.5, 0.3],\n       [5.4, 3.4, 1.7, 0.2],\n       [5.1, 3.7, 1.5, 0.4],\n       [4.6, 3.6, 1. , 0.2],\n       [5.1, 3.3, 1.7, 0.5],\n       [4.8, 3.4, 1.9, 0.2],\n       [5. , 3. , 1.6, 0.2],\n       [5. , 3.4, 1.6, 0.4],\n       [5.2, 3.5, 1.5, 0.2],\n       [5.2, 3.4, 1.4, 0.2],\n       [4.7, 3.2, 1.6, 0.2],\n       [4.8, 3.1, 1.6, 0.2],\n       [5.4, 3.4, 1.5, 0.4],\n       [5.2, 4.1, 1.5, 0.1],\n       [5.5, 4.2, 1.4, 0.2],\n       [4.9, 3.1, 1.5, 0.2],\n       [5. , 3.2, 1.2, 0.2],\n       [5.5, 3.5, 1.3, 0.2],\n       [4.9, 3.6, 1.4, 0.1],\n       [4.4, 3. , 1.3, 0.2],\n       [5.1, 3.4, 1.5, 0.2],\n       [5. , 3.5, 1.3, 0.3],\n       [4.5, 2.3, 1.3, 0.3],\n       [4.4, 3.2, 1.3, 0.2],\n       [5. , 3.5, 1.6, 0.6],\n       [5.1, 3.8, 1.9, 0.4],\n       [4.8, 3. , 1.4, 0.3],\n       [5.1, 3.8, 1.6, 0.2],\n       [4.6, 3.2, 1.4, 0.2],\n       [5.3, 3.7, 1.5, 0.2],\n       [5. , 3.3, 1.4, 0.2],\n       [7. , 3.2, 4.7, 1.4],\n       [6.4, 3.2, 4.5, 1.5],\n       [6.9, 3.1, 4.9, 1.5],\n       [5.5, 2.3, 4. , 1.3],\n       [6.5, 2.8, 4.6, 1.5],\n       [5.7, 2.8, 4.5, 1.3],\n       [6.3, 3.3, 4.7, 1.6],\n       [4.9, 2.4, 3.3, 1. ],\n       [6.6, 2.9, 4.6, 1.3],\n       [5.2, 2.7, 3.9, 1.4],\n       [5. , 2. , 3.5, 1. ],\n       [5.9, 3. , 4.2, 1.5],\n       [6. , 2.2, 4. , 1. ],\n       [6.1, 2.9, 4.7, 1.4],\n       [5.6, 2.9, 3.6, 1.3],\n       [6.7, 3.1, 4.4, 1.4],\n       [5.6, 3. , 4.5, 1.5],\n       [5.8, 2.7, 4.1, 1. ],\n       [6.2, 2.2, 4.5, 1.5],\n       [5.6, 2.5, 3.9, 1.1],\n       [5.9, 3.2, 4.8, 1.8],\n       [6.1, 2.8, 4. , 1.3],\n       [6.3, 2.5, 4.9, 1.5],\n       [6.1, 2.8, 4.7, 1.2],\n       [6.4, 2.9, 4.3, 1.3],\n       [6.6, 3. , 4.4, 1.4],\n       [6.8, 2.8, 4.8, 1.4],\n       [6.7, 3. , 5. , 1.7],\n       [6. , 2.9, 4.5, 1.5],\n       [5.7, 2.6, 3.5, 1. ],\n       [5.5, 2.4, 3.8, 1.1],\n       [5.5, 2.4, 3.7, 1. ],\n       [5.8, 2.7, 3.9, 1.2],\n       [6. , 2.7, 5.1, 1.6],\n       [5.4, 3. , 4.5, 1.5],\n       [6. , 3.4, 4.5, 1.6],\n       [6.7, 3.1, 4.7, 1.5],\n       [6.3, 2.3, 4.4, 1.3],\n       [5.6, 3. , 4.1, 1.3],\n       [5.5, 2.5, 4. , 1.3],\n       [5.5, 2.6, 4.4, 1.2],\n       [6.1, 3. , 4.6, 1.4],\n       [5.8, 2.6, 4. , 1.2],\n       [5. , 2.3, 3.3, 1. ],\n       [5.6, 2.7, 4.2, 1.3],\n       [5.7, 3. , 4.2, 1.2],\n       [5.7, 2.9, 4.2, 1.3],\n       [6.2, 2.9, 4.3, 1.3],\n       [5.1, 2.5, 3. , 1.1],\n       [5.7, 2.8, 4.1, 1.3],\n       [6.3, 3.3, 6. , 2.5],\n       [5.8, 2.7, 5.1, 1.9],\n       [7.1, 3. , 5.9, 2.1],\n       [6.3, 2.9, 5.6, 1.8],\n       [6.5, 3. , 5.8, 2.2],\n       [7.6, 3. , 6.6, 2.1],\n       [4.9, 2.5, 4.5, 1.7],\n       [7.3, 2.9, 6.3, 1.8],\n       [6.7, 2.5, 5.8, 1.8],\n       [7.2, 3.6, 6.1, 2.5],\n       [6.5, 3.2, 5.1, 2. ],\n       [6.4, 2.7, 5.3, 1.9],\n       [6.8, 3. , 5.5, 2.1],\n       [5.7, 2.5, 5. , 2. ],\n       [5.8, 2.8, 5.1, 2.4],\n       [6.4, 3.2, 5.3, 2.3],\n       [6.5, 3. , 5.5, 1.8],\n       [7.7, 3.8, 6.7, 2.2],\n       [7.7, 2.6, 6.9, 2.3],\n       [6. , 2.2, 5. , 1.5],\n       [6.9, 3.2, 5.7, 2.3],\n       [5.6, 2.8, 4.9, 2. ],\n       [7.7, 2.8, 6.7, 2. ],\n       [6.3, 2.7, 4.9, 1.8],\n       [6.7, 3.3, 5.7, 2.1],\n       [7.2, 3.2, 6. , 1.8],\n       [6.2, 2.8, 4.8, 1.8],\n       [6.1, 3. , 4.9, 1.8],\n       [6.4, 2.8, 5.6, 2.1],\n       [7.2, 3. , 5.8, 1.6],\n       [7.4, 2.8, 6.1, 1.9],\n       [7.9, 3.8, 6.4, 2. ],\n       [6.4, 2.8, 5.6, 2.2],\n       [6.3, 2.8, 5.1, 1.5],\n       [6.1, 2.6, 5.6, 1.4],\n       [7.7, 3. , 6.1, 2.3],\n       [6.3, 3.4, 5.6, 2.4],\n       [6.4, 3.1, 5.5, 1.8],\n       [6. , 3. , 4.8, 1.8],\n       [6.9, 3.1, 5.4, 2.1],\n       [6.7, 3.1, 5.6, 2.4],\n       [6.9, 3.1, 5.1, 2.3],\n       [5.8, 2.7, 5.1, 1.9],\n       [6.8, 3.2, 5.9, 2.3],\n       [6.7, 3.3, 5.7, 2.5],\n       [6.7, 3. , 5.2, 2.3],\n       [6.3, 2.5, 5. , 1.9],\n       [6.5, 3. , 5.2, 2. ],\n       [6.2, 3.4, 5.4, 2.3],\n       [5.9, 3. , 5.1, 1.8]])"
     },
     "execution_count": 10,
     "metadata": {},
     "output_type": "execute_result"
    }
   ]
  },
  {
   "cell_type": "code",
   "metadata": {
    "id": "x3W-6od4dtKc",
    "executionInfo": {
     "status": "ok",
     "timestamp": 1679844911536,
     "user_tz": -120,
     "elapsed": 15,
     "user": {
      "displayName": "Francesco GUERRA",
      "userId": "03589851697809460716"
     }
    },
    "ExecuteTime": {
     "start_time": "2023-04-26T18:58:01.218009Z",
     "end_time": "2023-04-26T18:58:01.221838Z"
    }
   },
   "source": [
    "y = iris.target"
   ],
   "execution_count": 13,
   "outputs": []
  },
  {
   "cell_type": "code",
   "metadata": {
    "id": "uaLNIdWOdtKe",
    "colab": {
     "base_uri": "https://localhost:8080/"
    },
    "executionInfo": {
     "status": "ok",
     "timestamp": 1679844911537,
     "user_tz": -120,
     "elapsed": 15,
     "user": {
      "displayName": "Francesco GUERRA",
      "userId": "03589851697809460716"
     }
    },
    "outputId": "56746067-13c4-4d99-fd5b-97089f25a43d",
    "ExecuteTime": {
     "start_time": "2023-04-26T18:58:04.850174Z",
     "end_time": "2023-04-26T18:58:04.854859Z"
    }
   },
   "source": [
    "y # variabile da predire"
   ],
   "execution_count": 14,
   "outputs": [
    {
     "data": {
      "text/plain": "array([0, 0, 0, 0, 0, 0, 0, 0, 0, 0, 0, 0, 0, 0, 0, 0, 0, 0, 0, 0, 0, 0,\n       0, 0, 0, 0, 0, 0, 0, 0, 0, 0, 0, 0, 0, 0, 0, 0, 0, 0, 0, 0, 0, 0,\n       0, 0, 0, 0, 0, 0, 1, 1, 1, 1, 1, 1, 1, 1, 1, 1, 1, 1, 1, 1, 1, 1,\n       1, 1, 1, 1, 1, 1, 1, 1, 1, 1, 1, 1, 1, 1, 1, 1, 1, 1, 1, 1, 1, 1,\n       1, 1, 1, 1, 1, 1, 1, 1, 1, 1, 1, 1, 2, 2, 2, 2, 2, 2, 2, 2, 2, 2,\n       2, 2, 2, 2, 2, 2, 2, 2, 2, 2, 2, 2, 2, 2, 2, 2, 2, 2, 2, 2, 2, 2,\n       2, 2, 2, 2, 2, 2, 2, 2, 2, 2, 2, 2, 2, 2, 2, 2, 2, 2])"
     },
     "execution_count": 14,
     "metadata": {},
     "output_type": "execute_result"
    }
   ]
  },
  {
   "cell_type": "code",
   "metadata": {
    "id": "dfUgh_1DvdUx",
    "colab": {
     "base_uri": "https://localhost:8080/"
    },
    "executionInfo": {
     "status": "ok",
     "timestamp": 1679844911537,
     "user_tz": -120,
     "elapsed": 12,
     "user": {
      "displayName": "Francesco GUERRA",
      "userId": "03589851697809460716"
     }
    },
    "outputId": "f76d3878-48e4-4e77-ac52-40f6259ea495",
    "ExecuteTime": {
     "start_time": "2023-04-26T18:58:22.271953Z",
     "end_time": "2023-04-26T18:58:22.276760Z"
    }
   },
   "source": [
    "X[0,:] # guardare la prima riga"
   ],
   "execution_count": 15,
   "outputs": [
    {
     "data": {
      "text/plain": "array([5.1, 3.5, 1.4, 0.2])"
     },
     "execution_count": 15,
     "metadata": {},
     "output_type": "execute_result"
    }
   ]
  },
  {
   "cell_type": "code",
   "metadata": {
    "id": "UioKed3wvfZ3",
    "colab": {
     "base_uri": "https://localhost:8080/"
    },
    "executionInfo": {
     "status": "ok",
     "timestamp": 1679844911537,
     "user_tz": -120,
     "elapsed": 10,
     "user": {
      "displayName": "Francesco GUERRA",
      "userId": "03589851697809460716"
     }
    },
    "outputId": "b98fa448-b60f-40b7-8e1f-e0880193d230",
    "ExecuteTime": {
     "start_time": "2023-04-26T18:58:35.641825Z",
     "end_time": "2023-04-26T18:58:35.647738Z"
    }
   },
   "source": [
    "y[0] # prima predizione"
   ],
   "execution_count": 16,
   "outputs": [
    {
     "data": {
      "text/plain": "0"
     },
     "execution_count": 16,
     "metadata": {},
     "output_type": "execute_result"
    }
   ]
  },
  {
   "cell_type": "markdown",
   "metadata": {
    "id": "B_478bQGRjv9"
   },
   "source": [
    "### KNeighborsClassifier"
   ]
  },
  {
   "cell_type": "code",
   "metadata": {
    "id": "HZHr-T4ZdtKk",
    "executionInfo": {
     "status": "ok",
     "timestamp": 1679844911925,
     "user_tz": -120,
     "elapsed": 397,
     "user": {
      "displayName": "Francesco GUERRA",
      "userId": "03589851697809460716"
     }
    },
    "ExecuteTime": {
     "start_time": "2023-04-26T18:58:50.377132Z",
     "end_time": "2023-04-26T18:58:50.757192Z"
    }
   },
   "source": [
    "from sklearn.neighbors import KNeighborsClassifier"
   ],
   "execution_count": 17,
   "outputs": []
  },
  {
   "cell_type": "code",
   "metadata": {
    "id": "Y5OdZhiNdtKm",
    "executionInfo": {
     "status": "ok",
     "timestamp": 1679844911925,
     "user_tz": -120,
     "elapsed": 15,
     "user": {
      "displayName": "Francesco GUERRA",
      "userId": "03589851697809460716"
     }
    },
    "ExecuteTime": {
     "start_time": "2023-04-26T19:00:48.873324Z",
     "end_time": "2023-04-26T19:00:48.879693Z"
    }
   },
   "source": [
    "knn = KNeighborsClassifier() # di defalut k = 5"
   ],
   "execution_count": 18,
   "outputs": []
  },
  {
   "cell_type": "code",
   "metadata": {
    "id": "9Un_1BYE1klD",
    "colab": {
     "base_uri": "https://localhost:8080/",
     "height": 74
    },
    "executionInfo": {
     "status": "ok",
     "timestamp": 1679844911926,
     "user_tz": -120,
     "elapsed": 16,
     "user": {
      "displayName": "Francesco GUERRA",
      "userId": "03589851697809460716"
     }
    },
    "outputId": "7957ed39-8b40-4e33-e9e9-eb115d7f8aaf",
    "ExecuteTime": {
     "start_time": "2023-04-26T19:00:50.346509Z",
     "end_time": "2023-04-26T19:00:50.350593Z"
    }
   },
   "source": [
    "knn"
   ],
   "execution_count": 19,
   "outputs": [
    {
     "data": {
      "text/plain": "KNeighborsClassifier()"
     },
     "execution_count": 19,
     "metadata": {},
     "output_type": "execute_result"
    }
   ]
  },
  {
   "cell_type": "code",
   "metadata": {
    "id": "6l1FnFBsdtKo",
    "colab": {
     "base_uri": "https://localhost:8080/",
     "height": 74
    },
    "executionInfo": {
     "status": "ok",
     "timestamp": 1679844911926,
     "user_tz": -120,
     "elapsed": 15,
     "user": {
      "displayName": "Francesco GUERRA",
      "userId": "03589851697809460716"
     }
    },
    "outputId": "473732c6-afcf-41aa-cf94-c4fab48a8f8f",
    "ExecuteTime": {
     "start_time": "2023-04-26T19:01:36.442644Z",
     "end_time": "2023-04-26T19:01:36.449449Z"
    }
   },
   "source": [
    "knn.fit(X, y) # allena il modello con il vettore di dati  e l'etichetta target"
   ],
   "execution_count": 20,
   "outputs": [
    {
     "data": {
      "text/plain": "KNeighborsClassifier()"
     },
     "execution_count": 20,
     "metadata": {},
     "output_type": "execute_result"
    }
   ]
  },
  {
   "cell_type": "code",
   "metadata": {
    "id": "1pOKr8XrdtKr",
    "colab": {
     "base_uri": "https://localhost:8080/"
    },
    "executionInfo": {
     "status": "ok",
     "timestamp": 1679844911926,
     "user_tz": -120,
     "elapsed": 14,
     "user": {
      "displayName": "Francesco GUERRA",
      "userId": "03589851697809460716"
     }
    },
    "outputId": "ebb350f8-9e38-43d8-fac6-ecfd23a7faa8",
    "ExecuteTime": {
     "start_time": "2023-04-26T19:01:44.406422Z",
     "end_time": "2023-04-26T19:01:44.419732Z"
    }
   },
   "source": [
    "knn.predict(X) # faccio la predizione"
   ],
   "execution_count": 21,
   "outputs": [
    {
     "name": "stderr",
     "output_type": "stream",
     "text": [
      "/opt/anaconda3/lib/python3.9/site-packages/sklearn/neighbors/_classification.py:228: FutureWarning: Unlike other reduction functions (e.g. `skew`, `kurtosis`), the default behavior of `mode` typically preserves the axis it acts along. In SciPy 1.11.0, this behavior will change: the default value of `keepdims` will become False, the `axis` over which the statistic is taken will be eliminated, and the value None will no longer be accepted. Set `keepdims` to True or False to avoid this warning.\n",
      "  mode, _ = stats.mode(_y[neigh_ind, k], axis=1)\n"
     ]
    },
    {
     "data": {
      "text/plain": "array([0, 0, 0, 0, 0, 0, 0, 0, 0, 0, 0, 0, 0, 0, 0, 0, 0, 0, 0, 0, 0, 0,\n       0, 0, 0, 0, 0, 0, 0, 0, 0, 0, 0, 0, 0, 0, 0, 0, 0, 0, 0, 0, 0, 0,\n       0, 0, 0, 0, 0, 0, 1, 1, 1, 1, 1, 1, 1, 1, 1, 1, 1, 1, 1, 1, 1, 1,\n       1, 1, 1, 1, 2, 1, 2, 1, 1, 1, 1, 1, 1, 1, 1, 1, 1, 2, 1, 1, 1, 1,\n       1, 1, 1, 1, 1, 1, 1, 1, 1, 1, 1, 1, 2, 2, 2, 2, 2, 2, 1, 2, 2, 2,\n       2, 2, 2, 2, 2, 2, 2, 2, 2, 1, 2, 2, 2, 2, 2, 2, 2, 2, 2, 2, 2, 2,\n       2, 2, 2, 2, 2, 2, 2, 2, 2, 2, 2, 2, 2, 2, 2, 2, 2, 2])"
     },
     "execution_count": 21,
     "metadata": {},
     "output_type": "execute_result"
    }
   ]
  },
  {
   "cell_type": "code",
   "metadata": {
    "id": "qHbakkSK1_TU",
    "colab": {
     "base_uri": "https://localhost:8080/"
    },
    "executionInfo": {
     "status": "ok",
     "timestamp": 1679844911927,
     "user_tz": -120,
     "elapsed": 13,
     "user": {
      "displayName": "Francesco GUERRA",
      "userId": "03589851697809460716"
     }
    },
    "outputId": "f402345e-d829-42fb-c77e-0d2de87a3c04",
    "ExecuteTime": {
     "start_time": "2023-04-26T19:02:42.508754Z",
     "end_time": "2023-04-26T19:02:42.516867Z"
    }
   },
   "source": [
    "y != knn.predict(X) # valore booleano con un uno dove c'è la posizione sbagliata"
   ],
   "execution_count": 22,
   "outputs": [
    {
     "name": "stderr",
     "output_type": "stream",
     "text": [
      "/opt/anaconda3/lib/python3.9/site-packages/sklearn/neighbors/_classification.py:228: FutureWarning: Unlike other reduction functions (e.g. `skew`, `kurtosis`), the default behavior of `mode` typically preserves the axis it acts along. In SciPy 1.11.0, this behavior will change: the default value of `keepdims` will become False, the `axis` over which the statistic is taken will be eliminated, and the value None will no longer be accepted. Set `keepdims` to True or False to avoid this warning.\n",
      "  mode, _ = stats.mode(_y[neigh_ind, k], axis=1)\n"
     ]
    },
    {
     "data": {
      "text/plain": "array([False, False, False, False, False, False, False, False, False,\n       False, False, False, False, False, False, False, False, False,\n       False, False, False, False, False, False, False, False, False,\n       False, False, False, False, False, False, False, False, False,\n       False, False, False, False, False, False, False, False, False,\n       False, False, False, False, False, False, False, False, False,\n       False, False, False, False, False, False, False, False, False,\n       False, False, False, False, False, False, False,  True, False,\n        True, False, False, False, False, False, False, False, False,\n       False, False,  True, False, False, False, False, False, False,\n       False, False, False, False, False, False, False, False, False,\n       False, False, False, False, False, False, False,  True, False,\n       False, False, False, False, False, False, False, False, False,\n       False, False,  True, False, False, False, False, False, False,\n       False, False, False, False, False, False, False, False, False,\n       False, False, False, False, False, False, False, False, False,\n       False, False, False, False, False, False])"
     },
     "execution_count": 22,
     "metadata": {},
     "output_type": "execute_result"
    }
   ]
  },
  {
   "cell_type": "code",
   "metadata": {
    "id": "S99flO7V3EBk",
    "colab": {
     "base_uri": "https://localhost:8080/"
    },
    "executionInfo": {
     "status": "ok",
     "timestamp": 1679844911927,
     "user_tz": -120,
     "elapsed": 11,
     "user": {
      "displayName": "Francesco GUERRA",
      "userId": "03589851697809460716"
     }
    },
    "outputId": "c91f8d0c-fb4b-44f2-c8d6-76abaafdc462",
    "ExecuteTime": {
     "start_time": "2023-04-26T19:03:02.830689Z",
     "end_time": "2023-04-26T19:03:02.860450Z"
    }
   },
   "source": [
    "result = y == knn.predict(X) # vettore con  predizione coretta oppure sbaglita\n",
    "result"
   ],
   "execution_count": 23,
   "outputs": [
    {
     "name": "stderr",
     "output_type": "stream",
     "text": [
      "/opt/anaconda3/lib/python3.9/site-packages/sklearn/neighbors/_classification.py:228: FutureWarning: Unlike other reduction functions (e.g. `skew`, `kurtosis`), the default behavior of `mode` typically preserves the axis it acts along. In SciPy 1.11.0, this behavior will change: the default value of `keepdims` will become False, the `axis` over which the statistic is taken will be eliminated, and the value None will no longer be accepted. Set `keepdims` to True or False to avoid this warning.\n",
      "  mode, _ = stats.mode(_y[neigh_ind, k], axis=1)\n"
     ]
    },
    {
     "data": {
      "text/plain": "array([ True,  True,  True,  True,  True,  True,  True,  True,  True,\n        True,  True,  True,  True,  True,  True,  True,  True,  True,\n        True,  True,  True,  True,  True,  True,  True,  True,  True,\n        True,  True,  True,  True,  True,  True,  True,  True,  True,\n        True,  True,  True,  True,  True,  True,  True,  True,  True,\n        True,  True,  True,  True,  True,  True,  True,  True,  True,\n        True,  True,  True,  True,  True,  True,  True,  True,  True,\n        True,  True,  True,  True,  True,  True,  True, False,  True,\n       False,  True,  True,  True,  True,  True,  True,  True,  True,\n        True,  True, False,  True,  True,  True,  True,  True,  True,\n        True,  True,  True,  True,  True,  True,  True,  True,  True,\n        True,  True,  True,  True,  True,  True,  True, False,  True,\n        True,  True,  True,  True,  True,  True,  True,  True,  True,\n        True,  True, False,  True,  True,  True,  True,  True,  True,\n        True,  True,  True,  True,  True,  True,  True,  True,  True,\n        True,  True,  True,  True,  True,  True,  True,  True,  True,\n        True,  True,  True,  True,  True,  True])"
     },
     "execution_count": 23,
     "metadata": {},
     "output_type": "execute_result"
    }
   ]
  },
  {
   "cell_type": "code",
   "execution_count": 24,
   "outputs": [
    {
     "data": {
      "text/plain": "145"
     },
     "execution_count": 24,
     "metadata": {},
     "output_type": "execute_result"
    }
   ],
   "source": [
    "result.sum()"
   ],
   "metadata": {
    "collapsed": false,
    "ExecuteTime": {
     "start_time": "2023-04-26T19:03:42.922583Z",
     "end_time": "2023-04-26T19:03:42.926933Z"
    }
   }
  },
  {
   "cell_type": "code",
   "execution_count": 25,
   "outputs": [
    {
     "data": {
      "text/plain": "150"
     },
     "execution_count": 25,
     "metadata": {},
     "output_type": "execute_result"
    }
   ],
   "source": [
    "len(result)"
   ],
   "metadata": {
    "collapsed": false,
    "ExecuteTime": {
     "start_time": "2023-04-26T19:03:58.713324Z",
     "end_time": "2023-04-26T19:03:58.718267Z"
    }
   }
  },
  {
   "cell_type": "code",
   "metadata": {
    "id": "aPcRXTVLIBpC",
    "colab": {
     "base_uri": "https://localhost:8080/"
    },
    "executionInfo": {
     "status": "ok",
     "timestamp": 1679844912257,
     "user_tz": -120,
     "elapsed": 339,
     "user": {
      "displayName": "Francesco GUERRA",
      "userId": "03589851697809460716"
     }
    },
    "outputId": "1fcc52b8-9527-495e-eefc-f1c844c15dc9",
    "ExecuteTime": {
     "start_time": "2023-04-26T19:04:36.371513Z",
     "end_time": "2023-04-26T19:04:36.376973Z"
    }
   },
   "source": [
    "result.sum()/len(result) # calcolo la predizione"
   ],
   "execution_count": 26,
   "outputs": [
    {
     "data": {
      "text/plain": "0.9666666666666667"
     },
     "execution_count": 26,
     "metadata": {},
     "output_type": "execute_result"
    }
   ]
  },
  {
   "cell_type": "code",
   "execution_count": 48,
   "outputs": [],
   "source": [
    "def accuracy(pred, result):\n",
    "    return 1-(abs(pred-result)).sum()/len(result)"
   ],
   "metadata": {
    "collapsed": false,
    "ExecuteTime": {
     "start_time": "2023-04-26T19:36:33.718673Z",
     "end_time": "2023-04-26T19:36:33.720284Z"
    }
   }
  },
  {
   "cell_type": "code",
   "metadata": {
    "id": "9iwWXgwTJSyo",
    "executionInfo": {
     "status": "ok",
     "timestamp": 1679844924738,
     "user_tz": -120,
     "elapsed": 2,
     "user": {
      "displayName": "Francesco GUERRA",
      "userId": "03589851697809460716"
     }
    },
    "ExecuteTime": {
     "start_time": "2023-04-26T19:04:59.358067Z",
     "end_time": "2023-04-26T19:04:59.482437Z"
    }
   },
   "source": [
    "from sklearn.tree import DecisionTreeClassifier"
   ],
   "execution_count": 27,
   "outputs": []
  },
  {
   "cell_type": "code",
   "metadata": {
    "id": "HmoprUVIJS-z",
    "executionInfo": {
     "status": "ok",
     "timestamp": 1679844925040,
     "user_tz": -120,
     "elapsed": 2,
     "user": {
      "displayName": "Francesco GUERRA",
      "userId": "03589851697809460716"
     }
    },
    "ExecuteTime": {
     "start_time": "2023-04-26T19:05:03.081320Z",
     "end_time": "2023-04-26T19:05:03.086016Z"
    }
   },
   "source": [
    "dtc= DecisionTreeClassifier()"
   ],
   "execution_count": 28,
   "outputs": []
  },
  {
   "cell_type": "code",
   "metadata": {
    "id": "atuGzrlZJTGo",
    "colab": {
     "base_uri": "https://localhost:8080/",
     "height": 74
    },
    "executionInfo": {
     "status": "ok",
     "timestamp": 1679844925866,
     "user_tz": -120,
     "elapsed": 502,
     "user": {
      "displayName": "Francesco GUERRA",
      "userId": "03589851697809460716"
     }
    },
    "outputId": "d196d1de-f4e1-4f6e-e905-43af31fbf62f",
    "ExecuteTime": {
     "start_time": "2023-04-26T19:05:06.538115Z",
     "end_time": "2023-04-26T19:05:06.548661Z"
    }
   },
   "source": [
    "dtc.fit(X,y)"
   ],
   "execution_count": 29,
   "outputs": [
    {
     "data": {
      "text/plain": "DecisionTreeClassifier()"
     },
     "execution_count": 29,
     "metadata": {},
     "output_type": "execute_result"
    }
   ]
  },
  {
   "cell_type": "code",
   "metadata": {
    "id": "XYjjg_RdJXUu",
    "colab": {
     "base_uri": "https://localhost:8080/"
    },
    "executionInfo": {
     "status": "ok",
     "timestamp": 1679844926599,
     "user_tz": -120,
     "elapsed": 2,
     "user": {
      "displayName": "Francesco GUERRA",
      "userId": "03589851697809460716"
     }
    },
    "outputId": "cdf5786f-f020-4863-c17e-fbceff3e8546",
    "ExecuteTime": {
     "start_time": "2023-04-26T19:05:36.277262Z",
     "end_time": "2023-04-26T19:05:36.282475Z"
    }
   },
   "source": [
    "(y== dtc.predict(X)).sum()/len(dtc.predict(X)) # calcoliamo l'accuratezza"
   ],
   "execution_count": 30,
   "outputs": [
    {
     "data": {
      "text/plain": "1.0"
     },
     "execution_count": 30,
     "metadata": {},
     "output_type": "execute_result"
    }
   ]
  },
  {
   "cell_type": "code",
   "metadata": {
    "id": "HBjukJopxDRQ",
    "colab": {
     "base_uri": "https://localhost:8080/",
     "height": 312
    },
    "executionInfo": {
     "status": "ok",
     "timestamp": 1679845015633,
     "user_tz": -120,
     "elapsed": 1207,
     "user": {
      "displayName": "Francesco GUERRA",
      "userId": "03589851697809460716"
     }
    },
    "outputId": "00783db1-0460-4c12-9ff8-5c112cae073e",
    "ExecuteTime": {
     "start_time": "2023-04-26T19:09:14.716545Z",
     "end_time": "2023-04-26T19:09:14.845547Z"
    }
   },
   "source": [
    "Xnew = X[y == 0, :]\n",
    "plt.scatter(Xnew[:, 2], Xnew[:,3], c='r', label='classe 0') # grafico a dispersione\n",
    "\n",
    "Xnew = X[y == 1, :]\n",
    "plt.scatter(Xnew[:, 2], Xnew[:, 3], c='b', label='classe 1')\n",
    "\n",
    "Xnew = X[y == 2, :]\n",
    "plt.scatter(Xnew[:, 2], Xnew[:, 3], c='g', label='classe 2')\n",
    "\n",
    "plt.title('iris dataset')\n",
    "plt.xlabel('feature 2')\n",
    "plt.ylabel('feature 3')\n",
    "plt.legend(loc='best')"
   ],
   "execution_count": 31,
   "outputs": [
    {
     "data": {
      "text/plain": "<matplotlib.legend.Legend at 0x7f94a024dca0>"
     },
     "execution_count": 31,
     "metadata": {},
     "output_type": "execute_result"
    },
    {
     "data": {
      "text/plain": "<Figure size 640x480 with 1 Axes>",
      "image/png": "[encoded data removed]"
     },
     "metadata": {},
     "output_type": "display_data"
    }
   ]
  },
  {
   "cell_type": "code",
   "metadata": {
    "id": "rLg2hHC6dtKu",
    "ExecuteTime": {
     "start_time": "2023-04-26T19:09:39.971862Z",
     "end_time": "2023-04-26T19:09:39.975208Z"
    }
   },
   "source": [
    "len(X)"
   ],
   "execution_count": 32,
   "outputs": [
    {
     "data": {
      "text/plain": "150"
     },
     "execution_count": 32,
     "metadata": {},
     "output_type": "execute_result"
    }
   ]
  },
  {
   "cell_type": "code",
   "metadata": {
    "id": "NfU4IRQSdtKy",
    "colab": {
     "base_uri": "https://localhost:8080/"
    },
    "executionInfo": {
     "status": "ok",
     "timestamp": 1636359853340,
     "user_tz": -60,
     "elapsed": 369,
     "user": {
      "displayName": "Francesco GUERRA",
      "photoUrl": "https://lh3.googleusercontent.com/a-/AOh14Gj54LW1VQb8d_pLRjRGNzSfR2PyDbQA_Six3Lic=s64",
      "userId": "03589851697809460716"
     }
    },
    "outputId": "da84686e-82cd-47c9-cc3d-40d15d8a9558",
    "ExecuteTime": {
     "start_time": "2023-04-26T19:10:06.027441Z",
     "end_time": "2023-04-26T19:10:06.035247Z"
    }
   },
   "source": [
    "knn.fit(X[:100], y[:100]) #prendo i valori fino al 100"
   ],
   "execution_count": 33,
   "outputs": [
    {
     "data": {
      "text/plain": "KNeighborsClassifier()"
     },
     "execution_count": 33,
     "metadata": {},
     "output_type": "execute_result"
    }
   ]
  },
  {
   "cell_type": "code",
   "metadata": {
    "id": "YUbtF4EzdtK0",
    "colab": {
     "base_uri": "https://localhost:8080/"
    },
    "executionInfo": {
     "status": "ok",
     "timestamp": 1636359853706,
     "user_tz": -60,
     "elapsed": 2,
     "user": {
      "displayName": "Francesco GUERRA",
      "photoUrl": "https://lh3.googleusercontent.com/a-/AOh14Gj54LW1VQb8d_pLRjRGNzSfR2PyDbQA_Six3Lic=s64",
      "userId": "03589851697809460716"
     }
    },
    "outputId": "662a774f-368c-4257-a7f9-39ab8ba26189",
    "ExecuteTime": {
     "start_time": "2023-04-26T19:10:26.761221Z",
     "end_time": "2023-04-26T19:10:26.768694Z"
    }
   },
   "source": [
    "knn.predict(X[100:]) # e poi gli altri nel test"
   ],
   "execution_count": 34,
   "outputs": [
    {
     "name": "stderr",
     "output_type": "stream",
     "text": [
      "/opt/anaconda3/lib/python3.9/site-packages/sklearn/neighbors/_classification.py:228: FutureWarning: Unlike other reduction functions (e.g. `skew`, `kurtosis`), the default behavior of `mode` typically preserves the axis it acts along. In SciPy 1.11.0, this behavior will change: the default value of `keepdims` will become False, the `axis` over which the statistic is taken will be eliminated, and the value None will no longer be accepted. Set `keepdims` to True or False to avoid this warning.\n",
      "  mode, _ = stats.mode(_y[neigh_ind, k], axis=1)\n"
     ]
    },
    {
     "data": {
      "text/plain": "array([1, 1, 1, 1, 1, 1, 1, 1, 1, 1, 1, 1, 1, 1, 1, 1, 1, 1, 1, 1, 1, 1,\n       1, 1, 1, 1, 1, 1, 1, 1, 1, 1, 1, 1, 1, 1, 1, 1, 1, 1, 1, 1, 1, 1,\n       1, 1, 1, 1, 1, 1])"
     },
     "execution_count": 34,
     "metadata": {},
     "output_type": "execute_result"
    }
   ]
  },
  {
   "cell_type": "code",
   "metadata": {
    "id": "txeV2E5IdtK4",
    "ExecuteTime": {
     "start_time": "2023-04-26T19:10:44.582074Z",
     "end_time": "2023-04-26T19:10:44.587915Z"
    }
   },
   "source": [
    "result = knn.predict(X[100:])"
   ],
   "execution_count": 35,
   "outputs": [
    {
     "name": "stderr",
     "output_type": "stream",
     "text": [
      "/opt/anaconda3/lib/python3.9/site-packages/sklearn/neighbors/_classification.py:228: FutureWarning: Unlike other reduction functions (e.g. `skew`, `kurtosis`), the default behavior of `mode` typically preserves the axis it acts along. In SciPy 1.11.0, this behavior will change: the default value of `keepdims` will become False, the `axis` over which the statistic is taken will be eliminated, and the value None will no longer be accepted. Set `keepdims` to True or False to avoid this warning.\n",
      "  mode, _ = stats.mode(_y[neigh_ind, k], axis=1)\n"
     ]
    }
   ]
  },
  {
   "cell_type": "code",
   "metadata": {
    "id": "e_FmHIi5dtK6",
    "ExecuteTime": {
     "start_time": "2023-04-26T19:10:58.167237Z",
     "end_time": "2023-04-26T19:10:58.171677Z"
    }
   },
   "source": [
    "y[100:] == result"
   ],
   "execution_count": 36,
   "outputs": [
    {
     "data": {
      "text/plain": "array([False, False, False, False, False, False, False, False, False,\n       False, False, False, False, False, False, False, False, False,\n       False, False, False, False, False, False, False, False, False,\n       False, False, False, False, False, False, False, False, False,\n       False, False, False, False, False, False, False, False, False,\n       False, False, False, False, False])"
     },
     "execution_count": 36,
     "metadata": {},
     "output_type": "execute_result"
    }
   ]
  },
  {
   "cell_type": "code",
   "metadata": {
    "id": "dC8t1zZOKU_2",
    "ExecuteTime": {
     "start_time": "2023-04-26T19:11:19.095383Z",
     "end_time": "2023-04-26T19:11:19.105062Z"
    }
   },
   "source": [
    "(y[100:]== knn.predict(X[100:])).sum()/len(knn.predict(X[100:])) # calcoliamo l'accuratezza"
   ],
   "execution_count": 37,
   "outputs": [
    {
     "name": "stderr",
     "output_type": "stream",
     "text": [
      "/opt/anaconda3/lib/python3.9/site-packages/sklearn/neighbors/_classification.py:228: FutureWarning: Unlike other reduction functions (e.g. `skew`, `kurtosis`), the default behavior of `mode` typically preserves the axis it acts along. In SciPy 1.11.0, this behavior will change: the default value of `keepdims` will become False, the `axis` over which the statistic is taken will be eliminated, and the value None will no longer be accepted. Set `keepdims` to True or False to avoid this warning.\n",
      "  mode, _ = stats.mode(_y[neigh_ind, k], axis=1)\n",
      "/opt/anaconda3/lib/python3.9/site-packages/sklearn/neighbors/_classification.py:228: FutureWarning: Unlike other reduction functions (e.g. `skew`, `kurtosis`), the default behavior of `mode` typically preserves the axis it acts along. In SciPy 1.11.0, this behavior will change: the default value of `keepdims` will become False, the `axis` over which the statistic is taken will be eliminated, and the value None will no longer be accepted. Set `keepdims` to True or False to avoid this warning.\n",
      "  mode, _ = stats.mode(_y[neigh_ind, k], axis=1)\n"
     ]
    },
    {
     "data": {
      "text/plain": "0.0"
     },
     "execution_count": 37,
     "metadata": {},
     "output_type": "execute_result"
    }
   ]
  },
  {
   "cell_type": "code",
   "metadata": {
    "id": "zCPmGJIodtLA",
    "ExecuteTime": {
     "start_time": "2023-04-26T19:21:24.314368Z",
     "end_time": "2023-04-26T19:21:24.318526Z"
    }
   },
   "source": [
    "y[100:]"
   ],
   "execution_count": 38,
   "outputs": [
    {
     "data": {
      "text/plain": "array([2, 2, 2, 2, 2, 2, 2, 2, 2, 2, 2, 2, 2, 2, 2, 2, 2, 2, 2, 2, 2, 2,\n       2, 2, 2, 2, 2, 2, 2, 2, 2, 2, 2, 2, 2, 2, 2, 2, 2, 2, 2, 2, 2, 2,\n       2, 2, 2, 2, 2, 2])"
     },
     "execution_count": 38,
     "metadata": {},
     "output_type": "execute_result"
    }
   ]
  },
  {
   "cell_type": "code",
   "metadata": {
    "id": "QKxrS2SjycwJ",
    "ExecuteTime": {
     "start_time": "2023-04-26T19:21:45.089576Z",
     "end_time": "2023-04-26T19:21:45.095884Z"
    }
   },
   "source": [
    "result"
   ],
   "execution_count": 39,
   "outputs": [
    {
     "data": {
      "text/plain": "array([1, 1, 1, 1, 1, 1, 1, 1, 1, 1, 1, 1, 1, 1, 1, 1, 1, 1, 1, 1, 1, 1,\n       1, 1, 1, 1, 1, 1, 1, 1, 1, 1, 1, 1, 1, 1, 1, 1, 1, 1, 1, 1, 1, 1,\n       1, 1, 1, 1, 1, 1])"
     },
     "execution_count": 39,
     "metadata": {},
     "output_type": "execute_result"
    }
   ]
  },
  {
   "cell_type": "code",
   "metadata": {
    "id": "1VA4rQn_yjVo",
    "ExecuteTime": {
     "start_time": "2023-04-26T19:22:13.830023Z",
     "end_time": "2023-04-26T19:22:13.834924Z"
    }
   },
   "source": [
    "np.random.permutation(10)"
   ],
   "execution_count": 40,
   "outputs": [
    {
     "data": {
      "text/plain": "array([2, 6, 8, 9, 0, 7, 1, 4, 3, 5])"
     },
     "execution_count": 40,
     "metadata": {},
     "output_type": "execute_result"
    }
   ]
  },
  {
   "cell_type": "code",
   "metadata": {
    "id": "S9jPpuZZdtLD",
    "ExecuteTime": {
     "start_time": "2023-04-26T19:22:56.122083Z",
     "end_time": "2023-04-26T19:22:56.125400Z"
    }
   },
   "source": [
    "indexes = np.random.permutation(len(X)) # permutiamo gli indici"
   ],
   "execution_count": 41,
   "outputs": []
  },
  {
   "cell_type": "code",
   "metadata": {
    "id": "Ar4yWu9EdtLF",
    "colab": {
     "base_uri": "https://localhost:8080/"
    },
    "executionInfo": {
     "status": "ok",
     "timestamp": 1636359911479,
     "user_tz": -60,
     "elapsed": 3,
     "user": {
      "displayName": "Francesco GUERRA",
      "photoUrl": "https://lh3.googleusercontent.com/a-/AOh14Gj54LW1VQb8d_pLRjRGNzSfR2PyDbQA_Six3Lic=s64",
      "userId": "03589851697809460716"
     }
    },
    "outputId": "99f1bee8-2172-4704-e6a5-426ad15cfdda",
    "ExecuteTime": {
     "start_time": "2023-04-26T19:22:58.138242Z",
     "end_time": "2023-04-26T19:22:58.143074Z"
    }
   },
   "source": [
    "indexes"
   ],
   "execution_count": 42,
   "outputs": [
    {
     "data": {
      "text/plain": "array([ 98,  13,  79,  29,  68,  86,  49,  73,  77,  55, 118,   8,   6,\n        33,  23, 147, 125,  16, 112, 108,  61, 110,  72, 122,  34,  15,\n         9,  26,  27, 129,  75,  28, 101, 115,  88,  66, 109, 111, 148,\n        60,  14, 116,  50,  78,  89,  38,  24, 140, 124,  58,  36, 130,\n       136, 139,  97,  18,  35,  95,  19,  67,  93, 120, 100,  32,  45,\n        47,  63,  59,  11,  85,  53, 123,  52,  76, 119,  12, 134,  83,\n        20, 137,   0,  87,  74,  70,  44,  30,  22, 127,   3,  56, 138,\n        71, 146, 126, 103,  25,  54,  91,  39, 143,  96,  40, 106,  46,\n        69,  81, 114,  99, 131,  10,  41,  37,  43,  82,   1,  92,  65,\n       145,  90, 135, 144,  62, 104,  57,  84,  17,   5,  48,  64, 141,\n         7,  94, 142, 133, 128, 117,  80, 132, 107,   4,  31,   2,  21,\n        51, 121, 105, 149,  42, 113, 102])"
     },
     "execution_count": 42,
     "metadata": {},
     "output_type": "execute_result"
    }
   ]
  },
  {
   "cell_type": "code",
   "metadata": {
    "id": "cXg-O7mpdtLI",
    "ExecuteTime": {
     "start_time": "2023-04-26T19:23:49.984883Z",
     "end_time": "2023-04-26T19:23:49.990534Z"
    }
   },
   "source": [
    "X_train = X[indexes[:100]] # dati d'allenamento\n",
    "y_train = y[indexes[:100]] # target d'allenamento\n",
    "X_test = X[indexes[100:]] # dati per il test\n",
    "y_test = y[indexes[100:]] # target del test"
   ],
   "execution_count": 43,
   "outputs": []
  },
  {
   "cell_type": "code",
   "metadata": {
    "id": "3WrMwCW74ytp",
    "colab": {
     "base_uri": "https://localhost:8080/"
    },
    "executionInfo": {
     "status": "ok",
     "timestamp": 1636359969987,
     "user_tz": -60,
     "elapsed": 2,
     "user": {
      "displayName": "Francesco GUERRA",
      "photoUrl": "https://lh3.googleusercontent.com/a-/AOh14Gj54LW1VQb8d_pLRjRGNzSfR2PyDbQA_Six3Lic=s64",
      "userId": "03589851697809460716"
     }
    },
    "outputId": "7abcba08-f162-4074-f8ab-137552b7fb4f",
    "ExecuteTime": {
     "start_time": "2023-04-26T19:23:52.225321Z",
     "end_time": "2023-04-26T19:23:52.229601Z"
    }
   },
   "source": [
    "X_train"
   ],
   "execution_count": 44,
   "outputs": [
    {
     "data": {
      "text/plain": "array([[5.1, 2.5, 3. , 1.1],\n       [4.3, 3. , 1.1, 0.1],\n       [5.7, 2.6, 3.5, 1. ],\n       [4.7, 3.2, 1.6, 0.2],\n       [6.2, 2.2, 4.5, 1.5],\n       [6.7, 3.1, 4.7, 1.5],\n       [5. , 3.3, 1.4, 0.2],\n       [6.1, 2.8, 4.7, 1.2],\n       [6.7, 3. , 5. , 1.7],\n       [5.7, 2.8, 4.5, 1.3],\n       [7.7, 2.6, 6.9, 2.3],\n       [4.4, 2.9, 1.4, 0.2],\n       [4.6, 3.4, 1.4, 0.3],\n       [5.5, 4.2, 1.4, 0.2],\n       [5.1, 3.3, 1.7, 0.5],\n       [6.5, 3. , 5.2, 2. ],\n       [7.2, 3.2, 6. , 1.8],\n       [5.4, 3.9, 1.3, 0.4],\n       [6.8, 3. , 5.5, 2.1],\n       [6.7, 2.5, 5.8, 1.8],\n       [5.9, 3. , 4.2, 1.5],\n       [6.5, 3.2, 5.1, 2. ],\n       [6.3, 2.5, 4.9, 1.5],\n       [7.7, 2.8, 6.7, 2. ],\n       [4.9, 3.1, 1.5, 0.2],\n       [5.7, 4.4, 1.5, 0.4],\n       [4.9, 3.1, 1.5, 0.1],\n       [5. , 3.4, 1.6, 0.4],\n       [5.2, 3.5, 1.5, 0.2],\n       [7.2, 3. , 5.8, 1.6],\n       [6.6, 3. , 4.4, 1.4],\n       [5.2, 3.4, 1.4, 0.2],\n       [5.8, 2.7, 5.1, 1.9],\n       [6.4, 3.2, 5.3, 2.3],\n       [5.6, 3. , 4.1, 1.3],\n       [5.6, 3. , 4.5, 1.5],\n       [7.2, 3.6, 6.1, 2.5],\n       [6.4, 2.7, 5.3, 1.9],\n       [6.2, 3.4, 5.4, 2.3],\n       [5. , 2. , 3.5, 1. ],\n       [5.8, 4. , 1.2, 0.2],\n       [6.5, 3. , 5.5, 1.8],\n       [7. , 3.2, 4.7, 1.4],\n       [6. , 2.9, 4.5, 1.5],\n       [5.5, 2.5, 4. , 1.3],\n       [4.4, 3. , 1.3, 0.2],\n       [4.8, 3.4, 1.9, 0.2],\n       [6.7, 3.1, 5.6, 2.4],\n       [6.7, 3.3, 5.7, 2.1],\n       [6.6, 2.9, 4.6, 1.3],\n       [5.5, 3.5, 1.3, 0.2],\n       [7.4, 2.8, 6.1, 1.9],\n       [6.3, 3.4, 5.6, 2.4],\n       [6.9, 3.1, 5.4, 2.1],\n       [6.2, 2.9, 4.3, 1.3],\n       [5.7, 3.8, 1.7, 0.3],\n       [5. , 3.2, 1.2, 0.2],\n       [5.7, 3. , 4.2, 1.2],\n       [5.1, 3.8, 1.5, 0.3],\n       [5.8, 2.7, 4.1, 1. ],\n       [5. , 2.3, 3.3, 1. ],\n       [6.9, 3.2, 5.7, 2.3],\n       [6.3, 3.3, 6. , 2.5],\n       [5.2, 4.1, 1.5, 0.1],\n       [4.8, 3. , 1.4, 0.3],\n       [4.6, 3.2, 1.4, 0.2],\n       [6.1, 2.9, 4.7, 1.4],\n       [5.2, 2.7, 3.9, 1.4],\n       [4.8, 3.4, 1.6, 0.2],\n       [6. , 3.4, 4.5, 1.6],\n       [5.5, 2.3, 4. , 1.3],\n       [6.3, 2.7, 4.9, 1.8],\n       [6.9, 3.1, 4.9, 1.5],\n       [6.8, 2.8, 4.8, 1.4],\n       [6. , 2.2, 5. , 1.5],\n       [4.8, 3. , 1.4, 0.1],\n       [6.1, 2.6, 5.6, 1.4],\n       [6. , 2.7, 5.1, 1.6],\n       [5.4, 3.4, 1.7, 0.2],\n       [6.4, 3.1, 5.5, 1.8],\n       [5.1, 3.5, 1.4, 0.2],\n       [6.3, 2.3, 4.4, 1.3],\n       [6.4, 2.9, 4.3, 1.3],\n       [5.9, 3.2, 4.8, 1.8],\n       [5.1, 3.8, 1.9, 0.4],\n       [4.8, 3.1, 1.6, 0.2],\n       [4.6, 3.6, 1. , 0.2],\n       [6.1, 3. , 4.9, 1.8],\n       [4.6, 3.1, 1.5, 0.2],\n       [6.3, 3.3, 4.7, 1.6],\n       [6. , 3. , 4.8, 1.8],\n       [6.1, 2.8, 4. , 1.3],\n       [6.3, 2.5, 5. , 1.9],\n       [6.2, 2.8, 4.8, 1.8],\n       [6.3, 2.9, 5.6, 1.8],\n       [5. , 3. , 1.6, 0.2],\n       [6.5, 2.8, 4.6, 1.5],\n       [6.1, 3. , 4.6, 1.4],\n       [5.1, 3.4, 1.5, 0.2],\n       [6.8, 3.2, 5.9, 2.3]])"
     },
     "execution_count": 44,
     "metadata": {},
     "output_type": "execute_result"
    }
   ]
  },
  {
   "cell_type": "code",
   "metadata": {
    "id": "2o_GPnNIdtLK",
    "colab": {
     "base_uri": "https://localhost:8080/"
    },
    "executionInfo": {
     "status": "ok",
     "timestamp": 1636359970745,
     "user_tz": -60,
     "elapsed": 39,
     "user": {
      "displayName": "Francesco GUERRA",
      "photoUrl": "https://lh3.googleusercontent.com/a-/AOh14Gj54LW1VQb8d_pLRjRGNzSfR2PyDbQA_Six3Lic=s64",
      "userId": "03589851697809460716"
     }
    },
    "outputId": "d106ecae-b57a-4597-fa7c-c98854c81850",
    "ExecuteTime": {
     "start_time": "2023-04-26T19:24:17.262476Z",
     "end_time": "2023-04-26T19:24:17.265876Z"
    }
   },
   "source": [
    "knn.fit(X_train, y_train) # alleniamo"
   ],
   "execution_count": 45,
   "outputs": [
    {
     "data": {
      "text/plain": "KNeighborsClassifier()"
     },
     "execution_count": 45,
     "metadata": {},
     "output_type": "execute_result"
    }
   ]
  },
  {
   "cell_type": "code",
   "metadata": {
    "id": "Vhn8nKkvdtLN",
    "ExecuteTime": {
     "start_time": "2023-04-26T19:26:28.209748Z",
     "end_time": "2023-04-26T19:26:28.233070Z"
    }
   },
   "source": [
    "result = knn.predict(X_test)"
   ],
   "execution_count": 46,
   "outputs": [
    {
     "name": "stderr",
     "output_type": "stream",
     "text": [
      "/opt/anaconda3/lib/python3.9/site-packages/sklearn/neighbors/_classification.py:228: FutureWarning: Unlike other reduction functions (e.g. `skew`, `kurtosis`), the default behavior of `mode` typically preserves the axis it acts along. In SciPy 1.11.0, this behavior will change: the default value of `keepdims` will become False, the `axis` over which the statistic is taken will be eliminated, and the value None will no longer be accepted. Set `keepdims` to True or False to avoid this warning.\n",
      "  mode, _ = stats.mode(_y[neigh_ind, k], axis=1)\n"
     ]
    }
   ]
  },
  {
   "cell_type": "code",
   "metadata": {
    "id": "fOJAXAzDMVGF",
    "colab": {
     "base_uri": "https://localhost:8080/"
    },
    "executionInfo": {
     "status": "ok",
     "timestamp": 1636359973373,
     "user_tz": -60,
     "elapsed": 380,
     "user": {
      "displayName": "Francesco GUERRA",
      "photoUrl": "https://lh3.googleusercontent.com/a-/AOh14Gj54LW1VQb8d_pLRjRGNzSfR2PyDbQA_Six3Lic=s64",
      "userId": "03589851697809460716"
     }
    },
    "outputId": "f2aeba43-7036-45cc-c9d4-5ee80058d971",
    "ExecuteTime": {
     "start_time": "2023-04-26T19:27:06.757483Z",
     "end_time": "2023-04-26T19:27:06.762922Z"
    }
   },
   "source": [
    "(y_test== result).sum()/len(result) # calcoliamo l'accuratezza"
   ],
   "execution_count": 47,
   "outputs": [
    {
     "data": {
      "text/plain": "0.98"
     },
     "execution_count": 47,
     "metadata": {},
     "output_type": "execute_result"
    }
   ]
  },
  {
   "cell_type": "code",
   "metadata": {
    "id": "fV8rhaT8MkXk"
   },
   "source": [
    "(y_train== knn.predict(X_train)).sum()/len(y_train)"
   ],
   "execution_count": null,
   "outputs": []
  },
  {
   "cell_type": "code",
   "metadata": {
    "id": "UimKEy7FNBky"
   },
   "source": [
    "knn=KNeighborsClassifier(n_neighbors=11)"
   ],
   "execution_count": null,
   "outputs": []
  },
  {
   "cell_type": "code",
   "metadata": {
    "id": "K5-GODF5NBfW"
   },
   "source": [
    "knn.fit(X_train, y_train)"
   ],
   "execution_count": null,
   "outputs": []
  },
  {
   "cell_type": "code",
   "metadata": {
    "id": "6R7ZkoeUNBbY"
   },
   "source": [
    "(y_test== knn.predict(X_test)).sum()/len(y_test)"
   ],
   "execution_count": null,
   "outputs": []
  },
  {
   "cell_type": "code",
   "metadata": {
    "id": "sYSQML5nNBXu"
   },
   "source": [
    "(y_train== knn.predict(X_train)).sum()/len(y_train)"
   ],
   "execution_count": null,
   "outputs": []
  },
  {
   "cell_type": "code",
   "metadata": {
    "id": "3lIdJQhzqI_K"
   },
   "source": [
    "from sklearn.model_selection import train_test_split"
   ],
   "execution_count": null,
   "outputs": []
  },
  {
   "cell_type": "code",
   "metadata": {
    "id": "hN8YILr1MkQ_"
   },
   "source": [
    "X_train, X_test, y_train, y_test = train_test_split(X, y, test_size=0.25)"
   ],
   "execution_count": null,
   "outputs": []
  },
  {
   "cell_type": "code",
   "metadata": {
    "id": "tyGz2b1PMVA9",
    "colab": {
     "base_uri": "https://localhost:8080/"
    },
    "executionInfo": {
     "status": "ok",
     "timestamp": 1636360135332,
     "user_tz": -60,
     "elapsed": 375,
     "user": {
      "displayName": "Francesco GUERRA",
      "photoUrl": "https://lh3.googleusercontent.com/a-/AOh14Gj54LW1VQb8d_pLRjRGNzSfR2PyDbQA_Six3Lic=s64",
      "userId": "03589851697809460716"
     }
    },
    "outputId": "101d0850-560f-4de9-9fa0-dea223112ba9"
   },
   "source": [
    "X_train"
   ],
   "execution_count": null,
   "outputs": []
  },
  {
   "cell_type": "code",
   "metadata": {
    "id": "m2Xa4dg-dtLP"
   },
   "source": [
    "y_test != result"
   ],
   "execution_count": null,
   "outputs": []
  },
  {
   "cell_type": "code",
   "metadata": {
    "id": "yh_UiWxedtLS"
   },
   "source": [
    "verify= y_test != result\n",
    "verify.sum()"
   ],
   "execution_count": null,
   "outputs": []
  },
  {
   "cell_type": "code",
   "metadata": {
    "id": "yY4xRWVxdtLV"
   },
   "source": [
    "knn = KNeighborsClassifier(n_neighbors=3, weights='distance')"
   ],
   "execution_count": null,
   "outputs": []
  },
  {
   "cell_type": "code",
   "metadata": {
    "id": "H5K1KfH0dtLY"
   },
   "source": [
    "knn.fit(X_train, y_train)"
   ],
   "execution_count": null,
   "outputs": []
  },
  {
   "cell_type": "code",
   "metadata": {
    "id": "LWZzOR8PdtLd"
   },
   "source": [
    "result = knn.predict(X_test)"
   ],
   "execution_count": null,
   "outputs": []
  },
  {
   "cell_type": "code",
   "metadata": {
    "id": "-7yZujS7dtLf"
   },
   "source": [
    "result"
   ],
   "execution_count": null,
   "outputs": []
  },
  {
   "cell_type": "code",
   "metadata": {
    "id": "HyeclHg3dtLh"
   },
   "source": [
    "y_test != result"
   ],
   "execution_count": null,
   "outputs": []
  },
  {
   "cell_type": "code",
   "metadata": {
    "id": "QJJykm36znCc"
   },
   "source": [
    "verify= y_test != result\n",
    "verify.sum()"
   ],
   "execution_count": null,
   "outputs": []
  },
  {
   "cell_type": "markdown",
   "metadata": {
    "id": "ZX_HR1ZyRcwC"
   },
   "source": [
    "### DecisionTreeClassifier"
   ]
  },
  {
   "cell_type": "code",
   "metadata": {
    "id": "QfdJuIN_dtLj"
   },
   "source": [
    "from sklearn.tree import DecisionTreeClassifier"
   ],
   "execution_count": null,
   "outputs": []
  },
  {
   "cell_type": "code",
   "metadata": {
    "id": "boCES4CFdtLl"
   },
   "source": [
    "model = DecisionTreeClassifier()"
   ],
   "execution_count": null,
   "outputs": []
  },
  {
   "cell_type": "code",
   "metadata": {
    "id": "1md57ZgJdtLn"
   },
   "source": [
    "model.fit(X_train, y_train)\n",
    "result = model.predict(X_test)"
   ],
   "execution_count": null,
   "outputs": []
  },
  {
   "cell_type": "code",
   "metadata": {
    "id": "daT2lJV-dtLp"
   },
   "source": [
    "y_test != result"
   ],
   "execution_count": null,
   "outputs": []
  },
  {
   "cell_type": "code",
   "metadata": {
    "id": "KyASLQpK2RJf"
   },
   "source": [
    "result"
   ],
   "execution_count": null,
   "outputs": []
  },
  {
   "cell_type": "markdown",
   "metadata": {
    "collapsed": true,
    "id": "SwR5_y-jdtLu"
   },
   "source": [
    "## Esercizio\n",
    "\n",
    "1. creare un dataframe che contenga i valori di iris\n",
    "2. creare due nuovi attributi che rappresentano l'area del petalo e del sepalo\n",
    "3. utilizzare il nuovo dataframe per fare la predizione\n",
    "4. utilizzare un classificatore non ancora introdotto (SVM, Bayes,...)"
   ]
  },
  {
   "cell_type": "code",
   "metadata": {
    "id": "4mrxodM0JVCI"
   },
   "source": [
    "df = pd.DataFrame(X, columns=iris[\"feature_names\"])"
   ],
   "execution_count": null,
   "outputs": []
  },
  {
   "cell_type": "code",
   "metadata": {
    "id": "8QNDbg_9Sxoe"
   },
   "source": [
    "df.describe()"
   ],
   "execution_count": null,
   "outputs": []
  },
  {
   "cell_type": "code",
   "metadata": {
    "id": "7z0hfKjlS3Hl"
   },
   "source": [
    "df['areaSep'] = df['sepal length (cm)'] *df['sepal width (cm)']"
   ],
   "execution_count": null,
   "outputs": []
  },
  {
   "cell_type": "code",
   "metadata": {
    "id": "SVualjkRTXZe"
   },
   "source": [
    "df['areaPet'] = df['petal length (cm)'] *df['petal width (cm)']"
   ],
   "execution_count": null,
   "outputs": []
  },
  {
   "cell_type": "code",
   "metadata": {
    "id": "PbAi1VvdTeZ1"
   },
   "source": [
    "df"
   ],
   "execution_count": null,
   "outputs": []
  },
  {
   "cell_type": "code",
   "metadata": {
    "id": "eeeYG0hvTfiO"
   },
   "source": [
    "knn"
   ],
   "execution_count": null,
   "outputs": []
  },
  {
   "cell_type": "code",
   "metadata": {
    "id": "fzVtAu0uTip4"
   },
   "source": [
    "X_train = df.values[indexes[:100]]\n",
    "y_train = y[indexes[:100]]\n",
    "X_test = df.values[indexes[100:]]\n",
    "y_test = y[indexes[100:]]"
   ],
   "execution_count": null,
   "outputs": []
  },
  {
   "cell_type": "code",
   "metadata": {
    "id": "K1vG6kAcT0lU"
   },
   "source": [
    "knn.fit(X_train, y_train)"
   ],
   "execution_count": null,
   "outputs": []
  },
  {
   "cell_type": "code",
   "metadata": {
    "id": "n-ygBIo-T4D2"
   },
   "source": [
    "(y_test== knn.predict(X_test)).sum()/len(y_test)"
   ],
   "execution_count": null,
   "outputs": []
  },
  {
   "cell_type": "code",
   "metadata": {
    "id": "4_okdqiDUFea"
   },
   "source": [
    "(y_train== knn.predict(X_train)).sum()/len(y_train)"
   ],
   "execution_count": null,
   "outputs": []
  },
  {
   "cell_type": "code",
   "metadata": {
    "id": "nUvmM_3xUJq0"
   },
   "source": [],
   "execution_count": null,
   "outputs": []
  }
 ]
}
