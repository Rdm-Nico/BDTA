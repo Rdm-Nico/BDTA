{
 "nbformat": 4,
 "nbformat_minor": 0,
 "metadata": {
  "kernelspec": {
   "display_name": "Python 3",
   "language": "python",
   "name": "python3"
  },
  "language_info": {
   "codemirror_mode": {
    "name": "ipython",
    "version": 3
   },
   "file_extension": ".py",
   "mimetype": "text/x-python",
   "name": "python",
   "nbconvert_exporter": "python",
   "pygments_lexer": "ipython3",
   "version": "3.6.9"
  },
  "colab": {
   "provenance": []
  }
 },
 "cells": [
  {
   "cell_type": "markdown",
   "metadata": {
    "id": "Kn_BdZ38obkc"
   },
   "source": [
    "Pipelines sequentially apply **a list of transforms** and a **final estimator**. Intermediate steps of the pipeline must be ‘transforms’, that is, they must implement fit and transform methods. The final estimator only needs to implement fit.\n",
    "\n",
    "\n",
    "### Summary\n",
    "\n",
    "* Pipeline of transforms with a final estimator.\n",
    "\n",
    "* Sequentially apply a list of transforms and a final estimator. \n",
    "\n",
    "    * Intermediate steps of the pipeline must be ‘transforms’, that is, they must implement fit and transform methods. \n",
    "    * The final estimator only needs to implement fit. The transformers in the pipeline can be cached using memory argument.\n",
    "\n",
    "* The purpose of the pipeline is to assemble several steps that can be cross-validated together while setting different parameters. "
   ]
  },
  {
   "cell_type": "code",
   "metadata": {
    "id": "HaY7hcyQobke",
    "ExecuteTime": {
     "start_time": "2023-05-18T16:23:26.075363Z",
     "end_time": "2023-05-18T16:23:27.498404Z"
    }
   },
   "source": [
    "import pandas as pd\n",
    "import numpy as np"
   ],
   "execution_count": 1,
   "outputs": []
  },
  {
   "cell_type": "code",
   "metadata": {
    "id": "WNX6zRPIobks",
    "ExecuteTime": {
     "start_time": "2023-05-18T16:26:46.349069Z",
     "end_time": "2023-05-18T16:26:48.185298Z"
    }
   },
   "source": [
    "from sklearn import datasets\n",
    "iris = datasets.load_iris()\n",
    "\n",
    "X = iris.data\n",
    "y = iris.target\n",
    "\n",
    "from sklearn.model_selection import train_test_split\n",
    "\n",
    "X_train, X_valid, y_train, y_valid = train_test_split(X, y, train_size=0.8, test_size=0.2,\n",
    "                                                      random_state=0)"
   ],
   "execution_count": 2,
   "outputs": []
  },
  {
   "cell_type": "markdown",
   "metadata": {
    "id": "-hcH6_S9obk3"
   },
   "source": [
    "## Simple Pipeline"
   ]
  },
  {
   "cell_type": "markdown",
   "metadata": {
    "id": "9PJZzOKLobk5"
   },
   "source": [
    "The simple pipeline is composed of the folloing steps:\n",
    "- Transformation\n",
    "    - Scaling values between 0 and 1\n",
    "    - PCA (we keep 2 components) -> riduce il numero di colonne , tiene solo due\n",
    "- Estimator\n",
    "    - Logistic Regression"
   ]
  },
  {
   "cell_type": "markdown",
   "metadata": {
    "id": "gfv2Ygq0obk7"
   },
   "source": [
    "### Transformation\n"
   ]
  },
  {
   "cell_type": "code",
   "metadata": {
    "id": "pgmMtRPRVqt7",
    "ExecuteTime": {
     "start_time": "2023-05-18T16:27:47.688943Z",
     "end_time": "2023-05-18T16:27:47.697697Z"
    }
   },
   "source": [
    "iris.feature_names"
   ],
   "execution_count": 3,
   "outputs": [
    {
     "data": {
      "text/plain": "['sepal length (cm)',\n 'sepal width (cm)',\n 'petal length (cm)',\n 'petal width (cm)']"
     },
     "execution_count": 3,
     "metadata": {},
     "output_type": "execute_result"
    }
   ]
  },
  {
   "cell_type": "code",
   "metadata": {
    "id": "oWw0JuYMobk9",
    "ExecuteTime": {
     "start_time": "2023-05-18T16:32:01.394372Z",
     "end_time": "2023-05-18T16:32:01.624851Z"
    }
   },
   "source": [
    "from sklearn.pipeline import Pipeline\n",
    "from sklearn.decomposition import PCA\n",
    "from sklearn.preprocessing import MinMaxScaler\n",
    "from sklearn.preprocessing import Normalizer\n",
    "\n",
    "preprocessing_transformer = Pipeline(steps=[('scale_01', MinMaxScaler(feature_range=(0, 1))),\n",
    "                                            ('PCA', PCA(n_components=2))])\n",
    "# gli step sono una lista di label+valori , con una label e l'operatore da applicare\n",
    "# ci sono due operazioni a cascata"
   ],
   "execution_count": 4,
   "outputs": []
  },
  {
   "cell_type": "markdown",
   "metadata": {
    "id": "ee5H2EcYoblG"
   },
   "source": [
    "### Estimator"
   ]
  },
  {
   "cell_type": "code",
   "metadata": {
    "id": "9PCw3m5FoblI",
    "ExecuteTime": {
     "start_time": "2023-05-18T16:32:27.303518Z",
     "end_time": "2023-05-18T16:32:27.309905Z"
    }
   },
   "source": [
    "from sklearn.linear_model import LogisticRegression\n",
    "\n",
    "model = LogisticRegression(solver='lbfgs', multi_class='auto')"
   ],
   "execution_count": 5,
   "outputs": []
  },
  {
   "cell_type": "markdown",
   "metadata": {
    "id": "xf_pJVC7oblO"
   },
   "source": [
    "### Creating and evaluating the Pipeline"
   ]
  },
  {
   "cell_type": "code",
   "metadata": {
    "id": "-QCkecdPoblP",
    "ExecuteTime": {
     "start_time": "2023-05-18T16:46:16.064646Z",
     "end_time": "2023-05-18T16:46:16.073241Z"
    }
   },
   "source": [
    "from sklearn.metrics import accuracy_score\n",
    "\n",
    "# Bundle preprocessing and modeling code in a pipeline\n",
    "my_pipeline = Pipeline(steps=[('preprocessing_transformer', preprocessing_transformer),\n",
    "                              ('model', model)\n",
    "                             ], verbose = True)\n",
    "# verbose stampa il tempo di eseguzione\n",
    "\n",
    "\n",
    "# Preprocessing of training data, fit model \n",
    "my_pipeline.fit(X_train, y_train)\n",
    "\n",
    "# Preprocessing of validation data, get predictions\n",
    "preds = my_pipeline.predict(X_valid)\n",
    "\n",
    "# Evaluate the model\n",
    "score = accuracy_score(y_valid, preds)\n",
    "print('Accuracy Score:', score)"
   ],
   "execution_count": 15,
   "outputs": [
    {
     "name": "stdout",
     "output_type": "stream",
     "text": [
      "[Pipeline]  (step 1 of 2) Processing preprocessing_transformer, total=   0.0s\n",
      "[Pipeline] ............. (step 2 of 2) Processing model, total=   0.0s\n",
      "Accuracy Score: 0.8666666666666667\n"
     ]
    }
   ]
  },
  {
   "cell_type": "markdown",
   "metadata": {
    "id": "HQNHwkbaoblW"
   },
   "source": [
    "### Analyzing the transformation"
   ]
  },
  {
   "cell_type": "code",
   "metadata": {
    "id": "rpowm18ByEa4",
    "ExecuteTime": {
     "start_time": "2023-05-18T16:41:53.390862Z",
     "end_time": "2023-05-18T16:41:53.395438Z"
    }
   },
   "source": [
    "X_train"
   ],
   "execution_count": 7,
   "outputs": [
    {
     "data": {
      "text/plain": "array([[6.4, 3.1, 5.5, 1.8],\n       [5.4, 3. , 4.5, 1.5],\n       [5.2, 3.5, 1.5, 0.2],\n       [6.1, 3. , 4.9, 1.8],\n       [6.4, 2.8, 5.6, 2.2],\n       [5.2, 2.7, 3.9, 1.4],\n       [5.7, 3.8, 1.7, 0.3],\n       [6. , 2.7, 5.1, 1.6],\n       [5.9, 3. , 4.2, 1.5],\n       [5.8, 2.6, 4. , 1.2],\n       [6.8, 3. , 5.5, 2.1],\n       [4.7, 3.2, 1.3, 0.2],\n       [6.9, 3.1, 5.1, 2.3],\n       [5. , 3.5, 1.6, 0.6],\n       [5.4, 3.7, 1.5, 0.2],\n       [5. , 2. , 3.5, 1. ],\n       [6.5, 3. , 5.5, 1.8],\n       [6.7, 3.3, 5.7, 2.5],\n       [6. , 2.2, 5. , 1.5],\n       [6.7, 2.5, 5.8, 1.8],\n       [5.6, 2.5, 3.9, 1.1],\n       [7.7, 3. , 6.1, 2.3],\n       [6.3, 3.3, 4.7, 1.6],\n       [5.5, 2.4, 3.8, 1.1],\n       [6.3, 2.7, 4.9, 1.8],\n       [6.3, 2.8, 5.1, 1.5],\n       [4.9, 2.5, 4.5, 1.7],\n       [6.3, 2.5, 5. , 1.9],\n       [7. , 3.2, 4.7, 1.4],\n       [6.5, 3. , 5.2, 2. ],\n       [6. , 3.4, 4.5, 1.6],\n       [4.8, 3.1, 1.6, 0.2],\n       [5.8, 2.7, 5.1, 1.9],\n       [5.6, 2.7, 4.2, 1.3],\n       [5.6, 2.9, 3.6, 1.3],\n       [5.5, 2.5, 4. , 1.3],\n       [6.1, 3. , 4.6, 1.4],\n       [7.2, 3.2, 6. , 1.8],\n       [5.3, 3.7, 1.5, 0.2],\n       [4.3, 3. , 1.1, 0.1],\n       [6.4, 2.7, 5.3, 1.9],\n       [5.7, 3. , 4.2, 1.2],\n       [5.4, 3.4, 1.7, 0.2],\n       [5.7, 4.4, 1.5, 0.4],\n       [6.9, 3.1, 4.9, 1.5],\n       [4.6, 3.1, 1.5, 0.2],\n       [5.9, 3. , 5.1, 1.8],\n       [5.1, 2.5, 3. , 1.1],\n       [4.6, 3.4, 1.4, 0.3],\n       [6.2, 2.2, 4.5, 1.5],\n       [7.2, 3.6, 6.1, 2.5],\n       [5.7, 2.9, 4.2, 1.3],\n       [4.8, 3. , 1.4, 0.1],\n       [7.1, 3. , 5.9, 2.1],\n       [6.9, 3.2, 5.7, 2.3],\n       [6.5, 3. , 5.8, 2.2],\n       [6.4, 2.8, 5.6, 2.1],\n       [5.1, 3.8, 1.6, 0.2],\n       [4.8, 3.4, 1.6, 0.2],\n       [6.5, 3.2, 5.1, 2. ],\n       [6.7, 3.3, 5.7, 2.1],\n       [4.5, 2.3, 1.3, 0.3],\n       [6.2, 3.4, 5.4, 2.3],\n       [4.9, 3. , 1.4, 0.2],\n       [5.7, 2.5, 5. , 2. ],\n       [6.9, 3.1, 5.4, 2.1],\n       [4.4, 3.2, 1.3, 0.2],\n       [5. , 3.6, 1.4, 0.2],\n       [7.2, 3. , 5.8, 1.6],\n       [5.1, 3.5, 1.4, 0.3],\n       [4.4, 3. , 1.3, 0.2],\n       [5.4, 3.9, 1.7, 0.4],\n       [5.5, 2.3, 4. , 1.3],\n       [6.8, 3.2, 5.9, 2.3],\n       [7.6, 3. , 6.6, 2.1],\n       [5.1, 3.5, 1.4, 0.2],\n       [4.9, 3.1, 1.5, 0.2],\n       [5.2, 3.4, 1.4, 0.2],\n       [5.7, 2.8, 4.5, 1.3],\n       [6.6, 3. , 4.4, 1.4],\n       [5. , 3.2, 1.2, 0.2],\n       [5.1, 3.3, 1.7, 0.5],\n       [6.4, 2.9, 4.3, 1.3],\n       [5.4, 3.4, 1.5, 0.4],\n       [7.7, 2.6, 6.9, 2.3],\n       [4.9, 2.4, 3.3, 1. ],\n       [7.9, 3.8, 6.4, 2. ],\n       [6.7, 3.1, 4.4, 1.4],\n       [5.2, 4.1, 1.5, 0.1],\n       [6. , 3. , 4.8, 1.8],\n       [5.8, 4. , 1.2, 0.2],\n       [7.7, 2.8, 6.7, 2. ],\n       [5.1, 3.8, 1.5, 0.3],\n       [4.7, 3.2, 1.6, 0.2],\n       [7.4, 2.8, 6.1, 1.9],\n       [5. , 3.3, 1.4, 0.2],\n       [6.3, 3.4, 5.6, 2.4],\n       [5.7, 2.8, 4.1, 1.3],\n       [5.8, 2.7, 3.9, 1.2],\n       [5.7, 2.6, 3.5, 1. ],\n       [6.4, 3.2, 5.3, 2.3],\n       [6.7, 3. , 5.2, 2.3],\n       [6.3, 2.5, 4.9, 1.5],\n       [6.7, 3. , 5. , 1.7],\n       [5. , 3. , 1.6, 0.2],\n       [5.5, 2.4, 3.7, 1. ],\n       [6.7, 3.1, 5.6, 2.4],\n       [5.8, 2.7, 5.1, 1.9],\n       [5.1, 3.4, 1.5, 0.2],\n       [6.6, 2.9, 4.6, 1.3],\n       [5.6, 3. , 4.1, 1.3],\n       [5.9, 3.2, 4.8, 1.8],\n       [6.3, 2.3, 4.4, 1.3],\n       [5.5, 3.5, 1.3, 0.2],\n       [5.1, 3.7, 1.5, 0.4],\n       [4.9, 3.1, 1.5, 0.1],\n       [6.3, 2.9, 5.6, 1.8],\n       [5.8, 2.7, 4.1, 1. ],\n       [7.7, 3.8, 6.7, 2.2],\n       [4.6, 3.2, 1.4, 0.2]])"
     },
     "execution_count": 7,
     "metadata": {},
     "output_type": "execute_result"
    }
   ]
  },
  {
   "cell_type": "code",
   "metadata": {
    "id": "kjyEx669oblY",
    "ExecuteTime": {
     "start_time": "2023-05-18T16:41:56.826969Z",
     "end_time": "2023-05-18T16:41:56.833337Z"
    }
   },
   "source": [
    "transformed_Dataset = preprocessing_transformer.fit_transform(X_train)"
   ],
   "execution_count": 8,
   "outputs": []
  },
  {
   "cell_type": "code",
   "metadata": {
    "id": "xqdpcrCiyewK"
   },
   "source": [
    "#preprocessing_transformer.transform(X_valid)"
   ],
   "execution_count": null,
   "outputs": []
  },
  {
   "cell_type": "code",
   "metadata": {
    "id": "b5NysW3aWxda",
    "ExecuteTime": {
     "start_time": "2023-05-18T16:42:35.288983Z",
     "end_time": "2023-05-18T16:42:35.293163Z"
    }
   },
   "source": [
    "transformed_Dataset"
   ],
   "execution_count": 9,
   "outputs": [
    {
     "data": {
      "text/plain": "array([[ 3.92209763e-01,  4.84561075e-02],\n       [ 9.04869356e-02, -8.95853266e-02],\n       [-6.29042414e-01,  1.33227096e-01],\n       [ 2.97394765e-01, -1.69364128e-02],\n       [ 5.25821952e-01, -7.19394322e-02],\n       [-8.81287220e-03, -2.16744469e-01],\n       [-5.36677344e-01,  3.00755516e-01],\n       [ 2.68771542e-01, -1.40752213e-01],\n       [ 1.18143450e-01, -2.69059275e-02],\n       [ 2.51091885e-02, -1.81673754e-01],\n       [ 5.25692275e-01,  5.32019212e-02],\n       [-6.94577142e-01, -3.59042800e-02],\n       [ 5.43323143e-01,  1.04376017e-01],\n       [-5.34922624e-01,  1.01994571e-01],\n       [-6.15543324e-01,  2.31944792e-01],\n       [-1.46419376e-01, -4.91909893e-01],\n       [ 4.09356632e-01,  2.26626713e-02],\n       [ 6.26859126e-01,  1.45225238e-01],\n       [ 2.57239670e-01, -3.25774678e-01],\n       [ 4.91330874e-01, -1.45418497e-01],\n       [-3.11137441e-02, -2.39957062e-01],\n       [ 7.51055857e-01,  1.48508623e-01],\n       [ 2.30644832e-01,  1.25073917e-01],\n       [-4.85581288e-02, -2.88060620e-01],\n       [ 3.36887165e-01, -1.06099427e-01],\n       [ 2.72587160e-01, -6.62249974e-02],\n       [ 1.10399893e-01, -3.39585478e-01],\n       [ 3.84809669e-01, -1.84109957e-01],\n       [ 2.65820260e-01,  1.73182628e-01],\n       [ 4.30932794e-01,  2.32226292e-02],\n       [ 1.68211870e-01,  1.29812521e-01],\n       [-6.45345754e-01, -6.54635859e-02],\n       [ 3.25366151e-01, -1.69126492e-01],\n       [ 4.42341335e-02, -1.71776560e-01],\n       [-3.03322289e-02, -8.90925360e-02],\n       [ 2.12935708e-02, -2.56200970e-01],\n       [ 1.57988882e-01, -6.75871952e-03],\n       [ 5.36070955e-01,  1.74017447e-01],\n       [-6.27491530e-01,  2.20162086e-01],\n       [-7.80192666e-01, -1.54073852e-01],\n       [ 4.18445072e-01, -1.00940837e-01],\n       [ 1.37560139e-02, -4.56624716e-02],\n       [-5.78557658e-01,  1.16705786e-01],\n       [-5.62428654e-01,  5.27119992e-01],\n       [ 3.07290735e-01,  1.19710244e-01],\n       [-6.79937007e-01, -8.77737077e-02],\n       [ 2.94888031e-01, -4.30124043e-02],\n       [-1.87108336e-01, -2.87572983e-01],\n       [-6.79397491e-01,  2.46070526e-02],\n       [ 2.27661885e-01, -2.95932816e-01],\n       [ 7.13783534e-01,  3.11846034e-01],\n       [ 4.57850167e-02, -8.48415696e-02],\n       [-6.88367112e-01, -9.89261923e-02],\n       [ 6.04316255e-01,  8.35288792e-02],\n       [ 6.02293520e-01,  1.34420420e-01],\n       [ 5.48762515e-01,  1.24849780e-02],\n       [ 4.98991611e-01, -7.03364764e-02],\n       [-6.45891766e-01,  2.32917526e-01],\n       [-6.60941739e-01,  4.72648404e-02],\n       [ 4.09840631e-01,  9.96302033e-02],\n       [ 5.19537762e-01,  1.51637062e-01],\n       [-6.44855258e-01, -3.99257926e-01],\n       [ 4.76174229e-01,  1.30859633e-01],\n       [-6.49588565e-01, -8.87464423e-02],\n       [ 3.39950769e-01, -2.56409148e-01],\n       [ 5.21746980e-01,  1.03816059e-01],\n       [-7.30421762e-01, -7.12523976e-02],\n       [-6.68832329e-01,  1.48493116e-01],\n       [ 4.71417917e-01,  1.04581654e-01],\n       [-6.24855119e-01,  1.21096724e-01],\n       [-7.20024439e-01, -1.46404682e-01],\n       [-5.50890286e-01,  3.01380584e-01],\n       [ 3.16908945e-02, -3.31353254e-01],\n       [ 6.11734992e-01,  1.20127134e-01],\n       [ 7.38921167e-01,  1.33655379e-01],\n       [-6.51685460e-01,  1.22699680e-01],\n       [-6.44092387e-01, -5.24255901e-02],\n       [-6.34538591e-01,  9.69062437e-02],\n       [ 8.30681979e-02, -1.26183581e-01],\n       [ 1.96340237e-01,  5.46653897e-02],\n       [-6.69427361e-01,  6.99127562e-04],\n       [-5.28712594e-01,  3.89726583e-02],\n       [ 1.40117304e-01, -3.61791840e-03],\n       [-5.46286656e-01,  1.16010454e-01],\n       [ 8.57409223e-01, -1.18382648e-02],\n       [-2.00551910e-01, -3.50877450e-01],\n       [ 6.84956472e-01,  4.73726169e-01],\n       [ 2.03089782e-01,  1.04024238e-01],\n       [-6.87064726e-01,  3.60286904e-01],\n       [ 2.74751719e-01, -2.74638287e-02],\n       [-6.15431001e-01,  3.95569911e-01],\n       [ 7.45131197e-01,  7.06334669e-02],\n       [-6.29756265e-01,  2.32569860e-01],\n       [-6.62492622e-01, -3.96701497e-02],\n       [ 6.18287196e-01,  4.44200446e-02],\n       [-6.53236343e-01,  3.57646898e-02],\n       [ 5.36342456e-01,  1.38528803e-01],\n       [ 4.02888387e-02, -1.21162422e-01],\n       [ 9.21568686e-03, -1.42842322e-01],\n       [-9.39738992e-02, -1.83974099e-01],\n       [ 4.99773126e-01,  8.05280500e-02],\n       [ 5.35320231e-01,  4.19791733e-02],\n       [ 2.66793466e-01, -1.76442844e-01],\n       [ 3.52948505e-01,  5.41074884e-02],\n       [-6.16250678e-01, -7.94743163e-02],\n       [-8.60833096e-02, -2.85202375e-01],\n       [ 5.99731269e-01,  7.29311999e-02],\n       [ 3.25366151e-01, -1.69126492e-01],\n       [-6.35791959e-01,  8.38682479e-02],\n       [ 1.96098237e-01,  1.61816236e-02],\n       [ 1.79433082e-02, -5.77928434e-02],\n       [ 2.52406188e-01,  3.59057496e-02],\n       [ 1.70055908e-01, -2.42112767e-01],\n       [-6.14587473e-01,  1.71085793e-01],\n       [-5.97727262e-01,  1.93390762e-01],\n       [-6.70922728e-01, -5.08226343e-02],\n       [ 4.01353720e-01, -3.97341725e-02],\n       [-2.30553155e-02, -1.42146990e-01],\n       [ 7.46805260e-01,  4.43188976e-01],\n       [-6.95830509e-01, -4.89422757e-02]])"
     },
     "execution_count": 9,
     "metadata": {},
     "output_type": "execute_result"
    }
   ]
  },
  {
   "cell_type": "code",
   "metadata": {
    "id": "8L5Xs6hgoblc",
    "ExecuteTime": {
     "start_time": "2023-05-18T16:42:50.421046Z",
     "end_time": "2023-05-18T16:42:50.429632Z"
    }
   },
   "source": [
    "type(transformed_Dataset) # in generale ogni trasformatore da un array"
   ],
   "execution_count": 10,
   "outputs": [
    {
     "data": {
      "text/plain": "numpy.ndarray"
     },
     "execution_count": 10,
     "metadata": {},
     "output_type": "execute_result"
    }
   ]
  },
  {
   "cell_type": "code",
   "metadata": {
    "id": "FJLKK9PAoblg",
    "ExecuteTime": {
     "start_time": "2023-05-18T16:43:06.118743Z",
     "end_time": "2023-05-18T16:43:06.125204Z"
    }
   },
   "source": [
    "tra_df = pd.DataFrame(transformed_Dataset)"
   ],
   "execution_count": 11,
   "outputs": []
  },
  {
   "cell_type": "code",
   "metadata": {
    "id": "lKHsu-qkoblk",
    "ExecuteTime": {
     "start_time": "2023-05-18T16:43:09.205780Z",
     "end_time": "2023-05-18T16:43:09.212691Z"
    }
   },
   "source": [
    "tra_df.shape"
   ],
   "execution_count": 12,
   "outputs": [
    {
     "data": {
      "text/plain": "(120, 2)"
     },
     "execution_count": 12,
     "metadata": {},
     "output_type": "execute_result"
    }
   ]
  },
  {
   "cell_type": "code",
   "metadata": {
    "id": "16mGC01Woblo",
    "ExecuteTime": {
     "start_time": "2023-05-18T16:43:17.434617Z",
     "end_time": "2023-05-18T16:43:17.440391Z"
    }
   },
   "source": [
    "tra_df.head()"
   ],
   "execution_count": 13,
   "outputs": [
    {
     "data": {
      "text/plain": "          0         1\n0  0.392210  0.048456\n1  0.090487 -0.089585\n2 -0.629042  0.133227\n3  0.297395 -0.016936\n4  0.525822 -0.071939",
      "text/html": "<div>\n<style scoped>\n    .dataframe tbody tr th:only-of-type {\n        vertical-align: middle;\n    }\n\n    .dataframe tbody tr th {\n        vertical-align: top;\n    }\n\n    .dataframe thead th {\n        text-align: right;\n    }\n</style>\n<table border=\"1\" class=\"dataframe\">\n  <thead>\n    <tr style=\"text-align: right;\">\n      <th></th>\n      <th>0</th>\n      <th>1</th>\n    </tr>\n  </thead>\n  <tbody>\n    <tr>\n      <th>0</th>\n      <td>0.392210</td>\n      <td>0.048456</td>\n    </tr>\n    <tr>\n      <th>1</th>\n      <td>0.090487</td>\n      <td>-0.089585</td>\n    </tr>\n    <tr>\n      <th>2</th>\n      <td>-0.629042</td>\n      <td>0.133227</td>\n    </tr>\n    <tr>\n      <th>3</th>\n      <td>0.297395</td>\n      <td>-0.016936</td>\n    </tr>\n    <tr>\n      <th>4</th>\n      <td>0.525822</td>\n      <td>-0.071939</td>\n    </tr>\n  </tbody>\n</table>\n</div>"
     },
     "execution_count": 13,
     "metadata": {},
     "output_type": "execute_result"
    }
   ]
  },
  {
   "cell_type": "code",
   "metadata": {
    "id": "TO3kjC_Aobls"
   },
   "source": [
    "# Simple check\n",
    "\n",
    "scaled = MinMaxScaler(feature_range=(0, 1))\n",
    "\n",
    "scaled_X_train = scaled.fit_transform(X_train)\n",
    "\n",
    "print(scaled_X_train[:4])\n",
    "\n",
    "pcaed = PCA(n_components=2)\n",
    "pca_X_train = pcaed.fit_transform(scaled_X_train)"
   ],
   "execution_count": null,
   "outputs": []
  },
  {
   "cell_type": "code",
   "metadata": {
    "id": "ME2wZrA9oblv"
   },
   "source": [
    "pca_X_train[:4]"
   ],
   "execution_count": null,
   "outputs": []
  },
  {
   "cell_type": "markdown",
   "metadata": {
    "id": "DTTN4IG1obly"
   },
   "source": [
    "## ColumnTransformer: Managing different kinds of transformers on different columns:\n",
    "applica un operatore nelle colonne che io scelgo.\n",
    "es:\n",
    "- applicare la PCA solo ad una colonna\n",
    "- applicare il OneHot encoder a **solo** le colonne testuali\n",
    "\n",
    "\n",
    "Extracted and extended from a kaggle.com tutorial"
   ]
  },
  {
   "cell_type": "markdown",
   "metadata": {
    "id": "JFh1gyaPobly"
   },
   "source": [
    "Applies transformers to columns of an array or pandas DataFrame.\n",
    "\n",
    "This estimator allows different columns or column subsets of the input to be transformed separately and the features generated by each transformer will be concatenated to form a single feature space. This is useful for heterogeneous or columnar data, to combine several feature extraction mechanisms or transformations into a single transformer."
   ]
  },
  {
   "cell_type": "code",
   "metadata": {
    "id": "VMlvwlU_oblz",
    "ExecuteTime": {
     "start_time": "2023-05-18T16:53:19.986858Z",
     "end_time": "2023-05-18T16:53:20.043008Z"
    }
   },
   "source": [
    "dataset = pd.read_csv(\"data/melb_data.csv\")\n",
    "dataset.head(5)\n",
    "# vogliamo prevedere il prezzo dati tutti i campi\n",
    "# obbiettivo avere una pipeline che tratti i campi numerici in un modo e i campi testuali in un altro modo\n"
   ],
   "execution_count": 19,
   "outputs": [
    {
     "data": {
      "text/plain": "       Suburb           Address  Rooms Type      Price Method SellerG  \\\n0  Abbotsford      85 Turner St      2    h  1480000.0      S  Biggin   \n1  Abbotsford   25 Bloomburg St      2    h  1035000.0      S  Biggin   \n2  Abbotsford      5 Charles St      3    h  1465000.0     SP  Biggin   \n3  Abbotsford  40 Federation La      3    h   850000.0     PI  Biggin   \n4  Abbotsford       55a Park St      4    h  1600000.0     VB  Nelson   \n\n        Date  Distance  Postcode  ...  Bathroom  Car  Landsize  BuildingArea  \\\n0  3/12/2016       2.5    3067.0  ...       1.0  1.0     202.0           NaN   \n1  4/02/2016       2.5    3067.0  ...       1.0  0.0     156.0          79.0   \n2  4/03/2017       2.5    3067.0  ...       2.0  0.0     134.0         150.0   \n3  4/03/2017       2.5    3067.0  ...       2.0  1.0      94.0           NaN   \n4  4/06/2016       2.5    3067.0  ...       1.0  2.0     120.0         142.0   \n\n   YearBuilt  CouncilArea Lattitude  Longtitude             Regionname  \\\n0        NaN        Yarra  -37.7996    144.9984  Northern Metropolitan   \n1     1900.0        Yarra  -37.8079    144.9934  Northern Metropolitan   \n2     1900.0        Yarra  -37.8093    144.9944  Northern Metropolitan   \n3        NaN        Yarra  -37.7969    144.9969  Northern Metropolitan   \n4     2014.0        Yarra  -37.8072    144.9941  Northern Metropolitan   \n\n  Propertycount  \n0        4019.0  \n1        4019.0  \n2        4019.0  \n3        4019.0  \n4        4019.0  \n\n[5 rows x 21 columns]",
      "text/html": "<div>\n<style scoped>\n    .dataframe tbody tr th:only-of-type {\n        vertical-align: middle;\n    }\n\n    .dataframe tbody tr th {\n        vertical-align: top;\n    }\n\n    .dataframe thead th {\n        text-align: right;\n    }\n</style>\n<table border=\"1\" class=\"dataframe\">\n  <thead>\n    <tr style=\"text-align: right;\">\n      <th></th>\n      <th>Suburb</th>\n      <th>Address</th>\n      <th>Rooms</th>\n      <th>Type</th>\n      <th>Price</th>\n      <th>Method</th>\n      <th>SellerG</th>\n      <th>Date</th>\n      <th>Distance</th>\n      <th>Postcode</th>\n      <th>...</th>\n      <th>Bathroom</th>\n      <th>Car</th>\n      <th>Landsize</th>\n      <th>BuildingArea</th>\n      <th>YearBuilt</th>\n      <th>CouncilArea</th>\n      <th>Lattitude</th>\n      <th>Longtitude</th>\n      <th>Regionname</th>\n      <th>Propertycount</th>\n    </tr>\n  </thead>\n  <tbody>\n    <tr>\n      <th>0</th>\n      <td>Abbotsford</td>\n      <td>85 Turner St</td>\n      <td>2</td>\n      <td>h</td>\n      <td>1480000.0</td>\n      <td>S</td>\n      <td>Biggin</td>\n      <td>3/12/2016</td>\n      <td>2.5</td>\n      <td>3067.0</td>\n      <td>...</td>\n      <td>1.0</td>\n      <td>1.0</td>\n      <td>202.0</td>\n      <td>NaN</td>\n      <td>NaN</td>\n      <td>Yarra</td>\n      <td>-37.7996</td>\n      <td>144.9984</td>\n      <td>Northern Metropolitan</td>\n      <td>4019.0</td>\n    </tr>\n    <tr>\n      <th>1</th>\n      <td>Abbotsford</td>\n      <td>25 Bloomburg St</td>\n      <td>2</td>\n      <td>h</td>\n      <td>1035000.0</td>\n      <td>S</td>\n      <td>Biggin</td>\n      <td>4/02/2016</td>\n      <td>2.5</td>\n      <td>3067.0</td>\n      <td>...</td>\n      <td>1.0</td>\n      <td>0.0</td>\n      <td>156.0</td>\n      <td>79.0</td>\n      <td>1900.0</td>\n      <td>Yarra</td>\n      <td>-37.8079</td>\n      <td>144.9934</td>\n      <td>Northern Metropolitan</td>\n      <td>4019.0</td>\n    </tr>\n    <tr>\n      <th>2</th>\n      <td>Abbotsford</td>\n      <td>5 Charles St</td>\n      <td>3</td>\n      <td>h</td>\n      <td>1465000.0</td>\n      <td>SP</td>\n      <td>Biggin</td>\n      <td>4/03/2017</td>\n      <td>2.5</td>\n      <td>3067.0</td>\n      <td>...</td>\n      <td>2.0</td>\n      <td>0.0</td>\n      <td>134.0</td>\n      <td>150.0</td>\n      <td>1900.0</td>\n      <td>Yarra</td>\n      <td>-37.8093</td>\n      <td>144.9944</td>\n      <td>Northern Metropolitan</td>\n      <td>4019.0</td>\n    </tr>\n    <tr>\n      <th>3</th>\n      <td>Abbotsford</td>\n      <td>40 Federation La</td>\n      <td>3</td>\n      <td>h</td>\n      <td>850000.0</td>\n      <td>PI</td>\n      <td>Biggin</td>\n      <td>4/03/2017</td>\n      <td>2.5</td>\n      <td>3067.0</td>\n      <td>...</td>\n      <td>2.0</td>\n      <td>1.0</td>\n      <td>94.0</td>\n      <td>NaN</td>\n      <td>NaN</td>\n      <td>Yarra</td>\n      <td>-37.7969</td>\n      <td>144.9969</td>\n      <td>Northern Metropolitan</td>\n      <td>4019.0</td>\n    </tr>\n    <tr>\n      <th>4</th>\n      <td>Abbotsford</td>\n      <td>55a Park St</td>\n      <td>4</td>\n      <td>h</td>\n      <td>1600000.0</td>\n      <td>VB</td>\n      <td>Nelson</td>\n      <td>4/06/2016</td>\n      <td>2.5</td>\n      <td>3067.0</td>\n      <td>...</td>\n      <td>1.0</td>\n      <td>2.0</td>\n      <td>120.0</td>\n      <td>142.0</td>\n      <td>2014.0</td>\n      <td>Yarra</td>\n      <td>-37.8072</td>\n      <td>144.9941</td>\n      <td>Northern Metropolitan</td>\n      <td>4019.0</td>\n    </tr>\n  </tbody>\n</table>\n<p>5 rows × 21 columns</p>\n</div>"
     },
     "execution_count": 19,
     "metadata": {},
     "output_type": "execute_result"
    }
   ]
  },
  {
   "cell_type": "code",
   "metadata": {
    "id": "LZaxsDm7CeAH"
   },
   "source": [
    "dataset.describe()"
   ],
   "execution_count": null,
   "outputs": []
  },
  {
   "cell_type": "code",
   "metadata": {
    "id": "RNV8PaHeqCy8"
   },
   "source": [
    "dataset['Price']"
   ],
   "execution_count": null,
   "outputs": []
  },
  {
   "cell_type": "code",
   "metadata": {
    "id": "F8Ci5WYa1aO5"
   },
   "source": [
    "#dataset = dataset[dataset['Price'].isnull()==False]"
   ],
   "execution_count": null,
   "outputs": []
  },
  {
   "cell_type": "code",
   "metadata": {
    "id": "2LG8rSz816JO"
   },
   "source": [
    "columns = dataset.columns.to_list()\n",
    "columns"
   ],
   "execution_count": null,
   "outputs": []
  },
  {
   "cell_type": "code",
   "metadata": {
    "id": "V17ehSlf2BPl"
   },
   "source": [
    "if 'Price' in columns:\n",
    "  columns.remove('Price')\n",
    "\n",
    "X = dataset[columns]\n",
    "y = dataset['Price']"
   ],
   "execution_count": null,
   "outputs": []
  },
  {
   "cell_type": "code",
   "metadata": {
    "id": "fGUx1xBqyq8c"
   },
   "source": [
    "X.info()"
   ],
   "execution_count": null,
   "outputs": []
  },
  {
   "cell_type": "code",
   "metadata": {
    "id": "DS90cjBzy0lu"
   },
   "source": [
    "#X = X[['Longtitude', 'Lattitude', 'YearBuilt', 'Car', 'Bathroom', 'Bedroom2', 'Rooms', 'Postcode']]\n",
    "#X.isnull().any(axis=0)\n",
    "#X.fillna(0, inplace=True)"
   ],
   "execution_count": null,
   "outputs": []
  },
  {
   "cell_type": "code",
   "metadata": {
    "id": "m7mrMSObobl2"
   },
   "source": [
    "from sklearn.model_selection import train_test_split\n",
    "\n",
    "X_train, X_test, y_train, y_test = train_test_split(X, y, train_size=0.8, test_size=0.2,\n",
    "                                                      random_state=0)"
   ],
   "execution_count": null,
   "outputs": []
  },
  {
   "cell_type": "markdown",
   "metadata": {
    "id": "hGEJK9Zxobl5"
   },
   "source": [
    "We construct the full pipeline in three steps.\n",
    "* Step 1: Define Preprocessing Steps\n",
    "* Step 2: Define the Model\n",
    "* Step 3: Create and Evaluate the Pipeline"
   ]
  },
  {
   "cell_type": "markdown",
   "metadata": {
    "id": "0-PoHVD6obl5"
   },
   "source": [
    "### Step 1: Define Preprocessing Steps\n",
    "\n",
    "Similar to how a pipeline bundles together preprocessing and modeling steps, we use the ColumnTransformer class to bundle together different preprocessing steps. The code below:\n",
    "- imputes missing values in numerical data, and\n",
    "- imputes missing values and applies a one-hot encoding to categorical data."
   ]
  },
  {
   "cell_type": "code",
   "metadata": {
    "id": "jKK73oqqobl6"
   },
   "source": [
    "# \"Cardinality\" means the number of unique values in a column\n",
    "# Select categorical columns with relatively low cardinality (convenient but arbitrary)\n",
    "categorical_cols = [cname for cname in X_train.columns if\n",
    "                    X_train[cname].nunique() < 10 and \n",
    "                    X_train[cname].dtype == \"object\"]\n",
    "\n",
    "# Select numerical columns\n",
    "numerical_cols = [cname for cname in X_train.columns if \n",
    "                X_train[cname].dtype in ['int64', 'float64']]"
   ],
   "execution_count": null,
   "outputs": []
  },
  {
   "cell_type": "code",
   "metadata": {
    "id": "bRUEiXIzobl9"
   },
   "source": [
    "categorical_cols"
   ],
   "execution_count": null,
   "outputs": []
  },
  {
   "cell_type": "code",
   "metadata": {
    "id": "5aNfQzDiZbEn"
   },
   "source": [
    "numerical_cols"
   ],
   "execution_count": null,
   "outputs": []
  },
  {
   "cell_type": "code",
   "metadata": {
    "id": "92FxI0M5obmA"
   },
   "source": [
    "from sklearn.compose import ColumnTransformer\n",
    "from sklearn.pipeline import Pipeline\n",
    "from sklearn.impute import SimpleImputer\n",
    "from sklearn.preprocessing import OneHotEncoder\n",
    "\n",
    "# Preprocessing for numerical data\n",
    "numerical_transformer = SimpleImputer(strategy='most_frequent')\n",
    "\n",
    "\n",
    "\n",
    "# Preprocessing for categorical data\n",
    "categorical_transformer = Pipeline(steps=[\n",
    "    ('imputer', SimpleImputer(strategy='most_frequent')),\n",
    "    ('onehot', OneHotEncoder(handle_unknown='ignore', sparse = False))\n",
    "])\n",
    "\n",
    "# Bundle preprocessing for numerical and categorical data\n",
    "preprocessor = ColumnTransformer(\n",
    "    transformers=[\n",
    "       ('num', numerical_transformer, numerical_cols),\n",
    "       ('cat', categorical_transformer, categorical_cols)\n",
    "    ])"
   ],
   "execution_count": null,
   "outputs": []
  },
  {
   "cell_type": "markdown",
   "metadata": {
    "id": "_hRjslTmobmD"
   },
   "source": [
    "### Step 2: Define the Model"
   ]
  },
  {
   "cell_type": "code",
   "metadata": {
    "id": "eWIX8r6CobmD"
   },
   "source": [
    "from sklearn.ensemble import RandomForestRegressor\n",
    "\n",
    "model = RandomForestRegressor(n_estimators=100, random_state=0)"
   ],
   "execution_count": null,
   "outputs": []
  },
  {
   "cell_type": "markdown",
   "metadata": {
    "id": "g6ai-ydFobmG"
   },
   "source": [
    "### Step 3: Create and Evaluate the Pipeline"
   ]
  },
  {
   "cell_type": "code",
   "metadata": {
    "id": "RXNt7vkFobmG"
   },
   "source": [
    "from sklearn.metrics import mean_absolute_error\n",
    "\n",
    "# Bundle preprocessing and modeling code in a pipeline\n",
    "my_pipeline = Pipeline(steps=[\n",
    "                              ('preprocessor', preprocessor),\n",
    "                              ('model', model),\n",
    "                             ])\n",
    "\n",
    "# Preprocessing of training data, fit model \n",
    "my_pipeline.fit(X_train, y_train)\n",
    "\n",
    "# Preprocessing of validation data, get predictions\n",
    "preds = my_pipeline.predict(X_test)\n",
    "\n",
    "# Evaluate the model\n",
    "score = mean_absolute_error(y_test, preds)\n",
    "print('MAE:', score)"
   ],
   "execution_count": null,
   "outputs": []
  },
  {
   "cell_type": "code",
   "metadata": {
    "id": "Mf63rSRgEiur"
   },
   "source": [
    "sum(preds==np.NAN)"
   ],
   "execution_count": null,
   "outputs": []
  },
  {
   "cell_type": "code",
   "metadata": {
    "id": "HM5NHhwxxS4Y"
   },
   "source": [
    "from sklearn.metrics import r2_score\n",
    "\n",
    "r2_score(y_test, preds)"
   ],
   "execution_count": null,
   "outputs": []
  },
  {
   "cell_type": "code",
   "metadata": {
    "id": "eRfHs-yiavrp"
   },
   "source": [
    "pd.DataFrame({'label':y_test, 'preds':preds}).head(4)"
   ],
   "execution_count": null,
   "outputs": []
  },
  {
   "cell_type": "markdown",
   "metadata": {
    "id": "8K-EWe2FobmJ"
   },
   "source": [
    "### Parameter tuning\n",
    "\n",
    "Setting parameters of the various steps is enabled by using their names and the parameter name separated by a ‘__’"
   ]
  },
  {
   "cell_type": "code",
   "metadata": {
    "id": "oq0u5V5pobmJ"
   },
   "source": [
    "# Example using a Grid Search\n",
    "from sklearn.model_selection import GridSearchCV\n",
    "\n",
    "parameters = {\n",
    "    'model__n_estimators': [10,50,100],\n",
    "    'preprocessor__num__strategy': ['most_frequent','constant'],\n",
    "    'preprocessor__cat__imputer__strategy': ['most_frequent','constant'],\n",
    "}\n",
    "\n",
    "gs_clf = GridSearchCV(my_pipeline, parameters, scoring='neg_mean_absolute_error', cv=5, n_jobs=-1)\n",
    "\n",
    "gs_clf.fit(X, y)"
   ],
   "execution_count": null,
   "outputs": []
  },
  {
   "cell_type": "code",
   "metadata": {
    "id": "KvRWEnAPobmM"
   },
   "source": [
    "gs_clf.best_params_"
   ],
   "execution_count": null,
   "outputs": []
  },
  {
   "cell_type": "code",
   "metadata": {
    "id": "Jxrfu7-VobmP"
   },
   "source": [
    "gs_clf.best_score_"
   ],
   "execution_count": null,
   "outputs": []
  },
  {
   "cell_type": "markdown",
   "metadata": {
    "id": "KaTj0X-v35bO"
   },
   "source": [
    "Applying the pipeline only to some attributes only"
   ]
  },
  {
   "cell_type": "code",
   "metadata": {
    "id": "qFhPlFaf35XI"
   },
   "source": [
    "from sklearn.compose import ColumnTransformer\n",
    "from sklearn.pipeline import Pipeline\n",
    "from sklearn.impute import SimpleImputer\n",
    "from sklearn.preprocessing import OneHotEncoder\n",
    "\n",
    "# Preprocessing for numerical data\n",
    "numerical_transformer = SimpleImputer(strategy='most_frequent')\n",
    "\n",
    "\n",
    "# Bundle preprocessing for numerical and categorical data\n",
    "preprocessor = ColumnTransformer(\n",
    "    transformers=[('num', numerical_transformer, numerical_cols)],\n",
    "       remainder='passthrough')"
   ],
   "execution_count": null,
   "outputs": []
  },
  {
   "cell_type": "code",
   "metadata": {
    "id": "ct-_7Rjk35TJ"
   },
   "source": [
    "#This generate an error!\n",
    "\n",
    "from sklearn.metrics import mean_absolute_error\n",
    "\n",
    "# Bundle preprocessing and modeling code in a pipeline\n",
    "my_pipeline = Pipeline(steps=[\n",
    "                              ('preprocessor', preprocessor),\n",
    "                              ('model', model),\n",
    "                             ])\n",
    "\n",
    "# Preprocessing of training data, fit model \n",
    "my_pipeline.fit(X_train, y_train)\n",
    "\n",
    "# Preprocessing of validation data, get predictions\n",
    "preds = my_pipeline.predict(X_test)\n",
    "\n",
    "# Evaluate the model\n",
    "score = mean_absolute_error(y_test, preds)\n",
    "print('MAE:', score)"
   ],
   "execution_count": null,
   "outputs": []
  },
  {
   "cell_type": "markdown",
   "metadata": {
    "id": "jb6_UAG65-Jm"
   },
   "source": [
    "Remainder with estimator"
   ]
  },
  {
   "cell_type": "code",
   "metadata": {
    "id": "5lQIptjd35Pp"
   },
   "source": [
    "from sklearn.compose import ColumnTransformer\n",
    "from sklearn.pipeline import Pipeline\n",
    "from sklearn.impute import SimpleImputer\n",
    "from sklearn.preprocessing import OneHotEncoder\n",
    "\n",
    "# Preprocessing for numerical data\n",
    "numerical_transformer = SimpleImputer(strategy='most_frequent')\n",
    "\n",
    "\n",
    "# Bundle preprocessing for numerical and categorical data\n",
    "preprocessor = ColumnTransformer(\n",
    "    transformers=[('num', numerical_transformer, numerical_cols)],\n",
    "       remainder=OneHotEncoder(handle_unknown='ignore', sparse = False))"
   ],
   "execution_count": null,
   "outputs": []
  },
  {
   "cell_type": "code",
   "metadata": {
    "id": "rI97aol635LT"
   },
   "source": [
    "\n",
    "from sklearn.metrics import mean_absolute_error\n",
    "\n",
    "# Bundle preprocessing and modeling code in a pipeline\n",
    "my_pipeline = Pipeline(steps=[\n",
    "                              ('preprocessor', preprocessor),\n",
    "                              ('model', model),\n",
    "                             ])\n",
    "\n",
    "# Preprocessing of training data, fit model \n",
    "my_pipeline.fit(X_train, y_train)\n",
    "\n",
    "# Preprocessing of validation data, get predictions\n",
    "preds = my_pipeline.predict(X_test)\n",
    "\n",
    "# Evaluate the model\n",
    "score = mean_absolute_error(y_test, preds)\n",
    "print('MAE:', score)"
   ],
   "execution_count": null,
   "outputs": []
  },
  {
   "cell_type": "markdown",
   "metadata": {
    "id": "HmDqfp6m7t0F"
   },
   "source": [
    "Alternative techniques to indicate columns"
   ]
  },
  {
   "cell_type": "code",
   "metadata": {
    "id": "raC6aGYM35Et"
   },
   "source": [
    "X.columns.get_indexer(numerical_cols)"
   ],
   "execution_count": null,
   "outputs": []
  },
  {
   "cell_type": "code",
   "metadata": {
    "id": "kME5cfj87lbj"
   },
   "source": [
    "from sklearn.compose import ColumnTransformer\n",
    "from sklearn.pipeline import Pipeline\n",
    "from sklearn.impute import SimpleImputer\n",
    "from sklearn.preprocessing import OneHotEncoder\n",
    "\n",
    "# Preprocessing for numerical data\n",
    "numerical_transformer = SimpleImputer(strategy='most_frequent')\n",
    "\n",
    "\n",
    "# Bundle preprocessing for numerical and categorical data\n",
    "preprocessor = ColumnTransformer(\n",
    "    transformers=[('num', numerical_transformer, X.columns.get_indexer(numerical_cols))])"
   ],
   "execution_count": null,
   "outputs": []
  },
  {
   "cell_type": "code",
   "metadata": {
    "id": "yHcDPzXv72a8"
   },
   "source": [
    "preprocessor.fit_transform(X_train)"
   ],
   "execution_count": null,
   "outputs": []
  },
  {
   "cell_type": "markdown",
   "metadata": {
    "id": "lx9ZXiWu-78z"
   },
   "source": [
    "Be carefull!"
   ]
  },
  {
   "cell_type": "code",
   "metadata": {
    "id": "w912RS-B72X-"
   },
   "source": [
    "#This code generates a mistake\n",
    "\n",
    "from sklearn.compose import ColumnTransformer\n",
    "from sklearn.pipeline import Pipeline\n",
    "from sklearn.impute import SimpleImputer\n",
    "\n",
    "\n",
    "# Preprocessing for all dataset\n",
    "simple=SimpleImputer(strategy='most_frequent')\n",
    "\n",
    "# Preprocessing for numerical data\n",
    "numerical_transformer = Normalizer()\n",
    "\n",
    "\n",
    "# Bundle preprocessing for numerical\n",
    "preprocessor = ColumnTransformer(\n",
    "    transformers=[('num', numerical_transformer, numerical_cols)])\n",
    "\n",
    "# Bundle preprocessing \n",
    "preprocessing_transformer = Pipeline(steps=[('simple', simple),\n",
    "                                            ('preprocessor', preprocessor)\n",
    "                                            ])"
   ],
   "execution_count": null,
   "outputs": []
  },
  {
   "cell_type": "code",
   "metadata": {
    "id": "4cT-Bgt2-x-S"
   },
   "source": [],
   "execution_count": null,
   "outputs": []
  },
  {
   "cell_type": "code",
   "metadata": {
    "id": "gYkUII8e-vEH"
   },
   "source": [
    "preprocessing_transformer.fit_transform(X_train)"
   ],
   "execution_count": null,
   "outputs": []
  },
  {
   "cell_type": "code",
   "metadata": {
    "id": "FbOWVJ98-vLF"
   },
   "source": [
    "X_train.columns.get_indexer(numerical_cols)"
   ],
   "execution_count": null,
   "outputs": []
  },
  {
   "cell_type": "code",
   "metadata": {
    "id": "_2irXoI--vUP"
   },
   "source": [
    "from sklearn.compose import ColumnTransformer\n",
    "from sklearn.pipeline import Pipeline\n",
    "from sklearn.impute import SimpleImputer\n",
    "\n",
    "\n",
    "# Preprocessing for all dataset\n",
    "simple=SimpleImputer(strategy='most_frequent')\n",
    "\n",
    "# Preprocessing for numerical data\n",
    "numerical_transformer = Normalizer()\n",
    "\n",
    "\n",
    "# Bundle preprocessing for numerical\n",
    "preprocessor = ColumnTransformer(\n",
    "    transformers=[('num', numerical_transformer, X_train.columns.get_indexer(numerical_cols))])\n",
    "\n",
    "# Bundle preprocessing \n",
    "preprocessing_transformer = Pipeline(steps=[('simple', simple),\n",
    "                                            ('preprocessor', preprocessor)\n",
    "                                            ])"
   ],
   "execution_count": null,
   "outputs": []
  },
  {
   "cell_type": "code",
   "metadata": {
    "id": "-z2lo21y-vbV"
   },
   "source": [
    "preprocessing_transformer.fit_transform(X_train)"
   ],
   "execution_count": null,
   "outputs": []
  },
  {
   "cell_type": "markdown",
   "metadata": {
    "id": "jh8L2_reobmS"
   },
   "source": [
    "## FeatureUnion: Applying multiple transformers in parallel\n",
    "\n",
    "Concatenates results of multiple transformer objects.\n",
    "\n",
    "This estimator applies a list of transformer objects in parallel to the input data, then concatenates the results. This is useful to combine several feature extraction mechanisms into a single transformer."
   ]
  },
  {
   "cell_type": "code",
   "metadata": {
    "id": "jirOU1nHobmT"
   },
   "source": [
    "from sklearn.pipeline import FeatureUnion\n",
    "from sklearn.decomposition import PCA, TruncatedSVD\n",
    "from sklearn.feature_selection import SelectKBest\n",
    "from sklearn.preprocessing import MinMaxScaler\n",
    "from sklearn.compose import ColumnTransformer\n",
    "from sklearn.pipeline import Pipeline\n",
    "from sklearn.impute import SimpleImputer"
   ],
   "execution_count": null,
   "outputs": []
  },
  {
   "cell_type": "code",
   "metadata": {
    "id": "f7jHSp7OobmW"
   },
   "source": [
    "from sklearn import datasets\n",
    "iris = datasets.load_iris()\n",
    "\n",
    "X = iris.data\n",
    "y = iris.target\n",
    "\n",
    "from sklearn.model_selection import train_test_split\n",
    "X_train, X_valid, y_train, y_valid = train_test_split(X, y, train_size=0.8, test_size=0.2,\n",
    "                                                      random_state=0)"
   ],
   "execution_count": null,
   "outputs": []
  },
  {
   "cell_type": "code",
   "metadata": {
    "id": "PXyL4nu5flE1"
   },
   "source": [
    "iris.feature_names"
   ],
   "execution_count": null,
   "outputs": []
  },
  {
   "cell_type": "code",
   "metadata": {
    "id": "KQbn7EqTobmY"
   },
   "source": [
    "# This dataset is way too high-dimensional. Better do PCA:\n",
    "pca = PCA(n_components=2)\n",
    "\n",
    "# Maybe some original features where good, too?\n",
    "selection = SelectKBest(k=2)\n",
    "\n",
    "#Normalizing is always a good choice\n",
    "scaler = MinMaxScaler(feature_range=(0, 1))\n",
    "\n",
    "# Build estimator from PCA and Univariate selection:\n",
    "\n",
    "combined_features = FeatureUnion([(\"pca\", pca), (\"univ_select\", selection), (\"normal\", scaler)])"
   ],
   "execution_count": null,
   "outputs": []
  },
  {
   "cell_type": "code",
   "metadata": {
    "id": "Ce6C9Q3EgIa4"
   },
   "source": [
    "X.shape[1]"
   ],
   "execution_count": null,
   "outputs": []
  },
  {
   "cell_type": "code",
   "metadata": {
    "id": "7osE0a4it7bJ"
   },
   "source": [
    "pca.fit_transform(X).shape[1]"
   ],
   "execution_count": null,
   "outputs": []
  },
  {
   "cell_type": "code",
   "metadata": {
    "id": "pDVRsyN1f88J"
   },
   "source": [
    "selection.fit_transform(X, y).shape[1]"
   ],
   "execution_count": null,
   "outputs": []
  },
  {
   "cell_type": "code",
   "metadata": {
    "id": "-pyfNLFXgB_N"
   },
   "source": [
    "scaler.fit_transform(X).shape[1]"
   ],
   "execution_count": null,
   "outputs": []
  },
  {
   "cell_type": "code",
   "metadata": {
    "id": "r_W8ifzSobma"
   },
   "source": [
    "# Use combined features to transform dataset:\n",
    "X_features = combined_features.fit(X, y).transform(X)\n",
    "print(\"Combined space has\", X_features.shape[1], \"features\")"
   ],
   "execution_count": null,
   "outputs": []
  },
  {
   "cell_type": "code",
   "metadata": {
    "id": "9gwwLKJjobmd"
   },
   "source": [
    "from sklearn.linear_model import LogisticRegression\n",
    "from sklearn.metrics import accuracy_score\n",
    "model = LogisticRegression()\n",
    "\n",
    "\n",
    "# Bundle preprocessing and modeling code in a pipeline\n",
    "my_pipeline = Pipeline(steps=[('combined_features', combined_features),\n",
    "                              ('model', model)\n",
    "                             ], verbose = True)\n",
    "\n",
    "# Preprocessing of training data, fit model \n",
    "my_pipeline.fit(X_train, y_train)\n",
    "\n",
    "# Preprocessing of validation data, get predictions\n",
    "preds = my_pipeline.predict(X_valid)\n",
    "\n",
    "# Evaluate the model\n",
    "score = accuracy_score(y_valid, preds)\n",
    "print('Accuracy Score:', score)"
   ],
   "execution_count": null,
   "outputs": []
  },
  {
   "cell_type": "code",
   "metadata": {
    "id": "1BG0FNsngb6X"
   },
   "source": [],
   "execution_count": null,
   "outputs": []
  },
  {
   "cell_type": "markdown",
   "metadata": {
    "id": "vn9o0tbbobmg"
   },
   "source": [
    "## FunctionTransformer: Constructs a transformer from an arbitrary callable.\n",
    "\n",
    "Concatenates results of multiple transformer objects.\n",
    "\n",
    "This estimator applies a list of transformer objects in parallel to the input data, then concatenates the results. This is useful to combine several feature extraction mechanisms into a single transformer."
   ]
  },
  {
   "cell_type": "code",
   "metadata": {
    "id": "YotoIWBqobmg"
   },
   "source": [
    "from sklearn.preprocessing import FunctionTransformer\n",
    "from sklearn.ensemble import RandomForestRegressor\n",
    "\n",
    "dataset = pd.read_csv(\"melb_data.csv\")\n",
    "columns = dataset.columns.to_list()\n",
    "columns.remove('Price')\n",
    "X = dataset[columns]\n",
    "y = dataset['Price']\n",
    "\n",
    "X_train, X_valid, y_train, y_valid = train_test_split(X, y, train_size=0.8, test_size=0.2,\n",
    "                                                      random_state=0)\n",
    "\n",
    "#Selecting the numerical columns\n",
    "def columns_num(X):\n",
    "    numerical_cols = [cname for cname in X.columns if  X[cname].dtype in ['int64', 'float64']]\n",
    "    return X.loc[:,numerical_cols]\n",
    "\n",
    "fill_na_transformer = Pipeline(steps=[ ('drop_cols', FunctionTransformer(columns_num, validate=False)),\n",
    "                                       ('fill_na', SimpleImputer(strategy='most_frequent'))  ], verbose=True)\n",
    "\n",
    "\n",
    "model = RandomForestRegressor(n_estimators=100, random_state=0)\n",
    "\n",
    "\n",
    "\n",
    "# Bundle preprocessing and modeling code in a pipeline\n",
    "my_pipeline = Pipeline(steps=[('preprocessor', fill_na_transformer),\n",
    "                              ('model', model)\n",
    "                             ])\n",
    "\n",
    "# Preprocessing of training data, fit model \n",
    "my_pipeline.fit(X_train, y_train)\n",
    "\n",
    "# Preprocessing of validation data, get predictions\n",
    "preds = my_pipeline.predict(X_valid)\n",
    "\n",
    "# Evaluate the model\n",
    "#score = mean_absolute_error(y_valid, preds)\n",
    "#print('MAE:', score)"
   ],
   "execution_count": null,
   "outputs": []
  },
  {
   "cell_type": "code",
   "metadata": {
    "id": "3G-fIF9meCux"
   },
   "source": [
    "fill_na_transformer.fit_transform(X) "
   ],
   "execution_count": null,
   "outputs": []
  },
  {
   "cell_type": "code",
   "metadata": {
    "id": "eStlaWKVR519"
   },
   "source": [
    "fill_na_transformer = Pipeline(steps=[ ('drop_cols', FunctionTransformer(columns_num, validate=True)),\n",
    "                                       ('fill_na', SimpleImputer(strategy='most_frequent'))  ])"
   ],
   "execution_count": null,
   "outputs": []
  },
  {
   "cell_type": "code",
   "metadata": {
    "id": "aCZBPavrR9-7"
   },
   "source": [
    "fill_na_transformer.fit_transform(X) "
   ],
   "execution_count": null,
   "outputs": []
  },
  {
   "cell_type": "code",
   "metadata": {
    "id": "Gv-nhf4RR_dx"
   },
   "source": [
    "columns_num(X)"
   ],
   "execution_count": null,
   "outputs": []
  },
  {
   "cell_type": "code",
   "metadata": {
    "id": "hezaP5MOTY61"
   },
   "source": [],
   "execution_count": null,
   "outputs": []
  }
 ]
}
