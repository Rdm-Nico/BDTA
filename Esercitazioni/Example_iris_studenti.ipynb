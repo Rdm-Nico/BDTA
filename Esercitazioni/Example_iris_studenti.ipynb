{
 "nbformat": 4,
 "nbformat_minor": 0,
 "metadata": {
  "colab": {
   "provenance": [],
   "authorship_tag": "ABX9TyPFQUIMRKWB0eSvIA+xns9O"
  },
  "kernelspec": {
   "name": "python3",
   "language": "python",
   "display_name": "Python 3 (ipykernel)"
  },
  "language_info": {
   "name": "python"
  }
 },
 "cells": [
  {
   "cell_type": "markdown",
   "source": [
    "# Esercizio\n",
    "1. Creare un dataframe che contenga i valori di iris\n",
    "2. Creare due nuovi attributi che rappresentano l'area del petalo e del sepalo. Calcolare l'accuratezza con una divisione train /test 0.75/0.25 e un Decision Tree Classifier\n",
    "3. Creare una discretizzazione dei valori in 4 bin (per ogni colonna del dataset), sostituire al dataset iniziale e calcolare l'accuratezza\n",
    "4. Standardizzare il dataset del punto 2 e calcolare l'accuratezza con il classificatore di prima \n",
    "5. Applicare il logaritmo (trasformazione custom) a tutte le colonne del dataset del punto 2 e calcolare l'accuratezza con il classificatore di prima \n",
    "6. Creare una nuova colonna che abbia valore 1 se e solo se l'area del petalo e l'area del sepalo hanno entrambe valore superiore a 4 e calcolare l'accuratezza con il classificatore di prima"
   ],
   "metadata": {
    "id": "LeqYqYg0N-QD"
   }
  },
  {
   "cell_type": "code",
   "source": [
    "%matplotlib inline\n",
    "import matplotlib.pyplot as plt\n",
    "import numpy as np\n",
    "import pandas as pd\n",
    "import sklearn as sk\n",
    "from sklearn import datasets"
   ],
   "metadata": {
    "id": "cCe3volwOI70",
    "ExecuteTime": {
     "start_time": "2023-04-21T17:27:37.967804Z",
     "end_time": "2023-04-21T17:27:38.005845Z"
    }
   },
   "execution_count": 4,
   "outputs": []
  },
  {
   "cell_type": "code",
   "source": [
    "def accuracy(pred, result):\n",
    "  return 1-(abs(pred-result)).sum()/len(result)"
   ],
   "metadata": {
    "id": "wmwGTVeSO226",
    "ExecuteTime": {
     "start_time": "2023-04-21T17:27:37.971334Z",
     "end_time": "2023-04-21T17:27:38.006079Z"
    }
   },
   "execution_count": 5,
   "outputs": []
  },
  {
   "cell_type": "code",
   "source": [
    "iris = datasets.load_iris()"
   ],
   "metadata": {
    "id": "ellDjOt2ORnK",
    "ExecuteTime": {
     "start_time": "2023-04-21T17:27:37.973850Z",
     "end_time": "2023-04-21T17:27:38.006156Z"
    }
   },
   "execution_count": 6,
   "outputs": []
  },
  {
   "cell_type": "code",
   "source": [
    "iris['target_names']"
   ],
   "metadata": {
    "id": "fisN65liOW6v",
    "ExecuteTime": {
     "start_time": "2023-04-21T17:27:37.980156Z",
     "end_time": "2023-04-21T17:27:38.023433Z"
    }
   },
   "execution_count": 7,
   "outputs": [
    {
     "data": {
      "text/plain": "array(['setosa', 'versicolor', 'virginica'], dtype='<U10')"
     },
     "execution_count": 7,
     "metadata": {},
     "output_type": "execute_result"
    }
   ]
  },
  {
   "cell_type": "code",
   "source": [
    "iris['feature_names']"
   ],
   "metadata": {
    "id": "kfYKv46LOaC-",
    "ExecuteTime": {
     "start_time": "2023-04-21T17:27:37.983362Z",
     "end_time": "2023-04-21T17:27:38.024110Z"
    }
   },
   "execution_count": 8,
   "outputs": [
    {
     "data": {
      "text/plain": "['sepal length (cm)',\n 'sepal width (cm)',\n 'petal length (cm)',\n 'petal width (cm)']"
     },
     "execution_count": 8,
     "metadata": {},
     "output_type": "execute_result"
    }
   ]
  },
  {
   "cell_type": "code",
   "source": [
    "X = iris.data\n",
    "y = iris.target # target value"
   ],
   "metadata": {
    "id": "q2pu_uzxOcGP",
    "ExecuteTime": {
     "start_time": "2023-04-21T17:27:37.986371Z",
     "end_time": "2023-04-21T17:27:38.024222Z"
    }
   },
   "execution_count": 9,
   "outputs": []
  },
  {
   "cell_type": "code",
   "source": [
    "df = pd.DataFrame(X, columns=iris['feature_names']) # crea il df dove sul nome delle colonne mette le features "
   ],
   "metadata": {
    "id": "eV5FLBZVOowf",
    "ExecuteTime": {
     "start_time": "2023-04-21T17:27:37.990823Z",
     "end_time": "2023-04-21T17:27:38.024542Z"
    }
   },
   "execution_count": 10,
   "outputs": []
  },
  {
   "cell_type": "code",
   "source": [
    "df"
   ],
   "metadata": {
    "id": "bNgwgE8-Ov40",
    "ExecuteTime": {
     "start_time": "2023-04-21T17:27:37.992882Z",
     "end_time": "2023-04-21T17:27:38.024698Z"
    }
   },
   "execution_count": 11,
   "outputs": [
    {
     "data": {
      "text/plain": "     sepal length (cm)  sepal width (cm)  petal length (cm)  petal width (cm)\n0                  5.1               3.5                1.4               0.2\n1                  4.9               3.0                1.4               0.2\n2                  4.7               3.2                1.3               0.2\n3                  4.6               3.1                1.5               0.2\n4                  5.0               3.6                1.4               0.2\n..                 ...               ...                ...               ...\n145                6.7               3.0                5.2               2.3\n146                6.3               2.5                5.0               1.9\n147                6.5               3.0                5.2               2.0\n148                6.2               3.4                5.4               2.3\n149                5.9               3.0                5.1               1.8\n\n[150 rows x 4 columns]",
      "text/html": "<div>\n<style scoped>\n    .dataframe tbody tr th:only-of-type {\n        vertical-align: middle;\n    }\n\n    .dataframe tbody tr th {\n        vertical-align: top;\n    }\n\n    .dataframe thead th {\n        text-align: right;\n    }\n</style>\n<table border=\"1\" class=\"dataframe\">\n  <thead>\n    <tr style=\"text-align: right;\">\n      <th></th>\n      <th>sepal length (cm)</th>\n      <th>sepal width (cm)</th>\n      <th>petal length (cm)</th>\n      <th>petal width (cm)</th>\n    </tr>\n  </thead>\n  <tbody>\n    <tr>\n      <th>0</th>\n      <td>5.1</td>\n      <td>3.5</td>\n      <td>1.4</td>\n      <td>0.2</td>\n    </tr>\n    <tr>\n      <th>1</th>\n      <td>4.9</td>\n      <td>3.0</td>\n      <td>1.4</td>\n      <td>0.2</td>\n    </tr>\n    <tr>\n      <th>2</th>\n      <td>4.7</td>\n      <td>3.2</td>\n      <td>1.3</td>\n      <td>0.2</td>\n    </tr>\n    <tr>\n      <th>3</th>\n      <td>4.6</td>\n      <td>3.1</td>\n      <td>1.5</td>\n      <td>0.2</td>\n    </tr>\n    <tr>\n      <th>4</th>\n      <td>5.0</td>\n      <td>3.6</td>\n      <td>1.4</td>\n      <td>0.2</td>\n    </tr>\n    <tr>\n      <th>...</th>\n      <td>...</td>\n      <td>...</td>\n      <td>...</td>\n      <td>...</td>\n    </tr>\n    <tr>\n      <th>145</th>\n      <td>6.7</td>\n      <td>3.0</td>\n      <td>5.2</td>\n      <td>2.3</td>\n    </tr>\n    <tr>\n      <th>146</th>\n      <td>6.3</td>\n      <td>2.5</td>\n      <td>5.0</td>\n      <td>1.9</td>\n    </tr>\n    <tr>\n      <th>147</th>\n      <td>6.5</td>\n      <td>3.0</td>\n      <td>5.2</td>\n      <td>2.0</td>\n    </tr>\n    <tr>\n      <th>148</th>\n      <td>6.2</td>\n      <td>3.4</td>\n      <td>5.4</td>\n      <td>2.3</td>\n    </tr>\n    <tr>\n      <th>149</th>\n      <td>5.9</td>\n      <td>3.0</td>\n      <td>5.1</td>\n      <td>1.8</td>\n    </tr>\n  </tbody>\n</table>\n<p>150 rows × 4 columns</p>\n</div>"
     },
     "execution_count": 11,
     "metadata": {},
     "output_type": "execute_result"
    }
   ]
  },
  {
   "cell_type": "code",
   "source": [
    "from sklearn.model_selection import train_test_split\n",
    "X_train, X_test, y_train, y_test = train_test_split(df, y, test_size=0.25) # qua si poteva evitare di mettere la specifica nel test_size perché il 0.25 é di defalut"
   ],
   "metadata": {
    "id": "X6NYqAaaOwbL",
    "ExecuteTime": {
     "start_time": "2023-04-21T17:27:38.001916Z",
     "end_time": "2023-04-21T17:27:38.226837Z"
    }
   },
   "execution_count": 12,
   "outputs": []
  },
  {
   "cell_type": "code",
   "source": [
    "from sklearn.tree import DecisionTreeClassifier"
   ],
   "metadata": {
    "id": "r0SYN_faO_37",
    "ExecuteTime": {
     "start_time": "2023-04-21T17:27:38.228670Z",
     "end_time": "2023-04-21T17:27:38.524249Z"
    }
   },
   "execution_count": 13,
   "outputs": []
  },
  {
   "cell_type": "code",
   "source": [
    "model = DecisionTreeClassifier()"
   ],
   "metadata": {
    "id": "9GTAli_qPEOO",
    "ExecuteTime": {
     "start_time": "2023-04-21T17:27:38.523776Z",
     "end_time": "2023-04-21T17:27:38.526305Z"
    }
   },
   "execution_count": 14,
   "outputs": []
  },
  {
   "cell_type": "code",
   "source": [
    "model.fit(X_train, y_train)\n",
    "result = model.predict(X_test)"
   ],
   "metadata": {
    "id": "qgWyll5vPEqe",
    "ExecuteTime": {
     "start_time": "2023-04-21T17:27:38.528847Z",
     "end_time": "2023-04-21T17:27:38.531484Z"
    }
   },
   "execution_count": 15,
   "outputs": []
  },
  {
   "cell_type": "code",
   "source": [
    "accuracy(y_test, result)"
   ],
   "metadata": {
    "id": "BSoX20YyPHbn",
    "ExecuteTime": {
     "start_time": "2023-04-21T17:27:38.532206Z",
     "end_time": "2023-04-21T17:27:38.534979Z"
    }
   },
   "execution_count": 16,
   "outputs": [
    {
     "data": {
      "text/plain": "0.9473684210526316"
     },
     "execution_count": 16,
     "metadata": {},
     "output_type": "execute_result"
    }
   ]
  },
  {
   "cell_type": "code",
   "source": [
    "accuracy(y_train, model.predict(X_train) )"
   ],
   "metadata": {
    "id": "SUgkPnvxPKIV",
    "ExecuteTime": {
     "start_time": "2023-04-21T17:27:38.535605Z",
     "end_time": "2023-04-21T17:27:38.538237Z"
    }
   },
   "execution_count": 17,
   "outputs": [
    {
     "data": {
      "text/plain": "1.0"
     },
     "execution_count": 17,
     "metadata": {},
     "output_type": "execute_result"
    }
   ]
  },
  {
   "cell_type": "markdown",
   "source": [
    "## Creare due nuovi attributi che rappresentano l'area del petalo e del sepalo"
   ],
   "metadata": {
    "id": "XsuIREMyPQED"
   }
  },
  {
   "cell_type": "code",
   "source": [
    "df['areaSep'] = df['sepal length (cm)'] *df['sepal width (cm)']\n",
    "df['areaPet'] = df['petal length (cm)'] * df['petal length (cm)']"
   ],
   "metadata": {
    "id": "hkLZBr0YPaPv",
    "ExecuteTime": {
     "start_time": "2023-04-21T17:27:38.539398Z",
     "end_time": "2023-04-21T17:27:38.541375Z"
    }
   },
   "execution_count": 18,
   "outputs": []
  },
  {
   "cell_type": "code",
   "source": [
    "df"
   ],
   "metadata": {
    "id": "fysLqiCGPew5",
    "ExecuteTime": {
     "start_time": "2023-04-21T17:27:38.546832Z",
     "end_time": "2023-04-21T17:27:38.574305Z"
    }
   },
   "execution_count": 19,
   "outputs": [
    {
     "data": {
      "text/plain": "     sepal length (cm)  sepal width (cm)  petal length (cm)  petal width (cm)  \\\n0                  5.1               3.5                1.4               0.2   \n1                  4.9               3.0                1.4               0.2   \n2                  4.7               3.2                1.3               0.2   \n3                  4.6               3.1                1.5               0.2   \n4                  5.0               3.6                1.4               0.2   \n..                 ...               ...                ...               ...   \n145                6.7               3.0                5.2               2.3   \n146                6.3               2.5                5.0               1.9   \n147                6.5               3.0                5.2               2.0   \n148                6.2               3.4                5.4               2.3   \n149                5.9               3.0                5.1               1.8   \n\n     areaSep  areaPet  \n0      17.85     1.96  \n1      14.70     1.96  \n2      15.04     1.69  \n3      14.26     2.25  \n4      18.00     1.96  \n..       ...      ...  \n145    20.10    27.04  \n146    15.75    25.00  \n147    19.50    27.04  \n148    21.08    29.16  \n149    17.70    26.01  \n\n[150 rows x 6 columns]",
      "text/html": "<div>\n<style scoped>\n    .dataframe tbody tr th:only-of-type {\n        vertical-align: middle;\n    }\n\n    .dataframe tbody tr th {\n        vertical-align: top;\n    }\n\n    .dataframe thead th {\n        text-align: right;\n    }\n</style>\n<table border=\"1\" class=\"dataframe\">\n  <thead>\n    <tr style=\"text-align: right;\">\n      <th></th>\n      <th>sepal length (cm)</th>\n      <th>sepal width (cm)</th>\n      <th>petal length (cm)</th>\n      <th>petal width (cm)</th>\n      <th>areaSep</th>\n      <th>areaPet</th>\n    </tr>\n  </thead>\n  <tbody>\n    <tr>\n      <th>0</th>\n      <td>5.1</td>\n      <td>3.5</td>\n      <td>1.4</td>\n      <td>0.2</td>\n      <td>17.85</td>\n      <td>1.96</td>\n    </tr>\n    <tr>\n      <th>1</th>\n      <td>4.9</td>\n      <td>3.0</td>\n      <td>1.4</td>\n      <td>0.2</td>\n      <td>14.70</td>\n      <td>1.96</td>\n    </tr>\n    <tr>\n      <th>2</th>\n      <td>4.7</td>\n      <td>3.2</td>\n      <td>1.3</td>\n      <td>0.2</td>\n      <td>15.04</td>\n      <td>1.69</td>\n    </tr>\n    <tr>\n      <th>3</th>\n      <td>4.6</td>\n      <td>3.1</td>\n      <td>1.5</td>\n      <td>0.2</td>\n      <td>14.26</td>\n      <td>2.25</td>\n    </tr>\n    <tr>\n      <th>4</th>\n      <td>5.0</td>\n      <td>3.6</td>\n      <td>1.4</td>\n      <td>0.2</td>\n      <td>18.00</td>\n      <td>1.96</td>\n    </tr>\n    <tr>\n      <th>...</th>\n      <td>...</td>\n      <td>...</td>\n      <td>...</td>\n      <td>...</td>\n      <td>...</td>\n      <td>...</td>\n    </tr>\n    <tr>\n      <th>145</th>\n      <td>6.7</td>\n      <td>3.0</td>\n      <td>5.2</td>\n      <td>2.3</td>\n      <td>20.10</td>\n      <td>27.04</td>\n    </tr>\n    <tr>\n      <th>146</th>\n      <td>6.3</td>\n      <td>2.5</td>\n      <td>5.0</td>\n      <td>1.9</td>\n      <td>15.75</td>\n      <td>25.00</td>\n    </tr>\n    <tr>\n      <th>147</th>\n      <td>6.5</td>\n      <td>3.0</td>\n      <td>5.2</td>\n      <td>2.0</td>\n      <td>19.50</td>\n      <td>27.04</td>\n    </tr>\n    <tr>\n      <th>148</th>\n      <td>6.2</td>\n      <td>3.4</td>\n      <td>5.4</td>\n      <td>2.3</td>\n      <td>21.08</td>\n      <td>29.16</td>\n    </tr>\n    <tr>\n      <th>149</th>\n      <td>5.9</td>\n      <td>3.0</td>\n      <td>5.1</td>\n      <td>1.8</td>\n      <td>17.70</td>\n      <td>26.01</td>\n    </tr>\n  </tbody>\n</table>\n<p>150 rows × 6 columns</p>\n</div>"
     },
     "execution_count": 19,
     "metadata": {},
     "output_type": "execute_result"
    }
   ]
  },
  {
   "cell_type": "code",
   "source": [
    "X_train, X_test, y_train, y_test = train_test_split(df, y, test_size=0.25)"
   ],
   "metadata": {
    "id": "VzPTLloJPsCD",
    "ExecuteTime": {
     "start_time": "2023-04-21T17:27:38.550611Z",
     "end_time": "2023-04-21T17:27:38.574533Z"
    }
   },
   "execution_count": 20,
   "outputs": []
  },
  {
   "cell_type": "code",
   "source": [
    "model.fit(X_train, y_train)\n",
    "result = model.predict(X_test)\n",
    "accuracy(y_test, result)"
   ],
   "metadata": {
    "id": "SrY9H4S8PumP",
    "ExecuteTime": {
     "start_time": "2023-04-21T17:27:38.553995Z",
     "end_time": "2023-04-21T17:27:38.574713Z"
    }
   },
   "execution_count": 21,
   "outputs": [
    {
     "data": {
      "text/plain": "0.9473684210526316"
     },
     "execution_count": 21,
     "metadata": {},
     "output_type": "execute_result"
    }
   ]
  },
  {
   "cell_type": "code",
   "source": [
    "accuracy(y_train, model.predict(X_train))"
   ],
   "metadata": {
    "id": "LgVX74LRQAKn",
    "ExecuteTime": {
     "start_time": "2023-04-21T17:27:38.559079Z",
     "end_time": "2023-04-21T17:27:38.574887Z"
    }
   },
   "execution_count": 22,
   "outputs": [
    {
     "data": {
      "text/plain": "1.0"
     },
     "execution_count": 22,
     "metadata": {},
     "output_type": "execute_result"
    }
   ]
  },
  {
   "cell_type": "markdown",
   "source": [
    "## Creare una discretizzazione dei valori in 4 bin"
   ],
   "metadata": {
    "id": "FZ9lcdjlQEmj"
   }
  },
  {
   "cell_type": "code",
   "source": [
    "from sklearn import preprocessing"
   ],
   "metadata": {
    "id": "_Te5hMJ4SNqn",
    "ExecuteTime": {
     "start_time": "2023-04-21T17:27:56.303415Z",
     "end_time": "2023-04-21T17:27:56.305993Z"
    }
   },
   "execution_count": 23,
   "outputs": []
  },
  {
   "cell_type": "code",
   "source": [
    "kb= preprocessing.KBinsDiscretizer(n_bins=4, encode='ordinal').fit(df)"
   ],
   "metadata": {
    "id": "pS2PVnIPQOaq",
    "ExecuteTime": {
     "start_time": "2023-04-21T17:27:58.777599Z",
     "end_time": "2023-04-21T17:27:58.783022Z"
    }
   },
   "execution_count": 24,
   "outputs": []
  },
  {
   "cell_type": "code",
   "source": [
    "dfd = pd.DataFrame(kb.transform(df), columns= df.columns) # con il nome delle colonne"
   ],
   "metadata": {
    "id": "FrAZ3spZSGJ-",
    "ExecuteTime": {
     "start_time": "2023-04-21T17:28:18.622340Z",
     "end_time": "2023-04-21T17:28:18.626241Z"
    }
   },
   "execution_count": 25,
   "outputs": []
  },
  {
   "cell_type": "code",
   "source": [
    "dfd.head()"
   ],
   "metadata": {
    "id": "dWzQKuhCSbxn",
    "ExecuteTime": {
     "start_time": "2023-04-21T17:28:22.542519Z",
     "end_time": "2023-04-21T17:28:22.559091Z"
    }
   },
   "execution_count": 26,
   "outputs": [
    {
     "data": {
      "text/plain": "   sepal length (cm)  sepal width (cm)  petal length (cm)  petal width (cm)  \\\n0                1.0               3.0                0.0               0.0   \n1                0.0               2.0                0.0               0.0   \n2                0.0               2.0                0.0               0.0   \n3                0.0               2.0                0.0               0.0   \n4                0.0               3.0                0.0               0.0   \n\n   areaSep  areaPet  \n0      2.0      0.0  \n1      0.0      0.0  \n2      0.0      0.0  \n3      0.0      0.0  \n4      2.0      0.0  ",
      "text/html": "<div>\n<style scoped>\n    .dataframe tbody tr th:only-of-type {\n        vertical-align: middle;\n    }\n\n    .dataframe tbody tr th {\n        vertical-align: top;\n    }\n\n    .dataframe thead th {\n        text-align: right;\n    }\n</style>\n<table border=\"1\" class=\"dataframe\">\n  <thead>\n    <tr style=\"text-align: right;\">\n      <th></th>\n      <th>sepal length (cm)</th>\n      <th>sepal width (cm)</th>\n      <th>petal length (cm)</th>\n      <th>petal width (cm)</th>\n      <th>areaSep</th>\n      <th>areaPet</th>\n    </tr>\n  </thead>\n  <tbody>\n    <tr>\n      <th>0</th>\n      <td>1.0</td>\n      <td>3.0</td>\n      <td>0.0</td>\n      <td>0.0</td>\n      <td>2.0</td>\n      <td>0.0</td>\n    </tr>\n    <tr>\n      <th>1</th>\n      <td>0.0</td>\n      <td>2.0</td>\n      <td>0.0</td>\n      <td>0.0</td>\n      <td>0.0</td>\n      <td>0.0</td>\n    </tr>\n    <tr>\n      <th>2</th>\n      <td>0.0</td>\n      <td>2.0</td>\n      <td>0.0</td>\n      <td>0.0</td>\n      <td>0.0</td>\n      <td>0.0</td>\n    </tr>\n    <tr>\n      <th>3</th>\n      <td>0.0</td>\n      <td>2.0</td>\n      <td>0.0</td>\n      <td>0.0</td>\n      <td>0.0</td>\n      <td>0.0</td>\n    </tr>\n    <tr>\n      <th>4</th>\n      <td>0.0</td>\n      <td>3.0</td>\n      <td>0.0</td>\n      <td>0.0</td>\n      <td>2.0</td>\n      <td>0.0</td>\n    </tr>\n  </tbody>\n</table>\n</div>"
     },
     "execution_count": 26,
     "metadata": {},
     "output_type": "execute_result"
    }
   ]
  },
  {
   "cell_type": "code",
   "source": [
    "X_train, X_test, y_train, y_test = train_test_split(dfd, y, test_size=0.25)"
   ],
   "metadata": {
    "id": "fyYqjM-XTFMH",
    "ExecuteTime": {
     "start_time": "2023-04-21T17:28:53.868178Z",
     "end_time": "2023-04-21T17:28:53.870600Z"
    }
   },
   "execution_count": 27,
   "outputs": []
  },
  {
   "cell_type": "code",
   "source": [
    "model.fit(X_train, y_train)\n",
    "result = model.predict(X_test)\n",
    "accuracy(y_test, result)"
   ],
   "metadata": {
    "id": "jhcv9fttTIUL",
    "ExecuteTime": {
     "start_time": "2023-04-21T17:31:56.217877Z",
     "end_time": "2023-04-21T17:31:56.224425Z"
    }
   },
   "execution_count": 28,
   "outputs": [
    {
     "data": {
      "text/plain": "0.9736842105263158"
     },
     "execution_count": 28,
     "metadata": {},
     "output_type": "execute_result"
    }
   ]
  },
  {
   "cell_type": "code",
   "source": [
    "accuracy(y_train, model.predict(X_train)) # fa meno overfitting"
   ],
   "metadata": {
    "id": "LMHB_A9CTL2G",
    "ExecuteTime": {
     "start_time": "2023-04-21T17:32:20.015804Z",
     "end_time": "2023-04-21T17:32:20.022973Z"
    }
   },
   "execution_count": 29,
   "outputs": [
    {
     "data": {
      "text/plain": "0.9732142857142857"
     },
     "execution_count": 29,
     "metadata": {},
     "output_type": "execute_result"
    }
   ]
  },
  {
   "cell_type": "markdown",
   "source": [
    "## Standardizzare il dataset del punto 2 e calcolare l'accuratezza con il classificatore di prima \n"
   ],
   "metadata": {
    "id": "3QSZAI8UTNpX"
   }
  },
  {
   "cell_type": "code",
   "execution_count": 30,
   "outputs": [],
   "source": [
    "sss = preprocessing.StandardScaler()"
   ],
   "metadata": {
    "collapsed": false,
    "ExecuteTime": {
     "start_time": "2023-04-21T17:38:06.422674Z",
     "end_time": "2023-04-21T17:38:06.429104Z"
    }
   }
  },
  {
   "cell_type": "code",
   "execution_count": 31,
   "outputs": [],
   "source": [
    "scaler = sss.fit(df)"
   ],
   "metadata": {
    "collapsed": false,
    "ExecuteTime": {
     "start_time": "2023-04-21T17:38:28.684823Z",
     "end_time": "2023-04-21T17:38:28.688126Z"
    }
   }
  },
  {
   "cell_type": "code",
   "execution_count": 32,
   "outputs": [],
   "source": [
    "dfs = scaler.transform(df)"
   ],
   "metadata": {
    "collapsed": false,
    "ExecuteTime": {
     "start_time": "2023-04-21T17:38:35.749603Z",
     "end_time": "2023-04-21T17:38:35.755004Z"
    }
   }
  },
  {
   "cell_type": "code",
   "execution_count": 33,
   "outputs": [],
   "source": [
    "X_train, X_test, y_train, y_test = train_test_split(dfs, y, test_size=0.25)"
   ],
   "metadata": {
    "collapsed": false,
    "ExecuteTime": {
     "start_time": "2023-04-21T17:38:59.893718Z",
     "end_time": "2023-04-21T17:38:59.898860Z"
    }
   }
  },
  {
   "cell_type": "code",
   "execution_count": 34,
   "outputs": [
    {
     "data": {
      "text/plain": "0.9736842105263158"
     },
     "execution_count": 34,
     "metadata": {},
     "output_type": "execute_result"
    }
   ],
   "source": [
    "model.fit(X_train, y_train)\n",
    "result = model.predict(X_test)\n",
    "accuracy(y_test, result)"
   ],
   "metadata": {
    "collapsed": false,
    "ExecuteTime": {
     "start_time": "2023-04-21T17:39:15.180604Z",
     "end_time": "2023-04-21T17:39:15.185140Z"
    }
   }
  },
  {
   "cell_type": "code",
   "execution_count": 35,
   "outputs": [
    {
     "data": {
      "text/plain": "1.0"
     },
     "execution_count": 35,
     "metadata": {},
     "output_type": "execute_result"
    }
   ],
   "source": [
    "accuracy(y_train, model.predict(X_train))"
   ],
   "metadata": {
    "collapsed": false,
    "ExecuteTime": {
     "start_time": "2023-04-21T17:39:23.644575Z",
     "end_time": "2023-04-21T17:39:23.649743Z"
    }
   }
  },
  {
   "cell_type": "markdown",
   "source": [
    "## Applicare il logaritmo (trasformazione custom) a tutte le colonne del dataset del punto 2 e calcolare l'accuratezza con il classificatore di prima \n"
   ],
   "metadata": {
    "id": "MK0M3MWMVefP"
   }
  },
  {
   "cell_type": "code",
   "source": [
    "from sklearn.preprocessing import  FunctionTransformer\n",
    "trasformer = FunctionTransformer(np.log,validate=True,feature_names_out='one-to-one')\n",
    "df_log = trasformer.transform(df)"
   ],
   "metadata": {
    "id": "9AfCbUWeiv-x",
    "ExecuteTime": {
     "start_time": "2023-04-21T17:47:04.604954Z",
     "end_time": "2023-04-21T17:47:04.608993Z"
    }
   },
   "execution_count": 39,
   "outputs": [
    {
     "name": "stderr",
     "output_type": "stream",
     "text": [
      "/Users/rdm-nico/PycharmProjects/pythonProject/venv/lib/python3.9/site-packages/sklearn/base.py:432: UserWarning: X has feature names, but FunctionTransformer was fitted without feature names\n",
      "  warnings.warn(\n"
     ]
    }
   ]
  },
  {
   "cell_type": "code",
   "execution_count": 40,
   "outputs": [],
   "source": [
    "X_train, X_test, y_train, y_test = train_test_split(df_log, y, test_size=0.25)"
   ],
   "metadata": {
    "collapsed": false,
    "ExecuteTime": {
     "start_time": "2023-04-21T17:47:13.962280Z",
     "end_time": "2023-04-21T17:47:13.966865Z"
    }
   }
  },
  {
   "cell_type": "code",
   "execution_count": 41,
   "outputs": [
    {
     "data": {
      "text/plain": "0.9473684210526316"
     },
     "execution_count": 41,
     "metadata": {},
     "output_type": "execute_result"
    }
   ],
   "source": [
    "model.fit(X_train, y_train)\n",
    "result = model.predict(X_test)\n",
    "accuracy(y_test, result)"
   ],
   "metadata": {
    "collapsed": false,
    "ExecuteTime": {
     "start_time": "2023-04-21T17:47:15.968405Z",
     "end_time": "2023-04-21T17:47:15.972635Z"
    }
   }
  },
  {
   "cell_type": "code",
   "execution_count": 42,
   "outputs": [
    {
     "data": {
      "text/plain": "1.0"
     },
     "execution_count": 42,
     "metadata": {},
     "output_type": "execute_result"
    }
   ],
   "source": [
    "accuracy(y_train, model.predict(X_train))"
   ],
   "metadata": {
    "collapsed": false,
    "ExecuteTime": {
     "start_time": "2023-04-21T17:47:22.546216Z",
     "end_time": "2023-04-21T17:47:22.551140Z"
    }
   }
  },
  {
   "cell_type": "markdown",
   "source": [
    "## Creare una nuova colonna che abbia valore 1 se e solo se l'area del petalo e l'area del sepalo hanno entrambe valore superiore a 4 e calcolare l'accuratezza con il classificatore di prima "
   ],
   "metadata": {
    "id": "XwuOD9oFVhts"
   }
  },
  {
   "cell_type": "code",
   "source": [],
   "metadata": {
    "id": "IPxHGM3hix7m",
    "ExecuteTime": {
     "start_time": "2023-04-17T15:43:51.944577Z",
     "end_time": "2023-04-17T15:43:51.947610Z"
    }
   },
   "execution_count": null,
   "outputs": []
  }
 ]
}
