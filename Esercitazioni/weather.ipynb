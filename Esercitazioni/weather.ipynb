{
 "cells": [
  {
   "cell_type": "markdown",
   "source": [
    "# 1\n",
    "Inserire nuove features nel dataset che rappresentino:\n",
    "- escursione termica gionarliera (MaxTemp-MinTemp)\n",
    "- differenza di unimidità (Humidity3pm- Humidity 9am)\n",
    "- vento medio (WindSpeed3pm,WindSpeed9am)\n",
    "\n",
    "Eliminare l'attributo Location e trasformare gli attributi booleani in numerici. Dividere il dataset in train e test (20%). Calcolare che accuratezza si ottiene con un modello randomForest (100 alberi) e confrontarla con un dummyClassifier (strategia stratified)"
   ],
   "metadata": {
    "collapsed": false
   }
  },
  {
   "cell_type": "code",
   "execution_count": 179,
   "outputs": [
    {
     "data": {
      "text/plain": "       Month Location  MinTemp  MaxTemp  Rainfall  WindGustSpeed  \\\n0          1   Albury     20.4     37.6       0.0             54   \n1          1   Albury     20.9     33.6       0.4             50   \n2          1   Albury     18.4     23.1       2.2             48   \n3          1   Albury     17.3     23.7      15.6             39   \n4          1   Albury     15.5     22.9       6.8             31   \n...      ...      ...      ...      ...       ...            ...   \n14463     12    Uluru     22.1     35.8      63.8             43   \n14464     12    Uluru     22.6     36.8       0.0             50   \n14465     12    Uluru     23.2     38.0       0.0             33   \n14466     12    Uluru     19.7     37.0       0.0             37   \n14467     12    Uluru     23.7     33.0       0.0             46   \n\n       WindSpeed9am  WindSpeed3pm  Humidity9am  Humidity3pm  Pressure9am  \\\n0                 0             7           46           17       1013.4   \n1                 9            17           54           30       1011.1   \n2                11            39           62           67       1014.0   \n3                 9            17           74           65       1017.9   \n4                 6             9           92           63       1016.3   \n...             ...           ...          ...          ...          ...   \n14463            17            31           77           41        997.8   \n14464            30            15           63           39       1000.0   \n14465            17            17           25           14       1004.4   \n14466            22             6           30           23       1004.6   \n14467            24            17           40           38       1005.1   \n\n       Pressure3pm  Cloud3pm  Temp9am  Temp3pm RainToday RainTomorrow  \n0           1009.2         3     26.1     36.7        No           No  \n1           1008.4         8     24.8     31.7        No          Yes  \n2           1014.8         8     21.8     19.5       Yes          Yes  \n3           1016.5         8     19.2     21.6       Yes          Yes  \n4           1013.9         8     17.2     22.2       Yes           No  \n...            ...       ...      ...      ...       ...          ...  \n14463        995.2         2     26.0     33.5       Yes           No  \n14464        998.8        -1     29.7     34.0        No           No  \n14465       1001.0        -1     28.7     36.4        No           No  \n14466       1000.9        -1     28.2     35.1        No           No  \n14467       1002.7        -1     30.1     31.5        No           No  \n\n[14468 rows x 17 columns]",
      "text/html": "<div>\n<style scoped>\n    .dataframe tbody tr th:only-of-type {\n        vertical-align: middle;\n    }\n\n    .dataframe tbody tr th {\n        vertical-align: top;\n    }\n\n    .dataframe thead th {\n        text-align: right;\n    }\n</style>\n<table border=\"1\" class=\"dataframe\">\n  <thead>\n    <tr style=\"text-align: right;\">\n      <th></th>\n      <th>Month</th>\n      <th>Location</th>\n      <th>MinTemp</th>\n      <th>MaxTemp</th>\n      <th>Rainfall</th>\n      <th>WindGustSpeed</th>\n      <th>WindSpeed9am</th>\n      <th>WindSpeed3pm</th>\n      <th>Humidity9am</th>\n      <th>Humidity3pm</th>\n      <th>Pressure9am</th>\n      <th>Pressure3pm</th>\n      <th>Cloud3pm</th>\n      <th>Temp9am</th>\n      <th>Temp3pm</th>\n      <th>RainToday</th>\n      <th>RainTomorrow</th>\n    </tr>\n  </thead>\n  <tbody>\n    <tr>\n      <th>0</th>\n      <td>1</td>\n      <td>Albury</td>\n      <td>20.4</td>\n      <td>37.6</td>\n      <td>0.0</td>\n      <td>54</td>\n      <td>0</td>\n      <td>7</td>\n      <td>46</td>\n      <td>17</td>\n      <td>1013.4</td>\n      <td>1009.2</td>\n      <td>3</td>\n      <td>26.1</td>\n      <td>36.7</td>\n      <td>No</td>\n      <td>No</td>\n    </tr>\n    <tr>\n      <th>1</th>\n      <td>1</td>\n      <td>Albury</td>\n      <td>20.9</td>\n      <td>33.6</td>\n      <td>0.4</td>\n      <td>50</td>\n      <td>9</td>\n      <td>17</td>\n      <td>54</td>\n      <td>30</td>\n      <td>1011.1</td>\n      <td>1008.4</td>\n      <td>8</td>\n      <td>24.8</td>\n      <td>31.7</td>\n      <td>No</td>\n      <td>Yes</td>\n    </tr>\n    <tr>\n      <th>2</th>\n      <td>1</td>\n      <td>Albury</td>\n      <td>18.4</td>\n      <td>23.1</td>\n      <td>2.2</td>\n      <td>48</td>\n      <td>11</td>\n      <td>39</td>\n      <td>62</td>\n      <td>67</td>\n      <td>1014.0</td>\n      <td>1014.8</td>\n      <td>8</td>\n      <td>21.8</td>\n      <td>19.5</td>\n      <td>Yes</td>\n      <td>Yes</td>\n    </tr>\n    <tr>\n      <th>3</th>\n      <td>1</td>\n      <td>Albury</td>\n      <td>17.3</td>\n      <td>23.7</td>\n      <td>15.6</td>\n      <td>39</td>\n      <td>9</td>\n      <td>17</td>\n      <td>74</td>\n      <td>65</td>\n      <td>1017.9</td>\n      <td>1016.5</td>\n      <td>8</td>\n      <td>19.2</td>\n      <td>21.6</td>\n      <td>Yes</td>\n      <td>Yes</td>\n    </tr>\n    <tr>\n      <th>4</th>\n      <td>1</td>\n      <td>Albury</td>\n      <td>15.5</td>\n      <td>22.9</td>\n      <td>6.8</td>\n      <td>31</td>\n      <td>6</td>\n      <td>9</td>\n      <td>92</td>\n      <td>63</td>\n      <td>1016.3</td>\n      <td>1013.9</td>\n      <td>8</td>\n      <td>17.2</td>\n      <td>22.2</td>\n      <td>Yes</td>\n      <td>No</td>\n    </tr>\n    <tr>\n      <th>...</th>\n      <td>...</td>\n      <td>...</td>\n      <td>...</td>\n      <td>...</td>\n      <td>...</td>\n      <td>...</td>\n      <td>...</td>\n      <td>...</td>\n      <td>...</td>\n      <td>...</td>\n      <td>...</td>\n      <td>...</td>\n      <td>...</td>\n      <td>...</td>\n      <td>...</td>\n      <td>...</td>\n      <td>...</td>\n    </tr>\n    <tr>\n      <th>14463</th>\n      <td>12</td>\n      <td>Uluru</td>\n      <td>22.1</td>\n      <td>35.8</td>\n      <td>63.8</td>\n      <td>43</td>\n      <td>17</td>\n      <td>31</td>\n      <td>77</td>\n      <td>41</td>\n      <td>997.8</td>\n      <td>995.2</td>\n      <td>2</td>\n      <td>26.0</td>\n      <td>33.5</td>\n      <td>Yes</td>\n      <td>No</td>\n    </tr>\n    <tr>\n      <th>14464</th>\n      <td>12</td>\n      <td>Uluru</td>\n      <td>22.6</td>\n      <td>36.8</td>\n      <td>0.0</td>\n      <td>50</td>\n      <td>30</td>\n      <td>15</td>\n      <td>63</td>\n      <td>39</td>\n      <td>1000.0</td>\n      <td>998.8</td>\n      <td>-1</td>\n      <td>29.7</td>\n      <td>34.0</td>\n      <td>No</td>\n      <td>No</td>\n    </tr>\n    <tr>\n      <th>14465</th>\n      <td>12</td>\n      <td>Uluru</td>\n      <td>23.2</td>\n      <td>38.0</td>\n      <td>0.0</td>\n      <td>33</td>\n      <td>17</td>\n      <td>17</td>\n      <td>25</td>\n      <td>14</td>\n      <td>1004.4</td>\n      <td>1001.0</td>\n      <td>-1</td>\n      <td>28.7</td>\n      <td>36.4</td>\n      <td>No</td>\n      <td>No</td>\n    </tr>\n    <tr>\n      <th>14466</th>\n      <td>12</td>\n      <td>Uluru</td>\n      <td>19.7</td>\n      <td>37.0</td>\n      <td>0.0</td>\n      <td>37</td>\n      <td>22</td>\n      <td>6</td>\n      <td>30</td>\n      <td>23</td>\n      <td>1004.6</td>\n      <td>1000.9</td>\n      <td>-1</td>\n      <td>28.2</td>\n      <td>35.1</td>\n      <td>No</td>\n      <td>No</td>\n    </tr>\n    <tr>\n      <th>14467</th>\n      <td>12</td>\n      <td>Uluru</td>\n      <td>23.7</td>\n      <td>33.0</td>\n      <td>0.0</td>\n      <td>46</td>\n      <td>24</td>\n      <td>17</td>\n      <td>40</td>\n      <td>38</td>\n      <td>1005.1</td>\n      <td>1002.7</td>\n      <td>-1</td>\n      <td>30.1</td>\n      <td>31.5</td>\n      <td>No</td>\n      <td>No</td>\n    </tr>\n  </tbody>\n</table>\n<p>14468 rows × 17 columns</p>\n</div>"
     },
     "execution_count": 179,
     "metadata": {},
     "output_type": "execute_result"
    }
   ],
   "source": [
    "import pandas as pd\n",
    "import numpy as np\n",
    "\n",
    "df = pd.read_csv(\"Data/weather.csv\",sep=\";\")\n",
    "df"
   ],
   "metadata": {
    "collapsed": false,
    "ExecuteTime": {
     "start_time": "2023-05-23T23:50:16.738001Z",
     "end_time": "2023-05-23T23:50:16.803760Z"
    }
   }
  },
  {
   "cell_type": "markdown",
   "source": [
    "Preleviamo l'attributo da predire:"
   ],
   "metadata": {
    "collapsed": false
   }
  },
  {
   "cell_type": "code",
   "execution_count": 180,
   "outputs": [
    {
     "data": {
      "text/plain": "       Month Location  MinTemp  MaxTemp  Rainfall  WindGustSpeed  \\\n0          1   Albury     20.4     37.6       0.0             54   \n1          1   Albury     20.9     33.6       0.4             50   \n2          1   Albury     18.4     23.1       2.2             48   \n3          1   Albury     17.3     23.7      15.6             39   \n4          1   Albury     15.5     22.9       6.8             31   \n...      ...      ...      ...      ...       ...            ...   \n14463     12    Uluru     22.1     35.8      63.8             43   \n14464     12    Uluru     22.6     36.8       0.0             50   \n14465     12    Uluru     23.2     38.0       0.0             33   \n14466     12    Uluru     19.7     37.0       0.0             37   \n14467     12    Uluru     23.7     33.0       0.0             46   \n\n       WindSpeed9am  WindSpeed3pm  Humidity9am  Humidity3pm  Pressure9am  \\\n0                 0             7           46           17       1013.4   \n1                 9            17           54           30       1011.1   \n2                11            39           62           67       1014.0   \n3                 9            17           74           65       1017.9   \n4                 6             9           92           63       1016.3   \n...             ...           ...          ...          ...          ...   \n14463            17            31           77           41        997.8   \n14464            30            15           63           39       1000.0   \n14465            17            17           25           14       1004.4   \n14466            22             6           30           23       1004.6   \n14467            24            17           40           38       1005.1   \n\n       Pressure3pm  Cloud3pm  Temp9am  Temp3pm RainToday RainTomorrow  \\\n0           1009.2         3     26.1     36.7        No           No   \n1           1008.4         8     24.8     31.7        No          Yes   \n2           1014.8         8     21.8     19.5       Yes          Yes   \n3           1016.5         8     19.2     21.6       Yes          Yes   \n4           1013.9         8     17.2     22.2       Yes           No   \n...            ...       ...      ...      ...       ...          ...   \n14463        995.2         2     26.0     33.5       Yes           No   \n14464        998.8        -1     29.7     34.0        No           No   \n14465       1001.0        -1     28.7     36.4        No           No   \n14466       1000.9        -1     28.2     35.1        No           No   \n14467       1002.7        -1     30.1     31.5        No           No   \n\n       Escursione_Giornaliera  Diff_umidità  Vento_medio  \n0                        17.2           -29          3.5  \n1                        12.7           -24         13.0  \n2                         4.7             5         25.0  \n3                         6.4            -9         13.0  \n4                         7.4           -29          7.5  \n...                       ...           ...          ...  \n14463                    13.7           -36         24.0  \n14464                    14.2           -24         22.5  \n14465                    14.8           -11         17.0  \n14466                    17.3            -7         14.0  \n14467                     9.3            -2         20.5  \n\n[14468 rows x 20 columns]",
      "text/html": "<div>\n<style scoped>\n    .dataframe tbody tr th:only-of-type {\n        vertical-align: middle;\n    }\n\n    .dataframe tbody tr th {\n        vertical-align: top;\n    }\n\n    .dataframe thead th {\n        text-align: right;\n    }\n</style>\n<table border=\"1\" class=\"dataframe\">\n  <thead>\n    <tr style=\"text-align: right;\">\n      <th></th>\n      <th>Month</th>\n      <th>Location</th>\n      <th>MinTemp</th>\n      <th>MaxTemp</th>\n      <th>Rainfall</th>\n      <th>WindGustSpeed</th>\n      <th>WindSpeed9am</th>\n      <th>WindSpeed3pm</th>\n      <th>Humidity9am</th>\n      <th>Humidity3pm</th>\n      <th>Pressure9am</th>\n      <th>Pressure3pm</th>\n      <th>Cloud3pm</th>\n      <th>Temp9am</th>\n      <th>Temp3pm</th>\n      <th>RainToday</th>\n      <th>RainTomorrow</th>\n      <th>Escursione_Giornaliera</th>\n      <th>Diff_umidità</th>\n      <th>Vento_medio</th>\n    </tr>\n  </thead>\n  <tbody>\n    <tr>\n      <th>0</th>\n      <td>1</td>\n      <td>Albury</td>\n      <td>20.4</td>\n      <td>37.6</td>\n      <td>0.0</td>\n      <td>54</td>\n      <td>0</td>\n      <td>7</td>\n      <td>46</td>\n      <td>17</td>\n      <td>1013.4</td>\n      <td>1009.2</td>\n      <td>3</td>\n      <td>26.1</td>\n      <td>36.7</td>\n      <td>No</td>\n      <td>No</td>\n      <td>17.2</td>\n      <td>-29</td>\n      <td>3.5</td>\n    </tr>\n    <tr>\n      <th>1</th>\n      <td>1</td>\n      <td>Albury</td>\n      <td>20.9</td>\n      <td>33.6</td>\n      <td>0.4</td>\n      <td>50</td>\n      <td>9</td>\n      <td>17</td>\n      <td>54</td>\n      <td>30</td>\n      <td>1011.1</td>\n      <td>1008.4</td>\n      <td>8</td>\n      <td>24.8</td>\n      <td>31.7</td>\n      <td>No</td>\n      <td>Yes</td>\n      <td>12.7</td>\n      <td>-24</td>\n      <td>13.0</td>\n    </tr>\n    <tr>\n      <th>2</th>\n      <td>1</td>\n      <td>Albury</td>\n      <td>18.4</td>\n      <td>23.1</td>\n      <td>2.2</td>\n      <td>48</td>\n      <td>11</td>\n      <td>39</td>\n      <td>62</td>\n      <td>67</td>\n      <td>1014.0</td>\n      <td>1014.8</td>\n      <td>8</td>\n      <td>21.8</td>\n      <td>19.5</td>\n      <td>Yes</td>\n      <td>Yes</td>\n      <td>4.7</td>\n      <td>5</td>\n      <td>25.0</td>\n    </tr>\n    <tr>\n      <th>3</th>\n      <td>1</td>\n      <td>Albury</td>\n      <td>17.3</td>\n      <td>23.7</td>\n      <td>15.6</td>\n      <td>39</td>\n      <td>9</td>\n      <td>17</td>\n      <td>74</td>\n      <td>65</td>\n      <td>1017.9</td>\n      <td>1016.5</td>\n      <td>8</td>\n      <td>19.2</td>\n      <td>21.6</td>\n      <td>Yes</td>\n      <td>Yes</td>\n      <td>6.4</td>\n      <td>-9</td>\n      <td>13.0</td>\n    </tr>\n    <tr>\n      <th>4</th>\n      <td>1</td>\n      <td>Albury</td>\n      <td>15.5</td>\n      <td>22.9</td>\n      <td>6.8</td>\n      <td>31</td>\n      <td>6</td>\n      <td>9</td>\n      <td>92</td>\n      <td>63</td>\n      <td>1016.3</td>\n      <td>1013.9</td>\n      <td>8</td>\n      <td>17.2</td>\n      <td>22.2</td>\n      <td>Yes</td>\n      <td>No</td>\n      <td>7.4</td>\n      <td>-29</td>\n      <td>7.5</td>\n    </tr>\n    <tr>\n      <th>...</th>\n      <td>...</td>\n      <td>...</td>\n      <td>...</td>\n      <td>...</td>\n      <td>...</td>\n      <td>...</td>\n      <td>...</td>\n      <td>...</td>\n      <td>...</td>\n      <td>...</td>\n      <td>...</td>\n      <td>...</td>\n      <td>...</td>\n      <td>...</td>\n      <td>...</td>\n      <td>...</td>\n      <td>...</td>\n      <td>...</td>\n      <td>...</td>\n      <td>...</td>\n    </tr>\n    <tr>\n      <th>14463</th>\n      <td>12</td>\n      <td>Uluru</td>\n      <td>22.1</td>\n      <td>35.8</td>\n      <td>63.8</td>\n      <td>43</td>\n      <td>17</td>\n      <td>31</td>\n      <td>77</td>\n      <td>41</td>\n      <td>997.8</td>\n      <td>995.2</td>\n      <td>2</td>\n      <td>26.0</td>\n      <td>33.5</td>\n      <td>Yes</td>\n      <td>No</td>\n      <td>13.7</td>\n      <td>-36</td>\n      <td>24.0</td>\n    </tr>\n    <tr>\n      <th>14464</th>\n      <td>12</td>\n      <td>Uluru</td>\n      <td>22.6</td>\n      <td>36.8</td>\n      <td>0.0</td>\n      <td>50</td>\n      <td>30</td>\n      <td>15</td>\n      <td>63</td>\n      <td>39</td>\n      <td>1000.0</td>\n      <td>998.8</td>\n      <td>-1</td>\n      <td>29.7</td>\n      <td>34.0</td>\n      <td>No</td>\n      <td>No</td>\n      <td>14.2</td>\n      <td>-24</td>\n      <td>22.5</td>\n    </tr>\n    <tr>\n      <th>14465</th>\n      <td>12</td>\n      <td>Uluru</td>\n      <td>23.2</td>\n      <td>38.0</td>\n      <td>0.0</td>\n      <td>33</td>\n      <td>17</td>\n      <td>17</td>\n      <td>25</td>\n      <td>14</td>\n      <td>1004.4</td>\n      <td>1001.0</td>\n      <td>-1</td>\n      <td>28.7</td>\n      <td>36.4</td>\n      <td>No</td>\n      <td>No</td>\n      <td>14.8</td>\n      <td>-11</td>\n      <td>17.0</td>\n    </tr>\n    <tr>\n      <th>14466</th>\n      <td>12</td>\n      <td>Uluru</td>\n      <td>19.7</td>\n      <td>37.0</td>\n      <td>0.0</td>\n      <td>37</td>\n      <td>22</td>\n      <td>6</td>\n      <td>30</td>\n      <td>23</td>\n      <td>1004.6</td>\n      <td>1000.9</td>\n      <td>-1</td>\n      <td>28.2</td>\n      <td>35.1</td>\n      <td>No</td>\n      <td>No</td>\n      <td>17.3</td>\n      <td>-7</td>\n      <td>14.0</td>\n    </tr>\n    <tr>\n      <th>14467</th>\n      <td>12</td>\n      <td>Uluru</td>\n      <td>23.7</td>\n      <td>33.0</td>\n      <td>0.0</td>\n      <td>46</td>\n      <td>24</td>\n      <td>17</td>\n      <td>40</td>\n      <td>38</td>\n      <td>1005.1</td>\n      <td>1002.7</td>\n      <td>-1</td>\n      <td>30.1</td>\n      <td>31.5</td>\n      <td>No</td>\n      <td>No</td>\n      <td>9.3</td>\n      <td>-2</td>\n      <td>20.5</td>\n    </tr>\n  </tbody>\n</table>\n<p>14468 rows × 20 columns</p>\n</div>"
     },
     "execution_count": 180,
     "metadata": {},
     "output_type": "execute_result"
    }
   ],
   "source": [
    "df['Escursione_Giornaliera'] = df['MaxTemp'] - df['MinTemp']\n",
    "df['Diff_umidità'] = df['Humidity3pm'] - df['Humidity9am']\n",
    "df['Vento_medio'] = (df['WindSpeed3pm'] + df['WindSpeed9am'])/2\n",
    "df"
   ],
   "metadata": {
    "collapsed": false,
    "ExecuteTime": {
     "start_time": "2023-05-23T23:50:16.771070Z",
     "end_time": "2023-05-23T23:50:16.803931Z"
    }
   }
  },
  {
   "cell_type": "code",
   "execution_count": 181,
   "outputs": [
    {
     "data": {
      "text/plain": "       Month  MinTemp  MaxTemp  Rainfall  WindGustSpeed  WindSpeed9am  \\\n0          1     20.4     37.6       0.0             54             0   \n1          1     20.9     33.6       0.4             50             9   \n2          1     18.4     23.1       2.2             48            11   \n3          1     17.3     23.7      15.6             39             9   \n4          1     15.5     22.9       6.8             31             6   \n...      ...      ...      ...       ...            ...           ...   \n14463     12     22.1     35.8      63.8             43            17   \n14464     12     22.6     36.8       0.0             50            30   \n14465     12     23.2     38.0       0.0             33            17   \n14466     12     19.7     37.0       0.0             37            22   \n14467     12     23.7     33.0       0.0             46            24   \n\n       WindSpeed3pm  Humidity9am  Humidity3pm  Pressure9am  Pressure3pm  \\\n0                 7           46           17       1013.4       1009.2   \n1                17           54           30       1011.1       1008.4   \n2                39           62           67       1014.0       1014.8   \n3                17           74           65       1017.9       1016.5   \n4                 9           92           63       1016.3       1013.9   \n...             ...          ...          ...          ...          ...   \n14463            31           77           41        997.8        995.2   \n14464            15           63           39       1000.0        998.8   \n14465            17           25           14       1004.4       1001.0   \n14466             6           30           23       1004.6       1000.9   \n14467            17           40           38       1005.1       1002.7   \n\n       Cloud3pm  Temp9am  Temp3pm RainToday RainTomorrow  \\\n0             3     26.1     36.7        No           No   \n1             8     24.8     31.7        No          Yes   \n2             8     21.8     19.5       Yes          Yes   \n3             8     19.2     21.6       Yes          Yes   \n4             8     17.2     22.2       Yes           No   \n...         ...      ...      ...       ...          ...   \n14463         2     26.0     33.5       Yes           No   \n14464        -1     29.7     34.0        No           No   \n14465        -1     28.7     36.4        No           No   \n14466        -1     28.2     35.1        No           No   \n14467        -1     30.1     31.5        No           No   \n\n       Escursione_Giornaliera  Diff_umidità  Vento_medio  \n0                        17.2           -29          3.5  \n1                        12.7           -24         13.0  \n2                         4.7             5         25.0  \n3                         6.4            -9         13.0  \n4                         7.4           -29          7.5  \n...                       ...           ...          ...  \n14463                    13.7           -36         24.0  \n14464                    14.2           -24         22.5  \n14465                    14.8           -11         17.0  \n14466                    17.3            -7         14.0  \n14467                     9.3            -2         20.5  \n\n[14468 rows x 19 columns]",
      "text/html": "<div>\n<style scoped>\n    .dataframe tbody tr th:only-of-type {\n        vertical-align: middle;\n    }\n\n    .dataframe tbody tr th {\n        vertical-align: top;\n    }\n\n    .dataframe thead th {\n        text-align: right;\n    }\n</style>\n<table border=\"1\" class=\"dataframe\">\n  <thead>\n    <tr style=\"text-align: right;\">\n      <th></th>\n      <th>Month</th>\n      <th>MinTemp</th>\n      <th>MaxTemp</th>\n      <th>Rainfall</th>\n      <th>WindGustSpeed</th>\n      <th>WindSpeed9am</th>\n      <th>WindSpeed3pm</th>\n      <th>Humidity9am</th>\n      <th>Humidity3pm</th>\n      <th>Pressure9am</th>\n      <th>Pressure3pm</th>\n      <th>Cloud3pm</th>\n      <th>Temp9am</th>\n      <th>Temp3pm</th>\n      <th>RainToday</th>\n      <th>RainTomorrow</th>\n      <th>Escursione_Giornaliera</th>\n      <th>Diff_umidità</th>\n      <th>Vento_medio</th>\n    </tr>\n  </thead>\n  <tbody>\n    <tr>\n      <th>0</th>\n      <td>1</td>\n      <td>20.4</td>\n      <td>37.6</td>\n      <td>0.0</td>\n      <td>54</td>\n      <td>0</td>\n      <td>7</td>\n      <td>46</td>\n      <td>17</td>\n      <td>1013.4</td>\n      <td>1009.2</td>\n      <td>3</td>\n      <td>26.1</td>\n      <td>36.7</td>\n      <td>No</td>\n      <td>No</td>\n      <td>17.2</td>\n      <td>-29</td>\n      <td>3.5</td>\n    </tr>\n    <tr>\n      <th>1</th>\n      <td>1</td>\n      <td>20.9</td>\n      <td>33.6</td>\n      <td>0.4</td>\n      <td>50</td>\n      <td>9</td>\n      <td>17</td>\n      <td>54</td>\n      <td>30</td>\n      <td>1011.1</td>\n      <td>1008.4</td>\n      <td>8</td>\n      <td>24.8</td>\n      <td>31.7</td>\n      <td>No</td>\n      <td>Yes</td>\n      <td>12.7</td>\n      <td>-24</td>\n      <td>13.0</td>\n    </tr>\n    <tr>\n      <th>2</th>\n      <td>1</td>\n      <td>18.4</td>\n      <td>23.1</td>\n      <td>2.2</td>\n      <td>48</td>\n      <td>11</td>\n      <td>39</td>\n      <td>62</td>\n      <td>67</td>\n      <td>1014.0</td>\n      <td>1014.8</td>\n      <td>8</td>\n      <td>21.8</td>\n      <td>19.5</td>\n      <td>Yes</td>\n      <td>Yes</td>\n      <td>4.7</td>\n      <td>5</td>\n      <td>25.0</td>\n    </tr>\n    <tr>\n      <th>3</th>\n      <td>1</td>\n      <td>17.3</td>\n      <td>23.7</td>\n      <td>15.6</td>\n      <td>39</td>\n      <td>9</td>\n      <td>17</td>\n      <td>74</td>\n      <td>65</td>\n      <td>1017.9</td>\n      <td>1016.5</td>\n      <td>8</td>\n      <td>19.2</td>\n      <td>21.6</td>\n      <td>Yes</td>\n      <td>Yes</td>\n      <td>6.4</td>\n      <td>-9</td>\n      <td>13.0</td>\n    </tr>\n    <tr>\n      <th>4</th>\n      <td>1</td>\n      <td>15.5</td>\n      <td>22.9</td>\n      <td>6.8</td>\n      <td>31</td>\n      <td>6</td>\n      <td>9</td>\n      <td>92</td>\n      <td>63</td>\n      <td>1016.3</td>\n      <td>1013.9</td>\n      <td>8</td>\n      <td>17.2</td>\n      <td>22.2</td>\n      <td>Yes</td>\n      <td>No</td>\n      <td>7.4</td>\n      <td>-29</td>\n      <td>7.5</td>\n    </tr>\n    <tr>\n      <th>...</th>\n      <td>...</td>\n      <td>...</td>\n      <td>...</td>\n      <td>...</td>\n      <td>...</td>\n      <td>...</td>\n      <td>...</td>\n      <td>...</td>\n      <td>...</td>\n      <td>...</td>\n      <td>...</td>\n      <td>...</td>\n      <td>...</td>\n      <td>...</td>\n      <td>...</td>\n      <td>...</td>\n      <td>...</td>\n      <td>...</td>\n      <td>...</td>\n    </tr>\n    <tr>\n      <th>14463</th>\n      <td>12</td>\n      <td>22.1</td>\n      <td>35.8</td>\n      <td>63.8</td>\n      <td>43</td>\n      <td>17</td>\n      <td>31</td>\n      <td>77</td>\n      <td>41</td>\n      <td>997.8</td>\n      <td>995.2</td>\n      <td>2</td>\n      <td>26.0</td>\n      <td>33.5</td>\n      <td>Yes</td>\n      <td>No</td>\n      <td>13.7</td>\n      <td>-36</td>\n      <td>24.0</td>\n    </tr>\n    <tr>\n      <th>14464</th>\n      <td>12</td>\n      <td>22.6</td>\n      <td>36.8</td>\n      <td>0.0</td>\n      <td>50</td>\n      <td>30</td>\n      <td>15</td>\n      <td>63</td>\n      <td>39</td>\n      <td>1000.0</td>\n      <td>998.8</td>\n      <td>-1</td>\n      <td>29.7</td>\n      <td>34.0</td>\n      <td>No</td>\n      <td>No</td>\n      <td>14.2</td>\n      <td>-24</td>\n      <td>22.5</td>\n    </tr>\n    <tr>\n      <th>14465</th>\n      <td>12</td>\n      <td>23.2</td>\n      <td>38.0</td>\n      <td>0.0</td>\n      <td>33</td>\n      <td>17</td>\n      <td>17</td>\n      <td>25</td>\n      <td>14</td>\n      <td>1004.4</td>\n      <td>1001.0</td>\n      <td>-1</td>\n      <td>28.7</td>\n      <td>36.4</td>\n      <td>No</td>\n      <td>No</td>\n      <td>14.8</td>\n      <td>-11</td>\n      <td>17.0</td>\n    </tr>\n    <tr>\n      <th>14466</th>\n      <td>12</td>\n      <td>19.7</td>\n      <td>37.0</td>\n      <td>0.0</td>\n      <td>37</td>\n      <td>22</td>\n      <td>6</td>\n      <td>30</td>\n      <td>23</td>\n      <td>1004.6</td>\n      <td>1000.9</td>\n      <td>-1</td>\n      <td>28.2</td>\n      <td>35.1</td>\n      <td>No</td>\n      <td>No</td>\n      <td>17.3</td>\n      <td>-7</td>\n      <td>14.0</td>\n    </tr>\n    <tr>\n      <th>14467</th>\n      <td>12</td>\n      <td>23.7</td>\n      <td>33.0</td>\n      <td>0.0</td>\n      <td>46</td>\n      <td>24</td>\n      <td>17</td>\n      <td>40</td>\n      <td>38</td>\n      <td>1005.1</td>\n      <td>1002.7</td>\n      <td>-1</td>\n      <td>30.1</td>\n      <td>31.5</td>\n      <td>No</td>\n      <td>No</td>\n      <td>9.3</td>\n      <td>-2</td>\n      <td>20.5</td>\n    </tr>\n  </tbody>\n</table>\n<p>14468 rows × 19 columns</p>\n</div>"
     },
     "execution_count": 181,
     "metadata": {},
     "output_type": "execute_result"
    }
   ],
   "source": [
    "df = df.drop('Location',axis=1)\n",
    "df"
   ],
   "metadata": {
    "collapsed": false,
    "ExecuteTime": {
     "start_time": "2023-05-23T23:50:16.797647Z",
     "end_time": "2023-05-23T23:50:16.804061Z"
    }
   }
  },
  {
   "cell_type": "code",
   "execution_count": 182,
   "outputs": [
    {
     "data": {
      "text/plain": "array([0, 1, 1, ..., 0, 0, 0])"
     },
     "execution_count": 182,
     "metadata": {},
     "output_type": "execute_result"
    }
   ],
   "source": [
    "from sklearn.preprocessing import LabelEncoder\n",
    "y = df['RainTomorrow']\n",
    "df = df.drop('RainTomorrow',axis=1)\n",
    "\n",
    "lb = LabelEncoder()\n",
    "y = lb.fit_transform(y)\n",
    "y"
   ],
   "metadata": {
    "collapsed": false,
    "ExecuteTime": {
     "start_time": "2023-05-23T23:50:16.805560Z",
     "end_time": "2023-05-23T23:50:16.810010Z"
    }
   }
  },
  {
   "cell_type": "code",
   "execution_count": 183,
   "outputs": [
    {
     "data": {
      "text/plain": "       Month  MinTemp  MaxTemp  Rainfall  WindGustSpeed  WindSpeed9am  \\\n0          1     20.4     37.6       0.0             54             0   \n1          1     20.9     33.6       0.4             50             9   \n2          1     18.4     23.1       2.2             48            11   \n3          1     17.3     23.7      15.6             39             9   \n4          1     15.5     22.9       6.8             31             6   \n...      ...      ...      ...       ...            ...           ...   \n14463     12     22.1     35.8      63.8             43            17   \n14464     12     22.6     36.8       0.0             50            30   \n14465     12     23.2     38.0       0.0             33            17   \n14466     12     19.7     37.0       0.0             37            22   \n14467     12     23.7     33.0       0.0             46            24   \n\n       WindSpeed3pm  Humidity9am  Humidity3pm  Pressure9am  Pressure3pm  \\\n0                 7           46           17       1013.4       1009.2   \n1                17           54           30       1011.1       1008.4   \n2                39           62           67       1014.0       1014.8   \n3                17           74           65       1017.9       1016.5   \n4                 9           92           63       1016.3       1013.9   \n...             ...          ...          ...          ...          ...   \n14463            31           77           41        997.8        995.2   \n14464            15           63           39       1000.0        998.8   \n14465            17           25           14       1004.4       1001.0   \n14466             6           30           23       1004.6       1000.9   \n14467            17           40           38       1005.1       1002.7   \n\n       Cloud3pm  Temp9am  Temp3pm  RainToday  Escursione_Giornaliera  \\\n0             3     26.1     36.7          0                    17.2   \n1             8     24.8     31.7          0                    12.7   \n2             8     21.8     19.5          1                     4.7   \n3             8     19.2     21.6          1                     6.4   \n4             8     17.2     22.2          1                     7.4   \n...         ...      ...      ...        ...                     ...   \n14463         2     26.0     33.5          1                    13.7   \n14464        -1     29.7     34.0          0                    14.2   \n14465        -1     28.7     36.4          0                    14.8   \n14466        -1     28.2     35.1          0                    17.3   \n14467        -1     30.1     31.5          0                     9.3   \n\n       Diff_umidità  Vento_medio  \n0               -29          3.5  \n1               -24         13.0  \n2                 5         25.0  \n3                -9         13.0  \n4               -29          7.5  \n...             ...          ...  \n14463           -36         24.0  \n14464           -24         22.5  \n14465           -11         17.0  \n14466            -7         14.0  \n14467            -2         20.5  \n\n[14468 rows x 18 columns]",
      "text/html": "<div>\n<style scoped>\n    .dataframe tbody tr th:only-of-type {\n        vertical-align: middle;\n    }\n\n    .dataframe tbody tr th {\n        vertical-align: top;\n    }\n\n    .dataframe thead th {\n        text-align: right;\n    }\n</style>\n<table border=\"1\" class=\"dataframe\">\n  <thead>\n    <tr style=\"text-align: right;\">\n      <th></th>\n      <th>Month</th>\n      <th>MinTemp</th>\n      <th>MaxTemp</th>\n      <th>Rainfall</th>\n      <th>WindGustSpeed</th>\n      <th>WindSpeed9am</th>\n      <th>WindSpeed3pm</th>\n      <th>Humidity9am</th>\n      <th>Humidity3pm</th>\n      <th>Pressure9am</th>\n      <th>Pressure3pm</th>\n      <th>Cloud3pm</th>\n      <th>Temp9am</th>\n      <th>Temp3pm</th>\n      <th>RainToday</th>\n      <th>Escursione_Giornaliera</th>\n      <th>Diff_umidità</th>\n      <th>Vento_medio</th>\n    </tr>\n  </thead>\n  <tbody>\n    <tr>\n      <th>0</th>\n      <td>1</td>\n      <td>20.4</td>\n      <td>37.6</td>\n      <td>0.0</td>\n      <td>54</td>\n      <td>0</td>\n      <td>7</td>\n      <td>46</td>\n      <td>17</td>\n      <td>1013.4</td>\n      <td>1009.2</td>\n      <td>3</td>\n      <td>26.1</td>\n      <td>36.7</td>\n      <td>0</td>\n      <td>17.2</td>\n      <td>-29</td>\n      <td>3.5</td>\n    </tr>\n    <tr>\n      <th>1</th>\n      <td>1</td>\n      <td>20.9</td>\n      <td>33.6</td>\n      <td>0.4</td>\n      <td>50</td>\n      <td>9</td>\n      <td>17</td>\n      <td>54</td>\n      <td>30</td>\n      <td>1011.1</td>\n      <td>1008.4</td>\n      <td>8</td>\n      <td>24.8</td>\n      <td>31.7</td>\n      <td>0</td>\n      <td>12.7</td>\n      <td>-24</td>\n      <td>13.0</td>\n    </tr>\n    <tr>\n      <th>2</th>\n      <td>1</td>\n      <td>18.4</td>\n      <td>23.1</td>\n      <td>2.2</td>\n      <td>48</td>\n      <td>11</td>\n      <td>39</td>\n      <td>62</td>\n      <td>67</td>\n      <td>1014.0</td>\n      <td>1014.8</td>\n      <td>8</td>\n      <td>21.8</td>\n      <td>19.5</td>\n      <td>1</td>\n      <td>4.7</td>\n      <td>5</td>\n      <td>25.0</td>\n    </tr>\n    <tr>\n      <th>3</th>\n      <td>1</td>\n      <td>17.3</td>\n      <td>23.7</td>\n      <td>15.6</td>\n      <td>39</td>\n      <td>9</td>\n      <td>17</td>\n      <td>74</td>\n      <td>65</td>\n      <td>1017.9</td>\n      <td>1016.5</td>\n      <td>8</td>\n      <td>19.2</td>\n      <td>21.6</td>\n      <td>1</td>\n      <td>6.4</td>\n      <td>-9</td>\n      <td>13.0</td>\n    </tr>\n    <tr>\n      <th>4</th>\n      <td>1</td>\n      <td>15.5</td>\n      <td>22.9</td>\n      <td>6.8</td>\n      <td>31</td>\n      <td>6</td>\n      <td>9</td>\n      <td>92</td>\n      <td>63</td>\n      <td>1016.3</td>\n      <td>1013.9</td>\n      <td>8</td>\n      <td>17.2</td>\n      <td>22.2</td>\n      <td>1</td>\n      <td>7.4</td>\n      <td>-29</td>\n      <td>7.5</td>\n    </tr>\n    <tr>\n      <th>...</th>\n      <td>...</td>\n      <td>...</td>\n      <td>...</td>\n      <td>...</td>\n      <td>...</td>\n      <td>...</td>\n      <td>...</td>\n      <td>...</td>\n      <td>...</td>\n      <td>...</td>\n      <td>...</td>\n      <td>...</td>\n      <td>...</td>\n      <td>...</td>\n      <td>...</td>\n      <td>...</td>\n      <td>...</td>\n      <td>...</td>\n    </tr>\n    <tr>\n      <th>14463</th>\n      <td>12</td>\n      <td>22.1</td>\n      <td>35.8</td>\n      <td>63.8</td>\n      <td>43</td>\n      <td>17</td>\n      <td>31</td>\n      <td>77</td>\n      <td>41</td>\n      <td>997.8</td>\n      <td>995.2</td>\n      <td>2</td>\n      <td>26.0</td>\n      <td>33.5</td>\n      <td>1</td>\n      <td>13.7</td>\n      <td>-36</td>\n      <td>24.0</td>\n    </tr>\n    <tr>\n      <th>14464</th>\n      <td>12</td>\n      <td>22.6</td>\n      <td>36.8</td>\n      <td>0.0</td>\n      <td>50</td>\n      <td>30</td>\n      <td>15</td>\n      <td>63</td>\n      <td>39</td>\n      <td>1000.0</td>\n      <td>998.8</td>\n      <td>-1</td>\n      <td>29.7</td>\n      <td>34.0</td>\n      <td>0</td>\n      <td>14.2</td>\n      <td>-24</td>\n      <td>22.5</td>\n    </tr>\n    <tr>\n      <th>14465</th>\n      <td>12</td>\n      <td>23.2</td>\n      <td>38.0</td>\n      <td>0.0</td>\n      <td>33</td>\n      <td>17</td>\n      <td>17</td>\n      <td>25</td>\n      <td>14</td>\n      <td>1004.4</td>\n      <td>1001.0</td>\n      <td>-1</td>\n      <td>28.7</td>\n      <td>36.4</td>\n      <td>0</td>\n      <td>14.8</td>\n      <td>-11</td>\n      <td>17.0</td>\n    </tr>\n    <tr>\n      <th>14466</th>\n      <td>12</td>\n      <td>19.7</td>\n      <td>37.0</td>\n      <td>0.0</td>\n      <td>37</td>\n      <td>22</td>\n      <td>6</td>\n      <td>30</td>\n      <td>23</td>\n      <td>1004.6</td>\n      <td>1000.9</td>\n      <td>-1</td>\n      <td>28.2</td>\n      <td>35.1</td>\n      <td>0</td>\n      <td>17.3</td>\n      <td>-7</td>\n      <td>14.0</td>\n    </tr>\n    <tr>\n      <th>14467</th>\n      <td>12</td>\n      <td>23.7</td>\n      <td>33.0</td>\n      <td>0.0</td>\n      <td>46</td>\n      <td>24</td>\n      <td>17</td>\n      <td>40</td>\n      <td>38</td>\n      <td>1005.1</td>\n      <td>1002.7</td>\n      <td>-1</td>\n      <td>30.1</td>\n      <td>31.5</td>\n      <td>0</td>\n      <td>9.3</td>\n      <td>-2</td>\n      <td>20.5</td>\n    </tr>\n  </tbody>\n</table>\n<p>14468 rows × 18 columns</p>\n</div>"
     },
     "execution_count": 183,
     "metadata": {},
     "output_type": "execute_result"
    }
   ],
   "source": [
    "lb = LabelEncoder()\n",
    "df['RainToday'] = lb.fit_transform(df['RainToday'])\n",
    "df"
   ],
   "metadata": {
    "collapsed": false,
    "ExecuteTime": {
     "start_time": "2023-05-23T23:50:16.820008Z",
     "end_time": "2023-05-23T23:50:16.821912Z"
    }
   }
  },
  {
   "cell_type": "code",
   "execution_count": 184,
   "outputs": [
    {
     "name": "stdout",
     "output_type": "stream",
     "text": [
      "accuracy RF: 0.8448514167242571\n",
      "accuracy dummy: 0.8448514167242571\n"
     ]
    }
   ],
   "source": [
    "from sklearn.model_selection import train_test_split\n",
    "from sklearn.ensemble import RandomForestClassifier\n",
    "from sklearn.dummy import DummyClassifier\n",
    "from sklearn.metrics import accuracy_score\n",
    "\n",
    "X_train, X_test, y_train, y_test = train_test_split(df, y, test_size=0.2,random_state=0)\n",
    "\n",
    "model = RandomForestClassifier(n_estimators=100)\n",
    "dummy_model = DummyClassifier(strategy='stratified')\n",
    "\n",
    "model.fit(X_train,y_train)\n",
    "pred = model.predict(X_test)\n",
    "\n",
    "dummy_model.fit(X_train,y_train)\n",
    "dummy_pred = model.predict(X_test)\n",
    "\n",
    "score = accuracy_score(y_test,pred)\n",
    "dummy_score = accuracy_score(y_test,dummy_pred)\n",
    "\n",
    "print('accuracy RF:',score)\n",
    "print('accuracy dummy:',dummy_score)"
   ],
   "metadata": {
    "collapsed": false,
    "ExecuteTime": {
     "start_time": "2023-05-23T23:50:16.824146Z",
     "end_time": "2023-05-23T23:50:18.421798Z"
    }
   }
  },
  {
   "cell_type": "markdown",
   "source": [
    "# Verificare se i risultati migliorano dopo avere scalato i valori tra 0 e 1 e normalizzato con Normalizer\n",
    "Per scalare da 0 a 1 si usa il MinMax_Scaler\n"
   ],
   "metadata": {
    "collapsed": false
   }
  },
  {
   "cell_type": "code",
   "execution_count": 185,
   "outputs": [
    {
     "data": {
      "text/plain": "array([[0.        , 0.34350798, 0.37499499, ..., 0.26563098, 0.15066763,\n        0.02556784],\n       [0.        , 0.33334099, 0.31373087, ..., 0.18672468, 0.15647906,\n        0.09041013],\n       [0.        , 0.27491343, 0.18232416, ..., 0.06295194, 0.21145027,\n        0.15838972],\n       ...,\n       [0.42544701, 0.35188269, 0.35086247, ..., 0.21129583, 0.18486686,\n        0.11480316],\n       [0.43013366, 0.31237372, 0.34410693, ..., 0.24970847, 0.19714459,\n        0.09558526],\n       [0.42528059, 0.357873  , 0.29822145, ..., 0.13272179, 0.20757743,\n        0.13838495]])"
     },
     "execution_count": 185,
     "metadata": {},
     "output_type": "execute_result"
    }
   ],
   "source": [
    "from sklearn.preprocessing import MinMaxScaler,Normalizer\n",
    "scaler = MinMaxScaler(feature_range=(0,1))\n",
    "normalize = Normalizer()\n",
    "X = scaler.fit_transform(df)\n",
    "X = normalize.fit_transform(X)\n",
    "X"
   ],
   "metadata": {
    "collapsed": false,
    "ExecuteTime": {
     "start_time": "2023-05-23T23:50:18.423867Z",
     "end_time": "2023-05-23T23:50:18.430698Z"
    }
   }
  },
  {
   "cell_type": "raw",
   "source": [
    "e rifaccio"
   ],
   "metadata": {
    "collapsed": false
   }
  },
  {
   "cell_type": "code",
   "execution_count": 186,
   "outputs": [
    {
     "name": "stdout",
     "output_type": "stream",
     "text": [
      "accuracy RF: 0.84139599170698\n",
      "accuracy dummy: 0.84139599170698\n"
     ]
    }
   ],
   "source": [
    "X_train, X_test, y_train, y_test = train_test_split(X, y, test_size=0.2,random_state=0)\n",
    "\n",
    "model = RandomForestClassifier(n_estimators=100)\n",
    "dummy_model = DummyClassifier(strategy='stratified')\n",
    "\n",
    "model.fit(X_train,y_train)\n",
    "pred = model.predict(X_test)\n",
    "\n",
    "dummy_model.fit(X_train,y_train)\n",
    "dummy_pred = model.predict(X_test)\n",
    "\n",
    "score = accuracy_score(y_test,pred)\n",
    "dummy_score = accuracy_score(y_test,dummy_pred)\n",
    "\n",
    "print('accuracy RF:',score)\n",
    "print('accuracy dummy:',dummy_score)"
   ],
   "metadata": {
    "collapsed": false,
    "ExecuteTime": {
     "start_time": "2023-05-23T23:50:18.432166Z",
     "end_time": "2023-05-23T23:50:21.212105Z"
    }
   }
  },
  {
   "cell_type": "markdown",
   "source": [
    "# Nel dataset originale, il valore -1 per l'attributo Cloud3pm rappresenta un errore. Occorre individuare le istanze che assumono quel valore, usare il modello randomforest per stimare il valore di Cloud3pm. Sostituire il valore predetto a -1 e rieseguire tutte le normalizzazioni del punto precedente e valutare se si introduce un miglioramento. Valutare cosa succede se invece di effettuare la sostituzione dei valori si eliminano le istanze non corrette"
   ],
   "metadata": {
    "collapsed": false
   }
  },
  {
   "cell_type": "code",
   "execution_count": 187,
   "outputs": [
    {
     "data": {
      "text/plain": "       Month  MinTemp  MaxTemp  Rainfall  WindGustSpeed  WindSpeed9am  \\\n0          1     20.4     37.6       0.0             54             0   \n1          1     20.9     33.6       0.4             50             9   \n2          1     18.4     23.1       2.2             48            11   \n3          1     17.3     23.7      15.6             39             9   \n4          1     15.5     22.9       6.8             31             6   \n...      ...      ...      ...       ...            ...           ...   \n14463     12     22.1     35.8      63.8             43            17   \n14464     12     22.6     36.8       0.0             50            30   \n14465     12     23.2     38.0       0.0             33            17   \n14466     12     19.7     37.0       0.0             37            22   \n14467     12     23.7     33.0       0.0             46            24   \n\n       WindSpeed3pm  Humidity9am  Humidity3pm  Pressure9am  Pressure3pm  \\\n0                 7           46           17       1013.4       1009.2   \n1                17           54           30       1011.1       1008.4   \n2                39           62           67       1014.0       1014.8   \n3                17           74           65       1017.9       1016.5   \n4                 9           92           63       1016.3       1013.9   \n...             ...          ...          ...          ...          ...   \n14463            31           77           41        997.8        995.2   \n14464            15           63           39       1000.0        998.8   \n14465            17           25           14       1004.4       1001.0   \n14466             6           30           23       1004.6       1000.9   \n14467            17           40           38       1005.1       1002.7   \n\n       Cloud3pm  Temp9am  Temp3pm  RainToday  Escursione_Giornaliera  \\\n0             3     26.1     36.7          0                    17.2   \n1             8     24.8     31.7          0                    12.7   \n2             8     21.8     19.5          1                     4.7   \n3             8     19.2     21.6          1                     6.4   \n4             8     17.2     22.2          1                     7.4   \n...         ...      ...      ...        ...                     ...   \n14463         2     26.0     33.5          1                    13.7   \n14464        -1     29.7     34.0          0                    14.2   \n14465        -1     28.7     36.4          0                    14.8   \n14466        -1     28.2     35.1          0                    17.3   \n14467        -1     30.1     31.5          0                     9.3   \n\n       Diff_umidità  Vento_medio  \n0               -29          3.5  \n1               -24         13.0  \n2                 5         25.0  \n3                -9         13.0  \n4               -29          7.5  \n...             ...          ...  \n14463           -36         24.0  \n14464           -24         22.5  \n14465           -11         17.0  \n14466            -7         14.0  \n14467            -2         20.5  \n\n[14468 rows x 18 columns]",
      "text/html": "<div>\n<style scoped>\n    .dataframe tbody tr th:only-of-type {\n        vertical-align: middle;\n    }\n\n    .dataframe tbody tr th {\n        vertical-align: top;\n    }\n\n    .dataframe thead th {\n        text-align: right;\n    }\n</style>\n<table border=\"1\" class=\"dataframe\">\n  <thead>\n    <tr style=\"text-align: right;\">\n      <th></th>\n      <th>Month</th>\n      <th>MinTemp</th>\n      <th>MaxTemp</th>\n      <th>Rainfall</th>\n      <th>WindGustSpeed</th>\n      <th>WindSpeed9am</th>\n      <th>WindSpeed3pm</th>\n      <th>Humidity9am</th>\n      <th>Humidity3pm</th>\n      <th>Pressure9am</th>\n      <th>Pressure3pm</th>\n      <th>Cloud3pm</th>\n      <th>Temp9am</th>\n      <th>Temp3pm</th>\n      <th>RainToday</th>\n      <th>Escursione_Giornaliera</th>\n      <th>Diff_umidità</th>\n      <th>Vento_medio</th>\n    </tr>\n  </thead>\n  <tbody>\n    <tr>\n      <th>0</th>\n      <td>1</td>\n      <td>20.4</td>\n      <td>37.6</td>\n      <td>0.0</td>\n      <td>54</td>\n      <td>0</td>\n      <td>7</td>\n      <td>46</td>\n      <td>17</td>\n      <td>1013.4</td>\n      <td>1009.2</td>\n      <td>3</td>\n      <td>26.1</td>\n      <td>36.7</td>\n      <td>0</td>\n      <td>17.2</td>\n      <td>-29</td>\n      <td>3.5</td>\n    </tr>\n    <tr>\n      <th>1</th>\n      <td>1</td>\n      <td>20.9</td>\n      <td>33.6</td>\n      <td>0.4</td>\n      <td>50</td>\n      <td>9</td>\n      <td>17</td>\n      <td>54</td>\n      <td>30</td>\n      <td>1011.1</td>\n      <td>1008.4</td>\n      <td>8</td>\n      <td>24.8</td>\n      <td>31.7</td>\n      <td>0</td>\n      <td>12.7</td>\n      <td>-24</td>\n      <td>13.0</td>\n    </tr>\n    <tr>\n      <th>2</th>\n      <td>1</td>\n      <td>18.4</td>\n      <td>23.1</td>\n      <td>2.2</td>\n      <td>48</td>\n      <td>11</td>\n      <td>39</td>\n      <td>62</td>\n      <td>67</td>\n      <td>1014.0</td>\n      <td>1014.8</td>\n      <td>8</td>\n      <td>21.8</td>\n      <td>19.5</td>\n      <td>1</td>\n      <td>4.7</td>\n      <td>5</td>\n      <td>25.0</td>\n    </tr>\n    <tr>\n      <th>3</th>\n      <td>1</td>\n      <td>17.3</td>\n      <td>23.7</td>\n      <td>15.6</td>\n      <td>39</td>\n      <td>9</td>\n      <td>17</td>\n      <td>74</td>\n      <td>65</td>\n      <td>1017.9</td>\n      <td>1016.5</td>\n      <td>8</td>\n      <td>19.2</td>\n      <td>21.6</td>\n      <td>1</td>\n      <td>6.4</td>\n      <td>-9</td>\n      <td>13.0</td>\n    </tr>\n    <tr>\n      <th>4</th>\n      <td>1</td>\n      <td>15.5</td>\n      <td>22.9</td>\n      <td>6.8</td>\n      <td>31</td>\n      <td>6</td>\n      <td>9</td>\n      <td>92</td>\n      <td>63</td>\n      <td>1016.3</td>\n      <td>1013.9</td>\n      <td>8</td>\n      <td>17.2</td>\n      <td>22.2</td>\n      <td>1</td>\n      <td>7.4</td>\n      <td>-29</td>\n      <td>7.5</td>\n    </tr>\n    <tr>\n      <th>...</th>\n      <td>...</td>\n      <td>...</td>\n      <td>...</td>\n      <td>...</td>\n      <td>...</td>\n      <td>...</td>\n      <td>...</td>\n      <td>...</td>\n      <td>...</td>\n      <td>...</td>\n      <td>...</td>\n      <td>...</td>\n      <td>...</td>\n      <td>...</td>\n      <td>...</td>\n      <td>...</td>\n      <td>...</td>\n      <td>...</td>\n    </tr>\n    <tr>\n      <th>14463</th>\n      <td>12</td>\n      <td>22.1</td>\n      <td>35.8</td>\n      <td>63.8</td>\n      <td>43</td>\n      <td>17</td>\n      <td>31</td>\n      <td>77</td>\n      <td>41</td>\n      <td>997.8</td>\n      <td>995.2</td>\n      <td>2</td>\n      <td>26.0</td>\n      <td>33.5</td>\n      <td>1</td>\n      <td>13.7</td>\n      <td>-36</td>\n      <td>24.0</td>\n    </tr>\n    <tr>\n      <th>14464</th>\n      <td>12</td>\n      <td>22.6</td>\n      <td>36.8</td>\n      <td>0.0</td>\n      <td>50</td>\n      <td>30</td>\n      <td>15</td>\n      <td>63</td>\n      <td>39</td>\n      <td>1000.0</td>\n      <td>998.8</td>\n      <td>-1</td>\n      <td>29.7</td>\n      <td>34.0</td>\n      <td>0</td>\n      <td>14.2</td>\n      <td>-24</td>\n      <td>22.5</td>\n    </tr>\n    <tr>\n      <th>14465</th>\n      <td>12</td>\n      <td>23.2</td>\n      <td>38.0</td>\n      <td>0.0</td>\n      <td>33</td>\n      <td>17</td>\n      <td>17</td>\n      <td>25</td>\n      <td>14</td>\n      <td>1004.4</td>\n      <td>1001.0</td>\n      <td>-1</td>\n      <td>28.7</td>\n      <td>36.4</td>\n      <td>0</td>\n      <td>14.8</td>\n      <td>-11</td>\n      <td>17.0</td>\n    </tr>\n    <tr>\n      <th>14466</th>\n      <td>12</td>\n      <td>19.7</td>\n      <td>37.0</td>\n      <td>0.0</td>\n      <td>37</td>\n      <td>22</td>\n      <td>6</td>\n      <td>30</td>\n      <td>23</td>\n      <td>1004.6</td>\n      <td>1000.9</td>\n      <td>-1</td>\n      <td>28.2</td>\n      <td>35.1</td>\n      <td>0</td>\n      <td>17.3</td>\n      <td>-7</td>\n      <td>14.0</td>\n    </tr>\n    <tr>\n      <th>14467</th>\n      <td>12</td>\n      <td>23.7</td>\n      <td>33.0</td>\n      <td>0.0</td>\n      <td>46</td>\n      <td>24</td>\n      <td>17</td>\n      <td>40</td>\n      <td>38</td>\n      <td>1005.1</td>\n      <td>1002.7</td>\n      <td>-1</td>\n      <td>30.1</td>\n      <td>31.5</td>\n      <td>0</td>\n      <td>9.3</td>\n      <td>-2</td>\n      <td>20.5</td>\n    </tr>\n  </tbody>\n</table>\n<p>14468 rows × 18 columns</p>\n</div>"
     },
     "execution_count": 187,
     "metadata": {},
     "output_type": "execute_result"
    }
   ],
   "source": [
    "df"
   ],
   "metadata": {
    "collapsed": false,
    "ExecuteTime": {
     "start_time": "2023-05-23T23:50:21.221936Z",
     "end_time": "2023-05-23T23:50:21.224172Z"
    }
   }
  },
  {
   "cell_type": "code",
   "execution_count": 188,
   "outputs": [
    {
     "data": {
      "text/plain": "       Month  MinTemp  MaxTemp  Rainfall  WindGustSpeed  WindSpeed9am  \\\n0          1     20.4     37.6       0.0             54             0   \n1          1     20.9     33.6       0.4             50             9   \n2          1     18.4     23.1       2.2             48            11   \n3          1     17.3     23.7      15.6             39             9   \n4          1     15.5     22.9       6.8             31             6   \n...      ...      ...      ...       ...            ...           ...   \n14463     12     22.1     35.8      63.8             43            17   \n14464     12     22.6     36.8       0.0             50            30   \n14465     12     23.2     38.0       0.0             33            17   \n14466     12     19.7     37.0       0.0             37            22   \n14467     12     23.7     33.0       0.0             46            24   \n\n       WindSpeed3pm  Humidity9am  Humidity3pm  Pressure9am  Pressure3pm  \\\n0                 7           46           17       1013.4       1009.2   \n1                17           54           30       1011.1       1008.4   \n2                39           62           67       1014.0       1014.8   \n3                17           74           65       1017.9       1016.5   \n4                 9           92           63       1016.3       1013.9   \n...             ...          ...          ...          ...          ...   \n14463            31           77           41        997.8        995.2   \n14464            15           63           39       1000.0        998.8   \n14465            17           25           14       1004.4       1001.0   \n14466             6           30           23       1004.6       1000.9   \n14467            17           40           38       1005.1       1002.7   \n\n       Cloud3pm  Temp9am  Temp3pm  RainToday  Escursione_Giornaliera  \\\n0             3     26.1     36.7          0                    17.2   \n1             8     24.8     31.7          0                    12.7   \n2             8     21.8     19.5          1                     4.7   \n3             8     19.2     21.6          1                     6.4   \n4             8     17.2     22.2          1                     7.4   \n...         ...      ...      ...        ...                     ...   \n14463         2     26.0     33.5          1                    13.7   \n14464        -1     29.7     34.0          0                    14.2   \n14465        -1     28.7     36.4          0                    14.8   \n14466        -1     28.2     35.1          0                    17.3   \n14467        -1     30.1     31.5          0                     9.3   \n\n       Diff_umidità  Vento_medio  RainTomorrow  \n0               -29          3.5             0  \n1               -24         13.0             1  \n2                 5         25.0             1  \n3                -9         13.0             1  \n4               -29          7.5             0  \n...             ...          ...           ...  \n14463           -36         24.0             0  \n14464           -24         22.5             0  \n14465           -11         17.0             0  \n14466            -7         14.0             0  \n14467            -2         20.5             0  \n\n[14468 rows x 19 columns]",
      "text/html": "<div>\n<style scoped>\n    .dataframe tbody tr th:only-of-type {\n        vertical-align: middle;\n    }\n\n    .dataframe tbody tr th {\n        vertical-align: top;\n    }\n\n    .dataframe thead th {\n        text-align: right;\n    }\n</style>\n<table border=\"1\" class=\"dataframe\">\n  <thead>\n    <tr style=\"text-align: right;\">\n      <th></th>\n      <th>Month</th>\n      <th>MinTemp</th>\n      <th>MaxTemp</th>\n      <th>Rainfall</th>\n      <th>WindGustSpeed</th>\n      <th>WindSpeed9am</th>\n      <th>WindSpeed3pm</th>\n      <th>Humidity9am</th>\n      <th>Humidity3pm</th>\n      <th>Pressure9am</th>\n      <th>Pressure3pm</th>\n      <th>Cloud3pm</th>\n      <th>Temp9am</th>\n      <th>Temp3pm</th>\n      <th>RainToday</th>\n      <th>Escursione_Giornaliera</th>\n      <th>Diff_umidità</th>\n      <th>Vento_medio</th>\n      <th>RainTomorrow</th>\n    </tr>\n  </thead>\n  <tbody>\n    <tr>\n      <th>0</th>\n      <td>1</td>\n      <td>20.4</td>\n      <td>37.6</td>\n      <td>0.0</td>\n      <td>54</td>\n      <td>0</td>\n      <td>7</td>\n      <td>46</td>\n      <td>17</td>\n      <td>1013.4</td>\n      <td>1009.2</td>\n      <td>3</td>\n      <td>26.1</td>\n      <td>36.7</td>\n      <td>0</td>\n      <td>17.2</td>\n      <td>-29</td>\n      <td>3.5</td>\n      <td>0</td>\n    </tr>\n    <tr>\n      <th>1</th>\n      <td>1</td>\n      <td>20.9</td>\n      <td>33.6</td>\n      <td>0.4</td>\n      <td>50</td>\n      <td>9</td>\n      <td>17</td>\n      <td>54</td>\n      <td>30</td>\n      <td>1011.1</td>\n      <td>1008.4</td>\n      <td>8</td>\n      <td>24.8</td>\n      <td>31.7</td>\n      <td>0</td>\n      <td>12.7</td>\n      <td>-24</td>\n      <td>13.0</td>\n      <td>1</td>\n    </tr>\n    <tr>\n      <th>2</th>\n      <td>1</td>\n      <td>18.4</td>\n      <td>23.1</td>\n      <td>2.2</td>\n      <td>48</td>\n      <td>11</td>\n      <td>39</td>\n      <td>62</td>\n      <td>67</td>\n      <td>1014.0</td>\n      <td>1014.8</td>\n      <td>8</td>\n      <td>21.8</td>\n      <td>19.5</td>\n      <td>1</td>\n      <td>4.7</td>\n      <td>5</td>\n      <td>25.0</td>\n      <td>1</td>\n    </tr>\n    <tr>\n      <th>3</th>\n      <td>1</td>\n      <td>17.3</td>\n      <td>23.7</td>\n      <td>15.6</td>\n      <td>39</td>\n      <td>9</td>\n      <td>17</td>\n      <td>74</td>\n      <td>65</td>\n      <td>1017.9</td>\n      <td>1016.5</td>\n      <td>8</td>\n      <td>19.2</td>\n      <td>21.6</td>\n      <td>1</td>\n      <td>6.4</td>\n      <td>-9</td>\n      <td>13.0</td>\n      <td>1</td>\n    </tr>\n    <tr>\n      <th>4</th>\n      <td>1</td>\n      <td>15.5</td>\n      <td>22.9</td>\n      <td>6.8</td>\n      <td>31</td>\n      <td>6</td>\n      <td>9</td>\n      <td>92</td>\n      <td>63</td>\n      <td>1016.3</td>\n      <td>1013.9</td>\n      <td>8</td>\n      <td>17.2</td>\n      <td>22.2</td>\n      <td>1</td>\n      <td>7.4</td>\n      <td>-29</td>\n      <td>7.5</td>\n      <td>0</td>\n    </tr>\n    <tr>\n      <th>...</th>\n      <td>...</td>\n      <td>...</td>\n      <td>...</td>\n      <td>...</td>\n      <td>...</td>\n      <td>...</td>\n      <td>...</td>\n      <td>...</td>\n      <td>...</td>\n      <td>...</td>\n      <td>...</td>\n      <td>...</td>\n      <td>...</td>\n      <td>...</td>\n      <td>...</td>\n      <td>...</td>\n      <td>...</td>\n      <td>...</td>\n      <td>...</td>\n    </tr>\n    <tr>\n      <th>14463</th>\n      <td>12</td>\n      <td>22.1</td>\n      <td>35.8</td>\n      <td>63.8</td>\n      <td>43</td>\n      <td>17</td>\n      <td>31</td>\n      <td>77</td>\n      <td>41</td>\n      <td>997.8</td>\n      <td>995.2</td>\n      <td>2</td>\n      <td>26.0</td>\n      <td>33.5</td>\n      <td>1</td>\n      <td>13.7</td>\n      <td>-36</td>\n      <td>24.0</td>\n      <td>0</td>\n    </tr>\n    <tr>\n      <th>14464</th>\n      <td>12</td>\n      <td>22.6</td>\n      <td>36.8</td>\n      <td>0.0</td>\n      <td>50</td>\n      <td>30</td>\n      <td>15</td>\n      <td>63</td>\n      <td>39</td>\n      <td>1000.0</td>\n      <td>998.8</td>\n      <td>-1</td>\n      <td>29.7</td>\n      <td>34.0</td>\n      <td>0</td>\n      <td>14.2</td>\n      <td>-24</td>\n      <td>22.5</td>\n      <td>0</td>\n    </tr>\n    <tr>\n      <th>14465</th>\n      <td>12</td>\n      <td>23.2</td>\n      <td>38.0</td>\n      <td>0.0</td>\n      <td>33</td>\n      <td>17</td>\n      <td>17</td>\n      <td>25</td>\n      <td>14</td>\n      <td>1004.4</td>\n      <td>1001.0</td>\n      <td>-1</td>\n      <td>28.7</td>\n      <td>36.4</td>\n      <td>0</td>\n      <td>14.8</td>\n      <td>-11</td>\n      <td>17.0</td>\n      <td>0</td>\n    </tr>\n    <tr>\n      <th>14466</th>\n      <td>12</td>\n      <td>19.7</td>\n      <td>37.0</td>\n      <td>0.0</td>\n      <td>37</td>\n      <td>22</td>\n      <td>6</td>\n      <td>30</td>\n      <td>23</td>\n      <td>1004.6</td>\n      <td>1000.9</td>\n      <td>-1</td>\n      <td>28.2</td>\n      <td>35.1</td>\n      <td>0</td>\n      <td>17.3</td>\n      <td>-7</td>\n      <td>14.0</td>\n      <td>0</td>\n    </tr>\n    <tr>\n      <th>14467</th>\n      <td>12</td>\n      <td>23.7</td>\n      <td>33.0</td>\n      <td>0.0</td>\n      <td>46</td>\n      <td>24</td>\n      <td>17</td>\n      <td>40</td>\n      <td>38</td>\n      <td>1005.1</td>\n      <td>1002.7</td>\n      <td>-1</td>\n      <td>30.1</td>\n      <td>31.5</td>\n      <td>0</td>\n      <td>9.3</td>\n      <td>-2</td>\n      <td>20.5</td>\n      <td>0</td>\n    </tr>\n  </tbody>\n</table>\n<p>14468 rows × 19 columns</p>\n</div>"
     },
     "execution_count": 188,
     "metadata": {},
     "output_type": "execute_result"
    }
   ],
   "source": [
    "df_with_Tomorrow = df.copy()\n",
    "df_with_Tomorrow['RainTomorrow'] = y\n",
    "df_with_Tomorrow"
   ],
   "metadata": {
    "collapsed": false,
    "ExecuteTime": {
     "start_time": "2023-05-23T23:50:21.235404Z",
     "end_time": "2023-05-23T23:50:21.263844Z"
    }
   }
  },
  {
   "cell_type": "code",
   "execution_count": 189,
   "outputs": [
    {
     "data": {
      "text/plain": "       Month  MinTemp  MaxTemp  Rainfall  WindGustSpeed  WindSpeed9am  \\\n0          1     20.4     37.6       0.0             54             0   \n1          1     20.9     33.6       0.4             50             9   \n2          1     18.4     23.1       2.2             48            11   \n3          1     17.3     23.7      15.6             39             9   \n4          1     15.5     22.9       6.8             31             6   \n...      ...      ...      ...       ...            ...           ...   \n14463     12     22.1     35.8      63.8             43            17   \n14464     12     22.6     36.8       0.0             50            30   \n14465     12     23.2     38.0       0.0             33            17   \n14466     12     19.7     37.0       0.0             37            22   \n14467     12     23.7     33.0       0.0             46            24   \n\n       WindSpeed3pm  Humidity9am  Humidity3pm  Pressure9am  Pressure3pm  \\\n0                 7           46           17       1013.4       1009.2   \n1                17           54           30       1011.1       1008.4   \n2                39           62           67       1014.0       1014.8   \n3                17           74           65       1017.9       1016.5   \n4                 9           92           63       1016.3       1013.9   \n...             ...          ...          ...          ...          ...   \n14463            31           77           41        997.8        995.2   \n14464            15           63           39       1000.0        998.8   \n14465            17           25           14       1004.4       1001.0   \n14466             6           30           23       1004.6       1000.9   \n14467            17           40           38       1005.1       1002.7   \n\n       Temp9am  Temp3pm  RainToday  Escursione_Giornaliera  Diff_umidità  \\\n0         26.1     36.7          0                    17.2           -29   \n1         24.8     31.7          0                    12.7           -24   \n2         21.8     19.5          1                     4.7             5   \n3         19.2     21.6          1                     6.4            -9   \n4         17.2     22.2          1                     7.4           -29   \n...        ...      ...        ...                     ...           ...   \n14463     26.0     33.5          1                    13.7           -36   \n14464     29.7     34.0          0                    14.2           -24   \n14465     28.7     36.4          0                    14.8           -11   \n14466     28.2     35.1          0                    17.3            -7   \n14467     30.1     31.5          0                     9.3            -2   \n\n       Vento_medio  RainTomorrow  \n0              3.5             0  \n1             13.0             1  \n2             25.0             1  \n3             13.0             1  \n4              7.5             0  \n...            ...           ...  \n14463         24.0             0  \n14464         22.5             0  \n14465         17.0             0  \n14466         14.0             0  \n14467         20.5             0  \n\n[14468 rows x 18 columns]",
      "text/html": "<div>\n<style scoped>\n    .dataframe tbody tr th:only-of-type {\n        vertical-align: middle;\n    }\n\n    .dataframe tbody tr th {\n        vertical-align: top;\n    }\n\n    .dataframe thead th {\n        text-align: right;\n    }\n</style>\n<table border=\"1\" class=\"dataframe\">\n  <thead>\n    <tr style=\"text-align: right;\">\n      <th></th>\n      <th>Month</th>\n      <th>MinTemp</th>\n      <th>MaxTemp</th>\n      <th>Rainfall</th>\n      <th>WindGustSpeed</th>\n      <th>WindSpeed9am</th>\n      <th>WindSpeed3pm</th>\n      <th>Humidity9am</th>\n      <th>Humidity3pm</th>\n      <th>Pressure9am</th>\n      <th>Pressure3pm</th>\n      <th>Temp9am</th>\n      <th>Temp3pm</th>\n      <th>RainToday</th>\n      <th>Escursione_Giornaliera</th>\n      <th>Diff_umidità</th>\n      <th>Vento_medio</th>\n      <th>RainTomorrow</th>\n    </tr>\n  </thead>\n  <tbody>\n    <tr>\n      <th>0</th>\n      <td>1</td>\n      <td>20.4</td>\n      <td>37.6</td>\n      <td>0.0</td>\n      <td>54</td>\n      <td>0</td>\n      <td>7</td>\n      <td>46</td>\n      <td>17</td>\n      <td>1013.4</td>\n      <td>1009.2</td>\n      <td>26.1</td>\n      <td>36.7</td>\n      <td>0</td>\n      <td>17.2</td>\n      <td>-29</td>\n      <td>3.5</td>\n      <td>0</td>\n    </tr>\n    <tr>\n      <th>1</th>\n      <td>1</td>\n      <td>20.9</td>\n      <td>33.6</td>\n      <td>0.4</td>\n      <td>50</td>\n      <td>9</td>\n      <td>17</td>\n      <td>54</td>\n      <td>30</td>\n      <td>1011.1</td>\n      <td>1008.4</td>\n      <td>24.8</td>\n      <td>31.7</td>\n      <td>0</td>\n      <td>12.7</td>\n      <td>-24</td>\n      <td>13.0</td>\n      <td>1</td>\n    </tr>\n    <tr>\n      <th>2</th>\n      <td>1</td>\n      <td>18.4</td>\n      <td>23.1</td>\n      <td>2.2</td>\n      <td>48</td>\n      <td>11</td>\n      <td>39</td>\n      <td>62</td>\n      <td>67</td>\n      <td>1014.0</td>\n      <td>1014.8</td>\n      <td>21.8</td>\n      <td>19.5</td>\n      <td>1</td>\n      <td>4.7</td>\n      <td>5</td>\n      <td>25.0</td>\n      <td>1</td>\n    </tr>\n    <tr>\n      <th>3</th>\n      <td>1</td>\n      <td>17.3</td>\n      <td>23.7</td>\n      <td>15.6</td>\n      <td>39</td>\n      <td>9</td>\n      <td>17</td>\n      <td>74</td>\n      <td>65</td>\n      <td>1017.9</td>\n      <td>1016.5</td>\n      <td>19.2</td>\n      <td>21.6</td>\n      <td>1</td>\n      <td>6.4</td>\n      <td>-9</td>\n      <td>13.0</td>\n      <td>1</td>\n    </tr>\n    <tr>\n      <th>4</th>\n      <td>1</td>\n      <td>15.5</td>\n      <td>22.9</td>\n      <td>6.8</td>\n      <td>31</td>\n      <td>6</td>\n      <td>9</td>\n      <td>92</td>\n      <td>63</td>\n      <td>1016.3</td>\n      <td>1013.9</td>\n      <td>17.2</td>\n      <td>22.2</td>\n      <td>1</td>\n      <td>7.4</td>\n      <td>-29</td>\n      <td>7.5</td>\n      <td>0</td>\n    </tr>\n    <tr>\n      <th>...</th>\n      <td>...</td>\n      <td>...</td>\n      <td>...</td>\n      <td>...</td>\n      <td>...</td>\n      <td>...</td>\n      <td>...</td>\n      <td>...</td>\n      <td>...</td>\n      <td>...</td>\n      <td>...</td>\n      <td>...</td>\n      <td>...</td>\n      <td>...</td>\n      <td>...</td>\n      <td>...</td>\n      <td>...</td>\n      <td>...</td>\n    </tr>\n    <tr>\n      <th>14463</th>\n      <td>12</td>\n      <td>22.1</td>\n      <td>35.8</td>\n      <td>63.8</td>\n      <td>43</td>\n      <td>17</td>\n      <td>31</td>\n      <td>77</td>\n      <td>41</td>\n      <td>997.8</td>\n      <td>995.2</td>\n      <td>26.0</td>\n      <td>33.5</td>\n      <td>1</td>\n      <td>13.7</td>\n      <td>-36</td>\n      <td>24.0</td>\n      <td>0</td>\n    </tr>\n    <tr>\n      <th>14464</th>\n      <td>12</td>\n      <td>22.6</td>\n      <td>36.8</td>\n      <td>0.0</td>\n      <td>50</td>\n      <td>30</td>\n      <td>15</td>\n      <td>63</td>\n      <td>39</td>\n      <td>1000.0</td>\n      <td>998.8</td>\n      <td>29.7</td>\n      <td>34.0</td>\n      <td>0</td>\n      <td>14.2</td>\n      <td>-24</td>\n      <td>22.5</td>\n      <td>0</td>\n    </tr>\n    <tr>\n      <th>14465</th>\n      <td>12</td>\n      <td>23.2</td>\n      <td>38.0</td>\n      <td>0.0</td>\n      <td>33</td>\n      <td>17</td>\n      <td>17</td>\n      <td>25</td>\n      <td>14</td>\n      <td>1004.4</td>\n      <td>1001.0</td>\n      <td>28.7</td>\n      <td>36.4</td>\n      <td>0</td>\n      <td>14.8</td>\n      <td>-11</td>\n      <td>17.0</td>\n      <td>0</td>\n    </tr>\n    <tr>\n      <th>14466</th>\n      <td>12</td>\n      <td>19.7</td>\n      <td>37.0</td>\n      <td>0.0</td>\n      <td>37</td>\n      <td>22</td>\n      <td>6</td>\n      <td>30</td>\n      <td>23</td>\n      <td>1004.6</td>\n      <td>1000.9</td>\n      <td>28.2</td>\n      <td>35.1</td>\n      <td>0</td>\n      <td>17.3</td>\n      <td>-7</td>\n      <td>14.0</td>\n      <td>0</td>\n    </tr>\n    <tr>\n      <th>14467</th>\n      <td>12</td>\n      <td>23.7</td>\n      <td>33.0</td>\n      <td>0.0</td>\n      <td>46</td>\n      <td>24</td>\n      <td>17</td>\n      <td>40</td>\n      <td>38</td>\n      <td>1005.1</td>\n      <td>1002.7</td>\n      <td>30.1</td>\n      <td>31.5</td>\n      <td>0</td>\n      <td>9.3</td>\n      <td>-2</td>\n      <td>20.5</td>\n      <td>0</td>\n    </tr>\n  </tbody>\n</table>\n<p>14468 rows × 18 columns</p>\n</div>"
     },
     "execution_count": 189,
     "metadata": {},
     "output_type": "execute_result"
    }
   ],
   "source": [
    "y_cloud = df_with_Tomorrow['Cloud3pm'] == -1\n",
    "df_no_cloud = df_with_Tomorrow.drop('Cloud3pm',axis=1)\n",
    "df_no_cloud"
   ],
   "metadata": {
    "collapsed": false,
    "ExecuteTime": {
     "start_time": "2023-05-23T23:50:21.248236Z",
     "end_time": "2023-05-23T23:50:21.281134Z"
    }
   }
  },
  {
   "cell_type": "code",
   "execution_count": 190,
   "outputs": [
    {
     "data": {
      "text/plain": "array([0, 0, 0, ..., 1, 1, 1])"
     },
     "execution_count": 190,
     "metadata": {},
     "output_type": "execute_result"
    }
   ],
   "source": [
    "y_cloud = lb.fit_transform(y_cloud)\n",
    "y_cloud"
   ],
   "metadata": {
    "collapsed": false,
    "ExecuteTime": {
     "start_time": "2023-05-23T23:50:21.251284Z",
     "end_time": "2023-05-23T23:50:21.281248Z"
    }
   }
  },
  {
   "cell_type": "code",
   "execution_count": 191,
   "outputs": [
    {
     "data": {
      "text/plain": "0.6541119557705598"
     },
     "execution_count": 191,
     "metadata": {},
     "output_type": "execute_result"
    }
   ],
   "source": [
    "X_train, X_test, y_train, y_test = train_test_split(df_no_cloud,y_cloud, test_size=0.2,random_state=0)\n",
    "\n",
    "model = RandomForestClassifier(n_estimators=100)\n",
    "model.fit(X_train,y_train)\n",
    "pred = model.predict(X_test)\n",
    "score = accuracy_score(y_test,pred)\n",
    "score"
   ],
   "metadata": {
    "collapsed": false,
    "ExecuteTime": {
     "start_time": "2023-05-23T23:50:21.256080Z",
     "end_time": "2023-05-23T23:50:23.066786Z"
    }
   }
  },
  {
   "cell_type": "code",
   "execution_count": 192,
   "outputs": [
    {
     "data": {
      "text/plain": "SimpleImputer(fill_value=0.6541119557705598, missing_values=-1)"
     },
     "execution_count": 192,
     "metadata": {},
     "output_type": "execute_result"
    }
   ],
   "source": [
    "from sklearn.impute import SimpleImputer\n",
    "imputer = SimpleImputer(missing_values=-1,fill_value=score)\n",
    "imputer"
   ],
   "metadata": {
    "collapsed": false,
    "ExecuteTime": {
     "start_time": "2023-05-23T23:50:23.067915Z",
     "end_time": "2023-05-23T23:50:23.070339Z"
    }
   }
  },
  {
   "cell_type": "code",
   "execution_count": 193,
   "outputs": [
    {
     "data": {
      "text/plain": "array([[  1. ,  20.4,  37.6, ...,  17.2, -29. ,   3.5],\n       [  1. ,  20.9,  33.6, ...,  12.7, -24. ,  13. ],\n       [  1. ,  18.4,  23.1, ...,   4.7,   5. ,  25. ],\n       ...,\n       [ 12. ,  23.2,  38. , ...,  14.8, -11. ,  17. ],\n       [ 12. ,  19.7,  37. , ...,  17.3,  -7. ,  14. ],\n       [ 12. ,  23.7,  33. , ...,   9.3,  -2. ,  20.5]])"
     },
     "execution_count": 193,
     "metadata": {},
     "output_type": "execute_result"
    }
   ],
   "source": [
    "df_imputer = imputer.fit_transform(df)\n",
    "df_imputer"
   ],
   "metadata": {
    "collapsed": false,
    "ExecuteTime": {
     "start_time": "2023-05-23T23:50:23.071701Z",
     "end_time": "2023-05-23T23:50:23.077196Z"
    }
   }
  },
  {
   "cell_type": "code",
   "execution_count": 194,
   "outputs": [
    {
     "data": {
      "text/plain": "array([[0.        , 0.37276922, 0.4069384 , ..., 0.28825838, 0.16350203,\n        0.0277458 ],\n       [0.        , 0.35702284, 0.33601953, ..., 0.19999033, 0.16759595,\n        0.09683321],\n       [0.        , 0.28792789, 0.19095543, ..., 0.0659321 , 0.22146037,\n        0.16588792],\n       ...,\n       [0.44106288, 0.3647984 , 0.36374074, ..., 0.21905136, 0.19165232,\n        0.11901697],\n       [0.44634327, 0.32414554, 0.35707461, ..., 0.25911874, 0.204574  ,\n        0.09918739],\n       [0.43999055, 0.37025141, 0.30853658, ..., 0.13731249, 0.21475729,\n        0.14317153]])"
     },
     "execution_count": 194,
     "metadata": {},
     "output_type": "execute_result"
    }
   ],
   "source": [
    "scaler = MinMaxScaler(feature_range=(0,1))\n",
    "normalize = Normalizer()\n",
    "X = scaler.fit_transform(df_imputer)\n",
    "X = normalize.fit_transform(X)\n",
    "X"
   ],
   "metadata": {
    "collapsed": false,
    "ExecuteTime": {
     "start_time": "2023-05-23T23:50:23.078507Z",
     "end_time": "2023-05-23T23:50:23.083153Z"
    }
   }
  },
  {
   "cell_type": "code",
   "execution_count": 175,
   "outputs": [
    {
     "name": "stdout",
     "output_type": "stream",
     "text": [
      "accuracy RF: 0.8431237042156186\n",
      "accuracy dummy: 0.8431237042156186\n"
     ]
    }
   ],
   "source": [
    "X_train, X_test, y_train, y_test = train_test_split(X, y, test_size=0.2,random_state=0)\n",
    "\n",
    "model = RandomForestClassifier(n_estimators=100)\n",
    "dummy_model = DummyClassifier(strategy='stratified')\n",
    "\n",
    "model.fit(X_train,y_train)\n",
    "pred = model.predict(X_test)\n",
    "\n",
    "dummy_model.fit(X_train,y_train)\n",
    "dummy_pred = model.predict(X_test)\n",
    "\n",
    "score = accuracy_score(y_test,pred)\n",
    "dummy_score = accuracy_score(y_test,dummy_pred)\n",
    "\n",
    "print('accuracy RF:',score)\n",
    "print('accuracy dummy:',dummy_score)"
   ],
   "metadata": {
    "collapsed": false,
    "ExecuteTime": {
     "start_time": "2023-05-23T23:47:55.228280Z",
     "end_time": "2023-05-23T23:47:58.076207Z"
    }
   }
  },
  {
   "cell_type": "code",
   "execution_count": 196,
   "outputs": [
    {
     "data": {
      "text/plain": "SimpleImputer(missing_values=-1)"
     },
     "execution_count": 196,
     "metadata": {},
     "output_type": "execute_result"
    }
   ],
   "source": [
    "dimputer = SimpleImputer(missing_values=-1,fill_value=None)\n",
    "dimputer"
   ],
   "metadata": {
    "collapsed": false,
    "ExecuteTime": {
     "start_time": "2023-05-23T23:50:34.822067Z",
     "end_time": "2023-05-23T23:50:34.827275Z"
    }
   }
  },
  {
   "cell_type": "code",
   "execution_count": 197,
   "outputs": [
    {
     "data": {
      "text/plain": "       Month  MinTemp  MaxTemp  Rainfall  WindGustSpeed  WindSpeed9am  \\\n0          1     20.4     37.6       0.0             54             0   \n1          1     20.9     33.6       0.4             50             9   \n2          1     18.4     23.1       2.2             48            11   \n3          1     17.3     23.7      15.6             39             9   \n4          1     15.5     22.9       6.8             31             6   \n...      ...      ...      ...       ...            ...           ...   \n14463     12     22.1     35.8      63.8             43            17   \n14464     12     22.6     36.8       0.0             50            30   \n14465     12     23.2     38.0       0.0             33            17   \n14466     12     19.7     37.0       0.0             37            22   \n14467     12     23.7     33.0       0.0             46            24   \n\n       WindSpeed3pm  Humidity9am  Humidity3pm  Pressure9am  Pressure3pm  \\\n0                 7           46           17       1013.4       1009.2   \n1                17           54           30       1011.1       1008.4   \n2                39           62           67       1014.0       1014.8   \n3                17           74           65       1017.9       1016.5   \n4                 9           92           63       1016.3       1013.9   \n...             ...          ...          ...          ...          ...   \n14463            31           77           41        997.8        995.2   \n14464            15           63           39       1000.0        998.8   \n14465            17           25           14       1004.4       1001.0   \n14466             6           30           23       1004.6       1000.9   \n14467            17           40           38       1005.1       1002.7   \n\n       Cloud3pm  Temp9am  Temp3pm  RainToday  Escursione_Giornaliera  \\\n0             3     26.1     36.7          0                    17.2   \n1             8     24.8     31.7          0                    12.7   \n2             8     21.8     19.5          1                     4.7   \n3             8     19.2     21.6          1                     6.4   \n4             8     17.2     22.2          1                     7.4   \n...         ...      ...      ...        ...                     ...   \n14463         2     26.0     33.5          1                    13.7   \n14464        -1     29.7     34.0          0                    14.2   \n14465        -1     28.7     36.4          0                    14.8   \n14466        -1     28.2     35.1          0                    17.3   \n14467        -1     30.1     31.5          0                     9.3   \n\n       Diff_umidità  Vento_medio  \n0               -29          3.5  \n1               -24         13.0  \n2                 5         25.0  \n3                -9         13.0  \n4               -29          7.5  \n...             ...          ...  \n14463           -36         24.0  \n14464           -24         22.5  \n14465           -11         17.0  \n14466            -7         14.0  \n14467            -2         20.5  \n\n[14468 rows x 18 columns]",
      "text/html": "<div>\n<style scoped>\n    .dataframe tbody tr th:only-of-type {\n        vertical-align: middle;\n    }\n\n    .dataframe tbody tr th {\n        vertical-align: top;\n    }\n\n    .dataframe thead th {\n        text-align: right;\n    }\n</style>\n<table border=\"1\" class=\"dataframe\">\n  <thead>\n    <tr style=\"text-align: right;\">\n      <th></th>\n      <th>Month</th>\n      <th>MinTemp</th>\n      <th>MaxTemp</th>\n      <th>Rainfall</th>\n      <th>WindGustSpeed</th>\n      <th>WindSpeed9am</th>\n      <th>WindSpeed3pm</th>\n      <th>Humidity9am</th>\n      <th>Humidity3pm</th>\n      <th>Pressure9am</th>\n      <th>Pressure3pm</th>\n      <th>Cloud3pm</th>\n      <th>Temp9am</th>\n      <th>Temp3pm</th>\n      <th>RainToday</th>\n      <th>Escursione_Giornaliera</th>\n      <th>Diff_umidità</th>\n      <th>Vento_medio</th>\n    </tr>\n  </thead>\n  <tbody>\n    <tr>\n      <th>0</th>\n      <td>1</td>\n      <td>20.4</td>\n      <td>37.6</td>\n      <td>0.0</td>\n      <td>54</td>\n      <td>0</td>\n      <td>7</td>\n      <td>46</td>\n      <td>17</td>\n      <td>1013.4</td>\n      <td>1009.2</td>\n      <td>3</td>\n      <td>26.1</td>\n      <td>36.7</td>\n      <td>0</td>\n      <td>17.2</td>\n      <td>-29</td>\n      <td>3.5</td>\n    </tr>\n    <tr>\n      <th>1</th>\n      <td>1</td>\n      <td>20.9</td>\n      <td>33.6</td>\n      <td>0.4</td>\n      <td>50</td>\n      <td>9</td>\n      <td>17</td>\n      <td>54</td>\n      <td>30</td>\n      <td>1011.1</td>\n      <td>1008.4</td>\n      <td>8</td>\n      <td>24.8</td>\n      <td>31.7</td>\n      <td>0</td>\n      <td>12.7</td>\n      <td>-24</td>\n      <td>13.0</td>\n    </tr>\n    <tr>\n      <th>2</th>\n      <td>1</td>\n      <td>18.4</td>\n      <td>23.1</td>\n      <td>2.2</td>\n      <td>48</td>\n      <td>11</td>\n      <td>39</td>\n      <td>62</td>\n      <td>67</td>\n      <td>1014.0</td>\n      <td>1014.8</td>\n      <td>8</td>\n      <td>21.8</td>\n      <td>19.5</td>\n      <td>1</td>\n      <td>4.7</td>\n      <td>5</td>\n      <td>25.0</td>\n    </tr>\n    <tr>\n      <th>3</th>\n      <td>1</td>\n      <td>17.3</td>\n      <td>23.7</td>\n      <td>15.6</td>\n      <td>39</td>\n      <td>9</td>\n      <td>17</td>\n      <td>74</td>\n      <td>65</td>\n      <td>1017.9</td>\n      <td>1016.5</td>\n      <td>8</td>\n      <td>19.2</td>\n      <td>21.6</td>\n      <td>1</td>\n      <td>6.4</td>\n      <td>-9</td>\n      <td>13.0</td>\n    </tr>\n    <tr>\n      <th>4</th>\n      <td>1</td>\n      <td>15.5</td>\n      <td>22.9</td>\n      <td>6.8</td>\n      <td>31</td>\n      <td>6</td>\n      <td>9</td>\n      <td>92</td>\n      <td>63</td>\n      <td>1016.3</td>\n      <td>1013.9</td>\n      <td>8</td>\n      <td>17.2</td>\n      <td>22.2</td>\n      <td>1</td>\n      <td>7.4</td>\n      <td>-29</td>\n      <td>7.5</td>\n    </tr>\n    <tr>\n      <th>...</th>\n      <td>...</td>\n      <td>...</td>\n      <td>...</td>\n      <td>...</td>\n      <td>...</td>\n      <td>...</td>\n      <td>...</td>\n      <td>...</td>\n      <td>...</td>\n      <td>...</td>\n      <td>...</td>\n      <td>...</td>\n      <td>...</td>\n      <td>...</td>\n      <td>...</td>\n      <td>...</td>\n      <td>...</td>\n      <td>...</td>\n    </tr>\n    <tr>\n      <th>14463</th>\n      <td>12</td>\n      <td>22.1</td>\n      <td>35.8</td>\n      <td>63.8</td>\n      <td>43</td>\n      <td>17</td>\n      <td>31</td>\n      <td>77</td>\n      <td>41</td>\n      <td>997.8</td>\n      <td>995.2</td>\n      <td>2</td>\n      <td>26.0</td>\n      <td>33.5</td>\n      <td>1</td>\n      <td>13.7</td>\n      <td>-36</td>\n      <td>24.0</td>\n    </tr>\n    <tr>\n      <th>14464</th>\n      <td>12</td>\n      <td>22.6</td>\n      <td>36.8</td>\n      <td>0.0</td>\n      <td>50</td>\n      <td>30</td>\n      <td>15</td>\n      <td>63</td>\n      <td>39</td>\n      <td>1000.0</td>\n      <td>998.8</td>\n      <td>-1</td>\n      <td>29.7</td>\n      <td>34.0</td>\n      <td>0</td>\n      <td>14.2</td>\n      <td>-24</td>\n      <td>22.5</td>\n    </tr>\n    <tr>\n      <th>14465</th>\n      <td>12</td>\n      <td>23.2</td>\n      <td>38.0</td>\n      <td>0.0</td>\n      <td>33</td>\n      <td>17</td>\n      <td>17</td>\n      <td>25</td>\n      <td>14</td>\n      <td>1004.4</td>\n      <td>1001.0</td>\n      <td>-1</td>\n      <td>28.7</td>\n      <td>36.4</td>\n      <td>0</td>\n      <td>14.8</td>\n      <td>-11</td>\n      <td>17.0</td>\n    </tr>\n    <tr>\n      <th>14466</th>\n      <td>12</td>\n      <td>19.7</td>\n      <td>37.0</td>\n      <td>0.0</td>\n      <td>37</td>\n      <td>22</td>\n      <td>6</td>\n      <td>30</td>\n      <td>23</td>\n      <td>1004.6</td>\n      <td>1000.9</td>\n      <td>-1</td>\n      <td>28.2</td>\n      <td>35.1</td>\n      <td>0</td>\n      <td>17.3</td>\n      <td>-7</td>\n      <td>14.0</td>\n    </tr>\n    <tr>\n      <th>14467</th>\n      <td>12</td>\n      <td>23.7</td>\n      <td>33.0</td>\n      <td>0.0</td>\n      <td>46</td>\n      <td>24</td>\n      <td>17</td>\n      <td>40</td>\n      <td>38</td>\n      <td>1005.1</td>\n      <td>1002.7</td>\n      <td>-1</td>\n      <td>30.1</td>\n      <td>31.5</td>\n      <td>0</td>\n      <td>9.3</td>\n      <td>-2</td>\n      <td>20.5</td>\n    </tr>\n  </tbody>\n</table>\n<p>14468 rows × 18 columns</p>\n</div>"
     },
     "execution_count": 197,
     "metadata": {},
     "output_type": "execute_result"
    }
   ],
   "source": [
    "df"
   ],
   "metadata": {
    "collapsed": false,
    "ExecuteTime": {
     "start_time": "2023-05-23T23:50:40.443514Z",
     "end_time": "2023-05-23T23:50:40.446953Z"
    }
   }
  },
  {
   "cell_type": "code",
   "execution_count": 198,
   "outputs": [
    {
     "data": {
      "text/plain": "array([[  1. ,  20.4,  37.6, ...,  17.2, -29. ,   3.5],\n       [  1. ,  20.9,  33.6, ...,  12.7, -24. ,  13. ],\n       [  1. ,  18.4,  23.1, ...,   4.7,   5. ,  25. ],\n       ...,\n       [ 12. ,  23.2,  38. , ...,  14.8, -11. ,  17. ],\n       [ 12. ,  19.7,  37. , ...,  17.3,  -7. ,  14. ],\n       [ 12. ,  23.7,  33. , ...,   9.3,  -2. ,  20.5]])"
     },
     "execution_count": 198,
     "metadata": {},
     "output_type": "execute_result"
    }
   ],
   "source": [
    "df_imputer = dimputer.fit_transform(df)\n",
    "df_imputer"
   ],
   "metadata": {
    "collapsed": false,
    "ExecuteTime": {
     "start_time": "2023-05-23T23:50:50.665153Z",
     "end_time": "2023-05-23T23:50:50.675849Z"
    }
   }
  },
  {
   "cell_type": "code",
   "execution_count": null,
   "outputs": [],
   "source": [],
   "metadata": {
    "collapsed": false
   }
  }
 ],
 "metadata": {
  "kernelspec": {
   "display_name": "Python 3",
   "language": "python",
   "name": "python3"
  },
  "language_info": {
   "codemirror_mode": {
    "name": "ipython",
    "version": 2
   },
   "file_extension": ".py",
   "mimetype": "text/x-python",
   "name": "python",
   "nbconvert_exporter": "python",
   "pygments_lexer": "ipython2",
   "version": "2.7.6"
  }
 },
 "nbformat": 4,
 "nbformat_minor": 0
}
