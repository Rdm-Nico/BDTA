{
 "cells": [
  {
   "cell_type": "markdown",
   "source": [
    "# 1\n",
    "Inserire nuove features nel dataset che rappresentino:\n",
    "- escursione termica gionarliera (MaxTemp-MinTemp)\n",
    "- differenza di unimidità (Humidity3pm- Humidity 9am)\n",
    "- vento medio (WindSpeed3pm,WindSpeed9am)\n",
    "\n",
    "Eliminare l'attributo Location e trasformare gli attributi booleani in numerici. Dividere il dataset in train e test (20%). Calcolare che accuratezza si ottiene con un modello randomForest (100 alberi) e confrontarla con un dummyClassifier (strategia stratified)"
   ],
   "metadata": {
    "collapsed": false,
    "id": "GDXhte9x-Taz"
   }
  },
  {
   "cell_type": "code",
   "execution_count": 1,
   "outputs": [
    {
     "data": {
      "text/plain": "       Month Location  MinTemp  MaxTemp  Rainfall  WindGustSpeed  \\\n0          1   Albury     20.4     37.6       0.0             54   \n1          1   Albury     20.9     33.6       0.4             50   \n2          1   Albury     18.4     23.1       2.2             48   \n3          1   Albury     17.3     23.7      15.6             39   \n4          1   Albury     15.5     22.9       6.8             31   \n...      ...      ...      ...      ...       ...            ...   \n14463     12    Uluru     22.1     35.8      63.8             43   \n14464     12    Uluru     22.6     36.8       0.0             50   \n14465     12    Uluru     23.2     38.0       0.0             33   \n14466     12    Uluru     19.7     37.0       0.0             37   \n14467     12    Uluru     23.7     33.0       0.0             46   \n\n       WindSpeed9am  WindSpeed3pm  Humidity9am  Humidity3pm  Pressure9am  \\\n0                 0             7           46           17       1013.4   \n1                 9            17           54           30       1011.1   \n2                11            39           62           67       1014.0   \n3                 9            17           74           65       1017.9   \n4                 6             9           92           63       1016.3   \n...             ...           ...          ...          ...          ...   \n14463            17            31           77           41        997.8   \n14464            30            15           63           39       1000.0   \n14465            17            17           25           14       1004.4   \n14466            22             6           30           23       1004.6   \n14467            24            17           40           38       1005.1   \n\n       Pressure3pm  Cloud3pm  Temp9am  Temp3pm RainToday RainTomorrow  \n0           1009.2         3     26.1     36.7        No           No  \n1           1008.4         8     24.8     31.7        No          Yes  \n2           1014.8         8     21.8     19.5       Yes          Yes  \n3           1016.5         8     19.2     21.6       Yes          Yes  \n4           1013.9         8     17.2     22.2       Yes           No  \n...            ...       ...      ...      ...       ...          ...  \n14463        995.2         2     26.0     33.5       Yes           No  \n14464        998.8        -1     29.7     34.0        No           No  \n14465       1001.0        -1     28.7     36.4        No           No  \n14466       1000.9        -1     28.2     35.1        No           No  \n14467       1002.7        -1     30.1     31.5        No           No  \n\n[14468 rows x 17 columns]",
      "text/html": "<div>\n<style scoped>\n    .dataframe tbody tr th:only-of-type {\n        vertical-align: middle;\n    }\n\n    .dataframe tbody tr th {\n        vertical-align: top;\n    }\n\n    .dataframe thead th {\n        text-align: right;\n    }\n</style>\n<table border=\"1\" class=\"dataframe\">\n  <thead>\n    <tr style=\"text-align: right;\">\n      <th></th>\n      <th>Month</th>\n      <th>Location</th>\n      <th>MinTemp</th>\n      <th>MaxTemp</th>\n      <th>Rainfall</th>\n      <th>WindGustSpeed</th>\n      <th>WindSpeed9am</th>\n      <th>WindSpeed3pm</th>\n      <th>Humidity9am</th>\n      <th>Humidity3pm</th>\n      <th>Pressure9am</th>\n      <th>Pressure3pm</th>\n      <th>Cloud3pm</th>\n      <th>Temp9am</th>\n      <th>Temp3pm</th>\n      <th>RainToday</th>\n      <th>RainTomorrow</th>\n    </tr>\n  </thead>\n  <tbody>\n    <tr>\n      <th>0</th>\n      <td>1</td>\n      <td>Albury</td>\n      <td>20.4</td>\n      <td>37.6</td>\n      <td>0.0</td>\n      <td>54</td>\n      <td>0</td>\n      <td>7</td>\n      <td>46</td>\n      <td>17</td>\n      <td>1013.4</td>\n      <td>1009.2</td>\n      <td>3</td>\n      <td>26.1</td>\n      <td>36.7</td>\n      <td>No</td>\n      <td>No</td>\n    </tr>\n    <tr>\n      <th>1</th>\n      <td>1</td>\n      <td>Albury</td>\n      <td>20.9</td>\n      <td>33.6</td>\n      <td>0.4</td>\n      <td>50</td>\n      <td>9</td>\n      <td>17</td>\n      <td>54</td>\n      <td>30</td>\n      <td>1011.1</td>\n      <td>1008.4</td>\n      <td>8</td>\n      <td>24.8</td>\n      <td>31.7</td>\n      <td>No</td>\n      <td>Yes</td>\n    </tr>\n    <tr>\n      <th>2</th>\n      <td>1</td>\n      <td>Albury</td>\n      <td>18.4</td>\n      <td>23.1</td>\n      <td>2.2</td>\n      <td>48</td>\n      <td>11</td>\n      <td>39</td>\n      <td>62</td>\n      <td>67</td>\n      <td>1014.0</td>\n      <td>1014.8</td>\n      <td>8</td>\n      <td>21.8</td>\n      <td>19.5</td>\n      <td>Yes</td>\n      <td>Yes</td>\n    </tr>\n    <tr>\n      <th>3</th>\n      <td>1</td>\n      <td>Albury</td>\n      <td>17.3</td>\n      <td>23.7</td>\n      <td>15.6</td>\n      <td>39</td>\n      <td>9</td>\n      <td>17</td>\n      <td>74</td>\n      <td>65</td>\n      <td>1017.9</td>\n      <td>1016.5</td>\n      <td>8</td>\n      <td>19.2</td>\n      <td>21.6</td>\n      <td>Yes</td>\n      <td>Yes</td>\n    </tr>\n    <tr>\n      <th>4</th>\n      <td>1</td>\n      <td>Albury</td>\n      <td>15.5</td>\n      <td>22.9</td>\n      <td>6.8</td>\n      <td>31</td>\n      <td>6</td>\n      <td>9</td>\n      <td>92</td>\n      <td>63</td>\n      <td>1016.3</td>\n      <td>1013.9</td>\n      <td>8</td>\n      <td>17.2</td>\n      <td>22.2</td>\n      <td>Yes</td>\n      <td>No</td>\n    </tr>\n    <tr>\n      <th>...</th>\n      <td>...</td>\n      <td>...</td>\n      <td>...</td>\n      <td>...</td>\n      <td>...</td>\n      <td>...</td>\n      <td>...</td>\n      <td>...</td>\n      <td>...</td>\n      <td>...</td>\n      <td>...</td>\n      <td>...</td>\n      <td>...</td>\n      <td>...</td>\n      <td>...</td>\n      <td>...</td>\n      <td>...</td>\n    </tr>\n    <tr>\n      <th>14463</th>\n      <td>12</td>\n      <td>Uluru</td>\n      <td>22.1</td>\n      <td>35.8</td>\n      <td>63.8</td>\n      <td>43</td>\n      <td>17</td>\n      <td>31</td>\n      <td>77</td>\n      <td>41</td>\n      <td>997.8</td>\n      <td>995.2</td>\n      <td>2</td>\n      <td>26.0</td>\n      <td>33.5</td>\n      <td>Yes</td>\n      <td>No</td>\n    </tr>\n    <tr>\n      <th>14464</th>\n      <td>12</td>\n      <td>Uluru</td>\n      <td>22.6</td>\n      <td>36.8</td>\n      <td>0.0</td>\n      <td>50</td>\n      <td>30</td>\n      <td>15</td>\n      <td>63</td>\n      <td>39</td>\n      <td>1000.0</td>\n      <td>998.8</td>\n      <td>-1</td>\n      <td>29.7</td>\n      <td>34.0</td>\n      <td>No</td>\n      <td>No</td>\n    </tr>\n    <tr>\n      <th>14465</th>\n      <td>12</td>\n      <td>Uluru</td>\n      <td>23.2</td>\n      <td>38.0</td>\n      <td>0.0</td>\n      <td>33</td>\n      <td>17</td>\n      <td>17</td>\n      <td>25</td>\n      <td>14</td>\n      <td>1004.4</td>\n      <td>1001.0</td>\n      <td>-1</td>\n      <td>28.7</td>\n      <td>36.4</td>\n      <td>No</td>\n      <td>No</td>\n    </tr>\n    <tr>\n      <th>14466</th>\n      <td>12</td>\n      <td>Uluru</td>\n      <td>19.7</td>\n      <td>37.0</td>\n      <td>0.0</td>\n      <td>37</td>\n      <td>22</td>\n      <td>6</td>\n      <td>30</td>\n      <td>23</td>\n      <td>1004.6</td>\n      <td>1000.9</td>\n      <td>-1</td>\n      <td>28.2</td>\n      <td>35.1</td>\n      <td>No</td>\n      <td>No</td>\n    </tr>\n    <tr>\n      <th>14467</th>\n      <td>12</td>\n      <td>Uluru</td>\n      <td>23.7</td>\n      <td>33.0</td>\n      <td>0.0</td>\n      <td>46</td>\n      <td>24</td>\n      <td>17</td>\n      <td>40</td>\n      <td>38</td>\n      <td>1005.1</td>\n      <td>1002.7</td>\n      <td>-1</td>\n      <td>30.1</td>\n      <td>31.5</td>\n      <td>No</td>\n      <td>No</td>\n    </tr>\n  </tbody>\n</table>\n<p>14468 rows × 17 columns</p>\n</div>"
     },
     "execution_count": 1,
     "metadata": {},
     "output_type": "execute_result"
    }
   ],
   "source": [
    "import pandas as pd\n",
    "import numpy as np\n",
    "\n",
    "df = pd.read_csv(\"Data/weather.csv\",sep=\";\")\n",
    "df"
   ],
   "metadata": {
    "ExecuteTime": {
     "start_time": "2023-05-28T11:25:26.920931Z",
     "end_time": "2023-05-28T11:25:28.427006Z"
    },
    "id": "osBtrKXR-Ta1",
    "outputId": "98886e8f-de39-44c0-850e-007c2b90e892",
    "colab": {
     "base_uri": "https://localhost:8080/",
     "height": 487
    }
   }
  },
  {
   "cell_type": "markdown",
   "source": [
    "aggiungiamo le colonne:"
   ],
   "metadata": {
    "collapsed": false,
    "id": "QTOq-P00-Ta3"
   }
  },
  {
   "cell_type": "code",
   "execution_count": 2,
   "outputs": [
    {
     "data": {
      "text/plain": "       Month Location  MinTemp  MaxTemp  Rainfall  WindGustSpeed  \\\n0          1   Albury     20.4     37.6       0.0             54   \n1          1   Albury     20.9     33.6       0.4             50   \n2          1   Albury     18.4     23.1       2.2             48   \n3          1   Albury     17.3     23.7      15.6             39   \n4          1   Albury     15.5     22.9       6.8             31   \n...      ...      ...      ...      ...       ...            ...   \n14463     12    Uluru     22.1     35.8      63.8             43   \n14464     12    Uluru     22.6     36.8       0.0             50   \n14465     12    Uluru     23.2     38.0       0.0             33   \n14466     12    Uluru     19.7     37.0       0.0             37   \n14467     12    Uluru     23.7     33.0       0.0             46   \n\n       WindSpeed9am  WindSpeed3pm  Humidity9am  Humidity3pm  Pressure9am  \\\n0                 0             7           46           17       1013.4   \n1                 9            17           54           30       1011.1   \n2                11            39           62           67       1014.0   \n3                 9            17           74           65       1017.9   \n4                 6             9           92           63       1016.3   \n...             ...           ...          ...          ...          ...   \n14463            17            31           77           41        997.8   \n14464            30            15           63           39       1000.0   \n14465            17            17           25           14       1004.4   \n14466            22             6           30           23       1004.6   \n14467            24            17           40           38       1005.1   \n\n       Pressure3pm  Cloud3pm  Temp9am  Temp3pm RainToday RainTomorrow  \\\n0           1009.2         3     26.1     36.7        No           No   \n1           1008.4         8     24.8     31.7        No          Yes   \n2           1014.8         8     21.8     19.5       Yes          Yes   \n3           1016.5         8     19.2     21.6       Yes          Yes   \n4           1013.9         8     17.2     22.2       Yes           No   \n...            ...       ...      ...      ...       ...          ...   \n14463        995.2         2     26.0     33.5       Yes           No   \n14464        998.8        -1     29.7     34.0        No           No   \n14465       1001.0        -1     28.7     36.4        No           No   \n14466       1000.9        -1     28.2     35.1        No           No   \n14467       1002.7        -1     30.1     31.5        No           No   \n\n       Escursione_Giornaliera  Diff_umidità  Vento_medio  \n0                        17.2           -29          3.5  \n1                        12.7           -24         13.0  \n2                         4.7             5         25.0  \n3                         6.4            -9         13.0  \n4                         7.4           -29          7.5  \n...                       ...           ...          ...  \n14463                    13.7           -36         24.0  \n14464                    14.2           -24         22.5  \n14465                    14.8           -11         17.0  \n14466                    17.3            -7         14.0  \n14467                     9.3            -2         20.5  \n\n[14468 rows x 20 columns]",
      "text/html": "<div>\n<style scoped>\n    .dataframe tbody tr th:only-of-type {\n        vertical-align: middle;\n    }\n\n    .dataframe tbody tr th {\n        vertical-align: top;\n    }\n\n    .dataframe thead th {\n        text-align: right;\n    }\n</style>\n<table border=\"1\" class=\"dataframe\">\n  <thead>\n    <tr style=\"text-align: right;\">\n      <th></th>\n      <th>Month</th>\n      <th>Location</th>\n      <th>MinTemp</th>\n      <th>MaxTemp</th>\n      <th>Rainfall</th>\n      <th>WindGustSpeed</th>\n      <th>WindSpeed9am</th>\n      <th>WindSpeed3pm</th>\n      <th>Humidity9am</th>\n      <th>Humidity3pm</th>\n      <th>Pressure9am</th>\n      <th>Pressure3pm</th>\n      <th>Cloud3pm</th>\n      <th>Temp9am</th>\n      <th>Temp3pm</th>\n      <th>RainToday</th>\n      <th>RainTomorrow</th>\n      <th>Escursione_Giornaliera</th>\n      <th>Diff_umidità</th>\n      <th>Vento_medio</th>\n    </tr>\n  </thead>\n  <tbody>\n    <tr>\n      <th>0</th>\n      <td>1</td>\n      <td>Albury</td>\n      <td>20.4</td>\n      <td>37.6</td>\n      <td>0.0</td>\n      <td>54</td>\n      <td>0</td>\n      <td>7</td>\n      <td>46</td>\n      <td>17</td>\n      <td>1013.4</td>\n      <td>1009.2</td>\n      <td>3</td>\n      <td>26.1</td>\n      <td>36.7</td>\n      <td>No</td>\n      <td>No</td>\n      <td>17.2</td>\n      <td>-29</td>\n      <td>3.5</td>\n    </tr>\n    <tr>\n      <th>1</th>\n      <td>1</td>\n      <td>Albury</td>\n      <td>20.9</td>\n      <td>33.6</td>\n      <td>0.4</td>\n      <td>50</td>\n      <td>9</td>\n      <td>17</td>\n      <td>54</td>\n      <td>30</td>\n      <td>1011.1</td>\n      <td>1008.4</td>\n      <td>8</td>\n      <td>24.8</td>\n      <td>31.7</td>\n      <td>No</td>\n      <td>Yes</td>\n      <td>12.7</td>\n      <td>-24</td>\n      <td>13.0</td>\n    </tr>\n    <tr>\n      <th>2</th>\n      <td>1</td>\n      <td>Albury</td>\n      <td>18.4</td>\n      <td>23.1</td>\n      <td>2.2</td>\n      <td>48</td>\n      <td>11</td>\n      <td>39</td>\n      <td>62</td>\n      <td>67</td>\n      <td>1014.0</td>\n      <td>1014.8</td>\n      <td>8</td>\n      <td>21.8</td>\n      <td>19.5</td>\n      <td>Yes</td>\n      <td>Yes</td>\n      <td>4.7</td>\n      <td>5</td>\n      <td>25.0</td>\n    </tr>\n    <tr>\n      <th>3</th>\n      <td>1</td>\n      <td>Albury</td>\n      <td>17.3</td>\n      <td>23.7</td>\n      <td>15.6</td>\n      <td>39</td>\n      <td>9</td>\n      <td>17</td>\n      <td>74</td>\n      <td>65</td>\n      <td>1017.9</td>\n      <td>1016.5</td>\n      <td>8</td>\n      <td>19.2</td>\n      <td>21.6</td>\n      <td>Yes</td>\n      <td>Yes</td>\n      <td>6.4</td>\n      <td>-9</td>\n      <td>13.0</td>\n    </tr>\n    <tr>\n      <th>4</th>\n      <td>1</td>\n      <td>Albury</td>\n      <td>15.5</td>\n      <td>22.9</td>\n      <td>6.8</td>\n      <td>31</td>\n      <td>6</td>\n      <td>9</td>\n      <td>92</td>\n      <td>63</td>\n      <td>1016.3</td>\n      <td>1013.9</td>\n      <td>8</td>\n      <td>17.2</td>\n      <td>22.2</td>\n      <td>Yes</td>\n      <td>No</td>\n      <td>7.4</td>\n      <td>-29</td>\n      <td>7.5</td>\n    </tr>\n    <tr>\n      <th>...</th>\n      <td>...</td>\n      <td>...</td>\n      <td>...</td>\n      <td>...</td>\n      <td>...</td>\n      <td>...</td>\n      <td>...</td>\n      <td>...</td>\n      <td>...</td>\n      <td>...</td>\n      <td>...</td>\n      <td>...</td>\n      <td>...</td>\n      <td>...</td>\n      <td>...</td>\n      <td>...</td>\n      <td>...</td>\n      <td>...</td>\n      <td>...</td>\n      <td>...</td>\n    </tr>\n    <tr>\n      <th>14463</th>\n      <td>12</td>\n      <td>Uluru</td>\n      <td>22.1</td>\n      <td>35.8</td>\n      <td>63.8</td>\n      <td>43</td>\n      <td>17</td>\n      <td>31</td>\n      <td>77</td>\n      <td>41</td>\n      <td>997.8</td>\n      <td>995.2</td>\n      <td>2</td>\n      <td>26.0</td>\n      <td>33.5</td>\n      <td>Yes</td>\n      <td>No</td>\n      <td>13.7</td>\n      <td>-36</td>\n      <td>24.0</td>\n    </tr>\n    <tr>\n      <th>14464</th>\n      <td>12</td>\n      <td>Uluru</td>\n      <td>22.6</td>\n      <td>36.8</td>\n      <td>0.0</td>\n      <td>50</td>\n      <td>30</td>\n      <td>15</td>\n      <td>63</td>\n      <td>39</td>\n      <td>1000.0</td>\n      <td>998.8</td>\n      <td>-1</td>\n      <td>29.7</td>\n      <td>34.0</td>\n      <td>No</td>\n      <td>No</td>\n      <td>14.2</td>\n      <td>-24</td>\n      <td>22.5</td>\n    </tr>\n    <tr>\n      <th>14465</th>\n      <td>12</td>\n      <td>Uluru</td>\n      <td>23.2</td>\n      <td>38.0</td>\n      <td>0.0</td>\n      <td>33</td>\n      <td>17</td>\n      <td>17</td>\n      <td>25</td>\n      <td>14</td>\n      <td>1004.4</td>\n      <td>1001.0</td>\n      <td>-1</td>\n      <td>28.7</td>\n      <td>36.4</td>\n      <td>No</td>\n      <td>No</td>\n      <td>14.8</td>\n      <td>-11</td>\n      <td>17.0</td>\n    </tr>\n    <tr>\n      <th>14466</th>\n      <td>12</td>\n      <td>Uluru</td>\n      <td>19.7</td>\n      <td>37.0</td>\n      <td>0.0</td>\n      <td>37</td>\n      <td>22</td>\n      <td>6</td>\n      <td>30</td>\n      <td>23</td>\n      <td>1004.6</td>\n      <td>1000.9</td>\n      <td>-1</td>\n      <td>28.2</td>\n      <td>35.1</td>\n      <td>No</td>\n      <td>No</td>\n      <td>17.3</td>\n      <td>-7</td>\n      <td>14.0</td>\n    </tr>\n    <tr>\n      <th>14467</th>\n      <td>12</td>\n      <td>Uluru</td>\n      <td>23.7</td>\n      <td>33.0</td>\n      <td>0.0</td>\n      <td>46</td>\n      <td>24</td>\n      <td>17</td>\n      <td>40</td>\n      <td>38</td>\n      <td>1005.1</td>\n      <td>1002.7</td>\n      <td>-1</td>\n      <td>30.1</td>\n      <td>31.5</td>\n      <td>No</td>\n      <td>No</td>\n      <td>9.3</td>\n      <td>-2</td>\n      <td>20.5</td>\n    </tr>\n  </tbody>\n</table>\n<p>14468 rows × 20 columns</p>\n</div>"
     },
     "execution_count": 2,
     "metadata": {},
     "output_type": "execute_result"
    }
   ],
   "source": [
    "df['Escursione_Giornaliera'] = df['MaxTemp'] - df['MinTemp']\n",
    "df['Diff_umidità'] = df['Humidity3pm'] - df['Humidity9am']\n",
    "df['Vento_medio'] = (df['WindSpeed3pm'] + df['WindSpeed9am'])/2\n",
    "df"
   ],
   "metadata": {
    "ExecuteTime": {
     "start_time": "2023-05-28T11:25:50.549690Z",
     "end_time": "2023-05-28T11:25:50.576226Z"
    },
    "id": "RW7T3NaO-Ta3",
    "outputId": "38fb47c3-c6f2-48c7-8add-011772a790a9",
    "colab": {
     "base_uri": "https://localhost:8080/",
     "height": 487
    }
   }
  },
  {
   "cell_type": "code",
   "execution_count": 3,
   "outputs": [
    {
     "data": {
      "text/plain": "       Month  MinTemp  MaxTemp  Rainfall  WindGustSpeed  WindSpeed9am  \\\n0          1     20.4     37.6       0.0             54             0   \n1          1     20.9     33.6       0.4             50             9   \n2          1     18.4     23.1       2.2             48            11   \n3          1     17.3     23.7      15.6             39             9   \n4          1     15.5     22.9       6.8             31             6   \n...      ...      ...      ...       ...            ...           ...   \n14463     12     22.1     35.8      63.8             43            17   \n14464     12     22.6     36.8       0.0             50            30   \n14465     12     23.2     38.0       0.0             33            17   \n14466     12     19.7     37.0       0.0             37            22   \n14467     12     23.7     33.0       0.0             46            24   \n\n       WindSpeed3pm  Humidity9am  Humidity3pm  Pressure9am  Pressure3pm  \\\n0                 7           46           17       1013.4       1009.2   \n1                17           54           30       1011.1       1008.4   \n2                39           62           67       1014.0       1014.8   \n3                17           74           65       1017.9       1016.5   \n4                 9           92           63       1016.3       1013.9   \n...             ...          ...          ...          ...          ...   \n14463            31           77           41        997.8        995.2   \n14464            15           63           39       1000.0        998.8   \n14465            17           25           14       1004.4       1001.0   \n14466             6           30           23       1004.6       1000.9   \n14467            17           40           38       1005.1       1002.7   \n\n       Cloud3pm  Temp9am  Temp3pm RainToday RainTomorrow  \\\n0             3     26.1     36.7        No           No   \n1             8     24.8     31.7        No          Yes   \n2             8     21.8     19.5       Yes          Yes   \n3             8     19.2     21.6       Yes          Yes   \n4             8     17.2     22.2       Yes           No   \n...         ...      ...      ...       ...          ...   \n14463         2     26.0     33.5       Yes           No   \n14464        -1     29.7     34.0        No           No   \n14465        -1     28.7     36.4        No           No   \n14466        -1     28.2     35.1        No           No   \n14467        -1     30.1     31.5        No           No   \n\n       Escursione_Giornaliera  Diff_umidità  Vento_medio  \n0                        17.2           -29          3.5  \n1                        12.7           -24         13.0  \n2                         4.7             5         25.0  \n3                         6.4            -9         13.0  \n4                         7.4           -29          7.5  \n...                       ...           ...          ...  \n14463                    13.7           -36         24.0  \n14464                    14.2           -24         22.5  \n14465                    14.8           -11         17.0  \n14466                    17.3            -7         14.0  \n14467                     9.3            -2         20.5  \n\n[14468 rows x 19 columns]",
      "text/html": "<div>\n<style scoped>\n    .dataframe tbody tr th:only-of-type {\n        vertical-align: middle;\n    }\n\n    .dataframe tbody tr th {\n        vertical-align: top;\n    }\n\n    .dataframe thead th {\n        text-align: right;\n    }\n</style>\n<table border=\"1\" class=\"dataframe\">\n  <thead>\n    <tr style=\"text-align: right;\">\n      <th></th>\n      <th>Month</th>\n      <th>MinTemp</th>\n      <th>MaxTemp</th>\n      <th>Rainfall</th>\n      <th>WindGustSpeed</th>\n      <th>WindSpeed9am</th>\n      <th>WindSpeed3pm</th>\n      <th>Humidity9am</th>\n      <th>Humidity3pm</th>\n      <th>Pressure9am</th>\n      <th>Pressure3pm</th>\n      <th>Cloud3pm</th>\n      <th>Temp9am</th>\n      <th>Temp3pm</th>\n      <th>RainToday</th>\n      <th>RainTomorrow</th>\n      <th>Escursione_Giornaliera</th>\n      <th>Diff_umidità</th>\n      <th>Vento_medio</th>\n    </tr>\n  </thead>\n  <tbody>\n    <tr>\n      <th>0</th>\n      <td>1</td>\n      <td>20.4</td>\n      <td>37.6</td>\n      <td>0.0</td>\n      <td>54</td>\n      <td>0</td>\n      <td>7</td>\n      <td>46</td>\n      <td>17</td>\n      <td>1013.4</td>\n      <td>1009.2</td>\n      <td>3</td>\n      <td>26.1</td>\n      <td>36.7</td>\n      <td>No</td>\n      <td>No</td>\n      <td>17.2</td>\n      <td>-29</td>\n      <td>3.5</td>\n    </tr>\n    <tr>\n      <th>1</th>\n      <td>1</td>\n      <td>20.9</td>\n      <td>33.6</td>\n      <td>0.4</td>\n      <td>50</td>\n      <td>9</td>\n      <td>17</td>\n      <td>54</td>\n      <td>30</td>\n      <td>1011.1</td>\n      <td>1008.4</td>\n      <td>8</td>\n      <td>24.8</td>\n      <td>31.7</td>\n      <td>No</td>\n      <td>Yes</td>\n      <td>12.7</td>\n      <td>-24</td>\n      <td>13.0</td>\n    </tr>\n    <tr>\n      <th>2</th>\n      <td>1</td>\n      <td>18.4</td>\n      <td>23.1</td>\n      <td>2.2</td>\n      <td>48</td>\n      <td>11</td>\n      <td>39</td>\n      <td>62</td>\n      <td>67</td>\n      <td>1014.0</td>\n      <td>1014.8</td>\n      <td>8</td>\n      <td>21.8</td>\n      <td>19.5</td>\n      <td>Yes</td>\n      <td>Yes</td>\n      <td>4.7</td>\n      <td>5</td>\n      <td>25.0</td>\n    </tr>\n    <tr>\n      <th>3</th>\n      <td>1</td>\n      <td>17.3</td>\n      <td>23.7</td>\n      <td>15.6</td>\n      <td>39</td>\n      <td>9</td>\n      <td>17</td>\n      <td>74</td>\n      <td>65</td>\n      <td>1017.9</td>\n      <td>1016.5</td>\n      <td>8</td>\n      <td>19.2</td>\n      <td>21.6</td>\n      <td>Yes</td>\n      <td>Yes</td>\n      <td>6.4</td>\n      <td>-9</td>\n      <td>13.0</td>\n    </tr>\n    <tr>\n      <th>4</th>\n      <td>1</td>\n      <td>15.5</td>\n      <td>22.9</td>\n      <td>6.8</td>\n      <td>31</td>\n      <td>6</td>\n      <td>9</td>\n      <td>92</td>\n      <td>63</td>\n      <td>1016.3</td>\n      <td>1013.9</td>\n      <td>8</td>\n      <td>17.2</td>\n      <td>22.2</td>\n      <td>Yes</td>\n      <td>No</td>\n      <td>7.4</td>\n      <td>-29</td>\n      <td>7.5</td>\n    </tr>\n    <tr>\n      <th>...</th>\n      <td>...</td>\n      <td>...</td>\n      <td>...</td>\n      <td>...</td>\n      <td>...</td>\n      <td>...</td>\n      <td>...</td>\n      <td>...</td>\n      <td>...</td>\n      <td>...</td>\n      <td>...</td>\n      <td>...</td>\n      <td>...</td>\n      <td>...</td>\n      <td>...</td>\n      <td>...</td>\n      <td>...</td>\n      <td>...</td>\n      <td>...</td>\n    </tr>\n    <tr>\n      <th>14463</th>\n      <td>12</td>\n      <td>22.1</td>\n      <td>35.8</td>\n      <td>63.8</td>\n      <td>43</td>\n      <td>17</td>\n      <td>31</td>\n      <td>77</td>\n      <td>41</td>\n      <td>997.8</td>\n      <td>995.2</td>\n      <td>2</td>\n      <td>26.0</td>\n      <td>33.5</td>\n      <td>Yes</td>\n      <td>No</td>\n      <td>13.7</td>\n      <td>-36</td>\n      <td>24.0</td>\n    </tr>\n    <tr>\n      <th>14464</th>\n      <td>12</td>\n      <td>22.6</td>\n      <td>36.8</td>\n      <td>0.0</td>\n      <td>50</td>\n      <td>30</td>\n      <td>15</td>\n      <td>63</td>\n      <td>39</td>\n      <td>1000.0</td>\n      <td>998.8</td>\n      <td>-1</td>\n      <td>29.7</td>\n      <td>34.0</td>\n      <td>No</td>\n      <td>No</td>\n      <td>14.2</td>\n      <td>-24</td>\n      <td>22.5</td>\n    </tr>\n    <tr>\n      <th>14465</th>\n      <td>12</td>\n      <td>23.2</td>\n      <td>38.0</td>\n      <td>0.0</td>\n      <td>33</td>\n      <td>17</td>\n      <td>17</td>\n      <td>25</td>\n      <td>14</td>\n      <td>1004.4</td>\n      <td>1001.0</td>\n      <td>-1</td>\n      <td>28.7</td>\n      <td>36.4</td>\n      <td>No</td>\n      <td>No</td>\n      <td>14.8</td>\n      <td>-11</td>\n      <td>17.0</td>\n    </tr>\n    <tr>\n      <th>14466</th>\n      <td>12</td>\n      <td>19.7</td>\n      <td>37.0</td>\n      <td>0.0</td>\n      <td>37</td>\n      <td>22</td>\n      <td>6</td>\n      <td>30</td>\n      <td>23</td>\n      <td>1004.6</td>\n      <td>1000.9</td>\n      <td>-1</td>\n      <td>28.2</td>\n      <td>35.1</td>\n      <td>No</td>\n      <td>No</td>\n      <td>17.3</td>\n      <td>-7</td>\n      <td>14.0</td>\n    </tr>\n    <tr>\n      <th>14467</th>\n      <td>12</td>\n      <td>23.7</td>\n      <td>33.0</td>\n      <td>0.0</td>\n      <td>46</td>\n      <td>24</td>\n      <td>17</td>\n      <td>40</td>\n      <td>38</td>\n      <td>1005.1</td>\n      <td>1002.7</td>\n      <td>-1</td>\n      <td>30.1</td>\n      <td>31.5</td>\n      <td>No</td>\n      <td>No</td>\n      <td>9.3</td>\n      <td>-2</td>\n      <td>20.5</td>\n    </tr>\n  </tbody>\n</table>\n<p>14468 rows × 19 columns</p>\n</div>"
     },
     "execution_count": 3,
     "metadata": {},
     "output_type": "execute_result"
    }
   ],
   "source": [
    "df = df.drop('Location',axis=1)\n",
    "df"
   ],
   "metadata": {
    "ExecuteTime": {
     "start_time": "2023-05-28T11:26:17.179327Z",
     "end_time": "2023-05-28T11:26:17.188052Z"
    },
    "id": "YB82pCJZ-Ta4",
    "outputId": "7f3a9624-549b-48f3-93a6-eac37f194ccb",
    "colab": {
     "base_uri": "https://localhost:8080/",
     "height": 487
    }
   }
  },
  {
   "cell_type": "code",
   "execution_count": 4,
   "outputs": [
    {
     "data": {
      "text/plain": "array([0, 1, 1, ..., 0, 0, 0])"
     },
     "execution_count": 4,
     "metadata": {},
     "output_type": "execute_result"
    }
   ],
   "source": [
    "from sklearn.preprocessing import LabelEncoder\n",
    "y = df['RainTomorrow']\n",
    "df = df.drop('RainTomorrow',axis=1)\n",
    "\n",
    "lb = LabelEncoder()\n",
    "y = lb.fit_transform(y)\n",
    "y"
   ],
   "metadata": {
    "ExecuteTime": {
     "start_time": "2023-05-28T11:26:29.914548Z",
     "end_time": "2023-05-28T11:26:31.596626Z"
    },
    "id": "JgChJTxd-Ta4",
    "outputId": "ab1d5a3f-fca0-4f2f-d0e7-f2a4c2ab6cee",
    "colab": {
     "base_uri": "https://localhost:8080/"
    }
   }
  },
  {
   "cell_type": "code",
   "execution_count": 5,
   "outputs": [
    {
     "data": {
      "text/plain": "       Month  MinTemp  MaxTemp  Rainfall  WindGustSpeed  WindSpeed9am  \\\n0          1     20.4     37.6       0.0             54             0   \n1          1     20.9     33.6       0.4             50             9   \n2          1     18.4     23.1       2.2             48            11   \n3          1     17.3     23.7      15.6             39             9   \n4          1     15.5     22.9       6.8             31             6   \n...      ...      ...      ...       ...            ...           ...   \n14463     12     22.1     35.8      63.8             43            17   \n14464     12     22.6     36.8       0.0             50            30   \n14465     12     23.2     38.0       0.0             33            17   \n14466     12     19.7     37.0       0.0             37            22   \n14467     12     23.7     33.0       0.0             46            24   \n\n       WindSpeed3pm  Humidity9am  Humidity3pm  Pressure9am  Pressure3pm  \\\n0                 7           46           17       1013.4       1009.2   \n1                17           54           30       1011.1       1008.4   \n2                39           62           67       1014.0       1014.8   \n3                17           74           65       1017.9       1016.5   \n4                 9           92           63       1016.3       1013.9   \n...             ...          ...          ...          ...          ...   \n14463            31           77           41        997.8        995.2   \n14464            15           63           39       1000.0        998.8   \n14465            17           25           14       1004.4       1001.0   \n14466             6           30           23       1004.6       1000.9   \n14467            17           40           38       1005.1       1002.7   \n\n       Cloud3pm  Temp9am  Temp3pm  RainToday  Escursione_Giornaliera  \\\n0             3     26.1     36.7          0                    17.2   \n1             8     24.8     31.7          0                    12.7   \n2             8     21.8     19.5          1                     4.7   \n3             8     19.2     21.6          1                     6.4   \n4             8     17.2     22.2          1                     7.4   \n...         ...      ...      ...        ...                     ...   \n14463         2     26.0     33.5          1                    13.7   \n14464        -1     29.7     34.0          0                    14.2   \n14465        -1     28.7     36.4          0                    14.8   \n14466        -1     28.2     35.1          0                    17.3   \n14467        -1     30.1     31.5          0                     9.3   \n\n       Diff_umidità  Vento_medio  \n0               -29          3.5  \n1               -24         13.0  \n2                 5         25.0  \n3                -9         13.0  \n4               -29          7.5  \n...             ...          ...  \n14463           -36         24.0  \n14464           -24         22.5  \n14465           -11         17.0  \n14466            -7         14.0  \n14467            -2         20.5  \n\n[14468 rows x 18 columns]",
      "text/html": "<div>\n<style scoped>\n    .dataframe tbody tr th:only-of-type {\n        vertical-align: middle;\n    }\n\n    .dataframe tbody tr th {\n        vertical-align: top;\n    }\n\n    .dataframe thead th {\n        text-align: right;\n    }\n</style>\n<table border=\"1\" class=\"dataframe\">\n  <thead>\n    <tr style=\"text-align: right;\">\n      <th></th>\n      <th>Month</th>\n      <th>MinTemp</th>\n      <th>MaxTemp</th>\n      <th>Rainfall</th>\n      <th>WindGustSpeed</th>\n      <th>WindSpeed9am</th>\n      <th>WindSpeed3pm</th>\n      <th>Humidity9am</th>\n      <th>Humidity3pm</th>\n      <th>Pressure9am</th>\n      <th>Pressure3pm</th>\n      <th>Cloud3pm</th>\n      <th>Temp9am</th>\n      <th>Temp3pm</th>\n      <th>RainToday</th>\n      <th>Escursione_Giornaliera</th>\n      <th>Diff_umidità</th>\n      <th>Vento_medio</th>\n    </tr>\n  </thead>\n  <tbody>\n    <tr>\n      <th>0</th>\n      <td>1</td>\n      <td>20.4</td>\n      <td>37.6</td>\n      <td>0.0</td>\n      <td>54</td>\n      <td>0</td>\n      <td>7</td>\n      <td>46</td>\n      <td>17</td>\n      <td>1013.4</td>\n      <td>1009.2</td>\n      <td>3</td>\n      <td>26.1</td>\n      <td>36.7</td>\n      <td>0</td>\n      <td>17.2</td>\n      <td>-29</td>\n      <td>3.5</td>\n    </tr>\n    <tr>\n      <th>1</th>\n      <td>1</td>\n      <td>20.9</td>\n      <td>33.6</td>\n      <td>0.4</td>\n      <td>50</td>\n      <td>9</td>\n      <td>17</td>\n      <td>54</td>\n      <td>30</td>\n      <td>1011.1</td>\n      <td>1008.4</td>\n      <td>8</td>\n      <td>24.8</td>\n      <td>31.7</td>\n      <td>0</td>\n      <td>12.7</td>\n      <td>-24</td>\n      <td>13.0</td>\n    </tr>\n    <tr>\n      <th>2</th>\n      <td>1</td>\n      <td>18.4</td>\n      <td>23.1</td>\n      <td>2.2</td>\n      <td>48</td>\n      <td>11</td>\n      <td>39</td>\n      <td>62</td>\n      <td>67</td>\n      <td>1014.0</td>\n      <td>1014.8</td>\n      <td>8</td>\n      <td>21.8</td>\n      <td>19.5</td>\n      <td>1</td>\n      <td>4.7</td>\n      <td>5</td>\n      <td>25.0</td>\n    </tr>\n    <tr>\n      <th>3</th>\n      <td>1</td>\n      <td>17.3</td>\n      <td>23.7</td>\n      <td>15.6</td>\n      <td>39</td>\n      <td>9</td>\n      <td>17</td>\n      <td>74</td>\n      <td>65</td>\n      <td>1017.9</td>\n      <td>1016.5</td>\n      <td>8</td>\n      <td>19.2</td>\n      <td>21.6</td>\n      <td>1</td>\n      <td>6.4</td>\n      <td>-9</td>\n      <td>13.0</td>\n    </tr>\n    <tr>\n      <th>4</th>\n      <td>1</td>\n      <td>15.5</td>\n      <td>22.9</td>\n      <td>6.8</td>\n      <td>31</td>\n      <td>6</td>\n      <td>9</td>\n      <td>92</td>\n      <td>63</td>\n      <td>1016.3</td>\n      <td>1013.9</td>\n      <td>8</td>\n      <td>17.2</td>\n      <td>22.2</td>\n      <td>1</td>\n      <td>7.4</td>\n      <td>-29</td>\n      <td>7.5</td>\n    </tr>\n    <tr>\n      <th>...</th>\n      <td>...</td>\n      <td>...</td>\n      <td>...</td>\n      <td>...</td>\n      <td>...</td>\n      <td>...</td>\n      <td>...</td>\n      <td>...</td>\n      <td>...</td>\n      <td>...</td>\n      <td>...</td>\n      <td>...</td>\n      <td>...</td>\n      <td>...</td>\n      <td>...</td>\n      <td>...</td>\n      <td>...</td>\n      <td>...</td>\n    </tr>\n    <tr>\n      <th>14463</th>\n      <td>12</td>\n      <td>22.1</td>\n      <td>35.8</td>\n      <td>63.8</td>\n      <td>43</td>\n      <td>17</td>\n      <td>31</td>\n      <td>77</td>\n      <td>41</td>\n      <td>997.8</td>\n      <td>995.2</td>\n      <td>2</td>\n      <td>26.0</td>\n      <td>33.5</td>\n      <td>1</td>\n      <td>13.7</td>\n      <td>-36</td>\n      <td>24.0</td>\n    </tr>\n    <tr>\n      <th>14464</th>\n      <td>12</td>\n      <td>22.6</td>\n      <td>36.8</td>\n      <td>0.0</td>\n      <td>50</td>\n      <td>30</td>\n      <td>15</td>\n      <td>63</td>\n      <td>39</td>\n      <td>1000.0</td>\n      <td>998.8</td>\n      <td>-1</td>\n      <td>29.7</td>\n      <td>34.0</td>\n      <td>0</td>\n      <td>14.2</td>\n      <td>-24</td>\n      <td>22.5</td>\n    </tr>\n    <tr>\n      <th>14465</th>\n      <td>12</td>\n      <td>23.2</td>\n      <td>38.0</td>\n      <td>0.0</td>\n      <td>33</td>\n      <td>17</td>\n      <td>17</td>\n      <td>25</td>\n      <td>14</td>\n      <td>1004.4</td>\n      <td>1001.0</td>\n      <td>-1</td>\n      <td>28.7</td>\n      <td>36.4</td>\n      <td>0</td>\n      <td>14.8</td>\n      <td>-11</td>\n      <td>17.0</td>\n    </tr>\n    <tr>\n      <th>14466</th>\n      <td>12</td>\n      <td>19.7</td>\n      <td>37.0</td>\n      <td>0.0</td>\n      <td>37</td>\n      <td>22</td>\n      <td>6</td>\n      <td>30</td>\n      <td>23</td>\n      <td>1004.6</td>\n      <td>1000.9</td>\n      <td>-1</td>\n      <td>28.2</td>\n      <td>35.1</td>\n      <td>0</td>\n      <td>17.3</td>\n      <td>-7</td>\n      <td>14.0</td>\n    </tr>\n    <tr>\n      <th>14467</th>\n      <td>12</td>\n      <td>23.7</td>\n      <td>33.0</td>\n      <td>0.0</td>\n      <td>46</td>\n      <td>24</td>\n      <td>17</td>\n      <td>40</td>\n      <td>38</td>\n      <td>1005.1</td>\n      <td>1002.7</td>\n      <td>-1</td>\n      <td>30.1</td>\n      <td>31.5</td>\n      <td>0</td>\n      <td>9.3</td>\n      <td>-2</td>\n      <td>20.5</td>\n    </tr>\n  </tbody>\n</table>\n<p>14468 rows × 18 columns</p>\n</div>"
     },
     "execution_count": 5,
     "metadata": {},
     "output_type": "execute_result"
    }
   ],
   "source": [
    "lb = LabelEncoder()\n",
    "df['RainToday'] = lb.fit_transform(df['RainToday'])\n",
    "df"
   ],
   "metadata": {
    "ExecuteTime": {
     "start_time": "2023-05-28T11:26:36.387511Z",
     "end_time": "2023-05-28T11:26:36.389525Z"
    },
    "id": "SjHNjbwV-Ta4",
    "outputId": "36e84765-1e59-4f2f-9507-116bdcbab067",
    "colab": {
     "base_uri": "https://localhost:8080/",
     "height": 487
    }
   }
  },
  {
   "cell_type": "code",
   "execution_count": 6,
   "outputs": [
    {
     "name": "stdout",
     "output_type": "stream",
     "text": [
      "accuracy of RF :  0.8448514167242571\n",
      "accuracy of dummy :  0.630960608154803\n"
     ]
    }
   ],
   "source": [
    "from sklearn.model_selection import train_test_split\n",
    "from sklearn.ensemble import RandomForestClassifier\n",
    "from sklearn.dummy import DummyClassifier\n",
    "from sklearn.metrics import accuracy_score\n",
    "\n",
    "X_train, X_test, y_train, y_test = train_test_split(df, y, test_size=0.2,random_state=0)\n",
    "\n",
    "classifiers = [RandomForestClassifier(n_estimators=100),DummyClassifier(strategy='stratified')]\n",
    "names = ['RF','dummy']\n",
    "for model,name in zip(classifiers,names):\n",
    "    model.fit(X_train,y_train)\n",
    "    pred = model.predict(X_test)\n",
    "    score = accuracy_score(y_test,pred)\n",
    "    print('accuracy of '+ name +' : ',score)"
   ],
   "metadata": {
    "ExecuteTime": {
     "start_time": "2023-05-28T11:26:47.385528Z",
     "end_time": "2023-05-28T11:26:49.565088Z"
    },
    "id": "_0vJuzvT-Ta4",
    "outputId": "b998c166-3348-48af-8072-20edd569dc07",
    "colab": {
     "base_uri": "https://localhost:8080/"
    }
   }
  },
  {
   "cell_type": "markdown",
   "source": [
    "# 2 Verificare se i risultati migliorano dopo avere scalato i valori tra 0 e 1 e normalizzato con Normalizer\n",
    "Per scalare da 0 a 1 si usa il MinMax_Scaler\n"
   ],
   "metadata": {
    "collapsed": false,
    "id": "rX7sKRkt-Ta5"
   }
  },
  {
   "cell_type": "code",
   "execution_count": 7,
   "outputs": [
    {
     "data": {
      "text/plain": "array([[0.        , 0.34350798, 0.37499499, ..., 0.26563098, 0.15066763,\n        0.02556784],\n       [0.        , 0.33334099, 0.31373087, ..., 0.18672468, 0.15647906,\n        0.09041013],\n       [0.        , 0.27491343, 0.18232416, ..., 0.06295194, 0.21145027,\n        0.15838972],\n       ...,\n       [0.42544701, 0.35188269, 0.35086247, ..., 0.21129583, 0.18486686,\n        0.11480316],\n       [0.43013366, 0.31237372, 0.34410693, ..., 0.24970847, 0.19714459,\n        0.09558526],\n       [0.42528059, 0.357873  , 0.29822145, ..., 0.13272179, 0.20757743,\n        0.13838495]])"
     },
     "execution_count": 7,
     "metadata": {},
     "output_type": "execute_result"
    }
   ],
   "source": [
    "from sklearn.preprocessing import MinMaxScaler,Normalizer\n",
    "scaler = MinMaxScaler(feature_range=(0,1))\n",
    "normalize = Normalizer()\n",
    "X = scaler.fit_transform(df)\n",
    "X = normalize.fit_transform(X)\n",
    "X"
   ],
   "metadata": {
    "ExecuteTime": {
     "start_time": "2023-05-28T11:27:12.847505Z",
     "end_time": "2023-05-28T11:27:12.860749Z"
    },
    "id": "qaIqMcfS-Ta5",
    "outputId": "6a69645c-ae2c-478f-e88d-e0dcb75529d9",
    "colab": {
     "base_uri": "https://localhost:8080/"
    }
   }
  },
  {
   "cell_type": "raw",
   "source": [
    "e rifaccio"
   ],
   "metadata": {
    "collapsed": false,
    "id": "Q9GmJAQN-Ta6"
   }
  },
  {
   "cell_type": "code",
   "execution_count": 8,
   "outputs": [
    {
     "name": "stdout",
     "output_type": "stream",
     "text": [
      "accuracy of RF :  0.8445058742225293\n",
      "accuracy of dummy :  0.6541119557705598\n"
     ]
    }
   ],
   "source": [
    "X_train, X_test, y_train, y_test = train_test_split(X, y, test_size=0.2,random_state=0)\n",
    "\n",
    "for model,name in zip(classifiers,names):\n",
    "    model.fit(X_train,y_train)\n",
    "    pred = model.predict(X_test)\n",
    "    score = accuracy_score(y_test,pred)\n",
    "    print('accuracy of '+ name +' : ',score)"
   ],
   "metadata": {
    "ExecuteTime": {
     "start_time": "2023-05-28T11:27:24.098198Z",
     "end_time": "2023-05-28T11:27:26.841279Z"
    },
    "id": "MbQSA5GN-Ta6",
    "outputId": "742aeb75-e6b3-4e98-f474-a3775ef56b40",
    "colab": {
     "base_uri": "https://localhost:8080/"
    }
   }
  },
  {
   "cell_type": "markdown",
   "source": [
    "# 3 Nel dataset originale, il valore -1 per l'attributo Cloud3pm rappresenta un errore. Occorre individuare le istanze che assumono quel valore, usare il modello randomforest per stimare il valore di Cloud3pm. Sostituire il valore predetto a -1 e rieseguire tutte le normalizzazioni del punto precedente e valutare se si introduce un miglioramento. Valutare cosa succede se invece di effettuare la sostituzione dei valori si eliminano le istanze non corrette"
   ],
   "metadata": {
    "collapsed": false,
    "id": "a_pbllEb-Ta6"
   }
  },
  {
   "cell_type": "code",
   "execution_count": 9,
   "outputs": [
    {
     "data": {
      "text/plain": "       Month  MinTemp  MaxTemp  Rainfall  WindGustSpeed  WindSpeed9am  \\\n0          1     20.4     37.6       0.0             54             0   \n1          1     20.9     33.6       0.4             50             9   \n2          1     18.4     23.1       2.2             48            11   \n3          1     17.3     23.7      15.6             39             9   \n4          1     15.5     22.9       6.8             31             6   \n...      ...      ...      ...       ...            ...           ...   \n14463     12     22.1     35.8      63.8             43            17   \n14464     12     22.6     36.8       0.0             50            30   \n14465     12     23.2     38.0       0.0             33            17   \n14466     12     19.7     37.0       0.0             37            22   \n14467     12     23.7     33.0       0.0             46            24   \n\n       WindSpeed3pm  Humidity9am  Humidity3pm  Pressure9am  Pressure3pm  \\\n0                 7           46           17       1013.4       1009.2   \n1                17           54           30       1011.1       1008.4   \n2                39           62           67       1014.0       1014.8   \n3                17           74           65       1017.9       1016.5   \n4                 9           92           63       1016.3       1013.9   \n...             ...          ...          ...          ...          ...   \n14463            31           77           41        997.8        995.2   \n14464            15           63           39       1000.0        998.8   \n14465            17           25           14       1004.4       1001.0   \n14466             6           30           23       1004.6       1000.9   \n14467            17           40           38       1005.1       1002.7   \n\n       Cloud3pm  Temp9am  Temp3pm  RainToday  Escursione_Giornaliera  \\\n0             3     26.1     36.7          0                    17.2   \n1             8     24.8     31.7          0                    12.7   \n2             8     21.8     19.5          1                     4.7   \n3             8     19.2     21.6          1                     6.4   \n4             8     17.2     22.2          1                     7.4   \n...         ...      ...      ...        ...                     ...   \n14463         2     26.0     33.5          1                    13.7   \n14464        -1     29.7     34.0          0                    14.2   \n14465        -1     28.7     36.4          0                    14.8   \n14466        -1     28.2     35.1          0                    17.3   \n14467        -1     30.1     31.5          0                     9.3   \n\n       Diff_umidità  Vento_medio  \n0               -29          3.5  \n1               -24         13.0  \n2                 5         25.0  \n3                -9         13.0  \n4               -29          7.5  \n...             ...          ...  \n14463           -36         24.0  \n14464           -24         22.5  \n14465           -11         17.0  \n14466            -7         14.0  \n14467            -2         20.5  \n\n[14468 rows x 18 columns]",
      "text/html": "<div>\n<style scoped>\n    .dataframe tbody tr th:only-of-type {\n        vertical-align: middle;\n    }\n\n    .dataframe tbody tr th {\n        vertical-align: top;\n    }\n\n    .dataframe thead th {\n        text-align: right;\n    }\n</style>\n<table border=\"1\" class=\"dataframe\">\n  <thead>\n    <tr style=\"text-align: right;\">\n      <th></th>\n      <th>Month</th>\n      <th>MinTemp</th>\n      <th>MaxTemp</th>\n      <th>Rainfall</th>\n      <th>WindGustSpeed</th>\n      <th>WindSpeed9am</th>\n      <th>WindSpeed3pm</th>\n      <th>Humidity9am</th>\n      <th>Humidity3pm</th>\n      <th>Pressure9am</th>\n      <th>Pressure3pm</th>\n      <th>Cloud3pm</th>\n      <th>Temp9am</th>\n      <th>Temp3pm</th>\n      <th>RainToday</th>\n      <th>Escursione_Giornaliera</th>\n      <th>Diff_umidità</th>\n      <th>Vento_medio</th>\n    </tr>\n  </thead>\n  <tbody>\n    <tr>\n      <th>0</th>\n      <td>1</td>\n      <td>20.4</td>\n      <td>37.6</td>\n      <td>0.0</td>\n      <td>54</td>\n      <td>0</td>\n      <td>7</td>\n      <td>46</td>\n      <td>17</td>\n      <td>1013.4</td>\n      <td>1009.2</td>\n      <td>3</td>\n      <td>26.1</td>\n      <td>36.7</td>\n      <td>0</td>\n      <td>17.2</td>\n      <td>-29</td>\n      <td>3.5</td>\n    </tr>\n    <tr>\n      <th>1</th>\n      <td>1</td>\n      <td>20.9</td>\n      <td>33.6</td>\n      <td>0.4</td>\n      <td>50</td>\n      <td>9</td>\n      <td>17</td>\n      <td>54</td>\n      <td>30</td>\n      <td>1011.1</td>\n      <td>1008.4</td>\n      <td>8</td>\n      <td>24.8</td>\n      <td>31.7</td>\n      <td>0</td>\n      <td>12.7</td>\n      <td>-24</td>\n      <td>13.0</td>\n    </tr>\n    <tr>\n      <th>2</th>\n      <td>1</td>\n      <td>18.4</td>\n      <td>23.1</td>\n      <td>2.2</td>\n      <td>48</td>\n      <td>11</td>\n      <td>39</td>\n      <td>62</td>\n      <td>67</td>\n      <td>1014.0</td>\n      <td>1014.8</td>\n      <td>8</td>\n      <td>21.8</td>\n      <td>19.5</td>\n      <td>1</td>\n      <td>4.7</td>\n      <td>5</td>\n      <td>25.0</td>\n    </tr>\n    <tr>\n      <th>3</th>\n      <td>1</td>\n      <td>17.3</td>\n      <td>23.7</td>\n      <td>15.6</td>\n      <td>39</td>\n      <td>9</td>\n      <td>17</td>\n      <td>74</td>\n      <td>65</td>\n      <td>1017.9</td>\n      <td>1016.5</td>\n      <td>8</td>\n      <td>19.2</td>\n      <td>21.6</td>\n      <td>1</td>\n      <td>6.4</td>\n      <td>-9</td>\n      <td>13.0</td>\n    </tr>\n    <tr>\n      <th>4</th>\n      <td>1</td>\n      <td>15.5</td>\n      <td>22.9</td>\n      <td>6.8</td>\n      <td>31</td>\n      <td>6</td>\n      <td>9</td>\n      <td>92</td>\n      <td>63</td>\n      <td>1016.3</td>\n      <td>1013.9</td>\n      <td>8</td>\n      <td>17.2</td>\n      <td>22.2</td>\n      <td>1</td>\n      <td>7.4</td>\n      <td>-29</td>\n      <td>7.5</td>\n    </tr>\n    <tr>\n      <th>...</th>\n      <td>...</td>\n      <td>...</td>\n      <td>...</td>\n      <td>...</td>\n      <td>...</td>\n      <td>...</td>\n      <td>...</td>\n      <td>...</td>\n      <td>...</td>\n      <td>...</td>\n      <td>...</td>\n      <td>...</td>\n      <td>...</td>\n      <td>...</td>\n      <td>...</td>\n      <td>...</td>\n      <td>...</td>\n      <td>...</td>\n    </tr>\n    <tr>\n      <th>14463</th>\n      <td>12</td>\n      <td>22.1</td>\n      <td>35.8</td>\n      <td>63.8</td>\n      <td>43</td>\n      <td>17</td>\n      <td>31</td>\n      <td>77</td>\n      <td>41</td>\n      <td>997.8</td>\n      <td>995.2</td>\n      <td>2</td>\n      <td>26.0</td>\n      <td>33.5</td>\n      <td>1</td>\n      <td>13.7</td>\n      <td>-36</td>\n      <td>24.0</td>\n    </tr>\n    <tr>\n      <th>14464</th>\n      <td>12</td>\n      <td>22.6</td>\n      <td>36.8</td>\n      <td>0.0</td>\n      <td>50</td>\n      <td>30</td>\n      <td>15</td>\n      <td>63</td>\n      <td>39</td>\n      <td>1000.0</td>\n      <td>998.8</td>\n      <td>-1</td>\n      <td>29.7</td>\n      <td>34.0</td>\n      <td>0</td>\n      <td>14.2</td>\n      <td>-24</td>\n      <td>22.5</td>\n    </tr>\n    <tr>\n      <th>14465</th>\n      <td>12</td>\n      <td>23.2</td>\n      <td>38.0</td>\n      <td>0.0</td>\n      <td>33</td>\n      <td>17</td>\n      <td>17</td>\n      <td>25</td>\n      <td>14</td>\n      <td>1004.4</td>\n      <td>1001.0</td>\n      <td>-1</td>\n      <td>28.7</td>\n      <td>36.4</td>\n      <td>0</td>\n      <td>14.8</td>\n      <td>-11</td>\n      <td>17.0</td>\n    </tr>\n    <tr>\n      <th>14466</th>\n      <td>12</td>\n      <td>19.7</td>\n      <td>37.0</td>\n      <td>0.0</td>\n      <td>37</td>\n      <td>22</td>\n      <td>6</td>\n      <td>30</td>\n      <td>23</td>\n      <td>1004.6</td>\n      <td>1000.9</td>\n      <td>-1</td>\n      <td>28.2</td>\n      <td>35.1</td>\n      <td>0</td>\n      <td>17.3</td>\n      <td>-7</td>\n      <td>14.0</td>\n    </tr>\n    <tr>\n      <th>14467</th>\n      <td>12</td>\n      <td>23.7</td>\n      <td>33.0</td>\n      <td>0.0</td>\n      <td>46</td>\n      <td>24</td>\n      <td>17</td>\n      <td>40</td>\n      <td>38</td>\n      <td>1005.1</td>\n      <td>1002.7</td>\n      <td>-1</td>\n      <td>30.1</td>\n      <td>31.5</td>\n      <td>0</td>\n      <td>9.3</td>\n      <td>-2</td>\n      <td>20.5</td>\n    </tr>\n  </tbody>\n</table>\n<p>14468 rows × 18 columns</p>\n</div>"
     },
     "execution_count": 9,
     "metadata": {},
     "output_type": "execute_result"
    }
   ],
   "source": [
    "df"
   ],
   "metadata": {
    "ExecuteTime": {
     "start_time": "2023-05-28T11:27:48.943982Z",
     "end_time": "2023-05-28T11:27:48.947143Z"
    },
    "id": "c15EWPmY-Ta6",
    "outputId": "f95e2c66-1d88-4242-bf28-efae6a8f68d4",
    "colab": {
     "base_uri": "https://localhost:8080/",
     "height": 487
    }
   }
  },
  {
   "cell_type": "code",
   "execution_count": 10,
   "outputs": [
    {
     "data": {
      "text/plain": "       Month  MinTemp  MaxTemp  Rainfall  WindGustSpeed  WindSpeed9am  \\\n0          1     20.4     37.6       0.0             54             0   \n1          1     20.9     33.6       0.4             50             9   \n2          1     18.4     23.1       2.2             48            11   \n3          1     17.3     23.7      15.6             39             9   \n4          1     15.5     22.9       6.8             31             6   \n...      ...      ...      ...       ...            ...           ...   \n14463     12     22.1     35.8      63.8             43            17   \n14464     12     22.6     36.8       0.0             50            30   \n14465     12     23.2     38.0       0.0             33            17   \n14466     12     19.7     37.0       0.0             37            22   \n14467     12     23.7     33.0       0.0             46            24   \n\n       WindSpeed3pm  Humidity9am  Humidity3pm  Pressure9am  Pressure3pm  \\\n0                 7           46           17       1013.4       1009.2   \n1                17           54           30       1011.1       1008.4   \n2                39           62           67       1014.0       1014.8   \n3                17           74           65       1017.9       1016.5   \n4                 9           92           63       1016.3       1013.9   \n...             ...          ...          ...          ...          ...   \n14463            31           77           41        997.8        995.2   \n14464            15           63           39       1000.0        998.8   \n14465            17           25           14       1004.4       1001.0   \n14466             6           30           23       1004.6       1000.9   \n14467            17           40           38       1005.1       1002.7   \n\n       Cloud3pm  Temp9am  Temp3pm  RainToday  Escursione_Giornaliera  \\\n0             3     26.1     36.7          0                    17.2   \n1             8     24.8     31.7          0                    12.7   \n2             8     21.8     19.5          1                     4.7   \n3             8     19.2     21.6          1                     6.4   \n4             8     17.2     22.2          1                     7.4   \n...         ...      ...      ...        ...                     ...   \n14463         2     26.0     33.5          1                    13.7   \n14464        -1     29.7     34.0          0                    14.2   \n14465        -1     28.7     36.4          0                    14.8   \n14466        -1     28.2     35.1          0                    17.3   \n14467        -1     30.1     31.5          0                     9.3   \n\n       Diff_umidità  Vento_medio  RainTomorrow  \n0               -29          3.5             0  \n1               -24         13.0             1  \n2                 5         25.0             1  \n3                -9         13.0             1  \n4               -29          7.5             0  \n...             ...          ...           ...  \n14463           -36         24.0             0  \n14464           -24         22.5             0  \n14465           -11         17.0             0  \n14466            -7         14.0             0  \n14467            -2         20.5             0  \n\n[14468 rows x 19 columns]",
      "text/html": "<div>\n<style scoped>\n    .dataframe tbody tr th:only-of-type {\n        vertical-align: middle;\n    }\n\n    .dataframe tbody tr th {\n        vertical-align: top;\n    }\n\n    .dataframe thead th {\n        text-align: right;\n    }\n</style>\n<table border=\"1\" class=\"dataframe\">\n  <thead>\n    <tr style=\"text-align: right;\">\n      <th></th>\n      <th>Month</th>\n      <th>MinTemp</th>\n      <th>MaxTemp</th>\n      <th>Rainfall</th>\n      <th>WindGustSpeed</th>\n      <th>WindSpeed9am</th>\n      <th>WindSpeed3pm</th>\n      <th>Humidity9am</th>\n      <th>Humidity3pm</th>\n      <th>Pressure9am</th>\n      <th>Pressure3pm</th>\n      <th>Cloud3pm</th>\n      <th>Temp9am</th>\n      <th>Temp3pm</th>\n      <th>RainToday</th>\n      <th>Escursione_Giornaliera</th>\n      <th>Diff_umidità</th>\n      <th>Vento_medio</th>\n      <th>RainTomorrow</th>\n    </tr>\n  </thead>\n  <tbody>\n    <tr>\n      <th>0</th>\n      <td>1</td>\n      <td>20.4</td>\n      <td>37.6</td>\n      <td>0.0</td>\n      <td>54</td>\n      <td>0</td>\n      <td>7</td>\n      <td>46</td>\n      <td>17</td>\n      <td>1013.4</td>\n      <td>1009.2</td>\n      <td>3</td>\n      <td>26.1</td>\n      <td>36.7</td>\n      <td>0</td>\n      <td>17.2</td>\n      <td>-29</td>\n      <td>3.5</td>\n      <td>0</td>\n    </tr>\n    <tr>\n      <th>1</th>\n      <td>1</td>\n      <td>20.9</td>\n      <td>33.6</td>\n      <td>0.4</td>\n      <td>50</td>\n      <td>9</td>\n      <td>17</td>\n      <td>54</td>\n      <td>30</td>\n      <td>1011.1</td>\n      <td>1008.4</td>\n      <td>8</td>\n      <td>24.8</td>\n      <td>31.7</td>\n      <td>0</td>\n      <td>12.7</td>\n      <td>-24</td>\n      <td>13.0</td>\n      <td>1</td>\n    </tr>\n    <tr>\n      <th>2</th>\n      <td>1</td>\n      <td>18.4</td>\n      <td>23.1</td>\n      <td>2.2</td>\n      <td>48</td>\n      <td>11</td>\n      <td>39</td>\n      <td>62</td>\n      <td>67</td>\n      <td>1014.0</td>\n      <td>1014.8</td>\n      <td>8</td>\n      <td>21.8</td>\n      <td>19.5</td>\n      <td>1</td>\n      <td>4.7</td>\n      <td>5</td>\n      <td>25.0</td>\n      <td>1</td>\n    </tr>\n    <tr>\n      <th>3</th>\n      <td>1</td>\n      <td>17.3</td>\n      <td>23.7</td>\n      <td>15.6</td>\n      <td>39</td>\n      <td>9</td>\n      <td>17</td>\n      <td>74</td>\n      <td>65</td>\n      <td>1017.9</td>\n      <td>1016.5</td>\n      <td>8</td>\n      <td>19.2</td>\n      <td>21.6</td>\n      <td>1</td>\n      <td>6.4</td>\n      <td>-9</td>\n      <td>13.0</td>\n      <td>1</td>\n    </tr>\n    <tr>\n      <th>4</th>\n      <td>1</td>\n      <td>15.5</td>\n      <td>22.9</td>\n      <td>6.8</td>\n      <td>31</td>\n      <td>6</td>\n      <td>9</td>\n      <td>92</td>\n      <td>63</td>\n      <td>1016.3</td>\n      <td>1013.9</td>\n      <td>8</td>\n      <td>17.2</td>\n      <td>22.2</td>\n      <td>1</td>\n      <td>7.4</td>\n      <td>-29</td>\n      <td>7.5</td>\n      <td>0</td>\n    </tr>\n    <tr>\n      <th>...</th>\n      <td>...</td>\n      <td>...</td>\n      <td>...</td>\n      <td>...</td>\n      <td>...</td>\n      <td>...</td>\n      <td>...</td>\n      <td>...</td>\n      <td>...</td>\n      <td>...</td>\n      <td>...</td>\n      <td>...</td>\n      <td>...</td>\n      <td>...</td>\n      <td>...</td>\n      <td>...</td>\n      <td>...</td>\n      <td>...</td>\n      <td>...</td>\n    </tr>\n    <tr>\n      <th>14463</th>\n      <td>12</td>\n      <td>22.1</td>\n      <td>35.8</td>\n      <td>63.8</td>\n      <td>43</td>\n      <td>17</td>\n      <td>31</td>\n      <td>77</td>\n      <td>41</td>\n      <td>997.8</td>\n      <td>995.2</td>\n      <td>2</td>\n      <td>26.0</td>\n      <td>33.5</td>\n      <td>1</td>\n      <td>13.7</td>\n      <td>-36</td>\n      <td>24.0</td>\n      <td>0</td>\n    </tr>\n    <tr>\n      <th>14464</th>\n      <td>12</td>\n      <td>22.6</td>\n      <td>36.8</td>\n      <td>0.0</td>\n      <td>50</td>\n      <td>30</td>\n      <td>15</td>\n      <td>63</td>\n      <td>39</td>\n      <td>1000.0</td>\n      <td>998.8</td>\n      <td>-1</td>\n      <td>29.7</td>\n      <td>34.0</td>\n      <td>0</td>\n      <td>14.2</td>\n      <td>-24</td>\n      <td>22.5</td>\n      <td>0</td>\n    </tr>\n    <tr>\n      <th>14465</th>\n      <td>12</td>\n      <td>23.2</td>\n      <td>38.0</td>\n      <td>0.0</td>\n      <td>33</td>\n      <td>17</td>\n      <td>17</td>\n      <td>25</td>\n      <td>14</td>\n      <td>1004.4</td>\n      <td>1001.0</td>\n      <td>-1</td>\n      <td>28.7</td>\n      <td>36.4</td>\n      <td>0</td>\n      <td>14.8</td>\n      <td>-11</td>\n      <td>17.0</td>\n      <td>0</td>\n    </tr>\n    <tr>\n      <th>14466</th>\n      <td>12</td>\n      <td>19.7</td>\n      <td>37.0</td>\n      <td>0.0</td>\n      <td>37</td>\n      <td>22</td>\n      <td>6</td>\n      <td>30</td>\n      <td>23</td>\n      <td>1004.6</td>\n      <td>1000.9</td>\n      <td>-1</td>\n      <td>28.2</td>\n      <td>35.1</td>\n      <td>0</td>\n      <td>17.3</td>\n      <td>-7</td>\n      <td>14.0</td>\n      <td>0</td>\n    </tr>\n    <tr>\n      <th>14467</th>\n      <td>12</td>\n      <td>23.7</td>\n      <td>33.0</td>\n      <td>0.0</td>\n      <td>46</td>\n      <td>24</td>\n      <td>17</td>\n      <td>40</td>\n      <td>38</td>\n      <td>1005.1</td>\n      <td>1002.7</td>\n      <td>-1</td>\n      <td>30.1</td>\n      <td>31.5</td>\n      <td>0</td>\n      <td>9.3</td>\n      <td>-2</td>\n      <td>20.5</td>\n      <td>0</td>\n    </tr>\n  </tbody>\n</table>\n<p>14468 rows × 19 columns</p>\n</div>"
     },
     "execution_count": 10,
     "metadata": {},
     "output_type": "execute_result"
    }
   ],
   "source": [
    "df_with_Tomorrow = df.copy()\n",
    "df_with_Tomorrow['RainTomorrow'] = y\n",
    "df_with_Tomorrow"
   ],
   "metadata": {
    "ExecuteTime": {
     "start_time": "2023-05-28T11:27:59.347694Z",
     "end_time": "2023-05-28T11:27:59.403856Z"
    },
    "id": "fqBY0mk6-Ta7",
    "outputId": "dff50a93-0de2-4f65-c90b-76101eca5f96",
    "colab": {
     "base_uri": "https://localhost:8080/",
     "height": 487
    }
   }
  },
  {
   "cell_type": "code",
   "execution_count": 11,
   "outputs": [],
   "source": [
    "df_no_cloud  = df_with_Tomorrow[df_with_Tomorrow['Cloud3pm']  > 0]"
   ],
   "metadata": {
    "ExecuteTime": {
     "start_time": "2023-05-28T11:28:08.065171Z",
     "end_time": "2023-05-28T11:28:08.074441Z"
    },
    "id": "YBcWX1Ym-Ta7",
    "outputId": "646bf5be-65e5-4336-eec6-9e95dd67d07a",
    "colab": {
     "base_uri": "https://localhost:8080/",
     "height": 487
    }
   }
  },
  {
   "cell_type": "code",
   "execution_count": 12,
   "outputs": [
    {
     "data": {
      "text/plain": "       Month  MinTemp  MaxTemp  Rainfall  WindGustSpeed  WindSpeed9am  \\\n0          1     20.4     37.6       0.0             54             0   \n1          1     20.9     33.6       0.4             50             9   \n2          1     18.4     23.1       2.2             48            11   \n3          1     17.3     23.7      15.6             39             9   \n4          1     15.5     22.9       6.8             31             6   \n...      ...      ...      ...       ...            ...           ...   \n14459     12     24.8     32.6       0.0             44            20   \n14460     12     22.9     29.9      21.8             35            13   \n14461     12     22.8     29.5       9.2             54            19   \n14462     12     22.1     27.4      83.8             72            31   \n14463     12     22.1     35.8      63.8             43            17   \n\n       WindSpeed3pm  Humidity9am  Humidity3pm  Pressure9am  Pressure3pm  \\\n0                 7           46           17       1013.4       1009.2   \n1                17           54           30       1011.1       1008.4   \n2                39           62           67       1014.0       1014.8   \n3                17           74           65       1017.9       1016.5   \n4                 9           92           63       1016.3       1013.9   \n...             ...          ...          ...          ...          ...   \n14459            11           59           57       1007.5       1004.0   \n14460            19           85           58       1008.8       1005.1   \n14461            26           96           75       1005.5       1001.1   \n14462            43          100          100        994.6        989.2   \n14463            31           77           41        997.8        995.2   \n\n       Temp9am  Temp3pm  RainToday  Escursione_Giornaliera  Diff_umidità  \\\n0         26.1     36.7          0                    17.2           -29   \n1         24.8     31.7          0                    12.7           -24   \n2         21.8     19.5          1                     4.7             5   \n3         19.2     21.6          1                     6.4            -9   \n4         17.2     22.2          1                     7.4           -29   \n...        ...      ...        ...                     ...           ...   \n14459     28.2     30.0          0                     7.8            -2   \n14460     24.6     29.3          1                     7.0           -27   \n14461     24.3     28.0          1                     6.7           -21   \n14462     22.2     24.2          1                     5.3             0   \n14463     26.0     33.5          1                    13.7           -36   \n\n       Vento_medio  RainTomorrow  \n0              3.5             0  \n1             13.0             1  \n2             25.0             1  \n3             13.0             1  \n4              7.5             0  \n...            ...           ...  \n14459         15.5             1  \n14460         16.0             1  \n14461         22.5             1  \n14462         37.0             1  \n14463         24.0             0  \n\n[8086 rows x 18 columns]",
      "text/html": "<div>\n<style scoped>\n    .dataframe tbody tr th:only-of-type {\n        vertical-align: middle;\n    }\n\n    .dataframe tbody tr th {\n        vertical-align: top;\n    }\n\n    .dataframe thead th {\n        text-align: right;\n    }\n</style>\n<table border=\"1\" class=\"dataframe\">\n  <thead>\n    <tr style=\"text-align: right;\">\n      <th></th>\n      <th>Month</th>\n      <th>MinTemp</th>\n      <th>MaxTemp</th>\n      <th>Rainfall</th>\n      <th>WindGustSpeed</th>\n      <th>WindSpeed9am</th>\n      <th>WindSpeed3pm</th>\n      <th>Humidity9am</th>\n      <th>Humidity3pm</th>\n      <th>Pressure9am</th>\n      <th>Pressure3pm</th>\n      <th>Temp9am</th>\n      <th>Temp3pm</th>\n      <th>RainToday</th>\n      <th>Escursione_Giornaliera</th>\n      <th>Diff_umidità</th>\n      <th>Vento_medio</th>\n      <th>RainTomorrow</th>\n    </tr>\n  </thead>\n  <tbody>\n    <tr>\n      <th>0</th>\n      <td>1</td>\n      <td>20.4</td>\n      <td>37.6</td>\n      <td>0.0</td>\n      <td>54</td>\n      <td>0</td>\n      <td>7</td>\n      <td>46</td>\n      <td>17</td>\n      <td>1013.4</td>\n      <td>1009.2</td>\n      <td>26.1</td>\n      <td>36.7</td>\n      <td>0</td>\n      <td>17.2</td>\n      <td>-29</td>\n      <td>3.5</td>\n      <td>0</td>\n    </tr>\n    <tr>\n      <th>1</th>\n      <td>1</td>\n      <td>20.9</td>\n      <td>33.6</td>\n      <td>0.4</td>\n      <td>50</td>\n      <td>9</td>\n      <td>17</td>\n      <td>54</td>\n      <td>30</td>\n      <td>1011.1</td>\n      <td>1008.4</td>\n      <td>24.8</td>\n      <td>31.7</td>\n      <td>0</td>\n      <td>12.7</td>\n      <td>-24</td>\n      <td>13.0</td>\n      <td>1</td>\n    </tr>\n    <tr>\n      <th>2</th>\n      <td>1</td>\n      <td>18.4</td>\n      <td>23.1</td>\n      <td>2.2</td>\n      <td>48</td>\n      <td>11</td>\n      <td>39</td>\n      <td>62</td>\n      <td>67</td>\n      <td>1014.0</td>\n      <td>1014.8</td>\n      <td>21.8</td>\n      <td>19.5</td>\n      <td>1</td>\n      <td>4.7</td>\n      <td>5</td>\n      <td>25.0</td>\n      <td>1</td>\n    </tr>\n    <tr>\n      <th>3</th>\n      <td>1</td>\n      <td>17.3</td>\n      <td>23.7</td>\n      <td>15.6</td>\n      <td>39</td>\n      <td>9</td>\n      <td>17</td>\n      <td>74</td>\n      <td>65</td>\n      <td>1017.9</td>\n      <td>1016.5</td>\n      <td>19.2</td>\n      <td>21.6</td>\n      <td>1</td>\n      <td>6.4</td>\n      <td>-9</td>\n      <td>13.0</td>\n      <td>1</td>\n    </tr>\n    <tr>\n      <th>4</th>\n      <td>1</td>\n      <td>15.5</td>\n      <td>22.9</td>\n      <td>6.8</td>\n      <td>31</td>\n      <td>6</td>\n      <td>9</td>\n      <td>92</td>\n      <td>63</td>\n      <td>1016.3</td>\n      <td>1013.9</td>\n      <td>17.2</td>\n      <td>22.2</td>\n      <td>1</td>\n      <td>7.4</td>\n      <td>-29</td>\n      <td>7.5</td>\n      <td>0</td>\n    </tr>\n    <tr>\n      <th>...</th>\n      <td>...</td>\n      <td>...</td>\n      <td>...</td>\n      <td>...</td>\n      <td>...</td>\n      <td>...</td>\n      <td>...</td>\n      <td>...</td>\n      <td>...</td>\n      <td>...</td>\n      <td>...</td>\n      <td>...</td>\n      <td>...</td>\n      <td>...</td>\n      <td>...</td>\n      <td>...</td>\n      <td>...</td>\n      <td>...</td>\n    </tr>\n    <tr>\n      <th>14459</th>\n      <td>12</td>\n      <td>24.8</td>\n      <td>32.6</td>\n      <td>0.0</td>\n      <td>44</td>\n      <td>20</td>\n      <td>11</td>\n      <td>59</td>\n      <td>57</td>\n      <td>1007.5</td>\n      <td>1004.0</td>\n      <td>28.2</td>\n      <td>30.0</td>\n      <td>0</td>\n      <td>7.8</td>\n      <td>-2</td>\n      <td>15.5</td>\n      <td>1</td>\n    </tr>\n    <tr>\n      <th>14460</th>\n      <td>12</td>\n      <td>22.9</td>\n      <td>29.9</td>\n      <td>21.8</td>\n      <td>35</td>\n      <td>13</td>\n      <td>19</td>\n      <td>85</td>\n      <td>58</td>\n      <td>1008.8</td>\n      <td>1005.1</td>\n      <td>24.6</td>\n      <td>29.3</td>\n      <td>1</td>\n      <td>7.0</td>\n      <td>-27</td>\n      <td>16.0</td>\n      <td>1</td>\n    </tr>\n    <tr>\n      <th>14461</th>\n      <td>12</td>\n      <td>22.8</td>\n      <td>29.5</td>\n      <td>9.2</td>\n      <td>54</td>\n      <td>19</td>\n      <td>26</td>\n      <td>96</td>\n      <td>75</td>\n      <td>1005.5</td>\n      <td>1001.1</td>\n      <td>24.3</td>\n      <td>28.0</td>\n      <td>1</td>\n      <td>6.7</td>\n      <td>-21</td>\n      <td>22.5</td>\n      <td>1</td>\n    </tr>\n    <tr>\n      <th>14462</th>\n      <td>12</td>\n      <td>22.1</td>\n      <td>27.4</td>\n      <td>83.8</td>\n      <td>72</td>\n      <td>31</td>\n      <td>43</td>\n      <td>100</td>\n      <td>100</td>\n      <td>994.6</td>\n      <td>989.2</td>\n      <td>22.2</td>\n      <td>24.2</td>\n      <td>1</td>\n      <td>5.3</td>\n      <td>0</td>\n      <td>37.0</td>\n      <td>1</td>\n    </tr>\n    <tr>\n      <th>14463</th>\n      <td>12</td>\n      <td>22.1</td>\n      <td>35.8</td>\n      <td>63.8</td>\n      <td>43</td>\n      <td>17</td>\n      <td>31</td>\n      <td>77</td>\n      <td>41</td>\n      <td>997.8</td>\n      <td>995.2</td>\n      <td>26.0</td>\n      <td>33.5</td>\n      <td>1</td>\n      <td>13.7</td>\n      <td>-36</td>\n      <td>24.0</td>\n      <td>0</td>\n    </tr>\n  </tbody>\n</table>\n<p>8086 rows × 18 columns</p>\n</div>"
     },
     "execution_count": 12,
     "metadata": {},
     "output_type": "execute_result"
    }
   ],
   "source": [
    "#y_cloud = lb.fit_transform(y_cloud)\n",
    "y_cloud = df_no_cloud ['Cloud3pm']\n",
    "df_no_cloud = df_no_cloud.drop('Cloud3pm',axis=1)\n",
    "df_no_cloud"
   ],
   "metadata": {
    "ExecuteTime": {
     "start_time": "2023-05-28T11:28:31.294025Z",
     "end_time": "2023-05-28T11:28:31.313662Z"
    },
    "id": "97pGkkLU-Ta7",
    "outputId": "ca7599ed-e877-4d1c-8bd6-22922f3f0e88",
    "colab": {
     "base_uri": "https://localhost:8080/"
    }
   }
  },
  {
   "cell_type": "code",
   "execution_count": 13,
   "outputs": [
    {
     "data": {
      "text/plain": "array([2, 7, 8, ..., 7, 8, 8])"
     },
     "execution_count": 13,
     "metadata": {},
     "output_type": "execute_result"
    }
   ],
   "source": [
    "X_train, X_test, y_train, y_test = train_test_split(df_no_cloud,y_cloud, test_size=0.2,random_state=0)\n",
    "\n",
    "model = classifiers[0]\n",
    "model.fit(X_train,y_train)\n",
    "pred = model.predict(X_test)\n",
    "pred"
   ],
   "metadata": {
    "ExecuteTime": {
     "start_time": "2023-05-28T11:28:45.546379Z",
     "end_time": "2023-05-28T11:28:46.707963Z"
    },
    "id": "3rmj1paJ-Ta7",
    "outputId": "e437e0e9-9b51-4ff0-e974-f74219ca23dc",
    "colab": {
     "base_uri": "https://localhost:8080/"
    }
   }
  },
  {
   "cell_type": "code",
   "execution_count": 14,
   "outputs": [],
   "source": [
    "media = pred.mean()"
   ],
   "metadata": {
    "collapsed": false,
    "ExecuteTime": {
     "start_time": "2023-05-28T11:28:51.745993Z",
     "end_time": "2023-05-28T11:28:51.750639Z"
    }
   }
  },
  {
   "cell_type": "markdown",
   "source": [
    "Poi sostituiamo il valore predetto con -1"
   ],
   "metadata": {
    "id": "Q99Q9jMdAKbc"
   }
  },
  {
   "cell_type": "code",
   "source": [
    "df_replaced = df.replace(-1,media)\n",
    "df_replaced"
   ],
   "metadata": {
    "id": "GXOgUJgiAcgr",
    "outputId": "7b033439-ec21-44cf-96e4-6a1ea04562de",
    "colab": {
     "base_uri": "https://localhost:8080/",
     "height": 487
    },
    "ExecuteTime": {
     "start_time": "2023-05-28T11:28:59.862565Z",
     "end_time": "2023-05-28T11:28:59.890432Z"
    }
   },
   "execution_count": 15,
   "outputs": [
    {
     "data": {
      "text/plain": "       Month  MinTemp  MaxTemp  Rainfall  WindGustSpeed  WindSpeed9am  \\\n0          1     20.4     37.6       0.0             54             0   \n1          1     20.9     33.6       0.4             50             9   \n2          1     18.4     23.1       2.2             48            11   \n3          1     17.3     23.7      15.6             39             9   \n4          1     15.5     22.9       6.8             31             6   \n...      ...      ...      ...       ...            ...           ...   \n14463     12     22.1     35.8      63.8             43            17   \n14464     12     22.6     36.8       0.0             50            30   \n14465     12     23.2     38.0       0.0             33            17   \n14466     12     19.7     37.0       0.0             37            22   \n14467     12     23.7     33.0       0.0             46            24   \n\n       WindSpeed3pm  Humidity9am  Humidity3pm  Pressure9am  Pressure3pm  \\\n0                 7           46           17       1013.4       1009.2   \n1                17           54           30       1011.1       1008.4   \n2                39           62           67       1014.0       1014.8   \n3                17           74           65       1017.9       1016.5   \n4                 9           92           63       1016.3       1013.9   \n...             ...          ...          ...          ...          ...   \n14463            31           77           41        997.8        995.2   \n14464            15           63           39       1000.0        998.8   \n14465            17           25           14       1004.4       1001.0   \n14466             6           30           23       1004.6       1000.9   \n14467            17           40           38       1005.1       1002.7   \n\n       Cloud3pm  Temp9am  Temp3pm  RainToday  Escursione_Giornaliera  \\\n0      3.000000     26.1     36.7          0                    17.2   \n1      8.000000     24.8     31.7          0                    12.7   \n2      8.000000     21.8     19.5          1                     4.7   \n3      8.000000     19.2     21.6          1                     6.4   \n4      8.000000     17.2     22.2          1                     7.4   \n...         ...      ...      ...        ...                     ...   \n14463  2.000000     26.0     33.5          1                    13.7   \n14464  5.090853     29.7     34.0          0                    14.2   \n14465  5.090853     28.7     36.4          0                    14.8   \n14466  5.090853     28.2     35.1          0                    17.3   \n14467  5.090853     30.1     31.5          0                     9.3   \n\n       Diff_umidità  Vento_medio  \n0             -29.0          3.5  \n1             -24.0         13.0  \n2               5.0         25.0  \n3              -9.0         13.0  \n4             -29.0          7.5  \n...             ...          ...  \n14463         -36.0         24.0  \n14464         -24.0         22.5  \n14465         -11.0         17.0  \n14466          -7.0         14.0  \n14467          -2.0         20.5  \n\n[14468 rows x 18 columns]",
      "text/html": "<div>\n<style scoped>\n    .dataframe tbody tr th:only-of-type {\n        vertical-align: middle;\n    }\n\n    .dataframe tbody tr th {\n        vertical-align: top;\n    }\n\n    .dataframe thead th {\n        text-align: right;\n    }\n</style>\n<table border=\"1\" class=\"dataframe\">\n  <thead>\n    <tr style=\"text-align: right;\">\n      <th></th>\n      <th>Month</th>\n      <th>MinTemp</th>\n      <th>MaxTemp</th>\n      <th>Rainfall</th>\n      <th>WindGustSpeed</th>\n      <th>WindSpeed9am</th>\n      <th>WindSpeed3pm</th>\n      <th>Humidity9am</th>\n      <th>Humidity3pm</th>\n      <th>Pressure9am</th>\n      <th>Pressure3pm</th>\n      <th>Cloud3pm</th>\n      <th>Temp9am</th>\n      <th>Temp3pm</th>\n      <th>RainToday</th>\n      <th>Escursione_Giornaliera</th>\n      <th>Diff_umidità</th>\n      <th>Vento_medio</th>\n    </tr>\n  </thead>\n  <tbody>\n    <tr>\n      <th>0</th>\n      <td>1</td>\n      <td>20.4</td>\n      <td>37.6</td>\n      <td>0.0</td>\n      <td>54</td>\n      <td>0</td>\n      <td>7</td>\n      <td>46</td>\n      <td>17</td>\n      <td>1013.4</td>\n      <td>1009.2</td>\n      <td>3.000000</td>\n      <td>26.1</td>\n      <td>36.7</td>\n      <td>0</td>\n      <td>17.2</td>\n      <td>-29.0</td>\n      <td>3.5</td>\n    </tr>\n    <tr>\n      <th>1</th>\n      <td>1</td>\n      <td>20.9</td>\n      <td>33.6</td>\n      <td>0.4</td>\n      <td>50</td>\n      <td>9</td>\n      <td>17</td>\n      <td>54</td>\n      <td>30</td>\n      <td>1011.1</td>\n      <td>1008.4</td>\n      <td>8.000000</td>\n      <td>24.8</td>\n      <td>31.7</td>\n      <td>0</td>\n      <td>12.7</td>\n      <td>-24.0</td>\n      <td>13.0</td>\n    </tr>\n    <tr>\n      <th>2</th>\n      <td>1</td>\n      <td>18.4</td>\n      <td>23.1</td>\n      <td>2.2</td>\n      <td>48</td>\n      <td>11</td>\n      <td>39</td>\n      <td>62</td>\n      <td>67</td>\n      <td>1014.0</td>\n      <td>1014.8</td>\n      <td>8.000000</td>\n      <td>21.8</td>\n      <td>19.5</td>\n      <td>1</td>\n      <td>4.7</td>\n      <td>5.0</td>\n      <td>25.0</td>\n    </tr>\n    <tr>\n      <th>3</th>\n      <td>1</td>\n      <td>17.3</td>\n      <td>23.7</td>\n      <td>15.6</td>\n      <td>39</td>\n      <td>9</td>\n      <td>17</td>\n      <td>74</td>\n      <td>65</td>\n      <td>1017.9</td>\n      <td>1016.5</td>\n      <td>8.000000</td>\n      <td>19.2</td>\n      <td>21.6</td>\n      <td>1</td>\n      <td>6.4</td>\n      <td>-9.0</td>\n      <td>13.0</td>\n    </tr>\n    <tr>\n      <th>4</th>\n      <td>1</td>\n      <td>15.5</td>\n      <td>22.9</td>\n      <td>6.8</td>\n      <td>31</td>\n      <td>6</td>\n      <td>9</td>\n      <td>92</td>\n      <td>63</td>\n      <td>1016.3</td>\n      <td>1013.9</td>\n      <td>8.000000</td>\n      <td>17.2</td>\n      <td>22.2</td>\n      <td>1</td>\n      <td>7.4</td>\n      <td>-29.0</td>\n      <td>7.5</td>\n    </tr>\n    <tr>\n      <th>...</th>\n      <td>...</td>\n      <td>...</td>\n      <td>...</td>\n      <td>...</td>\n      <td>...</td>\n      <td>...</td>\n      <td>...</td>\n      <td>...</td>\n      <td>...</td>\n      <td>...</td>\n      <td>...</td>\n      <td>...</td>\n      <td>...</td>\n      <td>...</td>\n      <td>...</td>\n      <td>...</td>\n      <td>...</td>\n      <td>...</td>\n    </tr>\n    <tr>\n      <th>14463</th>\n      <td>12</td>\n      <td>22.1</td>\n      <td>35.8</td>\n      <td>63.8</td>\n      <td>43</td>\n      <td>17</td>\n      <td>31</td>\n      <td>77</td>\n      <td>41</td>\n      <td>997.8</td>\n      <td>995.2</td>\n      <td>2.000000</td>\n      <td>26.0</td>\n      <td>33.5</td>\n      <td>1</td>\n      <td>13.7</td>\n      <td>-36.0</td>\n      <td>24.0</td>\n    </tr>\n    <tr>\n      <th>14464</th>\n      <td>12</td>\n      <td>22.6</td>\n      <td>36.8</td>\n      <td>0.0</td>\n      <td>50</td>\n      <td>30</td>\n      <td>15</td>\n      <td>63</td>\n      <td>39</td>\n      <td>1000.0</td>\n      <td>998.8</td>\n      <td>5.090853</td>\n      <td>29.7</td>\n      <td>34.0</td>\n      <td>0</td>\n      <td>14.2</td>\n      <td>-24.0</td>\n      <td>22.5</td>\n    </tr>\n    <tr>\n      <th>14465</th>\n      <td>12</td>\n      <td>23.2</td>\n      <td>38.0</td>\n      <td>0.0</td>\n      <td>33</td>\n      <td>17</td>\n      <td>17</td>\n      <td>25</td>\n      <td>14</td>\n      <td>1004.4</td>\n      <td>1001.0</td>\n      <td>5.090853</td>\n      <td>28.7</td>\n      <td>36.4</td>\n      <td>0</td>\n      <td>14.8</td>\n      <td>-11.0</td>\n      <td>17.0</td>\n    </tr>\n    <tr>\n      <th>14466</th>\n      <td>12</td>\n      <td>19.7</td>\n      <td>37.0</td>\n      <td>0.0</td>\n      <td>37</td>\n      <td>22</td>\n      <td>6</td>\n      <td>30</td>\n      <td>23</td>\n      <td>1004.6</td>\n      <td>1000.9</td>\n      <td>5.090853</td>\n      <td>28.2</td>\n      <td>35.1</td>\n      <td>0</td>\n      <td>17.3</td>\n      <td>-7.0</td>\n      <td>14.0</td>\n    </tr>\n    <tr>\n      <th>14467</th>\n      <td>12</td>\n      <td>23.7</td>\n      <td>33.0</td>\n      <td>0.0</td>\n      <td>46</td>\n      <td>24</td>\n      <td>17</td>\n      <td>40</td>\n      <td>38</td>\n      <td>1005.1</td>\n      <td>1002.7</td>\n      <td>5.090853</td>\n      <td>30.1</td>\n      <td>31.5</td>\n      <td>0</td>\n      <td>9.3</td>\n      <td>-2.0</td>\n      <td>20.5</td>\n    </tr>\n  </tbody>\n</table>\n<p>14468 rows × 18 columns</p>\n</div>"
     },
     "execution_count": 15,
     "metadata": {},
     "output_type": "execute_result"
    }
   ]
  },
  {
   "cell_type": "code",
   "execution_count": 16,
   "outputs": [
    {
     "data": {
      "text/plain": "array([[0.        , 0.34560818, 0.3772877 , ..., 0.26725504, 0.15158881,\n        0.02572416],\n       [0.        , 0.33335092, 0.31374021, ..., 0.18673024, 0.15648372,\n        0.09041282],\n       [0.        , 0.2749187 , 0.18232766, ..., 0.06295315, 0.21145433,\n        0.15839276],\n       ...,\n       [0.41067624, 0.33966594, 0.33868114, ..., 0.20396001, 0.1784486 ,\n        0.1108174 ],\n       [0.41488678, 0.30130106, 0.33190942, ..., 0.24085709, 0.19015644,\n        0.09219706],\n       [0.41052592, 0.34545697, 0.28787497, ..., 0.12811715, 0.20037575,\n        0.13358383]])"
     },
     "execution_count": 16,
     "metadata": {},
     "output_type": "execute_result"
    }
   ],
   "source": [
    "scaler = MinMaxScaler(feature_range=(0,1))\n",
    "normalize = Normalizer()\n",
    "X = scaler.fit_transform(df_replaced)\n",
    "X = normalize.fit_transform(X)\n",
    "X"
   ],
   "metadata": {
    "ExecuteTime": {
     "start_time": "2023-05-28T11:29:17.474194Z",
     "end_time": "2023-05-28T11:29:17.486313Z"
    },
    "id": "omMbOqAp-Ta8",
    "outputId": "4f435395-01d7-4224-8348-bdebf80a8b7e",
    "colab": {
     "base_uri": "https://localhost:8080/"
    }
   }
  },
  {
   "cell_type": "code",
   "execution_count": 17,
   "outputs": [
    {
     "name": "stdout",
     "output_type": "stream",
     "text": [
      "accuracy of RF :  0.8434692467173462\n",
      "accuracy of dummy :  0.6399447131997236\n"
     ]
    }
   ],
   "source": [
    "X_train, X_test, y_train, y_test = train_test_split(X, y, test_size=0.2,random_state=0)\n",
    "\n",
    "for model,name in zip(classifiers,names):\n",
    "    model.fit(X_train,y_train)\n",
    "    pred = model.predict(X_test)\n",
    "    score = accuracy_score(y_test,pred)\n",
    "    print('accuracy of '+ name +' : ',score)"
   ],
   "metadata": {
    "ExecuteTime": {
     "start_time": "2023-05-28T11:30:01.232016Z",
     "end_time": "2023-05-28T11:30:04.036903Z"
    },
    "id": "J6jst1NA-Ta8",
    "outputId": "23497bc6-786d-4a32-cfbd-cc3e9a7a0112",
    "colab": {
     "base_uri": "https://localhost:8080/"
    }
   }
  },
  {
   "cell_type": "code",
   "source": [
    "df.loc[(df.Cloud3pm == -1)].index"
   ],
   "metadata": {
    "id": "m2Z4gYlLFFxd",
    "outputId": "5d3c4a6d-960b-4a96-967d-0234ba20bb53",
    "colab": {
     "base_uri": "https://localhost:8080/"
    },
    "ExecuteTime": {
     "start_time": "2023-05-28T11:30:22.493821Z",
     "end_time": "2023-05-28T11:30:22.499555Z"
    }
   },
   "execution_count": 18,
   "outputs": [
    {
     "data": {
      "text/plain": "Int64Index([    9,    11,    12,    14,    15,    17,    23,    29,    34,\n               35,\n            ...\n            14449, 14453, 14454, 14455, 14456, 14457, 14464, 14465, 14466,\n            14467],\n           dtype='int64', length=6124)"
     },
     "execution_count": 18,
     "metadata": {},
     "output_type": "execute_result"
    }
   ]
  },
  {
   "cell_type": "code",
   "execution_count": 19,
   "outputs": [
    {
     "data": {
      "text/plain": "       Month  MinTemp  MaxTemp  Rainfall  WindGustSpeed  WindSpeed9am  \\\n0          1     20.4     37.6       0.0             54             0   \n1          1     20.9     33.6       0.4             50             9   \n2          1     18.4     23.1       2.2             48            11   \n3          1     17.3     23.7      15.6             39             9   \n4          1     15.5     22.9       6.8             31             6   \n...      ...      ...      ...       ...            ...           ...   \n14459     12     24.8     32.6       0.0             44            20   \n14460     12     22.9     29.9      21.8             35            13   \n14461     12     22.8     29.5       9.2             54            19   \n14462     12     22.1     27.4      83.8             72            31   \n14463     12     22.1     35.8      63.8             43            17   \n\n       WindSpeed3pm  Humidity9am  Humidity3pm  Pressure9am  Pressure3pm  \\\n0                 7           46           17       1013.4       1009.2   \n1                17           54           30       1011.1       1008.4   \n2                39           62           67       1014.0       1014.8   \n3                17           74           65       1017.9       1016.5   \n4                 9           92           63       1016.3       1013.9   \n...             ...          ...          ...          ...          ...   \n14459            11           59           57       1007.5       1004.0   \n14460            19           85           58       1008.8       1005.1   \n14461            26           96           75       1005.5       1001.1   \n14462            43          100          100        994.6        989.2   \n14463            31           77           41        997.8        995.2   \n\n       Cloud3pm  Temp9am  Temp3pm  RainToday  Escursione_Giornaliera  \\\n0             3     26.1     36.7          0                    17.2   \n1             8     24.8     31.7          0                    12.7   \n2             8     21.8     19.5          1                     4.7   \n3             8     19.2     21.6          1                     6.4   \n4             8     17.2     22.2          1                     7.4   \n...         ...      ...      ...        ...                     ...   \n14459         8     28.2     30.0          0                     7.8   \n14460         6     24.6     29.3          1                     7.0   \n14461         8     24.3     28.0          1                     6.7   \n14462         8     22.2     24.2          1                     5.3   \n14463         2     26.0     33.5          1                    13.7   \n\n       Diff_umidità  Vento_medio  \n0               -29          3.5  \n1               -24         13.0  \n2                 5         25.0  \n3                -9         13.0  \n4               -29          7.5  \n...             ...          ...  \n14459            -2         15.5  \n14460           -27         16.0  \n14461           -21         22.5  \n14462             0         37.0  \n14463           -36         24.0  \n\n[8344 rows x 18 columns]",
      "text/html": "<div>\n<style scoped>\n    .dataframe tbody tr th:only-of-type {\n        vertical-align: middle;\n    }\n\n    .dataframe tbody tr th {\n        vertical-align: top;\n    }\n\n    .dataframe thead th {\n        text-align: right;\n    }\n</style>\n<table border=\"1\" class=\"dataframe\">\n  <thead>\n    <tr style=\"text-align: right;\">\n      <th></th>\n      <th>Month</th>\n      <th>MinTemp</th>\n      <th>MaxTemp</th>\n      <th>Rainfall</th>\n      <th>WindGustSpeed</th>\n      <th>WindSpeed9am</th>\n      <th>WindSpeed3pm</th>\n      <th>Humidity9am</th>\n      <th>Humidity3pm</th>\n      <th>Pressure9am</th>\n      <th>Pressure3pm</th>\n      <th>Cloud3pm</th>\n      <th>Temp9am</th>\n      <th>Temp3pm</th>\n      <th>RainToday</th>\n      <th>Escursione_Giornaliera</th>\n      <th>Diff_umidità</th>\n      <th>Vento_medio</th>\n    </tr>\n  </thead>\n  <tbody>\n    <tr>\n      <th>0</th>\n      <td>1</td>\n      <td>20.4</td>\n      <td>37.6</td>\n      <td>0.0</td>\n      <td>54</td>\n      <td>0</td>\n      <td>7</td>\n      <td>46</td>\n      <td>17</td>\n      <td>1013.4</td>\n      <td>1009.2</td>\n      <td>3</td>\n      <td>26.1</td>\n      <td>36.7</td>\n      <td>0</td>\n      <td>17.2</td>\n      <td>-29</td>\n      <td>3.5</td>\n    </tr>\n    <tr>\n      <th>1</th>\n      <td>1</td>\n      <td>20.9</td>\n      <td>33.6</td>\n      <td>0.4</td>\n      <td>50</td>\n      <td>9</td>\n      <td>17</td>\n      <td>54</td>\n      <td>30</td>\n      <td>1011.1</td>\n      <td>1008.4</td>\n      <td>8</td>\n      <td>24.8</td>\n      <td>31.7</td>\n      <td>0</td>\n      <td>12.7</td>\n      <td>-24</td>\n      <td>13.0</td>\n    </tr>\n    <tr>\n      <th>2</th>\n      <td>1</td>\n      <td>18.4</td>\n      <td>23.1</td>\n      <td>2.2</td>\n      <td>48</td>\n      <td>11</td>\n      <td>39</td>\n      <td>62</td>\n      <td>67</td>\n      <td>1014.0</td>\n      <td>1014.8</td>\n      <td>8</td>\n      <td>21.8</td>\n      <td>19.5</td>\n      <td>1</td>\n      <td>4.7</td>\n      <td>5</td>\n      <td>25.0</td>\n    </tr>\n    <tr>\n      <th>3</th>\n      <td>1</td>\n      <td>17.3</td>\n      <td>23.7</td>\n      <td>15.6</td>\n      <td>39</td>\n      <td>9</td>\n      <td>17</td>\n      <td>74</td>\n      <td>65</td>\n      <td>1017.9</td>\n      <td>1016.5</td>\n      <td>8</td>\n      <td>19.2</td>\n      <td>21.6</td>\n      <td>1</td>\n      <td>6.4</td>\n      <td>-9</td>\n      <td>13.0</td>\n    </tr>\n    <tr>\n      <th>4</th>\n      <td>1</td>\n      <td>15.5</td>\n      <td>22.9</td>\n      <td>6.8</td>\n      <td>31</td>\n      <td>6</td>\n      <td>9</td>\n      <td>92</td>\n      <td>63</td>\n      <td>1016.3</td>\n      <td>1013.9</td>\n      <td>8</td>\n      <td>17.2</td>\n      <td>22.2</td>\n      <td>1</td>\n      <td>7.4</td>\n      <td>-29</td>\n      <td>7.5</td>\n    </tr>\n    <tr>\n      <th>...</th>\n      <td>...</td>\n      <td>...</td>\n      <td>...</td>\n      <td>...</td>\n      <td>...</td>\n      <td>...</td>\n      <td>...</td>\n      <td>...</td>\n      <td>...</td>\n      <td>...</td>\n      <td>...</td>\n      <td>...</td>\n      <td>...</td>\n      <td>...</td>\n      <td>...</td>\n      <td>...</td>\n      <td>...</td>\n      <td>...</td>\n    </tr>\n    <tr>\n      <th>14459</th>\n      <td>12</td>\n      <td>24.8</td>\n      <td>32.6</td>\n      <td>0.0</td>\n      <td>44</td>\n      <td>20</td>\n      <td>11</td>\n      <td>59</td>\n      <td>57</td>\n      <td>1007.5</td>\n      <td>1004.0</td>\n      <td>8</td>\n      <td>28.2</td>\n      <td>30.0</td>\n      <td>0</td>\n      <td>7.8</td>\n      <td>-2</td>\n      <td>15.5</td>\n    </tr>\n    <tr>\n      <th>14460</th>\n      <td>12</td>\n      <td>22.9</td>\n      <td>29.9</td>\n      <td>21.8</td>\n      <td>35</td>\n      <td>13</td>\n      <td>19</td>\n      <td>85</td>\n      <td>58</td>\n      <td>1008.8</td>\n      <td>1005.1</td>\n      <td>6</td>\n      <td>24.6</td>\n      <td>29.3</td>\n      <td>1</td>\n      <td>7.0</td>\n      <td>-27</td>\n      <td>16.0</td>\n    </tr>\n    <tr>\n      <th>14461</th>\n      <td>12</td>\n      <td>22.8</td>\n      <td>29.5</td>\n      <td>9.2</td>\n      <td>54</td>\n      <td>19</td>\n      <td>26</td>\n      <td>96</td>\n      <td>75</td>\n      <td>1005.5</td>\n      <td>1001.1</td>\n      <td>8</td>\n      <td>24.3</td>\n      <td>28.0</td>\n      <td>1</td>\n      <td>6.7</td>\n      <td>-21</td>\n      <td>22.5</td>\n    </tr>\n    <tr>\n      <th>14462</th>\n      <td>12</td>\n      <td>22.1</td>\n      <td>27.4</td>\n      <td>83.8</td>\n      <td>72</td>\n      <td>31</td>\n      <td>43</td>\n      <td>100</td>\n      <td>100</td>\n      <td>994.6</td>\n      <td>989.2</td>\n      <td>8</td>\n      <td>22.2</td>\n      <td>24.2</td>\n      <td>1</td>\n      <td>5.3</td>\n      <td>0</td>\n      <td>37.0</td>\n    </tr>\n    <tr>\n      <th>14463</th>\n      <td>12</td>\n      <td>22.1</td>\n      <td>35.8</td>\n      <td>63.8</td>\n      <td>43</td>\n      <td>17</td>\n      <td>31</td>\n      <td>77</td>\n      <td>41</td>\n      <td>997.8</td>\n      <td>995.2</td>\n      <td>2</td>\n      <td>26.0</td>\n      <td>33.5</td>\n      <td>1</td>\n      <td>13.7</td>\n      <td>-36</td>\n      <td>24.0</td>\n    </tr>\n  </tbody>\n</table>\n<p>8344 rows × 18 columns</p>\n</div>"
     },
     "execution_count": 19,
     "metadata": {},
     "output_type": "execute_result"
    }
   ],
   "source": [
    "df_eliminated = df.drop(df.loc[(df.Cloud3pm == -1)].index)\n",
    "df_eliminated"
   ],
   "metadata": {
    "ExecuteTime": {
     "start_time": "2023-05-28T11:30:37.014711Z",
     "end_time": "2023-05-28T11:30:37.055379Z"
    },
    "id": "ypObfJOT-Ta8",
    "outputId": "0a127455-c82a-45d5-de93-fc1f2c480a34",
    "colab": {
     "base_uri": "https://localhost:8080/",
     "height": 487
    }
   }
  },
  {
   "cell_type": "code",
   "source": [
    "y_delete = np.delete(y,df.loc[(df.Cloud3pm == -1)].index)\n",
    "len(y_delete)"
   ],
   "metadata": {
    "id": "qmA4gH78HiPP",
    "outputId": "8d9281eb-6edc-422a-bde8-285dbe00e81f",
    "colab": {
     "base_uri": "https://localhost:8080/"
    },
    "ExecuteTime": {
     "start_time": "2023-05-28T11:31:10.337823Z",
     "end_time": "2023-05-28T11:31:10.345384Z"
    }
   },
   "execution_count": 20,
   "outputs": [
    {
     "data": {
      "text/plain": "8344"
     },
     "execution_count": 20,
     "metadata": {},
     "output_type": "execute_result"
    }
   ]
  },
  {
   "cell_type": "code",
   "execution_count": 21,
   "outputs": [
    {
     "data": {
      "text/plain": "8344"
     },
     "execution_count": 21,
     "metadata": {},
     "output_type": "execute_result"
    }
   ],
   "source": [
    "scaler = MinMaxScaler(feature_range=(0,1))\n",
    "normalize = Normalizer()\n",
    "X = scaler.fit_transform(df_eliminated)\n",
    "X = normalize.fit_transform(X)\n",
    "len(X)"
   ],
   "metadata": {
    "id": "KUgBF0fB-Ta9",
    "outputId": "5890c424-0d14-4ce6-94ad-c796ef7be0f5",
    "colab": {
     "base_uri": "https://localhost:8080/"
    },
    "ExecuteTime": {
     "start_time": "2023-05-28T11:31:14.382261Z",
     "end_time": "2023-05-28T11:31:14.391115Z"
    }
   }
  },
  {
   "cell_type": "code",
   "source": [
    "X_train, X_test, y_train, y_test = train_test_split(X, y_delete, test_size=0.2,random_state=0)\n",
    "\n",
    "for model,name in zip(classifiers,names):\n",
    "    model.fit(X_train,y_train)\n",
    "    pred = model.predict(X_test)\n",
    "    score = accuracy_score(y_test,pred)\n",
    "    print('accuracy of '+ name +' : ',score)"
   ],
   "metadata": {
    "id": "Qpv5AGH1HR8k",
    "outputId": "1c8fcd5f-96e8-46ae-c167-63321887d155",
    "colab": {
     "base_uri": "https://localhost:8080/"
    },
    "ExecuteTime": {
     "start_time": "2023-05-28T11:31:18.911989Z",
     "end_time": "2023-05-28T11:31:20.369153Z"
    }
   },
   "execution_count": 22,
   "outputs": [
    {
     "name": "stdout",
     "output_type": "stream",
     "text": [
      "accuracy of RF :  0.8382264829239066\n",
      "accuracy of dummy :  0.6291192330736968\n"
     ]
    }
   ]
  },
  {
   "cell_type": "markdown",
   "source": [
    "# 4 Realizzare una pipeline che effettui il punto 2 dell'esercizio\n",
    "Proviamo con il Feature_Union"
   ],
   "metadata": {
    "id": "W4lHoNIvIZKj"
   }
  },
  {
   "cell_type": "code",
   "source": [
    "from sklearn.pipeline import FeatureUnion\n",
    "\n",
    "scaler = MinMaxScaler(feature_range=(0,1))\n",
    "\n",
    "normalize = Normalizer()\n",
    "\n",
    "combine_features = FeatureUnion([('scale',scaler), ('norma',normalize)])\n",
    "combine_features"
   ],
   "metadata": {
    "id": "BRWYmV2kIen6",
    "outputId": "f1e4a36b-5031-4aa0-b1f3-79d85058a81a",
    "colab": {
     "base_uri": "https://localhost:8080/",
     "height": 109
    },
    "ExecuteTime": {
     "start_time": "2023-05-28T11:32:33.983625Z",
     "end_time": "2023-05-28T11:32:33.991791Z"
    }
   },
   "execution_count": 23,
   "outputs": [
    {
     "data": {
      "text/plain": "FeatureUnion(transformer_list=[('scale', MinMaxScaler()),\n                               ('norma', Normalizer())])"
     },
     "execution_count": 23,
     "metadata": {},
     "output_type": "execute_result"
    }
   ]
  },
  {
   "cell_type": "code",
   "source": [
    "from sklearn.pipeline import Pipeline\n",
    "\n",
    "X_train, X_test, y_train, y_test = train_test_split(df, y, test_size=0.2,random_state=0)\n",
    "\n",
    "\n",
    "for model,name in zip(classifiers,names):\n",
    "    my_pipeline = Pipeline(steps=[('combined_features',combine_features),('model',model)],verbose=True)\n",
    "\n",
    "    my_pipeline.fit(X_train,y_train)\n",
    "\n",
    "    preds = my_pipeline.predict(X_test)\n",
    "\n",
    "    score = accuracy_score(y_test,preds)\n",
    "    print('accuracy '+ name+':',score)"
   ],
   "metadata": {
    "id": "FZZtwir_Kpet",
    "outputId": "ea774073-8afa-49bb-98a1-5545f92eb8b2",
    "colab": {
     "base_uri": "https://localhost:8080/"
    },
    "ExecuteTime": {
     "start_time": "2023-05-28T11:33:02.716003Z",
     "end_time": "2023-05-28T11:33:05.899353Z"
    }
   },
   "execution_count": 24,
   "outputs": [
    {
     "name": "stdout",
     "output_type": "stream",
     "text": [
      "[Pipeline] . (step 1 of 2) Processing combined_features, total=   0.0s\n",
      "[Pipeline] ............. (step 2 of 2) Processing model, total=   3.1s\n",
      "accuracy RF: 0.8462335867311679\n",
      "[Pipeline] . (step 1 of 2) Processing combined_features, total=   0.0s\n",
      "[Pipeline] ............. (step 2 of 2) Processing model, total=   0.0s\n",
      "accuracy dummy: 0.6375259156876296\n"
     ]
    }
   ]
  },
  {
   "cell_type": "markdown",
   "source": [
    "# 5 Realizzare una pipeline che effettui i punti 1 e 2 dell'esercizio"
   ],
   "metadata": {
    "collapsed": false
   }
  },
  {
   "cell_type": "code",
   "execution_count": 25,
   "outputs": [
    {
     "data": {
      "text/plain": "       Month Location  MinTemp  MaxTemp  Rainfall  WindGustSpeed  \\\n0          1   Albury     20.4     37.6       0.0             54   \n1          1   Albury     20.9     33.6       0.4             50   \n2          1   Albury     18.4     23.1       2.2             48   \n3          1   Albury     17.3     23.7      15.6             39   \n4          1   Albury     15.5     22.9       6.8             31   \n...      ...      ...      ...      ...       ...            ...   \n14463     12    Uluru     22.1     35.8      63.8             43   \n14464     12    Uluru     22.6     36.8       0.0             50   \n14465     12    Uluru     23.2     38.0       0.0             33   \n14466     12    Uluru     19.7     37.0       0.0             37   \n14467     12    Uluru     23.7     33.0       0.0             46   \n\n       WindSpeed9am  WindSpeed3pm  Humidity9am  Humidity3pm  Pressure9am  \\\n0                 0             7           46           17       1013.4   \n1                 9            17           54           30       1011.1   \n2                11            39           62           67       1014.0   \n3                 9            17           74           65       1017.9   \n4                 6             9           92           63       1016.3   \n...             ...           ...          ...          ...          ...   \n14463            17            31           77           41        997.8   \n14464            30            15           63           39       1000.0   \n14465            17            17           25           14       1004.4   \n14466            22             6           30           23       1004.6   \n14467            24            17           40           38       1005.1   \n\n       Pressure3pm  Cloud3pm  Temp9am  Temp3pm RainToday  \n0           1009.2         3     26.1     36.7        No  \n1           1008.4         8     24.8     31.7        No  \n2           1014.8         8     21.8     19.5       Yes  \n3           1016.5         8     19.2     21.6       Yes  \n4           1013.9         8     17.2     22.2       Yes  \n...            ...       ...      ...      ...       ...  \n14463        995.2         2     26.0     33.5       Yes  \n14464        998.8        -1     29.7     34.0        No  \n14465       1001.0        -1     28.7     36.4        No  \n14466       1000.9        -1     28.2     35.1        No  \n14467       1002.7        -1     30.1     31.5        No  \n\n[14468 rows x 16 columns]",
      "text/html": "<div>\n<style scoped>\n    .dataframe tbody tr th:only-of-type {\n        vertical-align: middle;\n    }\n\n    .dataframe tbody tr th {\n        vertical-align: top;\n    }\n\n    .dataframe thead th {\n        text-align: right;\n    }\n</style>\n<table border=\"1\" class=\"dataframe\">\n  <thead>\n    <tr style=\"text-align: right;\">\n      <th></th>\n      <th>Month</th>\n      <th>Location</th>\n      <th>MinTemp</th>\n      <th>MaxTemp</th>\n      <th>Rainfall</th>\n      <th>WindGustSpeed</th>\n      <th>WindSpeed9am</th>\n      <th>WindSpeed3pm</th>\n      <th>Humidity9am</th>\n      <th>Humidity3pm</th>\n      <th>Pressure9am</th>\n      <th>Pressure3pm</th>\n      <th>Cloud3pm</th>\n      <th>Temp9am</th>\n      <th>Temp3pm</th>\n      <th>RainToday</th>\n    </tr>\n  </thead>\n  <tbody>\n    <tr>\n      <th>0</th>\n      <td>1</td>\n      <td>Albury</td>\n      <td>20.4</td>\n      <td>37.6</td>\n      <td>0.0</td>\n      <td>54</td>\n      <td>0</td>\n      <td>7</td>\n      <td>46</td>\n      <td>17</td>\n      <td>1013.4</td>\n      <td>1009.2</td>\n      <td>3</td>\n      <td>26.1</td>\n      <td>36.7</td>\n      <td>No</td>\n    </tr>\n    <tr>\n      <th>1</th>\n      <td>1</td>\n      <td>Albury</td>\n      <td>20.9</td>\n      <td>33.6</td>\n      <td>0.4</td>\n      <td>50</td>\n      <td>9</td>\n      <td>17</td>\n      <td>54</td>\n      <td>30</td>\n      <td>1011.1</td>\n      <td>1008.4</td>\n      <td>8</td>\n      <td>24.8</td>\n      <td>31.7</td>\n      <td>No</td>\n    </tr>\n    <tr>\n      <th>2</th>\n      <td>1</td>\n      <td>Albury</td>\n      <td>18.4</td>\n      <td>23.1</td>\n      <td>2.2</td>\n      <td>48</td>\n      <td>11</td>\n      <td>39</td>\n      <td>62</td>\n      <td>67</td>\n      <td>1014.0</td>\n      <td>1014.8</td>\n      <td>8</td>\n      <td>21.8</td>\n      <td>19.5</td>\n      <td>Yes</td>\n    </tr>\n    <tr>\n      <th>3</th>\n      <td>1</td>\n      <td>Albury</td>\n      <td>17.3</td>\n      <td>23.7</td>\n      <td>15.6</td>\n      <td>39</td>\n      <td>9</td>\n      <td>17</td>\n      <td>74</td>\n      <td>65</td>\n      <td>1017.9</td>\n      <td>1016.5</td>\n      <td>8</td>\n      <td>19.2</td>\n      <td>21.6</td>\n      <td>Yes</td>\n    </tr>\n    <tr>\n      <th>4</th>\n      <td>1</td>\n      <td>Albury</td>\n      <td>15.5</td>\n      <td>22.9</td>\n      <td>6.8</td>\n      <td>31</td>\n      <td>6</td>\n      <td>9</td>\n      <td>92</td>\n      <td>63</td>\n      <td>1016.3</td>\n      <td>1013.9</td>\n      <td>8</td>\n      <td>17.2</td>\n      <td>22.2</td>\n      <td>Yes</td>\n    </tr>\n    <tr>\n      <th>...</th>\n      <td>...</td>\n      <td>...</td>\n      <td>...</td>\n      <td>...</td>\n      <td>...</td>\n      <td>...</td>\n      <td>...</td>\n      <td>...</td>\n      <td>...</td>\n      <td>...</td>\n      <td>...</td>\n      <td>...</td>\n      <td>...</td>\n      <td>...</td>\n      <td>...</td>\n      <td>...</td>\n    </tr>\n    <tr>\n      <th>14463</th>\n      <td>12</td>\n      <td>Uluru</td>\n      <td>22.1</td>\n      <td>35.8</td>\n      <td>63.8</td>\n      <td>43</td>\n      <td>17</td>\n      <td>31</td>\n      <td>77</td>\n      <td>41</td>\n      <td>997.8</td>\n      <td>995.2</td>\n      <td>2</td>\n      <td>26.0</td>\n      <td>33.5</td>\n      <td>Yes</td>\n    </tr>\n    <tr>\n      <th>14464</th>\n      <td>12</td>\n      <td>Uluru</td>\n      <td>22.6</td>\n      <td>36.8</td>\n      <td>0.0</td>\n      <td>50</td>\n      <td>30</td>\n      <td>15</td>\n      <td>63</td>\n      <td>39</td>\n      <td>1000.0</td>\n      <td>998.8</td>\n      <td>-1</td>\n      <td>29.7</td>\n      <td>34.0</td>\n      <td>No</td>\n    </tr>\n    <tr>\n      <th>14465</th>\n      <td>12</td>\n      <td>Uluru</td>\n      <td>23.2</td>\n      <td>38.0</td>\n      <td>0.0</td>\n      <td>33</td>\n      <td>17</td>\n      <td>17</td>\n      <td>25</td>\n      <td>14</td>\n      <td>1004.4</td>\n      <td>1001.0</td>\n      <td>-1</td>\n      <td>28.7</td>\n      <td>36.4</td>\n      <td>No</td>\n    </tr>\n    <tr>\n      <th>14466</th>\n      <td>12</td>\n      <td>Uluru</td>\n      <td>19.7</td>\n      <td>37.0</td>\n      <td>0.0</td>\n      <td>37</td>\n      <td>22</td>\n      <td>6</td>\n      <td>30</td>\n      <td>23</td>\n      <td>1004.6</td>\n      <td>1000.9</td>\n      <td>-1</td>\n      <td>28.2</td>\n      <td>35.1</td>\n      <td>No</td>\n    </tr>\n    <tr>\n      <th>14467</th>\n      <td>12</td>\n      <td>Uluru</td>\n      <td>23.7</td>\n      <td>33.0</td>\n      <td>0.0</td>\n      <td>46</td>\n      <td>24</td>\n      <td>17</td>\n      <td>40</td>\n      <td>38</td>\n      <td>1005.1</td>\n      <td>1002.7</td>\n      <td>-1</td>\n      <td>30.1</td>\n      <td>31.5</td>\n      <td>No</td>\n    </tr>\n  </tbody>\n</table>\n<p>14468 rows × 16 columns</p>\n</div>"
     },
     "execution_count": 25,
     "metadata": {},
     "output_type": "execute_result"
    }
   ],
   "source": [
    "new_df = pd.read_csv(\"Data/weather.csv\",sep=\";\")\n",
    "new_df = new_df.drop('RainTomorrow',axis=1)\n",
    "new_df"
   ],
   "metadata": {
    "collapsed": false,
    "ExecuteTime": {
     "start_time": "2023-05-28T11:33:36.325438Z",
     "end_time": "2023-05-28T11:33:36.362242Z"
    }
   }
  },
  {
   "cell_type": "code",
   "execution_count": 44,
   "outputs": [],
   "source": [
    "def dif(X,names):\n",
    "    first = names[0]\n",
    "    second = names[1]\n",
    "    print(first,second)\n",
    "    return (X[first] - X[second])\n",
    "\n",
    "def mean(X,names):\n",
    "    first = names[0]\n",
    "    second = names[1]\n",
    "    return  (X[first]+X[second])/2\n",
    "\n",
    "def operations(op,X,names):\n",
    "    switch={'-': dif(X, names),'m':mean(X, names)}\n",
    "    return switch.get(op)\n",
    "\n",
    "def Add_Feature(X,new_feature,column_names,op):\n",
    "    X[new_feature] = operations(op,X,column_names)\n",
    "    return X\n",
    "\n",
    "def clean_data(X,names):\n",
    "    for name in names:\n",
    "        X = X.drop(name,axis=1)\n",
    "    return X\n",
    "\n",
    "def GetBoolean_column(X):\n",
    "    categorical_cols = [cname for cname in X.columns if\n",
    "                        X[cname].nunique() < 10 and\n",
    "                        X[cname].dtype == \"object\"]\n",
    "    return categorical_cols\n",
    "\n",
    "\n",
    "def Ex_1(df):\n",
    "    df['Escursione_Giornaliera'] = df['MaxTemp'] - df['MinTemp']\n",
    "    df['Diff_umidità'] = df['Humidity3pm'] - df['Humidity9am']\n",
    "    df['Vento_medio'] = (df['WindSpeed3pm'] + df['WindSpeed9am'])/2\n",
    "    print(df)\n",
    "    # remove Location\n",
    "    return df.drop('Location',axis=1)"
   ],
   "metadata": {
    "collapsed": false,
    "ExecuteTime": {
     "start_time": "2023-05-28T11:53:59.313005Z",
     "end_time": "2023-05-28T11:53:59.320051Z"
    }
   }
  },
  {
   "cell_type": "code",
   "execution_count": 52,
   "outputs": [
    {
     "data": {
      "text/plain": "array([15])"
     },
     "execution_count": 52,
     "metadata": {},
     "output_type": "execute_result"
    }
   ],
   "source": [
    "indexes = new_df.columns.get_indexer(GetBoolean_column(new_df))\n",
    "name = new_df.columns.get_indexer(['RainToday'])\n",
    "name"
   ],
   "metadata": {
    "collapsed": false,
    "ExecuteTime": {
     "start_time": "2023-05-28T12:09:33.604857Z",
     "end_time": "2023-05-28T12:09:33.617325Z"
    }
   }
  },
  {
   "cell_type": "code",
   "execution_count": 53,
   "outputs": [
    {
     "name": "stdout",
     "output_type": "stream",
     "text": [
      "       Month       Location  MinTemp  MaxTemp  Rainfall  WindGustSpeed  \\\n",
      "4957       7    Tuggeranong      3.5     15.0       0.0             37   \n",
      "11537      9    Witchcliffe      9.6     15.5      14.0             72   \n",
      "12474      4          Perth     14.6     26.1       0.0             31   \n",
      "5002       9    Tuggeranong     10.0     16.6       0.0             44   \n",
      "11718      3     PearceRAAF     19.3     29.0       0.0             41   \n",
      "...      ...            ...      ...      ...       ...            ...   \n",
      "13123      3         Hobart     17.4     23.6       0.0             35   \n",
      "3264       8  SydneyAirport     14.1     24.8       0.0             59   \n",
      "9845      11     Townsville     20.3     33.1       0.0             30   \n",
      "10799      8      Nuriootpa      5.0     10.5       0.1             26   \n",
      "2732       3         Sydney     22.2     28.7       0.0             46   \n",
      "\n",
      "       WindSpeed9am  WindSpeed3pm  Humidity9am  Humidity3pm  Pressure9am  \\\n",
      "4957             11            17           66           58       1018.4   \n",
      "11537            26            28           52           72       1008.6   \n",
      "12474            15            13           57           37       1027.1   \n",
      "5002              9            13           83           79       1013.0   \n",
      "11718            28            28           63           42       1011.6   \n",
      "...             ...           ...          ...          ...          ...   \n",
      "13123             9            17           91           63       1018.9   \n",
      "3264             24            30           58           50       1018.5   \n",
      "9845             13            20           61           33       1010.2   \n",
      "10799             7             7           70           62       1030.6   \n",
      "2732              4            26           71           58       1021.3   \n",
      "\n",
      "       Pressure3pm  Cloud3pm  Temp9am  Temp3pm RainToday  \\\n",
      "4957        1016.9        -1     10.2     13.8        No   \n",
      "11537       1008.5        -1     12.8     12.2       Yes   \n",
      "12474       1023.1         7     19.5     25.8        No   \n",
      "5002        1009.3        -1     13.8     13.4        No   \n",
      "11718       1009.5         4     22.1     26.3        No   \n",
      "...            ...       ...      ...      ...       ...   \n",
      "13123       1019.1         2     18.3     23.0        No   \n",
      "3264        1013.5         7     19.4     22.3        No   \n",
      "9845        1007.1        -1     28.7     31.6        No   \n",
      "10799       1029.2        -1      9.4      9.8        No   \n",
      "2732        1019.4         4     25.2     28.4        No   \n",
      "\n",
      "       Escursione_Giornaliera  Diff_umidità  Vento_medio  \n",
      "4957                     11.5            -8         14.0  \n",
      "11537                     5.9            20         27.0  \n",
      "12474                    11.5           -20         14.0  \n",
      "5002                      6.6            -4         11.0  \n",
      "11718                     9.7           -21         28.0  \n",
      "...                       ...           ...          ...  \n",
      "13123                     6.2           -28         13.0  \n",
      "3264                     10.7            -8         27.0  \n",
      "9845                     12.8           -28         16.5  \n",
      "10799                     5.5            -8          7.0  \n",
      "2732                      6.5           -13         15.0  \n",
      "\n",
      "[11574 rows x 19 columns]\n",
      "[Pipeline] .......... (step 1 of 4) Processing pre_Ex_1, total=   0.0s\n",
      "[Pipeline] .............. (step 2 of 4) Processing bool, total=   0.3s\n"
     ]
    },
    {
     "ename": "ValueError",
     "evalue": "could not convert string to float: 'No'",
     "output_type": "error",
     "traceback": [
      "\u001B[0;31m---------------------------------------------------------------------------\u001B[0m",
      "\u001B[0;31mValueError\u001B[0m                                Traceback (most recent call last)",
      "\u001B[0;32m/var/folders/zk/y_05r4dd4q51x5hx9n0nwwk80000gn/T/ipykernel_1503/1647250944.py\u001B[0m in \u001B[0;36m<module>\u001B[0;34m\u001B[0m\n\u001B[1;32m     15\u001B[0m \u001B[0;34m\u001B[0m\u001B[0m\n\u001B[1;32m     16\u001B[0m \u001B[0;34m\u001B[0m\u001B[0m\n\u001B[0;32m---> 17\u001B[0;31m \u001B[0mpre_process_pipeline\u001B[0m\u001B[0;34m.\u001B[0m\u001B[0mfit_transform\u001B[0m\u001B[0;34m(\u001B[0m\u001B[0mX_train\u001B[0m\u001B[0;34m,\u001B[0m\u001B[0my_train\u001B[0m\u001B[0;34m)\u001B[0m\u001B[0;34m\u001B[0m\u001B[0;34m\u001B[0m\u001B[0m\n\u001B[0m\u001B[1;32m     18\u001B[0m \u001B[0;34m\u001B[0m\u001B[0m\n\u001B[1;32m     19\u001B[0m \u001B[0;31m# for model,name in zip(classifiers,names):\u001B[0m\u001B[0;34m\u001B[0m\u001B[0;34m\u001B[0m\u001B[0m\n",
      "\u001B[0;32m/opt/anaconda3/lib/python3.9/site-packages/sklearn/pipeline.py\u001B[0m in \u001B[0;36mfit_transform\u001B[0;34m(self, X, y, **fit_params)\u001B[0m\n\u001B[1;32m    424\u001B[0m         \"\"\"\n\u001B[1;32m    425\u001B[0m         \u001B[0mfit_params_steps\u001B[0m \u001B[0;34m=\u001B[0m \u001B[0mself\u001B[0m\u001B[0;34m.\u001B[0m\u001B[0m_check_fit_params\u001B[0m\u001B[0;34m(\u001B[0m\u001B[0;34m**\u001B[0m\u001B[0mfit_params\u001B[0m\u001B[0;34m)\u001B[0m\u001B[0;34m\u001B[0m\u001B[0;34m\u001B[0m\u001B[0m\n\u001B[0;32m--> 426\u001B[0;31m         \u001B[0mXt\u001B[0m \u001B[0;34m=\u001B[0m \u001B[0mself\u001B[0m\u001B[0;34m.\u001B[0m\u001B[0m_fit\u001B[0m\u001B[0;34m(\u001B[0m\u001B[0mX\u001B[0m\u001B[0;34m,\u001B[0m \u001B[0my\u001B[0m\u001B[0;34m,\u001B[0m \u001B[0;34m**\u001B[0m\u001B[0mfit_params_steps\u001B[0m\u001B[0;34m)\u001B[0m\u001B[0;34m\u001B[0m\u001B[0;34m\u001B[0m\u001B[0m\n\u001B[0m\u001B[1;32m    427\u001B[0m \u001B[0;34m\u001B[0m\u001B[0m\n\u001B[1;32m    428\u001B[0m         \u001B[0mlast_step\u001B[0m \u001B[0;34m=\u001B[0m \u001B[0mself\u001B[0m\u001B[0;34m.\u001B[0m\u001B[0m_final_estimator\u001B[0m\u001B[0;34m\u001B[0m\u001B[0;34m\u001B[0m\u001B[0m\n",
      "\u001B[0;32m/opt/anaconda3/lib/python3.9/site-packages/sklearn/pipeline.py\u001B[0m in \u001B[0;36m_fit\u001B[0;34m(self, X, y, **fit_params_steps)\u001B[0m\n\u001B[1;32m    346\u001B[0m                 \u001B[0mcloned_transformer\u001B[0m \u001B[0;34m=\u001B[0m \u001B[0mclone\u001B[0m\u001B[0;34m(\u001B[0m\u001B[0mtransformer\u001B[0m\u001B[0;34m)\u001B[0m\u001B[0;34m\u001B[0m\u001B[0;34m\u001B[0m\u001B[0m\n\u001B[1;32m    347\u001B[0m             \u001B[0;31m# Fit or load from cache the current transformer\u001B[0m\u001B[0;34m\u001B[0m\u001B[0;34m\u001B[0m\u001B[0m\n\u001B[0;32m--> 348\u001B[0;31m             X, fitted_transformer = fit_transform_one_cached(\n\u001B[0m\u001B[1;32m    349\u001B[0m                 \u001B[0mcloned_transformer\u001B[0m\u001B[0;34m,\u001B[0m\u001B[0;34m\u001B[0m\u001B[0;34m\u001B[0m\u001B[0m\n\u001B[1;32m    350\u001B[0m                 \u001B[0mX\u001B[0m\u001B[0;34m,\u001B[0m\u001B[0;34m\u001B[0m\u001B[0;34m\u001B[0m\u001B[0m\n",
      "\u001B[0;32m/opt/anaconda3/lib/python3.9/site-packages/joblib/memory.py\u001B[0m in \u001B[0;36m__call__\u001B[0;34m(self, *args, **kwargs)\u001B[0m\n\u001B[1;32m    347\u001B[0m \u001B[0;34m\u001B[0m\u001B[0m\n\u001B[1;32m    348\u001B[0m     \u001B[0;32mdef\u001B[0m \u001B[0m__call__\u001B[0m\u001B[0;34m(\u001B[0m\u001B[0mself\u001B[0m\u001B[0;34m,\u001B[0m \u001B[0;34m*\u001B[0m\u001B[0margs\u001B[0m\u001B[0;34m,\u001B[0m \u001B[0;34m**\u001B[0m\u001B[0mkwargs\u001B[0m\u001B[0;34m)\u001B[0m\u001B[0;34m:\u001B[0m\u001B[0;34m\u001B[0m\u001B[0;34m\u001B[0m\u001B[0m\n\u001B[0;32m--> 349\u001B[0;31m         \u001B[0;32mreturn\u001B[0m \u001B[0mself\u001B[0m\u001B[0;34m.\u001B[0m\u001B[0mfunc\u001B[0m\u001B[0;34m(\u001B[0m\u001B[0;34m*\u001B[0m\u001B[0margs\u001B[0m\u001B[0;34m,\u001B[0m \u001B[0;34m**\u001B[0m\u001B[0mkwargs\u001B[0m\u001B[0;34m)\u001B[0m\u001B[0;34m\u001B[0m\u001B[0;34m\u001B[0m\u001B[0m\n\u001B[0m\u001B[1;32m    350\u001B[0m \u001B[0;34m\u001B[0m\u001B[0m\n\u001B[1;32m    351\u001B[0m     \u001B[0;32mdef\u001B[0m \u001B[0mcall_and_shelve\u001B[0m\u001B[0;34m(\u001B[0m\u001B[0mself\u001B[0m\u001B[0;34m,\u001B[0m \u001B[0;34m*\u001B[0m\u001B[0margs\u001B[0m\u001B[0;34m,\u001B[0m \u001B[0;34m**\u001B[0m\u001B[0mkwargs\u001B[0m\u001B[0;34m)\u001B[0m\u001B[0;34m:\u001B[0m\u001B[0;34m\u001B[0m\u001B[0;34m\u001B[0m\u001B[0m\n",
      "\u001B[0;32m/opt/anaconda3/lib/python3.9/site-packages/sklearn/pipeline.py\u001B[0m in \u001B[0;36m_fit_transform_one\u001B[0;34m(transformer, X, y, weight, message_clsname, message, **fit_params)\u001B[0m\n\u001B[1;32m    891\u001B[0m     \u001B[0;32mwith\u001B[0m \u001B[0m_print_elapsed_time\u001B[0m\u001B[0;34m(\u001B[0m\u001B[0mmessage_clsname\u001B[0m\u001B[0;34m,\u001B[0m \u001B[0mmessage\u001B[0m\u001B[0;34m)\u001B[0m\u001B[0;34m:\u001B[0m\u001B[0;34m\u001B[0m\u001B[0;34m\u001B[0m\u001B[0m\n\u001B[1;32m    892\u001B[0m         \u001B[0;32mif\u001B[0m \u001B[0mhasattr\u001B[0m\u001B[0;34m(\u001B[0m\u001B[0mtransformer\u001B[0m\u001B[0;34m,\u001B[0m \u001B[0;34m\"fit_transform\"\u001B[0m\u001B[0;34m)\u001B[0m\u001B[0;34m:\u001B[0m\u001B[0;34m\u001B[0m\u001B[0;34m\u001B[0m\u001B[0m\n\u001B[0;32m--> 893\u001B[0;31m             \u001B[0mres\u001B[0m \u001B[0;34m=\u001B[0m \u001B[0mtransformer\u001B[0m\u001B[0;34m.\u001B[0m\u001B[0mfit_transform\u001B[0m\u001B[0;34m(\u001B[0m\u001B[0mX\u001B[0m\u001B[0;34m,\u001B[0m \u001B[0my\u001B[0m\u001B[0;34m,\u001B[0m \u001B[0;34m**\u001B[0m\u001B[0mfit_params\u001B[0m\u001B[0;34m)\u001B[0m\u001B[0;34m\u001B[0m\u001B[0;34m\u001B[0m\u001B[0m\n\u001B[0m\u001B[1;32m    894\u001B[0m         \u001B[0;32melse\u001B[0m\u001B[0;34m:\u001B[0m\u001B[0;34m\u001B[0m\u001B[0;34m\u001B[0m\u001B[0m\n\u001B[1;32m    895\u001B[0m             \u001B[0mres\u001B[0m \u001B[0;34m=\u001B[0m \u001B[0mtransformer\u001B[0m\u001B[0;34m.\u001B[0m\u001B[0mfit\u001B[0m\u001B[0;34m(\u001B[0m\u001B[0mX\u001B[0m\u001B[0;34m,\u001B[0m \u001B[0my\u001B[0m\u001B[0;34m,\u001B[0m \u001B[0;34m**\u001B[0m\u001B[0mfit_params\u001B[0m\u001B[0;34m)\u001B[0m\u001B[0;34m.\u001B[0m\u001B[0mtransform\u001B[0m\u001B[0;34m(\u001B[0m\u001B[0mX\u001B[0m\u001B[0;34m)\u001B[0m\u001B[0;34m\u001B[0m\u001B[0;34m\u001B[0m\u001B[0m\n",
      "\u001B[0;32m/opt/anaconda3/lib/python3.9/site-packages/sklearn/pipeline.py\u001B[0m in \u001B[0;36mfit_transform\u001B[0;34m(self, X, y, **fit_params)\u001B[0m\n\u001B[1;32m   1170\u001B[0m             \u001B[0msum\u001B[0m \u001B[0mof\u001B[0m\u001B[0;31m \u001B[0m\u001B[0;31m`\u001B[0m\u001B[0mn_components\u001B[0m\u001B[0;31m`\u001B[0m \u001B[0;34m(\u001B[0m\u001B[0moutput\u001B[0m \u001B[0mdimension\u001B[0m\u001B[0;34m)\u001B[0m \u001B[0mover\u001B[0m \u001B[0mtransformers\u001B[0m\u001B[0;34m.\u001B[0m\u001B[0;34m\u001B[0m\u001B[0;34m\u001B[0m\u001B[0m\n\u001B[1;32m   1171\u001B[0m         \"\"\"\n\u001B[0;32m-> 1172\u001B[0;31m         \u001B[0mresults\u001B[0m \u001B[0;34m=\u001B[0m \u001B[0mself\u001B[0m\u001B[0;34m.\u001B[0m\u001B[0m_parallel_func\u001B[0m\u001B[0;34m(\u001B[0m\u001B[0mX\u001B[0m\u001B[0;34m,\u001B[0m \u001B[0my\u001B[0m\u001B[0;34m,\u001B[0m \u001B[0mfit_params\u001B[0m\u001B[0;34m,\u001B[0m \u001B[0m_fit_transform_one\u001B[0m\u001B[0;34m)\u001B[0m\u001B[0;34m\u001B[0m\u001B[0;34m\u001B[0m\u001B[0m\n\u001B[0m\u001B[1;32m   1173\u001B[0m         \u001B[0;32mif\u001B[0m \u001B[0;32mnot\u001B[0m \u001B[0mresults\u001B[0m\u001B[0;34m:\u001B[0m\u001B[0;34m\u001B[0m\u001B[0;34m\u001B[0m\u001B[0m\n\u001B[1;32m   1174\u001B[0m             \u001B[0;31m# All transformers are None\u001B[0m\u001B[0;34m\u001B[0m\u001B[0;34m\u001B[0m\u001B[0m\n",
      "\u001B[0;32m/opt/anaconda3/lib/python3.9/site-packages/sklearn/pipeline.py\u001B[0m in \u001B[0;36m_parallel_func\u001B[0;34m(self, X, y, fit_params, func)\u001B[0m\n\u001B[1;32m   1192\u001B[0m         \u001B[0mtransformers\u001B[0m \u001B[0;34m=\u001B[0m \u001B[0mlist\u001B[0m\u001B[0;34m(\u001B[0m\u001B[0mself\u001B[0m\u001B[0;34m.\u001B[0m\u001B[0m_iter\u001B[0m\u001B[0;34m(\u001B[0m\u001B[0;34m)\u001B[0m\u001B[0;34m)\u001B[0m\u001B[0;34m\u001B[0m\u001B[0;34m\u001B[0m\u001B[0m\n\u001B[1;32m   1193\u001B[0m \u001B[0;34m\u001B[0m\u001B[0m\n\u001B[0;32m-> 1194\u001B[0;31m         return Parallel(n_jobs=self.n_jobs)(\n\u001B[0m\u001B[1;32m   1195\u001B[0m             delayed(func)(\n\u001B[1;32m   1196\u001B[0m                 \u001B[0mtransformer\u001B[0m\u001B[0;34m,\u001B[0m\u001B[0;34m\u001B[0m\u001B[0;34m\u001B[0m\u001B[0m\n",
      "\u001B[0;32m/opt/anaconda3/lib/python3.9/site-packages/joblib/parallel.py\u001B[0m in \u001B[0;36m__call__\u001B[0;34m(self, iterable)\u001B[0m\n\u001B[1;32m   1041\u001B[0m             \u001B[0;31m# remaining jobs.\u001B[0m\u001B[0;34m\u001B[0m\u001B[0;34m\u001B[0m\u001B[0m\n\u001B[1;32m   1042\u001B[0m             \u001B[0mself\u001B[0m\u001B[0;34m.\u001B[0m\u001B[0m_iterating\u001B[0m \u001B[0;34m=\u001B[0m \u001B[0;32mFalse\u001B[0m\u001B[0;34m\u001B[0m\u001B[0;34m\u001B[0m\u001B[0m\n\u001B[0;32m-> 1043\u001B[0;31m             \u001B[0;32mif\u001B[0m \u001B[0mself\u001B[0m\u001B[0;34m.\u001B[0m\u001B[0mdispatch_one_batch\u001B[0m\u001B[0;34m(\u001B[0m\u001B[0miterator\u001B[0m\u001B[0;34m)\u001B[0m\u001B[0;34m:\u001B[0m\u001B[0;34m\u001B[0m\u001B[0;34m\u001B[0m\u001B[0m\n\u001B[0m\u001B[1;32m   1044\u001B[0m                 \u001B[0mself\u001B[0m\u001B[0;34m.\u001B[0m\u001B[0m_iterating\u001B[0m \u001B[0;34m=\u001B[0m \u001B[0mself\u001B[0m\u001B[0;34m.\u001B[0m\u001B[0m_original_iterator\u001B[0m \u001B[0;32mis\u001B[0m \u001B[0;32mnot\u001B[0m \u001B[0;32mNone\u001B[0m\u001B[0;34m\u001B[0m\u001B[0;34m\u001B[0m\u001B[0m\n\u001B[1;32m   1045\u001B[0m \u001B[0;34m\u001B[0m\u001B[0m\n",
      "\u001B[0;32m/opt/anaconda3/lib/python3.9/site-packages/joblib/parallel.py\u001B[0m in \u001B[0;36mdispatch_one_batch\u001B[0;34m(self, iterator)\u001B[0m\n\u001B[1;32m    859\u001B[0m                 \u001B[0;32mreturn\u001B[0m \u001B[0;32mFalse\u001B[0m\u001B[0;34m\u001B[0m\u001B[0;34m\u001B[0m\u001B[0m\n\u001B[1;32m    860\u001B[0m             \u001B[0;32melse\u001B[0m\u001B[0;34m:\u001B[0m\u001B[0;34m\u001B[0m\u001B[0;34m\u001B[0m\u001B[0m\n\u001B[0;32m--> 861\u001B[0;31m                 \u001B[0mself\u001B[0m\u001B[0;34m.\u001B[0m\u001B[0m_dispatch\u001B[0m\u001B[0;34m(\u001B[0m\u001B[0mtasks\u001B[0m\u001B[0;34m)\u001B[0m\u001B[0;34m\u001B[0m\u001B[0;34m\u001B[0m\u001B[0m\n\u001B[0m\u001B[1;32m    862\u001B[0m                 \u001B[0;32mreturn\u001B[0m \u001B[0;32mTrue\u001B[0m\u001B[0;34m\u001B[0m\u001B[0;34m\u001B[0m\u001B[0m\n\u001B[1;32m    863\u001B[0m \u001B[0;34m\u001B[0m\u001B[0m\n",
      "\u001B[0;32m/opt/anaconda3/lib/python3.9/site-packages/joblib/parallel.py\u001B[0m in \u001B[0;36m_dispatch\u001B[0;34m(self, batch)\u001B[0m\n\u001B[1;32m    777\u001B[0m         \u001B[0;32mwith\u001B[0m \u001B[0mself\u001B[0m\u001B[0;34m.\u001B[0m\u001B[0m_lock\u001B[0m\u001B[0;34m:\u001B[0m\u001B[0;34m\u001B[0m\u001B[0;34m\u001B[0m\u001B[0m\n\u001B[1;32m    778\u001B[0m             \u001B[0mjob_idx\u001B[0m \u001B[0;34m=\u001B[0m \u001B[0mlen\u001B[0m\u001B[0;34m(\u001B[0m\u001B[0mself\u001B[0m\u001B[0;34m.\u001B[0m\u001B[0m_jobs\u001B[0m\u001B[0;34m)\u001B[0m\u001B[0;34m\u001B[0m\u001B[0;34m\u001B[0m\u001B[0m\n\u001B[0;32m--> 779\u001B[0;31m             \u001B[0mjob\u001B[0m \u001B[0;34m=\u001B[0m \u001B[0mself\u001B[0m\u001B[0;34m.\u001B[0m\u001B[0m_backend\u001B[0m\u001B[0;34m.\u001B[0m\u001B[0mapply_async\u001B[0m\u001B[0;34m(\u001B[0m\u001B[0mbatch\u001B[0m\u001B[0;34m,\u001B[0m \u001B[0mcallback\u001B[0m\u001B[0;34m=\u001B[0m\u001B[0mcb\u001B[0m\u001B[0;34m)\u001B[0m\u001B[0;34m\u001B[0m\u001B[0;34m\u001B[0m\u001B[0m\n\u001B[0m\u001B[1;32m    780\u001B[0m             \u001B[0;31m# A job can complete so quickly than its callback is\u001B[0m\u001B[0;34m\u001B[0m\u001B[0;34m\u001B[0m\u001B[0m\n\u001B[1;32m    781\u001B[0m             \u001B[0;31m# called before we get here, causing self._jobs to\u001B[0m\u001B[0;34m\u001B[0m\u001B[0;34m\u001B[0m\u001B[0m\n",
      "\u001B[0;32m/opt/anaconda3/lib/python3.9/site-packages/joblib/_parallel_backends.py\u001B[0m in \u001B[0;36mapply_async\u001B[0;34m(self, func, callback)\u001B[0m\n\u001B[1;32m    206\u001B[0m     \u001B[0;32mdef\u001B[0m \u001B[0mapply_async\u001B[0m\u001B[0;34m(\u001B[0m\u001B[0mself\u001B[0m\u001B[0;34m,\u001B[0m \u001B[0mfunc\u001B[0m\u001B[0;34m,\u001B[0m \u001B[0mcallback\u001B[0m\u001B[0;34m=\u001B[0m\u001B[0;32mNone\u001B[0m\u001B[0;34m)\u001B[0m\u001B[0;34m:\u001B[0m\u001B[0;34m\u001B[0m\u001B[0;34m\u001B[0m\u001B[0m\n\u001B[1;32m    207\u001B[0m         \u001B[0;34m\"\"\"Schedule a func to be run\"\"\"\u001B[0m\u001B[0;34m\u001B[0m\u001B[0;34m\u001B[0m\u001B[0m\n\u001B[0;32m--> 208\u001B[0;31m         \u001B[0mresult\u001B[0m \u001B[0;34m=\u001B[0m \u001B[0mImmediateResult\u001B[0m\u001B[0;34m(\u001B[0m\u001B[0mfunc\u001B[0m\u001B[0;34m)\u001B[0m\u001B[0;34m\u001B[0m\u001B[0;34m\u001B[0m\u001B[0m\n\u001B[0m\u001B[1;32m    209\u001B[0m         \u001B[0;32mif\u001B[0m \u001B[0mcallback\u001B[0m\u001B[0;34m:\u001B[0m\u001B[0;34m\u001B[0m\u001B[0;34m\u001B[0m\u001B[0m\n\u001B[1;32m    210\u001B[0m             \u001B[0mcallback\u001B[0m\u001B[0;34m(\u001B[0m\u001B[0mresult\u001B[0m\u001B[0;34m)\u001B[0m\u001B[0;34m\u001B[0m\u001B[0;34m\u001B[0m\u001B[0m\n",
      "\u001B[0;32m/opt/anaconda3/lib/python3.9/site-packages/joblib/_parallel_backends.py\u001B[0m in \u001B[0;36m__init__\u001B[0;34m(self, batch)\u001B[0m\n\u001B[1;32m    570\u001B[0m         \u001B[0;31m# Don't delay the application, to avoid keeping the input\u001B[0m\u001B[0;34m\u001B[0m\u001B[0;34m\u001B[0m\u001B[0m\n\u001B[1;32m    571\u001B[0m         \u001B[0;31m# arguments in memory\u001B[0m\u001B[0;34m\u001B[0m\u001B[0;34m\u001B[0m\u001B[0m\n\u001B[0;32m--> 572\u001B[0;31m         \u001B[0mself\u001B[0m\u001B[0;34m.\u001B[0m\u001B[0mresults\u001B[0m \u001B[0;34m=\u001B[0m \u001B[0mbatch\u001B[0m\u001B[0;34m(\u001B[0m\u001B[0;34m)\u001B[0m\u001B[0;34m\u001B[0m\u001B[0;34m\u001B[0m\u001B[0m\n\u001B[0m\u001B[1;32m    573\u001B[0m \u001B[0;34m\u001B[0m\u001B[0m\n\u001B[1;32m    574\u001B[0m     \u001B[0;32mdef\u001B[0m \u001B[0mget\u001B[0m\u001B[0;34m(\u001B[0m\u001B[0mself\u001B[0m\u001B[0;34m)\u001B[0m\u001B[0;34m:\u001B[0m\u001B[0;34m\u001B[0m\u001B[0;34m\u001B[0m\u001B[0m\n",
      "\u001B[0;32m/opt/anaconda3/lib/python3.9/site-packages/joblib/parallel.py\u001B[0m in \u001B[0;36m__call__\u001B[0;34m(self)\u001B[0m\n\u001B[1;32m    260\u001B[0m         \u001B[0;31m# change the default number of processes to -1\u001B[0m\u001B[0;34m\u001B[0m\u001B[0;34m\u001B[0m\u001B[0m\n\u001B[1;32m    261\u001B[0m         \u001B[0;32mwith\u001B[0m \u001B[0mparallel_backend\u001B[0m\u001B[0;34m(\u001B[0m\u001B[0mself\u001B[0m\u001B[0;34m.\u001B[0m\u001B[0m_backend\u001B[0m\u001B[0;34m,\u001B[0m \u001B[0mn_jobs\u001B[0m\u001B[0;34m=\u001B[0m\u001B[0mself\u001B[0m\u001B[0;34m.\u001B[0m\u001B[0m_n_jobs\u001B[0m\u001B[0;34m)\u001B[0m\u001B[0;34m:\u001B[0m\u001B[0;34m\u001B[0m\u001B[0;34m\u001B[0m\u001B[0m\n\u001B[0;32m--> 262\u001B[0;31m             return [func(*args, **kwargs)\n\u001B[0m\u001B[1;32m    263\u001B[0m                     for func, args, kwargs in self.items]\n\u001B[1;32m    264\u001B[0m \u001B[0;34m\u001B[0m\u001B[0m\n",
      "\u001B[0;32m/opt/anaconda3/lib/python3.9/site-packages/joblib/parallel.py\u001B[0m in \u001B[0;36m<listcomp>\u001B[0;34m(.0)\u001B[0m\n\u001B[1;32m    260\u001B[0m         \u001B[0;31m# change the default number of processes to -1\u001B[0m\u001B[0;34m\u001B[0m\u001B[0;34m\u001B[0m\u001B[0m\n\u001B[1;32m    261\u001B[0m         \u001B[0;32mwith\u001B[0m \u001B[0mparallel_backend\u001B[0m\u001B[0;34m(\u001B[0m\u001B[0mself\u001B[0m\u001B[0;34m.\u001B[0m\u001B[0m_backend\u001B[0m\u001B[0;34m,\u001B[0m \u001B[0mn_jobs\u001B[0m\u001B[0;34m=\u001B[0m\u001B[0mself\u001B[0m\u001B[0;34m.\u001B[0m\u001B[0m_n_jobs\u001B[0m\u001B[0;34m)\u001B[0m\u001B[0;34m:\u001B[0m\u001B[0;34m\u001B[0m\u001B[0;34m\u001B[0m\u001B[0m\n\u001B[0;32m--> 262\u001B[0;31m             return [func(*args, **kwargs)\n\u001B[0m\u001B[1;32m    263\u001B[0m                     for func, args, kwargs in self.items]\n\u001B[1;32m    264\u001B[0m \u001B[0;34m\u001B[0m\u001B[0m\n",
      "\u001B[0;32m/opt/anaconda3/lib/python3.9/site-packages/sklearn/utils/fixes.py\u001B[0m in \u001B[0;36m__call__\u001B[0;34m(self, *args, **kwargs)\u001B[0m\n\u001B[1;32m    214\u001B[0m     \u001B[0;32mdef\u001B[0m \u001B[0m__call__\u001B[0m\u001B[0;34m(\u001B[0m\u001B[0mself\u001B[0m\u001B[0;34m,\u001B[0m \u001B[0;34m*\u001B[0m\u001B[0margs\u001B[0m\u001B[0;34m,\u001B[0m \u001B[0;34m**\u001B[0m\u001B[0mkwargs\u001B[0m\u001B[0;34m)\u001B[0m\u001B[0;34m:\u001B[0m\u001B[0;34m\u001B[0m\u001B[0;34m\u001B[0m\u001B[0m\n\u001B[1;32m    215\u001B[0m         \u001B[0;32mwith\u001B[0m \u001B[0mconfig_context\u001B[0m\u001B[0;34m(\u001B[0m\u001B[0;34m**\u001B[0m\u001B[0mself\u001B[0m\u001B[0;34m.\u001B[0m\u001B[0mconfig\u001B[0m\u001B[0;34m)\u001B[0m\u001B[0;34m:\u001B[0m\u001B[0;34m\u001B[0m\u001B[0;34m\u001B[0m\u001B[0m\n\u001B[0;32m--> 216\u001B[0;31m             \u001B[0;32mreturn\u001B[0m \u001B[0mself\u001B[0m\u001B[0;34m.\u001B[0m\u001B[0mfunction\u001B[0m\u001B[0;34m(\u001B[0m\u001B[0;34m*\u001B[0m\u001B[0margs\u001B[0m\u001B[0;34m,\u001B[0m \u001B[0;34m**\u001B[0m\u001B[0mkwargs\u001B[0m\u001B[0;34m)\u001B[0m\u001B[0;34m\u001B[0m\u001B[0;34m\u001B[0m\u001B[0m\n\u001B[0m\u001B[1;32m    217\u001B[0m \u001B[0;34m\u001B[0m\u001B[0m\n\u001B[1;32m    218\u001B[0m \u001B[0;34m\u001B[0m\u001B[0m\n",
      "\u001B[0;32m/opt/anaconda3/lib/python3.9/site-packages/sklearn/pipeline.py\u001B[0m in \u001B[0;36m_fit_transform_one\u001B[0;34m(transformer, X, y, weight, message_clsname, message, **fit_params)\u001B[0m\n\u001B[1;32m    891\u001B[0m     \u001B[0;32mwith\u001B[0m \u001B[0m_print_elapsed_time\u001B[0m\u001B[0;34m(\u001B[0m\u001B[0mmessage_clsname\u001B[0m\u001B[0;34m,\u001B[0m \u001B[0mmessage\u001B[0m\u001B[0;34m)\u001B[0m\u001B[0;34m:\u001B[0m\u001B[0;34m\u001B[0m\u001B[0;34m\u001B[0m\u001B[0m\n\u001B[1;32m    892\u001B[0m         \u001B[0;32mif\u001B[0m \u001B[0mhasattr\u001B[0m\u001B[0;34m(\u001B[0m\u001B[0mtransformer\u001B[0m\u001B[0;34m,\u001B[0m \u001B[0;34m\"fit_transform\"\u001B[0m\u001B[0;34m)\u001B[0m\u001B[0;34m:\u001B[0m\u001B[0;34m\u001B[0m\u001B[0;34m\u001B[0m\u001B[0m\n\u001B[0;32m--> 893\u001B[0;31m             \u001B[0mres\u001B[0m \u001B[0;34m=\u001B[0m \u001B[0mtransformer\u001B[0m\u001B[0;34m.\u001B[0m\u001B[0mfit_transform\u001B[0m\u001B[0;34m(\u001B[0m\u001B[0mX\u001B[0m\u001B[0;34m,\u001B[0m \u001B[0my\u001B[0m\u001B[0;34m,\u001B[0m \u001B[0;34m**\u001B[0m\u001B[0mfit_params\u001B[0m\u001B[0;34m)\u001B[0m\u001B[0;34m\u001B[0m\u001B[0;34m\u001B[0m\u001B[0m\n\u001B[0m\u001B[1;32m    894\u001B[0m         \u001B[0;32melse\u001B[0m\u001B[0;34m:\u001B[0m\u001B[0;34m\u001B[0m\u001B[0;34m\u001B[0m\u001B[0m\n\u001B[1;32m    895\u001B[0m             \u001B[0mres\u001B[0m \u001B[0;34m=\u001B[0m \u001B[0mtransformer\u001B[0m\u001B[0;34m.\u001B[0m\u001B[0mfit\u001B[0m\u001B[0;34m(\u001B[0m\u001B[0mX\u001B[0m\u001B[0;34m,\u001B[0m \u001B[0my\u001B[0m\u001B[0;34m,\u001B[0m \u001B[0;34m**\u001B[0m\u001B[0mfit_params\u001B[0m\u001B[0;34m)\u001B[0m\u001B[0;34m.\u001B[0m\u001B[0mtransform\u001B[0m\u001B[0;34m(\u001B[0m\u001B[0mX\u001B[0m\u001B[0;34m)\u001B[0m\u001B[0;34m\u001B[0m\u001B[0;34m\u001B[0m\u001B[0m\n",
      "\u001B[0;32m/opt/anaconda3/lib/python3.9/site-packages/sklearn/base.py\u001B[0m in \u001B[0;36mfit_transform\u001B[0;34m(self, X, y, **fit_params)\u001B[0m\n\u001B[1;32m    853\u001B[0m         \u001B[0;32melse\u001B[0m\u001B[0;34m:\u001B[0m\u001B[0;34m\u001B[0m\u001B[0;34m\u001B[0m\u001B[0m\n\u001B[1;32m    854\u001B[0m             \u001B[0;31m# fit method of arity 2 (supervised transformation)\u001B[0m\u001B[0;34m\u001B[0m\u001B[0;34m\u001B[0m\u001B[0m\n\u001B[0;32m--> 855\u001B[0;31m             \u001B[0;32mreturn\u001B[0m \u001B[0mself\u001B[0m\u001B[0;34m.\u001B[0m\u001B[0mfit\u001B[0m\u001B[0;34m(\u001B[0m\u001B[0mX\u001B[0m\u001B[0;34m,\u001B[0m \u001B[0my\u001B[0m\u001B[0;34m,\u001B[0m \u001B[0;34m**\u001B[0m\u001B[0mfit_params\u001B[0m\u001B[0;34m)\u001B[0m\u001B[0;34m.\u001B[0m\u001B[0mtransform\u001B[0m\u001B[0;34m(\u001B[0m\u001B[0mX\u001B[0m\u001B[0;34m)\u001B[0m\u001B[0;34m\u001B[0m\u001B[0;34m\u001B[0m\u001B[0m\n\u001B[0m\u001B[1;32m    856\u001B[0m \u001B[0;34m\u001B[0m\u001B[0m\n\u001B[1;32m    857\u001B[0m \u001B[0;34m\u001B[0m\u001B[0m\n",
      "\u001B[0;32m/opt/anaconda3/lib/python3.9/site-packages/sklearn/preprocessing/_data.py\u001B[0m in \u001B[0;36mfit\u001B[0;34m(self, X, y)\u001B[0m\n\u001B[1;32m    414\u001B[0m         \u001B[0;31m# Reset internal state before fitting\u001B[0m\u001B[0;34m\u001B[0m\u001B[0;34m\u001B[0m\u001B[0m\n\u001B[1;32m    415\u001B[0m         \u001B[0mself\u001B[0m\u001B[0;34m.\u001B[0m\u001B[0m_reset\u001B[0m\u001B[0;34m(\u001B[0m\u001B[0;34m)\u001B[0m\u001B[0;34m\u001B[0m\u001B[0;34m\u001B[0m\u001B[0m\n\u001B[0;32m--> 416\u001B[0;31m         \u001B[0;32mreturn\u001B[0m \u001B[0mself\u001B[0m\u001B[0;34m.\u001B[0m\u001B[0mpartial_fit\u001B[0m\u001B[0;34m(\u001B[0m\u001B[0mX\u001B[0m\u001B[0;34m,\u001B[0m \u001B[0my\u001B[0m\u001B[0;34m)\u001B[0m\u001B[0;34m\u001B[0m\u001B[0;34m\u001B[0m\u001B[0m\n\u001B[0m\u001B[1;32m    417\u001B[0m \u001B[0;34m\u001B[0m\u001B[0m\n\u001B[1;32m    418\u001B[0m     \u001B[0;32mdef\u001B[0m \u001B[0mpartial_fit\u001B[0m\u001B[0;34m(\u001B[0m\u001B[0mself\u001B[0m\u001B[0;34m,\u001B[0m \u001B[0mX\u001B[0m\u001B[0;34m,\u001B[0m \u001B[0my\u001B[0m\u001B[0;34m=\u001B[0m\u001B[0;32mNone\u001B[0m\u001B[0;34m)\u001B[0m\u001B[0;34m:\u001B[0m\u001B[0;34m\u001B[0m\u001B[0;34m\u001B[0m\u001B[0m\n",
      "\u001B[0;32m/opt/anaconda3/lib/python3.9/site-packages/sklearn/preprocessing/_data.py\u001B[0m in \u001B[0;36mpartial_fit\u001B[0;34m(self, X, y)\u001B[0m\n\u001B[1;32m    451\u001B[0m \u001B[0;34m\u001B[0m\u001B[0m\n\u001B[1;32m    452\u001B[0m         \u001B[0mfirst_pass\u001B[0m \u001B[0;34m=\u001B[0m \u001B[0;32mnot\u001B[0m \u001B[0mhasattr\u001B[0m\u001B[0;34m(\u001B[0m\u001B[0mself\u001B[0m\u001B[0;34m,\u001B[0m \u001B[0;34m\"n_samples_seen_\"\u001B[0m\u001B[0;34m)\u001B[0m\u001B[0;34m\u001B[0m\u001B[0;34m\u001B[0m\u001B[0m\n\u001B[0;32m--> 453\u001B[0;31m         X = self._validate_data(\n\u001B[0m\u001B[1;32m    454\u001B[0m             \u001B[0mX\u001B[0m\u001B[0;34m,\u001B[0m\u001B[0;34m\u001B[0m\u001B[0;34m\u001B[0m\u001B[0m\n\u001B[1;32m    455\u001B[0m             \u001B[0mreset\u001B[0m\u001B[0;34m=\u001B[0m\u001B[0mfirst_pass\u001B[0m\u001B[0;34m,\u001B[0m\u001B[0;34m\u001B[0m\u001B[0;34m\u001B[0m\u001B[0m\n",
      "\u001B[0;32m/opt/anaconda3/lib/python3.9/site-packages/sklearn/base.py\u001B[0m in \u001B[0;36m_validate_data\u001B[0;34m(self, X, y, reset, validate_separately, **check_params)\u001B[0m\n\u001B[1;32m    564\u001B[0m             \u001B[0;32mraise\u001B[0m \u001B[0mValueError\u001B[0m\u001B[0;34m(\u001B[0m\u001B[0;34m\"Validation should be done on X, y or both.\"\u001B[0m\u001B[0;34m)\u001B[0m\u001B[0;34m\u001B[0m\u001B[0;34m\u001B[0m\u001B[0m\n\u001B[1;32m    565\u001B[0m         \u001B[0;32melif\u001B[0m \u001B[0;32mnot\u001B[0m \u001B[0mno_val_X\u001B[0m \u001B[0;32mand\u001B[0m \u001B[0mno_val_y\u001B[0m\u001B[0;34m:\u001B[0m\u001B[0;34m\u001B[0m\u001B[0;34m\u001B[0m\u001B[0m\n\u001B[0;32m--> 566\u001B[0;31m             \u001B[0mX\u001B[0m \u001B[0;34m=\u001B[0m \u001B[0mcheck_array\u001B[0m\u001B[0;34m(\u001B[0m\u001B[0mX\u001B[0m\u001B[0;34m,\u001B[0m \u001B[0;34m**\u001B[0m\u001B[0mcheck_params\u001B[0m\u001B[0;34m)\u001B[0m\u001B[0;34m\u001B[0m\u001B[0;34m\u001B[0m\u001B[0m\n\u001B[0m\u001B[1;32m    567\u001B[0m             \u001B[0mout\u001B[0m \u001B[0;34m=\u001B[0m \u001B[0mX\u001B[0m\u001B[0;34m\u001B[0m\u001B[0;34m\u001B[0m\u001B[0m\n\u001B[1;32m    568\u001B[0m         \u001B[0;32melif\u001B[0m \u001B[0mno_val_X\u001B[0m \u001B[0;32mand\u001B[0m \u001B[0;32mnot\u001B[0m \u001B[0mno_val_y\u001B[0m\u001B[0;34m:\u001B[0m\u001B[0;34m\u001B[0m\u001B[0;34m\u001B[0m\u001B[0m\n",
      "\u001B[0;32m/opt/anaconda3/lib/python3.9/site-packages/sklearn/utils/validation.py\u001B[0m in \u001B[0;36mcheck_array\u001B[0;34m(array, accept_sparse, accept_large_sparse, dtype, order, copy, force_all_finite, ensure_2d, allow_nd, ensure_min_samples, ensure_min_features, estimator)\u001B[0m\n\u001B[1;32m    744\u001B[0m                     \u001B[0marray\u001B[0m \u001B[0;34m=\u001B[0m \u001B[0marray\u001B[0m\u001B[0;34m.\u001B[0m\u001B[0mastype\u001B[0m\u001B[0;34m(\u001B[0m\u001B[0mdtype\u001B[0m\u001B[0;34m,\u001B[0m \u001B[0mcasting\u001B[0m\u001B[0;34m=\u001B[0m\u001B[0;34m\"unsafe\"\u001B[0m\u001B[0;34m,\u001B[0m \u001B[0mcopy\u001B[0m\u001B[0;34m=\u001B[0m\u001B[0;32mFalse\u001B[0m\u001B[0;34m)\u001B[0m\u001B[0;34m\u001B[0m\u001B[0;34m\u001B[0m\u001B[0m\n\u001B[1;32m    745\u001B[0m                 \u001B[0;32melse\u001B[0m\u001B[0;34m:\u001B[0m\u001B[0;34m\u001B[0m\u001B[0;34m\u001B[0m\u001B[0m\n\u001B[0;32m--> 746\u001B[0;31m                     \u001B[0marray\u001B[0m \u001B[0;34m=\u001B[0m \u001B[0mnp\u001B[0m\u001B[0;34m.\u001B[0m\u001B[0masarray\u001B[0m\u001B[0;34m(\u001B[0m\u001B[0marray\u001B[0m\u001B[0;34m,\u001B[0m \u001B[0morder\u001B[0m\u001B[0;34m=\u001B[0m\u001B[0morder\u001B[0m\u001B[0;34m,\u001B[0m \u001B[0mdtype\u001B[0m\u001B[0;34m=\u001B[0m\u001B[0mdtype\u001B[0m\u001B[0;34m)\u001B[0m\u001B[0;34m\u001B[0m\u001B[0;34m\u001B[0m\u001B[0m\n\u001B[0m\u001B[1;32m    747\u001B[0m             \u001B[0;32mexcept\u001B[0m \u001B[0mComplexWarning\u001B[0m \u001B[0;32mas\u001B[0m \u001B[0mcomplex_warning\u001B[0m\u001B[0;34m:\u001B[0m\u001B[0;34m\u001B[0m\u001B[0;34m\u001B[0m\u001B[0m\n\u001B[1;32m    748\u001B[0m                 raise ValueError(\n",
      "\u001B[0;31mValueError\u001B[0m: could not convert string to float: 'No'"
     ]
    }
   ],
   "source": [
    "from sklearn.compose import ColumnTransformer\n",
    "from sklearn.preprocessing import FunctionTransformer,OneHotEncoder\n",
    "X_train, X_test, y_train, y_test = train_test_split(new_df, y, test_size=0.2,random_state=0)\n",
    "\n",
    "bool_trasform = OneHotEncoder()\n",
    "indexes = new_df.columns.get_indexer(GetBoolean_column(new_df))\n",
    "\n",
    "col_prep = ColumnTransformer(transformers=[('bool',bool_trasform,new_df.columns.get_indexer(['RainToday']))],remainder=\"passthrough\",sparse_threshold=0)\n",
    "func_ex_1 = FunctionTransformer(Ex_1, validate=False)\n",
    "pre_process_pipeline = Pipeline(steps=[\n",
    "        ('pre_Ex_1',func_ex_1),\n",
    "        ('bool',col_prep),\n",
    "        ('combined_features',combine_features),\n",
    "        ('model',model)],verbose=True)\n",
    "\n",
    "\n",
    "pre_process_pipeline.fit_transform(X_train,y_train)\n",
    "\n",
    "# for model,name in zip(classifiers,names):\n",
    "#     my_pipeline = Pipeline(steps=[('pre_processing',pre_process_pipeline),('combined_features',combine_features),('model',model)],verbose=True)\n",
    "#\n",
    "#     my_pipeline.fit(new_df,y)\n",
    "#\n",
    "#     preds = my_pipeline.predict(X_test)\n",
    "#\n",
    "#     score = accuracy_score(y_test,preds)\n",
    "#     print('accuracy '+ name+':',score)"
   ],
   "metadata": {
    "collapsed": false,
    "ExecuteTime": {
     "start_time": "2023-05-27T01:31:51.725180Z",
     "end_time": "2023-05-27T01:31:51.746762Z"
    }
   }
  },
  {
   "cell_type": "code",
   "execution_count": 147,
   "outputs": [
    {
     "data": {
      "text/plain": "[12, 5, 1]"
     },
     "execution_count": 147,
     "metadata": {},
     "output_type": "execute_result"
    }
   ],
   "source": [],
   "metadata": {
    "collapsed": false,
    "ExecuteTime": {
     "start_time": "2023-05-27T01:21:58.963678Z",
     "end_time": "2023-05-27T01:21:58.966222Z"
    }
   }
  },
  {
   "cell_type": "code",
   "execution_count": null,
   "outputs": [],
   "source": [],
   "metadata": {
    "collapsed": false
   }
  }
 ],
 "metadata": {
  "kernelspec": {
   "display_name": "Python 3",
   "language": "python",
   "name": "python3"
  },
  "language_info": {
   "codemirror_mode": {
    "name": "ipython",
    "version": 2
   },
   "file_extension": ".py",
   "mimetype": "text/x-python",
   "name": "python",
   "nbconvert_exporter": "python",
   "pygments_lexer": "ipython2",
   "version": "2.7.6"
  },
  "colab": {
   "provenance": []
  }
 },
 "nbformat": 4,
 "nbformat_minor": 0
}
