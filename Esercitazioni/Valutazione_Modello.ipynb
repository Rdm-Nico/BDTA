{
 "cells": [
  {
   "cell_type": "markdown",
   "source": [
    "# Valutazione del Modello\n",
    "Sommario per metriche  che si utilizzano per valutare un modello:\n",
    "\n",
    "<img src=\"https://drive.google.com/uc?id=184NgFeVKI2uLD5eyKessu4TmopKk-q9w\">"
   ],
   "metadata": {
    "collapsed": false
   }
  },
  {
   "cell_type": "markdown",
   "source": [
    "## Accuratezza:\n",
    "\n",
    "É la metrica più comune e rappresenta la frazione dei campioni predetti correttamente:\n",
    "\n",
    "$$\n",
    "accuracy(y_i, \\hat{y_i}) = \\frac{1}{n_{samples}} \\sum_{i=0}^{n_{samples}-1} 1(y_i = \\hat{y_i})\n",
    "$$"
   ],
   "metadata": {
    "collapsed": false
   }
  },
  {
   "cell_type": "code",
   "execution_count": 1,
   "outputs": [
    {
     "name": "stdout",
     "output_type": "stream",
     "text": [
      "0.5\n",
      "2\n"
     ]
    }
   ],
   "source": [
    "from sklearn.metrics import accuracy_score\n",
    "y_pred = [0, 2, 1, 3]\n",
    "y_true = [0, 1, 2, 3]\n",
    "print(accuracy_score(y_true, y_pred)) # y vero rispetto a quello predetto\n",
    "print(accuracy_score(y_true, y_pred, normalize=False)) #  numero di istanze che non sono corrette"
   ],
   "metadata": {
    "collapsed": false,
    "ExecuteTime": {
     "start_time": "2023-05-19T17:26:50.930588Z",
     "end_time": "2023-05-19T17:26:53.142180Z"
    }
   }
  },
  {
   "cell_type": "markdown",
   "source": [
    "Ma l’accuratezza non é tutto , si deve tenere conto anche in certi casi della precision e della recall anche essere avranno la loro metrica"
   ],
   "metadata": {
    "collapsed": false
   }
  },
  {
   "cell_type": "code",
   "execution_count": 2,
   "outputs": [
    {
     "name": "stdout",
     "output_type": "stream",
     "text": [
      "0.5\n"
     ]
    }
   ],
   "source": [
    "from sklearn.metrics import precision_score\n",
    "y_pred = [0, 1, 1, 0]\n",
    "y_true = [0, 1, 0, 1]\n",
    "print(precision_score(y_true, y_pred))"
   ],
   "metadata": {
    "collapsed": false,
    "ExecuteTime": {
     "start_time": "2023-05-19T17:29:45.065534Z",
     "end_time": "2023-05-19T17:29:45.073336Z"
    }
   }
  },
  {
   "cell_type": "markdown",
   "source": [
    "# Metriche per la regressione:\n",
    "\n",
    "In modelli di regressione non si può utilizzare l’accuratezza,  é necessario utilizzare altre metriche “matematiche” per poter calcolare la precisione di un modello nel predire correttamente un numero, quello che succede si solito é una misura della differenza tra il valore aspettato ( 100K euro di casa ) e il valore predetto ( 170K euro di casa predetta ).\n",
    "\n",
    "Ci sono diversi tipi di metriche e tutte si trovano importandole da sklearn, la differenza é poco importante per il corso in questione:\n",
    "\n",
    "- `explained_variance_score`\n",
    "- `max_error`\n",
    "- `mean_absolute_error`\n",
    "- `mean_squared_error`\n",
    "- `Root_squared_error`\n",
    "- `mean_squared_log_error`\n",
    "- `median_absolute_error`\n",
    "- `r2_score`\n",
    "\n",
    "Di questa lista  una nota importante c’é l’ha il  **Root_squared_error(RMSE)**:\n",
    "\n",
    "É la metrica più utilizzata nei modelli regressivi e   rappresenta la radice quadrata della media dei valori quadrati:\n",
    "\n",
    "$$\n",
    " RMSE(y, \\hat{y}) = \\sqrt{\\frac{1}{n_{samples}} \\sum_{i=0}^{n_{samples}} (y_{i}-\\hat{y_{i}})^2}\n",
    "$$\n",
    "\n",
    "e viene implementata in questo modo:"
   ],
   "metadata": {
    "collapsed": false
   }
  },
  {
   "cell_type": "code",
   "execution_count": 3,
   "outputs": [
    {
     "data": {
      "text/plain": "0.6123724356957945"
     },
     "execution_count": 3,
     "metadata": {},
     "output_type": "execute_result"
    }
   ],
   "source": [
    "from sklearn.metrics import mean_squared_error\n",
    "from math import sqrt\n",
    "\n",
    "y_true = [3, -0.5, 2, 7]\n",
    "y_pred = [2.5, 0.0, 2, 8]\n",
    "sqrt(mean_squared_error(y_true, y_pred))"
   ],
   "metadata": {
    "collapsed": false,
    "ExecuteTime": {
     "start_time": "2023-05-19T17:43:59.470866Z",
     "end_time": "2023-05-19T17:43:59.474349Z"
    }
   }
  },
  {
   "cell_type": "markdown",
   "source": [
    "# Cross Validation:\n",
    "\n",
    "la cross validation testa il modello **k**  dividendo il dataset in **k** parti.\n",
    "Se prendiamo per esempio un modello diviso e allenato con il `train_test_split`:"
   ],
   "metadata": {
    "collapsed": false
   }
  },
  {
   "cell_type": "code",
   "execution_count": 7,
   "outputs": [
    {
     "data": {
      "text/plain": "0.9583333333333334"
     },
     "execution_count": 7,
     "metadata": {},
     "output_type": "execute_result"
    }
   ],
   "source": [
    "from sklearn.datasets import load_wine as wine\n",
    "from sklearn.model_selection import train_test_split\n",
    "from sklearn import svm\n",
    "wines = wine()\n",
    "\n",
    "X_train, X_test, y_train, y_test = train_test_split(\n",
    "    wines.data, wines.target, test_size=0.4, random_state=0)\n",
    "\n",
    "model = svm.SVC(kernel=\"linear\",C=1).fit(X_train,y_train)\n",
    "model.score(X_test,y_test)"
   ],
   "metadata": {
    "collapsed": false,
    "ExecuteTime": {
     "start_time": "2023-05-19T17:52:59.936016Z",
     "end_time": "2023-05-19T17:53:00.201011Z"
    }
   }
  },
  {
   "cell_type": "markdown",
   "source": [
    "Differenti iperparametri per gli estimatori, come per esempio il `C` per il `svc` hanno comunque   un forte rischio di fare overfitting sul test perché i parametri possono modificarsi finché l’estimatore non performa in modo ottimo.\n",
    "\n",
    "La conosce del test può essere perduta.\n",
    "\n",
    "per questo si utilizzano le **CV:**"
   ],
   "metadata": {
    "collapsed": false
   }
  },
  {
   "cell_type": "code",
   "execution_count": 8,
   "outputs": [
    {
     "data": {
      "text/plain": "array([0.88888889, 0.94444444, 0.97222222, 1.        , 1.        ])"
     },
     "execution_count": 8,
     "metadata": {},
     "output_type": "execute_result"
    }
   ],
   "source": [
    "from sklearn.model_selection import cross_val_score\n",
    "scores = cross_val_score(model,wines.data,wines.target, cv=5)\n",
    "scores"
   ],
   "metadata": {
    "collapsed": false,
    "ExecuteTime": {
     "start_time": "2023-05-19T18:06:04.503476Z",
     "end_time": "2023-05-19T18:06:04.730544Z"
    }
   }
  },
  {
   "cell_type": "code",
   "execution_count": 9,
   "outputs": [
    {
     "data": {
      "text/plain": "0.961111111111111"
     },
     "execution_count": 9,
     "metadata": {},
     "output_type": "execute_result"
    }
   ],
   "source": [
    "scores.mean()"
   ],
   "metadata": {
    "collapsed": false,
    "ExecuteTime": {
     "start_time": "2023-05-19T18:08:14.258526Z",
     "end_time": "2023-05-19T18:08:14.262464Z"
    }
   }
  },
  {
   "cell_type": "markdown",
   "source": [
    "## Cross  validate:\n",
    "\n",
    "la `cross_validate` si differenzia con la `cross_val_score` per due motivi:\n",
    "\n",
    "1. Permette di specificare più metriche per la stessa valutazione\n",
    "2. ritorna un dict che contiene i tempi di fit e dello score, oltre al test score"
   ],
   "metadata": {
    "collapsed": false
   }
  },
  {
   "cell_type": "code",
   "execution_count": 10,
   "outputs": [
    {
     "data": {
      "text/plain": "['fit_time',\n 'score_time',\n 'test_accuracy',\n 'test_precision_macro',\n 'test_recall_macro']"
     },
     "execution_count": 10,
     "metadata": {},
     "output_type": "execute_result"
    }
   ],
   "source": [
    "from sklearn.model_selection import cross_validate\n",
    "scoring = ['precision_macro', 'recall_macro','accuracy']\n",
    "scores = cross_validate(model, wines.data, wines.target, scoring= scoring,cv=5)\n",
    "sorted(scores.keys())"
   ],
   "metadata": {
    "collapsed": false,
    "ExecuteTime": {
     "start_time": "2023-05-19T18:16:48.505460Z",
     "end_time": "2023-05-19T18:16:48.726115Z"
    }
   }
  },
  {
   "cell_type": "code",
   "execution_count": 11,
   "outputs": [
    {
     "data": {
      "text/plain": "array([0.8974359 , 0.94405594, 0.97777778, 1.        , 1.        ])"
     },
     "execution_count": 11,
     "metadata": {},
     "output_type": "execute_result"
    }
   ],
   "source": [
    "scores['test_precision_macro']"
   ],
   "metadata": {
    "collapsed": false,
    "ExecuteTime": {
     "start_time": "2023-05-19T18:17:30.639523Z",
     "end_time": "2023-05-19T18:17:30.652127Z"
    }
   }
  },
  {
   "cell_type": "code",
   "execution_count": 12,
   "outputs": [
    {
     "data": {
      "text/plain": "array([0.04588008, 0.038975  , 0.04626799, 0.04268789, 0.03834915])"
     },
     "execution_count": 12,
     "metadata": {},
     "output_type": "execute_result"
    }
   ],
   "source": [
    "scores['fit_time']"
   ],
   "metadata": {
    "collapsed": false,
    "ExecuteTime": {
     "start_time": "2023-05-19T18:17:46.716200Z",
     "end_time": "2023-05-19T18:17:46.728045Z"
    }
   }
  },
  {
   "cell_type": "code",
   "execution_count": 13,
   "outputs": [
    {
     "data": {
      "text/plain": "{'fit_time': array([0.04588008, 0.038975  , 0.04626799, 0.04268789, 0.03834915]),\n 'score_time': array([0.0010941 , 0.00078416, 0.00075316, 0.00066495, 0.00067091]),\n 'test_precision_macro': array([0.8974359 , 0.94405594, 0.97777778, 1.        , 1.        ]),\n 'test_recall_macro': array([0.9047619 , 0.95238095, 0.97222222, 1.        , 1.        ]),\n 'test_accuracy': array([0.88888889, 0.94444444, 0.97222222, 1.        , 1.        ])}"
     },
     "execution_count": 13,
     "metadata": {},
     "output_type": "execute_result"
    }
   ],
   "source": [
    "scores"
   ],
   "metadata": {
    "collapsed": false,
    "ExecuteTime": {
     "start_time": "2023-05-19T18:17:53.848266Z",
     "end_time": "2023-05-19T18:17:53.851144Z"
    }
   }
  },
  {
   "cell_type": "markdown",
   "source": [
    "## Cross validation iterators\n",
    "\n",
    "questa sezione non é obbligatoria ma é doveroso fare un piccolo sunto perché potrebbe comunque arrivare all’esame. Si tratta di una lista di strumenti che generano indici che possono essere utilizzati per dividere un dataset  a seconda di diverse strategie di cross validation.\n",
    "\n",
    "Si possono assumere corrette queste tecniche di cross validation se possiamo assumere  che i dati sono indipendenti gli uni dagli altri e identicamente distribuiti (i.i.d)\n",
    "\n",
    "- **K-fold**\n",
    "- **Repeated K-fold**\n",
    "- **Leave One Out(LOO)**\n",
    "- **Leave P Out(LPO)**\n",
    "- **Shuffle & Split**"
   ],
   "metadata": {
    "collapsed": false
   }
  },
  {
   "cell_type": "markdown",
   "source": [
    "# Dummy estimators:\n",
    "\n",
    "Si tratta di un classificatore “*********stupido”********* che serve unicamente per fare il confronto:\n",
    "il classificatore ha un parametro `strategy`:\n",
    "\n",
    "- `\"most_frequent\"`: predice sempre con la classe più frequente osservata\n",
    "- `“stratified”`: ritorna sempre la classe che ha probabilità 1 nel vettore one-hot nel metodo `predict_proba`\n",
    "- `“uniform”`: genera le predizione in modo uniformemente random\n",
    "- `“constant”`: predice sempre un unica label che viene fornita dall'utente"
   ],
   "metadata": {
    "collapsed": false
   }
  },
  {
   "cell_type": "code",
   "execution_count": 15,
   "outputs": [
    {
     "name": "stdout",
     "output_type": "stream",
     "text": [
      "0.9583333333333334\n"
     ]
    },
    {
     "data": {
      "text/plain": "0.4305555555555556"
     },
     "execution_count": 15,
     "metadata": {},
     "output_type": "execute_result"
    }
   ],
   "source": [
    "from sklearn.dummy import DummyClassifier\n",
    "\n",
    "print(model.score(X_test,y_test))\n",
    "\n",
    "dummy_model = DummyClassifier(strategy=\"most_frequent\",random_state=0)\n",
    "dummy_model.fit(X_train,y_train)\n",
    "result = dummy_model.predict(X_test)\n",
    "\n",
    "accuracy_score(result,y_test)"
   ],
   "metadata": {
    "collapsed": false,
    "ExecuteTime": {
     "start_time": "2023-05-19T18:40:09.095608Z",
     "end_time": "2023-05-19T18:40:09.101561Z"
    }
   }
  },
  {
   "cell_type": "markdown",
   "source": [
    "# GridSearch:\n",
    "\n",
    "Permette di organizzare batterie di test con dei parametri che noi selezioniamo:"
   ],
   "metadata": {
    "collapsed": false
   }
  },
  {
   "cell_type": "code",
   "execution_count": 16,
   "outputs": [
    {
     "data": {
      "text/plain": "GridSearchCV(cv=5, estimator=SVC(),\n             param_grid={'C': [0.1, 1, 10],\n                         'kernel': ('linear', 'rbf', 'poly')})"
     },
     "execution_count": 16,
     "metadata": {},
     "output_type": "execute_result"
    }
   ],
   "source": [
    "from sklearn.model_selection import GridSearchCV\n",
    "\n",
    "# specifichiamo i parametri\n",
    "params = {'kernel':('linear','rbf','poly'), 'C':[0.1,1,10]} # due parametri  -> farà 9 *  5 = 45 tester -> sono molti per numero molto grandi\n",
    "model = svm.SVC(gamma=\"scale\")\n",
    "grid_model = GridSearchCV(model,params,cv=5)\n",
    "grid_model.fit(wines.data,wines.target)"
   ],
   "metadata": {
    "collapsed": false,
    "ExecuteTime": {
     "start_time": "2023-05-19T19:01:50.208238Z",
     "end_time": "2023-05-19T19:01:51.170550Z"
    }
   }
  },
  {
   "cell_type": "code",
   "execution_count": 18,
   "outputs": [
    {
     "data": {
      "text/plain": "{'cv': 5,\n 'error_score': nan,\n 'estimator__C': 1.0,\n 'estimator__break_ties': False,\n 'estimator__cache_size': 200,\n 'estimator__class_weight': None,\n 'estimator__coef0': 0.0,\n 'estimator__decision_function_shape': 'ovr',\n 'estimator__degree': 3,\n 'estimator__gamma': 'scale',\n 'estimator__kernel': 'rbf',\n 'estimator__max_iter': -1,\n 'estimator__probability': False,\n 'estimator__random_state': None,\n 'estimator__shrinking': True,\n 'estimator__tol': 0.001,\n 'estimator__verbose': False,\n 'estimator': SVC(),\n 'n_jobs': None,\n 'param_grid': {'kernel': ('linear', 'rbf', 'poly'), 'C': [0.1, 1, 10]},\n 'pre_dispatch': '2*n_jobs',\n 'refit': True,\n 'return_train_score': False,\n 'scoring': None,\n 'verbose': 0}"
     },
     "execution_count": 18,
     "metadata": {},
     "output_type": "execute_result"
    }
   ],
   "source": [
    "grid_model.get_params() # dice i parametri utilizzati"
   ],
   "metadata": {
    "collapsed": false,
    "ExecuteTime": {
     "start_time": "2023-05-19T19:02:13.097237Z",
     "end_time": "2023-05-19T19:02:13.111402Z"
    }
   }
  },
  {
   "cell_type": "code",
   "execution_count": 20,
   "outputs": [
    {
     "data": {
      "text/plain": "{'mean_fit_time': array([0.03493199, 0.00134368, 0.00074987, 0.04230094, 0.00107145,\n        0.00075331, 0.09673796, 0.00091724, 0.00071335]),\n 'std_fit_time': array([1.17424002e-02, 7.01978799e-05, 2.48364881e-05, 4.65304560e-03,\n        3.82386536e-05, 4.24638415e-05, 2.73313969e-02, 5.24675607e-05,\n        6.83698689e-05]),\n 'mean_score_time': array([0.00028195, 0.0003911 , 0.00022244, 0.00020466, 0.00041075,\n        0.00026903, 0.00027466, 0.0003458 , 0.00021272]),\n 'std_score_time': array([7.07235833e-05, 1.12027306e-05, 7.74034647e-06, 5.91542585e-05,\n        6.65317543e-05, 5.08894055e-05, 5.10552108e-05, 1.57548325e-05,\n        1.22811259e-05]),\n 'param_C': masked_array(data=[0.1, 0.1, 0.1, 1, 1, 1, 10, 10, 10],\n              mask=[False, False, False, False, False, False, False, False,\n                    False],\n        fill_value='?',\n             dtype=object),\n 'param_kernel': masked_array(data=['linear', 'rbf', 'poly', 'linear', 'rbf', 'poly',\n                    'linear', 'rbf', 'poly'],\n              mask=[False, False, False, False, False, False, False, False,\n                    False],\n        fill_value='?',\n             dtype=object),\n 'params': [{'C': 0.1, 'kernel': 'linear'},\n  {'C': 0.1, 'kernel': 'rbf'},\n  {'C': 0.1, 'kernel': 'poly'},\n  {'C': 1, 'kernel': 'linear'},\n  {'C': 1, 'kernel': 'rbf'},\n  {'C': 1, 'kernel': 'poly'},\n  {'C': 10, 'kernel': 'linear'},\n  {'C': 10, 'kernel': 'rbf'},\n  {'C': 10, 'kernel': 'poly'}],\n 'split0_test_score': array([0.91666667, 0.66666667, 0.66666667, 0.88888889, 0.63888889,\n        0.63888889, 0.88888889, 0.75      , 0.66666667]),\n 'split1_test_score': array([0.91666667, 0.61111111, 0.58333333, 0.94444444, 0.61111111,\n        0.58333333, 0.97222222, 0.66666667, 0.61111111]),\n 'split2_test_score': array([0.97222222, 0.69444444, 0.63888889, 0.97222222, 0.63888889,\n        0.63888889, 0.94444444, 0.66666667, 0.69444444]),\n 'split3_test_score': array([1.        , 0.65714286, 0.6       , 1.        , 0.68571429,\n        0.65714286, 1.        , 0.71428571, 0.68571429]),\n 'split4_test_score': array([1.        , 0.74285714, 0.74285714, 1.        , 0.74285714,\n        0.74285714, 1.        , 0.8       , 0.74285714]),\n 'mean_test_score': array([0.96111111, 0.67444444, 0.64634921, 0.96111111, 0.66349206,\n        0.65222222, 0.96111111, 0.71952381, 0.68015873]),\n 'std_test_score': array([0.03767961, 0.043477  , 0.05639412, 0.04157397, 0.04636171,\n        0.05165295, 0.04157397, 0.0510302 , 0.04269812]),\n 'rank_test_score': array([1, 6, 9, 1, 7, 8, 1, 4, 5], dtype=int32)}"
     },
     "execution_count": 20,
     "metadata": {},
     "output_type": "execute_result"
    }
   ],
   "source": [
    "grid_model.cv_results_"
   ],
   "metadata": {
    "collapsed": false,
    "ExecuteTime": {
     "start_time": "2023-05-19T19:03:08.011524Z",
     "end_time": "2023-05-19T19:03:08.014584Z"
    }
   }
  },
  {
   "cell_type": "code",
   "execution_count": 21,
   "outputs": [
    {
     "data": {
      "text/plain": "SVC(C=0.1, kernel='linear')"
     },
     "execution_count": 21,
     "metadata": {},
     "output_type": "execute_result"
    }
   ],
   "source": [
    "grid_model.best_estimator_"
   ],
   "metadata": {
    "collapsed": false,
    "ExecuteTime": {
     "start_time": "2023-05-19T19:03:22.274442Z",
     "end_time": "2023-05-19T19:03:22.278419Z"
    }
   }
  },
  {
   "cell_type": "code",
   "execution_count": 24,
   "outputs": [
    {
     "data": {
      "text/plain": "0.961111111111111"
     },
     "execution_count": 24,
     "metadata": {},
     "output_type": "execute_result"
    }
   ],
   "source": [
    "grid_model.best_score_"
   ],
   "metadata": {
    "collapsed": false,
    "ExecuteTime": {
     "start_time": "2023-05-19T19:04:02.548021Z",
     "end_time": "2023-05-19T19:04:02.551531Z"
    }
   }
  }
 ],
 "metadata": {
  "kernelspec": {
   "display_name": "Python 3",
   "language": "python",
   "name": "python3"
  },
  "language_info": {
   "codemirror_mode": {
    "name": "ipython",
    "version": 2
   },
   "file_extension": ".py",
   "mimetype": "text/x-python",
   "name": "python",
   "nbconvert_exporter": "python",
   "pygments_lexer": "ipython2",
   "version": "2.7.6"
  }
 },
 "nbformat": 4,
 "nbformat_minor": 0
}
