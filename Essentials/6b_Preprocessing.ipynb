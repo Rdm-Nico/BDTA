{
 "nbformat": 4,
 "nbformat_minor": 0,
 "metadata": {
  "kernelspec": {
   "display_name": "Python 3",
   "language": "python",
   "name": "python3"
  },
  "language_info": {
   "codemirror_mode": {
    "name": "ipython",
    "version": 3
   },
   "file_extension": ".py",
   "mimetype": "text/x-python",
   "name": "python",
   "nbconvert_exporter": "python",
   "pygments_lexer": "ipython3",
   "version": "3.6.9"
  },
  "colab": {
   "name": "6b_Preprocessing.ipynb",
   "provenance": [],
   "collapsed_sections": []
  }
 },
 "cells": [
  {
   "cell_type": "markdown",
   "metadata": {
    "id": "uEZDBAtRNkGD"
   },
   "source": [
    "# Preprocessing data"
   ]
  },
  {
   "cell_type": "markdown",
   "metadata": {
    "id": "FHqUR4F1NkGF"
   },
   "source": [
    "### Standardization, or mean removal and variance scaling\n"
   ]
  },
  {
   "cell_type": "markdown",
   "metadata": {
    "id": "j-lzTNXTNkGG"
   },
   "source": [
    "Standardization of datasets is a common requirement for many machine learning estimators implemented in scikit-learn; \n",
    "\n",
    "In practice we often ignore the shape of the distribution and just transform the data to center it by removing the mean value of each feature, then scale it by dividing non-constant features by their standard deviation.\n",
    "\n"
   ]
  },
  {
   "cell_type": "code",
   "metadata": {
    "id": "n8kBGdMJNkGG"
   },
   "source": [
    "from sklearn import preprocessing\n",
    "import numpy as np\n",
    "import pandas as pd\n",
    "\n",
    "X_train = np.array([[ 1., -1.,  2.],\n",
    "                    [ 2.,  0.,  0.],\n",
    "                    [ 0.,  1., -1.]])\n",
    "\n",
    "X_scaled = preprocessing.scale(X_train)\n",
    "\n",
    "X_scaled     "
   ],
   "execution_count": null,
   "outputs": []
  },
  {
   "cell_type": "code",
   "metadata": {
    "id": "lyQzUCIFK215"
   },
   "source": [
    "X_train.std(axis=0)"
   ],
   "execution_count": null,
   "outputs": []
  },
  {
   "cell_type": "code",
   "metadata": {
    "id": "0urVF9uEKxWd"
   },
   "source": [
    "X_train.mean(axis=0)"
   ],
   "execution_count": null,
   "outputs": []
  },
  {
   "cell_type": "code",
   "metadata": {
    "id": "BJnV7Wi6NkGJ"
   },
   "source": [
    "X_scaled.mean(axis=0)"
   ],
   "execution_count": null,
   "outputs": []
  },
  {
   "cell_type": "code",
   "metadata": {
    "id": "ezZ8RGESNkGM"
   },
   "source": [
    "X_scaled.std(axis=0)"
   ],
   "execution_count": null,
   "outputs": []
  },
  {
   "cell_type": "markdown",
   "metadata": {
    "id": "V0dwh-YHNkGO"
   },
   "source": [
    "The standard score of a sample x is calculated as:\n",
    "<tt>z = (x - u) / s</tt>\n",
    "where u is the mean of the training samples or zero if <tt>with_mean=False</tt>, and s is the standard deviation of the training samples or one if <tt>with_std=False</tt>.\n",
    "\n",
    "\n",
    "The preprocessing module further provides a utility class StandardScaler that implements the Transformer API to compute the mean and standard deviation on a training set so as to be able to later reapply the same transformation on the testing set."
   ]
  },
  {
   "cell_type": "code",
   "metadata": {
    "id": "BQCBHOBzNkGP"
   },
   "source": [
    "sss = preprocessing.StandardScaler()\n",
    "scaler = sss.fit(X_train)"
   ],
   "execution_count": null,
   "outputs": []
  },
  {
   "cell_type": "code",
   "metadata": {
    "id": "W9CLD7iGNkGR"
   },
   "source": [
    "scaler"
   ],
   "execution_count": null,
   "outputs": []
  },
  {
   "cell_type": "code",
   "metadata": {
    "id": "kriAXDyPNkGT"
   },
   "source": [
    "scaler.mean_ "
   ],
   "execution_count": null,
   "outputs": []
  },
  {
   "cell_type": "code",
   "metadata": {
    "id": "yjwkXPiZNkGX"
   },
   "source": [
    "scaler.scale_ "
   ],
   "execution_count": null,
   "outputs": []
  },
  {
   "cell_type": "code",
   "metadata": {
    "id": "g81V64OTNkGZ"
   },
   "source": [
    "newX_Train = scaler.transform(X_train) "
   ],
   "execution_count": null,
   "outputs": []
  },
  {
   "cell_type": "code",
   "metadata": {
    "id": "rhU4v1Xr8ZSd"
   },
   "source": [
    "scaler.fit(X_train)\n",
    "scaler.transform(X_train)"
   ],
   "execution_count": null,
   "outputs": []
  },
  {
   "cell_type": "code",
   "metadata": {
    "id": "dOtzJFf5NkGc"
   },
   "source": [
    "scaler.fit_transform(X_train)"
   ],
   "execution_count": null,
   "outputs": []
  },
  {
   "cell_type": "code",
   "metadata": {
    "id": "65edBiNfmlD7"
   },
   "source": [
    "scaler.fit_transform(X_train).mean()"
   ],
   "execution_count": null,
   "outputs": []
  },
  {
   "cell_type": "code",
   "metadata": {
    "id": "3sRYq5KPmqv-"
   },
   "source": [
    "scaler.fit_transform(X_train).std()"
   ],
   "execution_count": null,
   "outputs": []
  },
  {
   "cell_type": "markdown",
   "metadata": {
    "id": "5gCw0tHgNkGf"
   },
   "source": [
    "The scaler instance can then be used on new data to transform it the same way it did on the training set\n",
    "\n"
   ]
  },
  {
   "cell_type": "code",
   "metadata": {
    "id": "dxkGCwKmNkGf"
   },
   "source": [
    "X_test = [[-1., 1., 0.]]\n",
    "scaler.transform(X_test)    "
   ],
   "execution_count": null,
   "outputs": []
  },
  {
   "cell_type": "markdown",
   "metadata": {
    "id": "WuqSnnTRNkGh"
   },
   "source": [
    "### Scaling features to a range"
   ]
  },
  {
   "cell_type": "markdown",
   "metadata": {
    "id": "ZB5x4XOGNkGj"
   },
   "source": [
    "An alternative standardization is scaling features to lie between a given minimum and maximum value, often between zero and one, or so that the maximum absolute value of each feature is scaled to unit size."
   ]
  },
  {
   "cell_type": "code",
   "metadata": {
    "id": "vkb3NZgLNkGj",
    "executionInfo": {
     "status": "ok",
     "timestamp": 1636360754524,
     "user_tz": -60,
     "elapsed": 413,
     "user": {
      "displayName": "Francesco GUERRA",
      "photoUrl": "https://lh3.googleusercontent.com/a-/AOh14Gj54LW1VQb8d_pLRjRGNzSfR2PyDbQA_Six3Lic=s64",
      "userId": "03589851697809460716"
     }
    }
   },
   "source": [
    "X_train = np.array([[ 1., -1.,  2.],\n",
    "                    [ 2.,  0.,  0.],\n",
    "                    [ 0.,  1., -1.]])"
   ],
   "execution_count": 11,
   "outputs": []
  },
  {
   "cell_type": "code",
   "metadata": {
    "id": "9XZVQLdaNkGl",
    "executionInfo": {
     "status": "ok",
     "timestamp": 1636360754951,
     "user_tz": -60,
     "elapsed": 2,
     "user": {
      "displayName": "Francesco GUERRA",
      "photoUrl": "https://lh3.googleusercontent.com/a-/AOh14Gj54LW1VQb8d_pLRjRGNzSfR2PyDbQA_Six3Lic=s64",
      "userId": "03589851697809460716"
     }
    }
   },
   "source": [
    "min_max_scaler = preprocessing.MinMaxScaler((0,1)) # default [0,1]"
   ],
   "execution_count": 12,
   "outputs": []
  },
  {
   "cell_type": "code",
   "metadata": {
    "id": "o-v5jbBINkGo",
    "colab": {
     "base_uri": "https://localhost:8080/"
    },
    "executionInfo": {
     "status": "ok",
     "timestamp": 1636360755311,
     "user_tz": -60,
     "elapsed": 2,
     "user": {
      "displayName": "Francesco GUERRA",
      "photoUrl": "https://lh3.googleusercontent.com/a-/AOh14Gj54LW1VQb8d_pLRjRGNzSfR2PyDbQA_Six3Lic=s64",
      "userId": "03589851697809460716"
     }
    },
    "outputId": "548de7fb-7f31-4b35-99d6-5c347f123316"
   },
   "source": [
    "min_max_scaler.fit(X_train)"
   ],
   "execution_count": 13,
   "outputs": [
    {
     "output_type": "execute_result",
     "data": {
      "text/plain": [
       "MinMaxScaler(copy=True, feature_range=(0, 1))"
      ]
     },
     "metadata": {},
     "execution_count": 13
    }
   ]
  },
  {
   "cell_type": "markdown",
   "metadata": {
    "id": "Z61V6091s3VV"
   },
   "source": []
  },
  {
   "cell_type": "code",
   "metadata": {
    "id": "DP0CR5gaNkGq",
    "colab": {
     "base_uri": "https://localhost:8080/"
    },
    "executionInfo": {
     "status": "ok",
     "timestamp": 1636360756414,
     "user_tz": -60,
     "elapsed": 3,
     "user": {
      "displayName": "Francesco GUERRA",
      "photoUrl": "https://lh3.googleusercontent.com/a-/AOh14Gj54LW1VQb8d_pLRjRGNzSfR2PyDbQA_Six3Lic=s64",
      "userId": "03589851697809460716"
     }
    },
    "outputId": "1c1f3825-ac99-48bf-e03d-5fadd2a0b542"
   },
   "source": [
    " min_max_scaler.transform(X_train)"
   ],
   "execution_count": 14,
   "outputs": [
    {
     "output_type": "execute_result",
     "data": {
      "text/plain": [
       "array([[0.5       , 0.        , 1.        ],\n",
       "       [1.        , 0.5       , 0.33333333],\n",
       "       [0.        , 1.        , 0.        ]])"
      ]
     },
     "metadata": {},
     "execution_count": 14
    }
   ]
  },
  {
   "cell_type": "code",
   "metadata": {
    "id": "l5MDQQgjNkGs",
    "executionInfo": {
     "status": "ok",
     "timestamp": 1636360757423,
     "user_tz": -60,
     "elapsed": 4,
     "user": {
      "displayName": "Francesco GUERRA",
      "photoUrl": "https://lh3.googleusercontent.com/a-/AOh14Gj54LW1VQb8d_pLRjRGNzSfR2PyDbQA_Six3Lic=s64",
      "userId": "03589851697809460716"
     }
    }
   },
   "source": [
    "X_train_minmax = min_max_scaler.fit_transform(X_train)"
   ],
   "execution_count": 15,
   "outputs": []
  },
  {
   "cell_type": "code",
   "metadata": {
    "id": "pT5W7z2INkGv",
    "colab": {
     "base_uri": "https://localhost:8080/"
    },
    "executionInfo": {
     "status": "ok",
     "timestamp": 1636360762559,
     "user_tz": -60,
     "elapsed": 349,
     "user": {
      "displayName": "Francesco GUERRA",
      "photoUrl": "https://lh3.googleusercontent.com/a-/AOh14Gj54LW1VQb8d_pLRjRGNzSfR2PyDbQA_Six3Lic=s64",
      "userId": "03589851697809460716"
     }
    },
    "outputId": "e6f5596a-65d2-445a-ef11-88fa277f99d0"
   },
   "source": [
    "X_train_minmax"
   ],
   "execution_count": 16,
   "outputs": [
    {
     "output_type": "execute_result",
     "data": {
      "text/plain": [
       "array([[0.5       , 0.        , 1.        ],\n",
       "       [1.        , 0.5       , 0.33333333],\n",
       "       [0.        , 1.        , 0.        ]])"
      ]
     },
     "metadata": {},
     "execution_count": 16
    }
   ]
  },
  {
   "cell_type": "code",
   "metadata": {
    "id": "gpMedwIGNkGx",
    "colab": {
     "base_uri": "https://localhost:8080/"
    },
    "executionInfo": {
     "status": "ok",
     "timestamp": 1636360770266,
     "user_tz": -60,
     "elapsed": 367,
     "user": {
      "displayName": "Francesco GUERRA",
      "photoUrl": "https://lh3.googleusercontent.com/a-/AOh14Gj54LW1VQb8d_pLRjRGNzSfR2PyDbQA_Six3Lic=s64",
      "userId": "03589851697809460716"
     }
    },
    "outputId": "3fc08a1a-ea0d-4308-81ea-5a70afacf25b"
   },
   "source": [
    "X_test = np.array([[-3., -1.,  4.]])\n",
    "X_test_minmax = min_max_scaler.transform(X_test)\n",
    "X_test_minmax"
   ],
   "execution_count": 17,
   "outputs": [
    {
     "output_type": "execute_result",
     "data": {
      "text/plain": [
       "array([[-1.5       ,  0.        ,  1.66666667]])"
      ]
     },
     "metadata": {},
     "execution_count": 17
    }
   ]
  },
  {
   "cell_type": "code",
   "metadata": {
    "id": "atAwNYv5m5rA"
   },
   "source": [
    "X_train.mean()"
   ],
   "execution_count": null,
   "outputs": []
  },
  {
   "cell_type": "code",
   "metadata": {
    "id": "QcsxNiD4m9g8"
   },
   "source": [
    "X_train_minmax.mean()"
   ],
   "execution_count": null,
   "outputs": []
  },
  {
   "cell_type": "code",
   "metadata": {
    "id": "ofu6y-QRm9dV"
   },
   "source": [
    "X_train.std()"
   ],
   "execution_count": null,
   "outputs": []
  },
  {
   "cell_type": "code",
   "metadata": {
    "id": "8fynT2gem9Z2"
   },
   "source": [
    "X_train_minmax.std()"
   ],
   "execution_count": null,
   "outputs": []
  },
  {
   "cell_type": "markdown",
   "metadata": {
    "id": "344q1JOwNkG0"
   },
   "source": [
    "The transformation is computed as:\n",
    "\n",
    "<tt>X_scaled = scale * X + min - X.min(axis=0) * scale</tt>\n",
    "\n",
    "where <tt>scale = (max - min) / (X.max(axis=0) - X.min(axis=0))</tt>"
   ]
  },
  {
   "cell_type": "code",
   "metadata": {
    "id": "t6USunY-NkG0"
   },
   "source": [
    "min_max_scaler.scale_  "
   ],
   "execution_count": null,
   "outputs": []
  },
  {
   "cell_type": "markdown",
   "metadata": {
    "id": "_l-9AZsRNkHD"
   },
   "source": [
    "If your data contains many outliers, scaling using the mean and variance of the data is likely to not work very well. In these cases, you can use robust_scale and RobustScaler (x_scaled = x / max(abs(x)))\n",
    "as drop-in replacements instead. They use more robust estimates for the center and range of your data.\n",
    "\n"
   ]
  },
  {
   "cell_type": "code",
   "metadata": {
    "id": "ExvvyfZANkHD",
    "colab": {
     "base_uri": "https://localhost:8080/"
    },
    "executionInfo": {
     "status": "ok",
     "timestamp": 1636361124206,
     "user_tz": -60,
     "elapsed": 407,
     "user": {
      "displayName": "Francesco GUERRA",
      "photoUrl": "https://lh3.googleusercontent.com/a-/AOh14Gj54LW1VQb8d_pLRjRGNzSfR2PyDbQA_Six3Lic=s64",
      "userId": "03589851697809460716"
     }
    },
    "outputId": "48089699-8359-492b-d2cd-93b4c3e8589a"
   },
   "source": [
    "from sklearn.preprocessing import RobustScaler\n",
    "X = [[ 1., -2.,  2.],\n",
    "     [ -2.,  1.,  3.],\n",
    "     [ 4.,  1., -2.]]\n",
    "X"
   ],
   "execution_count": 18,
   "outputs": [
    {
     "output_type": "execute_result",
     "data": {
      "text/plain": [
       "[[1.0, -2.0, 2.0], [-2.0, 1.0, 3.0], [4.0, 1.0, -2.0]]"
      ]
     },
     "metadata": {},
     "execution_count": 18
    }
   ]
  },
  {
   "cell_type": "code",
   "metadata": {
    "id": "tKo-0I_hNkHG"
   },
   "source": [
    "transformer = RobustScaler().fit(X)"
   ],
   "execution_count": null,
   "outputs": []
  },
  {
   "cell_type": "code",
   "metadata": {
    "id": "y2ypnMnRNkHO"
   },
   "source": [
    "transformer  "
   ],
   "execution_count": null,
   "outputs": []
  },
  {
   "cell_type": "code",
   "metadata": {
    "id": "KKUzJzNl-dDL"
   },
   "source": [
    "transformer.scale_"
   ],
   "execution_count": null,
   "outputs": []
  },
  {
   "cell_type": "code",
   "metadata": {
    "id": "eZLEqPrzNkHS"
   },
   "source": [
    "transformer.transform(X)"
   ],
   "execution_count": null,
   "outputs": []
  },
  {
   "cell_type": "markdown",
   "metadata": {
    "id": "RSiUhq3wNkHU"
   },
   "source": [
    "## Normalization\n"
   ]
  },
  {
   "cell_type": "markdown",
   "metadata": {
    "id": "tYDtanXtNkHU"
   },
   "source": [
    "Normalization is the process of scaling individual samples to have unit norm. This process can be useful if you plan to use a quadratic form such as the dot-product or any other kernel to quantify the similarity of any pair of samples.\n",
    "\n",
    "‘l1’\n",
    "The l1 norm uses the sum of all the values as and thus gives equal penalty to all parameters, enforcing sparsity.\n",
    "x_normalized = x / sum(X)\n",
    "\n",
    "\n",
    "‘l2’\n",
    "The l2 norm uses the square root of the sum of all the squared values. This creates smoothness and rotational invariance. Some models, like PCA, assume rotational invariance, and so l2 will perform better.\n",
    "x_normalized = x / sqrt(sum((i**2) for i in X))"
   ]
  },
  {
   "cell_type": "code",
   "metadata": {
    "id": "MVY0yz-uNkHV",
    "executionInfo": {
     "status": "ok",
     "timestamp": 1636361325375,
     "user_tz": -60,
     "elapsed": 491,
     "user": {
      "displayName": "Francesco GUERRA",
      "photoUrl": "https://lh3.googleusercontent.com/a-/AOh14Gj54LW1VQb8d_pLRjRGNzSfR2PyDbQA_Six3Lic=s64",
      "userId": "03589851697809460716"
     }
    }
   },
   "source": [
    "X = np.array([[1., -1.,  2.],\n",
    "     [ 2.,  0.,  0.],\n",
    "     [ 0.,  1., -1.]])\n",
    "X_normalized = preprocessing.normalize(X, norm='l1')"
   ],
   "execution_count": 22,
   "outputs": []
  },
  {
   "cell_type": "code",
   "metadata": {
    "id": "XgpfOf3fy7FC",
    "executionInfo": {
     "status": "ok",
     "timestamp": 1636361325819,
     "user_tz": -60,
     "elapsed": 1,
     "user": {
      "displayName": "Francesco GUERRA",
      "photoUrl": "https://lh3.googleusercontent.com/a-/AOh14Gj54LW1VQb8d_pLRjRGNzSfR2PyDbQA_Six3Lic=s64",
      "userId": "03589851697809460716"
     }
    }
   },
   "source": [
    "# the same as previous X_normalized = preprocessing.Normalizer(norm='l2').fit_transform(X)"
   ],
   "execution_count": 23,
   "outputs": []
  },
  {
   "cell_type": "code",
   "metadata": {
    "id": "FE-rv9EeNkHY",
    "colab": {
     "base_uri": "https://localhost:8080/"
    },
    "executionInfo": {
     "status": "ok",
     "timestamp": 1636361326183,
     "user_tz": -60,
     "elapsed": 4,
     "user": {
      "displayName": "Francesco GUERRA",
      "photoUrl": "https://lh3.googleusercontent.com/a-/AOh14Gj54LW1VQb8d_pLRjRGNzSfR2PyDbQA_Six3Lic=s64",
      "userId": "03589851697809460716"
     }
    },
    "outputId": "09ec73be-3cc2-415d-f20b-f07948dadd78"
   },
   "source": [
    "X_normalized                                      "
   ],
   "execution_count": 24,
   "outputs": [
    {
     "output_type": "execute_result",
     "data": {
      "text/plain": [
       "array([[ 0.25, -0.25,  0.5 ],\n",
       "       [ 1.  ,  0.  ,  0.  ],\n",
       "       [ 0.  ,  0.5 , -0.5 ]])"
      ]
     },
     "metadata": {},
     "execution_count": 24
    }
   ]
  },
  {
   "cell_type": "code",
   "metadata": {
    "id": "WZvskl7f_EV-",
    "colab": {
     "base_uri": "https://localhost:8080/"
    },
    "executionInfo": {
     "status": "ok",
     "timestamp": 1636361303886,
     "user_tz": -60,
     "elapsed": 398,
     "user": {
      "displayName": "Francesco GUERRA",
      "photoUrl": "https://lh3.googleusercontent.com/a-/AOh14Gj54LW1VQb8d_pLRjRGNzSfR2PyDbQA_Six3Lic=s64",
      "userId": "03589851697809460716"
     }
    },
    "outputId": "9ce0ee5c-bc2f-4d66-8f58-94af850b0e9b"
   },
   "source": [
    "np.sqrt(0.40824829**2 + 0.40824829**2 + 0.81649658**2)"
   ],
   "execution_count": 21,
   "outputs": [
    {
     "output_type": "execute_result",
     "data": {
      "text/plain": [
       "0.9999999988637723"
      ]
     },
     "metadata": {},
     "execution_count": 21
    }
   ]
  },
  {
   "cell_type": "markdown",
   "metadata": {
    "id": "3KCZQAmrxEHP"
   },
   "source": [
    "You can refer to [https://scikit-learn.org/stable/auto_examples/preprocessing/plot_all_scaling.html](https://scikit-learn.org/stable/auto_examples/preprocessing/plot_all_scaling.html) for more details."
   ]
  },
  {
   "cell_type": "markdown",
   "metadata": {
    "id": "VEsK6xb9NkHb"
   },
   "source": [
    "##  Encoding categorical features"
   ]
  },
  {
   "cell_type": "code",
   "metadata": {
    "id": "l68BkGzK_-Wl",
    "colab": {
     "base_uri": "https://localhost:8080/"
    },
    "executionInfo": {
     "status": "ok",
     "timestamp": 1636361526865,
     "user_tz": -60,
     "elapsed": 378,
     "user": {
      "displayName": "Francesco GUERRA",
      "photoUrl": "https://lh3.googleusercontent.com/a-/AOh14Gj54LW1VQb8d_pLRjRGNzSfR2PyDbQA_Six3Lic=s64",
      "userId": "03589851697809460716"
     }
    },
    "outputId": "e4876851-a585-4f85-c919-e482137d89c1"
   },
   "source": [
    "X = [['male', 'from US', 'uses Safari'], \n",
    "     ['female', 'from Europe', 'uses Firefox']]\n",
    "X"
   ],
   "execution_count": 25,
   "outputs": [
    {
     "output_type": "execute_result",
     "data": {
      "text/plain": [
       "[['male', 'from US', 'uses Safari'], ['female', 'from Europe', 'uses Firefox']]"
      ]
     },
     "metadata": {},
     "execution_count": 25
    }
   ]
  },
  {
   "cell_type": "markdown",
   "metadata": {
    "id": "T8NZ92VraEdw"
   },
   "source": []
  },
  {
   "cell_type": "code",
   "metadata": {
    "id": "ZSWKCxGRNkHb",
    "colab": {
     "base_uri": "https://localhost:8080/"
    },
    "executionInfo": {
     "status": "ok",
     "timestamp": 1636361538234,
     "user_tz": -60,
     "elapsed": 501,
     "user": {
      "displayName": "Francesco GUERRA",
      "photoUrl": "https://lh3.googleusercontent.com/a-/AOh14Gj54LW1VQb8d_pLRjRGNzSfR2PyDbQA_Six3Lic=s64",
      "userId": "03589851697809460716"
     }
    },
    "outputId": "ba228733-1c01-4684-abcd-147b55027e6c"
   },
   "source": [
    "enc = preprocessing.OneHotEncoder(handle_unknown='error', sparse=True)\n",
    "X = [['male', 'from US', 'uses Safari'], ['female', 'from Europe', 'uses Firefox']]\n",
    "enc.fit(X)  "
   ],
   "execution_count": 27,
   "outputs": [
    {
     "output_type": "execute_result",
     "data": {
      "text/plain": [
       "OneHotEncoder(categories='auto', drop=None, dtype=<class 'numpy.float64'>,\n",
       "              handle_unknown='error', sparse=True)"
      ]
     },
     "metadata": {},
     "execution_count": 27
    }
   ]
  },
  {
   "cell_type": "code",
   "metadata": {
    "id": "Y9th2WJwNkHh",
    "colab": {
     "base_uri": "https://localhost:8080/"
    },
    "executionInfo": {
     "status": "ok",
     "timestamp": 1636361539498,
     "user_tz": -60,
     "elapsed": 2,
     "user": {
      "displayName": "Francesco GUERRA",
      "photoUrl": "https://lh3.googleusercontent.com/a-/AOh14Gj54LW1VQb8d_pLRjRGNzSfR2PyDbQA_Six3Lic=s64",
      "userId": "03589851697809460716"
     }
    },
    "outputId": "ade065c2-1981-488c-8592-306141610673"
   },
   "source": [
    "enc.transform([['female', 'from US', 'uses Safari'],\n",
    "               ['male', 'from Europe', 'uses Firefox']]).toarray()"
   ],
   "execution_count": 28,
   "outputs": [
    {
     "output_type": "execute_result",
     "data": {
      "text/plain": [
       "array([[1., 0., 0., 1., 0., 1.],\n",
       "       [0., 1., 1., 0., 1., 0.]])"
      ]
     },
     "metadata": {},
     "execution_count": 28
    }
   ]
  },
  {
   "cell_type": "code",
   "metadata": {
    "id": "G6jJ97jjM4nh"
   },
   "source": [
    "enc.transform([['male', 'from US', 'uses Safari'], ['female', 'from Europe', 'uses Firefox']]).toarray()"
   ],
   "execution_count": null,
   "outputs": []
  },
  {
   "cell_type": "code",
   "metadata": {
    "id": "aMJUhjNnNEnN"
   },
   "source": [
    "enc.categories_"
   ],
   "execution_count": null,
   "outputs": []
  },
  {
   "cell_type": "code",
   "metadata": {
    "id": "fpTsdfphAaI2"
   },
   "source": [
    "new_features = []\n",
    "for i in enc.categories_:\n",
    "  for j in i:\n",
    "    print(j)\n",
    "    new_features.append(j)\n",
    "\n",
    "print(new_features)"
   ],
   "execution_count": null,
   "outputs": []
  },
  {
   "cell_type": "code",
   "metadata": {
    "id": "JMHliDR3Aqu9"
   },
   "source": [
    "pd.DataFrame(X, columns=['gender', 'locations', 'browser'])"
   ],
   "execution_count": null,
   "outputs": []
  },
  {
   "cell_type": "code",
   "metadata": {
    "id": "tzwyZ_k0A0JX"
   },
   "source": [
    "X = [['male', 'from Asia', 'uses Safari'], ['female', 'from Europe', 'uses Firefox'], ['male', 'from Asia', 'uses Safari']]\n",
    "enc.fit(X)\n",
    "\n",
    "new_features = []\n",
    "for i in enc.categories_:\n",
    "  for j in i:\n",
    "    new_features.append(j)\n",
    "\n",
    "\n",
    "Xnew = enc.transform(X).toarray()\n",
    "pd.DataFrame(Xnew, columns=new_features)"
   ],
   "execution_count": null,
   "outputs": []
  },
  {
   "cell_type": "code",
   "metadata": {
    "id": "6AskmDhMNkHj"
   },
   "source": [
    "enc.categories_"
   ],
   "execution_count": null,
   "outputs": []
  },
  {
   "cell_type": "markdown",
   "metadata": {
    "id": "-V1Vy9yAipjK"
   },
   "source": [
    "with fixed categories value"
   ]
  },
  {
   "cell_type": "code",
   "metadata": {
    "id": "aLibdqXaNkHl"
   },
   "source": [
    "genders = ['female', 'male']\n",
    "locations = ['from Africa', 'from Asia', 'from Europe', 'from US']\n",
    "browsers = ['uses Chrome', 'uses Firefox', 'uses IE', 'uses Safari']\n",
    "enc = preprocessing.OneHotEncoder(categories=[genders, locations, browsers])\n",
    "\n",
    "# Note that for there are missing categorical values for the 2nd and 3rd\n",
    "# feature\n",
    "\n",
    "\n",
    "X = [['male', 'from US', 'uses Safari'], ['female', 'from Europe', 'uses Firefox']]\n",
    "enc.fit(X) "
   ],
   "execution_count": null,
   "outputs": []
  },
  {
   "cell_type": "code",
   "metadata": {
    "id": "9i8jFXsSNkHm"
   },
   "source": [
    "enc.transform([['female', 'from Asia', 'uses Chrome']]).toarray()\n"
   ],
   "execution_count": null,
   "outputs": []
  },
  {
   "cell_type": "markdown",
   "metadata": {
    "id": "7L3iVHUcilXb"
   },
   "source": [
    "with unknown values"
   ]
  },
  {
   "cell_type": "code",
   "metadata": {
    "id": "8u__9fKWNkHp"
   },
   "source": [
    "enc = preprocessing.OneHotEncoder(handle_unknown='ignore', sparse=True)\n",
    "X = [['male', 'from US', 'uses Safari'], ['female', 'from Europe', 'uses Firefox']]\n",
    "enc.fit(X) "
   ],
   "execution_count": null,
   "outputs": []
  },
  {
   "cell_type": "code",
   "metadata": {
    "id": "LzW4OY6uNkHr"
   },
   "source": [
    "enc.transform([['female', 'from Asia', 'uses Chrome']]).toarray()"
   ],
   "execution_count": null,
   "outputs": []
  },
  {
   "cell_type": "markdown",
   "metadata": {
    "id": "ZvC14g9wO2mD"
   },
   "source": [
    "drop first"
   ]
  },
  {
   "cell_type": "code",
   "metadata": {
    "id": "Kx-2ExMvNkHv"
   },
   "source": [
    "X = [['male', 'from US', 'uses Safari'], ['female', 'from Europe', 'uses Firefox'], ['male', 'from Asia', 'uses Safari'], ['male', 'from Indo', 'uses Safari']]\n",
    "drop_enc = preprocessing.OneHotEncoder(drop='first').fit(X)"
   ],
   "execution_count": null,
   "outputs": []
  },
  {
   "cell_type": "code",
   "metadata": {
    "id": "joARNZbhNkHx"
   },
   "source": [
    "drop_enc.categories_"
   ],
   "execution_count": null,
   "outputs": []
  },
  {
   "cell_type": "code",
   "metadata": {
    "id": "iW6_EJsKNkHz"
   },
   "source": [
    "drop_enc.transform(X).toarray()"
   ],
   "execution_count": null,
   "outputs": []
  },
  {
   "cell_type": "code",
   "metadata": {
    "id": "leLOgea2Dk_J"
   },
   "source": [
    "X"
   ],
   "execution_count": null,
   "outputs": []
  },
  {
   "cell_type": "markdown",
   "metadata": {
    "id": "6UyU3E91NkH1"
   },
   "source": [
    "## Discretization"
   ]
  },
  {
   "cell_type": "markdown",
   "metadata": {
    "id": "_Jo-Rb1BNkH1"
   },
   "source": [
    "Discretization (otherwise known as quantization or binning) provides a way to partition continuous features into discrete values. Certain datasets with continuous features may benefit from discretization, because discretization can transform the dataset of continuous attributes to one with only nominal attributes."
   ]
  },
  {
   "cell_type": "code",
   "metadata": {
    "id": "K3FanZC4NkH1",
    "colab": {
     "base_uri": "https://localhost:8080/"
    },
    "executionInfo": {
     "status": "ok",
     "timestamp": 1636361636318,
     "user_tz": -60,
     "elapsed": 369,
     "user": {
      "displayName": "Francesco GUERRA",
      "photoUrl": "https://lh3.googleusercontent.com/a-/AOh14Gj54LW1VQb8d_pLRjRGNzSfR2PyDbQA_Six3Lic=s64",
      "userId": "03589851697809460716"
     }
    },
    "outputId": "da41186d-681d-452e-b985-87de563d2a3b"
   },
   "source": [
    "X = np.array([[ -3., 5., 15 ],\n",
    "              [  0., 6., 14 ],\n",
    "              [  6., 3., 11 ]])\n",
    "est = preprocessing.KBinsDiscretizer(n_bins=[3, 2, 3], encode='ordinal').fit(X)\n",
    "est"
   ],
   "execution_count": 29,
   "outputs": [
    {
     "output_type": "execute_result",
     "data": {
      "text/plain": [
       "KBinsDiscretizer(encode='ordinal', n_bins=[3, 2, 3], strategy='quantile')"
      ]
     },
     "metadata": {},
     "execution_count": 29
    }
   ]
  },
  {
   "cell_type": "code",
   "metadata": {
    "id": "ekpwBnFYNkH3"
   },
   "source": [
    "est.transform(X)   "
   ],
   "execution_count": null,
   "outputs": []
  },
  {
   "cell_type": "markdown",
   "metadata": {
    "id": "2YOfvowz1x6E"
   },
   "source": [
    "There are different strategies implemented in KBinsDiscretizer:\n",
    "\n",
    "- ‘uniform’: The discretization is uniform in each feature, which means that the bin widths are constant in each dimension.\n",
    "\n",
    "- quantile’: The discretization is done on the quantiled values, which means that each bin has approximately the same number of samples.\n",
    "\n",
    "- ‘kmeans’: The discretization is based on the centroids of a KMeans clustering procedure.\n",
    "\n",
    "https://scikit-learn.org/stable/auto_examples/preprocessing/plot_discretization_strategies.html?highlight=kbinsdiscretizer"
   ]
  },
  {
   "cell_type": "markdown",
   "metadata": {
    "id": "RQ1Oy1rgNkH6"
   },
   "source": [
    "Feature binarization is the process of thresholding numerical features to get boolean values. This can be useful for downstream probabilistic estimators that make assumption that the input data is distributed according to a multi-variate Bernoulli distribution."
   ]
  },
  {
   "cell_type": "code",
   "metadata": {
    "id": "Zd_zOlecNkH7",
    "colab": {
     "base_uri": "https://localhost:8080/"
    },
    "executionInfo": {
     "status": "ok",
     "timestamp": 1636361848184,
     "user_tz": -60,
     "elapsed": 498,
     "user": {
      "displayName": "Francesco GUERRA",
      "photoUrl": "https://lh3.googleusercontent.com/a-/AOh14Gj54LW1VQb8d_pLRjRGNzSfR2PyDbQA_Six3Lic=s64",
      "userId": "03589851697809460716"
     }
    },
    "outputId": "6c4fa06b-4470-48d6-9142-54577a7aaeba"
   },
   "source": [
    "X = [[ 1., -1.,  2.],\n",
    "     [ 2.,  0.,  0.],\n",
    "     [ 0.,  1., -1.]]\n",
    "\n",
    "binarizer = preprocessing.Binarizer().fit(X)  # fit does nothing\n",
    "binarizer"
   ],
   "execution_count": 30,
   "outputs": [
    {
     "output_type": "execute_result",
     "data": {
      "text/plain": [
       "Binarizer(copy=True, threshold=0.0)"
      ]
     },
     "metadata": {},
     "execution_count": 30
    }
   ]
  },
  {
   "cell_type": "code",
   "metadata": {
    "id": "PRbcOLTLNkH-",
    "colab": {
     "base_uri": "https://localhost:8080/"
    },
    "executionInfo": {
     "status": "ok",
     "timestamp": 1636361848591,
     "user_tz": -60,
     "elapsed": 2,
     "user": {
      "displayName": "Francesco GUERRA",
      "photoUrl": "https://lh3.googleusercontent.com/a-/AOh14Gj54LW1VQb8d_pLRjRGNzSfR2PyDbQA_Six3Lic=s64",
      "userId": "03589851697809460716"
     }
    },
    "outputId": "8c449a66-cddd-4c10-f765-88c93cd524c2"
   },
   "source": [
    "binarizer.transform(X)"
   ],
   "execution_count": 31,
   "outputs": [
    {
     "output_type": "execute_result",
     "data": {
      "text/plain": [
       "array([[1., 0., 1.],\n",
       "       [1., 0., 0.],\n",
       "       [0., 1., 0.]])"
      ]
     },
     "metadata": {},
     "execution_count": 31
    }
   ]
  },
  {
   "cell_type": "code",
   "metadata": {
    "id": "InpepFE2NkIB"
   },
   "source": [
    "binarizer = preprocessing.Binarizer(threshold=1.1)"
   ],
   "execution_count": null,
   "outputs": []
  },
  {
   "cell_type": "code",
   "metadata": {
    "id": "Fu8vbEzfNkID"
   },
   "source": [
    "binarizer.transform(X)"
   ],
   "execution_count": null,
   "outputs": []
  },
  {
   "cell_type": "markdown",
   "metadata": {
    "id": "ep7XWWUYNkIF"
   },
   "source": [
    "## Custom transformers"
   ]
  },
  {
   "cell_type": "markdown",
   "metadata": {
    "id": "7fdlq1gnNkIF"
   },
   "source": [
    "Often, you will want to convert an existing Python function into a transformer to assist in data cleaning or processing. "
   ]
  },
  {
   "cell_type": "code",
   "metadata": {
    "id": "pkTR2GPGNkIF",
    "colab": {
     "base_uri": "https://localhost:8080/"
    },
    "executionInfo": {
     "status": "ok",
     "timestamp": 1636362012316,
     "user_tz": -60,
     "elapsed": 370,
     "user": {
      "displayName": "Francesco GUERRA",
      "photoUrl": "https://lh3.googleusercontent.com/a-/AOh14Gj54LW1VQb8d_pLRjRGNzSfR2PyDbQA_Six3Lic=s64",
      "userId": "03589851697809460716"
     }
    },
    "outputId": "e64e34e7-8e67-4a76-da78-caad6d3d3886"
   },
   "source": [
    "import numpy as np\n",
    "from sklearn.preprocessing import FunctionTransformer\n",
    "\n",
    "transformer = FunctionTransformer(np.log1p, validate=True)\n",
    "X = np.array([[0, 1], [2, 3]])\n",
    "transformer.transform(X)"
   ],
   "execution_count": 32,
   "outputs": [
    {
     "output_type": "execute_result",
     "data": {
      "text/plain": [
       "array([[0.        , 0.69314718],\n",
       "       [1.09861229, 1.38629436]])"
      ]
     },
     "metadata": {},
     "execution_count": 32
    }
   ]
  },
  {
   "cell_type": "markdown",
   "metadata": {
    "id": "Hz-dmUSZSaG8"
   },
   "source": [
    "The *validate* parameter indicates that the input X array should be checked before calling func. The possibilities are:\n",
    "\n",
    "- If False, there is no input validation.\n",
    "\n",
    "- If True, then X will be converted to a 2-dimensional NumPy array or sparse matrix. If the conversion is not possible an exception is raised."
   ]
  },
  {
   "cell_type": "code",
   "metadata": {
    "id": "cGFhTXpx2enr",
    "colab": {
     "base_uri": "https://localhost:8080/"
    },
    "executionInfo": {
     "status": "ok",
     "timestamp": 1636362100121,
     "user_tz": -60,
     "elapsed": 369,
     "user": {
      "displayName": "Francesco GUERRA",
      "photoUrl": "https://lh3.googleusercontent.com/a-/AOh14Gj54LW1VQb8d_pLRjRGNzSfR2PyDbQA_Six3Lic=s64",
      "userId": "03589851697809460716"
     }
    },
    "outputId": "ef25ad20-f810-4ac7-dce3-d1ad3b3def7e"
   },
   "source": [
    "type(X)"
   ],
   "execution_count": 33,
   "outputs": [
    {
     "output_type": "execute_result",
     "data": {
      "text/plain": [
       "numpy.ndarray"
      ]
     },
     "metadata": {},
     "execution_count": 33
    }
   ]
  },
  {
   "cell_type": "code",
   "metadata": {
    "id": "UlokF9eX2gD1",
    "colab": {
     "base_uri": "https://localhost:8080/"
    },
    "executionInfo": {
     "status": "ok",
     "timestamp": 1636362198740,
     "user_tz": -60,
     "elapsed": 461,
     "user": {
      "displayName": "Francesco GUERRA",
      "photoUrl": "https://lh3.googleusercontent.com/a-/AOh14Gj54LW1VQb8d_pLRjRGNzSfR2PyDbQA_Six3Lic=s64",
      "userId": "03589851697809460716"
     }
    },
    "outputId": "29b7af01-53c4-4f25-f61d-319f51346107"
   },
   "source": [
    "type(transformer.transform(X)) "
   ],
   "execution_count": 34,
   "outputs": [
    {
     "output_type": "execute_result",
     "data": {
      "text/plain": [
       "numpy.ndarray"
      ]
     },
     "metadata": {},
     "execution_count": 34
    }
   ]
  },
  {
   "cell_type": "code",
   "metadata": {
    "id": "FQ9HW5OElk80",
    "executionInfo": {
     "status": "ok",
     "timestamp": 1636362201826,
     "user_tz": -60,
     "elapsed": 396,
     "user": {
      "displayName": "Francesco GUERRA",
      "photoUrl": "https://lh3.googleusercontent.com/a-/AOh14Gj54LW1VQb8d_pLRjRGNzSfR2PyDbQA_Six3Lic=s64",
      "userId": "03589851697809460716"
     }
    }
   },
   "source": [
    "df = pd.DataFrame(X)"
   ],
   "execution_count": 35,
   "outputs": []
  },
  {
   "cell_type": "code",
   "metadata": {
    "id": "di52gFG-E-Yr",
    "colab": {
     "base_uri": "https://localhost:8080/",
     "height": 111
    },
    "executionInfo": {
     "status": "ok",
     "timestamp": 1636362211094,
     "user_tz": -60,
     "elapsed": 449,
     "user": {
      "displayName": "Francesco GUERRA",
      "photoUrl": "https://lh3.googleusercontent.com/a-/AOh14Gj54LW1VQb8d_pLRjRGNzSfR2PyDbQA_Six3Lic=s64",
      "userId": "03589851697809460716"
     }
    },
    "outputId": "40131edc-ff3a-4aa8-bdd1-89472b91e3f5"
   },
   "source": [
    "df"
   ],
   "execution_count": 36,
   "outputs": [
    {
     "output_type": "execute_result",
     "data": {
      "text/html": [
       "<div>\n",
       "<style scoped>\n",
       "    .dataframe tbody tr th:only-of-type {\n",
       "        vertical-align: middle;\n",
       "    }\n",
       "\n",
       "    .dataframe tbody tr th {\n",
       "        vertical-align: top;\n",
       "    }\n",
       "\n",
       "    .dataframe thead th {\n",
       "        text-align: right;\n",
       "    }\n",
       "</style>\n",
       "<table border=\"1\" class=\"dataframe\">\n",
       "  <thead>\n",
       "    <tr style=\"text-align: right;\">\n",
       "      <th></th>\n",
       "      <th>0</th>\n",
       "      <th>1</th>\n",
       "    </tr>\n",
       "  </thead>\n",
       "  <tbody>\n",
       "    <tr>\n",
       "      <th>0</th>\n",
       "      <td>0</td>\n",
       "      <td>1</td>\n",
       "    </tr>\n",
       "    <tr>\n",
       "      <th>1</th>\n",
       "      <td>2</td>\n",
       "      <td>3</td>\n",
       "    </tr>\n",
       "  </tbody>\n",
       "</table>\n",
       "</div>"
      ],
      "text/plain": [
       "   0  1\n",
       "0  0  1\n",
       "1  2  3"
      ]
     },
     "metadata": {},
     "execution_count": 36
    }
   ]
  },
  {
   "cell_type": "code",
   "metadata": {
    "id": "ZNUjRc8USQdm",
    "colab": {
     "base_uri": "https://localhost:8080/"
    },
    "executionInfo": {
     "status": "ok",
     "timestamp": 1636362214813,
     "user_tz": -60,
     "elapsed": 3,
     "user": {
      "displayName": "Francesco GUERRA",
      "photoUrl": "https://lh3.googleusercontent.com/a-/AOh14Gj54LW1VQb8d_pLRjRGNzSfR2PyDbQA_Six3Lic=s64",
      "userId": "03589851697809460716"
     }
    },
    "outputId": "73348c46-313b-46f5-d3a8-63d93d2ca986"
   },
   "source": [
    "transformer.transform(df)"
   ],
   "execution_count": 37,
   "outputs": [
    {
     "output_type": "execute_result",
     "data": {
      "text/plain": [
       "array([[0.        , 0.69314718],\n",
       "       [1.09861229, 1.38629436]])"
      ]
     },
     "metadata": {},
     "execution_count": 37
    }
   ]
  },
  {
   "cell_type": "code",
   "metadata": {
    "id": "OZOFk14WSUmC",
    "executionInfo": {
     "status": "ok",
     "timestamp": 1636362245492,
     "user_tz": -60,
     "elapsed": 373,
     "user": {
      "displayName": "Francesco GUERRA",
      "photoUrl": "https://lh3.googleusercontent.com/a-/AOh14Gj54LW1VQb8d_pLRjRGNzSfR2PyDbQA_Six3Lic=s64",
      "userId": "03589851697809460716"
     }
    }
   },
   "source": [
    "transformer = FunctionTransformer(np.log1p, validate=False)"
   ],
   "execution_count": 38,
   "outputs": []
  },
  {
   "cell_type": "code",
   "metadata": {
    "id": "3AoY6Ic0SYm3",
    "colab": {
     "base_uri": "https://localhost:8080/",
     "height": 111
    },
    "executionInfo": {
     "status": "ok",
     "timestamp": 1636362250322,
     "user_tz": -60,
     "elapsed": 348,
     "user": {
      "displayName": "Francesco GUERRA",
      "photoUrl": "https://lh3.googleusercontent.com/a-/AOh14Gj54LW1VQb8d_pLRjRGNzSfR2PyDbQA_Six3Lic=s64",
      "userId": "03589851697809460716"
     }
    },
    "outputId": "b1604699-0f3b-4507-ba90-dc8da301e354"
   },
   "source": [
    "transformer.transform(df)"
   ],
   "execution_count": 39,
   "outputs": [
    {
     "output_type": "execute_result",
     "data": {
      "text/html": [
       "<div>\n",
       "<style scoped>\n",
       "    .dataframe tbody tr th:only-of-type {\n",
       "        vertical-align: middle;\n",
       "    }\n",
       "\n",
       "    .dataframe tbody tr th {\n",
       "        vertical-align: top;\n",
       "    }\n",
       "\n",
       "    .dataframe thead th {\n",
       "        text-align: right;\n",
       "    }\n",
       "</style>\n",
       "<table border=\"1\" class=\"dataframe\">\n",
       "  <thead>\n",
       "    <tr style=\"text-align: right;\">\n",
       "      <th></th>\n",
       "      <th>0</th>\n",
       "      <th>1</th>\n",
       "    </tr>\n",
       "  </thead>\n",
       "  <tbody>\n",
       "    <tr>\n",
       "      <th>0</th>\n",
       "      <td>0.000000</td>\n",
       "      <td>0.693147</td>\n",
       "    </tr>\n",
       "    <tr>\n",
       "      <th>1</th>\n",
       "      <td>1.098612</td>\n",
       "      <td>1.386294</td>\n",
       "    </tr>\n",
       "  </tbody>\n",
       "</table>\n",
       "</div>"
      ],
      "text/plain": [
       "          0         1\n",
       "0  0.000000  0.693147\n",
       "1  1.098612  1.386294"
      ]
     },
     "metadata": {},
     "execution_count": 39
    }
   ]
  },
  {
   "cell_type": "markdown",
   "metadata": {
    "id": "XWhGL-Vy2VGo"
   },
   "source": [
    "Pay Attention!\n",
    "The result of a transformer is typically a np.array!"
   ]
  },
  {
   "cell_type": "code",
   "metadata": {
    "id": "Q4h19P1Z20lu"
   },
   "source": [
    "preprocessing.StandardScaler().fit_transform(df)"
   ],
   "execution_count": null,
   "outputs": []
  },
  {
   "cell_type": "code",
   "metadata": {
    "id": "H9-qct0m30rZ"
   },
   "source": [
    "preprocessing.StandardScaler().fit_transform(X)"
   ],
   "execution_count": null,
   "outputs": []
  },
  {
   "cell_type": "code",
   "metadata": {
    "id": "CZ3Cr-9v4M_9"
   },
   "source": [],
   "execution_count": null,
   "outputs": []
  }
 ]
}
